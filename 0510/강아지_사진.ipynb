{
  "nbformat": 4,
  "nbformat_minor": 0,
  "metadata": {
    "colab": {
      "provenance": [],
      "authorship_tag": "ABX9TyNR8OsXO0pOXO680rgG0Q00",
      "include_colab_link": true
    },
    "kernelspec": {
      "name": "python3",
      "display_name": "Python 3"
    },
    "language_info": {
      "name": "python"
    }
  },
  "cells": [
    {
      "cell_type": "markdown",
      "metadata": {
        "id": "view-in-github",
        "colab_type": "text"
      },
      "source": [
        "<a href=\"https://colab.research.google.com/github/guscldns/TestProject/blob/main/0510/%EA%B0%95%EC%95%84%EC%A7%80_%EC%82%AC%EC%A7%84.ipynb\" target=\"_parent\"><img src=\"https://colab.research.google.com/assets/colab-badge.svg\" alt=\"Open In Colab\"/></a>"
      ]
    },
    {
      "cell_type": "code",
      "execution_count": 17,
      "metadata": {
        "colab": {
          "base_uri": "https://localhost:8080/"
        },
        "id": "AyG8zN-9Cxu_",
        "outputId": "43fa2257-9f14-46bd-fb89-63a413bdafd6"
      },
      "outputs": [
        {
          "output_type": "execute_result",
          "data": {
            "text/plain": [
              "['https://encrypted-tbn0.gstatic.com/images?q=tbn:ANd9GcQegk3SVvBGmKXkGScW_yOb2e35ROisQdzPU8Y77WCdiRIVSlWe068iYzwyjBc&s',\n",
              " 'https://encrypted-tbn0.gstatic.com/images?q=tbn:ANd9GcSgEXLxdgKdsA7wjsIwmbUTcqLxHb4Mej0SB0Wi7uyfVFgik4creRhtr_TOk0A&s',\n",
              " 'https://encrypted-tbn0.gstatic.com/images?q=tbn:ANd9GcSYmcOq_xQac1VyicIaDP98nCmwoVX_PapGkh8MPk2g4GdjIm4T14gDFk5UR5A&s',\n",
              " 'https://encrypted-tbn0.gstatic.com/images?q=tbn:ANd9GcTQaK5OpmpWHXbLveYk5U0FktcTTIZ07atGeDAq85761NaN0NtY-W5H_aajyQ&s',\n",
              " 'https://encrypted-tbn0.gstatic.com/images?q=tbn:ANd9GcRDkj0YXTZPDnI8yQ0aoaAgObwhCztq8orsLbEg6gHX42ZrN1YBGMSHJ6dF-A&s',\n",
              " 'https://encrypted-tbn0.gstatic.com/images?q=tbn:ANd9GcQ-UryGSdmTIV7F2S8kJIJTMpaHNLqDc0pmp1H4hKQlO4w_LJTUJY7zp6UggA&s',\n",
              " 'https://encrypted-tbn0.gstatic.com/images?q=tbn:ANd9GcRcOaj25kfHcoCJWfxL7lCVJvyLHBuKBXECGG0Lzub9usWWWo1zolPyvZYuIA&s',\n",
              " 'https://encrypted-tbn0.gstatic.com/images?q=tbn:ANd9GcT4MeXvO8gaFbHyXUt9lE2cll9_SLtFkQra8CGAcqo_PVsZ4rLU0_NU-IXAiYI&s',\n",
              " 'https://encrypted-tbn0.gstatic.com/images?q=tbn:ANd9GcQ4NaBSIzMG4tQlNicmOijumXxUgnej5Xyf6wsVNfr9Q2V3-8cy9HZdhuoQtg&s',\n",
              " 'https://encrypted-tbn0.gstatic.com/images?q=tbn:ANd9GcQhvBL_RwSHA4jalij1zCdCrmkXWH-_NsP366OMV6NqdV_E5aMJTYObfmDgIQ&s',\n",
              " 'https://encrypted-tbn0.gstatic.com/images?q=tbn:ANd9GcQSMo-svrMBYl2b94jt8c7IRcJdd8jzoWV31KofIvqDou41tLO02L_Tmk7xQg&s',\n",
              " 'https://encrypted-tbn0.gstatic.com/images?q=tbn:ANd9GcRtxTbxBJH9yuOJmx2WmKnqCUahs_xsTRKajH1kRV_RYK_C9zZcX7rr-BAfjw&s',\n",
              " 'https://encrypted-tbn0.gstatic.com/images?q=tbn:ANd9GcTVnNOtwDIXtEpOdywAXr9wmVH0F0SnbZS7jRWwKm4JYk0na5TJyb5nT3RRCbc&s',\n",
              " 'https://encrypted-tbn0.gstatic.com/images?q=tbn:ANd9GcQrhlPw-iZcYeEfMnElZwGDv9B9AlbbuCF1PWvJH31qll3Ob8CwCxdG5tU4-EI&s',\n",
              " 'https://encrypted-tbn0.gstatic.com/images?q=tbn:ANd9GcSoWZNbgqa8oEzMAcix8Zk4HRuW-F8HdFIo-iAg3sjlBPdLOtiIJKXfW_sjCAA&s',\n",
              " 'https://encrypted-tbn0.gstatic.com/images?q=tbn:ANd9GcThJgviR5IcIVKhSn7n4Sxol4_zYUzV96WhkKTLfKdjO1WtT-pVxddF_Xudlo8&s',\n",
              " 'https://encrypted-tbn0.gstatic.com/images?q=tbn:ANd9GcQd9SgFnwlE5FLZlOzFWL7u0O5GRDqPP5qQdh4YFDFpErJaGuyb55hhm-jsnA&s',\n",
              " 'https://encrypted-tbn0.gstatic.com/images?q=tbn:ANd9GcQl0MjPuED-Eb6ROIfIByczzG5Kn0fPKbDB3cU948n1QeFXQUH8fIV6RuZHipg&s',\n",
              " 'https://encrypted-tbn0.gstatic.com/images?q=tbn:ANd9GcSXZA8hzDjD9f2wvo6qNm9rJjee5yHBJhzCsbWqsHbZg_1kL-nXRj2CEA-FIag&s',\n",
              " 'https://encrypted-tbn0.gstatic.com/images?q=tbn:ANd9GcTyT8y-pJMEFWPUy-0njxO-ydPBAojGtVOYmDEFyTDanV4NMZxhs0m8lFGLarI&s']"
            ]
          },
          "metadata": {},
          "execution_count": 17
        }
      ],
      "source": [
        "import requests\n",
        "from bs4 import BeautifulSoup\n",
        "\n",
        "srcs = []\n",
        "dog = []\n",
        "\n",
        "url = 'https://www.google.co.kr/search?q=%EA%B0%95%EC%95%84%EC%A7%80&gbv=1&source=lnms&tbm=isch&sa=X&ved=0ahUKEwik7obZ_en-AhUHPnAKHfRaALMQ_AUIBigB'\n",
        "resp = requests.get(url)\n",
        "\n",
        "soup = BeautifulSoup(resp.content, 'lxml')\n",
        "\n",
        "imgs = soup.select('img.yWs4tf')\n",
        "for img in imgs:    \n",
        "    srcs.append(img['src'])\n",
        "srcs   "
      ]
    },
    {
      "cell_type": "code",
      "source": [
        "i=1\n",
        "for img_load in srcs:\n",
        "    img_resp = requests.get(img_load)\n",
        "    dog.append(img_resp.content)\n",
        "    with open(f'/content/{i}.jpg','wb') as f:\n",
        "        f.write(img_resp.content)\n",
        "    i+=1 \n"
      ],
      "metadata": {
        "id": "LmDMe9JsIZI4"
      },
      "execution_count": 23,
      "outputs": []
    }
  ]
}