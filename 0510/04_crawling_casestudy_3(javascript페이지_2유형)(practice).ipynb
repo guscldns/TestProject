{
  "nbformat": 4,
  "nbformat_minor": 0,
  "metadata": {
    "colab": {
      "provenance": [],
      "include_colab_link": true
    },
    "kernelspec": {
      "name": "python3",
      "display_name": "Python 3"
    }
  },
  "cells": [
    {
      "cell_type": "markdown",
      "metadata": {
        "id": "view-in-github",
        "colab_type": "text"
      },
      "source": [
        "<a href=\"https://colab.research.google.com/github/guscldns/TestProject/blob/main/0510/04_crawling_casestudy_3(javascript%ED%8E%98%EC%9D%B4%EC%A7%80_2%EC%9C%A0%ED%98%95)(practice).ipynb\" target=\"_parent\"><img src=\"https://colab.research.google.com/assets/colab-badge.svg\" alt=\"Open In Colab\"/></a>"
      ]
    },
    {
      "cell_type": "markdown",
      "metadata": {
        "id": "28U1Ah7sGwBv"
      },
      "source": [
        "# javascript페이지-2유형\n",
        "\n",
        "맛집 정보 공유 사이트인 블루리본서베이 사이트 크롤링을 해보도록 하자.  \n",
        "https://www.bluer.co.kr/"
      ]
    },
    {
      "cell_type": "markdown",
      "source": [
        "#### 1) 자바스크립트 페이지 url 찾아서 페이지 가져오기"
      ],
      "metadata": {
        "id": "W0OsHeiYjGkc"
      }
    },
    {
      "cell_type": "code",
      "source": [
        "import requests\n",
        "import json\n",
        "from tqdm.notebook import tqdm\n",
        "\n",
        "url = 'https://www.bluer.co.kr/api/v1/restaurants?page=0&size=30&query=&foodType=&foodTypeDetail=&feature=&location=&locationDetail=&area=&areaDetail=&priceRange=&ribbonType=&recommended=false&isSearchName=false&tabMode=single&searchMode=ribbonType&zone1=&zone2=&zone2Lat=&zone2Lng='\n",
        "resp = requests.get(url)\n",
        "resp.text"
      ],
      "metadata": {
        "id": "XE2Zo5GejjwI"
      },
      "execution_count": null,
      "outputs": []
    },
    {
      "cell_type": "markdown",
      "source": [
        "#### 2) json을 딕셔너리로 형변환하기"
      ],
      "metadata": {
        "id": "ip1kWtwXjlrd"
      }
    },
    {
      "cell_type": "code",
      "source": [
        "jsn = json.loads(resp.content)\n",
        "jsn"
      ],
      "metadata": {
        "id": "dkeFUwmijq9t"
      },
      "execution_count": null,
      "outputs": []
    },
    {
      "cell_type": "markdown",
      "source": [
        "#### 3) 필요한 정보 가져와서 데이터프레임으로 저장하기"
      ],
      "metadata": {
        "id": "6NoNtDBSSexg"
      }
    },
    {
      "cell_type": "code",
      "source": [],
      "metadata": {
        "id": "dlW3QsDyMsmC"
      },
      "execution_count": null,
      "outputs": []
    },
    {
      "cell_type": "code",
      "metadata": {
        "id": "5POoTl7LUxA8"
      },
      "source": [
        "names, ribbons, sites, tels, dayoffs, parks, prices, menus, times = [], [], [], [], [], [], [], [], []"
      ],
      "execution_count": 4,
      "outputs": []
    },
    {
      "cell_type": "code",
      "source": [
        "restaurants = jsn[\"_embedded\"][\"restaurants\"]\n",
        "\n",
        "for restaurant in restaurants:\n",
        "    names.append(restaurant[\"headerInfo\"][\"nameKR\"])\n",
        "    ribbons.append(restaurant[\"headerInfo\"][\"ribbonType\"])\n",
        "    sites.append(restaurant['defaultInfo'][\"website\" ])\n",
        "    tels.append(restaurant[\"defaultInfo\"][\"phone\"])\n",
        "    dayoffs.append(restaurant[\"defaultInfo\"][\"dayOff\"])\n",
        "    parks.append(restaurant[\"statusInfo\"][\"parking\"])\n",
        "    prices.append(restaurant[\"statusInfo\"][\"priceRange\"])\n",
        "    menus.append(restaurant[\"statusInfo\"][\"menu\"])\n",
        "    times.append(restaurant[\"statusInfo\"][\"businessHours\"])\n"
      ],
      "metadata": {
        "id": "031ZMLY0fb9M"
      },
      "execution_count": 5,
      "outputs": []
    },
    {
      "cell_type": "code",
      "source": [
        "len(tels), len(dayoffs), len(parks), len(prices), len(menus), len(times)"
      ],
      "metadata": {
        "id": "qE_4_vyQf0qh",
        "outputId": "abdef290-c15c-4d47-b45e-fe5408a1194e",
        "colab": {
          "base_uri": "https://localhost:8080/"
        }
      },
      "execution_count": 9,
      "outputs": [
        {
          "output_type": "execute_result",
          "data": {
            "text/plain": [
              "(30, 30, 30, 30, 30, 30)"
            ]
          },
          "metadata": {},
          "execution_count": 9
        }
      ]
    },
    {
      "cell_type": "markdown",
      "source": [
        "### 그럼 위의 코드를 바탕으로 모든 레스토랑의 아래 항목을 모두 파싱하여 csv로 저장해보세요.\n",
        "- names, ribbons, sites, tels, dayoffs, parks, prices, menus, times"
      ],
      "metadata": {
        "id": "GpjIlbEG_elo"
      }
    },
    {
      "cell_type": "code",
      "source": [],
      "metadata": {
        "id": "0sMo7F1K_xte"
      },
      "execution_count": null,
      "outputs": []
    }
  ]
}