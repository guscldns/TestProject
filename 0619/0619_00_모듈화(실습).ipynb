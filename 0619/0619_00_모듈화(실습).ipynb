{
  "nbformat": 4,
  "nbformat_minor": 0,
  "metadata": {
    "colab": {
      "provenance": [],
      "toc_visible": true,
      "include_colab_link": true
    },
    "kernelspec": {
      "name": "python3",
      "display_name": "Python 3"
    },
    "language_info": {
      "name": "python"
    }
  },
  "cells": [
    {
      "cell_type": "markdown",
      "metadata": {
        "id": "view-in-github",
        "colab_type": "text"
      },
      "source": [
        "<a href=\"https://colab.research.google.com/github/guscldns/TestProject/blob/main/0619/0619_00_%EB%AA%A8%EB%93%88%ED%99%94(%EC%8B%A4%EC%8A%B5).ipynb\" target=\"_parent\"><img src=\"https://colab.research.google.com/assets/colab-badge.svg\" alt=\"Open In Colab\"/></a>"
      ]
    },
    {
      "cell_type": "code",
      "source": [
        "!pip install konlpy"
      ],
      "metadata": {
        "id": "ysTx-QS7w0mA",
        "colab": {
          "base_uri": "https://localhost:8080/"
        },
        "outputId": "9191cf14-c215-4188-e69f-5af867811512"
      },
      "execution_count": null,
      "outputs": [
        {
          "output_type": "stream",
          "name": "stdout",
          "text": [
            "Looking in indexes: https://pypi.org/simple, https://us-python.pkg.dev/colab-wheels/public/simple/\n",
            "Collecting konlpy\n",
            "  Downloading konlpy-0.6.0-py2.py3-none-any.whl (19.4 MB)\n",
            "\u001b[2K     \u001b[90m━━━━━━━━━━━━━━━━━━━━━━━━━━━━━━━━━━━━━━━━\u001b[0m \u001b[32m19.4/19.4 MB\u001b[0m \u001b[31m32.1 MB/s\u001b[0m eta \u001b[36m0:00:00\u001b[0m\n",
            "\u001b[?25hCollecting JPype1>=0.7.0 (from konlpy)\n",
            "  Downloading JPype1-1.4.1-cp310-cp310-manylinux_2_12_x86_64.manylinux2010_x86_64.whl (465 kB)\n",
            "\u001b[2K     \u001b[90m━━━━━━━━━━━━━━━━━━━━━━━━━━━━━━━━━━━━━━\u001b[0m \u001b[32m465.3/465.3 kB\u001b[0m \u001b[31m31.7 MB/s\u001b[0m eta \u001b[36m0:00:00\u001b[0m\n",
            "\u001b[?25hRequirement already satisfied: lxml>=4.1.0 in /usr/local/lib/python3.10/dist-packages (from konlpy) (4.9.2)\n",
            "Requirement already satisfied: numpy>=1.6 in /usr/local/lib/python3.10/dist-packages (from konlpy) (1.22.4)\n",
            "Requirement already satisfied: packaging in /usr/local/lib/python3.10/dist-packages (from JPype1>=0.7.0->konlpy) (23.1)\n",
            "Installing collected packages: JPype1, konlpy\n",
            "Successfully installed JPype1-1.4.1 konlpy-0.6.0\n"
          ]
        }
      ]
    },
    {
      "cell_type": "code",
      "execution_count": 49,
      "metadata": {
        "id": "RfQPdDH9wutS"
      },
      "outputs": [],
      "source": [
        "# 기본 라이브러리\n",
        "import pandas as pd\n",
        "import numpy as np\n",
        "import tensorflow as tf\n",
        "import matplotlib.pyplot as plt\n",
        "from konlpy.tag import Okt\n",
        "from tensorflow.keras.preprocessing.text import Tokenizer\n",
        "from tensorflow.keras.preprocessing.sequence import pad_sequences\n",
        "from tensorflow.keras.utils import to_categorical\n",
        "from tensorflow.keras.models import Sequential\n",
        "from tensorflow.keras.layers import Embedding, GRU, Dense, Bidirectional, Dropout"
      ]
    },
    {
      "cell_type": "markdown",
      "source": [
        "## 클래스\n",
        "- 참고자료 : https://wikidocs.net/28"
      ],
      "metadata": {
        "id": "Kilz4bTgNZMi"
      }
    },
    {
      "cell_type": "markdown",
      "source": [
        "### 클래스가 필요한 이유"
      ],
      "metadata": {
        "id": "wTGqbuE7P8Tp"
      }
    },
    {
      "cell_type": "markdown",
      "source": [
        "계산기에 숫자3을 입력하고 + 4를 입력하면 7을 보여준다. 다시 한번 +를 입력한 후 3을 입력하면 10이 나오도록 함수를 짜시오.\n",
        "(즉, 계산기는 이전에 계산한 결과값을 항상 메모리 어딘가에 저장하고 있어야 한다. )"
      ],
      "metadata": {
        "id": "779j7PKKNnp9"
      }
    },
    {
      "cell_type": "code",
      "source": [
        "result = 0\n",
        "\n",
        "def add(num):\n",
        "\t'''함수를 완성하시오'''\n",
        "\tglobal result # global 변수로 지정해야 함수 밖에 있는 변수에 반영된다\n",
        "\tresult += num\n",
        "\treturn result\n",
        "\n",
        "print('before : ', result)\n",
        "\n",
        "add(3) # return 3\n",
        "print('after 3: ', result)\n",
        "\n",
        "add(4) # return 7\n",
        "print('after 4: ', result)"
      ],
      "metadata": {
        "id": "rWg85WuvNZIr",
        "colab": {
          "base_uri": "https://localhost:8080/"
        },
        "outputId": "f2a7748c-6e2d-43f0-a38a-6f4cdc920b9c"
      },
      "execution_count": null,
      "outputs": [
        {
          "output_type": "stream",
          "name": "stdout",
          "text": [
            "before :  0\n",
            "after 3:  3\n",
            "after 4:  7\n"
          ]
        }
      ]
    },
    {
      "cell_type": "markdown",
      "source": [
        "이번에는 한 프로그램에서 2대의 계산기가 필요하다면? 코드를 작성해보세요!"
      ],
      "metadata": {
        "id": "t7sX-TsoNZEf"
      }
    },
    {
      "cell_type": "code",
      "source": [
        "result1 = 0\n",
        "\n",
        "def add1(num):\n",
        "\t'''함수를 완성하시오'''\n",
        "\tglobal result1 # global 변수로 지정해야 함수 밖에 있는 변수에 반영된다\n",
        "\tresult1 += num\n",
        "\treturn result1\n",
        "\n",
        "# 2대의 계산기가 필요하면 함수를 1개 더 설정하고 변수도 따로 설정해야 한다\n",
        "result2 = 0\n",
        "def add2(num):\n",
        "\t'''함수를 완성하시오'''\n",
        "\tglobal result2\n",
        "\tresult2 += num\n",
        "\treturn result2\n",
        "\n",
        "\n",
        "# 1번 계산기 결과\n",
        "print(add1(3))\n",
        "print(add1(4))\n",
        "\n",
        "# 2번 계산기 결과\n",
        "print(add2(3))\n",
        "print(add2(7))"
      ],
      "metadata": {
        "id": "o8OcuTtKNY7y",
        "colab": {
          "base_uri": "https://localhost:8080/"
        },
        "outputId": "cb389d19-fb62-44f1-b502-cb225c9db042"
      },
      "execution_count": null,
      "outputs": [
        {
          "output_type": "stream",
          "name": "stdout",
          "text": [
            "3\n",
            "7\n",
            "3\n",
            "10\n"
          ]
        }
      ]
    },
    {
      "cell_type": "markdown",
      "source": [
        "위 코드를 클래스로 변경해보세요!"
      ],
      "metadata": {
        "id": "_G0EitH2PImd"
      }
    },
    {
      "cell_type": "code",
      "source": [
        "class Calculator:\n",
        "    # def __init__(self) : 인스턴스 생성할 때 자동실행되는 함수\n",
        "    def __init__(self):\n",
        "        self.result = 0\n",
        "\n",
        "    def add(self, num):\n",
        "        '''함수를 완성하시오'''\n",
        "        self.result += num\n",
        "        return self.result\n",
        "\n",
        "cal1 = Calculator()\n",
        "cal2 = Calculator()"
      ],
      "metadata": {
        "id": "lgx5clu6NY30"
      },
      "execution_count": null,
      "outputs": []
    },
    {
      "cell_type": "code",
      "source": [
        "print(cal1.add(3))\n",
        "print(cal1.add(4))\n",
        "print('-'*10)\n",
        "print(cal2.add(3))\n",
        "print(cal2.add(7))"
      ],
      "metadata": {
        "id": "Wwa-wORpNY0F",
        "colab": {
          "base_uri": "https://localhost:8080/"
        },
        "outputId": "2e295549-72f6-465a-e529-357631247d41"
      },
      "execution_count": null,
      "outputs": [
        {
          "output_type": "stream",
          "name": "stdout",
          "text": [
            "3\n",
            "7\n",
            "----------\n",
            "3\n",
            "10\n"
          ]
        }
      ]
    },
    {
      "cell_type": "markdown",
      "source": [
        "### 클래스 만드는 법"
      ],
      "metadata": {
        "id": "Yna1_3ilP-83"
      }
    },
    {
      "cell_type": "markdown",
      "source": [
        "아래와 같은 세 가지 기능을 가진 클래스를 만드세요"
      ],
      "metadata": {
        "id": "I_PF4h1RP_-g"
      }
    },
    {
      "cell_type": "markdown",
      "source": [
        "- setdata 메서드: 사칙 연산을 하려면 두 숫자를 입력받는 **메서드**(클래스 안에 구현된 함수)\n",
        "- add 메서드 : 더하기\n",
        "- div 메서드 : 나누기"
      ],
      "metadata": {
        "id": "JqP8ypurQGkw"
      }
    },
    {
      "cell_type": "markdown",
      "source": [
        "![image.png](data:image/png;base64,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)"
      ],
      "metadata": {
        "id": "vz0MrcL7QjVK"
      }
    },
    {
      "cell_type": "code",
      "source": [
        "class FourCal:\n",
        "\n",
        "    def setdata(self, first, second):\n",
        "        self.first = first\n",
        "        self.second = second\n",
        "\n",
        "    def add(self):\n",
        "        return self.first + self.second\n",
        "\n",
        "    def sub(self):\n",
        "        return self.first - self.second\n",
        "\n",
        "    def mul(self):\n",
        "        return self.first * self.second\n",
        "\n",
        "    def div(self):\n",
        "        return self.first / self.second"
      ],
      "metadata": {
        "id": "sTgnXWUHNYtO"
      },
      "execution_count": null,
      "outputs": []
    },
    {
      "cell_type": "code",
      "source": [
        "a = FourCal() # a가 self가 된다(self 자리에 자동으로 들어간다)\n",
        "type(a)"
      ],
      "metadata": {
        "id": "CXRy7gHsNYpv",
        "colab": {
          "base_uri": "https://localhost:8080/"
        },
        "outputId": "2da8986e-0517-4105-a130-32c07093703b"
      },
      "execution_count": null,
      "outputs": [
        {
          "output_type": "execute_result",
          "data": {
            "text/plain": [
              "__main__.FourCal"
            ]
          },
          "metadata": {},
          "execution_count": 36
        }
      ]
    },
    {
      "cell_type": "code",
      "source": [
        "a.setdata(4, 2)\n",
        "\n",
        "# setdata(a, 4, 2):\n",
        "# a.first = 4\n",
        "# a.second = 2\n",
        "\n",
        "print(a.first)\n",
        "print(a.second)\n",
        "print(a.add())\n",
        "a.div()"
      ],
      "metadata": {
        "colab": {
          "base_uri": "https://localhost:8080/"
        },
        "id": "tRmvIJQGEhJw",
        "outputId": "00b7f961-091f-4185-937c-cd4107544ebc"
      },
      "execution_count": null,
      "outputs": [
        {
          "output_type": "stream",
          "name": "stdout",
          "text": [
            "4\n",
            "2\n",
            "6\n"
          ]
        },
        {
          "output_type": "execute_result",
          "data": {
            "text/plain": [
              "2.0"
            ]
          },
          "metadata": {},
          "execution_count": 38
        }
      ]
    },
    {
      "cell_type": "markdown",
      "source": [
        "### 생성자(Constructor)"
      ],
      "metadata": {
        "id": "46s9gUnZRNT0"
      }
    },
    {
      "cell_type": "code",
      "source": [
        "a = FourCal()\n",
        "a.add() # setdata를 하고 오지 않아서 first, second 객체 지정이 되어 있지 않아 오류가 난다"
      ],
      "metadata": {
        "id": "3gSY7U9MNYl6"
      },
      "execution_count": null,
      "outputs": []
    },
    {
      "cell_type": "markdown",
      "source": [
        "위 코드에서 에러가 발생하는 이유는?"
      ],
      "metadata": {
        "id": "XGQXTKPaRTvl"
      }
    },
    {
      "cell_type": "markdown",
      "source": [
        "setdata 메서드를 수행해야 객체 a의 객체변수 first와 second가 생성되기 때문이다. 이렇게 객체에 first, second와 같은 초깃값을 설정해야 할 필요가 있을 때는 setdata와 같은 메서드를 호출하여 초깃값을 설정하기보다 생성자를 구현하는 것이 안전한 방법이다."
      ],
      "metadata": {
        "id": "wH7r4WHBRY0F"
      }
    },
    {
      "cell_type": "code",
      "source": [
        "# 위에서 작성한 클래스에 생성자를 추가해보자"
      ],
      "metadata": {
        "id": "E26U9sEJ1Amx"
      },
      "execution_count": null,
      "outputs": []
    },
    {
      "cell_type": "code",
      "source": [
        "class FourCal:\n",
        "    def __init__(self, first, second): # 미리 초기값을 설정해야 한다 >> 생성자\n",
        "        self.first = first\n",
        "        self.second = second\n",
        "\n",
        "    def setdata(self, first, second):\n",
        "        self.first = first\n",
        "        self.second = second\n",
        "\n",
        "    def add(self):\n",
        "        return self.first + self.second\n",
        "\n",
        "    def sub(self):\n",
        "        return self.first - self.second\n",
        "\n",
        "    def mul(self):\n",
        "        return self.first * self.second\n",
        "\n",
        "    def div(self):\n",
        "        return self.first / self.second"
      ],
      "metadata": {
        "id": "PLUfkMm1Nabm"
      },
      "execution_count": 51,
      "outputs": []
    },
    {
      "cell_type": "markdown",
      "source": [
        "`__init__` 메서드는 setdata 메서드와 이름만 다르고 모든 게 동일하다. 단, 메서드 이름을 `__init__`로 했기 때문에 생성자로 인식되어 객체가 생성되는 시점에 자동으로 호출된다는 차이가 있다."
      ],
      "metadata": {
        "id": "8f1T-dDY1Ahk"
      }
    },
    {
      "cell_type": "code",
      "source": [],
      "metadata": {
        "id": "PZ6Vd6MnRjih"
      },
      "execution_count": null,
      "outputs": []
    },
    {
      "cell_type": "code",
      "source": [],
      "metadata": {
        "id": "CMQr4WAARrUK"
      },
      "execution_count": null,
      "outputs": []
    },
    {
      "cell_type": "code",
      "source": [],
      "metadata": {
        "id": "dojW9u3URrYB"
      },
      "execution_count": null,
      "outputs": []
    },
    {
      "cell_type": "markdown",
      "source": [
        "### 상속(Inheritance)"
      ],
      "metadata": {
        "id": "HdbZyQFMRrbs"
      }
    },
    {
      "cell_type": "markdown",
      "source": [
        "상속(Inheritance)이란 ‘물려받다’라는 뜻으로, ‘재산을 상속받다’라고 할 때의 상속과 같은 의미이다. 클래스에도 이 개념을 적용할 수 있다. 어떤 클래스를 만들 때 다른 클래스의 기능을 물려받을 수 있게 만드는 것이다. 이번에는 상속 개념을 사용하여 우리가 만든 FourCal 클래스에\n",
        "$a^{b}$값을 구할 수 있는 기능을 추가해 보자.\n",
        "\n"
      ],
      "metadata": {
        "id": "B4f1TetxRre_"
      }
    },
    {
      "cell_type": "code",
      "source": [
        "class MoreFourCal(FourCal):\n",
        "    \"\"\"FourCal을 상속받고 pow 메서드를 추가하세요\"\"\"\n",
        "    def pow(self):\n",
        "        return self.first ** self.second"
      ],
      "metadata": {
        "id": "5ascYsQsRriN"
      },
      "execution_count": 52,
      "outputs": []
    },
    {
      "cell_type": "markdown",
      "source": [
        "MoreFourCal 클래스는 FourCal 클래스를 상속했으므로 FourCal 클래스의 모든 기능을 사용할 수 있다. 상속은 MoreFourCal 클래스처럼 기존 클래스(FourCal)는 그대로 놔둔 채 클래스의 기능을 확장할 때 주로 사용한다.\n",
        "\n",
        "\n"
      ],
      "metadata": {
        "id": "3Cro5XliRrl2"
      }
    },
    {
      "cell_type": "code",
      "source": [
        "d = MoreFourCal(4, 2)\n",
        "d.pow()"
      ],
      "metadata": {
        "id": "LVCwADocSXEm",
        "colab": {
          "base_uri": "https://localhost:8080/"
        },
        "outputId": "dc1996d3-d655-401c-ed8f-18feb2e3917a"
      },
      "execution_count": null,
      "outputs": [
        {
          "output_type": "execute_result",
          "data": {
            "text/plain": [
              "16"
            ]
          },
          "metadata": {},
          "execution_count": 48
        }
      ]
    },
    {
      "cell_type": "markdown",
      "source": [
        "### 메서드 오버라이딩(method overriding)"
      ],
      "metadata": {
        "id": "7kochpEmSXBS"
      }
    },
    {
      "cell_type": "markdown",
      "source": [
        "아래 에러를 해결할 수 있도록 MoreFourCal 클래스의 div 메서드를 오버라이딩 하여 SaveFourCal 클래스를 작성하세요\n",
        "- 매서드 오버라이딩은 상속일 때만 가능합니다"
      ],
      "metadata": {
        "id": "zi4B6kuESfMp"
      }
    },
    {
      "cell_type": "code",
      "source": [
        "a = FourCal(4, 0)\n",
        "a.div() # 무한히 0으로 나눠져서 에러남"
      ],
      "metadata": {
        "id": "eKMjc175SW9d",
        "colab": {
          "base_uri": "https://localhost:8080/",
          "height": 286
        },
        "outputId": "cd3587c4-2746-4473-c119-50578a3115ee"
      },
      "execution_count": 53,
      "outputs": [
        {
          "output_type": "error",
          "ename": "ZeroDivisionError",
          "evalue": "ignored",
          "traceback": [
            "\u001b[0;31m---------------------------------------------------------------------------\u001b[0m",
            "\u001b[0;31mZeroDivisionError\u001b[0m                         Traceback (most recent call last)",
            "\u001b[0;32m<ipython-input-53-5e9b2f546e11>\u001b[0m in \u001b[0;36m<cell line: 2>\u001b[0;34m()\u001b[0m\n\u001b[1;32m      1\u001b[0m \u001b[0ma\u001b[0m \u001b[0;34m=\u001b[0m \u001b[0mFourCal\u001b[0m\u001b[0;34m(\u001b[0m\u001b[0;36m4\u001b[0m\u001b[0;34m,\u001b[0m \u001b[0;36m0\u001b[0m\u001b[0;34m)\u001b[0m\u001b[0;34m\u001b[0m\u001b[0;34m\u001b[0m\u001b[0m\n\u001b[0;32m----> 2\u001b[0;31m \u001b[0ma\u001b[0m\u001b[0;34m.\u001b[0m\u001b[0mdiv\u001b[0m\u001b[0;34m(\u001b[0m\u001b[0;34m)\u001b[0m\u001b[0;34m\u001b[0m\u001b[0;34m\u001b[0m\u001b[0m\n\u001b[0m",
            "\u001b[0;32m<ipython-input-51-8f87a8db5707>\u001b[0m in \u001b[0;36mdiv\u001b[0;34m(self)\u001b[0m\n\u001b[1;32m     18\u001b[0m \u001b[0;34m\u001b[0m\u001b[0m\n\u001b[1;32m     19\u001b[0m     \u001b[0;32mdef\u001b[0m \u001b[0mdiv\u001b[0m\u001b[0;34m(\u001b[0m\u001b[0mself\u001b[0m\u001b[0;34m)\u001b[0m\u001b[0;34m:\u001b[0m\u001b[0;34m\u001b[0m\u001b[0;34m\u001b[0m\u001b[0m\n\u001b[0;32m---> 20\u001b[0;31m         \u001b[0;32mreturn\u001b[0m \u001b[0mself\u001b[0m\u001b[0;34m.\u001b[0m\u001b[0mfirst\u001b[0m \u001b[0;34m/\u001b[0m \u001b[0mself\u001b[0m\u001b[0;34m.\u001b[0m\u001b[0msecond\u001b[0m\u001b[0;34m\u001b[0m\u001b[0;34m\u001b[0m\u001b[0m\n\u001b[0m",
            "\u001b[0;31mZeroDivisionError\u001b[0m: division by zero"
          ]
        }
      ]
    },
    {
      "cell_type": "code",
      "source": [
        "class SafeFourCal(FourCal):\n",
        "    def div(self):\n",
        "        if self.second == 0 :\n",
        "            return 0\n",
        "        else:\n",
        "            return self.first / self.second"
      ],
      "metadata": {
        "id": "euLce_uCSW5a"
      },
      "execution_count": 59,
      "outputs": []
    },
    {
      "cell_type": "code",
      "source": [
        "b =  SafeFourCal(4, 0)\n",
        "b.div() # 부모 함수를 덮어쓰기 한 것 = 매서드 오버라이딩"
      ],
      "metadata": {
        "id": "UcGKVvxNRrpD",
        "colab": {
          "base_uri": "https://localhost:8080/"
        },
        "outputId": "209ef500-6f2c-4bb0-85e1-7029d01ca27c"
      },
      "execution_count": 61,
      "outputs": [
        {
          "output_type": "execute_result",
          "data": {
            "text/plain": [
              "0"
            ]
          },
          "metadata": {},
          "execution_count": 61
        }
      ]
    },
    {
      "cell_type": "code",
      "source": [
        "b.add() # 상속받은 부모 클래스는 변경되지 않았다"
      ],
      "metadata": {
        "id": "69DUG5YPRrsZ",
        "colab": {
          "base_uri": "https://localhost:8080/"
        },
        "outputId": "020d28c0-c7da-40c6-c664-ffb964bbad6a"
      },
      "execution_count": 62,
      "outputs": [
        {
          "output_type": "execute_result",
          "data": {
            "text/plain": [
              "4"
            ]
          },
          "metadata": {},
          "execution_count": 62
        }
      ]
    },
    {
      "cell_type": "code",
      "source": [
        "a = FourCal(4, 0) # 부모클래스는 변경되지 않음\n",
        "a.div()"
      ],
      "metadata": {
        "colab": {
          "base_uri": "https://localhost:8080/",
          "height": 286
        },
        "id": "0hrFxe2VMa1h",
        "outputId": "f2389173-5576-4287-d63b-4a63204badc4"
      },
      "execution_count": 63,
      "outputs": [
        {
          "output_type": "error",
          "ename": "ZeroDivisionError",
          "evalue": "ignored",
          "traceback": [
            "\u001b[0;31m---------------------------------------------------------------------------\u001b[0m",
            "\u001b[0;31mZeroDivisionError\u001b[0m                         Traceback (most recent call last)",
            "\u001b[0;32m<ipython-input-63-5e9b2f546e11>\u001b[0m in \u001b[0;36m<cell line: 2>\u001b[0;34m()\u001b[0m\n\u001b[1;32m      1\u001b[0m \u001b[0ma\u001b[0m \u001b[0;34m=\u001b[0m \u001b[0mFourCal\u001b[0m\u001b[0;34m(\u001b[0m\u001b[0;36m4\u001b[0m\u001b[0;34m,\u001b[0m \u001b[0;36m0\u001b[0m\u001b[0;34m)\u001b[0m\u001b[0;34m\u001b[0m\u001b[0;34m\u001b[0m\u001b[0m\n\u001b[0;32m----> 2\u001b[0;31m \u001b[0ma\u001b[0m\u001b[0;34m.\u001b[0m\u001b[0mdiv\u001b[0m\u001b[0;34m(\u001b[0m\u001b[0;34m)\u001b[0m\u001b[0;34m\u001b[0m\u001b[0;34m\u001b[0m\u001b[0m\n\u001b[0m",
            "\u001b[0;32m<ipython-input-51-8f87a8db5707>\u001b[0m in \u001b[0;36mdiv\u001b[0;34m(self)\u001b[0m\n\u001b[1;32m     18\u001b[0m \u001b[0;34m\u001b[0m\u001b[0m\n\u001b[1;32m     19\u001b[0m     \u001b[0;32mdef\u001b[0m \u001b[0mdiv\u001b[0m\u001b[0;34m(\u001b[0m\u001b[0mself\u001b[0m\u001b[0;34m)\u001b[0m\u001b[0;34m:\u001b[0m\u001b[0;34m\u001b[0m\u001b[0;34m\u001b[0m\u001b[0m\n\u001b[0;32m---> 20\u001b[0;31m         \u001b[0;32mreturn\u001b[0m \u001b[0mself\u001b[0m\u001b[0;34m.\u001b[0m\u001b[0mfirst\u001b[0m \u001b[0;34m/\u001b[0m \u001b[0mself\u001b[0m\u001b[0;34m.\u001b[0m\u001b[0msecond\u001b[0m\u001b[0;34m\u001b[0m\u001b[0;34m\u001b[0m\u001b[0m\n\u001b[0m",
            "\u001b[0;31mZeroDivisionError\u001b[0m: division by zero"
          ]
        }
      ]
    },
    {
      "cell_type": "markdown",
      "source": [
        "# Tensorflow Modeling - Sub Class"
      ],
      "metadata": {
        "id": "n7XR45QeSzKq"
      }
    },
    {
      "cell_type": "markdown",
      "source": [
        "## Mnist"
      ],
      "metadata": {
        "id": "VD_TKR9jxATi"
      }
    },
    {
      "cell_type": "code",
      "source": [
        "(x_train, y_train), (x_test, y_test) = tf.keras.datasets.mnist.load_data()\n",
        "\n",
        "x_train.shape, x_test.shape"
      ],
      "metadata": {
        "colab": {
          "base_uri": "https://localhost:8080/"
        },
        "id": "yFu9VCRvw-rX",
        "outputId": "3653a728-5df7-4efd-815c-7cd916c5ec0a"
      },
      "execution_count": null,
      "outputs": [
        {
          "output_type": "stream",
          "name": "stdout",
          "text": [
            "Downloading data from https://storage.googleapis.com/tensorflow/tf-keras-datasets/mnist.npz\n",
            "11490434/11490434 [==============================] - 0s 0us/step\n"
          ]
        },
        {
          "output_type": "execute_result",
          "data": {
            "text/plain": [
              "((60000, 28, 28), (10000, 28, 28))"
            ]
          },
          "metadata": {},
          "execution_count": 23
        }
      ]
    },
    {
      "cell_type": "code",
      "source": [
        "y_train"
      ],
      "metadata": {
        "colab": {
          "base_uri": "https://localhost:8080/"
        },
        "id": "kTCaa9yD9DJO",
        "outputId": "5cb142dc-7769-482c-a34a-b4af17f42b2d"
      },
      "execution_count": null,
      "outputs": [
        {
          "output_type": "execute_result",
          "data": {
            "text/plain": [
              "array([5, 0, 4, ..., 5, 6, 8], dtype=uint8)"
            ]
          },
          "metadata": {},
          "execution_count": 24
        }
      ]
    },
    {
      "cell_type": "code",
      "source": [
        "plt.imshow(x_train[0])"
      ],
      "metadata": {
        "colab": {
          "base_uri": "https://localhost:8080/",
          "height": 447
        },
        "id": "-ZFBbPLVw-mT",
        "outputId": "8bab9412-a808-4432-a280-ccd764d93447"
      },
      "execution_count": null,
      "outputs": [
        {
          "output_type": "execute_result",
          "data": {
            "text/plain": [
              "<matplotlib.image.AxesImage at 0x7f1377e5ad10>"
            ]
          },
          "metadata": {},
          "execution_count": 25
        },
        {
          "output_type": "display_data",
          "data": {
            "text/plain": [
              "<Figure size 640x480 with 1 Axes>"
            ],
            "image/png": "[encoded data removed]"
          },
          "metadata": {}
        }
      ]
    },
    {
      "cell_type": "markdown",
      "source": [
        "## 3. Sub Class"
      ],
      "metadata": {
        "id": "AnQ7QiqyHQis"
      }
    },
    {
      "cell_type": "markdown",
      "source": [
        "Model SubClassing으로 모델 인스턴스를 생성하기 위해서는 `tf.keras.Model`를 상속바다 생성하고자 하는 모델 클래스를 구현한다.\n",
        "- 모델 `__init__`함수에 레이어를 정의하고 레이어의 하이퍼 파라미터를 정의한다.\n",
        "- `call()` 함수를 메서드 오버라이딩으로 구현한다.\n",
        "    - call()` 함수: Calls the model on new inputs and returns the outputs as tensors.(인풋값을 받아서 아웃풋값을 출력해준다)\n",
        "    - call 함수 내부에서는 모델의 입력부터 출력까지의 흐름, 즉, 순전파(forward propagation)를 정의하고\n",
        "    - 함수형 API와 같은 방식으로 모든 레이어를 체인처럼 연결한다. 마지막으로 최중 출력값을 return한다."
      ],
      "metadata": {
        "id": "3UV0JhmwUOrn"
      }
    },
    {
      "cell_type": "markdown",
      "source": [
        " - `__init__(self)`는 객체가 생성될 때 호출되는 함수\n",
        " - call(self)는 객체 변수를 실행할 때 호출되는 함수"
      ],
      "metadata": {
        "id": "1qzi8bTLHpha"
      }
    },
    {
      "cell_type": "markdown",
      "source": [
        "장점 : Functional API로도 구현할 수 없는 모델들조차 구현이 가능합니다.\n",
        "단점 : 객체 지향 프로그래밍(Object-oriented programming)에 익숙해야 하므로 코드 사용이 가장 까다롭습니다."
      ],
      "metadata": {
        "id": "E9dLmPW8JGIg"
      }
    },
    {
      "cell_type": "markdown",
      "source": [
        "https://www.tensorflow.org/api_docs/python/tf/keras/Model"
      ],
      "metadata": {
        "id": "cL9pmRR8Y9bY"
      }
    },
    {
      "cell_type": "code",
      "source": [
        "from tensorflow.keras.layers import Embedding, GRU, Dense, Bidirectional, Dropout, Flatten\n",
        "\n",
        "# (참고) Funcation API ver\n",
        "inputs = tf.keras.Input(shape=(28,28,)) # 입력노드 생성\n",
        "\n",
        "# layer 생성\n",
        "flatten = Flatten()\n",
        "dense1 = Dense(64, activation=\"relu\")\n",
        "dense2 = Dense(10, activation ='softmax')\n",
        "\n",
        "# graph 생성\n",
        "x = flatten(inputs)\n",
        "x = dense1(x)\n",
        "outputs = dense2(x)\n",
        "\n",
        "# Model 생성\n",
        "model = tf.keras.Model(inputs=inputs, outputs=outputs, name=\"mnist_model\")"
      ],
      "metadata": {
        "id": "qQLsH3Ios9Rw"
      },
      "execution_count": null,
      "outputs": []
    },
    {
      "cell_type": "code",
      "source": [
        "model.summary()"
      ],
      "metadata": {
        "id": "Q1ExvLQY8BBd"
      },
      "execution_count": null,
      "outputs": []
    },
    {
      "cell_type": "code",
      "source": [
        "model.compile(\n",
        "    loss=tf.keras.losses.SparseCategoricalCrossentropy(),\n",
        "    optimizer=tf.keras.optimizers.RMSprop(),\n",
        "    metrics=[\"accuracy\"],\n",
        ")\n",
        "\n",
        "history = model.fit(x_train, y_train, batch_size=64, epochs=2, validation_split=0.2)\n",
        "\n",
        "test_scores = model.evaluate(x_test, y_test, verbose=2)\n",
        "print(\"Test loss:\", test_scores[0])\n",
        "print(\"Test accuracy:\", test_scores[1])"
      ],
      "metadata": {
        "colab": {
          "base_uri": "https://localhost:8080/"
        },
        "id": "Cmu3GY2T8BwF",
        "outputId": "269205e4-1f18-43a8-ca9d-fdde79530251"
      },
      "execution_count": null,
      "outputs": [
        {
          "output_type": "stream",
          "name": "stdout",
          "text": [
            "Epoch 1/2\n",
            "750/750 [==============================] - 6s 6ms/step - loss: 3.1555 - accuracy: 0.7950 - val_loss: 0.7021 - val_accuracy: 0.8779\n",
            "Epoch 2/2\n",
            "750/750 [==============================] - 3s 4ms/step - loss: 0.5698 - accuracy: 0.8946 - val_loss: 0.5027 - val_accuracy: 0.9078\n",
            "313/313 - 1s - loss: 0.5490 - accuracy: 0.9030 - 512ms/epoch - 2ms/step\n",
            "Test loss: 0.5489745140075684\n",
            "Test accuracy: 0.902999997138977\n"
          ]
        }
      ]
    },
    {
      "cell_type": "markdown",
      "source": [
        "#### [방법1]tf.keras.Model을 상속받아 custom Model 만들기"
      ],
      "metadata": {
        "id": "Q2kjbf3Lc4Iv"
      }
    },
    {
      "cell_type": "code",
      "source": [
        "# 혹시 이미 그려둔 그래프가 있다면 clear\n",
        "\n",
        "# 펑셔널 api와 동일하나 객체 2개로 나눠서 사용한 것\n",
        "tf.keras.backend.clear_session()\n",
        "\n",
        "class MyModel(tf.keras.Model):\n",
        "    def __init__(self): # 내 초기값이 있을 때 super을 써주지 않으면 내 초기값만 가져온다\n",
        "        super().__init__() # 부모(model의 init)꺼 가져옴, 내 것과 부모것 모두 초기화 값을 가져와야 할 때에 써준다\n",
        "        self.flatten = tf.keras.layers.Flatten()\n",
        "        self.d1 = tf.keras.layers.Dense(64, activation='relu')\n",
        "        self.d2 = tf.keras.layers.Dense(10, activation='softmax')\n",
        "\n",
        "    # method overriding\n",
        "    # call method는 fit() 메소드가 호출되어 훈련하는 경우 호출되는 함수\n",
        "    # call 함수 내부에 모델의 입력부터 출력까지 순전파(forward propagation)을 정의하고\n",
        "    # functional API와 같은 방식으로 모든 레이어를 연결하여 출력값을 return 한다\n",
        "    def call(self, input):\n",
        "        x = self.flatten(input)\n",
        "        x = self.d1(x)\n",
        "        output = self.d2(x)\n",
        "        return output\n",
        "\n",
        "mymodel = MyModel()"
      ],
      "metadata": {
        "id": "Ac9fSTfNHQct"
      },
      "execution_count": null,
      "outputs": []
    },
    {
      "cell_type": "code",
      "source": [
        "mymodel.compile(\n",
        "    loss=tf.keras.losses.SparseCategoricalCrossentropy(),\n",
        "    optimizer=tf.keras.optimizers.RMSprop(),\n",
        "    metrics=[\"accuracy\"],\n",
        ")\n",
        "\n",
        "history = mymodel.fit(x_train, y_train, batch_size=64, epochs=2, validation_split=0.2)\n",
        "\n",
        "test_scores = mymodel.evaluate(x_test, y_test, verbose=2)\n",
        "print(\"Test loss:\", test_scores[0])\n",
        "print(\"Test accuracy:\", test_scores[1])"
      ],
      "metadata": {
        "colab": {
          "base_uri": "https://localhost:8080/"
        },
        "id": "P8zywP_QHQVk",
        "outputId": "4bc0bdc3-e2f0-4527-9301-d18fd783db8d"
      },
      "execution_count": null,
      "outputs": [
        {
          "output_type": "stream",
          "name": "stdout",
          "text": [
            "Epoch 1/2\n",
            "750/750 [==============================] - 2s 2ms/step - loss: 3.2898 - accuracy: 0.8095 - val_loss: 0.6579 - val_accuracy: 0.8823\n",
            "Epoch 2/2\n",
            "750/750 [==============================] - 2s 2ms/step - loss: 0.5539 - accuracy: 0.9007 - val_loss: 0.5336 - val_accuracy: 0.9148\n",
            "313/313 - 0s - loss: 0.6045 - accuracy: 0.9108 - 312ms/epoch - 998us/step\n",
            "Test loss: 0.604477047920227\n",
            "Test accuracy: 0.9107999801635742\n"
          ]
        }
      ]
    },
    {
      "cell_type": "code",
      "source": [
        "mymodel.summary()"
      ],
      "metadata": {
        "id": "DmrTv_3a4f7Q",
        "colab": {
          "base_uri": "https://localhost:8080/"
        },
        "outputId": "b789e462-baaf-482e-c8fb-ef0bb48831de"
      },
      "execution_count": null,
      "outputs": [
        {
          "output_type": "stream",
          "name": "stdout",
          "text": [
            "Model: \"my_model\"\n",
            "_________________________________________________________________\n",
            " Layer (type)                Output Shape              Param #   \n",
            "=================================================================\n",
            " flatten (Flatten)           multiple                  0         \n",
            "                                                                 \n",
            " dense (Dense)               multiple                  50240     \n",
            "                                                                 \n",
            " dense_1 (Dense)             multiple                  650       \n",
            "                                                                 \n",
            "=================================================================\n",
            "Total params: 50,890\n",
            "Trainable params: 50,890\n",
            "Non-trainable params: 0\n",
            "_________________________________________________________________\n"
          ]
        }
      ]
    },
    {
      "cell_type": "code",
      "source": [
        "model = MyModel()\n",
        "inputs = tf.keras.Input(shape=(784,)) # 입력노드 생성\n",
        "outputs = model(inputs)\n",
        "\n",
        "tf.keras.Model(inputs, outputs).summary()"
      ],
      "metadata": {
        "id": "zG08h5bUlFin",
        "colab": {
          "base_uri": "https://localhost:8080/"
        },
        "outputId": "7dc71e7f-ec36-4b23-abaa-5209aeca81ce"
      },
      "execution_count": null,
      "outputs": [
        {
          "output_type": "stream",
          "name": "stdout",
          "text": [
            "Model: \"model\"\n",
            "_________________________________________________________________\n",
            " Layer (type)                Output Shape              Param #   \n",
            "=================================================================\n",
            " input_2 (InputLayer)        [(None, 784)]             0         \n",
            "                                                                 \n",
            " my_model_2 (MyModel)        (None, 10)                50890     \n",
            "                                                                 \n",
            "=================================================================\n",
            "Total params: 50,890\n",
            "Trainable params: 50,890\n",
            "Non-trainable params: 0\n",
            "_________________________________________________________________\n"
          ]
        }
      ]
    },
    {
      "cell_type": "code",
      "source": [
        "# 혹시 이미 그려둔 그래프가 있다면 clear\n",
        "tf.keras.backend.clear_session()\n",
        "\n",
        "class MyModel(tf.keras.Model):\n",
        "    def __init__(self, units, num_classes):\n",
        "        super().__init__()\n",
        "        self.flatten = tf.keras.layers.Flatten()\n",
        "        self.d1 = tf.keras.layers.Dense(units, activation='relu')\n",
        "        self.d2 = tf.keras.layers.Dense(num_classes, activation='softmax')\n",
        "\n",
        "    # method overriding\n",
        "    # call method는 fit() 메소드가 호출되어 훈련하는 경우 호출되는 함수\n",
        "    # call 함수 내부에 모델의 입력부터 출력까지 순전파(forward propagation)을 정의하고\n",
        "    # functional API와 같은 방식으로 모든 레이어를 연결하여 출력값을 return 한다\n",
        "    def call(self, input):\n",
        "        x = self.flatten(input)\n",
        "        x = self.d1(x)\n",
        "        output = self.d2(x)\n",
        "        return output\n",
        "\n",
        "    # graph 확인(output shape)을 위한 추가 메서드\n",
        "    def build_graph(self, x):\n",
        "        return tf.keras.Model(inputs=[x], outputs=self.call(x))\n"
      ],
      "metadata": {
        "id": "g0vixCpLVMh8"
      },
      "execution_count": null,
      "outputs": []
    },
    {
      "cell_type": "code",
      "source": [
        "mymodel = MyModel(156, 10)\n",
        "\n",
        "# 모델 요약\n",
        "mymodel.build_graph(tf.keras.layers.Input(shape=(28,28))).summary()"
      ],
      "metadata": {
        "colab": {
          "base_uri": "https://localhost:8080/"
        },
        "id": "AjeYeefsVMeW",
        "outputId": "3405a0d3-2b28-40cb-a666-5b56cfd1176b"
      },
      "execution_count": null,
      "outputs": [
        {
          "output_type": "stream",
          "name": "stdout",
          "text": [
            "Model: \"model_1\"\n",
            "_________________________________________________________________\n",
            " Layer (type)                Output Shape              Param #   \n",
            "=================================================================\n",
            " input_2 (InputLayer)        [(None, 28, 28)]          0         \n",
            "                                                                 \n",
            " flatten_1 (Flatten)         (None, 784)               0         \n",
            "                                                                 \n",
            " dense_2 (Dense)             (None, 156)               122460    \n",
            "                                                                 \n",
            " dense_3 (Dense)             (None, 10)                1570      \n",
            "                                                                 \n",
            "=================================================================\n",
            "Total params: 124,030\n",
            "Trainable params: 124,030\n",
            "Non-trainable params: 0\n",
            "_________________________________________________________________\n"
          ]
        }
      ]
    },
    {
      "cell_type": "code",
      "source": [],
      "metadata": {
        "id": "FymcECNXVMWD"
      },
      "execution_count": null,
      "outputs": []
    },
    {
      "cell_type": "markdown",
      "source": [
        "#### [방법2] tf.keras.Layer를 상속받아 custom layer만들기"
      ],
      "metadata": {
        "id": "cZoGlUhBcv4O"
      }
    },
    {
      "cell_type": "code",
      "source": [
        "import tensorflow as tf\n",
        "class MyLayer(tf.keras.layers.Layer):\n",
        "    def __init__(self):\n",
        "        super().__init__()\n",
        "        self.flatten = tf.keras.layers.Flatten()\n",
        "        self.d1 = tf.keras.layers.Dense(64, activation = 'relu')\n",
        "        self.d2 = tf.keras.layers.Dense(10, activation = 'softmax')\n",
        "\n",
        "    def call(self, x):\n",
        "        x = self.flatten(x)\n",
        "        x = self.d1(x)\n",
        "        return self.d2(x)"
      ],
      "metadata": {
        "id": "p26heoVjcvxi"
      },
      "execution_count": 64,
      "outputs": []
    },
    {
      "cell_type": "code",
      "source": [
        "MyLayer.compile() # 레이어로 상속 받은 경우 바로 complie 쓸 수 없다(레이어라서)\n",
        "# 모델 생성 후 compile 해야 한다"
      ],
      "metadata": {
        "colab": {
          "base_uri": "https://localhost:8080/",
          "height": 175
        },
        "id": "EUMgRTdVQYPv",
        "outputId": "41a04f79-958d-4348-c4db-4b258ed46ac9"
      },
      "execution_count": 67,
      "outputs": [
        {
          "output_type": "error",
          "ename": "AttributeError",
          "evalue": "ignored",
          "traceback": [
            "\u001b[0;31m---------------------------------------------------------------------------\u001b[0m",
            "\u001b[0;31mAttributeError\u001b[0m                            Traceback (most recent call last)",
            "\u001b[0;32m<ipython-input-67-026c7d2133ed>\u001b[0m in \u001b[0;36m<cell line: 1>\u001b[0;34m()\u001b[0m\n\u001b[0;32m----> 1\u001b[0;31m \u001b[0mMyLayer\u001b[0m\u001b[0;34m.\u001b[0m\u001b[0mcompile\u001b[0m\u001b[0;34m(\u001b[0m\u001b[0;34m)\u001b[0m\u001b[0;34m\u001b[0m\u001b[0;34m\u001b[0m\u001b[0m\n\u001b[0m",
            "\u001b[0;31mAttributeError\u001b[0m: type object 'MyLayer' has no attribute 'compile'"
          ]
        }
      ]
    },
    {
      "cell_type": "code",
      "source": [
        "inputs = tf.keras.Input(shape=(28,28,)) # 입력노드 생성\n",
        "\n",
        "# layer 생성\n",
        "outputs = MyLayer()(inputs)\n",
        "\n",
        "# Model 생성\n",
        "model = tf.keras.Model(inputs=inputs, outputs=outputs, name=\"mnist_model\")"
      ],
      "metadata": {
        "id": "_WSB_PqocvrE"
      },
      "execution_count": null,
      "outputs": []
    },
    {
      "cell_type": "code",
      "source": [
        "model.summary()"
      ],
      "metadata": {
        "colab": {
          "base_uri": "https://localhost:8080/"
        },
        "id": "ofPAkdgcfw7E",
        "outputId": "6a9be475-05a3-4634-909c-f9256f3babbf"
      },
      "execution_count": null,
      "outputs": [
        {
          "output_type": "stream",
          "name": "stdout",
          "text": [
            "Model: \"mnist_model\"\n",
            "_________________________________________________________________\n",
            " Layer (type)                Output Shape              Param #   \n",
            "=================================================================\n",
            " input_5 (InputLayer)        [(None, 28, 28)]          0         \n",
            "                                                                 \n",
            " my_layer_2 (MyLayer)        (None, 10)                50890     \n",
            "                                                                 \n",
            "=================================================================\n",
            "Total params: 50,890\n",
            "Trainable params: 50,890\n",
            "Non-trainable params: 0\n",
            "_________________________________________________________________\n"
          ]
        }
      ]
    },
    {
      "cell_type": "code",
      "source": [
        "model.compile(\n",
        "    loss=tf.keras.losses.SparseCategoricalCrossentropy(),\n",
        "    optimizer=tf.keras.optimizers.RMSprop(),\n",
        "    metrics=[\"accuracy\"],\n",
        ")\n",
        "\n",
        "history = model.fit(x_train, y_train, batch_size=64, epochs=2, validation_split=0.2)\n",
        "\n",
        "test_scores = model.evaluate(x_test, y_test, verbose=2)\n",
        "print(\"Test loss:\", test_scores[0])\n",
        "print(\"Test accuracy:\", test_scores[1])"
      ],
      "metadata": {
        "id": "kFZ2elcIf2S7",
        "colab": {
          "base_uri": "https://localhost:8080/"
        },
        "outputId": "afe323cd-8de9-4adb-cafe-95cc7c4c2a49"
      },
      "execution_count": null,
      "outputs": [
        {
          "output_type": "stream",
          "name": "stdout",
          "text": [
            "Epoch 1/2\n",
            "750/750 [==============================] - 5s 6ms/step - loss: 3.3210 - accuracy: 0.7980 - val_loss: 0.7409 - val_accuracy: 0.8768\n",
            "Epoch 2/2\n",
            "750/750 [==============================] - 6s 8ms/step - loss: 0.5950 - accuracy: 0.8945 - val_loss: 0.4955 - val_accuracy: 0.9122\n",
            "313/313 - 1s - loss: 0.5108 - accuracy: 0.9072 - 756ms/epoch - 2ms/step\n",
            "Test loss: 0.5107631683349609\n",
            "Test accuracy: 0.9071999788284302\n"
          ]
        }
      ]
    },
    {
      "cell_type": "code",
      "source": [],
      "metadata": {
        "id": "wgn-YZZ_wCSy"
      },
      "execution_count": null,
      "outputs": []
    },
    {
      "cell_type": "markdown",
      "source": [
        "### 문제"
      ],
      "metadata": {
        "id": "lRmqRXJWwNpx"
      }
    },
    {
      "cell_type": "code",
      "source": [
        "import re\n",
        "import numpy as np\n",
        "import matplotlib.pyplot as plt\n",
        "from tensorflow.keras.datasets import imdb\n",
        "from tensorflow.keras.preprocessing.sequence import pad_sequences\n",
        "from tensorflow.keras.models import Sequential\n",
        "from tensorflow.keras.layers import Dense, GRU, Embedding\n",
        "from tensorflow.keras.callbacks import EarlyStopping, ModelCheckpoint\n",
        "from tensorflow.keras.models import load_model"
      ],
      "metadata": {
        "id": "lK4oAVSnwCMp"
      },
      "execution_count": 68,
      "outputs": []
    },
    {
      "cell_type": "code",
      "source": [
        "vocab_size = 10000\n",
        "max_len = 500\n",
        "\n",
        "(X_train, y_train), (X_test, y_test) = imdb.load_data(num_words=vocab_size)\n",
        "\n",
        "X_train = pad_sequences(X_train, maxlen=max_len)\n",
        "X_test = pad_sequences(X_test, maxlen=max_len)"
      ],
      "metadata": {
        "id": "CVVFZdr_wCH6",
        "colab": {
          "base_uri": "https://localhost:8080/"
        },
        "outputId": "98b4312e-b7bb-451d-a192-25a9b9271c4c"
      },
      "execution_count": 69,
      "outputs": [
        {
          "output_type": "stream",
          "name": "stdout",
          "text": [
            "Downloading data from https://storage.googleapis.com/tensorflow/tf-keras-datasets/imdb.npz\n",
            "17464789/17464789 [==============================] - 0s 0us/step\n"
          ]
        }
      ]
    },
    {
      "cell_type": "code",
      "source": [
        "np.unique(y_train)"
      ],
      "metadata": {
        "id": "WJNtQ1nIDkqP",
        "outputId": "0676cbf9-a2a9-4cba-993c-0c82c8e436c0",
        "colab": {
          "base_uri": "https://localhost:8080/"
        }
      },
      "execution_count": 70,
      "outputs": [
        {
          "output_type": "execute_result",
          "data": {
            "text/plain": [
              "array([0, 1])"
            ]
          },
          "metadata": {},
          "execution_count": 70
        }
      ]
    },
    {
      "cell_type": "code",
      "source": [
        "X_train.shape"
      ],
      "metadata": {
        "colab": {
          "base_uri": "https://localhost:8080/"
        },
        "id": "WNxAW_QwDeM3",
        "outputId": "c49f3628-096b-46b3-bae9-f9c72c5a731c"
      },
      "execution_count": 71,
      "outputs": [
        {
          "output_type": "execute_result",
          "data": {
            "text/plain": [
              "(25000, 500)"
            ]
          },
          "metadata": {},
          "execution_count": 71
        }
      ]
    },
    {
      "cell_type": "code",
      "source": [
        "y_train # 1,0으로만 이루어짐 = 이진 분류문제"
      ],
      "metadata": {
        "colab": {
          "base_uri": "https://localhost:8080/"
        },
        "id": "tFKA1u9tRcvL",
        "outputId": "295dae76-d551-41d7-c4c4-8e429d83e24f"
      },
      "execution_count": 78,
      "outputs": [
        {
          "output_type": "execute_result",
          "data": {
            "text/plain": [
              "array([1, 0, 0, ..., 0, 1, 0])"
            ]
          },
          "metadata": {},
          "execution_count": 78
        }
      ]
    },
    {
      "cell_type": "code",
      "source": [
        "# (문제1) Model 상속\n",
        "\n",
        "class ReviewClassifier(tf.keras.Model):\n",
        "    # 초기값을 지정해주면 굳이 적어주지 않아도 괜찮음\n",
        "    def __init__(self, vocab_size, embedding_dim=100, hidden_dim = 128):\n",
        "        super().__init__()\n",
        "        self.emb = tf.keras.layers.Embedding(vocab_size, embedding_dim)\n",
        "        self.gru = tf.keras.layers.GRU(hidden_dim)\n",
        "        self.dense = tf.keras.layers.Dense(1, activation = 'sigmoid')\n",
        "\n",
        "    def call(self, input):\n",
        "        x = self.emb(input)\n",
        "        x = self.gru(x)\n",
        "        output = self.d2(x)\n",
        "        return output\n",
        "\n",
        "    # 그래프 확인\n",
        "    def graph(self, x):\n",
        "        # 그래프 그리려면 모델 생성 필요\n",
        "        return tf.keras.Model(inputs=[x], outputs = self.call(x))"
      ],
      "metadata": {
        "id": "96csAci9x5op"
      },
      "execution_count": 79,
      "outputs": []
    },
    {
      "cell_type": "code",
      "source": [
        "cls_model = ReviewClassifier(vocab_size, 10)\n"
      ],
      "metadata": {
        "id": "Ehdx1IgUUghv"
      },
      "execution_count": 80,
      "outputs": []
    },
    {
      "cell_type": "code",
      "source": [
        "# 초기값 변경을 원하면(일부만 원하면) 적어주면 된다\n",
        "cls_model = ReviewClassifier(vocab_size, hidden_dim = 128)\n",
        "cls_model"
      ],
      "metadata": {
        "id": "lV40tGu1VCE7"
      },
      "execution_count": null,
      "outputs": []
    },
    {
      "cell_type": "code",
      "source": [
        "cls_model.compile(\n",
        "    loss = 'binary_crossentropy',\n",
        "    optimizer = 'adam',\n",
        "    metrics=[\"accuracy\"]\n",
        ")"
      ],
      "metadata": {
        "id": "9ZxFaBmdx5iK"
      },
      "execution_count": 82,
      "outputs": []
    },
    {
      "cell_type": "code",
      "source": [
        "cls_model.fit(X_train, y_train, epochs = 15, validation_split = 0.2)"
      ],
      "metadata": {
        "id": "2qGza4hDwCC1"
      },
      "execution_count": null,
      "outputs": []
    },
    {
      "cell_type": "code",
      "source": [],
      "metadata": {
        "id": "WS0a2Ymjvcdr"
      },
      "execution_count": null,
      "outputs": []
    },
    {
      "cell_type": "code",
      "source": [
        "# (문제2) Layer 상속\n",
        "class ReviewClassifierLayer(tf.keras.layers.Layer):\n",
        "    def __init__(self, vocab_size, embedding_dim=100, hidden_dim = 128):\n",
        "        super().__init__()\n",
        "        self.emb = tf.keras.layers.Embedding(vocab_size, embedding_dim)\n",
        "        self.gru = tf.keras.layers.GRU(hidden_dim)\n",
        "        self.dense = tf.keras.layers.Dense(1, activation = 'sigmoid')\n",
        "\n",
        "    def call(self, input):\n",
        "        x = self.emb(input)\n",
        "        x = self.gru(x)\n",
        "        output = self.dense(x)\n",
        "        return output"
      ],
      "metadata": {
        "id": "2diKC103wB94"
      },
      "execution_count": 83,
      "outputs": []
    },
    {
      "cell_type": "code",
      "source": [
        "input_node = tf.keras.Input(shape=(500, )) # 입력노드 생성\n",
        "tf.keras.layers.Dense(10)(input_node) # layer 생성"
      ],
      "metadata": {
        "id": "nyfI3XmFZxZ6"
      },
      "execution_count": null,
      "outputs": []
    },
    {
      "cell_type": "code",
      "source": [
        "input_node = tf.keras.Input(shape=(500,))# 입력노드 생성\n",
        "# layer 생성\n",
        "x = ReviewClassifierLayer(vocab_size, hidden_dim = 128)(input_node)\n",
        "output_node = Dense(1, activation = 'sigmoid')(x)\n",
        "# Model 생성\n",
        "mymodel2 = tf.keras.Model(inputs = input_node, outputs = output_node)"
      ],
      "metadata": {
        "id": "SrdMbm8yYfcJ",
        "colab": {
          "base_uri": "https://localhost:8080/"
        },
        "outputId": "20b25f26-ddc8-4ade-f8df-51f4fae3c682"
      },
      "execution_count": 84,
      "outputs": [
        {
          "output_type": "execute_result",
          "data": {
            "text/plain": [
              "<KerasTensor: shape=(None, 1) dtype=float32 (created by layer 'review_classifier_layer')>"
            ]
          },
          "metadata": {},
          "execution_count": 84
        }
      ]
    },
    {
      "cell_type": "code",
      "source": [
        "mymodel2.compile(\n",
        "    loss = 'binary_crossentropy',\n",
        "    optimizer = 'adam'\n",
        ")"
      ],
      "metadata": {
        "id": "JH9QAiDfYfcK"
      },
      "execution_count": null,
      "outputs": []
    },
    {
      "cell_type": "code",
      "source": [
        "mymodel2.fit(X_train, y_train, epochs = 15, validation_split = 0.2)"
      ],
      "metadata": {
        "colab": {
          "base_uri": "https://localhost:8080/"
        },
        "outputId": "7cf5159f-a27f-41e5-eacf-9198293d3c53",
        "id": "6aGLn39SYfcK"
      },
      "execution_count": null,
      "outputs": [
        {
          "output_type": "stream",
          "name": "stdout",
          "text": [
            "Epoch 1/15\n",
            "625/625 [==============================] - 86s 133ms/step - loss: 0.4671 - val_loss: 0.3495\n",
            "Epoch 2/15\n",
            "625/625 [==============================] - 40s 65ms/step - loss: 0.2564 - val_loss: 0.3391\n",
            "Epoch 3/15\n",
            "625/625 [==============================] - 23s 36ms/step - loss: 0.1613 - val_loss: 0.3116\n",
            "Epoch 4/15\n",
            "625/625 [==============================] - 18s 29ms/step - loss: 0.0896 - val_loss: 0.3543\n",
            "Epoch 5/15\n",
            "625/625 [==============================] - 19s 30ms/step - loss: 0.0504 - val_loss: 0.4307\n",
            "Epoch 6/15\n",
            "625/625 [==============================] - 18s 29ms/step - loss: 0.0362 - val_loss: 0.4957\n",
            "Epoch 7/15\n",
            "625/625 [==============================] - 15s 25ms/step - loss: 0.0206 - val_loss: 0.5497\n",
            "Epoch 8/15\n",
            "625/625 [==============================] - 15s 23ms/step - loss: 0.0176 - val_loss: 0.6924\n",
            "Epoch 9/15\n",
            "625/625 [==============================] - 14s 23ms/step - loss: 0.0103 - val_loss: 0.7473\n",
            "Epoch 10/15\n",
            "625/625 [==============================] - 14s 23ms/step - loss: 0.0128 - val_loss: 0.6746\n",
            "Epoch 11/15\n",
            "625/625 [==============================] - 13s 21ms/step - loss: 0.0097 - val_loss: 0.6879\n",
            "Epoch 12/15\n",
            "625/625 [==============================] - 14s 22ms/step - loss: 0.0053 - val_loss: 0.6756\n",
            "Epoch 13/15\n",
            "625/625 [==============================] - 14s 22ms/step - loss: 0.0074 - val_loss: 0.7526\n",
            "Epoch 14/15\n",
            "625/625 [==============================] - 13s 21ms/step - loss: 0.0096 - val_loss: 0.7367\n",
            "Epoch 15/15\n",
            "625/625 [==============================] - 13s 21ms/step - loss: 0.0022 - val_loss: 0.8136\n"
          ]
        },
        {
          "output_type": "execute_result",
          "data": {
            "text/plain": [
              "<keras.callbacks.History at 0x7f8590797fd0>"
            ]
          },
          "metadata": {},
          "execution_count": 92
        }
      ]
    },
    {
      "cell_type": "code",
      "source": [],
      "metadata": {
        "id": "4_PipHMBvcKd"
      },
      "execution_count": null,
      "outputs": []
    },
    {
      "cell_type": "markdown",
      "source": [
        "## Text Generation\n",
        "\n",
        "- (참고) 코드 : https://colab.research.google.com/drive/1usCdC2EFlf4w7kwgyCGMdBku79NQfuek#scrollTo=Vt7Af431OOW8\n",
        "\n"
      ],
      "metadata": {
        "id": "ymPz9Y8yxLy7"
      }
    },
    {
      "cell_type": "code",
      "source": [
        "# 기본 라이브러리\n",
        "import pandas as pd\n",
        "import numpy as np\n",
        "import tensorflow as tf\n",
        "import matplotlib.pyplot as plt\n",
        "from konlpy.tag import Okt\n",
        "from tensorflow.keras.preprocessing.text import Tokenizer\n",
        "from tensorflow.keras.preprocessing.sequence import pad_sequences\n",
        "from tensorflow.keras.utils import to_categorical\n",
        "from tensorflow.keras.models import Sequential\n",
        "from tensorflow.keras.layers import Embedding, SimpleRNN, LSTM, Dense, Bidirectional, Dropout"
      ],
      "metadata": {
        "id": "RBuhwhFkvcVE"
      },
      "execution_count": null,
      "outputs": []
    },
    {
      "cell_type": "code",
      "source": [
        "# text creation\n",
        "\n",
        "text = \"\"\"\n",
        "Stay in the middle\\n\n",
        "Like you a little\\n\n",
        "Don't want no riddle\\n\n",
        "말해줘 say it back, oh, say it ditto\\n\n",
        "아침은 너무 멀어 so say it ditto\\n\n",
        "훌쩍 커버렸어\\n\n",
        "함께한 기억처럼\\n\n",
        "널 보는 내 마음은\\n\n",
        "어느새 여름 지나 가을\\n\n",
        "기다렸지 all this time\\n\n",
        "Do you want somebody\\n\n",
        "Like I want somebody?\\n\n",
        "날 보고 웃었지만\\n\n",
        "Do you think about me now? Yeah\\n\n",
        "All the time, yeah, all the time\\n\n",
        "\"\"\""
      ],
      "metadata": {
        "id": "ICiAGkCgvcQJ"
      },
      "execution_count": null,
      "outputs": []
    },
    {
      "cell_type": "code",
      "source": [],
      "metadata": {
        "id": "nQlvDVV96Z88"
      },
      "execution_count": null,
      "outputs": []
    },
    {
      "cell_type": "code",
      "source": [],
      "metadata": {
        "id": "TQuWv5sHxOaN"
      },
      "execution_count": null,
      "outputs": []
    },
    {
      "cell_type": "code",
      "source": [],
      "metadata": {
        "id": "q7mz5p0QxOWd"
      },
      "execution_count": null,
      "outputs": []
    },
    {
      "cell_type": "code",
      "source": [],
      "metadata": {
        "id": "i_R_mWwMxOQ8"
      },
      "execution_count": null,
      "outputs": []
    },
    {
      "cell_type": "markdown",
      "source": [
        "# 모듈"
      ],
      "metadata": {
        "id": "wPbO-n0hxLdJ"
      }
    },
    {
      "cell_type": "code",
      "source": [],
      "metadata": {
        "id": "P-Sn-s9ONfSC"
      },
      "execution_count": null,
      "outputs": []
    },
    {
      "cell_type": "markdown",
      "metadata": {
        "id": "7vcwtwoVFeBf"
      },
      "source": [
        "# 모듈과 패키지(Module & Package)"
      ]
    },
    {
      "cell_type": "markdown",
      "metadata": {
        "id": "eMUtkG9Zzs7-"
      },
      "source": [
        "### 모듈이 뭐야?"
      ]
    },
    {
      "cell_type": "markdown",
      "metadata": {
        "id": "JQcFvP7azzEq"
      },
      "source": [
        "파일을 하나 생성해서 열심히 코드를 작성했다. 이 코드를 다른 파일에서도 그대로 가져다 쓸 수 있으면 얼마나 편할까?\n"
      ]
    },
    {
      "cell_type": "markdown",
      "source": [
        "- 특정 기능들(함수, 변수 등) 구현되어 있는 파이썬 파일(.py)"
      ],
      "metadata": {
        "id": "PrkN1CAzeaZv"
      }
    },
    {
      "cell_type": "code",
      "metadata": {
        "id": "uXQEkh89FeB2",
        "colab": {
          "base_uri": "https://localhost:8080/"
        },
        "outputId": "0b9e4c08-5f38-496b-f3bd-1cadff16ff94"
      },
      "source": [
        "%%writefile information.py\n",
        "\n",
        "def make_info():\n",
        "    name = input('input name:')\n",
        "    code = input('input id:')\n",
        "    email = input('input email:')\n",
        "\n",
        "    info_dic = {\n",
        "        'name': name,\n",
        "        'id': code,\n",
        "        'email': email\n",
        "    }\n",
        "\n",
        "    return info_dic\n",
        "\n",
        "def print_info(info):\n",
        "    print('name: {1}{0}id: {2}{0}email: {3}'.format('\\n', info['name'],\n",
        "                                                 info['id'], info['email']))"
      ],
      "execution_count": null,
      "outputs": [
        {
          "output_type": "stream",
          "name": "stdout",
          "text": [
            "Writing information.py\n"
          ]
        }
      ]
    },
    {
      "cell_type": "markdown",
      "metadata": {
        "id": "YhSVBYAnz8Dj"
      },
      "source": [
        "#### 2) 다른 파이썬 파일 불러오기\n"
      ]
    },
    {
      "cell_type": "code",
      "metadata": {
        "id": "5QExES4TFeB9"
      },
      "source": [
        "import information as info"
      ],
      "execution_count": null,
      "outputs": []
    },
    {
      "cell_type": "markdown",
      "metadata": {
        "id": "NBuTPz-50HmS"
      },
      "source": [
        "#### 3) 다른 파일의 코드 가져다 사용하기"
      ]
    },
    {
      "cell_type": "code",
      "metadata": {
        "id": "eksW4UT1FeCB",
        "colab": {
          "base_uri": "https://localhost:8080/"
        },
        "outputId": "3decf4eb-8d41-4da2-ee8d-1a59c53dd297"
      },
      "source": [
        "data = info.make_info()"
      ],
      "execution_count": null,
      "outputs": [
        {
          "name": "stdout",
          "output_type": "stream",
          "text": [
            "input name:\n",
            "input id:aa\n",
            "input email:aa@gmail.com\n"
          ]
        }
      ]
    },
    {
      "cell_type": "code",
      "metadata": {
        "colab": {
          "base_uri": "https://localhost:8080/"
        },
        "id": "NjB0W10qxx8G",
        "outputId": "9f46d84f-9825-420f-ac51-990d8789a256"
      },
      "source": [
        "data"
      ],
      "execution_count": null,
      "outputs": [
        {
          "output_type": "execute_result",
          "data": {
            "text/plain": [
              "{'name': '', 'id': 'aa', 'email': 'aa@gmail.com'}"
            ]
          },
          "metadata": {},
          "execution_count": 36
        }
      ]
    },
    {
      "cell_type": "code",
      "metadata": {
        "colab": {
          "base_uri": "https://localhost:8080/"
        },
        "id": "00XRx4Hdx0l6",
        "outputId": "336a9bb4-6e09-4d89-a3ab-ff685c23eab8"
      },
      "source": [
        "info.print_info(data)"
      ],
      "execution_count": null,
      "outputs": [
        {
          "output_type": "stream",
          "name": "stdout",
          "text": [
            "name: \n",
            "id: aa\n",
            "email: aa@gmail.com\n"
          ]
        }
      ]
    },
    {
      "cell_type": "markdown",
      "metadata": {
        "id": "-HVfKEr80rTl"
      },
      "source": [
        "### 패키지 재사용하기"
      ]
    },
    {
      "cell_type": "markdown",
      "metadata": {
        "id": "xyyyzscY2srs"
      },
      "source": [
        "같은 카테고리로 묶을만한 모듈이 여럿 존재한다면? 같은 카테고리의 파일을 한 폴더로 관리하듯이 모듈도 이와같이 폴더로 관리하고 싶다면?\n"
      ]
    },
    {
      "cell_type": "markdown",
      "source": [
        "- 특정 기능과 관련된 여러 모듈을 하나의 폴더에 넣은 것\n",
        "- 패키지는 모듈별로 파일들을 구분하여, 하위 폴더에 저장\n",
        "\n",
        "- 라이브러리\n",
        "    - 자주 사용하는 프로그램을 모듈과 패키지로 묶어서 구성\n",
        "    - 파이썬에 기본적으로 설치되는 라이브러리를 표준 라이브러리라고 함\n",
        "    - 라이브러리, 패키지를 혼용해서 표현하기도 함"
      ],
      "metadata": {
        "id": "HX6oSmZoehHZ"
      }
    },
    {
      "cell_type": "markdown",
      "metadata": {
        "id": "DMUS63ed01e0"
      },
      "source": [
        "#### 1) 패키지 만들기"
      ]
    },
    {
      "cell_type": "code",
      "metadata": {
        "id": "1i-lJqk0LNwb"
      },
      "source": [
        "mkdir Pkg_Info"
      ],
      "execution_count": null,
      "outputs": []
    },
    {
      "cell_type": "code",
      "metadata": {
        "id": "eOP1OC2_1AAe",
        "colab": {
          "base_uri": "https://localhost:8080/"
        },
        "outputId": "18fb8e7e-6cfd-4195-db41-d98fad57a5cc"
      },
      "source": [
        "%%writefile Pkg_Info/information.py\n",
        "\n",
        "def make_info():\n",
        "    name = input('input name:')\n",
        "    code = input('input id:')\n",
        "    email = input('input email:')\n",
        "\n",
        "    info_dic = {\n",
        "        'name': name,\n",
        "        'id': code,\n",
        "        'email': email\n",
        "    }\n",
        "\n",
        "    return info_dic\n",
        "\n",
        "def print_info(info):\n",
        "    print('name: {1}{0}id: {2}{0}email: {3}'.format('\\n', info['name'],\n",
        "                                                 info['id'], info['email']))\n",
        "\n",
        "\n",
        "#test code\n",
        "if __name__ == '__main__':\n",
        "    print('-- test code --')\n",
        "    make_info()\n",
        "    print('make_info 정상작동합니다.')\n",
        "    print_info()\n",
        "    print('print_info 정상작동합니다.')"
      ],
      "execution_count": null,
      "outputs": [
        {
          "output_type": "stream",
          "name": "stdout",
          "text": [
            "Writing Pkg_Info/information.py\n"
          ]
        }
      ]
    },
    {
      "cell_type": "markdown",
      "metadata": {
        "id": "GWs_RHHs1F7X"
      },
      "source": [
        "#### 2) 패키지 내 모듈 불러오기"
      ]
    },
    {
      "cell_type": "code",
      "metadata": {
        "id": "-FFACHVgFeCR"
      },
      "source": [
        "from Pkg_Info import information as info"
      ],
      "execution_count": null,
      "outputs": []
    },
    {
      "cell_type": "markdown",
      "metadata": {
        "id": "5T8aqoH11L1G"
      },
      "source": [
        "#### 3) 불러온 모듈 내 함수 사용하기"
      ]
    },
    {
      "cell_type": "code",
      "metadata": {
        "id": "IpXV7wh7FeCV",
        "colab": {
          "base_uri": "https://localhost:8080/"
        },
        "outputId": "bc57a152-e66f-4972-f990-f4834a5cd902"
      },
      "source": [
        "info.make_info()"
      ],
      "execution_count": null,
      "outputs": [
        {
          "name": "stdout",
          "output_type": "stream",
          "text": [
            "input name:bb\n",
            "input id:bb@naver.com\n",
            "input email:bb@naver.com.com\n"
          ]
        },
        {
          "output_type": "execute_result",
          "data": {
            "text/plain": [
              "{'name': 'bb', 'id': 'bb@naver.com', 'email': 'bb@naver.com.com'}"
            ]
          },
          "metadata": {},
          "execution_count": 41
        }
      ]
    },
    {
      "cell_type": "code",
      "metadata": {
        "id": "gncUy9gCFeCY"
      },
      "source": [
        "from Pkg_Info.information import make_info, print_info"
      ],
      "execution_count": null,
      "outputs": []
    },
    {
      "cell_type": "code",
      "metadata": {
        "id": "MENpWlbNFeCb",
        "outputId": "82fba706-6790-4f46-f965-89f3130e92e1",
        "colab": {
          "base_uri": "https://localhost:8080/"
        }
      },
      "source": [
        "make_info()"
      ],
      "execution_count": null,
      "outputs": [
        {
          "name": "stdout",
          "output_type": "stream",
          "text": [
            "input name:aa\n",
            "input id:bb\n",
            "input email:cc\n"
          ]
        },
        {
          "output_type": "execute_result",
          "data": {
            "text/plain": [
              "{'name': 'aa', 'id': 'bb', 'email': 'cc'}"
            ]
          },
          "metadata": {},
          "execution_count": 43
        }
      ]
    },
    {
      "cell_type": "markdown",
      "metadata": {
        "id": "kT5M2wB2FeCw"
      },
      "source": [
        "### 데이터분석에 자주 사용하는 패키지 맛보기"
      ]
    },
    {
      "cell_type": "code",
      "metadata": {
        "id": "_zMw7UNzyg0V"
      },
      "source": [
        "import numpy as np\n",
        "import pandas as pd\n",
        "from sklearn.datasets import load_wine\n",
        "import tensorflow"
      ],
      "execution_count": null,
      "outputs": []
    },
    {
      "cell_type": "code",
      "metadata": {
        "id": "yzAzy-S4FeCy",
        "colab": {
          "base_uri": "https://localhost:8080/"
        },
        "outputId": "0ee9c897-39bf-4142-a6a4-69806f6d581d"
      },
      "source": [
        "randn = np.random.randn(10)\n",
        "randn"
      ],
      "execution_count": null,
      "outputs": [
        {
          "output_type": "execute_result",
          "data": {
            "text/plain": [
              "array([-1.51370831, -1.33689981,  0.31867997,  0.54450882, -1.61028533,\n",
              "       -0.42822189,  1.04810697,  1.04435906,  0.4533931 , -0.1033427 ])"
            ]
          },
          "metadata": {},
          "execution_count": 62
        }
      ]
    },
    {
      "cell_type": "code",
      "metadata": {
        "id": "6X0peyTPFeDD",
        "colab": {
          "base_uri": "https://localhost:8080/"
        },
        "outputId": "1c9aefe4-9e81-45cf-f8f2-16cd6753e79c"
      },
      "source": [
        "wine_data = load_wine()\n",
        "wine_data['feature_names']"
      ],
      "execution_count": null,
      "outputs": [
        {
          "output_type": "execute_result",
          "data": {
            "text/plain": [
              "['alcohol',\n",
              " 'malic_acid',\n",
              " 'ash',\n",
              " 'alcalinity_of_ash',\n",
              " 'magnesium',\n",
              " 'total_phenols',\n",
              " 'flavanoids',\n",
              " 'nonflavanoid_phenols',\n",
              " 'proanthocyanins',\n",
              " 'color_intensity',\n",
              " 'hue',\n",
              " 'od280/od315_of_diluted_wines',\n",
              " 'proline']"
            ]
          },
          "metadata": {},
          "execution_count": 63
        }
      ]
    },
    {
      "cell_type": "code",
      "source": [],
      "metadata": {
        "id": "O-K4XAUxeSn7"
      },
      "execution_count": null,
      "outputs": []
    }
  ]
}