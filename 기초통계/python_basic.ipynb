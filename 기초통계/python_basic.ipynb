{
  "nbformat": 4,
  "nbformat_minor": 0,
  "metadata": {
    "colab": {
      "provenance": [],
      "include_colab_link": true
    },
    "kernelspec": {
      "name": "python3",
      "display_name": "Python 3"
    },
    "language_info": {
      "name": "python"
    }
  },
  "cells": [
    {
      "cell_type": "markdown",
      "metadata": {
        "id": "view-in-github",
        "colab_type": "text"
      },
      "source": [
        "<a href=\"https://colab.research.google.com/github/guscldns/TestProject/blob/main/%EA%B8%B0%EC%B4%88%ED%86%B5%EA%B3%84/python_basic.ipynb\" target=\"_parent\"><img src=\"https://colab.research.google.com/assets/colab-badge.svg\" alt=\"Open In Colab\"/></a>"
      ]
    },
    {
      "cell_type": "markdown",
      "source": [
        "# Python 기본 문법\n",
        "\n",
        "---\n",
        "\n",
        "조준우, metamath@gmail.com"
      ],
      "metadata": {
        "id": "JXqKZcH9s6Yv"
      }
    },
    {
      "cell_type": "markdown",
      "source": [
        "## print()와 주석\n",
        "\n",
        "- `print()`: 원하는 내용을 화면에 출력\n",
        "- 주석: 코드에 설명을 적거나 필요없는 코드의 실행을 막을 때 사용하며 주석으로 만들고 싶은 부분에 #으로 표시"
      ],
      "metadata": {
        "id": "uM7gbtQHnHOj"
      }
    },
    {
      "cell_type": "code",
      "source": [
        "#################################################################\n",
        "# 실습\n",
        "#################################################################\n",
        "\n",
        "# 화면에 \"python is easy\"를 출력해보기\n",
        "print(\"python is easy\")\n"
      ],
      "metadata": {
        "id": "1_HK7GWbn517",
        "colab": {
          "base_uri": "https://localhost:8080/"
        },
        "outputId": "953480d8-3146-4bf2-c30d-50b3e8e7bcad"
      },
      "execution_count": null,
      "outputs": [
        {
          "output_type": "stream",
          "name": "stdout",
          "text": [
            "python is easy\n"
          ]
        }
      ]
    },
    {
      "cell_type": "markdown",
      "source": [
        "## 변수variable\n",
        "\n",
        "- 변수는 어떤 값을 담는 그릇으로 생각하면 편하지만 더 정확히는 어떤 값에 붙어 있는 포스트잇 같은 꼬리표라고 생각하는 것이 정확함"
      ],
      "metadata": {
        "id": "32d4wGTWtDqV"
      }
    },
    {
      "cell_type": "code",
      "source": [
        "# 변수 a에 숫자 7을 대입\n",
        "a = 7\n",
        "\n",
        "# 변수 c에 문자 hello를 대입\n",
        "c = 'hello'\n",
        "\n",
        "# 두 변수에 어떤 값이 있는지 출력\n",
        "print(a, c)"
      ],
      "metadata": {
        "colab": {
          "base_uri": "https://localhost:8080/"
        },
        "id": "T3NLBc6NtTHt",
        "outputId": "79f7dc16-03a3-4866-d07a-348362609cf1"
      },
      "execution_count": null,
      "outputs": [
        {
          "output_type": "stream",
          "name": "stdout",
          "text": [
            "7 hello\n"
          ]
        }
      ]
    },
    {
      "cell_type": "code",
      "source": [
        "#################################################################\n",
        "# 실습\n",
        "#################################################################\n",
        "\n",
        "# 변수를 세개 만들고 각 변수에 숫자와 문자를 대입한 뒤 출력해보기\n",
        "d = 1\n",
        "e = \"one\"\n",
        "f = True\n",
        "print(d, e, f)"
      ],
      "metadata": {
        "id": "PWp8nD-Snusc",
        "colab": {
          "base_uri": "https://localhost:8080/"
        },
        "outputId": "33696ec6-9000-4a06-df6c-6be9689b6c5d"
      },
      "execution_count": null,
      "outputs": [
        {
          "output_type": "stream",
          "name": "stdout",
          "text": [
            "1 one True\n"
          ]
        }
      ]
    },
    {
      "cell_type": "markdown",
      "source": [
        "### 변수의 타입(형)\n",
        "\n",
        "- 변수에는 숫자 또는 문자를 담을 수 있는데 변수에 담긴 자료의 형태를 자료형이라 함\n",
        "\n",
        "- 대표적인 변수 타입은\n",
        "    - int(정수)\n",
        "    - float(실수)\n",
        "    - bool(불린형)\n",
        "    - str(문자열)\n",
        "\n",
        "- 다음 코드로 변수의 타입을 체크할 수 있음"
      ],
      "metadata": {
        "id": "5v8eXLZLwjC6"
      }
    },
    {
      "cell_type": "code",
      "source": [
        "# 각 종 변수의 타입체크\n",
        "i = 10\n",
        "f = 1.2\n",
        "s = 'abc'\n",
        "b = True\n",
        "print(type(i))\n",
        "print(type(f))\n",
        "print(type(s))\n",
        "print(type(b))"
      ],
      "metadata": {
        "colab": {
          "base_uri": "https://localhost:8080/"
        },
        "id": "VPw2GmGdgUkp",
        "outputId": "6ea9daa0-5643-4ab9-a80b-df83d8b27b30"
      },
      "execution_count": null,
      "outputs": [
        {
          "output_type": "stream",
          "name": "stdout",
          "text": [
            "<class 'int'>\n",
            "<class 'float'>\n",
            "<class 'str'>\n",
            "<class 'bool'>\n"
          ]
        }
      ]
    },
    {
      "cell_type": "markdown",
      "source": [
        "### 불린 변수boolens\n",
        "\n",
        "- 참, 거짓을 표현하는 변수형,\n",
        "- 값으로 `True`, `False`가 있음\n",
        "- 첫 문자가 대문자임을 주의"
      ],
      "metadata": {
        "id": "3FIXEksixW4o"
      }
    },
    {
      "cell_type": "code",
      "source": [
        "t = True\n",
        "f = False\n",
        "\n",
        "print(t, f)"
      ],
      "metadata": {
        "colab": {
          "base_uri": "https://localhost:8080/"
        },
        "id": "az0dQ9XrxtQS",
        "outputId": "635d42a8-90b8-43ef-b55c-8fb007c251f4"
      },
      "execution_count": null,
      "outputs": [
        {
          "output_type": "stream",
          "name": "stdout",
          "text": [
            "True False\n"
          ]
        }
      ]
    },
    {
      "cell_type": "markdown",
      "source": [
        "- 프로그램 과정에서 어떤 조건이나 연산의 참, 거짓을 판단하면서 작업을 진행할 때가 많은데 그때 불린 변수를 사용"
      ],
      "metadata": {
        "id": "0JQjfscLxx1p"
      }
    },
    {
      "cell_type": "markdown",
      "source": [
        "### 문자열string\n",
        "\n",
        "- '' 또는 \"\" 로 둘러 쌓인 문자"
      ],
      "metadata": {
        "id": "_HGhMdfLzC8J"
      }
    },
    {
      "cell_type": "code",
      "source": [
        "s1 = \"hello\"\n",
        "print(s1)\n",
        "\n",
        "s2 = 'hello'\n",
        "print(s2)"
      ],
      "metadata": {
        "colab": {
          "base_uri": "https://localhost:8080/"
        },
        "id": "FCfqrgftzNEH",
        "outputId": "89733eb1-c3db-4e61-8a8d-f5656b114949"
      },
      "execution_count": null,
      "outputs": [
        {
          "output_type": "stream",
          "name": "stdout",
          "text": [
            "hello\n",
            "hello\n"
          ]
        }
      ]
    },
    {
      "cell_type": "code",
      "source": [
        "#################################################################\n",
        "# 실습\n",
        "#################################################################\n",
        "\n",
        "# 다음 문장을 변수 s에 대입하세요.\n",
        "# 나는 \"배고파!\" 라고 말했다.\n",
        "s = '나는 \"배고파!\" 라고 말했다.'\n",
        "# 변수 s를 출력하세요.\n",
        "\n",
        "print(s)"
      ],
      "metadata": {
        "colab": {
          "base_uri": "https://localhost:8080/"
        },
        "id": "GKvxCi2JzyaP",
        "outputId": "4f0ca358-774c-489d-ad89-dee5ededcc35"
      },
      "execution_count": null,
      "outputs": [
        {
          "output_type": "stream",
          "name": "stdout",
          "text": [
            "나는 \"배고파!\" 라고 말했다.\n"
          ]
        }
      ]
    },
    {
      "cell_type": "markdown",
      "source": [
        "- '와 \"를 모두 사용할 수 있기 때문에 \"\"로 이뤄진 문장 가운데 '를 쓸 수 있고 그 반대도 가능\n",
        "\n",
        "- 변수를 문자열에 포함시켜서 편리하게 프린트 가능"
      ],
      "metadata": {
        "id": "Sp3wDn5fz4c5"
      }
    },
    {
      "cell_type": "code",
      "source": [
        "# 포맷 가능한 문자열\n",
        "i = 100\n",
        "\n",
        "# 문자열 \"\" 앞에 f를 붙이고 문자열 중간에 {}로 감싸진 변수가 있으면\n",
        "# 실제 출력에서는 {}로 감싸진 부분이 감싸진 변수값으로 대체 된다.\n",
        "s = f\"{i}은 {i}입니다.\"\n",
        "print(s)"
      ],
      "metadata": {
        "colab": {
          "base_uri": "https://localhost:8080/"
        },
        "id": "xuBwrwuF8N11",
        "outputId": "b2225439-7ec1-486b-ec20-b0a8d2df6ea1"
      },
      "execution_count": null,
      "outputs": [
        {
          "output_type": "stream",
          "name": "stdout",
          "text": [
            "100은 100입니다.\n"
          ]
        }
      ]
    },
    {
      "cell_type": "code",
      "source": [
        "#################################################################\n",
        "# 실습\n",
        "#################################################################\n",
        "\n",
        "# 다음 문구에서 name은 name변수의 값\n",
        "# age는 age변수의 값이 출력 되도록\n",
        "# 포맷 가능한 문자열을 이용해서 코드를 작성하세요.\n",
        "# 나의 이름은 name이고, 나이는 age살입니다.\n",
        "\n",
        "\n",
        "name = \"현치운\"\n",
        "age = \"36\"\n",
        "\n",
        "print(f\"나의 이름은 {name}이고, 나이는 {age}입니다.\")"
      ],
      "metadata": {
        "id": "gFY6-H-5oQcc",
        "colab": {
          "base_uri": "https://localhost:8080/"
        },
        "outputId": "03946171-6f97-48bf-f015-71a66b8a301b"
      },
      "execution_count": null,
      "outputs": [
        {
          "output_type": "stream",
          "name": "stdout",
          "text": [
            "나의 이름은 현치운이고, 나이는 36입니다.\n"
          ]
        }
      ]
    },
    {
      "cell_type": "markdown",
      "source": [
        "### 숫자numbers\n",
        "\n",
        "- 정수interger와 실수float이 있음\n"
      ],
      "metadata": {
        "id": "BUdPnObM0T7n"
      }
    },
    {
      "cell_type": "code",
      "source": [
        "i = 10\n",
        "f = 3.4"
      ],
      "metadata": {
        "id": "j-cMa7vR0eF3"
      },
      "execution_count": null,
      "outputs": []
    },
    {
      "cell_type": "markdown",
      "source": [
        "### 형변환type casting\n",
        "\n",
        "- 변수는 가능하다면 형변환을 할 수 있다."
      ],
      "metadata": {
        "id": "4U9lJl9TYg9V"
      }
    },
    {
      "cell_type": "code",
      "source": [
        "i = 10\n",
        "f = 2.4\n",
        "s = 'hello'\n",
        "\n",
        "print('int-> str:', str(i))\n",
        "print('float-> int:', int(f))\n",
        "print('int-> float:', float(i))\n",
        "# print('str-> int:', int(s)) ???\n",
        "\n",
        "print('int-> bool:', bool(i))\n",
        "print('float-> bool:', bool(f))\n",
        "print('str-> bool:', bool(s))\n",
        "\n",
        "i2 = 0\n",
        "f2 = 0.0\n",
        "print('int-> bool:', bool(i2))\n",
        "print('float-> bool:', bool(f2))"
      ],
      "metadata": {
        "colab": {
          "base_uri": "https://localhost:8080/"
        },
        "id": "QnDUG_6ngfK3",
        "outputId": "7047afe6-76d1-46a5-ea80-3f88aa1fab12"
      },
      "execution_count": null,
      "outputs": [
        {
          "output_type": "stream",
          "name": "stdout",
          "text": [
            "int-> str: 10\n",
            "float-> int: 2\n",
            "int-> float: 10.0\n",
            "int-> bool: True\n",
            "float-> bool: True\n",
            "str-> bool: True\n",
            "int-> bool: False\n",
            "float-> bool: False\n"
          ]
        }
      ]
    },
    {
      "cell_type": "markdown",
      "source": [
        "## 연산자"
      ],
      "metadata": {
        "id": "9UmEKL8-12-u"
      }
    },
    {
      "cell_type": "markdown",
      "source": [
        "- 두 숫자형 변수에 여러 연산이 가능\n",
        "\n",
        "- 다음은 숫자형 변수에 여러 연산자를 적용한 예\n",
        "\n"
      ],
      "metadata": {
        "id": "T9e3jonh8mcX"
      }
    },
    {
      "cell_type": "code",
      "source": [
        "a = 7\n",
        "b = 2\n",
        "\n",
        "print('a=', a, 'b=', b, '+:', 'a+b=', a+b)\n",
        "print('a=', a, 'b=', b, '-:', 'a-b=', a-b)\n",
        "print('a=', a, 'b=', b, '*:', 'a*b=', a*b)\n",
        "print('a=', a, 'b=', b, '/:', 'a/b=', a/b)\n",
        "print('a=', a, 'b=', b, '//:', 'a//b=', a//b)\n",
        "print('a=', a, 'b=', b, '%:', 'a%b=', a%b)\n",
        "print('a=', a, 'b=', b, '**:', 'a**b=', a**b)"
      ],
      "metadata": {
        "colab": {
          "base_uri": "https://localhost:8080/"
        },
        "id": "ruFvgO8-2WsF",
        "outputId": "8f91329c-b978-421e-af1c-f7f0ec4ecc2f"
      },
      "execution_count": null,
      "outputs": [
        {
          "output_type": "stream",
          "name": "stdout",
          "text": [
            "a= 7 b= 2 +: a+b= 9\n",
            "a= 7 b= 2 -: a-b= 5\n",
            "a= 7 b= 2 *: a*b= 14\n",
            "a= 7 b= 2 /: a/b= 3.5\n",
            "a= 7 b= 2 //: a//b= 3\n",
            "a= 7 b= 2 %: a%b= 1\n",
            "a= 7 b= 2 **: a**b= 49\n"
          ]
        }
      ]
    },
    {
      "cell_type": "markdown",
      "source": [
        "\n",
        "- 연산자를 이용한 식은 반환값이 있는 표현expression\n",
        "- `=`에 의한 대입은 반환값이 없는 문statement"
      ],
      "metadata": {
        "id": "Qfh4IF32yVdk"
      }
    },
    {
      "cell_type": "code",
      "source": [
        "1+2"
      ],
      "metadata": {
        "colab": {
          "base_uri": "https://localhost:8080/"
        },
        "id": "TmY7DHrKyU96",
        "outputId": "9fc9a7a1-14f8-4d92-d294-3aabaa13d16f"
      },
      "execution_count": null,
      "outputs": [
        {
          "output_type": "execute_result",
          "data": {
            "text/plain": [
              "3"
            ]
          },
          "metadata": {},
          "execution_count": 23
        }
      ]
    },
    {
      "cell_type": "code",
      "source": [
        "#################################################################\n",
        "# 실습\n",
        "#################################################################\n",
        "\n",
        "# 시급 2만원, 1일 근무시간 다섯 시간, 주 4일 화수목금 근무 조건에서\n",
        "# 이번달 받을 수 있는 급여를 계산하는 코드를 작성하기\n",
        "# 단 시급, 1일 근무시간, 주 근무일수를 변수로 만들어 작성\n",
        "시급 = 20000\n",
        "근무시간 = 5\n",
        "주1 = 3\n",
        "주2 = 4\n",
        "주3 = 4\n",
        "주4 = 4\n",
        "주5 = 1\n",
        "총근무수 = (주1+주2+주3+주4+주5)\n",
        "print(시급 * 근무시간 * 총근무수)"
      ],
      "metadata": {
        "colab": {
          "base_uri": "https://localhost:8080/"
        },
        "id": "AfQ55Dkn2Wpc",
        "outputId": "741899a9-5162-49b0-fff2-3bf8e4c3357c"
      },
      "execution_count": null,
      "outputs": [
        {
          "output_type": "stream",
          "name": "stdout",
          "text": [
            "1600000\n"
          ]
        }
      ]
    },
    {
      "cell_type": "markdown",
      "source": [
        "### 피연산자에 대해 다른 동작\n",
        "\n",
        "- 숫자에는 상식적으로 작동하지만 다른 자료형에 대해서는 특별히 정의된 방식으로 작동"
      ],
      "metadata": {
        "id": "HbqmAKid5hky"
      }
    },
    {
      "cell_type": "code",
      "source": [
        "# 덧셈\n",
        "s1 = 'Hello'\n",
        "s2 = \"World\"\n",
        "\n",
        "s1+s2"
      ],
      "metadata": {
        "colab": {
          "base_uri": "https://localhost:8080/",
          "height": 36
        },
        "id": "wKOk7DWd5pFV",
        "outputId": "a2d249aa-f627-43f7-ac67-77e29fe5c359"
      },
      "execution_count": null,
      "outputs": [
        {
          "output_type": "execute_result",
          "data": {
            "text/plain": [
              "'HelloWorld'"
            ],
            "application/vnd.google.colaboratory.intrinsic+json": {
              "type": "string"
            }
          },
          "metadata": {},
          "execution_count": 39
        }
      ]
    },
    {
      "cell_type": "code",
      "source": [
        "# 곱셈\n",
        "s1 * 3 + s2"
      ],
      "metadata": {
        "colab": {
          "base_uri": "https://localhost:8080/",
          "height": 36
        },
        "id": "LbOoWyrn5o_a",
        "outputId": "f2ff1cad-0579-4ae5-dd9e-e7a1775c6b87"
      },
      "execution_count": null,
      "outputs": [
        {
          "output_type": "execute_result",
          "data": {
            "text/plain": [
              "'HelloHelloHelloWorld'"
            ],
            "application/vnd.google.colaboratory.intrinsic+json": {
              "type": "string"
            }
          },
          "metadata": {},
          "execution_count": 40
        }
      ]
    },
    {
      "cell_type": "code",
      "source": [
        "#################################################################\n",
        "# 실습\n",
        "#################################################################\n",
        "\n",
        "# 다음과 같은 문양을 문자열의 덧셈과 곱셈을 사용해서 화면에 출력해보기\n",
        "\n",
        "# *****++++++*****\n",
        "print('*'*5+'+'*6 +'*'*5)"
      ],
      "metadata": {
        "colab": {
          "base_uri": "https://localhost:8080/"
        },
        "id": "jegiorVStZST",
        "outputId": "75e2b17c-5834-4d09-b056-31729e2b3434"
      },
      "execution_count": null,
      "outputs": [
        {
          "output_type": "stream",
          "name": "stdout",
          "text": [
            "*****++++++*****\n"
          ]
        }
      ]
    },
    {
      "cell_type": "markdown",
      "source": [
        "## 에러 메세지\n",
        "\n",
        "- 문법 에러: 허용 하지 않는 문법을 썼을 때 나는 에러"
      ],
      "metadata": {
        "id": "j1QhHdtD4HCb"
      }
    },
    {
      "cell_type": "code",
      "source": [
        "s = 'Hello python'\n",
        "\n",
        "for c in s:\n",
        "    print(c)\n",
        "\n",
        "print('I love python)"
      ],
      "metadata": {
        "colab": {
          "base_uri": "https://localhost:8080/",
          "height": 149
        },
        "id": "pU2e2DbwrVj_",
        "outputId": "aaaa8bf7-54db-44dd-dc5f-5a1f1c8a6eee"
      },
      "execution_count": null,
      "outputs": [
        {
          "output_type": "error",
          "ename": "SyntaxError",
          "evalue": "ignored",
          "traceback": [
            "\u001b[0;36m  File \u001b[0;32m\"<ipython-input-8-f606d288fd80>\"\u001b[0;36m, line \u001b[0;32m6\u001b[0m\n\u001b[0;31m    print('I love python)\u001b[0m\n\u001b[0m          ^\u001b[0m\n\u001b[0;31mSyntaxError\u001b[0m\u001b[0;31m:\u001b[0m unterminated string literal (detected at line 6)\n"
          ]
        }
      ]
    },
    {
      "cell_type": "markdown",
      "source": [
        "- 들여쓰기 에러\n"
      ],
      "metadata": {
        "id": "Cnlj7ysT5At7"
      }
    },
    {
      "cell_type": "code",
      "source": [
        "foo = 10\n",
        " bar = 20\n",
        "egg = 30\n",
        "\n",
        "\n"
      ],
      "metadata": {
        "colab": {
          "base_uri": "https://localhost:8080/",
          "height": 149
        },
        "id": "lCdTcvAk42fF",
        "outputId": "bf4c6d3f-a3cd-419c-d4f7-e9bbfac3d147"
      },
      "execution_count": null,
      "outputs": [
        {
          "output_type": "error",
          "ename": "IndentationError",
          "evalue": "ignored",
          "traceback": [
            "\u001b[0;36m  File \u001b[0;32m\"<ipython-input-9-bd83ff8dd3df>\"\u001b[0;36m, line \u001b[0;32m2\u001b[0m\n\u001b[0;31m    bar = 20\u001b[0m\n\u001b[0m    ^\u001b[0m\n\u001b[0;31mIndentationError\u001b[0m\u001b[0;31m:\u001b[0m unexpected indent\n"
          ]
        }
      ]
    },
    {
      "cell_type": "markdown",
      "source": [
        "- 이름 에러: 변수 선언 안된 에러"
      ],
      "metadata": {
        "id": "oJ2IQgeN4hgS"
      }
    },
    {
      "cell_type": "code",
      "source": [
        "print(FOO)"
      ],
      "metadata": {
        "colab": {
          "base_uri": "https://localhost:8080/",
          "height": 187
        },
        "id": "mZyRksj942hC",
        "outputId": "80f56f0f-9646-40f8-b387-de8a1c49ef04"
      },
      "execution_count": null,
      "outputs": [
        {
          "output_type": "error",
          "ename": "NameError",
          "evalue": "ignored",
          "traceback": [
            "\u001b[0;31m---------------------------------------------------------------------------\u001b[0m",
            "\u001b[0;31mNameError\u001b[0m                                 Traceback (most recent call last)",
            "\u001b[0;32m<ipython-input-10-58d5a8c75fc7>\u001b[0m in \u001b[0;36m<cell line: 1>\u001b[0;34m()\u001b[0m\n\u001b[0;32m----> 1\u001b[0;31m \u001b[0mprint\u001b[0m\u001b[0;34m(\u001b[0m\u001b[0mFOO\u001b[0m\u001b[0;34m)\u001b[0m\u001b[0;34m\u001b[0m\u001b[0;34m\u001b[0m\u001b[0m\n\u001b[0m",
            "\u001b[0;31mNameError\u001b[0m: name 'FOO' is not defined"
          ]
        }
      ]
    },
    {
      "cell_type": "code",
      "source": [
        "#################################################################\n",
        "# 실습\n",
        "#################################################################\n",
        "\n",
        "# 다음 코드는 에러를 가지고 있는 코드\n",
        "# 실행후 에러 메세지를 확인하여 에러를 수정해보기\n",
        "\n",
        "composer1 = 'Beethoven'\n",
        "composer2 = 'Bach'\n",
        "\n",
        "\n",
        "print(f\"I love {composer1}'s Symphony No.3 'Eroica'.\")\n",
        "print(f\"I love {composer2}'s Goldberg Variation.\")\n",
        "# print(f\"I love {composer3}'s Die Zauberflöte\")"
      ],
      "metadata": {
        "colab": {
          "base_uri": "https://localhost:8080/"
        },
        "id": "grNVMcxbt8r2",
        "outputId": "2b774367-f20b-41de-9cf7-0d5442d7f256"
      },
      "execution_count": null,
      "outputs": [
        {
          "output_type": "stream",
          "name": "stdout",
          "text": [
            "I love Beethoven's Symphony No.3 'Eroica'.\n",
            "I love Bach's Goldberg Variation.\n"
          ]
        }
      ]
    },
    {
      "cell_type": "markdown",
      "source": [
        "## 비교 연산자"
      ],
      "metadata": {
        "id": "gWayUtsTNw0T"
      }
    },
    {
      "cell_type": "code",
      "source": [
        "a = 10\n",
        "\n",
        "print(a == 4) # 같다\n",
        "print(a != 4) # 다르다\n",
        "print(a > 4) # 크다\n",
        "print(a >= 4) # 크거나 같다\n",
        "print(a < 4) # 작다\n",
        "print(a <= 4) # 작거나 같다\n"
      ],
      "metadata": {
        "colab": {
          "base_uri": "https://localhost:8080/"
        },
        "id": "VT8SFArBNyha",
        "outputId": "ccfcffaa-1bef-46b1-af63-37c9f24d00fb"
      },
      "execution_count": null,
      "outputs": [
        {
          "output_type": "stream",
          "name": "stdout",
          "text": [
            "False\n",
            "True\n",
            "True\n",
            "True\n",
            "False\n",
            "False\n"
          ]
        }
      ]
    },
    {
      "cell_type": "markdown",
      "source": [
        "## 논리 연산자"
      ],
      "metadata": {
        "id": "RyYyyevFPDBh"
      }
    },
    {
      "cell_type": "code",
      "source": [
        "t = True\n",
        "f = False\n",
        "\n",
        "print(t and f)\n",
        "print(t or f)\n",
        "print(not t)"
      ],
      "metadata": {
        "colab": {
          "base_uri": "https://localhost:8080/"
        },
        "id": "2jcmqOjyPK3x",
        "outputId": "c96d890e-17ef-46c2-fffa-cdda083f813a"
      },
      "execution_count": null,
      "outputs": [
        {
          "output_type": "stream",
          "name": "stdout",
          "text": [
            "False\n",
            "True\n",
            "False\n"
          ]
        }
      ]
    },
    {
      "cell_type": "markdown",
      "source": [
        "- 각 연산자의 결과는 괄호로 묶어서 여러개 연결 가능\n"
      ],
      "metadata": {
        "id": "iUwJyAwAP3pf"
      }
    },
    {
      "cell_type": "code",
      "source": [
        "a = 11\n",
        "\n",
        "(a < 50) and (a > 10)"
      ],
      "metadata": {
        "colab": {
          "base_uri": "https://localhost:8080/"
        },
        "id": "Eh1jnI3sP7CA",
        "outputId": "085df721-3786-425f-8688-0e695397fd08"
      },
      "execution_count": null,
      "outputs": [
        {
          "output_type": "execute_result",
          "data": {
            "text/plain": [
              "True"
            ]
          },
          "metadata": {},
          "execution_count": 41
        }
      ]
    },
    {
      "cell_type": "markdown",
      "source": [
        "## 코드 구조: 조건문 -  if else"
      ],
      "metadata": {
        "id": "IMMJDIKgNpQR"
      }
    },
    {
      "cell_type": "markdown",
      "source": [
        "- 참, 거짓을 판단할 수 있는 표현에 따라 실행할 코드 블록을 결정하는 것\n",
        "\n",
        "```python\n",
        "if condition 1:\n",
        "    codes...\n",
        "elif condition 2:\n",
        "    codes...\n",
        "else:\n",
        "    codes...\n",
        "\n",
        "```\n",
        "\n",
        "- 실행할 문장이 없다면 `elif`, `else`는 생략 가능"
      ],
      "metadata": {
        "id": "l8PtuHMYOI6S"
      }
    },
    {
      "cell_type": "code",
      "source": [
        "a = -3\n",
        "\n",
        "if a > 0:\n",
        "    print('positive')\n",
        "elif a < 0:\n",
        "    print('negative')\n",
        "else:\n",
        "    print('zero')"
      ],
      "metadata": {
        "colab": {
          "base_uri": "https://localhost:8080/"
        },
        "id": "clayQOnyQTEA",
        "outputId": "042d7a50-d2c0-4f57-eec5-5e9e639b1736"
      },
      "execution_count": null,
      "outputs": [
        {
          "output_type": "stream",
          "name": "stdout",
          "text": [
            "negative\n"
          ]
        }
      ]
    },
    {
      "cell_type": "markdown",
      "source": [
        "- `elif`와 `else`는 필수 아님"
      ],
      "metadata": {
        "id": "42C-5Z3d03KB"
      }
    },
    {
      "cell_type": "code",
      "source": [
        "if a > 0:\n",
        "    print('positive')"
      ],
      "metadata": {
        "id": "vHbQUvZ1Qguj"
      },
      "execution_count": null,
      "outputs": []
    },
    {
      "cell_type": "markdown",
      "source": [
        "- `input()` 연습"
      ],
      "metadata": {
        "id": "0pvpYz512UjJ"
      }
    },
    {
      "cell_type": "code",
      "source": [
        "a = input()\n",
        "a"
      ],
      "metadata": {
        "id": "uLkAoQQ22YVy",
        "colab": {
          "base_uri": "https://localhost:8080/",
          "height": 54
        },
        "outputId": "02e6a097-89cd-4969-f21e-03225b83eae2"
      },
      "execution_count": null,
      "outputs": [
        {
          "name": "stdout",
          "output_type": "stream",
          "text": [
            "10\n"
          ]
        },
        {
          "output_type": "execute_result",
          "data": {
            "text/plain": [
              "'10'"
            ],
            "application/vnd.google.colaboratory.intrinsic+json": {
              "type": "string"
            }
          },
          "metadata": {},
          "execution_count": 48
        }
      ]
    },
    {
      "cell_type": "code",
      "source": [
        "#################################################################\n",
        "# 실습\n",
        "#################################################################\n",
        "\n",
        "# 로그인 로직 만들기\n",
        "# input()을 이용하여 일당을 입력받고\n",
        "# 일당에 따라 저녁메뉴를 추천하기\n",
        "# 일당이 10만원 이상이면 스테이크 출력\n",
        "# 일당이 5만원 이상이면 탕수육 출력\n",
        "# 일당이 1만원 이상이면 비빔밥 출력\n",
        "# 1만원 미만이면 라면 출력\n",
        "money = int(input())\n",
        "\n",
        "if money >= 100000:\n",
        "    print('스테이크')\n",
        "elif money >= 50000:\n",
        "    print('탕수육')\n",
        "elif money >= 10000:\n",
        "    print('비빔밥')\n",
        "else:\n",
        "    print('라면')\n"
      ],
      "metadata": {
        "colab": {
          "base_uri": "https://localhost:8080/"
        },
        "id": "RjlKttVBpLS2",
        "outputId": "fc704405-3e1c-4726-e967-e792edfb400a"
      },
      "execution_count": null,
      "outputs": [
        {
          "output_type": "stream",
          "name": "stdout",
          "text": [
            "150000\n",
            "스테이크\n"
          ]
        }
      ]
    },
    {
      "cell_type": "markdown",
      "source": [
        "### if-else 구조가 만드는 프로그램 오작동"
      ],
      "metadata": {
        "id": "BmPszkSPVX_z"
      }
    },
    {
      "cell_type": "code",
      "source": [
        "money = int(input())\n",
        "\n",
        "if money >= 100000:\n",
        "    print('스테이크')\n",
        "if money >= 50000:\n",
        "    print('탕수육')\n",
        "elif money >= 10000:\n",
        "    print('비빔밥')\n",
        "else:\n",
        "    print('라면')"
      ],
      "metadata": {
        "colab": {
          "base_uri": "https://localhost:8080/"
        },
        "id": "7kxX6Hta73-p",
        "outputId": "5d0168c5-b0d8-49c8-9cf8-f46b5acc1fdd"
      },
      "execution_count": null,
      "outputs": [
        {
          "output_type": "stream",
          "name": "stdout",
          "text": [
            "150000\n",
            "스테이크\n",
            "탕수육\n"
          ]
        }
      ]
    },
    {
      "cell_type": "markdown",
      "source": [
        "## 코드구조: 반복문 - while\n",
        "\n",
        "- 특정 조건이 참일 경우 계속해서 블록의 명령문들을 반복하여 실행하는 구문\n",
        "\n",
        "\n",
        "```python\n",
        "while condition1:\n",
        "    codes...\n",
        "\n",
        "    [break]\n",
        "```"
      ],
      "metadata": {
        "id": "Jl0UlDIJSwVQ"
      }
    },
    {
      "cell_type": "code",
      "source": [
        "i = 0\n",
        "\n",
        "while i < 10:\n",
        "    print(i)\n",
        "\n",
        "    i += 1"
      ],
      "metadata": {
        "colab": {
          "base_uri": "https://localhost:8080/"
        },
        "id": "ZjdszCeDQPhf",
        "outputId": "b50c377e-3a2e-49ae-edb9-72f176319abb"
      },
      "execution_count": null,
      "outputs": [
        {
          "output_type": "stream",
          "name": "stdout",
          "text": [
            "0\n",
            "1\n",
            "2\n",
            "3\n",
            "4\n",
            "5\n",
            "6\n",
            "7\n",
            "8\n",
            "9\n"
          ]
        }
      ]
    },
    {
      "cell_type": "markdown",
      "source": [
        "### break\n",
        "\n",
        "- 반복문 안에서 `break`를 만나면 반복문 중단"
      ],
      "metadata": {
        "id": "DFQiaOls4Fy_"
      }
    },
    {
      "cell_type": "code",
      "source": [
        "i = 0\n",
        "\n",
        "while i <10:\n",
        "    print(i)\n",
        "\n",
        "    if i == 5:\n",
        "        break\n",
        "    i += 1"
      ],
      "metadata": {
        "id": "G8cDTVgv4H1D",
        "colab": {
          "base_uri": "https://localhost:8080/"
        },
        "outputId": "6d985e1c-4531-49e7-9fc1-5cae43a990eb"
      },
      "execution_count": null,
      "outputs": [
        {
          "output_type": "stream",
          "name": "stdout",
          "text": [
            "0\n",
            "1\n",
            "2\n",
            "3\n",
            "4\n",
            "5\n"
          ]
        }
      ]
    },
    {
      "cell_type": "code",
      "source": [
        "#################################################################\n",
        "# 실습\n",
        "#################################################################\n",
        "\n",
        "# 100보다 작은 3의 배수를 출력하기\n",
        "n = 0\n",
        "\n",
        "while n < 99:\n",
        "    n += 3\n",
        "    print(n)"
      ],
      "metadata": {
        "colab": {
          "base_uri": "https://localhost:8080/"
        },
        "id": "J7jT6KcOnIBd",
        "outputId": "d6fd883b-95de-4e94-eaca-c9ac7904138f"
      },
      "execution_count": null,
      "outputs": [
        {
          "output_type": "stream",
          "name": "stdout",
          "text": [
            "3\n",
            "6\n",
            "9\n",
            "12\n",
            "15\n",
            "18\n",
            "21\n",
            "24\n",
            "27\n",
            "30\n",
            "33\n",
            "36\n",
            "39\n",
            "42\n",
            "45\n",
            "48\n",
            "51\n",
            "54\n",
            "57\n",
            "60\n",
            "63\n",
            "66\n",
            "69\n",
            "72\n",
            "75\n",
            "78\n",
            "81\n",
            "84\n",
            "87\n",
            "90\n",
            "93\n",
            "96\n",
            "99\n"
          ]
        }
      ]
    },
    {
      "cell_type": "code",
      "source": [
        "#################################################################\n",
        "# 실습\n",
        "#################################################################\n",
        "\n",
        "# 구구단 테이블 출력\n",
        "# 5 x 1 = 5\n",
        "# 5 x 2 = 5\n",
        "# 5 x 3 = 5\n",
        "# 5 x 4 = 5\n",
        "# 5 x 5 = 5\n",
        "# 5 x 6 = 5\n",
        "# 5 x 7 = 5\n",
        "# 5 x 8 = 5\n",
        "# 5 x 9 = 5\n",
        "\n",
        "n = int(input(\"몇단 출력? \"))\n",
        "\n",
        "i = 1\n",
        "\n",
        "while i <10:\n",
        "    print(n, 'X', i, '=', n*i)\n",
        "    # print(f'{n} X {i} = {n*i}')\n",
        "    i += 1"
      ],
      "metadata": {
        "id": "zsATW4hmxjin",
        "colab": {
          "base_uri": "https://localhost:8080/"
        },
        "outputId": "68476c2c-66a5-4825-eef2-20184adc118a"
      },
      "execution_count": null,
      "outputs": [
        {
          "output_type": "stream",
          "name": "stdout",
          "text": [
            "몇단 출력? 5\n",
            "5 X 1 = 5\n",
            "5 X 2 = 10\n",
            "5 X 3 = 15\n",
            "5 X 4 = 20\n",
            "5 X 5 = 25\n",
            "5 X 6 = 30\n",
            "5 X 7 = 35\n",
            "5 X 8 = 40\n",
            "5 X 9 = 45\n"
          ]
        }
      ]
    },
    {
      "cell_type": "markdown",
      "source": [
        "## 코드구조: 반복문 - for\n",
        "\n",
        "\n",
        "```python\n",
        "for var in sequence:\n",
        "    codes...\n",
        "```"
      ],
      "metadata": {
        "id": "BK4TxoZXS3T2"
      }
    },
    {
      "cell_type": "markdown",
      "source": [
        "- `range(반복횟수)`를 사용한 반복"
      ],
      "metadata": {
        "id": "DVqL5JI6L-pw"
      }
    },
    {
      "cell_type": "code",
      "source": [
        "# range [+]\n",
        "for q in range(5): # -> for q in [0, 1, 2, 3, 4]\n",
        "    print(q,\"python\")"
      ],
      "metadata": {
        "colab": {
          "base_uri": "https://localhost:8080/"
        },
        "id": "nTSlztNjt1Kq",
        "outputId": "90d0bf62-f613-4733-ef96-a2539a8a3ba1"
      },
      "execution_count": null,
      "outputs": [
        {
          "output_type": "stream",
          "name": "stdout",
          "text": [
            "0 python\n",
            "1 python\n",
            "2 python\n",
            "3 python\n",
            "4 python\n"
          ]
        }
      ]
    },
    {
      "cell_type": "code",
      "source": [
        "#################################################################\n",
        "# 실습\n",
        "#################################################################\n",
        "\n",
        "# for를 사용하여 다음과 같은 문양을 출력하기\n",
        "# *****\n",
        "\n",
        "for i in range(5):\n",
        "    print(\"*\", end=\"\") # 기본값 : end = /n"
      ],
      "metadata": {
        "id": "HaIM3q2lMyUG",
        "colab": {
          "base_uri": "https://localhost:8080/"
        },
        "outputId": "a11f980c-b2b3-4182-d5b1-bbc651c7db47"
      },
      "execution_count": null,
      "outputs": [
        {
          "output_type": "stream",
          "name": "stdout",
          "text": [
            "*****"
          ]
        }
      ]
    },
    {
      "cell_type": "code",
      "source": [
        "# 중첩된 for [+]\n",
        "for i in range(2):\n",
        "    for j in range(2):\n",
        "        print(i,j)"
      ],
      "metadata": {
        "colab": {
          "base_uri": "https://localhost:8080/"
        },
        "id": "IJmy9LBBuhh3",
        "outputId": "26745b3c-44b5-497f-e96b-6e12bb17cfb9"
      },
      "execution_count": null,
      "outputs": [
        {
          "output_type": "stream",
          "name": "stdout",
          "text": [
            "0 0\n",
            "0 1\n",
            "1 0\n",
            "1 1\n"
          ]
        }
      ]
    },
    {
      "cell_type": "code",
      "source": [
        "#################################################################\n",
        "# 실습\n",
        "#################################################################\n",
        "\n",
        "# 중첩된 for를 사용하여 다음과 같은 문양을 출력하기\n",
        "# *****\n",
        "# *****\n",
        "# *****\n",
        "# *****\n",
        "# *****\n",
        "\n",
        "for i in range(5):\n",
        "    for j in range(5):\n",
        "        print('*',end = \"\")\n",
        "    print() # /n\n"
      ],
      "metadata": {
        "id": "qgpK1yhS8zDI",
        "colab": {
          "base_uri": "https://localhost:8080/"
        },
        "outputId": "968f8485-480a-4ae6-d952-a30418effcb6"
      },
      "execution_count": null,
      "outputs": [
        {
          "output_type": "stream",
          "name": "stdout",
          "text": [
            "*****\n",
            "*****\n",
            "*****\n",
            "*****\n",
            "*****\n"
          ]
        }
      ]
    },
    {
      "cell_type": "code",
      "source": [
        "#################################################################\n",
        "# 실습\n",
        "#################################################################\n",
        "\n",
        "# *\n",
        "# **\n",
        "# ***\n",
        "# ****\n",
        "# *****\n",
        "for i in range(5):\n",
        "    for j in range(i+1):\n",
        "        print(\"*\", end=\"\")\n",
        "    print()\n",
        "\n",
        "# # for 문만 사용함\n",
        "# for i in range(5):\n",
        "#     print('*' * (i+1))"
      ],
      "metadata": {
        "id": "OnjNJlZvxJK_",
        "colab": {
          "base_uri": "https://localhost:8080/"
        },
        "outputId": "42b30e04-f031-4f53-e8e9-e6fdbbb6fe58"
      },
      "execution_count": null,
      "outputs": [
        {
          "output_type": "stream",
          "name": "stdout",
          "text": [
            "*\n",
            "**\n",
            "***\n",
            "****\n",
            "*****\n"
          ]
        }
      ]
    },
    {
      "cell_type": "code",
      "source": [
        "#################################################################\n",
        "# 실습\n",
        "#################################################################\n",
        "\n",
        "# *****\n",
        "# ****\n",
        "# ***\n",
        "# **\n",
        "# *\n",
        "\n",
        "for i in range(5):\n",
        "    for j in range(5-i):\n",
        "        print(\"*\", end=\"\")\n",
        "    print()\n",
        "\n",
        "# # for 문만 사용함\n",
        "# for i in range(5):\n",
        "#     print('*' * (5-i))"
      ],
      "metadata": {
        "id": "iB3cbyUVxKcq",
        "colab": {
          "base_uri": "https://localhost:8080/"
        },
        "outputId": "a7102f74-64d2-41dd-b1df-ecf4e858632a"
      },
      "execution_count": null,
      "outputs": [
        {
          "output_type": "stream",
          "name": "stdout",
          "text": [
            "*****\n",
            "****\n",
            "***\n",
            "**\n",
            "*\n"
          ]
        }
      ]
    },
    {
      "cell_type": "code",
      "source": [
        "#################################################################\n",
        "# 실습\n",
        "#################################################################\n",
        "\n",
        "#    *\n",
        "#   ***\n",
        "#  *****\n",
        "# *******\n",
        "#*********\n",
        "\n",
        "for i in range(5):\n",
        "    for j in range(5-i):\n",
        "        print(' ', end = '')\n",
        "    print('*'*(i*2)+'*')\n",
        "\n",
        "# # for 문만 사용함\n",
        "# for i in range(5):\n",
        "#     print((5-i)*\" \",'*'*((i*2)+1))"
      ],
      "metadata": {
        "id": "3bZbF14UxPu8",
        "colab": {
          "base_uri": "https://localhost:8080/"
        },
        "outputId": "b5f0ddcd-a440-4f78-95ce-de447b73aebf"
      },
      "execution_count": null,
      "outputs": [
        {
          "output_type": "stream",
          "name": "stdout",
          "text": [
            "     *\n",
            "    ***\n",
            "   *****\n",
            "  *******\n",
            " *********\n"
          ]
        }
      ]
    },
    {
      "cell_type": "markdown",
      "source": [
        "## 자료구조Containers\n",
        "\n",
        "- 앞서 배운 개별 변수를 모아서 관리하는 도구\n",
        "\n",
        "- 여러 개 값들이 열거되어 저장되므로 시퀀스sequence형 자료라고도 함\n",
        "\n",
        "- 대표적으로 아래와 같은 컨테이너가 있음\n",
        "    - 리스트list\n",
        "    - 사전dict\n"
      ],
      "metadata": {
        "id": "UGwWotyE5cyC"
      }
    },
    {
      "cell_type": "markdown",
      "source": [
        "### 리스트\n",
        "\n",
        "- 여러 변수를 []로 둘러 감싸 변수 하나로 관리\n",
        "\n",
        "- 내부 원소를 바꾸거나 추가, 삭제 할 수 있음"
      ],
      "metadata": {
        "id": "Y87my5mxCLAm"
      }
    },
    {
      "cell_type": "markdown",
      "source": [
        "#### 기본 사항"
      ],
      "metadata": {
        "id": "mXopyoSZzASf"
      }
    },
    {
      "cell_type": "markdown",
      "source": [
        "- 리스트 만들기"
      ],
      "metadata": {
        "id": "R9efFl2Oyx2x"
      }
    },
    {
      "cell_type": "code",
      "source": [
        "# 리스트 만들기\n",
        "L = [1, 2, 3, 4, 5, 6, 7, 8, 'python', True, False]\n",
        "L, type(L)\n",
        "\n",
        "# [참고] 빈리스트\n",
        "empty = []\n",
        "empty"
      ],
      "metadata": {
        "colab": {
          "base_uri": "https://localhost:8080/"
        },
        "id": "cvj9_N8442YD",
        "outputId": "45a575ac-e3e0-4bb2-c32c-12698b3e440f"
      },
      "execution_count": null,
      "outputs": [
        {
          "output_type": "execute_result",
          "data": {
            "text/plain": [
              "[]"
            ]
          },
          "metadata": {},
          "execution_count": 107
        }
      ]
    },
    {
      "cell_type": "markdown",
      "source": [
        "- 리스트의 길이"
      ],
      "metadata": {
        "id": "jFZoXUF8y0Sq"
      }
    },
    {
      "cell_type": "code",
      "source": [
        "# 리스트의 길이\n",
        "len(L)"
      ],
      "metadata": {
        "id": "l1WjgFE7D8vy",
        "colab": {
          "base_uri": "https://localhost:8080/"
        },
        "outputId": "d819c8a2-2b34-40ef-fbfc-cfe4c8083234"
      },
      "execution_count": null,
      "outputs": [
        {
          "output_type": "execute_result",
          "data": {
            "text/plain": [
              "11"
            ]
          },
          "metadata": {},
          "execution_count": 108
        }
      ]
    },
    {
      "cell_type": "markdown",
      "source": [
        "- 인덱싱"
      ],
      "metadata": {
        "id": "xv0xD9kky79e"
      }
    },
    {
      "cell_type": "code",
      "source": [
        "L[8]"
      ],
      "metadata": {
        "id": "_F8DNMw2y9YG",
        "colab": {
          "base_uri": "https://localhost:8080/",
          "height": 36
        },
        "outputId": "1ca36f2b-6ba9-4efc-9f5b-6231f1730335"
      },
      "execution_count": null,
      "outputs": [
        {
          "output_type": "execute_result",
          "data": {
            "text/plain": [
              "'python'"
            ],
            "application/vnd.google.colaboratory.intrinsic+json": {
              "type": "string"
            }
          },
          "metadata": {},
          "execution_count": 126
        }
      ]
    },
    {
      "cell_type": "code",
      "source": [
        "# [참고] 음수인덱스\n",
        "#      0    1  2  3  4  5  6  7     8       9      10\n",
        "L =   [1,   2, 3, 4, 5, 6, 7, 8, 'python', True, False]\n",
        "#     -11 -10 -9 -8 -7 -6 -5 -4    -3      -2      -1\n",
        "\n",
        "L[-3], L[8]"
      ],
      "metadata": {
        "colab": {
          "base_uri": "https://localhost:8080/"
        },
        "id": "LLPeklGEFaya",
        "outputId": "7d66a9bf-80d7-4aab-92ac-3e9e4e1fd0da"
      },
      "execution_count": null,
      "outputs": [
        {
          "output_type": "execute_result",
          "data": {
            "text/plain": [
              "('python', 'python')"
            ]
          },
          "metadata": {},
          "execution_count": 127
        }
      ]
    },
    {
      "cell_type": "code",
      "source": [
        "# 인덱싱으로 값 수정\n",
        "L[8] = \"PYTHON\"\n",
        "L"
      ],
      "metadata": {
        "colab": {
          "base_uri": "https://localhost:8080/"
        },
        "id": "_ZqlRoOERQBb",
        "outputId": "82e43a45-5d64-4543-942f-6e6ac0ff495f"
      },
      "execution_count": null,
      "outputs": [
        {
          "output_type": "execute_result",
          "data": {
            "text/plain": [
              "[1, 2, 3, 4, 5, 6, 7, 8, 'PYTHON', True, False]"
            ]
          },
          "metadata": {},
          "execution_count": 129
        }
      ]
    },
    {
      "cell_type": "markdown",
      "source": [
        "- 원소 추가"
      ],
      "metadata": {
        "id": "pWVIektiFYGg"
      }
    },
    {
      "cell_type": "code",
      "source": [
        "L.append(100) # L.하고 기다리면 연계된 것들 확인 가능\n",
        "L"
      ],
      "metadata": {
        "colab": {
          "base_uri": "https://localhost:8080/"
        },
        "id": "84N8r8JbRnwD",
        "outputId": "027fd533-f8d0-4b73-ed10-c13b1578c330"
      },
      "execution_count": null,
      "outputs": [
        {
          "output_type": "execute_result",
          "data": {
            "text/plain": [
              "[1, 2, 3, 4, 5, 6, 7, 8, 'PYTHON', True, False, 100, 100]"
            ]
          },
          "metadata": {},
          "execution_count": 131
        }
      ]
    },
    {
      "cell_type": "code",
      "source": [
        "lotto = []\n",
        "\n",
        "\n",
        "lotto.append(45)\n",
        "lotto.append(3)\n",
        "lotto.append(12)\n",
        "lotto.append(37)\n",
        "lotto.append(23)\n",
        "lotto.append(10)\n",
        "\n",
        "lotto"
      ],
      "metadata": {
        "colab": {
          "base_uri": "https://localhost:8080/"
        },
        "id": "6NW5IccIS29w",
        "outputId": "1a620c03-18b2-498a-cce8-b0f2b3237734"
      },
      "execution_count": null,
      "outputs": [
        {
          "output_type": "execute_result",
          "data": {
            "text/plain": [
              "[45, 3, 12, 37, 23, 10]"
            ]
          },
          "metadata": {},
          "execution_count": 133
        }
      ]
    },
    {
      "cell_type": "code",
      "source": [
        "import random"
      ],
      "metadata": {
        "id": "3RJiw339S8Dj"
      },
      "execution_count": null,
      "outputs": []
    },
    {
      "cell_type": "code",
      "source": [
        "random.randrange(1, 46)"
      ],
      "metadata": {
        "colab": {
          "base_uri": "https://localhost:8080/"
        },
        "id": "FtN5xSLkS6Ge",
        "outputId": "5b2236d9-c644-4f1a-925d-7192107e329f"
      },
      "execution_count": null,
      "outputs": [
        {
          "output_type": "execute_result",
          "data": {
            "text/plain": [
              "2"
            ]
          },
          "metadata": {},
          "execution_count": 135
        }
      ]
    },
    {
      "cell_type": "code",
      "source": [
        "# 멤버쉽 연산자, in, not in\n",
        "print(10 in [1,2,3,4,5])\n",
        "\n",
        "print(10 not in [1,2,3,4,5])"
      ],
      "metadata": {
        "id": "SVICQmYiU2X7"
      },
      "execution_count": null,
      "outputs": []
    },
    {
      "cell_type": "code",
      "source": [
        "#################################################################\n",
        "# 실습\n",
        "#################################################################\n",
        "\n",
        "# 다음 코드는 로또 번호 생성기를 구현한 코드입니다.\n",
        "# for문으로 6번 반복하면서 무작위로 숫자를 뽑아 리스트에 추가 합니다.\n",
        "# 하지만 번호가 겹치는 버그가 있습니다.\n",
        "# 버그를 해결해 보세요.\n",
        "\n",
        "import random\n",
        "\n",
        "lotto = []\n",
        "while len(lotto) < 6:\n",
        "    n = random.randrange(1, 46)\n",
        "    if n not in lotto:\n",
        "        lotto.append(n)\n",
        "\n",
        "print(lotto)"
      ],
      "metadata": {
        "colab": {
          "base_uri": "https://localhost:8080/"
        },
        "id": "Gu8ZfS7bNaW_",
        "outputId": "2395665e-31d2-4577-e641-593fe71e4a1e"
      },
      "execution_count": null,
      "outputs": [
        {
          "output_type": "stream",
          "name": "stdout",
          "text": [
            "[29, 33, 44, 13, 18, 37]\n"
          ]
        }
      ]
    },
    {
      "cell_type": "markdown",
      "source": [
        "- 중첩된 리스트"
      ],
      "metadata": {
        "id": "lDIiVdhGEQO6"
      }
    },
    {
      "cell_type": "code",
      "source": [],
      "metadata": {
        "colab": {
          "base_uri": "https://localhost:8080/"
        },
        "id": "oDkzYo_jD8pS",
        "outputId": "7241551d-08e7-4903-9fd6-58da855768c7"
      },
      "execution_count": null,
      "outputs": [
        {
          "output_type": "execute_result",
          "data": {
            "text/plain": [
              "[[1, 2, 3], [4, 5, 6], [7, 8, 9]]"
            ]
          },
          "metadata": {},
          "execution_count": 59
        }
      ]
    },
    {
      "cell_type": "code",
      "source": [
        "# 중첩된 리스트에 대한 원소 접근 []를 연속해서 쓰면 됨\n"
      ],
      "metadata": {
        "colab": {
          "base_uri": "https://localhost:8080/"
        },
        "id": "XeRwiKg4D8ma",
        "outputId": "5c3be876-78d4-44f9-ad00-30bf50508de5"
      },
      "execution_count": null,
      "outputs": [
        {
          "output_type": "execute_result",
          "data": {
            "text/plain": [
              "3"
            ]
          },
          "metadata": {},
          "execution_count": 60
        }
      ]
    },
    {
      "cell_type": "code",
      "source": [
        "#################################################################\n",
        "# 실습\n",
        "#################################################################\n",
        "\n",
        "# 빈 리스트로 부터 아래와 같은 리스트의 리스트를\n",
        "# for 문 두개를 중첩 사용해서 만드세요.\n",
        "\n",
        "# L = [[1,2,3],\n",
        "#      [4,5,6],\n",
        "#      [7,8,9]]\n",
        "\n",
        "L = []\n",
        "\n"
      ],
      "metadata": {
        "id": "QfaHogszMSMO"
      },
      "execution_count": null,
      "outputs": []
    },
    {
      "cell_type": "markdown",
      "source": [
        "- 연산자 작용"
      ],
      "metadata": {
        "id": "Y_bYjXsVFJD8"
      }
    },
    {
      "cell_type": "code",
      "source": [
        "L1 = [1, 2, 3]\n",
        "L2 = [4, 5, 6]\n",
        "\n",
        "L1 + L2"
      ],
      "metadata": {
        "colab": {
          "base_uri": "https://localhost:8080/"
        },
        "id": "NUbgOq9tFMWQ",
        "outputId": "11fec3ce-0305-4e3d-840f-08c70860de82"
      },
      "execution_count": null,
      "outputs": [
        {
          "output_type": "execute_result",
          "data": {
            "text/plain": [
              "[1, 2, 3, 4, 5, 6]"
            ]
          },
          "metadata": {},
          "execution_count": 21
        }
      ]
    },
    {
      "cell_type": "code",
      "source": [
        "L1 * 3"
      ],
      "metadata": {
        "colab": {
          "base_uri": "https://localhost:8080/"
        },
        "id": "G5aIqmRNx98Q",
        "outputId": "9269eb6d-7a4e-4619-ff72-35bfad5aa520"
      },
      "execution_count": null,
      "outputs": [
        {
          "output_type": "execute_result",
          "data": {
            "text/plain": [
              "[1, 2, 3, 1, 2, 3, 1, 2, 3]"
            ]
          },
          "metadata": {},
          "execution_count": 22
        }
      ]
    },
    {
      "cell_type": "markdown",
      "source": [
        "#### 리스트 + for"
      ],
      "metadata": {
        "id": "BfSaQL9XdBew"
      }
    },
    {
      "cell_type": "code",
      "source": [
        "for i in [1,2,3,4,5]:\n",
        "    print(i)"
      ],
      "metadata": {
        "colab": {
          "base_uri": "https://localhost:8080/"
        },
        "id": "7qcCbT7UdGdI",
        "outputId": "dd38e1b5-15cb-486a-8264-d01c16ab9746"
      },
      "execution_count": null,
      "outputs": [
        {
          "output_type": "stream",
          "name": "stdout",
          "text": [
            "1\n",
            "2\n",
            "3\n",
            "4\n",
            "5\n"
          ]
        }
      ]
    },
    {
      "cell_type": "markdown",
      "source": [
        "#### 슬라이싱\n",
        "\n",
        "- 인덱스를 [start, end, stride] 형식으로 지정\n",
        "\n",
        "- 뒤에서 부터 시작하는 음수 인덱스도 가능"
      ],
      "metadata": {
        "id": "HgZGqy4DEguK"
      }
    },
    {
      "cell_type": "code",
      "source": [
        "#     0  1  2  3  4  5  6  7\n",
        "L = [ 1, 2, 3, 4, 5, 6, 7, 8]\n",
        "#    -8 -7 -6 -5 -4 -3 -2 -1\n",
        "\n"
      ],
      "metadata": {
        "colab": {
          "base_uri": "https://localhost:8080/"
        },
        "id": "xD55ti9xD8jp",
        "outputId": "e5766b49-b2c8-472d-989f-d2c3f8e90bc2"
      },
      "execution_count": null,
      "outputs": [
        {
          "output_type": "execute_result",
          "data": {
            "text/plain": [
              "[1, 4, 7]"
            ]
          },
          "metadata": {},
          "execution_count": 56
        }
      ]
    },
    {
      "cell_type": "code",
      "source": [
        "#################################################################\n",
        "# 실습\n",
        "#################################################################\n",
        "\n",
        "# 다음 세 학생 리스트에 국어, 영어, 수학, 과학, 사회, 역사, 기술 순으로 시험\n",
        "# 점수가 적혀 있다.\n",
        "# 수학부터 사회까지 과목 점수의 총합을 구해 total 리스트에 저장하시오.\n",
        "# 슬라이스를 적어도 한번은 사용하시오.\n",
        "\n",
        "#         국어, 영어, 수학, 과학, 사회, 역사, 기술\n",
        "jisoo  = [80,   89,   90,   88,   92,   85,   95]\n",
        "mansoo = [82,   95,   93,   80,   72,   95,   89]\n",
        "hansoo = [90,   92,   76,   88,   85,   65,   75]\n",
        "#          0     1     2     3     4     5     6\n",
        "\n",
        "\n"
      ],
      "metadata": {
        "id": "C2yVNhVhqo8D"
      },
      "execution_count": null,
      "outputs": []
    },
    {
      "cell_type": "markdown",
      "source": [
        "### 사전\n",
        "\n",
        "- 문자 그대로 사전처럼 작동하는 컨테이너\n",
        "\n",
        "- {}로 생성하고 key:value 형식으로 아이템 지정\n",
        "\n"
      ],
      "metadata": {
        "id": "xoksl9l2H6aX"
      }
    },
    {
      "cell_type": "markdown",
      "source": [
        "#### 기본 사항"
      ],
      "metadata": {
        "id": "UVQfHuPJdPgD"
      }
    },
    {
      "cell_type": "code",
      "source": [
        "# 이름을 키로 하는 이메일, 전화번호 값을 가지는 사전\n",
        "D = {\n",
        "    '한지수': ['jisoo@python.org', '010-5555-1234'],\n",
        "    '이만수': ['mansoo@python.org', '010-3333-2345'],\n",
        "    '김한수': ['hansoo@python.org', '010-2222-5678']\n",
        "}\n",
        "\n",
        "print(D)"
      ],
      "metadata": {
        "colab": {
          "base_uri": "https://localhost:8080/"
        },
        "id": "7qTPbaNDIMxX",
        "outputId": "472e94d5-ff06-4421-d1f5-46d87c246b14"
      },
      "execution_count": null,
      "outputs": [
        {
          "output_type": "stream",
          "name": "stdout",
          "text": [
            "{'한지수': ['jisoo@python.org', '010-5555-1234'], '이만수': ['mansoo@python.org', '010-3333-2345'], '김한수': ['hansoo@python.org', '010-2222-5678']}\n"
          ]
        }
      ]
    },
    {
      "cell_type": "code",
      "source": [
        "# 키 값으로 조회\n",
        "D['한지수']"
      ],
      "metadata": {
        "colab": {
          "base_uri": "https://localhost:8080/"
        },
        "id": "5DivLve5IoCe",
        "outputId": "b2757174-298b-4c16-99e6-2d1cfaa04b0a"
      },
      "execution_count": null,
      "outputs": [
        {
          "output_type": "execute_result",
          "data": {
            "text/plain": [
              "['jisoo@python.org', '010-5555-1234']"
            ]
          },
          "metadata": {},
          "execution_count": 75
        }
      ]
    },
    {
      "cell_type": "code",
      "source": [
        "# 없으면 key-error\n",
        "D['김지수']"
      ],
      "metadata": {
        "colab": {
          "base_uri": "https://localhost:8080/",
          "height": 206
        },
        "id": "ocu3CuMCIn_9",
        "outputId": "6adc9848-9f77-4696-e36f-6849eabd343e"
      },
      "execution_count": null,
      "outputs": [
        {
          "output_type": "error",
          "ename": "KeyError",
          "evalue": "ignored",
          "traceback": [
            "\u001b[0;31m---------------------------------------------------------------------------\u001b[0m",
            "\u001b[0;31mKeyError\u001b[0m                                  Traceback (most recent call last)",
            "\u001b[0;32m<ipython-input-76-d10c8026ca04>\u001b[0m in \u001b[0;36m<cell line: 2>\u001b[0;34m()\u001b[0m\n\u001b[1;32m      1\u001b[0m \u001b[0;31m# 없으면 key-error\u001b[0m\u001b[0;34m\u001b[0m\u001b[0;34m\u001b[0m\u001b[0m\n\u001b[0;32m----> 2\u001b[0;31m \u001b[0mD\u001b[0m\u001b[0;34m[\u001b[0m\u001b[0;34m'김지수'\u001b[0m\u001b[0;34m]\u001b[0m\u001b[0;34m\u001b[0m\u001b[0;34m\u001b[0m\u001b[0m\n\u001b[0m",
            "\u001b[0;31mKeyError\u001b[0m: '김지수'"
          ]
        }
      ]
    },
    {
      "cell_type": "markdown",
      "source": [
        "- get으로 안전하게 가져오기"
      ],
      "metadata": {
        "id": "izgoiuTUI2rP"
      }
    },
    {
      "cell_type": "code",
      "source": [
        "# get으로 안전하게 가져오기\n",
        "D.get('김지수', None)"
      ],
      "metadata": {
        "id": "hviACv7FIn85"
      },
      "execution_count": null,
      "outputs": []
    },
    {
      "cell_type": "markdown",
      "source": [
        "- 값추가"
      ],
      "metadata": {
        "id": "D7xtU2iJuvnS"
      }
    },
    {
      "cell_type": "code",
      "source": [
        "D['홍길동'] = ['hong@python.org', '010-1111-1234']\n",
        "\n",
        "D"
      ],
      "metadata": {
        "colab": {
          "base_uri": "https://localhost:8080/"
        },
        "id": "L3_-XFL0dvI5",
        "outputId": "491e8751-025c-4691-e9c2-5483a17e0bd8"
      },
      "execution_count": null,
      "outputs": [
        {
          "output_type": "execute_result",
          "data": {
            "text/plain": [
              "{'한지수': ['jisoo@python.org', '010-5555-1234'],\n",
              " '이만수': ['mansoo@python.org', '010-3333-2345'],\n",
              " '김한수': ['hansoo@python.org', '010-2222-5678'],\n",
              " '홍길동': ['hong@python.org', '010-1111-1234']}"
            ]
          },
          "metadata": {},
          "execution_count": 79
        }
      ]
    },
    {
      "cell_type": "markdown",
      "source": [
        "#### 사전 + for\n"
      ],
      "metadata": {
        "id": "Sg9YJBFS8khJ"
      }
    },
    {
      "cell_type": "code",
      "source": [
        "for key, value in D.items():\n",
        "    print(key, value)"
      ],
      "metadata": {
        "colab": {
          "base_uri": "https://localhost:8080/"
        },
        "id": "jUzKA2YFdXqB",
        "outputId": "210331c9-9897-4ece-e3e4-5865f4559ac2"
      },
      "execution_count": null,
      "outputs": [
        {
          "output_type": "stream",
          "name": "stdout",
          "text": [
            "한지수 ['jisoo@python.org', '010-5555-1234']\n",
            "이만수 ['mansoo@python.org', '010-3333-2345']\n",
            "김한수 ['hansoo@python.org', '010-2222-5678']\n",
            "홍길동 ['hong@python.org', '010-1111-1234']\n"
          ]
        }
      ]
    },
    {
      "cell_type": "code",
      "source": [
        "#################################################################\n",
        "# 실습\n",
        "#################################################################\n",
        "\n",
        "# 다음에 정의된 영어를 key, 한국어를 value로 하는 사전을\n",
        "# 한국어를 키, 영어를 value로 하는 사전으로 바꾸시오.\n",
        "\n",
        "# Eng2Han: 영한 사전\n",
        "#     key     value\n",
        "Eng2Han = {'book' : '책',\n",
        "     'mouse': '생쥐',\n",
        "     'make' : '만들다'\n",
        "     }\n",
        "\n",
        "# D2: 한영 사전\n",
        "Han2Eng = {}\n",
        "\n",
        "# 여기 코드를 적으세요.\n"
      ],
      "metadata": {
        "colab": {
          "base_uri": "https://localhost:8080/"
        },
        "id": "DWGkGdcl8t2g",
        "outputId": "7b5d558a-d50c-4fb2-cdd0-b1f17d216838"
      },
      "execution_count": null,
      "outputs": [
        {
          "output_type": "stream",
          "name": "stdout",
          "text": [
            "책 book\n",
            "생쥐 mouse\n",
            "만들다 make\n",
            "{'book': '책', 'mouse': '생쥐', 'make': '만들다'}\n",
            "{'책': 'book', '생쥐': 'mouse', '만들다': 'make'}\n"
          ]
        }
      ]
    },
    {
      "cell_type": "markdown",
      "source": [
        "### 알아두면 좋은 for문 사용법\n",
        "\n",
        "- for문에서 enumerate"
      ],
      "metadata": {
        "id": "5AhEytJ58XtH"
      }
    },
    {
      "cell_type": "code",
      "source": [
        "# 위 for문은 L의 요소를 하나씩 받아오므로 C언어처럼 인덱스를 함께 사용하려면\n",
        "# 다음처럼 할 수 있습니다.\n",
        "for item in enumerate(L):\n",
        "    print(item)\n",
        "\n",
        "# 이 for문에서 item은 (index, name)으로 구성된 튜플이 된다."
      ],
      "metadata": {
        "id": "_nIqP8wa8W43",
        "colab": {
          "base_uri": "https://localhost:8080/"
        },
        "outputId": "976f6d3c-8d20-4139-b58a-ee1e40c8a12c"
      },
      "execution_count": null,
      "outputs": [
        {
          "output_type": "stream",
          "name": "stdout",
          "text": [
            "(0, [1, 2, 3])\n",
            "(1, [4, 5, 6])\n",
            "(2, [7, 8, 9])\n"
          ]
        }
      ]
    },
    {
      "cell_type": "markdown",
      "source": [
        "- for문에서 zip"
      ],
      "metadata": {
        "id": "ZaLQjX8spLni"
      }
    },
    {
      "cell_type": "code",
      "source": [
        "# 두 리스트를 동시에 for문에 적용하여 함께 순환할 수 있습니다.\n",
        "# 두 리스트의 길이가 달라도 작동합니다.\n",
        "\n",
        "a = [1, 2, 3, 4]\n",
        "b = ['a', 'b']\n",
        "\n",
        "for i, j in zip(a, b):\n",
        "    print(i,j)"
      ],
      "metadata": {
        "id": "233WUT8qpKgs",
        "colab": {
          "base_uri": "https://localhost:8080/"
        },
        "outputId": "88ec4fe6-c639-4c19-e9f2-690b31068eb3"
      },
      "execution_count": null,
      "outputs": [
        {
          "output_type": "stream",
          "name": "stdout",
          "text": [
            "1 a\n",
            "2 b\n"
          ]
        }
      ]
    },
    {
      "cell_type": "markdown",
      "source": [
        "# Mini project 1: 행렬곱\n",
        "\n"
      ],
      "metadata": {
        "id": "uaa6tktJw3zV"
      }
    },
    {
      "cell_type": "code",
      "source": [
        "import pprint\n",
        "\n",
        "m1 = [[1,2,3], [4,5,6], [7,8,9]]\n",
        "m2 = [[5,3,1], [4,7,9], [3,6,9]]\n",
        "C = [[0,0,0],[0,0,0],[0,0,0]]\n",
        "\n"
      ],
      "metadata": {
        "id": "sFHw7IsuKDYT",
        "colab": {
          "base_uri": "https://localhost:8080/"
        },
        "outputId": "a2eaecca-e82e-4ffd-9e85-a1ebce65d99c"
      },
      "execution_count": null,
      "outputs": [
        {
          "output_type": "stream",
          "name": "stdout",
          "text": [
            "[[22.0, 35.0, 46.0],\n",
            " [58.0, 83.0, 103.0],\n",
            " [94.0, 131.0, 160.0]]\n"
          ]
        }
      ]
    },
    {
      "cell_type": "code",
      "source": [
        "import numpy as np\n",
        "\n",
        "np.dot(np.array(m1), np.array(m2))"
      ],
      "metadata": {
        "colab": {
          "base_uri": "https://localhost:8080/"
        },
        "id": "GvPY5OasAqGH",
        "outputId": "a91de2de-1456-4521-f125-7ef00623b11d"
      },
      "execution_count": null,
      "outputs": [
        {
          "output_type": "execute_result",
          "data": {
            "text/plain": [
              "array([[ 22,  35,  46],\n",
              "       [ 58,  83, 103],\n",
              "       [ 94, 131, 160]])"
            ]
          },
          "metadata": {},
          "execution_count": 110
        }
      ]
    },
    {
      "cell_type": "code",
      "source": [],
      "metadata": {
        "id": "WmZ7wBT1A2qZ"
      },
      "execution_count": null,
      "outputs": []
    },
    {
      "cell_type": "markdown",
      "source": [
        "## 함수\n",
        "\n",
        "- 재사용 가능한 이름이 붙여진 프로그램 조각\n",
        "\n",
        "```python\n",
        "def name([parameters]):\n",
        "    codes...\n",
        "\n",
        "    [return value]\n",
        "```"
      ],
      "metadata": {
        "id": "sfuqBIlpeORR"
      }
    },
    {
      "cell_type": "markdown",
      "source": [
        "- 입력, 반환값이 없는 함수"
      ],
      "metadata": {
        "id": "gfM-CJJbekKj"
      }
    },
    {
      "cell_type": "code",
      "source": [
        "def dummy():\n",
        "    print('I am a dummy.')"
      ],
      "metadata": {
        "id": "PwMw-XB1ePoe"
      },
      "execution_count": null,
      "outputs": []
    },
    {
      "cell_type": "markdown",
      "source": [
        "- 입력, 반환값이 있는 함수"
      ],
      "metadata": {
        "id": "68CVa0C3emlC"
      }
    },
    {
      "cell_type": "code",
      "source": [
        "def add(a, b):\n",
        "    return a + b"
      ],
      "metadata": {
        "id": "5F3zUzZmehyb"
      },
      "execution_count": null,
      "outputs": []
    },
    {
      "cell_type": "code",
      "source": [
        "#################################################################\n",
        "# 실습\n",
        "#################################################################\n",
        "\n",
        "### 함수 연습: BMI 계산\n",
        "\n",
        "# - BMI를 이용한 비만도 계산은 자신의 몸무게를 키의 제곱으로 나누는 것입니다.\n",
        "# - BMI가 18.4 이하면 저체중 ／ 18.5 ~ 22.9 사이면 정상 ／ 23.0 ~ 24.9 사이면 과체중 ／ 25.0 이상부터는 비만으로 판정합니다.\n",
        "\n",
        "# - ex) 키 170㎝에 몸무게 73kg이면, 계산식 : 73 / (1.7×1.7) = 25.26 → 과체중\n",
        "\n",
        "# - bmi 함수를 작성하세요. 입력은 키와 몸무게이며 위 설명대로 결과를\n",
        "#     - 저체중, 정상, 과체중, 비만으로 리턴하세요.\n",
        "#     - 입력받는 단위는 체중은 kg, 키는 cm를 가정합니다.\n",
        "\n"
      ],
      "metadata": {
        "id": "w9utCvViet0x"
      },
      "execution_count": null,
      "outputs": []
    },
    {
      "cell_type": "code",
      "source": [
        "bmi(166, 60)"
      ],
      "metadata": {
        "colab": {
          "base_uri": "https://localhost:8080/"
        },
        "id": "SY5HA-dTfEom",
        "outputId": "fff5ab98-b7db-479a-a91a-d852775de736"
      },
      "execution_count": null,
      "outputs": [
        {
          "output_type": "execute_result",
          "data": {
            "text/plain": [
              "('정상', 21.773842357381334)"
            ]
          },
          "metadata": {},
          "execution_count": 86
        }
      ]
    },
    {
      "cell_type": "code",
      "source": [
        "#################################################################\n",
        "# 실습\n",
        "#################################################################\n",
        "\n",
        "# 숫자로만 구성된 리스트를 전달받아 그 숫자들의 평균을 구하는 함수를 작성하세요."
      ],
      "metadata": {
        "id": "8kfrifSzfGDe"
      },
      "execution_count": null,
      "outputs": []
    },
    {
      "cell_type": "code",
      "source": [
        "#################################################################\n",
        "# 실습\n",
        "#################################################################\n",
        "\n",
        "# 숫자로만 구성된 리스트를 전달받아 그 숫자들의 표준편차를 구하는 함수를 작성하세요."
      ],
      "metadata": {
        "id": "72J-P_AyfOpF"
      },
      "execution_count": null,
      "outputs": []
    },
    {
      "cell_type": "markdown",
      "source": [
        "## 클래스\n",
        "\n",
        "- 함수와 자료를 하나의 덩어리로 묶인 것을 \"객체\"라고 함\n",
        "\n",
        "- 이 객체를 만들어 내기 위해 함수와 자료가 어떻게 묶이고 어떻게 서로 작용하는지 정의한 것\n",
        "\n",
        "- 리스트가 숫자나 문자열 같은 자료를 묶어두는 컨테이너라면 클래스는 여기에 함수까지 같이 묶어놓을 수 있다고 생각하면 쉽게 이해 가능"
      ],
      "metadata": {
        "id": "1vVHoZqUfdfH"
      }
    },
    {
      "cell_type": "code",
      "source": [
        "#############################################\n",
        "# 간단한 클래스가 있습니다.\n",
        "# 클래스는 정보와 기능을 덩어리 하나로 묶은 것으로\n",
        "# 이 클래스에는 이름, 키, 몸무게 정보와\n",
        "# 이름을 출력하는 기능, 달리기 속도를 키와 몸무게로 계산하는\n",
        "# 기능을 가지고 있습니다.\n",
        "class Person:\n",
        "    def __init__(self, n, h, w):\n",
        "        self.name = n\n",
        "        self.height = h\n",
        "        self.weight = w\n",
        "\n",
        "    def who_are_you(self):\n",
        "        print(f\"{self.name}\")\n",
        "\n",
        "    def speed(self):\n",
        "        return f\"{(self.height / self.weight)*5}km/h\""
      ],
      "metadata": {
        "id": "WF8noW92fRON"
      },
      "execution_count": null,
      "outputs": []
    },
    {
      "cell_type": "code",
      "source": [
        "p1 = Person('Tom', 170, 100)\n",
        "\n",
        "print( p1.speed() )\n",
        "p1.who_are_you()"
      ],
      "metadata": {
        "colab": {
          "base_uri": "https://localhost:8080/"
        },
        "id": "bDRgCFEtfhCO",
        "outputId": "755659ea-c745-464e-b20d-afa0d025d1a1"
      },
      "execution_count": null,
      "outputs": [
        {
          "output_type": "stream",
          "name": "stdout",
          "text": [
            "8.5km/h\n",
            "Tom\n"
          ]
        }
      ]
    },
    {
      "cell_type": "markdown",
      "source": [
        "### 클래스 구현 예제\n",
        "\n",
        "- 이런 클래스를 이용한 코딩 방식은 구체적인 대상을 프로그램으로 만들어야 할 때 그 진가가 발휘 됨"
      ],
      "metadata": {
        "id": "2rA-Is44fnKj"
      }
    },
    {
      "cell_type": "code",
      "source": [
        "# Car\n",
        "class Car:\n",
        "    def __init__(self, name, fuel_tank, fuel_eff):\n",
        "        self.name = name\n",
        "        self.fuel_tank = fuel_tank\n",
        "        self.fuel_eff = fuel_eff # 리터당 주행거리\n",
        "\n",
        "        self.remain_fuel = 0. # liters\n",
        "        self.total_distance = 0.\n",
        "\n",
        "    def get_crusing_range(self):\n",
        "        return self.remain_fuel * self.fuel_eff\n",
        "\n",
        "    def fuel(self, liter):\n",
        "        self.remain_fuel = self.remain_fuel + liter\n",
        "        print(f'연료통에 {self.remain_fuel}l 만큼 연료가 찼습니다.')\n",
        "\n",
        "    def driving(self, distance):\n",
        "        if self.remain_fuel > 0:\n",
        "            self.total_distance += distance\n",
        "\n",
        "            fuel_comsumption = distance / self.fuel_eff\n",
        "            self.remain_fuel = self.remain_fuel - fuel_comsumption\n",
        "            print(f\"전체 {self.total_distance}km만큼 주행했고 연료는 {self.remain_fuel:.3f}l 남았습니다.\")\n",
        "        else:\n",
        "            print(\"연료가 없습니다.\")\n",
        "\n",
        "    def __repr__(self):\n",
        "        return f'이 차의 이름은 {self.name}이며, 남은 연료:{self.remain_fuel}, 주행거리:{self.total_distance}'\n"
      ],
      "metadata": {
        "id": "jx5VHzX6fid8"
      },
      "execution_count": null,
      "outputs": []
    },
    {
      "cell_type": "code",
      "source": [
        "avante = Car('avante', 47, 15.4)\n",
        "\n",
        "avante.fuel(30)\n",
        "avante.driving(10)\n",
        "print(avante)\n",
        "\n",
        "avante.driving(250)\n",
        "print(avante)\n",
        "print(f\"앞으로 {avante.get_crusing_range():.3f}km 정도 더 달릴 수 있습니다.\")"
      ],
      "metadata": {
        "colab": {
          "base_uri": "https://localhost:8080/"
        },
        "id": "3Z_yx06YfpEn",
        "outputId": "f35b4db7-05e3-46ce-da1b-386a1cb09b0a"
      },
      "execution_count": null,
      "outputs": [
        {
          "output_type": "stream",
          "name": "stdout",
          "text": [
            "연료통에 30.0l 만큼 연료가 찼습니다.\n",
            "전체 10.0km만큼 주행했고 연료는 29.351l 남았습니다.\n",
            "이 차의 이름은 avante이며, 남은 연료:29.350649350649352, 주행거리:10.0\n",
            "전체 260.0km만큼 주행했고 연료는 13.117l 남았습니다.\n",
            "이 차의 이름은 avante이며, 남은 연료:13.11688311688312, 주행거리:260.0\n",
            "앞으로 202.000km 정도 더 달릴 수 있습니다.\n"
          ]
        }
      ]
    },
    {
      "cell_type": "code",
      "source": [
        "#################################################################\n",
        "# 실습\n",
        "#################################################################\n",
        "\n",
        "# 로그 함수를 클래스로 만들고 함수값을 구하는 forward() 함수와\n",
        "# 미분 계수 값을 구하는 backward() 함수를 구현하세요.\n",
        "import numpy as np\n",
        "\n"
      ],
      "metadata": {
        "id": "GGeSUYfPf8lT"
      },
      "execution_count": null,
      "outputs": []
    },
    {
      "cell_type": "code",
      "source": [
        "log = Log()\n",
        "\n",
        "print(log.forward(1))\n",
        "print(log.backward())"
      ],
      "metadata": {
        "colab": {
          "base_uri": "https://localhost:8080/"
        },
        "id": "9USn_9WsglUc",
        "outputId": "eb269e98-e557-4549-b018-6f5b3f56b96a"
      },
      "execution_count": null,
      "outputs": [
        {
          "output_type": "stream",
          "name": "stdout",
          "text": [
            "0.0\n",
            "1.0\n"
          ]
        }
      ]
    },
    {
      "cell_type": "markdown",
      "source": [
        "# Mini project 2: softmax 함수 구현\n",
        "\n",
        "- softmax 함수는 뉴럴네트워크 끝에 적용되어서 여러 클래스에 대한 분류 문제에 대한 적절한 출력을 만들어내는 함수입니다.\n",
        "\n",
        "- 아래 그림처럼 여러 숫자가 출력되었을 때 그 숫자를 모두 더해서 1이 되는 숫자들로 바꾸는 함수입니다."
      ],
      "metadata": {
        "id": "SuPrigQgfzQ0"
      }
    },
    {
      "cell_type": "markdown",
      "source": [
        "![image.png](data:image/png;base64,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)"
      ],
      "metadata": {
        "id": "ACvWPGYKf1Rs"
      }
    },
    {
      "cell_type": "markdown",
      "source": [
        "- 이번 실습에서는 이 함수를 클래스 형태로 만들어 보겠습니다.\n",
        "\n",
        "- 이 클래스에는 함수값을 구해주는 `forward()`함수와 미분계수값을 구해주는 `backward()`함수가 있어야 합니다.\n",
        "\n",
        "- 함수값과 미분계수를 구하는 식은 다음과 같습니다.\n",
        "\n",
        "- 함수값\n",
        "\n",
        "![image.png](data:image/png;base64,iVBORw0KGgoAAAANSUhEUgAAAVoAAABnCAYAAABBwoqxAAAfnklEQVR4Xu2dCexdRfXHpwmEaipLUhJISBBSIiIFSSShkV2rBSFRKFIigpousiMUbJG6sBsQRBAaChECCgKihJZ9sbEEE0m0oAGhCcoiDZhAYxNBTfr3M/zPz9Phzr0zd3m/d987kxDavrkzZ75z73fOnDnnzJRN/y3OiiFgCBgChkBnCEwxou0MW2vYEDAEDAGPgBGtvQiGgCFgCHSMgBFtxwBb84aAIWAIGNHaO2AIGAKGQMcIGNF2DLA1bwgYAoaAEa29A4ZAzxFYs2aNmzZtmvv4xz8+qSP5z3/+4+644w43d+5cN3Xq1EmVZdg6N6IdthkxeQyBBAQgteXLl7urr77arVu3zn3lK19xP/nJTxKe7K7KypUr3ZFHHulJf968ee473/mO22mnnbrrsEctG9H2aLJMVEMABJ5++mn31a9+1f3xj390W2yxhfv617/uSW369OmTChDkf/PNN7tly5a59evXe8JFrsWLF0+qXMPQuRHtMMyCyWAIJCJw9913e5LduHGj+/znP+8uv/xyN2PGjMSnB1PtnXfecd///vfdFVdc4eU8/vjjvbbNojCuxYh2XGfext07BH71q1+5Y445xqE5DoOpoArARx991B122GFeXuy2d911V9UjI/u7Ee3ITq0NbJQQeOKJJ9xpp53m/vSnP3nywja72267Df0Qv/vd77rvfe97Xs5LL73ULVmyZOhl7kJAI9ouULU2DYGWEZg1a5b77W9/6+2eTz31lNtzzz1b7qGb5tBmWRjQbjEd/P73v++N7G0iYkTbJprWliHQAQIQLETbV63w1Vdfdbvssos3IXBwd/3113eA0nA3aUQ73PNj0hkCbtGiRe6GG25wH/zgB92vf/1rt++++/YOlaOPPtrdc889btddd3WrVq1yu+++e+/G0ERgI9om6NmzQ4EA5IPN8g9/+IN7++23/X8f/vCH/an8GWec4f+sC79zch8rv/zlLyd+wl3p3nvvfV9V3JYIEOD3W265xf9Ou5SDDz7YXXXVVf7PyMTvyPiXv/zFbbvttv65E0880ctXVdauXes+97nPuddee80dfvjhnqRyCvKBDX2DA3IhX1iQHVsq9SnU48CtrfKjH/3IzwUFb4Szzz67raZ70Y4RbS+myYQsQkAIk9N4CAxi2Hnnnd2GDRschzBScC0KSeOHP/yh+8Y3vrFZs0JEmgAhSupBlFJoC6KlPr9DZEJQ1BGPAPqAvISAwzEgI+2UlUsuucR961vf8lVwmTr33HOTXwbkRgZdwAk7qV58kG+fffbxZCyFxSZlIUgVhgXjkEMOcW+99Zb/PwvGBz7wgdTHe1/PiLb3UzieA4Ac+GAhOkiDU/mQPLALCslBLmGIKuRJG1LOPPPMCU1UowqJigZcRNrU5XchW9qB0CA5/nzQQQf55oSUcwiNMUj9V155JTnSShYSNFMI8wtf+ILvn8K/IRcFfPgNLMBP+nrppZfetxNo+qbNnj3bH4pRmK8izbppH8P6vBHtsM6MyVWKgNbWYuSnCZKPmo87LLodyBGNKyyQMURUpoHqvniettAKQzIJtcdYn7TxxhtveGL997//7XbYYQf3+uuvJ78VyMzCIiYMtH4IlQLxinlExg/xol1DxqtXr67UtJMFURU11tdee6075ZRT6jTTy2eMaHs5beMtNGTAVpcCmaCtFhVIbbvttpv4KaalCZGGJMTfRTOMabvSeEi0ZVvvsG5Mu9PjnDlzpnvmmWeyJp7xQ+QUjYWQu4wNUweELHWzOsmorM0gS5cudfx9XIoR7bjM9AiNE7un2GCrCBCiFfOB3jJrOPhdmxmEJCE6SFhME2VEpMmzjPxD0uPvMU35/vvv9wdhlEMPPdQ99thjjWaRxUnMByxOqWNr1Kl6eMWKFW7hwoX+XzgM1HbttvoY1naMaId1ZkyuKAJsgdkKU2JmA3lYk0vZ1l/bayFUtEz6gYTDw6MiwVLMFPo5LZfeyus6N954o1uwYIH/p2OPPdanIGxSQjMJbTHOnPSK2HAFe+QOPTrK5NPmC+y1Dz/8cJPh9OpZI9peTZcJCwL6gAhSLPvYIQbRaKvyA+gDLdFeIfKU0/dcotXmipj9WGvup556qrvmmmsavQCa6GiojmeB9tbIff7JJ590+++/vx/Dxz72MZ99bFyKEe24zPQIjXPKlCkTo4GkUm2LaG5V7lRa06wiZg1pLtFqUo+ZGtBm0WopKa5gVVOs7bQsTtisc4uWm4PDVOzph0WPRZJCOC6HfONSjGjHZaZHaJyaaNt2E9JEAmSp7XdBtOedd55PxEI5+eST3Y9//ONGs6iJrszboawTtGI5ZEvR9HVbv/nNb9yBBx7o/4nUji+++GKj8fTpYSPaPs2WyeoR0AdcVTbaHMhkW4yWLAEKEBKaX5Xm1oRoY6YDXKDI2EX54he/6H7+85/nDGezutpfVn4o8i2u3UHCg5gajjrqKF8TwsWNbFyKEe24zPQIjVPbaGOeBLnDRVNDm2UbDyHwZzn0iRGh7iOXaPWBXsxzgtwA5AigYNN9/PHHc4c1UV8OwjCH6DBbCVxIaVhs3RLinPKMrqO9Dto43MvtfzLrG9FOJvrWdy0E9PY+dmKf0zBbamyzEp7K/8PAgipCz3HvQja9WMQOlXTWrjp+tIKB9gXGrUp8kFOxCyPoaLdO5Jj2o4X4r7zyypxp6nVdI9peT994Ch86/Fd99BAp/qNFNkUJ5aVO6GEQEkzZVlvLVGX/1IEIZaaJl19+2eduoOy4447ub3/7W/aEIxekJr7ANCBBHKGcknimqBPta1zlJxwT8qyzzpqIVOMKnnG6S8yINvvVtQeGAQGtEUIikGCRHRWyRAOGKEJbq05KEzvVD31PY/bakPzLSFlr5FXeBCRe4Q4uyptvvll5ASPjJVsYiwZ/lrBb7S+rPStkkdIZzXT2Mj3XgnmqJhy+J9yQy025FK614XqbcSlGtOMy0yM2zqLtLPbGvffe2xMu2hmEg/bI30NtFWKBRMVeGSNGrX0CYUybC4m2KNENz2s/VNqCAMsO2kgtSIpBCv+Xw7HYdIrvrZg/isauFw/sz7i8gRU26ZjfsPZYqFocimTDw4DkOuRrwIcWws0Jduj762tE2/cZHGP5RWOLpSEEGskNq6OfIE+0SglHlXqQjP74Jc+tHIoJ1JKsRSeMCYlW6uroKdqTPnkWzbHKm+GRRx5xRxxxhPvXv/7lD8a4Bbes6EM26hV5ZYQ5IKiHHGU5aHWwQ26gAu3fdNNNbv78+V50Uj2S8nGcihHtOM32iI4VLRFXISExiRbj4KcooAHCK0rmjTas89ZCLjEXpLBu6HWAJioySepB5EIe5MoJe8UlCnLbfvvtvTlgjz32iM6kpENkwUCGmK8r7aD9il0WrbYsbaGOUssNVEDYE044wd16661u66239trsAQccMKJvY/GwjGjHarptsF0hkOvelSMHWizXjFNwkRLNMKeNpnVFU65zELZx40a/SGBrRju/7777morTu+eNaHs3ZSbwMCLQJdFyqSEHUVxySH5a7MnTp08fKAxyEFaVLa1IqJNOOsktX77c//TAAw+4OXPmDFT2Yehs0ogWO1GZbY1tVpX9qgxAXkpe0FjhhSXe2ooh0AYCXRIt8t12223+IEy8AzgY4+rxQRR9IJgbiQfBnn766T6vQRuJcQYx3i76mDSi1TafooHVWTl1O9r9p6j9QYcfdjF51ubwINA10TLSZcuWuYsuusgPmhwIS5YsGQgA2lOiymdZC7Ru3TofHIHpgFtvf/e73w1scRgIMBmdDAXRcgDBAYEuGPNT3D/k5lOexX4kWjBRNeJ/KO0ed9xxbv369f6vOS9MBp5WdUwR0GRUNzNWCnTimsVuDKd/tMSud2bi91sViKHlX7Nmjc+l+/zzz3uSxY2N63jGtQwF0dbxy5MJ0wlGqtxOwgzzOSe/4/qC2LirERh0wha24xAuigRZsHDL4pCpqyK7w5ScD2ixXFMjbmjIdfvtt4+tJitz0muiTQ1llMEa0Xb1KY5vu7hJQXraJ1fQyMlnm4sgblnnnHPOBKGdf/757sILL8xtprK+9rmtMuexi8Rti7MRFgA07txUipUC9bRCr4lWb9dSVlsj2p6+pUMsNoQnKRWLxNR+uV0Mg0Nf7MPszrrQanMCFbDFsuhgBpSbFLoYcx/b7DXR8pJrZ/AqU4ARbR9fUZN5MhHQIb0peXknU9Zh7rvXRJsLrBFtLmJWf5wR0Bm7mpyjjDOGI2GjzZ1AI9pcxKz+uCKgM5ulJL8ZV5xSx52k0QI6xn7+w3WlzMAtiTM2bNjgbTUxFy3tR5uzWupDBwl6oI8qswGAGNGmvhZWb1wRINSWb1iCiTj7CJPtjCs2TcZdSbRFp6pFp6lh2jkRKuavWpdo9TXN0kfVaajUM6Jt8qrYs+OAAIdfcu4ByaYoMOOAS9MxlhKtkCGAhwdPZPCRorPUQ8I6HVzsCpC6REufYY7QKv/ZySLaqhPpJpPX9Wl2E9nsWUPAENgcgSjRQoS4T5E+DY1RJ/6liU2bNk20JKnZiP5gG69972JmgSZES8f6yunUKK9Ba7RFyanbegE1/m21ae0YAoZANwhEiVZssqI5aS0yTJUmYbCSz1KTckzbbEK0WpaccEcj2m5eImvVEDAEyhGotNHK41o7qwoOECIsu3iuCdFqJ+qc+4sGTbT28hkChoAh4Hfg/92C/s8GUIKJjsKqOnySumUk2IRo6z477kSrzS32+hsChkA7CKRQaDLR6ps7q3JSimcANtvY9Rh1yRJo9L1IqQdhPGdEO6WdN8taMQQMgQkEWiXaVHITE0PVlr4u0epoFUaaehBmRGtfhiFgCEwWAskarU6kXUZuKdosg61LtGWHclUgjrtGW4WP/W4IGALdIJBEtNpdqyz5r2SZr7LhNiFabSvOTUM3aKJFu8fk0kVhsbNiCBgC/UAgiWhTtEhcuiAyiJhrYqru+6qr0WoTRpWtOJyCySBaNPwuSopdqIt+rU1DwBDIRyCJaPV9SLHwWwgFsuVwqux+eBGxLtFqE0bOQdhk2GjB45ZbbsmflYQnCCSxYggYAv1AIIloy1y7dJafWLhtERR1iDYMvSUMuEpz1n0PWqPtxyvQvZS8IyzWYQlj6XnPigqmqEEXFknktlj/QSM/mv01IlqIj608L2WKXVZDWIdodaBCGJ2WMj1GtCkotV8Hwrr66qsd4dhSwqxQRXVYRCUEvH2piltEDt5NubUAF0UrhkBTBLKJlg+ELbu8jLyYOWkOReA6RCs3gNJGLrHzjBFt09el2fOCfyxiUIduy3uWs2NpIp0QPVq1pAisclFs0p89O14IJBGt1iQ1PHwEmAvqZJKqQ7Q6RWKufdaIdvJfbLGvFxGYNkHxOwedgyJZ8Q5BBvqUNIFGtJP/zoyKBElEq927GDgvI+R6xhlnRBN7VwGUS7ShDDmBCiKLabTOZ2Tr4oCO5D4sfrGitdWiHZBEHrJTwVwwKJJFiaBv3mfpV66wN6Kt+ort91QEkoiWxrDHsvJjG+W/ph9CLtHqpDZlvrxlAzeifX8u39QXpapeVRa12G2qOmF8HXNQlVxVv9M/i4A+9CrTvKvas9/fjwDXj/P97r777m6nnXYaWoief/559/e//72TG3yTibZtdHKJVns+1NU0jGjfm0Xtiyw7FMklXDXPcq0R9nLZYvNMFdHq+RZvETEX8BEO+tCrbJxGtFVvQdrvzO/FF1/sDxYhsEsvvdQtWbIk7eFJqHXSSSe55cuX+8XglFNOcYsXL3ZbbLFFK5L0hmg1OdQ5fAMtI9r33hk+ALDQRJm7eIVtVBGtzJ94i2i7aF07fytfQEEjRrTNkb3jjjsci/H69evd1KlTPcGeffbZbtq0ac0b76gF8Ti59tprHVo4Gvj111+fFBdQJVIviFYnkpHIs9ilj2UDNqL9HzpFB5y5B4w6kKWMaMNEQJCtXLKZS/D/+Mc/HP/VKR/60Icc/1UVI9oqhMp/v+yyy9zSpUu9Nnj88cd7TXaHHXZo1ugAn163bp1btmyZY7FgDLfeequbN29eIwl6QbR629nEjmdEu/m7UmRCIHw6ZxETUiojWm1fZ/723ntvr+3IKX9On/jj1g1gOOigg7ytsKoY0VYhFP8dgrrooot8hbo7z/q9t/ukdiddsWKFmz9/fu0Ohp5o+TAgBD5KPuaUPAoxNIxoN0cm1DT5NVfDlJexjGi1fV28RXSUX84HeeONN7rzzjuv1gv/iU98wt1///2VzxrRVkJUWAHN77TTTnMbNmzwXhyYhJoemteTpJ2nXn31Ve9Zdc8997hdd93VXXPNNe7www+v1fjQEa3kB9hmm23c2rVrHVtcCYVka5ujbYWIGNG+/x1pakKQ58uIVjTnsI4OYNC3Ktd6k1t8yIg2H8yNGze63XbbzdtkmypE+b1394Qky4KD9txzT/fss8/W6mwoiLZMcux5J554ol8hc1ZHnXymqH00Y4tjfw8ZHQjC38vueivCUrbjsWRCMeLSJJ+TJ6PWm57xkBFtBlj/X5UDJLRZyiOPPOI+/elP5zcypE/giYBHAuW+++5zRxxxRLakk0a0cstukcQvv/yy+8hHPuI++9nPZpGrbuvuu+92rLKxMnfu3KE+Ac2eyQYPhMEgNJVrQoh1X2UiEFKr6xvdYNjRR41o81B99913Pfk8+uijbq+99vJ2cII+RqU899xz3vPgjTfecF/60pfcbbfdlj20SSPabEntgU4R0HZU6SjXC6FIQO2ZUNSe/j03v3BXgLRNtOJ7zKGuZAVDdj5ettlo82FhgaJ+UWEnptNkUk+8OHR92qV9fpddh+RxwPYoofP8du+9906Y6Vj0WGhTIz+Z16OOOsp3ffrpp/sEQqlFXKqQQQJHkLtot8kYaZudEAXf70HtSo899lh35513esVv5cqV7pOf/GTqEH09I9osuEa7srZhM9I2tEzt2VAUNh267k22rVaHCrcxfsiBEF/+L6Hrkk9BUkfy95A0kEMSN+m3DmKBiLSZBpLiUFLIlvbwzIAo+TO/E3atU1VyAMnvOjlU0dudsvhxGn/TTTf5x3/xi19MkG7V16LzW+i6RfZ+xoaJSxYK6tcJw6+SKfb7dddd54MYKBzGEoiRU4xoc9Aa8bqaZGSodU0IosWJxwjtycetbe30SR0hCQgEbS0leXxb0wEBcfCKLJCS/pgl5JyPH7c08Egt+iCFdiBTPXZtVon5h2vXRvqN2bKlHu1AjkVy6nML2pHDZkgZ1zcJR4a0dSk7z+CZ7bff3jv4T58+3b3++uvJ0VT0A/bMN/iwIEkQjSZR/k0uFhAf7DYWwdR5pB6RbTvuuOPEON98882cx02jzUJrDCpr30EZbh0TAh9H+MHSHlqUJlFMFqtXr94MWSGLQcEdhhPH+g237FXy6UPGGFlJMh3ait2Bp3cFYBfmyIXs6AviLpsrPbdgLImAQk+eMMF+2d18yHLooYd6KDgA4yAspQh58j6IX7SWT1z+tNYrPvSYDiQHdkpfbdXh3OiFF17wzb344otuxowZyU2bRpsM1fhUDD02Bq09jALS2qOibFeg68VwDsOdQzIVgqoK5gmJtszGqRcA5iO2Tf/pT3/qo78oxx13nPvZz35We/r0jkowE029amy1O8148IADDnBr1qzxT6AcHHjggclPG9EmQzU+FXUkl4w6J6hgfJCKjzT1EtHU9J9h9johSTnETLkRWhNtlUko1GpjttrLL7/cnXvuuR6I3IOwIvQkRSWLDgsKOMptHDnunV28g3pOb7/99qywXCPaLmZkBNoMNZph0Cj6BGvOJaJCLoyv7PBJE6Vs+zEZ8OfQ/luEVe4NJVOmTJloJmYb1m1eeOGF7vzzz280TdrcwrjkoHCySZZBLVq0yN1www1+fFdccYVPkpNajGhTkRqzeuHp+yBdafoOdXioKIQRG5d2zaoK3CgKLknNFZFLtHqxiC204vbE2HDsh4yalBzzRtiP2PvlMBPcWbjaKiwi4m1w1llnuR/84AfJTRvRJkM1XhX1NqnOYdh4obX5aMNtd46nAlGQZfXD/BQ5Jp1cotXufjHThCZ+ch2Ivbbu/KfatovaF39guU25yjySK6P2AEkx1ej2jWhz0R6D+mXXy9cZPsQjbjuSsSuHfOr0OZnPhETbpr8n+LEISgBCTtrQXKLVJBojFuaRYAcKvqYSqloX/6Y3qVRdmVRXLp7Df5aUjxR8agk7Ti1GtKlIjUk97Rhe5PtZBwY0AX27bJGLUp1223gG4pKoJEhLorWatB0ecLWZV0PIEjmFbCWZepXMuUSrNdqY6UBuJaDvCy64wOdxrVuKEtLLbRypbWqibnsntmDBAkf2OAomhJwscka0qTM4BvW0P2ZRtFITCLSmMQwHaxL6KdFS2PPEVto0xV9ItNi32wjAkJ2G4JdChHrOcolW22hjh3QcgH3729/23TTxOhB/WYiShUMWkVzsBKPcxEgp73aqJ0lRW0a0KQiPSR39IVYdyuRCorfTbWsaubJQX8aqrzbXC02qlhjrO+UgKUduycusPQzCQ7cqXPX8VtkYU93OCL2VhNhN/GhFNsnPAKlRct/D8MokwVibW+Tfcg94tR/tQw895D7zmc8kT6ERbTJUo11RJ3ep+gjrIFGU/LtOO208IwcuRfZNvSCkxPnH5AlPz6tyOIg2XZQkRUJ56SskhzDgocwDIcePVrdbtug88MADE8mwZ8+e7R5++OHsKQo1dU3y4YEWWJTlpJYFrmjXpN3o6lxr/9GPftRxUy6FvLTkp00tRrSpSI1wPR2T31XS5pimwUf217/+dTN0U7NG1Z0SkSV2Kt1G6sZQIyyzS4u2KsSvfUb14VeM+KtCdAWnkPzLSFkfhJUtOFqr5vbYV155pXJaIHEO0GhXSDY8D9CkKIeJsuOgbpHbVtmuSWy3YFvnxmVSrpLT4Z133vG5HP75z38m53QAECPaytditCvoD7ksIUkZCkJMZVtXqRNqy2EUmjjid5X+TrtHxWzFmpByD2M0TnqXwL8zJsid5DQUSIqsWpLZK0wGE2a32rRpU+E0hP3ESD3MYxHLmyDJXugsZXdz5JFH+tSBFK4KOuyww0o/GlkYeN/ECyXU1HXADJjh9gZWvC+xLb/GQXt6yAEv/WGKqOPxwp1hCxcu9OP62te+NpGtLJUdjGhTkRrReto3MMcnU+DQGk3s4ELXCbUjTXwSahluDUMn/ZypCG18KaYBjUnuYUwoW1Ge37BO0bjD1IdCeuE9XGiHRUlxijxGihIGSbuiRdOvmDFSt9dcyX3yySf7YX3zm9903IKbsjBTJ7a4F12xVKUICDmLqYN3i/y1zAH/hiJQN8KMhN+SxyEnFaTgYESb89WOWF3ZsvJC8rHXeRE1kcTcmPRHozWNMDMTW7qiD6FNoq1KRM4Ut52MnHHSJttl8SdmnHz8mEmKtHfqh1nNkA3NTnswSDLxolczrBt6Hey8886+D0mPSBsscnJ9VOqughtRuGEBu+WsWbN8m1tuuWXh1yLbf/4vSc9j/fBuocVSVzKnlckkuybqgJFk+UrRyss+7T//+c8+OxopID/1qU+5VatWua222iqLDYxos+AancraZzHH6T1EQJNgzDFf50qVQyHtzoOWJtn+YwhLWGWdGdDkrReGmKljWO8yqzN2/Uyue1dOf+ecc46P/6e06TecKoO2iYsvtLjuNY0Q4+qaL3/5y14UbsI99dRTU8WaqGdEmw3ZaDzQRohtuC2O2TOlLz4ASFWy/cfyoXaJcC7RNvE86HIcddrukmjR1LkFlwTg+++/v7ejcmg0qKIXRzH3yHibpPmEwGfOnOm4epx2OOybNm1a9rCMaLMh6/8Dmmx4eXIPB/ioeAHDe6qKDmu0DTZELtdHsg3kU0wH+qM1ok1HXdu2ScBCMMOgit41sbPivW46j1w6yc2+HIQ10WZ51oh2UG/CkPRTdPdSG6LFtIYilxt96lzlX4pstFHXdIDWrA/XUswCKWTcBmaDbqNLjZaxoM3iSytRXfjYzpkzZyDDjLkPiptYHTutvma8zvN64Ea0A3kNhqMTHfnUtkRFF+rRR1GgQswNJyZTm4dhKUlHhim4os15Cl2msFG3XfA3xb2Lmwi4Qwyb5rx589ru5n3txQIVZMxaEWDhZjGQK3TCxlgwyGnAwoTf7Ny5cx2JvpuYQoxoO38FhqcDIdouJBJ7a9h2kaahDy5SzAe88EXXaaeMg1P90DQiWk7skCSmHaX0N6x19OEnMjaxW1aNEXIi2YwcRu23337eNs//uyhlgQphxCPvKQup5LMI5XnwwQc9wRIBBrEuXrx4ImNXE9mNaJugZ89WIhALVNCuOJxSUyADcfupbLhBhSItR5rThFTHr7iBWJ09GvO1pcOUha6uYGi1kNbTTz/tm+jK3l21A9HJd8oiw7SNmYsmwSYnzLYMJyPaum+RPVeJQFlwgLYXSigoBAjRhbe8VnaUWUGbD0KikY+2q1DkTFFbqS5pIIsaq3MYmisU7wFO/tzG0BZxaRm0H3DMzxbNlnrsYmK5EsCJxQFTR84Ntyl4GNGmoGR1aiEQC1QQ7ZUtvBRx4K8TNFFHOL2l5OPjA4WA+fe2U0TWkc+eGS0EjGhHaz6HajQ6uqkoCQgaBNs1NA2imLCb1Q2RrDNwNC1CNPVtBZAudt1BylFHdnumXwgY0fZrvkxaQ8AQ6CECRrQ9nDQT2RAwBPqFgBFtv+bLpDUEDIEeImBE28NJM5ENAUOgXwj8H18m1RYLhAznAAAAAElFTkSuQmCC)\n",
        "\n",
        "\n",
        "- 미분 계수\n",
        "\n",
        "![image.png](data:image/png;base64,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)\n"
      ],
      "metadata": {
        "id": "2k9u4P7hf4zs"
      }
    },
    {
      "cell_type": "code",
      "source": [
        "# [실습 항목 1] math 모듈을 임포트 합니다.\n",
        "\n",
        "\n",
        "class Softmax():\n",
        "    def __init__(self):\n",
        "        self.v = [] # 함숫값을 저장할 리스트\n",
        "        self.deriv = [] # 미분계수를 저장할 리스트\n",
        "\n",
        "    def forward(self, x):\n",
        "        self.K = len(x) # x안에 들어있는 숫자의 개수\n",
        "        self.denom = 0.0 # softmax 함수값을 계산하기 위한 분모\n",
        "        self.numer = []  # softmax 함수값을 계산하기 위한 분자 K개 저장위한 리스트\n",
        "\n",
        "        # [실습 항목 2] 함숫값 구성을 위해 분자와 분모를 계산한다.\n",
        "\n",
        "\n",
        "        # [실습 항목 3] 계산된 분자 분모를 이용해서 함숫값을 계산한다.\n",
        "\n",
        "        ####################################################\n",
        "\n",
        "    def __getitem__(self, i):\n",
        "        try:\n",
        "            return self.v[i]\n",
        "        except IndexError as e:\n",
        "            print(e)\n",
        "\n",
        "    def backward(self):\n",
        "        # 1. K개 행을 순환하면서\n",
        "        for i in range(self.K):\n",
        "            # 각 행을 저장할 빈 리스트를 만들고\n",
        "            l = []\n",
        "\n",
        "            # 2. 다시 K개 열을 순환하면서\n",
        "            for j in range(self.K):\n",
        "                # [실습 항목 4] i, j 인덱스에 따라 값을 각각 계산한다.\n",
        "\n",
        "\n",
        "            # 계산이 완료된 한 행을 self.deriv에 추가하고\n",
        "            # 나머지 K-1개 행에 대해서도 같은 작업을 반복한다.\n",
        "            self.deriv.append(l)\n",
        "        ####################################################"
      ],
      "metadata": {
        "id": "12oeJ2lvfqrO"
      },
      "execution_count": null,
      "outputs": []
    },
    {
      "cell_type": "code",
      "source": [
        "import torch"
      ],
      "metadata": {
        "id": "GQaOsr_4hzXP"
      },
      "execution_count": null,
      "outputs": []
    },
    {
      "cell_type": "code",
      "source": [
        "# forward check\n",
        "# 위 클래스가 바르게 코딩되었다면\n",
        "# 이 셀의 실행 값은 매우 작게 출력되어야 합니다. 대략 +-1.0e-8 정도\n",
        "\n",
        "score = [0.6, 0.8, 0.1]\n",
        "s = Softmax()\n",
        "s.forward(score)\n",
        "\n",
        "x = torch.tensor(score, dtype=torch.float, requires_grad=True)\n",
        "st = torch.nn.functional.softmax(x, dim=0)\n",
        "s2 = torch.tensor(s.v)\n",
        "# print(st)\n",
        "# print(s2)\n",
        "\n",
        "(st - s2).sum().item()"
      ],
      "metadata": {
        "colab": {
          "base_uri": "https://localhost:8080/"
        },
        "id": "Sb1Oq-oXh0Am",
        "outputId": "c5538103-c18c-42ee-d289-7dd6ee29dd6f"
      },
      "execution_count": null,
      "outputs": [
        {
          "output_type": "execute_result",
          "data": {
            "text/plain": [
              "0.0"
            ]
          },
          "metadata": {},
          "execution_count": 120
        }
      ]
    },
    {
      "cell_type": "code",
      "source": [
        "# backward check\n",
        "# 위 클래스가 바르게 코딩되었다면\n",
        "# 이 셀의 실행 값은 매우 작게 출력되어야 합니다. 대략 +-1.0e-8 정도\n",
        "s.backward()\n",
        "\n",
        "x = torch.tensor(score, dtype=torch.float, requires_grad=True)\n",
        "st = torch.nn.functional.softmax(x, dim=0)\n",
        "J1 = torch.stack([ torch.autograd.grad(st[i], x, retain_graph=True)[0]\n",
        "                 for i in range(len(score)) ], dim=1)\n",
        "J2 = torch.tensor(s.deriv)\n",
        "# print(J1)\n",
        "# print(J2)\n",
        "(J1 - J2).sum().item()"
      ],
      "metadata": {
        "colab": {
          "base_uri": "https://localhost:8080/"
        },
        "id": "1pb-fVMdh1b2",
        "outputId": "fbb1f17a-8343-4ab2-b9de-b56e708cdef7"
      },
      "execution_count": null,
      "outputs": [
        {
          "output_type": "execute_result",
          "data": {
            "text/plain": [
              "4.470348358154297e-08"
            ]
          },
          "metadata": {},
          "execution_count": 119
        }
      ]
    },
    {
      "cell_type": "code",
      "source": [],
      "metadata": {
        "id": "hfYaASoch27r"
      },
      "execution_count": null,
      "outputs": []
    }
  ]
}