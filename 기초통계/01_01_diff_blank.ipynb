{
  "nbformat": 4,
  "nbformat_minor": 0,
  "metadata": {
    "colab": {
      "provenance": [],
      "include_colab_link": true
    },
    "kernelspec": {
      "name": "python3",
      "display_name": "Python 3"
    },
    "language_info": {
      "name": "python"
    }
  },
  "cells": [
    {
      "cell_type": "markdown",
      "metadata": {
        "id": "view-in-github",
        "colab_type": "text"
      },
      "source": [
        "<a href=\"https://colab.research.google.com/github/guscldns/TestProject/blob/main/%EA%B8%B0%EC%B4%88%ED%86%B5%EA%B3%84/01_01_diff_blank.ipynb\" target=\"_parent\"><img src=\"https://colab.research.google.com/assets/colab-badge.svg\" alt=\"Open In Colab\"/></a>"
      ]
    },
    {
      "cell_type": "code",
      "execution_count": null,
      "metadata": {
        "id": "56HEGSG0AF1Y"
      },
      "outputs": [],
      "source": [
        "import numpy as np\n",
        "import matplotlib.pyplot as plt"
      ]
    },
    {
      "cell_type": "markdown",
      "source": [
        "## 직접 미분\n",
        "\n",
        "$$\n",
        "f(x) = (x^2 + 2x) \\log x\n",
        "$$"
      ],
      "metadata": {
        "id": "qYvH99oGXi3m"
      }
    },
    {
      "cell_type": "code",
      "source": [
        "def f(x):\n",
        "    return (x**2 + 2*x)*np.log(x)"
      ],
      "metadata": {
        "id": "E8j3CWl0XN0_"
      },
      "execution_count": null,
      "outputs": []
    },
    {
      "cell_type": "code",
      "source": [
        "def df(x):\n",
        "    return 2*(x+1)*np.log(x) + (x+2)"
      ],
      "metadata": {
        "id": "uqA5R6c4YNUL"
      },
      "execution_count": null,
      "outputs": []
    },
    {
      "cell_type": "markdown",
      "source": [
        "## 수치미분"
      ],
      "metadata": {
        "id": "09HSrddoYV5b"
      }
    },
    {
      "cell_type": "markdown",
      "source": [
        "### 일변수"
      ],
      "metadata": {
        "id": "zuUct_nmgHNS"
      }
    },
    {
      "cell_type": "code",
      "source": [
        "##############################################################\n",
        "# 스칼라 함수에 대한 수치 미분\n",
        "##############################################################\n",
        "\n",
        "def numer_deriv_scalar(x, fun, args=(), h=None, method=\"central\"):\n",
        "    \"\"\"\n",
        "    x     : 미분계수를 구할 위치\n",
        "    fun   : 미분계수를 구할 함수\n",
        "    args  : fun넘겨줄 위치 인자묶음\n",
        "    h     : 작은 변위값\n",
        "    method: 수치 미분 방법 central, forward\n",
        "    \"\"\"\n",
        "    # [1] 초기화\n",
        "    g = 0.0\n",
        "    m = 1\n",
        "\n",
        "    # [2] h 결정 대충 변수의 1%정도\n",
        "    # https://en.wikipedia.org/wiki/Numerical_differentiation\n",
        "    if h == None:\n",
        "        h = np.sqrt(np.finfo(np.float32).eps) if x == 0.0 else np.sqrt(np.finfo(np.float32).eps) * x\n",
        "\n",
        "    # [3] 변량 설정\n",
        "    dx1 = x+h\n",
        "    dx2 = x\n",
        "\n",
        "    # [4] central일 경우 dx2 설정\n",
        "    if method == \"central\":\n",
        "        dx2 = x-h\n",
        "        m = 2\n",
        "\n",
        "    # [5] 미분계수 계산 fun이 스칼라 함수여도 요소 한개짜리 ndarray로 전달되면 문제없음\n",
        "    g = None\n",
        "\n",
        "    return g\n",
        "\n"
      ],
      "metadata": {
        "id": "Y3cOrUWFYYUc"
      },
      "execution_count": null,
      "outputs": []
    },
    {
      "cell_type": "code",
      "source": [
        "##############################################################\n",
        "# 그림으로 전방차분과 중앙차분 확인\n",
        "##############################################################\n",
        "\n",
        "f2  = lambda x : (x**2 + 2*x)*np.log(x)\n",
        "df2 = lambda x : (2*x+2)*np.log(x) + (x+2)\n",
        "\n",
        "fig, (ax1, ax2) = plt.subplots(1, 2, figsize=(10,5), sharex=True, sharey=True)\n",
        "\n",
        "ax1.xaxis.set_tick_params(labelsize=18)\n",
        "ax1.yaxis.set_tick_params(labelsize=18)\n",
        "ax1.set_xlabel(r'$x$', fontsize=25)\n",
        "ax1.set_ylabel(r'$y$', fontsize=25)\n",
        "ax1.grid(False)\n",
        "\n",
        "ax2.xaxis.set_tick_params(labelsize=18)\n",
        "ax2.yaxis.set_tick_params(labelsize=18)\n",
        "ax2.set_xlabel(r'$x$', fontsize=25)\n",
        "ax2.set_ylabel(r'$y$', fontsize=25)\n",
        "ax2.grid(False)\n",
        "\n",
        "x = np.linspace(0.6, 1.7, 100)\n",
        "x0 = 1.0\n",
        "h = 0.5\n",
        "\n",
        "ax1.plot(x, f2(x), color='k', lw=1)\n",
        "ax1.set_title(\"forward\")\n",
        "ax1.plot(x0, f2(x0), 'o', markersize=8, color='k', zorder=3)\n",
        "ax1.plot([x0-h, x0+h], [f2(x0)-df2(x0)*h, f2(x0)+df2(x0)*h], '--', lw=1, color='k')\n",
        "ax1.plot([x0, x0+h], [f2(x0), f2(x0+h)], lw=2, color='k')\n",
        "ax1.set_xlabel(r'$x$', fontsize=20)\n",
        "ax1.set_ylabel(r'$y$', fontsize=20)\n",
        "\n",
        "ax2.plot(x, f2(x), color='k', lw=1)\n",
        "ax2.set_title(\"central\")\n",
        "ax2.plot(x0, f2(x0), 'o', markersize=8, color='k', zorder=3)\n",
        "ax2.plot([x0-h, x0+h], [f2(x0)-df2(x0)*h, f2(x0)+df2(x0)*h], '--', lw=1, color='k')\n",
        "ax2.plot([x0-h/2, x0+h/2], [f2(x0-h/2), f2(x0+h/2)], lw=2, color='k')\n",
        "ax2.set_xlabel(r'$x$', fontsize=20)\n",
        "ax2.set_ylabel(r'$y$', fontsize=20)\n",
        "\n",
        "plt.show()\n",
        "\n",
        "print(f\"foward difference : {numer_deriv_scalar(1, f2, h=h, method='forward'):.6f}\")\n",
        "print(f\"central difference: {numer_deriv_scalar(1, f2, h=h, method='central'):.6f}\")"
      ],
      "metadata": {
        "id": "kWXiPeSTxA-H"
      },
      "execution_count": null,
      "outputs": []
    },
    {
      "cell_type": "markdown",
      "source": [
        "### 수치미분 응용"
      ],
      "metadata": {
        "id": "HS1_VyL4YZD0"
      }
    },
    {
      "cell_type": "code",
      "source": [
        "# 히든 펑션 임포트\n",
        "from hidden import hidden_f"
      ],
      "metadata": {
        "id": "Zhe7Z85vYT_w"
      },
      "execution_count": null,
      "outputs": []
    },
    {
      "cell_type": "code",
      "source": [
        "x = np.linspace(-1,3,100)\n",
        "\n",
        "fig = plt.figure(figsize=(5,10))\n",
        "ax = plt.axes()\n",
        "ax.plot(x, hidden_f(x), c='k')\n",
        "\n",
        "ax.axis('equal')\n",
        "# axes의 right, top 축 감추기\n",
        "ax.spines[\"right\"].set_visible(False)\n",
        "ax.spines[\"top\"].set_visible(False)\n",
        "\n",
        "ax.set_xlabel('x')\n",
        "ax.set_ylabel('hidden_f(x)')\n",
        "plt.show()"
      ],
      "metadata": {
        "id": "W9i3MC8jASGs"
      },
      "execution_count": null,
      "outputs": []
    },
    {
      "cell_type": "code",
      "source": [
        "# 무식공격(brute force) 방식으로 최솟값 찾기\n",
        "def brute_force(f, x, d, max_iter, sols) :\n",
        "    \"\"\"\n",
        "    x : initial point\n",
        "    d  : positive interval\n",
        "    \"\"\"\n",
        "    for i in range(max_iter):\n",
        "        c = f(x)\n",
        "\n",
        "        # 좌우점 계산하고 새로운 점으로 업데이트하기[+]\n",
        "        left, right = f(x-d), f(x+d)\n",
        "\n",
        "        if left < c :\n",
        "            x = x-d\n",
        "        elif right < c :\n",
        "            x = x+d\n",
        "        else:\n",
        "            print(left, c, right)\n",
        "            break\n",
        "\n",
        "        print(\"iter:{:d}, f(x)={:f}, x={:f}\".format(i+1, f(x), x))\n",
        "        sols.append((x, f(x)))\n",
        "\n",
        "    return x\n"
      ],
      "metadata": {
        "id": "G6JGBN_JAYnT"
      },
      "execution_count": null,
      "outputs": []
    },
    {
      "cell_type": "code",
      "source": [
        "# −0.326345\n",
        "\n",
        "sols = []\n",
        "brute_force(hidden_f, 0.5, 0.01, 1500, sols)\n",
        "# brute_force(hidden_f, 0.5, 0.001, 1500, sols)\n",
        "\n",
        "x = np.linspace(-1,3,100)\n",
        "fig = plt.figure(figsize=(5,10))\n",
        "ax = plt.axes()\n",
        "ax.plot(x, hidden_f(x), c='k')\n",
        "\n",
        "ax.axis('equal')\n",
        "# axes의 right, top 축 감추기\n",
        "ax.spines[\"right\"].set_visible(False)\n",
        "ax.spines[\"top\"].set_visible(False)\n",
        "\n",
        "ax.set_xlabel('x')\n",
        "ax.set_ylabel('hidden_f(x)')\n",
        "\n",
        "\n",
        "sols = np.asarray(sols)\n",
        "plt.plot(sols[:,0], sols[:,1], '.', c='r')\n",
        "plt.show()"
      ],
      "metadata": {
        "id": "paZP-GQlWW7M"
      },
      "execution_count": null,
      "outputs": []
    },
    {
      "cell_type": "code",
      "source": [
        "def df(x):\n",
        "    dx = 0.0\n",
        "    ############################################################################\n",
        "    # WRITE YOUR CODE HERE[*]\n",
        "    # df에 함수 hidden_f의 미분계수를 정의하세요.\n",
        "    # hidden_f의 식을 알 수 없기 때문에 어떤 방식으로\n",
        "    # 미분 계수를 정의할 수 있을지 생각해보고 적당히\n",
        "    # 미분 계수를 정의 하세요.\n",
        "    dx = None\n",
        "\n",
        "    return dx\n"
      ],
      "metadata": {
        "id": "lYumLYcZJ6_6"
      },
      "execution_count": null,
      "outputs": []
    },
    {
      "cell_type": "code",
      "source": [
        "def simple_grad_descent(x, f, df, eta, sols, stop=0.01, max_iter=200) :\n",
        "    \"\"\"\n",
        "    This function is simple 1D gradient descent\n",
        "    x        : Initial point\n",
        "    f        : Objective function\n",
        "    df       : Derivative\n",
        "    eta      : step size\n",
        "    sols     : List for update history\n",
        "    stop     : stop criterion\n",
        "    max_iter : Maximum number of iterations to prevent infinite loops\n",
        "    \"\"\"\n",
        "    c = 100         # 임의 설정된 초기 기울기\n",
        "    i = 0         # 반복 번수\n",
        "\n",
        "    while np.abs(c) > stop and i < max_iter:\n",
        "        ########################################################################\n",
        "        # WRITE YOUR CODE HERE[*]\n",
        "        # 이 함수는 간단한 일변수 함수에 대한 경사 하강법을 실행하는 함수입니다.\n",
        "        # 경사하강법을 성공적으로 수행하기 위해서는\n",
        "        # 다음 두 단계를 정의 해야 합니다.\n",
        "\n",
        "        # 1. c에 미분계수를 계산하여 c에 할당하고\n",
        "\n",
        "\n",
        "        # 2. x를 업데이트 하세요.\n",
        "\n",
        "        ########################################################################\n",
        "\n",
        "        sols.append((x, f(x)))\n",
        "        print(\"iter:{:d}, |c|={:f}, f(x)={:f}, x={:f}\".format(i+1, np.abs(c), f(x), x))\n",
        "        i+=1"
      ],
      "metadata": {
        "id": "31PmV8QVKtwu"
      },
      "execution_count": null,
      "outputs": []
    },
    {
      "cell_type": "code",
      "source": [
        "x0 = 0.5           # 탐색을 시작할 초기값\n",
        "eta = 0.01       # 이동 거리\n",
        "sols = []\n",
        "\n",
        "simple_grad_descent(x0, hidden_f, df, eta, sols, max_iter=1000)\n",
        "\n",
        "x = np.linspace(-1,3,100)\n",
        "fig = plt.figure(figsize=(5,10))\n",
        "ax = plt.axes()\n",
        "ax.plot(x, hidden_f(x), c='k')\n",
        "\n",
        "ax.axis('equal')\n",
        "# axes의 right, top 축 감추기\n",
        "ax.spines[\"right\"].set_visible(False)\n",
        "ax.spines[\"top\"].set_visible(False)\n",
        "\n",
        "ax.set_xlabel('x')\n",
        "ax.set_ylabel('hidden_f(x)')\n",
        "\n",
        "sols = np.asarray(sols)\n",
        "plt.plot(sols[:,0], sols[:,1], '.', c='r')\n",
        "plt.show()"
      ],
      "metadata": {
        "id": "yEf4eeRoKyQo"
      },
      "execution_count": null,
      "outputs": []
    },
    {
      "cell_type": "markdown",
      "source": [
        "### 다변수"
      ],
      "metadata": {
        "id": "tT30lTiigI-v"
      }
    },
    {
      "cell_type": "code",
      "source": [
        "def numer_deriv(x, fun, args=(), h=None, method=\"central\", dtype='float32'):\n",
        "    \"\"\"\n",
        "    Find the first derivative of a function at a point x.\n",
        "\n",
        "    x     : The point at which derivative is found.\n",
        "    fun   : Input function.\n",
        "    args  : Tuple extra arguments passed to fun.\n",
        "    h     : Step size\n",
        "    method: 'central' or 'forward'\n",
        "    dtype : Data type of gradient, must be set to 'longdouble'\n",
        "            if numerically unstable.\n",
        "    \"\"\"\n",
        "\n",
        "    # [1] 필요변수 초기화\n",
        "    scalar = False\n",
        "    m = 1\n",
        "\n",
        "    # [2] x가 스칼라인지 벡터인지 확인 스칼라면 무조건 벡터로 고치고 시작\n",
        "    if not hasattr(type(x), '__iter__'):\n",
        "        x = np.array([x])\n",
        "        scalar = True\n",
        "\n",
        "    # [3] x 타입을 디폴트로 float32로 변경\n",
        "    x = x.astype(dtype)\n",
        "\n",
        "    # [4] 미분 계수 초기화\n",
        "    g = np.zeros(x.shape[0]).astype(dtype)\n",
        "\n",
        "    # [5] 미분계수를 변수 개수만큼 루프를 돌면서 구하기\n",
        "    for i in range(x.shape[0]) :\n",
        "        # [5-1*]변경된 위치를 설정할 변수 두개를 준비\n",
        "        # dx1[i], dx2[i]로 각 변수의 요소를 접근할 수 있음\n",
        "\n",
        "\n",
        "        # [5-2] h 결정 대충 변수의 1%정도\n",
        "        # https://en.wikipedia.org/wiki/Numerical_differentiation\n",
        "        if h == None:\n",
        "            h = np.sqrt(np.finfo(np.float32).eps) if x[i] == 0.0 else np.sqrt(np.finfo(np.float32).eps) * x[i]\n",
        "\n",
        "        ##########################################\n",
        "        # WRITE YOUR CODE HERE\n",
        "        # [5-3*] dx1[i] 변경\n",
        "\n",
        "        # [5-4*] central이면 dx[2]도 함께 변경, 이 때 m = 2로 설정해서\n",
        "        # [5-5]에서 g[i]를 계산할 때 2h로 나누게 해야함.\n",
        "\n",
        "        # [5-5*] 미분계수 계산\n",
        "        # fun이 스칼라 함수여도 요소 한개짜리 ndarray로 전달되면 문제없이\n",
        "        # 호출되므로 여기거 fun은 fun(dx1, *args) 식으로 호출되면 됨\n",
        "\n",
        "        ##########################################\n",
        "\n",
        "    # [6] 결과값 리턴\n",
        "    if scalar:\n",
        "        return g[0]\n",
        "    else:\n",
        "        return g"
      ],
      "metadata": {
        "id": "B1SXBjhAYYRb"
      },
      "execution_count": null,
      "outputs": []
    },
    {
      "cell_type": "code",
      "source": [
        "def f_xy(x):\n",
        "    return (x[0]**2 + 2*x[0])*np.log(x[1])"
      ],
      "metadata": {
        "id": "qvNQsOIxYYM_"
      },
      "execution_count": null,
      "outputs": []
    },
    {
      "cell_type": "code",
      "source": [
        "numer_deriv(np.array([1,2]), f_xy)"
      ],
      "metadata": {
        "id": "WLP6TBnjwEep"
      },
      "execution_count": null,
      "outputs": []
    }
  ]
}