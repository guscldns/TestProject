{
  "nbformat": 4,
  "nbformat_minor": 0,
  "metadata": {
    "colab": {
      "provenance": [],
      "private_outputs": true,
      "include_colab_link": true
    },
    "kernelspec": {
      "name": "python3",
      "display_name": "Python 3"
    },
    "language_info": {
      "name": "python"
    },
    "gpuClass": "standard"
  },
  "cells": [
    {
      "cell_type": "markdown",
      "metadata": {
        "id": "view-in-github",
        "colab_type": "text"
      },
      "source": [
        "<a href=\"https://colab.research.google.com/github/guscldns/TestProject/blob/main/%EA%B8%B0%EC%B4%88%ED%86%B5%EA%B3%84/numpy.ipynb\" target=\"_parent\"><img src=\"https://colab.research.google.com/assets/colab-badge.svg\" alt=\"Open In Colab\"/></a>"
      ]
    },
    {
      "cell_type": "code",
      "metadata": {
        "id": "O80mn6FM3sem"
      },
      "source": [
        "import numpy as np\n",
        "import matplotlib.pyplot as plt\n",
        "import pandas as pd\n",
        "\n",
        "# numpy 출력 형식 지정\n",
        "np.set_printoptions(precision=4, linewidth=150)"
      ],
      "execution_count": null,
      "outputs": []
    },
    {
      "cell_type": "markdown",
      "metadata": {
        "id": "c9GhfzAs2yMm"
      },
      "source": [
        "## Numpy"
      ]
    },
    {
      "cell_type": "markdown",
      "metadata": {
        "id": "ESPAHZWo27zB"
      },
      "source": [
        "### ndarray 기본생성\n",
        "\n",
        "- numpy 어레이는 파이썬 리스트로 부터 `np.array()`를 써서 생성할 수 있습니다.\n",
        "\n",
        "- 이름이 기본적으로 `ndarray`이니 만큼 숫자들이 늘어선 방향이 여러개가 되는, 다시말해 다차원 어레이를 기본으로 지원합니다."
      ]
    },
    {
      "cell_type": "code",
      "metadata": {
        "id": "wPEzISSI4xHz"
      },
      "source": [
        "# 기본생성\n",
        "A = np.array([[1,2],[3,4]])\n",
        "print(A.ndim)\n",
        "A"
      ],
      "execution_count": null,
      "outputs": []
    },
    {
      "cell_type": "code",
      "source": [
        "# list -> array\n",
        "# [1 2 3 4 5 6 7 8 9 10]\n",
        "np.array( [ i+1 for i in range(10) ] )"
      ],
      "metadata": {
        "id": "hmpOTNz-Vjix"
      },
      "execution_count": null,
      "outputs": []
    },
    {
      "cell_type": "markdown",
      "source": [
        "- 그외 편의 함수를 많이 제공하는데 `ones`, `zeros`, `eye`따위가 있습니다."
      ],
      "metadata": {
        "id": "aO-hiKHDHXpE"
      }
    },
    {
      "cell_type": "code",
      "source": [
        "# ones\n",
        "np.ones((2,3,4))"
      ],
      "metadata": {
        "id": "4TNwIhI6VCG3"
      },
      "execution_count": null,
      "outputs": []
    },
    {
      "cell_type": "code",
      "source": [
        "# zeros\n",
        "np.zeros((2,3,4))"
      ],
      "metadata": {
        "id": "9s1Vq7YjHyJC"
      },
      "execution_count": null,
      "outputs": []
    },
    {
      "cell_type": "code",
      "source": [
        "# eye\n",
        "np.eye(5)"
      ],
      "metadata": {
        "id": "aoAuKqaQVaNJ"
      },
      "execution_count": null,
      "outputs": []
    },
    {
      "cell_type": "markdown",
      "source": [
        "- 또 어레이의 요소를 랜덤으로 채워주는 함수를 많이 사용합니다."
      ],
      "metadata": {
        "id": "G74E3aTsHheL"
      }
    },
    {
      "cell_type": "code",
      "metadata": {
        "id": "yeZYgOjj4xCa"
      },
      "source": [
        "# 랜덤으로 생성\n",
        "np.random.rand(2,3)\n"
      ],
      "execution_count": null,
      "outputs": []
    },
    {
      "cell_type": "markdown",
      "metadata": {
        "id": "9mW7fYyS2_7j"
      },
      "source": [
        "### ndarray 연산\n",
        "\n",
        "- `ndarray`에 대한 사칙연산은 기본적으로 요소별 연산이 수행됩니다."
      ]
    },
    {
      "cell_type": "code",
      "metadata": {
        "id": "vn-r6lW_5ESp"
      },
      "source": [
        "A = np.array([[1,3,4], [5,3,4], [4,5,2]])\n",
        "B = np.array([[5,7,3], [2,1,1], [5,6,3]])"
      ],
      "execution_count": null,
      "outputs": []
    },
    {
      "cell_type": "code",
      "source": [
        "print(A)\n",
        "print(B)"
      ],
      "metadata": {
        "id": "WB-N2yxjJQ-h"
      },
      "execution_count": null,
      "outputs": []
    },
    {
      "cell_type": "code",
      "metadata": {
        "id": "OzPE3FMd51LA"
      },
      "source": [
        "# 덧셈\n",
        "A + B"
      ],
      "execution_count": null,
      "outputs": []
    },
    {
      "cell_type": "code",
      "metadata": {
        "id": "q4OYMi-051EG"
      },
      "source": [
        "# 뺄셈\n",
        "A - B"
      ],
      "execution_count": null,
      "outputs": []
    },
    {
      "cell_type": "code",
      "metadata": {
        "id": "XBYDEC5Y53Pb"
      },
      "source": [
        "# 나눗셈\n",
        "A / B"
      ],
      "execution_count": null,
      "outputs": []
    },
    {
      "cell_type": "code",
      "metadata": {
        "id": "8q_mmxLw5Oxx"
      },
      "source": [
        "# 곱셈: 곱은 행렬곱이 아님\n",
        "A * B"
      ],
      "execution_count": null,
      "outputs": []
    },
    {
      "cell_type": "markdown",
      "source": [
        "- 곱셈의 경우 기본적으로 요소별 곱셈이 수행되지만 앞으로 자주 사용하게 될 연산은 행렬곱이므로 행렬곱을 수행하고 싶다면 `np.dot()`를 사용해야 합니다.\n",
        "\n",
        "- 도트(내적inner product,점곱dot product)연산은 숫자 여러개가 들어있는 두 벡터를 곱하는 연산으로 각 벡터에 같은 위치에 있는 숫자를 서로 곱하고 그 결과를 모두 더해서 숫자 하나로 만드는 연산입니다.\n",
        "\n",
        "- 아래 파이썬 리스트로 간단히 내적을 수행하는 코드가 있습니다."
      ],
      "metadata": {
        "id": "eZBfmuKVJVyJ"
      }
    },
    {
      "cell_type": "code",
      "source": [
        "foo = [1,2,3,4, 5]\n",
        "bar = [6,7,8,9,10]\n",
        "\n",
        "inner_prod = 0.0\n",
        "\n",
        "for f, b in zip(foo, bar):\n",
        "    inner_prod += f*b\n",
        "\n",
        "inner_prod"
      ],
      "metadata": {
        "id": "mMbv1raQJW4h"
      },
      "execution_count": null,
      "outputs": []
    },
    {
      "cell_type": "markdown",
      "source": [
        "- 지금 `A`, `B`에서 가능한 모든 가로, 세로 벡터를 뽑아서 모든 조합에 대해서 내적 연산을 하는 함수가 `np.dot()`입니다."
      ],
      "metadata": {
        "id": "WQI_CFJrJaqO"
      }
    },
    {
      "cell_type": "code",
      "metadata": {
        "id": "4YSc1UcB5TEf"
      },
      "source": [
        "# 행렬곱은 dot\n",
        "np.dot(A, B) # (3,3) 행렬곱하기 (3,3) = (3,3)"
      ],
      "execution_count": null,
      "outputs": []
    },
    {
      "cell_type": "markdown",
      "metadata": {
        "id": "A8d-s4lpUShl"
      },
      "source": [
        "### reshape\n",
        "\n",
        "- numpy 어레이는 숫자가 늘어선 개수를 조정해서 모양을 바꿀 수 있는데 `reshape()`을 사용합니다.\n",
        "\n",
        "- 이 때 바뀐 모양의 요소수와 바뀌기 전 모양의 요소수는 당연히 일치해야 합니다."
      ]
    },
    {
      "cell_type": "code",
      "source": [
        "# 요소 9개짜라 벡터를 3행, 3열 격자형 어레이로 만들기\n",
        "x = np.array([1,2,3,4,5,6,7,8,9])\n",
        "print(x)\n",
        "\n",
        "x.reshape(3,3)"
      ],
      "metadata": {
        "id": "7X3FdvFvKEOI"
      },
      "execution_count": null,
      "outputs": []
    },
    {
      "cell_type": "markdown",
      "source": [
        "- 이렇게 숫자가 늘어선 방향의 개수를 차원이라고 합니다.\n",
        "\n",
        "- 위 예에서는 1차원 어레이를 2차원 어레이로 바꾼 예입니다.\n",
        "\n",
        "- 각 방향으로 늘어선 숫자의 개수를 세어 어레이의 모양을 표시합니다. 위 예에서 모양이 바뀐 `x`의 모양은 `(3,3)`입니다.\n",
        "\n",
        "- 그리고 숫자가 늘어선 방향을 축axis라고 이야기 합니다. `(3,3)`에서는 축이 두개가 있는 것입니다.\n",
        "\n",
        "- 축의 순서가 중요한데 `(3,3)`에서 앞의 3은 숫자가 아래쪽으로 늘어선 개수를 말하며 이 축이 0번 축입니다. 뒤에 3은 숫자가 오른쪽으로 늘어선 개수를 말하며 이축은 1번 축입니다.\n",
        "\n",
        "- 아래 인덱싱에서 알아보겠지만 축의 순서대로 인덱싱을 하게 됩니다. 이는 파이썬 리스트와 크게 다르지 않은 일관된 규칙입니다. 단 리스트와 다르게 numpy 어레이는 다차원 즉 축이 많은 경우가 빈번하므로 축의 순서와 숫자가 늘어선 방향을 일치시켜 생각할 수 있어야 합니다.\n"
      ],
      "metadata": {
        "id": "NJKL3n8gNDRJ"
      }
    },
    {
      "cell_type": "code",
      "metadata": {
        "id": "4AOYjp_2UVcQ"
      },
      "source": [
        "# .shape를 사용해서 어레이 모양 찍어보기\n",
        "x = np.array([1,2,3])\n",
        "\n",
        "print(x) # x를 출력합니다.\n",
        "print(x.ndim) # x의 차원을 출력합니다.\n",
        "print(x.shape) # x의 실제 모양을 출력합니다."
      ],
      "execution_count": null,
      "outputs": []
    },
    {
      "cell_type": "markdown",
      "source": [
        "- 아래는 숫자 3개짜리 1차원 어레이에 추가 차원을 하나 더 생성하여 열 또는 행벡터로 만드는 예입니다."
      ],
      "metadata": {
        "id": "j8r2xE0pKjGP"
      }
    },
    {
      "cell_type": "code",
      "metadata": {
        "id": "S0wtJpa9UfXo"
      },
      "source": [
        "# 행벡터로 만들기\n",
        "x_row_vector1 = x.reshape(1,3)\n",
        "print(x_row_vector1)\n",
        "print(x_row_vector1.ndim)\n",
        "print(x_row_vector1.shape)\n",
        "\n",
        "x_row_vector2 = x[np.newaxis,:]\n",
        "print(x_row_vector2)\n",
        "print(x_row_vector2.ndim)\n",
        "print(x_row_vector2.shape)"
      ],
      "execution_count": null,
      "outputs": []
    },
    {
      "cell_type": "code",
      "metadata": {
        "id": "f9cU39Y2YQBi"
      },
      "source": [
        "# 열벡터로 만들기\n",
        "x_col_vector1 = x.reshape(3, 1)\n",
        "print(x_col_vector1)\n",
        "print(x_col_vector1.ndim)\n",
        "print(x_col_vector1.shape)\n",
        "\n",
        "x_col_vector2 = x[:, np.newaxis]\n",
        "print(x_col_vector2)\n",
        "print(x_col_vector2.ndim)\n",
        "print(x_col_vector2.shape)\n",
        "\n",
        "x.reshape(-1,1)"
      ],
      "execution_count": null,
      "outputs": []
    },
    {
      "cell_type": "markdown",
      "source": [
        "- 다음 예는 2차원 어레이를 3차원으로 만들었다 다시 2차원으로 복원하는 것을 보여줍니다."
      ],
      "metadata": {
        "id": "lzvjp3w-K-zI"
      }
    },
    {
      "cell_type": "code",
      "metadata": {
        "id": "sEYJo3_9Ytys"
      },
      "source": [
        "# 2차원 이상 어레이에 대한 reshape\n",
        "A = np.array([[0,1,2],[3,4,5],[6,7,8],[9,10,11]])\n",
        "A"
      ],
      "execution_count": null,
      "outputs": []
    },
    {
      "cell_type": "code",
      "metadata": {
        "id": "VVK3cW47Y6l7"
      },
      "source": [
        "# (2,2,3)\n",
        "A_ = A.reshape(2,2,3)\n",
        "A_"
      ],
      "execution_count": null,
      "outputs": []
    },
    {
      "cell_type": "markdown",
      "source": [
        "- `A`를 (1,2,3)으로 바꿀 수 있나요?"
      ],
      "metadata": {
        "id": "RoOpwiLvLg-V"
      }
    },
    {
      "cell_type": "code",
      "source": [
        "A.reshape(1,2,3) # 불가능\n",
        "A.reshape(-1,2,3) # 가능"
      ],
      "metadata": {
        "id": "OvVoPQafLiRm"
      },
      "execution_count": null,
      "outputs": []
    },
    {
      "cell_type": "markdown",
      "source": [
        "### 자주쓰는 기능 arange, linspace"
      ],
      "metadata": {
        "id": "jGdRxOGLQrl0"
      }
    },
    {
      "cell_type": "code",
      "source": [
        "# arange\n",
        "print(np.arange(0, 10))\n",
        "print(np.arange(1, 20, 2))"
      ],
      "metadata": {
        "id": "-_TeWeoFWylR"
      },
      "execution_count": null,
      "outputs": []
    },
    {
      "cell_type": "code",
      "source": [
        "# [Lab] x = np.array([1,2,3,4,5,6,7,8,9])\n",
        "# 와 동일한 결과를 np.arange()를써서 만들어보세요.\n",
        "x = np.array([1,2,3,4,5,6,7,8,9])\n",
        "print(x)\n",
        "np.arange(1, 10)"
      ],
      "metadata": {
        "id": "RziPIKZGNpQs"
      },
      "execution_count": null,
      "outputs": []
    },
    {
      "cell_type": "code",
      "source": [
        "# linspace: 등간격으로 숫자를 n개 뽑아낼때 linspace(start, end, n)\n",
        "np.linspace(0, 1, 11)"
      ],
      "metadata": {
        "id": "fxInecmiXqOg"
      },
      "execution_count": null,
      "outputs": []
    },
    {
      "cell_type": "markdown",
      "metadata": {
        "id": "WJKAbvx23ERB"
      },
      "source": [
        "### 인덱싱과 슬라이싱\n",
        "\n",
        "- 파이썬 리스트에서 배웠던 인덱싱, 슬라이싱 기능이 그대로 적용됩니다."
      ]
    },
    {
      "cell_type": "code",
      "metadata": {
        "id": "jJgHjuYI5anL"
      },
      "source": [
        "# 기본 인덱싱과 슬라이싱\n",
        "A = np.array([1,2,3,4,5,6,7,8,9,10])\n",
        "\n",
        "# 두번째 요소를 출력합니다.\n",
        "print(A[1])\n",
        "\n",
        "# [1,2,3]을 출력합니다.\n",
        "A[0:3]"
      ],
      "execution_count": null,
      "outputs": []
    },
    {
      "cell_type": "code",
      "metadata": {
        "id": "Jx1ly5Fx5gT3"
      },
      "source": [
        "# 스트라이드\n",
        "A[0::3]"
      ],
      "execution_count": null,
      "outputs": []
    },
    {
      "cell_type": "code",
      "metadata": {
        "id": "MLPT1HdE5gQe"
      },
      "source": [
        "# 음수 스트라이드\n",
        "A[::-1]"
      ],
      "execution_count": null,
      "outputs": []
    },
    {
      "cell_type": "markdown",
      "source": [
        "- 2차원 이상 어레이에 대해서 각 인덱스를 지정할 자리에 `start:end:stride`형식을 지정할 수 있습니다.\n",
        "\n",
        "- 다음 예는 2차원 어레이 `A`에서 1번 축 방향으로 늘어선 모든 행을 선택하고 2번 축 방향으로 늘어선 열은 하나씩 건너뛰면서 선택하는 예입니다."
      ],
      "metadata": {
        "id": "0AcH09RBPWWH"
      }
    },
    {
      "cell_type": "code",
      "metadata": {
        "id": "J-qdh8hQS9fA"
      },
      "source": [
        "# 2차원 인덱싱\n",
        "A = np.arange(30).reshape(5,6)\n",
        "print(A)\n",
        "\n",
        "# 0열, 2열, 4열만 뽑아내기\n",
        "A[: , ::2]"
      ],
      "execution_count": null,
      "outputs": []
    },
    {
      "cell_type": "code",
      "source": [
        "# [Lab] 위 어레이 A에 대해서\n",
        "# 행도 하나씩 건너뛰면서 선택하게 인덱싱해보세요.\n",
        "\n",
        "A[::2 , ::2]\n"
      ],
      "metadata": {
        "id": "ozNJtlhCPk3Z"
      },
      "execution_count": null,
      "outputs": []
    },
    {
      "cell_type": "markdown",
      "metadata": {
        "id": "JhiEuJIU3IVY"
      },
      "source": [
        "### 어레이 인덱싱"
      ]
    },
    {
      "cell_type": "code",
      "metadata": {
        "id": "oYlTBymF6AlP"
      },
      "source": [
        "A = np.arange(30).reshape(5,6)\n",
        "A"
      ],
      "execution_count": null,
      "outputs": []
    },
    {
      "cell_type": "code",
      "metadata": {
        "id": "Wq-8KLim6IMA"
      },
      "source": [
        "# 모든행에 1,2,3,1,0번째 열 요소\n",
        "\n",
        "print(A[[0, 1, 2, 3, 4], [1, 2, 3, 1, 0]])\n",
        "print(A[np.arange(5), [1, 2, 3, 1, 0]])"
      ],
      "execution_count": null,
      "outputs": []
    },
    {
      "cell_type": "markdown",
      "source": [
        "### 자주쓰는 기능 random.rand, randn, randint, choice"
      ],
      "metadata": {
        "id": "pVlxKYJeQRSw"
      }
    },
    {
      "cell_type": "code",
      "source": [
        "fig, ax = plt.subplots(figsize=(10,3), nrows=1, ncols=2, dpi=100)\n",
        "\n",
        "# rand 로 샘플링\n",
        "# np.random.seed(0)\n",
        "\n",
        "x = np.random.rand(10000)\n",
        "ax[0].hist(x, bins=20, color='C7', edgecolor='k')\n",
        "ax[0].set_title('rand()')\n",
        "\n",
        "# randn으로 샘플링\n",
        "x = np.random.randn(10000)\n",
        "ax[1].hist(x, bins=20, color='C7', edgecolor='k')\n",
        "ax[1].set_title('randn()')\n",
        "\n",
        "plt.show()"
      ],
      "metadata": {
        "id": "vkeTNj8OYRGU"
      },
      "execution_count": null,
      "outputs": []
    },
    {
      "cell_type": "code",
      "source": [
        "# randint(가장 작은 값, 가장 큰 값, 뽑을 개수) = 범위, 뽑을 개수\n",
        "np.random.randint(0,10,5)"
      ],
      "metadata": {
        "id": "wOXqTz3HapEo"
      },
      "execution_count": null,
      "outputs": []
    },
    {
      "cell_type": "code",
      "source": [
        "# choice\n",
        "#                숫자의 리스트              뽑을 개수\n",
        "np.random.choice(np.random.randint(0,10,5), 3)"
      ],
      "metadata": {
        "id": "7WK8J9tqavXx"
      },
      "execution_count": null,
      "outputs": []
    },
    {
      "cell_type": "code",
      "source": [
        "# 첫 인자는 그냥 최대 숫자를 지정할 수 있습니다.\n",
        "np.random.choice(10, 3)"
      ],
      "metadata": {
        "id": "DD5E4L_nSZBt"
      },
      "execution_count": null,
      "outputs": []
    },
    {
      "cell_type": "code",
      "source": [
        "# 같은 숫자는 뽑히지 않게 합니다.\n",
        "np.random.choice(10, 3, replace=False)"
      ],
      "metadata": {
        "id": "KWtvE7R7SZ7P"
      },
      "execution_count": null,
      "outputs": []
    },
    {
      "cell_type": "markdown",
      "source": [
        "### 어레이 인덱싱 응용 1: 데이터 셔플링\n",
        "\n",
        "- 어레이 인덱싱을 자주 적용하는 구체적인 예로 데이터를 무작위로 섞는 작업을 해보도록 하겠습니다.\n",
        "\n",
        "- 다음 코드는 어레이 인덱싱을 사용하지 않고 데이터를 셔플링하는 방법입니다."
      ],
      "metadata": {
        "id": "Ocuhiv3DRK3h"
      }
    },
    {
      "cell_type": "code",
      "source": [
        "# 100에서 200까지 숫자가 들어 있는 어레이를 만듭니다.\n",
        "# 이 숫자들이 데이터 셋이라고 간주합니다.\n",
        "X = np.arange(100, 201)\n",
        "\n",
        "# 대부분 데이터 셋안에 샘플들이 무작위로 배열되기를 원하기 때문에\n",
        "# 다음처럼 shuffle() 함수를 이용해서 데이터 셋 자체를 셔플링할 수 있습니다.\n",
        "np.random.shuffle(X)\n",
        "print(X)"
      ],
      "metadata": {
        "id": "9CZfaLNJRQFB"
      },
      "execution_count": null,
      "outputs": []
    },
    {
      "cell_type": "code",
      "source": [
        "# 배열을 다시 만들고\n",
        "X = np.arange(100, 201)\n",
        "\n",
        "\n",
        "# 어레이의 인덱스를 섞어버립니다.\n",
        "sf_idx =\n",
        "np.random.shuffle(sf_idx)\n",
        "\n",
        "# 무작위로 섞인 인덱스를 사용해서 원본 데이터에서 인덱싱합니다.\n",
        "X2 =\n",
        "\n",
        "print(X2)\n",
        "print(X)"
      ],
      "metadata": {
        "id": "VDftIMLARuxb"
      },
      "execution_count": null,
      "outputs": []
    },
    {
      "cell_type": "markdown",
      "metadata": {
        "id": "VlFOIRyI3KBO"
      },
      "source": [
        "### 불린 인덱싱\n",
        "\n",
        "\n",
        "- 어레이 인덱싱과 같은 맥락으로 요소의 위치에 `True`, `False`를 지정하여 `True`에 해당되는 요소만 지정할 수 있습니다."
      ]
    },
    {
      "cell_type": "code",
      "source": [
        "A = np.arange(30).reshape(5,6)\n",
        "A"
      ],
      "metadata": {
        "id": "-dOgT4l72s9W"
      },
      "execution_count": null,
      "outputs": []
    },
    {
      "cell_type": "code",
      "metadata": {
        "id": "bXyqIrTK6OLY"
      },
      "source": [
        "# 어레이에 조건을 걸면 모든 요소에 대해서 조건 결과를 돌려줍니다.\n",
        "A > 20"
      ],
      "execution_count": null,
      "outputs": []
    },
    {
      "cell_type": "code",
      "metadata": {
        "id": "V1vpav_x6Qea"
      },
      "source": [
        "# 조건으로 인덱싱\n"
      ],
      "execution_count": null,
      "outputs": []
    },
    {
      "cell_type": "markdown",
      "metadata": {
        "id": "i4kaldQD3NqF"
      },
      "source": [
        "### 전치\n",
        "\n",
        "- 딥러닝 코딩에서는 numpy 어레이의 축 순서를 바꾸는 작업이 빈번하게 수행됩니다.\n",
        "\n",
        "- 이런 작업을 전치라고 하는데 가장 간단한 2차원 어레이에 대해서 예를 보도록 하겠습니다."
      ]
    },
    {
      "cell_type": "code",
      "source": [
        "# 2행, 3열의 어레이에 대해서\n",
        "A = (np.arange(6)+1).reshape(2,3)\n",
        "A"
      ],
      "metadata": {
        "id": "EWlgruA-c_rG"
      },
      "execution_count": null,
      "outputs": []
    },
    {
      "cell_type": "code",
      "source": [
        "# 행을 열로 열을 행으로 자리 바꿈합니다.\n",
        "# 이는 0번 축을 1번 축자리로 1번 축을 0번 축 자리로 보내는 것을 의미합니다.\n",
        "A.transpose(1,0)"
      ],
      "metadata": {
        "id": "t4Q0qbMLc_ku"
      },
      "execution_count": null,
      "outputs": []
    },
    {
      "cell_type": "markdown",
      "source": [
        "- 이미지를 다루는 딥러닝 코드는 4차원 어레이를 주로 사용하고 텍스트를 다루는 딥러닝 코드는 3차원 어레이를 주로 사용하므로 조금 더 복잡한 3차원 어레이에 대해서 전치를 실습해봅시다."
      ],
      "metadata": {
        "id": "D0cWYHP0dT_j"
      }
    },
    {
      "cell_type": "code",
      "metadata": {
        "id": "UimEed1P6ivX"
      },
      "source": [
        "A = (np.arange(18)+1).reshape(2,3,3)\n",
        "A"
      ],
      "execution_count": null,
      "outputs": []
    },
    {
      "cell_type": "code",
      "source": [
        "B = A[0,:]\n",
        "B.transpose(1,0) # == B.T"
      ],
      "metadata": {
        "id": "LWdCAM4pOn6L"
      },
      "execution_count": null,
      "outputs": []
    },
    {
      "cell_type": "code",
      "metadata": {
        "id": "lVPLiuYP6r0q"
      },
      "source": [
        "# tr(2,0,1)\n"
      ],
      "execution_count": null,
      "outputs": []
    },
    {
      "cell_type": "code",
      "metadata": {
        "id": "VyyAtNF26rtA"
      },
      "source": [
        "#################################################\n",
        "# [Lab] A를 아래 모양으로 바꾸려면 어떻게 트랜스포즈 시켜야 하나요?\n",
        "#\n",
        "# array([[[ 1, 10],\n",
        "#         [ 2, 11],\n",
        "#         [ 3, 12]],\n",
        "\n",
        "#        [[ 4, 13],\n",
        "#         [ 5, 14],\n",
        "#         [ 6, 15]],\n",
        "\n",
        "#        [[ 7, 16],\n",
        "#         [ 8, 17],\n",
        "#         [ 9, 18]]])\n",
        "\n",
        "#################################################\n",
        "\n",
        "\n"
      ],
      "execution_count": null,
      "outputs": []
    },
    {
      "cell_type": "markdown",
      "source": [
        "### 자주쓰는 기능 max, argmax"
      ],
      "metadata": {
        "id": "OslUBdvtQc1g"
      }
    },
    {
      "cell_type": "code",
      "source": [
        "# 1차원 어레이에 대해서\n",
        "x = np.random.rand(10)\n",
        "\n",
        "print(x)\n",
        "print(np.max(x))\n",
        "print(np.argmax(x))\n",
        "print(x[np.argmax(x)])"
      ],
      "metadata": {
        "id": "AHHGVhi0tyzD"
      },
      "execution_count": null,
      "outputs": []
    },
    {
      "cell_type": "code",
      "source": [
        "# 2차원 어레이에 대해서\n",
        "np.random.seed(0)\n",
        "\n",
        "x = np.random.rand(10).reshape(2,5)\n",
        "print(x)\n",
        "\n",
        "# 전체에 대해\n",
        "\n"
      ],
      "metadata": {
        "id": "kqxgXEwFFp-V"
      },
      "execution_count": null,
      "outputs": []
    },
    {
      "cell_type": "code",
      "source": [
        "# axis=0\n"
      ],
      "metadata": {
        "id": "AYfJ91bmbF9R"
      },
      "execution_count": null,
      "outputs": []
    },
    {
      "cell_type": "code",
      "source": [
        "# axis=1\n"
      ],
      "metadata": {
        "id": "ozhGxl0mba9O"
      },
      "execution_count": null,
      "outputs": []
    },
    {
      "cell_type": "markdown",
      "metadata": {
        "id": "Caou712v3P8d"
      },
      "source": [
        "### 브로드캐스팅\n",
        "\n",
        "- 앞서 어레이에 대한 연산은 요소별로 적용된다고 이야기 했습니다. 그렇기 때문에 기본적으로 요소 개수가 같아야 연산이 수행됩니다.\n",
        "\n",
        "- 하지만 정해진 룰을 따라 두 어레이의 모양을 맞출 수 있으면 자동으로 모양이 확장되면서 연산이 일어나게 되는데 이런 연산을 브로드캐스팅boradcasting 이라 합니다.\n",
        "\n",
        "- 브로드캐스팅이 일어나는 순서는 다음과 같습니다.\n",
        "    - 두 어레이의 차원이 다르다면 작은 차원을 확장해서 큰차원에 맞추는 차원 맞추기가 일어납니다.\n",
        "    - 두 어레이의 차원이 맞춰지면 두 어레이의 모양을 같게 하기 위해 축 크기가 1인 차원을 복사 확장해서 서로 모양을 맞춥니다.\n",
        "\n",
        "- 구체적인 예로 알아보겠습니다.\n",
        "\n",
        "- 가장 간단한 (3,)와 ()인 상수를 곱하는 예입니다."
      ]
    },
    {
      "cell_type": "code",
      "metadata": {
        "id": "abn7xG-L6_6T"
      },
      "source": [
        "A = np.array([1,2,3])\n",
        "\n",
        "# 상수 곱하기\n"
      ],
      "execution_count": null,
      "outputs": []
    },
    {
      "cell_type": "markdown",
      "source": [
        "- (3,)와 ()를 곱하려고 차원 맞추기가 일어납니다. ()이 (1,)이 됩니다.\n",
        "\n",
        "- (3,)에 모양을 맞추기 위해 (1,)가 (3,)로 늘어납니다. 이때 늘어나는 요소는 복사됩니다."
      ],
      "metadata": {
        "id": "W5u2rSsajYzG"
      }
    },
    {
      "cell_type": "code",
      "metadata": {
        "id": "ejceEk7n6_3o"
      },
      "source": [
        "np.random.seed(2)\n",
        "\n",
        "m, n = 4, 3\n",
        "A = np.random.randint(0, 10, m*n).reshape(m,n)\n",
        "b = np.random.randint(0, 10, n)\n",
        "print(A)\n",
        "print(b)"
      ],
      "execution_count": null,
      "outputs": []
    },
    {
      "cell_type": "markdown",
      "source": [
        "- (4,3)과 (3,)를 연산하기 위해 (3,)가 차원 확장됩니다.\n",
        "\n",
        "- (4,3), (1,3)으로 차원 맞추기가 되고 난 후 (1,3)이 (4,3)으로 확장됩니다. 이때 확장되는 요소들은 복사되어 늘어납니다.\n",
        "\n",
        "- (4,3)으로 모양이 맞춰졌으니 서로 연산을 수행합니다."
      ],
      "metadata": {
        "id": "rQyta1Ngjaf3"
      }
    },
    {
      "cell_type": "code",
      "metadata": {
        "id": "4q5SyRUE6_z3"
      },
      "source": [
        "# 2차원 어레이 * 1차원 어레이\n"
      ],
      "execution_count": null,
      "outputs": []
    },
    {
      "cell_type": "markdown",
      "source": [
        "- 다른 몇가지 예를 보면서 브로드캐스팅이 어떻게 일어나는지 견고하게 이해해야만 합니다.\n",
        "\n",
        "\n",
        "- 아래 예는 열벡터 요소 4개짜리와 행벡터 요소 4개짜리를 빼는 연산입니다."
      ],
      "metadata": {
        "id": "muDUM58IjcNO"
      }
    },
    {
      "cell_type": "code",
      "metadata": {
        "id": "tNC4-3ES7YnE"
      },
      "source": [
        "np.random.seed(11)\n",
        "\n",
        "m, n = 4, 3\n",
        "a = np.random.randint(0, 10, m).reshape(-1,1)\n",
        "b = a.reshape(-1)\n",
        "print(a)\n",
        "print(b)"
      ],
      "execution_count": null,
      "outputs": []
    },
    {
      "cell_type": "code",
      "metadata": {
        "id": "byaQnPi07ac2"
      },
      "source": [
        "# 1차원 어레이 * 1차원 어레이\n"
      ],
      "execution_count": null,
      "outputs": []
    },
    {
      "cell_type": "markdown",
      "source": [
        "- 앞쪽에 있는 모든 숫자와 뒤쪽에 있는 모든 숫자가 상호 조합되면서 모든 조합에 대해서 뺄셈이 일어났습니다!\n",
        "\n",
        "- 이걸 for 루프로 구현한다고 생각해보면 numpy 연산이 얼마나 효율적으로 작동하는지 충분히 상상할 수 있습니다."
      ],
      "metadata": {
        "id": "L2djbpP9_-VD"
      }
    },
    {
      "cell_type": "code",
      "metadata": {
        "id": "5_9eCVvpTAUd"
      },
      "source": [
        "# (4,3)*(3,1)?\n",
        "A = np.random.rand(12).reshape(4,3)\n",
        "B = np.random.rand(3).reshape(3,1)\n",
        "\n",
        "print(A)\n",
        "print(B)\n",
        "\n",
        "A*B"
      ],
      "execution_count": null,
      "outputs": []
    },
    {
      "cell_type": "code",
      "metadata": {
        "id": "ZmyOU0o2MnIY"
      },
      "source": [],
      "execution_count": null,
      "outputs": []
    }
  ]
}