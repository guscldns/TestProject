{
  "nbformat": 4,
  "nbformat_minor": 0,
  "metadata": {
    "colab": {
      "provenance": [],
      "toc_visible": true,
      "include_colab_link": true
    },
    "kernelspec": {
      "name": "python3",
      "display_name": "Python 3"
    },
    "language_info": {
      "name": "python"
    }
  },
  "cells": [
    {
      "cell_type": "markdown",
      "metadata": {
        "id": "view-in-github",
        "colab_type": "text"
      },
      "source": [
        "<a href=\"https://colab.research.google.com/github/guscldns/TestProject/blob/main/%EA%B8%B0%EC%B4%88%ED%86%B5%EA%B3%84/prob_basic.ipynb\" target=\"_parent\"><img src=\"https://colab.research.google.com/assets/colab-badge.svg\" alt=\"Open In Colab\"/></a>"
      ]
    },
    {
      "cell_type": "code",
      "source": [
        "# !apt install texlive-fonts-recommended texlive-fonts-extra cm-super dvipng"
      ],
      "metadata": {
        "id": "CVIhs-2m0pPU"
      },
      "execution_count": null,
      "outputs": []
    },
    {
      "cell_type": "code",
      "metadata": {
        "id": "LlFES7dFWXZL"
      },
      "source": [
        "import math\n",
        "import random\n",
        "\n",
        "import numpy as np\n",
        "import pandas as pd\n",
        "import matplotlib as mpl\n",
        "import matplotlib.pyplot as plt\n",
        "import seaborn as sns\n",
        "\n",
        "from scipy.stats import bernoulli, binom, multinomial, norm"
      ],
      "execution_count": null,
      "outputs": []
    },
    {
      "cell_type": "markdown",
      "source": [
        "# 1차원 데이터"
      ],
      "metadata": {
        "id": "leHvaRJrRAbn"
      }
    },
    {
      "cell_type": "markdown",
      "source": [
        "## 평균"
      ],
      "metadata": {
        "id": "8N90JAyrQIgz"
      }
    },
    {
      "cell_type": "code",
      "source": [
        "X = np.array([45, 26, 57, 67, 40, 30, 55, 60, 95, 500])\n",
        "\n",
        "# 공식대로 구하기\n",
        "print(X.sum()/len(X))\n",
        "\n",
        "# numpy 기능으로 바로 구하기\n",
        "print(X.mean())"
      ],
      "metadata": {
        "colab": {
          "base_uri": "https://localhost:8080/"
        },
        "id": "PQcq05VTQKI7",
        "outputId": "d8e61e96-c55c-4d91-cd8e-50ca0cd3efd2"
      },
      "execution_count": null,
      "outputs": [
        {
          "output_type": "stream",
          "name": "stdout",
          "text": [
            "97.5\n",
            "97.5\n"
          ]
        }
      ]
    },
    {
      "cell_type": "code",
      "source": [
        "# 이상치에 영향을 많이 받음\n",
        "print(X[:-1].mean())"
      ],
      "metadata": {
        "colab": {
          "base_uri": "https://localhost:8080/"
        },
        "id": "0oDfXR1vQMmt",
        "outputId": "707618db-5497-43f6-efd6-a7bc43024718"
      },
      "execution_count": null,
      "outputs": [
        {
          "output_type": "stream",
          "name": "stdout",
          "text": [
            "52.77777777777778\n"
          ]
        }
      ]
    },
    {
      "cell_type": "markdown",
      "source": [
        "## 중앙값"
      ],
      "metadata": {
        "id": "GxRtVFqeQP5d"
      }
    },
    {
      "cell_type": "code",
      "source": [
        "# 이상치에 영향 별로 없음\n",
        "np.median(X)"
      ],
      "metadata": {
        "colab": {
          "base_uri": "https://localhost:8080/"
        },
        "id": "VGpaRCm6QRHe",
        "outputId": "d75a0228-dc49-4664-a46a-f012cfd8dd3a"
      },
      "execution_count": null,
      "outputs": [
        {
          "output_type": "execute_result",
          "data": {
            "text/plain": [
              "56.0"
            ]
          },
          "metadata": {},
          "execution_count": 5
        }
      ]
    },
    {
      "cell_type": "code",
      "source": [
        "# 크기 순을 정렬해서 가운데 있는 값\n",
        "# 데이터 개수가 짝수면 가운데 두값의 평균\n",
        "X.sort()\n",
        "X"
      ],
      "metadata": {
        "colab": {
          "base_uri": "https://localhost:8080/"
        },
        "id": "breEsUH8QSQ9",
        "outputId": "de067b30-33fd-426f-a25f-e5bac7e3715e"
      },
      "execution_count": null,
      "outputs": [
        {
          "output_type": "execute_result",
          "data": {
            "text/plain": [
              "array([ 26,  30,  40,  45,  55,  57,  60,  67,  95, 500])"
            ]
          },
          "metadata": {},
          "execution_count": 6
        }
      ]
    },
    {
      "cell_type": "markdown",
      "source": [
        "## 분산\n",
        "\n",
        "- score1과 score2는 평균이 똑같음"
      ],
      "metadata": {
        "id": "YpJcB3ScQUV1"
      }
    },
    {
      "cell_type": "code",
      "source": [
        "np.random.seed(0)\n",
        "scores1 = np.random.randint(30, 100, 10)\n",
        "print(scores1)\n",
        "print(scores1.mean())"
      ],
      "metadata": {
        "colab": {
          "base_uri": "https://localhost:8080/"
        },
        "id": "I8kKj6goQVne",
        "outputId": "cba7b102-6fba-45eb-d4a8-f4fc4d62bfc8"
      },
      "execution_count": null,
      "outputs": [
        {
          "output_type": "stream",
          "name": "stdout",
          "text": [
            "[74 77 94 97 97 39 51 66 42 88]\n",
            "72.5\n"
          ]
        }
      ]
    },
    {
      "cell_type": "code",
      "source": [
        "scores2 = np.random.randint(50, 90, 10)\n",
        "print(scores2)\n",
        "print(scores2.mean())"
      ],
      "metadata": {
        "colab": {
          "base_uri": "https://localhost:8080/"
        },
        "id": "Ljz0q9X-QWvu",
        "outputId": "998f97f1-fa62-4b06-c4d6-7b1bc22ade22"
      },
      "execution_count": null,
      "outputs": [
        {
          "output_type": "stream",
          "name": "stdout",
          "text": [
            "[51 88 89 73 74 67 87 75 63 58]\n",
            "72.5\n"
          ]
        }
      ]
    },
    {
      "cell_type": "markdown",
      "source": [
        "- 각 데이터에서 평균과의 차이를 구하고 이를 막대그래프로 표현"
      ],
      "metadata": {
        "id": "k_sui599QYl-"
      }
    },
    {
      "cell_type": "code",
      "source": [
        "deviations1 = scores1 - scores1.mean()\n",
        "deviations1"
      ],
      "metadata": {
        "colab": {
          "base_uri": "https://localhost:8080/"
        },
        "id": "Q5_IIt3iQZ4B",
        "outputId": "074cbc20-58a9-4e1a-92e9-4f78c5ea7542"
      },
      "execution_count": null,
      "outputs": [
        {
          "output_type": "execute_result",
          "data": {
            "text/plain": [
              "array([  1.5,   4.5,  21.5,  24.5,  24.5, -33.5, -21.5,  -6.5, -30.5,\n",
              "        15.5])"
            ]
          },
          "metadata": {},
          "execution_count": 9
        }
      ]
    },
    {
      "cell_type": "code",
      "source": [
        "deviations2 = scores2 - scores2.mean()\n",
        "deviations2"
      ],
      "metadata": {
        "colab": {
          "base_uri": "https://localhost:8080/"
        },
        "id": "wdXwFNxqQa2Z",
        "outputId": "b9755591-a4b6-42bd-dd6b-efc3632cfe29"
      },
      "execution_count": null,
      "outputs": [
        {
          "output_type": "execute_result",
          "data": {
            "text/plain": [
              "array([-21.5,  15.5,  16.5,   0.5,   1.5,  -5.5,  14.5,   2.5,  -9.5,\n",
              "       -14.5])"
            ]
          },
          "metadata": {},
          "execution_count": 10
        }
      ]
    },
    {
      "cell_type": "code",
      "source": [
        "fig, ax = plt.subplots(figsize=(10,5), nrows=1, ncols=2, sharey=True)\n",
        "\n",
        "ax[0].bar(np.arange(10), deviations1, color='C1', edgecolor='k')\n",
        "ax[0].set_title('scores 1 deviations')\n",
        "ax[1].bar(np.arange(10), deviations2, color='C2', edgecolor='k')\n",
        "ax[1].set_title('scores 2 deviations')\n",
        "plt.show()"
      ],
      "metadata": {
        "colab": {
          "base_uri": "https://localhost:8080/",
          "height": 468
        },
        "id": "G9Fj4J61QcRB",
        "outputId": "1c42fe7c-9bc6-41e1-f864-d96d2e95eba3"
      },
      "execution_count": null,
      "outputs": [
        {
          "output_type": "display_data",
          "data": {
            "text/plain": [
              "<Figure size 1000x500 with 2 Axes>"
            ],
            "image/png": "[encoded data removed]"
          },
          "metadata": {}
        }
      ]
    },
    {
      "cell_type": "markdown",
      "source": [
        "- 이 평균과의 차이값들을 평균해보면 0이 됨"
      ],
      "metadata": {
        "id": "IneqmShyQezh"
      }
    },
    {
      "cell_type": "code",
      "source": [
        "print(deviations1.sum() / len(deviations1))\n",
        "print(deviations2.sum() / len(deviations2))"
      ],
      "metadata": {
        "colab": {
          "base_uri": "https://localhost:8080/"
        },
        "id": "rCEBKszJQgJR",
        "outputId": "87c3fb56-99cf-4215-b9ea-e03637ea7d82"
      },
      "execution_count": null,
      "outputs": [
        {
          "output_type": "stream",
          "name": "stdout",
          "text": [
            "0.0\n",
            "0.0\n"
          ]
        }
      ]
    },
    {
      "cell_type": "markdown",
      "source": [
        "$$\n",
        "\\begin{aligned}\n",
        "\\frac{1}{n}\\sum_{i=1}^n (x_i - \\bar{x}) &= \\frac{1}{n} \\sum_{i=1}^n \\left( x_i - \\frac{1}{n} \\sum_{i=1}^n x_i \\right) \\\\\n",
        "&=\\frac{1}{n} \\left\\{ \\sum_{i=1}^n x_i - \\sum_{i=1}^n \\left(\\frac{1}{n} \\sum_{i=1}^n x_i \\right) \\right\\}\\\\\n",
        "&= \\frac{1}{n} \\left( \\sum_{i=1}^n x_i - n\\bar{x} \\right) \\\\\n",
        "&= \\frac{1}{n} \\sum_{i=1}^n x_i - \\bar{x}  = 0\n",
        "\\end{aligned}\n",
        "$$\n",
        "\n",
        "- 그래서 제곱하여 평균을 냄"
      ],
      "metadata": {
        "id": "Lg8gbOQ2QhoY"
      }
    },
    {
      "cell_type": "code",
      "source": [
        "# 편차 제곱의 평균[+]\n",
        "print((deviations1**2).mean())\n",
        "print((deviations2**2).mean())\n",
        "\n",
        "# numpy 기능으로 분산 바로 구하기 [+]\n",
        "# ddof=0 이 디폴트, 즉 N으로 나눔\n",
        "print(scores1.var())\n",
        "print(scores2.var())"
      ],
      "metadata": {
        "colab": {
          "base_uri": "https://localhost:8080/"
        },
        "id": "0GcWd3PPQi7J",
        "outputId": "e54fff77-6fa1-48e2-f34b-4391857218d7"
      },
      "execution_count": null,
      "outputs": [
        {
          "output_type": "stream",
          "name": "stdout",
          "text": [
            "448.25\n",
            "152.45\n",
            "448.25\n",
            "152.45\n"
          ]
        }
      ]
    },
    {
      "cell_type": "markdown",
      "source": [
        "- 분산은 평균과의 편차값을 한변으로 하는 정사각형들의 평균 넓이"
      ],
      "metadata": {
        "id": "zfoAfc7jQkep"
      }
    },
    {
      "cell_type": "code",
      "source": [
        "from matplotlib.patches import Rectangle\n",
        "\n",
        "fig = plt.figure(dpi=100)\n",
        "ax = plt.axes()\n",
        "\n",
        "#          0:-   1:+\n",
        "colors = ['C1', 'C2']\n",
        "\n",
        "covs = [ Rectangle( (0,0), x, x, edgecolor='k',\n",
        "                   facecolor=colors[1], alpha=0.3)\n",
        "            for x in deviations2 ]\n",
        "\n",
        "for cov in covs:\n",
        "    ax.add_patch(cov)\n",
        "\n",
        "ax.plot(deviations2, np.zeros_like(deviations2), 'o', color='k')\n",
        "ax.axhline(y=0, color='k')\n",
        "ax.axvline(x=0, color='k')\n",
        "ax.axis('equal')\n",
        "plt.show()"
      ],
      "metadata": {
        "colab": {
          "base_uri": "https://localhost:8080/",
          "height": 430
        },
        "id": "4Dq0WtRaQluZ",
        "outputId": "af148fe6-a660-4fe5-fa9d-3158f7f17edb"
      },
      "execution_count": null,
      "outputs": [
        {
          "output_type": "display_data",
          "data": {
            "text/plain": [
              "<Figure size 640x480 with 1 Axes>"
            ],
            "image/png": "[encoded data removed]"
          },
          "metadata": {}
        }
      ]
    },
    {
      "cell_type": "markdown",
      "source": [
        "## 표준편차\n",
        "\n",
        "- 분산이 제곱되어 구해진 값이므로 제곱근을 구해서 원래 데이터와 비슷한 지표로 만든 값"
      ],
      "metadata": {
        "id": "3wzc7DZlQnyw"
      }
    },
    {
      "cell_type": "code",
      "source": [
        "# # 편차 제곱 평균의 양의 제곱근\n",
        "print(np.sqrt((deviations1**2).mean()))\n",
        "print(np.sqrt((deviations2**2).mean()))\n",
        "\n",
        "# numpy 기능으로 표준편차 바로 구하기 [+]\n",
        "print(scores1.std())\n",
        "print(scores2.std())"
      ],
      "metadata": {
        "colab": {
          "base_uri": "https://localhost:8080/"
        },
        "id": "pI6MA2JdQpJ0",
        "outputId": "70bacc5f-1f96-4130-fcb2-81af08f38306"
      },
      "execution_count": null,
      "outputs": [
        {
          "output_type": "stream",
          "name": "stdout",
          "text": [
            "21.17191535974013\n",
            "12.34706442843804\n",
            "21.17191535974013\n",
            "12.34706442843804\n"
          ]
        }
      ]
    },
    {
      "cell_type": "markdown",
      "source": [
        "### 표준편차를 사용한 이상치 탐지anomaly detection: 3 sigma rule\n",
        "\n",
        "- 정의\n",
        "\n",
        "- 경험적 규칙(empirical rule)\n",
        "- 표준편차의 3배인 3*Sigma(σ)의 범위가 전체 Data의 99.7%를 포함\n",
        "- UCL(Upper Control Limit) = mu + 3*sigma\n",
        "- LCL(Lower Control Limit) = mu - 3*sigma\n",
        "\n",
        "- 장단점\n",
        "  - 구현과 이해가 쉽고 명확한 기준 설정 가능\n",
        "  - 정규분포 가정 필요\n",
        "  - 다변수 데이터에는 하나의 변수에 각각 적용해야 하므로 피쳐간 상호관계를 파악하기 어려움\n",
        "  \n"
      ],
      "metadata": {
        "id": "rV__vh_WRIda"
      }
    },
    {
      "cell_type": "code",
      "source": [
        "!gdown 1DAi1LRchE2xCb4zROLcwYTWQQ2BUiRv3"
      ],
      "metadata": {
        "colab": {
          "base_uri": "https://localhost:8080/"
        },
        "id": "LNWN2WYcRRMZ",
        "outputId": "45a360db-4f3b-4bca-80a1-e701e8408a53"
      },
      "execution_count": null,
      "outputs": [
        {
          "output_type": "stream",
          "name": "stdout",
          "text": [
            "Downloading...\n",
            "From: https://drive.google.com/uc?id=1DAi1LRchE2xCb4zROLcwYTWQQ2BUiRv3\n",
            "To: /content/nba.csv\n",
            "\r  0% 0.00/1.84M [00:00<?, ?B/s]\r100% 1.84M/1.84M [00:00<00:00, 175MB/s]\n"
          ]
        }
      ]
    },
    {
      "cell_type": "code",
      "source": [
        "nba_df = pd.read_csv('nba.csv', index_col=0)\n",
        "\n",
        "nba_df.head()"
      ],
      "metadata": {
        "colab": {
          "base_uri": "https://localhost:8080/",
          "height": 342
        },
        "id": "PW2XG_sqRRIL",
        "outputId": "099a39e8-f75d-4b00-ca1a-1ffb9c40a848"
      },
      "execution_count": null,
      "outputs": [
        {
          "output_type": "execute_result",
          "data": {
            "text/plain": [
              "         player_name team_abbreviation   age  player_height  player_weight  \\\n",
              "0      Dennis Rodman               CHI  36.0         198.12      99.790240   \n",
              "1  Dwayne Schintzius               LAC  28.0         215.90     117.933920   \n",
              "2       Earl Cureton               TOR  39.0         205.74      95.254320   \n",
              "3        Ed O'Bannon               DAL  24.0         203.20     100.697424   \n",
              "4        Ed Pinckney               MIA  34.0         205.74     108.862080   \n",
              "\n",
              "                       college country draft_year draft_round draft_number  \\\n",
              "0  Southeastern Oklahoma State     USA       1986           2           27   \n",
              "1                      Florida     USA       1990           1           24   \n",
              "2                Detroit Mercy     USA       1979           3           58   \n",
              "3                         UCLA     USA       1995           1            9   \n",
              "4                    Villanova     USA       1985           1           10   \n",
              "\n",
              "   ...  pts   reb  ast  net_rating  oreb_pct  dreb_pct  usg_pct  ts_pct  \\\n",
              "0  ...  5.7  16.1  3.1        16.1     0.186     0.323    0.100   0.479   \n",
              "1  ...  2.3   1.5  0.3        12.3     0.078     0.151    0.175   0.430   \n",
              "2  ...  0.8   1.0  0.4        -2.1     0.105     0.102    0.103   0.376   \n",
              "3  ...  3.7   2.3  0.6        -8.7     0.060     0.149    0.167   0.399   \n",
              "4  ...  2.4   2.4  0.2       -11.2     0.109     0.179    0.127   0.611   \n",
              "\n",
              "   ast_pct   season  \n",
              "0    0.113  1996-97  \n",
              "1    0.048  1996-97  \n",
              "2    0.148  1996-97  \n",
              "3    0.077  1996-97  \n",
              "4    0.040  1996-97  \n",
              "\n",
              "[5 rows x 21 columns]"
            ],
            "text/html": [
              "\n",
              "  <div id=\"df-bd8c7e40-f6c1-4c64-9ef3-0ec6401f1a35\" class=\"colab-df-container\">\n",
              "    <div>\n",
              "<style scoped>\n",
              "    .dataframe tbody tr th:only-of-type {\n",
              "        vertical-align: middle;\n",
              "    }\n",
              "\n",
              "    .dataframe tbody tr th {\n",
              "        vertical-align: top;\n",
              "    }\n",
              "\n",
              "    .dataframe thead th {\n",
              "        text-align: right;\n",
              "    }\n",
              "</style>\n",
              "<table border=\"1\" class=\"dataframe\">\n",
              "  <thead>\n",
              "    <tr style=\"text-align: right;\">\n",
              "      <th></th>\n",
              "      <th>player_name</th>\n",
              "      <th>team_abbreviation</th>\n",
              "      <th>age</th>\n",
              "      <th>player_height</th>\n",
              "      <th>player_weight</th>\n",
              "      <th>college</th>\n",
              "      <th>country</th>\n",
              "      <th>draft_year</th>\n",
              "      <th>draft_round</th>\n",
              "      <th>draft_number</th>\n",
              "      <th>...</th>\n",
              "      <th>pts</th>\n",
              "      <th>reb</th>\n",
              "      <th>ast</th>\n",
              "      <th>net_rating</th>\n",
              "      <th>oreb_pct</th>\n",
              "      <th>dreb_pct</th>\n",
              "      <th>usg_pct</th>\n",
              "      <th>ts_pct</th>\n",
              "      <th>ast_pct</th>\n",
              "      <th>season</th>\n",
              "    </tr>\n",
              "  </thead>\n",
              "  <tbody>\n",
              "    <tr>\n",
              "      <th>0</th>\n",
              "      <td>Dennis Rodman</td>\n",
              "      <td>CHI</td>\n",
              "      <td>36.0</td>\n",
              "      <td>198.12</td>\n",
              "      <td>99.790240</td>\n",
              "      <td>Southeastern Oklahoma State</td>\n",
              "      <td>USA</td>\n",
              "      <td>1986</td>\n",
              "      <td>2</td>\n",
              "      <td>27</td>\n",
              "      <td>...</td>\n",
              "      <td>5.7</td>\n",
              "      <td>16.1</td>\n",
              "      <td>3.1</td>\n",
              "      <td>16.1</td>\n",
              "      <td>0.186</td>\n",
              "      <td>0.323</td>\n",
              "      <td>0.100</td>\n",
              "      <td>0.479</td>\n",
              "      <td>0.113</td>\n",
              "      <td>1996-97</td>\n",
              "    </tr>\n",
              "    <tr>\n",
              "      <th>1</th>\n",
              "      <td>Dwayne Schintzius</td>\n",
              "      <td>LAC</td>\n",
              "      <td>28.0</td>\n",
              "      <td>215.90</td>\n",
              "      <td>117.933920</td>\n",
              "      <td>Florida</td>\n",
              "      <td>USA</td>\n",
              "      <td>1990</td>\n",
              "      <td>1</td>\n",
              "      <td>24</td>\n",
              "      <td>...</td>\n",
              "      <td>2.3</td>\n",
              "      <td>1.5</td>\n",
              "      <td>0.3</td>\n",
              "      <td>12.3</td>\n",
              "      <td>0.078</td>\n",
              "      <td>0.151</td>\n",
              "      <td>0.175</td>\n",
              "      <td>0.430</td>\n",
              "      <td>0.048</td>\n",
              "      <td>1996-97</td>\n",
              "    </tr>\n",
              "    <tr>\n",
              "      <th>2</th>\n",
              "      <td>Earl Cureton</td>\n",
              "      <td>TOR</td>\n",
              "      <td>39.0</td>\n",
              "      <td>205.74</td>\n",
              "      <td>95.254320</td>\n",
              "      <td>Detroit Mercy</td>\n",
              "      <td>USA</td>\n",
              "      <td>1979</td>\n",
              "      <td>3</td>\n",
              "      <td>58</td>\n",
              "      <td>...</td>\n",
              "      <td>0.8</td>\n",
              "      <td>1.0</td>\n",
              "      <td>0.4</td>\n",
              "      <td>-2.1</td>\n",
              "      <td>0.105</td>\n",
              "      <td>0.102</td>\n",
              "      <td>0.103</td>\n",
              "      <td>0.376</td>\n",
              "      <td>0.148</td>\n",
              "      <td>1996-97</td>\n",
              "    </tr>\n",
              "    <tr>\n",
              "      <th>3</th>\n",
              "      <td>Ed O'Bannon</td>\n",
              "      <td>DAL</td>\n",
              "      <td>24.0</td>\n",
              "      <td>203.20</td>\n",
              "      <td>100.697424</td>\n",
              "      <td>UCLA</td>\n",
              "      <td>USA</td>\n",
              "      <td>1995</td>\n",
              "      <td>1</td>\n",
              "      <td>9</td>\n",
              "      <td>...</td>\n",
              "      <td>3.7</td>\n",
              "      <td>2.3</td>\n",
              "      <td>0.6</td>\n",
              "      <td>-8.7</td>\n",
              "      <td>0.060</td>\n",
              "      <td>0.149</td>\n",
              "      <td>0.167</td>\n",
              "      <td>0.399</td>\n",
              "      <td>0.077</td>\n",
              "      <td>1996-97</td>\n",
              "    </tr>\n",
              "    <tr>\n",
              "      <th>4</th>\n",
              "      <td>Ed Pinckney</td>\n",
              "      <td>MIA</td>\n",
              "      <td>34.0</td>\n",
              "      <td>205.74</td>\n",
              "      <td>108.862080</td>\n",
              "      <td>Villanova</td>\n",
              "      <td>USA</td>\n",
              "      <td>1985</td>\n",
              "      <td>1</td>\n",
              "      <td>10</td>\n",
              "      <td>...</td>\n",
              "      <td>2.4</td>\n",
              "      <td>2.4</td>\n",
              "      <td>0.2</td>\n",
              "      <td>-11.2</td>\n",
              "      <td>0.109</td>\n",
              "      <td>0.179</td>\n",
              "      <td>0.127</td>\n",
              "      <td>0.611</td>\n",
              "      <td>0.040</td>\n",
              "      <td>1996-97</td>\n",
              "    </tr>\n",
              "  </tbody>\n",
              "</table>\n",
              "<p>5 rows × 21 columns</p>\n",
              "</div>\n",
              "    <div class=\"colab-df-buttons\">\n",
              "\n",
              "  <div class=\"colab-df-container\">\n",
              "    <button class=\"colab-df-convert\" onclick=\"convertToInteractive('df-bd8c7e40-f6c1-4c64-9ef3-0ec6401f1a35')\"\n",
              "            title=\"Convert this dataframe to an interactive table.\"\n",
              "            style=\"display:none;\">\n",
              "\n",
              "  <svg xmlns=\"http://www.w3.org/2000/svg\" height=\"24px\" viewBox=\"0 -960 960 960\">\n",
              "    <path d=\"M120-120v-720h720v720H120Zm60-500h600v-160H180v160Zm220 220h160v-160H400v160Zm0 220h160v-160H400v160ZM180-400h160v-160H180v160Zm440 0h160v-160H620v160ZM180-180h160v-160H180v160Zm440 0h160v-160H620v160Z\"/>\n",
              "  </svg>\n",
              "    </button>\n",
              "\n",
              "  <style>\n",
              "    .colab-df-container {\n",
              "      display:flex;\n",
              "      gap: 12px;\n",
              "    }\n",
              "\n",
              "    .colab-df-convert {\n",
              "      background-color: #E8F0FE;\n",
              "      border: none;\n",
              "      border-radius: 50%;\n",
              "      cursor: pointer;\n",
              "      display: none;\n",
              "      fill: #1967D2;\n",
              "      height: 32px;\n",
              "      padding: 0 0 0 0;\n",
              "      width: 32px;\n",
              "    }\n",
              "\n",
              "    .colab-df-convert:hover {\n",
              "      background-color: #E2EBFA;\n",
              "      box-shadow: 0px 1px 2px rgba(60, 64, 67, 0.3), 0px 1px 3px 1px rgba(60, 64, 67, 0.15);\n",
              "      fill: #174EA6;\n",
              "    }\n",
              "\n",
              "    .colab-df-buttons div {\n",
              "      margin-bottom: 4px;\n",
              "    }\n",
              "\n",
              "    [theme=dark] .colab-df-convert {\n",
              "      background-color: #3B4455;\n",
              "      fill: #D2E3FC;\n",
              "    }\n",
              "\n",
              "    [theme=dark] .colab-df-convert:hover {\n",
              "      background-color: #434B5C;\n",
              "      box-shadow: 0px 1px 3px 1px rgba(0, 0, 0, 0.15);\n",
              "      filter: drop-shadow(0px 1px 2px rgba(0, 0, 0, 0.3));\n",
              "      fill: #FFFFFF;\n",
              "    }\n",
              "  </style>\n",
              "\n",
              "    <script>\n",
              "      const buttonEl =\n",
              "        document.querySelector('#df-bd8c7e40-f6c1-4c64-9ef3-0ec6401f1a35 button.colab-df-convert');\n",
              "      buttonEl.style.display =\n",
              "        google.colab.kernel.accessAllowed ? 'block' : 'none';\n",
              "\n",
              "      async function convertToInteractive(key) {\n",
              "        const element = document.querySelector('#df-bd8c7e40-f6c1-4c64-9ef3-0ec6401f1a35');\n",
              "        const dataTable =\n",
              "          await google.colab.kernel.invokeFunction('convertToInteractive',\n",
              "                                                    [key], {});\n",
              "        if (!dataTable) return;\n",
              "\n",
              "        const docLinkHtml = 'Like what you see? Visit the ' +\n",
              "          '<a target=\"_blank\" href=https://colab.research.google.com/notebooks/data_table.ipynb>data table notebook</a>'\n",
              "          + ' to learn more about interactive tables.';\n",
              "        element.innerHTML = '';\n",
              "        dataTable['output_type'] = 'display_data';\n",
              "        await google.colab.output.renderOutput(dataTable, element);\n",
              "        const docLink = document.createElement('div');\n",
              "        docLink.innerHTML = docLinkHtml;\n",
              "        element.appendChild(docLink);\n",
              "      }\n",
              "    </script>\n",
              "  </div>\n",
              "\n",
              "\n",
              "<div id=\"df-dbec7faa-ca3b-483c-bdd2-bb6f486f41e3\">\n",
              "  <button class=\"colab-df-quickchart\" onclick=\"quickchart('df-dbec7faa-ca3b-483c-bdd2-bb6f486f41e3')\"\n",
              "            title=\"Suggest charts.\"\n",
              "            style=\"display:none;\">\n",
              "\n",
              "<svg xmlns=\"http://www.w3.org/2000/svg\" height=\"24px\"viewBox=\"0 0 24 24\"\n",
              "     width=\"24px\">\n",
              "    <g>\n",
              "        <path d=\"M19 3H5c-1.1 0-2 .9-2 2v14c0 1.1.9 2 2 2h14c1.1 0 2-.9 2-2V5c0-1.1-.9-2-2-2zM9 17H7v-7h2v7zm4 0h-2V7h2v10zm4 0h-2v-4h2v4z\"/>\n",
              "    </g>\n",
              "</svg>\n",
              "  </button>\n",
              "\n",
              "<style>\n",
              "  .colab-df-quickchart {\n",
              "      --bg-color: #E8F0FE;\n",
              "      --fill-color: #1967D2;\n",
              "      --hover-bg-color: #E2EBFA;\n",
              "      --hover-fill-color: #174EA6;\n",
              "      --disabled-fill-color: #AAA;\n",
              "      --disabled-bg-color: #DDD;\n",
              "  }\n",
              "\n",
              "  [theme=dark] .colab-df-quickchart {\n",
              "      --bg-color: #3B4455;\n",
              "      --fill-color: #D2E3FC;\n",
              "      --hover-bg-color: #434B5C;\n",
              "      --hover-fill-color: #FFFFFF;\n",
              "      --disabled-bg-color: #3B4455;\n",
              "      --disabled-fill-color: #666;\n",
              "  }\n",
              "\n",
              "  .colab-df-quickchart {\n",
              "    background-color: var(--bg-color);\n",
              "    border: none;\n",
              "    border-radius: 50%;\n",
              "    cursor: pointer;\n",
              "    display: none;\n",
              "    fill: var(--fill-color);\n",
              "    height: 32px;\n",
              "    padding: 0;\n",
              "    width: 32px;\n",
              "  }\n",
              "\n",
              "  .colab-df-quickchart:hover {\n",
              "    background-color: var(--hover-bg-color);\n",
              "    box-shadow: 0 1px 2px rgba(60, 64, 67, 0.3), 0 1px 3px 1px rgba(60, 64, 67, 0.15);\n",
              "    fill: var(--button-hover-fill-color);\n",
              "  }\n",
              "\n",
              "  .colab-df-quickchart-complete:disabled,\n",
              "  .colab-df-quickchart-complete:disabled:hover {\n",
              "    background-color: var(--disabled-bg-color);\n",
              "    fill: var(--disabled-fill-color);\n",
              "    box-shadow: none;\n",
              "  }\n",
              "\n",
              "  .colab-df-spinner {\n",
              "    border: 2px solid var(--fill-color);\n",
              "    border-color: transparent;\n",
              "    border-bottom-color: var(--fill-color);\n",
              "    animation:\n",
              "      spin 1s steps(1) infinite;\n",
              "  }\n",
              "\n",
              "  @keyframes spin {\n",
              "    0% {\n",
              "      border-color: transparent;\n",
              "      border-bottom-color: var(--fill-color);\n",
              "      border-left-color: var(--fill-color);\n",
              "    }\n",
              "    20% {\n",
              "      border-color: transparent;\n",
              "      border-left-color: var(--fill-color);\n",
              "      border-top-color: var(--fill-color);\n",
              "    }\n",
              "    30% {\n",
              "      border-color: transparent;\n",
              "      border-left-color: var(--fill-color);\n",
              "      border-top-color: var(--fill-color);\n",
              "      border-right-color: var(--fill-color);\n",
              "    }\n",
              "    40% {\n",
              "      border-color: transparent;\n",
              "      border-right-color: var(--fill-color);\n",
              "      border-top-color: var(--fill-color);\n",
              "    }\n",
              "    60% {\n",
              "      border-color: transparent;\n",
              "      border-right-color: var(--fill-color);\n",
              "    }\n",
              "    80% {\n",
              "      border-color: transparent;\n",
              "      border-right-color: var(--fill-color);\n",
              "      border-bottom-color: var(--fill-color);\n",
              "    }\n",
              "    90% {\n",
              "      border-color: transparent;\n",
              "      border-bottom-color: var(--fill-color);\n",
              "    }\n",
              "  }\n",
              "</style>\n",
              "\n",
              "  <script>\n",
              "    async function quickchart(key) {\n",
              "      const quickchartButtonEl =\n",
              "        document.querySelector('#' + key + ' button');\n",
              "      quickchartButtonEl.disabled = true;  // To prevent multiple clicks.\n",
              "      quickchartButtonEl.classList.add('colab-df-spinner');\n",
              "      try {\n",
              "        const charts = await google.colab.kernel.invokeFunction(\n",
              "            'suggestCharts', [key], {});\n",
              "      } catch (error) {\n",
              "        console.error('Error during call to suggestCharts:', error);\n",
              "      }\n",
              "      quickchartButtonEl.classList.remove('colab-df-spinner');\n",
              "      quickchartButtonEl.classList.add('colab-df-quickchart-complete');\n",
              "    }\n",
              "    (() => {\n",
              "      let quickchartButtonEl =\n",
              "        document.querySelector('#df-dbec7faa-ca3b-483c-bdd2-bb6f486f41e3 button');\n",
              "      quickchartButtonEl.style.display =\n",
              "        google.colab.kernel.accessAllowed ? 'block' : 'none';\n",
              "    })();\n",
              "  </script>\n",
              "</div>\n",
              "    </div>\n",
              "  </div>\n"
            ]
          },
          "metadata": {},
          "execution_count": 17
        }
      ]
    },
    {
      "cell_type": "code",
      "source": [
        "nba_df = nba_df[nba_df['season'] == '2021-22']\n",
        "nba_df = nba_df[['player_name', 'player_height', 'player_weight']].reset_index(drop=True)\n",
        "\n",
        "nba_df.head()"
      ],
      "metadata": {
        "colab": {
          "base_uri": "https://localhost:8080/",
          "height": 206
        },
        "id": "kRNLF6F4RctG",
        "outputId": "8b2dc0a7-d17b-4e92-a4e5-854f1eadc5e3"
      },
      "execution_count": null,
      "outputs": [
        {
          "output_type": "execute_result",
          "data": {
            "text/plain": [
              "         player_name  player_height  player_weight\n",
              "0  Freddie Gillespie         205.74     111.130040\n",
              "1      Georges Niang         200.66     104.326160\n",
              "2        George King         198.12      99.790240\n",
              "3        George Hill         193.04      85.275296\n",
              "4     Gary Trent Jr.         195.58      94.800728"
            ],
            "text/html": [
              "\n",
              "  <div id=\"df-f6696f6f-8172-4d88-bf86-04cd1e29d13a\" class=\"colab-df-container\">\n",
              "    <div>\n",
              "<style scoped>\n",
              "    .dataframe tbody tr th:only-of-type {\n",
              "        vertical-align: middle;\n",
              "    }\n",
              "\n",
              "    .dataframe tbody tr th {\n",
              "        vertical-align: top;\n",
              "    }\n",
              "\n",
              "    .dataframe thead th {\n",
              "        text-align: right;\n",
              "    }\n",
              "</style>\n",
              "<table border=\"1\" class=\"dataframe\">\n",
              "  <thead>\n",
              "    <tr style=\"text-align: right;\">\n",
              "      <th></th>\n",
              "      <th>player_name</th>\n",
              "      <th>player_height</th>\n",
              "      <th>player_weight</th>\n",
              "    </tr>\n",
              "  </thead>\n",
              "  <tbody>\n",
              "    <tr>\n",
              "      <th>0</th>\n",
              "      <td>Freddie Gillespie</td>\n",
              "      <td>205.74</td>\n",
              "      <td>111.130040</td>\n",
              "    </tr>\n",
              "    <tr>\n",
              "      <th>1</th>\n",
              "      <td>Georges Niang</td>\n",
              "      <td>200.66</td>\n",
              "      <td>104.326160</td>\n",
              "    </tr>\n",
              "    <tr>\n",
              "      <th>2</th>\n",
              "      <td>George King</td>\n",
              "      <td>198.12</td>\n",
              "      <td>99.790240</td>\n",
              "    </tr>\n",
              "    <tr>\n",
              "      <th>3</th>\n",
              "      <td>George Hill</td>\n",
              "      <td>193.04</td>\n",
              "      <td>85.275296</td>\n",
              "    </tr>\n",
              "    <tr>\n",
              "      <th>4</th>\n",
              "      <td>Gary Trent Jr.</td>\n",
              "      <td>195.58</td>\n",
              "      <td>94.800728</td>\n",
              "    </tr>\n",
              "  </tbody>\n",
              "</table>\n",
              "</div>\n",
              "    <div class=\"colab-df-buttons\">\n",
              "\n",
              "  <div class=\"colab-df-container\">\n",
              "    <button class=\"colab-df-convert\" onclick=\"convertToInteractive('df-f6696f6f-8172-4d88-bf86-04cd1e29d13a')\"\n",
              "            title=\"Convert this dataframe to an interactive table.\"\n",
              "            style=\"display:none;\">\n",
              "\n",
              "  <svg xmlns=\"http://www.w3.org/2000/svg\" height=\"24px\" viewBox=\"0 -960 960 960\">\n",
              "    <path d=\"M120-120v-720h720v720H120Zm60-500h600v-160H180v160Zm220 220h160v-160H400v160Zm0 220h160v-160H400v160ZM180-400h160v-160H180v160Zm440 0h160v-160H620v160ZM180-180h160v-160H180v160Zm440 0h160v-160H620v160Z\"/>\n",
              "  </svg>\n",
              "    </button>\n",
              "\n",
              "  <style>\n",
              "    .colab-df-container {\n",
              "      display:flex;\n",
              "      gap: 12px;\n",
              "    }\n",
              "\n",
              "    .colab-df-convert {\n",
              "      background-color: #E8F0FE;\n",
              "      border: none;\n",
              "      border-radius: 50%;\n",
              "      cursor: pointer;\n",
              "      display: none;\n",
              "      fill: #1967D2;\n",
              "      height: 32px;\n",
              "      padding: 0 0 0 0;\n",
              "      width: 32px;\n",
              "    }\n",
              "\n",
              "    .colab-df-convert:hover {\n",
              "      background-color: #E2EBFA;\n",
              "      box-shadow: 0px 1px 2px rgba(60, 64, 67, 0.3), 0px 1px 3px 1px rgba(60, 64, 67, 0.15);\n",
              "      fill: #174EA6;\n",
              "    }\n",
              "\n",
              "    .colab-df-buttons div {\n",
              "      margin-bottom: 4px;\n",
              "    }\n",
              "\n",
              "    [theme=dark] .colab-df-convert {\n",
              "      background-color: #3B4455;\n",
              "      fill: #D2E3FC;\n",
              "    }\n",
              "\n",
              "    [theme=dark] .colab-df-convert:hover {\n",
              "      background-color: #434B5C;\n",
              "      box-shadow: 0px 1px 3px 1px rgba(0, 0, 0, 0.15);\n",
              "      filter: drop-shadow(0px 1px 2px rgba(0, 0, 0, 0.3));\n",
              "      fill: #FFFFFF;\n",
              "    }\n",
              "  </style>\n",
              "\n",
              "    <script>\n",
              "      const buttonEl =\n",
              "        document.querySelector('#df-f6696f6f-8172-4d88-bf86-04cd1e29d13a button.colab-df-convert');\n",
              "      buttonEl.style.display =\n",
              "        google.colab.kernel.accessAllowed ? 'block' : 'none';\n",
              "\n",
              "      async function convertToInteractive(key) {\n",
              "        const element = document.querySelector('#df-f6696f6f-8172-4d88-bf86-04cd1e29d13a');\n",
              "        const dataTable =\n",
              "          await google.colab.kernel.invokeFunction('convertToInteractive',\n",
              "                                                    [key], {});\n",
              "        if (!dataTable) return;\n",
              "\n",
              "        const docLinkHtml = 'Like what you see? Visit the ' +\n",
              "          '<a target=\"_blank\" href=https://colab.research.google.com/notebooks/data_table.ipynb>data table notebook</a>'\n",
              "          + ' to learn more about interactive tables.';\n",
              "        element.innerHTML = '';\n",
              "        dataTable['output_type'] = 'display_data';\n",
              "        await google.colab.output.renderOutput(dataTable, element);\n",
              "        const docLink = document.createElement('div');\n",
              "        docLink.innerHTML = docLinkHtml;\n",
              "        element.appendChild(docLink);\n",
              "      }\n",
              "    </script>\n",
              "  </div>\n",
              "\n",
              "\n",
              "<div id=\"df-1ba1fdb7-d050-42e5-aa28-39dd957916f9\">\n",
              "  <button class=\"colab-df-quickchart\" onclick=\"quickchart('df-1ba1fdb7-d050-42e5-aa28-39dd957916f9')\"\n",
              "            title=\"Suggest charts.\"\n",
              "            style=\"display:none;\">\n",
              "\n",
              "<svg xmlns=\"http://www.w3.org/2000/svg\" height=\"24px\"viewBox=\"0 0 24 24\"\n",
              "     width=\"24px\">\n",
              "    <g>\n",
              "        <path d=\"M19 3H5c-1.1 0-2 .9-2 2v14c0 1.1.9 2 2 2h14c1.1 0 2-.9 2-2V5c0-1.1-.9-2-2-2zM9 17H7v-7h2v7zm4 0h-2V7h2v10zm4 0h-2v-4h2v4z\"/>\n",
              "    </g>\n",
              "</svg>\n",
              "  </button>\n",
              "\n",
              "<style>\n",
              "  .colab-df-quickchart {\n",
              "      --bg-color: #E8F0FE;\n",
              "      --fill-color: #1967D2;\n",
              "      --hover-bg-color: #E2EBFA;\n",
              "      --hover-fill-color: #174EA6;\n",
              "      --disabled-fill-color: #AAA;\n",
              "      --disabled-bg-color: #DDD;\n",
              "  }\n",
              "\n",
              "  [theme=dark] .colab-df-quickchart {\n",
              "      --bg-color: #3B4455;\n",
              "      --fill-color: #D2E3FC;\n",
              "      --hover-bg-color: #434B5C;\n",
              "      --hover-fill-color: #FFFFFF;\n",
              "      --disabled-bg-color: #3B4455;\n",
              "      --disabled-fill-color: #666;\n",
              "  }\n",
              "\n",
              "  .colab-df-quickchart {\n",
              "    background-color: var(--bg-color);\n",
              "    border: none;\n",
              "    border-radius: 50%;\n",
              "    cursor: pointer;\n",
              "    display: none;\n",
              "    fill: var(--fill-color);\n",
              "    height: 32px;\n",
              "    padding: 0;\n",
              "    width: 32px;\n",
              "  }\n",
              "\n",
              "  .colab-df-quickchart:hover {\n",
              "    background-color: var(--hover-bg-color);\n",
              "    box-shadow: 0 1px 2px rgba(60, 64, 67, 0.3), 0 1px 3px 1px rgba(60, 64, 67, 0.15);\n",
              "    fill: var(--button-hover-fill-color);\n",
              "  }\n",
              "\n",
              "  .colab-df-quickchart-complete:disabled,\n",
              "  .colab-df-quickchart-complete:disabled:hover {\n",
              "    background-color: var(--disabled-bg-color);\n",
              "    fill: var(--disabled-fill-color);\n",
              "    box-shadow: none;\n",
              "  }\n",
              "\n",
              "  .colab-df-spinner {\n",
              "    border: 2px solid var(--fill-color);\n",
              "    border-color: transparent;\n",
              "    border-bottom-color: var(--fill-color);\n",
              "    animation:\n",
              "      spin 1s steps(1) infinite;\n",
              "  }\n",
              "\n",
              "  @keyframes spin {\n",
              "    0% {\n",
              "      border-color: transparent;\n",
              "      border-bottom-color: var(--fill-color);\n",
              "      border-left-color: var(--fill-color);\n",
              "    }\n",
              "    20% {\n",
              "      border-color: transparent;\n",
              "      border-left-color: var(--fill-color);\n",
              "      border-top-color: var(--fill-color);\n",
              "    }\n",
              "    30% {\n",
              "      border-color: transparent;\n",
              "      border-left-color: var(--fill-color);\n",
              "      border-top-color: var(--fill-color);\n",
              "      border-right-color: var(--fill-color);\n",
              "    }\n",
              "    40% {\n",
              "      border-color: transparent;\n",
              "      border-right-color: var(--fill-color);\n",
              "      border-top-color: var(--fill-color);\n",
              "    }\n",
              "    60% {\n",
              "      border-color: transparent;\n",
              "      border-right-color: var(--fill-color);\n",
              "    }\n",
              "    80% {\n",
              "      border-color: transparent;\n",
              "      border-right-color: var(--fill-color);\n",
              "      border-bottom-color: var(--fill-color);\n",
              "    }\n",
              "    90% {\n",
              "      border-color: transparent;\n",
              "      border-bottom-color: var(--fill-color);\n",
              "    }\n",
              "  }\n",
              "</style>\n",
              "\n",
              "  <script>\n",
              "    async function quickchart(key) {\n",
              "      const quickchartButtonEl =\n",
              "        document.querySelector('#' + key + ' button');\n",
              "      quickchartButtonEl.disabled = true;  // To prevent multiple clicks.\n",
              "      quickchartButtonEl.classList.add('colab-df-spinner');\n",
              "      try {\n",
              "        const charts = await google.colab.kernel.invokeFunction(\n",
              "            'suggestCharts', [key], {});\n",
              "      } catch (error) {\n",
              "        console.error('Error during call to suggestCharts:', error);\n",
              "      }\n",
              "      quickchartButtonEl.classList.remove('colab-df-spinner');\n",
              "      quickchartButtonEl.classList.add('colab-df-quickchart-complete');\n",
              "    }\n",
              "    (() => {\n",
              "      let quickchartButtonEl =\n",
              "        document.querySelector('#df-1ba1fdb7-d050-42e5-aa28-39dd957916f9 button');\n",
              "      quickchartButtonEl.style.display =\n",
              "        google.colab.kernel.accessAllowed ? 'block' : 'none';\n",
              "    })();\n",
              "  </script>\n",
              "</div>\n",
              "    </div>\n",
              "  </div>\n"
            ]
          },
          "metadata": {},
          "execution_count": 18
        }
      ]
    },
    {
      "cell_type": "code",
      "source": [
        "height_mean = nba_df['player_height'].mean()\n",
        "height_std = nba_df['player_height'].std()"
      ],
      "metadata": {
        "id": "XNdIB1dtRRFk"
      },
      "execution_count": null,
      "outputs": []
    },
    {
      "cell_type": "code",
      "source": [
        "# UCL, LCL 생성\n",
        "ucl = height_mean + 3*height_std\n",
        "lcl = height_mean - 3*height_std"
      ],
      "metadata": {
        "id": "bZos0is2RgB2"
      },
      "execution_count": null,
      "outputs": []
    },
    {
      "cell_type": "code",
      "source": [
        "sns.scatterplot(x=nba_df['player_name'], y=nba_df['player_height'])\n",
        "\n",
        "plt.axhline(y=height_mean, color='g', linewidth=2)\n",
        "plt.axhline(y=ucl, color='r', linewidth=1)\n",
        "plt.axhline(y=lcl, color='r', linewidth=1)\n",
        "plt.xticks([])\n",
        "\n",
        "plt.show()"
      ],
      "metadata": {
        "colab": {
          "base_uri": "https://localhost:8080/",
          "height": 426
        },
        "id": "OkmCQcYuRhZl",
        "outputId": "326dc59c-3702-4d3e-fa18-4d34e4780417"
      },
      "execution_count": null,
      "outputs": [
        {
          "output_type": "display_data",
          "data": {
            "text/plain": [
              "<Figure size 640x480 with 1 Axes>"
            ],
            "image/png": "[encoded data removed]"
          },
          "metadata": {}
        }
      ]
    },
    {
      "cell_type": "markdown",
      "source": [
        "## 1차원 데이터의 시각화"
      ],
      "metadata": {
        "id": "eGytuqu3T6ZI"
      }
    },
    {
      "cell_type": "markdown",
      "source": [
        "### 히스토그램"
      ],
      "metadata": {
        "id": "8CGm_aFxQrPs"
      }
    },
    {
      "cell_type": "code",
      "source": [
        "np.random.seed(0)\n",
        "scores = np.abs((np.random.randn(500)*13)-65).astype(int)\n",
        "scores[scores>=100] = 100\n",
        "scores"
      ],
      "metadata": {
        "id": "VZzKbefIQssW",
        "colab": {
          "base_uri": "https://localhost:8080/"
        },
        "outputId": "dfc675e5-7b24-4016-a5aa-9b8ed0d0191f"
      },
      "execution_count": null,
      "outputs": [
        {
          "output_type": "execute_result",
          "data": {
            "text/plain": [
              "array([ 42,  59,  52,  35,  40,  77,  52,  66,  66,  59,  63,  46,  55,\n",
              "        63,  59,  60,  45,  67,  60,  76,  98,  56,  53,  74,  35,  83,\n",
              "        64,  67,  45,  45,  62,  60,  76,  90,  69,  62,  49,  49,  70,\n",
              "        68,  78,  83,  87,  39,  71,  70,  81,  54,  85,  67,  76,  59,\n",
              "        71,  80,  65,  59,  64,  61,  73,  69,  73,  69,  75,  87,  62,\n",
              "        70,  86,  58,  76,  64,  55,  63,  50,  81,  59,  73,  76,  72,\n",
              "        69,  64,  80,  53,  58,  84,  45,  40,  49,  67,  78,  51,  70,\n",
              "        49,  62,  52,  60,  55,  64,  41,  63,  59,  40,  82,  81,  52,\n",
              "        80,  39,  70,  74,  40,  45,  40,  53,  76,  40,  68,  54,  52,\n",
              "        67,  57,  53,  60,  79,  61,  47,  74,  66,  70,  40,  56,  59,\n",
              "        75,  57,  73,  64,  73,  56,  57,  67,  59,  79,  84,  59,  62,\n",
              "        56,  34,  52,  76,  50,  82,  71,  65,  42,  74,  75,  66,  73,\n",
              "        50,  79,  79,  70,  71,  39,  52,  63,  80,  54,  78,  85,  49,\n",
              "        60,  53,  60,  53,  73,  78,  56,  75,  73,  70,  64,  69,  82,\n",
              "        73,  93,  56,  85,  79,  64,  74,  44,  81,  61,  65,  80,  58,\n",
              "        67,  54,  54,  36,  47,  69,  68,  50,  56,  56,  86,  65,  74,\n",
              "        61,  66,  53,  60,  54,  71,  77,  70,  65,  60,  35,  65,  77,\n",
              "        69,  71,  58,  85,  64,  62,  61,  72,  68,  83,  71,  72,  59,\n",
              "        80,  54,  45,  91,  59,  56,  73,  70,  66,  68,  69,  86,  50,\n",
              "        50,  75,  84,  58,  72,  63,  69,  56,  55,  74,  82,  85,  57,\n",
              "        80,  71,  72,  65,  90,  62,  58,  63,  69,  63,  59, 100,  39,\n",
              "        59,  73,  70,  58,  66,  91,  38,  66,  51,  73,  45,  61,  57,\n",
              "        78,  49,  56,  48,  73,  71,  35,  78,  66,  50,  63,  57,  70,\n",
              "        60,  81,  43,  66,  73,  56,  70,  82,  82,  55,  67,  66,  50,\n",
              "        79,  74,  70,  63,  65,  68,  65,  66,  74,  75,  61,  76,  80,\n",
              "        69,  67,  35,  74,  52,  55,  80,  54,  80,  99,  57,  87,  59,\n",
              "        73,  43,  51,  70,  73,  80,  70,  68,  69,  62,  57,  60,  74,\n",
              "        83,  47,  73,  73,  71,  88,  71,  71,  56,  55,  64,  52,  60,\n",
              "        65,  62,  67,  70,  68,  79,  61,  77,  54,  68,  64,  58,  56,\n",
              "        85,  67,  53,  87,  59,  94,  78,  64,  86,  77,  84,  43,  62,\n",
              "        57,  67,  69,  86,  68,  74,  53,  50,  45,  53,  72,  79,  55,\n",
              "        60,  87,  60,  54,  64,  67,  75,  83,  54,  69,  68,  42,  56,\n",
              "        60,  63,  45,  42,  52,  57,  92,  63,  66,  63,  52, 100,  72,\n",
              "        61,  71,  83,  53,  61,  77,  60,  54,  64,  54,  63,  70,  80,\n",
              "        66,  62,  53,  66,  59,  77,  75,  66,  78,  54,  58,  61,  60,\n",
              "        38,  71,  93,  62,  65,  71,  77,  70,  62,  71,  33,  77,  75,\n",
              "        94,  61,  91,  72,  68,  74,  42,  52,  47,  76,  50,  58,  54,\n",
              "        51,  76,  70,  53,  99,  45,  57,  65,  62,  78,  69,  50,  48,\n",
              "        29,  65,  73,  71,  78,  66])"
            ]
          },
          "metadata": {},
          "execution_count": 22
        }
      ]
    },
    {
      "cell_type": "code",
      "source": [
        "# 히스토그램[+]\n",
        "hist, bins = np.histogram(scores, bins=10, range=(0,100))\n",
        "hist, bins"
      ],
      "metadata": {
        "colab": {
          "base_uri": "https://localhost:8080/"
        },
        "id": "rVkGEl4OQsps",
        "outputId": "856f0843-716e-47be-a963-2aa21a98a684"
      },
      "execution_count": null,
      "outputs": [
        {
          "output_type": "execute_result",
          "data": {
            "text/plain": [
              "(array([  0,   0,   1,  14,  40, 116, 141, 123,  50,  15]),\n",
              " array([  0.,  10.,  20.,  30.,  40.,  50.,  60.,  70.,  80.,  90., 100.]))"
            ]
          },
          "metadata": {},
          "execution_count": 23
        }
      ]
    },
    {
      "cell_type": "code",
      "source": [
        "# matplotlib\n",
        "fig = plt.figure()\n",
        "ax = plt.axes()\n",
        "\n",
        "ax.hist(scores, bins=10, range=(0,100), color='C1', edgecolor='k')\n",
        "ax.set_xlabel('scores')\n",
        "ax.set_ylabel('# of students per 10 point interval')\n",
        "ax.set_title('bins=10')\n",
        "plt.show()"
      ],
      "metadata": {
        "colab": {
          "base_uri": "https://localhost:8080/",
          "height": 472
        },
        "id": "sF50iHC_Qsm0",
        "outputId": "196b9c7a-13a9-4eb0-d17d-f792f685fc10"
      },
      "execution_count": null,
      "outputs": [
        {
          "output_type": "display_data",
          "data": {
            "text/plain": [
              "<Figure size 640x480 with 1 Axes>"
            ],
            "image/png": "[encoded data removed]"
          },
          "metadata": {}
        }
      ]
    },
    {
      "cell_type": "markdown",
      "source": [
        "- 구간을 더 촘촘히 해서 그리면"
      ],
      "metadata": {
        "id": "ZL2eAo93Qv_b"
      }
    },
    {
      "cell_type": "code",
      "source": [
        "fig = plt.figure()\n",
        "ax = plt.axes()\n",
        "\n",
        "ax.hist(scores, bins=20, range=(0,100), color='C1', edgecolor='k')\n",
        "ax.set_title('bins=20')\n",
        "ax.set_xlabel('scores')\n",
        "ax.set_ylabel('# of students per 5 point interval')\n",
        "plt.show()"
      ],
      "metadata": {
        "colab": {
          "base_uri": "https://localhost:8080/",
          "height": 472
        },
        "id": "5jcl2Iq2Qsib",
        "outputId": "dabbbf40-3d77-4e27-9d95-764b80be7b52"
      },
      "execution_count": null,
      "outputs": [
        {
          "output_type": "display_data",
          "data": {
            "text/plain": [
              "<Figure size 640x480 with 1 Axes>"
            ],
            "image/png": "[encoded data removed]"
          },
          "metadata": {}
        }
      ]
    },
    {
      "cell_type": "code",
      "source": [
        "# import seaborn as sns\n",
        "sns.histplot(data=scores, bins=10, binrange=(0,100))\n",
        "plt.title('bins=10')\n",
        "plt.xlabel('scores')\n",
        "plt.ylabel('# of students per 10 point interval')\n",
        "plt.show()"
      ],
      "metadata": {
        "colab": {
          "base_uri": "https://localhost:8080/",
          "height": 472
        },
        "id": "b57d5rHHhlqP",
        "outputId": "b85bc3d7-bd9b-4200-bf01-c1a09ef644b6"
      },
      "execution_count": null,
      "outputs": [
        {
          "output_type": "display_data",
          "data": {
            "text/plain": [
              "<Figure size 640x480 with 1 Axes>"
            ],
            "image/png": "[encoded data removed]"
          },
          "metadata": {}
        }
      ]
    },
    {
      "cell_type": "code",
      "source": [
        "# seaborn\n",
        "sns.histplot(data=scores, bins=20, binrange=(0,100))\n",
        "plt.title('bins=20')\n",
        "plt.xlabel('scores')\n",
        "plt.ylabel('# of students per 10 point interval')\n",
        "plt.show()"
      ],
      "metadata": {
        "colab": {
          "base_uri": "https://localhost:8080/",
          "height": 472
        },
        "id": "RPOiwicEi_F5",
        "outputId": "db48a69f-12d3-45ef-85fd-67baca1ea076"
      },
      "execution_count": null,
      "outputs": [
        {
          "output_type": "display_data",
          "data": {
            "text/plain": [
              "<Figure size 640x480 with 1 Axes>"
            ],
            "image/png": "[encoded data removed]"
          },
          "metadata": {}
        }
      ]
    },
    {
      "cell_type": "markdown",
      "source": [
        "### 상자그림"
      ],
      "metadata": {
        "id": "1EbAgiZ2TDuk"
      }
    },
    {
      "cell_type": "code",
      "source": [
        "D = np.array([1,2,3,4,5,6,7,8,9,10])\n",
        "\n",
        "# 이 데이터는 이상치 존재\n",
        "D = np.array([2,3,4,5,6,7,8,9,10,18,20])"
      ],
      "metadata": {
        "id": "hydFWZpvTFcL"
      },
      "execution_count": null,
      "outputs": []
    },
    {
      "cell_type": "markdown",
      "source": [
        "- 전체 데이터에서 25%, 50%, 75%에 위치하는 값을 Q1, Q2, Q3으로 구함\n",
        "\n",
        "- 이산 데이터를 줄세우고 25% 위치에 해당하는 값을 구할 때 깔끔하게 정수로 떨어지지 않게 되므로 `interpolation`이란 옵션으로 적당한 값을 선정"
      ],
      "metadata": {
        "id": "6lBwAOUDTG5z"
      }
    },
    {
      "cell_type": "code",
      "source": [
        "Q1 = np.percentile(D, 25)\n",
        "Q2 = np.percentile(D, 50)\n",
        "Q3 = np.percentile(D, 75)\n",
        "\n",
        "print(f\"Q1={Q1}, Q2={Q2}, Q3={Q3}\")"
      ],
      "metadata": {
        "colab": {
          "base_uri": "https://localhost:8080/"
        },
        "id": "mSVKgKsQTIT0",
        "outputId": "190aaa22-a483-4282-8673-fc47b5c81670"
      },
      "execution_count": null,
      "outputs": [
        {
          "output_type": "stream",
          "name": "stdout",
          "text": [
            "Q1=4.5, Q2=7.0, Q3=9.5\n"
          ]
        }
      ]
    },
    {
      "cell_type": "code",
      "source": [
        "# Q3과 Q1의 차이\n",
        "IQR = Q3 - Q1\n",
        "IQR"
      ],
      "metadata": {
        "colab": {
          "base_uri": "https://localhost:8080/"
        },
        "id": "TZqXGnNuTJuU",
        "outputId": "7734a01a-1cfe-47f9-ddd0-310a192d8270"
      },
      "execution_count": null,
      "outputs": [
        {
          "output_type": "execute_result",
          "data": {
            "text/plain": [
              "5.0"
            ]
          },
          "metadata": {},
          "execution_count": 30
        }
      ]
    },
    {
      "cell_type": "markdown",
      "source": [
        "- 식 Q3 + 1.5*IQR 로 가상의 상위 울타리upper fence를 계산하고 그 펜스를 넘어가지 않는 데이터의 최대값을 찾음"
      ],
      "metadata": {
        "id": "dhXs-2eiTLXf"
      }
    },
    {
      "cell_type": "code",
      "source": [
        "upper_fence = Q3 + 1.5*IQR\n",
        "print(upper_fence)\n",
        "\n",
        "upper_whisker = np.max(D[D <= upper_fence])\n",
        "print(upper_whisker)"
      ],
      "metadata": {
        "colab": {
          "base_uri": "https://localhost:8080/"
        },
        "id": "UzQCmYVJTM1n",
        "outputId": "24a02153-bbc2-4274-821d-4cf57be44c69"
      },
      "execution_count": null,
      "outputs": [
        {
          "output_type": "stream",
          "name": "stdout",
          "text": [
            "17.0\n",
            "10\n"
          ]
        }
      ]
    },
    {
      "cell_type": "markdown",
      "source": [
        "- Q1 - 1.5*IQR로 가상의 하위 울타리lower fence를 계산하고 그 펜스를 넘어가지 않는 데이터의 최소값을 찾음"
      ],
      "metadata": {
        "id": "T8YuIhmVTPTg"
      }
    },
    {
      "cell_type": "code",
      "source": [
        "lower_fence = Q1 - 1.5*IQR\n",
        "print(lower_fence)\n",
        "\n",
        "lower_whisker = np.min(D[D >= lower_fence])\n",
        "print(lower_whisker)"
      ],
      "metadata": {
        "colab": {
          "base_uri": "https://localhost:8080/"
        },
        "id": "gq7OgQLUTQvP",
        "outputId": "7152fe59-4156-405e-924b-3748ac7bbf39"
      },
      "execution_count": null,
      "outputs": [
        {
          "output_type": "stream",
          "name": "stdout",
          "text": [
            "-3.0\n",
            "2\n"
          ]
        }
      ]
    },
    {
      "cell_type": "markdown",
      "source": [
        "- matplotlib에서 상자그림을 그림"
      ],
      "metadata": {
        "id": "4VOUFR5qTSNn"
      }
    },
    {
      "cell_type": "code",
      "source": [
        "fig = plt.figure(dpi=100)\n",
        "ax = plt.axes()\n",
        "\n",
        "box = ax.boxplot(D)\n",
        "\n",
        "plt.show()"
      ],
      "metadata": {
        "colab": {
          "base_uri": "https://localhost:8080/",
          "height": 430
        },
        "id": "IH0jvVcTTTgm",
        "outputId": "61894719-2dfd-41ca-c044-1a139176a1ca"
      },
      "execution_count": null,
      "outputs": [
        {
          "output_type": "display_data",
          "data": {
            "text/plain": [
              "<Figure size 640x480 with 1 Axes>"
            ],
            "image/png": "[encoded data removed]"
          },
          "metadata": {}
        }
      ]
    },
    {
      "cell_type": "markdown",
      "source": [
        "- 그려진 상자그림에서 계산된 값들이 미리 계산한 값들과 일치하는가?"
      ],
      "metadata": {
        "id": "YrN8r2svTWD_"
      }
    },
    {
      "cell_type": "code",
      "source": [
        "# 위 그림에서 whisker, box의 실제 변이 그려진 좌표를 조사\n",
        "print(\"upper whisker\", box['caps'][1].get_xydata()[0,1])\n",
        "print(\"Q3\", box['boxes'][0].get_xydata()[2,1])\n",
        "print(\"Q2\", box['medians'][0].get_xydata()[0,1])\n",
        "print(\"Q1\", box['boxes'][0].get_xydata()[0,1])\n",
        "print(\"lower whisker\", box['caps'][0].get_xydata()[0,1])"
      ],
      "metadata": {
        "colab": {
          "base_uri": "https://localhost:8080/"
        },
        "id": "lC4wsecZTXgx",
        "outputId": "7696ec2e-3cf2-4ec5-cfc8-a139d4dd129f"
      },
      "execution_count": null,
      "outputs": [
        {
          "output_type": "stream",
          "name": "stdout",
          "text": [
            "upper whisker 10.0\n",
            "Q3 9.5\n",
            "Q2 7.0\n",
            "Q1 4.5\n",
            "lower whisker 2.0\n"
          ]
        }
      ]
    },
    {
      "cell_type": "code",
      "source": [
        "# 이상치\n",
        "box['fliers'][0].get_ydata()"
      ],
      "metadata": {
        "colab": {
          "base_uri": "https://localhost:8080/"
        },
        "id": "1Qr2dKxcTY9i",
        "outputId": "7e89bdc0-378e-4f87-eae7-265b99392743"
      },
      "execution_count": null,
      "outputs": [
        {
          "output_type": "execute_result",
          "data": {
            "text/plain": [
              "array([18, 20])"
            ]
          },
          "metadata": {},
          "execution_count": 35
        }
      ]
    },
    {
      "cell_type": "code",
      "source": [
        "# seaborn\n",
        "sns.boxplot(data=D, width=0.15)\n",
        "plt.show()"
      ],
      "metadata": {
        "colab": {
          "base_uri": "https://localhost:8080/",
          "height": 430
        },
        "id": "uUy4iNBXisb8",
        "outputId": "78c0dacd-973a-435f-c6f3-ffae9790841d"
      },
      "execution_count": null,
      "outputs": [
        {
          "output_type": "display_data",
          "data": {
            "text/plain": [
              "<Figure size 640x480 with 1 Axes>"
            ],
            "image/png": "[encoded data removed]"
          },
          "metadata": {}
        }
      ]
    },
    {
      "cell_type": "markdown",
      "source": [
        "#### 상자 그림을 이용한 이상치 탐지"
      ],
      "metadata": {
        "id": "7xbWrAI3TcV2"
      }
    },
    {
      "cell_type": "code",
      "source": [
        "nba_df.head()"
      ],
      "metadata": {
        "colab": {
          "base_uri": "https://localhost:8080/",
          "height": 206
        },
        "id": "vs8scDavThJA",
        "outputId": "bf5f193c-bfce-4568-92be-57f08025a202"
      },
      "execution_count": null,
      "outputs": [
        {
          "output_type": "execute_result",
          "data": {
            "text/plain": [
              "         player_name  player_height  player_weight\n",
              "0  Freddie Gillespie         205.74     111.130040\n",
              "1      Georges Niang         200.66     104.326160\n",
              "2        George King         198.12      99.790240\n",
              "3        George Hill         193.04      85.275296\n",
              "4     Gary Trent Jr.         195.58      94.800728"
            ],
            "text/html": [
              "\n",
              "  <div id=\"df-7870c00b-42ef-49c8-ac1d-87ef606cbdbe\" class=\"colab-df-container\">\n",
              "    <div>\n",
              "<style scoped>\n",
              "    .dataframe tbody tr th:only-of-type {\n",
              "        vertical-align: middle;\n",
              "    }\n",
              "\n",
              "    .dataframe tbody tr th {\n",
              "        vertical-align: top;\n",
              "    }\n",
              "\n",
              "    .dataframe thead th {\n",
              "        text-align: right;\n",
              "    }\n",
              "</style>\n",
              "<table border=\"1\" class=\"dataframe\">\n",
              "  <thead>\n",
              "    <tr style=\"text-align: right;\">\n",
              "      <th></th>\n",
              "      <th>player_name</th>\n",
              "      <th>player_height</th>\n",
              "      <th>player_weight</th>\n",
              "    </tr>\n",
              "  </thead>\n",
              "  <tbody>\n",
              "    <tr>\n",
              "      <th>0</th>\n",
              "      <td>Freddie Gillespie</td>\n",
              "      <td>205.74</td>\n",
              "      <td>111.130040</td>\n",
              "    </tr>\n",
              "    <tr>\n",
              "      <th>1</th>\n",
              "      <td>Georges Niang</td>\n",
              "      <td>200.66</td>\n",
              "      <td>104.326160</td>\n",
              "    </tr>\n",
              "    <tr>\n",
              "      <th>2</th>\n",
              "      <td>George King</td>\n",
              "      <td>198.12</td>\n",
              "      <td>99.790240</td>\n",
              "    </tr>\n",
              "    <tr>\n",
              "      <th>3</th>\n",
              "      <td>George Hill</td>\n",
              "      <td>193.04</td>\n",
              "      <td>85.275296</td>\n",
              "    </tr>\n",
              "    <tr>\n",
              "      <th>4</th>\n",
              "      <td>Gary Trent Jr.</td>\n",
              "      <td>195.58</td>\n",
              "      <td>94.800728</td>\n",
              "    </tr>\n",
              "  </tbody>\n",
              "</table>\n",
              "</div>\n",
              "    <div class=\"colab-df-buttons\">\n",
              "\n",
              "  <div class=\"colab-df-container\">\n",
              "    <button class=\"colab-df-convert\" onclick=\"convertToInteractive('df-7870c00b-42ef-49c8-ac1d-87ef606cbdbe')\"\n",
              "            title=\"Convert this dataframe to an interactive table.\"\n",
              "            style=\"display:none;\">\n",
              "\n",
              "  <svg xmlns=\"http://www.w3.org/2000/svg\" height=\"24px\" viewBox=\"0 -960 960 960\">\n",
              "    <path d=\"M120-120v-720h720v720H120Zm60-500h600v-160H180v160Zm220 220h160v-160H400v160Zm0 220h160v-160H400v160ZM180-400h160v-160H180v160Zm440 0h160v-160H620v160ZM180-180h160v-160H180v160Zm440 0h160v-160H620v160Z\"/>\n",
              "  </svg>\n",
              "    </button>\n",
              "\n",
              "  <style>\n",
              "    .colab-df-container {\n",
              "      display:flex;\n",
              "      gap: 12px;\n",
              "    }\n",
              "\n",
              "    .colab-df-convert {\n",
              "      background-color: #E8F0FE;\n",
              "      border: none;\n",
              "      border-radius: 50%;\n",
              "      cursor: pointer;\n",
              "      display: none;\n",
              "      fill: #1967D2;\n",
              "      height: 32px;\n",
              "      padding: 0 0 0 0;\n",
              "      width: 32px;\n",
              "    }\n",
              "\n",
              "    .colab-df-convert:hover {\n",
              "      background-color: #E2EBFA;\n",
              "      box-shadow: 0px 1px 2px rgba(60, 64, 67, 0.3), 0px 1px 3px 1px rgba(60, 64, 67, 0.15);\n",
              "      fill: #174EA6;\n",
              "    }\n",
              "\n",
              "    .colab-df-buttons div {\n",
              "      margin-bottom: 4px;\n",
              "    }\n",
              "\n",
              "    [theme=dark] .colab-df-convert {\n",
              "      background-color: #3B4455;\n",
              "      fill: #D2E3FC;\n",
              "    }\n",
              "\n",
              "    [theme=dark] .colab-df-convert:hover {\n",
              "      background-color: #434B5C;\n",
              "      box-shadow: 0px 1px 3px 1px rgba(0, 0, 0, 0.15);\n",
              "      filter: drop-shadow(0px 1px 2px rgba(0, 0, 0, 0.3));\n",
              "      fill: #FFFFFF;\n",
              "    }\n",
              "  </style>\n",
              "\n",
              "    <script>\n",
              "      const buttonEl =\n",
              "        document.querySelector('#df-7870c00b-42ef-49c8-ac1d-87ef606cbdbe button.colab-df-convert');\n",
              "      buttonEl.style.display =\n",
              "        google.colab.kernel.accessAllowed ? 'block' : 'none';\n",
              "\n",
              "      async function convertToInteractive(key) {\n",
              "        const element = document.querySelector('#df-7870c00b-42ef-49c8-ac1d-87ef606cbdbe');\n",
              "        const dataTable =\n",
              "          await google.colab.kernel.invokeFunction('convertToInteractive',\n",
              "                                                    [key], {});\n",
              "        if (!dataTable) return;\n",
              "\n",
              "        const docLinkHtml = 'Like what you see? Visit the ' +\n",
              "          '<a target=\"_blank\" href=https://colab.research.google.com/notebooks/data_table.ipynb>data table notebook</a>'\n",
              "          + ' to learn more about interactive tables.';\n",
              "        element.innerHTML = '';\n",
              "        dataTable['output_type'] = 'display_data';\n",
              "        await google.colab.output.renderOutput(dataTable, element);\n",
              "        const docLink = document.createElement('div');\n",
              "        docLink.innerHTML = docLinkHtml;\n",
              "        element.appendChild(docLink);\n",
              "      }\n",
              "    </script>\n",
              "  </div>\n",
              "\n",
              "\n",
              "<div id=\"df-a9c46f30-de53-4710-ae5d-6b319de26a20\">\n",
              "  <button class=\"colab-df-quickchart\" onclick=\"quickchart('df-a9c46f30-de53-4710-ae5d-6b319de26a20')\"\n",
              "            title=\"Suggest charts.\"\n",
              "            style=\"display:none;\">\n",
              "\n",
              "<svg xmlns=\"http://www.w3.org/2000/svg\" height=\"24px\"viewBox=\"0 0 24 24\"\n",
              "     width=\"24px\">\n",
              "    <g>\n",
              "        <path d=\"M19 3H5c-1.1 0-2 .9-2 2v14c0 1.1.9 2 2 2h14c1.1 0 2-.9 2-2V5c0-1.1-.9-2-2-2zM9 17H7v-7h2v7zm4 0h-2V7h2v10zm4 0h-2v-4h2v4z\"/>\n",
              "    </g>\n",
              "</svg>\n",
              "  </button>\n",
              "\n",
              "<style>\n",
              "  .colab-df-quickchart {\n",
              "      --bg-color: #E8F0FE;\n",
              "      --fill-color: #1967D2;\n",
              "      --hover-bg-color: #E2EBFA;\n",
              "      --hover-fill-color: #174EA6;\n",
              "      --disabled-fill-color: #AAA;\n",
              "      --disabled-bg-color: #DDD;\n",
              "  }\n",
              "\n",
              "  [theme=dark] .colab-df-quickchart {\n",
              "      --bg-color: #3B4455;\n",
              "      --fill-color: #D2E3FC;\n",
              "      --hover-bg-color: #434B5C;\n",
              "      --hover-fill-color: #FFFFFF;\n",
              "      --disabled-bg-color: #3B4455;\n",
              "      --disabled-fill-color: #666;\n",
              "  }\n",
              "\n",
              "  .colab-df-quickchart {\n",
              "    background-color: var(--bg-color);\n",
              "    border: none;\n",
              "    border-radius: 50%;\n",
              "    cursor: pointer;\n",
              "    display: none;\n",
              "    fill: var(--fill-color);\n",
              "    height: 32px;\n",
              "    padding: 0;\n",
              "    width: 32px;\n",
              "  }\n",
              "\n",
              "  .colab-df-quickchart:hover {\n",
              "    background-color: var(--hover-bg-color);\n",
              "    box-shadow: 0 1px 2px rgba(60, 64, 67, 0.3), 0 1px 3px 1px rgba(60, 64, 67, 0.15);\n",
              "    fill: var(--button-hover-fill-color);\n",
              "  }\n",
              "\n",
              "  .colab-df-quickchart-complete:disabled,\n",
              "  .colab-df-quickchart-complete:disabled:hover {\n",
              "    background-color: var(--disabled-bg-color);\n",
              "    fill: var(--disabled-fill-color);\n",
              "    box-shadow: none;\n",
              "  }\n",
              "\n",
              "  .colab-df-spinner {\n",
              "    border: 2px solid var(--fill-color);\n",
              "    border-color: transparent;\n",
              "    border-bottom-color: var(--fill-color);\n",
              "    animation:\n",
              "      spin 1s steps(1) infinite;\n",
              "  }\n",
              "\n",
              "  @keyframes spin {\n",
              "    0% {\n",
              "      border-color: transparent;\n",
              "      border-bottom-color: var(--fill-color);\n",
              "      border-left-color: var(--fill-color);\n",
              "    }\n",
              "    20% {\n",
              "      border-color: transparent;\n",
              "      border-left-color: var(--fill-color);\n",
              "      border-top-color: var(--fill-color);\n",
              "    }\n",
              "    30% {\n",
              "      border-color: transparent;\n",
              "      border-left-color: var(--fill-color);\n",
              "      border-top-color: var(--fill-color);\n",
              "      border-right-color: var(--fill-color);\n",
              "    }\n",
              "    40% {\n",
              "      border-color: transparent;\n",
              "      border-right-color: var(--fill-color);\n",
              "      border-top-color: var(--fill-color);\n",
              "    }\n",
              "    60% {\n",
              "      border-color: transparent;\n",
              "      border-right-color: var(--fill-color);\n",
              "    }\n",
              "    80% {\n",
              "      border-color: transparent;\n",
              "      border-right-color: var(--fill-color);\n",
              "      border-bottom-color: var(--fill-color);\n",
              "    }\n",
              "    90% {\n",
              "      border-color: transparent;\n",
              "      border-bottom-color: var(--fill-color);\n",
              "    }\n",
              "  }\n",
              "</style>\n",
              "\n",
              "  <script>\n",
              "    async function quickchart(key) {\n",
              "      const quickchartButtonEl =\n",
              "        document.querySelector('#' + key + ' button');\n",
              "      quickchartButtonEl.disabled = true;  // To prevent multiple clicks.\n",
              "      quickchartButtonEl.classList.add('colab-df-spinner');\n",
              "      try {\n",
              "        const charts = await google.colab.kernel.invokeFunction(\n",
              "            'suggestCharts', [key], {});\n",
              "      } catch (error) {\n",
              "        console.error('Error during call to suggestCharts:', error);\n",
              "      }\n",
              "      quickchartButtonEl.classList.remove('colab-df-spinner');\n",
              "      quickchartButtonEl.classList.add('colab-df-quickchart-complete');\n",
              "    }\n",
              "    (() => {\n",
              "      let quickchartButtonEl =\n",
              "        document.querySelector('#df-a9c46f30-de53-4710-ae5d-6b319de26a20 button');\n",
              "      quickchartButtonEl.style.display =\n",
              "        google.colab.kernel.accessAllowed ? 'block' : 'none';\n",
              "    })();\n",
              "  </script>\n",
              "</div>\n",
              "    </div>\n",
              "  </div>\n"
            ]
          },
          "metadata": {},
          "execution_count": 37
        }
      ]
    },
    {
      "cell_type": "code",
      "source": [
        "fig = plt.figure(dpi=100)\n",
        "ax = plt.axes()\n",
        "\n",
        "box = ax.boxplot(nba_df['player_height'])\n",
        "plt.show()"
      ],
      "metadata": {
        "colab": {
          "base_uri": "https://localhost:8080/",
          "height": 430
        },
        "id": "Z69TOBxLThE-",
        "outputId": "cc65a234-82b1-4d04-cf51-735cbe4f07d8"
      },
      "execution_count": null,
      "outputs": [
        {
          "output_type": "display_data",
          "data": {
            "text/plain": [
              "<Figure size 640x480 with 1 Axes>"
            ],
            "image/png": "[encoded data removed]"
          },
          "metadata": {}
        }
      ]
    },
    {
      "cell_type": "code",
      "source": [
        "# 위 그림에서 whisker, box의 실제 변이 그려진 좌표를 조사\n",
        "print(\"upper whisker\", box['caps'][1].get_xydata()[0,1])\n",
        "print(\"Q3\", box['boxes'][0].get_xydata()[2,1])\n",
        "print(\"Q2\", box['medians'][0].get_xydata()[0,1])\n",
        "print(\"Q1\", box['boxes'][0].get_xydata()[0,1])\n",
        "print(\"lower whisker\", box['caps'][0].get_xydata()[0,1])"
      ],
      "metadata": {
        "colab": {
          "base_uri": "https://localhost:8080/"
        },
        "id": "DeTiSQZnThCe",
        "outputId": "6298d498-73be-4a54-e455-e5280616bf32"
      },
      "execution_count": null,
      "outputs": [
        {
          "output_type": "stream",
          "name": "stdout",
          "text": [
            "upper whisker 218.44\n",
            "Q3 203.2\n",
            "Q2 198.12\n",
            "Q1 193.04\n",
            "lower whisker 177.8\n"
          ]
        }
      ]
    },
    {
      "cell_type": "code",
      "source": [
        "upper_whisker = box['caps'][1].get_xydata()[0,1]\n",
        "lower_whisker = box['caps'][0].get_xydata()[0,1]\n",
        "\n",
        "upper_outliers = []\n",
        "lower_outliers = []\n",
        "\n",
        "for outlier in box['fliers'][0].get_ydata():\n",
        "    if outlier > upper_whisker:\n",
        "        upper_outliers.append(outlier)\n",
        "    else:\n",
        "        lower_outliers.append(outlier)\n",
        "\n",
        "\n",
        "print(upper_outliers)\n",
        "print(lower_outliers)"
      ],
      "metadata": {
        "colab": {
          "base_uri": "https://localhost:8080/"
        },
        "id": "AahFLYEdTg_m",
        "outputId": "a4b4c8e9-c256-4c49-fb88-0e3bd351a03a"
      },
      "execution_count": null,
      "outputs": [
        {
          "output_type": "stream",
          "name": "stdout",
          "text": [
            "[220.98, 228.6, 220.98]\n",
            "[175.26]\n"
          ]
        }
      ]
    },
    {
      "cell_type": "markdown",
      "source": [
        "# 2차원 데이터"
      ],
      "metadata": {
        "id": "lRGLd_CxZJ3o"
      }
    },
    {
      "cell_type": "code",
      "source": [
        "# 키\n",
        "H = np.array([170, 155, 175, 182, 171, 188, 165, 167, 175, 183])\n",
        "# 몸무게\n",
        "W = np.array([ 65,  59,  68,  78,  62,  85,  63,  58,  70,  98])\n",
        "\n",
        "# 신체 정보\n",
        "X = np.array([H, W])\n",
        "X"
      ],
      "metadata": {
        "colab": {
          "base_uri": "https://localhost:8080/"
        },
        "id": "79CnWETCZLyh",
        "outputId": "50427cdc-cd39-4f25-da3d-6514c69da6c2"
      },
      "execution_count": null,
      "outputs": [
        {
          "output_type": "execute_result",
          "data": {
            "text/plain": [
              "array([[170, 155, 175, 182, 171, 188, 165, 167, 175, 183],\n",
              "       [ 65,  59,  68,  78,  62,  85,  63,  58,  70,  98]])"
            ]
          },
          "metadata": {},
          "execution_count": 41
        }
      ]
    },
    {
      "cell_type": "markdown",
      "source": [
        "- 다차원 데이터의 행렬은 항상 (N, D)"
      ],
      "metadata": {
        "id": "SEa3y5UjZNLY"
      }
    },
    {
      "cell_type": "code",
      "source": [
        "X = X.T\n",
        "X"
      ],
      "metadata": {
        "colab": {
          "base_uri": "https://localhost:8080/"
        },
        "id": "atCM7XcTZOQY",
        "outputId": "99263981-f832-4161-d09b-8db82311ace5"
      },
      "execution_count": null,
      "outputs": [
        {
          "output_type": "execute_result",
          "data": {
            "text/plain": [
              "array([[170,  65],\n",
              "       [155,  59],\n",
              "       [175,  68],\n",
              "       [182,  78],\n",
              "       [171,  62],\n",
              "       [188,  85],\n",
              "       [165,  63],\n",
              "       [167,  58],\n",
              "       [175,  70],\n",
              "       [183,  98]])"
            ]
          },
          "metadata": {},
          "execution_count": 42
        }
      ]
    },
    {
      "cell_type": "markdown",
      "source": [
        "## 평균과 분산"
      ],
      "metadata": {
        "id": "bPYseiRYZP-n"
      }
    },
    {
      "cell_type": "code",
      "source": [
        "fig = plt.figure(dpi=100)\n",
        "ax = plt.axes()\n",
        "\n",
        "ax.plot(X[:,0], X[:,1], 'o', color='k')\n",
        "\n",
        "# 두 데이터의 평균선 그림\n",
        "ax.axhline(y=X[:,1].mean(), color='k')\n",
        "ax.axvline(x=X[:,0].mean(), color='k')\n",
        "\n",
        "ax.set_xlabel('Height')\n",
        "ax.set_ylabel('Weight')\n",
        "\n",
        "plt.show()"
      ],
      "metadata": {
        "colab": {
          "base_uri": "https://localhost:8080/",
          "height": 455
        },
        "id": "XFr0zodNZU2w",
        "outputId": "070ba8da-075a-4a7c-8366-bd56ee009f31"
      },
      "execution_count": null,
      "outputs": [
        {
          "output_type": "display_data",
          "data": {
            "text/plain": [
              "<Figure size 640x480 with 1 Axes>"
            ],
            "image/png": "[encoded data removed]"
          },
          "metadata": {}
        }
      ]
    },
    {
      "cell_type": "markdown",
      "source": [
        "- 앞서 알아본 통계값인 평균, 분산은 각 데이터 마다 계산 가능"
      ],
      "metadata": {
        "id": "e8bQ6mExZXRW"
      }
    },
    {
      "cell_type": "code",
      "source": [
        "print(\"키 평균: \", X[:,0].mean())\n",
        "print(\"몸무게 평균: \", X[:,1].mean())\n",
        "\n",
        "print(\"키 분산: \", X[:,0].var())\n",
        "print(\"몸무게 분산: \", X[:,1].var())"
      ],
      "metadata": {
        "colab": {
          "base_uri": "https://localhost:8080/"
        },
        "id": "fqEC9ySCZYo1",
        "outputId": "39c18c61-f92f-47c3-aa8d-58c7e70c1a0b"
      },
      "execution_count": null,
      "outputs": [
        {
          "output_type": "stream",
          "name": "stdout",
          "text": [
            "키 평균:  173.1\n",
            "몸무게 평균:  70.6\n",
            "키 분산:  85.09\n",
            "몸무게 분산:  147.64000000000001\n"
          ]
        }
      ]
    },
    {
      "cell_type": "markdown",
      "source": [
        "## 공분산\n",
        "\n",
        "- 두 데이터 사이의 관계를 나타내는 분산값을 계산\n",
        "\n",
        "- 공분산의 의미는 두 데이터의 평균값 두개로 계산되는 각각의 편차를 가로변, 세로변으로 하는 직사각형의 평균 넓이\n",
        "\n",
        "- 여기서는 음의 넓이도 존재\n",
        "\n",
        "- 아래 그림에서 2사분면, 4사분면에 있는 데이터들이 음의 면적에 해당"
      ],
      "metadata": {
        "id": "VG3u7zxJZa0l"
      }
    },
    {
      "cell_type": "code",
      "source": [
        "# 공분산의 그림 표현\n",
        "# :                +------------------+\n",
        "# :                |                  |\n",
        "# :              height               |\n",
        "# :                |                  |\n",
        "# :               (xy)---- width -----+\n",
        "# (xy, w, h)\n",
        "from matplotlib.patches import Rectangle\n",
        "\n",
        "fig = plt.figure(dpi=100)\n",
        "ax = plt.axes()\n",
        "\n",
        "X_bar = X.mean(axis=0)\n",
        "print(X_bar)\n",
        "# 평균을 뺀 편차\n",
        "X_tilde = X - X_bar\n",
        "\n",
        "#          0:-   1:+\n",
        "colors = ['C1', 'C2']\n",
        "\n",
        "covs = [ Rectangle( (0,0), x[0], x[1], edgecolor='k',\n",
        "                   facecolor=colors[((x[0]*x[1])>0).astype(int)], alpha=0.3)\n",
        "            for x in X_tilde ]\n",
        "\n",
        "for cov in covs:\n",
        "    ax.add_patch(cov)\n",
        "ax.plot(X_tilde[:,0], X_tilde[:,1], 'o', color='k')\n",
        "ax.axhline(y=0, color='k')\n",
        "ax.axvline(x=0, color='k')\n",
        "ax.set_xlabel('Height')\n",
        "ax.set_ylabel('Weight')\n",
        "\n",
        "plt.show()"
      ],
      "metadata": {
        "colab": {
          "base_uri": "https://localhost:8080/",
          "height": 468
        },
        "id": "cW7iU4fVZcrV",
        "outputId": "ef591db6-f509-4aa7-9905-ed88bde83f53"
      },
      "execution_count": null,
      "outputs": [
        {
          "output_type": "stream",
          "name": "stdout",
          "text": [
            "[173.1  70.6]\n"
          ]
        },
        {
          "output_type": "display_data",
          "data": {
            "text/plain": [
              "<Figure size 640x480 with 1 Axes>"
            ],
            "image/png": "[encoded data removed]"
          },
          "metadata": {}
        }
      ]
    },
    {
      "cell_type": "code",
      "source": [
        "# 공분산 직접 계산, X_tilde는 편차\n",
        "np.sum(X_tilde[:,0] * X_tilde[:,1]) / (X_tilde.shape[0])"
      ],
      "metadata": {
        "colab": {
          "base_uri": "https://localhost:8080/"
        },
        "id": "SklBtgCCZeuO",
        "outputId": "fe93a550-0076-4261-9599-993308654603"
      },
      "execution_count": null,
      "outputs": [
        {
          "output_type": "execute_result",
          "data": {
            "text/plain": [
              "92.94000000000001"
            ]
          },
          "metadata": {},
          "execution_count": 46
        }
      ]
    },
    {
      "cell_type": "code",
      "source": [
        "# 공분산행렬, default ddof=1\n",
        "np.cov(X[:,0], X[:,1], ddof=0)"
      ],
      "metadata": {
        "colab": {
          "base_uri": "https://localhost:8080/"
        },
        "id": "mIfutHbtZgkF",
        "outputId": "2e845f00-8f08-4434-daec-d3dd73eb054e"
      },
      "execution_count": null,
      "outputs": [
        {
          "output_type": "execute_result",
          "data": {
            "text/plain": [
              "array([[ 85.09,  92.94],\n",
              "       [ 92.94, 147.64]])"
            ]
          },
          "metadata": {},
          "execution_count": 47
        }
      ]
    },
    {
      "cell_type": "markdown",
      "source": [
        "## 상관계수"
      ],
      "metadata": {
        "id": "k43gwDpsZiqG"
      }
    },
    {
      "cell_type": "code",
      "source": [
        "# 위 데이터의 상관계수\n",
        "np.corrcoef(X.T)"
      ],
      "metadata": {
        "colab": {
          "base_uri": "https://localhost:8080/"
        },
        "id": "XZMDBrUOZkxs",
        "outputId": "76cc6f91-76ea-43ad-96fc-07c8eed20296"
      },
      "execution_count": null,
      "outputs": [
        {
          "output_type": "execute_result",
          "data": {
            "text/plain": [
              "array([[1.      , 0.829204],\n",
              "       [0.829204, 1.      ]])"
            ]
          },
          "metadata": {},
          "execution_count": 48
        }
      ]
    },
    {
      "cell_type": "code",
      "source": [
        "# 직선의 상관성이 없는 데이터\n",
        "\n",
        "x = np.random.uniform(-1, 1, 200)\n",
        "X_uncorr = np.array( [x, x**2 + np.random.uniform(-0.2, 0.2, 200)]).T\n",
        "\n",
        "fig = plt.figure()\n",
        "ax = plt.axes()\n",
        "\n",
        "ax.plot(X_uncorr[:,0], X_uncorr[:,1], '.')\n",
        "ax.set_xlabel('x')\n",
        "ax.set_ylabel('y')\n",
        "\n",
        "plt.show()"
      ],
      "metadata": {
        "colab": {
          "base_uri": "https://localhost:8080/",
          "height": 449
        },
        "id": "vod12hE6Zl-6",
        "outputId": "b0840bb3-359f-4acc-9076-a08f0b24fb1d"
      },
      "execution_count": null,
      "outputs": [
        {
          "output_type": "display_data",
          "data": {
            "text/plain": [
              "<Figure size 640x480 with 1 Axes>"
            ],
            "image/png": "[encoded data removed]"
          },
          "metadata": {}
        }
      ]
    },
    {
      "cell_type": "code",
      "source": [
        "print(np.corrcoef(X_uncorr.T))\n"
      ],
      "metadata": {
        "colab": {
          "base_uri": "https://localhost:8080/"
        },
        "id": "1nLSKuJMZnkD",
        "outputId": "638d1667-239c-4722-ad52-2e819a81ffb8"
      },
      "execution_count": null,
      "outputs": [
        {
          "output_type": "stream",
          "name": "stdout",
          "text": [
            "[[ 1.         -0.02566704]\n",
            " [-0.02566704  1.        ]]\n"
          ]
        }
      ]
    },
    {
      "cell_type": "markdown",
      "source": [
        "## 2차원 데이터의 시각화"
      ],
      "metadata": {
        "id": "SGRopfboeC-4"
      }
    },
    {
      "cell_type": "markdown",
      "source": [
        "### 산점도"
      ],
      "metadata": {
        "id": "CDGxc0QHeE9Q"
      }
    },
    {
      "cell_type": "code",
      "source": [
        "fig = plt.figure()\n",
        "ax = plt.axes()\n",
        "\n",
        "ax.plot(X[:,0], X[:,1], 'o', color='k')\n",
        "ax.set_xlabel('height')\n",
        "ax.set_ylabel('weight')\n",
        "\n",
        "plt.show()"
      ],
      "metadata": {
        "colab": {
          "base_uri": "https://localhost:8080/",
          "height": 455
        },
        "id": "sz7zkDiufjUZ",
        "outputId": "2ce2b96a-5405-4b3f-97a3-1675c8f2c3ea"
      },
      "execution_count": null,
      "outputs": [
        {
          "output_type": "display_data",
          "data": {
            "text/plain": [
              "<Figure size 640x480 with 1 Axes>"
            ],
            "image/png": "[encoded data removed]"
          },
          "metadata": {}
        }
      ]
    },
    {
      "cell_type": "code",
      "source": [
        "sns.scatterplot(data=X, x=X[:,0], y=X[:,1])\n",
        "plt.show()"
      ],
      "metadata": {
        "colab": {
          "base_uri": "https://localhost:8080/",
          "height": 435
        },
        "id": "Y28h18WPhLyn",
        "outputId": "f715814d-f7de-4f0d-9ed7-43d26817e588"
      },
      "execution_count": null,
      "outputs": [
        {
          "output_type": "display_data",
          "data": {
            "text/plain": [
              "<Figure size 640x480 with 1 Axes>"
            ],
            "image/png": "[encoded data removed]"
          },
          "metadata": {}
        }
      ]
    },
    {
      "cell_type": "markdown",
      "source": [
        "### 히트맵"
      ],
      "metadata": {
        "id": "CSk1oLbKeGKw"
      }
    },
    {
      "cell_type": "code",
      "source": [
        "# matplotlib으로 일종의 2d 히스토그램\n",
        "fig = plt.figure()\n",
        "ax = plt.axes()\n",
        "\n",
        "ax.hist2d(X[:,0], X[:,1], bins=(6,6), cmap='binary')\n",
        "ax.plot(X[:,0], X[:,1], 'o', color='k')\n",
        "ax.set_xlabel('height')\n",
        "ax.set_ylabel('weight')\n",
        "\n",
        "plt.show()"
      ],
      "metadata": {
        "colab": {
          "base_uri": "https://localhost:8080/",
          "height": 449
        },
        "id": "xYr9y8bTecnh",
        "outputId": "0e6b5384-03c5-4f15-b2af-cdcda4ba440b"
      },
      "execution_count": null,
      "outputs": [
        {
          "output_type": "display_data",
          "data": {
            "text/plain": [
              "<Figure size 640x480 with 1 Axes>"
            ],
            "image/png": "[encoded data removed]"
          },
          "metadata": {}
        }
      ]
    },
    {
      "cell_type": "code",
      "source": [
        "# seaboarn으로 상관 관계를 히트맵으로\n",
        "sns.heatmap(np.corrcoef(X.T),\n",
        "            xticklabels=['height', 'weight'],\n",
        "            yticklabels=['height', 'weight'],\n",
        "            annot=True)\n",
        "\n",
        "plt.show()"
      ],
      "metadata": {
        "colab": {
          "base_uri": "https://localhost:8080/",
          "height": 435
        },
        "id": "Rt24F7Pteuzj",
        "outputId": "df700e9d-51e5-482c-f031-b503a28f07ec"
      },
      "execution_count": null,
      "outputs": [
        {
          "output_type": "display_data",
          "data": {
            "text/plain": [
              "<Figure size 640x480 with 2 Axes>"
            ],
            "image/png": "[encoded data removed]"
          },
          "metadata": {}
        }
      ]
    },
    {
      "cell_type": "markdown",
      "source": [
        "#### 히트맵을 이용한 상관관계 분석"
      ],
      "metadata": {
        "id": "ehghkSxmgy9M"
      }
    },
    {
      "cell_type": "code",
      "source": [
        "!gdown 1z6WApewnOkuzx3J7esyqeNH6G-tQQ59w"
      ],
      "metadata": {
        "colab": {
          "base_uri": "https://localhost:8080/"
        },
        "id": "52K-NcMajPDi",
        "outputId": "78ba1858-460e-464c-c76e-515860582e8b"
      },
      "execution_count": null,
      "outputs": [
        {
          "output_type": "stream",
          "name": "stdout",
          "text": [
            "Downloading...\n",
            "From: https://drive.google.com/uc?id=1z6WApewnOkuzx3J7esyqeNH6G-tQQ59w\n",
            "To: /content/auto-mpg.data-original\n",
            "\r  0% 0.00/32.1k [00:00<?, ?B/s]\r100% 32.1k/32.1k [00:00<00:00, 42.7MB/s]\n"
          ]
        }
      ]
    },
    {
      "cell_type": "code",
      "source": [
        "col_names = ['mpg','cylinders','displacement','horsepower',\n",
        "             'weight','acceleration','model year','origin','car name']"
      ],
      "metadata": {
        "id": "c3sHS8mbjTL5"
      },
      "execution_count": null,
      "outputs": []
    },
    {
      "cell_type": "code",
      "source": [
        "df_origin = pd.read_csv('auto-mpg.data-original',\n",
        "                        sep=\"\\s+\", header=None, names=col_names)\n",
        "\n",
        "df_origin.head()"
      ],
      "metadata": {
        "colab": {
          "base_uri": "https://localhost:8080/",
          "height": 206
        },
        "id": "KmisVhfgjTJT",
        "outputId": "4172dd49-c032-416e-b65a-f07cb401cbe0"
      },
      "execution_count": null,
      "outputs": [
        {
          "output_type": "execute_result",
          "data": {
            "text/plain": [
              "    mpg  cylinders  displacement  horsepower  weight  acceleration  \\\n",
              "0  18.0        8.0         307.0       130.0  3504.0          12.0   \n",
              "1  15.0        8.0         350.0       165.0  3693.0          11.5   \n",
              "2  18.0        8.0         318.0       150.0  3436.0          11.0   \n",
              "3  16.0        8.0         304.0       150.0  3433.0          12.0   \n",
              "4  17.0        8.0         302.0       140.0  3449.0          10.5   \n",
              "\n",
              "   model year  origin                   car name  \n",
              "0        70.0     1.0  chevrolet chevelle malibu  \n",
              "1        70.0     1.0          buick skylark 320  \n",
              "2        70.0     1.0         plymouth satellite  \n",
              "3        70.0     1.0              amc rebel sst  \n",
              "4        70.0     1.0                ford torino  "
            ],
            "text/html": [
              "\n",
              "  <div id=\"df-bf7966d5-cd43-4032-8d08-7ab4c2faa75c\" class=\"colab-df-container\">\n",
              "    <div>\n",
              "<style scoped>\n",
              "    .dataframe tbody tr th:only-of-type {\n",
              "        vertical-align: middle;\n",
              "    }\n",
              "\n",
              "    .dataframe tbody tr th {\n",
              "        vertical-align: top;\n",
              "    }\n",
              "\n",
              "    .dataframe thead th {\n",
              "        text-align: right;\n",
              "    }\n",
              "</style>\n",
              "<table border=\"1\" class=\"dataframe\">\n",
              "  <thead>\n",
              "    <tr style=\"text-align: right;\">\n",
              "      <th></th>\n",
              "      <th>mpg</th>\n",
              "      <th>cylinders</th>\n",
              "      <th>displacement</th>\n",
              "      <th>horsepower</th>\n",
              "      <th>weight</th>\n",
              "      <th>acceleration</th>\n",
              "      <th>model year</th>\n",
              "      <th>origin</th>\n",
              "      <th>car name</th>\n",
              "    </tr>\n",
              "  </thead>\n",
              "  <tbody>\n",
              "    <tr>\n",
              "      <th>0</th>\n",
              "      <td>18.0</td>\n",
              "      <td>8.0</td>\n",
              "      <td>307.0</td>\n",
              "      <td>130.0</td>\n",
              "      <td>3504.0</td>\n",
              "      <td>12.0</td>\n",
              "      <td>70.0</td>\n",
              "      <td>1.0</td>\n",
              "      <td>chevrolet chevelle malibu</td>\n",
              "    </tr>\n",
              "    <tr>\n",
              "      <th>1</th>\n",
              "      <td>15.0</td>\n",
              "      <td>8.0</td>\n",
              "      <td>350.0</td>\n",
              "      <td>165.0</td>\n",
              "      <td>3693.0</td>\n",
              "      <td>11.5</td>\n",
              "      <td>70.0</td>\n",
              "      <td>1.0</td>\n",
              "      <td>buick skylark 320</td>\n",
              "    </tr>\n",
              "    <tr>\n",
              "      <th>2</th>\n",
              "      <td>18.0</td>\n",
              "      <td>8.0</td>\n",
              "      <td>318.0</td>\n",
              "      <td>150.0</td>\n",
              "      <td>3436.0</td>\n",
              "      <td>11.0</td>\n",
              "      <td>70.0</td>\n",
              "      <td>1.0</td>\n",
              "      <td>plymouth satellite</td>\n",
              "    </tr>\n",
              "    <tr>\n",
              "      <th>3</th>\n",
              "      <td>16.0</td>\n",
              "      <td>8.0</td>\n",
              "      <td>304.0</td>\n",
              "      <td>150.0</td>\n",
              "      <td>3433.0</td>\n",
              "      <td>12.0</td>\n",
              "      <td>70.0</td>\n",
              "      <td>1.0</td>\n",
              "      <td>amc rebel sst</td>\n",
              "    </tr>\n",
              "    <tr>\n",
              "      <th>4</th>\n",
              "      <td>17.0</td>\n",
              "      <td>8.0</td>\n",
              "      <td>302.0</td>\n",
              "      <td>140.0</td>\n",
              "      <td>3449.0</td>\n",
              "      <td>10.5</td>\n",
              "      <td>70.0</td>\n",
              "      <td>1.0</td>\n",
              "      <td>ford torino</td>\n",
              "    </tr>\n",
              "  </tbody>\n",
              "</table>\n",
              "</div>\n",
              "    <div class=\"colab-df-buttons\">\n",
              "\n",
              "  <div class=\"colab-df-container\">\n",
              "    <button class=\"colab-df-convert\" onclick=\"convertToInteractive('df-bf7966d5-cd43-4032-8d08-7ab4c2faa75c')\"\n",
              "            title=\"Convert this dataframe to an interactive table.\"\n",
              "            style=\"display:none;\">\n",
              "\n",
              "  <svg xmlns=\"http://www.w3.org/2000/svg\" height=\"24px\" viewBox=\"0 -960 960 960\">\n",
              "    <path d=\"M120-120v-720h720v720H120Zm60-500h600v-160H180v160Zm220 220h160v-160H400v160Zm0 220h160v-160H400v160ZM180-400h160v-160H180v160Zm440 0h160v-160H620v160ZM180-180h160v-160H180v160Zm440 0h160v-160H620v160Z\"/>\n",
              "  </svg>\n",
              "    </button>\n",
              "\n",
              "  <style>\n",
              "    .colab-df-container {\n",
              "      display:flex;\n",
              "      gap: 12px;\n",
              "    }\n",
              "\n",
              "    .colab-df-convert {\n",
              "      background-color: #E8F0FE;\n",
              "      border: none;\n",
              "      border-radius: 50%;\n",
              "      cursor: pointer;\n",
              "      display: none;\n",
              "      fill: #1967D2;\n",
              "      height: 32px;\n",
              "      padding: 0 0 0 0;\n",
              "      width: 32px;\n",
              "    }\n",
              "\n",
              "    .colab-df-convert:hover {\n",
              "      background-color: #E2EBFA;\n",
              "      box-shadow: 0px 1px 2px rgba(60, 64, 67, 0.3), 0px 1px 3px 1px rgba(60, 64, 67, 0.15);\n",
              "      fill: #174EA6;\n",
              "    }\n",
              "\n",
              "    .colab-df-buttons div {\n",
              "      margin-bottom: 4px;\n",
              "    }\n",
              "\n",
              "    [theme=dark] .colab-df-convert {\n",
              "      background-color: #3B4455;\n",
              "      fill: #D2E3FC;\n",
              "    }\n",
              "\n",
              "    [theme=dark] .colab-df-convert:hover {\n",
              "      background-color: #434B5C;\n",
              "      box-shadow: 0px 1px 3px 1px rgba(0, 0, 0, 0.15);\n",
              "      filter: drop-shadow(0px 1px 2px rgba(0, 0, 0, 0.3));\n",
              "      fill: #FFFFFF;\n",
              "    }\n",
              "  </style>\n",
              "\n",
              "    <script>\n",
              "      const buttonEl =\n",
              "        document.querySelector('#df-bf7966d5-cd43-4032-8d08-7ab4c2faa75c button.colab-df-convert');\n",
              "      buttonEl.style.display =\n",
              "        google.colab.kernel.accessAllowed ? 'block' : 'none';\n",
              "\n",
              "      async function convertToInteractive(key) {\n",
              "        const element = document.querySelector('#df-bf7966d5-cd43-4032-8d08-7ab4c2faa75c');\n",
              "        const dataTable =\n",
              "          await google.colab.kernel.invokeFunction('convertToInteractive',\n",
              "                                                    [key], {});\n",
              "        if (!dataTable) return;\n",
              "\n",
              "        const docLinkHtml = 'Like what you see? Visit the ' +\n",
              "          '<a target=\"_blank\" href=https://colab.research.google.com/notebooks/data_table.ipynb>data table notebook</a>'\n",
              "          + ' to learn more about interactive tables.';\n",
              "        element.innerHTML = '';\n",
              "        dataTable['output_type'] = 'display_data';\n",
              "        await google.colab.output.renderOutput(dataTable, element);\n",
              "        const docLink = document.createElement('div');\n",
              "        docLink.innerHTML = docLinkHtml;\n",
              "        element.appendChild(docLink);\n",
              "      }\n",
              "    </script>\n",
              "  </div>\n",
              "\n",
              "\n",
              "<div id=\"df-2327ba07-5b8e-4fb3-9166-379a557499b2\">\n",
              "  <button class=\"colab-df-quickchart\" onclick=\"quickchart('df-2327ba07-5b8e-4fb3-9166-379a557499b2')\"\n",
              "            title=\"Suggest charts.\"\n",
              "            style=\"display:none;\">\n",
              "\n",
              "<svg xmlns=\"http://www.w3.org/2000/svg\" height=\"24px\"viewBox=\"0 0 24 24\"\n",
              "     width=\"24px\">\n",
              "    <g>\n",
              "        <path d=\"M19 3H5c-1.1 0-2 .9-2 2v14c0 1.1.9 2 2 2h14c1.1 0 2-.9 2-2V5c0-1.1-.9-2-2-2zM9 17H7v-7h2v7zm4 0h-2V7h2v10zm4 0h-2v-4h2v4z\"/>\n",
              "    </g>\n",
              "</svg>\n",
              "  </button>\n",
              "\n",
              "<style>\n",
              "  .colab-df-quickchart {\n",
              "      --bg-color: #E8F0FE;\n",
              "      --fill-color: #1967D2;\n",
              "      --hover-bg-color: #E2EBFA;\n",
              "      --hover-fill-color: #174EA6;\n",
              "      --disabled-fill-color: #AAA;\n",
              "      --disabled-bg-color: #DDD;\n",
              "  }\n",
              "\n",
              "  [theme=dark] .colab-df-quickchart {\n",
              "      --bg-color: #3B4455;\n",
              "      --fill-color: #D2E3FC;\n",
              "      --hover-bg-color: #434B5C;\n",
              "      --hover-fill-color: #FFFFFF;\n",
              "      --disabled-bg-color: #3B4455;\n",
              "      --disabled-fill-color: #666;\n",
              "  }\n",
              "\n",
              "  .colab-df-quickchart {\n",
              "    background-color: var(--bg-color);\n",
              "    border: none;\n",
              "    border-radius: 50%;\n",
              "    cursor: pointer;\n",
              "    display: none;\n",
              "    fill: var(--fill-color);\n",
              "    height: 32px;\n",
              "    padding: 0;\n",
              "    width: 32px;\n",
              "  }\n",
              "\n",
              "  .colab-df-quickchart:hover {\n",
              "    background-color: var(--hover-bg-color);\n",
              "    box-shadow: 0 1px 2px rgba(60, 64, 67, 0.3), 0 1px 3px 1px rgba(60, 64, 67, 0.15);\n",
              "    fill: var(--button-hover-fill-color);\n",
              "  }\n",
              "\n",
              "  .colab-df-quickchart-complete:disabled,\n",
              "  .colab-df-quickchart-complete:disabled:hover {\n",
              "    background-color: var(--disabled-bg-color);\n",
              "    fill: var(--disabled-fill-color);\n",
              "    box-shadow: none;\n",
              "  }\n",
              "\n",
              "  .colab-df-spinner {\n",
              "    border: 2px solid var(--fill-color);\n",
              "    border-color: transparent;\n",
              "    border-bottom-color: var(--fill-color);\n",
              "    animation:\n",
              "      spin 1s steps(1) infinite;\n",
              "  }\n",
              "\n",
              "  @keyframes spin {\n",
              "    0% {\n",
              "      border-color: transparent;\n",
              "      border-bottom-color: var(--fill-color);\n",
              "      border-left-color: var(--fill-color);\n",
              "    }\n",
              "    20% {\n",
              "      border-color: transparent;\n",
              "      border-left-color: var(--fill-color);\n",
              "      border-top-color: var(--fill-color);\n",
              "    }\n",
              "    30% {\n",
              "      border-color: transparent;\n",
              "      border-left-color: var(--fill-color);\n",
              "      border-top-color: var(--fill-color);\n",
              "      border-right-color: var(--fill-color);\n",
              "    }\n",
              "    40% {\n",
              "      border-color: transparent;\n",
              "      border-right-color: var(--fill-color);\n",
              "      border-top-color: var(--fill-color);\n",
              "    }\n",
              "    60% {\n",
              "      border-color: transparent;\n",
              "      border-right-color: var(--fill-color);\n",
              "    }\n",
              "    80% {\n",
              "      border-color: transparent;\n",
              "      border-right-color: var(--fill-color);\n",
              "      border-bottom-color: var(--fill-color);\n",
              "    }\n",
              "    90% {\n",
              "      border-color: transparent;\n",
              "      border-bottom-color: var(--fill-color);\n",
              "    }\n",
              "  }\n",
              "</style>\n",
              "\n",
              "  <script>\n",
              "    async function quickchart(key) {\n",
              "      const quickchartButtonEl =\n",
              "        document.querySelector('#' + key + ' button');\n",
              "      quickchartButtonEl.disabled = true;  // To prevent multiple clicks.\n",
              "      quickchartButtonEl.classList.add('colab-df-spinner');\n",
              "      try {\n",
              "        const charts = await google.colab.kernel.invokeFunction(\n",
              "            'suggestCharts', [key], {});\n",
              "      } catch (error) {\n",
              "        console.error('Error during call to suggestCharts:', error);\n",
              "      }\n",
              "      quickchartButtonEl.classList.remove('colab-df-spinner');\n",
              "      quickchartButtonEl.classList.add('colab-df-quickchart-complete');\n",
              "    }\n",
              "    (() => {\n",
              "      let quickchartButtonEl =\n",
              "        document.querySelector('#df-2327ba07-5b8e-4fb3-9166-379a557499b2 button');\n",
              "      quickchartButtonEl.style.display =\n",
              "        google.colab.kernel.accessAllowed ? 'block' : 'none';\n",
              "    })();\n",
              "  </script>\n",
              "</div>\n",
              "    </div>\n",
              "  </div>\n"
            ]
          },
          "metadata": {},
          "execution_count": 57
        }
      ]
    },
    {
      "cell_type": "code",
      "source": [
        "df_origin[['mpg', 'horsepower', 'weight', 'acceleration']].corr()"
      ],
      "metadata": {
        "colab": {
          "base_uri": "https://localhost:8080/",
          "height": 175
        },
        "id": "XzTwwgHTg9Lo",
        "outputId": "e8cd937c-eec2-4e33-9638-5c6815502956"
      },
      "execution_count": null,
      "outputs": [
        {
          "output_type": "execute_result",
          "data": {
            "text/plain": [
              "                   mpg  horsepower    weight  acceleration\n",
              "mpg           1.000000   -0.778427 -0.831741      0.420289\n",
              "horsepower   -0.778427    1.000000  0.866586     -0.697124\n",
              "weight       -0.831741    0.866586  1.000000     -0.430086\n",
              "acceleration  0.420289   -0.697124 -0.430086      1.000000"
            ],
            "text/html": [
              "\n",
              "  <div id=\"df-17371d76-9c8b-4565-bf33-2fa903ecbd21\" class=\"colab-df-container\">\n",
              "    <div>\n",
              "<style scoped>\n",
              "    .dataframe tbody tr th:only-of-type {\n",
              "        vertical-align: middle;\n",
              "    }\n",
              "\n",
              "    .dataframe tbody tr th {\n",
              "        vertical-align: top;\n",
              "    }\n",
              "\n",
              "    .dataframe thead th {\n",
              "        text-align: right;\n",
              "    }\n",
              "</style>\n",
              "<table border=\"1\" class=\"dataframe\">\n",
              "  <thead>\n",
              "    <tr style=\"text-align: right;\">\n",
              "      <th></th>\n",
              "      <th>mpg</th>\n",
              "      <th>horsepower</th>\n",
              "      <th>weight</th>\n",
              "      <th>acceleration</th>\n",
              "    </tr>\n",
              "  </thead>\n",
              "  <tbody>\n",
              "    <tr>\n",
              "      <th>mpg</th>\n",
              "      <td>1.000000</td>\n",
              "      <td>-0.778427</td>\n",
              "      <td>-0.831741</td>\n",
              "      <td>0.420289</td>\n",
              "    </tr>\n",
              "    <tr>\n",
              "      <th>horsepower</th>\n",
              "      <td>-0.778427</td>\n",
              "      <td>1.000000</td>\n",
              "      <td>0.866586</td>\n",
              "      <td>-0.697124</td>\n",
              "    </tr>\n",
              "    <tr>\n",
              "      <th>weight</th>\n",
              "      <td>-0.831741</td>\n",
              "      <td>0.866586</td>\n",
              "      <td>1.000000</td>\n",
              "      <td>-0.430086</td>\n",
              "    </tr>\n",
              "    <tr>\n",
              "      <th>acceleration</th>\n",
              "      <td>0.420289</td>\n",
              "      <td>-0.697124</td>\n",
              "      <td>-0.430086</td>\n",
              "      <td>1.000000</td>\n",
              "    </tr>\n",
              "  </tbody>\n",
              "</table>\n",
              "</div>\n",
              "    <div class=\"colab-df-buttons\">\n",
              "\n",
              "  <div class=\"colab-df-container\">\n",
              "    <button class=\"colab-df-convert\" onclick=\"convertToInteractive('df-17371d76-9c8b-4565-bf33-2fa903ecbd21')\"\n",
              "            title=\"Convert this dataframe to an interactive table.\"\n",
              "            style=\"display:none;\">\n",
              "\n",
              "  <svg xmlns=\"http://www.w3.org/2000/svg\" height=\"24px\" viewBox=\"0 -960 960 960\">\n",
              "    <path d=\"M120-120v-720h720v720H120Zm60-500h600v-160H180v160Zm220 220h160v-160H400v160Zm0 220h160v-160H400v160ZM180-400h160v-160H180v160Zm440 0h160v-160H620v160ZM180-180h160v-160H180v160Zm440 0h160v-160H620v160Z\"/>\n",
              "  </svg>\n",
              "    </button>\n",
              "\n",
              "  <style>\n",
              "    .colab-df-container {\n",
              "      display:flex;\n",
              "      gap: 12px;\n",
              "    }\n",
              "\n",
              "    .colab-df-convert {\n",
              "      background-color: #E8F0FE;\n",
              "      border: none;\n",
              "      border-radius: 50%;\n",
              "      cursor: pointer;\n",
              "      display: none;\n",
              "      fill: #1967D2;\n",
              "      height: 32px;\n",
              "      padding: 0 0 0 0;\n",
              "      width: 32px;\n",
              "    }\n",
              "\n",
              "    .colab-df-convert:hover {\n",
              "      background-color: #E2EBFA;\n",
              "      box-shadow: 0px 1px 2px rgba(60, 64, 67, 0.3), 0px 1px 3px 1px rgba(60, 64, 67, 0.15);\n",
              "      fill: #174EA6;\n",
              "    }\n",
              "\n",
              "    .colab-df-buttons div {\n",
              "      margin-bottom: 4px;\n",
              "    }\n",
              "\n",
              "    [theme=dark] .colab-df-convert {\n",
              "      background-color: #3B4455;\n",
              "      fill: #D2E3FC;\n",
              "    }\n",
              "\n",
              "    [theme=dark] .colab-df-convert:hover {\n",
              "      background-color: #434B5C;\n",
              "      box-shadow: 0px 1px 3px 1px rgba(0, 0, 0, 0.15);\n",
              "      filter: drop-shadow(0px 1px 2px rgba(0, 0, 0, 0.3));\n",
              "      fill: #FFFFFF;\n",
              "    }\n",
              "  </style>\n",
              "\n",
              "    <script>\n",
              "      const buttonEl =\n",
              "        document.querySelector('#df-17371d76-9c8b-4565-bf33-2fa903ecbd21 button.colab-df-convert');\n",
              "      buttonEl.style.display =\n",
              "        google.colab.kernel.accessAllowed ? 'block' : 'none';\n",
              "\n",
              "      async function convertToInteractive(key) {\n",
              "        const element = document.querySelector('#df-17371d76-9c8b-4565-bf33-2fa903ecbd21');\n",
              "        const dataTable =\n",
              "          await google.colab.kernel.invokeFunction('convertToInteractive',\n",
              "                                                    [key], {});\n",
              "        if (!dataTable) return;\n",
              "\n",
              "        const docLinkHtml = 'Like what you see? Visit the ' +\n",
              "          '<a target=\"_blank\" href=https://colab.research.google.com/notebooks/data_table.ipynb>data table notebook</a>'\n",
              "          + ' to learn more about interactive tables.';\n",
              "        element.innerHTML = '';\n",
              "        dataTable['output_type'] = 'display_data';\n",
              "        await google.colab.output.renderOutput(dataTable, element);\n",
              "        const docLink = document.createElement('div');\n",
              "        docLink.innerHTML = docLinkHtml;\n",
              "        element.appendChild(docLink);\n",
              "      }\n",
              "    </script>\n",
              "  </div>\n",
              "\n",
              "\n",
              "<div id=\"df-9b7ae121-1758-4b65-a183-16d5da91aa55\">\n",
              "  <button class=\"colab-df-quickchart\" onclick=\"quickchart('df-9b7ae121-1758-4b65-a183-16d5da91aa55')\"\n",
              "            title=\"Suggest charts.\"\n",
              "            style=\"display:none;\">\n",
              "\n",
              "<svg xmlns=\"http://www.w3.org/2000/svg\" height=\"24px\"viewBox=\"0 0 24 24\"\n",
              "     width=\"24px\">\n",
              "    <g>\n",
              "        <path d=\"M19 3H5c-1.1 0-2 .9-2 2v14c0 1.1.9 2 2 2h14c1.1 0 2-.9 2-2V5c0-1.1-.9-2-2-2zM9 17H7v-7h2v7zm4 0h-2V7h2v10zm4 0h-2v-4h2v4z\"/>\n",
              "    </g>\n",
              "</svg>\n",
              "  </button>\n",
              "\n",
              "<style>\n",
              "  .colab-df-quickchart {\n",
              "      --bg-color: #E8F0FE;\n",
              "      --fill-color: #1967D2;\n",
              "      --hover-bg-color: #E2EBFA;\n",
              "      --hover-fill-color: #174EA6;\n",
              "      --disabled-fill-color: #AAA;\n",
              "      --disabled-bg-color: #DDD;\n",
              "  }\n",
              "\n",
              "  [theme=dark] .colab-df-quickchart {\n",
              "      --bg-color: #3B4455;\n",
              "      --fill-color: #D2E3FC;\n",
              "      --hover-bg-color: #434B5C;\n",
              "      --hover-fill-color: #FFFFFF;\n",
              "      --disabled-bg-color: #3B4455;\n",
              "      --disabled-fill-color: #666;\n",
              "  }\n",
              "\n",
              "  .colab-df-quickchart {\n",
              "    background-color: var(--bg-color);\n",
              "    border: none;\n",
              "    border-radius: 50%;\n",
              "    cursor: pointer;\n",
              "    display: none;\n",
              "    fill: var(--fill-color);\n",
              "    height: 32px;\n",
              "    padding: 0;\n",
              "    width: 32px;\n",
              "  }\n",
              "\n",
              "  .colab-df-quickchart:hover {\n",
              "    background-color: var(--hover-bg-color);\n",
              "    box-shadow: 0 1px 2px rgba(60, 64, 67, 0.3), 0 1px 3px 1px rgba(60, 64, 67, 0.15);\n",
              "    fill: var(--button-hover-fill-color);\n",
              "  }\n",
              "\n",
              "  .colab-df-quickchart-complete:disabled,\n",
              "  .colab-df-quickchart-complete:disabled:hover {\n",
              "    background-color: var(--disabled-bg-color);\n",
              "    fill: var(--disabled-fill-color);\n",
              "    box-shadow: none;\n",
              "  }\n",
              "\n",
              "  .colab-df-spinner {\n",
              "    border: 2px solid var(--fill-color);\n",
              "    border-color: transparent;\n",
              "    border-bottom-color: var(--fill-color);\n",
              "    animation:\n",
              "      spin 1s steps(1) infinite;\n",
              "  }\n",
              "\n",
              "  @keyframes spin {\n",
              "    0% {\n",
              "      border-color: transparent;\n",
              "      border-bottom-color: var(--fill-color);\n",
              "      border-left-color: var(--fill-color);\n",
              "    }\n",
              "    20% {\n",
              "      border-color: transparent;\n",
              "      border-left-color: var(--fill-color);\n",
              "      border-top-color: var(--fill-color);\n",
              "    }\n",
              "    30% {\n",
              "      border-color: transparent;\n",
              "      border-left-color: var(--fill-color);\n",
              "      border-top-color: var(--fill-color);\n",
              "      border-right-color: var(--fill-color);\n",
              "    }\n",
              "    40% {\n",
              "      border-color: transparent;\n",
              "      border-right-color: var(--fill-color);\n",
              "      border-top-color: var(--fill-color);\n",
              "    }\n",
              "    60% {\n",
              "      border-color: transparent;\n",
              "      border-right-color: var(--fill-color);\n",
              "    }\n",
              "    80% {\n",
              "      border-color: transparent;\n",
              "      border-right-color: var(--fill-color);\n",
              "      border-bottom-color: var(--fill-color);\n",
              "    }\n",
              "    90% {\n",
              "      border-color: transparent;\n",
              "      border-bottom-color: var(--fill-color);\n",
              "    }\n",
              "  }\n",
              "</style>\n",
              "\n",
              "  <script>\n",
              "    async function quickchart(key) {\n",
              "      const quickchartButtonEl =\n",
              "        document.querySelector('#' + key + ' button');\n",
              "      quickchartButtonEl.disabled = true;  // To prevent multiple clicks.\n",
              "      quickchartButtonEl.classList.add('colab-df-spinner');\n",
              "      try {\n",
              "        const charts = await google.colab.kernel.invokeFunction(\n",
              "            'suggestCharts', [key], {});\n",
              "      } catch (error) {\n",
              "        console.error('Error during call to suggestCharts:', error);\n",
              "      }\n",
              "      quickchartButtonEl.classList.remove('colab-df-spinner');\n",
              "      quickchartButtonEl.classList.add('colab-df-quickchart-complete');\n",
              "    }\n",
              "    (() => {\n",
              "      let quickchartButtonEl =\n",
              "        document.querySelector('#df-9b7ae121-1758-4b65-a183-16d5da91aa55 button');\n",
              "      quickchartButtonEl.style.display =\n",
              "        google.colab.kernel.accessAllowed ? 'block' : 'none';\n",
              "    })();\n",
              "  </script>\n",
              "</div>\n",
              "    </div>\n",
              "  </div>\n"
            ]
          },
          "metadata": {},
          "execution_count": 58
        }
      ]
    },
    {
      "cell_type": "code",
      "source": [
        "# mpg, horsepower, weight, acceleration간의 상관계수 시각화\n",
        "sns.heatmap(data=df_origin[['mpg', 'horsepower', 'weight', 'acceleration']].corr(),\n",
        "            annot=True)\n",
        "plt.show()"
      ],
      "metadata": {
        "colab": {
          "base_uri": "https://localhost:8080/",
          "height": 435
        },
        "id": "mQicvaukjTGS",
        "outputId": "f4fdcacc-2ca7-4019-df0b-0d896349ecac"
      },
      "execution_count": null,
      "outputs": [
        {
          "output_type": "display_data",
          "data": {
            "text/plain": [
              "<Figure size 640x480 with 2 Axes>"
            ],
            "image/png": "[encoded data removed]"
          },
          "metadata": {}
        }
      ]
    },
    {
      "cell_type": "markdown",
      "source": [
        "- `mpg`와 `horsepower`, `weight`은 강한 음의 상관관계: `horsepower`과 `weight`이 늘어나면 연비는 줄어든다\n",
        "\n",
        "- `horsepower`와 `weight`사이에는 강한 양의 상관관계: `horsepower`가 증가하면 `weight`도 증가한다."
      ],
      "metadata": {
        "id": "-2U7i-Rsg5hD"
      }
    },
    {
      "cell_type": "markdown",
      "source": [
        "# 확률 시뮬레이션"
      ],
      "metadata": {
        "id": "k1wEe9JqZapM"
      }
    },
    {
      "cell_type": "markdown",
      "source": [
        "- 주사위 던지기 시뮬레이션"
      ],
      "metadata": {
        "id": "kf3nkWVeZ1-0"
      }
    },
    {
      "cell_type": "code",
      "source": [
        "# 공평한 주사위\n",
        "P = np.array([1/6, 1/6, 1/6, 1/6, 1/6, 1/6])\n",
        "\n",
        "N = 1000000\n",
        "samples = np.random.choice([1,2,3,4,5,6], N, p=P)"
      ],
      "metadata": {
        "id": "SkSP9qGAZdMy"
      },
      "execution_count": null,
      "outputs": []
    },
    {
      "cell_type": "code",
      "source": [
        "sum(samples == 1)"
      ],
      "metadata": {
        "colab": {
          "base_uri": "https://localhost:8080/"
        },
        "id": "Qu10qrg2l_BB",
        "outputId": "a20ad430-1ac2-45aa-efc9-160a48143725"
      },
      "execution_count": null,
      "outputs": [
        {
          "output_type": "execute_result",
          "data": {
            "text/plain": [
              "166581"
            ]
          },
          "metadata": {},
          "execution_count": 61
        }
      ]
    },
    {
      "cell_type": "code",
      "source": [
        "# 샘플로 부터 구한 확률과 P를 비교\n",
        "P_stat = np.array([ sum(samples == i) / N for i in range(1, 7) ])"
      ],
      "metadata": {
        "id": "D3AJPZR3ZdKT"
      },
      "execution_count": null,
      "outputs": []
    },
    {
      "cell_type": "code",
      "source": [
        "np.abs(P-P_stat)"
      ],
      "metadata": {
        "colab": {
          "base_uri": "https://localhost:8080/"
        },
        "id": "nrMk1i-aZdH2",
        "outputId": "bbb50d16-24c4-4f55-ddf8-1dedb0760ac2"
      },
      "execution_count": null,
      "outputs": [
        {
          "output_type": "execute_result",
          "data": {
            "text/plain": [
              "array([8.56666667e-05, 4.57666667e-04, 2.51666667e-04, 3.73333333e-04,\n",
              "       1.23333333e-04, 2.98333333e-04])"
            ]
          },
          "metadata": {},
          "execution_count": 63
        }
      ]
    },
    {
      "cell_type": "code",
      "source": [
        "# 공평하지 않은 주사위\n",
        "P = np.array([1/6, 1/6, 1/6, 1/6, 3/15, 2/15])\n",
        "print(sum(P))\n",
        "\n",
        "N = 1000000\n",
        "samples = np.random.choice([1,2,3,4,5,6], N, p=P)"
      ],
      "metadata": {
        "id": "NpZCyW1TZdFM",
        "colab": {
          "base_uri": "https://localhost:8080/"
        },
        "outputId": "41f761f9-f7e1-4f4c-9c0d-3e64b4bb4d56"
      },
      "execution_count": null,
      "outputs": [
        {
          "output_type": "stream",
          "name": "stdout",
          "text": [
            "1.0\n"
          ]
        }
      ]
    },
    {
      "cell_type": "code",
      "source": [
        "# 샘플로 부터 구한 확률과 P를 비교\n",
        "P_stat = np.array([ sum(samples == i) / N for i in range(1, 7) ])\n",
        "np.abs(P-P_stat)"
      ],
      "metadata": {
        "colab": {
          "base_uri": "https://localhost:8080/"
        },
        "id": "qN5TgLRnZdC7",
        "outputId": "7bfa48a2-87cd-403d-f66a-42657935e879"
      },
      "execution_count": null,
      "outputs": [
        {
          "output_type": "execute_result",
          "data": {
            "text/plain": [
              "array([3.29333333e-04, 3.65333333e-04, 1.04666667e-03, 1.07333333e-04,\n",
              "       2.46000000e-04, 1.33333333e-06])"
            ]
          },
          "metadata": {},
          "execution_count": 65
        }
      ]
    },
    {
      "cell_type": "markdown",
      "source": [
        "# 결합확률? 조건부확률"
      ],
      "metadata": {
        "id": "xWxloGeeem-t"
      }
    },
    {
      "cell_type": "markdown",
      "source": [
        "## 예제 1: 제비뽑기 시뮬레이션"
      ],
      "metadata": {
        "id": "hM7d2OPseqxF"
      }
    },
    {
      "cell_type": "code",
      "source": [
        "# 1: 당첨, 0: 꽝\n",
        "yoon_pick = []\n",
        "gun_pick = []\n",
        "\n",
        "N = 10000 # 뽑기 시도 횟수\n",
        "\n",
        "for i in range(N):\n",
        "    lots = [1,1,1,1,0,0,0,0,0,0,0,0,0,0,0,0,0,0,0,0]\n",
        "\n",
        "    idx = random.choice(range(len(lots))) # 윤경이 제비뽑기\n",
        "    yoon_pick.append( lots[idx] )\n",
        "\n",
        "    del lots[idx] # 뽑았으면 0번 제비 제거\n",
        "\n",
        "    idx = random.choice(range(len(lots)))\n",
        "    gun_pick.append( lots[idx] )"
      ],
      "metadata": {
        "id": "WcI8gtGhtUeg"
      },
      "execution_count": null,
      "outputs": []
    },
    {
      "cell_type": "code",
      "source": [
        "sum(yoon_pick) / len(yoon_pick), sum(gun_pick) / len(gun_pick)"
      ],
      "metadata": {
        "colab": {
          "base_uri": "https://localhost:8080/"
        },
        "id": "PJK1R--NtUbw",
        "outputId": "a2492353-568b-4692-c04c-4c5d41078bf2"
      },
      "execution_count": null,
      "outputs": [
        {
          "output_type": "execute_result",
          "data": {
            "text/plain": [
              "(0.2038, 0.2069)"
            ]
          },
          "metadata": {},
          "execution_count": 67
        }
      ]
    },
    {
      "cell_type": "markdown",
      "source": [
        "# 이산 확률변수"
      ],
      "metadata": {
        "id": "ssmWR-3lkcTC"
      }
    },
    {
      "cell_type": "markdown",
      "source": [
        "## 확률함수와 누적분포함수"
      ],
      "metadata": {
        "id": "pSabsfRX2qeB"
      }
    },
    {
      "cell_type": "markdown",
      "source": [
        "- 각 주사위 눈에 다음처럼 확률이 할당된 불공정한 주사위\n",
        "\n",
        "| 눈 | ![image.png](data:image/png;base64,iVBORw0KGgoAAAANSUhEUgAAAF4AAABmCAYAAABC+yauAAACc0lEQVR4Xu3boY4iQRSF4TuPgMPicCCxOCQSiUPjcIDEwRMg4TGQOJBIHgGJm90mM5uZzex2N1Ppvzf7d0Iw1XXCx+GGVODl9ecVXpULvAhfufkjUHjGXXjIXXjhKQEo1xkvPCQAxdp44SEBKNbGCw8JQLE2XnhIAIq18cJDAlCsjRceEoBibbzwkAAUa+OFhwSgWBsvPCQAxdp44SEBKNbGCw8JQLE2XnhIAIq18f8z/OFwiOxR1bVYLKqK+mNOLRqfQSyXy8ow6vCXAOEre7s/B9UOfjgcRqfTSc6x2Wzidrs99rXxb7wfR812u43xeJwcvtVqxfV6Ff6jrPDJe1ZsQ+GLOSVfJXxy0mIbCl/MKfkq4ZOTFttQ+GJOyVcJn5y02IZl4c/nc6xWqzgejzGZTGI2m+UG+T3+C6Ky8P1+/9Oh2m63i9Fo9Fd84b8Jf7/fo9FoRPb8fs3n88g7cRT+m/DZ7dPpNNbr9a+dTqdTdLtdG587cH9bUHbUZLfv9/u4XC7R6/ViMBjkRtr4BI3PVf5igfDCPwRqdx7vsfAzn+cn73lmxpeNctQ4ahw1ZT81Kdc741NqlthL+BJYKZfWDr7dbkez2Uz5Gh97ZQdq78cM/srgjdcfNCXvWbENhS/m5KoEArWY8Qlexz+3hfDQWya88JAAFGvjhYcEoFgbLzwkAMXaeOEhASjWxgsPCUCxNl54SACKtfHCQwJQrI0XHhKAYm288JAAFGvjhYcEoFgbLzwkAMXaeOEhASjWxgsPCUCxNl54SACKtfHCQwJQrI0XHhKAYm288JAAFGvjhYcEoFgbLzwkAMXaeOEhASj2Bx/k7O3DpOf4AAAAAElFTkSuQmCC) | ![image.png](data:image/png;base64,iVBORw0KGgoAAAANSUhEUgAAAF4AAABmCAYAAABC+yauAAACuklEQVR4Xu3boXIiQRSF4RuHRIIDhwPeAhxIHBIcjwBPQKHAIUEikUgeAYkDBw7c7t6phEq2klRnmJkzW/t3VSqmp0/lm5MOPZCXX3+GMTIXeAE+c/MoEHiNO/Aid+CBVwmIctnjgRcJiGJpPPAiAVEsjQdeJCCKpfHAiwREsTQeeJGAKJbGAy8SEMXSeOBFAqJYGg+8SEAUS+OBFwmIYmk88CIBUSyNB14kIIql8cCLBESxNP5/ht/tduZfWY3xeJxV1Jc5uWi8Q0wmk8ww8vAvAcBndrs/BuUOvtPpWL1eT5xjNpvZ9XqN1qXxr7zvt5rlcmn9fj9x+Gq1asfjEfj3st/B7/d7KxQK1mg0nroZwH/C9xn8/X63ZrNph8MhumI0Gtl0Oo2ND3wg/Hq9tl6v92H25XKxYrEYCx/4QPjtdmvtdvsx27cbh/fvcQbwgfA+rdvt2mazibB9mxkMBnHMo2uA/wG8Tz2fz9H2Erfpb3HA/xA+dsX/uhB44COB3J1cOUAl9TsesA4n1wCkNKYAn4ZqwJrAByClMQX4NFQD1kwS3h/9+uOGSqVirVbrkc7LyRRfTvphq1wuPxL8pDufzzm5flX+pBq/WCxsOBw+Yvy0e7vdgE8b3p/r+POdt1Eqlex0OgGfNryv7433Pd7HarV67PPs8Snu8d/9HQce+Eggd89qarWa+d6c9PD3bv3tRB98yuBVlw80JV2zwPWAD4Ri2vMCudjjn/8x/r0VgBfdM+CBFwmIYmk88CIBUSyNB14kIIql8cCLBESxNB54kYAolsYDLxIQxdJ44EUColgaD7xIQBRL44EXCYhiaTzwIgFRLI0HXiQgiqXxwIsERLE0HniRgCiWxgMvEhDF0njgRQKiWBoPvEhAFEvjgRcJiGJpPPAiAVEsjQdeJCCKpfHAiwREsb8B6v0H/EkouUcAAAAASUVORK5CYII=) | ![image.png](data:image/png;base64,iVBORw0KGgoAAAANSUhEUgAAAF4AAABmCAYAAABC+yauAAAC/klEQVR4Xu3bLVAqURjG8ddGhAYNGg1oVJo2aNhsaINGA6JJSdKIGolEI00i0SYNGrR777sjjNxRPhce7tz/mXEou/sMv304s+fMevHrzzDGyQUugD+5eRAIvMYdeJE78MCrBES5zPHAiwREsTQeeJGAKJbGAy8SEMXSeOBFAqJYGg+8SEAUS+OBFwmIYmk88CIBUSyNB14kIIql8cCLBESxNB54kYAolsYDLxIQxdJ44EUColga/z/Dv76+mv+dajSbzVNF/ZhzFo13iFardTKMc/iXAOBPdrtXg84OvlgsWiaTCZ2j3W7bdDoNrkvjP3m/TjXdbtdubm5Ch0+lUvb+/g78V9l18IPBwCKRiGWz2YNuBvDf8H0HP5/PLZfL2Wg0Cs6oVqv28PCwNz7wW8K/vLzY9fX1ytGTycSi0ehe+MBvCd/v9+3q6mp5tE83Du+f+wzgt4T3w0qlkvV6vQDbp5nb29t9zINzgN8B3g8dj8fB9LJv0xdxwO8Iv3fF/zoR+BDgh8Oh3d/fmz9qVioVq9frG+8P8CHAFwqFlU215+dnK5fLa/GBPxDen+9jsZj552I0Gg3btOMI/IHwfnqtVrPHx8flld7e3jaubIEPAd4v4QssX9Xm83m7vLxkjt8oEBL8rjk0/sjwvvXrv4ZkMrnySwD+iPC+2EokEssEX+k+PT2xcv1peghrP77T6djd3d0yxle7s9kM+GPD+76O7+8sRjwet4+PD+CPDe/X98b7HO/DF1aLJx7m+CPO8euedIAHPhA4u7cM0um0+dwc9vANtcU2A28ZfOryQlPYNdvyesBvCcVhhwucxRx/+Nf4964AvOieAQ+8SEAUS+OBFwmIYmk88CIBUSyNB14kIIql8cCLBESxNB54kYAolsYDLxIQxdJ44EUColgaD7xIQBRL44EXCYhiaTzwIgFRLI0HXiQgiqXxwIsERLE0HniRgCiWxgMvEhDF0njgRQKiWBoPvEhAFEvjgRcJiGJpPPAiAVEsjQdeJCCK/Q2h2Cv8poV0ggAAAABJRU5ErkJggg==) | ![image.png](data:image/png;base64,iVBORw0KGgoAAAANSUhEUgAAAF4AAABmCAYAAABC+yauAAADQUlEQVR4Xu3bsVLiUBjF8WtHKZ102GkFPIIddNJBhx108gTAE6gVdNhBSUlJySNY0kEHnXa7+2UMAy4JIZPJyc7+M+M4am6O88vxknvVq19/DseRusAV8Kmbe4HAa9yBF7kDD7xKQJTLHA+8SEAUS+OBFwmIYmk88CIBUSyNB14kIIql8cCLBESxNB54kYAolsYDLxIQxdJ44EUColgaD7xIQBRL44EXCYhiaTzwIgFRLI0HXiQgiqXx/zP8YrFw9pbW0e/304oKzMlE4w1iMBikhpGFfwkAPrXbfRyUOfjHx0dXKpUS53h7e3O73c67Lo3/5j2casbjsWu1WonD397eutVqBfyhbBj8crl0uVzOlcvlyDfDXqivr6+PxgB/gu8U/NfXl6tUKu7j48Mb8fz87F5eXkLxbSq5v793m83GO6/X6zn/CQb4iPDT6dQ1m82js7fbrdfkoOP19dV1u939l+0n5fPz0/sY+Ijw8/nc1Wq1I0SDN8yg4+fNsptkY4APEAua4+v1upvNZh62TTPtdjt0qrHpycbYTbMx9kLdaDSAD1ILe3G1+dqaG9b0n9e1MTc3N0efZqqJONVEfoSJeCLwwHsCmVu5soCK+COcxGmsXJNQjHEN4GOgJTEE+CQUY1wD+BhoSQwJgre9F1uN2nO8vxA6l+ePKRaLrlqt7k/ncTLi46StQvP5vLP3dhj8ZDIJdbeFU6FQ2J9jK93hcMjK9ZKV6/v7u3t6ejoacm6TbDQauU6nsx/DJtmZ+eHUVGN76g8PD/uRhxteQZezfR3bq/EP2zZYr9c0/pLG27m2xWvNt8MWVvZrwXOHNd5eF+ywqcmf55njI87x54Av/TrwwHsCmdurubu7+2tL99J2nzrffnfrPyHxVwbfQvxBUxLVinEN4GOgMSSeQCbm+Hjf+r89CnjR/QMeeJGAKJbGAy8SEMXSeOBFAqJYGg+8SEAUS+OBFwmIYmk88CIBUSyNB14kIIql8cCLBESxNB54kYAolsYDLxIQxdJ44EUColgaD7xIQBRL44EXCYhiaTzwIgFRLI0HXiQgiqXxwIsERLE0HniRgCiWxgMvEhDF0njgRQKiWBoPvEhAFPsbQxFM/DRvba8AAAAASUVORK5CYII=) | ![image.png](data:image/png;base64,iVBORw0KGgoAAAANSUhEUgAAAF4AAABmCAYAAABC+yauAAADeklEQVR4Xu3bIVAiURzH8WcjYtMGDRPSrDZo2LBpQhs0mhpJQIIGDSKRaLRpNNKwaZN2d/8dF1mOZRdk+HFz3zdzc+O5j9/NZ38+3r7jDn79GY6xc4ED4Hdu7gUCr3EHXuQOPPAqAVEuazzwIgFRLI0HXiQgiqXxwIsERLE0HniRgCiWxgMvEhDF0njgRQKiWBoPvEhAFEvjgRcJiGJpPPAiAVEsjQdeJCCKpfHAiwREsTQeeJGAKJbG/8/wj4+Pzn7tatzf3+8qKjRnLxpvEA8PDzvD2If/EgD8zm53MGjv4IvFostms1vnaLVa7uPjw3tdGv/FO7/UdLtdd3V1tXX4dDrtxuMx8POyq+Cfnp5cIpFwp6ensW+GvVEnk8nAHOCX8C2Dn06nLpfLudfXV29GpVJxjUZjJb4tJScnJ+7t7c277u7uzvk7GOBjwg8GA3d5eRm4+v393Wty2Gg2m65arc6+bT8pn5+f3tfAx4QfjUauUCgEEA3eMMPG4s2ym2RzgA8RC1vjLy4u3HA49LBtmbm5uVm51NjyZHPsptkce6MulUrAh6mtenO19dqau6rpi69rc46OjgJ/zFITc6mJvYWJeSHwW4B/eXlx9Xrd2VazXC67Wq0WyQ/8FuDPz88Dh2r9fn+2lofdAeB/CG9voIeHh85+98f8fh34yB/+7wvWPTKwvbrt2f3x/Pwc+WRL43/YeH+67dntqfbs7Mzl8/nI2wz8luAjpRcuAH4NeDt7sWbbPt5/EIoC9+ekUqnATwLwMeEX30QN3nYvq4Y9OB0fH88usSfddrvNk+s6T669Xs9dX18HpkQdknU6HXd7ezubwyFZxPqwbFdjZ+q2X/fH/IFX2MvZuY6d1fjDjg0mkwmNX6fxdq1tG635NuzAy/5ZMGpY4+19wYYtTf6OhzU+5hofBbzu94EH3hPYu08ZZDKZv4501233suvtQM0/ZuBTBl9CfKBpG9Xa4DWA3wCNKZsJ7MUav9lf/d+eBbzo/gEPvEhAFEvjgRcJiGJpPPAiAVEsjQdeJCCKpfHAiwREsTQeeJGAKJbGAy8SEMXSeOBFAqJYGg+8SEAUS+OBFwmIYmk88CIBUSyNB14kIIql8cCLBESxNB54kYAolsYDLxIQxdJ44EUColgaD7xIQBRL44EXCYhiaTzwIgFRLI0HXiQgiv0N+d1w/G3HXv8AAAAASUVORK5CYII=) | ![image.png](data:image/png;base64,iVBORw0KGgoAAAANSUhEUgAAAF4AAABmCAYAAABC+yauAAADoElEQVR4Xu3bMTNrQRjG8dUp6ejoqMQ3oIuOjo6OLj4BquiSVKhQ0VHqKJU6Sh0dHd299zljM0km52TPZfJk7v3vjAK75zW/83jPZsXYrz8jMIYuMAb80M2zgsB73IE3uQMPvEvAVJceD7xJwFSWxANvEjCVJfHAmwRMZUk88CYBU1kSD7xJwFSWxANvEjCVJfHAmwRMZUk88CYBU1kSD7xJwFSWxANvEjCVJfHAmwRMZUk88CYBU1kS/z/D393dBX0Ma+zv7w+rVG6dkUi8IA4ODoaGMQr/EgD80G53d6GRg19dXQ0LCws/ztFqtcL7+3t2XRL/xdvZak5PT8Pm5uaPw8/Ozobn52fgO2WL4O/v78P4+HioVCrJN0MP6omJia41wPfh6wf/+fkZFhcXw9PTU7aiVquFRqNRiK9WMj8/H15fX7N5e3t7Ie5ggE+Ev7y8DBsbG12z397esiTnjWazGXZ3d9vf1m/Kx8dH9jnwifA3NzdhZWWlC1HwwswbvTdLN0lrgM8Ry+vxa2tr4fr6OsNWm9ne3i5sNWpPWqObpjV6UK+vrwOfp1b0cFW/VnKLkt57Xa2Zmprq+jKtJrHVJG9hEicCXwL+8PAwnJ+fh5mZmVCv15O2lFpzcnKSzdWaubk5Wk2ZVvPw8JBtJ+NQ63h5eSnMt/bvy8vL7TlCf3x8BL4M/NnZWdja2upaIvje3t05od9hWzweoNUktho9IIWlnYrG0tJSuL29LUy8jgS0Jg6d+1xdXZH4MonXXEFqb66hrWTRi6d4bb3SjVtQrYm7IRKfmPjEzUryNOBLwOvsRYlX0uMLoUHScY12QtVqtT0d+ER49fbJycl2jxf8xcVFobueC9PT0+05ajVHR0f0+DI9vt+uZtAh2fHxcdjZ2WmX4ZBsQH/od2TQuyfvPPDKu5weqjqriaNz70+rSWw1mqYjXiVfQwde2h4OGkp83AmpNcU+D3wJ+EHIZb4PPPCZwMi9y0DnK0XHAmVS3jlXf7uNr4J5l8GXDG9o+ts4fXMd8N8EZHm6wEj0+PQf99+ZCbzpXgIPvEnAVJbEA28SMJUl8cCbBExlSTzwJgFTWRIPvEnAVJbEA28SMJUl8cCbBExlSTzwJgFTWRIPvEnAVJbEA28SMJUl8cCbBExlSTzwJgFTWRIPvEnAVJbEA28SMJUl8cCbBExlSTzwJgFTWRIPvEnAVJbEA28SMJUl8cCbBExlSTzwJgFT2d/0a4v88iL2JAAAAABJRU5ErkJggg==) |\n",
        "|:-------:|:-------:|:-------:|:-------:|:-------:|:-------:|:-------:|\n",
        "| 확률   | $\\dfrac{1}{21}$   | $\\dfrac{2}{21}$   | $\\dfrac{3}{21}$  |$\\dfrac{4}{21}$  | $\\dfrac{5}{21}$   | $\\dfrac{6}{21}$   |"
      ],
      "metadata": {
        "id": "QrhtCnvjtdhR"
      }
    },
    {
      "cell_type": "markdown",
      "source": [
        "- 샘플을 입력으로 받고 숫자를 출력하는 확률 변수를 다음처럼 정의\n",
        "\n",
        "![image.png](data:image/png;base64,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)\n",
        "\n"
      ],
      "metadata": {
        "id": "PnmaC5VrutWK"
      }
    },
    {
      "cell_type": "markdown",
      "source": [
        "- 그러면 확률 변수 값과 확률의 대응 관계 테이블은 다음처럼 됨\n",
        "\n",
        "| 눈수 X | 1 | 2 | 3 | 4 | 5 | 6 |\n",
        "|:-------:|:-------:|:-------:|:-------:|:-------:|:-------:|:-------:|\n",
        "| 확률   | $\\dfrac{1}{21}$   | $\\dfrac{2}{21}$   | $\\dfrac{3}{21}$  |$\\dfrac{4}{21}$  | $\\dfrac{5}{21}$   | $\\dfrac{6}{21}$   |"
      ],
      "metadata": {
        "id": "-XJqWp8C_hZH"
      }
    },
    {
      "cell_type": "markdown",
      "source": [
        "- 확률 질량함수\n",
        "\n",
        "$$\n",
        "f_X(x) = \\begin{cases}\n",
        "\\dfrac{x}{21} & x \\in \\{1,2,3,4,5,6\\} \\\\[10pt]\n",
        "0 & \\mbox{otherwise }\n",
        "\\end{cases}\n",
        "$$"
      ],
      "metadata": {
        "id": "GPT3PLAkvUWg"
      }
    },
    {
      "cell_type": "code",
      "source": [
        "# 파이썬으로 확률 변수 정의\n",
        "# 확률변수가 가질 수 있는 값(support), 일종의 정의역\n",
        "x_set = np.array([1,2,3,4,5,6])\n",
        "\n",
        "# 확률 질량 함수\n",
        "def f_X(x):\n",
        "    if x in x_set:\n",
        "        return x / 21\n",
        "    else:\n",
        "        return 0\n",
        "\n",
        "# 확률변수는 x_set과 f(x)로 정의\n",
        "X = [x_set, f_X]"
      ],
      "metadata": {
        "id": "DiF3Jt9alEVC"
      },
      "execution_count": null,
      "outputs": []
    },
    {
      "cell_type": "code",
      "source": [
        "# 각 확률 변수값에 대한 확률을 계산\n",
        "f_X(0), f_X(1), f_X(2), f_X(3), f_X(4), f_X(5), f_X(6), f_X(7)"
      ],
      "metadata": {
        "colab": {
          "base_uri": "https://localhost:8080/"
        },
        "id": "J_bkv6rz0tAF",
        "outputId": "ab8f90da-2080-494c-d3a9-271d8d61bc2d"
      },
      "execution_count": null,
      "outputs": [
        {
          "output_type": "execute_result",
          "data": {
            "text/plain": [
              "(0,\n",
              " 0.047619047619047616,\n",
              " 0.09523809523809523,\n",
              " 0.14285714285714285,\n",
              " 0.19047619047619047,\n",
              " 0.23809523809523808,\n",
              " 0.2857142857142857,\n",
              " 0)"
            ]
          },
          "metadata": {},
          "execution_count": 69
        }
      ]
    },
    {
      "cell_type": "code",
      "source": [
        "[f_X(xi) for xi in x_set]"
      ],
      "metadata": {
        "colab": {
          "base_uri": "https://localhost:8080/"
        },
        "id": "fkpZoKiTlNwp",
        "outputId": "7b84b5bb-b2dd-4885-f256-201d613f951a"
      },
      "execution_count": null,
      "outputs": [
        {
          "output_type": "execute_result",
          "data": {
            "text/plain": [
              "[0.047619047619047616,\n",
              " 0.09523809523809523,\n",
              " 0.14285714285714285,\n",
              " 0.19047619047619047,\n",
              " 0.23809523809523808,\n",
              " 0.2857142857142857]"
            ]
          },
          "metadata": {},
          "execution_count": 70
        }
      ]
    },
    {
      "cell_type": "code",
      "source": [
        "# 모두 계산\n",
        "prob = np.array([f_X(xi) for xi in x_set])\n",
        "\n",
        "# 확률을 막대그래프로 표시\n",
        "plt.bar(x_set, prob, color='gray', ec='k')\n",
        "plt.xlabel('X')\n",
        "plt.ylabel('probability ' + r'$f_X(x)$')\n",
        "plt.show()"
      ],
      "metadata": {
        "colab": {
          "base_uri": "https://localhost:8080/",
          "height": 455
        },
        "id": "K8whzuvw037a",
        "outputId": "426e8612-d68e-4d5d-f68f-a24330f68e3e"
      },
      "execution_count": null,
      "outputs": [
        {
          "output_type": "display_data",
          "data": {
            "text/plain": [
              "<Figure size 640x480 with 1 Axes>"
            ],
            "image/png": "[encoded data removed]"
          },
          "metadata": {}
        }
      ]
    },
    {
      "cell_type": "code",
      "source": [
        "np.all([True, True, False])\n",
        "\n",
        "prob >= 0"
      ],
      "metadata": {
        "colab": {
          "base_uri": "https://localhost:8080/"
        },
        "id": "yGj6d2Qmlb4U",
        "outputId": "716de4c1-b9d9-4569-b9e1-e4a9895238cb"
      },
      "execution_count": null,
      "outputs": [
        {
          "output_type": "execute_result",
          "data": {
            "text/plain": [
              "array([ True,  True,  True,  True,  True,  True])"
            ]
          },
          "metadata": {},
          "execution_count": 72
        }
      ]
    },
    {
      "cell_type": "code",
      "source": [
        "# 확률의 성질 확인\n",
        "\n",
        "# 모두 0 이상인가?\n",
        "print( np.all(prob >= 0) ) # np.all() 모두 1이어야 결과는 1\n",
        "\n",
        "\n",
        "# 더 더해서 1이 되나?\n",
        "np.sum(prob)"
      ],
      "metadata": {
        "colab": {
          "base_uri": "https://localhost:8080/"
        },
        "id": "d9r0Qwqq2QAh",
        "outputId": "5dbd54b7-ceae-4878-b20a-952c8566cd7e"
      },
      "execution_count": null,
      "outputs": [
        {
          "output_type": "stream",
          "name": "stdout",
          "text": [
            "True\n"
          ]
        },
        {
          "output_type": "execute_result",
          "data": {
            "text/plain": [
              "0.9999999999999999"
            ]
          },
          "metadata": {},
          "execution_count": 73
        }
      ]
    },
    {
      "cell_type": "code",
      "source": [
        "# 누적 분포함수\n",
        "def F(x):\n",
        "    return np.sum([f_X(xi) for xi in x_set if xi <= x])\n",
        "\n",
        "F(1), F(1.2), F(2)"
      ],
      "metadata": {
        "colab": {
          "base_uri": "https://localhost:8080/"
        },
        "id": "DqRrM5na2vsY",
        "outputId": "aa083421-3628-4129-e05f-cbe913ceaa3f"
      },
      "execution_count": null,
      "outputs": [
        {
          "output_type": "execute_result",
          "data": {
            "text/plain": [
              "(0.047619047619047616, 0.047619047619047616, 0.14285714285714285)"
            ]
          },
          "metadata": {},
          "execution_count": 74
        }
      ]
    },
    {
      "cell_type": "code",
      "source": [
        "# 그림\n",
        "fig, ax = plt.subplots(figsize=(6, 10), nrows=2, ncols=1, sharex=True)\n",
        "\n",
        "interval = [0] + list(x_set) + [7]\n",
        "interval = [(interval[i], interval[i+1]) for i in range(len(interval)-1)]\n",
        "\n",
        "cumprob = [0.] + [F(xi) for xi in x_set]\n",
        "\n",
        "for i, unit in enumerate(interval):\n",
        "    if i == 0:\n",
        "        ax[0].hlines(0, unit[0], unit[1], color='gray')\n",
        "        ax[0].scatter([unit[1]],[0], s=50, c='w', edgecolors='k', zorder=10)\n",
        "    elif i == len(interval)-1:\n",
        "        ax[0].hlines(1, unit[0], unit[1], color='gray')\n",
        "        ax[0].scatter([unit[0]], [cumprob[i]], s=50, c='gray', edgecolors='k', zorder=10)\n",
        "    else:\n",
        "        ax[0].hlines(cumprob[i], unit[0], unit[1], color='gray')\n",
        "        ax[0].scatter([unit[0]], [cumprob[i]], s=50, c='gray', edgecolors='k', zorder=10)\n",
        "        if i <= len(interval)-2:\n",
        "            ax[0].scatter([unit[1]], [cumprob[i]], s=50, c='w', edgecolors='k', zorder=10)\n",
        "\n",
        "ax[0].set_xlabel(r'$X$')\n",
        "ax[0].set_ylabel('cumulative probability func. ' + r'$F_x(x)$')\n",
        "ax[0].set_xticks([1, 2, 3, 4, 5, 6])\n",
        "ax[0].xaxis.set_tick_params(which='both', labelbottom=True)\n",
        "\n",
        "# 모두 계산\n",
        "prob = np.array([f_X(xi) for xi in x_set])\n",
        "\n",
        "# 확률을 막대그래프로 표시\n",
        "ax[1].bar(x_set, prob, color='gray', ec='k')\n",
        "\n",
        "ax[1].set_xlabel(r'$X$')\n",
        "ax[1].set_ylabel('probability mass func. ' + r'$f_x(x)$')\n",
        "ax[1].set_xticks([1, 2, 3, 4, 5, 6])\n",
        "\n",
        "plt.show()"
      ],
      "metadata": {
        "colab": {
          "base_uri": "https://localhost:8080/",
          "height": 850
        },
        "id": "Q3-0IVl63FXo",
        "outputId": "bd962542-ce6f-448a-8f04-555cda83b280"
      },
      "execution_count": null,
      "outputs": [
        {
          "output_type": "display_data",
          "data": {
            "text/plain": [
              "<Figure size 600x1000 with 2 Axes>"
            ],
            "image/png": "[encoded data removed]"
          },
          "metadata": {}
        }
      ]
    },
    {
      "cell_type": "markdown",
      "source": [
        "## 기댓값"
      ],
      "metadata": {
        "id": "A1GABEkXpLku"
      }
    },
    {
      "cell_type": "markdown",
      "source": [
        "$$\n",
        "\\mathbb{E}[X] = \\sum_{i} x_i f_X(x_i)\n",
        "$$\n",
        "\n",
        "- 앞서 정의한 확률변수의 기댓값\n",
        "\n",
        "\n",
        "\n"
      ],
      "metadata": {
        "id": "PSSqhn15lw0r"
      }
    },
    {
      "cell_type": "code",
      "source": [
        "# 확률변수 X의 이론적 기댓값\n",
        "np.sum([xi * f_X(xi) for xi in x_set])"
      ],
      "metadata": {
        "colab": {
          "base_uri": "https://localhost:8080/"
        },
        "id": "Jh4n-BqYlsFD",
        "outputId": "abdfbba0-1f36-4b4c-8e7b-ecf68334ba74"
      },
      "execution_count": null,
      "outputs": [
        {
          "output_type": "execute_result",
          "data": {
            "text/plain": [
              "4.333333333333333"
            ]
          },
          "metadata": {},
          "execution_count": 76
        }
      ]
    },
    {
      "cell_type": "code",
      "source": [
        "# 시뮬레이션\n",
        "# x_set = np.array([1,2,3,4,5,6])\n",
        "\n",
        "sample = np.random.choice(x_set, 10000, p = prob)\n",
        "np.mean(sample)"
      ],
      "metadata": {
        "colab": {
          "base_uri": "https://localhost:8080/"
        },
        "id": "zlgECq9qm5Nk",
        "outputId": "c302ea31-fedf-4f46-910c-65db06fe7733"
      },
      "execution_count": null,
      "outputs": [
        {
          "output_type": "execute_result",
          "data": {
            "text/plain": [
              "4.3286"
            ]
          },
          "metadata": {},
          "execution_count": 77
        }
      ]
    },
    {
      "cell_type": "markdown",
      "source": [
        "- 임의의 함수 $g()$로 변환된 확률변수의 기댓값\n",
        "\n",
        "$$\n",
        "\\mathbb{E}[g(X)] = \\sum_{i} g(x_i) f_{X}(x_i)\n",
        "$$\n",
        "\n",
        "- 로 정의하고 이 경우 앞서 구한 확률변수 $X$의 기댓값은 $g(X)=X$인 항등 함수인 경우"
      ],
      "metadata": {
        "id": "46e_r8Chn-eB"
      }
    },
    {
      "cell_type": "code",
      "source": [
        "# 1차원 확률변수의 기댓값\n",
        "# X = [x_set, f_X]\n",
        "\n",
        "def E(X, g=lambda x: x):\n",
        "    x_set, f_X = X\n",
        "    return np.sum([g(xi)*f_X(xi) for xi in x_set])"
      ],
      "metadata": {
        "id": "UwC7cd91nxNS"
      },
      "execution_count": null,
      "outputs": []
    },
    {
      "cell_type": "code",
      "source": [
        "# Z = 2X + 1로 정의된 확률변수의 기댓값\n",
        "E(X), E(X, lambda x: 2*x+1), 2*E(X)+1"
      ],
      "metadata": {
        "colab": {
          "base_uri": "https://localhost:8080/"
        },
        "id": "MolGVdO8oqCI",
        "outputId": "c2ed353d-f078-478f-a38a-cedb60f9a9a5"
      },
      "execution_count": null,
      "outputs": [
        {
          "output_type": "execute_result",
          "data": {
            "text/plain": [
              "(4.333333333333333, 9.666666666666666, 9.666666666666666)"
            ]
          },
          "metadata": {},
          "execution_count": 79
        }
      ]
    },
    {
      "cell_type": "markdown",
      "source": [
        "## 분산\n",
        "\n",
        "$$\n",
        "Var[X] = \\sum_i (x_i - \\mathbb{E}[X])^2 f_X(x_i)\n",
        "$$\n",
        "\n",
        "- 임의의 함수 $g()$로 변환된 확률변수의 분산\n",
        "\n",
        "$$\n",
        "Var[g(X)] = \\sum_i (g(x_i)-\\mathbb{E}[g(X)])^2 f_{X}(x_i)\n",
        "$$\n",
        "\n"
      ],
      "metadata": {
        "id": "iPYeLGDenar9"
      }
    },
    {
      "cell_type": "code",
      "source": [
        "m = E(X)\n",
        "np.sum([(xi-m)**2 * f_X(xi) for xi in x_set])"
      ],
      "metadata": {
        "colab": {
          "base_uri": "https://localhost:8080/"
        },
        "id": "Q0HmjjUGnnIC",
        "outputId": "1ae66bf8-f3bc-441a-e1f5-1f022b3f3f20"
      },
      "execution_count": null,
      "outputs": [
        {
          "output_type": "execute_result",
          "data": {
            "text/plain": [
              "2.2222222222222223"
            ]
          },
          "metadata": {},
          "execution_count": 80
        }
      ]
    },
    {
      "cell_type": "code",
      "source": [
        "# 1차원 확률변수의 분산\n",
        "def Var(X, g=lambda x: x):\n",
        "    x_set, f_X = X\n",
        "    m = E(X, g)\n",
        "    return np.sum([(g(xi)-m)**2 * f_X(xi) for xi in x_set])"
      ],
      "metadata": {
        "id": "7rliU-zRo7rT"
      },
      "execution_count": null,
      "outputs": []
    },
    {
      "cell_type": "code",
      "source": [
        "Var(X), Var(X, lambda x: 2*x+3), 2**2 * Var(X)"
      ],
      "metadata": {
        "colab": {
          "base_uri": "https://localhost:8080/"
        },
        "id": "SnukVyq8pK8R",
        "outputId": "6dfc6baa-9d9d-42c5-c634-a473e812bdd0"
      },
      "execution_count": null,
      "outputs": [
        {
          "output_type": "execute_result",
          "data": {
            "text/plain": [
              "(2.2222222222222223, 8.88888888888889, 8.88888888888889)"
            ]
          },
          "metadata": {},
          "execution_count": 82
        }
      ]
    },
    {
      "cell_type": "markdown",
      "source": [
        "# 2차원 이산 확률변수"
      ],
      "metadata": {
        "id": "rPm4t1j3kyBL"
      }
    },
    {
      "cell_type": "markdown",
      "source": [
        "## 결합확률분포\n",
        "\n",
        "![image.png](data:image/png;base64,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)"
      ],
      "metadata": {
        "id": "gIvBSYfk_HVA"
      }
    },
    {
      "cell_type": "code",
      "source": [
        "x_set = np.arange(5, 8)\n",
        "y_set = np.arange(8, 10)"
      ],
      "metadata": {
        "id": "kwRWahmmlE0T"
      },
      "execution_count": null,
      "outputs": []
    },
    {
      "cell_type": "code",
      "source": [
        "# joint\n",
        "def f_XY(x, y):\n",
        "    mass = {\n",
        "        (5,8): 0.0, (6,8): 0.4, (7,8):0.1,\n",
        "        (5,9): 0.3, (6,9): 0.0, (7,9):0.2\n",
        "    }\n",
        "    if 5<=x<=7 and 8<=y<=9:\n",
        "        return mass[(x,y)]\n",
        "    else:\n",
        "        return 0"
      ],
      "metadata": {
        "id": "lrUMWuhcElqC"
      },
      "execution_count": null,
      "outputs": []
    },
    {
      "cell_type": "code",
      "source": [
        "# 결합확률변수 XY 또는 확률벡터 XY\n",
        "XY = [x_set, y_set, f_XY]"
      ],
      "metadata": {
        "id": "A8IgMTamElnJ"
      },
      "execution_count": null,
      "outputs": []
    },
    {
      "cell_type": "code",
      "source": [
        "# 확률의 성질 확인\n",
        "prob = np.array([f_XY(x_i, y_j) for x_i in x_set for y_j in y_set])\n",
        "\n",
        "np.all(prob >= 0), np.sum(prob)"
      ],
      "metadata": {
        "colab": {
          "base_uri": "https://localhost:8080/"
        },
        "id": "hjV0TdJx0l1-",
        "outputId": "55d6c88b-cee7-40a5-add6-7ce2f97d1e8a"
      },
      "execution_count": null,
      "outputs": [
        {
          "output_type": "execute_result",
          "data": {
            "text/plain": [
              "(True, 1.0)"
            ]
          },
          "metadata": {},
          "execution_count": 86
        }
      ]
    },
    {
      "cell_type": "markdown",
      "source": [
        "## 주변확률분포\n",
        "\n",
        "- 확률의 합법칙에 의한 변수 제거, 주변화marginalization\n",
        "\n",
        "$$\n",
        "f_X(x) = \\sum_j f_{XY}(x, y_j)\n",
        "$$\n",
        "\n",
        "- $f_X(x)$: 주변 확률 분포marginal probability distribution"
      ],
      "metadata": {
        "id": "5Oox731NrpoB"
      }
    },
    {
      "cell_type": "code",
      "source": [
        "# marginal\n",
        "def f_X(x):\n",
        "    return np.sum([f_XY(x, y_k) for y_k in y_set])\n",
        "\n",
        "def f_Y(y):\n",
        "    return np.sum([f_XY(x_k, y) for x_k in x_set])"
      ],
      "metadata": {
        "id": "BK_3rZCTElki"
      },
      "execution_count": null,
      "outputs": []
    },
    {
      "cell_type": "code",
      "source": [
        "f_X(5), f_X(6), f_X(7)"
      ],
      "metadata": {
        "colab": {
          "base_uri": "https://localhost:8080/"
        },
        "id": "3F5KAx9KKt1L",
        "outputId": "404ef45e-052d-4274-d6a8-b173edfdb269"
      },
      "execution_count": null,
      "outputs": [
        {
          "output_type": "execute_result",
          "data": {
            "text/plain": [
              "(0.3, 0.4, 0.30000000000000004)"
            ]
          },
          "metadata": {},
          "execution_count": 88
        }
      ]
    },
    {
      "cell_type": "code",
      "source": [
        "f_Y(8), f_Y(9)"
      ],
      "metadata": {
        "colab": {
          "base_uri": "https://localhost:8080/"
        },
        "id": "z3wupieiKtyx",
        "outputId": "c7dcc298-3f33-45bc-8f2f-45ba702efa58"
      },
      "execution_count": null,
      "outputs": [
        {
          "output_type": "execute_result",
          "data": {
            "text/plain": [
              "(0.5, 0.5)"
            ]
          },
          "metadata": {},
          "execution_count": 89
        }
      ]
    },
    {
      "cell_type": "code",
      "source": [
        "# 주변화된 X, Y를 확률변수로 재정의\n",
        "X = [x_set, f_X]\n",
        "Y = [y_set, f_Y]"
      ],
      "metadata": {
        "id": "UEKaIm4cLOD1"
      },
      "execution_count": null,
      "outputs": []
    },
    {
      "cell_type": "markdown",
      "source": [
        "## 예제 2: 불량품 시뮬레이션\n",
        "\n",
        "A공장 60%, B공장 30%, C공장 10% 생산에 불량률은 각 1%, 2%, 3%일 때 차를 샀을 때 불량이 걸릴 확률을 계산하시오.\n",
        "\n",
        "$$\n",
        "P(A) = \\frac{60}{100}, \\quad P(B)=\\frac{30}{100}, \\quad P(C)=\\frac{10}{100}\n",
        "$$\n",
        "\n",
        "$$\n",
        "P(D \\mid A) = \\frac{1}{100}, \\quad P(D \\mid B)=\\frac{2}{100}, \\quad P(D \\mid C)=\\frac{3}{100}\n",
        "$$\n"
      ],
      "metadata": {
        "id": "1owWHWRJesK9"
      }
    },
    {
      "cell_type": "code",
      "source": [
        "factories = ['A', 'B', 'C']\n",
        "N = 1000000\n",
        "\n",
        "# 공장을 무작위로 선택\n",
        "fs = random.choices(factories, weights=(0.6, 0.3, 0.1), k=N)"
      ],
      "metadata": {
        "id": "Qf2NHXxLe2MS"
      },
      "execution_count": null,
      "outputs": []
    },
    {
      "cell_type": "code",
      "source": [
        "defective_rate = {'A':(0.99, 0.01), 'B':(0.98,0.02), 'C':(0.97,0.03)}\n",
        "# 'pass', 'fail'\n",
        "# ('A', 'fail')\n",
        "cars = [( f, random.choices(['pass', 'fail'], defective_rate[f])[0] ) for f in fs]"
      ],
      "metadata": {
        "id": "Q6Rvm3C2e2JJ"
      },
      "execution_count": null,
      "outputs": []
    },
    {
      "cell_type": "code",
      "source": [
        "fail = 0\n",
        "A = 0\n",
        "A_fail = 0\n",
        "\n",
        "B = 0\n",
        "B_fail = 0\n",
        "\n",
        "C = 0\n",
        "C_fail = 0\n",
        "\n",
        "for car in cars:\n",
        "    is_fail = False\n",
        "\n",
        "    if car[1] == 'fail':\n",
        "        fail += 1\n",
        "        is_fail = True\n",
        "\n",
        "    if car[0] == 'A':\n",
        "        A += 1\n",
        "        if is_fail == True:\n",
        "            A_fail += 1\n",
        "\n",
        "    elif car[0] == 'B':\n",
        "        B += 1\n",
        "        if is_fail == True:\n",
        "            B_fail += 1\n",
        "    else:\n",
        "        C += 1\n",
        "        if is_fail == True:\n",
        "            C_fail += 1\n",
        "\n",
        "\n",
        "print(f\"P(A)={A/N:.4f}, P(F|A)={A_fail/A:.4f}, P(B)={B/N:.4f}, P(F|B)={B_fail/B:.4f}, P(C)={C/N:.4f}, P(F|C)={C_fail/C:.4f}, P(F)={fail/N:.4f}\")"
      ],
      "metadata": {
        "colab": {
          "base_uri": "https://localhost:8080/"
        },
        "id": "7KTxgGxae2GS",
        "outputId": "619d62b5-c434-4215-bcb9-8002226b817d"
      },
      "execution_count": null,
      "outputs": [
        {
          "output_type": "stream",
          "name": "stdout",
          "text": [
            "P(A)=0.6000, P(F|A)=0.0101, P(B)=0.3005, P(F|B)=0.0198, P(C)=0.0996, P(F|C)=0.0299, P(F)=0.0150\n"
          ]
        }
      ]
    },
    {
      "cell_type": "markdown",
      "source": [
        "## $X$, $Y$의 기댓값\n",
        "\n",
        "$$\n",
        "\\mathbb{E}[X] = \\sum_i \\sum_j x_i f_{XY}(x_i, y_j)\n",
        "$$"
      ],
      "metadata": {
        "id": "2fQQWz32rtAa"
      }
    },
    {
      "cell_type": "code",
      "source": [
        "# X의 기댓값\n",
        "np.sum([x_i*f_XY(x_i, y_j) for x_i in x_set for y_j in y_set])"
      ],
      "metadata": {
        "colab": {
          "base_uri": "https://localhost:8080/"
        },
        "id": "i8MkxN-fFKHH",
        "outputId": "5031d1c9-d66f-472c-fd93-caf662077db3"
      },
      "execution_count": null,
      "outputs": [
        {
          "output_type": "execute_result",
          "data": {
            "text/plain": [
              "6.000000000000001"
            ]
          },
          "metadata": {},
          "execution_count": 94
        }
      ]
    },
    {
      "cell_type": "markdown",
      "source": [
        "$$\n",
        "\\mathbb{E}[Y] = \\sum_i \\sum_j y_j f_{XY}(x_i, y_j)\n",
        "$$"
      ],
      "metadata": {
        "id": "Q0spuImb5gRs"
      }
    },
    {
      "cell_type": "code",
      "source": [
        "# Y의 기댓값\n",
        "np.sum([y_j*f_XY(x_i, y_j) for x_i in x_set for y_j in y_set])"
      ],
      "metadata": {
        "colab": {
          "base_uri": "https://localhost:8080/"
        },
        "id": "b3UJVlW7FKEX",
        "outputId": "5d39680e-7287-4408-ccd4-b74a3efda8ae"
      },
      "execution_count": null,
      "outputs": [
        {
          "output_type": "execute_result",
          "data": {
            "text/plain": [
              "8.5"
            ]
          },
          "metadata": {},
          "execution_count": 95
        }
      ]
    },
    {
      "cell_type": "markdown",
      "source": [
        "- 일반적으로 다음처럼 정의\n",
        "\n",
        "$$\n",
        "\\mathbb{E}[g(X,Y)]  = \\sum_i \\sum_j g(x_i, y_j) f_{XY}(x_i, y_j)\n",
        "$$\n",
        "\n",
        "- $\\mathbb{E}[X]$는 $g(X, Y)=X$인 경우, $\\mathbb{E}[Y]$는 $g(X,Y)=Y$인 경우"
      ],
      "metadata": {
        "id": "fczcePsY5oH3"
      }
    },
    {
      "cell_type": "code",
      "source": [
        "# 2차원 확률변수의 기댓값\n",
        "# 한번에 한 변수에 대한 기댓값만 구함\n",
        "def E(XY, g):\n",
        "    x_set, y_set, f_XY = XY\n",
        "    return np.sum(\n",
        "        [g(x_i, y_j)*f_XY(x_i, y_j) for x_i in x_set for y_j in y_set]\n",
        "    )"
      ],
      "metadata": {
        "id": "k9Nf_eQ0KtwZ"
      },
      "execution_count": null,
      "outputs": []
    },
    {
      "cell_type": "code",
      "source": [
        "E(XY, lambda x,y: x), E(XY, lambda x,y: y)"
      ],
      "metadata": {
        "colab": {
          "base_uri": "https://localhost:8080/"
        },
        "id": "sTh2GM87KttR",
        "outputId": "ec64a52b-8177-4464-f02d-00fa1e64f93a"
      },
      "execution_count": null,
      "outputs": [
        {
          "output_type": "execute_result",
          "data": {
            "text/plain": [
              "(6.000000000000001, 8.5)"
            ]
          },
          "metadata": {},
          "execution_count": 97
        }
      ]
    },
    {
      "cell_type": "markdown",
      "source": [
        "- 주변 확률분포로 구한 기댓값\n",
        "\n",
        "$$\n",
        "\\mathbb{E}[X] = \\sum_i x_i f_X(x_i)\n",
        "$$\n",
        "\n",
        "$$\n",
        "\\mathbb{E}[Y] = \\sum_j y_j f_X(y_j)\n",
        "$$"
      ],
      "metadata": {
        "id": "xFF_V4xw7G2J"
      }
    },
    {
      "cell_type": "code",
      "source": [
        "np.sum([x_i*f_X(x_i) for x_i in x_set]), np.sum([y_j*f_Y(y_j) for y_j in y_set])"
      ],
      "metadata": {
        "colab": {
          "base_uri": "https://localhost:8080/"
        },
        "id": "JKCW8JEB7Kzm",
        "outputId": "31ce35d1-f314-49a7-9b45-b956bd92b5ce"
      },
      "execution_count": null,
      "outputs": [
        {
          "output_type": "execute_result",
          "data": {
            "text/plain": [
              "(6.000000000000001, 8.5)"
            ]
          },
          "metadata": {},
          "execution_count": 98
        }
      ]
    },
    {
      "cell_type": "markdown",
      "source": [
        "- 조건부 확률 분포로 구한 기댓값(Iterative Expectations, The Low of Total Expectations)\n",
        "\n",
        "$$\n",
        "\\mathbb{E}[X] = \\mathbb{E}_Y[\\mathbb{E}_{X|Y}[X|Y]]\n",
        "$$"
      ],
      "metadata": {
        "id": "zPGAmgpv60U-"
      }
    },
    {
      "cell_type": "code",
      "source": [
        "def f_X_bar_Y(x, *, y):\n",
        "    return f_XY(x, y) / f_Y(y)\n",
        "\n",
        "# y=9라는 조건하에서 x에 대한 확률 분포를 이룸\n",
        "f_X_bar_Y(5, y=9) + f_X_bar_Y(6, y=9) + f_X_bar_Y(7, y=9)"
      ],
      "metadata": {
        "colab": {
          "base_uri": "https://localhost:8080/"
        },
        "id": "Xvr719R56FJ1",
        "outputId": "e2378e94-e440-4e81-b3ad-66376e86ed79"
      },
      "execution_count": null,
      "outputs": [
        {
          "output_type": "execute_result",
          "data": {
            "text/plain": [
              "1.0"
            ]
          },
          "metadata": {},
          "execution_count": 99
        }
      ]
    },
    {
      "cell_type": "code",
      "source": [
        "# E[X] = E_Y[E_X|Y[X|Y]]\n",
        "np.array([\n",
        "    np.sum([\n",
        "        x_i*f_X_bar_Y(x_i, y=y_j)\n",
        "        for x_i in x_set\n",
        "    ])*f_Y(y_j) for y_j in y_set\n",
        "]).sum()"
      ],
      "metadata": {
        "colab": {
          "base_uri": "https://localhost:8080/"
        },
        "id": "3bJKKUeJ6FB1",
        "outputId": "c3950689-98d0-450c-9ed0-5ef7fb704a63"
      },
      "execution_count": null,
      "outputs": [
        {
          "output_type": "execute_result",
          "data": {
            "text/plain": [
              "6.000000000000001"
            ]
          },
          "metadata": {},
          "execution_count": 103
        }
      ]
    },
    {
      "cell_type": "markdown",
      "source": [
        "$$\n",
        "\\mathbb{E}[Y] = \\mathbb{E}_X[\\mathbb{E}_{Y|X}[Y|X]]\n",
        "$$"
      ],
      "metadata": {
        "id": "A7_kLszZ9B6y"
      }
    },
    {
      "cell_type": "code",
      "source": [
        "def f_Y_bar_X(y, *, x):\n",
        "    return f_XY(x, y) / f_X(x)\n",
        "\n",
        "# x=5라는 조건하에서 x에 대한 확률 분포를 이룸\n",
        "f_Y_bar_X(8, x=5) + f_Y_bar_X(9, x=5)"
      ],
      "metadata": {
        "colab": {
          "base_uri": "https://localhost:8080/"
        },
        "id": "rotNUS9t6FEW",
        "outputId": "8e9dc750-68f0-4ea3-8eb9-14669701bf8f"
      },
      "execution_count": null,
      "outputs": [
        {
          "output_type": "execute_result",
          "data": {
            "text/plain": [
              "1.0"
            ]
          },
          "metadata": {},
          "execution_count": 105
        }
      ]
    },
    {
      "cell_type": "code",
      "source": [
        "# E[Y] = E_X[E_Y|X[Y|X]]\n",
        "np.array([\n",
        "    np.sum([\n",
        "        y_j*f_Y_bar_X(y_j, x=x_i)\n",
        "        for y_j in y_set\n",
        "    ])*f_X(x_i) for x_i in x_set\n",
        "]).sum()"
      ],
      "metadata": {
        "colab": {
          "base_uri": "https://localhost:8080/"
        },
        "id": "FjV5a5Yf6E_H",
        "outputId": "1fa28392-8d60-4ff8-b36a-56ebc90bb48d"
      },
      "execution_count": null,
      "outputs": [
        {
          "output_type": "execute_result",
          "data": {
            "text/plain": [
              "8.5"
            ]
          },
          "metadata": {},
          "execution_count": 106
        }
      ]
    },
    {
      "cell_type": "markdown",
      "source": [
        "## $X$, $Y$의 분산과 $XY$의 공분산"
      ],
      "metadata": {
        "id": "a3R93C45rxUE"
      }
    },
    {
      "cell_type": "code",
      "source": [
        "def Var(XY, g):\n",
        "    # g는 g(X, Y)로 스칼라 함수\n",
        "    x_set, y_set, f_XY = XY\n",
        "    m = E(XY, g)\n",
        "\n",
        "    return np.sum(\n",
        "        [(g(x_i,y_j)-m)**2 * f_XY(x_i, y_j)\n",
        "        for x_i in x_set for y_j in y_set]\n",
        "    )"
      ],
      "metadata": {
        "id": "oR5Whs71MiFq"
      },
      "execution_count": null,
      "outputs": []
    },
    {
      "cell_type": "code",
      "source": [
        "Var(XY, lambda x, y: x), Var(XY, lambda x,y: y)"
      ],
      "metadata": {
        "colab": {
          "base_uri": "https://localhost:8080/"
        },
        "id": "sVZa-q4pUDxf",
        "outputId": "b9930088-9b0e-4f06-d254-a0c41999b2e6"
      },
      "execution_count": null,
      "outputs": [
        {
          "output_type": "execute_result",
          "data": {
            "text/plain": [
              "(0.6, 0.25)"
            ]
          },
          "metadata": {},
          "execution_count": 108
        }
      ]
    },
    {
      "cell_type": "code",
      "source": [
        "# E[X]를 이용한 Var[X]의 다른 표현\n",
        "\n",
        "E(XY, lambda x, y: x**2) - E(XY, lambda x, y: x)**2"
      ],
      "metadata": {
        "colab": {
          "base_uri": "https://localhost:8080/"
        },
        "id": "cGN7CT4nFYob",
        "outputId": "6b6a248d-61b0-4823-b8e4-f1b4446e9627"
      },
      "execution_count": null,
      "outputs": [
        {
          "output_type": "execute_result",
          "data": {
            "text/plain": [
              "0.5999999999999801"
            ]
          },
          "metadata": {},
          "execution_count": 110
        }
      ]
    },
    {
      "cell_type": "code",
      "source": [
        "# E[Y]를 이용한 Var[Y]의 다른 표현\n",
        "\n",
        "E(XY, lambda x, y: y**2) - E(XY, lambda x, y: y)**2"
      ],
      "metadata": {
        "colab": {
          "base_uri": "https://localhost:8080/"
        },
        "id": "Kv7mpOEaFYlj",
        "outputId": "f03f36f1-6851-42f7-c179-f83cd4812b46"
      },
      "execution_count": null,
      "outputs": [
        {
          "output_type": "execute_result",
          "data": {
            "text/plain": [
              "0.25"
            ]
          },
          "metadata": {},
          "execution_count": 111
        }
      ]
    },
    {
      "cell_type": "code",
      "source": [
        "def Cov(XY):\n",
        "    x_set, y_set, f_XY = XY\n",
        "    m_X = E(XY, lambda x, y: x)\n",
        "    m_Y = E(XY, lambda x, y: y)\n",
        "\n",
        "    return np.sum(\n",
        "        [(x_i-m_X)*(y_j-m_Y)*f_XY(x_i, y_j)\n",
        "        for x_i in x_set for y_j in y_set]\n",
        "    )"
      ],
      "metadata": {
        "id": "radXaoE1UbXB"
      },
      "execution_count": null,
      "outputs": []
    },
    {
      "cell_type": "code",
      "source": [
        "Cov(XY)"
      ],
      "metadata": {
        "colab": {
          "base_uri": "https://localhost:8080/"
        },
        "id": "vtPZQZJyUvaX",
        "outputId": "17ee4ae9-e71f-48e2-f4b5-09fecfc5777c"
      },
      "execution_count": null,
      "outputs": [
        {
          "output_type": "execute_result",
          "data": {
            "text/plain": [
              "-0.1"
            ]
          },
          "metadata": {},
          "execution_count": 113
        }
      ]
    },
    {
      "cell_type": "code",
      "source": [
        "# Cov(XY) 다른 표현\n",
        "\n",
        "E(XY, lambda x, y: x*y) - E(XY, lambda x, y: x)*E(XY, lambda x, y: y)"
      ],
      "metadata": {
        "colab": {
          "base_uri": "https://localhost:8080/"
        },
        "id": "3rByg49rFYir",
        "outputId": "0e5aa472-0d97-48d6-f2ec-80e4d5fc6206"
      },
      "execution_count": null,
      "outputs": [
        {
          "output_type": "execute_result",
          "data": {
            "text/plain": [
              "-0.10000000000000142"
            ]
          },
          "metadata": {},
          "execution_count": 114
        }
      ]
    },
    {
      "cell_type": "markdown",
      "source": [
        "## 기댓값, 분산 시뮬레이션"
      ],
      "metadata": {
        "id": "KPuOKtJcrkau"
      }
    },
    {
      "cell_type": "code",
      "source": [
        "# 시뮬레이션 할려면 2차원 변수의 샘플링이 되야 되므로\n",
        "# \"x,y\" 형태의 샘플을 만들고\n",
        "xy_set = [f\"{x},{y}\" for x in x_set for y in y_set]\n",
        "print('xy_set:', xy_set)\n",
        "\n",
        "# 샘플을 쪼개서 숫자로 만드는 함수를 만들어\n",
        "# 어레이에 적용할 수 있게 변환한 다음\n",
        "to_sample = lambda x: map(int, x.split(','))\n",
        "vfunc = np.vectorize(to_sample)\n",
        "\n",
        "# 샘플링하고\n",
        "samples = np.random.choice(\n",
        "    xy_set, size=10000,\n",
        "    p=(0.0, 0.3, 0.4, 0.0, 0.1, 0.2)\n",
        ")\n",
        "\n",
        "# (N,2)의 어레이로 만든 다음\n",
        "foo = np.array(list(map(list, vfunc(samples))))\n",
        "print(foo)\n",
        "\n",
        "# 분산, 공분산을 구해봄\n",
        "np.cov(foo.T)"
      ],
      "metadata": {
        "colab": {
          "base_uri": "https://localhost:8080/"
        },
        "id": "QE8SKrRgU0QN",
        "outputId": "3fcc7808-e392-4a2d-917a-e94a0c152fb0"
      },
      "execution_count": null,
      "outputs": [
        {
          "output_type": "stream",
          "name": "stdout",
          "text": [
            "xy_set: ['5,8', '5,9', '6,8', '6,9', '7,8', '7,9']\n",
            "[[5 9]\n",
            " [7 9]\n",
            " [6 8]\n",
            " ...\n",
            " [6 8]\n",
            " [6 8]\n",
            " [5 9]]\n"
          ]
        },
        {
          "output_type": "execute_result",
          "data": {
            "text/plain": [
              "array([[ 0.60105995, -0.10380918],\n",
              "       [-0.10380918,  0.250016  ]])"
            ]
          },
          "metadata": {},
          "execution_count": 115
        }
      ]
    },
    {
      "cell_type": "code",
      "source": [],
      "metadata": {
        "id": "A7YUiNyM7X7q"
      },
      "execution_count": null,
      "outputs": []
    }
  ]
}