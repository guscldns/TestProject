{
  "nbformat": 4,
  "nbformat_minor": 0,
  "metadata": {
    "colab": {
      "provenance": [],
      "toc_visible": true,
      "include_colab_link": true
    },
    "kernelspec": {
      "name": "python3",
      "display_name": "Python 3"
    },
    "language_info": {
      "name": "python"
    }
  },
  "cells": [
    {
      "cell_type": "markdown",
      "metadata": {
        "id": "view-in-github",
        "colab_type": "text"
      },
      "source": [
        "<a href=\"https://colab.research.google.com/github/guscldns/TestProject/blob/main/%EA%B8%B0%EC%B4%88%ED%86%B5%EA%B3%84/inreg_backward_.ipynb\" target=\"_parent\"><img src=\"https://colab.research.google.com/assets/colab-badge.svg\" alt=\"Open In Colab\"/></a>"
      ]
    },
    {
      "cell_type": "markdown",
      "source": [
        "# 선형회귀 만들기 목적함수 구현\n",
        "\n"
      ],
      "metadata": {
        "id": "l1KssXm5WsAu"
      }
    },
    {
      "cell_type": "code",
      "source": [
        "import matplotlib.pyplot as plt"
      ],
      "metadata": {
        "id": "9Gm05zmgJFb1"
      },
      "execution_count": null,
      "outputs": []
    },
    {
      "cell_type": "code",
      "source": [
        "X = [31.3, 31.5, 32.0, 32.5, 32.8, 33.2]\n",
        "y = [0.8, 2.0, 1.5, 3.0, 2.5, 3.5]\n",
        "\n",
        "plt.plot(X, y, 'o')\n",
        "plt.xlabel('Temp.')\n",
        "plt.ylabel('Sales of an icecream')\n",
        "plt.show()\n",
        "\n",
        "D = {'data':X, 'target':y}"
      ],
      "metadata": {
        "colab": {
          "base_uri": "https://localhost:8080/",
          "height": 449
        },
        "id": "Tj5-gbn-yr4g",
        "outputId": "c2e79ecb-ded0-4de6-8d8c-cb17d6306adb"
      },
      "execution_count": null,
      "outputs": [
        {
          "output_type": "display_data",
          "data": {
            "text/plain": [
              "<Figure size 640x480 with 1 Axes>"
            ],
            "image/png": "[encoded data removed]"
          },
          "metadata": {}
        }
      ]
    },
    {
      "cell_type": "markdown",
      "source": [
        "- 온도와 아이스크림 판매량 간의 관계를 직선으로 표시하고 싶습니다.\n",
        "\n",
        "- 모델은 $ y = w_1 x + w_0 $ 될 것이며 여기서 $x$는 온도 $y$는 아이스크림 판매량입니다.\n",
        "\n",
        "-  `Loss`클래스를 정의 합니다. 손실함수를 일반적인 `def func()`형태로 정의 하지 않고 클래스 형태로 정의하는 이유는 이 함수의 값을 구하기 위해서는 `X`와 `y`가 필요하기 때문입니다. 즉, 데이터가 필요합니다.\n",
        "\n",
        "- 이 데이터를 클래스의 내부 자료로 가지고 있으면 좀 더 명확하게 손실 함수 코드를 작성할 수 있습니다.\n",
        "\n",
        "- 손실함수 값은 다음처럼 계산됩니다.\n",
        "\n",
        "$$\n",
        "L(\\mathbf{w}) = \\frac{1}{2} \\sum_{i=1}^{N} \\left( \\hat{y}_i(x_i;\\mathbf{w}) - y_i \\right)^2\n",
        "$$\n",
        "\n",
        "- 위 식에서 $\\hat{y}_i$는 다음처럼 모델의 출력입니다.\n",
        "\n",
        "$$\n",
        "\\hat{y}_i = w_1 x_i + w_0\n",
        "$$\n",
        "\n",
        "- 위 식으로 부터 이제는 최적화 시켜야할 변수(parameter)가 두 개라는 것을 알 수 있습니다.\n"
      ],
      "metadata": {
        "id": "un54QnzUbP7j"
      }
    },
    {
      "cell_type": "markdown",
      "source": [
        "\n",
        "- 이제 위 손실함수의 함수값을 계산하는 `forward()`와 미분 계수를 계산하는 `backward()` 함수를 가지는 클래스를 작성합니다.\n",
        "\n",
        "- 위 예시를 잘 확인하고 다음 순서로 코드를 작성하세요.\n",
        "    - numpy 모듈을 임포트 합니다.\n",
        "    - 동일한 데이터 `X`, `y`를 넘파이 어레이로 정의 합니다.\n",
        "    - `Loss` 클래스의 `forward()`, `backward()`를 완성합니다.\n",
        "    \n"
      ],
      "metadata": {
        "id": "AGvZiV3eY7hk"
      }
    },
    {
      "cell_type": "code",
      "source": [
        "# numpy 모듈 임포트\n",
        "import numpy as np"
      ],
      "metadata": {
        "id": "6GtngX1TZmhk"
      },
      "execution_count": null,
      "outputs": []
    },
    {
      "cell_type": "code",
      "source": [
        "# numpy array로 데이터 재정의\n",
        "X = np.array([31.3, 31.5, 32.0, 32.5, 32.8, 33.2])\n",
        "y = np.array([0.8, 2.0, 1.5, 3.0, 2.5, 3.5])\n",
        "\n",
        "plt.plot(X, y, 'o')\n",
        "plt.show()"
      ],
      "metadata": {
        "id": "-_AV55DH0cOI",
        "colab": {
          "base_uri": "https://localhost:8080/",
          "height": 430
        },
        "outputId": "26bbee59-d7c1-477d-ac9a-78dba653afa2"
      },
      "execution_count": null,
      "outputs": [
        {
          "output_type": "display_data",
          "data": {
            "text/plain": [
              "<Figure size 640x480 with 1 Axes>"
            ],
            "image/png": "[encoded data removed]"
          },
          "metadata": {}
        }
      ]
    },
    {
      "cell_type": "code",
      "source": [
        "# 임의의 매개변수 w에 대해서 모든 x에 대한 y값 구해보기\n",
        "w = np.random.randn(2)\n",
        "print(w)\n",
        "for x in X:\n",
        "    print(w[0] * x + w[1]*1)"
      ],
      "metadata": {
        "colab": {
          "base_uri": "https://localhost:8080/"
        },
        "id": "19pzbWWYj4Eo",
        "outputId": "4e80eb69-09d0-4997-f7f1-21efdf1df099"
      },
      "execution_count": null,
      "outputs": [
        {
          "output_type": "stream",
          "name": "stdout",
          "text": [
            "[-1.58800901  0.43358547]\n",
            "-49.27109652430933\n",
            "-49.58869832622087\n",
            "-50.38270283099972\n",
            "-51.176707335778566\n",
            "-51.65311003864588\n",
            "-52.288313642468964\n"
          ]
        }
      ]
    },
    {
      "cell_type": "code",
      "source": [
        "# 위 루프 버전을 np.dot()로 만들기 위해 X를 2차원 데이터로 변환\n",
        "X_ = np.concatenate([X.reshape(-1,1), np.ones_like(X.reshape(-1,1))], axis=1)\n",
        "X_"
      ],
      "metadata": {
        "colab": {
          "base_uri": "https://localhost:8080/"
        },
        "id": "JH90x3PNjvaX",
        "outputId": "05a2690c-f326-43d0-bdc4-66c815acd960"
      },
      "execution_count": null,
      "outputs": [
        {
          "output_type": "execute_result",
          "data": {
            "text/plain": [
              "array([[31.3,  1. ],\n",
              "       [31.5,  1. ],\n",
              "       [32. ,  1. ],\n",
              "       [32.5,  1. ],\n",
              "       [32.8,  1. ],\n",
              "       [33.2,  1. ]])"
            ]
          },
          "metadata": {},
          "execution_count": 6
        }
      ]
    },
    {
      "cell_type": "markdown",
      "source": [
        "- 이제 $\\hat{y}_i$(예측값)를 다음처럼 표현 가능합니다.\n",
        "\n",
        "$$\n",
        "\\hat{y}_i = \\mathbf{w} \\cdot \\mathbf{x}_i\n",
        "$$"
      ],
      "metadata": {
        "id": "PblJA7MtLNCV"
      }
    },
    {
      "cell_type": "code",
      "source": [
        "# np.dot()로 y값 계산\n",
        "np.dot(X_, w)"
      ],
      "metadata": {
        "colab": {
          "base_uri": "https://localhost:8080/"
        },
        "id": "fTAtjRN7jxhf",
        "outputId": "ca2334df-4f35-44b5-fe46-134e5ac36235"
      },
      "execution_count": null,
      "outputs": [
        {
          "output_type": "execute_result",
          "data": {
            "text/plain": [
              "array([-49.27109652, -49.58869833, -50.38270283, -51.17670734,\n",
              "       -51.65311004, -52.28831364])"
            ]
          },
          "metadata": {},
          "execution_count": 7
        }
      ]
    },
    {
      "cell_type": "markdown",
      "source": [
        "- 손실함수를 적당히 미분한 도함수는 다음처럼 주어 집니다.\n",
        "\n",
        "$$\n",
        "\\frac{\\partial }{\\partial \\mathbf{w}} L(\\mathbf{w}) = \\sum_{i=1}^N \\left(  \\mathbf{w} \\cdot \\mathbf{x}_i - y_i \\right) \\mathbf{x}^\\intercal_i\n",
        "$$"
      ],
      "metadata": {
        "id": "i9PmhVLGKQS9"
      }
    },
    {
      "cell_type": "code",
      "source": [
        "class Loss:\n",
        "    def __init__(self, X, y):\n",
        "        self.X = X\n",
        "        self.y = y\n",
        "        self.N = len(self.X) # X 길이 = 데이터 개수\n",
        "\n",
        "        # 우리가 구해야 하는 파라미터 w, 최초는 무작위로 설정\n",
        "        self.w = np.random.randn(X.shape[1])\n",
        "\n",
        "        # 코스트 초기화\n",
        "        self.cost = 0.0\n",
        "\n",
        "        # 미분 계수 초기화\n",
        "        self.dw = 0.0\n",
        "\n",
        "    def forward(self, w, X, y):\n",
        "        self.cost = 0.5 * np.sum( (np.dot(X, w) - y)**2 )\n",
        "\n",
        "        return self.cost\n",
        "\n",
        "\n",
        "    def backward(self, w, X, y):\n",
        "        # sum_i { (w^T * x_i) - y_i} x_i^T\n",
        "        # w: (D,)\n",
        "        # X: (N,D)\n",
        "\n",
        "        ####################################################\n",
        "        # for loop\n",
        "        grad = np.zeros(X.shape[1])\n",
        "\n",
        "        for i in range(self.N):\n",
        "            grad += (np.dot(X[i], w) - y[i]) * X[i]\n",
        "\n",
        "        self.dw = grad\n",
        "        ####################################################\n",
        "\n",
        "        ####################################################\n",
        "        # numpy(for 루프 값과 동일)\n",
        "        # (N,)       (D,N)       (N,)\n",
        "        # self.dw = np.dot(X.T, np.dot(X,w) - y)\n",
        "        ####################################################\n",
        "\n",
        "        return self.dw\n"
      ],
      "metadata": {
        "id": "9aOj7pzHZYa9"
      },
      "execution_count": null,
      "outputs": []
    },
    {
      "cell_type": "code",
      "source": [
        "loss = Loss(X_, y)"
      ],
      "metadata": {
        "id": "X3ny7ykOgrAw"
      },
      "execution_count": null,
      "outputs": []
    },
    {
      "cell_type": "markdown",
      "source": [
        "- 임의의 $\\mathbf{w}$에 대해서 `forward()`, `backward()` 계산 실험합니다.\n"
      ],
      "metadata": {
        "id": "XqUq9iPIfCUv"
      }
    },
    {
      "cell_type": "code",
      "source": [
        "# 여기에 코드를 작성하세요.\n",
        "w = np.random.randn(2)\n",
        "\n",
        "print(\"w\")\n",
        "print(w)\n",
        "\n",
        "print(\"\\nJ(w)\")\n",
        "print(loss.forward(w, X_, y))\n",
        "\n",
        "print(\"\\n∇J(w)\")\n",
        "print(loss.backward(w, X_, y))"
      ],
      "metadata": {
        "colab": {
          "base_uri": "https://localhost:8080/"
        },
        "id": "u02YsBIOZeqN",
        "outputId": "1ddf07c5-c61b-43f8-8780-4d046dd7a87e"
      },
      "execution_count": null,
      "outputs": [
        {
          "output_type": "stream",
          "name": "stdout",
          "text": [
            "w\n",
            "[-1.56863737 -0.16402425]\n",
            "\n",
            "J(w)\n",
            "8411.609230562986\n",
            "\n",
            "∇J(w)\n",
            "[-10236.48024103   -317.50174932]\n"
          ]
        }
      ]
    },
    {
      "cell_type": "markdown",
      "source": [
        "- 위 계산된 `forward()`, `backward()`가 바르게 계산되었는지 확인하기 위해 \"sanity check\"를 합니다.\n",
        "\n",
        "- 수치 미분 함수를 사용해서 구한 미분계수와 `backward()`의 결과가 거의 비슷해야 합니다."
      ],
      "metadata": {
        "id": "vv-ulNTcMAU7"
      }
    },
    {
      "cell_type": "code",
      "source": [
        "def numer_deriv(x, fun, args=(), h=None, method=\"central\", dtype='float32'):\n",
        "    \"\"\"\n",
        "    Find the first derivative of a function at a point x.\n",
        "\n",
        "    x     : The point at which derivative is found.\n",
        "    fun   : Input function.\n",
        "    args  : Tuple extra arguments passed to fun.\n",
        "    h     : Step size\n",
        "    method: 'central' or 'forward'\n",
        "    dtype : Data type of gradient, must be set to 'longdouble'\n",
        "            if numerically unstable.\n",
        "    \"\"\"\n",
        "\n",
        "    # [1] 필요변수 초기화\n",
        "    scalar = False\n",
        "    m = 1\n",
        "\n",
        "    # [2] x가 스칼라인지 벡터인지 확인 스칼라면 무조건 벡터로 고치고 시작\n",
        "    if not hasattr(type(x), '__iter__'):\n",
        "        x = np.array([x])\n",
        "        scalar = True\n",
        "\n",
        "    # [3] x 타입을 디폴트로 float32로 변경\n",
        "    x = x.astype(dtype)\n",
        "\n",
        "    # [4] 미분 계수 초기화\n",
        "    g = np.zeros(x.shape[0]).astype(dtype)\n",
        "\n",
        "    # [5] 미분계수를 변수 개수만큼 루프를 돌면서 구하기\n",
        "    for i in range(x.shape[0]) :\n",
        "        # [5-1]변경된 위치를 설정할 변수 두개를 준비\n",
        "        # dx1[i], dx2[i]로 각 변수의 요소를 접근할 수 있음\n",
        "        dx1 = x.copy()\n",
        "        dx2 = x.copy()\n",
        "\n",
        "        # [5-2] h 결정 대충 변수의 1%정도\n",
        "        # https://en.wikipedia.org/wiki/Numerical_differentiation\n",
        "        if h == None:\n",
        "            h = np.sqrt(np.finfo(np.float32).eps) if x[i] == 0.0 else np.sqrt(np.finfo(np.float32).eps) * x[i]\n",
        "\n",
        "        ##########################################\n",
        "        # WRITE YOUR CODE HERE\n",
        "        # [5-3*] dx1[i] 변경\n",
        "        dx1[i] += h\n",
        "\n",
        "        # [5-4*] central이면 dx[2]도 함께 변경, 이 때 m = 2로 설정해서\n",
        "        # [5-5]에서 g[i]를 계산할 때 2h로 나누게 해야함.\n",
        "        if method == \"central\":\n",
        "            dx2[i] -= h\n",
        "            m = 2\n",
        "\n",
        "        # [5-5*] 미분계수 계산\n",
        "        # fun이 스칼라 함수여도 요소 한개짜리 ndarray로 전달되면 문제없이\n",
        "        # 호출되므로 여기거 fun은 fun(dx1, *args) 식으로 호출되면 됨\n",
        "        g[i] = (fun(dx1, *args) - fun(dx2, *args)) / (m*h)\n",
        "        ##########################################\n",
        "\n",
        "    # [6] 결과값 리턴\n",
        "    if scalar:\n",
        "        return g[0]\n",
        "    else:\n",
        "        return g"
      ],
      "metadata": {
        "id": "-2xxhmU3nEFa"
      },
      "execution_count": null,
      "outputs": []
    },
    {
      "cell_type": "code",
      "source": [
        "print(\"w\")\n",
        "print(w)\n",
        "\n",
        "print(\"\\nL(w)\")\n",
        "print(loss.forward(w, X_, y))\n",
        "\n",
        "print(\"\\nnumerical ∇L(w)\")\n",
        "print(numer_deriv(w, loss.forward, args=(X_, y)))\n",
        "\n",
        "print(\"\\n∇L(w)\")\n",
        "print(loss.backward(w, X_, y))"
      ],
      "metadata": {
        "colab": {
          "base_uri": "https://localhost:8080/"
        },
        "id": "9f8DbbkriZcc",
        "outputId": "f9fe1f71-74b2-4817-d3e8-aba397560ed1"
      },
      "execution_count": null,
      "outputs": [
        {
          "output_type": "stream",
          "name": "stdout",
          "text": [
            "w\n",
            "[-1.56863737 -0.16402425]\n",
            "\n",
            "L(w)\n",
            "8411.609230562986\n",
            "\n",
            "numerical ∇L(w)\n",
            "[-10235.896    -317.5011]\n",
            "\n",
            "∇L(w)\n",
            "[-10236.48024103   -317.50174932]\n"
          ]
        }
      ]
    },
    {
      "cell_type": "code",
      "source": [],
      "metadata": {
        "id": "Jzi-KgBEi6xn"
      },
      "execution_count": null,
      "outputs": []
    }
  ]
}