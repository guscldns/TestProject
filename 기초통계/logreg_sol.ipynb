{
  "cells": [
    {
      "cell_type": "markdown",
      "metadata": {
        "id": "view-in-github",
        "colab_type": "text"
      },
      "source": [
        "<a href=\"https://colab.research.google.com/github/guscldns/TestProject/blob/main/%EA%B8%B0%EC%B4%88%ED%86%B5%EA%B3%84/logreg_sol.ipynb\" target=\"_parent\"><img src=\"https://colab.research.google.com/assets/colab-badge.svg\" alt=\"Open In Colab\"/></a>"
      ]
    },
    {
      "cell_type": "markdown",
      "metadata": {
        "id": "_fsQOxKQWkxm"
      },
      "source": [
        "# 미분과 최적화를 사용한 프로그래밍 프로젝트: 로지스틱 회귀 스팸 메일 필터"
      ]
    },
    {
      "cell_type": "markdown",
      "source": [
        "## 모듈 로딩"
      ],
      "metadata": {
        "id": "YtrbGpZjMQV1"
      }
    },
    {
      "cell_type": "code",
      "execution_count": null,
      "metadata": {
        "id": "ADbr1DQSWkxo"
      },
      "outputs": [],
      "source": [
        "import numpy as np\n",
        "import pandas as pd\n",
        "import matplotlib.pyplot as plt\n",
        "\n",
        "# 작성된 모델을 평가 하기 위한 추가 라이브러리 로딩\n",
        "from sklearn.linear_model import SGDClassifier\n",
        "from sklearn.feature_extraction.text import CountVectorizer\n",
        "from sklearn.metrics import classification_report, confusion_matrix"
      ]
    },
    {
      "cell_type": "markdown",
      "source": [
        "## 데이터 준비"
      ],
      "metadata": {
        "id": "p6V-nuU5MMXH"
      }
    },
    {
      "cell_type": "code",
      "source": [
        "# 데이터 파일 가져오기\n",
        "!gdown 16FxXGZDQK_8C5nW9o5H5lUAVRBG2YwKa"
      ],
      "metadata": {
        "colab": {
          "base_uri": "https://localhost:8080/"
        },
        "id": "kqIyWwZDWlgT",
        "outputId": "4750a494-840e-46ca-82d9-af1c12c864ef"
      },
      "execution_count": null,
      "outputs": [
        {
          "output_type": "stream",
          "name": "stdout",
          "text": [
            "Downloading...\n",
            "From: https://drive.google.com/uc?id=16FxXGZDQK_8C5nW9o5H5lUAVRBG2YwKa\n",
            "To: /content/spam.csv\n",
            "\r  0% 0.00/154k [00:00<?, ?B/s]\r100% 154k/154k [00:00<00:00, 3.27MB/s]\n"
          ]
        }
      ]
    },
    {
      "cell_type": "code",
      "execution_count": null,
      "metadata": {
        "colab": {
          "base_uri": "https://localhost:8080/"
        },
        "id": "iEotUnqcWkxp",
        "outputId": "78dc351c-218a-4507-fd93-c4b8aa982fa3"
      },
      "outputs": [
        {
          "output_type": "stream",
          "name": "stdout",
          "text": [
            "<class 'pandas.core.frame.DataFrame'>\n",
            "RangeIndex: 3423 entries, 0 to 3422\n",
            "Data columns (total 2 columns):\n",
            " #   Column   Non-Null Count  Dtype \n",
            "---  ------   --------------  ----- \n",
            " 0   subject  3423 non-null   object\n",
            " 1   spam     3423 non-null   bool  \n",
            "dtypes: bool(1), object(1)\n",
            "memory usage: 30.2+ KB\n"
          ]
        }
      ],
      "source": [
        "# pandas 라이브러리를 이용해 DataFrame 형식으로 데이터 읽어오기\n",
        "data = pd.read_csv('spam.csv')\n",
        "data.info()"
      ]
    },
    {
      "cell_type": "code",
      "execution_count": null,
      "metadata": {
        "id": "79B_CxxsWkxp"
      },
      "outputs": [],
      "source": [
        "# 3000개 학습 세트로 423개 테스트 세트로 나누기\n",
        "data_train = data[:3000]\n",
        "data_test = data[3000:]"
      ]
    },
    {
      "cell_type": "markdown",
      "source": [
        "- 데이터 샘플은 다음처럼 제목과 스팸인지 아닌지를 구별하는 타겟으로 구성되어 있음\n",
        "\n",
        "\n",
        "\n"
      ],
      "metadata": {
        "id": "nY5iW_vOMbh_"
      }
    },
    {
      "cell_type": "code",
      "source": [
        "data_train.loc[0:0]"
      ],
      "metadata": {
        "colab": {
          "base_uri": "https://localhost:8080/",
          "height": 80
        },
        "id": "8MLmfqgXND70",
        "outputId": "7424db37-79f4-425f-d8f6-d8c41f76ed16"
      },
      "execution_count": null,
      "outputs": [
        {
          "output_type": "execute_result",
          "data": {
            "text/plain": [
              "                           subject  spam\n",
              "0  [ILUG] Garden Ornaments | mvcmv  True"
            ],
            "text/html": [
              "\n",
              "  <div id=\"df-78b3159f-dec7-4c14-b4da-7c3d19e62d02\" class=\"colab-df-container\">\n",
              "    <div>\n",
              "<style scoped>\n",
              "    .dataframe tbody tr th:only-of-type {\n",
              "        vertical-align: middle;\n",
              "    }\n",
              "\n",
              "    .dataframe tbody tr th {\n",
              "        vertical-align: top;\n",
              "    }\n",
              "\n",
              "    .dataframe thead th {\n",
              "        text-align: right;\n",
              "    }\n",
              "</style>\n",
              "<table border=\"1\" class=\"dataframe\">\n",
              "  <thead>\n",
              "    <tr style=\"text-align: right;\">\n",
              "      <th></th>\n",
              "      <th>subject</th>\n",
              "      <th>spam</th>\n",
              "    </tr>\n",
              "  </thead>\n",
              "  <tbody>\n",
              "    <tr>\n",
              "      <th>0</th>\n",
              "      <td>[ILUG] Garden Ornaments | mvcmv</td>\n",
              "      <td>True</td>\n",
              "    </tr>\n",
              "  </tbody>\n",
              "</table>\n",
              "</div>\n",
              "    <div class=\"colab-df-buttons\">\n",
              "\n",
              "  <div class=\"colab-df-container\">\n",
              "    <button class=\"colab-df-convert\" onclick=\"convertToInteractive('df-78b3159f-dec7-4c14-b4da-7c3d19e62d02')\"\n",
              "            title=\"Convert this dataframe to an interactive table.\"\n",
              "            style=\"display:none;\">\n",
              "\n",
              "  <svg xmlns=\"http://www.w3.org/2000/svg\" height=\"24px\" viewBox=\"0 -960 960 960\">\n",
              "    <path d=\"M120-120v-720h720v720H120Zm60-500h600v-160H180v160Zm220 220h160v-160H400v160Zm0 220h160v-160H400v160ZM180-400h160v-160H180v160Zm440 0h160v-160H620v160ZM180-180h160v-160H180v160Zm440 0h160v-160H620v160Z\"/>\n",
              "  </svg>\n",
              "    </button>\n",
              "\n",
              "  <style>\n",
              "    .colab-df-container {\n",
              "      display:flex;\n",
              "      gap: 12px;\n",
              "    }\n",
              "\n",
              "    .colab-df-convert {\n",
              "      background-color: #E8F0FE;\n",
              "      border: none;\n",
              "      border-radius: 50%;\n",
              "      cursor: pointer;\n",
              "      display: none;\n",
              "      fill: #1967D2;\n",
              "      height: 32px;\n",
              "      padding: 0 0 0 0;\n",
              "      width: 32px;\n",
              "    }\n",
              "\n",
              "    .colab-df-convert:hover {\n",
              "      background-color: #E2EBFA;\n",
              "      box-shadow: 0px 1px 2px rgba(60, 64, 67, 0.3), 0px 1px 3px 1px rgba(60, 64, 67, 0.15);\n",
              "      fill: #174EA6;\n",
              "    }\n",
              "\n",
              "    .colab-df-buttons div {\n",
              "      margin-bottom: 4px;\n",
              "    }\n",
              "\n",
              "    [theme=dark] .colab-df-convert {\n",
              "      background-color: #3B4455;\n",
              "      fill: #D2E3FC;\n",
              "    }\n",
              "\n",
              "    [theme=dark] .colab-df-convert:hover {\n",
              "      background-color: #434B5C;\n",
              "      box-shadow: 0px 1px 3px 1px rgba(0, 0, 0, 0.15);\n",
              "      filter: drop-shadow(0px 1px 2px rgba(0, 0, 0, 0.3));\n",
              "      fill: #FFFFFF;\n",
              "    }\n",
              "  </style>\n",
              "\n",
              "    <script>\n",
              "      const buttonEl =\n",
              "        document.querySelector('#df-78b3159f-dec7-4c14-b4da-7c3d19e62d02 button.colab-df-convert');\n",
              "      buttonEl.style.display =\n",
              "        google.colab.kernel.accessAllowed ? 'block' : 'none';\n",
              "\n",
              "      async function convertToInteractive(key) {\n",
              "        const element = document.querySelector('#df-78b3159f-dec7-4c14-b4da-7c3d19e62d02');\n",
              "        const dataTable =\n",
              "          await google.colab.kernel.invokeFunction('convertToInteractive',\n",
              "                                                    [key], {});\n",
              "        if (!dataTable) return;\n",
              "\n",
              "        const docLinkHtml = 'Like what you see? Visit the ' +\n",
              "          '<a target=\"_blank\" href=https://colab.research.google.com/notebooks/data_table.ipynb>data table notebook</a>'\n",
              "          + ' to learn more about interactive tables.';\n",
              "        element.innerHTML = '';\n",
              "        dataTable['output_type'] = 'display_data';\n",
              "        await google.colab.output.renderOutput(dataTable, element);\n",
              "        const docLink = document.createElement('div');\n",
              "        docLink.innerHTML = docLinkHtml;\n",
              "        element.appendChild(docLink);\n",
              "      }\n",
              "    </script>\n",
              "  </div>\n",
              "\n",
              "    </div>\n",
              "  </div>\n"
            ]
          },
          "metadata": {},
          "execution_count": 5
        }
      ]
    },
    {
      "cell_type": "markdown",
      "source": [
        "### Bow\n",
        "\n",
        "- 로지스틱 회귀 모델에 제목을 입력하고 모델의 출력으로 스팸(True)인지 아닌지(False)를 출력하게 하려면 메일의 제목은 문자가 아니라 숫자로 변경되어야 함\n",
        "\n",
        "- 문자를 숫자로 변경하는 다양한 방식이 있지만 여기서는 가장 간단한 방식은 BoW(Bag of Words) 방식을 사용\n",
        "\n",
        "- BoW는 학습 샘플에 등장하는 모든 단어를 사용해 단어장을 만들고 샘플에 단어가 해당 단어장에 몇번째 등장하는 단어인지를 조회해 문장을 숫자로 바꾸는 방식\n",
        "\n",
        "- 다음은 간단한 예를 보여주고 있음\n",
        "```\n",
        "V = ['love', 'I', 'me', 'you', 'hate']\n",
        "subject = \"I love you\"\n",
        "subject_int = [1, 0, 3]\n",
        "```\n",
        "\n",
        "- 위 처럼 바꾼후 단어장 길이의 0으로 채워진 벡터를 만들고 `subject_int`에 나타난 인덱스 자리만 1로 바꿔 마무리\n",
        "```\n",
        "subject_enc = [1, 1, 0, 1, 0]\n",
        "```\n",
        "\n",
        "- 이런 방식으로 모든 문장을 단어장 길이를 크기로 가지는 0, 1로 이뤄진 벡터로 변환 할 수 있음\n",
        "\n",
        "- 이 방식의 장점은 구현이 간단하며 숫자로 변환된 문장이 무조건 동일한 길이의 벡터가 된다는 점이며\n",
        "\n",
        "- 단점은 단어의 순서가 사라져 문장 구조에 대한 정보를 잃게 됨"
      ],
      "metadata": {
        "id": "c1Pa4jUnNMXN"
      }
    },
    {
      "cell_type": "markdown",
      "source": [
        "- 사이킷런 라이브러리는 위와 같은 작업을 구현해 놓은 `CounterVectorizer()`를 제공함"
      ],
      "metadata": {
        "id": "xhwUkp6APEDW"
      }
    },
    {
      "cell_type": "code",
      "execution_count": null,
      "metadata": {
        "colab": {
          "base_uri": "https://localhost:8080/",
          "height": 74
        },
        "id": "UIJ5IQaSWkxq",
        "outputId": "9ea9640e-bf0c-48b2-a40e-d77aecc6ee3f"
      },
      "outputs": [
        {
          "output_type": "execute_result",
          "data": {
            "text/plain": [
              "CountVectorizer()"
            ],
            "text/html": [
              "<style>#sk-container-id-1 {color: black;background-color: white;}#sk-container-id-1 pre{padding: 0;}#sk-container-id-1 div.sk-toggleable {background-color: white;}#sk-container-id-1 label.sk-toggleable__label {cursor: pointer;display: block;width: 100%;margin-bottom: 0;padding: 0.3em;box-sizing: border-box;text-align: center;}#sk-container-id-1 label.sk-toggleable__label-arrow:before {content: \"▸\";float: left;margin-right: 0.25em;color: #696969;}#sk-container-id-1 label.sk-toggleable__label-arrow:hover:before {color: black;}#sk-container-id-1 div.sk-estimator:hover label.sk-toggleable__label-arrow:before {color: black;}#sk-container-id-1 div.sk-toggleable__content {max-height: 0;max-width: 0;overflow: hidden;text-align: left;background-color: #f0f8ff;}#sk-container-id-1 div.sk-toggleable__content pre {margin: 0.2em;color: black;border-radius: 0.25em;background-color: #f0f8ff;}#sk-container-id-1 input.sk-toggleable__control:checked~div.sk-toggleable__content {max-height: 200px;max-width: 100%;overflow: auto;}#sk-container-id-1 input.sk-toggleable__control:checked~label.sk-toggleable__label-arrow:before {content: \"▾\";}#sk-container-id-1 div.sk-estimator input.sk-toggleable__control:checked~label.sk-toggleable__label {background-color: #d4ebff;}#sk-container-id-1 div.sk-label input.sk-toggleable__control:checked~label.sk-toggleable__label {background-color: #d4ebff;}#sk-container-id-1 input.sk-hidden--visually {border: 0;clip: rect(1px 1px 1px 1px);clip: rect(1px, 1px, 1px, 1px);height: 1px;margin: -1px;overflow: hidden;padding: 0;position: absolute;width: 1px;}#sk-container-id-1 div.sk-estimator {font-family: monospace;background-color: #f0f8ff;border: 1px dotted black;border-radius: 0.25em;box-sizing: border-box;margin-bottom: 0.5em;}#sk-container-id-1 div.sk-estimator:hover {background-color: #d4ebff;}#sk-container-id-1 div.sk-parallel-item::after {content: \"\";width: 100%;border-bottom: 1px solid gray;flex-grow: 1;}#sk-container-id-1 div.sk-label:hover label.sk-toggleable__label {background-color: #d4ebff;}#sk-container-id-1 div.sk-serial::before {content: \"\";position: absolute;border-left: 1px solid gray;box-sizing: border-box;top: 0;bottom: 0;left: 50%;z-index: 0;}#sk-container-id-1 div.sk-serial {display: flex;flex-direction: column;align-items: center;background-color: white;padding-right: 0.2em;padding-left: 0.2em;position: relative;}#sk-container-id-1 div.sk-item {position: relative;z-index: 1;}#sk-container-id-1 div.sk-parallel {display: flex;align-items: stretch;justify-content: center;background-color: white;position: relative;}#sk-container-id-1 div.sk-item::before, #sk-container-id-1 div.sk-parallel-item::before {content: \"\";position: absolute;border-left: 1px solid gray;box-sizing: border-box;top: 0;bottom: 0;left: 50%;z-index: -1;}#sk-container-id-1 div.sk-parallel-item {display: flex;flex-direction: column;z-index: 1;position: relative;background-color: white;}#sk-container-id-1 div.sk-parallel-item:first-child::after {align-self: flex-end;width: 50%;}#sk-container-id-1 div.sk-parallel-item:last-child::after {align-self: flex-start;width: 50%;}#sk-container-id-1 div.sk-parallel-item:only-child::after {width: 0;}#sk-container-id-1 div.sk-dashed-wrapped {border: 1px dashed gray;margin: 0 0.4em 0.5em 0.4em;box-sizing: border-box;padding-bottom: 0.4em;background-color: white;}#sk-container-id-1 div.sk-label label {font-family: monospace;font-weight: bold;display: inline-block;line-height: 1.2em;}#sk-container-id-1 div.sk-label-container {text-align: center;}#sk-container-id-1 div.sk-container {/* jupyter's `normalize.less` sets `[hidden] { display: none; }` but bootstrap.min.css set `[hidden] { display: none !important; }` so we also need the `!important` here to be able to override the default hidden behavior on the sphinx rendered scikit-learn.org. See: https://github.com/scikit-learn/scikit-learn/issues/21755 */display: inline-block !important;position: relative;}#sk-container-id-1 div.sk-text-repr-fallback {display: none;}</style><div id=\"sk-container-id-1\" class=\"sk-top-container\"><div class=\"sk-text-repr-fallback\"><pre>CountVectorizer()</pre><b>In a Jupyter environment, please rerun this cell to show the HTML representation or trust the notebook. <br />On GitHub, the HTML representation is unable to render, please try loading this page with nbviewer.org.</b></div><div class=\"sk-container\" hidden><div class=\"sk-item\"><div class=\"sk-estimator sk-toggleable\"><input class=\"sk-toggleable__control sk-hidden--visually\" id=\"sk-estimator-id-1\" type=\"checkbox\" checked><label for=\"sk-estimator-id-1\" class=\"sk-toggleable__label sk-toggleable__label-arrow\">CountVectorizer</label><div class=\"sk-toggleable__content\"><pre>CountVectorizer()</pre></div></div></div></div></div>"
            ]
          },
          "metadata": {},
          "execution_count": 6
        }
      ],
      "source": [
        "cv = CountVectorizer()\n",
        "cv.fit(data_train['subject'])"
      ]
    },
    {
      "cell_type": "code",
      "execution_count": null,
      "metadata": {
        "colab": {
          "base_uri": "https://localhost:8080/"
        },
        "id": "fPK6ZcQKWkxq",
        "outputId": "9a219c94-7f99-4fc4-b3e5-1b9a209636b3"
      },
      "outputs": [
        {
          "output_type": "execute_result",
          "data": {
            "text/plain": [
              "4153"
            ]
          },
          "metadata": {},
          "execution_count": 7
        }
      ],
      "source": [
        "# 내부적으로 구축된 단어장 길이를 조회\n",
        "len(cv.vocabulary_)"
      ]
    },
    {
      "cell_type": "code",
      "execution_count": null,
      "metadata": {
        "id": "OTakEtsBWkxq"
      },
      "outputs": [],
      "source": [
        "# 구축된 cv로 학습 샘플과 테스트 샘플을 숫자로 변환\n",
        "X_train = cv.transform(data_train['subject']).toarray()\n",
        "y_train = data_train['spam'].astype(float).to_numpy()\n",
        "\n",
        "X_test = cv.transform(data_test['subject']).toarray()\n",
        "y_test = data_test['spam'].astype(float).to_numpy()"
      ]
    },
    {
      "cell_type": "code",
      "source": [
        "X_train.shape"
      ],
      "metadata": {
        "colab": {
          "base_uri": "https://localhost:8080/"
        },
        "id": "4F3obJnfUaJ5",
        "outputId": "dca22c1e-0ac7-4b49-a59a-21c894c9e765"
      },
      "execution_count": null,
      "outputs": [
        {
          "output_type": "execute_result",
          "data": {
            "text/plain": [
              "(3000, 4153)"
            ]
          },
          "metadata": {},
          "execution_count": 10
        }
      ]
    },
    {
      "cell_type": "markdown",
      "source": [
        "## 모델 만들기"
      ],
      "metadata": {
        "id": "w-y5OCIgSZ1P"
      }
    },
    {
      "cell_type": "markdown",
      "source": [
        "### 라이브러리 제공 모델 학습"
      ],
      "metadata": {
        "id": "w4s71dTOSeu9"
      }
    },
    {
      "cell_type": "markdown",
      "source": [
        "- 먼저 수업에서 배운 가장 간단한 최적화 방식인 러닝레이트를 고정한 최속강하법으로 모델을 학습시킴\n",
        "\n",
        "- 이를 위해 사이킷런에서 제공하는 `SGDClassifier`를 사용\n"
      ],
      "metadata": {
        "id": "99j7Hi4XPnpP"
      }
    },
    {
      "cell_type": "code",
      "execution_count": null,
      "metadata": {
        "colab": {
          "base_uri": "https://localhost:8080/",
          "height": 91
        },
        "id": "x4lIOzGMWkxr",
        "outputId": "967f7b51-9bb9-4859-bd25-eba94754a7fe"
      },
      "outputs": [
        {
          "output_type": "execute_result",
          "data": {
            "text/plain": [
              "SGDClassifier(eta0=0.01, fit_intercept=False, l1_ratio=0.0,\n",
              "              learning_rate='constant', loss='log_loss', max_iter=150)"
            ],
            "text/html": [
              "<style>#sk-container-id-2 {color: black;background-color: white;}#sk-container-id-2 pre{padding: 0;}#sk-container-id-2 div.sk-toggleable {background-color: white;}#sk-container-id-2 label.sk-toggleable__label {cursor: pointer;display: block;width: 100%;margin-bottom: 0;padding: 0.3em;box-sizing: border-box;text-align: center;}#sk-container-id-2 label.sk-toggleable__label-arrow:before {content: \"▸\";float: left;margin-right: 0.25em;color: #696969;}#sk-container-id-2 label.sk-toggleable__label-arrow:hover:before {color: black;}#sk-container-id-2 div.sk-estimator:hover label.sk-toggleable__label-arrow:before {color: black;}#sk-container-id-2 div.sk-toggleable__content {max-height: 0;max-width: 0;overflow: hidden;text-align: left;background-color: #f0f8ff;}#sk-container-id-2 div.sk-toggleable__content pre {margin: 0.2em;color: black;border-radius: 0.25em;background-color: #f0f8ff;}#sk-container-id-2 input.sk-toggleable__control:checked~div.sk-toggleable__content {max-height: 200px;max-width: 100%;overflow: auto;}#sk-container-id-2 input.sk-toggleable__control:checked~label.sk-toggleable__label-arrow:before {content: \"▾\";}#sk-container-id-2 div.sk-estimator input.sk-toggleable__control:checked~label.sk-toggleable__label {background-color: #d4ebff;}#sk-container-id-2 div.sk-label input.sk-toggleable__control:checked~label.sk-toggleable__label {background-color: #d4ebff;}#sk-container-id-2 input.sk-hidden--visually {border: 0;clip: rect(1px 1px 1px 1px);clip: rect(1px, 1px, 1px, 1px);height: 1px;margin: -1px;overflow: hidden;padding: 0;position: absolute;width: 1px;}#sk-container-id-2 div.sk-estimator {font-family: monospace;background-color: #f0f8ff;border: 1px dotted black;border-radius: 0.25em;box-sizing: border-box;margin-bottom: 0.5em;}#sk-container-id-2 div.sk-estimator:hover {background-color: #d4ebff;}#sk-container-id-2 div.sk-parallel-item::after {content: \"\";width: 100%;border-bottom: 1px solid gray;flex-grow: 1;}#sk-container-id-2 div.sk-label:hover label.sk-toggleable__label {background-color: #d4ebff;}#sk-container-id-2 div.sk-serial::before {content: \"\";position: absolute;border-left: 1px solid gray;box-sizing: border-box;top: 0;bottom: 0;left: 50%;z-index: 0;}#sk-container-id-2 div.sk-serial {display: flex;flex-direction: column;align-items: center;background-color: white;padding-right: 0.2em;padding-left: 0.2em;position: relative;}#sk-container-id-2 div.sk-item {position: relative;z-index: 1;}#sk-container-id-2 div.sk-parallel {display: flex;align-items: stretch;justify-content: center;background-color: white;position: relative;}#sk-container-id-2 div.sk-item::before, #sk-container-id-2 div.sk-parallel-item::before {content: \"\";position: absolute;border-left: 1px solid gray;box-sizing: border-box;top: 0;bottom: 0;left: 50%;z-index: -1;}#sk-container-id-2 div.sk-parallel-item {display: flex;flex-direction: column;z-index: 1;position: relative;background-color: white;}#sk-container-id-2 div.sk-parallel-item:first-child::after {align-self: flex-end;width: 50%;}#sk-container-id-2 div.sk-parallel-item:last-child::after {align-self: flex-start;width: 50%;}#sk-container-id-2 div.sk-parallel-item:only-child::after {width: 0;}#sk-container-id-2 div.sk-dashed-wrapped {border: 1px dashed gray;margin: 0 0.4em 0.5em 0.4em;box-sizing: border-box;padding-bottom: 0.4em;background-color: white;}#sk-container-id-2 div.sk-label label {font-family: monospace;font-weight: bold;display: inline-block;line-height: 1.2em;}#sk-container-id-2 div.sk-label-container {text-align: center;}#sk-container-id-2 div.sk-container {/* jupyter's `normalize.less` sets `[hidden] { display: none; }` but bootstrap.min.css set `[hidden] { display: none !important; }` so we also need the `!important` here to be able to override the default hidden behavior on the sphinx rendered scikit-learn.org. See: https://github.com/scikit-learn/scikit-learn/issues/21755 */display: inline-block !important;position: relative;}#sk-container-id-2 div.sk-text-repr-fallback {display: none;}</style><div id=\"sk-container-id-2\" class=\"sk-top-container\"><div class=\"sk-text-repr-fallback\"><pre>SGDClassifier(eta0=0.01, fit_intercept=False, l1_ratio=0.0,\n",
              "              learning_rate=&#x27;constant&#x27;, loss=&#x27;log_loss&#x27;, max_iter=150)</pre><b>In a Jupyter environment, please rerun this cell to show the HTML representation or trust the notebook. <br />On GitHub, the HTML representation is unable to render, please try loading this page with nbviewer.org.</b></div><div class=\"sk-container\" hidden><div class=\"sk-item\"><div class=\"sk-estimator sk-toggleable\"><input class=\"sk-toggleable__control sk-hidden--visually\" id=\"sk-estimator-id-2\" type=\"checkbox\" checked><label for=\"sk-estimator-id-2\" class=\"sk-toggleable__label sk-toggleable__label-arrow\">SGDClassifier</label><div class=\"sk-toggleable__content\"><pre>SGDClassifier(eta0=0.01, fit_intercept=False, l1_ratio=0.0,\n",
              "              learning_rate=&#x27;constant&#x27;, loss=&#x27;log_loss&#x27;, max_iter=150)</pre></div></div></div></div></div>"
            ]
          },
          "metadata": {},
          "execution_count": 9
        }
      ],
      "source": [
        "logreg = SGDClassifier(loss='log_loss', penalty='l2',\n",
        "                       alpha=0.0001, l1_ratio=0.0,\n",
        "                       fit_intercept=False, max_iter=150,\n",
        "                       learning_rate='constant', eta0=0.01)\n",
        "logreg.fit(X_train, y_train)"
      ]
    },
    {
      "cell_type": "markdown",
      "metadata": {
        "id": "-QzwjUdVWkxr"
      },
      "source": [
        "### 직접 만들어 학습"
      ]
    },
    {
      "cell_type": "markdown",
      "source": [
        "\n",
        "#### 손실함수 포워드 패스\n",
        "\n",
        "$$\n",
        "L(\\mathbf{w}) = - \\sum_{i=1}^N y_i \\log \\left(\\sigma(\\mathbf{w} \\cdot  \\mathbf{x}_i) \\right) + (1-y_i) \\log \\left(1 - \\sigma(\\mathbf{w} \\cdot \\mathbf{x}_i) \\right) \\tag{1}\n",
        "$$\n",
        "\n",
        "- 위 식에서\n",
        "\n",
        "- $N$은 샘플의 개수\n",
        "\n",
        "- $y_i$는 $i$번째 샘플의 타겟인 0 아니면 1인 숫자\n",
        "\n",
        "- $\\mathbf{x}_i$는 $(D,)$인 벡터이고 현재 문제에서 $D=4153$\n",
        "\n",
        "- $\\mathbf{w}$는 입력 $\\mathbf{x}_i$의 각 숫자에 곱해질 $(D,)$인 가중치 벡터\n",
        "\n",
        "- 따라서 $\\mathbf{w} \\cdot \\mathbf{x}_i$는 두 벡터의 내적을 나타냄\n",
        "\n",
        "- $\\sigma(x)=\\frac{1}{1+\\exp(-x)}$ 인 로지스틱 시그모이드 함수\n",
        "\n",
        "\n",
        "- 위 손실 함수의 함수값을 계산하는 코드를 `Loss.forward(self, w, X, y)`에 코딩한다.\n",
        "\n",
        "- `self.cost` 변수에 함수값 저장\n",
        "\n",
        "- 넘파이를 활용해도 좋고 `for`문으로 직관적으로 구현해도 좋음"
      ],
      "metadata": {
        "id": "CDiuyDnjVjZH"
      }
    },
    {
      "cell_type": "markdown",
      "source": [
        "\n",
        "#### 손실함수 포워드 패스 규제\n",
        "\n",
        "- `self.cost`에 위 식(1)이 계산되었다면 규제항을 추가\n",
        "\n",
        "- 규제 항은 아래 식으로 추가됨\n",
        "\n",
        "$$\n",
        "L_{\\text{reg}}(\\mathbf{w}) = L(\\mathbf{w}) + \\frac{\\lambda}{2} \\lVert \\mathbf{w} \\rVert^2 \\tag{2}\n",
        "$$\n",
        "\n",
        "- 위 식에서\n",
        "\n",
        "- $\\lambda$는 규제 효과를 조정하는 주어지는 상수\n",
        "\n",
        "- $\\lVert \\mathbf{w} \\rVert^2 = w_1^2 + w_2^2 + \\cdots + w_D^2$\n",
        "\n",
        "- `Loss.forward()`함수는 최종적으로 위 식 $L_{\\text{reg}}$ 값을 반환"
      ],
      "metadata": {
        "id": "5UZHfDHIVojH"
      }
    },
    {
      "cell_type": "markdown",
      "source": [
        "\n",
        "#### 손실함수 백워드 패스\n",
        "\n",
        "- 약간의 미분 과정을 거치면 규제 없는 손실함수 $L(\\mathbf{w})$에 대한 $\\mathbf{w}$의 미분은 다음처럼 주어짐\n",
        "\n",
        "$$\n",
        "\\frac{\\partial }{\\partial \\mathbf{w}} L(\\mathbf{w}) = \\sum_{i=1}^N \\left\\{-y_i + \\sigma(\\mathbf{w} \\cdot \\mathbf{x}_i) \\right\\} \\mathbf{x}^\\intercal_i \\tag{3}\n",
        "$$\n",
        "\n",
        "- 위 식은 $\\mathbf{w}$에 대한 그래디언트는 $\\mathbf{x}_i$를 더해서 만들어지는데 이 때 각 $\\mathbf{x}_i$에 대한 덧셈 가중치를 $\\mathbf{x}_i$에 대한 모델의 출력이 만들어내는 에러 $\\left\\{-y_i + \\sigma(\\mathbf{w} \\cdot \\mathbf{x}_i) \\right\\}$만큼 설정한다는 의미\n",
        "\n",
        "- 위 손실 함수의 그래디언트를 계산하는 코드를 `Loss.backward(self, w, X, y)`에 코딩한다.\n",
        "\n",
        "- `self.dw`에 그래디언트 값 저장\n",
        "\n",
        "- 넘파이를 활용해도 좋고 `for`문으로 직관적으로 구현해도 좋음"
      ],
      "metadata": {
        "id": "YsvMNW7kVuKe"
      }
    },
    {
      "cell_type": "markdown",
      "source": [
        "\n",
        "#### 손실함수 백워드 패스 규제\n",
        "\n",
        "- `self.dw`에 위 식(2)가 계산되었다면 규제항의 미분값을 추가\n",
        "\n",
        "- 규제 항의 미분은 다음과 같음\n",
        "\n",
        "$$\n",
        "\\frac{\\partial}{\\partial \\mathbf{w}} \\left(\\frac{\\lambda}{2}  \\lVert  \\mathbf{w} \\rVert^2 \\right) = \\lambda \\mathbf{w} \\tag{4}\n",
        "$$\n",
        "\n",
        "- 따라서 최종 그래디언트는 다음과 같음\n",
        "\n",
        "$$\n",
        "\\frac{\\partial}{\\partial \\mathbf{w}} L_{\\text{reg}}(\\mathbf{w}) = \\frac{\\partial}{\\partial \\mathbf{w}} L(\\mathbf{w}) + \\lambda \\mathbf{w} \\tag{5}\n",
        "$$\n",
        "\n",
        "- `Loss.backward()`함수는 최종적으로 위 식 값을 반환"
      ],
      "metadata": {
        "id": "NWyFBoBYVuCl"
      }
    },
    {
      "cell_type": "code",
      "execution_count": null,
      "metadata": {
        "id": "M02Qx4GbWkxs"
      },
      "outputs": [],
      "source": [
        "def logistic(x):\n",
        "    return 1.0 / (1 + np.exp(-x))\n",
        "\n",
        "\n",
        "class Loss :\n",
        "    def __init__(self, X, y, lamda):\n",
        "        self.X = X # ( 데이터 개수 N, 데이터 차원 D )\n",
        "        self.N = X.shape[0]\n",
        "        self.y = y # ( 데이터 개수 N, )\n",
        "        self.lamda = lamda\n",
        "\n",
        "        # 우리가 구해야 하는 파라미터 w, 최초는 무작위로 설정\n",
        "        self.w = np.random.randn(X.shape[1])\n",
        "\n",
        "        # 코스트 초기화\n",
        "        self.cost = 0.0\n",
        "\n",
        "        # 미분 계수 초기화\n",
        "        self.dw = 0.0\n",
        "\n",
        "    def forward(self, w, X, y):\n",
        "        \"\"\"\n",
        "        아래 식에 맞춰 로스 함수를 코딩\n",
        "        - sum_i( y_i*log(sigma(w*x_i)) + (1-y_i)*log(1-sigma(w*x_i)) )\n",
        "        \"\"\"\n",
        "\n",
        "        # self.cost에 손실함수 값을 계산해서 대입\n",
        "        # (N,)                   (N,D), (D,)\n",
        "        sigma = logistic( np.dot(  X,    w  ) )\n",
        "        self.cost = - np.sum( y * np.log(sigma) + (1-y)*np.log(1-sigma) )\n",
        "\n",
        "        # regularization\n",
        "        # reg 변수에 규제 항 값을 대입하고\n",
        "        # self.cost에 reg를 추가해서 반환\n",
        "        reg = (self.lamda/2)*np.sum(w**2)\n",
        "        self.cost += reg\n",
        "\n",
        "        return self.cost\n",
        "\n",
        "    def backward(self, w, X, y):\n",
        "        # self.dw에 규제 없는 손실함수의 미분 값을 대입\n",
        "        # sum_i { -y_i + sigma(w^T * x_i) } x_i^T\n",
        "        # self.dw = np.dot( X.T, -y + logistic(np.dot(X, w)) )\n",
        "\n",
        "        self.dw = np.zeros(X.shape[1])\n",
        "        for i in range(self.N):\n",
        "            self.dw += (logistic(np.dot(X[i], w)) - y[i]) * X[i]\n",
        "\n",
        "        # regularization\n",
        "        # reg 변수에 규제 항 미분 값을 대입하고\n",
        "        # self.dw에 reg를 추가해서 반환\n",
        "        reg = self.lamda * w\n",
        "        self.dw += reg\n",
        "\n",
        "        return self.dw\n",
        "\n",
        "    def train(self, lr=0.01, epoch=100, verbose=False, verbose_step=100) :\n",
        "        # lr: 러닝 레이트\n",
        "        # epoch: 에폭수\n",
        "        # verbose: 학습 과정 중간 출력 여부 지정\n",
        "        # verbose_step: 학습 과정 출력 간격\n",
        "\n",
        "        ep_mean_costs = []\n",
        "\n",
        "        # 전체 에폭만큼 루프를 돌면서\n",
        "        for i in range(epoch):\n",
        "            costs = []\n",
        "\n",
        "            # [1] self.w에 대해서 포워드 함수값을 계산해서 self.cost를 계산\n",
        "            self.forward(self.w, self.X, self.y)\n",
        "\n",
        "            # [2] self.w에 대한 미분계수 self.dw를 계산\n",
        "            self.backward(self.w, self.X, self.y)\n",
        "\n",
        "            # [3] self.dw를 이용하여 self.w를 업데이트(스탭 이동)\n",
        "            #     학습률은 lr을 사용\n",
        "            self.w = self.w - lr * self.dw\n",
        "\n",
        "            # 줄어드는 코스트를 저장해서 반환하기 위해 계산된 코스트를 저장\n",
        "            costs.append(self.cost)\n",
        "\n",
        "            mean_costs = np.mean(costs)\n",
        "\n",
        "            # 중간 과정을 출력해야 한다면 여기서 간단히 출력\n",
        "            if verbose and ((i+1) % verbose_step == 0):\n",
        "                print( f\"Epoch {i+1:3d}: Cost={mean_costs:.5f}, lr={lr:.5f}\" )\n",
        "\n",
        "            # 한 에폭에 발생한 로스를 평균하여 에폭당 로스로 저장\n",
        "            ep_mean_costs.append(mean_costs)\n",
        "\n",
        "        return ep_mean_costs\n",
        "\n",
        "###############################################################################"
      ]
    },
    {
      "cell_type": "markdown",
      "source": [
        "#### Sanity check\n",
        "\n",
        "- 학습에 있어서 정확한 그래디언트가 제일 중요히기 때문에 작성된 `backward()`함수가 정확히 그래디언트를 계산하는지 반드시 체크해야 함\n",
        "\n",
        "- 체크 방법은 수치 미분 함수와 `backward()`가 게산하는 그래디언트가 유사한지 확인하는 것"
      ],
      "metadata": {
        "id": "TcOhPqrgOoQ5"
      }
    },
    {
      "cell_type": "code",
      "source": [
        "def numer_deriv(x, fun, args=(), h=None, method=\"central\", dtype='float32'):\n",
        "    \"\"\"\n",
        "    Find the first derivative of a function at a point x.\n",
        "\n",
        "    x     : The point at which derivative is found.\n",
        "    fun   : Input function.\n",
        "    args  : Tuple extra arguments passed to fun.\n",
        "    h     : Step size\n",
        "    method: 'central' or 'forward'\n",
        "    dtype : Data type of gradient, must be set to 'longdouble'\n",
        "            if numerically unstable.\n",
        "    \"\"\"\n",
        "\n",
        "    # [1] 필요변수 초기화\n",
        "    scalar = False\n",
        "    m = 1\n",
        "\n",
        "    # [2] x가 스칼라인지 벡터인지 확인 스칼라면 무조건 벡터로 고치고 시작\n",
        "    if not hasattr(type(x), '__iter__'):\n",
        "        x = np.array([x])\n",
        "        scalar = True\n",
        "\n",
        "    # [3] x 타입을 디폴트로 float32로 변경\n",
        "    x = x.astype(dtype)\n",
        "\n",
        "    # [4] 미분 계수 초기화\n",
        "    g = np.zeros(x.shape[0]).astype(dtype)\n",
        "\n",
        "    # [5] 미분계수를 변수 개수만큼 루프를 돌면서 구하기\n",
        "    for i in range(x.shape[0]) :\n",
        "        # [5-1]변경된 위치를 설정할 변수 두개를 준비\n",
        "        # dx1[i], dx2[i]로 각 변수의 요소를 접근할 수 있음\n",
        "        dx1 = x.copy()\n",
        "        dx2 = x.copy()\n",
        "\n",
        "        # [5-2] h 결정 대충 변수의 1%정도\n",
        "        # https://en.wikipedia.org/wiki/Numerical_differentiation\n",
        "        if h == None:\n",
        "            h = np.sqrt(np.finfo(np.float32).eps) if x[i] == 0.0 else np.sqrt(np.finfo(np.float32).eps) * x[i]\n",
        "\n",
        "        ##########################################\n",
        "        # WRITE YOUR CODE HERE\n",
        "        # [5-3*] dx1[i] 변경\n",
        "        dx1[i] += h\n",
        "\n",
        "        # [5-4*] central이면 dx[2]도 함께 변경, 이 때 m = 2로 설정해서\n",
        "        # [5-5]에서 g[i]를 계산할 때 2h로 나누게 해야함.\n",
        "        if method == \"central\":\n",
        "            dx2[i] -= h\n",
        "            m = 2\n",
        "\n",
        "        # [5-5*] 미분계수 계산\n",
        "        # fun이 스칼라 함수여도 요소 한개짜리 ndarray로 전달되면 문제없이\n",
        "        # 호출되므로 여기거 fun은 fun(dx1, *args) 식으로 호출되면 됨\n",
        "        g[i] = (fun(dx1, *args) - fun(dx2, *args)) / (m*h)\n",
        "        ##########################################\n",
        "\n",
        "    # [6] 결과값 리턴\n",
        "    if scalar:\n",
        "        return g[0]\n",
        "    else:\n",
        "        return g"
      ],
      "metadata": {
        "id": "u4ah1DbwOCAg"
      },
      "execution_count": null,
      "outputs": []
    },
    {
      "cell_type": "markdown",
      "source": [
        "- 위 수치 미분 함수를 사용해서 $D=10$인 가상의 데이터 두개에 대해서 유효성 검사를 수행\n",
        "\n",
        "- 아래 셀을 실행했을 때 `numerical ∇J(w)`의 결과와 `∇J(w)` 결과가 거의 유사하게 나와야 함(두 결과는 숫자 열개로 구성된 벡터)"
      ],
      "metadata": {
        "id": "Tb_-4birfRaF"
      }
    },
    {
      "cell_type": "code",
      "source": [
        "# 가상의 개, 고양이 데이터 X와 정답 레이블 y를 정의\n",
        "X_train_sanity = np.array(\n",
        "    [[0,1,0,0,1,1,1,0,0,0],   # 개     1\n",
        "     [1,0,0,1,1,1,1,0,1,0]])  # 고양이 0\n",
        "y_train_sanity = np.array([1, 0])\n",
        "\n",
        "# 데이터 차원\n",
        "D = 10\n",
        "\n",
        "loss_sanity = Loss(X_train_sanity, y_train_sanity, lamda=0.001)\n",
        "\n",
        "w = np.random.rand(D)\n",
        "print(\"w\")\n",
        "print(w)\n",
        "\n",
        "# forward(self, w, X, y)\n",
        "print(\"\\nL(w)\")\n",
        "print(loss_sanity.forward(w, X_train_sanity, y_train_sanity))\n",
        "\n",
        "print(\"\\nnumerical ∇L(w)\")\n",
        "print(numer_deriv(w, loss_sanity.forward,\n",
        "                  args=(X_train_sanity, y_train_sanity)))\n",
        "\n",
        "print(\"\\n∇L(w)\")\n",
        "print(loss_sanity.backward(w, X_train_sanity, y_train_sanity))\n"
      ],
      "metadata": {
        "colab": {
          "base_uri": "https://localhost:8080/"
        },
        "id": "1Dl-NiGcOR7i",
        "outputId": "4fccd7f3-f2f8-4dfa-a260-fecfe358b00c"
      },
      "execution_count": null,
      "outputs": [
        {
          "output_type": "stream",
          "name": "stdout",
          "text": [
            "w\n",
            "[0.80270183 0.65224675 0.92962012 0.26111291 0.98268921 0.8213555\n",
            " 0.36506248 0.68074464 0.32267618 0.75975879]\n",
            "\n",
            "L(w)\n",
            "3.644043248826353\n",
            "\n",
            "numerical ∇L(w)\n",
            "[ 9.7308481e-01 -5.5532090e-02  9.2951319e-04  9.7243911e-01\n",
            "  9.1708082e-01  9.1691911e-01  9.1636425e-01  6.8089744e-04\n",
            "  9.7250062e-01  7.5961143e-04]\n",
            "\n",
            "∇L(w)\n",
            "[ 9.73031676e-01 -5.55288515e-02  9.29620123e-04  9.72490087e-01\n",
            "  9.17030565e-01  9.16869232e-01  9.16412939e-01  6.80744640e-04\n",
            "  9.72551650e-01  7.59758786e-04]\n"
          ]
        }
      ]
    },
    {
      "cell_type": "markdown",
      "source": [
        "- Sanity check가 통과 되었으면 아래 셀을 수행하여 학습 진행"
      ],
      "metadata": {
        "id": "bp8CgAyKfxCP"
      }
    },
    {
      "cell_type": "markdown",
      "source": [
        "#### 학습"
      ],
      "metadata": {
        "id": "QdNcz5AfsTy0"
      }
    },
    {
      "cell_type": "code",
      "execution_count": null,
      "metadata": {
        "id": "mJ0NF5gUWkxt"
      },
      "outputs": [],
      "source": [
        "# 분류기를 만들고\n",
        "loss = Loss(X_train, y_train, lamda=0.0001)"
      ]
    },
    {
      "cell_type": "code",
      "execution_count": null,
      "metadata": {
        "colab": {
          "base_uri": "https://localhost:8080/"
        },
        "id": "RsQwS8CjWkxt",
        "outputId": "4b8728c0-aa3c-44e6-a2be-b458b9483527"
      },
      "outputs": [
        {
          "output_type": "stream",
          "name": "stdout",
          "text": [
            "Epoch   5: Cost=1723.07667, lr=0.01000\n",
            "Epoch  10: Cost=1349.00455, lr=0.01000\n",
            "Epoch  15: Cost=1109.36634, lr=0.01000\n",
            "Epoch  20: Cost=950.15946, lr=0.01000\n",
            "Epoch  25: Cost=838.55593, lr=0.01000\n",
            "Epoch  30: Cost=753.30507, lr=0.01000\n",
            "Epoch  35: Cost=684.90480, lr=0.01000\n",
            "Epoch  40: Cost=628.48307, lr=0.01000\n",
            "Epoch  45: Cost=581.02396, lr=0.01000\n",
            "Epoch  50: Cost=540.48268, lr=0.01000\n",
            "Epoch  55: Cost=505.40598, lr=0.01000\n",
            "Epoch  60: Cost=474.72834, lr=0.01000\n",
            "Epoch  65: Cost=447.64869, lr=0.01000\n",
            "Epoch  70: Cost=423.55180, lr=0.01000\n",
            "Epoch  75: Cost=401.95653, lr=0.01000\n",
            "Epoch  80: Cost=382.48084, lr=0.01000\n",
            "Epoch  85: Cost=364.81751, lr=0.01000\n",
            "Epoch  90: Cost=348.71682, lr=0.01000\n",
            "Epoch  95: Cost=333.97391, lr=0.01000\n",
            "Epoch 100: Cost=320.41933, lr=0.01000\n",
            "Epoch 105: Cost=307.91178, lr=0.01000\n",
            "Epoch 110: Cost=296.33257, lr=0.01000\n",
            "Epoch 115: Cost=285.58120, lr=0.01000\n",
            "Epoch 120: Cost=275.57191, lr=0.01000\n",
            "Epoch 125: Cost=266.23098, lr=0.01000\n",
            "Epoch 130: Cost=257.49457, lr=0.01000\n",
            "Epoch 135: Cost=249.30702, lr=0.01000\n",
            "Epoch 140: Cost=241.61948, lr=0.01000\n",
            "Epoch 145: Cost=234.38887, lr=0.01000\n",
            "Epoch 150: Cost=227.57695, lr=0.01000\n"
          ]
        }
      ],
      "source": [
        "# 학습시킨다.\n",
        "costs = loss.train(lr=0.01, epoch=150, verbose=True, verbose_step=5)"
      ]
    },
    {
      "cell_type": "code",
      "execution_count": null,
      "metadata": {
        "colab": {
          "base_uri": "https://localhost:8080/",
          "height": 430
        },
        "id": "OpVhG7rxWkxt",
        "outputId": "3bd8cdc7-55d6-4e87-844c-6fbda233fd19"
      },
      "outputs": [
        {
          "output_type": "display_data",
          "data": {
            "text/plain": [
              "<Figure size 640x480 with 1 Axes>"
            ],
            "image/png": "[encoded data removed]"
          },
          "metadata": {}
        }
      ],
      "source": [
        "# 학습하는 동안 기록한 로스를 시각화\n",
        "plt.plot(costs)\n",
        "plt.show()"
      ]
    },
    {
      "cell_type": "markdown",
      "source": [
        "- 미리 만들어 놓은 사이킷런 `SGDClassifier`와 성능 비교를 통해 코드 유효성 확인\n",
        "\n",
        "- 결과는 아래와 같이 나오는데 `precision`, `recall`이 두 모델에서 비슷하게 나와야 함\n",
        "```\n",
        "              precision    recall  f1-score   support\n",
        "         0.0       0.98      0.99      0.99      2561\n",
        "         1.0       0.97      0.90      0.93       439\n",
        "    \n",
        "      accuracy                         0.98      3000\n",
        "     macro avg     0.97      0.95      0.96      3000\n",
        "weighted avg     0.98      0.98      0.98      3000\n",
        "```"
      ],
      "metadata": {
        "id": "w5kSxSA6hjbV"
      }
    },
    {
      "cell_type": "code",
      "execution_count": null,
      "metadata": {
        "colab": {
          "base_uri": "https://localhost:8080/"
        },
        "id": "javgk6XnWkxt",
        "outputId": "31562e94-bdc3-447e-ef24-383198f1a136"
      },
      "outputs": [
        {
          "output_type": "stream",
          "name": "stdout",
          "text": [
            "scikit-learn SGDClassifier\n",
            "-----------------------------------------------------\n",
            "              precision    recall  f1-score   support\n",
            "\n",
            "         0.0       0.98      0.99      0.99      2561\n",
            "         1.0       0.97      0.90      0.94       439\n",
            "\n",
            "    accuracy                           0.98      3000\n",
            "   macro avg       0.98      0.95      0.96      3000\n",
            "weighted avg       0.98      0.98      0.98      3000\n",
            "\n",
            "[[2548   13]\n",
            " [  42  397]]\n",
            "\n",
            "Ours\n",
            "-----------------------------------------------------\n",
            "              precision    recall  f1-score   support\n",
            "\n",
            "         0.0       0.99      0.99      0.99      2561\n",
            "         1.0       0.97      0.94      0.96       439\n",
            "\n",
            "    accuracy                           0.99      3000\n",
            "   macro avg       0.98      0.97      0.97      3000\n",
            "weighted avg       0.99      0.99      0.99      3000\n",
            "\n",
            "[[2547   14]\n",
            " [  25  414]]\n"
          ]
        }
      ],
      "source": [
        "print(\"scikit-learn SGDClassifier\")\n",
        "print(\"-----------------------------------------------------\")\n",
        "y_train_pred = logreg.predict(X_train)\n",
        "print(classification_report(y_train, y_train_pred))\n",
        "print(confusion_matrix(y_train, y_train_pred))\n",
        "\n",
        "print()\n",
        "\n",
        "print(\"Ours\")\n",
        "print(\"-----------------------------------------------------\")\n",
        "y_train_pred = np.array([logistic(np.dot(X, loss.w)) for X in X_train])\n",
        "y_train_pred  = y_train_pred > 0.50\n",
        "print(classification_report(y_train, y_train_pred))\n",
        "print(confusion_matrix(y_train, y_train_pred))\n"
      ]
    },
    {
      "cell_type": "code",
      "execution_count": null,
      "metadata": {
        "colab": {
          "base_uri": "https://localhost:8080/"
        },
        "id": "XY3dvnakWkxu",
        "outputId": "84d42add-c090-45cf-e036-6465f9185fe8"
      },
      "outputs": [
        {
          "output_type": "stream",
          "name": "stdout",
          "text": [
            "scikit-learn SGDClassifier\n",
            "-----------------------------------------------------\n",
            "              precision    recall  f1-score   support\n",
            "\n",
            "         0.0       0.95      0.96      0.96       359\n",
            "         1.0       0.76      0.73      0.75        64\n",
            "\n",
            "    accuracy                           0.92       423\n",
            "   macro avg       0.86      0.85      0.85       423\n",
            "weighted avg       0.92      0.92      0.92       423\n",
            "\n",
            "[[344  15]\n",
            " [ 17  47]]\n",
            "\n",
            "Ours\n",
            "-----------------------------------------------------\n",
            "              precision    recall  f1-score   support\n",
            "\n",
            "         0.0       0.95      0.95      0.95       359\n",
            "         1.0       0.72      0.72      0.72        64\n",
            "\n",
            "    accuracy                           0.91       423\n",
            "   macro avg       0.83      0.83      0.83       423\n",
            "weighted avg       0.91      0.91      0.91       423\n",
            "\n",
            "[[341  18]\n",
            " [ 18  46]]\n"
          ]
        }
      ],
      "source": [
        "print(\"scikit-learn SGDClassifier\")\n",
        "print(\"-----------------------------------------------------\")\n",
        "y_test_pred = logreg.predict(X_test)\n",
        "print(classification_report(y_test, y_test_pred))\n",
        "print(confusion_matrix(y_test, y_test_pred))\n",
        "\n",
        "print()\n",
        "\n",
        "print(\"Ours\")\n",
        "print(\"-----------------------------------------------------\")\n",
        "y_test_pred = np.array([logistic(np.dot(X, loss.w)) for X in X_test])\n",
        "y_test_pred  = y_test_pred > 0.50\n",
        "print(classification_report(y_test, y_test_pred))\n",
        "print(confusion_matrix(y_test, y_test_pred))"
      ]
    },
    {
      "cell_type": "code",
      "source": [],
      "metadata": {
        "id": "gOQJnGrNbD3y"
      },
      "execution_count": null,
      "outputs": []
    }
  ],
  "metadata": {
    "kernelspec": {
      "display_name": "pd",
      "language": "python",
      "name": "python3"
    },
    "language_info": {
      "codemirror_mode": {
        "name": "ipython",
        "version": 3
      },
      "file_extension": ".py",
      "mimetype": "text/x-python",
      "name": "python",
      "nbconvert_exporter": "python",
      "pygments_lexer": "ipython3",
      "version": "3.10.12"
    },
    "orig_nbformat": 4,
    "colab": {
      "provenance": [],
      "toc_visible": true,
      "include_colab_link": true
    }
  },
  "nbformat": 4,
  "nbformat_minor": 0
}