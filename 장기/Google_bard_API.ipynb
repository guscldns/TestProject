{
  "nbformat": 4,
  "nbformat_minor": 0,
  "metadata": {
    "colab": {
      "provenance": [],
      "collapsed_sections": [
        "6aGv1NhL37Md",
        "JTCY-inG-JOA",
        "3GzlhtJy8SPr"
      ],
      "authorship_tag": "ABX9TyPkpv/8c2lFgBsX6FI2DT41",
      "include_colab_link": true
    },
    "kernelspec": {
      "name": "python3",
      "display_name": "Python 3"
    },
    "language_info": {
      "name": "python"
    }
  },
  "cells": [
    {
      "cell_type": "markdown",
      "metadata": {
        "id": "view-in-github",
        "colab_type": "text"
      },
      "source": [
        "<a href=\"https://colab.research.google.com/github/guscldns/TestProject/blob/main/%EC%9E%A5%EA%B8%B0/Google_bard_API.ipynb\" target=\"_parent\"><img src=\"https://colab.research.google.com/assets/colab-badge.svg\" alt=\"Open In Colab\"/></a>"
      ]
    },
    {
      "cell_type": "markdown",
      "source": [
        "### https://teddylee777.github.io/python/bard-python-api/"
      ],
      "metadata": {
        "id": "78VYSRvV3bQO"
      }
    },
    {
      "cell_type": "markdown",
      "source": [
        "#### 구글 bard API 설치"
      ],
      "metadata": {
        "id": "6aGv1NhL37Md"
      }
    },
    {
      "cell_type": "code",
      "execution_count": null,
      "metadata": {
        "colab": {
          "base_uri": "https://localhost:8080/"
        },
        "id": "YDfluk7z3KGL",
        "outputId": "9f16be29-a662-4fc7-cb71-20f8c09f0b01"
      },
      "outputs": [
        {
          "output_type": "stream",
          "name": "stdout",
          "text": [
            "Cloning into 'Bard-API'...\n",
            "remote: Enumerating objects: 2274, done.\u001b[K\n",
            "remote: Counting objects: 100% (1227/1227), done.\u001b[K\n",
            "remote: Compressing objects: 100% (436/436), done.\u001b[K\n",
            "remote: Total 2274 (delta 915), reused 938 (delta 789), pack-reused 1047\u001b[K\n",
            "Receiving objects: 100% (2274/2274), 16.54 MiB | 35.35 MiB/s, done.\n",
            "Resolving deltas: 100% (1436/1436), done.\n"
          ]
        }
      ],
      "source": [
        "!git clone https://github.com/dsdanielpark/Bard-API"
      ]
    },
    {
      "cell_type": "code",
      "source": [
        "!pip install bardapi"
      ],
      "metadata": {
        "id": "YXdw_wNS3UCe"
      },
      "execution_count": null,
      "outputs": []
    },
    {
      "cell_type": "markdown",
      "source": [
        "#### bard 안됨"
      ],
      "metadata": {
        "id": "JTCY-inG-JOA"
      }
    },
    {
      "cell_type": "code",
      "source": [
        "### bard 되는지 test\n",
        "from bardapi import Bard\n",
        "\n",
        "# 첫 번째 단계에서 복사한 토큰 입력\n",
        "token = 'agj4UKBUL18C1du8Te1e9TiNkCibaYZyirt78PpTjK36S-PeEiFADc8APDvHDv412bJITQ.'\n",
        "\n",
        "# Bard 객체 생성\n",
        "bard = Bard(token=token)\n",
        "\n",
        "# 프롬프트 입력(질의)\n",
        "print(bard.get_answer(\"양자역학에 대해 간략하게 알려줘\")['content'])"
      ],
      "metadata": {
        "id": "0VGUtEgT4tkr"
      },
      "execution_count": null,
      "outputs": []
    },
    {
      "cell_type": "code",
      "source": [
        "import time\n",
        "from bardapi import Bard\n",
        "\n",
        "# 첫 번째 단계에서 복사한 토큰 입력\n",
        "token = 'agj4UKBUL18C1du8Te1e9TiNkCibaYZyirt78PpTjK36S-PeEiFADc8APDvHDv412bJITQ.'\n",
        "\n",
        "# Bard 객체 생성\n",
        "bard = Bard(token=token)\n",
        "for i in data['원문'][10:]\n",
        "# 질문 1\n",
        "data[] = bard.get_answer(f\"다음 글에 대해 요약해줘 {i}\")['content'])\n",
        "\n",
        "# 30초 딜레이\n",
        "time.sleep(30)\n",
        "\n",
        "# 질문 2\n",
        "print(bard.get_answer(\"선형대수학에 대해 간략하게 알려줘\")['content'])"
      ],
      "metadata": {
        "id": "dyF5rvRg3Vft"
      },
      "execution_count": null,
      "outputs": []
    },
    {
      "cell_type": "markdown",
      "source": [
        "#### 데이터 불러오기"
      ],
      "metadata": {
        "id": "hy0ylDJ-39eG"
      }
    },
    {
      "cell_type": "code",
      "source": [
        "import pandas as pd"
      ],
      "metadata": {
        "id": "W8891C0g3yU0"
      },
      "execution_count": 2,
      "outputs": []
    },
    {
      "cell_type": "code",
      "source": [
        "data = pd.read_excel('/content/001.xlsx')"
      ],
      "metadata": {
        "id": "dxFZlCRq3_n2"
      },
      "execution_count": 39,
      "outputs": []
    },
    {
      "cell_type": "markdown",
      "source": [
        "### 토크나이저"
      ],
      "metadata": {
        "id": "U_UIQbQd-MB2"
      }
    },
    {
      "cell_type": "code",
      "source": [
        "!pip install transformers"
      ],
      "metadata": {
        "id": "9mm64Fc-uFqP"
      },
      "execution_count": null,
      "outputs": []
    },
    {
      "cell_type": "code",
      "source": [
        "from transformers import PreTrainedTokenizerFast\n",
        "# 토크나이저 초기화\n",
        "tokenizer = PreTrainedTokenizerFast.from_pretrained('digit82/kobart-summarization')\n",
        "# 주어진 텍스트를 토큰화\n",
        "text = \"\"\"\n",
        "\n",
        "\"\"\"\n",
        "# 토큰화된 결과 확인\n",
        "tokens = tokenizer.tokenize(text)\n",
        "# 토큰 수 계산\n",
        "token_count = len(tokens)\n",
        "print(\"토큰 수:\", token_count)"
      ],
      "metadata": {
        "colab": {
          "base_uri": "https://localhost:8080/"
        },
        "id": "vxbHEOnP4pxq",
        "outputId": "f21b88e0-3414-4c23-eaf6-078689b0bd94"
      },
      "execution_count": 80,
      "outputs": [
        {
          "output_type": "stream",
          "name": "stdout",
          "text": [
            "토큰 수: 626\n"
          ]
        }
      ]
    },
    {
      "cell_type": "code",
      "source": [
        "import pandas as pd\n",
        "from transformers import PreTrainedTokenizerFast\n",
        "\n",
        "# 토크나이저 불러오기\n",
        "tokenizer = PreTrainedTokenizerFast.from_pretrained('digit82/kobart-summarization')\n",
        "\n",
        "# 테스트할 텍스트\n",
        "text =\"\"\"\n",
        "\n",
        "\"\"\"\n",
        "\n",
        "# 토큰화된 결과 확인\n",
        "tokens = tokenizer.tokenize(text)\n",
        "# 토큰 수 계산\n",
        "token_count = len(tokens)\n",
        "token_count"
      ],
      "metadata": {
        "id": "J5WkkalFGoAa",
        "colab": {
          "base_uri": "https://localhost:8080/"
        },
        "outputId": "59085af1-da0d-42bc-9568-33782d531ca4"
      },
      "execution_count": 287,
      "outputs": [
        {
          "output_type": "execute_result",
          "data": {
            "text/plain": [
              "458"
            ]
          },
          "metadata": {},
          "execution_count": 287
        }
      ]
    },
    {
      "cell_type": "code",
      "source": [],
      "metadata": {
        "id": "IzPLN7qiJp-z"
      },
      "execution_count": null,
      "outputs": []
    },
    {
      "cell_type": "code",
      "source": [
        "data\n",
        "import pandas as pd\n",
        "from transformers import PreTrainedTokenizerFast\n",
        "\n",
        "# 토크나이저 불러오기\n",
        "tokenizer = PreTrainedTokenizerFast.from_pretrained('digit82/kobart-summarization')\n",
        "\n",
        "# 데이터\n",
        "data = pd.read_excel('/content/001.xlsx')\n",
        "\n",
        "# 원문 별 총 토큰수 저장\n",
        "data['총토큰수'] = data['원문'].apply(lambda text: len(tokenizer.tokenize(text)))\n",
        "\n",
        "# 엑셀 파일로 저장\n",
        "file_name = 'sample.xlsx'\n",
        "data.to_excel(file_name, index=False)"
      ],
      "metadata": {
        "id": "z1yOuHWSAbVr"
      },
      "execution_count": null,
      "outputs": []
    },
    {
      "cell_type": "code",
      "source": [
        "import pandas as pd\n",
        "from transformers import PreTrainedTokenizerFast\n",
        "\n",
        "# 토크나이저 불러오기\n",
        "tokenizer = PreTrainedTokenizerFast.from_pretrained('digit82/kobart-summarization')\n",
        "\n",
        "# 원문, 토큰별 원문, 토큰 수 저장할 리스트 생성\n",
        "original_text = []\n",
        "tokenized_text = []\n",
        "tokens_counts = []\n",
        "token_counts =[]\n",
        "# 테스트할 텍스트\n",
        "data = pd.read_excel('/content/001.xlsx')\n",
        "\n",
        "for i, text in enumerate(data['원문']):\n",
        "    # 텍스트를 토큰화\n",
        "    tokens = tokenizer.tokenize(text)\n",
        "    token_count = len(tokens)\n",
        "    tokens_counts.append(token_count)\n",
        "\n",
        "    # 512 토큰 이하로 자르기\n",
        "    if token_count > 512:\n",
        "        tokens = tokens[:512]\n",
        "\n",
        "    # 토큰 ID로 변환하여 토큰을 문장으로 복원\n",
        "    token_ids = tokenizer.convert_tokens_to_ids(tokens)\n",
        "    tokenized_text.append(tokenizer.decode(token_ids))\n",
        "    tokens_t = tokenizer.tokenize(tokenizer.decode(token_ids))\n",
        "    tokens_count = len(tokens_t)\n",
        "\n",
        "    original_text.append(text)\n",
        "    token_counts.append(tokens_count)\n",
        "\n",
        "# 결과를 데이터프레임으로 만들기\n",
        "result_data = pd.DataFrame({'원문': original_text, '토큰별 원문': tokenized_text, '총 토큰수' : tokens_counts , '토큰 수': token_counts})\n",
        "\n",
        "# 엑셀 파일로 저장\n",
        "file_name = 'sample.xlsx'\n",
        "result_data.to_excel(file_name, index=False)\n",
        "\n",
        "print(result_data)"
      ],
      "metadata": {
        "colab": {
          "base_uri": "https://localhost:8080/"
        },
        "id": "XPu2H5pEEJY2",
        "outputId": "327e4b16-ef44-4a95-c30b-484f131eff99"
      },
      "execution_count": 43,
      "outputs": [
        {
          "output_type": "stream",
          "name": "stdout",
          "text": [
            "                                                   원문  \\\n",
            "0   001 단군 신화(檀君神話) _ 작자 미상\\n옛날 환인(桓因)의 서자 환웅(桓雄)이...   \n",
            "1   002 주몽 신화(晝夢神話) _ 작자 미상\\n시조 동명성왕(東明聖王)의 성은 고씨이...   \n",
            "2   003 가락국 신화(駕洛國神話) _ 작자 미상\\n천지가 개벽한 이후로 이 땅에 아직...   \n",
            "3   004 바리공주 _ 작자 미상\\n칠 공주〔第七公主〕 불러내어, “부모 소양〔효양(孝...   \n",
            "4   005 화왕계(花王戒) _ 설총\\n문득 한 가인(佳人)이 붉은 얼굴에 백옥 같은 이...   \n",
            "..                                                ...   \n",
            "86  087 적벽가(赤壁歌) _ 작자 미상\\n\\n[중모리]\\n창황분주 도망을 갈 제 새만...   \n",
            "87  088 봉산(鳳山) 탈춤 _ 작자 미상\\n \\n말뚝이 (벙거지를 쓰고 채찍을 들었...   \n",
            "88  089 양주 별산대(楊洲別山臺) 놀이 _ 작자 미상\\n 말뚝이 너 여기서 만나 보기...   \n",
            "89  090 하회 별신(河回別神)굿 탈놀이 _ 작자 미상\\n 양반 오냐, 부네라, 어흠,...   \n",
            "90  091 꼭두각시놀음 _ 작자 미상\\n 박 첨지 아하, 여보게. 큰일 났네. 산받이 ...   \n",
            "\n",
            "                                               토큰별 원문  총 토큰수  토큰 수  \n",
            "0   001 단군 신화(檀君神話) _ 작자 미상\\n옛날 환인(桓因)의 서자 환웅(桓雄)이...    481   481  \n",
            "1   002 주몽 신화(晝夢神話) _ 작자 미상\\n시조 동명성왕(東明聖王)의 성은 고씨이...   1288   512  \n",
            "2   003 가락국 신화(駕洛國神話) _ 작자 미상\\n천지가 개벽한 이후로 이 땅에 아직...   1143   513  \n",
            "3   004 바리공주 _ 작자 미상\\n칠 공주〔第七公主〕 불러내어, “부모 소양〔효양(孝...    980   512  \n",
            "4   005 화왕계(花王戒) _ 설총\\n문득 한 가인(佳人)이 붉은 얼굴에 백옥 같은 이...    461   461  \n",
            "..                                                ...    ...   ...  \n",
            "86  087 적벽가(赤壁歌) _ 작자 미상\\n\\n[중모리]\\n창황분주 도망을 갈 제 새만...    961   512  \n",
            "87  088 봉산(鳳山) 탈춤 _ 작자 미상\\n <unk>\\n말뚝이 (벙거지를 쓰고 채찍...   2563   512  \n",
            "88  089 양주 별산대(楊洲別山臺) 놀이 _ 작자 미상\\n 말뚝이 너 여기서 만나 보기...   1119   512  \n",
            "89  090 하회 별신(河回別神)굿 탈놀이 _ 작자 미상\\n 양반 오냐, 부네라, 어흠,...    969   511  \n",
            "90  091 꼭두각시놀음 _ 작자 미상\\n 박 첨지 아하, 여보게. 큰일 났네. 산받이 ...    871   512  \n",
            "\n",
            "[91 rows x 4 columns]\n"
          ]
        }
      ]
    },
    {
      "cell_type": "markdown",
      "source": [
        "### 요약 모델"
      ],
      "metadata": {
        "id": "3GzlhtJy8SPr"
      }
    },
    {
      "cell_type": "code",
      "source": [
        "!pip uninstall torch torchvision torchaudio torchtext -y\n",
        "!pip install torch==1.10.0 torchaudio==0.10.0 torchtext==0.11.0 torchmetrics==0.6.0\n",
        "!pip install -r requirements.txt\n",
        "!pip install pytorch_lightning==1.5.2"
      ],
      "metadata": {
        "id": "p0lgwOkRxuWO"
      },
      "execution_count": null,
      "outputs": []
    },
    {
      "cell_type": "code",
      "source": [
        "import torch\n",
        "# from transformers import PreTrainedTokenizerFast\n",
        "# from transformers import BartForConditionalGeneration\n",
        "\n",
        "# tokenizer = PreTrainedTokenizerFast.from_pretrained('digit82/kobart-summarization')\n",
        "# model = BartForConditionalGeneration.from_pretrained('digit82/kobart-summarization')\n",
        "\n",
        "# Load model directly\n",
        "from transformers import AutoTokenizer, AutoModelForSeq2SeqLM\n",
        "\n",
        "tokenizer = AutoTokenizer.from_pretrained(\"digit82/kobart-summarization\")\n",
        "model = AutoModelForSeq2SeqLM.from_pretrained(\"digit82/kobart-summarization\")\n",
        "\n",
        "text = \"\"\"\n",
        "좋은 의사를 만나는 법\n",
        "몸에 병이 생기게 되면 누구나 의사(혹은 한의사)를 찾게 된다. 이때 누구나 실력 있는 의사, 좋은 의사, 허준 같은 명의를 만나기를 원할 것이다. 그런데 이게 그렇게 쉬운 일이 아니다. 좋은 의사를 고르려면 먼저 의사들의 세계를 알아야 할 것이다.\n",
        "의대에는 어떤 학생들이 가게 되는가? 병들고 불쌍한 가난한 환자들을 치료하려는 박애심 투철한 학생들인가? 천만에. 전과목에서 우수한 성적을 올린 학생들이 간다. 내성적이고 소심한 학생들이 많이 지원하는 것도 특징이다(얌전한 모범생들이 많다는 말이다). 그들이 의대를 지망하는 이유는 대부분 의사라는 직업이 돈도 잘 버는 직업일 뿐만 아니라 주변에서도 부러워 하고 사회적으로도 신분이 비교적 안정되어 있기 때문이다. 히포크라테스 선서를 수행하고자 의대에 가거나 혹은 제2의 슈바이쳐가 되고자 하는 학생은 정말 정말 극소수에 지나지 않는다. (그렇다고 해서 그들을 비난하여서는 결코 안된다. 의사 역시 사람들이 먹고 사는 수단으로 택하는 수많은 직업들 중 하나를 택한 생활인이기 때문이다.)\n",
        "자, 그런 학생들이 의사 면허증을 받고자 치루는 의사고시는 어떤 내용일까? 모두 이론이다. 의대 졸업반 학생들은 스터디 그룹을 만들어 예상문제 공략을 꾀하기도 한다. 실습은 대학 시절에도 있기는 하지만 대부분은 의사고시에 합격한 뒤 거치게 되는 인턴,레지던트 기간 동안에 이루어 지게 된다. 이때 돈은 얼마나 받게 될까. 의학 공부를 한지 10년째에 해당되는 전공의 4년차일 경우 연봉은 2천만원 수준이며 야간 당직 수당은 2만원선이다. 수련의 기간은 육체적으로 너무나도 힘든과정이기에 제대로 책을 볼 시간적 여유도 많지 않다.\n",
        "수련의 과정을 마친 응급실 야간 당직의사의 월급은 많아야 3~4백만원선이다.\n",
        "인기 진료 과목이라고 할 수 있는 안과, 성형외과, 피부과, 비뇨기과, 이비인후과, 가정의학과 등에서 전문의 자격을 딴 30대 초,중반의 의사는 봉급의사(봉직의)로\n",
        "\"\"\"\n",
        "\n",
        "text = text.replace('\\n', ' ')\n",
        "\n",
        "raw_input_ids = tokenizer.encode(text)\n",
        "input_ids = [tokenizer.bos_token_id] + raw_input_ids + [tokenizer.eos_token_id]\n",
        "\n",
        "summary_ids = model.generate(torch.tensor([input_ids]),  num_beams=4,  max_length=512,  eos_token_id=1)\n",
        "tokenizer.decode(summary_ids.squeeze().tolist(), skip_special_tokens=True)"
      ],
      "metadata": {
        "colab": {
          "base_uri": "https://localhost:8080/",
          "height": 54
        },
        "id": "M4XaXUlTwWsS",
        "outputId": "3097db33-7872-43e4-d5f0-f8ebd3e3ea93"
      },
      "execution_count": null,
      "outputs": [
        {
          "output_type": "stream",
          "name": "stderr",
          "text": [
            "You passed along `num_labels=3` with an incompatible id to label map: {'0': 'NEGATIVE', '1': 'POSITIVE'}. The number of labels wil be overwritten to 2.\n"
          ]
        },
        {
          "output_type": "execute_result",
          "data": {
            "text/plain": [
              "'병들고 불쌍한 가난한 환자들을 치료하려는 박애심 투철한 학생들인가?'"
            ],
            "application/vnd.google.colaboratory.intrinsic+json": {
              "type": "string"
            }
          },
          "metadata": {},
          "execution_count": 3
        }
      ]
    }
  ]
}