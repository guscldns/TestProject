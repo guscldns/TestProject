{
  "nbformat": 4,
  "nbformat_minor": 0,
  "metadata": {
    "colab": {
      "provenance": [],
      "collapsed_sections": [
        "6435FkF_wFoN"
      ],
      "mount_file_id": "17hUSu1frtBs5g4C9XDH-5nC00x11TPY9",
      "authorship_tag": "ABX9TyOSg/xD5GfCvX1ynpf7IH20",
      "include_colab_link": true
    },
    "kernelspec": {
      "name": "python3",
      "display_name": "Python 3"
    },
    "language_info": {
      "name": "python"
    }
  },
  "cells": [
    {
      "cell_type": "markdown",
      "metadata": {
        "id": "view-in-github",
        "colab_type": "text"
      },
      "source": [
        "<a href=\"https://colab.research.google.com/github/guscldns/TestProject/blob/main/%EC%9E%A5%EA%B8%B0/%ED%8C%8C%EC%9D%B4%ED%94%84%EB%9D%BC%EC%9D%B8.ipynb\" target=\"_parent\"><img src=\"https://colab.research.google.com/assets/colab-badge.svg\" alt=\"Open In Colab\"/></a>"
      ]
    },
    {
      "cell_type": "markdown",
      "source": [
        "### 라이브러리 설치 및 불러오기"
      ],
      "metadata": {
        "id": "dgSe2KAQeZKV"
      }
    },
    {
      "cell_type": "code",
      "source": [
        "!pip install google-cloud-vision\n",
        "!pip install PyMuPDF"
      ],
      "metadata": {
        "id": "tUBkcRzeNXCM"
      },
      "execution_count": null,
      "outputs": []
    },
    {
      "cell_type": "code",
      "source": [
        "from PIL import Image\n",
        "from google.cloud import vision\n",
        "import numpy as np\n",
        "import fitz\n",
        "import cv2\n",
        "import io\n",
        "import os"
      ],
      "metadata": {
        "id": "cpzT5MIaIZYN"
      },
      "execution_count": 50,
      "outputs": []
    },
    {
      "cell_type": "markdown",
      "source": [
        "#### 파일 저장할 폴더 생성"
      ],
      "metadata": {
        "id": "rf2kNk5Vcxpq"
      }
    },
    {
      "cell_type": "code",
      "source": [
        "# # 파일 저장할 폴더 생성\n",
        "# os.mkdir(\"/content/upload_file\")\n",
        "# os.mkdir(\"/content/image_file\")"
      ],
      "metadata": {
        "id": "TG5WCXYBceQS"
      },
      "execution_count": null,
      "outputs": []
    },
    {
      "cell_type": "markdown",
      "source": [
        "#### 파일 업로드"
      ],
      "metadata": {
        "id": "mTqJZt-uc0k9"
      }
    },
    {
      "cell_type": "code",
      "source": [
        "# 코렙이라서 사용, flask에서는 다른 방법 필요\n",
        "%cd /content/upload_file\n",
        "from google.colab import files\n",
        "uploaded = files.upload()"
      ],
      "metadata": {
        "colab": {
          "base_uri": "https://localhost:8080/",
          "height": 95
        },
        "id": "GrxXVoaZWOx2",
        "outputId": "1b501551-7637-41d8-9a2a-48cd7fb4874f"
      },
      "execution_count": 73,
      "outputs": [
        {
          "output_type": "stream",
          "name": "stdout",
          "text": [
            "/content/upload_file\n"
          ]
        },
        {
          "output_type": "display_data",
          "data": {
            "text/plain": [
              "<IPython.core.display.HTML object>"
            ],
            "text/html": [
              "\n",
              "     <input type=\"file\" id=\"files-ce699a9a-b456-4284-9a37-0ff3f541a0c9\" name=\"files[]\" multiple disabled\n",
              "        style=\"border:none\" />\n",
              "     <output id=\"result-ce699a9a-b456-4284-9a37-0ff3f541a0c9\">\n",
              "      Upload widget is only available when the cell has been executed in the\n",
              "      current browser session. Please rerun this cell to enable.\n",
              "      </output>\n",
              "      <script>// Copyright 2017 Google LLC\n",
              "//\n",
              "// Licensed under the Apache License, Version 2.0 (the \"License\");\n",
              "// you may not use this file except in compliance with the License.\n",
              "// You may obtain a copy of the License at\n",
              "//\n",
              "//      http://www.apache.org/licenses/LICENSE-2.0\n",
              "//\n",
              "// Unless required by applicable law or agreed to in writing, software\n",
              "// distributed under the License is distributed on an \"AS IS\" BASIS,\n",
              "// WITHOUT WARRANTIES OR CONDITIONS OF ANY KIND, either express or implied.\n",
              "// See the License for the specific language governing permissions and\n",
              "// limitations under the License.\n",
              "\n",
              "/**\n",
              " * @fileoverview Helpers for google.colab Python module.\n",
              " */\n",
              "(function(scope) {\n",
              "function span(text, styleAttributes = {}) {\n",
              "  const element = document.createElement('span');\n",
              "  element.textContent = text;\n",
              "  for (const key of Object.keys(styleAttributes)) {\n",
              "    element.style[key] = styleAttributes[key];\n",
              "  }\n",
              "  return element;\n",
              "}\n",
              "\n",
              "// Max number of bytes which will be uploaded at a time.\n",
              "const MAX_PAYLOAD_SIZE = 100 * 1024;\n",
              "\n",
              "function _uploadFiles(inputId, outputId) {\n",
              "  const steps = uploadFilesStep(inputId, outputId);\n",
              "  const outputElement = document.getElementById(outputId);\n",
              "  // Cache steps on the outputElement to make it available for the next call\n",
              "  // to uploadFilesContinue from Python.\n",
              "  outputElement.steps = steps;\n",
              "\n",
              "  return _uploadFilesContinue(outputId);\n",
              "}\n",
              "\n",
              "// This is roughly an async generator (not supported in the browser yet),\n",
              "// where there are multiple asynchronous steps and the Python side is going\n",
              "// to poll for completion of each step.\n",
              "// This uses a Promise to block the python side on completion of each step,\n",
              "// then passes the result of the previous step as the input to the next step.\n",
              "function _uploadFilesContinue(outputId) {\n",
              "  const outputElement = document.getElementById(outputId);\n",
              "  const steps = outputElement.steps;\n",
              "\n",
              "  const next = steps.next(outputElement.lastPromiseValue);\n",
              "  return Promise.resolve(next.value.promise).then((value) => {\n",
              "    // Cache the last promise value to make it available to the next\n",
              "    // step of the generator.\n",
              "    outputElement.lastPromiseValue = value;\n",
              "    return next.value.response;\n",
              "  });\n",
              "}\n",
              "\n",
              "/**\n",
              " * Generator function which is called between each async step of the upload\n",
              " * process.\n",
              " * @param {string} inputId Element ID of the input file picker element.\n",
              " * @param {string} outputId Element ID of the output display.\n",
              " * @return {!Iterable<!Object>} Iterable of next steps.\n",
              " */\n",
              "function* uploadFilesStep(inputId, outputId) {\n",
              "  const inputElement = document.getElementById(inputId);\n",
              "  inputElement.disabled = false;\n",
              "\n",
              "  const outputElement = document.getElementById(outputId);\n",
              "  outputElement.innerHTML = '';\n",
              "\n",
              "  const pickedPromise = new Promise((resolve) => {\n",
              "    inputElement.addEventListener('change', (e) => {\n",
              "      resolve(e.target.files);\n",
              "    });\n",
              "  });\n",
              "\n",
              "  const cancel = document.createElement('button');\n",
              "  inputElement.parentElement.appendChild(cancel);\n",
              "  cancel.textContent = 'Cancel upload';\n",
              "  const cancelPromise = new Promise((resolve) => {\n",
              "    cancel.onclick = () => {\n",
              "      resolve(null);\n",
              "    };\n",
              "  });\n",
              "\n",
              "  // Wait for the user to pick the files.\n",
              "  const files = yield {\n",
              "    promise: Promise.race([pickedPromise, cancelPromise]),\n",
              "    response: {\n",
              "      action: 'starting',\n",
              "    }\n",
              "  };\n",
              "\n",
              "  cancel.remove();\n",
              "\n",
              "  // Disable the input element since further picks are not allowed.\n",
              "  inputElement.disabled = true;\n",
              "\n",
              "  if (!files) {\n",
              "    return {\n",
              "      response: {\n",
              "        action: 'complete',\n",
              "      }\n",
              "    };\n",
              "  }\n",
              "\n",
              "  for (const file of files) {\n",
              "    const li = document.createElement('li');\n",
              "    li.append(span(file.name, {fontWeight: 'bold'}));\n",
              "    li.append(span(\n",
              "        `(${file.type || 'n/a'}) - ${file.size} bytes, ` +\n",
              "        `last modified: ${\n",
              "            file.lastModifiedDate ? file.lastModifiedDate.toLocaleDateString() :\n",
              "                                    'n/a'} - `));\n",
              "    const percent = span('0% done');\n",
              "    li.appendChild(percent);\n",
              "\n",
              "    outputElement.appendChild(li);\n",
              "\n",
              "    const fileDataPromise = new Promise((resolve) => {\n",
              "      const reader = new FileReader();\n",
              "      reader.onload = (e) => {\n",
              "        resolve(e.target.result);\n",
              "      };\n",
              "      reader.readAsArrayBuffer(file);\n",
              "    });\n",
              "    // Wait for the data to be ready.\n",
              "    let fileData = yield {\n",
              "      promise: fileDataPromise,\n",
              "      response: {\n",
              "        action: 'continue',\n",
              "      }\n",
              "    };\n",
              "\n",
              "    // Use a chunked sending to avoid message size limits. See b/62115660.\n",
              "    let position = 0;\n",
              "    do {\n",
              "      const length = Math.min(fileData.byteLength - position, MAX_PAYLOAD_SIZE);\n",
              "      const chunk = new Uint8Array(fileData, position, length);\n",
              "      position += length;\n",
              "\n",
              "      const base64 = btoa(String.fromCharCode.apply(null, chunk));\n",
              "      yield {\n",
              "        response: {\n",
              "          action: 'append',\n",
              "          file: file.name,\n",
              "          data: base64,\n",
              "        },\n",
              "      };\n",
              "\n",
              "      let percentDone = fileData.byteLength === 0 ?\n",
              "          100 :\n",
              "          Math.round((position / fileData.byteLength) * 100);\n",
              "      percent.textContent = `${percentDone}% done`;\n",
              "\n",
              "    } while (position < fileData.byteLength);\n",
              "  }\n",
              "\n",
              "  // All done.\n",
              "  yield {\n",
              "    response: {\n",
              "      action: 'complete',\n",
              "    }\n",
              "  };\n",
              "}\n",
              "\n",
              "scope.google = scope.google || {};\n",
              "scope.google.colab = scope.google.colab || {};\n",
              "scope.google.colab._files = {\n",
              "  _uploadFiles,\n",
              "  _uploadFilesContinue,\n",
              "};\n",
              "})(self);\n",
              "</script> "
            ]
          },
          "metadata": {}
        },
        {
          "output_type": "stream",
          "name": "stdout",
          "text": [
            "Saving 소나기002.pdf to 소나기002.pdf\n"
          ]
        }
      ]
    },
    {
      "cell_type": "code",
      "source": [
        "file_names = os.listdir('/content/upload_file')\n",
        "if '.ipynb_checkpoints' in file_names:\n",
        "    file_names.remove('.ipynb_checkpoints')\n",
        "file_names"
      ],
      "metadata": {
        "colab": {
          "base_uri": "https://localhost:8080/"
        },
        "id": "xiu-KwXkWdLb",
        "outputId": "2e676182-32b6-43de-edd4-de2f94431d6a"
      },
      "execution_count": 122,
      "outputs": [
        {
          "output_type": "execute_result",
          "data": {
            "text/plain": [
              "['소나기 - 황순원.pdf']"
            ]
          },
          "metadata": {},
          "execution_count": 122
        }
      ]
    },
    {
      "cell_type": "markdown",
      "source": [
        "### PDF 혹은 image 파일 ocr"
      ],
      "metadata": {
        "id": "0THYcA7gc6Sw"
      }
    },
    {
      "cell_type": "markdown",
      "source": [
        "##### 함수"
      ],
      "metadata": {
        "id": "6435FkF_wFoN"
      }
    },
    {
      "cell_type": "code",
      "source": [
        "def detect_paragraphs(image_path):\n",
        "    os.environ[\"GOOGLE_APPLICATION_CREDENTIALS\"] = r\"/content/drive/MyDrive/api-project-397750607032-5ddc025931cd.json\"\n",
        "    client = vision.ImageAnnotatorClient()\n",
        "    with open(image_path, 'rb') as image_file:\n",
        "        content = image_file.read()\n",
        "    image = vision.Image(content=content)\n",
        "    response = client.text_detection(image=image)\n",
        "    texts = response.text_annotations\n",
        "    pages = response.full_text_annotation.pages\n",
        "    text_result = texts[0].description\n",
        "\n",
        "    paragraphs = []\n",
        "    for page in pages:\n",
        "        for block in page.blocks:\n",
        "            for paragraph in block.paragraphs:\n",
        "                paragraph_text = ''\n",
        "                bounding_box_vertices = []\n",
        "                for word in paragraph.words:\n",
        "                    word_text = ''.join([symbol.text for symbol in word.symbols])\n",
        "                    paragraph_text += f'{word_text} '\n",
        "                    bounding_box_vertices.extend([vertex for vertex in word.bounding_box.vertices])\n",
        "                paragraphs.append((paragraph_text.strip(), bounding_box_vertices))\n",
        "    return text_result, paragraphs, len(paragraphs)\n",
        "\n",
        "# 문단 단락별 텍스트 가져오기\n",
        "def extract_specific_paragraph(image_path):\n",
        "    text_result, paragraphs, paragraphs_len = detect_paragraphs(image_path)\n",
        "    paragraph_texts = []\n",
        "    if paragraphs_len > 0:\n",
        "        for paragraph_index in range(paragraphs_len):\n",
        "            specific_paragraph_text, _ = paragraphs[paragraph_index]\n",
        "            paragraph_texts.append(specific_paragraph_text)\n",
        "    else:\n",
        "         paragraph_texts.append(\"Invalid paragraph index\")\n",
        "    return text_result, paragraph_texts\n",
        "\n",
        " # PDF 파일이라면 image로 변경(코렙 아니면 경로 수정 필수)\n",
        "def pdf_to_png(files):\n",
        "    path = f\"/content/upload_file/{files}\"\n",
        "    doc = fitz.open(path)\n",
        "    for i, page in enumerate(doc):\n",
        "        img = page.get_pixmap()\n",
        "        img.save(f\"/content/image_file/{i}.png\")"
      ],
      "metadata": {
        "colab": {
          "base_uri": "https://localhost:8080/"
        },
        "id": "-rZ5Rur5pRpI",
        "outputId": "61116087-3c70-4105-a425-b7063cf1cd3a"
      },
      "execution_count": 116,
      "outputs": [
        {
          "output_type": "stream",
          "name": "stdout",
          "text": [
            "1001 혈의 누 - 이인직\n",
            "일정 전쟁(戰爭)의 총소리는 평양 일경이 떠나가는 듯하더니, 그 총소리가 그치며 사람의 자취\n",
            "는 끊어지고 산과 들에 비린 티끌뿐이라.\n",
            "평양성 외(外) 모란봉에 떨어지는 저녁 별은 뉘엿뉘엿 넘어가는데, 저 햇빛을 붙들어매고 싶은 마\n",
            "음에 붙들어매지는 못하고 숨이 턱에 닿은 듯이 갈팡질팡하는 한 부인이 나이 삼심이 될락말락하고,\n",
            "얼굴은 분을 따고 넣은 듯이 흰 얼굴이나 인정 없이 뜨겁게 내리쪼이는 가을 볕에 얼굴이 익어서 선\n",
            "행듯빛이 되고, 걸음걸이는 허둥지둥하는데 옷은 흘러내려서 젖가슴이 다 드러나고 치맛자락은 땅에\n",
            "점점 끌려서 걸음을 걷는 대로 치마가 밟히니 그 부인은 아무리 급한 걸음걸이를 하더라도 멀리 가\n",
            "지도 못하고 허둥거리기만 한다.\n",
            "남이 그 모양을 볼 지경이면 저렇게 어여쁜 젊은 여편네가 술 먹고 한길에 나와서 주정한다 할 터\n",
            "이나, 그 부인은 술 먹었다 하는 말은 고사하고 미쳤다. 지랄한다 하더라도 그따위 소리는 귀에 들리\n",
            "지 아니할 만하더라.\n",
            "무슨 소희가 그리 대단한지 그 부인더러 불을 지경이면 대답할 여가도 없이 옥련이를 부르면서 동\n",
            "아다니더라\n",
            "\"옥련아 우아, 옥련아 옥련아 죽었느냐 살았느냐 죽었거든 죽은 얼굴이라도 한번 다시 만나 보\n",
            "자, 옥련아 옥련아, 살았거든 어미 애를 그만 쓰이고 어서 바삐 내 눈에 보이게 하여라. 옥련아, 총\n",
            "에 맞아 죽었느냐, 창에 찔려 죽었느냐, 사람에게 밟혀 죽었느냐. 어리고 고운 살에 가시가 박힌 것\n",
            "을 보아도 어미 된 이내 마음에 내 살이 지겹게 아프던 내 마음이라. 오늘 아침에 집에서 떠나올\n",
            "때에 옥련이가 내 앞에 서서 아장아장 걸어다니면서, '어머니 어서 갑시다.' 하던 옥련이가 어디로\n",
            "갔느냐.\"\n",
            "하면서 옥련이를 찾으려고 골몰한 정신에, 옥련이보다 열 감점 스무 감점 더 소중하게 생각하는 사람\n",
            "을 잃고도 모르고 옥련이만 부르며 다니다가 목이 쉬고 기운이 탈진하여 산비탈 잔디 풀 위에 털썩\n",
            "주저앉았다가 혼잣말로 옥련 아버지는 옥련이 찾으려고 저 건너 산 밑으로 가더니, '어디까지 갔누?\n",
            "하며 옥련이를 찾던 마음이 홀지에 변하여 옥련 아버지를 기다린다.\n",
            "기다리는 사람은 아니 오고, 인간 사정은 조금도 모르는 석양은 제 빛 다 가지고 저 갈 데로 가니\n",
            "산빛은 점점 먹장을 갈아 붓는 듯이 검어지고 대동강 물소리는 그윽한데, 전쟁에 죽은 더운 송장 새\n",
            "귀신들이 어두운 빛을 타서 낱낱이 일어나는 듯 내 앞에 모여드는 듯하니, 규중에서 생장한 부인의\n",
            "마음이라 무서운 마음에 간이 녹는 듯하여 숨도 크게 쉬지 못하고 앉았는데, 홀연히 언덕 밑에서 사\n",
            "람의 소리가 들리거늘 그 부인이 가만히 들은즉 길 잃고 사람 잃고 애쓰는 소리라\n",
            "\"에그, 깜깜하여라. 이리 가도 길이 없고 저리 가도 길이 없으니 어디로 가면 길을 찾을까. 나는 사\n",
            "나이라 다리 힘도 좋고 겁도 없는 사람이언마는 이러한 산비탈에서 이 밤을 새고 사람을 찾아다니\n",
            "려 하면 이 고생이 이렇게 대단하거든, 겁도 많고 다녀 보지 못하던 여편네가 이 밤에 나를 찾아\n",
            "다니느라고 오죽 고생이 될까.\"\n",
            "하는 소리를 듣고 부인의 마음에 난리 중에 피란 가다가 부부가 서로 잃고 서로 종적을 모르니 살아\n",
            "생이별을 한 듯하더니, 하늘이 도와서 다시 만나 본다 하여 반가운 마음에 소리를 질렀더라.\n",
            "\"여보, 나 여기 있소 날 찾아다니느라고 얼마나 애를 쓰셨소.\"\n",
            "하면서 급한 걸음으로 언덕 밑으로 향하여 내려가다가 비탈에 넘어져 구르니, 언덕 밑에서 올라오던\n",
            "용도 국어 전문과외 블로그blog.naver.com/kkongsstore / 010. 9700. 8321\n",
            "['1001 혈 의 누 - 이인직', '일정 전쟁 ( 戰爭 ) 의 총소리 는 평양 일경 이 떠나가 는 듯 하더니 , 그 총소리 가 그치며 사람 의 자취 는 끊어 지고 산과 들 에 비린 티끌 뿐 이라 .', '평양성 외 ( 外 ) 모란봉 에 떨어지는 저녁 별 은 뉘엿 뉘엿 넘어가 는데 , 저 햇빛 을 붙들어 매고 싶은 마 음 에 붙들어 매지 는 못하고 숨 이 턱 에 닿은 듯이 갈팡질팡 하는 한 부인 이 나이 삼심 이 될락 말락 하고 , 얼굴 은 분 을 따고 넣은 듯이 흰 얼굴 이나 인정 없이 뜨겁게 내리 쪼이 는 가을 볕 에 얼굴 이 익어 서 선 행 듯빛 이 되고 , 걸음 걸이 는 허둥지둥 하는데 옷 은 흘러 내려서 젖가슴 이 다 드러나고 치맛 자락 은 땅 에 점점 끌려서 걸음 을 걷는 대로 치마 가 밟 히니 그 부인 은 아무리 급한 걸음 걸이 를 하더라도 멀리 가 지도 못하고 허둥 거리기 만 한다 .', '남이 그 모양 을 볼 지경 이면 저렇게 어여쁜 젊은 여편네 가 술 먹고 한길 에 나와서 주정 한다 할 터 이나 , 그 부인 은 술 먹었다 하는 말 은 고사하고 미쳤다 . 지랄 한다 하더라도 그따위 소리 는 귀에 들리 지 아니할 만하 더라 .', '무슨 소희 가 그리 대단한지 그 부인 더러 불 을 지경 이면 대답 할 여가 도 없이 옥련 이 를 부르 면서 동 아 다니 더라', '\" 옥련 아 우아 , 옥련 아 옥련 아 죽었 느냐 살았 느냐 죽었 거든 죽은 얼굴 이라도 한번 다시 만나 보 자 , 옥련 아 옥련 아 , 살았 거든 어미 애 를 그만 쓰이고 어서 바삐 내 눈 에 보이게 하여라 . 옥련 아 , 총 에 맞아 죽었 느냐 , 창 에 찔려 죽었 느냐 , 사람 에게 밟혀 죽었 느냐 . 어리고 고운 살 에 가시 가 박힌 것 을 보아도 어미 된 이내 마음 에 내 살이 지겹게 아프던 내 마음 이라 . 오늘 아침 에 집 에서 떠나 올 때에 옥련 이 가 내 앞에 서서 아장 아장 걸어 다니면서 , \\' 어머니 어서 갑시다 . \\' 하던 옥련 이 가 어디로 갔 느냐 . \"', \"하면서 옥련 이 를 찾으려고 골몰 한 정신 에 , 옥련 이보다 열 감점 스무 감점 더 소중하게 생각 하는 사람 을 잃고 도 모르고 옥련 이 만 부르며 다니다 가 목이 쉬고 기운 이 탈진 하여 산비탈 잔디 풀 위에 털썩 주저 앉았다 가 혼잣말 로 옥련 아버지 는 옥련 이 찾으려고 저 건너 산 밑 으로 가 더니 , ' 어디 까지 갔누 ? 하며 옥련 이 를 찾던 마음 이 홀지 에 변하여 옥련 아버지 를 기다린다 .\", '기다리는 사람 은 아니 오고 , 인간 사정 은 조금도 모르는 석양 은 제 빛 다 가지고 저 갈 데로 가니 산빛 은 점점 먹장 을 갈아 붓는 듯이 검어 지고 대동강 물소리 는 그윽한 데 , 전쟁 에 죽은 더운 송장 새 귀신 들이 어두운 빛 을 타서 낱낱이 일어나는 듯 내 앞에 모여 드는 듯 하니 , 규 중에서 생장 한 부인 의 마음 이라 무서운 마음 에 간이 녹는 듯 하여 숨 도 크게 쉬지 못하고 앉았 는데 , 홀연히 언덕 밑에서 사 람 의 소리 가 들리 거늘 그 부인 이 가만히 들은 즉 길 잃고 사람 잃고 애쓰는 소리 라', '\" 에그 , 깜깜 하여라 . 이리 가도 길이 없고 저리 가도 길이 없으니 어디로 가면 길 을 찾을 까 . 나는 사 나 이라 다리 힘 도 좋고 겁 도 없는 사람 이 언마는 이러한 산비탈 에서 이 밤 을 새고 사람 을 찾아 다니 려 하면 이 고생 이 이렇게 대단하 거든 , 겁 도 많고 다녀 보지 못하던 여편네 가 이 밤 에 나를 찾아 다니느 라고 오죽 고생 이 될까 . \"', '하는 소리 를 듣고 부인 의 마음 에 난리 중에 피란 가다가 부부 가 서로 잃고 서로 종적 을 모르니 살아 생이별 을 한 듯 하더니 , 하늘 이 도와서 다시 만나 본다 하여 반가운 마음 에 소리 를 질렀 더라 .', '\" 여보 , 나 여기 있소 날 찾아 다니느 라고 얼마나 애 를 쓰셨 소 . \"', '하면서 급한 걸음 으로 언덕 밑 으로 향하여 내려 가다가 비탈 에 넘어져 구르 니 , 언덕 밑에서 올라 오던', '용도 국어 전문 과외 블로그 blog.naver.com/kkongsstore / 010. 9700. 8321']\n"
          ]
        }
      ]
    },
    {
      "cell_type": "markdown",
      "source": [
        "##### 실제 데이터 사용"
      ],
      "metadata": {
        "id": "f24Z3BPawMoq"
      }
    },
    {
      "cell_type": "code",
      "source": [
        "text_fully, paragraph_full_text = [], []\n",
        "for file_paths in file_names:\n",
        "    if file_paths[-4:] == '.pdf':\n",
        "        pdf_to_png(file_paths)\n",
        "        # png 파일 리스트 불러오기\n",
        "        image_files = sorted(os.listdir(\"/content/image_file\"))\n",
        "        #파일 리스트에서 이미지를 불러옵니다.\n",
        "        for images in image_files:\n",
        "            image_path = f\"/content/image_file/{images}\"\n",
        "            full_text, specific_paragraph_text = extract_specific_paragraph(image_path)\n",
        "            text_fully.append(full_text)\n",
        "            paragraph_full_text.append(specific_paragraph_text)\n",
        "    else:\n",
        "        file_path = f\"/content/upload_file/{files}\"\n",
        "        full_text, specific_paragraph_text = extract_specific_paragraph(image_path)\n",
        "        text_fully.append(full_text)\n",
        "        paragraph_full_text.append(specific_paragraph_text)"
      ],
      "metadata": {
        "id": "r7h7Ea7zpbp_"
      },
      "execution_count": 136,
      "outputs": []
    },
    {
      "cell_type": "code",
      "source": [
        "# 전문 ocr 결과 리스트\n",
        "print(len(text_fully), text_fully)\n",
        "\n",
        "# 단락별 ocr 결과 리스트\n",
        "print(len(paragraph_full_text),paragraph_full_text)\n",
        "# 전문 중 1p 의 단락 개수\n",
        "print(len(paragraph_full_text[0]))"
      ],
      "metadata": {
        "colab": {
          "base_uri": "https://localhost:8080/"
        },
        "id": "pcGVQoO4y9xy",
        "outputId": "8ea0d92d-02a4-47ea-dfad-d8340d1d973c"
      },
      "execution_count": 142,
      "outputs": [
        {
          "output_type": "stream",
          "name": "stdout",
          "text": [
            "7 ['소나기\\n황순원\\n소년은 개울가에서 소녀를 보자 곧 윤 초시네 증손녀(女)딸이라는 걸 알 수 있었다.\\n소녀는 개울에다 손을 잠그고 물장난을 하고 있는 것이다. 서울서는 이런 개울물을 보지\\n못하기나 한 듯이.\\n벌써 며칠째 소녀는 학교에서 돌아오는 길에 물장난이었다. 그런데, 어제까지 개울 기슭에\\n서 하더니, 오늘은 징검다리 한가운데 앉아서 하고 있다.\\n소년은 개울둑에 앉아 버렸다. 소녀가 비키기를 기다리자는 것이다.\\n요행 지나가는 사람이 있어, 소녀가 길을 비켜 주었다.\\n다음 날은 좀 늦게 개울가로 나왔다.\\n이 날은 소녀가 징검다리 한가운데 앉아 세수를 하고 있었다. 분홍 스웨터 소매를 걷어올\\n린 목덜미가 마냥 희었다.\\n한참 세수를 하고 나더니, 이번에는 물 속을 빤히 들여다 본다. 얼굴이라도 비추어 보는\\n것이리라. 갑자기 물을 움켜 낸다. 고기 새끼라도 지나가는 듯.\\n소녀는 소년이 개울둑에 앉아 있는 걸 아는지 모르는지 그냥 날쌔게 물만 움켜 낸다. 그러\\n나, 번번이 허탕이다. 그대로 재미있는 양, 자꾸 물만 움킨다. 어제처럼 개울을 건너는 사\\n람이 있어야 길을 비킬 모양이다.\\n그러다가 소녀가 물 속에서 무엇을 하나 집어 낸다. 하얀 조약돌이었다. 그리고는 벌떡 일\\n어나 팔짝팔짝 징검다리를 뛰어 건너간다.\\n다 건너가더니만 홱 이리로 돌아서며,\\n\"이 바보.\"\\n조약돌이 날아왔다.\\n소년은 저도 모르게 벌떡 일어섰다.\\n단발 머리를 나풀거리며 소녀가 막 달린다. 갈밭 사잇길로 들어섰다. 뒤에는 청량한 가을\\n햇살 아래 빛나는 갈꽃뿐.\\n이제 저쯤 갈밭머리로 소녀가 나타나리라. 왜 오랜 시간이 지났다고 생각됐다. 그런데도\\n소녀는 나타나지 않는다. 발돋움을 했다. 그러고도 상당한 시간이 지났다고 생각됐다.\\n저 쪽 갈밭머리에 갈꽃이 한 옹큼 움직였다. 소녀가 갈꽃을 안고 있었다. 그리고, 이제는\\n천천한 걸음이었다. 유난히 맑은 가을 햇살이 소녀의 갈꽃머리에서 반짝거렸다. 소녀 아닌\\n갈꽃이 들길을 걸어가는 것만 같았다.\\n소년은 이 갈꽃이 아주 뵈지 않게 되기까지 그대로 서 있었다. 문득, 소녀가 던지 조약돌\\n을 내려다보았다. 물기가 갇혀 있었다. 소년은 조약돌을 집어 주머니에 넣었다.\\n다음 날부터 좀더 늦게 개울가로 나왔다. 소녀의 그림자가 뵈지 않았다. 다행이었다.\\n그러나 이상한 일이었다. 소녀의 그림자가 뵈지 않는 날이 계속될수록 소년의 가슴 한 구\\n석에는 어딘가 허전함이 자리 잡는 것이었다. 주머니 속 조약돌을 주무르는 버릇이 생겼\\n다.\\n그러한 어떤 날, 소년은 전에 소녀가 앉아 물장난을 하던 징검다리 한가운데에 앉아 보았\\n다. 물 속에 손을 잠갔다. 세수를 하였다. 물 속을 들여다보았다. 검게 탄 얼굴이 그대로\\n비치었다. 싫었다.\\n- 1 -', '소년은 두 손으로 물 속의 얼굴을 움키였다. 몇 번이고 움키였다. 그러다가 깜짝 놀라 일\\n어나고 말았다. 소녀가 이리로 건너오고 있지 않느냐.\\n\\'숨어서 내가 하는 일을 엿보고 있었구나.\\' 소년은 달리기를 시작했다. 디딤돌을 헛디뎠다.\\n한 발이 물 속에 빠졌다. 더 달렸다.\\n몸을 가릴 데가 있어 줬으면 좋겠다. 이 쪽 길에는 갈밭도 없다. 메밀밭이다. 전에 없이 메\\n밀꽃 냄새가 짜릿하게 코를 찌른다고 생각됐다. 미간이 아찔했다. 찝찔한 액체가 입술에\\n흘러들었다. 코피였다.\\n소년은 한 손으로 코피를 훔쳐내면서 그냥 달렸다. 어디선가 \\'바보 바보\\' 하는 소리가 자\\n꾸만 뒤따라오는 것 같았다.\\n토요일이었다.\\n개울가에 이르니, 며칠째 보이지 않던 소녀가 건너편 가에 앉아 물장난을 하고 있었다. 모\\n르는 체 징검다리를 건너기 시작했다. 얼마 전에 소녀 앞에서 한 번 실수를 했을 뿐, 여태\\n큰길 가듯이 건너던 징검다리를 오늘은 조심스럽게 건넌다.\\n“얘.\"\\n못 들은 체했다. 둑 위로 올라섰다.\\n\"얘, 이게 무슨 조개지?\"\\n자기도 모르게 돌아섰다. 소녀의 맑고 검은 눈과 마주쳤다. 얼른 소녀의 손바닥으로 눈을\\n떨구었다.\\n\"비단조개.\"\\n\"이름도 참 곱다.\"\\n갈림길에 왔다. 여기서 소녀는 아래편으로 한 삼 마장쯤, 소년은 우대로 한 십 리 가까운\\n길을 가야 한다.\\n소녀가 걸음을 멈추며,\\n\"너. 저 산 너머에 가 본 일 있니?\"\\n벌 끝을 가리켰다.\\n“없다.”\\n\"우리 가 보지 않으련? 시골 오니까 혼자서 심심해 못 견디겠다.\"\\n\"저래 봬도 멀다.\"\\n\"멀면 얼마나 멀기에? 서울 있을 땐 사뭇 먼 데까지 소풍 갔었다.\"\\n소녀의 눈이 금새 \\'바보바보할 것만 같았다.\\n는 사잇길로 들어섰다. 벼 가을걷이하는 곁을 지났다.\\n허수아비가 서 있었다. 소년이 새끼줄을 흔들었다. 참새가 몇 마리 날아간다. \\'참, 오늘은\\n일찍 집으로 돌아가 텃논의 참새를 봐야 할걸.\\' 하는 생각이 든다.\\n\"야. 재밌다!\"\\n소녀가 허수아비 줄을 잡더니 흔들어 댄다. 허수아비가 자꾸 우쭐거리며 춤을 춘다. 소녀\\n의 왼쪽 볼에 살포시 보조개가 패었다.\\n저만큼 허수아비가 또 서 있다. 소녀가 그리로 달려간다. 그 뒤를 소년도 달렸다. 오늘 같\\n은 날은 일찍 집으로 돌아가 집안일을 도와야 한다는 생각을 잊어버리기라도 하려는 듯이.\\n소녀의 곁을 스쳐 그냥 달린다. 메뚜기가 따끔따끔 얼굴에 와 부딪친다. 쪽빛으로 한껏 갠 가을\\n하늘이 소년의 눈앞에서 맴을 돈다. 어지럽다. 저놈의 독수리, 저놈의 독수리, 저놈의 독수리가\\n맴을 돌고 있기 때문이다.\\n- 2-', '돌아다보니, 소녀는 지금 자기가 지나쳐 온 허수아비를 흔들고 있다. 좀 전 허수아비보다\\n더 우쭐거린다.\\n논이 끝난 곳에 도랑이 하나 있었다. 소녀가 먼저 뛰어 건넜다.\\n거기서부터 산 밑까지는 밭이었다.\\n수숫단을 세워 놓은 밭머리를 지났다.\\n\"저게 뭐니?\"\\n\"원두막.\"\\n\"여기 참외, 맛있니?\"\\n\"그럼, 참외 맛도 좋지만 수박 맛은 더 좋다.\"\\n\"하나 먹어 봤으면.\"\\n소년이 참외 그루에 심은 무우밭으로 들어가, 무우 두 밑을 뽑아 왔다. 아직 밑이 덜 들어\\n있었다. 잎을 비틀어 팽개친 후, 소녀에게 한개 건넨다. 그리고는 이렇게 먹어야 한다는 듯\\n이, 먼저 대강이를 한 입 베물어 낸 다음, 손톱으로 한 돌이 껍질을 벗겨 우쩍 깨문다.\\n소녀도 따라 했다. 그러나, 세 입도 못 먹고,\\n\"아, 맵고 지리.\"\\n하며 집어던지고 만다.\\n“참, 맛 없어 못 먹겠다.\"\\n소년이 더 멀리 팽개쳐 버렸다.\\n산이 가까워졌다.\\n단풍이 눈에 따가웠다.\\n\"야아!\"\\n소녀가 산을 향해 달려갔다. 이번은 소년이 뒤따라 달리지 않았다. 그러고도 곧 소녀보다\\n더 많은 꽃을 꺾었다.\\n\"이게 들국화, 이게 싸리꽃. 이게 도라지꽃 ・・・・・….\\n\"도라지꽃이 이렇게 예쁜 줄은 몰랐네. 난 보랏빛이 좋아!・・・・・・ 그런데 이 양산 같이 생긴\\n노란 꽃이 뭐지?\"\\n“마타리꽃.\"\\n소녀는 마타리꽃을 양산 받듯이 해 보인다. 약간 상기된 얼굴에 살포시 보조개를 떠올리\\n며.\\n다시 소년은 꽃 한 옹큼을 꺾어 왔다. 싱싱한 꽃가지만 골라 소녀에게 건넨다.\\n그러나 소녀는\\n\"하나도 버리지 마라.\"\\n산마루께로 올라갔다.\\n맞은편 골짜기에 오순도순 초가집이 몇 모여 있었다.\\n누가 말할 것도 아닌데, 바위에 나란히 걸터앉았다. 유달리 주위가 조용해진 것 같았다. 따\\n가운 가을 햇살만이 말라가는 풀 냄새를 퍼뜨리고 있었다.\\n“저건 또 무슨 꽃이지?\"\\n적잖이 비탈진 곳에 칡덩굴이 엉키어 꽃을 달고 있었다.\\n“꼭 등꽃 같네. 서울 우리 학교에 큰 등나무가 있었단다. 저 꽃을 보니까 등나무 밑에서\\n놀던 동무들 생각이 난다.\"\\n소녀가 조용히 일어나 비탈진 곳으로 간다. 꽃송이가 많이 달린 줄기를 잡고 끊기 시작한\\n- 3-', '다. 좀처럼 끊어지지 않는다. 안간힘을 쓰다가 그만 미끄러지고 만다. 칡덩굴을 그러쥐었\\n다.\\n소년이 놀라 달려갔다. 소녀가 손을 내밀었다. 손을 잡아 이끌어 올리며, 소년은 제가 꺾어\\n다 줄 것을 잘못했다고 뉘우친다. 소녀의 오른쪽 무릎에 핏방울이 내맺혔다. 소년은 저도\\n모르게 생채기에 입술을 가져다 대고 딸기 시작했다. 그러다가 무슨 생각을 했는지 홱 일\\n어나 저 쪽으로 달려간다.\\n좀 만에 숨이 차 돌아온 소년은\\n\"이걸 바르면 낫는다.\"\\n송진을 생채기에다 문질러 바르고는 그 달음으로 칡덩굴 있는 데로 내려가, 꽃 많이 달린\\n몇 줄기를 이빨로 끊어 가지고 올라온다. 그리고는.\\n\"저기 송아지가 있다. 그리 가 보자.\"\\n누렁송아지였다. 아직 코뚜레도 꿰지 않았다.\\n소년이 고삐를 바투 잡아 쥐고 등을 긁어 주는 제 훌쩍 올라탔다. 송아지가 껑충거리며 돌\\n아간다.\\n소녀의 흰 얼굴이 분홍 스웨터가 남색 스커트가 안고 있는 꽃과 함께 범벅이 된다. 모두\\n가 하나의 큰 꽃묶음 같다. 어지럽다. 그러나, 내리지 않으리라. 자랑스러웠다. 이것만은\\n소녀가 흉내 내지 못할 자기 혼자만이 할 수 있는 일인 것이다.\\n“너희, 예서 뭣들 하느냐?\"\\n농부(夫)하나가 억새풀 사이로 올라왔다.\\n송아지 등에서 뛰어내렸다. 어린 송아지를 타서 허리가 상하면 어쩌느냐고 꾸지람을 들을\\n것만 같다.\\n그런데, 나룻이 긴 농부는 소녀 편을 한 번 훑어보고는 그저 송아지 고삐를 풀어 내면서.\\n\"어서 집으로 가거라. 소나기가 올라.\"\\n참, 먹장구름 한 장이 머리 위에 와 있다. 갑자기 사면이 소란스러워진 것 같다. 바람이 우\\n수수 소리를 내며 지나간다. 삽시간에 주위가 보랏빛으로 변했다.\\n산을 내려오는데, 떡갈나무 잎에서 빗방울 듣는 소리가 난다. 굵은 빗방울이었다. 목덜미가\\n선뜻선뜻했다. 그러자 대번에 눈앞을 가로막는 빗줄기.\\n비안개 속에 원두막이 보였다. 그리로 가 비를 그을 수밖에.\\n그러나, 원두막은 기둥이 기울고 지붕도 갈래갈래 찢어져 있었다. 그런 대로 비가 덜 새는\\n곳을 가려 소녀를 들어서게 했다.\\n소녀의 입술이 파아랗게 질렀다. 어깨를 자꾸 떨었다.\\n무명 겹저고리를 벗어 소녀의 어깨를 싸 주었다. 소녀는 비에 젖은 눈을 들어 한 번 쳐다\\n보았을 뿐. 소년이 하는 대로 잠자코 있었다. 그리고는 안고 온 꽃묶음 속에서 가지가 꺾\\n이고 꽃이 일그러진 송이를 골라 발 밑에 버린다. 소녀가 들어선 곳도 비가 새기 시작했\\n다. 더 거기서 비를 그을 수 없었다.\\n밖을 내다보던 소년이 무엇을 생각했는지 수수밭 쪽으로 달려간다. 세워 놓은 수숫단 속을\\n비집어 보더니, 옆의 수숫단을 날라다 덧세운다. 다시 속을 비집어 본다. 그리고는 이쪽을\\n향해 손짓을 한다.\\n수숫단 속은 비는 안 새었다. 그저 어둡고 좁은 게 안 됐다. 앞에 나앉은 소년은 그냥 비\\n를 맞아야만 했다. 그런 소년의 어깨에서 김이 올랐다.\\n소녀가 속삭이듯이, 이리 들어와 앉으라고 했다. 괜찮다고 했다. 소녀가 다시 들어와 앉으\\n-4-', '라고 했다. 할 수 없이 뒷걸음질을 쳤다. 그 바람에, 소녀가 안고 있는 꽃묶음이 망그러졌\\n다. 그러나, 소녀는 상관없다고 생각했다. 비에 젖은 소년의 몸 내음새가 확 코에 끼얹혀졌\\n다. 그러나, 고개를 돌리지 않았다. 도리어 소년의 봄기운으로 해서 떨리던 몸이 적이 누그\\n러지는 느낌이었다.\\n소란하던 수숫잎 소리가 뚝 그쳤다. 밖이 멀개졌다.\\n수숫단 속을 벗어 나왔다. 멀지 않은 앞쪽에 햇빛이 눈부시게 내리붓고 있었다. 도랑 있는\\n곳까지 와 보니, 엄청나게 물이 불어 있었다. 빛마저 제법 붉은 흙탕물이었다. 뛰어 건널\\n수가 없었다.\\n소년이 등을 돌려 댔다. 소녀가 순순히 히었다. 걷어올린 소년의 잠방이까지 물이 올라\\n왔다. 소녀는 \\'어머나\\' 소리를 지르며 소년의 목을 끌어안았다.\\n개울가에 다다르기 전에, 가을 하늘이 언제 그랬는가 싶게 구름 한 점 없이 쪽빛으로 개어\\n있었다.\\n그 뒤로 소녀의 모습은 뵈지 않았다. 매일같이 개울가로 달려와 봐도 뵈지 않았다.\\n학교에서 쉬는 시간에 운동장을 살펴기도 했다. 남 몰래 5학년 여자 반을 엿보기도 했다.\\n그러나 뵈지 않았다.\\n그날도 소년은 주머니 속 흰 조막돌만 만지작거리며 개울가로 나왔다. 그랬더니, 이 쪽 개\\n울둑에 소녀가 앉아 있는 게 아닌가.\\n소년은 가슴부터 두근거렸다.\\n“그 동안 앓았다.\"\\n어쩐지 소녀의 얼굴이 해쓱해져 있었다.\\n\"그 날, 소나기 맞은 탓 아냐?\"\\n소녀가 가만히 고개를 끄덕이었다.\\n\"인제 다 났냐?\"\\n\"아직도……….…..\\n\"그럼 누워 있어야지.\"\\n“하도 갑갑해서 나왔다. 참, 그 날 재밌었어・・・・・・・ 그런데 그 날 어디서 이런 물이 들었\\n는지 잘 지지 않는다.\"\\n소녀가 분홍 스웨터 앞자락을 내려다본다. 거기에 검붉은 진흙물 같은 게 들어 있었다.\\n소녀가 가만히 보조개를 떠올리며,\\n\"그래 이게 무슨 물 같니?\"\\n소년은 스웨터 앞자락만 바라보고 있었다.\\n“내 생각해 냈다. 그 날, 도랑을 건너면서 내가 얽힌 일이 있지? 그 때, 네 등에서 옳은\\n물이다.\\n소년은 얼굴이 확 달아오름을 느꼈다.\\n갈림길에서 소녀는\\n“저, 오늘 아침에 우리 집에서 대추를 땄다. 낼 제사 지내려고 ・・・・・….\"\\n대추 한 줌을 내준다. 소년은 주춤한다.\\n\"맛봐라. 우리 증조(曾祖)할아버지가 심었다는데, 아주 달다.\"\\n소년은 두 손을 오그려 내밀며,\\n“참, 알도 굵다!\"\\n\"그리고 저 우리 이번에 제사 지내고 나서 좀 있다. 집을 내주게 됐다.\"\\n- 5-', '소년은 소녀네가 이사해 오기 전에 벌써 어른들의 이야기를 들어서, 윤 시 손자가\\n서울서 사업에 실패해 가지고 고향에 돌아오지 않을 수 없게 되었다는 걸 알고 있었다. 그\\n것이 이번에는 고향 집마저 남의 손에 넘기게 된 모양이었다.\\n\"왜 그런지 난 이사 가는 게 싫어졌다. 어른들이 하는 일이니 어쩔 수 없지만………….\"\\n전에 없이, 소녀의 까만 눈에 쓸쓸한 빛이 떠돌았다.\\n소녀와 헤어져 돌아오는 길에, 소년은 혼잣속으로, 소녀가 이사를 간다는 말을 수없이 되\\n뇌어 보았다. 무어 그리 안타까울 것도 서러울 것도 없었다. 그렇건만, 소년은 지금 자기가\\n씹고 있는 대추말의 단맛을 모르고 있었다.\\n이 날 밤, 소년은 몰래 덕쇠 할아버지네 호두밭으로 갔다.\\n낮에 봐 두었던 나무로 올라갔다. 그리고, 봐 두었던 가지를 향해 작대기를 내리쳤다. 호두\\n송이 떨어지는 소리가 벌나게 크게 들렸다. 가슴이 선뜩했다. 그러나 다음 순간, 굵은 호두\\n야 많이 떨어져라. 많이 떨어져라. 저도 모를 힘에 이끌려 마구 작대기를 내리 치는 것이\\n었다.\\n돌아오는 길에는 열 이틀 달이 지우는 그늘만 골라 디몄다. 그늘의 고마움을 처음 느꼈다.\\n불룩한 주머니를 어루만졌다. 호두송이를 맨손으로 갔다가는 몸이 오르기 쉽다는 말 같은 건 아\\n무렇지도 않았다. 그저 근동에서 제일 가는 이 덕쇠 할아버지네 호두를 어서 소녀에게 맛보여야\\n한다는 생각만이 앞섰다.\\n그러다. 아차 하는 생각이 들었다. 소녀더러 병이 좀 낫거들랑 이사 가기 전에 한 번 개울\\n가로 나와 달라는 말을 못해 둔 것이었다. 바보 같은것. 바보 같은것.\\n이튿날, 소년이 학교에서 돌아오니, 아버지가 나들이옷으로 갈아입고 닭 한 마리를 안고\\n있었다.\\n어디 가시느냐고 물었다.\\n그 말에도 대꾸도 없이, 아버지는 안고 있는 닭의 무게를 겨냥해 보면서.\\n\"이만하면 될까?\"\\n어머니가 망태기를 내주며,\\n\"벌써 며칠째 \\'걀걀\\'하고 알 날 자리를 보던데요. 크진 않아도살은 쪘을 거여요.\"\\n소년이 이번에는 어머니한테 아버지가 어디 가시느냐고 물어 보았다.\\n“저, 서당골 윤 초시 댁에 가신다. 제삿상에라도 놓으시라고…………”\\n\"그럼. 큰 놈으로 하나 가져가지. 저 얼룩수탉으로.……….\"\\n이 말에 아버지는 허허 웃고 나서.\\n\"임마. 그래도 이게 실속이 있다.\"\\n소년은 공연히 적어 책보를 집어던지고는 외양간으로가 쇠잔등을 한 번 철썩 갈겼다.\\n쇠파리라도 잡는 체\\n개울물은 날로 여물어 갔다.\\n소년은 갈림길에서 아래쪽으로 가 보았다. 갈밭머리에서 바라보는 서당골 마을은 쪽빛 하\\n늘 아래 한결 가까워 보였다.\\n어른들의 말이, 내일 소녀네가 양평읍으로 이사 간다는 것이었다. 거기 가서는 조그마한\\n가겟방을 보게 되리라는 것이었다.\\n소년은 저도 모르게 주머니 속 호두알을 만지작거리며 한 손으로는 수없이 갈꽃을 휘어\\n꺾고 있었다.\\n그날 밤, 소년은 자리에 누워서도 같은 생각뿐이었다. 내일 소녀네가 이사하는 걸 가 보\\n- 6-', '나 어쩌나. 가면 소녀를 보게 될까 어떨까.\\n그러다가 까무룩 잠이 들었는가 하는데.\\n\"허, 참 세상일도.………….\\n마을 갔던 아버지가 언제 돌아왔는지.\\n“윤 초시 택도 말이 아니야. 그 많던 전답을 다 팔아 버리고, 대대로 살아오던 집마저 남\\n의 손에 넘기더니, 또 막상까지 당하는걸 보면……….\\n남폿불 밑에서 바느질감을 안고 있던 어머니가.\\n\"증손(曾孫)이라곤 계집애 그 애 하나뿐이었지요?\"\\n\"그렇지, 사내 애 둘 있던 건 어려서 잃어버리고………..\\n\"어쩌면 그렇게 자식복이 없을까.\"\\n\"글쎄 말이지. 이번 앤 왜 여러 날 앓는 걸 약도 변변히 못써 봤다더군. 지금 같아서 윤\\n초시네도 대가 끊긴 셈이지.…그런데, 이번 계집앱 어린 것이 여간 잔망스럽지가 않아.\\n글쎄, 죽기전에 이런 말을 했다지 않아? 자기가 죽거든 자기 입던 옷을 꼭그대로 입혀서\\n묻어 달라고・・・・・...\\n-7-']\n",
            "7 [['소나기', '황순원', '소년 은 개울가 에서 소녀 를 보자 곧 윤 초 시네 증손녀 ( 女 ) 딸 이라는 걸 알 수 있었다 . 소녀 는 개울 에다 손 을 잠그고 물장난 을 하고 있는 것이다 . 서울 서는 이런 개울물 을 보지 못하 기나 한 듯이 .', '벌써 며칠 째 소녀 는 학교 에서 돌아 오는 길 에 물장난 이었다 . 그런데 , 어제 까지 개울 기슭 에 서 하더니 , 오늘 은 징검 다리 한가운데 앉아서 하고 있다 .', '소년 은 개울 둑 에 앉아 버렸다 . 소녀 가 비키 기를 기다리 자는 것이다 .', '요행 지나가는 사람 이 있어 , 소녀 가 길 을 비켜 주었다 .', '다음 날 은 좀 늦게 개울가 로 나왔다 .', '이 날 은 소녀 가 징검 다리 한가운데 앉아 세수 를 하고 있었다 . 분홍 스웨터 소매 를 걷어 올 린 목덜미 가 마냥 희 었다 .', '한참 세수 를 하고 나더니 , 이번에 는 물 속 을 빤히 들여다 본다 . 얼굴 이라도 비추어 보는 것이 리라 . 갑자기 물 을 움켜 낸다 . 고기 새끼 라도 지나가는 듯 .', '소녀 는 소년 이 개울 둑 에 앉아 있는 걸 아는지 모르는지 그냥 날쌔게 물만 움켜 낸다 . 그러 나 , 번번이 허탕 이다 . 그대로 재미있는 양 , 자꾸 물만 움 킨다 . 어제 처럼 개울 을 건너는 사 람 이 있어야 길 을 비킬 모양 이다 .', '그러다가 소녀 가 물 속 에서 무엇 을 하나 집어 낸다 . 하얀 조약돌 이었다 . 그리고 는 벌떡 일 어나 팔짝 팔짝 징검 다리 를 뛰어 건너 간다 .', '다 건너 가 더니만 홱 이리로 돌아서 며 ,', '\" 이 바보 . \"', '조약돌 이 날아 왔다 .', '소년 은 저도 모르게 벌떡 일어 섰다 .', '단발 머리 를 나풀 거리며 소녀 가 막 달린다 . 갈밭 사잇길 로 들어 섰다 . 뒤에는 청량 한 가을 햇살 아래 빛나는 갈꽃 뿐 .', '이제 저쯤 갈밭 머리 로 소녀 가 나타나 리라 . 왜 오랜 시간 이 지났다고 생각 됐다 . 그런데도 소녀 는 나타나지 않는다 . 발돋움 을 했다 . 그러고도 상당한 시간 이 지났다고 생각 됐다 . 저 쪽 갈밭 머리 에 갈꽃 이 한 옹큼 움직 였다 . 소녀 가 갈꽃 을 안고 있었다 . 그리고 , 이제는 천천 한 걸음 이었다 . 유난히 맑은 가을 햇살 이 소녀 의 갈꽃 머리 에서 반짝 거렸다 . 소녀 아닌 갈꽃 이 들길 을 걸어가 는 것만 같았다 .', '소년 은 이 갈꽃 이 아주 뵈지 않게 되기 까지 그대로 서 있었다 . 문득 , 소녀 가 던지 조약돌 을 내려다 보았다 . 물기 가 갇혀 있었다 . 소년 은 조약돌 을 집어 주머니 에 넣었다 .', '다음 날 부터 좀더 늦게 개울가 로 나왔다 . 소녀 의 그림자 가 뵈지 않았다 . 다행 이었다 .', '그러나 이상한 일 이었다 . 소녀 의 그림자 가 뵈지 않는 날 이 계속 될수록 소년 의 가슴 한 구 석 에는 어딘가 허전함 이 자리 잡는 것이었다 . 주머니 속 조약돌 을 주무르는 버릇 이 생겼 다 .', '그러한 어떤 날 , 소년 은 전에 소녀 가 앉아 물장난 을 하던 징검 다리 한가운데 에 앉아 보았 다 . 물 속에 손 을 잠 갔다 . 세수 를 하였다 . 물 속 을 들여다 보았다 . 검게 탄 얼굴 이 그대로 비치 었다 . 싫었다 .', '- 1 -'], ['소년 은 두 손 으로 물 속의 얼굴 을 움키 였다 . 몇 번 이고 움키 였다 . 그러다가 깜짝 놀라 일 어 나고 말았다 . 소녀 가 이리로 건너 오고 있지 않느냐 .', \"' 숨어서 내가 하는 일 을 엿보고 있었 구나 . ' 소년 은 달리기 를 시작 했다 . 디딤돌 을 헛 디뎠다 . 한 발이 물 속에 빠졌다 . 더 달렸다 .\", '몸 을 가릴 데가 있어 줬으면 좋겠다 . 이 쪽 길 에는 갈밭 도 없다 . 메밀 밭이다 . 전에 없이 메 밀꽃 냄새 가 짜릿 하게 코 를 찌른다 고 생각 됐다 . 미간 이 아찔 했다 . 찝찔 한 액체 가 입술 에 흘러 들었다 . 코피 였다 .', \"소년 은 한 손 으로 코피 를 훔쳐 내면서 그냥 달렸다 . 어디 선가 ' 바보 바보 ' 하는 소리 가 자 꾸만 뒤따라 오는 것 같았다 .\", '토요일 이었다 .', '개울가 에 이르니 , 며칠 째 보이지 않던 소녀 가 건너편 가 에 앉아 물장난 을 하고 있었다 . 모 르는 체 징검 다리 를 건너기 시작 했다 . 얼마 전에 소녀 앞에서 한 번 실수 를 했을 뿐 , 여태 큰길 가듯 이 건너 던 징검 다리 를 오늘 은 조심 스럽게 건넌다 .', '“ 얘 . \"', '못 들은 체 했다 . 둑 위로 올라 섰다 .', '\" 얘 , 이게 무슨 조개 지 ? \"', '자기도 모르게 돌아 섰다 . 소녀 의 맑고 검은 눈 과 마주 쳤다 . 얼른 소녀 의 손바닥 으로 눈 을 떨구 었다 .', '\" 비단 조개 . \"', '\" 이름 도 참 곱다 . \"', '갈림길 에 왔다 . 여기서 소녀 는 아래 편 으로 한 삼 마장 쯤 , 소년 은 우대 로 한 십 리 가까운 길 을 가야 한다 .', '소녀 가 걸음 을 멈추며 ,', '\" 너 . 저 산 너머 에 가 본 일 있니 ? \"', '벌 끝 을 가리켰다 .', '“ 없다 . ”', '\" 우리 가 보지 않으 련 ? 시골 오니까 혼자서 심심해 못 견디 겠다 . \"', '\" 저래 봬 도 멀다 . \"', '\" 멀면 얼마나 멀기 에 ? 서울 있을 땐 사뭇 먼 데까지 소풍 갔었다 . \"', \"소녀 의 눈 이 금새 ' 바보 바보 할 것만 같았다 .\", '는 사잇길 로 들어 섰다 . 벼 가을 걷이 하는 곁 을 지났다 .', \"허수아비 가 서 있었다 . 소년 이 새끼줄 을 흔들 었다 . 참새 가 몇 마리 날아간다 . ' 참 , 오늘 은 일찍 집 으로 돌아가 텃논 의 참새 를 봐야 할걸 . ' 하는 생각 이 든다 .\", '\" 야 . 재밌다 ! \"', '소녀 가 허수아비 줄 을 잡더니 흔들어 댄다 . 허수아비 가 자꾸 우쭐 거리며 춤 을 춘다 . 소녀 의 왼쪽 볼 에 살포시 보조개 가 패 었다 .', '저만큼 허수아비 가 또 서 있다 . 소녀 가 그리 로 달려 간다 . 그 뒤를 소년 도 달렸다 . 오늘 같 은 날 은 일찍 집 으로 돌아가 집안일 을 도와야 한다는 생각 을 잊어 버리기 라도 하려는 듯이 . 소녀 의 곁 을 스쳐 그냥 달린다 . 메뚜기 가 따끔 따끔 얼굴 에 와 부딪친 다 . 쪽빛 으로 한껏 갠 가을 하늘 이 소년 의 눈앞 에서 맴 을 돈다 . 어지럽다 . 저놈 의 독수리 , 저놈 의 독수리 , 저놈 의 독수리 가 맴 을 돌고 있기 때문 이다 .', '- 2'], ['돌아다 보니 , 소녀 는 지금 자기 가 지나쳐 온 허수아비 를 흔들고 있다 . 좀 전 허수아비 보다', '더 우쭐 거린다 .', '논 이 끝난 곳에 도랑이 하나 있었다 . 소녀 가 먼저 뛰어 건넜다 .', '거기서 부터 산 밑 까지는 밭 이었다 .', '수 숫단 을 세워 놓은 밭머리 를 지났다 .', '\" 저게 뭐니 ? \"', '\" 원두막 . \"', '\" 여기 참외 , 맛 있니 ? \"', '\" 그럼 , 참외 맛 도 좋지만 수박 맛 은 더 좋다 . \"', '\" 하나 먹어 봤으면 . \"', '소년 이 참외 그루 에 심은 무우 밭 으로 들어가 , 무우 두 밑 을 뽑아 왔다 . 아직 밑 이 덜 들어 있었다 . 잎 을 비틀어 팽개 친 후 , 소녀 에게 한개 건넨다 . 그리고 는 이렇게 먹어야 한다는 듯 이 , 먼저 대강 이 를 한 입 베 물어 낸 다음 , 손톱 으로 한 돌이 껍질 을 벗겨 우쩍 깨문다 . 소녀 도 따라 했다 . 그러나 , 세 입도 못 먹고 ,', '\" 아 , 맵고 지리 . \"', '하며 집어 던지고 만다 .', '“ 참 , 맛 없어 못 먹겠다 . \"', '소년 이 더 멀리 팽개쳐 버렸다 .', '산이 가까워 졌다 .', '단풍 이 눈 에 따가 웠다 .', '\" 야아 ! \"', '소녀 가 산 을 향해 달려 갔다 . 이번 은 소년 이 뒤따라 달리지 않았다 . 그러고도 곧 소녀 보다 더 많은 꽃 을 꺾었다 .', '\" 이게 들국화 , 이게 싸리 꽃 . 이게 도라지 꽃 ・ ・ ・ ・ ・ … .', '\" 도라지 꽃 이 이렇게 예쁜 줄 은 몰랐네 . 난 보랏빛 이 좋아 ! ・ ・ ・ ・ ・ ・ 그런데 이 양산 같이 생긴 노란 꽃 이 뭐지 ? \"', '“ 마타리 꽃 . \"', '소녀 는 마타리 꽃 을 양산 받듯 이 해 보인다 . 약간 상기 된 얼굴 에 살포시 보조개 를 떠올리 며 .', '다시 소년 은 꽃 한 옹 큼을 꺾어 왔다 . 싱싱한 꽃 가지만 골라 소녀 에게 건넨다 .', '그러나 소녀 는', '\" 하나도 버리지 마라 . \"', '산마루 께로 올라 갔다 .', '맞은 편 골짜기 에 오순도순 초가집 이 몇 모여 있었다 .', '누가 말할 것도 아닌데 , 바위 에 나란히 걸터 앉았다 . 유달리 주위 가 조용 해진 것 같았다 . 따 가운 가을 햇살 만 이 말라가 는 풀 냄새 를 퍼 뜨리고 있었다 .', '“ 저건 또 무슨 꽃 이지 ? \"', '적잖이 비탈진 곳에 칡덩굴 이 엉 키어 꽃 을 달고 있었다 .', '“ 꼭 등꽃 같네 . 서울 우리 학교 에 큰 등나무 가 있었 단다 . 저 꽃 을 보니까 등나무 밑에서 놀던 동무 들 생각 이 난다 . \"', '소녀 가 조용히 일어나 비탈진 곳 으로 간다 . 꽃송이 가 많이 달린 줄기 를 잡고 끊기 시작한', '- 3'], ['다 . 좀처럼 끊어 지지 않는다 . 안간힘 을 쓰다가 그만 미끄러 지고 만다 . 칡덩굴 을 그러 쥐었 다 .', '소년 이 놀라 달려 갔다 . 소녀 가 손 을 내밀 었다 . 손 을 잡아 이끌어 올리며 , 소년 은 제가 꺾어 다 줄 것을 잘못 했다고 뉘우 친다 . 소녀 의 오른쪽 무릎 에 핏방울 이 내 맺혔다 . 소년 은 저도 모르게 생채기 에 입술 을 가져다 대고 딸기 시작 했다 . 그러다가 무슨 생각 을 했는지 홱 일 어나 저 쪽으로 달려 간다 .', '좀 만 에 숨 이 차 돌아온 소년 은', '\" 이걸 바르면 낫는다 . \"', '송진 을 생채기 에다 문질러 바르고 는 그 달음 으로 칡덩굴 있는 데로 내려가 , 꽃 많이 달린 몇 줄기 를 이빨 로 끊어 가지고 올라온다 . 그리고 는 .', '\" 저기 송아지 가 있다 . 그리 가 보자 . \"', '누렁 송아지 였다 . 아직 코뚜레 도 꿰지 않았다 .', '소년 이 고삐 를 바투 잡아 쥐고 등 을 긁어 주는 제 훌쩍 올라 탔다 . 송아지 가 껑충 거리며 돌 아 간다 .', '소녀 의 흰 얼굴 이 분홍 스웨터 가 남색 스커트 가 안고 있는 꽃 과 함께 범벅 이 된다 . 모두 가 하나 의 큰 꽃 묶음 같다 . 어지럽다 . 그러나 , 내리지 않으 리라 . 자랑 스러웠다 . 이것만은 소녀 가 흉내 내지 못할 자기 혼자만 이 할 수 있는 일인 것이다 .', '“ 너희 , 예서 뭣들 하느냐 ? \"', '농부 ( 夫 ) 하나 가 억새풀 사이로 올라 왔다 .', '송아지 등에서 뛰어 내렸다 . 어린 송아지 를 타서 허리 가 상하면 어쩌 느냐고 꾸지람 을 들을 것만 같다 .', '그런데 , 나룻 이 긴 농부 는 소녀 편 을 한 번 훑어 보고 는 그저 송아지 고삐 를 풀어 내면서 . \" 어서 집 으로 가 거라 . 소나기 가 올라 . \"', '참 , 먹장 구름 한 장이 머리 위에 와 있다 . 갑자기 사면 이 소란 스러워진 것 같다 . 바람 이 우 수수 소리 를 내며 지나간다 . 삽시간 에 주위 가 보랏빛 으로 변했다 .', '산 을 내려 오는데 , 떡갈 나무 잎 에서 빗방울 듣는 소리 가 난다 . 굵은 빗방울 이었다 . 목덜미 가 선뜻 선뜻 했다 . 그러자 대번에 눈앞 을 가로막는 빗줄기 .', '비안개 속에 원두막 이 보였다 . 그리 로 가 비 를 그을 수밖에 .', '그러나 , 원두막 은 기둥 이 기울고 지붕 도 갈래 갈래 찢어져 있었다 . 그런 대로 비가 덜 새는 곳 을 가려 소녀 를 들어서게 했다 .', '소녀 의 입술 이 파아 랗게 질렀다 . 어깨 를 자꾸 떨었다 .', '무명 겹 저고리 를 벗어 소녀 의 어깨 를 싸 주었다 . 소녀 는 비 에 젖은 눈 을 들어 한 번 쳐다 보았을 뿐 . 소년 이 하는 대로 잠자코 있었다 . 그리고 는 안고 온 꽃 묶음 속 에서 가지 가 꺾 이고 꽃 이 일그러진 송이 를 골라 발 밑에 버린다 . 소녀 가 들어선 곳 도 비가 새기 시작 했 다 . 더 거기서 비 를 그을 수 없었다 .', '밖 을 내다 보던 소년 이 무엇 을 생각 했는지 수수밭 쪽으로 달려 간다 . 세워 놓은 수 숫단 속 을 비 집어 보더니 , 옆 의 수 숫단 을 날라다 덧 세운다 . 다시 속 을 비 집어 본다 . 그리고 는 이쪽 을 향해 손짓 을 한다 .', '수 숫단 속은 비 는 안 새 었다 . 그저 어둡고 좁은 게 안 됐다 . 앞에 나 앉은 소년 은 그냥 비 를 맞아야 만 했다 . 그런 소년 의 어깨 에서 김 이 올랐다 .', '소녀 가 속삭이듯 이 , 이리 들어와 앉으 라고 했다 . 괜찮다고 했다 . 소녀 가 다시 들어와 앉으', '-4'], ['라고 했다 . 할 수 없이 뒷걸음질 을 쳤다 . 그 바람 에 , 소녀 가 안고 있는 꽃 묶음 이 망그러 졌 다 . 그러나 , 소녀 는 상관 없다고 생각 했다 . 비 에 젖은 소년 의 몸 내음새 가 확 코 에 끼 얹혀 졌 다 . 그러나 , 고개 를 돌리지 않았다 . 도리어 소년 의 봄 기운 으로 해서 떨리던 몸 이 적이 누그 러지 는 느낌 이었다 .', '소란 하던 수숫잎 소리 가 뚝 그쳤다 . 밖 이 멀개 졌다 .', '수 숫단 속 을 벗어 나왔다 . 멀지 않은 앞쪽 에 햇빛 이 눈부시게 내리 붓고 있었다 . 도랑 있는 곳 까지 와 보니 , 엄청나게 물 이 불어 있었다 . 빛 마저 제법 붉은 흙탕물 이었다 . 뛰어 건널 수가 없었다 .', \"소년 이 등 을 돌려 댔다 . 소녀 가 순순히 히 었다 . 걷어 올린 소년 의 잠방이 까지 물 이 올라 왔다 . 소녀 는 ' 어머나 ' 소리 를 지르며 소년 의 목 을 끌어 안았다 .\", '개울가 에 다 다르기 전에 , 가을 하늘 이 언제 그랬는가 싶게 구름 한 점 없이 쪽빛 으로 개어 있었다 .', '그 뒤로 소녀 의 모습 은 뵈지 않았다 . 매일 같이 개울가 로 달려와 봐도 뵈지 않았다 .', '학교 에서 쉬는 시간 에 운동장 을 살펴 기도 했다 . 남 몰래 5 학년 여자 반 을 엿보 기도 했다 . 그러나 뵈지 않았다 .', '그날 도 소년 은 주머니 속 흰 조 막돌 만 만지작 거리며 개울가 로 나왔다 . 그랬더니 , 이 쪽 개 울둑 에 소녀 가 앉아 있는 게 아닌가 .', '소년 은 가슴 부터 두근 거렸다 .', '“ 그 동안 앓 았다 . \"', '어쩐지 소녀 의 얼굴 이 해쓱 해져 있었다 .', '\" 그 날 , 소나기 맞은 탓 아냐 ? \"', '소녀 가 가만히 고개 를 끄덕 이었다 .', '\" 인제 다 났냐 ? \"', '\" 아직도 ……… . … ..', '\" 그럼 누워 있어야지 . \"', '“ 하도 갑갑 해서 나왔다 . 참 , 그 날 재밌었 어 ・ ・ ・ ・ ・ ・ ・ 그런데 그 날 어디서 이런 물 이 들었 는지 잘 지지 않는다 . \"', '소녀 가 분홍 스웨터 앞자락 을 내려다 본다 . 거기 에 검 붉은 진흙 물 같은 게 들어 있었다 . 소녀 가 가만히 보조개 를 떠올리며 ,', '\" 그래 이게 무슨 물 같니 ? \"', '소년 은 스웨터 앞자락 만 바라 보고 있었다 .', '“ 내 생각해 냈다 . 그 날 , 도랑 을 건너 면서 내가 얽힌 일 이 있지 ? 그 때 , 네 등에서 옳은', '물 이다 .', '소년 은 얼굴 이 확 달아 오름 을 느꼈다 .', '갈림길 에서 소녀 는', '“ 저 , 오늘 아침 에 우리 집 에서 대추 를 땄다 . 낼 제사 지내 려고 ・ ・ ・ ・ ・ … . \"', '대추 한 줌 을 내 준다 . 소년 은 주춤 한다 .', '\" 맛 봐라 . 우리 증조 ( 曾祖 ) 할아버지 가 심었다 는데 , 아주 달다 . \"', '소년 은 두 손 을 오 그려 내밀며 ,', '“ 참 , 알도 굵다 ! \"', '\" 그리고 저 우리 이번에 제사 지내고 나서 좀 있다 . 집을 내 주게 됐다 . \"', '- 5'], ['소년 은 소녀 네가 이사 해 오기 전에 벌써 어른들 의 이야기 를 들어서 , 윤 시 손자 가', '서울 서 사업 에 실패 해 가지고 고향 에 돌아 오지 않을 수 없게 되었다는 걸 알고 있었다 . 그 것이 이번에 는 고향 집 마저 남의 손 에 넘기 게 된 모양 이었다 .', '\" 왜 그런지 난 이사 가는 게 싫어 졌다 . 어른들 이 하는 일 이니 어쩔 수 없지만 ………… . \" 전에 없이 , 소녀 의 까만 눈 에 쓸쓸한 빛 이 떠돌 았다 .', '소녀 와 헤어져 돌아 오는 길 에 , 소년 은 혼잣 속 으로 , 소녀 가 이사 를 간다는 말 을 수 없이 되 뇌어 보았다 . 무어 그리 안타까울 것도 서러울 것도 없었다 . 그렇 건만 , 소년 은 지금 자기 가 씹고 있는 대추 말 의 단맛 을 모르고 있었다 .', '이 날 밤 , 소년 은 몰래 덕쇠 할아버지 네 호두 밭 으로 갔다 .', '낮 에 봐 두었던 나무 로 올라 갔다 . 그리고 , 봐 두었던 가지 를 향해 작대기 를 내리 쳤다 . 호두 송이 떨어지는 소리 가 벌 나게 크게 들렸다 . 가슴 이 선뜩 했다 . 그러나 다음 순간 , 굵은 호두 야 많이 떨어져 라 . 많이 떨어져 라 . 저도 모를 힘 에 이끌려 마구 작대기 를 내리 치는 것이 었다 .', '돌아 오는 길 에는 열 이틀 달 이 지우는 그늘 만 골라 디 몄다 . 그늘 의 고마움 을 처음 느꼈다 . 불룩한 주머니 를 어루 만졌다 . 호두 송이 를 맨손 으로 갔다가 는 몸 이 오르기 쉽다 는 말 같은 건 아 무 렇지 도 않았다 . 그저 근동 에서 제일 가는 이 덕쇠 할아버지 네 호두 를 어서 소녀 에게 맛 보여야 한다는 생각 만 이 앞섰다 .', '그러다 . 아차 하는 생각 이 들었다 . 소녀 더러 병 이 좀 낫 거들랑 이사 가기 전에 한 번 개울 가로 나와 달라는 말 을 못해 둔 것이었다 . 바보 같은 것 . 바보 같은 것 .', '이튿날 , 소년 이 학교 에서 돌아 오니 , 아버지 가 나들이옷 으로 갈아 입고 닭 한 마리 를 안고 있었다 .', '어디 가시 느냐고 물었다 .', '그 말 에도 대꾸 도 없이 , 아버지 는 안고 있는 닭 의 무게 를 겨냥해 보면서 .', '\" 이만하면 될까 ? \"', '어머니 가 망태기 를 내 주며 ,', '\" 벌써 며칠 째 \\' 걀걀 \\' 하고 알 날 자리 를 보던 데요 . 크진 않아도 살 은 쪘 을 거여 요 . \"', '소년 이 이번에 는 어머니 한테 아버지 가 어디 가시 느냐고 물어 보았다 .', '“ 저 , 서당골 윤 초시 댁 에 가신다 . 제삿상 에라도 놓으시 라고 ………… ”', '\" 그럼 . 큰 놈 으로 하나 가져 가지 . 저 얼룩 수탉 으로 . ……… . \"', '이 말 에 아버지 는 허허 웃고 나서 .', '\" 임마 . 그래도 이게 실속 이 있다 . \"', '소년 은 공연히 적어 책 보를 집어 던지고 는 외양간 으로 가 쇠잔 등 을 한 번 철썩 갈 겼다 . 쇠파리 라도 잡는 체', '개울물 은 날로 여물어 갔다 .', '소년 은 갈림길 에서 아래쪽 으로 가 보았다 . 갈밭 머리 에서 바라 보는 서당골 마을 은 쪽빛 하', '늘 아래 한결 가까워 보였다 .', '어른들 의 말이 , 내일 소녀 네가 양평읍 으로 이사 간다는 것이었다 . 거기 가서 는 조그마한 가겟방 을 보게 되리라는 것이었다 .', '소년 은 저도 모르게 주머니 속 호두 알 을 만지작 거리며 한 손 으로 는 수 없이 갈꽃 을 휘어 꺾고 있었다 .', '그날 밤 , 소년 은 자리 에 누워서 도 같은 생각 뿐이었다 . 내일 소녀 네가 이사 하는 걸 가 보', '- 6'], ['나 어쩌나 . 가면 소녀 를 보게 될까 어떨까 .', '그러다가 까무 룩 잠 이 들었 는가 하는데 .', '\" 허 , 참 세상 일도 . ………… .', '마을 갔던 아버지 가 언제 돌아 왔는지 .', '“ 윤 초시 택 도 말이 아니야 . 그 많던 전답 을 다 팔아 버리고 , 대대로 살아 오던 집 마저 남 의 손 에 넘기 더니 , 또 막상 까지 당하는 걸 보면 ……… .', '남폿불 밑에서 바느질 감을 안고 있던 어머니 가 .', '\" 증손 ( 曾孫 ) 이라곤 계집애 그 애 하나 뿐이 었지요 ? \"', '\" 그렇지 , 사내 애 둘 있던 건 어려서 잃어 버리고 ……… ..', '\" 어쩌면 그렇게 자식 복 이 없을까 . \"', '\" 글쎄 말이지 . 이번 앤 왜 여러 날 앓는 걸 약도 변변히 못써 봤다 더군 . 지금 같아서 윤 초 시네 도 대가 끊긴 셈 이지 . … 그런데 , 이번 계집 앱 어린 것이 여간 잔망 스럽지 가 않아 . 글쎄 , 죽기 전에 이런 말 을 했다 지 않아 ? 자기 가 죽 거든 자기 입던 옷 을 꼭 그대로 입혀서 묻어 달라고 ・ ・ ・ ・ ・ ...', '-7']]\n",
            "22\n"
          ]
        }
      ]
    },
    {
      "cell_type": "code",
      "source": [
        "# 전문 문자 개수\n",
        "PDF_TEXT = ''.join(text_fully)\n",
        "len(PDF_TEXT)"
      ],
      "metadata": {
        "colab": {
          "base_uri": "https://localhost:8080/"
        },
        "id": "lcJX7dDPe84D",
        "outputId": "ef9ca7ed-2850-485a-cb83-403cd65de5ac"
      },
      "execution_count": 143,
      "outputs": [
        {
          "output_type": "execute_result",
          "data": {
            "text/plain": [
              "8115"
            ]
          },
          "metadata": {},
          "execution_count": 143
        }
      ]
    },
    {
      "cell_type": "markdown",
      "source": [
        "### 요약모델"
      ],
      "metadata": {
        "id": "oqsQ05SLeVKQ"
      }
    },
    {
      "cell_type": "code",
      "source": [],
      "metadata": {
        "id": "9Fg7Ti851XiO"
      },
      "execution_count": null,
      "outputs": []
    }
  ]
}