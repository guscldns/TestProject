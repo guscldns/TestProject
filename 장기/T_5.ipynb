{
  "nbformat": 4,
  "nbformat_minor": 0,
  "metadata": {
    "colab": {
      "provenance": [],
      "gpuType": "T4",
      "include_colab_link": true
    },
    "kernelspec": {
      "name": "python3",
      "display_name": "Python 3"
    },
    "language_info": {
      "name": "python"
    },
    "accelerator": "GPU",
    "widgets": {
      "application/vnd.jupyter.widget-state+json": {
        "450caa87927647be97889b3571d731d3": {
          "model_module": "@jupyter-widgets/controls",
          "model_name": "HBoxModel",
          "model_module_version": "1.5.0",
          "state": {
            "_dom_classes": [],
            "_model_module": "@jupyter-widgets/controls",
            "_model_module_version": "1.5.0",
            "_model_name": "HBoxModel",
            "_view_count": null,
            "_view_module": "@jupyter-widgets/controls",
            "_view_module_version": "1.5.0",
            "_view_name": "HBoxView",
            "box_style": "",
            "children": [
              "IPY_MODEL_bda439485aa44ded806dbeb2b08ca228",
              "IPY_MODEL_f15ffec2a0d749de9dc2280fd5398759",
              "IPY_MODEL_65a3f0015d8d4eadb1050ed8efd78e8d"
            ],
            "layout": "IPY_MODEL_c91128653e704e0f8f6c1002791d1248"
          }
        },
        "bda439485aa44ded806dbeb2b08ca228": {
          "model_module": "@jupyter-widgets/controls",
          "model_name": "HTMLModel",
          "model_module_version": "1.5.0",
          "state": {
            "_dom_classes": [],
            "_model_module": "@jupyter-widgets/controls",
            "_model_module_version": "1.5.0",
            "_model_name": "HTMLModel",
            "_view_count": null,
            "_view_module": "@jupyter-widgets/controls",
            "_view_module_version": "1.5.0",
            "_view_name": "HTMLView",
            "description": "",
            "description_tooltip": null,
            "layout": "IPY_MODEL_af26213ee9ec46dd9352711c22be7fc0",
            "placeholder": "​",
            "style": "IPY_MODEL_a59d54c050364ddda9a7b75977eefb26",
            "value": "Downloading (…)okenizer_config.json: 100%"
          }
        },
        "f15ffec2a0d749de9dc2280fd5398759": {
          "model_module": "@jupyter-widgets/controls",
          "model_name": "FloatProgressModel",
          "model_module_version": "1.5.0",
          "state": {
            "_dom_classes": [],
            "_model_module": "@jupyter-widgets/controls",
            "_model_module_version": "1.5.0",
            "_model_name": "FloatProgressModel",
            "_view_count": null,
            "_view_module": "@jupyter-widgets/controls",
            "_view_module_version": "1.5.0",
            "_view_name": "ProgressView",
            "bar_style": "success",
            "description": "",
            "description_tooltip": null,
            "layout": "IPY_MODEL_b8d533a9d4dc4beda386a97803e0b18e",
            "max": 1948,
            "min": 0,
            "orientation": "horizontal",
            "style": "IPY_MODEL_ed587160cf07486aa1e4555b75ccc1a4",
            "value": 1948
          }
        },
        "65a3f0015d8d4eadb1050ed8efd78e8d": {
          "model_module": "@jupyter-widgets/controls",
          "model_name": "HTMLModel",
          "model_module_version": "1.5.0",
          "state": {
            "_dom_classes": [],
            "_model_module": "@jupyter-widgets/controls",
            "_model_module_version": "1.5.0",
            "_model_name": "HTMLModel",
            "_view_count": null,
            "_view_module": "@jupyter-widgets/controls",
            "_view_module_version": "1.5.0",
            "_view_name": "HTMLView",
            "description": "",
            "description_tooltip": null,
            "layout": "IPY_MODEL_9b38fb6882104c38b2a61115eae05519",
            "placeholder": "​",
            "style": "IPY_MODEL_563e8461fc644728b4fe443ab82c80ea",
            "value": " 1.95k/1.95k [00:00&lt;00:00, 80.7kB/s]"
          }
        },
        "c91128653e704e0f8f6c1002791d1248": {
          "model_module": "@jupyter-widgets/base",
          "model_name": "LayoutModel",
          "model_module_version": "1.2.0",
          "state": {
            "_model_module": "@jupyter-widgets/base",
            "_model_module_version": "1.2.0",
            "_model_name": "LayoutModel",
            "_view_count": null,
            "_view_module": "@jupyter-widgets/base",
            "_view_module_version": "1.2.0",
            "_view_name": "LayoutView",
            "align_content": null,
            "align_items": null,
            "align_self": null,
            "border": null,
            "bottom": null,
            "display": null,
            "flex": null,
            "flex_flow": null,
            "grid_area": null,
            "grid_auto_columns": null,
            "grid_auto_flow": null,
            "grid_auto_rows": null,
            "grid_column": null,
            "grid_gap": null,
            "grid_row": null,
            "grid_template_areas": null,
            "grid_template_columns": null,
            "grid_template_rows": null,
            "height": null,
            "justify_content": null,
            "justify_items": null,
            "left": null,
            "margin": null,
            "max_height": null,
            "max_width": null,
            "min_height": null,
            "min_width": null,
            "object_fit": null,
            "object_position": null,
            "order": null,
            "overflow": null,
            "overflow_x": null,
            "overflow_y": null,
            "padding": null,
            "right": null,
            "top": null,
            "visibility": null,
            "width": null
          }
        },
        "af26213ee9ec46dd9352711c22be7fc0": {
          "model_module": "@jupyter-widgets/base",
          "model_name": "LayoutModel",
          "model_module_version": "1.2.0",
          "state": {
            "_model_module": "@jupyter-widgets/base",
            "_model_module_version": "1.2.0",
            "_model_name": "LayoutModel",
            "_view_count": null,
            "_view_module": "@jupyter-widgets/base",
            "_view_module_version": "1.2.0",
            "_view_name": "LayoutView",
            "align_content": null,
            "align_items": null,
            "align_self": null,
            "border": null,
            "bottom": null,
            "display": null,
            "flex": null,
            "flex_flow": null,
            "grid_area": null,
            "grid_auto_columns": null,
            "grid_auto_flow": null,
            "grid_auto_rows": null,
            "grid_column": null,
            "grid_gap": null,
            "grid_row": null,
            "grid_template_areas": null,
            "grid_template_columns": null,
            "grid_template_rows": null,
            "height": null,
            "justify_content": null,
            "justify_items": null,
            "left": null,
            "margin": null,
            "max_height": null,
            "max_width": null,
            "min_height": null,
            "min_width": null,
            "object_fit": null,
            "object_position": null,
            "order": null,
            "overflow": null,
            "overflow_x": null,
            "overflow_y": null,
            "padding": null,
            "right": null,
            "top": null,
            "visibility": null,
            "width": null
          }
        },
        "a59d54c050364ddda9a7b75977eefb26": {
          "model_module": "@jupyter-widgets/controls",
          "model_name": "DescriptionStyleModel",
          "model_module_version": "1.5.0",
          "state": {
            "_model_module": "@jupyter-widgets/controls",
            "_model_module_version": "1.5.0",
            "_model_name": "DescriptionStyleModel",
            "_view_count": null,
            "_view_module": "@jupyter-widgets/base",
            "_view_module_version": "1.2.0",
            "_view_name": "StyleView",
            "description_width": ""
          }
        },
        "b8d533a9d4dc4beda386a97803e0b18e": {
          "model_module": "@jupyter-widgets/base",
          "model_name": "LayoutModel",
          "model_module_version": "1.2.0",
          "state": {
            "_model_module": "@jupyter-widgets/base",
            "_model_module_version": "1.2.0",
            "_model_name": "LayoutModel",
            "_view_count": null,
            "_view_module": "@jupyter-widgets/base",
            "_view_module_version": "1.2.0",
            "_view_name": "LayoutView",
            "align_content": null,
            "align_items": null,
            "align_self": null,
            "border": null,
            "bottom": null,
            "display": null,
            "flex": null,
            "flex_flow": null,
            "grid_area": null,
            "grid_auto_columns": null,
            "grid_auto_flow": null,
            "grid_auto_rows": null,
            "grid_column": null,
            "grid_gap": null,
            "grid_row": null,
            "grid_template_areas": null,
            "grid_template_columns": null,
            "grid_template_rows": null,
            "height": null,
            "justify_content": null,
            "justify_items": null,
            "left": null,
            "margin": null,
            "max_height": null,
            "max_width": null,
            "min_height": null,
            "min_width": null,
            "object_fit": null,
            "object_position": null,
            "order": null,
            "overflow": null,
            "overflow_x": null,
            "overflow_y": null,
            "padding": null,
            "right": null,
            "top": null,
            "visibility": null,
            "width": null
          }
        },
        "ed587160cf07486aa1e4555b75ccc1a4": {
          "model_module": "@jupyter-widgets/controls",
          "model_name": "ProgressStyleModel",
          "model_module_version": "1.5.0",
          "state": {
            "_model_module": "@jupyter-widgets/controls",
            "_model_module_version": "1.5.0",
            "_model_name": "ProgressStyleModel",
            "_view_count": null,
            "_view_module": "@jupyter-widgets/base",
            "_view_module_version": "1.2.0",
            "_view_name": "StyleView",
            "bar_color": null,
            "description_width": ""
          }
        },
        "9b38fb6882104c38b2a61115eae05519": {
          "model_module": "@jupyter-widgets/base",
          "model_name": "LayoutModel",
          "model_module_version": "1.2.0",
          "state": {
            "_model_module": "@jupyter-widgets/base",
            "_model_module_version": "1.2.0",
            "_model_name": "LayoutModel",
            "_view_count": null,
            "_view_module": "@jupyter-widgets/base",
            "_view_module_version": "1.2.0",
            "_view_name": "LayoutView",
            "align_content": null,
            "align_items": null,
            "align_self": null,
            "border": null,
            "bottom": null,
            "display": null,
            "flex": null,
            "flex_flow": null,
            "grid_area": null,
            "grid_auto_columns": null,
            "grid_auto_flow": null,
            "grid_auto_rows": null,
            "grid_column": null,
            "grid_gap": null,
            "grid_row": null,
            "grid_template_areas": null,
            "grid_template_columns": null,
            "grid_template_rows": null,
            "height": null,
            "justify_content": null,
            "justify_items": null,
            "left": null,
            "margin": null,
            "max_height": null,
            "max_width": null,
            "min_height": null,
            "min_width": null,
            "object_fit": null,
            "object_position": null,
            "order": null,
            "overflow": null,
            "overflow_x": null,
            "overflow_y": null,
            "padding": null,
            "right": null,
            "top": null,
            "visibility": null,
            "width": null
          }
        },
        "563e8461fc644728b4fe443ab82c80ea": {
          "model_module": "@jupyter-widgets/controls",
          "model_name": "DescriptionStyleModel",
          "model_module_version": "1.5.0",
          "state": {
            "_model_module": "@jupyter-widgets/controls",
            "_model_module_version": "1.5.0",
            "_model_name": "DescriptionStyleModel",
            "_view_count": null,
            "_view_module": "@jupyter-widgets/base",
            "_view_module_version": "1.2.0",
            "_view_name": "StyleView",
            "description_width": ""
          }
        },
        "d6b01c37b40f483792f9340a9034a3bd": {
          "model_module": "@jupyter-widgets/controls",
          "model_name": "HBoxModel",
          "model_module_version": "1.5.0",
          "state": {
            "_dom_classes": [],
            "_model_module": "@jupyter-widgets/controls",
            "_model_module_version": "1.5.0",
            "_model_name": "HBoxModel",
            "_view_count": null,
            "_view_module": "@jupyter-widgets/controls",
            "_view_module_version": "1.5.0",
            "_view_name": "HBoxView",
            "box_style": "",
            "children": [
              "IPY_MODEL_25336ac2a84f491eac3769501ed4735a",
              "IPY_MODEL_e1270bca40fe49569bfb75754b6a6c52",
              "IPY_MODEL_27ff01241b7e4669ad444e590d99dc9e"
            ],
            "layout": "IPY_MODEL_a4eba42b75ce41049afb58549bfdbfae"
          }
        },
        "25336ac2a84f491eac3769501ed4735a": {
          "model_module": "@jupyter-widgets/controls",
          "model_name": "HTMLModel",
          "model_module_version": "1.5.0",
          "state": {
            "_dom_classes": [],
            "_model_module": "@jupyter-widgets/controls",
            "_model_module_version": "1.5.0",
            "_model_name": "HTMLModel",
            "_view_count": null,
            "_view_module": "@jupyter-widgets/controls",
            "_view_module_version": "1.5.0",
            "_view_name": "HTMLView",
            "description": "",
            "description_tooltip": null,
            "layout": "IPY_MODEL_eb8026be1ac54bc4a3c66e1d7c931906",
            "placeholder": "​",
            "style": "IPY_MODEL_f8134ad23e9f442797edc18971cfb70d",
            "value": "Downloading (…)/main/tokenizer.json: 100%"
          }
        },
        "e1270bca40fe49569bfb75754b6a6c52": {
          "model_module": "@jupyter-widgets/controls",
          "model_name": "FloatProgressModel",
          "model_module_version": "1.5.0",
          "state": {
            "_dom_classes": [],
            "_model_module": "@jupyter-widgets/controls",
            "_model_module_version": "1.5.0",
            "_model_name": "FloatProgressModel",
            "_view_count": null,
            "_view_module": "@jupyter-widgets/controls",
            "_view_module_version": "1.5.0",
            "_view_name": "ProgressView",
            "bar_style": "success",
            "description": "",
            "description_tooltip": null,
            "layout": "IPY_MODEL_b313f780efa1478faa8a84c97cb2e9ba",
            "max": 2919731,
            "min": 0,
            "orientation": "horizontal",
            "style": "IPY_MODEL_14f953ccd8464aa995cf3b0f6876013f",
            "value": 2919731
          }
        },
        "27ff01241b7e4669ad444e590d99dc9e": {
          "model_module": "@jupyter-widgets/controls",
          "model_name": "HTMLModel",
          "model_module_version": "1.5.0",
          "state": {
            "_dom_classes": [],
            "_model_module": "@jupyter-widgets/controls",
            "_model_module_version": "1.5.0",
            "_model_name": "HTMLModel",
            "_view_count": null,
            "_view_module": "@jupyter-widgets/controls",
            "_view_module_version": "1.5.0",
            "_view_name": "HTMLView",
            "description": "",
            "description_tooltip": null,
            "layout": "IPY_MODEL_061401157d294018a16809dc8bc571bc",
            "placeholder": "​",
            "style": "IPY_MODEL_156702f54b1e4c8ea40098ca6de7ebf6",
            "value": " 2.92M/2.92M [00:00&lt;00:00, 7.08MB/s]"
          }
        },
        "a4eba42b75ce41049afb58549bfdbfae": {
          "model_module": "@jupyter-widgets/base",
          "model_name": "LayoutModel",
          "model_module_version": "1.2.0",
          "state": {
            "_model_module": "@jupyter-widgets/base",
            "_model_module_version": "1.2.0",
            "_model_name": "LayoutModel",
            "_view_count": null,
            "_view_module": "@jupyter-widgets/base",
            "_view_module_version": "1.2.0",
            "_view_name": "LayoutView",
            "align_content": null,
            "align_items": null,
            "align_self": null,
            "border": null,
            "bottom": null,
            "display": null,
            "flex": null,
            "flex_flow": null,
            "grid_area": null,
            "grid_auto_columns": null,
            "grid_auto_flow": null,
            "grid_auto_rows": null,
            "grid_column": null,
            "grid_gap": null,
            "grid_row": null,
            "grid_template_areas": null,
            "grid_template_columns": null,
            "grid_template_rows": null,
            "height": null,
            "justify_content": null,
            "justify_items": null,
            "left": null,
            "margin": null,
            "max_height": null,
            "max_width": null,
            "min_height": null,
            "min_width": null,
            "object_fit": null,
            "object_position": null,
            "order": null,
            "overflow": null,
            "overflow_x": null,
            "overflow_y": null,
            "padding": null,
            "right": null,
            "top": null,
            "visibility": null,
            "width": null
          }
        },
        "eb8026be1ac54bc4a3c66e1d7c931906": {
          "model_module": "@jupyter-widgets/base",
          "model_name": "LayoutModel",
          "model_module_version": "1.2.0",
          "state": {
            "_model_module": "@jupyter-widgets/base",
            "_model_module_version": "1.2.0",
            "_model_name": "LayoutModel",
            "_view_count": null,
            "_view_module": "@jupyter-widgets/base",
            "_view_module_version": "1.2.0",
            "_view_name": "LayoutView",
            "align_content": null,
            "align_items": null,
            "align_self": null,
            "border": null,
            "bottom": null,
            "display": null,
            "flex": null,
            "flex_flow": null,
            "grid_area": null,
            "grid_auto_columns": null,
            "grid_auto_flow": null,
            "grid_auto_rows": null,
            "grid_column": null,
            "grid_gap": null,
            "grid_row": null,
            "grid_template_areas": null,
            "grid_template_columns": null,
            "grid_template_rows": null,
            "height": null,
            "justify_content": null,
            "justify_items": null,
            "left": null,
            "margin": null,
            "max_height": null,
            "max_width": null,
            "min_height": null,
            "min_width": null,
            "object_fit": null,
            "object_position": null,
            "order": null,
            "overflow": null,
            "overflow_x": null,
            "overflow_y": null,
            "padding": null,
            "right": null,
            "top": null,
            "visibility": null,
            "width": null
          }
        },
        "f8134ad23e9f442797edc18971cfb70d": {
          "model_module": "@jupyter-widgets/controls",
          "model_name": "DescriptionStyleModel",
          "model_module_version": "1.5.0",
          "state": {
            "_model_module": "@jupyter-widgets/controls",
            "_model_module_version": "1.5.0",
            "_model_name": "DescriptionStyleModel",
            "_view_count": null,
            "_view_module": "@jupyter-widgets/base",
            "_view_module_version": "1.2.0",
            "_view_name": "StyleView",
            "description_width": ""
          }
        },
        "b313f780efa1478faa8a84c97cb2e9ba": {
          "model_module": "@jupyter-widgets/base",
          "model_name": "LayoutModel",
          "model_module_version": "1.2.0",
          "state": {
            "_model_module": "@jupyter-widgets/base",
            "_model_module_version": "1.2.0",
            "_model_name": "LayoutModel",
            "_view_count": null,
            "_view_module": "@jupyter-widgets/base",
            "_view_module_version": "1.2.0",
            "_view_name": "LayoutView",
            "align_content": null,
            "align_items": null,
            "align_self": null,
            "border": null,
            "bottom": null,
            "display": null,
            "flex": null,
            "flex_flow": null,
            "grid_area": null,
            "grid_auto_columns": null,
            "grid_auto_flow": null,
            "grid_auto_rows": null,
            "grid_column": null,
            "grid_gap": null,
            "grid_row": null,
            "grid_template_areas": null,
            "grid_template_columns": null,
            "grid_template_rows": null,
            "height": null,
            "justify_content": null,
            "justify_items": null,
            "left": null,
            "margin": null,
            "max_height": null,
            "max_width": null,
            "min_height": null,
            "min_width": null,
            "object_fit": null,
            "object_position": null,
            "order": null,
            "overflow": null,
            "overflow_x": null,
            "overflow_y": null,
            "padding": null,
            "right": null,
            "top": null,
            "visibility": null,
            "width": null
          }
        },
        "14f953ccd8464aa995cf3b0f6876013f": {
          "model_module": "@jupyter-widgets/controls",
          "model_name": "ProgressStyleModel",
          "model_module_version": "1.5.0",
          "state": {
            "_model_module": "@jupyter-widgets/controls",
            "_model_module_version": "1.5.0",
            "_model_name": "ProgressStyleModel",
            "_view_count": null,
            "_view_module": "@jupyter-widgets/base",
            "_view_module_version": "1.2.0",
            "_view_name": "StyleView",
            "bar_color": null,
            "description_width": ""
          }
        },
        "061401157d294018a16809dc8bc571bc": {
          "model_module": "@jupyter-widgets/base",
          "model_name": "LayoutModel",
          "model_module_version": "1.2.0",
          "state": {
            "_model_module": "@jupyter-widgets/base",
            "_model_module_version": "1.2.0",
            "_model_name": "LayoutModel",
            "_view_count": null,
            "_view_module": "@jupyter-widgets/base",
            "_view_module_version": "1.2.0",
            "_view_name": "LayoutView",
            "align_content": null,
            "align_items": null,
            "align_self": null,
            "border": null,
            "bottom": null,
            "display": null,
            "flex": null,
            "flex_flow": null,
            "grid_area": null,
            "grid_auto_columns": null,
            "grid_auto_flow": null,
            "grid_auto_rows": null,
            "grid_column": null,
            "grid_gap": null,
            "grid_row": null,
            "grid_template_areas": null,
            "grid_template_columns": null,
            "grid_template_rows": null,
            "height": null,
            "justify_content": null,
            "justify_items": null,
            "left": null,
            "margin": null,
            "max_height": null,
            "max_width": null,
            "min_height": null,
            "min_width": null,
            "object_fit": null,
            "object_position": null,
            "order": null,
            "overflow": null,
            "overflow_x": null,
            "overflow_y": null,
            "padding": null,
            "right": null,
            "top": null,
            "visibility": null,
            "width": null
          }
        },
        "156702f54b1e4c8ea40098ca6de7ebf6": {
          "model_module": "@jupyter-widgets/controls",
          "model_name": "DescriptionStyleModel",
          "model_module_version": "1.5.0",
          "state": {
            "_model_module": "@jupyter-widgets/controls",
            "_model_module_version": "1.5.0",
            "_model_name": "DescriptionStyleModel",
            "_view_count": null,
            "_view_module": "@jupyter-widgets/base",
            "_view_module_version": "1.2.0",
            "_view_name": "StyleView",
            "description_width": ""
          }
        },
        "0522b15108a7462fa1d27de372e43f99": {
          "model_module": "@jupyter-widgets/controls",
          "model_name": "HBoxModel",
          "model_module_version": "1.5.0",
          "state": {
            "_dom_classes": [],
            "_model_module": "@jupyter-widgets/controls",
            "_model_module_version": "1.5.0",
            "_model_name": "HBoxModel",
            "_view_count": null,
            "_view_module": "@jupyter-widgets/controls",
            "_view_module_version": "1.5.0",
            "_view_name": "HBoxView",
            "box_style": "",
            "children": [
              "IPY_MODEL_c2684c442b844ac9bf7fd0e8d66e32a5",
              "IPY_MODEL_c0a228123a0b44d7b77cd6020f27b43a",
              "IPY_MODEL_0733632098244c7694c3f3cacfe17b79"
            ],
            "layout": "IPY_MODEL_29f47b853f494384b0ae49783d95a778"
          }
        },
        "c2684c442b844ac9bf7fd0e8d66e32a5": {
          "model_module": "@jupyter-widgets/controls",
          "model_name": "HTMLModel",
          "model_module_version": "1.5.0",
          "state": {
            "_dom_classes": [],
            "_model_module": "@jupyter-widgets/controls",
            "_model_module_version": "1.5.0",
            "_model_name": "HTMLModel",
            "_view_count": null,
            "_view_module": "@jupyter-widgets/controls",
            "_view_module_version": "1.5.0",
            "_view_name": "HTMLView",
            "description": "",
            "description_tooltip": null,
            "layout": "IPY_MODEL_c58bd4e53db649fc901af3a06b63875f",
            "placeholder": "​",
            "style": "IPY_MODEL_048f0db3a4624d28ae7c8c798917677e",
            "value": "Downloading (…)cial_tokens_map.json: 100%"
          }
        },
        "c0a228123a0b44d7b77cd6020f27b43a": {
          "model_module": "@jupyter-widgets/controls",
          "model_name": "FloatProgressModel",
          "model_module_version": "1.5.0",
          "state": {
            "_dom_classes": [],
            "_model_module": "@jupyter-widgets/controls",
            "_model_module_version": "1.5.0",
            "_model_name": "FloatProgressModel",
            "_view_count": null,
            "_view_module": "@jupyter-widgets/controls",
            "_view_module_version": "1.5.0",
            "_view_name": "ProgressView",
            "bar_style": "success",
            "description": "",
            "description_tooltip": null,
            "layout": "IPY_MODEL_0a5fa6c99c7746c0a13a545fb718ba4f",
            "max": 1786,
            "min": 0,
            "orientation": "horizontal",
            "style": "IPY_MODEL_7719585f50bd4688b6d91358abc3e20f",
            "value": 1786
          }
        },
        "0733632098244c7694c3f3cacfe17b79": {
          "model_module": "@jupyter-widgets/controls",
          "model_name": "HTMLModel",
          "model_module_version": "1.5.0",
          "state": {
            "_dom_classes": [],
            "_model_module": "@jupyter-widgets/controls",
            "_model_module_version": "1.5.0",
            "_model_name": "HTMLModel",
            "_view_count": null,
            "_view_module": "@jupyter-widgets/controls",
            "_view_module_version": "1.5.0",
            "_view_name": "HTMLView",
            "description": "",
            "description_tooltip": null,
            "layout": "IPY_MODEL_eee6bd7df05545bc9565720ff4b34442",
            "placeholder": "​",
            "style": "IPY_MODEL_c2e0de230ed84c2784558eecd34be8fa",
            "value": " 1.79k/1.79k [00:00&lt;00:00, 116kB/s]"
          }
        },
        "29f47b853f494384b0ae49783d95a778": {
          "model_module": "@jupyter-widgets/base",
          "model_name": "LayoutModel",
          "model_module_version": "1.2.0",
          "state": {
            "_model_module": "@jupyter-widgets/base",
            "_model_module_version": "1.2.0",
            "_model_name": "LayoutModel",
            "_view_count": null,
            "_view_module": "@jupyter-widgets/base",
            "_view_module_version": "1.2.0",
            "_view_name": "LayoutView",
            "align_content": null,
            "align_items": null,
            "align_self": null,
            "border": null,
            "bottom": null,
            "display": null,
            "flex": null,
            "flex_flow": null,
            "grid_area": null,
            "grid_auto_columns": null,
            "grid_auto_flow": null,
            "grid_auto_rows": null,
            "grid_column": null,
            "grid_gap": null,
            "grid_row": null,
            "grid_template_areas": null,
            "grid_template_columns": null,
            "grid_template_rows": null,
            "height": null,
            "justify_content": null,
            "justify_items": null,
            "left": null,
            "margin": null,
            "max_height": null,
            "max_width": null,
            "min_height": null,
            "min_width": null,
            "object_fit": null,
            "object_position": null,
            "order": null,
            "overflow": null,
            "overflow_x": null,
            "overflow_y": null,
            "padding": null,
            "right": null,
            "top": null,
            "visibility": null,
            "width": null
          }
        },
        "c58bd4e53db649fc901af3a06b63875f": {
          "model_module": "@jupyter-widgets/base",
          "model_name": "LayoutModel",
          "model_module_version": "1.2.0",
          "state": {
            "_model_module": "@jupyter-widgets/base",
            "_model_module_version": "1.2.0",
            "_model_name": "LayoutModel",
            "_view_count": null,
            "_view_module": "@jupyter-widgets/base",
            "_view_module_version": "1.2.0",
            "_view_name": "LayoutView",
            "align_content": null,
            "align_items": null,
            "align_self": null,
            "border": null,
            "bottom": null,
            "display": null,
            "flex": null,
            "flex_flow": null,
            "grid_area": null,
            "grid_auto_columns": null,
            "grid_auto_flow": null,
            "grid_auto_rows": null,
            "grid_column": null,
            "grid_gap": null,
            "grid_row": null,
            "grid_template_areas": null,
            "grid_template_columns": null,
            "grid_template_rows": null,
            "height": null,
            "justify_content": null,
            "justify_items": null,
            "left": null,
            "margin": null,
            "max_height": null,
            "max_width": null,
            "min_height": null,
            "min_width": null,
            "object_fit": null,
            "object_position": null,
            "order": null,
            "overflow": null,
            "overflow_x": null,
            "overflow_y": null,
            "padding": null,
            "right": null,
            "top": null,
            "visibility": null,
            "width": null
          }
        },
        "048f0db3a4624d28ae7c8c798917677e": {
          "model_module": "@jupyter-widgets/controls",
          "model_name": "DescriptionStyleModel",
          "model_module_version": "1.5.0",
          "state": {
            "_model_module": "@jupyter-widgets/controls",
            "_model_module_version": "1.5.0",
            "_model_name": "DescriptionStyleModel",
            "_view_count": null,
            "_view_module": "@jupyter-widgets/base",
            "_view_module_version": "1.2.0",
            "_view_name": "StyleView",
            "description_width": ""
          }
        },
        "0a5fa6c99c7746c0a13a545fb718ba4f": {
          "model_module": "@jupyter-widgets/base",
          "model_name": "LayoutModel",
          "model_module_version": "1.2.0",
          "state": {
            "_model_module": "@jupyter-widgets/base",
            "_model_module_version": "1.2.0",
            "_model_name": "LayoutModel",
            "_view_count": null,
            "_view_module": "@jupyter-widgets/base",
            "_view_module_version": "1.2.0",
            "_view_name": "LayoutView",
            "align_content": null,
            "align_items": null,
            "align_self": null,
            "border": null,
            "bottom": null,
            "display": null,
            "flex": null,
            "flex_flow": null,
            "grid_area": null,
            "grid_auto_columns": null,
            "grid_auto_flow": null,
            "grid_auto_rows": null,
            "grid_column": null,
            "grid_gap": null,
            "grid_row": null,
            "grid_template_areas": null,
            "grid_template_columns": null,
            "grid_template_rows": null,
            "height": null,
            "justify_content": null,
            "justify_items": null,
            "left": null,
            "margin": null,
            "max_height": null,
            "max_width": null,
            "min_height": null,
            "min_width": null,
            "object_fit": null,
            "object_position": null,
            "order": null,
            "overflow": null,
            "overflow_x": null,
            "overflow_y": null,
            "padding": null,
            "right": null,
            "top": null,
            "visibility": null,
            "width": null
          }
        },
        "7719585f50bd4688b6d91358abc3e20f": {
          "model_module": "@jupyter-widgets/controls",
          "model_name": "ProgressStyleModel",
          "model_module_version": "1.5.0",
          "state": {
            "_model_module": "@jupyter-widgets/controls",
            "_model_module_version": "1.5.0",
            "_model_name": "ProgressStyleModel",
            "_view_count": null,
            "_view_module": "@jupyter-widgets/base",
            "_view_module_version": "1.2.0",
            "_view_name": "StyleView",
            "bar_color": null,
            "description_width": ""
          }
        },
        "eee6bd7df05545bc9565720ff4b34442": {
          "model_module": "@jupyter-widgets/base",
          "model_name": "LayoutModel",
          "model_module_version": "1.2.0",
          "state": {
            "_model_module": "@jupyter-widgets/base",
            "_model_module_version": "1.2.0",
            "_model_name": "LayoutModel",
            "_view_count": null,
            "_view_module": "@jupyter-widgets/base",
            "_view_module_version": "1.2.0",
            "_view_name": "LayoutView",
            "align_content": null,
            "align_items": null,
            "align_self": null,
            "border": null,
            "bottom": null,
            "display": null,
            "flex": null,
            "flex_flow": null,
            "grid_area": null,
            "grid_auto_columns": null,
            "grid_auto_flow": null,
            "grid_auto_rows": null,
            "grid_column": null,
            "grid_gap": null,
            "grid_row": null,
            "grid_template_areas": null,
            "grid_template_columns": null,
            "grid_template_rows": null,
            "height": null,
            "justify_content": null,
            "justify_items": null,
            "left": null,
            "margin": null,
            "max_height": null,
            "max_width": null,
            "min_height": null,
            "min_width": null,
            "object_fit": null,
            "object_position": null,
            "order": null,
            "overflow": null,
            "overflow_x": null,
            "overflow_y": null,
            "padding": null,
            "right": null,
            "top": null,
            "visibility": null,
            "width": null
          }
        },
        "c2e0de230ed84c2784558eecd34be8fa": {
          "model_module": "@jupyter-widgets/controls",
          "model_name": "DescriptionStyleModel",
          "model_module_version": "1.5.0",
          "state": {
            "_model_module": "@jupyter-widgets/controls",
            "_model_module_version": "1.5.0",
            "_model_name": "DescriptionStyleModel",
            "_view_count": null,
            "_view_module": "@jupyter-widgets/base",
            "_view_module_version": "1.2.0",
            "_view_name": "StyleView",
            "description_width": ""
          }
        },
        "49ba6e92071943b3b4e230aee20a7e6a": {
          "model_module": "@jupyter-widgets/controls",
          "model_name": "HBoxModel",
          "model_module_version": "1.5.0",
          "state": {
            "_dom_classes": [],
            "_model_module": "@jupyter-widgets/controls",
            "_model_module_version": "1.5.0",
            "_model_name": "HBoxModel",
            "_view_count": null,
            "_view_module": "@jupyter-widgets/controls",
            "_view_module_version": "1.5.0",
            "_view_name": "HBoxView",
            "box_style": "",
            "children": [
              "IPY_MODEL_cfcdda6920984843a29262095cea33d4",
              "IPY_MODEL_8441bd07da4e44ffb4bfda2b1e801b2a",
              "IPY_MODEL_c7a7b64f3e0d4fdf9b0e1880c2057f47"
            ],
            "layout": "IPY_MODEL_57ee9b3a59f5463e96316f838ba5ff6b"
          }
        },
        "cfcdda6920984843a29262095cea33d4": {
          "model_module": "@jupyter-widgets/controls",
          "model_name": "HTMLModel",
          "model_module_version": "1.5.0",
          "state": {
            "_dom_classes": [],
            "_model_module": "@jupyter-widgets/controls",
            "_model_module_version": "1.5.0",
            "_model_name": "HTMLModel",
            "_view_count": null,
            "_view_module": "@jupyter-widgets/controls",
            "_view_module_version": "1.5.0",
            "_view_name": "HTMLView",
            "description": "",
            "description_tooltip": null,
            "layout": "IPY_MODEL_aff0931244db42f5a3b6740a10a7f8fc",
            "placeholder": "​",
            "style": "IPY_MODEL_5980f08a3d8c4789bba3c24ab147aa58",
            "value": "Downloading (…)lve/main/config.json: 100%"
          }
        },
        "8441bd07da4e44ffb4bfda2b1e801b2a": {
          "model_module": "@jupyter-widgets/controls",
          "model_name": "FloatProgressModel",
          "model_module_version": "1.5.0",
          "state": {
            "_dom_classes": [],
            "_model_module": "@jupyter-widgets/controls",
            "_model_module_version": "1.5.0",
            "_model_name": "FloatProgressModel",
            "_view_count": null,
            "_view_module": "@jupyter-widgets/controls",
            "_view_module_version": "1.5.0",
            "_view_name": "ProgressView",
            "bar_style": "success",
            "description": "",
            "description_tooltip": null,
            "layout": "IPY_MODEL_1a7f2e75515d46f39a95a45895cb9227",
            "max": 726,
            "min": 0,
            "orientation": "horizontal",
            "style": "IPY_MODEL_6a2475bd6a4d4a129c423df4733dfa85",
            "value": 726
          }
        },
        "c7a7b64f3e0d4fdf9b0e1880c2057f47": {
          "model_module": "@jupyter-widgets/controls",
          "model_name": "HTMLModel",
          "model_module_version": "1.5.0",
          "state": {
            "_dom_classes": [],
            "_model_module": "@jupyter-widgets/controls",
            "_model_module_version": "1.5.0",
            "_model_name": "HTMLModel",
            "_view_count": null,
            "_view_module": "@jupyter-widgets/controls",
            "_view_module_version": "1.5.0",
            "_view_name": "HTMLView",
            "description": "",
            "description_tooltip": null,
            "layout": "IPY_MODEL_8d1cf46921ad431891223d44932ac3f8",
            "placeholder": "​",
            "style": "IPY_MODEL_8e250ec8c0c543229fddd6a96be648b5",
            "value": " 726/726 [00:00&lt;00:00, 52.0kB/s]"
          }
        },
        "57ee9b3a59f5463e96316f838ba5ff6b": {
          "model_module": "@jupyter-widgets/base",
          "model_name": "LayoutModel",
          "model_module_version": "1.2.0",
          "state": {
            "_model_module": "@jupyter-widgets/base",
            "_model_module_version": "1.2.0",
            "_model_name": "LayoutModel",
            "_view_count": null,
            "_view_module": "@jupyter-widgets/base",
            "_view_module_version": "1.2.0",
            "_view_name": "LayoutView",
            "align_content": null,
            "align_items": null,
            "align_self": null,
            "border": null,
            "bottom": null,
            "display": null,
            "flex": null,
            "flex_flow": null,
            "grid_area": null,
            "grid_auto_columns": null,
            "grid_auto_flow": null,
            "grid_auto_rows": null,
            "grid_column": null,
            "grid_gap": null,
            "grid_row": null,
            "grid_template_areas": null,
            "grid_template_columns": null,
            "grid_template_rows": null,
            "height": null,
            "justify_content": null,
            "justify_items": null,
            "left": null,
            "margin": null,
            "max_height": null,
            "max_width": null,
            "min_height": null,
            "min_width": null,
            "object_fit": null,
            "object_position": null,
            "order": null,
            "overflow": null,
            "overflow_x": null,
            "overflow_y": null,
            "padding": null,
            "right": null,
            "top": null,
            "visibility": null,
            "width": null
          }
        },
        "aff0931244db42f5a3b6740a10a7f8fc": {
          "model_module": "@jupyter-widgets/base",
          "model_name": "LayoutModel",
          "model_module_version": "1.2.0",
          "state": {
            "_model_module": "@jupyter-widgets/base",
            "_model_module_version": "1.2.0",
            "_model_name": "LayoutModel",
            "_view_count": null,
            "_view_module": "@jupyter-widgets/base",
            "_view_module_version": "1.2.0",
            "_view_name": "LayoutView",
            "align_content": null,
            "align_items": null,
            "align_self": null,
            "border": null,
            "bottom": null,
            "display": null,
            "flex": null,
            "flex_flow": null,
            "grid_area": null,
            "grid_auto_columns": null,
            "grid_auto_flow": null,
            "grid_auto_rows": null,
            "grid_column": null,
            "grid_gap": null,
            "grid_row": null,
            "grid_template_areas": null,
            "grid_template_columns": null,
            "grid_template_rows": null,
            "height": null,
            "justify_content": null,
            "justify_items": null,
            "left": null,
            "margin": null,
            "max_height": null,
            "max_width": null,
            "min_height": null,
            "min_width": null,
            "object_fit": null,
            "object_position": null,
            "order": null,
            "overflow": null,
            "overflow_x": null,
            "overflow_y": null,
            "padding": null,
            "right": null,
            "top": null,
            "visibility": null,
            "width": null
          }
        },
        "5980f08a3d8c4789bba3c24ab147aa58": {
          "model_module": "@jupyter-widgets/controls",
          "model_name": "DescriptionStyleModel",
          "model_module_version": "1.5.0",
          "state": {
            "_model_module": "@jupyter-widgets/controls",
            "_model_module_version": "1.5.0",
            "_model_name": "DescriptionStyleModel",
            "_view_count": null,
            "_view_module": "@jupyter-widgets/base",
            "_view_module_version": "1.2.0",
            "_view_name": "StyleView",
            "description_width": ""
          }
        },
        "1a7f2e75515d46f39a95a45895cb9227": {
          "model_module": "@jupyter-widgets/base",
          "model_name": "LayoutModel",
          "model_module_version": "1.2.0",
          "state": {
            "_model_module": "@jupyter-widgets/base",
            "_model_module_version": "1.2.0",
            "_model_name": "LayoutModel",
            "_view_count": null,
            "_view_module": "@jupyter-widgets/base",
            "_view_module_version": "1.2.0",
            "_view_name": "LayoutView",
            "align_content": null,
            "align_items": null,
            "align_self": null,
            "border": null,
            "bottom": null,
            "display": null,
            "flex": null,
            "flex_flow": null,
            "grid_area": null,
            "grid_auto_columns": null,
            "grid_auto_flow": null,
            "grid_auto_rows": null,
            "grid_column": null,
            "grid_gap": null,
            "grid_row": null,
            "grid_template_areas": null,
            "grid_template_columns": null,
            "grid_template_rows": null,
            "height": null,
            "justify_content": null,
            "justify_items": null,
            "left": null,
            "margin": null,
            "max_height": null,
            "max_width": null,
            "min_height": null,
            "min_width": null,
            "object_fit": null,
            "object_position": null,
            "order": null,
            "overflow": null,
            "overflow_x": null,
            "overflow_y": null,
            "padding": null,
            "right": null,
            "top": null,
            "visibility": null,
            "width": null
          }
        },
        "6a2475bd6a4d4a129c423df4733dfa85": {
          "model_module": "@jupyter-widgets/controls",
          "model_name": "ProgressStyleModel",
          "model_module_version": "1.5.0",
          "state": {
            "_model_module": "@jupyter-widgets/controls",
            "_model_module_version": "1.5.0",
            "_model_name": "ProgressStyleModel",
            "_view_count": null,
            "_view_module": "@jupyter-widgets/base",
            "_view_module_version": "1.2.0",
            "_view_name": "StyleView",
            "bar_color": null,
            "description_width": ""
          }
        },
        "8d1cf46921ad431891223d44932ac3f8": {
          "model_module": "@jupyter-widgets/base",
          "model_name": "LayoutModel",
          "model_module_version": "1.2.0",
          "state": {
            "_model_module": "@jupyter-widgets/base",
            "_model_module_version": "1.2.0",
            "_model_name": "LayoutModel",
            "_view_count": null,
            "_view_module": "@jupyter-widgets/base",
            "_view_module_version": "1.2.0",
            "_view_name": "LayoutView",
            "align_content": null,
            "align_items": null,
            "align_self": null,
            "border": null,
            "bottom": null,
            "display": null,
            "flex": null,
            "flex_flow": null,
            "grid_area": null,
            "grid_auto_columns": null,
            "grid_auto_flow": null,
            "grid_auto_rows": null,
            "grid_column": null,
            "grid_gap": null,
            "grid_row": null,
            "grid_template_areas": null,
            "grid_template_columns": null,
            "grid_template_rows": null,
            "height": null,
            "justify_content": null,
            "justify_items": null,
            "left": null,
            "margin": null,
            "max_height": null,
            "max_width": null,
            "min_height": null,
            "min_width": null,
            "object_fit": null,
            "object_position": null,
            "order": null,
            "overflow": null,
            "overflow_x": null,
            "overflow_y": null,
            "padding": null,
            "right": null,
            "top": null,
            "visibility": null,
            "width": null
          }
        },
        "8e250ec8c0c543229fddd6a96be648b5": {
          "model_module": "@jupyter-widgets/controls",
          "model_name": "DescriptionStyleModel",
          "model_module_version": "1.5.0",
          "state": {
            "_model_module": "@jupyter-widgets/controls",
            "_model_module_version": "1.5.0",
            "_model_name": "DescriptionStyleModel",
            "_view_count": null,
            "_view_module": "@jupyter-widgets/base",
            "_view_module_version": "1.2.0",
            "_view_name": "StyleView",
            "description_width": ""
          }
        },
        "2fc1b73d719343fcb16da503a4474f99": {
          "model_module": "@jupyter-widgets/controls",
          "model_name": "HBoxModel",
          "model_module_version": "1.5.0",
          "state": {
            "_dom_classes": [],
            "_model_module": "@jupyter-widgets/controls",
            "_model_module_version": "1.5.0",
            "_model_name": "HBoxModel",
            "_view_count": null,
            "_view_module": "@jupyter-widgets/controls",
            "_view_module_version": "1.5.0",
            "_view_name": "HBoxView",
            "box_style": "",
            "children": [
              "IPY_MODEL_e08846a0ffcb4026942dbb239a220157",
              "IPY_MODEL_8dda20b1efbb45188f62d1e3419ea9c6",
              "IPY_MODEL_c1562fdf28c548128dabe4a7f54ebef1"
            ],
            "layout": "IPY_MODEL_5910c015a1bb4fc5a7c3c5cf76a3bfac"
          }
        },
        "e08846a0ffcb4026942dbb239a220157": {
          "model_module": "@jupyter-widgets/controls",
          "model_name": "HTMLModel",
          "model_module_version": "1.5.0",
          "state": {
            "_dom_classes": [],
            "_model_module": "@jupyter-widgets/controls",
            "_model_module_version": "1.5.0",
            "_model_name": "HTMLModel",
            "_view_count": null,
            "_view_module": "@jupyter-widgets/controls",
            "_view_module_version": "1.5.0",
            "_view_name": "HTMLView",
            "description": "",
            "description_tooltip": null,
            "layout": "IPY_MODEL_8c1fbd9f9b36424db82e83ff4832e013",
            "placeholder": "​",
            "style": "IPY_MODEL_3f9ae2b9aad743dfb822275eec8ac32e",
            "value": "Downloading pytorch_model.bin: 100%"
          }
        },
        "8dda20b1efbb45188f62d1e3419ea9c6": {
          "model_module": "@jupyter-widgets/controls",
          "model_name": "FloatProgressModel",
          "model_module_version": "1.5.0",
          "state": {
            "_dom_classes": [],
            "_model_module": "@jupyter-widgets/controls",
            "_model_module_version": "1.5.0",
            "_model_name": "FloatProgressModel",
            "_view_count": null,
            "_view_module": "@jupyter-widgets/controls",
            "_view_module_version": "1.5.0",
            "_view_name": "ProgressView",
            "bar_style": "success",
            "description": "",
            "description_tooltip": null,
            "layout": "IPY_MODEL_918a7fb8eedf44748c8f6e1b9f44b96f",
            "max": 382575813,
            "min": 0,
            "orientation": "horizontal",
            "style": "IPY_MODEL_8fe1cfc5c6ab4b63b45e96cc32fa8f95",
            "value": 382575813
          }
        },
        "c1562fdf28c548128dabe4a7f54ebef1": {
          "model_module": "@jupyter-widgets/controls",
          "model_name": "HTMLModel",
          "model_module_version": "1.5.0",
          "state": {
            "_dom_classes": [],
            "_model_module": "@jupyter-widgets/controls",
            "_model_module_version": "1.5.0",
            "_model_name": "HTMLModel",
            "_view_count": null,
            "_view_module": "@jupyter-widgets/controls",
            "_view_module_version": "1.5.0",
            "_view_name": "HTMLView",
            "description": "",
            "description_tooltip": null,
            "layout": "IPY_MODEL_e63b771e0ab34dda89986540b2a5401e",
            "placeholder": "​",
            "style": "IPY_MODEL_6caf637cae0141f68d99d948127a5965",
            "value": " 383M/383M [00:27&lt;00:00, 14.1MB/s]"
          }
        },
        "5910c015a1bb4fc5a7c3c5cf76a3bfac": {
          "model_module": "@jupyter-widgets/base",
          "model_name": "LayoutModel",
          "model_module_version": "1.2.0",
          "state": {
            "_model_module": "@jupyter-widgets/base",
            "_model_module_version": "1.2.0",
            "_model_name": "LayoutModel",
            "_view_count": null,
            "_view_module": "@jupyter-widgets/base",
            "_view_module_version": "1.2.0",
            "_view_name": "LayoutView",
            "align_content": null,
            "align_items": null,
            "align_self": null,
            "border": null,
            "bottom": null,
            "display": null,
            "flex": null,
            "flex_flow": null,
            "grid_area": null,
            "grid_auto_columns": null,
            "grid_auto_flow": null,
            "grid_auto_rows": null,
            "grid_column": null,
            "grid_gap": null,
            "grid_row": null,
            "grid_template_areas": null,
            "grid_template_columns": null,
            "grid_template_rows": null,
            "height": null,
            "justify_content": null,
            "justify_items": null,
            "left": null,
            "margin": null,
            "max_height": null,
            "max_width": null,
            "min_height": null,
            "min_width": null,
            "object_fit": null,
            "object_position": null,
            "order": null,
            "overflow": null,
            "overflow_x": null,
            "overflow_y": null,
            "padding": null,
            "right": null,
            "top": null,
            "visibility": null,
            "width": null
          }
        },
        "8c1fbd9f9b36424db82e83ff4832e013": {
          "model_module": "@jupyter-widgets/base",
          "model_name": "LayoutModel",
          "model_module_version": "1.2.0",
          "state": {
            "_model_module": "@jupyter-widgets/base",
            "_model_module_version": "1.2.0",
            "_model_name": "LayoutModel",
            "_view_count": null,
            "_view_module": "@jupyter-widgets/base",
            "_view_module_version": "1.2.0",
            "_view_name": "LayoutView",
            "align_content": null,
            "align_items": null,
            "align_self": null,
            "border": null,
            "bottom": null,
            "display": null,
            "flex": null,
            "flex_flow": null,
            "grid_area": null,
            "grid_auto_columns": null,
            "grid_auto_flow": null,
            "grid_auto_rows": null,
            "grid_column": null,
            "grid_gap": null,
            "grid_row": null,
            "grid_template_areas": null,
            "grid_template_columns": null,
            "grid_template_rows": null,
            "height": null,
            "justify_content": null,
            "justify_items": null,
            "left": null,
            "margin": null,
            "max_height": null,
            "max_width": null,
            "min_height": null,
            "min_width": null,
            "object_fit": null,
            "object_position": null,
            "order": null,
            "overflow": null,
            "overflow_x": null,
            "overflow_y": null,
            "padding": null,
            "right": null,
            "top": null,
            "visibility": null,
            "width": null
          }
        },
        "3f9ae2b9aad743dfb822275eec8ac32e": {
          "model_module": "@jupyter-widgets/controls",
          "model_name": "DescriptionStyleModel",
          "model_module_version": "1.5.0",
          "state": {
            "_model_module": "@jupyter-widgets/controls",
            "_model_module_version": "1.5.0",
            "_model_name": "DescriptionStyleModel",
            "_view_count": null,
            "_view_module": "@jupyter-widgets/base",
            "_view_module_version": "1.2.0",
            "_view_name": "StyleView",
            "description_width": ""
          }
        },
        "918a7fb8eedf44748c8f6e1b9f44b96f": {
          "model_module": "@jupyter-widgets/base",
          "model_name": "LayoutModel",
          "model_module_version": "1.2.0",
          "state": {
            "_model_module": "@jupyter-widgets/base",
            "_model_module_version": "1.2.0",
            "_model_name": "LayoutModel",
            "_view_count": null,
            "_view_module": "@jupyter-widgets/base",
            "_view_module_version": "1.2.0",
            "_view_name": "LayoutView",
            "align_content": null,
            "align_items": null,
            "align_self": null,
            "border": null,
            "bottom": null,
            "display": null,
            "flex": null,
            "flex_flow": null,
            "grid_area": null,
            "grid_auto_columns": null,
            "grid_auto_flow": null,
            "grid_auto_rows": null,
            "grid_column": null,
            "grid_gap": null,
            "grid_row": null,
            "grid_template_areas": null,
            "grid_template_columns": null,
            "grid_template_rows": null,
            "height": null,
            "justify_content": null,
            "justify_items": null,
            "left": null,
            "margin": null,
            "max_height": null,
            "max_width": null,
            "min_height": null,
            "min_width": null,
            "object_fit": null,
            "object_position": null,
            "order": null,
            "overflow": null,
            "overflow_x": null,
            "overflow_y": null,
            "padding": null,
            "right": null,
            "top": null,
            "visibility": null,
            "width": null
          }
        },
        "8fe1cfc5c6ab4b63b45e96cc32fa8f95": {
          "model_module": "@jupyter-widgets/controls",
          "model_name": "ProgressStyleModel",
          "model_module_version": "1.5.0",
          "state": {
            "_model_module": "@jupyter-widgets/controls",
            "_model_module_version": "1.5.0",
            "_model_name": "ProgressStyleModel",
            "_view_count": null,
            "_view_module": "@jupyter-widgets/base",
            "_view_module_version": "1.2.0",
            "_view_name": "StyleView",
            "bar_color": null,
            "description_width": ""
          }
        },
        "e63b771e0ab34dda89986540b2a5401e": {
          "model_module": "@jupyter-widgets/base",
          "model_name": "LayoutModel",
          "model_module_version": "1.2.0",
          "state": {
            "_model_module": "@jupyter-widgets/base",
            "_model_module_version": "1.2.0",
            "_model_name": "LayoutModel",
            "_view_count": null,
            "_view_module": "@jupyter-widgets/base",
            "_view_module_version": "1.2.0",
            "_view_name": "LayoutView",
            "align_content": null,
            "align_items": null,
            "align_self": null,
            "border": null,
            "bottom": null,
            "display": null,
            "flex": null,
            "flex_flow": null,
            "grid_area": null,
            "grid_auto_columns": null,
            "grid_auto_flow": null,
            "grid_auto_rows": null,
            "grid_column": null,
            "grid_gap": null,
            "grid_row": null,
            "grid_template_areas": null,
            "grid_template_columns": null,
            "grid_template_rows": null,
            "height": null,
            "justify_content": null,
            "justify_items": null,
            "left": null,
            "margin": null,
            "max_height": null,
            "max_width": null,
            "min_height": null,
            "min_width": null,
            "object_fit": null,
            "object_position": null,
            "order": null,
            "overflow": null,
            "overflow_x": null,
            "overflow_y": null,
            "padding": null,
            "right": null,
            "top": null,
            "visibility": null,
            "width": null
          }
        },
        "6caf637cae0141f68d99d948127a5965": {
          "model_module": "@jupyter-widgets/controls",
          "model_name": "DescriptionStyleModel",
          "model_module_version": "1.5.0",
          "state": {
            "_model_module": "@jupyter-widgets/controls",
            "_model_module_version": "1.5.0",
            "_model_name": "DescriptionStyleModel",
            "_view_count": null,
            "_view_module": "@jupyter-widgets/base",
            "_view_module_version": "1.2.0",
            "_view_name": "StyleView",
            "description_width": ""
          }
        }
      }
    }
  },
  "cells": [
    {
      "cell_type": "markdown",
      "metadata": {
        "id": "view-in-github",
        "colab_type": "text"
      },
      "source": [
        "<a href=\"https://colab.research.google.com/github/guscldns/TestProject/blob/main/%EC%9E%A5%EA%B8%B0/T_5.ipynb\" target=\"_parent\"><img src=\"https://colab.research.google.com/assets/colab-badge.svg\" alt=\"Open In Colab\"/></a>"
      ]
    },
    {
      "cell_type": "markdown",
      "source": [
        "#T5-base-korean-text-summary\n",
        "\n",
        "#T5는 Text-to-Text Transfer Transformer모델을 한국어와 영어 코퍼스를 이용하여 사전학습한 모델입니다.\n",
        "\n",
        "출처 : lcw99/T5-base-korean-text-summary\n",
        "https://github.com/Bomtori/pko_T5_fineTuning/blob/main/T_5.ipynb"
      ],
      "metadata": {
        "id": "n7Hqe8OmgJ8t"
      }
    },
    {
      "cell_type": "code",
      "source": [
        "#파이썬 버전 확인\n",
        "!python --version"
      ],
      "metadata": {
        "id": "kNZjxBJbgNoQ",
        "colab": {
          "base_uri": "https://localhost:8080/"
        },
        "outputId": "7634f99a-efe8-44c0-8220-1ec2a2ff7ba4"
      },
      "execution_count": null,
      "outputs": [
        {
          "output_type": "stream",
          "name": "stdout",
          "text": [
            "Python 3.10.12\n"
          ]
        }
      ]
    },
    {
      "cell_type": "markdown",
      "source": [
        "#필요 패키지 설치"
      ],
      "metadata": {
        "id": "mucN2gP0KOcL"
      }
    },
    {
      "cell_type": "code",
      "source": [
        "!pip install torch transformers"
      ],
      "metadata": {
        "id": "30eo7jVvJqQI",
        "colab": {
          "base_uri": "https://localhost:8080/"
        },
        "outputId": "f1641b9f-86cc-4425-e2de-fba252800703"
      },
      "execution_count": null,
      "outputs": [
        {
          "output_type": "stream",
          "name": "stdout",
          "text": [
            "Requirement already satisfied: torch in /usr/local/lib/python3.10/dist-packages (2.0.1+cu118)\n",
            "Collecting transformers\n",
            "  Downloading transformers-4.34.0-py3-none-any.whl (7.7 MB)\n",
            "\u001b[2K     \u001b[90m━━━━━━━━━━━━━━━━━━━━━━━━━━━━━━━━━━━━━━━━\u001b[0m \u001b[32m7.7/7.7 MB\u001b[0m \u001b[31m17.6 MB/s\u001b[0m eta \u001b[36m0:00:00\u001b[0m\n",
            "\u001b[?25hRequirement already satisfied: filelock in /usr/local/lib/python3.10/dist-packages (from torch) (3.12.4)\n",
            "Requirement already satisfied: typing-extensions in /usr/local/lib/python3.10/dist-packages (from torch) (4.5.0)\n",
            "Requirement already satisfied: sympy in /usr/local/lib/python3.10/dist-packages (from torch) (1.12)\n",
            "Requirement already satisfied: networkx in /usr/local/lib/python3.10/dist-packages (from torch) (3.1)\n",
            "Requirement already satisfied: jinja2 in /usr/local/lib/python3.10/dist-packages (from torch) (3.1.2)\n",
            "Requirement already satisfied: triton==2.0.0 in /usr/local/lib/python3.10/dist-packages (from torch) (2.0.0)\n",
            "Requirement already satisfied: cmake in /usr/local/lib/python3.10/dist-packages (from triton==2.0.0->torch) (3.27.6)\n",
            "Requirement already satisfied: lit in /usr/local/lib/python3.10/dist-packages (from triton==2.0.0->torch) (17.0.2)\n",
            "Collecting huggingface-hub<1.0,>=0.16.4 (from transformers)\n",
            "  Downloading huggingface_hub-0.17.3-py3-none-any.whl (295 kB)\n",
            "\u001b[2K     \u001b[90m━━━━━━━━━━━━━━━━━━━━━━━━━━━━━━━━━━━━━━\u001b[0m \u001b[32m295.0/295.0 kB\u001b[0m \u001b[31m35.2 MB/s\u001b[0m eta \u001b[36m0:00:00\u001b[0m\n",
            "\u001b[?25hRequirement already satisfied: numpy>=1.17 in /usr/local/lib/python3.10/dist-packages (from transformers) (1.23.5)\n",
            "Requirement already satisfied: packaging>=20.0 in /usr/local/lib/python3.10/dist-packages (from transformers) (23.2)\n",
            "Requirement already satisfied: pyyaml>=5.1 in /usr/local/lib/python3.10/dist-packages (from transformers) (6.0.1)\n",
            "Requirement already satisfied: regex!=2019.12.17 in /usr/local/lib/python3.10/dist-packages (from transformers) (2023.6.3)\n",
            "Requirement already satisfied: requests in /usr/local/lib/python3.10/dist-packages (from transformers) (2.31.0)\n",
            "Collecting tokenizers<0.15,>=0.14 (from transformers)\n",
            "  Downloading tokenizers-0.14.1-cp310-cp310-manylinux_2_17_x86_64.manylinux2014_x86_64.whl (3.8 MB)\n",
            "\u001b[2K     \u001b[90m━━━━━━━━━━━━━━━━━━━━━━━━━━━━━━━━━━━━━━━━\u001b[0m \u001b[32m3.8/3.8 MB\u001b[0m \u001b[31m46.4 MB/s\u001b[0m eta \u001b[36m0:00:00\u001b[0m\n",
            "\u001b[?25hCollecting safetensors>=0.3.1 (from transformers)\n",
            "  Downloading safetensors-0.4.0-cp310-cp310-manylinux_2_17_x86_64.manylinux2014_x86_64.whl (1.3 MB)\n",
            "\u001b[2K     \u001b[90m━━━━━━━━━━━━━━━━━━━━━━━━━━━━━━━━━━━━━━━━\u001b[0m \u001b[32m1.3/1.3 MB\u001b[0m \u001b[31m51.4 MB/s\u001b[0m eta \u001b[36m0:00:00\u001b[0m\n",
            "\u001b[?25hRequirement already satisfied: tqdm>=4.27 in /usr/local/lib/python3.10/dist-packages (from transformers) (4.66.1)\n",
            "Requirement already satisfied: fsspec in /usr/local/lib/python3.10/dist-packages (from huggingface-hub<1.0,>=0.16.4->transformers) (2023.6.0)\n",
            "Requirement already satisfied: MarkupSafe>=2.0 in /usr/local/lib/python3.10/dist-packages (from jinja2->torch) (2.1.3)\n",
            "Requirement already satisfied: charset-normalizer<4,>=2 in /usr/local/lib/python3.10/dist-packages (from requests->transformers) (3.3.0)\n",
            "Requirement already satisfied: idna<4,>=2.5 in /usr/local/lib/python3.10/dist-packages (from requests->transformers) (3.4)\n",
            "Requirement already satisfied: urllib3<3,>=1.21.1 in /usr/local/lib/python3.10/dist-packages (from requests->transformers) (2.0.6)\n",
            "Requirement already satisfied: certifi>=2017.4.17 in /usr/local/lib/python3.10/dist-packages (from requests->transformers) (2023.7.22)\n",
            "Requirement already satisfied: mpmath>=0.19 in /usr/local/lib/python3.10/dist-packages (from sympy->torch) (1.3.0)\n",
            "Installing collected packages: safetensors, huggingface-hub, tokenizers, transformers\n",
            "Successfully installed huggingface-hub-0.17.3 safetensors-0.4.0 tokenizers-0.14.1 transformers-4.34.0\n"
          ]
        }
      ]
    },
    {
      "cell_type": "code",
      "source": [
        "import torch\n",
        "from transformers import T5TokenizerFast, T5ForConditionalGeneration, T5Config\n",
        "from torch.utils.data import DataLoader, Dataset\n",
        "import zipfile\n",
        "import json\n",
        "import pandas as pd\n",
        "from tqdm import tqdm"
      ],
      "metadata": {
        "id": "XzfPLswqVcIu"
      },
      "execution_count": null,
      "outputs": []
    },
    {
      "cell_type": "code",
      "source": [
        "from google.colab import drive\n",
        "drive.mount('/content/drive')"
      ],
      "metadata": {
        "colab": {
          "base_uri": "https://localhost:8080/"
        },
        "id": "i9aQiUDRpDR-",
        "outputId": "a62785df-0604-42b2-8340-6d3acdbfc70a"
      },
      "execution_count": null,
      "outputs": [
        {
          "output_type": "stream",
          "name": "stdout",
          "text": [
            "Mounted at /content/drive\n"
          ]
        }
      ]
    },
    {
      "cell_type": "markdown",
      "source": [
        "# 요약문 및 레포트 생성 데이터 파인 튜닝"
      ],
      "metadata": {
        "id": "CarD6VlmtIRW"
      }
    },
    {
      "cell_type": "code",
      "source": [
        "class CustomDataset(Dataset):\n",
        "    def __init__(self, data, tokenizer):\n",
        "        self.data = data\n",
        "        self.tokenizer = tokenizer\n",
        "\n",
        "    def __len__(self):\n",
        "        return len(self.data)\n",
        "\n",
        "    def __getitem__(self, idx):\n",
        "        item = self.data[idx]\n",
        "        source_text = item[\"passage\"]\n",
        "        target_text = item[\"generative_summary\"]\n",
        "        source_inputs = self.tokenizer.encode_plus(source_text, padding=\"max_length\", truncation=True, max_length=512, return_tensors=\"pt\")\n",
        "        target_inputs = self.tokenizer.encode_plus(target_text, padding=\"max_length\", truncation=True, max_length=64, return_tensors=\"pt\")\n",
        "        return {\n",
        "            \"input_ids\": source_inputs[\"input_ids\"].squeeze(),\n",
        "            \"attention_mask\": source_inputs[\"attention_mask\"].squeeze(),\n",
        "            \"labels\": target_inputs[\"input_ids\"].squeeze(),\n",
        "            \"decoder_attention_mask\": target_inputs[\"attention_mask\"].squeeze()\n",
        "        }\n"
      ],
      "metadata": {
        "id": "UCI5hHDY08mL"
      },
      "execution_count": null,
      "outputs": []
    },
    {
      "cell_type": "markdown",
      "source": [
        "##### 요약문 데이터"
      ],
      "metadata": {
        "id": "lo9URJnshaq3"
      }
    },
    {
      "cell_type": "code",
      "source": [
        "def load_dataset(train_zip_file_path, test_zip_file_path):\n",
        "    def generator(fpath):\n",
        "        with zipfile.ZipFile(fpath, \"r\") as fp:\n",
        "            file_list = fp.namelist()\n",
        "            file_list = filter(lambda x: x.endswith(\".json\"), file_list)\n",
        "            for fname in file_list:\n",
        "                item = json.load(fp.open(fname, \"r\"))\n",
        "                ma = item[\"Meta(Acqusition)\"]\n",
        "                mr = item[\"Meta(Refine)\"]\n",
        "                ann = item[\"Annotation\"]\n",
        "\n",
        "                ann_dir = fname.split('/')[-2]\n",
        "\n",
        "                generative_summary = ann[\"summary1\"]\n",
        "                if ann_dir == \"20per\":\n",
        "                    extractive_summary = ann[\"summary3\"]\n",
        "                else:\n",
        "                    extractive_summary = ann[\"summary2\"]\n",
        "\n",
        "                yield {\n",
        "                    \"doc_type\": ma[\"doc_type\"],\n",
        "                    \"passage_id\": mr[\"passage_id\"],\n",
        "                    \"passage\": mr[\"passage\"],\n",
        "                    \"generative_summary\": generative_summary,\n",
        "                    \"extractive_summary\": extractive_summary,\n",
        "                }\n",
        "\n",
        "    train_dataset_generator = generator(train_zip_file_path)\n",
        "    test_dataset_generator = generator(test_zip_file_path)\n",
        "\n",
        "    train_dataset = list(train_dataset_generator)\n",
        "    test_dataset = list(test_dataset_generator)\n",
        "\n",
        "    return train_dataset, test_dataset"
      ],
      "metadata": {
        "id": "HwMKG4ZO0_qq"
      },
      "execution_count": null,
      "outputs": []
    },
    {
      "cell_type": "code",
      "source": [
        "# 데이터셋 경로\n",
        "train_zip_file_path = \"/content/drive/MyDrive/data/022.요약문 및 레포트 생성 데이터/01.데이터/1.Training/라벨링데이터/TL1.zip\"\n",
        "test_zip_file_path = \"/content/drive/MyDrive/data/022.요약문 및 레포트 생성 데이터/01.데이터/2.Validation/라벨링데이터/VL1.zip\"\n"
      ],
      "metadata": {
        "id": "mw747JTW1In-"
      },
      "execution_count": null,
      "outputs": []
    },
    {
      "cell_type": "code",
      "source": [
        "# 데이터셋 로드\n",
        "train_dataset, test_dataset = load_dataset(train_zip_file_path, test_zip_file_path)\n"
      ],
      "metadata": {
        "id": "OKfnZsXM1KzD"
      },
      "execution_count": null,
      "outputs": []
    },
    {
      "cell_type": "markdown",
      "source": [
        "##### 자체 제작 데이터"
      ],
      "metadata": {
        "id": "OS3WpwLgiKnh"
      }
    },
    {
      "cell_type": "code",
      "source": [
        "import pandas as pd\n",
        "\n",
        "train = pd.read_csv('/content/drive/MyDrive/train.csv', encoding= 'cp949')\n",
        "test = pd.read_csv('/content/drive/MyDrive/test.csv', encoding= 'cp949')\n",
        "\n",
        "train"
      ],
      "metadata": {
        "colab": {
          "base_uri": "https://localhost:8080/",
          "height": 424
        },
        "id": "v0EZJV58iMN-",
        "outputId": "f1418156-0187-4ffe-f3e1-9086c30368de"
      },
      "execution_count": 14,
      "outputs": [
        {
          "output_type": "execute_result",
          "data": {
            "text/plain": [
              "                                                   news  \\\n",
              "0      “제가 만일 일한합병 때 나서 있었다면, 이완용이, 이용구, 송병준이 그런 놈들을...   \n",
              "1      내가 퍽 어리석은 녀석이지요 ── 무척 못난 녀석이지요. 그렇지마는 지 금 와서 ...   \n",
              "2      술을 마시지 않는 자에겐 이 약수터가 훌륭한 피서지이었지만 술을 마시 는 사람에겐...   \n",
              "3      그러나 한 주일쯤 뒤에 정희는 동경 땅을 밟게 되었다. 이번의 정희의 동 경행에 ...   \n",
              "4     그 여자는 매우 고맙다고 인사를 하고 그제서야 매우 친절하게 굴며 몸을 녹이라고 화...   \n",
              "...                                                 ...   \n",
              "9899  S# 28. 동만네 집 전경(밤) 동만 모의 진한 핏빛 울음소리 들리는데 빗속에 누...   \n",
              "9900  S# 91. 염전 주막 방 안 천가가 문을 열어 주면 송화가 방으로 들어가 앉는다....   \n",
              "9901  30대 중반의 정원은 불치의 병을 앓고 있는 사진사이다. 이제는 죽음을 담담하게 받...   \n",
              "9902  S# 57. 수하 하숙방 (휴일 한낮) 수하, 은희가 준 엘피 음반을 정성껏 닦아 ...   \n",
              "9903  S# 23. 다시 촌장 집 마당, 밤 / 외부 마을 사람들 사이사이로 간간이 보이는...   \n",
              "\n",
              "                                                summary  \n",
              "0     내가 미국인과 걸어오는 춘자와 딱 마주치고 주춤하는 사이 춘자는 고개를 꽃꽃이 쳐들...  \n",
              "1     학비 주시는 은인이나 교회 여러 직에 계신 분들의 추천을 얻느라 고심한 결과 동경에...  \n",
              "2     내가 술을 제대로 계속하는 건강한 몸이었다면 이 약수터가 피서지로서의 대상이 되었을...  \n",
              "3     그러나 일주일 뒤에 정희는 약혼자인 남영식의 극력 찬성으로 동경에 가게 되었는데 그...  \n",
              "4     사냥군은 깜짝 놀라 벗어놓았던 망태를 둘러멘 뒤 총도 거꾸로 들고 뒷문으로 도망을 쳤다.  \n",
              "...                                                 ...  \n",
              "9899    장맛비가 계속 오는 가운데 전쟁으로 외할머니의 아들 길준에 집안 분위기가 좋지 않다.  \n",
              "9900  송화라는 여인이 동호라는 남자와 오랜만에 재회하고, 그의 북소리에 맞춰 노래를 부른...  \n",
              "9901  정원은 사진관에서 다림의 사진을 찍고, 다림은 화장품과 옷을 고르다가 포기한다. 다...  \n",
              "9902  홍연이 남자 선생님인 수하에게 반하고, 그의 팔을 꼬집은 일을 잊지 못하고 일기에 ...  \n",
              "9903  인민군과 국군이 마을 사람들을 두고 대치한다. 인민군은 총알이 없어서 수류탄을 들고...  \n",
              "\n",
              "[9904 rows x 2 columns]"
            ],
            "text/html": [
              "\n",
              "  <div id=\"df-483bc4a7-2b34-4ae9-ad2b-7d043dd3f8a7\" class=\"colab-df-container\">\n",
              "    <div>\n",
              "<style scoped>\n",
              "    .dataframe tbody tr th:only-of-type {\n",
              "        vertical-align: middle;\n",
              "    }\n",
              "\n",
              "    .dataframe tbody tr th {\n",
              "        vertical-align: top;\n",
              "    }\n",
              "\n",
              "    .dataframe thead th {\n",
              "        text-align: right;\n",
              "    }\n",
              "</style>\n",
              "<table border=\"1\" class=\"dataframe\">\n",
              "  <thead>\n",
              "    <tr style=\"text-align: right;\">\n",
              "      <th></th>\n",
              "      <th>news</th>\n",
              "      <th>summary</th>\n",
              "    </tr>\n",
              "  </thead>\n",
              "  <tbody>\n",
              "    <tr>\n",
              "      <th>0</th>\n",
              "      <td>“제가 만일 일한합병 때 나서 있었다면, 이완용이, 이용구, 송병준이 그런 놈들을...</td>\n",
              "      <td>내가 미국인과 걸어오는 춘자와 딱 마주치고 주춤하는 사이 춘자는 고개를 꽃꽃이 쳐들...</td>\n",
              "    </tr>\n",
              "    <tr>\n",
              "      <th>1</th>\n",
              "      <td>내가 퍽 어리석은 녀석이지요 ── 무척 못난 녀석이지요. 그렇지마는 지 금 와서 ...</td>\n",
              "      <td>학비 주시는 은인이나 교회 여러 직에 계신 분들의 추천을 얻느라 고심한 결과 동경에...</td>\n",
              "    </tr>\n",
              "    <tr>\n",
              "      <th>2</th>\n",
              "      <td>술을 마시지 않는 자에겐 이 약수터가 훌륭한 피서지이었지만 술을 마시 는 사람에겐...</td>\n",
              "      <td>내가 술을 제대로 계속하는 건강한 몸이었다면 이 약수터가 피서지로서의 대상이 되었을...</td>\n",
              "    </tr>\n",
              "    <tr>\n",
              "      <th>3</th>\n",
              "      <td>그러나 한 주일쯤 뒤에 정희는 동경 땅을 밟게 되었다. 이번의 정희의 동 경행에 ...</td>\n",
              "      <td>그러나 일주일 뒤에 정희는 약혼자인 남영식의 극력 찬성으로 동경에 가게 되었는데 그...</td>\n",
              "    </tr>\n",
              "    <tr>\n",
              "      <th>4</th>\n",
              "      <td>그 여자는 매우 고맙다고 인사를 하고 그제서야 매우 친절하게 굴며 몸을 녹이라고 화...</td>\n",
              "      <td>사냥군은 깜짝 놀라 벗어놓았던 망태를 둘러멘 뒤 총도 거꾸로 들고 뒷문으로 도망을 쳤다.</td>\n",
              "    </tr>\n",
              "    <tr>\n",
              "      <th>...</th>\n",
              "      <td>...</td>\n",
              "      <td>...</td>\n",
              "    </tr>\n",
              "    <tr>\n",
              "      <th>9899</th>\n",
              "      <td>S# 28. 동만네 집 전경(밤) 동만 모의 진한 핏빛 울음소리 들리는데 빗속에 누...</td>\n",
              "      <td>장맛비가 계속 오는 가운데 전쟁으로 외할머니의 아들 길준에 집안 분위기가 좋지 않다.</td>\n",
              "    </tr>\n",
              "    <tr>\n",
              "      <th>9900</th>\n",
              "      <td>S# 91. 염전 주막 방 안 천가가 문을 열어 주면 송화가 방으로 들어가 앉는다....</td>\n",
              "      <td>송화라는 여인이 동호라는 남자와 오랜만에 재회하고, 그의 북소리에 맞춰 노래를 부른...</td>\n",
              "    </tr>\n",
              "    <tr>\n",
              "      <th>9901</th>\n",
              "      <td>30대 중반의 정원은 불치의 병을 앓고 있는 사진사이다. 이제는 죽음을 담담하게 받...</td>\n",
              "      <td>정원은 사진관에서 다림의 사진을 찍고, 다림은 화장품과 옷을 고르다가 포기한다. 다...</td>\n",
              "    </tr>\n",
              "    <tr>\n",
              "      <th>9902</th>\n",
              "      <td>S# 57. 수하 하숙방 (휴일 한낮) 수하, 은희가 준 엘피 음반을 정성껏 닦아 ...</td>\n",
              "      <td>홍연이 남자 선생님인 수하에게 반하고, 그의 팔을 꼬집은 일을 잊지 못하고 일기에 ...</td>\n",
              "    </tr>\n",
              "    <tr>\n",
              "      <th>9903</th>\n",
              "      <td>S# 23. 다시 촌장 집 마당, 밤 / 외부 마을 사람들 사이사이로 간간이 보이는...</td>\n",
              "      <td>인민군과 국군이 마을 사람들을 두고 대치한다. 인민군은 총알이 없어서 수류탄을 들고...</td>\n",
              "    </tr>\n",
              "  </tbody>\n",
              "</table>\n",
              "<p>9904 rows × 2 columns</p>\n",
              "</div>\n",
              "    <div class=\"colab-df-buttons\">\n",
              "\n",
              "  <div class=\"colab-df-container\">\n",
              "    <button class=\"colab-df-convert\" onclick=\"convertToInteractive('df-483bc4a7-2b34-4ae9-ad2b-7d043dd3f8a7')\"\n",
              "            title=\"Convert this dataframe to an interactive table.\"\n",
              "            style=\"display:none;\">\n",
              "\n",
              "  <svg xmlns=\"http://www.w3.org/2000/svg\" height=\"24px\" viewBox=\"0 -960 960 960\">\n",
              "    <path d=\"M120-120v-720h720v720H120Zm60-500h600v-160H180v160Zm220 220h160v-160H400v160Zm0 220h160v-160H400v160ZM180-400h160v-160H180v160Zm440 0h160v-160H620v160ZM180-180h160v-160H180v160Zm440 0h160v-160H620v160Z\"/>\n",
              "  </svg>\n",
              "    </button>\n",
              "\n",
              "  <style>\n",
              "    .colab-df-container {\n",
              "      display:flex;\n",
              "      gap: 12px;\n",
              "    }\n",
              "\n",
              "    .colab-df-convert {\n",
              "      background-color: #E8F0FE;\n",
              "      border: none;\n",
              "      border-radius: 50%;\n",
              "      cursor: pointer;\n",
              "      display: none;\n",
              "      fill: #1967D2;\n",
              "      height: 32px;\n",
              "      padding: 0 0 0 0;\n",
              "      width: 32px;\n",
              "    }\n",
              "\n",
              "    .colab-df-convert:hover {\n",
              "      background-color: #E2EBFA;\n",
              "      box-shadow: 0px 1px 2px rgba(60, 64, 67, 0.3), 0px 1px 3px 1px rgba(60, 64, 67, 0.15);\n",
              "      fill: #174EA6;\n",
              "    }\n",
              "\n",
              "    .colab-df-buttons div {\n",
              "      margin-bottom: 4px;\n",
              "    }\n",
              "\n",
              "    [theme=dark] .colab-df-convert {\n",
              "      background-color: #3B4455;\n",
              "      fill: #D2E3FC;\n",
              "    }\n",
              "\n",
              "    [theme=dark] .colab-df-convert:hover {\n",
              "      background-color: #434B5C;\n",
              "      box-shadow: 0px 1px 3px 1px rgba(0, 0, 0, 0.15);\n",
              "      filter: drop-shadow(0px 1px 2px rgba(0, 0, 0, 0.3));\n",
              "      fill: #FFFFFF;\n",
              "    }\n",
              "  </style>\n",
              "\n",
              "    <script>\n",
              "      const buttonEl =\n",
              "        document.querySelector('#df-483bc4a7-2b34-4ae9-ad2b-7d043dd3f8a7 button.colab-df-convert');\n",
              "      buttonEl.style.display =\n",
              "        google.colab.kernel.accessAllowed ? 'block' : 'none';\n",
              "\n",
              "      async function convertToInteractive(key) {\n",
              "        const element = document.querySelector('#df-483bc4a7-2b34-4ae9-ad2b-7d043dd3f8a7');\n",
              "        const dataTable =\n",
              "          await google.colab.kernel.invokeFunction('convertToInteractive',\n",
              "                                                    [key], {});\n",
              "        if (!dataTable) return;\n",
              "\n",
              "        const docLinkHtml = 'Like what you see? Visit the ' +\n",
              "          '<a target=\"_blank\" href=https://colab.research.google.com/notebooks/data_table.ipynb>data table notebook</a>'\n",
              "          + ' to learn more about interactive tables.';\n",
              "        element.innerHTML = '';\n",
              "        dataTable['output_type'] = 'display_data';\n",
              "        await google.colab.output.renderOutput(dataTable, element);\n",
              "        const docLink = document.createElement('div');\n",
              "        docLink.innerHTML = docLinkHtml;\n",
              "        element.appendChild(docLink);\n",
              "      }\n",
              "    </script>\n",
              "  </div>\n",
              "\n",
              "\n",
              "<div id=\"df-3417d545-eb16-4b1d-a316-cd57b7303978\">\n",
              "  <button class=\"colab-df-quickchart\" onclick=\"quickchart('df-3417d545-eb16-4b1d-a316-cd57b7303978')\"\n",
              "            title=\"Suggest charts.\"\n",
              "            style=\"display:none;\">\n",
              "\n",
              "<svg xmlns=\"http://www.w3.org/2000/svg\" height=\"24px\"viewBox=\"0 0 24 24\"\n",
              "     width=\"24px\">\n",
              "    <g>\n",
              "        <path d=\"M19 3H5c-1.1 0-2 .9-2 2v14c0 1.1.9 2 2 2h14c1.1 0 2-.9 2-2V5c0-1.1-.9-2-2-2zM9 17H7v-7h2v7zm4 0h-2V7h2v10zm4 0h-2v-4h2v4z\"/>\n",
              "    </g>\n",
              "</svg>\n",
              "  </button>\n",
              "\n",
              "<style>\n",
              "  .colab-df-quickchart {\n",
              "      --bg-color: #E8F0FE;\n",
              "      --fill-color: #1967D2;\n",
              "      --hover-bg-color: #E2EBFA;\n",
              "      --hover-fill-color: #174EA6;\n",
              "      --disabled-fill-color: #AAA;\n",
              "      --disabled-bg-color: #DDD;\n",
              "  }\n",
              "\n",
              "  [theme=dark] .colab-df-quickchart {\n",
              "      --bg-color: #3B4455;\n",
              "      --fill-color: #D2E3FC;\n",
              "      --hover-bg-color: #434B5C;\n",
              "      --hover-fill-color: #FFFFFF;\n",
              "      --disabled-bg-color: #3B4455;\n",
              "      --disabled-fill-color: #666;\n",
              "  }\n",
              "\n",
              "  .colab-df-quickchart {\n",
              "    background-color: var(--bg-color);\n",
              "    border: none;\n",
              "    border-radius: 50%;\n",
              "    cursor: pointer;\n",
              "    display: none;\n",
              "    fill: var(--fill-color);\n",
              "    height: 32px;\n",
              "    padding: 0;\n",
              "    width: 32px;\n",
              "  }\n",
              "\n",
              "  .colab-df-quickchart:hover {\n",
              "    background-color: var(--hover-bg-color);\n",
              "    box-shadow: 0 1px 2px rgba(60, 64, 67, 0.3), 0 1px 3px 1px rgba(60, 64, 67, 0.15);\n",
              "    fill: var(--button-hover-fill-color);\n",
              "  }\n",
              "\n",
              "  .colab-df-quickchart-complete:disabled,\n",
              "  .colab-df-quickchart-complete:disabled:hover {\n",
              "    background-color: var(--disabled-bg-color);\n",
              "    fill: var(--disabled-fill-color);\n",
              "    box-shadow: none;\n",
              "  }\n",
              "\n",
              "  .colab-df-spinner {\n",
              "    border: 2px solid var(--fill-color);\n",
              "    border-color: transparent;\n",
              "    border-bottom-color: var(--fill-color);\n",
              "    animation:\n",
              "      spin 1s steps(1) infinite;\n",
              "  }\n",
              "\n",
              "  @keyframes spin {\n",
              "    0% {\n",
              "      border-color: transparent;\n",
              "      border-bottom-color: var(--fill-color);\n",
              "      border-left-color: var(--fill-color);\n",
              "    }\n",
              "    20% {\n",
              "      border-color: transparent;\n",
              "      border-left-color: var(--fill-color);\n",
              "      border-top-color: var(--fill-color);\n",
              "    }\n",
              "    30% {\n",
              "      border-color: transparent;\n",
              "      border-left-color: var(--fill-color);\n",
              "      border-top-color: var(--fill-color);\n",
              "      border-right-color: var(--fill-color);\n",
              "    }\n",
              "    40% {\n",
              "      border-color: transparent;\n",
              "      border-right-color: var(--fill-color);\n",
              "      border-top-color: var(--fill-color);\n",
              "    }\n",
              "    60% {\n",
              "      border-color: transparent;\n",
              "      border-right-color: var(--fill-color);\n",
              "    }\n",
              "    80% {\n",
              "      border-color: transparent;\n",
              "      border-right-color: var(--fill-color);\n",
              "      border-bottom-color: var(--fill-color);\n",
              "    }\n",
              "    90% {\n",
              "      border-color: transparent;\n",
              "      border-bottom-color: var(--fill-color);\n",
              "    }\n",
              "  }\n",
              "</style>\n",
              "\n",
              "  <script>\n",
              "    async function quickchart(key) {\n",
              "      const quickchartButtonEl =\n",
              "        document.querySelector('#' + key + ' button');\n",
              "      quickchartButtonEl.disabled = true;  // To prevent multiple clicks.\n",
              "      quickchartButtonEl.classList.add('colab-df-spinner');\n",
              "      try {\n",
              "        const charts = await google.colab.kernel.invokeFunction(\n",
              "            'suggestCharts', [key], {});\n",
              "      } catch (error) {\n",
              "        console.error('Error during call to suggestCharts:', error);\n",
              "      }\n",
              "      quickchartButtonEl.classList.remove('colab-df-spinner');\n",
              "      quickchartButtonEl.classList.add('colab-df-quickchart-complete');\n",
              "    }\n",
              "    (() => {\n",
              "      let quickchartButtonEl =\n",
              "        document.querySelector('#df-3417d545-eb16-4b1d-a316-cd57b7303978 button');\n",
              "      quickchartButtonEl.style.display =\n",
              "        google.colab.kernel.accessAllowed ? 'block' : 'none';\n",
              "    })();\n",
              "  </script>\n",
              "</div>\n",
              "    </div>\n",
              "  </div>\n"
            ]
          },
          "metadata": {},
          "execution_count": 14
        }
      ]
    },
    {
      "cell_type": "code",
      "source": [
        "# 문자열이 아닌 데이터 유형을 선택\n",
        "non_string_columns = train.select_dtypes(exclude='object')\n",
        "\n",
        "# 문자열이 아닌 열을 확인하여 데이터 프레임에 문자열이 아닌 데이터가 있는지 확인\n",
        "if non_string_columns.empty:\n",
        "    print(\"데이터 프레임에 문자열이 아닌 데이터가 없습니다.\")\n",
        "else:\n",
        "    print(\"데이터 프레임에 문자열이 아닌 데이터가 있습니다.\")\n",
        "    print(\"문자열이 아닌 열:\")\n",
        "    print(non_string_columns)"
      ],
      "metadata": {
        "colab": {
          "base_uri": "https://localhost:8080/"
        },
        "id": "CUI5QfMryj9l",
        "outputId": "e3bd8c69-01b7-41fa-ea09-bd96ae465bea"
      },
      "execution_count": 39,
      "outputs": [
        {
          "output_type": "stream",
          "name": "stdout",
          "text": [
            "데이터 프레임에 문자열이 아닌 데이터가 없습니다.\n"
          ]
        }
      ]
    },
    {
      "cell_type": "code",
      "source": [
        "class CustomDataset(Dataset):\n",
        "    def __init__(self, data, tokenizer):\n",
        "        self.data = data\n",
        "        self.tokenizer = tokenizer\n",
        "\n",
        "    def __len__(self):\n",
        "        return len(self.data)\n",
        "\n",
        "    def __getitem__(self, idx):\n",
        "        item = self.data[idx]\n",
        "        source_text = item['news']\n",
        "        target_text = item['summary']\n",
        "        source_inputs = self.tokenizer.encode_plus(source_text, padding=\"max_length\", truncation=True, max_length=512, return_tensors=\"pt\")\n",
        "        target_inputs = self.tokenizer.encode_plus(target_text, padding=\"max_length\", truncation=True, max_length=64, return_tensors=\"pt\")\n",
        "        return {\n",
        "            \"input_ids\": source_inputs[\"input_ids\"].squeeze(),\n",
        "            \"attention_mask\": source_inputs[\"attention_mask\"].squeeze(),\n",
        "            \"labels\": target_inputs[\"input_ids\"].squeeze(),\n",
        "            \"decoder_attention_mask\": target_inputs[\"attention_mask\"].squeeze()\n",
        "        }\n"
      ],
      "metadata": {
        "id": "sIrZhdK8ldFC"
      },
      "execution_count": 17,
      "outputs": []
    },
    {
      "cell_type": "code",
      "source": [
        "def load_dataset(train_file_path, test_file_path):\n",
        "    def generator(fpath):\n",
        "        csv_file = pd.read_csv(fpath, encoding='cp949')\n",
        "        csv_file = csv_file.dropna()\n",
        "        for n, s in zip(csv_file['news'], csv_file['summary']):\n",
        "            news = n\n",
        "            summary = s\n",
        "            yield {\n",
        "                \"news\": news,\n",
        "                \"summary\": summary\n",
        "            }\n",
        "\n",
        "    train_dataset_generator = generator(train_file_path)\n",
        "    test_dataset_generator = generator(test_file_path)\n",
        "\n",
        "    train_dataset = list(train_dataset_generator)\n",
        "    test_dataset = list(test_dataset_generator)\n",
        "\n",
        "    return train_dataset, test_dataset"
      ],
      "metadata": {
        "id": "lHk_8mMmrYQR"
      },
      "execution_count": 40,
      "outputs": []
    },
    {
      "cell_type": "code",
      "source": [
        "train_file_path = '/content/drive/MyDrive/train.csv'\n",
        "test_file_path = '/content/drive/MyDrive/test.csv'\n",
        "train_dataset, test_dataset = load_dataset(train_file_path, test_file_path)"
      ],
      "metadata": {
        "id": "B49ETOrnsc2p"
      },
      "execution_count": 41,
      "outputs": []
    },
    {
      "cell_type": "code",
      "source": [
        "from transformers import T5TokenizerFast, T5ForConditionalGeneration\n",
        "import torch.optim as optim\n",
        "\n",
        "# 파인튜닝한 모델 설정\n",
        "model_path = \"/content/drive/MyDrive/data/finetuning_model\"\n",
        "model = T5ForConditionalGeneration.from_pretrained(model_path)\n",
        "tokenizer = T5TokenizerFast.from_pretrained(model_path, is_split_into_words=True)\n",
        "\n",
        "# # 모델 및 토크나이저 설정\n",
        "# tokenizer = T5TokenizerFast.from_pretrained('paust/pko-t5-small')\n",
        "# model = T5ForConditionalGeneration.from_pretrained('paust/pko-t5-small')\n",
        "\n",
        "device = torch.device('cuda' if torch.cuda.is_available() else 'cpu')\n",
        "model.to(device)\n",
        "\n",
        "epochs = 1\n",
        "optimizer = optim.Adam(model.parameters(), lr=1e-4)"
      ],
      "metadata": {
        "id": "WC3LARRDnH6y"
      },
      "execution_count": 36,
      "outputs": []
    },
    {
      "cell_type": "code",
      "source": [
        "# 데이터셋 전처리 및 데이터로더 설정\n",
        "train_custom_dataset = CustomDataset(train_dataset, tokenizer)\n",
        "train_dataloader = DataLoader(train_custom_dataset, batch_size=16, shuffle=True)"
      ],
      "metadata": {
        "id": "Eyom2T2OmKMl"
      },
      "execution_count": 43,
      "outputs": []
    },
    {
      "cell_type": "code",
      "source": [
        "model.train()\n",
        "for epoch in range(epochs):\n",
        "    total_loss = 0\n",
        "    with tqdm(total=len(train_dataloader), desc=f\"Epoch {epoch+1}/{epochs}\", unit=\"batch\") as pbar:\n",
        "        for batch in train_dataloader:\n",
        "            input_ids = batch[\"input_ids\"].to(device)\n",
        "            attention_mask = batch[\"attention_mask\"].to(device)\n",
        "            labels = batch[\"labels\"].to(device)\n",
        "            decoder_attention_mask = batch[\"decoder_attention_mask\"].to(device)\n",
        "\n",
        "            optimizer.zero_grad()\n",
        "            outputs = model(input_ids=input_ids, attention_mask=attention_mask, labels=labels, decoder_attention_mask=decoder_attention_mask)\n",
        "            loss = outputs.loss\n",
        "            total_loss += loss.item()\n",
        "            loss.backward()\n",
        "            optimizer.step()\n",
        "\n",
        "            pbar.set_postfix(loss=total_loss / (pbar.n + 1))\n",
        "            pbar.update()\n",
        "\n",
        "    print(f\"Epoch: {epoch+1}, Loss: {total_loss / len(train_dataloader)}\")\n"
      ],
      "metadata": {
        "colab": {
          "base_uri": "https://localhost:8080/"
        },
        "id": "3Iam_dYenH66",
        "outputId": "14debaae-0e99-4a97-87e4-3b786a72faec"
      },
      "execution_count": 44,
      "outputs": [
        {
          "output_type": "stream",
          "name": "stderr",
          "text": [
            "Epoch 1/1: 100%|██████████| 619/619 [07:04<00:00,  1.46batch/s, loss=0.65]"
          ]
        },
        {
          "output_type": "stream",
          "name": "stdout",
          "text": [
            "Epoch: 1, Loss: 0.6500597643832976\n"
          ]
        },
        {
          "output_type": "stream",
          "name": "stderr",
          "text": [
            "\n"
          ]
        }
      ]
    },
    {
      "cell_type": "code",
      "source": [
        "# 파인 튜닝된 모델 저장\n",
        "output_dir = \"/content/drive/MyDrive/data/finetuning_model_sum\"\n",
        "model.save_pretrained(output_dir)\n",
        "tokenizer.save_pretrained(output_dir)"
      ],
      "metadata": {
        "id": "J44lVHConH66"
      },
      "execution_count": null,
      "outputs": []
    },
    {
      "cell_type": "markdown",
      "source": [
        "# 모델 설정"
      ],
      "metadata": {
        "id": "TwyPx2u6OaKo"
      }
    },
    {
      "cell_type": "code",
      "source": [
        "# 모델 및 토크나이저 설정\n",
        "tokenizer = T5TokenizerFast.from_pretrained('paust/pko-t5-small')\n",
        "model = T5ForConditionalGeneration.from_pretrained('paust/pko-t5-small')\n"
      ],
      "metadata": {
        "id": "9xKq9NYU1K1j",
        "colab": {
          "base_uri": "https://localhost:8080/",
          "height": 177,
          "referenced_widgets": [
            "450caa87927647be97889b3571d731d3",
            "bda439485aa44ded806dbeb2b08ca228",
            "f15ffec2a0d749de9dc2280fd5398759",
            "65a3f0015d8d4eadb1050ed8efd78e8d",
            "c91128653e704e0f8f6c1002791d1248",
            "af26213ee9ec46dd9352711c22be7fc0",
            "a59d54c050364ddda9a7b75977eefb26",
            "b8d533a9d4dc4beda386a97803e0b18e",
            "ed587160cf07486aa1e4555b75ccc1a4",
            "9b38fb6882104c38b2a61115eae05519",
            "563e8461fc644728b4fe443ab82c80ea",
            "d6b01c37b40f483792f9340a9034a3bd",
            "25336ac2a84f491eac3769501ed4735a",
            "e1270bca40fe49569bfb75754b6a6c52",
            "27ff01241b7e4669ad444e590d99dc9e",
            "a4eba42b75ce41049afb58549bfdbfae",
            "eb8026be1ac54bc4a3c66e1d7c931906",
            "f8134ad23e9f442797edc18971cfb70d",
            "b313f780efa1478faa8a84c97cb2e9ba",
            "14f953ccd8464aa995cf3b0f6876013f",
            "061401157d294018a16809dc8bc571bc",
            "156702f54b1e4c8ea40098ca6de7ebf6",
            "0522b15108a7462fa1d27de372e43f99",
            "c2684c442b844ac9bf7fd0e8d66e32a5",
            "c0a228123a0b44d7b77cd6020f27b43a",
            "0733632098244c7694c3f3cacfe17b79",
            "29f47b853f494384b0ae49783d95a778",
            "c58bd4e53db649fc901af3a06b63875f",
            "048f0db3a4624d28ae7c8c798917677e",
            "0a5fa6c99c7746c0a13a545fb718ba4f",
            "7719585f50bd4688b6d91358abc3e20f",
            "eee6bd7df05545bc9565720ff4b34442",
            "c2e0de230ed84c2784558eecd34be8fa",
            "49ba6e92071943b3b4e230aee20a7e6a",
            "cfcdda6920984843a29262095cea33d4",
            "8441bd07da4e44ffb4bfda2b1e801b2a",
            "c7a7b64f3e0d4fdf9b0e1880c2057f47",
            "57ee9b3a59f5463e96316f838ba5ff6b",
            "aff0931244db42f5a3b6740a10a7f8fc",
            "5980f08a3d8c4789bba3c24ab147aa58",
            "1a7f2e75515d46f39a95a45895cb9227",
            "6a2475bd6a4d4a129c423df4733dfa85",
            "8d1cf46921ad431891223d44932ac3f8",
            "8e250ec8c0c543229fddd6a96be648b5",
            "2fc1b73d719343fcb16da503a4474f99",
            "e08846a0ffcb4026942dbb239a220157",
            "8dda20b1efbb45188f62d1e3419ea9c6",
            "c1562fdf28c548128dabe4a7f54ebef1",
            "5910c015a1bb4fc5a7c3c5cf76a3bfac",
            "8c1fbd9f9b36424db82e83ff4832e013",
            "3f9ae2b9aad743dfb822275eec8ac32e",
            "918a7fb8eedf44748c8f6e1b9f44b96f",
            "8fe1cfc5c6ab4b63b45e96cc32fa8f95",
            "e63b771e0ab34dda89986540b2a5401e",
            "6caf637cae0141f68d99d948127a5965"
          ]
        },
        "outputId": "f0bd8622-572b-4af5-8f55-d96fcce28a6c"
      },
      "execution_count": null,
      "outputs": [
        {
          "output_type": "display_data",
          "data": {
            "text/plain": [
              "Downloading (…)okenizer_config.json:   0%|          | 0.00/1.95k [00:00<?, ?B/s]"
            ],
            "application/vnd.jupyter.widget-view+json": {
              "version_major": 2,
              "version_minor": 0,
              "model_id": "450caa87927647be97889b3571d731d3"
            }
          },
          "metadata": {}
        },
        {
          "output_type": "display_data",
          "data": {
            "text/plain": [
              "Downloading (…)/main/tokenizer.json:   0%|          | 0.00/2.92M [00:00<?, ?B/s]"
            ],
            "application/vnd.jupyter.widget-view+json": {
              "version_major": 2,
              "version_minor": 0,
              "model_id": "d6b01c37b40f483792f9340a9034a3bd"
            }
          },
          "metadata": {}
        },
        {
          "output_type": "display_data",
          "data": {
            "text/plain": [
              "Downloading (…)cial_tokens_map.json:   0%|          | 0.00/1.79k [00:00<?, ?B/s]"
            ],
            "application/vnd.jupyter.widget-view+json": {
              "version_major": 2,
              "version_minor": 0,
              "model_id": "0522b15108a7462fa1d27de372e43f99"
            }
          },
          "metadata": {}
        },
        {
          "output_type": "display_data",
          "data": {
            "text/plain": [
              "Downloading (…)lve/main/config.json:   0%|          | 0.00/726 [00:00<?, ?B/s]"
            ],
            "application/vnd.jupyter.widget-view+json": {
              "version_major": 2,
              "version_minor": 0,
              "model_id": "49ba6e92071943b3b4e230aee20a7e6a"
            }
          },
          "metadata": {}
        },
        {
          "output_type": "display_data",
          "data": {
            "text/plain": [
              "Downloading pytorch_model.bin:   0%|          | 0.00/383M [00:00<?, ?B/s]"
            ],
            "application/vnd.jupyter.widget-view+json": {
              "version_major": 2,
              "version_minor": 0,
              "model_id": "2fc1b73d719343fcb16da503a4474f99"
            }
          },
          "metadata": {}
        }
      ]
    },
    {
      "cell_type": "code",
      "source": [
        "# GPU 사용 여부 확인 및 설정\n",
        "device = torch.device(\"cuda\" if torch.cuda.is_available() else \"cpu\")\n",
        "model.to(device)"
      ],
      "metadata": {
        "id": "luoqq0111K4X"
      },
      "execution_count": null,
      "outputs": []
    },
    {
      "cell_type": "code",
      "source": [
        "# 데이터셋 전처리 및 데이터로더 설정\n",
        "train_custom_dataset = CustomDataset(train_dataset, tokenizer)\n",
        "train_dataloader = DataLoader(train_custom_dataset, batch_size=16, shuffle=True)\n"
      ],
      "metadata": {
        "id": "5p_GEr8Q1K7M"
      },
      "execution_count": null,
      "outputs": []
    },
    {
      "cell_type": "code",
      "source": [
        "import torch.optim as optim\n",
        "\n",
        "# 파인 튜닝을 위한 하이퍼파라미터 설정\n",
        "epochs = 3\n",
        "learning_rate = 1e-4\n",
        "\n",
        "# 선택한 최적화 알고리즘과 모델의 매개변수를 전달하여 optimizer를 초기화합니다.\n",
        "optimizer = optim.Adam(model.parameters(), lr=learning_rate)"
      ],
      "metadata": {
        "id": "Z4vKBHrk1Rf4"
      },
      "execution_count": null,
      "outputs": []
    },
    {
      "cell_type": "markdown",
      "source": [
        "# 모델 학습"
      ],
      "metadata": {
        "id": "Ka7lbwWCOnHb"
      }
    },
    {
      "cell_type": "code",
      "source": [
        "model.train()\n",
        "for epoch in range(epochs):\n",
        "    total_loss = 0\n",
        "    with tqdm(total=len(train_dataloader), desc=f\"Epoch {epoch+1}/{epochs}\", unit=\"batch\") as pbar:\n",
        "        for batch in train_dataloader:\n",
        "            input_ids = batch[\"input_ids\"].to(device)\n",
        "            attention_mask = batch[\"attention_mask\"].to(device)\n",
        "            labels = batch[\"labels\"].to(device)\n",
        "            decoder_attention_mask = batch[\"decoder_attention_mask\"].to(device)\n",
        "\n",
        "            optimizer.zero_grad()\n",
        "            outputs = model(input_ids=input_ids, attention_mask=attention_mask, labels=labels, decoder_attention_mask=decoder_attention_mask)\n",
        "            loss = outputs.loss\n",
        "            total_loss += loss.item()\n",
        "            loss.backward()\n",
        "            optimizer.step()\n",
        "\n",
        "            pbar.set_postfix(loss=total_loss / (pbar.n + 1))\n",
        "            pbar.update()\n",
        "\n",
        "    print(f\"Epoch: {epoch+1}, Loss: {total_loss / len(train_dataloader)}\")\n"
      ],
      "metadata": {
        "id": "0_Yq4ZoA1RlY"
      },
      "execution_count": null,
      "outputs": []
    },
    {
      "cell_type": "code",
      "source": [
        "from keras.models import load_model\n",
        "\n",
        "model.save('pko_t5_finetune')"
      ],
      "metadata": {
        "id": "_Oo2z5eCqX7h"
      },
      "execution_count": null,
      "outputs": []
    },
    {
      "cell_type": "markdown",
      "source": [
        "# 파인 튜닝 모델 저장"
      ],
      "metadata": {
        "id": "gFUoDbBYOsJS"
      }
    },
    {
      "cell_type": "code",
      "source": [
        "# 파인 튜닝된 모델 저장\n",
        "output_dir = \"/content/drive/MyDrive/data/finetuning_model\"\n",
        "model.save_pretrained(output_dir)\n",
        "tokenizer.save_pretrained(output_dir)\n"
      ],
      "metadata": {
        "id": "qGaQcfKw1K90",
        "colab": {
          "base_uri": "https://localhost:8080/"
        },
        "outputId": "f52a4c68-c5e5-4c78-ef01-fcedc59d2b92"
      },
      "execution_count": 45,
      "outputs": [
        {
          "output_type": "execute_result",
          "data": {
            "text/plain": [
              "('/content/drive/MyDrive/data/finetuning_model/tokenizer_config.json',\n",
              " '/content/drive/MyDrive/data/finetuning_model/special_tokens_map.json',\n",
              " '/content/drive/MyDrive/data/finetuning_model/tokenizer.json')"
            ]
          },
          "metadata": {},
          "execution_count": 45
        }
      ]
    },
    {
      "cell_type": "markdown",
      "source": [
        "#파인튜닝 후 모델 및 토크나이저 로드"
      ],
      "metadata": {
        "id": "LdfQmzzddLXr"
      }
    },
    {
      "cell_type": "code",
      "source": [
        "from transformers import T5TokenizerFast, T5ForConditionalGeneration\n",
        "\n",
        "model_path = \"/content/drive/MyDrive/data/finetuning_model\"  # 저장된 모델의 디렉토리 경로\n",
        "\n",
        "tokenizer = T5TokenizerFast.from_pretrained(model_path)\n",
        "model = T5ForConditionalGeneration.from_pretrained(model_path)\n"
      ],
      "metadata": {
        "id": "rFhtHG72dKkI"
      },
      "execution_count": null,
      "outputs": []
    },
    {
      "cell_type": "markdown",
      "source": [
        "#모델 사용"
      ],
      "metadata": {
        "id": "M5U2uMQldWcs"
      }
    },
    {
      "cell_type": "code",
      "source": [
        "input_text = \"\"\"현대자동차 생산 공장에 처음으로 여성 직원이 투입될 전망입니다.\n",
        "현대차는 올해 기술직 신규 채용 인원 400명 가운데 1차 최종합격자인 200명을 선정해 당사자에게 개별 통보했는데, 이 200명 가운데 6명이 여성인 걸로 나타났습니다.\n",
        "금속노조 여성위원회는 어제 입장문을 내고 \"회사 창립 후 여성 노동자에게 처음으로 열린 기술직 공채의 문\"이라면서도 \"합격자 200명 중 여성은 6명, 3%에 그쳤다\"며 \"더 많은 여성 노동자가 배제 없이 채용되길 바란다\"고 밝혔습니다.\n",
        "다만 이 6명은 현재 합격자로 통보받은 상황이고 최종 채용된 건 아닙니다.\n",
        "앞서 현대차는 지난해 노조와 합의에 따라 국내 생산공장에서 근무할 기술직 직원을 10년 만에 채용하기로 했습니다.\n",
        "올해 400명, 내년 300명으로 모두 700명 규모로, 올해 1차 채용 서류 접수 첫날에는 접속자가 몰려 홈페이지가 마비되는 일이\n",
        "벌어지기도 했습니다.\"\"\"  # 요약할 입력 문장\n",
        "\n",
        "input_ids = tokenizer.encode(input_text, padding=\"max_length\", truncation=True, max_length=512, return_tensors=\"pt\")\n",
        "outputs = model.generate(input_ids, max_length=300)\n",
        "generated_summary = tokenizer.decode(outputs[0], skip_special_tokens=True)\n",
        "\n",
        "print(\"Generated Summary:\", generated_summary)\n"
      ],
      "metadata": {
        "id": "z70Jo26ldSOB"
      },
      "execution_count": null,
      "outputs": []
    },
    {
      "cell_type": "code",
      "source": [
        "input_text = \"\"\"러시아가 우크라이나를 침공한 지 500일이 넘었지만, 여전히 주요 소셜 미디어 플랫폼에선 우크라이나 전쟁과 관련해 잘못된 정보와 오해의 소지가 있는 게시물이 계속해서 확산하고 있다.\n",
        "가장 널리 공유된 예 중 일부는 트위터에서 찾아볼 수 있었는데, 파란색 체크 표시가 있는 트위터 계정들이 게시한 것들이었다. ‘트위터 블루’라고 불리는 이 파란색 체크 표시는 다른 사용자에게 자신의 콘텐츠를 홍보하기 위해 돈을 지불하고 유료로 서비스를 구독하는 사람들이 받을 수 있다.\n",
        "우크라이나의 무기는 프랑스 폭력 시위에 사용되지 않았다\n",
        "최근 프랑스 폭동에 대해 오해의 소지가 있는 많은 게시물이 온라인상에서 공유됐다. 하지만 지난주 우크라이나에 대한 미국의 군사 지원에 초점을 맞춘 한 게시물이 크게 화제가 됐다.\n",
        "해당 게시물은 두 개의 소총 사진이 있는 뉴스 웹사이트의 헤드라인 화면을 스크린샷해 올렸다.\n",
        "헤드라인에는 “프랑스 경찰은 우크라이나에서 왔을지도 모르는 미국산 소총으로 공격받고 있다”고 쓰여 있다.\n",
        " “프랑스 경찰은 우크라이나에서 왔을지도 모르는 미국산 소총으로 공격받고 있다”고 쓰여 있는 트위터 화면. 거짓 정보다.\n",
        "사진 출처,TWITTER\n",
        "파란색 체크 표시를 가진 다른 트위터 계정들이 이 게시물을 공유하면서, 이 게시물은 결국 100만이 넘는 조회수를 기록했다.\n",
        "BBC의 사실 검증 탐사보도 팀인 ‘BBC Verify’는 이를 검증하기 위해 텔레그램 메신저 앱의 친 크렘린궁 채널까지 추적한 결과 해당 게시물에 사용된 사진이 2012년 한 러시아 군사 관련 블로그에 등장하는 것을 발견했다. 모스크바 인근 사격장에서 열린 사격 대회에 대한 내용이었다.\n",
        "BBC는 또한 위와 같은 헤드라인과 사진이 있는 온라인 기사를 찾을 수 없었으며, 미국이 우크라이나에 제공한 무기가 최근 프랑스의 소요 사태 동안 사용됐다는 증거도 존재하지 않는다.\n",
        "프랑스 폭동: 온라인에 유포되는 폭동 루머\n",
        "2023년 7월 3일\n",
        "틱톡에 확산하는 우크라이나 전쟁 가짜 영상\n",
        "2022년 4월 28일\n",
        "트위터에서 활개치는 러시아 트롤\n",
        "2023년 4월 14일\n",
        "우크라이나 '아기 공장'에 대한 증거는 없다\n",
        "파란색 체크 표시가 있는 몇몇 트위터 계정은 최근 러시아가 우크라이나에서 “아기 공장”을 발견했다는 주장을 홍보했다.\n",
        "2세에서 7세 사이의 아이들이 “공장에서 생산되어”, “아동 성매매촌”으로 보내지거나 장기 매매를 위해 서양에 판매된다는 주장이다.\n",
        "최근 러시아가 우크라이나에서 “아기 공장”을 발견했다는 주장을 담은 트위터 화면. 증거가 없는 주장이다.\n",
        "사진 출처,TWITTER\n",
        "BBC Verify가 해당 주장의 기원을 추적한 결과, 지난 3월 ‘더 피플스 보이스(The People’s Voice)’라고도 알려진 ‘유어뉴스와이어(YourNewsWire)’에 게재된 기사라는 것을 확인했다. 해당 단체는 팩트 체크 기관들이 인터넷에서 가짜 뉴스를 가장 많이 생산하는 업체 중 하나로 묘사해 온 곳이다.\n",
        "이 단체는 과거 여러 허위 정보와 오해의 소지가 있는 이야기들을 홍보한 적이 있으며, 특히 지난 2017년 라스베이거스 총기 난사 사건에 대한 거짓 주장과 코로나19 백신 음모론 등을 퍼뜨린 바 있다.\n",
        "러시아 정부와 크렘린궁이 통제하는 언론은 우크라이나에서의 불법 장기 매매에 대한 근거 없는 주장을 홍보한 전력이 있다.\n",
        "크라마토르스크의 미사일 공격은 우크라이나가 한 것이 아니다\n",
        "지난 6월 말, 우크라이나 동부 크라마토르스크 중심부에서 러시아의 미사일 공격으로 8명이 사망했다.\n",
        "해당 공습 직후 트위터 블루를 구독하는 한 계정이 자신을 적법한 뉴스 출처라고 주장하면서 트위터에 한 게시글을 올렸다. 해당 게시글은 이번 공습이 우크라이나군에 의해 실수로 이뤄진 것이라며 나토군과 외국 용병들이 있는 군 막사도 공격받았다고 주장했다.\n",
        "러시아 미사일 우크라 동부 중심부 강타\n",
        "2023년 6월 28일\n",
        "크라마토르스크 미사일 공습이 우크라이나군에 의한 것이라는 주장의 트위터 화면. 거짓이다.\n",
        "사진 출처,TWITTER\n",
        "이 게시글은 “스톰 쉐도우 미사일이 갑자기 궤적을 극적으로 바꿔 크라마토르스크를 타격했으며 외국 군인과 용병이 있는 우크라이나 군 막사를 궤멸시켰다”고 주장했다.\n",
        "해당 게시글은 100만 회 이상 조회됐다.\n",
        "그러나 우크라이나군이 발사한 미사일이 원인이라는 증거도, 군 막사를 타격했다는 증거도 전혀 없다.\n",
        "젤렌스키 대통령은 선거를 취소하지 않았다\n",
        "볼로디미르 젤렌스키 우크라이나 대통령이 우크라이나 선거를 “취소”했다는 주장이 최근 트위터에서 확산하고 있다.\n",
        "그 증거로 사용자들은 지난 6월 BBC와의 인터뷰에서 젤렌스키 대통령이 했던 발언을 인용했다.\n",
        "내년에 우크라이나에서 선거가 있을 것인지에 대한 질문에 젤렌스키 대통령은 이렇게 답했다. “우리가 [전쟁에서] 승리한다면 선거는 있을 것입니다. 즉 계엄령도, 전쟁도 없다는 것을 의미하죠. 법에 따르면, 전쟁이 없는 평시에 선거는 반드시 치러져야 합니다.”\n",
        "우크라이나에 대한 미국의 원조에 비판적이었던 전 폭스 뉴스 진행자 터커 칼슨은 최근 시작한 그의 트위터 쇼에서 젤렌스키의 발언은 그가 우크라이나의 민주주의를 종식시켰다는 것을 증명했다고 말했다.\n",
        "트위터 블루 계정들은 비슷한 주제의 내용을 수십만 번 이상 공유했다.\n",
        "볼로디미르 젤렌스키 우크라이나 대통령이 우크라이나 선거를 “취소”하려고 협박한다는 주장의 트위터. 오해의 소지가 있다.\n",
        "사진 출처,TWITTER\n",
        "우크라이나 헌법은 계엄령 기간 중 의회 해산과 총선을 금지하고 있다. 즉 계엄 기간이 끝날 때까지 현 대통령과 의회가 책임을 유지한다는 뜻이다.\n",
        "최근 올렉시 다닐로우 우크라이나 국가안보국방위원회 서기는 우크라이나 헌법에 따라 계염령이 시행되는 동안 “어떤 선거도 실시할 수 없다”고 공식 입장을 밝혔다.\n",
        "한편 이 기사에서 언급한 허위 및 오해의 소지가 있는 트위터 블루 게시물에 관해 BBC Verify가 트위터 측에 연락을 취했으나, 트위터의 언론 담당 부서는 BBC의 문의를 받은 것은 인정했으나 관련한 답변은 거부했다.\"\"\"  # 요약할 입력 문장\n",
        "\n",
        "input_ids = tokenizer.encode(input_text, padding=\"max_length\", truncation=True, max_length=1024, return_tensors=\"pt\")\n",
        "outputs = model.generate(input_ids, max_length=500)\n",
        "generated_summary = tokenizer.decode(outputs[0], skip_special_tokens=True)\n",
        "\n",
        "print(\"Generated Summary:\", generated_summary)\n"
      ],
      "metadata": {
        "id": "0iJlmEErdrEa"
      },
      "execution_count": null,
      "outputs": []
    },
    {
      "cell_type": "code",
      "source": [
        "input_text = \"\"\"보건복지부는 11일 의약품 관련 기관·단체들과 간담회를 열고 의약품 부족과 일반의약품 가격 인상 문제 등을 논의했다고 밝혔다.\n",
        "\n",
        "박민수 제2차관이 주재한 이날 간담회엔 식품의약품안전처, 대한의사협회, 대한약사회, 한국의약품유통협회, 한국제약바이오협회, 한국병원약사회, 의약품관리종합정보센터 관계자 등이 참석했다.\n",
        "\n",
        "이 자리에서는 의약품 부족 문제에 대응하기 위해 지난 3월 구성된 '의약품 수급 불안정 민관 대응 협의체'의 진행 상황과 함께 현장에서 체감하는 의약품 수급 불안 현황과 원인, 제도 개선방안 등에 대해 논의했다.\n",
        "\n",
        "또 처방전 없이 살 수 있는 일반의약품(OTC)의 최근 잇단 가격 인상과 관련해 가격 인상이 국민에게 큰 부담이 되지 않도록 업체의 자체적인 노력을 요청했다고 복지부는 전했다.\n",
        "\n",
        "박 차관은 \"앞으로 현장과 전문가 의견을 충실히 수렴해 의약품 부족 상황에 대한 면밀한 분석과 함께 부족 우려 의약품의 공급·수요 관리를 위한 제도개선 및 정보시스템 정비 등 체계적 대응 방안을 마련해 나가도록 하겠다\"고 말했다.\n",
        "\n",
        "한편 복지부는 공장 해외이전으로 지난해 3월 생산이 중단된 해열제 타이레놀 일부 제품(어린이용 타이레놀정 80mg, 타이레놀정 160mg)에 대해선 \"이미 생산된 재고량이 상당량 존재하고 재허가를 시도하는 품목이 있어 상황을 살펴보고 있다\"고 설명했다.\n",
        "\n",
        "이들 제품은 편의점에서도 판매할 수 있는 안전상비의약품 13개에 포함돼 있는데, 생산 중단 이후 공급이 원활하지 않아 편의점 구입이 어렵다는 지적이 나온 바 있다.\n",
        "\n",
        "복지부는 이들 2개 품목의 경우 \"어린이부루펜시럽, 어린이용타이레놀현탁액 등 안전상비의약품 대체 품목이 존재하고 있다\"며 \"안전상비의약품 지정 취소 및 대체약 추가 지정 필요성은 하반기 내에 신속히 논의해 결정하겠다\"고 밝혔다.\"\"\"  # 요약할 입력 문장\n",
        "\n",
        "input_ids = tokenizer.encode(input_text, padding=\"max_length\", truncation=True, max_length=1024, return_tensors=\"pt\")\n",
        "outputs = model.generate(input_ids, max_length=512)\n",
        "generated_summary = tokenizer.decode(outputs[0], skip_special_tokens=True)\n",
        "\n",
        "print(\"Generated Summary:\", generated_summary)\n"
      ],
      "metadata": {
        "id": "w7TrtRfDw-zW"
      },
      "execution_count": null,
      "outputs": []
    },
    {
      "cell_type": "code",
      "source": [
        "input_text = \"\"\"생성형 AI 시대, 우리는 무엇을 준비해야 하는가과거 ‘대답’을 잘하는 사람이 전문가였던 시절에서 ‘검색’을 잘하는 사람이 전문가였던 시대를 지나, ‘질문’을 잘하는 사람이 전문가로 인정받는 세상을 맞이하고 있다. 생성형 AI는 우리가 정보를 다루는 방식에 큰 변화를 가져올 것이다. 그동안 우리는 필요한 정보를 신속하게 획득할 수 있는 검색 능력에 주로 의존해 왔으나, 앞으로는 필요한 답변을 원하는 양식대로 빠르게 얻어 내는 능력이 중요해질 것이다. 결국 AI에 일을 더 잘 시키기 위한 프롬프트를 찾는 작업, 이른바 프롬프트 엔지니어링(Prompt Engineering)이 중요해질 것이다. 일부 테크 기업들은 이미 프롬프트 엔지니어 채용 공고를 내기 시작했다. 2월 초 구글이 5,000억 원을 투자한 AI 스타트업 앤스로픽(Anthropic)은 지난달 연봉 3억~4억 원 수준의 프롬프트 엔지니어·데이터 라이브러리 관리자 채용 공고를 냈다. \"\"\"  # 요약할 입력 문장\n",
        "\n",
        "input_ids = tokenizer.encode(input_text, padding=\"max_length\", truncation=True, max_length=1024, return_tensors=\"pt\")\n",
        "outputs = model.generate(input_ids, max_length=512)\n",
        "generated_summary = tokenizer.decode(outputs[0], skip_special_tokens=True)\n",
        "\n",
        "print(\"Generated Summary:\", generated_summary)\n"
      ],
      "metadata": {
        "id": "_I84IdM81QXP"
      },
      "execution_count": null,
      "outputs": []
    },
    {
      "cell_type": "code",
      "source": [
        "input_text = \"\"\"7월 초순까지 반도체와 대(對)중국 수출의 부진이 이어지며 전체 수출도 1년 전보다 15%가량 줄어들었다.\n",
        "\n",
        "지난달 흑자로 돌아섰던 무역수지는 이달 초순까지 적자를 기록하며 올해 누적 무역적자는 290억달러에 육박한 것이다.\n",
        "\n",
        "11일 관세청에 따르면 7월 1∼10일 수출액(통관 기준 잠정치)은 132억6천700만달러로 작년 같은 기간보다 14.8% 감소했다.\n",
        "\n",
        "조업일수를 고려한 일평균 수출액도 14.8% 감소했고 이 기간 조업일수는 7.0일로 작년(7.0일)과 같았다.\n",
        "\n",
        "월간 수출액은 전년 동월 대비 기준 작년 10월부터 지난달까지 9개월 연속 감소세를 이어가고 있다.\n",
        "\n",
        "품목별로 보면 반도체 수출이 1년 전보다 36.8% 줄었으며 반도체 수출 감소는 월간 기준 지난달까지 11개월 연속 이어지고 있다.\n",
        "\n",
        "철강제품(-14.5%), 석유제품(-51.3%), 무선통신기기(-27.1%) 등의 수출도 1년 전보다 줄었다.\n",
        "\n",
        "반면 승용차(25.2%), 선박(74.0%) 등은 늘었다.\n",
        "\n",
        "국가별로는 최대 교역국인 중국에 대한 수출이 20.6% 감소했고 대중 수출의 감소세는 13개월 넘게 지속되고 있다.\n",
        "\n",
        "미국(-9.0%), 베트남(-32.5%), 일본(-20.8%) 등도 줄었으며 유럽연합(EU·22.4%), 인도(11.1%) 등은 늘었다.\n",
        "\n",
        "이달 10일까지 수입액은 155억4천300만달러로 26.9% 감소했다.\n",
        "\n",
        "3대 에너지원인 원유(-55.2%), 가스(-32.2%), 석탄(-59.0%) 등의 수입이 모두 줄었고 반도체(-23.8%), 석유제품(-33.5%), 반도체 제조장비(-14.7%) 등도 감소했다.\n",
        "\n",
        "무선통신기기(48.1%)와 기계류(0.5%) 등은 늘었다.\n",
        "\n",
        "국가별로는 베트남(13.7%), 말레이시아(6.1%) 등은 늘고 중국(-16.8%), 미국(-17.5%), EU(-5.9%) 등은 줄었다.\n",
        "\n",
        "이달 1∼10일 무역수지는 22억7천600만달러 적자를 기록했다.\n",
        "\n",
        "특히 지난달 같은 기간(14억2천700만달러 적자)보다 적자 규모가 늘었다.\n",
        "\n",
        "무역수지는 월간 기준으로 작년 3월부터 지난달까지 15개월 연속 적자가 지속되다가 지난달 흑자로 돌아선 바 있다.\n",
        "\n",
        "올해 들어 누적된 무역적자는 287억4천100만달러로 집계됐으며 이달 초순에 적자를 기록하며 올해 누적 적자 규모가 지난달 기준보다 늘었다.\n",
        "\n",
        "이달 1∼10일 중국과의 무역수지는 8억4천300만달러 적자였다.\n",
        "\n",
        "대중 무역적자는 작년 10월부터 9개월째 이어지고 있다.\n",
        "\n",
        "\"\"\"  # 요약할 입력 문장\n",
        "\n",
        "input_ids = tokenizer.encode(input_text, padding=\"max_length\", truncation=True, max_length=1024, return_tensors=\"pt\")\n",
        "outputs = model.generate(input_ids, max_length=512)\n",
        "generated_summary = tokenizer.decode(outputs[0], skip_special_tokens=True)\n",
        "\n",
        "print(\"Generated Summary:\", generated_summary)\n"
      ],
      "metadata": {
        "id": "Ky7iydBG155T"
      },
      "execution_count": null,
      "outputs": []
    },
    {
      "cell_type": "code",
      "source": [],
      "metadata": {
        "id": "lbVfGW-74G1E"
      },
      "execution_count": null,
      "outputs": []
    },
    {
      "cell_type": "markdown",
      "source": [
        "#문서 요약 텍스트 파인튜닝"
      ],
      "metadata": {
        "id": "M5H6xB9Pf1zW"
      }
    },
    {
      "cell_type": "code",
      "source": [
        "# 데이터셋 경로\n",
        "train_zip_file_path = \"/content/drive/MyDrive/data/문서요약 텍스트/Training/신문기사_train_original.zip\"\n",
        "test_zip_file_path = \"/content/drive/MyDrive/data/문서요약 텍스트/Validation/신문기사_valid_original.zip\"\n"
      ],
      "metadata": {
        "id": "pbJVKzlHxPYS"
      },
      "execution_count": null,
      "outputs": []
    },
    {
      "cell_type": "code",
      "source": [
        "class CustomDataset(Dataset):\n",
        "    def __init__(self, json_file, tokenizer):\n",
        "        self.data = self.load_json(json_file)\n",
        "        self.tokenizer = tokenizer\n",
        "\n",
        "    def __len__(self):\n",
        "        return len(self.data)\n",
        "\n",
        "    def __getitem__(self, idx):\n",
        "      document = self.data[idx]\n",
        "      sentences = [item[0]['sentence'] for item in document['text'] if len(item) > 0]\n",
        "      target_text = document['abstractive'][0]\n",
        "\n",
        "      input_text = \" \".join(sentences)\n",
        "\n",
        "      input_ids = self.tokenizer.encode(input_text, truncation=True, padding='max_length', max_length=512)\n",
        "      target_ids = self.tokenizer.encode(target_text, truncation=True, padding='max_length', max_length=128)\n",
        "\n",
        "      return {\n",
        "          'input_ids': torch.tensor(input_ids, dtype=torch.long),\n",
        "          'attention_mask': torch.tensor([1] * len(input_ids), dtype=torch.long),\n",
        "          'target_ids': torch.tensor(target_ids, dtype=torch.long),\n",
        "          'target_attention_mask': torch.tensor([1] * len(target_ids), dtype=torch.long)\n",
        "      }\n",
        "\n",
        "\n",
        "\n",
        "    def load_json(self, json_file):\n",
        "        with open(json_file, 'r', encoding='utf-8') as file:\n",
        "            data = json.load(file)\n",
        "        return data['documents']\n"
      ],
      "metadata": {
        "id": "bJQP9jUfC_6f"
      },
      "execution_count": null,
      "outputs": []
    },
    {
      "cell_type": "code",
      "source": [
        "# JSON 파일 압축 해제 및 데이터 로드\n",
        "train_zip_file_path = \"/content/drive/MyDrive/data/문서요약 텍스트/Training/신문기사_train_original.zip\"\n",
        "test_zip_file_path = \"/content/drive/MyDrive/data/문서요약 텍스트/Validation/신문기사_valid_original.zip\"\n",
        "\n",
        "train_extracted_path = \"/content/train\"\n",
        "test_extracted_path = \"/content/test\""
      ],
      "metadata": {
        "id": "PF_wO4DDl200"
      },
      "execution_count": null,
      "outputs": []
    },
    {
      "cell_type": "code",
      "source": [
        "import os\n",
        "# 훈련 데이터 압축 해제\n",
        "with zipfile.ZipFile(train_zip_file_path, 'r') as zip_ref:\n",
        "    zip_ref.extractall(train_extracted_path)\n",
        "\n",
        "# 테스트 데이터 압축 해제\n",
        "with zipfile.ZipFile(test_zip_file_path, 'r') as zip_ref:\n",
        "    zip_ref.extractall(test_extracted_path)\n",
        "\n",
        "tokenizer = T5TokenizerFast.from_pretrained(\"/content/drive/MyDrive/data/finetuning_model\")\n",
        "train_dataset = CustomDataset(os.path.join(train_extracted_path, 'train_original.json'), tokenizer)\n",
        "train_loader = DataLoader(train_dataset, batch_size=4, shuffle=True)\n"
      ],
      "metadata": {
        "id": "_QjGrXxf9BZT"
      },
      "execution_count": null,
      "outputs": []
    },
    {
      "cell_type": "code",
      "source": [
        "# 모델 설정\n",
        "model = T5ForConditionalGeneration.from_pretrained(\"/content/drive/MyDrive/data/finetuning_model\")\n",
        "device = torch.device('cuda' if torch.cuda.is_available() else 'cpu')\n",
        "model.to(device)\n",
        "\n",
        "num_epochs = 3\n",
        "optimizer = optim.Adam(model.parameters(), lr=1e-4)\n"
      ],
      "metadata": {
        "id": "i5edOTbkiz_z"
      },
      "execution_count": null,
      "outputs": []
    },
    {
      "cell_type": "code",
      "source": [
        "import torch.optim as optim\n",
        "\n",
        "# 학습 루프\n",
        "model.train()\n",
        "for epoch in range(num_epochs):\n",
        "    total_loss = 0\n",
        "    progress_bar = tqdm(train_loader, desc=f'Epoch {epoch+1}/{num_epochs}', leave=False)\n",
        "    for batch in progress_bar:\n",
        "        input_ids = batch['input_ids'].to(device)\n",
        "        attention_mask = batch['attention_mask'].to(device)\n",
        "        target_ids = batch['target_ids'].to(device)\n",
        "        target_attention_mask = batch['target_attention_mask'].to(device)\n",
        "\n",
        "        outputs = model(\n",
        "            input_ids=input_ids,\n",
        "            attention_mask=attention_mask,\n",
        "            labels=target_ids,\n",
        "            decoder_attention_mask=target_attention_mask\n",
        "        )\n",
        "\n",
        "        loss = outputs.loss\n",
        "        total_loss += loss.item()\n",
        "\n",
        "        optimizer.zero_grad()\n",
        "        loss.backward()\n",
        "        optimizer.step()\n",
        "\n",
        "        progress_bar.set_postfix({'Loss': total_loss / len(progress_bar)})\n",
        "\n",
        "    torch.save(model.state_dict(), f'finetuned_model_epoch{epoch+1}.pt')\n"
      ],
      "metadata": {
        "id": "FBHQpUOAldno"
      },
      "execution_count": null,
      "outputs": []
    },
    {
      "cell_type": "code",
      "source": [
        "# 파인 튜닝된 모델 저장\n",
        "output_dir = \"/content/drive/MyDrive/data/finetuning_model_sum\"\n",
        "model.save_pretrained(output_dir)\n",
        "tokenizer.save_pretrained(output_dir)"
      ],
      "metadata": {
        "id": "hKgfJIHrOh6_"
      },
      "execution_count": null,
      "outputs": []
    },
    {
      "cell_type": "code",
      "source": [
        "# 추론 예시\n",
        "model.eval()\n",
        "input_text = \"\"\"이날 오전 9시 18분 현재 코스피는 전 거래일보다 17.47포인트(0.68%) 상승한 2,592.19다.\n",
        "\n",
        "지수는 전장보다 15.17포인트(0.59%) 오른 2,589.89에 개장해 강세를 이어가고 있다.\n",
        "\n",
        "유가증권시장에서 기관이 967억원을 순매수했다. 개인과 외국인은 각각 469억원, 512억원을 순매도했다.\n",
        "\n",
        "\n",
        "지난 12일(현지시간) 미국 뉴욕증시에서 다우존스30산업평균지수(0.25%)와 스탠더드앤드푸어스(S&P) 500지수(0.74%), 기술주 중심의 나스닥지수(1.15%)가 일제히 상승했다.\n",
        "\n",
        "S&P 500지수는 지난해 4월 8일 이후, 나스닥 지수는 지난해 4월 5일 이후 최고점이었다.\n",
        "\n",
        "미국 6월 소비자물가지수(CPI)가 지난해 같은 달보다 3.0% 상승해 시장 예상치(3.1%)를 밑돌자 미국 연방준비제도(Fed·연준)의 긴축에 대한 부담이 줄어 시장이 환호한 것으로 보인다.\n",
        "\n",
        "국내 증시는 미국 물가 지표에 호응하는 동시에 이날 장중 열리는 한국은행 금융통화위원회 통화정책 방향 회의 결과도 소화할 예정이다.\n",
        "\n",
        "한지영 키움증권 연구원은 \"미국의 물가 둔화를 한은도 확인한 만큼 금일 기준금리 동결이 유력하다\"며 \"어느 정도 수준으로 매파적인 동결을 할지가 시장에 영향을 미칠 수 있으므로 이창용 한은 총재의 발언에도 관심이 쏠릴 것\"이라고 내다봤다.\n",
        "\n",
        "시가총액 상위 10위권에서는 삼성전자(0.42%), LG에너지솔루션(0.56%), SK하이닉스(0.09%), 삼성바이오로직스(0.96%) 등 전 종목이 오르고 있다.\n",
        "\n",
        "업종별로도 전기가스업(1.77%), 철강 및 금속(1.53%), 종이·목재(1.42%), 의약품(1.32%) 등을 비롯한 전 업종이 상승세다\n",
        "\n",
        "같은 시각 코스닥지수도 전장보다 8.61포인트(0.98%) 높은 888.49다.\n",
        "\n",
        "지수는 전장보다 5.33포인트(0.61%) 오른 885.21로 시작해 상승세를 지속하고 있다.\n",
        "\n",
        "\n",
        "코스닥시장에서도 기관이 640억원을 순매수했다. 개인과 외국인은 각각 416억원, 187억원 매도 우위다.\n",
        "\n",
        "시총 상위권에서는 셀트리온헬스케어(2.77%), JYP Ent.(1.04%), HLB(1.76%), 펄어비스(3.27%) 등이 강세다. 에코프로비엠(-1.97%)과 에코프로(-2.17%), 엘앤에프(-0.86%) 등은 하락세다.\"\"\"\n",
        "input_ids = tokenizer.encode(input_text, return_tensors='pt').to(device)\n",
        "outputs = model.generate(input_ids=input_ids, max_length=300)\n",
        "\n",
        "decoded_output = tokenizer.decode(outputs[0], skip_special_tokens=True)\n",
        "print(decoded_output)"
      ],
      "metadata": {
        "id": "qB5dZ7VFl-GS"
      },
      "execution_count": null,
      "outputs": []
    }
  ]
}