{
  "nbformat": 4,
  "nbformat_minor": 0,
  "metadata": {
    "colab": {
      "provenance": [],
      "include_colab_link": true
    },
    "kernelspec": {
      "name": "python3",
      "display_name": "Python 3"
    },
    "language_info": {
      "name": "python"
    }
  },
  "cells": [
    {
      "cell_type": "markdown",
      "metadata": {
        "id": "view-in-github",
        "colab_type": "text"
      },
      "source": [
        "<a href=\"https://colab.research.google.com/github/guscldns/TestProject/blob/main/test/prior_test_%ED%98%84%EC%B9%98%EC%9A%B4.ipynb\" target=\"_parent\"><img src=\"https://colab.research.google.com/assets/colab-badge.svg\" alt=\"Open In Colab\"/></a>"
      ]
    },
    {
      "cell_type": "markdown",
      "source": [
        "현치운"
      ],
      "metadata": {
        "id": "9QrgIPuPljje"
      }
    },
    {
      "cell_type": "markdown",
      "source": [
        "#### 1. 다음 코드가 오류 없이 실행되면 `ans1`에 True를 오류가 발생하면 False를 대입하시오.\n",
        "\n",
        "```python\n",
        "print(\"hello citizen developer\")\n",
        "```"
      ],
      "metadata": {
        "id": "Sy5MizOvfmUg"
      }
    },
    {
      "cell_type": "code",
      "source": [
        "ans1 = True"
      ],
      "metadata": {
        "id": "yHUCgSkx05Tw"
      },
      "execution_count": null,
      "outputs": []
    },
    {
      "cell_type": "markdown",
      "source": [
        "#### 2. 다음의 코드를 실행하였을 때 나타나는 출력결과가 True면 True를, False면 False를 `ans2`에 대입하시오.\n",
        "\n",
        "```python\n",
        "print(bool(int(0.7)))\n",
        "```"
      ],
      "metadata": {
        "id": "E7BZztMqfmR5"
      }
    },
    {
      "cell_type": "code",
      "source": [
        "ans2 = False"
      ],
      "metadata": {
        "id": "J4ytcF1j0aFa"
      },
      "execution_count": null,
      "outputs": []
    },
    {
      "cell_type": "markdown",
      "source": [
        "#### 3. 다음 보기에서 알맞은 것을 골라 `ans3`에 대입하시오.\n",
        "\n",
        "다음의 코드를 실행하였을 때 나타나는 바른 출력 결과는? [2]\n",
        "\n",
        "```python\n",
        "a = [1, 2, 3, 4, 5, 6]\n",
        "\n",
        "print(a[1] * a[-3])\n",
        "```\n",
        "\n",
        "- 1) 5\n",
        "- 2) 8\n",
        "- 3) 6\n",
        "- 4) 10\n"
      ],
      "metadata": {
        "id": "A6wvnciQfmO3"
      }
    },
    {
      "cell_type": "code",
      "source": [
        "ans3 = 2"
      ],
      "metadata": {
        "id": "tAR08cab0cTo"
      },
      "execution_count": null,
      "outputs": []
    },
    {
      "cell_type": "markdown",
      "source": [
        "#### 4. 다음 보기에서 알맞은 것을 골라 `ans4`에 대입하시오.\n",
        "구구단 5단을 거꾸로하기 위해 다음 코드의 빈칸을 알맞게 채운것은? [1]\n",
        "\n",
        "```python\n",
        "\n",
        "# 출력결과\n",
        "5 x 9  =  45\n",
        "5 x 7  =  35\n",
        "5 x 5  =  25\n",
        "5 x 3  =  15\n",
        "5 x 1  =  5\n",
        "\n",
        "#코드\n",
        "for i in (            ):\n",
        "    print (5, \"x\", i, \" = \", 3 * i)\n",
        "```\n",
        "\n",
        "- 1) `range(9, 0, -2)`\n",
        "- 2) `range(10, 0, -2)`\n",
        "- 3) `range(9, 1, -2)`\n",
        "- 4) `range(8, 0, -2)`"
      ],
      "metadata": {
        "id": "bNGGceZ6fmMA"
      }
    },
    {
      "cell_type": "code",
      "source": [
        "ans4 = 1"
      ],
      "metadata": {
        "id": "eN2YOBf70eIo"
      },
      "execution_count": null,
      "outputs": []
    },
    {
      "cell_type": "markdown",
      "source": [
        "#### 5.  다음 보기에서 알맞은 것을 골라 `ans5`에 대입하시오.\n",
        "\n",
        "다음 코드를 실행한 결과로 알맞은 것은\n",
        "\n",
        "```python\n",
        "[i for i in range(2,10,2)]\n",
        "```\n",
        "\n",
        "- 1) [1, 3, 5, 7]\n",
        "- 2) [0, 2, 4, 6, 8]\n",
        "- 3) [2, 4, 6, 8]\n",
        "- 4) [1, 3, 5, 7, 9]\n"
      ],
      "metadata": {
        "id": "2QRQbQSGfmJX"
      }
    },
    {
      "cell_type": "code",
      "source": [
        "ans5 = 3"
      ],
      "metadata": {
        "id": "t-BavwxH1Rtk"
      },
      "execution_count": null,
      "outputs": []
    },
    {
      "cell_type": "markdown",
      "source": [
        "### 6~9번 문제는 파이썬 st라이브러리(또는 기타 다른 라이브러리)를 사용해도 좋고 직접 손 계산하여 답만 작성해도 무방함\n",
        "\n",
        "#### 6. 다음 제시된 데이터의 평균값을 계산하여 `ans6`에 대입하시오.\n",
        "\n"
      ],
      "metadata": {
        "id": "8Pc-fk1IfmGo"
      }
    },
    {
      "cell_type": "code",
      "source": [
        "import statistics as st\n",
        "\n",
        "X = [1,2,3,4,5,6,7,8,9,10]\n"
      ],
      "metadata": {
        "id": "wprar1o-3FML"
      },
      "execution_count": 3,
      "outputs": []
    },
    {
      "cell_type": "code",
      "source": [
        "import numpy as np\n",
        "np.mean(X)"
      ],
      "metadata": {
        "colab": {
          "base_uri": "https://localhost:8080/"
        },
        "id": "2xjdhXvAnW4n",
        "outputId": "4a21a387-3539-4d77-8c2e-327d510afba6"
      },
      "execution_count": 12,
      "outputs": [
        {
          "output_type": "execute_result",
          "data": {
            "text/plain": [
              "5.5"
            ]
          },
          "metadata": {},
          "execution_count": 12
        }
      ]
    },
    {
      "cell_type": "code",
      "source": [
        "ans6 = 5.5"
      ],
      "metadata": {
        "id": "fqBC7w8D2Se6"
      },
      "execution_count": null,
      "outputs": []
    },
    {
      "cell_type": "markdown",
      "source": [
        "#### 7. 다음 제시된 데이터의 중앙값을 계산하여 `ans7`에 대입하시오."
      ],
      "metadata": {
        "id": "0Jz8NHTpfmDv"
      }
    },
    {
      "cell_type": "code",
      "source": [
        "np.median(X)"
      ],
      "metadata": {
        "colab": {
          "base_uri": "https://localhost:8080/"
        },
        "id": "GW82go6anl5n",
        "outputId": "23a7e7fc-593d-42da-94ff-41718e1672a2"
      },
      "execution_count": 13,
      "outputs": [
        {
          "output_type": "execute_result",
          "data": {
            "text/plain": [
              "5.5"
            ]
          },
          "metadata": {},
          "execution_count": 13
        }
      ]
    },
    {
      "cell_type": "code",
      "source": [
        "ans7 = 5.5"
      ],
      "metadata": {
        "id": "CdUJL3rz2lsD"
      },
      "execution_count": null,
      "outputs": []
    },
    {
      "cell_type": "markdown",
      "source": [
        "#### 8. 다음 제시된 데이터의 분산을 계산하여 `ans8`에 대입하시오.(반올림하여 소수점 세째 자리까지 계산하시오.)\n"
      ],
      "metadata": {
        "id": "BEPhMsxkfmBI"
      }
    },
    {
      "cell_type": "code",
      "source": [
        "np.var(X)"
      ],
      "metadata": {
        "colab": {
          "base_uri": "https://localhost:8080/"
        },
        "id": "XTC0oOcunsB7",
        "outputId": "a1e479f0-35b0-449d-bec5-272cb5eac5c8"
      },
      "execution_count": 14,
      "outputs": [
        {
          "output_type": "execute_result",
          "data": {
            "text/plain": [
              "8.25"
            ]
          },
          "metadata": {},
          "execution_count": 14
        }
      ]
    },
    {
      "cell_type": "code",
      "source": [
        "ans8 = 8.25"
      ],
      "metadata": {
        "id": "9MwK1Yv92nnE"
      },
      "execution_count": null,
      "outputs": []
    },
    {
      "cell_type": "markdown",
      "source": [
        "#### 9. 다음은 두 변량 X, Y로 구성된 데이터 9개를 나타낸 것이다. X, Y의 공분산을 계산하여 `ans9`에 대입하시오.(반올림하여 소수점 세째 자리까지 계산하시오.)"
      ],
      "metadata": {
        "id": "RSUxniJQfl-X"
      }
    },
    {
      "cell_type": "code",
      "source": [
        "X = np.array([3, 4, 1, 2, 6, 19, 15, 13])\n",
        "Y = np.array([2, 6, 3, 1, 4, 13, 11, 10])\n",
        "\n",
        "np.cov(X, Y)"
      ],
      "metadata": {
        "colab": {
          "base_uri": "https://localhost:8080/"
        },
        "id": "Stwoj1kFoH7j",
        "outputId": "485e436f-e2d8-4519-92a4-eee912ae3ceb"
      },
      "execution_count": 16,
      "outputs": [
        {
          "output_type": "execute_result",
          "data": {
            "text/plain": [
              "array([[46.41071429, 29.60714286],\n",
              "       [29.60714286, 20.5       ]])"
            ]
          },
          "metadata": {},
          "execution_count": 16
        }
      ]
    },
    {
      "cell_type": "code",
      "source": [
        "X = [3, 4, 1, 2, 6, 19, 15, 13]\n",
        "Y = [2, 6, 3, 1, 4, 13, 11, 10]\n",
        "\n",
        "ans9 = 29.607\n",
        "ans9"
      ],
      "metadata": {
        "id": "qCkyx0mT3N1_"
      },
      "execution_count": null,
      "outputs": []
    },
    {
      "cell_type": "markdown",
      "source": [
        "#### 10. 20개 제비 가운데 4개가 당첨 제비일 때 윤경이가 먼저 한개 제비를 뽑고 연이어 건우가 뽑는다. 윤경이와 건우가 당첨 될 확률을 각 변수에 대입하시오."
      ],
      "metadata": {
        "id": "D3fw-5nofl7W"
      }
    },
    {
      "cell_type": "code",
      "source": [
        "Yoons_prob = 0.2\n",
        "Guns_prob = 0.15789473684210525"
      ],
      "metadata": {
        "id": "99G5AJv32HVx"
      },
      "execution_count": null,
      "outputs": []
    }
  ]
}