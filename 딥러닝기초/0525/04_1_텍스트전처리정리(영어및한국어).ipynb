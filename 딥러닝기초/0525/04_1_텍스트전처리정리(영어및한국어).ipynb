{
  "nbformat": 4,
  "nbformat_minor": 0,
  "metadata": {
    "colab": {
      "provenance": [],
      "include_colab_link": true
    },
    "kernelspec": {
      "name": "python3",
      "display_name": "Python 3"
    },
    "language_info": {
      "name": "python"
    }
  },
  "cells": [
    {
      "cell_type": "markdown",
      "metadata": {
        "id": "view-in-github",
        "colab_type": "text"
      },
      "source": [
        "<a href=\"https://colab.research.google.com/github/guscldns/TestProject/blob/main/0525/0525_04_1_%ED%85%8D%EC%8A%A4%ED%8A%B8%EC%A0%84%EC%B2%98%EB%A6%AC%EC%A0%95%EB%A6%AC(%EC%98%81%EC%96%B4%EB%B0%8F%ED%95%9C%EA%B5%AD%EC%96%B4).ipynb\" target=\"_parent\"><img src=\"https://colab.research.google.com/assets/colab-badge.svg\" alt=\"Open In Colab\"/></a>"
      ]
    },
    {
      "cell_type": "markdown",
      "metadata": {
        "id": "Zi20RKmSio8x"
      },
      "source": [
        "#텍스트 전처리(Text Preprocessing)"
      ]
    },
    {
      "cell_type": "markdown",
      "metadata": {
        "id": "RXjGCQhziz_d"
      },
      "source": [
        "- 텍스트를 자연어 처리를 위해 용도에 맞도록 사전에 표준화 하는 작업\n",
        "- 텍스트 내 정보를 유지하고, 중복을 제거하여 분석 효율성을 높이기 위해 전처리를 수행\n",
        "\n",
        "1) 토큰화(Tokenizing)\n",
        "- 텍스트를 자연어 처리를 위해 분리하는 것\n",
        "- 토큰화는 단어별로 분리하는 \"단어 토큰화(Word Tokenization)\"과 문장별로 분리하는 \"문장 토큰화(Sentence Tokenization)\"으로 구분  \n",
        "=> 이후 실습에서는 단어 토큰화를 \"토큰화\"로 통일하여 칭함\n",
        "\n",
        "2) 품사 부착(Pos Tagging)\n",
        "- 각 토큰에 품사 정보를 추가\n",
        "- 분석시에 불필요한 품사를 제거하거나(예. 조사, 접속사 등) 필요한 품사를 필터링 하기 위해 사용\n",
        "\n",
        "3) 개체명 인식(NER, Named Entity Recognition)\n",
        "- 각 토큰의 개체구분(기관, 인물, 지역, 날짜 등) 태그를 부착\n",
        "- 텍스트가 무엇과 관련되어 있는지 구분하기 위해 사용\n",
        "- 예를 들어, 과일의 apple과 기업의 apple을 구분하는 방법이 개체명 인식임. \n",
        "\n",
        "4) 원형복원(Stemming & Lemmatization)\n",
        "- 각 토큰의 원형을 복원함으로써 토큰을 표준화 하여 불필요한 데이터 중복을 방지  \n",
        "(= 단어의 수를 줄일 수 있어 연산 효율성을 높임)  \n",
        " \n",
        " - 어간추출(Stemming): 품사를 무시하고 규칙에 기반하여 어간을 추출\n",
        " - 표제어 추출(Lemmatization): 품사정보를 유지하여 표제어 추출\n",
        "\n",
        "5) 불용어 처리(Stopword)\n",
        " - 자연어 처리를 위해 불필요한 요소를 제거하는 작업\n",
        " - 불필요한 품사를 제거하는 작업과 불필요한 단어를 제거하는 작업으로 구성\n",
        " - 불필요한 토큰을 제거함으로써 연산의 효율성을 높임"
      ]
    },
    {
      "cell_type": "markdown",
      "metadata": {
        "id": "k7WKR67tj-j9"
      },
      "source": [
        "#1. 영문 전처리 연습"
      ]
    },
    {
      "cell_type": "markdown",
      "metadata": {
        "id": "qSfmG8RxkD_Y"
      },
      "source": [
        "NLTK lib(https://www.nltk.org/)사용"
      ]
    },
    {
      "cell_type": "markdown",
      "metadata": {
        "id": "E32YHTz0kJIr"
      },
      "source": [
        "## 1.1 실습용 영문기사 수집\n",
        "\n",
        "온라인 기사를 바로 수집하여 실습데이터로 사용\n",
        "https://www.forbes.com/sites/adrianbridgwater/2019/04/15/what-drove-the-ai-renaissance/#4a0130481f25"
      ]
    },
    {
      "cell_type": "code",
      "metadata": {
        "id": "W-hq5fi6keZZ"
      },
      "source": [
        "import requests\n",
        "from bs4 import BeautifulSoup"
      ],
      "execution_count": null,
      "outputs": []
    },
    {
      "cell_type": "code",
      "metadata": {
        "id": "X3cyyQxSkieU"
      },
      "source": [
        "url = 'https://www.forbes.com/sites/adrianbridgwater/2019/04/15/what-drove-the-ai-renaissance/#4a0130481f25'\n",
        "response = requests.get(url)\n",
        "soup = BeautifulSoup(response.text, 'html.parser')"
      ],
      "execution_count": null,
      "outputs": []
    },
    {
      "cell_type": "code",
      "metadata": {
        "id": "bCd6NTG8kpco",
        "colab": {
          "base_uri": "https://localhost:8080/",
          "height": 89
        },
        "outputId": "c723d643-41d2-4492-d89d-feb4d6c63eaa"
      },
      "source": [
        "eng_news = soup.select('p') #[class = 'speakable-paragraph']\n",
        "eng_text = eng_news[3].get_text()\n",
        "\n",
        "eng_text"
      ],
      "execution_count": null,
      "outputs": [
        {
          "output_type": "execute_result",
          "data": {
            "text/plain": [
              "\"And yes, she does mean everybody's job from yours to mine and onward to the role of grain farmers in Egypt, pastry chefs in Paris and dog walkers in Oregon i.e. every job. We will now be able to help direct all workers’ actions and behavior with a new degree of intelligence that comes from predictive analytics, all stemming from the AI engines we will now increasingly depend upon.\""
            ],
            "application/vnd.google.colaboratory.intrinsic+json": {
              "type": "string"
            }
          },
          "metadata": {},
          "execution_count": 3
        }
      ]
    },
    {
      "cell_type": "markdown",
      "metadata": {
        "id": "zs6j_xjrk1Zn"
      },
      "source": [
        "## 1.2 영문토큰화 \n",
        "https://www.nltk.org/api/nltk.tokenize.html"
      ]
    },
    {
      "cell_type": "code",
      "metadata": {
        "id": "l0poQI4Fk4bF",
        "colab": {
          "base_uri": "https://localhost:8080/"
        },
        "outputId": "f1b49685-2663-4e57-f664-a0a73ea4b23f"
      },
      "source": [
        "!pip install nltk"
      ],
      "execution_count": null,
      "outputs": [
        {
          "output_type": "stream",
          "name": "stdout",
          "text": [
            "Looking in indexes: https://pypi.org/simple, https://us-python.pkg.dev/colab-wheels/public/simple/\n",
            "Requirement already satisfied: nltk in /usr/local/lib/python3.7/dist-packages (3.7)\n",
            "Requirement already satisfied: tqdm in /usr/local/lib/python3.7/dist-packages (from nltk) (4.64.0)\n",
            "Requirement already satisfied: regex>=2021.8.3 in /usr/local/lib/python3.7/dist-packages (from nltk) (2022.6.2)\n",
            "Requirement already satisfied: click in /usr/local/lib/python3.7/dist-packages (from nltk) (7.1.2)\n",
            "Requirement already satisfied: joblib in /usr/local/lib/python3.7/dist-packages (from nltk) (1.1.0)\n"
          ]
        }
      ]
    },
    {
      "cell_type": "code",
      "metadata": {
        "id": "GhzpaYvYk8w5",
        "colab": {
          "base_uri": "https://localhost:8080/"
        },
        "outputId": "c11b6c69-5927-4c0b-d171-fde330bb178a"
      },
      "source": [
        "#word_tokenize(): 단어와 구두점(온점, 컴마, 물음표, 세미콜론, 느낌표 등과 같은 기호)으로\n",
        "\n",
        "import nltk\n",
        "nltk.download('punkt')\n",
        "nltk.download('omw-1.4')\n",
        "\n",
        "from nltk.tokenize import word_tokenize\n",
        "text =  \"James is working at Disney in London\"\n",
        "word_tokens = word_tokenize(text)\n",
        "print(word_tokens)"
      ],
      "execution_count": null,
      "outputs": [
        {
          "output_type": "stream",
          "name": "stderr",
          "text": [
            "[nltk_data] Downloading package punkt to /root/nltk_data...\n",
            "[nltk_data]   Unzipping tokenizers/punkt.zip.\n"
          ]
        },
        {
          "output_type": "stream",
          "name": "stdout",
          "text": [
            "['James', 'is', 'working', 'at', 'Disney', 'in', 'London']\n"
          ]
        },
        {
          "output_type": "stream",
          "name": "stderr",
          "text": [
            "[nltk_data] Downloading package omw-1.4 to /root/nltk_data...\n"
          ]
        }
      ]
    },
    {
      "cell_type": "code",
      "metadata": {
        "id": "ateuSI0clYAP",
        "colab": {
          "base_uri": "https://localhost:8080/"
        },
        "outputId": "139a4982-1260-4e21-fe37-c434813f4c65"
      },
      "source": [
        "#word_tokenize(): 단어와 구두점(온점, 컴마, 물음표, 세미콜론, 느낌표 등과 같은 기호)으로\n",
        "import nltk\n",
        "from nltk.tokenize import word_tokenize\n",
        "\n",
        "token1 = word_tokenize(eng_text)\n",
        "print(token1)"
      ],
      "execution_count": null,
      "outputs": [
        {
          "output_type": "stream",
          "name": "stdout",
          "text": [
            "['And', 'yes', ',', 'she', 'does', 'mean', 'everybody', \"'s\", 'job', 'from', 'yours', 'to', 'mine', 'and', 'onward', 'to', 'the', 'role', 'of', 'grain', 'farmers', 'in', 'Egypt', ',', 'pastry', 'chefs', 'in', 'Paris', 'and', 'dog', 'walkers', 'in', 'Oregon', 'i.e', '.', 'every', 'job', '.', 'We', 'will', 'now', 'be', 'able', 'to', 'help', 'direct', 'all', 'workers', '’', 'actions', 'and', 'behavior', 'with', 'a', 'new', 'degree', 'of', 'intelligence', 'that', 'comes', 'from', 'predictive', 'analytics', ',', 'all', 'stemming', 'from', 'the', 'AI', 'engines', 'we', 'will', 'now', 'increasingly', 'depend', 'upon', '.']\n"
          ]
        }
      ]
    },
    {
      "cell_type": "code",
      "metadata": {
        "id": "6r4iZyTBlqeT",
        "colab": {
          "base_uri": "https://localhost:8080/"
        },
        "outputId": "1b12c6b7-4458-4083-ad9e-f92559e562ca"
      },
      "source": [
        "#WordPunctTokenizer(): 알파벳과 알파벳이 아닌 문자를 구분하여 토큰화\n",
        "import nltk\n",
        "from nltk.tokenize import WordPunctTokenizer\n",
        "\n",
        "text =  \"James is working at Disney in London\"\n",
        "wordpuncttoken = WordPunctTokenizer().tokenize(text)\n",
        "print(wordpuncttoken)"
      ],
      "execution_count": null,
      "outputs": [
        {
          "output_type": "stream",
          "name": "stdout",
          "text": [
            "['James', 'is', 'working', 'at', 'Disney', 'in', 'London']\n"
          ]
        }
      ]
    },
    {
      "cell_type": "code",
      "metadata": {
        "id": "SKBHE9TjlyES",
        "colab": {
          "base_uri": "https://localhost:8080/"
        },
        "outputId": "aa3f537c-b141-485a-c3f7-3bbe34b997ae"
      },
      "source": [
        "#TreebankWordTokenizer(): 정규표현식에 기반한 토큰화\n",
        "import nltk\n",
        "from nltk.tokenize import TreebankWordTokenizer\n",
        "\n",
        "text =  \"James is working at Disney in London\"\n",
        "treebankwordtoken = TreebankWordTokenizer().tokenize(text)\n",
        "print(treebankwordtoken)"
      ],
      "execution_count": null,
      "outputs": [
        {
          "output_type": "stream",
          "name": "stdout",
          "text": [
            "['James', 'is', 'working', 'at', 'Disney', 'in', 'London']\n"
          ]
        }
      ]
    },
    {
      "cell_type": "markdown",
      "metadata": {
        "id": "fo-tGurmmPOI"
      },
      "source": [
        "## 1.3 영문 품사 부착(PoS tagging)"
      ]
    },
    {
      "cell_type": "markdown",
      "metadata": {
        "id": "ZOxdStzHmTPD"
      },
      "source": [
        "분리한 토큰마다 품사를 부착한다.   \n",
        "https://www.nltk.org/api/nltk.tag.html\n",
        "\n",
        "태그목록: https://pythonprogramming.net/natural-language-toolkit-nltk-part-speech-tagging/"
      ]
    },
    {
      "cell_type": "code",
      "metadata": {
        "id": "wY4p27-6mdXk",
        "colab": {
          "base_uri": "https://localhost:8080/"
        },
        "outputId": "6a1039a2-9765-44a7-fcf1-9eda307200e7"
      },
      "source": [
        "from nltk import pos_tag\n",
        "nltk.download('averaged_perceptron_tagger')\n",
        "\n",
        "taggedToken = pos_tag(word_tokens)\n",
        "print(taggedToken)"
      ],
      "execution_count": null,
      "outputs": [
        {
          "output_type": "stream",
          "name": "stderr",
          "text": [
            "[nltk_data] Downloading package averaged_perceptron_tagger to\n",
            "[nltk_data]     /root/nltk_data...\n",
            "[nltk_data]   Unzipping taggers/averaged_perceptron_tagger.zip.\n"
          ]
        },
        {
          "output_type": "stream",
          "name": "stdout",
          "text": [
            "[('James', 'NNP'), ('is', 'VBZ'), ('working', 'VBG'), ('at', 'IN'), ('Disney', 'NNP'), ('in', 'IN'), ('London', 'NNP')]\n"
          ]
        }
      ]
    },
    {
      "cell_type": "markdown",
      "metadata": {
        "id": "sIyviWpQmszG"
      },
      "source": [
        "##1.4 개체명 인식(NER, Named Entity Recognition)\n",
        "http://www.nltk.org/api/nltk.chunk.html\n"
      ]
    },
    {
      "cell_type": "markdown",
      "source": [
        "개체명 인식(Named Entity Recognition)이란 말 그대로 이름을 가진 개체(named entity)를 인식하겠다는 것을 의미합니다.   \n",
        "즉, 어떤 이름을 의미하는 단어를 보고는 그 단어가 어떤 유형인지를 인식하는 것을 말합니다."
      ],
      "metadata": {
        "id": "KwU2RBaGYWPk"
      }
    },
    {
      "cell_type": "markdown",
      "source": [
        "예를 들어 \b제임스는 2018년에 골드만삭스에 입사했다. 라는 문장이 있을 때, 사람(person), 조직(organization), 시간(time)에 대해 개체명 인식을 수행하는 모델이라면 다음과 같은 결과를 보여줍니다.\n",
        "\n",
        "- 제임스 : 사람\n",
        "- 2018년 : 시간\n",
        "- 골드만삭스 : 조직"
      ],
      "metadata": {
        "id": "oUxiL3o_YdYw"
      }
    },
    {
      "cell_type": "code",
      "metadata": {
        "id": "fKLlSBjPmzey",
        "colab": {
          "base_uri": "https://localhost:8080/"
        },
        "outputId": "f9bb8857-f3b2-4e43-9480-224df4887c38"
      },
      "source": [
        "nltk.download('words')\n",
        "nltk.download('maxent_ne_chunker')"
      ],
      "execution_count": null,
      "outputs": [
        {
          "output_type": "stream",
          "name": "stderr",
          "text": [
            "[nltk_data] Downloading package words to /root/nltk_data...\n",
            "[nltk_data]   Unzipping corpora/words.zip.\n",
            "[nltk_data] Downloading package maxent_ne_chunker to\n",
            "[nltk_data]     /root/nltk_data...\n",
            "[nltk_data]   Unzipping chunkers/maxent_ne_chunker.zip.\n"
          ]
        },
        {
          "output_type": "execute_result",
          "data": {
            "text/plain": [
              "True"
            ]
          },
          "metadata": {},
          "execution_count": 10
        }
      ]
    },
    {
      "cell_type": "code",
      "metadata": {
        "id": "rDAZMQzCm4AZ",
        "colab": {
          "base_uri": "https://localhost:8080/"
        },
        "outputId": "c154c773-a4f7-43e5-85a7-397e9c9aa089"
      },
      "source": [
        "from nltk import ne_chunk\n",
        "neToken = ne_chunk(taggedToken)\n",
        "print(neToken)"
      ],
      "execution_count": null,
      "outputs": [
        {
          "output_type": "stream",
          "name": "stdout",
          "text": [
            "(S\n",
            "  (PERSON James/NNP)\n",
            "  is/VBZ\n",
            "  working/VBG\n",
            "  at/IN\n",
            "  (ORGANIZATION Disney/NNP)\n",
            "  in/IN\n",
            "  (GPE London/NNP))\n"
          ]
        }
      ]
    },
    {
      "cell_type": "markdown",
      "source": [
        "James는 PERSON(사람), Disney는 조직(ORGANIZATION), London은 위치(GPE)"
      ],
      "metadata": {
        "id": "wesTWfS5ZBUW"
      }
    },
    {
      "cell_type": "markdown",
      "metadata": {
        "id": "FvrF1piqm93I"
      },
      "source": [
        "## 1.5 원형복원\n",
        "각 토큰의 원형을 복원하여 표준화한다"
      ]
    },
    {
      "cell_type": "markdown",
      "metadata": {
        "id": "MIn9P5aWnExP"
      },
      "source": [
        "### 1.5.1 어간추출(Stemming)\n",
        "- 규칙에 기반하여 토큰을 표준화\n",
        "- ing제거, ful제거 등  \n",
        "http://www.nltk.org/api/nltk.chunk.html\n",
        "\n",
        "규칙 상세: http://www.nltk.org/api/nltk.chunk.html\n"
      ]
    },
    {
      "cell_type": "code",
      "metadata": {
        "id": "AzmVDuNjnQC2"
      },
      "source": [
        "from nltk.stem import PorterStemmer\n",
        "ps = PorterStemmer()"
      ],
      "execution_count": null,
      "outputs": []
    },
    {
      "cell_type": "code",
      "metadata": {
        "id": "m4umNUPgnWCm",
        "colab": {
          "base_uri": "https://localhost:8080/"
        },
        "outputId": "78dc6533-399e-490a-9b43-de9ab99c2d81"
      },
      "source": [
        "print(\"running -> \" + ps.stem(\"running\"))\n",
        "print(\"believes -> \"+ps.stem('believes'))\n",
        "print('using ->' + ps.stem(\"using\"))\n",
        "print(\"conversation ->\" + ps.stem('conversation'))\n",
        "print('organization ->'+ ps.stem('organization'))\n",
        "print('studies -> '+ ps.stem(\"studies\"))"
      ],
      "execution_count": null,
      "outputs": [
        {
          "output_type": "stream",
          "name": "stdout",
          "text": [
            "running -> run\n",
            "believes -> believ\n",
            "using ->use\n",
            "conversation ->convers\n",
            "organization ->organ\n",
            "studies -> studi\n"
          ]
        }
      ]
    },
    {
      "cell_type": "code",
      "source": [],
      "metadata": {
        "id": "qsEKIQFxpLfc"
      },
      "execution_count": null,
      "outputs": []
    },
    {
      "cell_type": "markdown",
      "metadata": {
        "id": "M4q19tr7nssB"
      },
      "source": [
        "### 1.5.2 표제어 추출(Lemmatization)\n",
        "- 품사정보를 보존하여 토큰을 표준화\n",
        "\n",
        "http://www.nltk.org/api/nltk.chunk.html"
      ]
    },
    {
      "cell_type": "code",
      "metadata": {
        "id": "QmHHrOGYnz75",
        "colab": {
          "base_uri": "https://localhost:8080/"
        },
        "outputId": "f403ec75-4485-4bd2-afa0-f808455e6cbd"
      },
      "source": [
        "nltk.download('wordnet')"
      ],
      "execution_count": null,
      "outputs": [
        {
          "output_type": "stream",
          "name": "stderr",
          "text": [
            "[nltk_data] Downloading package wordnet to /root/nltk_data...\n"
          ]
        },
        {
          "output_type": "execute_result",
          "data": {
            "text/plain": [
              "True"
            ]
          },
          "metadata": {},
          "execution_count": 14
        }
      ]
    },
    {
      "cell_type": "code",
      "metadata": {
        "id": "W__Dwo5vn3LT"
      },
      "source": [
        "from nltk.stem import WordNetLemmatizer\n",
        "wl = WordNetLemmatizer()"
      ],
      "execution_count": null,
      "outputs": []
    },
    {
      "cell_type": "code",
      "metadata": {
        "id": "tP54tNuCn8Xr",
        "colab": {
          "base_uri": "https://localhost:8080/"
        },
        "outputId": "0b1c1b52-2188-4c2a-a980-0c57213a1841"
      },
      "source": [
        "print(\"running -> \" + wl.lemmatize(\"running\"))\n",
        "print(\"believes -> \"+wl.lemmatize('believes'))\n",
        "print('using ->' + wl.lemmatize(\"using\"))\n",
        "print(\"conversation ->\" + wl.lemmatize('conversation'))\n",
        "print('organization ->'+ wl.lemmatize('organization'))\n",
        "print('studies -> '+ wl.lemmatize(\"studies\"))"
      ],
      "execution_count": null,
      "outputs": [
        {
          "output_type": "stream",
          "name": "stdout",
          "text": [
            "running -> running\n",
            "believes -> belief\n",
            "using ->using\n",
            "conversation ->conversation\n",
            "organization ->organization\n",
            "studies -> study\n"
          ]
        }
      ]
    },
    {
      "cell_type": "markdown",
      "metadata": {
        "id": "zjM5QL_joCBW"
      },
      "source": [
        "## 1.6 불용어 처리(Stopword)"
      ]
    },
    {
      "cell_type": "code",
      "metadata": {
        "id": "u65AMKkDoKZT",
        "colab": {
          "base_uri": "https://localhost:8080/"
        },
        "outputId": "a49a72a8-1a62-4192-e4bc-d34f44828354"
      },
      "source": [
        "stopPos = [\"IN\", \"CC\", \"UH\", \"TO\", \"MD\", \"DT\", \"VBZ\", \"VBP\"]\n",
        "\n",
        "# 최빈어 조회: 최빈어를 조회하여 불용어 제거 대상을 선정\n",
        "from collections import Counter\n",
        "Counter(taggedToken).most_common()"
      ],
      "execution_count": null,
      "outputs": [
        {
          "output_type": "execute_result",
          "data": {
            "text/plain": [
              "[(('James', 'NNP'), 1),\n",
              " (('is', 'VBZ'), 1),\n",
              " (('working', 'VBG'), 1),\n",
              " (('at', 'IN'), 1),\n",
              " (('Disney', 'NNP'), 1),\n",
              " (('in', 'IN'), 1),\n",
              " (('London', 'NNP'), 1)]"
            ]
          },
          "metadata": {},
          "execution_count": 17
        }
      ]
    },
    {
      "cell_type": "code",
      "metadata": {
        "id": "2SXnMij3oaZN"
      },
      "source": [
        "stopWord = [\",\", \"be\", \"able\"]"
      ],
      "execution_count": null,
      "outputs": []
    },
    {
      "cell_type": "code",
      "metadata": {
        "id": "55cajMcYoeIc",
        "colab": {
          "base_uri": "https://localhost:8080/"
        },
        "outputId": "84cc43b7-c73a-4af9-a74d-d42235a2c8d4"
      },
      "source": [
        "word = []\n",
        "for tag in taggedToken:\n",
        "  if tag[1] not in stopPos:\n",
        "    if tag[0] not in stopWord:\n",
        "      word.append(tag[0])\n",
        "\n",
        "print(word)"
      ],
      "execution_count": null,
      "outputs": [
        {
          "output_type": "stream",
          "name": "stdout",
          "text": [
            "['James', 'working', 'Disney', 'London']\n"
          ]
        }
      ]
    },
    {
      "cell_type": "markdown",
      "metadata": {
        "id": "Vn7L86ghon40"
      },
      "source": [
        "## 1.7 영문 텍스트 전처리 종합"
      ]
    },
    {
      "cell_type": "code",
      "metadata": {
        "id": "GxHDr8Aeow1O",
        "colab": {
          "base_uri": "https://localhost:8080/"
        },
        "outputId": "3f6b2ec6-4391-4894-dc89-d65c63aa2556"
      },
      "source": [
        "import nltk\n",
        "nltk.download('averaged_perceptron_tagger') #pos tagging\n",
        "nltk.download('words') #NER\n",
        "nltk.download('maxnet_ne_chuncker') #NER\n",
        "nltk.download('wordnet') #Lemmatization\n",
        "\n",
        "from nltk.tokenize import TreebankWordTokenizer\n",
        "sumtoken = TreebankWordTokenizer().tokenize(\"Obama loves fried chicken of KFC\")\n",
        "print(sumtoken)\n",
        "\n",
        "from nltk import pos_tag\n",
        "sumTaggedToken = pos_tag(sumtoken)\n",
        "print(sumTaggedToken)\n",
        "\n",
        "from nltk.stem import PorterStemmer\n",
        "ps = PorterStemmer()\n",
        "print(\"loves -> \" + ps.stem(\"loves\"))\n",
        "print(\"fried => \" + ps.stem('fried'))\n",
        "\n",
        "from nltk.stem import WordNetLemmatizer\n",
        "wl = WordNetLemmatizer()\n",
        "print(\"loves -> \" + wl.lemmatize(\"loves\"))\n",
        "print(\"fried => \" + wl.lemmatize('fried'))\n",
        "\n",
        "#불용어 처리\n",
        "sumStopPos = ['IN']\n",
        "sumStopWord = [\"fried\"]\n",
        "\n",
        "word = []\n",
        "for tag in taggedToken:\n",
        "  if tag[1] not in stopPos:\n",
        "    if tag[0] not in stopWord:\n",
        "      word.append(tag[0])\n",
        "\n",
        "print(word)"
      ],
      "execution_count": null,
      "outputs": [
        {
          "output_type": "stream",
          "name": "stdout",
          "text": [
            "['Obama', 'loves', 'fried', 'chicken', 'of', 'KFC']\n",
            "[('Obama', 'NNP'), ('loves', 'VBZ'), ('fried', 'VBN'), ('chicken', 'NN'), ('of', 'IN'), ('KFC', 'NNP')]\n",
            "loves -> love\n",
            "fried => fri\n",
            "loves -> love\n",
            "fried => fried\n",
            "['James', 'working', 'Disney', 'London']\n"
          ]
        },
        {
          "output_type": "stream",
          "name": "stderr",
          "text": [
            "[nltk_data] Downloading package averaged_perceptron_tagger to\n",
            "[nltk_data]     /root/nltk_data...\n",
            "[nltk_data]   Package averaged_perceptron_tagger is already up-to-\n",
            "[nltk_data]       date!\n",
            "[nltk_data] Downloading package words to /root/nltk_data...\n",
            "[nltk_data]   Package words is already up-to-date!\n",
            "[nltk_data] Error loading maxnet_ne_chuncker: Package\n",
            "[nltk_data]     'maxnet_ne_chuncker' not found in index\n",
            "[nltk_data] Downloading package wordnet to /root/nltk_data...\n",
            "[nltk_data]   Package wordnet is already up-to-date!\n"
          ]
        }
      ]
    },
    {
      "cell_type": "markdown",
      "source": [
        "## 1.8 Tensorflow - Text preprocessing"
      ],
      "metadata": {
        "id": "qndSYJgGw6MV"
      }
    },
    {
      "cell_type": "markdown",
      "source": [
        "### 1.8.1 Tokenizer \n",
        "- https://www.tensorflow.org/api_docs/python/tf/keras/preprocessing/text/Tokenizer"
      ],
      "metadata": {
        "id": "9jNICO8AxNtC"
      }
    },
    {
      "cell_type": "code",
      "source": [
        "eng_text"
      ],
      "metadata": {
        "colab": {
          "base_uri": "https://localhost:8080/",
          "height": 89
        },
        "id": "M9hMbti7xH89",
        "outputId": "dda0c6a1-b654-4915-8ee6-50cfa9c39393"
      },
      "execution_count": null,
      "outputs": [
        {
          "output_type": "execute_result",
          "data": {
            "text/plain": [
              "\"And yes, she does mean everybody's job from yours to mine and onward to the role of grain farmers in Egypt, pastry chefs in Paris and dog walkers in Oregon i.e. every job. We will now be able to help direct all workers’ actions and behavior with a new degree of intelligence that comes from predictive analytics, all stemming from the AI engines we will now increasingly depend upon.\""
            ],
            "application/vnd.google.colaboratory.intrinsic+json": {
              "type": "string"
            }
          },
          "metadata": {},
          "execution_count": 53
        }
      ]
    },
    {
      "cell_type": "code",
      "source": [
        "import tensorflow as tf\n",
        "from tensorflow.keras.preprocessing.text import Tokenizer \n",
        "\n",
        "tokenizer = Tokenizer(split=' ', char_level=False) # 토큰화 함수 지정\n",
        "\n",
        "# 단어 인덱스 구축\n",
        "tokenizer.fit_on_texts([eng_text])"
      ],
      "metadata": {
        "id": "WpLUoRi7w6GH"
      },
      "execution_count": null,
      "outputs": []
    },
    {
      "cell_type": "code",
      "source": [
        "word_vocab = tokenizer.word_index # 딕셔너리 형태\n",
        "print(\"전체 단어 개수: \", len(word_vocab)) # 전체 단어 개수 확인"
      ],
      "metadata": {
        "colab": {
          "base_uri": "https://localhost:8080/"
        },
        "id": "P35Ppp17w6B6",
        "outputId": "946d9229-ce06-496f-ecbb-dd396ed50b51"
      },
      "execution_count": null,
      "outputs": [
        {
          "output_type": "stream",
          "name": "stdout",
          "text": [
            "전체 단어 개수:  54\n"
          ]
        }
      ]
    },
    {
      "cell_type": "code",
      "source": [
        "print(word_vocab)"
      ],
      "metadata": {
        "colab": {
          "base_uri": "https://localhost:8080/"
        },
        "id": "6va3w_nGw59w",
        "outputId": "0fe9384f-34eb-4fb3-cbd6-b0c41fe6a73c"
      },
      "execution_count": null,
      "outputs": [
        {
          "output_type": "stream",
          "name": "stdout",
          "text": [
            "{'and': 1, 'from': 2, 'to': 3, 'in': 4, 'job': 5, 'the': 6, 'of': 7, 'we': 8, 'will': 9, 'now': 10, 'all': 11, 'yes': 12, 'she': 13, 'does': 14, 'mean': 15, \"everybody's\": 16, 'yours': 17, 'mine': 18, 'onward': 19, 'role': 20, 'grain': 21, 'farmers': 22, 'egypt': 23, 'pastry': 24, 'chefs': 25, 'paris': 26, 'dog': 27, 'walkers': 28, 'oregon': 29, 'i': 30, 'e': 31, 'every': 32, 'be': 33, 'able': 34, 'help': 35, 'direct': 36, 'workers’': 37, 'actions': 38, 'behavior': 39, 'with': 40, 'a': 41, 'new': 42, 'degree': 43, 'intelligence': 44, 'that': 45, 'comes': 46, 'predictive': 47, 'analytics': 48, 'stemming': 49, 'ai': 50, 'engines': 51, 'increasingly': 52, 'depend': 53, 'upon': 54}\n"
          ]
        }
      ]
    },
    {
      "cell_type": "code",
      "source": [
        "# 문자열 -> 인덱스 리스트\n",
        "tokenizer.texts_to_sequences([\"yes, she is in Paris\"]) "
      ],
      "metadata": {
        "colab": {
          "base_uri": "https://localhost:8080/"
        },
        "id": "wuhpekrow54Y",
        "outputId": "67e59e7c-86cb-4651-a059-ee58a2f53d18"
      },
      "execution_count": null,
      "outputs": [
        {
          "output_type": "execute_result",
          "data": {
            "text/plain": [
              "[[12, 13, 4, 26]]"
            ]
          },
          "metadata": {},
          "execution_count": 109
        }
      ]
    },
    {
      "cell_type": "code",
      "source": [
        "tokenized_sen = tokenizer.texts_to_sequences([[\"yes\", \"she\", \"is\", \"in\", \"Paris\"]])\n",
        "tokenized_sen"
      ],
      "metadata": {
        "colab": {
          "base_uri": "https://localhost:8080/"
        },
        "id": "K6dztqegw5yy",
        "outputId": "b28c019c-2697-4eee-a606-5fecf23f91f3"
      },
      "execution_count": null,
      "outputs": [
        {
          "output_type": "execute_result",
          "data": {
            "text/plain": [
              "[[12, 13, 4, 26]]"
            ]
          },
          "metadata": {},
          "execution_count": 110
        }
      ]
    },
    {
      "cell_type": "markdown",
      "source": [
        "#### 최대 단어 지정하기 "
      ],
      "metadata": {
        "id": "NKtJiCU10ddO"
      }
    },
    {
      "cell_type": "code",
      "source": [
        "# 최대 단어 지정하기\n",
        "tokenizer = Tokenizer(num_words = 5)\n",
        "\n",
        "# 단어 인덱스 구축\n",
        "tokenizer.fit_on_texts([eng_text])"
      ],
      "metadata": {
        "id": "Z9KbInJRz1vS"
      },
      "execution_count": null,
      "outputs": []
    },
    {
      "cell_type": "code",
      "source": [
        "tokenizer.num_words"
      ],
      "metadata": {
        "colab": {
          "base_uri": "https://localhost:8080/"
        },
        "id": "0eqDnxU70gXP",
        "outputId": "ffd19382-a3e5-4ff5-97da-6b24f7a85a5a"
      },
      "execution_count": null,
      "outputs": [
        {
          "output_type": "execute_result",
          "data": {
            "text/plain": [
              "5"
            ]
          },
          "metadata": {},
          "execution_count": 97
        }
      ]
    },
    {
      "cell_type": "code",
      "source": [
        "tokenizer.texts_to_sequences([[\"yes\", \"she\", \"is\", \"in\", \"Paris\"]])"
      ],
      "metadata": {
        "colab": {
          "base_uri": "https://localhost:8080/"
        },
        "id": "w2nntCwr0bbZ",
        "outputId": "667d3c5b-98ad-472a-b5fa-053479c8dfea"
      },
      "execution_count": null,
      "outputs": [
        {
          "output_type": "execute_result",
          "data": {
            "text/plain": [
              "[[4]]"
            ]
          },
          "metadata": {},
          "execution_count": 99
        }
      ]
    },
    {
      "cell_type": "markdown",
      "source": [
        "### 1.8.2 Padding"
      ],
      "metadata": {
        "id": "My5VozZq03jT"
      }
    },
    {
      "cell_type": "markdown",
      "source": [
        "서로 다른 길이의 샘플들을 동일한 길이로 맞춰주기"
      ],
      "metadata": {
        "id": "c3wug12S09fB"
      }
    },
    {
      "cell_type": "code",
      "source": [
        "from tensorflow.keras.preprocessing.sequence import pad_sequences\n",
        "import numpy as np\n",
        "\n",
        "MAX_SEQUENCE_LENGTH = 10 # 문장 최대 길이\n",
        "\n",
        "tokenized_sen = np.array(tokenized_sen)\n",
        "\n",
        "# 문장의 길이가 MAX_SEQUENCE_LENGTH 단어가 넘어가면 자르고, 모자르면 0으로 채워 넣는다.\n",
        "padded_sen = pad_sequences(tokenized_sen, maxlen=MAX_SEQUENCE_LENGTH, padding = 'post')\n",
        "\n",
        "print('Shape of input data tensor:', tokenized_sen.shape) # 리뷰 데이터의 형태 확인"
      ],
      "metadata": {
        "colab": {
          "base_uri": "https://localhost:8080/"
        },
        "id": "xtbSjTNO03fb",
        "outputId": "c44a1374-6585-4f37-eebf-83369b001c21"
      },
      "execution_count": null,
      "outputs": [
        {
          "output_type": "stream",
          "name": "stdout",
          "text": [
            "Shape of input data tensor: (1, 4)\n"
          ]
        }
      ]
    },
    {
      "cell_type": "code",
      "source": [
        "padded_sen"
      ],
      "metadata": {
        "colab": {
          "base_uri": "https://localhost:8080/"
        },
        "id": "PHU6ax_m03bS",
        "outputId": "4fd9111a-e325-43d4-8f90-e0961c9641e4"
      },
      "execution_count": null,
      "outputs": [
        {
          "output_type": "execute_result",
          "data": {
            "text/plain": [
              "array([[12, 13,  4, 26,  0,  0,  0,  0,  0,  0]], dtype=int32)"
            ]
          },
          "metadata": {},
          "execution_count": 114
        }
      ]
    },
    {
      "cell_type": "markdown",
      "metadata": {
        "id": "DkcMRwNYpBCu"
      },
      "source": [
        "#2. 한글 전처리 실습\n",
        "\n",
        "영문은 공백으로 토큰화가 가능하지만, 한글의 경우 품사를 고려하여 토큰화해야 한다. "
      ]
    },
    {
      "cell_type": "markdown",
      "metadata": {
        "id": "Wq6znXciqK4u"
      },
      "source": [
        "## 2.1 실습용 한글기사 수집\n"
      ]
    },
    {
      "cell_type": "markdown",
      "metadata": {
        "id": "xyLgGOc1qOXg"
      },
      "source": [
        "- https://n.news.naver.com/mnews/article/016/0002032876?sid=105"
      ]
    },
    {
      "cell_type": "code",
      "metadata": {
        "id": "jL7tkeFmwtid"
      },
      "source": [
        "kor_text = '''포스코ICT는 25일 경기도 판교 사옥에서 청소년들이 개발한 인공지능(AI) 기반 애플리케이션을 직접 선보이는 ‘2022 AI 유스 챌린지(Youth Challenge)’를 개최했다. 청소년들은 기성세대들이 생각하지 못했던 참신한 아이디어를 바탕으로 AI 시스템을 개발해 관심을 모았다.\n",
        "\n",
        "예선을 거쳐 본선에 오른 전국 중·고교 7개팀은 지난 달부터 포스코ICT 소속 AI 엔지니어의 코칭 속에 개발한 AI 시스템을 직접 시연했다. 심사는 카이스트, 포스텍, 연세대 교수 등으로 구성된 평가위원들과 포스코ICT 직원들로 구성된 내부 평가위원들이 맡았다. 우수작은 과기정통부장관상(1팀), 포스코ICT사장상(1팀), 지능정보산업협회장상(1팀), 우수상(2팀), 장려상(2팀) 등으로 나눠 각각 시상했다. 포스코ICT는 AI 기술을 접목해 환경·안전·사회문제를 해결할 수 있는 청소년들의 아이디어를 발굴하기 위해 이번 공모전을 개최했다. 평소 AI 기술을 접할 기회가 부족했던 청소년들은 멘토링을 통해 산업현장에서 실제 활용되는 기술을 자연스럽게 체험하고 진로 결정에도 도움을 받을 수 있었다.\n",
        "\n",
        "이번 공모전에 참여한 김희주 학생은 “막연히 생각했던 아이디어를 실제 AI 전문가들과 구체화해나가며 접하지 못했던 지식과 기술을 배울 수 있었고 AI 분야에 더 큰 관심을 가지게 됐다”고 말했다.\n",
        "\n",
        "학생들의 멘토를 맡은 포스코ICT 최영철 연구원은 “학생들의 열정과 창의적인 아이디어를 접하며 새로운 자극을 받아 재미있게 멘토링에 참여했다”며 “그동안 AI 분야에서 쌓아온 재능을 기부해 AI 전문가를 꿈꾸는 청소년들에게 전해줄 수 있어 의미 있었다”고 밝혔다. 한편, 포스코ICT는 아주대학교 대학원과 ‘AI 전문인력 양성을 위한 업무협약’을 체결해 프로그램을 운영하고 있다. 지난 24일에는 인공지능학과 대학원 과정에 재학 중인 우수 인재를 선발해 장학금을 지급했다.\n",
        "\n",
        "이번에 선발된 학생에게는 졸업 때까지 매달 장학금을 지급하고, 포스코ICT의 AI 전문가와의 1대1 멘토링 및 각종 기술 교육, 세미나 참석을 비롯해 채용 기회까지 제공할 계획이다. 김현일 기자'''"
      ],
      "execution_count": 5,
      "outputs": []
    },
    {
      "cell_type": "markdown",
      "metadata": {
        "id": "XjdVP8sYw3Lt"
      },
      "source": [
        "## 2.2 한글 토큰화 및 형태소 분석"
      ]
    },
    {
      "cell_type": "markdown",
      "metadata": {
        "id": "Pi1n6knExDK8"
      },
      "source": [
        "한글 자연어 처리기 비교  \n",
        "https://konlpy.org/ko/latest/morph/\n",
        "\n"
      ]
    },
    {
      "cell_type": "code",
      "metadata": {
        "id": "L6V9Lc70xLxJ",
        "colab": {
          "base_uri": "https://localhost:8080/"
        },
        "outputId": "aaa85452-48c3-4b90-85ff-e5e18261ed29"
      },
      "source": [
        "#konlpy 설치\n",
        "!pip install konlpy"
      ],
      "execution_count": 1,
      "outputs": [
        {
          "output_type": "stream",
          "name": "stdout",
          "text": [
            "Looking in indexes: https://pypi.org/simple, https://us-python.pkg.dev/colab-wheels/public/simple/\n",
            "Collecting konlpy\n",
            "  Downloading konlpy-0.6.0-py2.py3-none-any.whl (19.4 MB)\n",
            "\u001b[2K     \u001b[90m━━━━━━━━━━━━━━━━━━━━━━━━━━━━━━━━━━━━━━━━\u001b[0m \u001b[32m19.4/19.4 MB\u001b[0m \u001b[31m53.6 MB/s\u001b[0m eta \u001b[36m0:00:00\u001b[0m\n",
            "\u001b[?25hCollecting JPype1>=0.7.0 (from konlpy)\n",
            "  Downloading JPype1-1.4.1-cp310-cp310-manylinux_2_12_x86_64.manylinux2010_x86_64.whl (465 kB)\n",
            "\u001b[2K     \u001b[90m━━━━━━━━━━━━━━━━━━━━━━━━━━━━━━━━━━━━━━━\u001b[0m \u001b[32m465.3/465.3 kB\u001b[0m \u001b[31m7.7 MB/s\u001b[0m eta \u001b[36m0:00:00\u001b[0m\n",
            "\u001b[?25hRequirement already satisfied: lxml>=4.1.0 in /usr/local/lib/python3.10/dist-packages (from konlpy) (4.9.2)\n",
            "Requirement already satisfied: numpy>=1.6 in /usr/local/lib/python3.10/dist-packages (from konlpy) (1.22.4)\n",
            "Requirement already satisfied: packaging in /usr/local/lib/python3.10/dist-packages (from JPype1>=0.7.0->konlpy) (23.1)\n",
            "Installing collected packages: JPype1, konlpy\n",
            "Successfully installed JPype1-1.4.1 konlpy-0.6.0\n"
          ]
        }
      ]
    },
    {
      "cell_type": "code",
      "source": [
        "from konlpy.tag import Hannanum, Okt, Kkma"
      ],
      "metadata": {
        "id": "6zAknr7Mvit-"
      },
      "execution_count": 3,
      "outputs": []
    },
    {
      "cell_type": "code",
      "source": [
        "# Okt 사용\n",
        "# Okt 객체 생성\n",
        "Okt = Okt()"
      ],
      "metadata": {
        "id": "O-Nt9sHPviru"
      },
      "execution_count": 4,
      "outputs": []
    },
    {
      "cell_type": "code",
      "source": [
        "Okt.morphs(kor_text) # 형태소 분석기: 형태소 단위로 쪼개기"
      ],
      "metadata": {
        "colab": {
          "base_uri": "https://localhost:8080/"
        },
        "id": "grykkFyKvipW",
        "outputId": "7f86ebb8-7cc5-4212-d3fd-da64bd5dc68c"
      },
      "execution_count": 6,
      "outputs": [
        {
          "output_type": "execute_result",
          "data": {
            "text/plain": [
              "['포스코',\n",
              " 'ICT',\n",
              " '는',\n",
              " '25일',\n",
              " '경기도',\n",
              " '판교',\n",
              " '사옥',\n",
              " '에서',\n",
              " '청소년',\n",
              " '들',\n",
              " '이',\n",
              " '개발',\n",
              " '한',\n",
              " '인공',\n",
              " '지능',\n",
              " '(',\n",
              " 'AI',\n",
              " ')',\n",
              " '기반',\n",
              " '애플리케이션',\n",
              " '을',\n",
              " '직접',\n",
              " '선보이는',\n",
              " '‘',\n",
              " '2022',\n",
              " 'AI',\n",
              " '유스',\n",
              " '챌',\n",
              " '린지',\n",
              " '(',\n",
              " 'Youth',\n",
              " 'Challenge',\n",
              " ')’',\n",
              " '를',\n",
              " '개최',\n",
              " '했다',\n",
              " '.',\n",
              " '청소년',\n",
              " '들',\n",
              " '은',\n",
              " '기성세대',\n",
              " '들',\n",
              " '이',\n",
              " '생각',\n",
              " '하지',\n",
              " '못',\n",
              " '했던',\n",
              " '참신한',\n",
              " '아이디어',\n",
              " '를',\n",
              " '바탕',\n",
              " '으로',\n",
              " 'AI',\n",
              " '시스템',\n",
              " '을',\n",
              " '개발',\n",
              " '해',\n",
              " '관심',\n",
              " '을',\n",
              " '모았다',\n",
              " '.',\n",
              " '\\n\\n',\n",
              " '예선',\n",
              " '을',\n",
              " '거쳐',\n",
              " '본선',\n",
              " '에',\n",
              " '오른',\n",
              " '전국',\n",
              " '중',\n",
              " '·',\n",
              " '고교',\n",
              " '7',\n",
              " '개팀',\n",
              " '은',\n",
              " '지난',\n",
              " '달',\n",
              " '부터',\n",
              " '포스코',\n",
              " 'ICT',\n",
              " '소속',\n",
              " 'AI',\n",
              " '엔지니어',\n",
              " '의',\n",
              " '코칭',\n",
              " '속',\n",
              " '에',\n",
              " '개발',\n",
              " '한',\n",
              " 'AI',\n",
              " '시스템',\n",
              " '을',\n",
              " '직접',\n",
              " '시연',\n",
              " '했다',\n",
              " '.',\n",
              " '심사',\n",
              " '는',\n",
              " '카이스트',\n",
              " ',',\n",
              " '포스텍',\n",
              " ',',\n",
              " '연세대',\n",
              " '교수',\n",
              " '등',\n",
              " '으로',\n",
              " '구성',\n",
              " '된',\n",
              " '평가',\n",
              " '위원',\n",
              " '들',\n",
              " '과',\n",
              " '포스코',\n",
              " 'ICT',\n",
              " '직원',\n",
              " '들',\n",
              " '로',\n",
              " '구성',\n",
              " '된',\n",
              " '내부',\n",
              " '평가',\n",
              " '위원',\n",
              " '들',\n",
              " '이',\n",
              " '맡았다',\n",
              " '.',\n",
              " '우수',\n",
              " '작은',\n",
              " '과',\n",
              " '기',\n",
              " '정통부',\n",
              " '장관',\n",
              " '상',\n",
              " '(',\n",
              " '1',\n",
              " '팀',\n",
              " '),',\n",
              " '포스코',\n",
              " 'ICT',\n",
              " '사장',\n",
              " '상',\n",
              " '(',\n",
              " '1',\n",
              " '팀',\n",
              " '),',\n",
              " '지능',\n",
              " '정보산업',\n",
              " '협회장',\n",
              " '상',\n",
              " '(',\n",
              " '1',\n",
              " '팀',\n",
              " '),',\n",
              " '우수상',\n",
              " '(',\n",
              " '2',\n",
              " '팀',\n",
              " '),',\n",
              " '장려상',\n",
              " '(',\n",
              " '2',\n",
              " '팀',\n",
              " ')',\n",
              " '등',\n",
              " '으로',\n",
              " '나눠',\n",
              " '각각',\n",
              " '시상',\n",
              " '했다',\n",
              " '.',\n",
              " '포스코',\n",
              " 'ICT',\n",
              " '는',\n",
              " 'AI',\n",
              " '기술',\n",
              " '을',\n",
              " '접목',\n",
              " '해',\n",
              " '환경',\n",
              " '·',\n",
              " '안전',\n",
              " '·',\n",
              " '사회',\n",
              " '문제',\n",
              " '를',\n",
              " '해결',\n",
              " '할',\n",
              " '수',\n",
              " '있는',\n",
              " '청소년',\n",
              " '들',\n",
              " '의',\n",
              " '아이디어',\n",
              " '를',\n",
              " '발굴',\n",
              " '하기',\n",
              " '위해',\n",
              " '이번',\n",
              " '공모전',\n",
              " '을',\n",
              " '개최',\n",
              " '했다',\n",
              " '.',\n",
              " '평소',\n",
              " 'AI',\n",
              " '기술',\n",
              " '을',\n",
              " '접',\n",
              " '할',\n",
              " '기회',\n",
              " '가',\n",
              " '부족했던',\n",
              " '청소년',\n",
              " '들',\n",
              " '은',\n",
              " '멘토링',\n",
              " '을',\n",
              " '통해',\n",
              " '산업',\n",
              " '현장',\n",
              " '에서',\n",
              " '실제',\n",
              " '활용',\n",
              " '되는',\n",
              " '기술',\n",
              " '을',\n",
              " '자연',\n",
              " '스럽게',\n",
              " '체험',\n",
              " '하고',\n",
              " '진로',\n",
              " '결정',\n",
              " '에도',\n",
              " '도움',\n",
              " '을',\n",
              " '받을',\n",
              " '수',\n",
              " '있었다',\n",
              " '.',\n",
              " '\\n\\n',\n",
              " '이번',\n",
              " '공모전',\n",
              " '에',\n",
              " '참여',\n",
              " '한',\n",
              " '김희',\n",
              " '주',\n",
              " '학생',\n",
              " '은',\n",
              " '“',\n",
              " '막연히',\n",
              " '생각',\n",
              " '했던',\n",
              " '아이디어',\n",
              " '를',\n",
              " '실제',\n",
              " 'AI',\n",
              " '전문가',\n",
              " '들',\n",
              " '과',\n",
              " '구체화',\n",
              " '해',\n",
              " '나가며',\n",
              " '접',\n",
              " '하지',\n",
              " '못',\n",
              " '했던',\n",
              " '지식',\n",
              " '과',\n",
              " '기술',\n",
              " '을',\n",
              " '배울',\n",
              " '수',\n",
              " '있었고',\n",
              " 'AI',\n",
              " '분야',\n",
              " '에',\n",
              " '더',\n",
              " '큰',\n",
              " '관심',\n",
              " '을',\n",
              " '가지',\n",
              " '게',\n",
              " '됐다',\n",
              " '”',\n",
              " '고',\n",
              " '말',\n",
              " '했다',\n",
              " '.',\n",
              " '\\n\\n',\n",
              " '학생',\n",
              " '들',\n",
              " '의',\n",
              " '멘토',\n",
              " '를',\n",
              " '맡은',\n",
              " '포스코',\n",
              " 'ICT',\n",
              " '최영철',\n",
              " '연구원',\n",
              " '은',\n",
              " '“',\n",
              " '학생',\n",
              " '들',\n",
              " '의',\n",
              " '열정',\n",
              " '과',\n",
              " '창의',\n",
              " '적',\n",
              " '인',\n",
              " '아이디어',\n",
              " '를',\n",
              " '접',\n",
              " '하며',\n",
              " '새로운',\n",
              " '자극',\n",
              " '을',\n",
              " '받아',\n",
              " '재미있게',\n",
              " '멘토링',\n",
              " '에',\n",
              " '참여',\n",
              " '했다',\n",
              " '”',\n",
              " '며',\n",
              " '“',\n",
              " '그동안',\n",
              " 'AI',\n",
              " '분야',\n",
              " '에서',\n",
              " '쌓아',\n",
              " '온',\n",
              " '재능',\n",
              " '을',\n",
              " '기부',\n",
              " '해',\n",
              " 'AI',\n",
              " '전문가',\n",
              " '를',\n",
              " '꿈꾸는',\n",
              " '청소년',\n",
              " '들',\n",
              " '에게',\n",
              " '전',\n",
              " '해줄',\n",
              " '수',\n",
              " '있어',\n",
              " '의미',\n",
              " '있었다',\n",
              " '”',\n",
              " '고',\n",
              " '밝혔다',\n",
              " '.',\n",
              " '한편',\n",
              " ',',\n",
              " '포스코',\n",
              " 'ICT',\n",
              " '는',\n",
              " '아주대',\n",
              " '학교',\n",
              " '대학원',\n",
              " '과',\n",
              " '‘',\n",
              " 'AI',\n",
              " '전문',\n",
              " '인력',\n",
              " '양성',\n",
              " '을',\n",
              " '위',\n",
              " '한',\n",
              " '업무',\n",
              " '협약',\n",
              " '’',\n",
              " '을',\n",
              " '체결',\n",
              " '해',\n",
              " '프로그램',\n",
              " '을',\n",
              " '운영',\n",
              " '하고',\n",
              " '있다',\n",
              " '.',\n",
              " '지난',\n",
              " '24일',\n",
              " '에는',\n",
              " '인공',\n",
              " '지능',\n",
              " '학과',\n",
              " '대학원',\n",
              " '과정',\n",
              " '에',\n",
              " '재학',\n",
              " '중인',\n",
              " '우수',\n",
              " '인재',\n",
              " '를',\n",
              " '선발',\n",
              " '해',\n",
              " '장학금',\n",
              " '을',\n",
              " '지급',\n",
              " '했다',\n",
              " '.',\n",
              " '\\n\\n',\n",
              " '이번',\n",
              " '에',\n",
              " '선발',\n",
              " '된',\n",
              " '학생',\n",
              " '에게는',\n",
              " '졸업',\n",
              " '때',\n",
              " '까지',\n",
              " '매달',\n",
              " '장학금',\n",
              " '을',\n",
              " '지급',\n",
              " '하고',\n",
              " ',',\n",
              " '포스코',\n",
              " 'ICT',\n",
              " '의',\n",
              " 'AI',\n",
              " '전문가',\n",
              " '와의',\n",
              " '1',\n",
              " '대',\n",
              " '1',\n",
              " '멘토링',\n",
              " '및',\n",
              " '각종',\n",
              " '기술',\n",
              " '교육',\n",
              " ',',\n",
              " '세미나',\n",
              " '참석',\n",
              " '을',\n",
              " '비롯',\n",
              " '해',\n",
              " '채용',\n",
              " '기회',\n",
              " '까지',\n",
              " '제공',\n",
              " '할',\n",
              " '계획',\n",
              " '이다',\n",
              " '.',\n",
              " '김현',\n",
              " '일',\n",
              " '기자']"
            ]
          },
          "metadata": {},
          "execution_count": 6
        }
      ]
    },
    {
      "cell_type": "code",
      "source": [
        "Okt.nouns(kor_text) # 명사 추출"
      ],
      "metadata": {
        "colab": {
          "base_uri": "https://localhost:8080/"
        },
        "id": "J1QQXRz0vinP",
        "outputId": "0341dded-86e6-4124-be22-8220ec8e2b88"
      },
      "execution_count": 10,
      "outputs": [
        {
          "output_type": "execute_result",
          "data": {
            "text/plain": [
              "['포스코',\n",
              " '경기도',\n",
              " '판교',\n",
              " '사옥',\n",
              " '청소년',\n",
              " '개발',\n",
              " '인공',\n",
              " '지능',\n",
              " '기반',\n",
              " '애플리케이션',\n",
              " '직접',\n",
              " '유스',\n",
              " '린지',\n",
              " '를',\n",
              " '개최',\n",
              " '청소년',\n",
              " '기성세대',\n",
              " '생각',\n",
              " '아이디어',\n",
              " '바탕',\n",
              " '시스템',\n",
              " '개발',\n",
              " '관심',\n",
              " '예선',\n",
              " '본선',\n",
              " '오른',\n",
              " '전국',\n",
              " '중',\n",
              " '고교',\n",
              " '개팀',\n",
              " '지난',\n",
              " '달',\n",
              " '포스코',\n",
              " '소속',\n",
              " '엔지니어',\n",
              " '코칭',\n",
              " '속',\n",
              " '개발',\n",
              " '시스템',\n",
              " '직접',\n",
              " '시연',\n",
              " '심사',\n",
              " '카이스트',\n",
              " '포스텍',\n",
              " '연세대',\n",
              " '교수',\n",
              " '등',\n",
              " '구성',\n",
              " '평가',\n",
              " '위원',\n",
              " '포스코',\n",
              " '직원',\n",
              " '구성',\n",
              " '내부',\n",
              " '평가',\n",
              " '위원',\n",
              " '우수',\n",
              " '과',\n",
              " '정통부',\n",
              " '장관',\n",
              " '팀',\n",
              " '포스코',\n",
              " '사장',\n",
              " '팀',\n",
              " '지능',\n",
              " '정보산업',\n",
              " '협회장',\n",
              " '팀',\n",
              " '우수상',\n",
              " '팀',\n",
              " '장려상',\n",
              " '팀',\n",
              " '등',\n",
              " '각각',\n",
              " '시상',\n",
              " '포스코',\n",
              " '기술',\n",
              " '접목',\n",
              " '환경',\n",
              " '안전',\n",
              " '사회',\n",
              " '문제',\n",
              " '해결',\n",
              " '수',\n",
              " '청소년',\n",
              " '아이디어',\n",
              " '발굴',\n",
              " '위해',\n",
              " '이번',\n",
              " '공모전',\n",
              " '개최',\n",
              " '평소',\n",
              " '기술',\n",
              " '접',\n",
              " '기회',\n",
              " '청소년',\n",
              " '멘토링',\n",
              " '통해',\n",
              " '산업',\n",
              " '현장',\n",
              " '실제',\n",
              " '활용',\n",
              " '기술',\n",
              " '자연',\n",
              " '체험',\n",
              " '진로',\n",
              " '결정',\n",
              " '도움',\n",
              " '수',\n",
              " '이번',\n",
              " '공모전',\n",
              " '참여',\n",
              " '김희',\n",
              " '주',\n",
              " '학생',\n",
              " '생각',\n",
              " '아이디어',\n",
              " '실제',\n",
              " '전문가',\n",
              " '구체화',\n",
              " '접',\n",
              " '지식',\n",
              " '기술',\n",
              " '수',\n",
              " '분야',\n",
              " '더',\n",
              " '관심',\n",
              " '가지',\n",
              " '고',\n",
              " '말',\n",
              " '학생',\n",
              " '멘토',\n",
              " '포스코',\n",
              " '최영철',\n",
              " '연구원',\n",
              " '학생',\n",
              " '열정',\n",
              " '창의',\n",
              " '아이디어',\n",
              " '접',\n",
              " '자극',\n",
              " '멘토링',\n",
              " '참여',\n",
              " '며',\n",
              " '그동안',\n",
              " '분야',\n",
              " '온',\n",
              " '재능',\n",
              " '기부',\n",
              " '전문가',\n",
              " '청소년',\n",
              " '전',\n",
              " '수',\n",
              " '의미',\n",
              " '고',\n",
              " '한편',\n",
              " '포스코',\n",
              " '아주대',\n",
              " '학교',\n",
              " '대학원',\n",
              " '전문',\n",
              " '인력',\n",
              " '양성',\n",
              " '위',\n",
              " '업무',\n",
              " '협약',\n",
              " '체결',\n",
              " '프로그램',\n",
              " '운영',\n",
              " '지난',\n",
              " '인공',\n",
              " '지능',\n",
              " '학과',\n",
              " '대학원',\n",
              " '과정',\n",
              " '재학',\n",
              " '중인',\n",
              " '우수',\n",
              " '인재',\n",
              " '선발',\n",
              " '장학금',\n",
              " '지급',\n",
              " '이번',\n",
              " '선발',\n",
              " '학생',\n",
              " '졸업',\n",
              " '때',\n",
              " '매달',\n",
              " '장학금',\n",
              " '지급',\n",
              " '포스코',\n",
              " '의',\n",
              " '전문가',\n",
              " '멘토링',\n",
              " '및',\n",
              " '각종',\n",
              " '기술',\n",
              " '교육',\n",
              " '세미나',\n",
              " '참석',\n",
              " '비롯',\n",
              " '채용',\n",
              " '기회',\n",
              " '제공',\n",
              " '계획',\n",
              " '김현',\n",
              " '일',\n",
              " '기자']"
            ]
          },
          "metadata": {},
          "execution_count": 10
        }
      ]
    },
    {
      "cell_type": "code",
      "source": [
        "Okt.pos(kor_text) # 품사 태깅"
      ],
      "metadata": {
        "colab": {
          "base_uri": "https://localhost:8080/"
        },
        "id": "R2N1rYmtvik2",
        "outputId": "fffbd150-192a-49b0-ade1-ca1c29ca91e5"
      },
      "execution_count": 11,
      "outputs": [
        {
          "output_type": "execute_result",
          "data": {
            "text/plain": [
              "[('포스코', 'Noun'),\n",
              " ('ICT', 'Alpha'),\n",
              " ('는', 'Verb'),\n",
              " ('25일', 'Number'),\n",
              " ('경기도', 'Noun'),\n",
              " ('판교', 'Noun'),\n",
              " ('사옥', 'Noun'),\n",
              " ('에서', 'Josa'),\n",
              " ('청소년', 'Noun'),\n",
              " ('들', 'Suffix'),\n",
              " ('이', 'Josa'),\n",
              " ('개발', 'Noun'),\n",
              " ('한', 'Josa'),\n",
              " ('인공', 'Noun'),\n",
              " ('지능', 'Noun'),\n",
              " ('(', 'Punctuation'),\n",
              " ('AI', 'Alpha'),\n",
              " (')', 'Punctuation'),\n",
              " ('기반', 'Noun'),\n",
              " ('애플리케이션', 'Noun'),\n",
              " ('을', 'Josa'),\n",
              " ('직접', 'Noun'),\n",
              " ('선보이는', 'Verb'),\n",
              " ('‘', 'Foreign'),\n",
              " ('2022', 'Number'),\n",
              " ('AI', 'Alpha'),\n",
              " ('유스', 'Noun'),\n",
              " ('챌', 'Verb'),\n",
              " ('린지', 'Noun'),\n",
              " ('(', 'Punctuation'),\n",
              " ('Youth', 'Alpha'),\n",
              " ('Challenge', 'Alpha'),\n",
              " (')’', 'Punctuation'),\n",
              " ('를', 'Noun'),\n",
              " ('개최', 'Noun'),\n",
              " ('했다', 'Verb'),\n",
              " ('.', 'Punctuation'),\n",
              " ('청소년', 'Noun'),\n",
              " ('들', 'Suffix'),\n",
              " ('은', 'Josa'),\n",
              " ('기성세대', 'Noun'),\n",
              " ('들', 'Suffix'),\n",
              " ('이', 'Josa'),\n",
              " ('생각', 'Noun'),\n",
              " ('하지', 'Verb'),\n",
              " ('못', 'VerbPrefix'),\n",
              " ('했던', 'Verb'),\n",
              " ('참신한', 'Adjective'),\n",
              " ('아이디어', 'Noun'),\n",
              " ('를', 'Josa'),\n",
              " ('바탕', 'Noun'),\n",
              " ('으로', 'Josa'),\n",
              " ('AI', 'Alpha'),\n",
              " ('시스템', 'Noun'),\n",
              " ('을', 'Josa'),\n",
              " ('개발', 'Noun'),\n",
              " ('해', 'Verb'),\n",
              " ('관심', 'Noun'),\n",
              " ('을', 'Josa'),\n",
              " ('모았다', 'Verb'),\n",
              " ('.', 'Punctuation'),\n",
              " ('\\n\\n', 'Foreign'),\n",
              " ('예선', 'Noun'),\n",
              " ('을', 'Josa'),\n",
              " ('거쳐', 'Verb'),\n",
              " ('본선', 'Noun'),\n",
              " ('에', 'Josa'),\n",
              " ('오른', 'Noun'),\n",
              " ('전국', 'Noun'),\n",
              " ('중', 'Noun'),\n",
              " ('·', 'Punctuation'),\n",
              " ('고교', 'Noun'),\n",
              " ('7', 'Number'),\n",
              " ('개팀', 'Noun'),\n",
              " ('은', 'Josa'),\n",
              " ('지난', 'Noun'),\n",
              " ('달', 'Noun'),\n",
              " ('부터', 'Josa'),\n",
              " ('포스코', 'Noun'),\n",
              " ('ICT', 'Alpha'),\n",
              " ('소속', 'Noun'),\n",
              " ('AI', 'Alpha'),\n",
              " ('엔지니어', 'Noun'),\n",
              " ('의', 'Josa'),\n",
              " ('코칭', 'Noun'),\n",
              " ('속', 'Noun'),\n",
              " ('에', 'Josa'),\n",
              " ('개발', 'Noun'),\n",
              " ('한', 'Josa'),\n",
              " ('AI', 'Alpha'),\n",
              " ('시스템', 'Noun'),\n",
              " ('을', 'Josa'),\n",
              " ('직접', 'Noun'),\n",
              " ('시연', 'Noun'),\n",
              " ('했다', 'Verb'),\n",
              " ('.', 'Punctuation'),\n",
              " ('심사', 'Noun'),\n",
              " ('는', 'Josa'),\n",
              " ('카이스트', 'Noun'),\n",
              " (',', 'Punctuation'),\n",
              " ('포스텍', 'Noun'),\n",
              " (',', 'Punctuation'),\n",
              " ('연세대', 'Noun'),\n",
              " ('교수', 'Noun'),\n",
              " ('등', 'Noun'),\n",
              " ('으로', 'Josa'),\n",
              " ('구성', 'Noun'),\n",
              " ('된', 'Verb'),\n",
              " ('평가', 'Noun'),\n",
              " ('위원', 'Noun'),\n",
              " ('들', 'Suffix'),\n",
              " ('과', 'Josa'),\n",
              " ('포스코', 'Noun'),\n",
              " ('ICT', 'Alpha'),\n",
              " ('직원', 'Noun'),\n",
              " ('들', 'Suffix'),\n",
              " ('로', 'Josa'),\n",
              " ('구성', 'Noun'),\n",
              " ('된', 'Verb'),\n",
              " ('내부', 'Noun'),\n",
              " ('평가', 'Noun'),\n",
              " ('위원', 'Noun'),\n",
              " ('들', 'Suffix'),\n",
              " ('이', 'Josa'),\n",
              " ('맡았다', 'Verb'),\n",
              " ('.', 'Punctuation'),\n",
              " ('우수', 'Noun'),\n",
              " ('작은', 'Adjective'),\n",
              " ('과', 'Noun'),\n",
              " ('기', 'Modifier'),\n",
              " ('정통부', 'Noun'),\n",
              " ('장관', 'Noun'),\n",
              " ('상', 'Suffix'),\n",
              " ('(', 'Punctuation'),\n",
              " ('1', 'Number'),\n",
              " ('팀', 'Noun'),\n",
              " ('),', 'Punctuation'),\n",
              " ('포스코', 'Noun'),\n",
              " ('ICT', 'Alpha'),\n",
              " ('사장', 'Noun'),\n",
              " ('상', 'Suffix'),\n",
              " ('(', 'Punctuation'),\n",
              " ('1', 'Number'),\n",
              " ('팀', 'Noun'),\n",
              " ('),', 'Punctuation'),\n",
              " ('지능', 'Noun'),\n",
              " ('정보산업', 'Noun'),\n",
              " ('협회장', 'Noun'),\n",
              " ('상', 'Suffix'),\n",
              " ('(', 'Punctuation'),\n",
              " ('1', 'Number'),\n",
              " ('팀', 'Noun'),\n",
              " ('),', 'Punctuation'),\n",
              " ('우수상', 'Noun'),\n",
              " ('(', 'Punctuation'),\n",
              " ('2', 'Number'),\n",
              " ('팀', 'Noun'),\n",
              " ('),', 'Punctuation'),\n",
              " ('장려상', 'Noun'),\n",
              " ('(', 'Punctuation'),\n",
              " ('2', 'Number'),\n",
              " ('팀', 'Noun'),\n",
              " (')', 'Punctuation'),\n",
              " ('등', 'Noun'),\n",
              " ('으로', 'Josa'),\n",
              " ('나눠', 'Verb'),\n",
              " ('각각', 'Noun'),\n",
              " ('시상', 'Noun'),\n",
              " ('했다', 'Verb'),\n",
              " ('.', 'Punctuation'),\n",
              " ('포스코', 'Noun'),\n",
              " ('ICT', 'Alpha'),\n",
              " ('는', 'Verb'),\n",
              " ('AI', 'Alpha'),\n",
              " ('기술', 'Noun'),\n",
              " ('을', 'Josa'),\n",
              " ('접목', 'Noun'),\n",
              " ('해', 'Verb'),\n",
              " ('환경', 'Noun'),\n",
              " ('·', 'Punctuation'),\n",
              " ('안전', 'Noun'),\n",
              " ('·', 'Punctuation'),\n",
              " ('사회', 'Noun'),\n",
              " ('문제', 'Noun'),\n",
              " ('를', 'Josa'),\n",
              " ('해결', 'Noun'),\n",
              " ('할', 'Verb'),\n",
              " ('수', 'Noun'),\n",
              " ('있는', 'Adjective'),\n",
              " ('청소년', 'Noun'),\n",
              " ('들', 'Suffix'),\n",
              " ('의', 'Josa'),\n",
              " ('아이디어', 'Noun'),\n",
              " ('를', 'Josa'),\n",
              " ('발굴', 'Noun'),\n",
              " ('하기', 'Verb'),\n",
              " ('위해', 'Noun'),\n",
              " ('이번', 'Noun'),\n",
              " ('공모전', 'Noun'),\n",
              " ('을', 'Josa'),\n",
              " ('개최', 'Noun'),\n",
              " ('했다', 'Verb'),\n",
              " ('.', 'Punctuation'),\n",
              " ('평소', 'Noun'),\n",
              " ('AI', 'Alpha'),\n",
              " ('기술', 'Noun'),\n",
              " ('을', 'Josa'),\n",
              " ('접', 'Noun'),\n",
              " ('할', 'Verb'),\n",
              " ('기회', 'Noun'),\n",
              " ('가', 'Josa'),\n",
              " ('부족했던', 'Adjective'),\n",
              " ('청소년', 'Noun'),\n",
              " ('들', 'Suffix'),\n",
              " ('은', 'Josa'),\n",
              " ('멘토링', 'Noun'),\n",
              " ('을', 'Josa'),\n",
              " ('통해', 'Noun'),\n",
              " ('산업', 'Noun'),\n",
              " ('현장', 'Noun'),\n",
              " ('에서', 'Josa'),\n",
              " ('실제', 'Noun'),\n",
              " ('활용', 'Noun'),\n",
              " ('되는', 'Verb'),\n",
              " ('기술', 'Noun'),\n",
              " ('을', 'Josa'),\n",
              " ('자연', 'Noun'),\n",
              " ('스럽게', 'Josa'),\n",
              " ('체험', 'Noun'),\n",
              " ('하고', 'Josa'),\n",
              " ('진로', 'Noun'),\n",
              " ('결정', 'Noun'),\n",
              " ('에도', 'Josa'),\n",
              " ('도움', 'Noun'),\n",
              " ('을', 'Josa'),\n",
              " ('받을', 'Verb'),\n",
              " ('수', 'Noun'),\n",
              " ('있었다', 'Adjective'),\n",
              " ('.', 'Punctuation'),\n",
              " ('\\n\\n', 'Foreign'),\n",
              " ('이번', 'Noun'),\n",
              " ('공모전', 'Noun'),\n",
              " ('에', 'Josa'),\n",
              " ('참여', 'Noun'),\n",
              " ('한', 'Josa'),\n",
              " ('김희', 'Noun'),\n",
              " ('주', 'Noun'),\n",
              " ('학생', 'Noun'),\n",
              " ('은', 'Josa'),\n",
              " ('“', 'Foreign'),\n",
              " ('막연히', 'Adjective'),\n",
              " ('생각', 'Noun'),\n",
              " ('했던', 'Verb'),\n",
              " ('아이디어', 'Noun'),\n",
              " ('를', 'Josa'),\n",
              " ('실제', 'Noun'),\n",
              " ('AI', 'Alpha'),\n",
              " ('전문가', 'Noun'),\n",
              " ('들', 'Suffix'),\n",
              " ('과', 'Josa'),\n",
              " ('구체화', 'Noun'),\n",
              " ('해', 'Verb'),\n",
              " ('나가며', 'Verb'),\n",
              " ('접', 'Noun'),\n",
              " ('하지', 'Verb'),\n",
              " ('못', 'VerbPrefix'),\n",
              " ('했던', 'Verb'),\n",
              " ('지식', 'Noun'),\n",
              " ('과', 'Josa'),\n",
              " ('기술', 'Noun'),\n",
              " ('을', 'Josa'),\n",
              " ('배울', 'Verb'),\n",
              " ('수', 'Noun'),\n",
              " ('있었고', 'Adjective'),\n",
              " ('AI', 'Alpha'),\n",
              " ('분야', 'Noun'),\n",
              " ('에', 'Josa'),\n",
              " ('더', 'Noun'),\n",
              " ('큰', 'Verb'),\n",
              " ('관심', 'Noun'),\n",
              " ('을', 'Josa'),\n",
              " ('가지', 'Noun'),\n",
              " ('게', 'Josa'),\n",
              " ('됐다', 'Verb'),\n",
              " ('”', 'Foreign'),\n",
              " ('고', 'Noun'),\n",
              " ('말', 'Noun'),\n",
              " ('했다', 'Verb'),\n",
              " ('.', 'Punctuation'),\n",
              " ('\\n\\n', 'Foreign'),\n",
              " ('학생', 'Noun'),\n",
              " ('들', 'Suffix'),\n",
              " ('의', 'Josa'),\n",
              " ('멘토', 'Noun'),\n",
              " ('를', 'Josa'),\n",
              " ('맡은', 'Verb'),\n",
              " ('포스코', 'Noun'),\n",
              " ('ICT', 'Alpha'),\n",
              " ('최영철', 'Noun'),\n",
              " ('연구원', 'Noun'),\n",
              " ('은', 'Josa'),\n",
              " ('“', 'Foreign'),\n",
              " ('학생', 'Noun'),\n",
              " ('들', 'Suffix'),\n",
              " ('의', 'Josa'),\n",
              " ('열정', 'Noun'),\n",
              " ('과', 'Josa'),\n",
              " ('창의', 'Noun'),\n",
              " ('적', 'Suffix'),\n",
              " ('인', 'Josa'),\n",
              " ('아이디어', 'Noun'),\n",
              " ('를', 'Josa'),\n",
              " ('접', 'Noun'),\n",
              " ('하며', 'Verb'),\n",
              " ('새로운', 'Adjective'),\n",
              " ('자극', 'Noun'),\n",
              " ('을', 'Josa'),\n",
              " ('받아', 'Verb'),\n",
              " ('재미있게', 'Adjective'),\n",
              " ('멘토링', 'Noun'),\n",
              " ('에', 'Josa'),\n",
              " ('참여', 'Noun'),\n",
              " ('했다', 'Verb'),\n",
              " ('”', 'Foreign'),\n",
              " ('며', 'Noun'),\n",
              " ('“', 'Foreign'),\n",
              " ('그동안', 'Noun'),\n",
              " ('AI', 'Alpha'),\n",
              " ('분야', 'Noun'),\n",
              " ('에서', 'Josa'),\n",
              " ('쌓아', 'Verb'),\n",
              " ('온', 'Noun'),\n",
              " ('재능', 'Noun'),\n",
              " ('을', 'Josa'),\n",
              " ('기부', 'Noun'),\n",
              " ('해', 'Verb'),\n",
              " ('AI', 'Alpha'),\n",
              " ('전문가', 'Noun'),\n",
              " ('를', 'Josa'),\n",
              " ('꿈꾸는', 'Verb'),\n",
              " ('청소년', 'Noun'),\n",
              " ('들', 'Suffix'),\n",
              " ('에게', 'Josa'),\n",
              " ('전', 'Noun'),\n",
              " ('해줄', 'Verb'),\n",
              " ('수', 'Noun'),\n",
              " ('있어', 'Adjective'),\n",
              " ('의미', 'Noun'),\n",
              " ('있었다', 'Adjective'),\n",
              " ('”', 'Foreign'),\n",
              " ('고', 'Noun'),\n",
              " ('밝혔다', 'Verb'),\n",
              " ('.', 'Punctuation'),\n",
              " ('한편', 'Noun'),\n",
              " (',', 'Punctuation'),\n",
              " ('포스코', 'Noun'),\n",
              " ('ICT', 'Alpha'),\n",
              " ('는', 'Verb'),\n",
              " ('아주대', 'Noun'),\n",
              " ('학교', 'Noun'),\n",
              " ('대학원', 'Noun'),\n",
              " ('과', 'Josa'),\n",
              " ('‘', 'Foreign'),\n",
              " ('AI', 'Alpha'),\n",
              " ('전문', 'Noun'),\n",
              " ('인력', 'Noun'),\n",
              " ('양성', 'Noun'),\n",
              " ('을', 'Josa'),\n",
              " ('위', 'Noun'),\n",
              " ('한', 'Josa'),\n",
              " ('업무', 'Noun'),\n",
              " ('협약', 'Noun'),\n",
              " ('’', 'Punctuation'),\n",
              " ('을', 'Josa'),\n",
              " ('체결', 'Noun'),\n",
              " ('해', 'Verb'),\n",
              " ('프로그램', 'Noun'),\n",
              " ('을', 'Josa'),\n",
              " ('운영', 'Noun'),\n",
              " ('하고', 'Josa'),\n",
              " ('있다', 'Adjective'),\n",
              " ('.', 'Punctuation'),\n",
              " ('지난', 'Noun'),\n",
              " ('24일', 'Number'),\n",
              " ('에는', 'Foreign'),\n",
              " ('인공', 'Noun'),\n",
              " ('지능', 'Noun'),\n",
              " ('학과', 'Noun'),\n",
              " ('대학원', 'Noun'),\n",
              " ('과정', 'Noun'),\n",
              " ('에', 'Josa'),\n",
              " ('재학', 'Noun'),\n",
              " ('중인', 'Noun'),\n",
              " ('우수', 'Noun'),\n",
              " ('인재', 'Noun'),\n",
              " ('를', 'Josa'),\n",
              " ('선발', 'Noun'),\n",
              " ('해', 'Verb'),\n",
              " ('장학금', 'Noun'),\n",
              " ('을', 'Josa'),\n",
              " ('지급', 'Noun'),\n",
              " ('했다', 'Verb'),\n",
              " ('.', 'Punctuation'),\n",
              " ('\\n\\n', 'Foreign'),\n",
              " ('이번', 'Noun'),\n",
              " ('에', 'Josa'),\n",
              " ('선발', 'Noun'),\n",
              " ('된', 'Verb'),\n",
              " ('학생', 'Noun'),\n",
              " ('에게는', 'Josa'),\n",
              " ('졸업', 'Noun'),\n",
              " ('때', 'Noun'),\n",
              " ('까지', 'Josa'),\n",
              " ('매달', 'Noun'),\n",
              " ('장학금', 'Noun'),\n",
              " ('을', 'Josa'),\n",
              " ('지급', 'Noun'),\n",
              " ('하고', 'Josa'),\n",
              " (',', 'Punctuation'),\n",
              " ('포스코', 'Noun'),\n",
              " ('ICT', 'Alpha'),\n",
              " ('의', 'Noun'),\n",
              " ('AI', 'Alpha'),\n",
              " ('전문가', 'Noun'),\n",
              " ('와의', 'Josa'),\n",
              " ('1', 'Number'),\n",
              " ('대', 'Verb'),\n",
              " ('1', 'Number'),\n",
              " ('멘토링', 'Noun'),\n",
              " ('및', 'Noun'),\n",
              " ('각종', 'Noun'),\n",
              " ('기술', 'Noun'),\n",
              " ('교육', 'Noun'),\n",
              " (',', 'Punctuation'),\n",
              " ('세미나', 'Noun'),\n",
              " ('참석', 'Noun'),\n",
              " ('을', 'Josa'),\n",
              " ('비롯', 'Noun'),\n",
              " ('해', 'Verb'),\n",
              " ('채용', 'Noun'),\n",
              " ('기회', 'Noun'),\n",
              " ('까지', 'Josa'),\n",
              " ('제공', 'Noun'),\n",
              " ('할', 'Verb'),\n",
              " ('계획', 'Noun'),\n",
              " ('이다', 'Josa'),\n",
              " ('.', 'Punctuation'),\n",
              " ('김현', 'Noun'),\n",
              " ('일', 'Noun'),\n",
              " ('기자', 'Noun')]"
            ]
          },
          "metadata": {},
          "execution_count": 11
        }
      ]
    },
    {
      "cell_type": "code",
      "source": [
        "Okt.morphs(\"갈 수도 있고 아닐 수도 있고\", stem = True) # 표제어 추출"
      ],
      "metadata": {
        "colab": {
          "base_uri": "https://localhost:8080/"
        },
        "id": "PcmMULPeviie",
        "outputId": "2c917489-bd5f-48e5-d60c-392b1025b366"
      },
      "execution_count": 13,
      "outputs": [
        {
          "output_type": "execute_result",
          "data": {
            "text/plain": [
              "['갈다', '수도', '있다', '아니다', '수도', '있다']"
            ]
          },
          "metadata": {},
          "execution_count": 13
        }
      ]
    },
    {
      "cell_type": "code",
      "source": [],
      "metadata": {
        "id": "Ady7sdB0viWI"
      },
      "execution_count": null,
      "outputs": []
    },
    {
      "cell_type": "code",
      "metadata": {
        "id": "EgooNkeSxbTO",
        "colab": {
          "base_uri": "https://localhost:8080/"
        },
        "outputId": "15a673dc-1a6a-4e92-ba3d-0a727b5397cc"
      },
      "source": [
        "#코모란(Komoran) 토큰화\n",
        "\n",
        "from konlpy.tag import Komoran\n",
        "komoran = Komoran()\n",
        "kor_text = \"인간이 컴퓨터와 대화하고 있다는 것을 꺠닫지 못하고 인간과 대화를 계속할 수 있다면 컴퓨터는 지능적인 것으로 간주될 수 있다.\"\n",
        "komoran_tokens = komoran.morphs(kor_text)\n",
        "print(komoran_tokens)"
      ],
      "execution_count": null,
      "outputs": [
        {
          "output_type": "stream",
          "name": "stdout",
          "text": [
            "['인간', '이', '컴퓨터', '와', '대화', '하', '고', '있', '다는', '것', '을', '꺠닫지', '못하', '고', '인간', '과', '대화', '를', '계속', '하', 'ㄹ', '수', '있', '다면', '컴퓨터', '는', '지능', '적', '이', 'ㄴ', '것', '으로', '간주', '되', 'ㄹ', '수', '있', '다', '.']\n"
          ]
        }
      ]
    },
    {
      "cell_type": "code",
      "metadata": {
        "id": "g-hCuM8XxvNT",
        "colab": {
          "base_uri": "https://localhost:8080/"
        },
        "outputId": "20084fe6-5d7f-4072-e183-44ebb89e8106"
      },
      "source": [
        "#한나눔(hannanum) 토큰화 \n",
        "from konlpy.tag import Hannanum\n",
        "hannanum = Hannanum()\n",
        "kor_text = \"인간이 컴퓨터와 대화하고 있다는 것을 꺠닫지 못하고 인간과 대화를 계속할 수 있다면 컴퓨터는 지능적인 것으로 간주될 수 있다.\"\n",
        "hannanum_tokens = hannanum.morphs(kor_text)\n",
        "print(hannanum_tokens)"
      ],
      "execution_count": null,
      "outputs": [
        {
          "output_type": "stream",
          "name": "stdout",
          "text": [
            "['인간', '이', '컴퓨터', '와', '대화', '하고', '있', '다는', '것', '을', '꺠닫지', '못하', '고', '인간', '과', '대화', '를', '계속', '하', 'ㄹ', '수', '있', '다면', '컴퓨터', '는', '지능적', '이', 'ㄴ', '것', '으로', '간주', '되', 'ㄹ', '수', '있', '다', '.']\n"
          ]
        }
      ]
    },
    {
      "cell_type": "code",
      "metadata": {
        "id": "qqb3TjN-yBnp",
        "colab": {
          "base_uri": "https://localhost:8080/"
        },
        "outputId": "7d36dff7-36d2-44e7-a5b4-83b42d0bfef3"
      },
      "source": [
        "#Okt 토큰화 \n",
        "from konlpy.tag import Okt\n",
        "okt = Okt()\n",
        "okt_tokens = okt.morphs(kor_text)\n",
        "print(okt_tokens)"
      ],
      "execution_count": null,
      "outputs": [
        {
          "output_type": "stream",
          "name": "stdout",
          "text": [
            "['인간', '이', '컴퓨터', '와', '대화', '하고', '있다는', '것', '을', '꺠닫', '지', '못', '하고', '인간', '과', '대화', '를', '계속', '할', '수', '있다면', '컴퓨터', '는', '지능', '적', '인', '것', '으로', '간주', '될', '수', '있다', '.']\n"
          ]
        }
      ]
    },
    {
      "cell_type": "code",
      "metadata": {
        "id": "ZIeDF4EAyW2k",
        "colab": {
          "base_uri": "https://localhost:8080/"
        },
        "outputId": "381f74de-4f48-4410-a219-42d0e684c92b"
      },
      "source": [
        "# Kkma 토큰화\n",
        "from konlpy.tag import Kkma \n",
        "kkma = Kkma()\n",
        "kkma_tokens = kkma.morphs(kor_text)\n",
        "print(kkma_tokens)"
      ],
      "execution_count": null,
      "outputs": [
        {
          "output_type": "stream",
          "name": "stdout",
          "text": [
            "['인간', '이', '컴퓨터', '와', '대화', '하', '고', '있', '다는', '것', '을', '꺠', '닫', '지', '못하', '고', '인간', '과', '대화', '를', '계속', '하', 'ㄹ', '수', '있', '다면', '컴퓨터', '는', '지능', '적', '이', 'ㄴ', '것', '으로', '간주', '되', 'ㄹ', '수', '있', '다', '.']\n"
          ]
        }
      ]
    },
    {
      "cell_type": "code",
      "source": [
        "kor_text = '그래욬ㅋㅋㅋ잘해봅시다! 잘하고 있지만 더 잘해보면 좋지 않을까라고 생각하는 중'"
      ],
      "metadata": {
        "id": "4Ah5zmnZKacQ"
      },
      "execution_count": null,
      "outputs": []
    },
    {
      "cell_type": "code",
      "source": [
        "from konlpy.tag import Okt \n",
        "okt = Okt()"
      ],
      "metadata": {
        "id": "m7guPNv7O4oB"
      },
      "execution_count": null,
      "outputs": []
    },
    {
      "cell_type": "code",
      "source": [
        "print(okt.morphs(kor_text, norm = False))"
      ],
      "metadata": {
        "colab": {
          "base_uri": "https://localhost:8080/"
        },
        "id": "RUVZyCMKONn-",
        "outputId": "a4b779ff-b52a-48cd-9cd0-79face0dcefb"
      },
      "execution_count": null,
      "outputs": [
        {
          "output_type": "stream",
          "name": "stdout",
          "text": [
            "['그래욬', 'ㅋㅋㅋ', '잘', '해봅시다', '!', '잘', '하고', '있지만', '더', '잘', '해보면', '좋지', '않을까', '라고', '생각', '하는', '중']\n"
          ]
        }
      ]
    },
    {
      "cell_type": "code",
      "source": [
        "print(okt.morphs(kor_text, norm=True))"
      ],
      "metadata": {
        "colab": {
          "base_uri": "https://localhost:8080/"
        },
        "id": "y157zVjqJwvf",
        "outputId": "e65bf0be-737c-429f-ed66-c9d0dab82b09"
      },
      "execution_count": null,
      "outputs": [
        {
          "output_type": "stream",
          "name": "stdout",
          "text": [
            "['그래요', 'ㅋㅋㅋ', '잘', '해봅시다', '!', '잘', '하고', '있지만', '더', '잘', '해보면', '좋지', '않을까', '라고', '생각', '하는', '중']\n"
          ]
        }
      ]
    },
    {
      "cell_type": "code",
      "source": [
        "print(okt.morphs(kor_text, stem = True))"
      ],
      "metadata": {
        "colab": {
          "base_uri": "https://localhost:8080/"
        },
        "id": "Abzno3Q_KBYB",
        "outputId": "00c7c209-00a2-4f1d-8d1f-8becfa32d7f2"
      },
      "execution_count": null,
      "outputs": [
        {
          "output_type": "stream",
          "name": "stdout",
          "text": [
            "['그래욬', 'ㅋㅋㅋ', '잘', '해보다', '!', '잘', '하다', '있다', '더', '잘', '해보다', '좋다', '않다', '라고', '생각', '하다', '중']\n"
          ]
        }
      ]
    },
    {
      "cell_type": "markdown",
      "metadata": {
        "id": "jigjdTzvyrCo"
      },
      "source": [
        "## 2.3 한글 품사 부착(PoS Tagging)"
      ]
    },
    {
      "cell_type": "markdown",
      "metadata": {
        "id": "RLvx-C3Jyurq"
      },
      "source": [
        "Pos Tag 목록 \n",
        "https://docs.google.com/spreadsheets/u/1/d/1OGAjUvalBuX-oZvZ_-9tEfYD2gQe7hTGsgUpiiBSXI8/edit#gid=0"
      ]
    },
    {
      "cell_type": "code",
      "metadata": {
        "id": "5Uz-1t8FyzrO",
        "colab": {
          "base_uri": "https://localhost:8080/"
        },
        "outputId": "e752b362-619e-4621-9dfd-4348a4012033"
      },
      "source": [
        "# 코모란(Komoran) 품사 태깅\n",
        "komoranTag = []\n",
        "for token in komoran_tokens:\n",
        "  komoranTag += komoran.pos(token)\n",
        "print(komoranTag)"
      ],
      "execution_count": null,
      "outputs": [
        {
          "output_type": "stream",
          "name": "stdout",
          "text": [
            "[('인간', 'NNG'), ('이', 'MM'), ('컴퓨터', 'NNG'), ('오', 'VV'), ('아', 'EC'), ('대화', 'NNG'), ('하', 'NNG'), ('고', 'MM'), ('있', 'VV'), ('달', 'VV'), ('는', 'ETM'), ('것', 'NNB'), ('을', 'NNG'), ('꺠닫지', 'NA'), ('못', 'MAG'), ('하', 'MAG'), ('고', 'MM'), ('인간', 'NNG'), ('과', 'NNG'), ('대화', 'NNG'), ('를', 'JKO'), ('계속', 'MAG'), ('하', 'NNG'), ('ㄹ', 'NA'), ('수', 'NNB'), ('있', 'VV'), ('다면', 'NNG'), ('컴퓨터', 'NNG'), ('늘', 'VV'), ('ㄴ', 'ETM'), ('지능', 'NNP'), ('적', 'NNB'), ('이', 'MM'), ('ㄴ', 'JX'), ('것', 'NNB'), ('으로', 'JKB'), ('간주', 'NNG'), ('되', 'NNB'), ('ㄹ', 'NA'), ('수', 'NNB'), ('있', 'VV'), ('다', 'MAG'), ('.', 'SF')]\n"
          ]
        }
      ]
    },
    {
      "cell_type": "code",
      "metadata": {
        "id": "r5IRmwubzDSJ",
        "colab": {
          "base_uri": "https://localhost:8080/"
        },
        "outputId": "11a5e7ed-c4d8-4228-87a8-586254d0daa4"
      },
      "source": [
        "# 한나눔(Hannanum) 품사 태깅\n",
        "hannanum_Tag = []\n",
        "for token in hannanum_tokens:\n",
        "  hannanum_Tag += hannanum.pos(token)\n",
        "\n",
        "print(hannanum_Tag)"
      ],
      "execution_count": null,
      "outputs": [
        {
          "output_type": "stream",
          "name": "stdout",
          "text": [
            "[('인간', 'N'), ('이', 'M'), ('컴퓨터', 'N'), ('와', 'I'), ('대화', 'N'), ('하', 'P'), ('고', 'E'), ('있', 'N'), ('다', 'M'), ('는', 'J'), ('것', 'N'), ('을', 'N'), ('꺠닫지', 'N'), ('못하', 'P'), ('어', 'E'), ('고', 'M'), ('인간', 'N'), ('과', 'N'), ('대화', 'N'), ('를', 'N'), ('계속', 'M'), ('하', 'I'), ('ㄹ', 'N'), ('수', 'N'), ('있', 'N'), ('다면', 'N'), ('컴퓨터', 'N'), ('늘', 'P'), ('ㄴ', 'E'), ('지능적', 'N'), ('이', 'M'), ('ㄴ', 'N'), ('것', 'N'), ('으', 'N'), ('로', 'J'), ('간주', 'N'), ('되', 'N'), ('ㄹ', 'N'), ('수', 'N'), ('있', 'N'), ('다', 'M'), ('.', 'S')]\n"
          ]
        }
      ]
    },
    {
      "cell_type": "code",
      "metadata": {
        "id": "6eKGCe0CzdDg",
        "colab": {
          "base_uri": "https://localhost:8080/"
        },
        "outputId": "00a1903e-ea84-41f4-e10c-8d256a34dbee"
      },
      "source": [
        "# Okt 품사 태깅\n",
        "oktTag = []\n",
        "for token in okt_tokens:\n",
        "  oktTag += okt.pos(token)\n",
        "print(oktTag)"
      ],
      "execution_count": null,
      "outputs": [
        {
          "output_type": "stream",
          "name": "stdout",
          "text": [
            "[('인간', 'Noun'), ('이', 'Noun'), ('컴퓨터', 'Noun'), ('와', 'Verb'), ('대화', 'Noun'), ('하고', 'Verb'), ('있다는', 'Adjective'), ('것', 'Noun'), ('을', 'Josa'), ('꺠닫', 'Noun'), ('지', 'Verb'), ('못', 'Noun'), ('하고', 'Verb'), ('인간', 'Noun'), ('과', 'Noun'), ('대화', 'Noun'), ('를', 'Noun'), ('계속', 'Noun'), ('할', 'Verb'), ('수', 'Noun'), ('있다면', 'Adjective'), ('컴퓨터', 'Noun'), ('는', 'Verb'), ('지능', 'Noun'), ('적', 'Noun'), ('인', 'Noun'), ('것', 'Noun'), ('으로', 'Josa'), ('간주', 'Noun'), ('될', 'Verb'), ('수', 'Noun'), ('있다', 'Adjective'), ('.', 'Punctuation')]\n"
          ]
        }
      ]
    },
    {
      "cell_type": "code",
      "metadata": {
        "id": "rGjlKUtFzuxO",
        "colab": {
          "base_uri": "https://localhost:8080/"
        },
        "outputId": "bf0456a9-d005-4867-ad57-870fab909c72"
      },
      "source": [
        "#Kkma 품사 태깅\n",
        "kkmaTag = []\n",
        "for token in kkma_tokens:\n",
        "  kkmaTag += kkma.pos(token)\n",
        "print(kkmaTag)"
      ],
      "execution_count": null,
      "outputs": [
        {
          "output_type": "stream",
          "name": "stdout",
          "text": [
            "[('인간', 'NNG'), ('이', 'NNG'), ('컴퓨터', 'NNG'), ('오', 'VA'), ('아', 'ECS'), ('대화', 'NNG'), ('하', 'NNG'), ('고', 'NNG'), ('있', 'VA'), ('달', 'VV'), ('는', 'ETD'), ('것', 'NNB'), ('을', 'NNG'), ('꺠', 'UN'), ('닫', 'VV'), ('지', 'NNG'), ('못하', 'VX'), ('고', 'NNG'), ('인간', 'NNG'), ('과', 'NNG'), ('대화', 'NNG'), ('를', 'UN'), ('계속', 'MAG'), ('하', 'NNG'), ('ㄹ', 'NNG'), ('수', 'NNG'), ('있', 'VA'), ('다면', 'NNG'), ('컴퓨터', 'NNG'), ('늘', 'VA'), ('ㄴ', 'ETD'), ('지능', 'NNG'), ('적', 'NNG'), ('이', 'NNG'), ('ㄴ', 'NNG'), ('것', 'NNB'), ('으', 'UN'), ('로', 'JKM'), ('간주', 'NNG'), ('되', 'VA'), ('ㄹ', 'NNG'), ('수', 'NNG'), ('있', 'VA'), ('다', 'NNG'), ('.', 'SF')]\n"
          ]
        }
      ]
    },
    {
      "cell_type": "markdown",
      "metadata": {
        "id": "wXRAxzi2z291"
      },
      "source": [
        "## 2.4 불용어 처리(StopWord) 처리"
      ]
    },
    {
      "cell_type": "markdown",
      "metadata": {
        "id": "wj8IcYhbz8ht"
      },
      "source": [
        "분석에 불필요한 품사를 제거하고, 불필요한 단어(불용어)를 제거한다."
      ]
    },
    {
      "cell_type": "code",
      "metadata": {
        "id": "N1k1_HYk0A2F"
      },
      "source": [
        "# 불용어 처리\n",
        "stopPos = ['Suffix','Punctuation','Josa','Foreign','Alpha','Number']"
      ],
      "execution_count": null,
      "outputs": []
    },
    {
      "cell_type": "code",
      "metadata": {
        "id": "jQiZkyyH0IEE",
        "colab": {
          "base_uri": "https://localhost:8080/"
        },
        "outputId": "54843628-d1a3-4d78-efcb-6e20dd565df3"
      },
      "source": [
        "#최빈어 조회: 최빈어를 조회하여 불용어 제거 대상을 선정\n",
        "from collections import Counter\n",
        "Counter(oktTag).most_common()"
      ],
      "execution_count": null,
      "outputs": [
        {
          "output_type": "execute_result",
          "data": {
            "text/plain": [
              "[(('인간', 'Noun'), 2),\n",
              " (('컴퓨터', 'Noun'), 2),\n",
              " (('대화', 'Noun'), 2),\n",
              " (('하고', 'Verb'), 2),\n",
              " (('것', 'Noun'), 2),\n",
              " (('수', 'Noun'), 2),\n",
              " (('이', 'Noun'), 1),\n",
              " (('와', 'Verb'), 1),\n",
              " (('있다는', 'Adjective'), 1),\n",
              " (('을', 'Josa'), 1),\n",
              " (('꺠닫', 'Noun'), 1),\n",
              " (('지', 'Verb'), 1),\n",
              " (('못', 'Noun'), 1),\n",
              " (('과', 'Noun'), 1),\n",
              " (('를', 'Noun'), 1),\n",
              " (('계속', 'Noun'), 1),\n",
              " (('할', 'Verb'), 1),\n",
              " (('있다면', 'Adjective'), 1),\n",
              " (('는', 'Verb'), 1),\n",
              " (('지능', 'Noun'), 1),\n",
              " (('적', 'Noun'), 1),\n",
              " (('인', 'Noun'), 1),\n",
              " (('으로', 'Josa'), 1),\n",
              " (('간주', 'Noun'), 1),\n",
              " (('될', 'Verb'), 1),\n",
              " (('있다', 'Adjective'), 1),\n",
              " (('.', 'Punctuation'), 1)]"
            ]
          },
          "metadata": {},
          "execution_count": 32
        }
      ]
    },
    {
      "cell_type": "code",
      "metadata": {
        "id": "xU7AEdyY0QfW"
      },
      "source": [
        "stopWord = ['의','이','로','두고','들','를','은','과','수','했다','것','있는','한다','하는','그','있다']"
      ],
      "execution_count": null,
      "outputs": []
    },
    {
      "cell_type": "code",
      "metadata": {
        "id": "QeSfa8A-0VEe",
        "colab": {
          "base_uri": "https://localhost:8080/"
        },
        "outputId": "2e72997b-bfc0-4e53-ce6b-6edd39b81857"
      },
      "source": [
        "word =[]\n",
        "for tag in oktTag:\n",
        "  if tag[1] not in stopPos:\n",
        "    if tag[0] not in stopWord:\n",
        "      word.append(tag[0])\n",
        "\n",
        "print(word)"
      ],
      "execution_count": null,
      "outputs": [
        {
          "output_type": "stream",
          "name": "stdout",
          "text": [
            "['인간', '컴퓨터', '와', '대화', '하고', '있다는', '꺠닫', '지', '못', '하고', '인간', '대화', '계속', '할', '있다면', '컴퓨터', '는', '지능', '적', '인', '간주', '될']\n"
          ]
        }
      ]
    },
    {
      "cell_type": "code",
      "source": [],
      "metadata": {
        "id": "-8Pa14-8i4pF"
      },
      "execution_count": null,
      "outputs": []
    },
    {
      "cell_type": "markdown",
      "source": [
        "## ++ 시각화 연습"
      ],
      "metadata": {
        "id": "R0qCdwxr2_IV"
      }
    },
    {
      "cell_type": "code",
      "source": [
        "!gdown --id 11R0P0uBNBHPuvQ8A8ioAAFFiHldOtyOP"
      ],
      "metadata": {
        "colab": {
          "base_uri": "https://localhost:8080/"
        },
        "id": "asNMogayTMxO",
        "outputId": "d71fb1c7-93b1-4406-908a-4872aa2df947"
      },
      "execution_count": 14,
      "outputs": [
        {
          "output_type": "stream",
          "name": "stdout",
          "text": [
            "/usr/local/lib/python3.10/dist-packages/gdown/cli.py:121: FutureWarning: Option `--id` was deprecated in version 4.3.1 and will be removed in 5.0. You don't need to pass it anymore to use a file ID.\n",
            "  warnings.warn(\n",
            "Downloading...\n",
            "From: https://drive.google.com/uc?id=11R0P0uBNBHPuvQ8A8ioAAFFiHldOtyOP\n",
            "To: /content/네이버웹툰_댓글스크랩핑결과.csv\n",
            "100% 60.6k/60.6k [00:00<00:00, 64.6MB/s]\n"
          ]
        }
      ]
    },
    {
      "cell_type": "code",
      "source": [
        "import pandas as pd\n",
        "df_toon = pd.read_csv(\"/content/네이버웹툰_댓글스크랩핑결과.csv\")\n",
        "df_toon"
      ],
      "metadata": {
        "colab": {
          "base_uri": "https://localhost:8080/",
          "height": 423
        },
        "id": "1gfBVohcTMpj",
        "outputId": "539a4f91-b6a5-46ee-fbe1-9ae47245d3ad"
      },
      "execution_count": 15,
      "outputs": [
        {
          "output_type": "execute_result",
          "data": {
            "text/plain": [
              "                                              contents  anonymous  best  \\\n",
              "0                 역류성 식도염 치료비용 25만원 치료기간 3개월 깨어나세요 작가님      False  True   \n",
              "1    나 이거 많이본듯 세상에 이런일이였나 동물농장이었나\\n새끼소가 태어날때부터 약해서 ...      False  True   \n",
              "2                                           폰이... 팩폭을?      False  True   \n",
              "3       현재 새벽4시42분. 저는지금 출근중인 시내버스 기사입니다. 자까님 안녕히주무세요.      False  True   \n",
              "4    이것은 '정각실행 강박 증후군'(juengkake joha haha)으로\\n이 질병...      False  True   \n",
              "..                                                 ...        ...   ...   \n",
              "339                             독립일기만한 웹툰이 엄써요...데헷^^♥      False  True   \n",
              "340                                   ㅋㅋㅋㅋ ㅋㅋㅋㅋ 나랑 똑같애      False  True   \n",
              "341                                    진짜 등베개 광고 받으셔야해      False  True   \n",
              "342  지금이 그나마 겨울이라 괜찮긴 한데 자취생이 한여름에 설거지를 안하고 외출을 할 경...      False  True   \n",
              "343                 새벽4시인가요? 난 그때 일어나는뎁 하는일이 시내버스라....      False  True   \n",
              "\n",
              "    country lang                   modTime  replyCount  sympathyCount  \\\n",
              "0        KR   ko  2022-02-19T23:03:56+0900          43          11710   \n",
              "1        KR   ko  2022-02-19T23:10:10+0900          38          11321   \n",
              "2        KR   ko  2022-02-19T23:14:46+0900          41           9768   \n",
              "3        KR   ko  2022-02-21T04:42:53+0900          60           8093   \n",
              "4        KR   ko  2022-02-19T23:12:51+0900          32           6025   \n",
              "..      ...  ...                       ...         ...            ...   \n",
              "339      KR   ko  2022-02-20T00:19:51+0900           2              5   \n",
              "340      KR   ko  2022-02-19T23:34:48+0900           0              5   \n",
              "341      KR   ko  2022-02-19T23:19:27+0900           0              5   \n",
              "342      KR   ko  2022-02-19T23:05:36+0900           0              5   \n",
              "343      KR   ko  2022-02-19T22:59:50+0900           1              5   \n",
              "\n",
              "     antipathyCount  \n",
              "0                23  \n",
              "1                17  \n",
              "2                25  \n",
              "3                12  \n",
              "4                39  \n",
              "..              ...  \n",
              "339               1  \n",
              "340               0  \n",
              "341               0  \n",
              "342               0  \n",
              "343               0  \n",
              "\n",
              "[344 rows x 9 columns]"
            ],
            "text/html": [
              "\n",
              "  <div id=\"df-f79e8ae5-9cdf-42df-9675-844dc246ee1b\">\n",
              "    <div class=\"colab-df-container\">\n",
              "      <div>\n",
              "<style scoped>\n",
              "    .dataframe tbody tr th:only-of-type {\n",
              "        vertical-align: middle;\n",
              "    }\n",
              "\n",
              "    .dataframe tbody tr th {\n",
              "        vertical-align: top;\n",
              "    }\n",
              "\n",
              "    .dataframe thead th {\n",
              "        text-align: right;\n",
              "    }\n",
              "</style>\n",
              "<table border=\"1\" class=\"dataframe\">\n",
              "  <thead>\n",
              "    <tr style=\"text-align: right;\">\n",
              "      <th></th>\n",
              "      <th>contents</th>\n",
              "      <th>anonymous</th>\n",
              "      <th>best</th>\n",
              "      <th>country</th>\n",
              "      <th>lang</th>\n",
              "      <th>modTime</th>\n",
              "      <th>replyCount</th>\n",
              "      <th>sympathyCount</th>\n",
              "      <th>antipathyCount</th>\n",
              "    </tr>\n",
              "  </thead>\n",
              "  <tbody>\n",
              "    <tr>\n",
              "      <th>0</th>\n",
              "      <td>역류성 식도염 치료비용 25만원 치료기간 3개월 깨어나세요 작가님</td>\n",
              "      <td>False</td>\n",
              "      <td>True</td>\n",
              "      <td>KR</td>\n",
              "      <td>ko</td>\n",
              "      <td>2022-02-19T23:03:56+0900</td>\n",
              "      <td>43</td>\n",
              "      <td>11710</td>\n",
              "      <td>23</td>\n",
              "    </tr>\n",
              "    <tr>\n",
              "      <th>1</th>\n",
              "      <td>나 이거 많이본듯 세상에 이런일이였나 동물농장이었나\\n새끼소가 태어날때부터 약해서 ...</td>\n",
              "      <td>False</td>\n",
              "      <td>True</td>\n",
              "      <td>KR</td>\n",
              "      <td>ko</td>\n",
              "      <td>2022-02-19T23:10:10+0900</td>\n",
              "      <td>38</td>\n",
              "      <td>11321</td>\n",
              "      <td>17</td>\n",
              "    </tr>\n",
              "    <tr>\n",
              "      <th>2</th>\n",
              "      <td>폰이... 팩폭을?</td>\n",
              "      <td>False</td>\n",
              "      <td>True</td>\n",
              "      <td>KR</td>\n",
              "      <td>ko</td>\n",
              "      <td>2022-02-19T23:14:46+0900</td>\n",
              "      <td>41</td>\n",
              "      <td>9768</td>\n",
              "      <td>25</td>\n",
              "    </tr>\n",
              "    <tr>\n",
              "      <th>3</th>\n",
              "      <td>현재 새벽4시42분. 저는지금 출근중인 시내버스 기사입니다. 자까님 안녕히주무세요.</td>\n",
              "      <td>False</td>\n",
              "      <td>True</td>\n",
              "      <td>KR</td>\n",
              "      <td>ko</td>\n",
              "      <td>2022-02-21T04:42:53+0900</td>\n",
              "      <td>60</td>\n",
              "      <td>8093</td>\n",
              "      <td>12</td>\n",
              "    </tr>\n",
              "    <tr>\n",
              "      <th>4</th>\n",
              "      <td>이것은 '정각실행 강박 증후군'(juengkake joha haha)으로\\n이 질병...</td>\n",
              "      <td>False</td>\n",
              "      <td>True</td>\n",
              "      <td>KR</td>\n",
              "      <td>ko</td>\n",
              "      <td>2022-02-19T23:12:51+0900</td>\n",
              "      <td>32</td>\n",
              "      <td>6025</td>\n",
              "      <td>39</td>\n",
              "    </tr>\n",
              "    <tr>\n",
              "      <th>...</th>\n",
              "      <td>...</td>\n",
              "      <td>...</td>\n",
              "      <td>...</td>\n",
              "      <td>...</td>\n",
              "      <td>...</td>\n",
              "      <td>...</td>\n",
              "      <td>...</td>\n",
              "      <td>...</td>\n",
              "      <td>...</td>\n",
              "    </tr>\n",
              "    <tr>\n",
              "      <th>339</th>\n",
              "      <td>독립일기만한 웹툰이 엄써요...데헷^^♥</td>\n",
              "      <td>False</td>\n",
              "      <td>True</td>\n",
              "      <td>KR</td>\n",
              "      <td>ko</td>\n",
              "      <td>2022-02-20T00:19:51+0900</td>\n",
              "      <td>2</td>\n",
              "      <td>5</td>\n",
              "      <td>1</td>\n",
              "    </tr>\n",
              "    <tr>\n",
              "      <th>340</th>\n",
              "      <td>ㅋㅋㅋㅋ ㅋㅋㅋㅋ 나랑 똑같애</td>\n",
              "      <td>False</td>\n",
              "      <td>True</td>\n",
              "      <td>KR</td>\n",
              "      <td>ko</td>\n",
              "      <td>2022-02-19T23:34:48+0900</td>\n",
              "      <td>0</td>\n",
              "      <td>5</td>\n",
              "      <td>0</td>\n",
              "    </tr>\n",
              "    <tr>\n",
              "      <th>341</th>\n",
              "      <td>진짜 등베개 광고 받으셔야해</td>\n",
              "      <td>False</td>\n",
              "      <td>True</td>\n",
              "      <td>KR</td>\n",
              "      <td>ko</td>\n",
              "      <td>2022-02-19T23:19:27+0900</td>\n",
              "      <td>0</td>\n",
              "      <td>5</td>\n",
              "      <td>0</td>\n",
              "    </tr>\n",
              "    <tr>\n",
              "      <th>342</th>\n",
              "      <td>지금이 그나마 겨울이라 괜찮긴 한데 자취생이 한여름에 설거지를 안하고 외출을 할 경...</td>\n",
              "      <td>False</td>\n",
              "      <td>True</td>\n",
              "      <td>KR</td>\n",
              "      <td>ko</td>\n",
              "      <td>2022-02-19T23:05:36+0900</td>\n",
              "      <td>0</td>\n",
              "      <td>5</td>\n",
              "      <td>0</td>\n",
              "    </tr>\n",
              "    <tr>\n",
              "      <th>343</th>\n",
              "      <td>새벽4시인가요? 난 그때 일어나는뎁 하는일이 시내버스라....</td>\n",
              "      <td>False</td>\n",
              "      <td>True</td>\n",
              "      <td>KR</td>\n",
              "      <td>ko</td>\n",
              "      <td>2022-02-19T22:59:50+0900</td>\n",
              "      <td>1</td>\n",
              "      <td>5</td>\n",
              "      <td>0</td>\n",
              "    </tr>\n",
              "  </tbody>\n",
              "</table>\n",
              "<p>344 rows × 9 columns</p>\n",
              "</div>\n",
              "      <button class=\"colab-df-convert\" onclick=\"convertToInteractive('df-f79e8ae5-9cdf-42df-9675-844dc246ee1b')\"\n",
              "              title=\"Convert this dataframe to an interactive table.\"\n",
              "              style=\"display:none;\">\n",
              "        \n",
              "  <svg xmlns=\"http://www.w3.org/2000/svg\" height=\"24px\"viewBox=\"0 0 24 24\"\n",
              "       width=\"24px\">\n",
              "    <path d=\"M0 0h24v24H0V0z\" fill=\"none\"/>\n",
              "    <path d=\"M18.56 5.44l.94 2.06.94-2.06 2.06-.94-2.06-.94-.94-2.06-.94 2.06-2.06.94zm-11 1L8.5 8.5l.94-2.06 2.06-.94-2.06-.94L8.5 2.5l-.94 2.06-2.06.94zm10 10l.94 2.06.94-2.06 2.06-.94-2.06-.94-.94-2.06-.94 2.06-2.06.94z\"/><path d=\"M17.41 7.96l-1.37-1.37c-.4-.4-.92-.59-1.43-.59-.52 0-1.04.2-1.43.59L10.3 9.45l-7.72 7.72c-.78.78-.78 2.05 0 2.83L4 21.41c.39.39.9.59 1.41.59.51 0 1.02-.2 1.41-.59l7.78-7.78 2.81-2.81c.8-.78.8-2.07 0-2.86zM5.41 20L4 18.59l7.72-7.72 1.47 1.35L5.41 20z\"/>\n",
              "  </svg>\n",
              "      </button>\n",
              "      \n",
              "  <style>\n",
              "    .colab-df-container {\n",
              "      display:flex;\n",
              "      flex-wrap:wrap;\n",
              "      gap: 12px;\n",
              "    }\n",
              "\n",
              "    .colab-df-convert {\n",
              "      background-color: #E8F0FE;\n",
              "      border: none;\n",
              "      border-radius: 50%;\n",
              "      cursor: pointer;\n",
              "      display: none;\n",
              "      fill: #1967D2;\n",
              "      height: 32px;\n",
              "      padding: 0 0 0 0;\n",
              "      width: 32px;\n",
              "    }\n",
              "\n",
              "    .colab-df-convert:hover {\n",
              "      background-color: #E2EBFA;\n",
              "      box-shadow: 0px 1px 2px rgba(60, 64, 67, 0.3), 0px 1px 3px 1px rgba(60, 64, 67, 0.15);\n",
              "      fill: #174EA6;\n",
              "    }\n",
              "\n",
              "    [theme=dark] .colab-df-convert {\n",
              "      background-color: #3B4455;\n",
              "      fill: #D2E3FC;\n",
              "    }\n",
              "\n",
              "    [theme=dark] .colab-df-convert:hover {\n",
              "      background-color: #434B5C;\n",
              "      box-shadow: 0px 1px 3px 1px rgba(0, 0, 0, 0.15);\n",
              "      filter: drop-shadow(0px 1px 2px rgba(0, 0, 0, 0.3));\n",
              "      fill: #FFFFFF;\n",
              "    }\n",
              "  </style>\n",
              "\n",
              "      <script>\n",
              "        const buttonEl =\n",
              "          document.querySelector('#df-f79e8ae5-9cdf-42df-9675-844dc246ee1b button.colab-df-convert');\n",
              "        buttonEl.style.display =\n",
              "          google.colab.kernel.accessAllowed ? 'block' : 'none';\n",
              "\n",
              "        async function convertToInteractive(key) {\n",
              "          const element = document.querySelector('#df-f79e8ae5-9cdf-42df-9675-844dc246ee1b');\n",
              "          const dataTable =\n",
              "            await google.colab.kernel.invokeFunction('convertToInteractive',\n",
              "                                                     [key], {});\n",
              "          if (!dataTable) return;\n",
              "\n",
              "          const docLinkHtml = 'Like what you see? Visit the ' +\n",
              "            '<a target=\"_blank\" href=https://colab.research.google.com/notebooks/data_table.ipynb>data table notebook</a>'\n",
              "            + ' to learn more about interactive tables.';\n",
              "          element.innerHTML = '';\n",
              "          dataTable['output_type'] = 'display_data';\n",
              "          await google.colab.output.renderOutput(dataTable, element);\n",
              "          const docLink = document.createElement('div');\n",
              "          docLink.innerHTML = docLinkHtml;\n",
              "          element.appendChild(docLink);\n",
              "        }\n",
              "      </script>\n",
              "    </div>\n",
              "  </div>\n",
              "  "
            ]
          },
          "metadata": {},
          "execution_count": 15
        }
      ]
    },
    {
      "cell_type": "code",
      "source": [
        "!pip install konlpy"
      ],
      "metadata": {
        "colab": {
          "base_uri": "https://localhost:8080/"
        },
        "id": "byvHqB2Y0lI8",
        "outputId": "f0a17936-055c-4210-c990-62850a316610"
      },
      "execution_count": 16,
      "outputs": [
        {
          "output_type": "stream",
          "name": "stdout",
          "text": [
            "Looking in indexes: https://pypi.org/simple, https://us-python.pkg.dev/colab-wheels/public/simple/\n",
            "Requirement already satisfied: konlpy in /usr/local/lib/python3.10/dist-packages (0.6.0)\n",
            "Requirement already satisfied: JPype1>=0.7.0 in /usr/local/lib/python3.10/dist-packages (from konlpy) (1.4.1)\n",
            "Requirement already satisfied: lxml>=4.1.0 in /usr/local/lib/python3.10/dist-packages (from konlpy) (4.9.2)\n",
            "Requirement already satisfied: numpy>=1.6 in /usr/local/lib/python3.10/dist-packages (from konlpy) (1.22.4)\n",
            "Requirement already satisfied: packaging in /usr/local/lib/python3.10/dist-packages (from JPype1>=0.7.0->konlpy) (23.1)\n"
          ]
        }
      ]
    },
    {
      "cell_type": "code",
      "source": [
        "from konlpy.tag import Hannanum, Okt, Kkma"
      ],
      "metadata": {
        "id": "kVofIfuP0oLn"
      },
      "execution_count": 23,
      "outputs": []
    },
    {
      "cell_type": "code",
      "source": [
        "## 1. 가장 많이 나온 명사 TOP 10 리스트 및 횟수\n",
        "okt = Okt()\n",
        "\n",
        "toon_text = ''\n",
        "for i in df_toon['contents']:\n",
        "    toon_text += i\n",
        "text = okt.nouns(toon_text)\n"
      ],
      "metadata": {
        "id": "7DD9MkaxJngk"
      },
      "execution_count": null,
      "outputs": []
    },
    {
      "cell_type": "code",
      "source": [
        "txt = {}\n",
        "for i in text:\n",
        "    if i not in txt:\n",
        "        txt[i] = 1\n",
        "    else:\n",
        "        txt[i] += 1\n",
        "txt"
      ],
      "metadata": {
        "id": "fi_ZoCv55_HR"
      },
      "execution_count": null,
      "outputs": []
    },
    {
      "cell_type": "code",
      "source": [
        "# 방법 1, 각각의 row → Okt.nouns 적용\n",
        "okt = Okt()\n",
        "df_toon['nouns'] = df_toon['contents'].apply(lambda x : okt.nouns(x))"
      ],
      "metadata": {
        "id": "GqhiUjIc1RP8"
      },
      "execution_count": 40,
      "outputs": []
    },
    {
      "cell_type": "code",
      "source": [
        "# 카운팅을 위한 딕셔너리\n",
        "dic_cnt = {}\n",
        "\n",
        "for row in df_toon['nouns']:\n",
        "    for noun in row:\n",
        "        if noun not in dic_cnt :\n",
        "            dic_cnt[noun] =1\n",
        "        else: \n",
        "            dic_cnt[noun] +=1\n",
        "dic_cnt"
      ],
      "metadata": {
        "id": "wK_MxQ9i18d_"
      },
      "execution_count": null,
      "outputs": []
    },
    {
      "cell_type": "code",
      "source": [
        "## 방법2 \n",
        "txt1 = '안녕하세요'\n",
        "txt2 = '이소연입니다'\n",
        "\n",
        "txt_list = [txt1, txt2]\n",
        "txt_list"
      ],
      "metadata": {
        "colab": {
          "base_uri": "https://localhost:8080/"
        },
        "id": "QUhe4ZPr5Hu3",
        "outputId": "4ad476be-cfc0-45db-d2dd-cde07829b741"
      },
      "execution_count": null,
      "outputs": [
        {
          "output_type": "execute_result",
          "data": {
            "text/plain": [
              "['안녕하세요', '이소연입니다']"
            ]
          },
          "metadata": {},
          "execution_count": 17
        }
      ]
    },
    {
      "cell_type": "code",
      "source": [
        "' '.join(txt_list)"
      ],
      "metadata": {
        "colab": {
          "base_uri": "https://localhost:8080/",
          "height": 38
        },
        "id": "f2L1TGZS5HrU",
        "outputId": "73066fb8-f595-49d4-d7f6-3f0c26765e13"
      },
      "execution_count": null,
      "outputs": [
        {
          "output_type": "execute_result",
          "data": {
            "text/plain": [
              "'안녕하세요 이소연입니다'"
            ],
            "application/vnd.google.colaboratory.intrinsic+json": {
              "type": "string"
            }
          },
          "metadata": {},
          "execution_count": 18
        }
      ]
    },
    {
      "cell_type": "code",
      "source": [
        "reviews = ' '.join(df_toon['contents']) # 띄어쓰기 기준으로 하나로 합쳐짐\n",
        "reviews "
      ],
      "metadata": {
        "id": "mMwM6s-m6fyp"
      },
      "execution_count": null,
      "outputs": []
    },
    {
      "cell_type": "code",
      "source": [
        "noun_list = okt.nouns(reviews)\n",
        "print(noun_list)"
      ],
      "metadata": {
        "colab": {
          "base_uri": "https://localhost:8080/"
        },
        "id": "sd1B7MKs62Jx",
        "outputId": "62b59632-f298-4c25-96fc-c4fd42a44ec5"
      },
      "execution_count": 48,
      "outputs": [
        {
          "output_type": "stream",
          "name": "stdout",
          "text": [
            "['역류성', '식도염', '치료', '비용', '치료', '기간', '개월', '작가', '나', '거', '듯', '세상', '일이', '동물농장', '새끼', '소가', '때', '할아버지', '어미', '소', '어미', '소가', '새끼', '계속', '소', '계속', '성인', '소가', '할아버지', '소', '이야기', '폰', '팩폭', '현재', '새벽', '저', '지금', '출근', '시내버스', '기사', '자까님', '것', '정각', '실행', '강박', '증후군', '이', '질병', '정각', '때', '웹툰', '유', '브등', '활동', '시간', '이', '질병', '치료', '방법', '어머니', '잔소리', '뿐', '시험', '기간', '및', '사이', '발현', '다행', '점', '신체', '가해', '위협', '정도', '게', '어디', '저', '자고', '아침', '폰', '때문', '컴터', '때문', '올림픽', '때문', '외계인', '때문', '아침', '마법', '한번', '당', '낼', '모레', '마흔', '저', '별반', '자까님', '무슨', '웹툰', '자까님', '대학', '일기', '연재', '때', '엊그제', '벌써', '시라', '제', '나이', '체감', '뭐', '자까님', '저희', '집', '설치', '데', '단위', '최고', '짤', '만', '일출', '어머니', '때', '새털', '송아지', '나중', '람', '돌진', '풀', '초식동물', '할아버지', '튜브', '설거지', '샤워', '방음', '집', '사시', '보넹', '작가', '우리', '누나', '도용', '동생', '도리', '로서', '이', '말', '꼭', '다음', '날', '응애', '나', '애기', '폰', '얼굴', '디테', '전', '베뎃', '새벽', '퇴근', '출근', '사람', '샤워', '가지', '좀', '사람', '유튜브', '쇼츠', '우리', '내일', '무기', '아닠', '베댓', '저', '화면', '보고', '얔', '이', '놈', '정각', '병', '집', '내', '시각', '민폐', '거', '사실', '라운드', '이펙트', '효과', '정각', '뭔가', '행동', '그때', '짓', '다가', '기한', '바람', '제대로', '일', '사람', '행동', '말', '이건', '진짜', '헤어', '수', '굴레', '무슨', '웹툰', '나', '밥', '설거지', '밥', '먹기', '위해', '설거지', '팩트', '머리', '마르고', '폰', '한창', '휴대폰', '일정', '시각', '순간', '잠', '확', '그때', '임', '소음', '설거지', '는걸', '좀', '밤', '도', '사람', '그', '사람', '나름', '스케줄', '밤', '뭐', '소리', '마흔', '작가', '집', '카메라', '볼때', '진짜', '타', '요', '몰랑뽈록', '배', '소야', '할아버지', '말씀', '건강', '생각', '때', '함', '자까님', '일도', '끼니', '거르', '유튜브', '순삭', '평소', '자고', '시간', '니요', '날', '또', '정말', '날', '소재', '거', '여러분', '머리', '바로', '머리', '각질', '뭐', '답', '여러분', '머리카락', '사이사이', '손톱', '가루', '그게', '바로', '머리', '각질', '비듬', '스케일링', '샴푸', '그거', '저', '그거', '대충', '헹구', '정성', '스레', '십년', '뒤', '해지', '금보', '머리', '바짝', '어디', '하나', '곳', '꿀팁', '끝', '내일', '뭐', '요', '인간', '실수', '반복', '저', '쿠션', '때', '저기', '귀가', '로맨스', '웹툰', '추천', '순대', '월', '팔이', '피플', '황제', '하룻밤', '모스크바', '여명', '계약', '부부', '화', '하루', '네', '중증', '외상', '센터', '용왕', '셰프', '수', '여주', '실격', '남', '주의', '첫날', '밤', '엔딩', '후', '서브', '남', '오징어', '사랑', '인생', '목', '독립', '일기', '신비', '네', '때', '시월드', '판타지', '그', '황제', '곗', '바늘', '사연', '금', '재혼', '황후', '개', '내과', '박', '원장', '토', '반드시', '해피엔딩', '존잘', '주의', '아가', '사', '일', '독립', '일기', '이번', '생도', '일단', '여기', '정리', '제', '관작', '막', '서유기', '예능', '집', '브이', '로그', '걸', '것', '쇼츠', '타', '짐', '이', '또', '과학', '이유', '계획', '애', '정각', '진짜', '컷', '베댓', '보고', '벌떡', '작가', '역시', '소통', '셔', '제일', '말', '내일', '걸', '새벽', '보고', '나', '계획', '실행', '때', '계획', '아예', '타입', '계속', '분', '단위', '큐', '저', '서른', '여섯', '결혼', '살', '아들', '엄마', '일찍', '좀', '자라', '제', '생활', '패턴', '오늘', '산부인과', '생리', '불순', '배', '나', '레전드', '현주엽', '형님', '진짜', '모습', '나', '설거지', '뽀송', '번', '인용', '식기세척기', '구입', '일도', '대학원', '빨래', '세탁기', '설거지', '식기세척기', '꼭', '구입', '비둘기', '자네', '집중', '세번', '배댓', '로맨스', '수정', '손가락', '등록', '시간', '배댓', '부디', '요', '와중', '포인트', '배', '매트리스', '커엽', '러시아', '우크라이나', '전쟁', '상황', '설명', '영상', '러시아', '역사', '우크라이나', '역사', '처음', '끝', '육아휴직', '남자', '임', '낼', '애기', '어케보', '애기', '보상', '핸드폰', '새벽', '진짜', '나', '어어어어', '무', '소름', '때', '타', '사람', '정말', '군', '우리', '걸', '정각', '요정', '정말', '스마트폰', '땜', '머리', '바보', '느낌', '머리', '최대', '그', '안', '각질', '각질', '머리', '도', '냄새', '왜', '헤어', '전공', '미용', '유튜브', '웹툰', '대장', '시간', '낭비', '쩜', '시간', '휙휙', '자', '새벽', '출근', '사람', '샤워', '못', '하나', '본인', '집', '본인', '샤워', '거지', '욕', '시공사', '욕', '유부녀', '친정', '간만', '새벽', '엄마', '좀', '엄마', '내', '사십', '말', '어머님', '왈', '사십', '라셔', '네', '진심', '보임', '잠', '뒤척', '타', '그냥', '놀걸', '알', '대학', '일기', '거임', '생각', '시절', '저', '앞', '누가', '방', '설치', '이', '모든', '건물', '공사', '때', '부실', '공사', '건설', '탓', '왜', '설거지', '샤워', '는걸', '우리', '끼리', '샤워', '안', '낼', '징', '유튜브', '봄', '인간', '것', '바로', '의', '삶', '새벽', '티비', '무슨', '불', '방음', '집', '탓', '옆집', '설거지', '소리', '샤워', '소리', '집', '문제', '꼭', '사람', '시간', '생각', '새벽', '출근', '사람', '대학', '일기', '때', '자까님', '본인', '꽤', '함', '또', '웹툰', '대학교', '거', '마냥', '생활', '습관', '댓글', '진짜', '소음', '살', '분', '이면', '분', '층간소음', '문제', '그', '저', '야행성', '밤', '음악', '소리', '티비', '소리', '기본', '제', '당', '소음', '사람', '얼마나', '님들', '새벽', '샤워', '모든', '사람', '생활', '패턴', '시간', '물', '소리', '이해', '집', '내', '상관', '임', '아파트', '기본', '생활', '공간', '한쪽', '이해', '한쪽', '기본', '배려', '샴푸', '통', '린스', '통', '칫솔', '샤워', '기', '물기', '턴다', '텅텅', '유튜브', '크게', '쪽', '일단', '시간', '새벽', '샤워', '왜', '문제', '누구', '밤', '일', '시간', '기적', '주장', '사람', '사람', '논리', '면', '누군가', '일', '이제', '좀', '푹', '누군가', '일찍', '임', '사람', '권리', '사람', '생활', '패턴', '생각', '안함', '새벽', '샤워', '니', '아파트', '사람', '지성인', '라면', '다시', '한번', '생각', '샤워', '핸드폰', '핸드폰', '잠시', '끌', '순', '저기', '아파트', '방송', '시간', '샤워', '자제', '화장실', '타고', '물', '소리', '소음', '얼마나', '새벽', '시간', '더', '사람', '피', '살', '민폐', '사람', '고통', '원룸', '투룸', '새벽', '화장실', '유튜브', '좀', '시간', '인', '가장', '존중', '교대근무', '사람', '어찌', '것', '눈치', '수', '시간', '저', '때', '시간', '불구', '새벽', '거', '민폐', '방음', '안', '집', '전제', '이', '새벽', '샤워', '건', '이해', '가요', '야근', '수', '유튜브', '소리', '은근', '자까님', '그냥', '유튜브', '자막', '틀', '영상', '휴대폰', '유튜브', '소리', '화장실', '진짜', '크게', '그냥', '옆', '리마', '크게', '이', '진짜', '제', '원룸', '일어나서', '집주인', '문자', '새벽', '화장실', '티비', '크게', '단체', '문자', '일단락', '네', '저', '속풀이', '좀', '여기', '유튭', '크게', '틀', '샤워', '내', '집', '뭐', '놈', '자취', '안', '잼민', '너희', '경험', '물', '소리', '갠', '유튭', '새벽', '옆집', '린다', '생각', '식', '세기', '문제', '안', '함', '내', '유전자', '훈련', '습관', '시기', '설거지', '안', '함', '작가', '이웃', '아무', '안', '것', '왜', '제', '자', '이', '이웃', '말씀', '약간', '댓글', '간', '서로', '오해', '여지', '댓글', '샤워', '자체', '야간', '근무', '분', '새벽', '아침', '수', '이해', '화장실', '옆집', '구조', '경우', '생각', '방음', '안', '하수도', '로', '소리', '경우', '샤워', '문제', '밤', '노래', '영상', '미디어', '볼륨', '크게', '자제', '거', '실제', '옛날', '집', '방음', '안', '옆집', '노래', '노래', '그대로', '소리', '전달', '애초', '밤', '보', '심리', '더', '크게', '것', '걸', '욕', '거나', '왜', '비난', '생각', '서로', '배려', '차원', '저', '다른', '댓글', '거', '오후', '저녁', '수', '그때', '사실', '제일', '거구', '물', '소리', '소음', '때매', '걱정', '구식', '다세대', '이상', '소음', '신식', '부실', '공사', '슬레이트', '벽', '제외', '글구', '뭣', '건물', '대부분', '저런', '싸이클', '생활', '서로', '민폐', '어우', '제', '댓글', '분쟁', '거리', '줄', '자고', '일어나서', '알림', '때문', '저', '샤워', '수', '일단', '설거지', '장면', '띠용', '이', '컷', '영상', '샤워', '장면', '거', '현재', '자취', '인', '저', '설거지', '샤워', '세탁기', '편이', '그냥', '조금', '뿐', '설거지', '샤워', '수도', '복도', '방', '구조', '방음', '정도', '이웃집', '소음', '허용', '정도', '등', '테', '요', '방음', '밤', '샤워', '얘기', '볼때', '미드', '하우스', '라이프', '외국', '집', '중산층', '좀', '현실', '기도', '우리나라', '평생', '일해', '서울', '집', '채', '사기', '집', '해도', '아파트', '때', '땅', '삼', '집집', '소음', '정도', '왜', '댓글', '날', '만화', '작가', '수도', '그냥', '만화', '작가', '저', '소리', '문제', '주위', '이웃', '말씀', '작가', '어디', '자가', '문제', '아파트', '공동', '생활', '규칙', '샤워', '설거지', '등', '자제', '새벽', '일', '분', '평생', '화장실', '문', '소음', '저', '시간', '위아래', '집', '눈치', '보', '다음', '날', '아침', '일어나서', '생각', '분', '방음', '휴대폰', '방수', '관심', '나', '뿐', '나', '원룸', '진짜', '귀', '이상', '설거지', '화장실', '서리', '오히려', '친구', '소리', '소리', '거리', '노래', '안', '나머지', '지지', '핸드폰', '크게', '사람', '말', '소리', '이유', '이후', '대다수', '사람', '위해', '매너', '장', '저', '유튜브', '노랫소리', '물', '소리', '집', '새벽', '저스틴비버', '노래', '메들리', '집', '때문', '저', '수면제', '칼부림', '무조건', '새벽', '지도', '설거지', '새벽', '출퇴근', '수', '경우', '제외', '곤', '자제', '저런', '생활', '소음', '주택', '뭐', '악기', '연습', '친구', '끼리', '소리', '노', '것', '설거지', '샤워', '남', '눈치', '이해', '도', '몇', '번', '정도', '시간', '수', '소리', '물', '소리', '드라이기', '소리', '등등', '새벽', '소리', '크게', '층간소음', '경험', '적', '그냥', '층', '소음', '이', '컷', '다시', '것', '새벽', '영상', '샤워', '경우', '생활', '곳', '새벽', '오전', '이후', '영상', '크게', '노래', '사람', '민폐', '생각', '방음', '타령', '사람', '유형', '대학시절', '집', '때문', '새벽', '소음', '적', '새벽', '세탁기', '게', '임', '지금', '세탁기', '후', '여지', '껏', '상습', '새벽', '세탁기', '진짜', '층간소음', '싸움', '나나', '무열', '여기', '새벽', '인간', '지네', '인간', '본인', '고통', '알', '꼭', '아파트', '소리', '층간소음', '건', '피치', '사정', '수', '주의', '샤워', '설거지', '시간', '그때', '어쩌겠어', '그', '시간', '다만', '주택', '층간소음', '대해', '건축법', '층간소음', '말', '우선', '건설', '사', '시공사', '놈', '잘못', '살', '사람', '끼리', '서로', '이건', '저건', '배려', '자제', '나라', '샤워', '게', '민폐', '밤', '다가', '새벽', '감', '때', '새벽', '똥', '집', '목욕', '소리', '안', '물', '소리', '티비', '상태', '저', '소리', '쿠당탕', '드라이기', '소리', '생각', '크게', '아주', '나', '샤워', '때', '핸드폰', '게', '더', '방음', '집', '우리', '집', '남자', '애', '둘', '새벽', '쿵쾅', '대면', '애기', '내', '참고', '우리', '집', '내', '새벽', '소변', '것', '함', '이웃', '것', '층', '살', '진짜', '저', '자까님', '방', '방음', '독립', '일기', '소음', '편', '참고', '새벽', '샤워', '설거지', '개', '의치', '옆집', '복수', '위', '왜', '고요', '하루', '종족', '번식', '소리', '때문', '불면증', '거', '층간소음', '얼마나', '우리', '새벽', '자꾸', '샤워', '샤워', '때', '무조건', '영상', '사람', '나야', '눈', '화면', '물', '시간', '이상', '샤워', '시간', '샤워', '유임', '단독주택', '단독주택', '샤워', '예', '새벽', '밤', '샤워', '가수', '빙의', '게', '문제', '거지', '생활', '소음', '이해', '생활', '소음', '안', '배려', '서로', '배려', '부분', '새벽', '샤워', '상관', '화장실', '곳', '거', '집집', '가기', '전집', '진짜', '집', '뭘', '하나', '알', '정도', '방음', '세탁기', '소리', '소리', '분', '새벽', '러시', '분', '새벽', '비명', '횡사', '정각', '즈음', '잠깐', '잠깐', '다음', '정각', '노리', '뭐', '방음', '샤워', '소리', '커서', '고통', '마인드', '댐', '스마트폰', '지금', '제', '왜', '내', '인생', '영상', '것', '진짜', '자고', '자지', '잉', '제일', '먼저', '거', '진짜', '별거', '일', '시간', '뒤', '저', '자세', '폰', '팔', '진짜', '공감', '진심', '캡처', '짤', '진짜', '휴대폰', '젠거', '학생', '때', '틈새', '시간', '활용', '단어', '하나', '더', '젠', '그', '틈새', '시간', '튜브', '봄', '이', '그', '소리', '난', '머리', '때', '유투브', '봄', '원래', '때', '새벽', '국룰', '그', '웹툰', '이름', '독', '립', '일', '기', '세상', '자까님', '벌써', '서른', '내', '초딩', '중딩', '때', '나', '벌써', '성인', '끝내', '건', '학생', '스카', '공부', '집', '훌쩍', '학원', '학생', '아침', '나가야', '아침', '부터', '샤워', '일도', '제발', '샤워', '정도', '새벽', '해도', '이해', '저', '사람', '얼마나', '일인', '최대한', '아침', '샤워', '내일', '아침', '절대', '일찍', '날', '새벽', '샤워', '수', '학교', '땀', '냄새', '풍기면', '수', '제발', '가끔', '양해', '저희', '뇌', '유하나', '해', '기전', '꼭', '잠듬', '해', '느낌', '저', '땐', '수업', '준비', '새벽', '그땐', '살', '몸', '막', '시작', '위', '기능', '머리', '팽팽', '안', '목', '허리', '손목', '무릎', '심장', '부정맥', '수면', '부족', '심장', '정말', '운동', '수면', '건강', '수', '직업', '경우', '밤', '꼭', '자고', '정도', '수면', '게', '때', '건강', '이후', '분', '일단', '저', '걸', '나', '내', '이야기', '자까님', '입', '주변', '야식', '자까님', '식', '세기', '세용', '내일', '퓨', '모먼츠', '레이', '터', '거', '개', '공감', '해', '뭔가', '강박', '여러분', '대학', '일기', '유료', '이번', '저', '정', '주행', '머리', '척', '핸드폰', '폰', '팔', '저', '원룸', '욕실', '끼리', '방음', '하나', '옆방', '샤워', '때', '음악', '영상', '제', '방', '생중계', '가끔', '그냥', '분', '플레이', '리스트', '때', '사실', '사전', '정의', '하루', '다시', '시작', '함', '저', '제', '세상', '귀', '인간', '자책', '게으름', '간발', '차이', '자책', '자존감', '정작', '실행', '악순환', '연', '속', '정신병', '천성', '맘', '나', '교대근무', '때', '새벽', '자주', '출근', '거나', '막', '때', '안', '수', '청소', '빨래', '날', '다지', '옆집', '말소리', '원룸', '설거지', '소리', '번', '적', '샤워', '그냥', '함', '개인', '스케줄', '뭐', '각자', '사정', '세탁기', '발', '소리', '제발', '새벽', '자', '중부', '나', '똑같넼', '작가', '작가', '웹툰', '집집', '건', '새벽', '노래', '소리', '크게', '세탁기', '개인', '스케쥴', '별개', '민폐', '내일', '시간', '담날', '그냥', '침대', '거절', '것', '평소', '알람', '일어나지', '수면시간', '시', '부터', '눈', '못', '하루', '종일', '멍', '졸림', '다행', '젠', '해', '보고', '자', '라서', '드', '한번', '머리', '건', '누가', '바로', '생각', '사람', '비둘기', '걸', '내', '인생', '스마트폰', '보급', '전인', '중학교', '땐', '로', '소설', '다운', '새벽', '대학', '일기', '때', '대학생', '자까님', '생각', '이제', '저', '대학생', '자까님', '업무', '미팅', '른', '네', '시간', '항상', '저', '진짜', '공감', '이제', '진짜', '가야', '설거지', '숙성', '더', '닦기더랔', '이', '바로', '정각', '박증', '판사', '저', '아무', '잘못', '유튜브', '먼저', '요', '때', '꼭', '면서', '난', '쓰레기', '생각', '마음', '그냥', '내일', '일찍', '일어나서', '생각', '자고', '한번', '행', '구기', '함', '겨울', '여름', '이면', '요즘', '회사', '날', '퇴사', '맘', '꾹', '참고', '마음', '다지', '웹툰', '단', '하나', '그냥', '보기', '해도', '마음', '안정', '이', '기분', '타가', '절대', '폰', '계보', '다음', '계획', '이면', '마흔', '잔소리', '노노', '어무니', '코웃음', '모습', '수제비', '하하', '뼈', '살', '뻔', '공부', '오늘', '앗', '폰', '제자', '진짜', '한판만', '더', '진짜', '이제', '나', '지금', '이불', '속', '나', '혼잣말', '눈', '지금', '시지', '지각', '곧', '후회', '곧', '계획', '이쯤', '작가', '내', '삶', '정각', '그때', '핑계', '대고', '짓', '또오', '내', '내일', '한시', '씻긴뭘씻엌', '양치', '짘', '누가', '대책', '표정', '개', '나', '작가', '안지', '수의학', '웹툰', '작가', '내', '무슨', '재주', '올해', '살', '별반', '혼자', '살연', '집안', '일거리', '끝', '정말', '이유', '뿐', '일단', '일어나서', '샤워', '점', '저', '다른', '종족', '걸', '우리', '여기', '시간', '주목', '자원봉사', '센터', '자원', '봉사', '센터', '단어', '은', '삼각형', '즉', '일루미나티', '밤', '일루미나티', '시간', '임', '그냥', '눈보', '극적', '인간', '진짴', '이번', '편', '저', '앗', '나', '저기', '폰', '설거지', '극적', '인간', '바이러스', '여기', '저', '한번', '일출', '보고', '잠', '자까님', '웹툰', '정', '주행', '짹짹', '거리', '소리', '때', '잔', '적도', '절반', '노', '시간', '기분', '탓', '생각', '말', '전자제품', '나', '일상', '생활', '가능', '새벽', '네시', '걸', '인생', '지금', '오름', '거', '소름', '난', '컴터', '전', '책', '반지', '제왕', '해리포터', '나니아', '연대기', '우리', '영웅', '및', '교과서', '수록', '소설', '손도끼', '노빈손', '손도끼', '책', '로빈슨', '크루소', '초', '대판', '청소년기', '현실', '내용', '재미', '참고', '배신', '작품', '꽤', '자까님', '저', '진짜', '자까님', '따라서', '삼각', '쿠션', '배송', '시작', '오늘', '앞', '과정', '흐름', '거', '영상', '고무장갑', '때문', '팔꿈치', '코로', '다음', '영상', '국룰', '해', '뭔가', '짐', '과제', '안', '새벽', '과제', '안', '새벽', '나', '줄', '샤워', '그냥', '본인', '꼬질하', '생각', '때', '죄책감', '설거지', '휴대폰', '말대꾸', '일찍', '자고', '일찍', '새해', '다짐', '삼은', '포기', '포기', '지금', '눈', '셧다', '고요', '설거지', '아주', '일이', '암', '작가', '제방', '카메라', '설치', '곧', '계획', '밤', '팔팔해', '짐', '살', '샤워', '새벽', '이유', '잔소리', '때문', '물', '소리', '때문', '사람', '만', '저', '베개', '배', '뽈록', '후반', '응애', '부탁', '내일', '나', '말', '레포트', '중간고사', '학', '기말고사', '업무', '보고서', '처음', '입사', '때', '지금', '때', '그게', '내', '탓임', '슬슬', '스스로', '시작', '타이밍', '이', '바로', '으른', '웹툰작가', '다른사람', '웹툰', '정', '주행', '뭔가', '신기', '해뜰때', '내일', '또르르', '제목', '보고', '왜', '양심', '갈수록', '꼬질꼬질', '해지', '거', '진짜', '내', '베댓', '볼때', '여러분', '올가미', '제발', '화', '소름', '나', '시간', '패턴', '그', '사이사이', '감정', '거의', '소름', '화장실', '폰', '저', '머리카락', '뭘', '거지', '자동', '기계', '언제', '발명', '요', '올가미', '소공녀', '민트', '요즘', '최애', '웹툰', '쓰레기', '쓰레기통', '천생연분', '신작', '그림', '체', '존맛', '캐', '존맛', '저', '항시', '집', '술', '구비', '잠', '안', '술앞', '장사', '일단', '뒤', '내일', '아침', '일어나서', '생각', '쉰', '안', '것', '브라운관', '모니터', '때', '컴', '걸', '이', '때', '생각', '내일', '게', '또', '수두', '자서', '또', '언제', '등', '정', '주행', '시간', '마흔', '엄마', '격하', '인정', '절대', '뭐볼', '버터', '새내기', '때', '술', '하루', '채', '한번', '아야', '아야', '뼈', '화산', '귀환', '우리', '청명', '할배', '전', '저번', '폰', '다가', '새벽', '배송', '온', '거', '적', '어머니', '왜', '시간', '이건', '반박', '수', '잔', '불의', '기사', '올가미', '숲속', '담', '자도', '자기', '폰', '정말', '것', '정도', '대략', '화', '정도', '안', '최신', '웹툰', '스마트폰', '진짜', '문제', '함', '서로', '대화', '스마트폰', '의지', '바로', '방법', '책장', '그림', '책', '책', '마음', '책', '비둘기', '여러분', '대학', '일기', '유료', '비둘기', '정면', '오빠', '머싯다', '꺄', '독시', '웹툰', '하루', '밤샘', '수', '소설', '일주일', '밤샘', '수', '소설', '보', '개꿀', '지금', '내', '모습', '과제', '하는듸', '지금', '세시', '임', '삼각', '쿠션', '뭔가', '때', '것', '건', '기분', '탓', '애기', '퇴', '집안일', '다', '그때', '내', '문화생활', '금방', '두시', '자신', '심', '내일', '또', '반복', '녀석', '이', '장면', '뭔가', '새벽', '느낌', '물씬', '새벽', '그', '느낌', '아침', '듯', '공기', '한밤중', '정신', '잠', '오기', '커녕', '맑은', '상태', '화만', '비둘기', '잠', '자네', '개', '설거지', '때', '침착', '게', '폰', '조지', '거임', '것', '말로', '정각', '병', '이군', '내', '보기', '새벽', '뭐', '요새', '웹툰', '소설', '만', '더', '책', '권장', '도서', '어린이', '달', '소설', '어른', '발', '머리', '감고', '안', '아주', '확률', '지루', '두피', '염', '당첨', '수', '질환', '완치', '매우', '관리', '답', '제발', '계절', '머리', '꼬박꼬박', '정각', '실행', '강박', '증후군', '의', '합병증', '강박', '증후군', '은', '무슨', '일', '휴식', '취하', '기', '위해', '후', '다른', '일', '하자', '자기', '합리화', '시작', '매우', '질병', '이', '질병', '정각', '실행', '강박', '증후군', '의', '치료', '방법', '어머니', '잔소리', '시간', '자각', '이', '질병', '또한', '시간', '자각', '이', '치료', '방법', '휴식', '취하', '발현', '제', '압니', '색감', '튜브', '문제', '하루', '종일', '튜브', '보기', '가능', '나', '줄', '요즘', '시간', '꼭', '던데', '때', '거', '국룰', '역시', '자까님', '새벽', '표현', '심', '샤워', '귀신', '기', '가장', '다자', '저', '내일', '내일', '나이', '지경', '팩트', '씨', '한국인', '특', '그', '웹툰', '혹시', '대학', '일기', '유점', '몸', '냄새', '나기', '집', '냄새', '나기', '정각', '실행', '강박', '증후군', '안구건조증', '방광염', '증후군', '기네', '나', '바로', '설거지', '한번', '설거지', '자까님', '서른', '고요', '시간', '왜', '대로', '남아', '계속', '연재', '말', '표정', '개', '웃기', '넼', '해당', '이야기', '튜브', '할아버지', '토', '송아지', '다행', '사람', '뭐', '거', '약간', '짤', '가수', '누구', '악뮤', '박효신', '아이유', '티', '왜', '샤워', '꼭', '핸드폰', '이과', '설명', '진짜', '작가', '이불', '애', '컷', '발', '나이', '사람', '전', '후', '졸음', '싹', '가시', '그', '자꾸만', '새끼', '마법', '실감', '쩌', '복부', '라인', '독립', '기만', '웹툰', '엄써', '데헷', '나', '애', '진짜', '등', '베개', '광고', '지금', '겨울', '자취', '생', '한여름', '설거지', '안', '외출', '경우', '친구', '발', '냄새', '악취', '초파리', '파티', '것', '볼', '수', '네', '말', '저', '알', '새벽', '난', '그때', '뎁', '일이', '시내버스']\n"
          ]
        }
      ]
    },
    {
      "cell_type": "code",
      "source": [
        "from collections import Counter # 내장함수 많이 씀, 알아둘 \n",
        "\n",
        "reviews = ' '.join(df_toon['contents'])\n",
        "noun_list = okt.nouns(reviews)\n",
        "dic_cnt = Counter(noun_list)\n",
        "dic_cnt"
      ],
      "metadata": {
        "id": "4LRrBeM36-Ex"
      },
      "execution_count": null,
      "outputs": []
    },
    {
      "cell_type": "code",
      "source": [
        "dic_cnt.most_common()[:10]"
      ],
      "metadata": {
        "id": "BK0It-HQ7wLK"
      },
      "execution_count": null,
      "outputs": []
    },
    {
      "cell_type": "code",
      "source": [
        "## 2. 워드 클라우드 \n",
        "from wordcloud import WordCloud\n",
        "\n",
        "wc = WordCloud(font_path = '/usr/share/fonts/truetype/nanum/NanumBarunGothic.ttf', \n",
        "          background_color = 'white', \n",
        "          width = 1000, height = 1000, \n",
        "          max_words = 100, max_font_size = 300)\n",
        "\n",
        "wc.generate_from_frequencies(dict(dic_cnt))"
      ],
      "metadata": {
        "id": "ABm_R-SPJw-v",
        "colab": {
          "base_uri": "https://localhost:8080/",
          "height": 361
        },
        "outputId": "18290e5a-4e64-4eae-be8e-ecd3e566b219"
      },
      "execution_count": 56,
      "outputs": [
        {
          "output_type": "error",
          "ename": "OSError",
          "evalue": "ignored",
          "traceback": [
            "\u001b[0;31m---------------------------------------------------------------------------\u001b[0m",
            "\u001b[0;31mOSError\u001b[0m                                   Traceback (most recent call last)",
            "\u001b[0;32m<ipython-input-56-5f59cb26dd2e>\u001b[0m in \u001b[0;36m<cell line: 9>\u001b[0;34m()\u001b[0m\n\u001b[1;32m      7\u001b[0m           max_words = 100, max_font_size = 300)\n\u001b[1;32m      8\u001b[0m \u001b[0;34m\u001b[0m\u001b[0m\n\u001b[0;32m----> 9\u001b[0;31m \u001b[0mwc\u001b[0m\u001b[0;34m.\u001b[0m\u001b[0mgenerate_from_frequencies\u001b[0m\u001b[0;34m(\u001b[0m\u001b[0mdict\u001b[0m\u001b[0;34m(\u001b[0m\u001b[0mdic_cnt\u001b[0m\u001b[0;34m)\u001b[0m\u001b[0;34m)\u001b[0m\u001b[0;34m\u001b[0m\u001b[0;34m\u001b[0m\u001b[0m\n\u001b[0m",
            "\u001b[0;32m/usr/local/lib/python3.10/dist-packages/wordcloud/wordcloud.py\u001b[0m in \u001b[0;36mgenerate_from_frequencies\u001b[0;34m(self, frequencies, max_font_size)\u001b[0m\n\u001b[1;32m    501\u001b[0m             \u001b[0;32mwhile\u001b[0m \u001b[0;32mTrue\u001b[0m\u001b[0;34m:\u001b[0m\u001b[0;34m\u001b[0m\u001b[0;34m\u001b[0m\u001b[0m\n\u001b[1;32m    502\u001b[0m                 \u001b[0;31m# try to find a position\u001b[0m\u001b[0;34m\u001b[0m\u001b[0;34m\u001b[0m\u001b[0m\n\u001b[0;32m--> 503\u001b[0;31m                 \u001b[0mfont\u001b[0m \u001b[0;34m=\u001b[0m \u001b[0mImageFont\u001b[0m\u001b[0;34m.\u001b[0m\u001b[0mtruetype\u001b[0m\u001b[0;34m(\u001b[0m\u001b[0mself\u001b[0m\u001b[0;34m.\u001b[0m\u001b[0mfont_path\u001b[0m\u001b[0;34m,\u001b[0m \u001b[0mfont_size\u001b[0m\u001b[0;34m)\u001b[0m\u001b[0;34m\u001b[0m\u001b[0;34m\u001b[0m\u001b[0m\n\u001b[0m\u001b[1;32m    504\u001b[0m                 \u001b[0;31m# transpose font optionally\u001b[0m\u001b[0;34m\u001b[0m\u001b[0;34m\u001b[0m\u001b[0m\n\u001b[1;32m    505\u001b[0m                 transposed_font = ImageFont.TransposedFont(\n",
            "\u001b[0;32m/usr/local/lib/python3.10/dist-packages/PIL/ImageFont.py\u001b[0m in \u001b[0;36mtruetype\u001b[0;34m(font, size, index, encoding, layout_engine)\u001b[0m\n\u001b[1;32m    853\u001b[0m \u001b[0;34m\u001b[0m\u001b[0m\n\u001b[1;32m    854\u001b[0m     \u001b[0;32mtry\u001b[0m\u001b[0;34m:\u001b[0m\u001b[0;34m\u001b[0m\u001b[0;34m\u001b[0m\u001b[0m\n\u001b[0;32m--> 855\u001b[0;31m         \u001b[0;32mreturn\u001b[0m \u001b[0mfreetype\u001b[0m\u001b[0;34m(\u001b[0m\u001b[0mfont\u001b[0m\u001b[0;34m)\u001b[0m\u001b[0;34m\u001b[0m\u001b[0;34m\u001b[0m\u001b[0m\n\u001b[0m\u001b[1;32m    856\u001b[0m     \u001b[0;32mexcept\u001b[0m \u001b[0mOSError\u001b[0m\u001b[0;34m:\u001b[0m\u001b[0;34m\u001b[0m\u001b[0;34m\u001b[0m\u001b[0m\n\u001b[1;32m    857\u001b[0m         \u001b[0;32mif\u001b[0m \u001b[0;32mnot\u001b[0m \u001b[0misPath\u001b[0m\u001b[0;34m(\u001b[0m\u001b[0mfont\u001b[0m\u001b[0;34m)\u001b[0m\u001b[0;34m:\u001b[0m\u001b[0;34m\u001b[0m\u001b[0;34m\u001b[0m\u001b[0m\n",
            "\u001b[0;32m/usr/local/lib/python3.10/dist-packages/PIL/ImageFont.py\u001b[0m in \u001b[0;36mfreetype\u001b[0;34m(font)\u001b[0m\n\u001b[1;32m    850\u001b[0m \u001b[0;34m\u001b[0m\u001b[0m\n\u001b[1;32m    851\u001b[0m     \u001b[0;32mdef\u001b[0m \u001b[0mfreetype\u001b[0m\u001b[0;34m(\u001b[0m\u001b[0mfont\u001b[0m\u001b[0;34m)\u001b[0m\u001b[0;34m:\u001b[0m\u001b[0;34m\u001b[0m\u001b[0;34m\u001b[0m\u001b[0m\n\u001b[0;32m--> 852\u001b[0;31m         \u001b[0;32mreturn\u001b[0m \u001b[0mFreeTypeFont\u001b[0m\u001b[0;34m(\u001b[0m\u001b[0mfont\u001b[0m\u001b[0;34m,\u001b[0m \u001b[0msize\u001b[0m\u001b[0;34m,\u001b[0m \u001b[0mindex\u001b[0m\u001b[0;34m,\u001b[0m \u001b[0mencoding\u001b[0m\u001b[0;34m,\u001b[0m \u001b[0mlayout_engine\u001b[0m\u001b[0;34m)\u001b[0m\u001b[0;34m\u001b[0m\u001b[0;34m\u001b[0m\u001b[0m\n\u001b[0m\u001b[1;32m    853\u001b[0m \u001b[0;34m\u001b[0m\u001b[0m\n\u001b[1;32m    854\u001b[0m     \u001b[0;32mtry\u001b[0m\u001b[0;34m:\u001b[0m\u001b[0;34m\u001b[0m\u001b[0;34m\u001b[0m\u001b[0m\n",
            "\u001b[0;32m/usr/local/lib/python3.10/dist-packages/PIL/ImageFont.py\u001b[0m in \u001b[0;36m__init__\u001b[0;34m(self, font, size, index, encoding, layout_engine)\u001b[0m\n\u001b[1;32m    209\u001b[0m                         \u001b[0mload_from_bytes\u001b[0m\u001b[0;34m(\u001b[0m\u001b[0mf\u001b[0m\u001b[0;34m)\u001b[0m\u001b[0;34m\u001b[0m\u001b[0;34m\u001b[0m\u001b[0m\n\u001b[1;32m    210\u001b[0m                     \u001b[0;32mreturn\u001b[0m\u001b[0;34m\u001b[0m\u001b[0;34m\u001b[0m\u001b[0m\n\u001b[0;32m--> 211\u001b[0;31m             self.font = core.getfont(\n\u001b[0m\u001b[1;32m    212\u001b[0m                 \u001b[0mfont\u001b[0m\u001b[0;34m,\u001b[0m \u001b[0msize\u001b[0m\u001b[0;34m,\u001b[0m \u001b[0mindex\u001b[0m\u001b[0;34m,\u001b[0m \u001b[0mencoding\u001b[0m\u001b[0;34m,\u001b[0m \u001b[0mlayout_engine\u001b[0m\u001b[0;34m=\u001b[0m\u001b[0mlayout_engine\u001b[0m\u001b[0;34m\u001b[0m\u001b[0;34m\u001b[0m\u001b[0m\n\u001b[1;32m    213\u001b[0m             )\n",
            "\u001b[0;31mOSError\u001b[0m: cannot open resource"
          ]
        }
      ]
    },
    {
      "cell_type": "code",
      "source": [
        "import cv2 \n",
        "from google.colab.patches import cv2_imshow \n",
        "wc.to_file('wc.png')\n",
        "img = cv2.imread('wc.png', cv2.IMREAD_UNCHANGED)\n",
        "cv2_imshow(img)"
      ],
      "metadata": {
        "id": "LT8a27627rOQ",
        "colab": {
          "base_uri": "https://localhost:8080/",
          "height": 1000
        },
        "outputId": "1c4e2a81-77e0-406e-a159-618ef435e319"
      },
      "execution_count": null,
      "outputs": [
        {
          "output_type": "display_data",
          "data": {
            "text/plain": [
              "<PIL.Image.Image image mode=RGB size=1000x1000 at 0x7F0204A63280>"
            ],
            "image/png": "[encoded data removed]"
          },
          "metadata": {}
        }
      ]
    }
  ]
}
