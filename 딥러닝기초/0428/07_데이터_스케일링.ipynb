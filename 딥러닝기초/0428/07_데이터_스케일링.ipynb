{
  "nbformat": 4,
  "nbformat_minor": 0,
  "metadata": {
    "colab": {
      "provenance": [],
      "authorship_tag": "ABX9TyP7UYAyCGwxxACC5yP2DTJw",
      "include_colab_link": true
    },
    "kernelspec": {
      "name": "python3",
      "display_name": "Python 3"
    },
    "language_info": {
      "name": "python"
    }
  },
  "cells": [
    {
      "cell_type": "markdown",
      "metadata": {
        "id": "view-in-github",
        "colab_type": "text"
      },
      "source": [
        "<a href=\"https://colab.research.google.com/github/guscldns/TestProject/blob/main/0428/07_%EB%8D%B0%EC%9D%B4%ED%84%B0_%EC%8A%A4%EC%BC%80%EC%9D%BC%EB%A7%81.ipynb\" target=\"_parent\"><img src=\"https://colab.research.google.com/assets/colab-badge.svg\" alt=\"Open In Colab\"/></a>"
      ]
    },
    {
      "cell_type": "code",
      "execution_count": 3,
      "metadata": {
        "id": "n3szV8LZLe21"
      },
      "outputs": [],
      "source": [
        "import pandas as pd\n",
        "\n",
        "fish = pd.read_csv(\"fish.csv\")\n",
        "\n",
        "bream = fish[fish['class']==1] #fish['class']에서 1인 값\n",
        "smelt = fish[fish['class']==0] #fish['class']에서 0인 값"
      ]
    },
    {
      "cell_type": "code",
      "source": [
        "import matplotlib.pyplot as plt\n",
        "\n",
        "plt.scatter(bream['length'], bream['weight'])\n",
        "plt.scatter(smelt['length'], smelt['weight'])\n",
        "# scatter (x축, y축)\n",
        "# 추가 길이가 25, 무게가 150 인 것은? ↓\n",
        "plt.scatter(25,150, marker = '^') # 녹색삼각형 위치 : 도미"
      ],
      "metadata": {
        "colab": {
          "base_uri": "https://localhost:8080/",
          "height": 449
        },
        "id": "bTHYBapgZibN",
        "outputId": "2475fb79-0b18-439f-b91a-52b01b822a38"
      },
      "execution_count": 17,
      "outputs": [
        {
          "output_type": "execute_result",
          "data": {
            "text/plain": [
              "<matplotlib.collections.PathCollection at 0x7fa7c9840790>"
            ]
          },
          "metadata": {},
          "execution_count": 17
        },
        {
          "output_type": "display_data",
          "data": {
            "text/plain": [
              "<Figure size 640x480 with 1 Axes>"
            ],
            "image/png": "[encoded data removed]"
          },
          "metadata": {}
        }
      ]
    },
    {
      "cell_type": "code",
      "source": [
        "data = fish[['length', 'weight']].to_numpy() # 문제지, 2개일 때는 겹대괄호\n",
        "target = fish['class'].to_numpy() #정답지"
      ],
      "metadata": {
        "id": "QHXKM5O3aDqG"
      },
      "execution_count": 8,
      "outputs": []
    },
    {
      "cell_type": "code",
      "source": [
        "from sklearn.model_selection import train_test_split #시험데이터 제작 라이브러리\n",
        "\n",
        "train_input, test_input, train_target, test_target = train_test_split(data,target)\n",
        "# 순서 중요 : 학습문제지, 시험문제지, 학습정답지, 시험정답지 순\n",
        "# train_test_split(문제지,정답지) :뒤에 숫자 X 면 학습 75% 시험 25%로 구성"
      ],
      "metadata": {
        "id": "2TmqdfuQaWze"
      },
      "execution_count": 15,
      "outputs": []
    },
    {
      "cell_type": "code",
      "source": [
        "from sklearn.neighbors import KNeighborsClassifier \n",
        "# 모델 생성 위함, 대소문자 구분 필수\n",
        "\n",
        "knn = KNeighborsClassifier() # 모델 생성\n",
        "knn.fit(train_input, train_target) # 훈련 문제지, 정답지로 훈련\n",
        "knn.score(test_input, test_target) # 시험 문제지, 정답지로 평가\n",
        "# 1.0 = 100점"
      ],
      "metadata": {
        "colab": {
          "base_uri": "https://localhost:8080/"
        },
        "id": "39aD9IpNbMQI",
        "outputId": "6dceedf8-01a6-4ccc-9fcd-02885eb9741a"
      },
      "execution_count": 24,
      "outputs": [
        {
          "output_type": "execute_result",
          "data": {
            "text/plain": [
              "1.0"
            ]
          },
          "metadata": {},
          "execution_count": 24
        }
      ]
    },
    {
      "cell_type": "code",
      "source": [
        "knn.predict([[25,150]]) # predict : 데이터 넣어서 값 예측\n",
        "# 길이 25, 무게 150? \n",
        "# 행렬 [0] : class ==0 >> 빙어 / 위에서 그래프 보면 도미임\n",
        "# 오답 이유 : 길이는 5씩 늘어나는데 무게는 200씩 늘어남\n",
        "# 길이 10 늘어난 것이 무게 200 늘어난것보다 낮아서 빙어랑 비슷하다고 예측\n",
        "# 컴퓨터는 숫자가 큰 데이터를 더 중요시\n",
        "# 표준화 필요"
      ],
      "metadata": {
        "colab": {
          "base_uri": "https://localhost:8080/"
        },
        "id": "bTAyiwQhcueJ",
        "outputId": "7ccaa5aa-a909-409a-d462-6b0a9176a5f9"
      },
      "execution_count": 18,
      "outputs": [
        {
          "output_type": "execute_result",
          "data": {
            "text/plain": [
              "array([0])"
            ]
          },
          "metadata": {},
          "execution_count": 18
        }
      ]
    },
    {
      "cell_type": "code",
      "source": [
        "# 표준화 직접 구해봄 (라이브러리도 있음)\n",
        "\n",
        "import numpy as np\n",
        "mean = np.mean(train_input, axis = 0) \n",
        "# np.mean(train_input, axis = 0) : train_input의 평균을 행방향으로 구하라\n",
        "#  axis = 1 : 행방향\n",
        "std = np.std(train_input, axis = 0) \n",
        "# np.std(train_input, axis = 0) : train_input의 표준편차을 행방향으로 구하라\n",
        "\n",
        "# 표준화(중 StandardScaler) :데이터 - 데이터 평균 / 데이터 표준편차\n",
        "train_scaled = (train_input - mean) / std\n",
        "test_scaled = (test_input - mean) / std \n",
        "# 시험데이터에 훈련데이터 평균에 훈련데이터로 표준편차로 나누는가\n",
        "# 시험데이터는 모르는 데이터(지금은 가정)라서 컴퓨터가 예측하려면 훈련데이터를 기반으로 해야함\n",
        "# 따라서 시험데이터라도 시험데이터는 모르는 데이터라 훈련데이터의 평균을 빼고 훈련데이터의 표준편차로 나눈다"
      ],
      "metadata": {
        "id": "2wJqr1P4dZ4m"
      },
      "execution_count": 29,
      "outputs": []
    },
    {
      "cell_type": "code",
      "source": [
        "knn = KNeighborsClassifier() # 모델 새로운 것으로 생성\n",
        "knn.fit(train_scaled, train_target) # 훈련은 표준화 훈련데이터, 훈련 정답지\n",
        "knn.score(test_scaled, test_target) # 평가는 표준화 시험데이터, 시험 정답지"
      ],
      "metadata": {
        "colab": {
          "base_uri": "https://localhost:8080/"
        },
        "id": "lFkElijLfDjn",
        "outputId": "7d4f55ff-8b31-4d05-b2c1-65a7c7278937"
      },
      "execution_count": 33,
      "outputs": [
        {
          "output_type": "execute_result",
          "data": {
            "text/plain": [
              "1.0"
            ]
          },
          "metadata": {},
          "execution_count": 33
        }
      ]
    },
    {
      "cell_type": "code",
      "source": [
        "# 길이 25, 무게 150인 데이터 예측 \n",
        "# 이번에는 데이터 - 데이터 평균/ 데이터 표준편차 해야 함\n",
        "\n",
        "new = ([25, 150] - mean) / std\n",
        "new"
      ],
      "metadata": {
        "colab": {
          "base_uri": "https://localhost:8080/"
        },
        "id": "BjHlrWR_fxIG",
        "outputId": "61f194d8-20d9-4a23-cdec-af2ea1a10199"
      },
      "execution_count": 34,
      "outputs": [
        {
          "output_type": "execute_result",
          "data": {
            "text/plain": [
              "array([-0.22721694, -0.93381908])"
            ]
          },
          "metadata": {},
          "execution_count": 34
        }
      ]
    },
    {
      "cell_type": "code",
      "source": [
        "knn.predict([new]) # new의 데이터 넣고 값 예측\n",
        "# 이번에는 도미로 예측"
      ],
      "metadata": {
        "colab": {
          "base_uri": "https://localhost:8080/"
        },
        "id": "rURoGZt6fDlO",
        "outputId": "dc05a8d2-5fc9-4e87-e0e6-dac5aa5a9a6a"
      },
      "execution_count": 35,
      "outputs": [
        {
          "output_type": "execute_result",
          "data": {
            "text/plain": [
              "array([1])"
            ]
          },
          "metadata": {},
          "execution_count": 35
        }
      ]
    }
  ]
}
