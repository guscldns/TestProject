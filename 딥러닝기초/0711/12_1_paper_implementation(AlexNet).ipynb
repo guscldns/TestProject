{
  "nbformat": 4,
  "nbformat_minor": 0,
  "metadata": {
    "colab": {
      "provenance": [],
      "machine_shape": "hm",
      "include_colab_link": true
    },
    "kernelspec": {
      "name": "python3",
      "display_name": "Python 3"
    },
    "language_info": {
      "name": "python"
    },
    "accelerator": "GPU"
  },
  "cells": [
    {
      "cell_type": "markdown",
      "metadata": {
        "id": "view-in-github",
        "colab_type": "text"
      },
      "source": [
        "<a href=\"https://colab.research.google.com/github/guscldns/TestProject/blob/main/0711/0711_12_1_paper_implementation(AlexNet).ipynb\" target=\"_parent\"><img src=\"https://colab.research.google.com/assets/colab-badge.svg\" alt=\"Open In Colab\"/></a>"
      ]
    },
    {
      "cell_type": "code",
      "execution_count": null,
      "metadata": {
        "id": "8MrudMhbn4eZ"
      },
      "outputs": [],
      "source": [
        "import tensorflow as tf\n",
        "\n",
        "from tensorflow.keras import datasets, layers, models\n",
        "\n",
        "import matplotlib.pyplot as plt\n",
        "import numpy as np"
      ]
    },
    {
      "cell_type": "code",
      "source": [
        "(train_images, train_labels), (test_images, test_labels) = datasets.fashion_mnist.load_data()\n",
        "train_images.shape, train_labels.shape, test_images.shape, test_labels.shape"
      ],
      "metadata": {
        "colab": {
          "base_uri": "https://localhost:8080/"
        },
        "id": "zbiSJpf7oIOn",
        "outputId": "61f937ea-11ea-4b5c-d056-50c05bf784f9"
      },
      "execution_count": null,
      "outputs": [
        {
          "output_type": "execute_result",
          "data": {
            "text/plain": [
              "((60000, 28, 28), (60000,), (10000, 28, 28), (10000,))"
            ]
          },
          "metadata": {},
          "execution_count": 43
        }
      ]
    },
    {
      "cell_type": "code",
      "source": [
        "# 라벨 설정\n",
        "label_names = ['T-shirt/top', 'Trouser', 'Pullover', 'Dress', 'Coat',\n",
        "               'Sandal', 'Shirt', 'Sneaker', 'Bag', 'Ankle boot']"
      ],
      "metadata": {
        "id": "lkWAYp7poLpp"
      },
      "execution_count": null,
      "outputs": []
    },
    {
      "cell_type": "code",
      "source": [
        "# 채널 값을 부여 : 28, 28 -> 28, 28, 1\n",
        "train_images = train_images.reshape(-1, 28, 28, 1)\n",
        "test_images = test_images.reshape(-1, 28, 28, 1)\n",
        "train_images.shape, test_images.shape"
      ],
      "metadata": {
        "colab": {
          "base_uri": "https://localhost:8080/"
        },
        "id": "Wr5nL0XDfVXH",
        "outputId": "8a496894-afd1-43de-9e06-c6b64acdcd30"
      },
      "execution_count": null,
      "outputs": [
        {
          "output_type": "execute_result",
          "data": {
            "text/plain": [
              "((60000, 28, 28, 1), (10000, 28, 28, 1))"
            ]
          },
          "metadata": {},
          "execution_count": 45
        }
      ]
    },
    {
      "cell_type": "code",
      "source": [
        "# AlexNet 모델 입력층에 맞게 채널 3장으로 맞춤\n",
        "train_images = tf.repeat(train_images, 3, axis=3)\n",
        "test_images = tf.repeat(test_images, 3, axis=3)\n",
        "train_images.shape, test_images.shape"
      ],
      "metadata": {
        "colab": {
          "base_uri": "https://localhost:8080/"
        },
        "id": "OOXDhMDFiuXN",
        "outputId": "94616b2a-541b-414b-8329-9d127f3c1c1f"
      },
      "execution_count": null,
      "outputs": [
        {
          "output_type": "execute_result",
          "data": {
            "text/plain": [
              "(TensorShape([60000, 28, 28, 3]), TensorShape([10000, 28, 28, 3]))"
            ]
          },
          "metadata": {},
          "execution_count": 46
        }
      ]
    },
    {
      "cell_type": "code",
      "source": [
        "from keras.layers.attention.multi_head_attention import activation\n",
        "from keras.api._v2.keras.layers import Flatten\n",
        "from keras.layers.pooling.max_pooling2d import MaxPool2D\n",
        "model = models.Sequential()\n",
        "\n",
        "# 227 x 227 x 3으로 resize\n",
        "model.add(layers.experimental.preprocessing.Resizing(227, 227,\n",
        "                                                     input_shape=train_images.shape[1:]))\n",
        "model.add(layers.Conv2D(96,(11,11), strides = (4,4)))\n",
        "model.add(layers.Lambda(tf.nn.local_response_normalization))\n",
        "model.add(MaxPool2D((3,3), strides = 2,))\n",
        "model.add(layers.Conv2D(256,(5,5), strides=1, padding = 'same', activation = 'relu'))\n",
        "model.add(layers.Lambda(tf.nn.local_response_normalization))\n",
        "model.add(MaxPool2D((3,3), strides = 2,))\n",
        "model.add(layers.Conv2D(384,(3,3), strides=1, padding = 'same', activation = 'relu'))\n",
        "model.add(layers.Conv2D(384,(3,3), strides=1, padding = 'same', activation = 'relu'))\n",
        "model.add(layers.Conv2D(256,(3,3), strides=1, padding = 'same', activation = 'relu'))\n",
        "model.add(layers.MaxPool2D((3,3), strides = 2))\n",
        "model.add(layers.Flatten())\n",
        "model.add(layers.Dense(4096, activation = 'relu'))\n",
        "model.add(layers.Dropout(rate = 0.5))\n",
        "model.add(layers.Dense(4096, activation = 'relu'))\n",
        "model.add(layers.Dropout(rate = 0.5))\n",
        "model.add(layers.Dense(1000, activation = 'softmax'))\n",
        "# kernel 개수, 크기, stride,\n",
        "# conv, pool(overlap), LRN, FC, dropout\n",
        "# output shape : 1000 -> 10\n",
        "\n",
        "model.summary()"
      ],
      "metadata": {
        "colab": {
          "base_uri": "https://localhost:8080/"
        },
        "id": "96NTpORhaI5J",
        "outputId": "44924302-a60c-4337-dde8-fe4597c57f9c"
      },
      "execution_count": null,
      "outputs": [
        {
          "output_type": "stream",
          "name": "stdout",
          "text": [
            "Model: \"sequential_32\"\n",
            "_________________________________________________________________\n",
            " Layer (type)                Output Shape              Param #   \n",
            "=================================================================\n",
            " resizing_21 (Resizing)      (None, 227, 227, 3)       0         \n",
            "                                                                 \n",
            " conv2d_93 (Conv2D)          (None, 57, 57, 96)        34944     \n",
            "                                                                 \n",
            " lambda_49 (Lambda)          (None, 57, 57, 96)        0         \n",
            "                                                                 \n",
            " max_pooling2d_53 (MaxPoolin  (None, 28, 28, 96)       0         \n",
            " g2D)                                                            \n",
            "                                                                 \n",
            " conv2d_94 (Conv2D)          (None, 28, 28, 256)       614656    \n",
            "                                                                 \n",
            " lambda_50 (Lambda)          (None, 28, 28, 256)       0         \n",
            "                                                                 \n",
            " max_pooling2d_54 (MaxPoolin  (None, 13, 13, 256)      0         \n",
            " g2D)                                                            \n",
            "                                                                 \n",
            " conv2d_95 (Conv2D)          (None, 13, 13, 384)       885120    \n",
            "                                                                 \n",
            " conv2d_96 (Conv2D)          (None, 13, 13, 384)       1327488   \n",
            "                                                                 \n",
            " conv2d_97 (Conv2D)          (None, 13, 13, 256)       884992    \n",
            "                                                                 \n",
            " max_pooling2d_55 (MaxPoolin  (None, 6, 6, 256)        0         \n",
            " g2D)                                                            \n",
            "                                                                 \n",
            " flatten_29 (Flatten)        (None, 9216)              0         \n",
            "                                                                 \n",
            " dense_51 (Dense)            (None, 4096)              37752832  \n",
            "                                                                 \n",
            " dropout_45 (Dropout)        (None, 4096)              0         \n",
            "                                                                 \n",
            " dense_52 (Dense)            (None, 4096)              16781312  \n",
            "                                                                 \n",
            " dropout_46 (Dropout)        (None, 4096)              0         \n",
            "                                                                 \n",
            " dense_53 (Dense)            (None, 1000)              4097000   \n",
            "                                                                 \n",
            "=================================================================\n",
            "Total params: 62,378,344\n",
            "Trainable params: 62,378,344\n",
            "Non-trainable params: 0\n",
            "_________________________________________________________________\n"
          ]
        }
      ]
    },
    {
      "cell_type": "code",
      "source": [
        "model.compile(optimizer = 'adam', loss = 'SparseCategoricalCrossentropy', metrics=['accuracy'])"
      ],
      "metadata": {
        "id": "lz-Dhe0HeEtC"
      },
      "execution_count": null,
      "outputs": []
    },
    {
      "cell_type": "code",
      "source": [
        "model.fit(train_images, train_labels, batch_size=128, epochs=10, validation_split=0.2)"
      ],
      "metadata": {
        "colab": {
          "base_uri": "https://localhost:8080/"
        },
        "id": "oK3lCST3d_Nq",
        "outputId": "4bf7cb6c-0304-4209-dbb7-2d78372c895b"
      },
      "execution_count": null,
      "outputs": [
        {
          "output_type": "stream",
          "name": "stdout",
          "text": [
            "Epoch 1/10\n",
            "375/375 [==============================] - 181s 471ms/step - loss: 0.8161 - accuracy: 0.7305 - val_loss: 0.3340 - val_accuracy: 0.8717\n",
            "Epoch 2/10\n",
            "375/375 [==============================] - 177s 471ms/step - loss: 0.3386 - accuracy: 0.8736 - val_loss: 0.3007 - val_accuracy: 0.8915\n",
            "Epoch 3/10\n",
            "375/375 [==============================] - 177s 471ms/step - loss: 0.2965 - accuracy: 0.8908 - val_loss: 0.2778 - val_accuracy: 0.8965\n",
            "Epoch 4/10\n",
            "375/375 [==============================] - 177s 472ms/step - loss: 0.2700 - accuracy: 0.9003 - val_loss: 0.2882 - val_accuracy: 0.8914\n",
            "Epoch 5/10\n",
            "375/375 [==============================] - 170s 452ms/step - loss: 0.2562 - accuracy: 0.9047 - val_loss: 0.2604 - val_accuracy: 0.9015\n",
            "Epoch 6/10\n",
            "375/375 [==============================] - 177s 472ms/step - loss: 0.2437 - accuracy: 0.9101 - val_loss: 0.2528 - val_accuracy: 0.9063\n",
            "Epoch 7/10\n",
            "375/375 [==============================] - 177s 472ms/step - loss: 0.2272 - accuracy: 0.9144 - val_loss: 0.2447 - val_accuracy: 0.9107\n",
            "Epoch 8/10\n",
            "375/375 [==============================] - 177s 472ms/step - loss: 0.2211 - accuracy: 0.9178 - val_loss: 0.2480 - val_accuracy: 0.9051\n",
            "Epoch 9/10\n",
            "375/375 [==============================] - 170s 452ms/step - loss: 0.2088 - accuracy: 0.9210 - val_loss: 0.2665 - val_accuracy: 0.9043\n",
            "Epoch 10/10\n",
            "375/375 [==============================] - 177s 472ms/step - loss: 0.2015 - accuracy: 0.9246 - val_loss: 0.2395 - val_accuracy: 0.9140\n"
          ]
        },
        {
          "output_type": "execute_result",
          "data": {
            "text/plain": [
              "<keras.callbacks.History at 0x7fcb2012c910>"
            ]
          },
          "metadata": {},
          "execution_count": 61
        }
      ]
    },
    {
      "cell_type": "code",
      "source": [
        "model.fit(train_images, train_labels, batch_size=128, epochs=10, validation_split=0.2)"
      ],
      "metadata": {
        "colab": {
          "base_uri": "https://localhost:8080/"
        },
        "id": "xBTxdtSureZX",
        "outputId": "be391c72-0e86-447a-eb3f-f1f5fa6a6192"
      },
      "execution_count": null,
      "outputs": [
        {
          "output_type": "stream",
          "name": "stdout",
          "text": [
            "Epoch 1/10\n",
            "375/375 [==============================] - 65s 172ms/step - loss: 0.6119 - accuracy: 0.7692 - val_loss: 0.3519 - val_accuracy: 0.8693\n",
            "Epoch 2/10\n",
            "375/375 [==============================] - 64s 171ms/step - loss: 0.3393 - accuracy: 0.8754 - val_loss: 0.2968 - val_accuracy: 0.8898\n",
            "Epoch 3/10\n",
            "375/375 [==============================] - 64s 171ms/step - loss: 0.3040 - accuracy: 0.8868 - val_loss: 0.3028 - val_accuracy: 0.8838\n",
            "Epoch 4/10\n",
            "375/375 [==============================] - 64s 170ms/step - loss: 0.2665 - accuracy: 0.8997 - val_loss: 0.2628 - val_accuracy: 0.9049\n",
            "Epoch 5/10\n",
            "375/375 [==============================] - 64s 171ms/step - loss: 0.2451 - accuracy: 0.9086 - val_loss: 0.2703 - val_accuracy: 0.9013\n",
            "Epoch 6/10\n",
            "375/375 [==============================] - 64s 171ms/step - loss: 0.2312 - accuracy: 0.9135 - val_loss: 0.2781 - val_accuracy: 0.8977\n",
            "Epoch 7/10\n",
            "375/375 [==============================] - 64s 171ms/step - loss: 0.2225 - accuracy: 0.9165 - val_loss: 0.2621 - val_accuracy: 0.9041\n",
            "Epoch 8/10\n",
            "375/375 [==============================] - 64s 171ms/step - loss: 0.1989 - accuracy: 0.9259 - val_loss: 0.2563 - val_accuracy: 0.9086\n",
            "Epoch 9/10\n",
            "375/375 [==============================] - 64s 170ms/step - loss: 0.1887 - accuracy: 0.9294 - val_loss: 0.2530 - val_accuracy: 0.9081\n",
            "Epoch 10/10\n",
            "375/375 [==============================] - 64s 170ms/step - loss: 0.1752 - accuracy: 0.9346 - val_loss: 0.2522 - val_accuracy: 0.9125\n"
          ]
        },
        {
          "output_type": "execute_result",
          "data": {
            "text/plain": [
              "<keras.callbacks.History at 0x7f947c273650>"
            ]
          },
          "metadata": {},
          "execution_count": 67
        }
      ]
    },
    {
      "cell_type": "code",
      "source": [
        "model.evaluate(test_images, test_labels)"
      ],
      "metadata": {
        "colab": {
          "base_uri": "https://localhost:8080/"
        },
        "id": "njRpweqMlPi8",
        "outputId": "a3840ded-a08c-4274-b1ed-a19c6407ba9d"
      },
      "execution_count": null,
      "outputs": [
        {
          "output_type": "stream",
          "name": "stdout",
          "text": [
            "313/313 [==============================] - 5s 15ms/step - loss: 0.2764 - accuracy: 0.9050\n"
          ]
        },
        {
          "output_type": "execute_result",
          "data": {
            "text/plain": [
              "[0.2764274775981903, 0.9049999713897705]"
            ]
          },
          "metadata": {},
          "execution_count": 68
        }
      ]
    },
    {
      "cell_type": "code",
      "source": [
        "# AlexNet 모델을 간소화해봅시다\n",
        "## resize없이 (28, 28, 3)으로 받아봅시다\n",
        "\n",
        "## ** activation 은 모두 relu로 유지\n",
        "## layer 1 : 32개, (3, 3), strides=1 / pooling은 (2, 2) overlapping x / normalizing 유지\n",
        "\n",
        "## layer 2 : 64개, (3, 3), strides=1 / pooling은 (2, 2) overlapping x / normalizing 유지\n",
        "\n",
        "## layer 3 : 128개, (3, 3), strides=1 / pooling은 (2, 2) overlapping x\n",
        "\n",
        "## layer 4, 5 : 삭제\n",
        "\n",
        "## fully connected layer 1, 2 : node 원하는대로 주기\n"
      ],
      "metadata": {
        "id": "tmSTegjzon0U"
      },
      "execution_count": null,
      "outputs": []
    },
    {
      "cell_type": "code",
      "source": [
        "model = models.Sequential([\n",
        "    tf.keras.layers.Input(shape=(28,28,3),),\n",
        "    tf.keras.layers.Conv2D(32, (3,3), strides = (1, 1), name = 'Conv1'),\n",
        "    tf.keras.layers.Lambda(tf.nn.local_response_normalization),\n",
        "    tf.keras.layers.MaxPool2D((3,3), strides = 2, name = 'MaxPool1'),\n",
        "    tf.keras.layers.Conv2D(32, (3,3), strides = (1, 1), padding='same', activation = 'relu', name = 'Conv2'),\n",
        "    tf.keras.layers.Lambda(tf.nn.local_response_normalization),\n",
        "    tf.keras.layers.MaxPool2D((3,3), strides = 2, name = 'MaxPool2'),\n",
        "    tf.keras.layers.Conv2D(128, (3,3), strides=1, padding='same', activation = 'relu', name = 'Conv3'),\n",
        "    tf.keras.layers.MaxPool2D((3,3),strides=2, name = 'MaxPool3'),\n",
        "    tf.keras.layers.Flatten(),\n",
        "    tf.keras.layers.Dense(1024, activation = 'relu', name = 'FC1'),\n",
        "    tf.keras.layers.Dropout(rate = 0.5),\n",
        "    tf.keras.layers.Dense(1024, activation = 'relu', name = 'FC2'),\n",
        "    tf.keras.layers.Dropout(rate = 0.5),\n",
        "    tf.keras.layers.Dense(256, activation = 'softmax', name = 'Output_layer')\n",
        "])\n",
        "\n",
        "model.summary()"
      ],
      "metadata": {
        "colab": {
          "base_uri": "https://localhost:8080/"
        },
        "id": "dVLW3LLGikCY",
        "outputId": "306bed97-5acb-423d-d8db-49e93197692d"
      },
      "execution_count": null,
      "outputs": [
        {
          "output_type": "stream",
          "name": "stdout",
          "text": [
            "Model: \"sequential_33\"\n",
            "_________________________________________________________________\n",
            " Layer (type)                Output Shape              Param #   \n",
            "=================================================================\n",
            " Conv1 (Conv2D)              (None, 26, 26, 32)        896       \n",
            "                                                                 \n",
            " lambda_51 (Lambda)          (None, 26, 26, 32)        0         \n",
            "                                                                 \n",
            " MaxPool1 (MaxPooling2D)     (None, 12, 12, 32)        0         \n",
            "                                                                 \n",
            " Conv2 (Conv2D)              (None, 12, 12, 32)        9248      \n",
            "                                                                 \n",
            " lambda_52 (Lambda)          (None, 12, 12, 32)        0         \n",
            "                                                                 \n",
            " MaxPool2 (MaxPooling2D)     (None, 5, 5, 32)          0         \n",
            "                                                                 \n",
            " Conv3 (Conv2D)              (None, 5, 5, 128)         36992     \n",
            "                                                                 \n",
            " MaxPool3 (MaxPooling2D)     (None, 2, 2, 128)         0         \n",
            "                                                                 \n",
            " flatten_30 (Flatten)        (None, 512)               0         \n",
            "                                                                 \n",
            " FC1 (Dense)                 (None, 1024)              525312    \n",
            "                                                                 \n",
            " dropout_47 (Dropout)        (None, 1024)              0         \n",
            "                                                                 \n",
            " FC2 (Dense)                 (None, 1024)              1049600   \n",
            "                                                                 \n",
            " dropout_48 (Dropout)        (None, 1024)              0         \n",
            "                                                                 \n",
            " Output_layer (Dense)        (None, 256)               262400    \n",
            "                                                                 \n",
            "=================================================================\n",
            "Total params: 1,884,448\n",
            "Trainable params: 1,884,448\n",
            "Non-trainable params: 0\n",
            "_________________________________________________________________\n"
          ]
        }
      ]
    }
  ]
}
