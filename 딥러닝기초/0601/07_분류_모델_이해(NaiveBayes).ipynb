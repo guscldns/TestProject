{
  "nbformat": 4,
  "nbformat_minor": 0,
  "metadata": {
    "kernelspec": {
      "display_name": "Python 3",
      "language": "python",
      "name": "python3"
    },
    "language_info": {
      "codemirror_mode": {
        "name": "ipython",
        "version": 3
      },
      "file_extension": ".py",
      "mimetype": "text/x-python",
      "name": "python",
      "nbconvert_exporter": "python",
      "pygments_lexer": "ipython3",
      "version": "3.7.4"
    },
    "colab": {
      "provenance": [],
      "include_colab_link": true
    }
  },
  "cells": [
    {
      "cell_type": "markdown",
      "metadata": {
        "id": "view-in-github",
        "colab_type": "text"
      },
      "source": [
        "<a href=\"https://colab.research.google.com/github/guscldns/TestProject/blob/main/0601/0601_07_%E1%84%87%E1%85%AE%E1%86%AB%E1%84%85%E1%85%B2_%E1%84%86%E1%85%A9%E1%84%83%E1%85%A6%E1%86%AF_%E1%84%8B%E1%85%B5%E1%84%92%E1%85%A2(NaiveBayes).ipynb\" target=\"_parent\"><img src=\"https://colab.research.google.com/assets/colab-badge.svg\" alt=\"Open In Colab\"/></a>"
      ]
    },
    {
      "cell_type": "markdown",
      "source": [
        "# 나이브 베이즈 분류기\n"
      ],
      "metadata": {
        "id": "NquX3CMN_MS-"
      }
    },
    {
      "cell_type": "code",
      "source": [
        "!pip install konlpy"
      ],
      "metadata": {
        "id": "MSZXrI09ADYl",
        "colab": {
          "base_uri": "https://localhost:8080/"
        },
        "outputId": "6aad8e20-1d75-45fa-d4fd-66f85b85802a"
      },
      "execution_count": 1,
      "outputs": [
        {
          "output_type": "stream",
          "name": "stdout",
          "text": [
            "Looking in indexes: https://pypi.org/simple, https://us-python.pkg.dev/colab-wheels/public/simple/\n",
            "Collecting konlpy\n",
            "  Downloading konlpy-0.6.0-py2.py3-none-any.whl (19.4 MB)\n",
            "\u001b[2K     \u001b[90m━━━━━━━━━━━━━━━━━━━━━━━━━━━━━━━━━━━━━━━━\u001b[0m \u001b[32m19.4/19.4 MB\u001b[0m \u001b[31m71.3 MB/s\u001b[0m eta \u001b[36m0:00:00\u001b[0m\n",
            "\u001b[?25hCollecting JPype1>=0.7.0 (from konlpy)\n",
            "  Downloading JPype1-1.4.1-cp310-cp310-manylinux_2_12_x86_64.manylinux2010_x86_64.whl (465 kB)\n",
            "\u001b[2K     \u001b[90m━━━━━━━━━━━━━━━━━━━━━━━━━━━━━━━━━━━━━━\u001b[0m \u001b[32m465.3/465.3 kB\u001b[0m \u001b[31m32.9 MB/s\u001b[0m eta \u001b[36m0:00:00\u001b[0m\n",
            "\u001b[?25hRequirement already satisfied: lxml>=4.1.0 in /usr/local/lib/python3.10/dist-packages (from konlpy) (4.9.2)\n",
            "Requirement already satisfied: numpy>=1.6 in /usr/local/lib/python3.10/dist-packages (from konlpy) (1.22.4)\n",
            "Requirement already satisfied: packaging in /usr/local/lib/python3.10/dist-packages (from JPype1>=0.7.0->konlpy) (23.1)\n",
            "Installing collected packages: JPype1, konlpy\n",
            "Successfully installed JPype1-1.4.1 konlpy-0.6.0\n"
          ]
        }
      ]
    },
    {
      "cell_type": "code",
      "source": [
        "# matplotlib 설정\n",
        "from matplotlib import pyplot as plt\n",
        "from matplotlib import rc\n",
        "import numpy as np\n",
        "\n",
        "%matplotlib inline\n",
        "\n",
        "# rc('font', family = 'AppleGothic')\n",
        "# plt.rcParams['axes.unicode_minus'] = False\n",
        "# # mac OS 에서 한글이 깨진다면 참고."
      ],
      "metadata": {
        "id": "1vQdQ34k_Lfn"
      },
      "execution_count": 2,
      "outputs": []
    },
    {
      "cell_type": "markdown",
      "metadata": {
        "id": "DWGipd5w-hmC"
      },
      "source": [
        "### 가우시안 나이브 베이즈"
      ]
    },
    {
      "cell_type": "markdown",
      "metadata": {
        "id": "xa3nr3ug-hmC"
      },
      "source": [
        "- GaussianNB의 경우 연속적인 데이터를 처리하는 용도로 많이 사용된다.  "
      ]
    },
    {
      "cell_type": "markdown",
      "metadata": {
        "id": "hvNTHK3u-hmM"
      },
      "source": [
        "### 다항 분포, 베르누이 나이브 베이즈"
      ]
    },
    {
      "cell_type": "markdown",
      "metadata": {
        "id": "DodMS6-B-hmM"
      },
      "source": [
        "- BernoulliNB, MultinomialNB는 문서분류와 같은 곳에서 많이 사용된다.  "
      ]
    },
    {
      "cell_type": "markdown",
      "metadata": {
        "id": "5qFFm5f2-hmN"
      },
      "source": [
        "베르누이는 문서에 단어가 출현을 했는지 여부를 따져서 문서를 벡터화 시킨다. 이와 다르게 다항 분포는 단어의 출현횟수를 기록한다."
      ]
    },
    {
      "cell_type": "markdown",
      "metadata": {
        "id": "MyVrIwJH-hmN"
      },
      "source": [
        "- 베르누이와 다항분포에는 alpha라는 매개변수가 있다. alpha는 스무딩(smoothing)의 정도를 조절할 수 있다.  \n",
        "- 그럼 스무딩은 무엇인가? 입력값이 우리가 가지고 있는 훈련데이터에는 없는 값이 들어올 경우 확률이 0이 되어 정상적인 분류가 되지 않는 경우가 생긴다.  \n",
        "이런 경우를 방지하고자 값을 보정하기 위해 사용되는 기법이 스무딩 기법이다.(라플라스 계산을 사용한다.), 라플라스를 이용하여 특징값이 최소한 한 번은 나타나도록 조정하여 특징값이 0이 될 수 없도록 한다.  \n",
        "- alpha매개변수는 알고리즘의 성능에 크게 영향을 미치지는 않지만, 값을 조정하면 정확도를 어느정도 높일수는 있다."
      ]
    },
    {
      "cell_type": "code",
      "source": [
        "from sklearn.naive_bayes import MultinomialNB\n",
        "# 다항분포: Multinomial, 상황이 여러개일 때 각각의 상황의 확률을 총횟수로 나눠주는 것\n",
        "# 주사위 던지기 : 다항분포 ↔ 동전던지기\n",
        "# 베르누이는 이진분류(0/1)일 때 사용, 몇 번 등장했는지 알고 싶으면 다항분포를 사용"
      ],
      "metadata": {
        "id": "2DYgGIMa_O19"
      },
      "execution_count": 3,
      "outputs": []
    },
    {
      "cell_type": "code",
      "execution_count": 78,
      "metadata": {
        "id": "q29poqVI-hmN"
      },
      "outputs": [],
      "source": [
        "from konlpy.tag import Okt\n",
        "from sklearn.model_selection import train_test_split\n",
        "from sklearn.feature_extraction.text import CountVectorizer\n",
        "\n",
        "x_data = ['설문조사하고 백화점 상품권 받아가자',\n",
        "        '응모권 발급되었어요 응모하시고 천만원 받아가세요', \n",
        "        '다음 예약시 할인 가능',\n",
        "        '피자먹고 유럽투어 가자',\n",
        "        '블랙프라이데이 한정 세일',\n",
        "        '머신생명 보험 상담 받으시고 안마의자 받아가세요',\n",
        "        '회원님 장바구니에 들어있는 제품 할인행사 안내',\n",
        "        '오늘 아침회의 내용 정리 보고서입니다',\n",
        "        '5시까지 업무 보고서 제출하세요',\n",
        "        '이번달 보험료 청구금액은',\n",
        "        '다음주 일정 확인 부탁드립니다',\n",
        "         '이번 달 카드 사용 청구서']\n",
        "y_data = [1, 1, 1, 1, 1, 1, 0, 0, 0, 0, 0, 0]\n",
        "\n",
        "labels = ['햄', '스팸']\n"
      ]
    },
    {
      "cell_type": "code",
      "execution_count": 79,
      "metadata": {
        "id": "MoIU5WsN-hmN"
      },
      "outputs": [],
      "source": [
        "for i, d in enumerate(x_data):\n",
        "    n_words = Okt().nouns(d) # 명사만 추출\n",
        "    x_data[i] = ' '.join(n_words)"
      ]
    },
    {
      "cell_type": "code",
      "source": [
        "x_data"
      ],
      "metadata": {
        "id": "KueTYduDqz9o"
      },
      "execution_count": null,
      "outputs": []
    },
    {
      "cell_type": "code",
      "execution_count": 6,
      "metadata": {
        "id": "QNgJIZyt-hmN",
        "outputId": "df81ef07-839e-4c80-aef9-29db4a0a965f",
        "colab": {
          "base_uri": "https://localhost:8080/"
        }
      },
      "outputs": [
        {
          "output_type": "stream",
          "name": "stdout",
          "text": [
            "['이번', '달', '카드', '사용', '청구']\n"
          ]
        }
      ],
      "source": [
        "print(n_words)"
      ]
    },
    {
      "cell_type": "code",
      "execution_count": 35,
      "metadata": {
        "id": "-cdBaJiZ-hmN",
        "outputId": "cec77f28-3a0b-44e0-bd8a-3761aba40b77",
        "colab": {
          "base_uri": "https://localhost:8080/"
        }
      },
      "outputs": [
        {
          "output_type": "stream",
          "name": "stdout",
          "text": [
            "(12, 43)\n"
          ]
        }
      ],
      "source": [
        "vectorizer = CountVectorizer() # CountVectorizer: 각 문서별로 몇 번 등장했는지 세준다, 다항분포에서 잘 사용\n",
        "vectorizer.fit(x_data)\n",
        "x_data = vectorizer.transform(x_data)\n",
        "print(x_data.shape)"
      ]
    },
    {
      "cell_type": "code",
      "source": [
        "x_data.toarray() # x_data의 형태"
      ],
      "metadata": {
        "colab": {
          "base_uri": "https://localhost:8080/"
        },
        "id": "PRPEDpp5iuX2",
        "outputId": "177185fc-0a61-4333-da7c-63fb38538571"
      },
      "execution_count": 10,
      "outputs": [
        {
          "output_type": "execute_result",
          "data": {
            "text/plain": [
              "array([[0, 0, 0, 0, 0, 0, 0, 1, 0, 0, 0, 0, 0, 0, 1, 0, 1, 0, 0, 0, 0, 0,\n",
              "        0, 0, 0, 0, 0, 0, 0, 0, 0, 0, 0, 0, 0, 0, 0, 0, 0, 0, 0, 0, 0],\n",
              "       [0, 0, 0, 0, 0, 0, 1, 0, 0, 0, 0, 0, 0, 0, 0, 0, 0, 0, 0, 0, 0, 0,\n",
              "        0, 0, 2, 0, 0, 0, 0, 0, 0, 0, 1, 0, 0, 0, 0, 0, 0, 0, 0, 0, 0],\n",
              "       [1, 0, 0, 1, 0, 0, 0, 0, 0, 0, 0, 0, 0, 0, 0, 0, 0, 0, 0, 0, 1, 0,\n",
              "        0, 0, 0, 0, 0, 0, 0, 0, 0, 0, 0, 0, 0, 0, 0, 0, 1, 0, 0, 0, 0],\n",
              "       [0, 0, 0, 0, 0, 0, 0, 0, 0, 0, 0, 0, 0, 0, 0, 0, 0, 0, 0, 0, 0, 0,\n",
              "        0, 1, 0, 0, 0, 0, 0, 0, 0, 0, 0, 0, 0, 1, 1, 0, 0, 0, 0, 0, 0],\n",
              "       [0, 0, 0, 0, 0, 0, 0, 0, 0, 0, 0, 1, 0, 0, 0, 0, 0, 0, 0, 0, 0, 0,\n",
              "        0, 0, 0, 0, 0, 0, 0, 0, 0, 0, 0, 0, 0, 0, 0, 1, 0, 0, 0, 0, 0],\n",
              "       [0, 0, 0, 0, 0, 1, 0, 0, 0, 1, 0, 0, 0, 1, 0, 1, 0, 0, 0, 1, 0, 0,\n",
              "        0, 0, 0, 1, 0, 0, 0, 0, 0, 0, 0, 0, 0, 0, 0, 0, 0, 0, 0, 0, 0],\n",
              "       [0, 0, 0, 0, 0, 0, 0, 0, 0, 0, 0, 0, 0, 0, 0, 0, 0, 0, 1, 0, 0, 0,\n",
              "        0, 0, 0, 0, 0, 0, 1, 0, 0, 1, 0, 0, 0, 0, 0, 0, 1, 1, 0, 1, 0],\n",
              "       [0, 0, 1, 0, 0, 0, 0, 0, 1, 0, 0, 0, 0, 0, 0, 0, 0, 1, 0, 0, 0, 0,\n",
              "        1, 0, 0, 0, 0, 0, 0, 1, 0, 0, 0, 0, 0, 0, 0, 0, 0, 0, 0, 0, 1],\n",
              "       [0, 0, 0, 0, 0, 0, 0, 0, 1, 0, 0, 0, 0, 0, 0, 0, 0, 0, 0, 0, 0, 1,\n",
              "        0, 0, 0, 0, 0, 0, 0, 0, 1, 0, 0, 0, 0, 0, 0, 0, 0, 0, 0, 0, 0],\n",
              "       [0, 1, 0, 0, 0, 0, 0, 0, 0, 0, 1, 0, 0, 0, 0, 0, 0, 0, 0, 0, 0, 0,\n",
              "        0, 0, 0, 0, 1, 0, 0, 0, 0, 0, 0, 1, 0, 0, 0, 0, 0, 0, 0, 0, 0],\n",
              "       [0, 0, 0, 0, 1, 0, 0, 0, 0, 0, 0, 0, 0, 0, 0, 0, 0, 0, 0, 0, 0, 0,\n",
              "        0, 0, 0, 0, 0, 1, 0, 0, 0, 0, 0, 0, 0, 0, 0, 0, 0, 0, 1, 0, 0],\n",
              "       [0, 0, 0, 0, 0, 0, 0, 0, 0, 0, 0, 0, 1, 0, 0, 0, 0, 0, 0, 0, 0, 0,\n",
              "        0, 0, 0, 0, 1, 0, 0, 0, 0, 0, 0, 1, 1, 0, 0, 0, 0, 0, 0, 0, 0]])"
            ]
          },
          "metadata": {},
          "execution_count": 10
        }
      ]
    },
    {
      "cell_type": "code",
      "execution_count": 20,
      "metadata": {
        "id": "UktNbwQY-hmO",
        "outputId": "b2a47ca1-069e-460a-9dec-639231ffdf18",
        "colab": {
          "base_uri": "https://localhost:8080/"
        }
      },
      "outputs": [
        {
          "output_type": "stream",
          "name": "stdout",
          "text": [
            "train score : 1.0\n",
            "test score : 0.75\n"
          ]
        }
      ],
      "source": [
        "# 분류기의 성능 판단을 위해 train set 분리\n",
        "X_train, X_test, y_train, y_test = train_test_split(x_data, y_data, \n",
        "                                                    test_size=0.3, shuffle = True, \n",
        "                                                    stratify = y_data)\n",
        "\n",
        "multi_naive = MultinomialNB().fit(X_train, y_train)\n",
        "\n",
        "print('train score : {}'.format(multi_naive.score(X_train, y_train)))\n",
        "print('test score : {}'.format(multi_naive.score(X_test, y_test)))"
      ]
    },
    {
      "cell_type": "code",
      "execution_count": null,
      "metadata": {
        "id": "YQ43J-xe-hmO",
        "outputId": "a015c647-0440-4b04-fc5d-e9c7bf215acb",
        "colab": {
          "base_uri": "https://localhost:8080/"
        }
      },
      "outputs": [
        {
          "output_type": "execute_result",
          "data": {
            "text/plain": [
              "array([0, 1])"
            ]
          },
          "metadata": {},
          "execution_count": 59
        }
      ],
      "source": [
        "multi_naive.classes_ # 어떠한 클래스가 있는가"
      ]
    },
    {
      "cell_type": "code",
      "execution_count": null,
      "metadata": {
        "id": "W9niTYKb-hmO",
        "outputId": "f239df40-47b2-439a-eb7b-e3175f8aba26",
        "colab": {
          "base_uri": "https://localhost:8080/"
        }
      },
      "outputs": [
        {
          "output_type": "execute_result",
          "data": {
            "text/plain": [
              "array([4., 4.])"
            ]
          },
          "metadata": {},
          "execution_count": 60
        }
      ],
      "source": [
        "multi_naive.class_count_ # 각 클래스 별로 등장 개수"
      ]
    },
    {
      "cell_type": "code",
      "execution_count": null,
      "metadata": {
        "id": "-9RZOIQY-hmO",
        "outputId": "8560735f-ca9a-4360-d635-59f9607e90d9",
        "colab": {
          "base_uri": "https://localhost:8080/"
        }
      },
      "outputs": [
        {
          "output_type": "execute_result",
          "data": {
            "text/plain": [
              "array([-0.69314718, -0.69314718])"
            ]
          },
          "metadata": {},
          "execution_count": 61
        }
      ],
      "source": [
        "multi_naive.class_log_prior_\n",
        "# 사전 확률 분포 로그 값 (베르누이와 다항 분포에서만 사용.)\n",
        "# = 스팸인지 정상인지의 로그 값"
      ]
    },
    {
      "cell_type": "code",
      "execution_count": 17,
      "metadata": {
        "id": "BT2HpqYl-hmO",
        "outputId": "0065398f-fc57-4a8d-dd45-0606562eab7f",
        "colab": {
          "base_uri": "https://localhost:8080/"
        }
      },
      "outputs": [
        {
          "output_type": "stream",
          "name": "stdout",
          "text": [
            "초특 할인 행사 괌 여행 응모\n"
          ]
        }
      ],
      "source": [
        "new_data = '초특가 할인행사에 괌 여행 응모권까지 받아가자'\n",
        "n_words = Okt().nouns(new_data)\n",
        "n_words = ' '.join(n_words)\n",
        "print(n_words)"
      ]
    },
    {
      "cell_type": "code",
      "execution_count": 21,
      "metadata": {
        "id": "KEjZS39k-hmO",
        "outputId": "acaec950-9c43-4376-8c8d-3884610e43c0",
        "colab": {
          "base_uri": "https://localhost:8080/"
        }
      },
      "outputs": [
        {
          "output_type": "stream",
          "name": "stdout",
          "text": [
            "  (0, 24)\t1\n",
            "  (0, 38)\t1\n",
            "  (0, 39)\t1\n"
          ]
        }
      ],
      "source": [
        "n_data = [n_words]\n",
        "X1 = vectorizer.transform(n_data)\n",
        "print(X1) # 인덱스로 저장한 값, 1이 행렬의 몇번째에 있는가"
      ]
    },
    {
      "cell_type": "code",
      "source": [
        "X1.toarray() # X1행렬 (25, 39, 40 번째에 있는데 인덱스틑 0부터 시작이라 24,38,39에 있다고 인식)"
      ],
      "metadata": {
        "colab": {
          "base_uri": "https://localhost:8080/"
        },
        "id": "6muF3oFFkN4U",
        "outputId": "87346b5f-125c-46ec-ad2c-fee36c5200dd"
      },
      "execution_count": 23,
      "outputs": [
        {
          "output_type": "execute_result",
          "data": {
            "text/plain": [
              "array([[0, 0, 0, 0, 0, 0, 0, 0, 0, 0, 0, 0, 0, 0, 0, 0, 0, 0, 0, 0, 0, 0,\n",
              "        0, 0, 1, 0, 0, 0, 0, 0, 0, 0, 0, 0, 0, 0, 0, 0, 1, 1, 0, 0, 0]])"
            ]
          },
          "metadata": {},
          "execution_count": 23
        }
      ]
    },
    {
      "cell_type": "code",
      "execution_count": 22,
      "metadata": {
        "id": "mMIMiGfs-hmP",
        "outputId": "4a17cf23-8a37-4cef-d15a-1eb7a93fe56a",
        "colab": {
          "base_uri": "https://localhost:8080/"
        }
      },
      "outputs": [
        {
          "output_type": "stream",
          "name": "stdout",
          "text": [
            "예측한 값 : [1]\n",
            "스팸인가?, 아닌가? : 스팸\n"
          ]
        }
      ],
      "source": [
        "model_pred = multi_naive.predict(X1)\n",
        "print('예측한 값 : {}'.format(model_pred)) \n",
        "print('스팸인가?, 아닌가? : {}'.format(labels[model_pred[0]]))"
      ]
    },
    {
      "cell_type": "code",
      "source": [],
      "metadata": {
        "id": "0kIWSuhcSzHI"
      },
      "execution_count": null,
      "outputs": []
    },
    {
      "cell_type": "markdown",
      "source": [
        "### 실습"
      ],
      "metadata": {
        "id": "tqvuc1vpSzM0"
      }
    },
    {
      "cell_type": "code",
      "source": [],
      "metadata": {
        "id": "JSmkji5RSzRl"
      },
      "execution_count": null,
      "outputs": []
    },
    {
      "cell_type": "code",
      "source": [
        "import numpy as np\n",
        "import pandas as pd\n",
        "import matplotlib.pyplot as plt\n",
        "import urllib.request"
      ],
      "metadata": {
        "id": "LSYiunxj8LEE"
      },
      "execution_count": 24,
      "outputs": []
    },
    {
      "cell_type": "code",
      "source": [
        "urllib.request.urlretrieve(\"https://raw.githubusercontent.com/bab2min/corpus/master/sentiment/steam.txt\", filename=\"steam.txt\")"
      ],
      "metadata": {
        "colab": {
          "base_uri": "https://localhost:8080/"
        },
        "id": "ELwxOL4b8Co-",
        "outputId": "348d4217-e87a-444a-c094-c4889839830b"
      },
      "execution_count": 25,
      "outputs": [
        {
          "output_type": "execute_result",
          "data": {
            "text/plain": [
              "('steam.txt', <http.client.HTTPMessage at 0x7f053f1b4ca0>)"
            ]
          },
          "metadata": {},
          "execution_count": 25
        }
      ]
    },
    {
      "cell_type": "code",
      "source": [
        "total_data = pd.read_table('steam.txt', names=['label', 'reviews'])\n",
        "total_data"
      ],
      "metadata": {
        "colab": {
          "base_uri": "https://localhost:8080/",
          "height": 423
        },
        "id": "boEzV3-_8uTe",
        "outputId": "507a9a3e-f1cf-4b4d-d0ee-484fe2d50576"
      },
      "execution_count": 38,
      "outputs": [
        {
          "output_type": "execute_result",
          "data": {
            "text/plain": [
              "       label                                            reviews\n",
              "0          0                                          노래가 너무 적음\n",
              "1          0                    돌겠네 진짜. 황숙아, 어크 공장 그만 돌려라. 죽는다.\n",
              "2          1                   막노동 체험판 막노동 하는사람인데 장비를 내가 사야돼 뭐지\n",
              "3          1               차악!차악!!차악!!! 정말 이래서 왕국을 되찾을 수 있는거야??\n",
              "4          1                시간 때우기에 좋음.. 도전과제는 50시간이면 다 깰 수 있어요\n",
              "...      ...                                                ...\n",
              "99995      0                                       한글화해주면 10개산다\n",
              "99996      0                                            개쌉노잼 ㅋㅋ\n",
              "99997      0                             노잼이네요... 30분하고 지웠어요...\n",
              "99998      1  야생을 사랑하는 사람들을 위한 짧지만 여운이 남는 이야기. 영어는 그리 어렵지 않습니다.\n",
              "99999      1                     한국의 메탈레이지를 떠오르게한다 진짜 손맛으로 하는게임\n",
              "\n",
              "[100000 rows x 2 columns]"
            ],
            "text/html": [
              "\n",
              "  <div id=\"df-75e1c0fa-06f7-40e0-ac9b-8e820b3b44d3\">\n",
              "    <div class=\"colab-df-container\">\n",
              "      <div>\n",
              "<style scoped>\n",
              "    .dataframe tbody tr th:only-of-type {\n",
              "        vertical-align: middle;\n",
              "    }\n",
              "\n",
              "    .dataframe tbody tr th {\n",
              "        vertical-align: top;\n",
              "    }\n",
              "\n",
              "    .dataframe thead th {\n",
              "        text-align: right;\n",
              "    }\n",
              "</style>\n",
              "<table border=\"1\" class=\"dataframe\">\n",
              "  <thead>\n",
              "    <tr style=\"text-align: right;\">\n",
              "      <th></th>\n",
              "      <th>label</th>\n",
              "      <th>reviews</th>\n",
              "    </tr>\n",
              "  </thead>\n",
              "  <tbody>\n",
              "    <tr>\n",
              "      <th>0</th>\n",
              "      <td>0</td>\n",
              "      <td>노래가 너무 적음</td>\n",
              "    </tr>\n",
              "    <tr>\n",
              "      <th>1</th>\n",
              "      <td>0</td>\n",
              "      <td>돌겠네 진짜. 황숙아, 어크 공장 그만 돌려라. 죽는다.</td>\n",
              "    </tr>\n",
              "    <tr>\n",
              "      <th>2</th>\n",
              "      <td>1</td>\n",
              "      <td>막노동 체험판 막노동 하는사람인데 장비를 내가 사야돼 뭐지</td>\n",
              "    </tr>\n",
              "    <tr>\n",
              "      <th>3</th>\n",
              "      <td>1</td>\n",
              "      <td>차악!차악!!차악!!! 정말 이래서 왕국을 되찾을 수 있는거야??</td>\n",
              "    </tr>\n",
              "    <tr>\n",
              "      <th>4</th>\n",
              "      <td>1</td>\n",
              "      <td>시간 때우기에 좋음.. 도전과제는 50시간이면 다 깰 수 있어요</td>\n",
              "    </tr>\n",
              "    <tr>\n",
              "      <th>...</th>\n",
              "      <td>...</td>\n",
              "      <td>...</td>\n",
              "    </tr>\n",
              "    <tr>\n",
              "      <th>99995</th>\n",
              "      <td>0</td>\n",
              "      <td>한글화해주면 10개산다</td>\n",
              "    </tr>\n",
              "    <tr>\n",
              "      <th>99996</th>\n",
              "      <td>0</td>\n",
              "      <td>개쌉노잼 ㅋㅋ</td>\n",
              "    </tr>\n",
              "    <tr>\n",
              "      <th>99997</th>\n",
              "      <td>0</td>\n",
              "      <td>노잼이네요... 30분하고 지웠어요...</td>\n",
              "    </tr>\n",
              "    <tr>\n",
              "      <th>99998</th>\n",
              "      <td>1</td>\n",
              "      <td>야생을 사랑하는 사람들을 위한 짧지만 여운이 남는 이야기. 영어는 그리 어렵지 않습니다.</td>\n",
              "    </tr>\n",
              "    <tr>\n",
              "      <th>99999</th>\n",
              "      <td>1</td>\n",
              "      <td>한국의 메탈레이지를 떠오르게한다 진짜 손맛으로 하는게임</td>\n",
              "    </tr>\n",
              "  </tbody>\n",
              "</table>\n",
              "<p>100000 rows × 2 columns</p>\n",
              "</div>\n",
              "      <button class=\"colab-df-convert\" onclick=\"convertToInteractive('df-75e1c0fa-06f7-40e0-ac9b-8e820b3b44d3')\"\n",
              "              title=\"Convert this dataframe to an interactive table.\"\n",
              "              style=\"display:none;\">\n",
              "        \n",
              "  <svg xmlns=\"http://www.w3.org/2000/svg\" height=\"24px\"viewBox=\"0 0 24 24\"\n",
              "       width=\"24px\">\n",
              "    <path d=\"M0 0h24v24H0V0z\" fill=\"none\"/>\n",
              "    <path d=\"M18.56 5.44l.94 2.06.94-2.06 2.06-.94-2.06-.94-.94-2.06-.94 2.06-2.06.94zm-11 1L8.5 8.5l.94-2.06 2.06-.94-2.06-.94L8.5 2.5l-.94 2.06-2.06.94zm10 10l.94 2.06.94-2.06 2.06-.94-2.06-.94-.94-2.06-.94 2.06-2.06.94z\"/><path d=\"M17.41 7.96l-1.37-1.37c-.4-.4-.92-.59-1.43-.59-.52 0-1.04.2-1.43.59L10.3 9.45l-7.72 7.72c-.78.78-.78 2.05 0 2.83L4 21.41c.39.39.9.59 1.41.59.51 0 1.02-.2 1.41-.59l7.78-7.78 2.81-2.81c.8-.78.8-2.07 0-2.86zM5.41 20L4 18.59l7.72-7.72 1.47 1.35L5.41 20z\"/>\n",
              "  </svg>\n",
              "      </button>\n",
              "      \n",
              "  <style>\n",
              "    .colab-df-container {\n",
              "      display:flex;\n",
              "      flex-wrap:wrap;\n",
              "      gap: 12px;\n",
              "    }\n",
              "\n",
              "    .colab-df-convert {\n",
              "      background-color: #E8F0FE;\n",
              "      border: none;\n",
              "      border-radius: 50%;\n",
              "      cursor: pointer;\n",
              "      display: none;\n",
              "      fill: #1967D2;\n",
              "      height: 32px;\n",
              "      padding: 0 0 0 0;\n",
              "      width: 32px;\n",
              "    }\n",
              "\n",
              "    .colab-df-convert:hover {\n",
              "      background-color: #E2EBFA;\n",
              "      box-shadow: 0px 1px 2px rgba(60, 64, 67, 0.3), 0px 1px 3px 1px rgba(60, 64, 67, 0.15);\n",
              "      fill: #174EA6;\n",
              "    }\n",
              "\n",
              "    [theme=dark] .colab-df-convert {\n",
              "      background-color: #3B4455;\n",
              "      fill: #D2E3FC;\n",
              "    }\n",
              "\n",
              "    [theme=dark] .colab-df-convert:hover {\n",
              "      background-color: #434B5C;\n",
              "      box-shadow: 0px 1px 3px 1px rgba(0, 0, 0, 0.15);\n",
              "      filter: drop-shadow(0px 1px 2px rgba(0, 0, 0, 0.3));\n",
              "      fill: #FFFFFF;\n",
              "    }\n",
              "  </style>\n",
              "\n",
              "      <script>\n",
              "        const buttonEl =\n",
              "          document.querySelector('#df-75e1c0fa-06f7-40e0-ac9b-8e820b3b44d3 button.colab-df-convert');\n",
              "        buttonEl.style.display =\n",
              "          google.colab.kernel.accessAllowed ? 'block' : 'none';\n",
              "\n",
              "        async function convertToInteractive(key) {\n",
              "          const element = document.querySelector('#df-75e1c0fa-06f7-40e0-ac9b-8e820b3b44d3');\n",
              "          const dataTable =\n",
              "            await google.colab.kernel.invokeFunction('convertToInteractive',\n",
              "                                                     [key], {});\n",
              "          if (!dataTable) return;\n",
              "\n",
              "          const docLinkHtml = 'Like what you see? Visit the ' +\n",
              "            '<a target=\"_blank\" href=https://colab.research.google.com/notebooks/data_table.ipynb>data table notebook</a>'\n",
              "            + ' to learn more about interactive tables.';\n",
              "          element.innerHTML = '';\n",
              "          dataTable['output_type'] = 'display_data';\n",
              "          await google.colab.output.renderOutput(dataTable, element);\n",
              "          const docLink = document.createElement('div');\n",
              "          docLink.innerHTML = docLinkHtml;\n",
              "          element.appendChild(docLink);\n",
              "        }\n",
              "      </script>\n",
              "    </div>\n",
              "  </div>\n",
              "  "
            ]
          },
          "metadata": {},
          "execution_count": 38
        }
      ]
    },
    {
      "cell_type": "code",
      "source": [
        "# 적절하게 벡터화하여 나이브 베이즈 분류모델을 만드세요\n",
        "\n",
        "total_data['nive'] = total_data['reviews'].str.replace(\"[^가-힣0-9\\.\\,]\", \" \")\n",
        "total_data"
      ],
      "metadata": {
        "id": "M3MU6UU1SzWV",
        "colab": {
          "base_uri": "https://localhost:8080/",
          "height": 460
        },
        "outputId": "f93c276c-6541-47b8-987b-de90d7a431fb"
      },
      "execution_count": 48,
      "outputs": [
        {
          "output_type": "stream",
          "name": "stderr",
          "text": [
            "<ipython-input-48-5153feb29852>:3: FutureWarning: The default value of regex will change from True to False in a future version.\n",
            "  total_data['nive'] = total_data['reviews'].str.replace(\"[^가-힣0-9\\.\\,]\", \" \")\n"
          ]
        },
        {
          "output_type": "execute_result",
          "data": {
            "text/plain": [
              "       label                                            reviews  \\\n",
              "0          0                                          노래가 너무 적음   \n",
              "1          0                    돌겠네 진짜. 황숙아, 어크 공장 그만 돌려라. 죽는다.   \n",
              "2          1                   막노동 체험판 막노동 하는사람인데 장비를 내가 사야돼 뭐지   \n",
              "3          1               차악!차악!!차악!!! 정말 이래서 왕국을 되찾을 수 있는거야??   \n",
              "4          1                시간 때우기에 좋음.. 도전과제는 50시간이면 다 깰 수 있어요   \n",
              "...      ...                                                ...   \n",
              "99995      0                                       한글화해주면 10개산다   \n",
              "99996      0                                            개쌉노잼 ㅋㅋ   \n",
              "99997      0                             노잼이네요... 30분하고 지웠어요...   \n",
              "99998      1  야생을 사랑하는 사람들을 위한 짧지만 여운이 남는 이야기. 영어는 그리 어렵지 않습니다.   \n",
              "99999      1                     한국의 메탈레이지를 떠오르게한다 진짜 손맛으로 하는게임   \n",
              "\n",
              "                                                    nive  \n",
              "0                                              노래가 너무 적음  \n",
              "1                        돌겠네 진짜. 황숙아, 어크 공장 그만 돌려라. 죽는다.  \n",
              "2                       막노동 체험판 막노동 하는사람인데 장비를 내가 사야돼 뭐지  \n",
              "3                   차악 차악  차악    정말 이래서 왕국을 되찾을 수 있는거야    \n",
              "4                    시간 때우기에 좋음.. 도전과제는 50시간이면 다 깰 수 있어요  \n",
              "...                                                  ...  \n",
              "99995                                       한글화해주면 10개산다  \n",
              "99996                                            개쌉노잼     \n",
              "99997                             노잼이네요... 30분하고 지웠어요...  \n",
              "99998  야생을 사랑하는 사람들을 위한 짧지만 여운이 남는 이야기. 영어는 그리 어렵지 않습니다.  \n",
              "99999                     한국의 메탈레이지를 떠오르게한다 진짜 손맛으로 하는게임  \n",
              "\n",
              "[100000 rows x 3 columns]"
            ],
            "text/html": [
              "\n",
              "  <div id=\"df-2185c3e1-ca14-4e9b-9b36-b0984c5187f1\">\n",
              "    <div class=\"colab-df-container\">\n",
              "      <div>\n",
              "<style scoped>\n",
              "    .dataframe tbody tr th:only-of-type {\n",
              "        vertical-align: middle;\n",
              "    }\n",
              "\n",
              "    .dataframe tbody tr th {\n",
              "        vertical-align: top;\n",
              "    }\n",
              "\n",
              "    .dataframe thead th {\n",
              "        text-align: right;\n",
              "    }\n",
              "</style>\n",
              "<table border=\"1\" class=\"dataframe\">\n",
              "  <thead>\n",
              "    <tr style=\"text-align: right;\">\n",
              "      <th></th>\n",
              "      <th>label</th>\n",
              "      <th>reviews</th>\n",
              "      <th>nive</th>\n",
              "    </tr>\n",
              "  </thead>\n",
              "  <tbody>\n",
              "    <tr>\n",
              "      <th>0</th>\n",
              "      <td>0</td>\n",
              "      <td>노래가 너무 적음</td>\n",
              "      <td>노래가 너무 적음</td>\n",
              "    </tr>\n",
              "    <tr>\n",
              "      <th>1</th>\n",
              "      <td>0</td>\n",
              "      <td>돌겠네 진짜. 황숙아, 어크 공장 그만 돌려라. 죽는다.</td>\n",
              "      <td>돌겠네 진짜. 황숙아, 어크 공장 그만 돌려라. 죽는다.</td>\n",
              "    </tr>\n",
              "    <tr>\n",
              "      <th>2</th>\n",
              "      <td>1</td>\n",
              "      <td>막노동 체험판 막노동 하는사람인데 장비를 내가 사야돼 뭐지</td>\n",
              "      <td>막노동 체험판 막노동 하는사람인데 장비를 내가 사야돼 뭐지</td>\n",
              "    </tr>\n",
              "    <tr>\n",
              "      <th>3</th>\n",
              "      <td>1</td>\n",
              "      <td>차악!차악!!차악!!! 정말 이래서 왕국을 되찾을 수 있는거야??</td>\n",
              "      <td>차악 차악  차악    정말 이래서 왕국을 되찾을 수 있는거야</td>\n",
              "    </tr>\n",
              "    <tr>\n",
              "      <th>4</th>\n",
              "      <td>1</td>\n",
              "      <td>시간 때우기에 좋음.. 도전과제는 50시간이면 다 깰 수 있어요</td>\n",
              "      <td>시간 때우기에 좋음.. 도전과제는 50시간이면 다 깰 수 있어요</td>\n",
              "    </tr>\n",
              "    <tr>\n",
              "      <th>...</th>\n",
              "      <td>...</td>\n",
              "      <td>...</td>\n",
              "      <td>...</td>\n",
              "    </tr>\n",
              "    <tr>\n",
              "      <th>99995</th>\n",
              "      <td>0</td>\n",
              "      <td>한글화해주면 10개산다</td>\n",
              "      <td>한글화해주면 10개산다</td>\n",
              "    </tr>\n",
              "    <tr>\n",
              "      <th>99996</th>\n",
              "      <td>0</td>\n",
              "      <td>개쌉노잼 ㅋㅋ</td>\n",
              "      <td>개쌉노잼</td>\n",
              "    </tr>\n",
              "    <tr>\n",
              "      <th>99997</th>\n",
              "      <td>0</td>\n",
              "      <td>노잼이네요... 30분하고 지웠어요...</td>\n",
              "      <td>노잼이네요... 30분하고 지웠어요...</td>\n",
              "    </tr>\n",
              "    <tr>\n",
              "      <th>99998</th>\n",
              "      <td>1</td>\n",
              "      <td>야생을 사랑하는 사람들을 위한 짧지만 여운이 남는 이야기. 영어는 그리 어렵지 않습니다.</td>\n",
              "      <td>야생을 사랑하는 사람들을 위한 짧지만 여운이 남는 이야기. 영어는 그리 어렵지 않습니다.</td>\n",
              "    </tr>\n",
              "    <tr>\n",
              "      <th>99999</th>\n",
              "      <td>1</td>\n",
              "      <td>한국의 메탈레이지를 떠오르게한다 진짜 손맛으로 하는게임</td>\n",
              "      <td>한국의 메탈레이지를 떠오르게한다 진짜 손맛으로 하는게임</td>\n",
              "    </tr>\n",
              "  </tbody>\n",
              "</table>\n",
              "<p>100000 rows × 3 columns</p>\n",
              "</div>\n",
              "      <button class=\"colab-df-convert\" onclick=\"convertToInteractive('df-2185c3e1-ca14-4e9b-9b36-b0984c5187f1')\"\n",
              "              title=\"Convert this dataframe to an interactive table.\"\n",
              "              style=\"display:none;\">\n",
              "        \n",
              "  <svg xmlns=\"http://www.w3.org/2000/svg\" height=\"24px\"viewBox=\"0 0 24 24\"\n",
              "       width=\"24px\">\n",
              "    <path d=\"M0 0h24v24H0V0z\" fill=\"none\"/>\n",
              "    <path d=\"M18.56 5.44l.94 2.06.94-2.06 2.06-.94-2.06-.94-.94-2.06-.94 2.06-2.06.94zm-11 1L8.5 8.5l.94-2.06 2.06-.94-2.06-.94L8.5 2.5l-.94 2.06-2.06.94zm10 10l.94 2.06.94-2.06 2.06-.94-2.06-.94-.94-2.06-.94 2.06-2.06.94z\"/><path d=\"M17.41 7.96l-1.37-1.37c-.4-.4-.92-.59-1.43-.59-.52 0-1.04.2-1.43.59L10.3 9.45l-7.72 7.72c-.78.78-.78 2.05 0 2.83L4 21.41c.39.39.9.59 1.41.59.51 0 1.02-.2 1.41-.59l7.78-7.78 2.81-2.81c.8-.78.8-2.07 0-2.86zM5.41 20L4 18.59l7.72-7.72 1.47 1.35L5.41 20z\"/>\n",
              "  </svg>\n",
              "      </button>\n",
              "      \n",
              "  <style>\n",
              "    .colab-df-container {\n",
              "      display:flex;\n",
              "      flex-wrap:wrap;\n",
              "      gap: 12px;\n",
              "    }\n",
              "\n",
              "    .colab-df-convert {\n",
              "      background-color: #E8F0FE;\n",
              "      border: none;\n",
              "      border-radius: 50%;\n",
              "      cursor: pointer;\n",
              "      display: none;\n",
              "      fill: #1967D2;\n",
              "      height: 32px;\n",
              "      padding: 0 0 0 0;\n",
              "      width: 32px;\n",
              "    }\n",
              "\n",
              "    .colab-df-convert:hover {\n",
              "      background-color: #E2EBFA;\n",
              "      box-shadow: 0px 1px 2px rgba(60, 64, 67, 0.3), 0px 1px 3px 1px rgba(60, 64, 67, 0.15);\n",
              "      fill: #174EA6;\n",
              "    }\n",
              "\n",
              "    [theme=dark] .colab-df-convert {\n",
              "      background-color: #3B4455;\n",
              "      fill: #D2E3FC;\n",
              "    }\n",
              "\n",
              "    [theme=dark] .colab-df-convert:hover {\n",
              "      background-color: #434B5C;\n",
              "      box-shadow: 0px 1px 3px 1px rgba(0, 0, 0, 0.15);\n",
              "      filter: drop-shadow(0px 1px 2px rgba(0, 0, 0, 0.3));\n",
              "      fill: #FFFFFF;\n",
              "    }\n",
              "  </style>\n",
              "\n",
              "      <script>\n",
              "        const buttonEl =\n",
              "          document.querySelector('#df-2185c3e1-ca14-4e9b-9b36-b0984c5187f1 button.colab-df-convert');\n",
              "        buttonEl.style.display =\n",
              "          google.colab.kernel.accessAllowed ? 'block' : 'none';\n",
              "\n",
              "        async function convertToInteractive(key) {\n",
              "          const element = document.querySelector('#df-2185c3e1-ca14-4e9b-9b36-b0984c5187f1');\n",
              "          const dataTable =\n",
              "            await google.colab.kernel.invokeFunction('convertToInteractive',\n",
              "                                                     [key], {});\n",
              "          if (!dataTable) return;\n",
              "\n",
              "          const docLinkHtml = 'Like what you see? Visit the ' +\n",
              "            '<a target=\"_blank\" href=https://colab.research.google.com/notebooks/data_table.ipynb>data table notebook</a>'\n",
              "            + ' to learn more about interactive tables.';\n",
              "          element.innerHTML = '';\n",
              "          dataTable['output_type'] = 'display_data';\n",
              "          await google.colab.output.renderOutput(dataTable, element);\n",
              "          const docLink = document.createElement('div');\n",
              "          docLink.innerHTML = docLinkHtml;\n",
              "          element.appendChild(docLink);\n",
              "        }\n",
              "      </script>\n",
              "    </div>\n",
              "  </div>\n",
              "  "
            ]
          },
          "metadata": {},
          "execution_count": 48
        }
      ]
    },
    {
      "cell_type": "code",
      "source": [
        "num = 100\n",
        "test_data = total_data.iloc[:num]\n",
        "test_data"
      ],
      "metadata": {
        "colab": {
          "base_uri": "https://localhost:8080/",
          "height": 423
        },
        "id": "NrLQ0PinnSCt",
        "outputId": "18e610d4-a475-4c63-c39d-7a4f36b5acf4"
      },
      "execution_count": 49,
      "outputs": [
        {
          "output_type": "execute_result",
          "data": {
            "text/plain": [
              "    label                                            reviews  \\\n",
              "0       0                                          노래가 너무 적음   \n",
              "1       0                    돌겠네 진짜. 황숙아, 어크 공장 그만 돌려라. 죽는다.   \n",
              "2       1                   막노동 체험판 막노동 하는사람인데 장비를 내가 사야돼 뭐지   \n",
              "3       1               차악!차악!!차악!!! 정말 이래서 왕국을 되찾을 수 있는거야??   \n",
              "4       1                시간 때우기에 좋음.. 도전과제는 50시간이면 다 깰 수 있어요   \n",
              "..    ...                                                ...   \n",
              "95      1  예전 테마병원을 생각하고 구입했는데.. 와... 잠깐 한다고 했는데... 오후 6시...   \n",
              "96      0       사이버 멀미를 느끼고 싶다면 추천 게임 여러가지 해봤지만 이 게임이 처음이다..   \n",
              "97      1     진짜 ㄹㅇ 꿀잼 게임 이거 하다 보면 시간가는줄 모름 모드까지 깔아서 하면 더 꿀잼   \n",
              "98      1  찬란히 빛나는 남자의 상징 그 길고 짧은 여정 ..은 개뿔이... 그냥 바바리맨의 ...   \n",
              "99      1  재밌음. 버그도 없어지고 중세시대 RPG좋아한다면 한번쯤 해볼만함. 처음에 나올때 ...   \n",
              "\n",
              "                                                 nive  \n",
              "0                                           노래가 너무 적음  \n",
              "1                     돌겠네 진짜. 황숙아, 어크 공장 그만 돌려라. 죽는다.  \n",
              "2                    막노동 체험판 막노동 하는사람인데 장비를 내가 사야돼 뭐지  \n",
              "3                차악 차악  차악    정말 이래서 왕국을 되찾을 수 있는거야    \n",
              "4                 시간 때우기에 좋음.. 도전과제는 50시간이면 다 깰 수 있어요  \n",
              "..                                                ...  \n",
              "95  예전 테마병원을 생각하고 구입했는데.. 와... 잠깐 한다고 했는데... 오후 6시...  \n",
              "96       사이버 멀미를 느끼고 싶다면 추천 게임 여러가지 해봤지만 이 게임이 처음이다..  \n",
              "97     진짜    꿀잼 게임 이거 하다 보면 시간가는줄 모름 모드까지 깔아서 하면 더 꿀잼  \n",
              "98  찬란히 빛나는 남자의 상징 그 길고 짧은 여정 ..은 개뿔이... 그냥 바바리맨의 ...  \n",
              "99  재밌음. 버그도 없어지고 중세시대    좋아한다면 한번쯤 해볼만함. 처음에 나올때 ...  \n",
              "\n",
              "[100 rows x 3 columns]"
            ],
            "text/html": [
              "\n",
              "  <div id=\"df-2447e767-254a-43ce-b237-7e95a4d68d54\">\n",
              "    <div class=\"colab-df-container\">\n",
              "      <div>\n",
              "<style scoped>\n",
              "    .dataframe tbody tr th:only-of-type {\n",
              "        vertical-align: middle;\n",
              "    }\n",
              "\n",
              "    .dataframe tbody tr th {\n",
              "        vertical-align: top;\n",
              "    }\n",
              "\n",
              "    .dataframe thead th {\n",
              "        text-align: right;\n",
              "    }\n",
              "</style>\n",
              "<table border=\"1\" class=\"dataframe\">\n",
              "  <thead>\n",
              "    <tr style=\"text-align: right;\">\n",
              "      <th></th>\n",
              "      <th>label</th>\n",
              "      <th>reviews</th>\n",
              "      <th>nive</th>\n",
              "    </tr>\n",
              "  </thead>\n",
              "  <tbody>\n",
              "    <tr>\n",
              "      <th>0</th>\n",
              "      <td>0</td>\n",
              "      <td>노래가 너무 적음</td>\n",
              "      <td>노래가 너무 적음</td>\n",
              "    </tr>\n",
              "    <tr>\n",
              "      <th>1</th>\n",
              "      <td>0</td>\n",
              "      <td>돌겠네 진짜. 황숙아, 어크 공장 그만 돌려라. 죽는다.</td>\n",
              "      <td>돌겠네 진짜. 황숙아, 어크 공장 그만 돌려라. 죽는다.</td>\n",
              "    </tr>\n",
              "    <tr>\n",
              "      <th>2</th>\n",
              "      <td>1</td>\n",
              "      <td>막노동 체험판 막노동 하는사람인데 장비를 내가 사야돼 뭐지</td>\n",
              "      <td>막노동 체험판 막노동 하는사람인데 장비를 내가 사야돼 뭐지</td>\n",
              "    </tr>\n",
              "    <tr>\n",
              "      <th>3</th>\n",
              "      <td>1</td>\n",
              "      <td>차악!차악!!차악!!! 정말 이래서 왕국을 되찾을 수 있는거야??</td>\n",
              "      <td>차악 차악  차악    정말 이래서 왕국을 되찾을 수 있는거야</td>\n",
              "    </tr>\n",
              "    <tr>\n",
              "      <th>4</th>\n",
              "      <td>1</td>\n",
              "      <td>시간 때우기에 좋음.. 도전과제는 50시간이면 다 깰 수 있어요</td>\n",
              "      <td>시간 때우기에 좋음.. 도전과제는 50시간이면 다 깰 수 있어요</td>\n",
              "    </tr>\n",
              "    <tr>\n",
              "      <th>...</th>\n",
              "      <td>...</td>\n",
              "      <td>...</td>\n",
              "      <td>...</td>\n",
              "    </tr>\n",
              "    <tr>\n",
              "      <th>95</th>\n",
              "      <td>1</td>\n",
              "      <td>예전 테마병원을 생각하고 구입했는데.. 와... 잠깐 한다고 했는데... 오후 6시...</td>\n",
              "      <td>예전 테마병원을 생각하고 구입했는데.. 와... 잠깐 한다고 했는데... 오후 6시...</td>\n",
              "    </tr>\n",
              "    <tr>\n",
              "      <th>96</th>\n",
              "      <td>0</td>\n",
              "      <td>사이버 멀미를 느끼고 싶다면 추천 게임 여러가지 해봤지만 이 게임이 처음이다..</td>\n",
              "      <td>사이버 멀미를 느끼고 싶다면 추천 게임 여러가지 해봤지만 이 게임이 처음이다..</td>\n",
              "    </tr>\n",
              "    <tr>\n",
              "      <th>97</th>\n",
              "      <td>1</td>\n",
              "      <td>진짜 ㄹㅇ 꿀잼 게임 이거 하다 보면 시간가는줄 모름 모드까지 깔아서 하면 더 꿀잼</td>\n",
              "      <td>진짜    꿀잼 게임 이거 하다 보면 시간가는줄 모름 모드까지 깔아서 하면 더 꿀잼</td>\n",
              "    </tr>\n",
              "    <tr>\n",
              "      <th>98</th>\n",
              "      <td>1</td>\n",
              "      <td>찬란히 빛나는 남자의 상징 그 길고 짧은 여정 ..은 개뿔이... 그냥 바바리맨의 ...</td>\n",
              "      <td>찬란히 빛나는 남자의 상징 그 길고 짧은 여정 ..은 개뿔이... 그냥 바바리맨의 ...</td>\n",
              "    </tr>\n",
              "    <tr>\n",
              "      <th>99</th>\n",
              "      <td>1</td>\n",
              "      <td>재밌음. 버그도 없어지고 중세시대 RPG좋아한다면 한번쯤 해볼만함. 처음에 나올때 ...</td>\n",
              "      <td>재밌음. 버그도 없어지고 중세시대    좋아한다면 한번쯤 해볼만함. 처음에 나올때 ...</td>\n",
              "    </tr>\n",
              "  </tbody>\n",
              "</table>\n",
              "<p>100 rows × 3 columns</p>\n",
              "</div>\n",
              "      <button class=\"colab-df-convert\" onclick=\"convertToInteractive('df-2447e767-254a-43ce-b237-7e95a4d68d54')\"\n",
              "              title=\"Convert this dataframe to an interactive table.\"\n",
              "              style=\"display:none;\">\n",
              "        \n",
              "  <svg xmlns=\"http://www.w3.org/2000/svg\" height=\"24px\"viewBox=\"0 0 24 24\"\n",
              "       width=\"24px\">\n",
              "    <path d=\"M0 0h24v24H0V0z\" fill=\"none\"/>\n",
              "    <path d=\"M18.56 5.44l.94 2.06.94-2.06 2.06-.94-2.06-.94-.94-2.06-.94 2.06-2.06.94zm-11 1L8.5 8.5l.94-2.06 2.06-.94-2.06-.94L8.5 2.5l-.94 2.06-2.06.94zm10 10l.94 2.06.94-2.06 2.06-.94-2.06-.94-.94-2.06-.94 2.06-2.06.94z\"/><path d=\"M17.41 7.96l-1.37-1.37c-.4-.4-.92-.59-1.43-.59-.52 0-1.04.2-1.43.59L10.3 9.45l-7.72 7.72c-.78.78-.78 2.05 0 2.83L4 21.41c.39.39.9.59 1.41.59.51 0 1.02-.2 1.41-.59l7.78-7.78 2.81-2.81c.8-.78.8-2.07 0-2.86zM5.41 20L4 18.59l7.72-7.72 1.47 1.35L5.41 20z\"/>\n",
              "  </svg>\n",
              "      </button>\n",
              "      \n",
              "  <style>\n",
              "    .colab-df-container {\n",
              "      display:flex;\n",
              "      flex-wrap:wrap;\n",
              "      gap: 12px;\n",
              "    }\n",
              "\n",
              "    .colab-df-convert {\n",
              "      background-color: #E8F0FE;\n",
              "      border: none;\n",
              "      border-radius: 50%;\n",
              "      cursor: pointer;\n",
              "      display: none;\n",
              "      fill: #1967D2;\n",
              "      height: 32px;\n",
              "      padding: 0 0 0 0;\n",
              "      width: 32px;\n",
              "    }\n",
              "\n",
              "    .colab-df-convert:hover {\n",
              "      background-color: #E2EBFA;\n",
              "      box-shadow: 0px 1px 2px rgba(60, 64, 67, 0.3), 0px 1px 3px 1px rgba(60, 64, 67, 0.15);\n",
              "      fill: #174EA6;\n",
              "    }\n",
              "\n",
              "    [theme=dark] .colab-df-convert {\n",
              "      background-color: #3B4455;\n",
              "      fill: #D2E3FC;\n",
              "    }\n",
              "\n",
              "    [theme=dark] .colab-df-convert:hover {\n",
              "      background-color: #434B5C;\n",
              "      box-shadow: 0px 1px 3px 1px rgba(0, 0, 0, 0.15);\n",
              "      filter: drop-shadow(0px 1px 2px rgba(0, 0, 0, 0.3));\n",
              "      fill: #FFFFFF;\n",
              "    }\n",
              "  </style>\n",
              "\n",
              "      <script>\n",
              "        const buttonEl =\n",
              "          document.querySelector('#df-2447e767-254a-43ce-b237-7e95a4d68d54 button.colab-df-convert');\n",
              "        buttonEl.style.display =\n",
              "          google.colab.kernel.accessAllowed ? 'block' : 'none';\n",
              "\n",
              "        async function convertToInteractive(key) {\n",
              "          const element = document.querySelector('#df-2447e767-254a-43ce-b237-7e95a4d68d54');\n",
              "          const dataTable =\n",
              "            await google.colab.kernel.invokeFunction('convertToInteractive',\n",
              "                                                     [key], {});\n",
              "          if (!dataTable) return;\n",
              "\n",
              "          const docLinkHtml = 'Like what you see? Visit the ' +\n",
              "            '<a target=\"_blank\" href=https://colab.research.google.com/notebooks/data_table.ipynb>data table notebook</a>'\n",
              "            + ' to learn more about interactive tables.';\n",
              "          element.innerHTML = '';\n",
              "          dataTable['output_type'] = 'display_data';\n",
              "          await google.colab.output.renderOutput(dataTable, element);\n",
              "          const docLink = document.createElement('div');\n",
              "          docLink.innerHTML = docLinkHtml;\n",
              "          element.appendChild(docLink);\n",
              "        }\n",
              "      </script>\n",
              "    </div>\n",
              "  </div>\n",
              "  "
            ]
          },
          "metadata": {},
          "execution_count": 49
        }
      ]
    },
    {
      "cell_type": "code",
      "source": [
        "# test_data['nive_1'] = test_data['nive'].apply(lambda x:Okt().nouns(x))\n",
        "# test_data['nive_1']"
      ],
      "metadata": {
        "id": "7yeNfPRrot7U"
      },
      "execution_count": null,
      "outputs": []
    },
    {
      "cell_type": "code",
      "source": [
        "a_data = list(test_data['nive'])\n",
        "a_data"
      ],
      "metadata": {
        "id": "fnQ1nVl1oxoa"
      },
      "execution_count": null,
      "outputs": []
    },
    {
      "cell_type": "code",
      "source": [
        "for i, d in enumerate(a_data):\n",
        "    n_words = Okt().nouns(d) # 명사만 추출\n",
        "    a_data[i] = ' '.join(n_words)"
      ],
      "metadata": {
        "id": "giBz4zlhn2Gl"
      },
      "execution_count": 87,
      "outputs": []
    },
    {
      "cell_type": "code",
      "source": [
        "a_data"
      ],
      "metadata": {
        "id": "OiSswBazl9b8"
      },
      "execution_count": null,
      "outputs": []
    },
    {
      "cell_type": "code",
      "execution_count": 89,
      "metadata": {
        "outputId": "c3d107f2-65d5-4d3b-e937-981bbe1f561c",
        "colab": {
          "base_uri": "https://localhost:8080/"
        },
        "id": "u4U6LGtXnNp6"
      },
      "outputs": [
        {
          "output_type": "stream",
          "name": "stdout",
          "text": [
            "(100, 376)\n"
          ]
        }
      ],
      "source": [
        "vectorizer = CountVectorizer() # CountVectorizer: 각 문서별로 몇 번 등장했는지 세준다, 다항분포에서 잘 사용\n",
        "vectorizer.fit(a_data)\n",
        "b_data = vectorizer.transform(a_data)\n",
        "print(b_data.shape)"
      ]
    },
    {
      "cell_type": "code",
      "source": [
        "y_data = test_data['label']\n",
        "y_data"
      ],
      "metadata": {
        "colab": {
          "base_uri": "https://localhost:8080/"
        },
        "id": "buX2USz5nNk-",
        "outputId": "c47366dd-ba43-4660-ccef-1a0261ba9d63"
      },
      "execution_count": 92,
      "outputs": [
        {
          "output_type": "execute_result",
          "data": {
            "text/plain": [
              "0     0\n",
              "1     0\n",
              "2     1\n",
              "3     1\n",
              "4     1\n",
              "     ..\n",
              "95    1\n",
              "96    0\n",
              "97    1\n",
              "98    1\n",
              "99    1\n",
              "Name: label, Length: 100, dtype: int64"
            ]
          },
          "metadata": {},
          "execution_count": 92
        }
      ]
    },
    {
      "cell_type": "code",
      "execution_count": 107,
      "metadata": {
        "outputId": "833fae83-267e-4cb8-ff6f-5dd5f7069f6d",
        "colab": {
          "base_uri": "https://localhost:8080/"
        },
        "id": "-C3B1PPKnNp6"
      },
      "outputs": [
        {
          "output_type": "stream",
          "name": "stdout",
          "text": [
            "train score : 0.9857142857142858\n",
            "test score : 0.7\n"
          ]
        }
      ],
      "source": [
        "# 분류기의 성능 판단을 위해 train set 분리\n",
        "X_train, X_test, y_train, y_test = train_test_split(b_data, y_data, \n",
        "                                                    test_size=0.3, shuffle = True, \n",
        "                                                    stratify = y_data)\n",
        "\n",
        "multi_naive = MultinomialNB().fit(X_train, y_train)\n",
        "\n",
        "print('train score : {}'.format(multi_naive.score(X_train, y_train)))\n",
        "print('test score : {}'.format(multi_naive.score(X_test, y_test)))"
      ]
    },
    {
      "cell_type": "code",
      "execution_count": 94,
      "metadata": {
        "outputId": "809203e7-bfd6-427c-acf7-e8265f46fe14",
        "colab": {
          "base_uri": "https://localhost:8080/"
        },
        "id": "pt2KKnMGnNp6"
      },
      "outputs": [
        {
          "output_type": "execute_result",
          "data": {
            "text/plain": [
              "array([0, 1])"
            ]
          },
          "metadata": {},
          "execution_count": 94
        }
      ],
      "source": [
        "multi_naive.classes_ # 어떠한 클래스가 있는가"
      ]
    },
    {
      "cell_type": "code",
      "execution_count": 95,
      "metadata": {
        "outputId": "c0dda861-de44-49f1-ee06-f10c8bc22eb9",
        "colab": {
          "base_uri": "https://localhost:8080/"
        },
        "id": "8_BNNZA0nNp6"
      },
      "outputs": [
        {
          "output_type": "execute_result",
          "data": {
            "text/plain": [
              "array([29., 41.])"
            ]
          },
          "metadata": {},
          "execution_count": 95
        }
      ],
      "source": [
        "multi_naive.class_count_ # 각 클래스 별로 등장 개수"
      ]
    },
    {
      "cell_type": "code",
      "execution_count": 96,
      "metadata": {
        "outputId": "5a267f28-0a0a-4029-b6e3-6853e8d7deb4",
        "colab": {
          "base_uri": "https://localhost:8080/"
        },
        "id": "DS0fm6hunNp7"
      },
      "outputs": [
        {
          "output_type": "execute_result",
          "data": {
            "text/plain": [
              "array([-0.88119941, -0.53492318])"
            ]
          },
          "metadata": {},
          "execution_count": 96
        }
      ],
      "source": [
        "multi_naive.class_log_prior_\n",
        "# 사전 확률 분포 로그 값 (베르누이와 다항 분포에서만 사용.)\n",
        "# = 스팸인지 정상인지의 로그 값"
      ]
    },
    {
      "cell_type": "code",
      "source": [
        "from sklearn.linear_model import LogisticRegression \n",
        "lg = LogisticRegression().fit(X_train, y_train)\n",
        "\n",
        "print('train score : {}'.format(lg.score(X_train, y_train)))\n",
        "print('test score : {}'.format(lg.score(X_test, y_test)))"
      ],
      "metadata": {
        "colab": {
          "base_uri": "https://localhost:8080/"
        },
        "id": "fJwwLnKHtkJ_",
        "outputId": "a74701b6-8e90-4281-96f7-dad12ddffcfd"
      },
      "execution_count": 108,
      "outputs": [
        {
          "output_type": "stream",
          "name": "stdout",
          "text": [
            "train score : 0.9857142857142858\n",
            "test score : 0.6\n"
          ]
        }
      ]
    },
    {
      "cell_type": "code",
      "source": [
        "multi_logistic = LogisticRegression(multi_class='ovr', random_state=0)\n",
        "multi_logistic.fit(X_train, y_train)\n",
        "\n",
        "print('train score : {}'.format(multi_logistic.score(X_train, y_train)))\n",
        "print('test score : {}'.format(multi_logistic.score(X_test, y_test)))"
      ],
      "metadata": {
        "colab": {
          "base_uri": "https://localhost:8080/"
        },
        "id": "LcqbFS3Kt3ct",
        "outputId": "53ea58df-ec4a-48df-ed76-4513d49557eb"
      },
      "execution_count": 109,
      "outputs": [
        {
          "output_type": "stream",
          "name": "stdout",
          "text": [
            "train score : 0.9857142857142858\n",
            "test score : 0.6\n"
          ]
        }
      ]
    },
    {
      "cell_type": "code",
      "source": [
        "softmax_model = LogisticRegression(multi_class = 'multinomial', solver = 'lbfgs', random_state=0)\n",
        "softmax_model.fit(X_train, y_train)\n",
        "\n",
        "print('train score : {}'.format(softmax_model.score(X_train, y_train)))\n",
        "print('test score : {}'.format(softmax_model.score(X_test, y_test)))"
      ],
      "metadata": {
        "colab": {
          "base_uri": "https://localhost:8080/"
        },
        "id": "y8ZYtUBBt_o9",
        "outputId": "b694a38f-a9a9-4af9-baf3-0ba8c9151251"
      },
      "execution_count": 110,
      "outputs": [
        {
          "output_type": "stream",
          "name": "stdout",
          "text": [
            "train score : 0.9857142857142858\n",
            "test score : 0.6666666666666666\n"
          ]
        }
      ]
    },
    {
      "cell_type": "code",
      "source": [
        "from sklearn.svm import SVC\n",
        "linear_svc = SVC(kernel = 'linear', C = 1).fit(X_train, y_train) \n",
        "\n",
        "print('train score : {}'.format(linear_svc.score(X_train, y_train)))\n",
        "print('test score : {}'.format(linear_svc.score(X_test, y_test)))"
      ],
      "metadata": {
        "colab": {
          "base_uri": "https://localhost:8080/"
        },
        "id": "xJ-JYSRvuWiG",
        "outputId": "e9e4b524-dc2d-4f90-a8e9-111f377e5f0a"
      },
      "execution_count": 111,
      "outputs": [
        {
          "output_type": "stream",
          "name": "stdout",
          "text": [
            "train score : 0.9571428571428572\n",
            "test score : 0.5\n"
          ]
        }
      ]
    },
    {
      "cell_type": "code",
      "source": [
        "from sklearn.svm import LinearSVC\n",
        "linear_svc2 = LinearSVC(C = 1, loss ='hinge').fit(X_train, y_train)\n",
        "\n",
        "print('train score : {}'.format(linear_svc2.score(X_train, y_train)))\n",
        "print('test score : {}'.format(linear_svc2.score(X_test, y_test)))"
      ],
      "metadata": {
        "colab": {
          "base_uri": "https://localhost:8080/"
        },
        "id": "ch6e18A3umxo",
        "outputId": "391a655a-fd83-4c8a-9f84-e680b3e08d15"
      },
      "execution_count": 112,
      "outputs": [
        {
          "output_type": "stream",
          "name": "stdout",
          "text": [
            "train score : 0.9571428571428572\n",
            "test score : 0.5\n"
          ]
        }
      ]
    },
    {
      "cell_type": "code",
      "source": [
        "from sklearn.ensemble import VotingClassifier\n",
        "lr_clf = LogisticRegression(solver='liblinear')\n",
        "svc_clf = SVC(probability=True)\n",
        "vo_clf = VotingClassifier( estimators=[('LR',lr_clf),('SVC',svc_clf)] , voting='hard' )\n",
        "vo_clf.fit(X_train , y_train)\n",
        "\n",
        "print('train score : {}'.format(vo_clf.score(X_train, y_train)))\n",
        "print('test score : {}'.format(vo_clf.score(X_test, y_test)))"
      ],
      "metadata": {
        "colab": {
          "base_uri": "https://localhost:8080/"
        },
        "id": "Sh_3jt2eu-rp",
        "outputId": "b2705f23-4a4f-4c7b-9073-513d9eab1699"
      },
      "execution_count": 113,
      "outputs": [
        {
          "output_type": "stream",
          "name": "stdout",
          "text": [
            "train score : 0.9857142857142858\n",
            "test score : 0.6666666666666666\n"
          ]
        }
      ]
    },
    {
      "cell_type": "code",
      "source": [
        "from sklearn.ensemble import RandomForestClassifier\n",
        "forest = RandomForestClassifier(100, max_depth = 1, max_features = 2)\n",
        "forest.fit(X_train, y_train)\n",
        "\n",
        "print('train score : {}'.format(vo_clf.score(X_train, y_train)))\n",
        "print('test score : {}'.format(vo_clf.score(X_test, y_test)))"
      ],
      "metadata": {
        "colab": {
          "base_uri": "https://localhost:8080/"
        },
        "id": "Ppy7UpM2vct9",
        "outputId": "e85d405c-e8b0-4044-f2df-2ec7c65d65c8"
      },
      "execution_count": 114,
      "outputs": [
        {
          "output_type": "stream",
          "name": "stdout",
          "text": [
            "train score : 0.9857142857142858\n",
            "test score : 0.6666666666666666\n"
          ]
        }
      ]
    }
  ]
}
