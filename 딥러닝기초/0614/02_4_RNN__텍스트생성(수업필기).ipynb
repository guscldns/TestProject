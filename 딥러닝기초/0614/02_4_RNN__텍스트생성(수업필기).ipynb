{
  "nbformat": 4,
  "nbformat_minor": 0,
  "metadata": {
    "colab": {
      "provenance": [],
      "include_colab_link": true
    },
    "kernelspec": {
      "name": "python3",
      "display_name": "Python 3"
    },
    "language_info": {
      "name": "python"
    }
  },
  "cells": [
    {
      "cell_type": "markdown",
      "metadata": {
        "id": "view-in-github",
        "colab_type": "text"
      },
      "source": [
        "<a href=\"https://colab.research.google.com/github/guscldns/TestProject/blob/main/0614/02_4_RNN__%ED%85%8D%EC%8A%A4%ED%8A%B8%EC%83%9D%EC%84%B1(%EC%88%98%EC%97%85%ED%95%84%EA%B8%B0).ipynb\" target=\"_parent\"><img src=\"https://colab.research.google.com/assets/colab-badge.svg\" alt=\"Open In Colab\"/></a>"
      ]
    },
    {
      "cell_type": "code",
      "source": [
        "!pip install konlpy"
      ],
      "metadata": {
        "colab": {
          "base_uri": "https://localhost:8080/"
        },
        "id": "OKEPRhZcN9ZS",
        "outputId": "f8b98f0b-9738-432c-c56e-6a81d78abb38"
      },
      "execution_count": null,
      "outputs": [
        {
          "output_type": "stream",
          "name": "stdout",
          "text": [
            "Looking in indexes: https://pypi.org/simple, https://us-python.pkg.dev/colab-wheels/public/simple/\n",
            "Collecting konlpy\n",
            "  Downloading konlpy-0.6.0-py2.py3-none-any.whl (19.4 MB)\n",
            "\u001b[2K     \u001b[90m━━━━━━━━━━━━━━━━━━━━━━━━━━━━━━━━━━━━━━━━\u001b[0m \u001b[32m19.4/19.4 MB\u001b[0m \u001b[31m36.4 MB/s\u001b[0m eta \u001b[36m0:00:00\u001b[0m\n",
            "\u001b[?25hCollecting JPype1>=0.7.0 (from konlpy)\n",
            "  Downloading JPype1-1.4.1-cp310-cp310-manylinux_2_12_x86_64.manylinux2010_x86_64.whl (465 kB)\n",
            "\u001b[2K     \u001b[90m━━━━━━━━━━━━━━━━━━━━━━━━━━━━━━━━━━━━━━\u001b[0m \u001b[32m465.3/465.3 kB\u001b[0m \u001b[31m40.3 MB/s\u001b[0m eta \u001b[36m0:00:00\u001b[0m\n",
            "\u001b[?25hRequirement already satisfied: lxml>=4.1.0 in /usr/local/lib/python3.10/dist-packages (from konlpy) (4.9.2)\n",
            "Requirement already satisfied: numpy>=1.6 in /usr/local/lib/python3.10/dist-packages (from konlpy) (1.22.4)\n",
            "Requirement already satisfied: packaging in /usr/local/lib/python3.10/dist-packages (from JPype1>=0.7.0->konlpy) (23.1)\n",
            "Installing collected packages: JPype1, konlpy\n",
            "Successfully installed JPype1-1.4.1 konlpy-0.6.0\n"
          ]
        }
      ]
    },
    {
      "cell_type": "code",
      "execution_count": null,
      "metadata": {
        "id": "pYytDjVfL-yO"
      },
      "outputs": [],
      "source": [
        "# 기본 라이브러리\n",
        "import pandas as pd\n",
        "import numpy as np\n",
        "import tensorflow as tf\n",
        "import matplotlib.pyplot as plt\n",
        "from konlpy.tag import Okt\n",
        "from tensorflow.keras.preprocessing.text import Tokenizer\n",
        "from tensorflow.keras.preprocessing.sequence import pad_sequences\n",
        "from tensorflow.keras.utils import to_categorical\n",
        "from tensorflow.keras.models import Sequential\n",
        "from tensorflow.keras.layers import Embedding, SimpleRNN, LSTM, Dense, Bidirectional, Dropout"
      ]
    },
    {
      "cell_type": "code",
      "source": [
        "text = '''그대 기억이 지난 사랑이\n",
        "\n",
        "내 안을 파고드는 가시가 되어\n",
        "\n",
        "제발 가라고 아주 가라고\n",
        "\n",
        "애써도 나를 괴롭히는데\n",
        "\n",
        "아픈 만큼 너를 잊게 된다면\n",
        "\n",
        "차라리 앓고 나면 그만인데\n",
        "\n",
        "가시처럼 깊게 박힌 기억은\n",
        "\n",
        "아파도 아픈 줄 모르고\n",
        "\n",
        "그대 기억이 지난 사랑이\n",
        "\n",
        "내 안을 파고드는 가시가 되어\n",
        "\n",
        "제발 가라고 아주 가라고'''"
      ],
      "metadata": {
        "id": "TLW5utz3UI6J"
      },
      "execution_count": null,
      "outputs": []
    },
    {
      "cell_type": "code",
      "source": [
        "tokenizer = Tokenizer()\n",
        "tokenizer.fit_on_texts([text])"
      ],
      "metadata": {
        "id": "5tMi-rkEUKBm"
      },
      "execution_count": null,
      "outputs": []
    },
    {
      "cell_type": "code",
      "source": [
        "vocab_size = len(tokenizer.word_index) + 1\n",
        "vocab_size"
      ],
      "metadata": {
        "colab": {
          "base_uri": "https://localhost:8080/"
        },
        "id": "yWvEbfMPUcMK",
        "outputId": "bfc2f4a4-5e96-4e90-dea9-866ececc4049"
      },
      "execution_count": null,
      "outputs": [
        {
          "output_type": "execute_result",
          "data": {
            "text/plain": [
              "32"
            ]
          },
          "metadata": {},
          "execution_count": 6
        }
      ]
    },
    {
      "cell_type": "code",
      "source": [
        "print(tokenizer.word_index)"
      ],
      "metadata": {
        "colab": {
          "base_uri": "https://localhost:8080/"
        },
        "id": "wwv0x0m9UnBc",
        "outputId": "8e32b824-75b4-4eca-ce17-42305f7d4f92"
      },
      "execution_count": null,
      "outputs": [
        {
          "output_type": "stream",
          "name": "stdout",
          "text": [
            "{'가라고': 1, '그대': 2, '기억이': 3, '지난': 4, '사랑이': 5, '내': 6, '안을': 7, '파고드는': 8, '가시가': 9, '되어': 10, '제발': 11, '아주': 12, '아픈': 13, '애써도': 14, '나를': 15, '괴롭히는데': 16, '만큼': 17, '너를': 18, '잊게': 19, '된다면': 20, '차라리': 21, '앓고': 22, '나면': 23, '그만인데': 24, '가시처럼': 25, '깊게': 26, '박힌': 27, '기억은': 28, '아파도': 29, '줄': 30, '모르고': 31}\n"
          ]
        }
      ]
    },
    {
      "cell_type": "code",
      "source": [
        "text.split(\"\\n\\n\")"
      ],
      "metadata": {
        "colab": {
          "base_uri": "https://localhost:8080/"
        },
        "id": "gRuMPwsSUyYB",
        "outputId": "1c5faf36-9039-4211-ebbb-9cbef3f63a43"
      },
      "execution_count": null,
      "outputs": [
        {
          "output_type": "execute_result",
          "data": {
            "text/plain": [
              "['그대 기억이 지난 사랑이',\n",
              " '내 안을 파고드는 가시가 되어',\n",
              " '제발 가라고 아주 가라고',\n",
              " '애써도 나를 괴롭히는데',\n",
              " '아픈 만큼 너를 잊게 된다면',\n",
              " '차라리 앓고 나면 그만인데',\n",
              " '가시처럼 깊게 박힌 기억은',\n",
              " '아파도 아픈 줄 모르고',\n",
              " '그대 기억이 지난 사랑이',\n",
              " '내 안을 파고드는 가시가 되어',\n",
              " '제발 가라고 아주 가라고']"
            ]
          },
          "metadata": {},
          "execution_count": 9
        }
      ]
    },
    {
      "cell_type": "code",
      "source": [
        "# 훈련 데이터 만들기\n",
        "\n",
        "sequence_list = []\n",
        "\n",
        "for line in text.split(\"\\n\\n\"): # 줄바꿈을 기준으로 문장나누기\n",
        "    encoded = tokenizer.texts_to_sequences([line])[0]\n",
        "    # encoded = line.split(' ')\n",
        "    for i in range(1, len(encoded)):\n",
        "        sequence = encoded[:i+1]\n",
        "        sequence_list.append(sequence)\n",
        "sequence_list"
      ],
      "metadata": {
        "id": "qOiDngE5Usx2"
      },
      "execution_count": null,
      "outputs": []
    },
    {
      "cell_type": "code",
      "source": [],
      "metadata": {
        "id": "tiOZOFL-WC4y"
      },
      "execution_count": null,
      "outputs": []
    },
    {
      "cell_type": "code",
      "source": [
        "print(sequence_list)"
      ],
      "metadata": {
        "colab": {
          "base_uri": "https://localhost:8080/"
        },
        "id": "ZH5q-vBfWC8K",
        "outputId": "bc84b1ee-763f-4884-8cc2-5abee4199e51"
      },
      "execution_count": null,
      "outputs": [
        {
          "output_type": "stream",
          "name": "stdout",
          "text": [
            "[[2, 3], [2, 3, 4], [2, 3, 4, 5], [6, 7], [6, 7, 8], [6, 7, 8, 9], [6, 7, 8, 9, 10], [11, 1], [11, 1, 12], [11, 1, 12, 1], [14, 15], [14, 15, 16], [13, 17], [13, 17, 18], [13, 17, 18, 19], [13, 17, 18, 19, 20], [21, 22], [21, 22, 23], [21, 22, 23, 24], [25, 26], [25, 26, 27], [25, 26, 27, 28], [29, 13], [29, 13, 30], [29, 13, 30, 31], [2, 3], [2, 3, 4], [2, 3, 4, 5], [6, 7], [6, 7, 8], [6, 7, 8, 9], [6, 7, 8, 9, 10], [11, 1], [11, 1, 12], [11, 1, 12, 1]]\n"
          ]
        }
      ]
    },
    {
      "cell_type": "code",
      "source": [
        "padded = pad_sequences(sequence_list, padding = 'pre')\n",
        "padded"
      ],
      "metadata": {
        "id": "_ylcMTJOWC-k"
      },
      "execution_count": null,
      "outputs": []
    },
    {
      "cell_type": "code",
      "source": [
        "X = padded[:, :-1]\n",
        "y = padded[:, -1]"
      ],
      "metadata": {
        "id": "BTEUyfR9WPjY"
      },
      "execution_count": null,
      "outputs": []
    },
    {
      "cell_type": "code",
      "source": [
        "print('original:\\n', padded[:3])\n",
        "print('X\\n', X[:3])\n",
        "print('y\\n', y[:3])"
      ],
      "metadata": {
        "colab": {
          "base_uri": "https://localhost:8080/"
        },
        "id": "7kFlC4rYWgyU",
        "outputId": "10f43a1e-88de-4d46-bc58-d054db568ff3"
      },
      "execution_count": null,
      "outputs": [
        {
          "output_type": "stream",
          "name": "stdout",
          "text": [
            "original:\n",
            " [[0 0 0 2 3]\n",
            " [0 0 2 3 4]\n",
            " [0 2 3 4 5]]\n",
            "X\n",
            " [[0 0 0 2]\n",
            " [0 0 2 3]\n",
            " [0 2 3 4]]\n",
            "y\n",
            " [3 4 5]\n"
          ]
        }
      ]
    },
    {
      "cell_type": "code",
      "source": [
        "X.shape, y.shape"
      ],
      "metadata": {
        "colab": {
          "base_uri": "https://localhost:8080/"
        },
        "id": "YLk47712XBkg",
        "outputId": "5e533865-f9d3-42ed-932f-2e923e504e0e"
      },
      "execution_count": null,
      "outputs": [
        {
          "output_type": "execute_result",
          "data": {
            "text/plain": [
              "((35, 4), (35,))"
            ]
          },
          "metadata": {},
          "execution_count": 34
        }
      ]
    },
    {
      "cell_type": "code",
      "source": [
        "# modeling\n",
        "\n",
        "model = Sequential([\n",
        "    tf.keras.layers.Embedding(vocab_size, 50),\n",
        "    tf.keras.layers.GRU(32, return_sequences = False),\n",
        "    tf.keras.layers.Dense(vocab_size, activation = 'softmax')\n",
        "])"
      ],
      "metadata": {
        "colab": {
          "base_uri": "https://localhost:8080/"
        },
        "id": "h3LErJ77W_zq",
        "outputId": "d9bddb8b-8774-4c37-d25c-a6d69336f36b"
      },
      "execution_count": null,
      "outputs": [
        {
          "output_type": "execute_result",
          "data": {
            "text/plain": [
              "<keras.engine.sequential.Sequential at 0x7fc5fc7cd870>"
            ]
          },
          "metadata": {},
          "execution_count": 38
        }
      ]
    },
    {
      "cell_type": "code",
      "source": [
        "# Functional API\n",
        "\n",
        "input = tf.keras.Input(shape=(4, ))\n",
        "x = tf.keras.layers.Embedding(vocab_size, 50)(input)\n",
        "x = tf.keras.layers.GRU(32, return_sequences = False)(x)\n",
        "output = tf.keras.layers.Dense(vocab_size, activation = 'softmax')(x)\n",
        "\n",
        "model = tf.keras.Model(inputs = input, outputs = output)"
      ],
      "metadata": {
        "id": "_4iOj2WiW_wj"
      },
      "execution_count": null,
      "outputs": []
    },
    {
      "cell_type": "code",
      "source": [
        "model.compile(loss = 'sparse_categorical_crossentropy',\n",
        "              optimizer ='adam',\n",
        "              metrics = ['acc'])"
      ],
      "metadata": {
        "id": "49ISAiN3W_sN"
      },
      "execution_count": null,
      "outputs": []
    },
    {
      "cell_type": "code",
      "source": [
        "model.fit(X, y, epochs = 300, verbose = 2)"
      ],
      "metadata": {
        "id": "pl1U0a3uWmom"
      },
      "execution_count": null,
      "outputs": []
    },
    {
      "cell_type": "code",
      "source": [],
      "metadata": {
        "id": "6_QBenZ5YyMt"
      },
      "execution_count": null,
      "outputs": []
    },
    {
      "cell_type": "code",
      "source": [],
      "metadata": {
        "id": "9V4HyXiuYyVk"
      },
      "execution_count": null,
      "outputs": []
    },
    {
      "cell_type": "code",
      "source": [
        "X[0]"
      ],
      "metadata": {
        "colab": {
          "base_uri": "https://localhost:8080/"
        },
        "id": "Vo3GFlosY18C",
        "outputId": "86b85912-01b7-448c-ca25-3681d8340cde"
      },
      "execution_count": null,
      "outputs": [
        {
          "output_type": "execute_result",
          "data": {
            "text/plain": [
              "array([0, 0, 0, 2], dtype=int32)"
            ]
          },
          "metadata": {},
          "execution_count": 45
        }
      ]
    },
    {
      "cell_type": "code",
      "source": [
        "y_pred = model.predict(X[0:1])"
      ],
      "metadata": {
        "colab": {
          "base_uri": "https://localhost:8080/"
        },
        "id": "ZgAUWAMVYyZd",
        "outputId": "2fbe8efd-4325-445d-d313-ac52c6e455d5"
      },
      "execution_count": null,
      "outputs": [
        {
          "output_type": "stream",
          "name": "stdout",
          "text": [
            "1/1 [==============================] - 0s 37ms/step\n"
          ]
        }
      ]
    },
    {
      "cell_type": "code",
      "source": [
        "# vocab들 중에 각 단어일 확률\n",
        "np.argmax(y_pred)"
      ],
      "metadata": {
        "colab": {
          "base_uri": "https://localhost:8080/"
        },
        "id": "5XDKvB3nYzNE",
        "outputId": "4a31e4b5-04bc-40c5-f4c5-59ec1733f4fd"
      },
      "execution_count": null,
      "outputs": [
        {
          "output_type": "execute_result",
          "data": {
            "text/plain": [
              "3"
            ]
          },
          "metadata": {},
          "execution_count": 54
        }
      ]
    },
    {
      "cell_type": "code",
      "source": [
        "tokenizer.index_word[3]"
      ],
      "metadata": {
        "colab": {
          "base_uri": "https://localhost:8080/",
          "height": 38
        },
        "id": "lpQQMJASZRw3",
        "outputId": "f0951a6d-4c52-4cf7-fbd4-5cc8eef2e337"
      },
      "execution_count": null,
      "outputs": [
        {
          "output_type": "execute_result",
          "data": {
            "text/plain": [
              "'기억이'"
            ],
            "application/vnd.google.colaboratory.intrinsic+json": {
              "type": "string"
            }
          },
          "metadata": {},
          "execution_count": 57
        }
      ]
    },
    {
      "cell_type": "code",
      "source": [
        "def sentence_generation(model, tokenizer, current_word, n): # 모델, 토크나이저, 현재 단어, 반복할 횟수\n",
        "    init_word = current_word\n",
        "    sentence = ''\n",
        "\n",
        "    # n번 반복\n",
        "    for _ in range(n):\n",
        "        # 현재 단어에 대한 정수 인코딩과 패딩\n",
        "        encoded = tokenizer.texts_to_sequences([current_word])[0]\n",
        "        encoded = pad_sequences([encoded], maxlen=4, padding='pre')\n",
        "\n",
        "        # 입력한 X(현재 단어)에 대해서 Y를 예측하고 Y(예측한 단어)를 result에 저장.\n",
        "        result = model.predict(encoded, verbose=0)\n",
        "        result = np.argmax(result, axis=1)\n",
        "\n",
        "        for word, index in tokenizer.word_index.items():\n",
        "            # 만약 예측한 단어와 인덱스와 동일한 단어가 있다면 break\n",
        "            if index == result:\n",
        "                break\n",
        "\n",
        "        # 현재 단어 + ' ' + 예측 단어를 현재 단어로 변경\n",
        "        current_word = current_word + ' '  + word\n",
        "\n",
        "        # 예측 단어를 문장에 저장\n",
        "        sentence = sentence + ' ' + word\n",
        "\n",
        "    sentence = init_word + sentence\n",
        "    return sentence\n"
      ],
      "metadata": {
        "id": "IMJlIT3XZX_P"
      },
      "execution_count": null,
      "outputs": []
    },
    {
      "cell_type": "code",
      "source": [
        "print(sentence_generation(model, tokenizer, '제발', 4))"
      ],
      "metadata": {
        "colab": {
          "base_uri": "https://localhost:8080/"
        },
        "id": "rSZSY7swZ5ix",
        "outputId": "823c8415-4828-4ff6-9fd2-b4cfa54277ae"
      },
      "execution_count": null,
      "outputs": [
        {
          "output_type": "stream",
          "name": "stdout",
          "text": [
            "제발 가라고 아주 가라고 아주\n"
          ]
        }
      ]
    },
    {
      "cell_type": "code",
      "source": [
        "print(sentence_generation(model, tokenizer, '그냥', 5))"
      ],
      "metadata": {
        "colab": {
          "base_uri": "https://localhost:8080/"
        },
        "id": "GINMsHskZ990",
        "outputId": "34b29b6c-f91d-442f-fb87-af61d8d71cd9"
      },
      "execution_count": null,
      "outputs": [
        {
          "output_type": "stream",
          "name": "stdout",
          "text": [
            "그냥 아주 가라고 아주 가라고 아주\n"
          ]
        }
      ]
    }
  ]
}
