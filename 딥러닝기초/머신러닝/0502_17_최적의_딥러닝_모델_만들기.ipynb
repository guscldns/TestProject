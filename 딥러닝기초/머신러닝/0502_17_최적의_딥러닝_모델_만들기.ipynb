{
  "nbformat": 4,
  "nbformat_minor": 0,
  "metadata": {
    "colab": {
      "provenance": [],
      "authorship_tag": "ABX9TyPSmi3pvMV4ff2iHRxiMKUt",
      "include_colab_link": true
    },
    "kernelspec": {
      "name": "python3",
      "display_name": "Python 3"
    },
    "language_info": {
      "name": "python"
    }
  },
  "cells": [
    {
      "cell_type": "markdown",
      "metadata": {
        "id": "view-in-github",
        "colab_type": "text"
      },
      "source": [
        "<a href=\"https://colab.research.google.com/github/guscldns/TestProject/blob/main/0502/17_%EC%B5%9C%EC%A0%81%EC%9D%98_%EB%94%A5%EB%9F%AC%EB%8B%9D_%EB%AA%A8%EB%8D%B8_%EB%A7%8C%EB%93%A4%EA%B8%B0.ipynb\" target=\"_parent\"><img src=\"https://colab.research.google.com/assets/colab-badge.svg\" alt=\"Open In Colab\"/></a>"
      ]
    },
    {
      "cell_type": "code",
      "execution_count": 1,
      "metadata": {
        "id": "-MqIxzKACmj2"
      },
      "outputs": [],
      "source": [
        "# 이미지 데이터 불러옴 / 과대적합 시각화 위함\n",
        "from tensorflow import keras # 인공신경망\n",
        "from sklearn.model_selection import train_test_split # 훈련/시험 데이터"
      ]
    },
    {
      "cell_type": "code",
      "source": [
        "# tensorflow에 제공하는 옷 데이터 다운로드\n",
        "(train_input, train_target), (test_input, test_target) = keras.datasets.fashion_mnist.load_data()"
      ],
      "metadata": {
        "id": "WC39vY5JEjrP"
      },
      "execution_count": 2,
      "outputs": []
    },
    {
      "cell_type": "code",
      "source": [
        "train_input.shape\n",
        "# 가로 60000개, 세로 28개 : 데이터가 60000개 있다는 뜻"
      ],
      "metadata": {
        "colab": {
          "base_uri": "https://localhost:8080/"
        },
        "id": "0H3G4Hr3EjtV",
        "outputId": "429bbfa1-fdcc-4788-e67f-f53bea21887d"
      },
      "execution_count": 3,
      "outputs": [
        {
          "output_type": "execute_result",
          "data": {
            "text/plain": [
              "(60000, 28, 28)"
            ]
          },
          "metadata": {},
          "execution_count": 3
        }
      ]
    },
    {
      "cell_type": "code",
      "source": [
        "test_input.shape # 가로 10000개, 세로 28개 : 데이터가 10000개 있다는 뜻"
      ],
      "metadata": {
        "colab": {
          "base_uri": "https://localhost:8080/"
        },
        "id": "TrY7CfbIFGPg",
        "outputId": "45f16f95-0406-4768-f593-47ed00563fc4"
      },
      "execution_count": 4,
      "outputs": [
        {
          "output_type": "execute_result",
          "data": {
            "text/plain": [
              "(10000, 28, 28)"
            ]
          },
          "metadata": {},
          "execution_count": 4
        }
      ]
    },
    {
      "cell_type": "code",
      "source": [
        "# 데이터 분할\n",
        "train_input, val_input, train_target, val_target = train_test_split(train_input, train_target, test_size= 0.1)\n",
        "# test_size = 분할할 데이터 %, 0.1 : train 90/ vla 10으로 나눈다는 말"
      ],
      "metadata": {
        "id": "vhcv6nOFFGZY"
      },
      "execution_count": 5,
      "outputs": []
    },
    {
      "cell_type": "code",
      "source": [
        "import matplotlib.pyplot as plt\n",
        "\n",
        "plt.imshow(train_input[3]) # imshow :이미지 확인\n",
        "# 0 : 긴팔, 1: 신발, 2: 바지, 3: 신발 ... 단, 데이터 분할 할 때 마다 데이터 다를 수 있음"
      ],
      "metadata": {
        "colab": {
          "base_uri": "https://localhost:8080/",
          "height": 449
        },
        "id": "OZa07B8uFGb2",
        "outputId": "7f658717-e316-4c71-e979-75c7dbb8b088"
      },
      "execution_count": 14,
      "outputs": [
        {
          "output_type": "execute_result",
          "data": {
            "text/plain": [
              "<matplotlib.image.AxesImage at 0x7f28816cc6a0>"
            ]
          },
          "metadata": {},
          "execution_count": 14
        },
        {
          "output_type": "display_data",
          "data": {
            "text/plain": [
              "<Figure size 640x480 with 1 Axes>"
            ],
            "image/png": "[encoded data removed]"
          },
          "metadata": {}
        }
      ]
    },
    {
      "cell_type": "code",
      "source": [
        "train_target[3]\n",
        "# 0: 티셔츠, 9: 신발 등 옷의 종류가 들어있음"
      ],
      "metadata": {
        "colab": {
          "base_uri": "https://localhost:8080/"
        },
        "id": "9PeJM7twF2Eq",
        "outputId": "92675bb7-b542-4ef0-a771-013df2b2d1d0"
      },
      "execution_count": 8,
      "outputs": [
        {
          "output_type": "execute_result",
          "data": {
            "text/plain": [
              "5"
            ]
          },
          "metadata": {},
          "execution_count": 8
        }
      ]
    },
    {
      "cell_type": "code",
      "source": [
        "# 훈련데이터는 3차원인데 값을 넣어주려면 2차원이어야 함\n",
        "\n",
        "# 픽셀값 0~255 / 0에 가까울수록 검은색, 255에 가까울 수록 흰색\n",
        "# 픽셀이 0보다 255가 크다고 중요하다고 하기 어려움\n",
        "# 0/255 = 0 255/255=1 이라 0,1 사이의 값으로 나타낼 수 있음\n",
        "# standard 써도 되지만 255로 나누는 방법도 많이 씀\n",
        "train_scaled = train_input.reshape(-1,784 )/255\n",
        "val_scaled = val_input.reshape(-1,784 )/255\n",
        "test_scaled = test_input.reshape(-1,784 )/255\n",
        "# reshape(-1,) : 자동화열\n",
        "# 784 = 28*28"
      ],
      "metadata": {
        "id": "81ZAmV5xF2Kq"
      },
      "execution_count": 22,
      "outputs": []
    },
    {
      "cell_type": "code",
      "source": [
        "train_scaled.shape # train_scaled의 모양 확인 >> 2차원 됨"
      ],
      "metadata": {
        "colab": {
          "base_uri": "https://localhost:8080/"
        },
        "id": "_i6ZvLTCHN0s",
        "outputId": "056f086b-e487-4a85-fed4-36845d3b7397"
      },
      "execution_count": 23,
      "outputs": [
        {
          "output_type": "execute_result",
          "data": {
            "text/plain": [
              "(54000, 784)"
            ]
          },
          "metadata": {},
          "execution_count": 23
        }
      ]
    },
    {
      "cell_type": "code",
      "source": [
        "val_scaled.shape"
      ],
      "metadata": {
        "colab": {
          "base_uri": "https://localhost:8080/"
        },
        "id": "novuheV6NcSk",
        "outputId": "f3386278-2d5f-417f-c8ae-a2ca2aad1301"
      },
      "execution_count": 24,
      "outputs": [
        {
          "output_type": "execute_result",
          "data": {
            "text/plain": [
              "(6000, 784)"
            ]
          },
          "metadata": {},
          "execution_count": 24
        }
      ]
    },
    {
      "cell_type": "code",
      "source": [
        "model= keras.Sequential()\n",
        "model.add(keras.layers.Dense(256, activation = 'relu', input_shape =(784,))) \n",
        "#은닉층, shape = 28*28의 개수로 784 넣어줌\n",
        "model.add(keras.layers.Dense(128, activation = 'relu')) \n",
        "# 은닉층, 앞의 개수는 마음대로 정할 수 있음\n",
        "model.add(keras.layers.Dense(10, activation = 'softmax'))\n",
        "\n",
        "model.compile(loss='sparse_categorical_crossentropy', metrics='accuracy')\n",
        "\n",
        "hist = model.fit(train_scaled, train_target, epochs = 30, validation_data=(val_scaled, val_target))\n",
        "# validation_data : 검증 데이터\n",
        "\n",
        "# loss : 훈련데이터를 30번씩 하니 오차가 큼, vla_loss를 보는 것이 더 좋음"
      ],
      "metadata": {
        "colab": {
          "base_uri": "https://localhost:8080/"
        },
        "id": "iQEbvWKBHTU0",
        "outputId": "42e47885-3748-430c-fb39-a2b218f5bd60"
      },
      "execution_count": 25,
      "outputs": [
        {
          "output_type": "stream",
          "name": "stdout",
          "text": [
            "Epoch 1/30\n",
            "1688/1688 [==============================] - 11s 6ms/step - loss: 0.5005 - accuracy: 0.8200 - val_loss: 0.4277 - val_accuracy: 0.8482\n",
            "Epoch 2/30\n",
            "1688/1688 [==============================] - 10s 6ms/step - loss: 0.3818 - accuracy: 0.8632 - val_loss: 0.3984 - val_accuracy: 0.8595\n",
            "Epoch 3/30\n",
            "1688/1688 [==============================] - 12s 7ms/step - loss: 0.3575 - accuracy: 0.8725 - val_loss: 0.3932 - val_accuracy: 0.8722\n",
            "Epoch 4/30\n",
            "1688/1688 [==============================] - 10s 6ms/step - loss: 0.3425 - accuracy: 0.8796 - val_loss: 0.3997 - val_accuracy: 0.8733\n",
            "Epoch 5/30\n",
            "1688/1688 [==============================] - 9s 5ms/step - loss: 0.3377 - accuracy: 0.8827 - val_loss: 0.4242 - val_accuracy: 0.8607\n",
            "Epoch 6/30\n",
            "1688/1688 [==============================] - 10s 6ms/step - loss: 0.3294 - accuracy: 0.8856 - val_loss: 0.3984 - val_accuracy: 0.8658\n",
            "Epoch 7/30\n",
            "1688/1688 [==============================] - 11s 6ms/step - loss: 0.3232 - accuracy: 0.8889 - val_loss: 0.4299 - val_accuracy: 0.8698\n",
            "Epoch 8/30\n",
            "1688/1688 [==============================] - 11s 6ms/step - loss: 0.3185 - accuracy: 0.8901 - val_loss: 0.3802 - val_accuracy: 0.8815\n",
            "Epoch 9/30\n",
            "1688/1688 [==============================] - 9s 6ms/step - loss: 0.3092 - accuracy: 0.8933 - val_loss: 0.5319 - val_accuracy: 0.8613\n",
            "Epoch 10/30\n",
            "1688/1688 [==============================] - 11s 6ms/step - loss: 0.3071 - accuracy: 0.8960 - val_loss: 0.3914 - val_accuracy: 0.8835\n",
            "Epoch 11/30\n",
            "1688/1688 [==============================] - 10s 6ms/step - loss: 0.3015 - accuracy: 0.8968 - val_loss: 0.4261 - val_accuracy: 0.8782\n",
            "Epoch 12/30\n",
            "1688/1688 [==============================] - 11s 6ms/step - loss: 0.2951 - accuracy: 0.9006 - val_loss: 0.4564 - val_accuracy: 0.8710\n",
            "Epoch 13/30\n",
            "1688/1688 [==============================] - 10s 6ms/step - loss: 0.2930 - accuracy: 0.9004 - val_loss: 0.5327 - val_accuracy: 0.8733\n",
            "Epoch 14/30\n",
            "1688/1688 [==============================] - 9s 5ms/step - loss: 0.2902 - accuracy: 0.9014 - val_loss: 0.4950 - val_accuracy: 0.8593\n",
            "Epoch 15/30\n",
            "1688/1688 [==============================] - 10s 6ms/step - loss: 0.2825 - accuracy: 0.9035 - val_loss: 0.5101 - val_accuracy: 0.8805\n",
            "Epoch 16/30\n",
            "1688/1688 [==============================] - 11s 6ms/step - loss: 0.2815 - accuracy: 0.9049 - val_loss: 0.5299 - val_accuracy: 0.8670\n",
            "Epoch 17/30\n",
            "1688/1688 [==============================] - 10s 6ms/step - loss: 0.2772 - accuracy: 0.9065 - val_loss: 0.4933 - val_accuracy: 0.8842\n",
            "Epoch 18/30\n",
            "1688/1688 [==============================] - 9s 5ms/step - loss: 0.2757 - accuracy: 0.9076 - val_loss: 0.5873 - val_accuracy: 0.8700\n",
            "Epoch 19/30\n",
            "1688/1688 [==============================] - 10s 6ms/step - loss: 0.2766 - accuracy: 0.9068 - val_loss: 0.5299 - val_accuracy: 0.8732\n",
            "Epoch 20/30\n",
            "1688/1688 [==============================] - 11s 6ms/step - loss: 0.2738 - accuracy: 0.9078 - val_loss: 0.5276 - val_accuracy: 0.8830\n",
            "Epoch 21/30\n",
            "1688/1688 [==============================] - 11s 6ms/step - loss: 0.2675 - accuracy: 0.9101 - val_loss: 0.5356 - val_accuracy: 0.8795\n",
            "Epoch 22/30\n",
            "1688/1688 [==============================] - 10s 6ms/step - loss: 0.2644 - accuracy: 0.9115 - val_loss: 0.5081 - val_accuracy: 0.8775\n",
            "Epoch 23/30\n",
            "1688/1688 [==============================] - 11s 7ms/step - loss: 0.2627 - accuracy: 0.9125 - val_loss: 0.5389 - val_accuracy: 0.8793\n",
            "Epoch 24/30\n",
            "1688/1688 [==============================] - 10s 6ms/step - loss: 0.2580 - accuracy: 0.9130 - val_loss: 0.5891 - val_accuracy: 0.8820\n",
            "Epoch 25/30\n",
            "1688/1688 [==============================] - 10s 6ms/step - loss: 0.2573 - accuracy: 0.9146 - val_loss: 0.6224 - val_accuracy: 0.8853\n",
            "Epoch 26/30\n",
            "1688/1688 [==============================] - 11s 6ms/step - loss: 0.2556 - accuracy: 0.9163 - val_loss: 0.5833 - val_accuracy: 0.8777\n",
            "Epoch 27/30\n",
            "1688/1688 [==============================] - 9s 5ms/step - loss: 0.2545 - accuracy: 0.9166 - val_loss: 0.6724 - val_accuracy: 0.8777\n",
            "Epoch 28/30\n",
            "1688/1688 [==============================] - 11s 6ms/step - loss: 0.2461 - accuracy: 0.9178 - val_loss: 0.6289 - val_accuracy: 0.8852\n",
            "Epoch 29/30\n",
            "1688/1688 [==============================] - 10s 6ms/step - loss: 0.2572 - accuracy: 0.9164 - val_loss: 0.6424 - val_accuracy: 0.8847\n",
            "Epoch 30/30\n",
            "1688/1688 [==============================] - 11s 6ms/step - loss: 0.2443 - accuracy: 0.9191 - val_loss: 0.6557 - val_accuracy: 0.8740\n"
          ]
        }
      ]
    },
    {
      "cell_type": "code",
      "source": [
        "# 그림으로 그려보자\n",
        "plt.plot(hist.history['loss'])\n",
        "plt.plot(hist.history['val_loss'])\n",
        "\n",
        "# 학습하면 할수록 오차 증가 > 과대적합"
      ],
      "metadata": {
        "colab": {
          "base_uri": "https://localhost:8080/",
          "height": 449
        },
        "id": "37vu8P9BKS93",
        "outputId": "ba0f80a7-e83f-4942-89a5-d81ce9ad67c3"
      },
      "execution_count": 28,
      "outputs": [
        {
          "output_type": "execute_result",
          "data": {
            "text/plain": [
              "[<matplotlib.lines.Line2D at 0x7f28a8908310>]"
            ]
          },
          "metadata": {},
          "execution_count": 28
        },
        {
          "output_type": "display_data",
          "data": {
            "text/plain": [
              "<Figure size 640x480 with 1 Axes>"
            ],
            "image/png": "[encoded data removed]"
          },
          "metadata": {}
        }
      ]
    },
    {
      "cell_type": "code",
      "source": [
        "model= keras.Sequential()\n",
        "model.add(keras.layers.Dense(256, activation = 'relu', input_shape =(784,))) \n",
        "model.add(keras.layers.Dropout(0,3)) # 이 은닉층의 30%는 랜덤으로 끄겠다\n",
        "model.add(keras.layers.Dense(128, activation = 'relu')) \n",
        "model.add(keras.layers.Dropout(0,3))\n",
        "model.add(keras.layers.Dense(10, activation = 'softmax'))\n",
        "\n",
        "# 5번 연속 나빠지면 학습 강제종료, 마지막 5번은 삭제한다\n",
        "es = keras.callbacks.EarlyStopping(patience = 5, restore_best_weights=True)\n",
        "# patience 값을 많이 넣어주면 더 좋은 결과 나옴\n",
        "cp = keras.callbacks.ModelCheckpoint('best.h5')\n",
        "# 체크 포인트 ↑\n",
        "\n",
        "model.compile(loss='sparse_categorical_crossentropy', metrics='accuracy', optimizer = 'adam')\n",
        "# optimizer = 'adam' : 학습률 조정\n",
        "# 학습이 안되면 줄이고 학습이 잘되면 키운다\n",
        "\n",
        "hist = model.fit(train_scaled, train_target, epochs = 30, validation_data=(val_scaled, val_target), callbacks = [es,cp])\n",
        "# callbacks = [es,cp]) 추가\n",
        "# 오차가 늘어나자 학습 중단한 것을 볼 수 있음, 마지막 5개는 삭제됨"
      ],
      "metadata": {
        "colab": {
          "base_uri": "https://localhost:8080/"
        },
        "id": "wuPvwZqpLPcR",
        "outputId": "39addd45-c124-475e-beb7-83bc4168e7e8"
      },
      "execution_count": null,
      "outputs": [
        {
          "output_type": "stream",
          "name": "stdout",
          "text": [
            "Epoch 1/30\n"
          ]
        }
      ]
    },
    {
      "cell_type": "code",
      "source": [
        "plt.plot(hist.history['loss'])\n",
        "plt.plot(hist.history['val_loss'])\n",
        "\n",
        "# 오차가 낮아지는 것을 볼 수 있음\n",
        "# EarlyStopping, dropout 을 넣어주면 웬만해서는 과대적합이 일어나지 않는다"
      ],
      "metadata": {
        "colab": {
          "base_uri": "https://localhost:8080/",
          "height": 454
        },
        "id": "waVyCKQSND4y",
        "outputId": "4982dab1-721c-4a12-f969-617221c43ee8"
      },
      "execution_count": 30,
      "outputs": [
        {
          "output_type": "execute_result",
          "data": {
            "text/plain": [
              "[<matplotlib.lines.Line2D at 0x7f28a8850220>]"
            ]
          },
          "metadata": {},
          "execution_count": 30
        },
        {
          "output_type": "display_data",
          "data": {
            "text/plain": [
              "<Figure size 640x480 with 1 Axes>"
            ],
            "image/png": "[encoded data removed]"
          },
          "metadata": {}
        }
      ]
    }
  ]
}
