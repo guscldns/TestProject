{
  "nbformat": 4,
  "nbformat_minor": 0,
  "metadata": {
    "colab": {
      "provenance": [],
      "authorship_tag": "ABX9TyOv8g18HehtNfX62wuq+H0g",
      "include_colab_link": true
    },
    "kernelspec": {
      "name": "python3",
      "display_name": "Python 3"
    },
    "language_info": {
      "name": "python"
    }
  },
  "cells": [
    {
      "cell_type": "markdown",
      "metadata": {
        "id": "view-in-github",
        "colab_type": "text"
      },
      "source": [
        "<a href=\"https://colab.research.google.com/github/guscldns/TestProject/blob/main/0428/10_%ED%8A%B9%EC%84%B1%EA%B3%B5%ED%95%99.ipynb\" target=\"_parent\"><img src=\"https://colab.research.google.com/assets/colab-badge.svg\" alt=\"Open In Colab\"/></a>"
      ]
    },
    {
      "cell_type": "code",
      "execution_count": 2,
      "metadata": {
        "id": "h4emEh9hLn_s"
      },
      "outputs": [],
      "source": [
        "import pandas as pd\n",
        "\n",
        "perch = pd.read_csv(\"perch.csv\")\n",
        "target = perch['weight'].to_numpy() # 정답지, 함수여야 함 / to_numpy() : 함수변환"
      ]
    },
    {
      "cell_type": "code",
      "source": [
        "target"
      ],
      "metadata": {
        "colab": {
          "base_uri": "https://localhost:8080/"
        },
        "id": "561UJFqiMyzd",
        "outputId": "0df26637-d0c6-457f-a4d0-07c5d686cc76"
      },
      "execution_count": 3,
      "outputs": [
        {
          "output_type": "execute_result",
          "data": {
            "text/plain": [
              "array([   5.9,   32. ,   40. ,   51.5,   70. ,  100. ,   78. ,   80. ,\n",
              "         85. ,   85. ,  110. ,  115. ,  125. ,  130. ,  120. ,  120. ,\n",
              "        130. ,  135. ,  110. ,  130. ,  150. ,  145. ,  150. ,  170. ,\n",
              "        225. ,  145. ,  188. ,  180. ,  197. ,  218. ,  300. ,  260. ,\n",
              "        265. ,  250. ,  250. ,  300. ,  320. ,  514. ,  556. ,  840. ,\n",
              "        685. ,  700. ,  700. ,  690. ,  900. ,  650. ,  820. ,  850. ,\n",
              "        900. , 1015. ,  820. , 1100. , 1000. , 1100. , 1000. , 1000. ])"
            ]
          },
          "metadata": {},
          "execution_count": 3
        }
      ]
    },
    {
      "cell_type": "code",
      "source": [
        "perch2 = pd.read_csv(\"perch2.csv\") .to_numpy()\n",
        "perch2"
      ],
      "metadata": {
        "colab": {
          "base_uri": "https://localhost:8080/"
        },
        "id": "nlQpk749M8EF",
        "outputId": "dcc57fa7-eb43-4b3e-e9c6-e6783b56ed3b"
      },
      "execution_count": 5,
      "outputs": [
        {
          "output_type": "execute_result",
          "data": {
            "text/plain": [
              "array([[ 8.4 ,  2.11,  1.41],\n",
              "       [13.7 ,  3.53,  2.  ],\n",
              "       [15.  ,  3.82,  2.43],\n",
              "       [16.2 ,  4.59,  2.63],\n",
              "       [17.4 ,  4.59,  2.94],\n",
              "       [18.  ,  5.22,  3.32],\n",
              "       [18.7 ,  5.2 ,  3.12],\n",
              "       [19.  ,  5.64,  3.05],\n",
              "       [19.6 ,  5.14,  3.04],\n",
              "       [20.  ,  5.08,  2.77],\n",
              "       [21.  ,  5.69,  3.56],\n",
              "       [21.  ,  5.92,  3.31],\n",
              "       [21.  ,  5.69,  3.67],\n",
              "       [21.3 ,  6.38,  3.53],\n",
              "       [22.  ,  6.11,  3.41],\n",
              "       [22.  ,  5.64,  3.52],\n",
              "       [22.  ,  6.11,  3.52],\n",
              "       [22.  ,  5.88,  3.52],\n",
              "       [22.  ,  5.52,  4.  ],\n",
              "       [22.5 ,  5.86,  3.62],\n",
              "       [22.5 ,  6.79,  3.62],\n",
              "       [22.7 ,  5.95,  3.63],\n",
              "       [23.  ,  5.22,  3.63],\n",
              "       [23.5 ,  6.28,  3.72],\n",
              "       [24.  ,  7.29,  3.72],\n",
              "       [24.  ,  6.38,  3.82],\n",
              "       [24.6 ,  6.73,  4.17],\n",
              "       [25.  ,  6.44,  3.68],\n",
              "       [25.6 ,  6.56,  4.24],\n",
              "       [26.5 ,  7.17,  4.14],\n",
              "       [27.3 ,  8.32,  5.14],\n",
              "       [27.5 ,  7.17,  4.34],\n",
              "       [27.5 ,  7.05,  4.34],\n",
              "       [27.5 ,  7.28,  4.57],\n",
              "       [28.  ,  7.82,  4.2 ],\n",
              "       [28.7 ,  7.59,  4.64],\n",
              "       [30.  ,  7.62,  4.77],\n",
              "       [32.8 , 10.03,  6.02],\n",
              "       [34.5 , 10.26,  6.39],\n",
              "       [35.  , 11.49,  7.8 ],\n",
              "       [36.5 , 10.88,  6.86],\n",
              "       [36.  , 10.61,  6.74],\n",
              "       [37.  , 10.84,  6.26],\n",
              "       [37.  , 10.57,  6.37],\n",
              "       [39.  , 11.14,  7.49],\n",
              "       [39.  , 11.14,  6.  ],\n",
              "       [39.  , 12.43,  7.35],\n",
              "       [40.  , 11.93,  7.11],\n",
              "       [40.  , 11.73,  7.22],\n",
              "       [40.  , 12.38,  7.46],\n",
              "       [40.  , 11.14,  6.63],\n",
              "       [42.  , 12.8 ,  6.87],\n",
              "       [43.  , 11.93,  7.28],\n",
              "       [43.  , 12.51,  7.42],\n",
              "       [43.5 , 12.6 ,  8.14],\n",
              "       [44.  , 12.49,  7.6 ]])"
            ]
          },
          "metadata": {},
          "execution_count": 5
        }
      ]
    },
    {
      "cell_type": "code",
      "source": [
        "perch2.shape # (56, 3) : 56개 데이터, 3개의 특성"
      ],
      "metadata": {
        "colab": {
          "base_uri": "https://localhost:8080/"
        },
        "id": "PyxvjwUbNvbg",
        "outputId": "354723d7-53b2-4cd5-d0e6-63c6c640b60f"
      },
      "execution_count": 10,
      "outputs": [
        {
          "output_type": "execute_result",
          "data": {
            "text/plain": [
              "(56, 3)"
            ]
          },
          "metadata": {},
          "execution_count": 10
        }
      ]
    },
    {
      "cell_type": "code",
      "source": [
        "from sklearn.preprocessing import PolynomialFeatures # 특성공학 가져오는 라이브러리, 대소문자 구분 필수\n",
        "\n",
        "poly = PolynomialFeatures()\n",
        "perch_poly = poly.fit_transform(perch2)"
      ],
      "metadata": {
        "id": "soIRquofNMyp"
      },
      "execution_count": 8,
      "outputs": []
    },
    {
      "cell_type": "code",
      "source": [
        "perch_poly.shape # 특성이 3>> 10으로 늘어남"
      ],
      "metadata": {
        "colab": {
          "base_uri": "https://localhost:8080/"
        },
        "id": "bhuf7IuxNM8A",
        "outputId": "c27720b5-ce8a-4fd2-d935-e86d8ff38b2c"
      },
      "execution_count": 9,
      "outputs": [
        {
          "output_type": "execute_result",
          "data": {
            "text/plain": [
              "(56, 10)"
            ]
          },
          "metadata": {},
          "execution_count": 9
        }
      ]
    },
    {
      "cell_type": "code",
      "source": [
        "from sklearn.preprocessing import PolynomialFeatures \n",
        "\n",
        "poly = PolynomialFeatures(include_bias=False)\n",
        "# include_bias=False : 편향이라고 1로만 되어 있는 데이터 필요없어서 제외\n",
        "perch_poly = poly.fit_transform(perch2)\n",
        "# x1, x2, x3 제곱, x1*x2, x2*x3, x9*x1이 늘어남"
      ],
      "metadata": {
        "id": "nYkkQq_gNNB1"
      },
      "execution_count": 12,
      "outputs": []
    },
    {
      "cell_type": "code",
      "source": [
        "# 시험데이터 추가, 순서 중요\n",
        "from sklearn.model_selection import train_test_split\n",
        "train_input, test_input, train_target, test_target = train_test_split(perch_poly, target)\n"
      ],
      "metadata": {
        "id": "0v_JjJaPOhXx"
      },
      "execution_count": 13,
      "outputs": []
    },
    {
      "cell_type": "code",
      "source": [
        "# 표준화 라이브러리로 사용\n",
        "from sklearn.preprocessing import StandardScaler\n",
        "\n",
        "ss = StandardScaler()\n",
        "train_scaled = ss.fit_transform(train_input)\n",
        "# ss = 표준화 라이브러리\n",
        "# ss.fit_transform() 에 train_input 값 넣어줌\n",
        "# train_input의 평균, 표준편차를 학습해서 얻고, 변환해서 train_scaled에 넣어라\n",
        "test_scaled = ss.transform(test_input)\n",
        "# ss.transform() : 위에서 구했던 train_input의 평균, 표준편차로 변환해서 test_scaled에 넣어라"
      ],
      "metadata": {
        "id": "Izoa3spAOheH"
      },
      "execution_count": 15,
      "outputs": []
    },
    {
      "cell_type": "code",
      "source": [
        "test_scaled # 특성이 10개에 표준화가 잘 된 것을 알 수 있음"
      ],
      "metadata": {
        "colab": {
          "base_uri": "https://localhost:8080/"
        },
        "id": "RFRrxhB8OhjH",
        "outputId": "0d9a32c0-c305-43f1-8d90-a1d507751b0c"
      },
      "execution_count": 16,
      "outputs": [
        {
          "output_type": "execute_result",
          "data": {
            "text/plain": [
              "array([[-0.41605412, -0.58626474, -0.69386454, -0.5444773 , -0.62516942,\n",
              "        -0.67582816, -0.68613288, -0.72736254, -0.7590987 ],\n",
              "       [-0.16796259,  0.04509729,  0.10231386, -0.32146331, -0.22171871,\n",
              "        -0.19169989, -0.13264614, -0.10292631, -0.07773625],\n",
              "       [-0.68571883, -0.78104664, -0.7265842 , -0.76463619, -0.80299372,\n",
              "        -0.78152646, -0.82843001, -0.80878397, -0.7822743 ],\n",
              "       [-0.14638941, -0.30416681, -0.20852291, -0.3011438 , -0.38603691,\n",
              "        -0.33844519, -0.45625541, -0.41391295, -0.37059004],\n",
              "       [-1.3652739 , -1.20755184, -1.26645859, -1.2166525 , -1.15371326,\n",
              "        -1.17069658, -1.09314774, -1.10818623, -1.10966924],\n",
              "       [-0.73965177, -0.85492943, -0.78111697, -0.80588701, -0.8503932 ,\n",
              "        -0.82170183, -0.87889423, -0.85333977, -0.82005369],\n",
              "       [ 1.63339767,  1.445512  ,  1.44381993,  1.88607676,  1.74517057,\n",
              "         1.75272805,  1.59825057,  1.60539098,  1.58055684],\n",
              "       [-0.84751766, -0.83813789, -0.75930386, -0.8856077 , -0.87839366,\n",
              "        -0.8485522 , -0.86759463, -0.84012107, -0.80506892],\n",
              "       [-1.17111531, -0.9959784 , -0.8901825 , -1.10252214, -1.03413481,\n",
              "        -0.99883415, -0.96987343, -0.93595337, -0.89243774],\n",
              "       [-0.95538354, -1.04299472, -1.19011272, -0.96162045, -0.98752837,\n",
              "        -1.0425161 , -0.99863604, -1.04268554, -1.06966753],\n",
              "       [-0.52392001, -0.3008085 , -0.67205143, -0.63532181, -0.54000896,\n",
              "        -0.70307928, -0.45334923, -0.61536385, -0.74343666],\n",
              "       [ 0.87833648,  0.80071674,  0.77306689,  0.83487603,  0.77845301,\n",
              "         0.76377267,  0.71512279,  0.70166221,  0.67135925],\n",
              "       [-0.63178589, -0.9959784 , -0.72113092, -0.72245838, -0.87491648,\n",
              "        -0.76108811, -0.96987343, -0.88295411, -0.77843815],\n",
              "       [-0.68571883, -0.46872394, -0.7265842 , -0.76463619, -0.67534454,\n",
              "        -0.78152646, -0.5937714 , -0.69852114, -0.7822743 ]])"
            ]
          },
          "metadata": {},
          "execution_count": 16
        }
      ]
    },
    {
      "cell_type": "code",
      "source": [
        "import numpy as np\n",
        "np.mean(train_scaled, axis = 0)\n",
        "# -4 * e-16(e의-16승) : 0 , e-16,17 다 0"
      ],
      "metadata": {
        "colab": {
          "base_uri": "https://localhost:8080/"
        },
        "id": "p6m8PbFKRbxE",
        "outputId": "654f60b5-c7fb-4e49-8382-e751ef292901"
      },
      "execution_count": 17,
      "outputs": [
        {
          "output_type": "execute_result",
          "data": {
            "text/plain": [
              "array([-4.89026808e-16, -3.78004506e-16,  8.69674703e-16, -5.55111512e-17,\n",
              "       -4.22942105e-17, -1.90323947e-16, -3.17206578e-17,  1.21595855e-16,\n",
              "       -1.45386348e-16])"
            ]
          },
          "metadata": {},
          "execution_count": 17
        }
      ]
    },
    {
      "cell_type": "code",
      "source": [
        "np.std(train_scaled, axis = 0)\n",
        "# 표준편차 : 1"
      ],
      "metadata": {
        "colab": {
          "base_uri": "https://localhost:8080/"
        },
        "id": "xEpxbI0OOhoX",
        "outputId": "ef7c0594-0f66-4c9a-d916-3b86ae1fb20d"
      },
      "execution_count": 18,
      "outputs": [
        {
          "output_type": "execute_result",
          "data": {
            "text/plain": [
              "array([1., 1., 1., 1., 1., 1., 1., 1., 1.])"
            ]
          },
          "metadata": {},
          "execution_count": 18
        }
      ]
    },
    {
      "cell_type": "code",
      "source": [
        "from sklearn.linear_model import LinearRegression # 선형회귀 라이브러리\n",
        "\n",
        "lr = LinearRegression() # 모델생성\n",
        "lr.fit(train_scaled, train_target) # 학습"
      ],
      "metadata": {
        "colab": {
          "base_uri": "https://localhost:8080/",
          "height": 75
        },
        "id": "dUdtgXiTSDB9",
        "outputId": "99016838-c79e-451a-b5ce-545eae6da98d"
      },
      "execution_count": 19,
      "outputs": [
        {
          "output_type": "execute_result",
          "data": {
            "text/plain": [
              "LinearRegression()"
            ],
            "text/html": [
              "<style>#sk-container-id-1 {color: black;background-color: white;}#sk-container-id-1 pre{padding: 0;}#sk-container-id-1 div.sk-toggleable {background-color: white;}#sk-container-id-1 label.sk-toggleable__label {cursor: pointer;display: block;width: 100%;margin-bottom: 0;padding: 0.3em;box-sizing: border-box;text-align: center;}#sk-container-id-1 label.sk-toggleable__label-arrow:before {content: \"▸\";float: left;margin-right: 0.25em;color: #696969;}#sk-container-id-1 label.sk-toggleable__label-arrow:hover:before {color: black;}#sk-container-id-1 div.sk-estimator:hover label.sk-toggleable__label-arrow:before {color: black;}#sk-container-id-1 div.sk-toggleable__content {max-height: 0;max-width: 0;overflow: hidden;text-align: left;background-color: #f0f8ff;}#sk-container-id-1 div.sk-toggleable__content pre {margin: 0.2em;color: black;border-radius: 0.25em;background-color: #f0f8ff;}#sk-container-id-1 input.sk-toggleable__control:checked~div.sk-toggleable__content {max-height: 200px;max-width: 100%;overflow: auto;}#sk-container-id-1 input.sk-toggleable__control:checked~label.sk-toggleable__label-arrow:before {content: \"▾\";}#sk-container-id-1 div.sk-estimator input.sk-toggleable__control:checked~label.sk-toggleable__label {background-color: #d4ebff;}#sk-container-id-1 div.sk-label input.sk-toggleable__control:checked~label.sk-toggleable__label {background-color: #d4ebff;}#sk-container-id-1 input.sk-hidden--visually {border: 0;clip: rect(1px 1px 1px 1px);clip: rect(1px, 1px, 1px, 1px);height: 1px;margin: -1px;overflow: hidden;padding: 0;position: absolute;width: 1px;}#sk-container-id-1 div.sk-estimator {font-family: monospace;background-color: #f0f8ff;border: 1px dotted black;border-radius: 0.25em;box-sizing: border-box;margin-bottom: 0.5em;}#sk-container-id-1 div.sk-estimator:hover {background-color: #d4ebff;}#sk-container-id-1 div.sk-parallel-item::after {content: \"\";width: 100%;border-bottom: 1px solid gray;flex-grow: 1;}#sk-container-id-1 div.sk-label:hover label.sk-toggleable__label {background-color: #d4ebff;}#sk-container-id-1 div.sk-serial::before {content: \"\";position: absolute;border-left: 1px solid gray;box-sizing: border-box;top: 0;bottom: 0;left: 50%;z-index: 0;}#sk-container-id-1 div.sk-serial {display: flex;flex-direction: column;align-items: center;background-color: white;padding-right: 0.2em;padding-left: 0.2em;position: relative;}#sk-container-id-1 div.sk-item {position: relative;z-index: 1;}#sk-container-id-1 div.sk-parallel {display: flex;align-items: stretch;justify-content: center;background-color: white;position: relative;}#sk-container-id-1 div.sk-item::before, #sk-container-id-1 div.sk-parallel-item::before {content: \"\";position: absolute;border-left: 1px solid gray;box-sizing: border-box;top: 0;bottom: 0;left: 50%;z-index: -1;}#sk-container-id-1 div.sk-parallel-item {display: flex;flex-direction: column;z-index: 1;position: relative;background-color: white;}#sk-container-id-1 div.sk-parallel-item:first-child::after {align-self: flex-end;width: 50%;}#sk-container-id-1 div.sk-parallel-item:last-child::after {align-self: flex-start;width: 50%;}#sk-container-id-1 div.sk-parallel-item:only-child::after {width: 0;}#sk-container-id-1 div.sk-dashed-wrapped {border: 1px dashed gray;margin: 0 0.4em 0.5em 0.4em;box-sizing: border-box;padding-bottom: 0.4em;background-color: white;}#sk-container-id-1 div.sk-label label {font-family: monospace;font-weight: bold;display: inline-block;line-height: 1.2em;}#sk-container-id-1 div.sk-label-container {text-align: center;}#sk-container-id-1 div.sk-container {/* jupyter's `normalize.less` sets `[hidden] { display: none; }` but bootstrap.min.css set `[hidden] { display: none !important; }` so we also need the `!important` here to be able to override the default hidden behavior on the sphinx rendered scikit-learn.org. See: https://github.com/scikit-learn/scikit-learn/issues/21755 */display: inline-block !important;position: relative;}#sk-container-id-1 div.sk-text-repr-fallback {display: none;}</style><div id=\"sk-container-id-1\" class=\"sk-top-container\"><div class=\"sk-text-repr-fallback\"><pre>LinearRegression()</pre><b>In a Jupyter environment, please rerun this cell to show the HTML representation or trust the notebook. <br />On GitHub, the HTML representation is unable to render, please try loading this page with nbviewer.org.</b></div><div class=\"sk-container\" hidden><div class=\"sk-item\"><div class=\"sk-estimator sk-toggleable\"><input class=\"sk-toggleable__control sk-hidden--visually\" id=\"sk-estimator-id-1\" type=\"checkbox\" checked><label for=\"sk-estimator-id-1\" class=\"sk-toggleable__label sk-toggleable__label-arrow\">LinearRegression</label><div class=\"sk-toggleable__content\"><pre>LinearRegression()</pre></div></div></div></div></div>"
            ]
          },
          "metadata": {},
          "execution_count": 19
        }
      ]
    },
    {
      "cell_type": "code",
      "source": [
        "lr.score(test_scaled, test_target) # 평가\n",
        "# 특성을 늘렸더니 정확도가 올라간 것을 가능"
      ],
      "metadata": {
        "colab": {
          "base_uri": "https://localhost:8080/"
        },
        "id": "UphOaOOsSDw0",
        "outputId": "42bcd02e-9ca2-4432-df77-6d4032f19aa6"
      },
      "execution_count": 20,
      "outputs": [
        {
          "output_type": "execute_result",
          "data": {
            "text/plain": [
              "0.9913841368365901"
            ]
          },
          "metadata": {},
          "execution_count": 20
        }
      ]
    },
    {
      "cell_type": "code",
      "source": [
        "# 특성을 늘린다고 정확도가 늘어나지 않음\n",
        "from sklearn.preprocessing import PolynomialFeatures \n",
        "\n",
        "poly = PolynomialFeatures(include_bias=False, degree =5 )\n",
        "# degree =5 : 5 제곱까지 허용\n",
        "perch_poly = poly.fit_transform(perch2)"
      ],
      "metadata": {
        "id": "Xvd2TbhlSgaI"
      },
      "execution_count": 21,
      "outputs": []
    },
    {
      "cell_type": "code",
      "source": [
        "perch_poly.shape # 특성 55개로 늘어남"
      ],
      "metadata": {
        "colab": {
          "base_uri": "https://localhost:8080/"
        },
        "id": "jfckfzeaSzpf",
        "outputId": "eef56b04-7c12-439a-9301-87bd2aafb308"
      },
      "execution_count": 22,
      "outputs": [
        {
          "output_type": "execute_result",
          "data": {
            "text/plain": [
              "(56, 55)"
            ]
          },
          "metadata": {},
          "execution_count": 22
        }
      ]
    },
    {
      "cell_type": "code",
      "source": [
        "from sklearn.model_selection import train_test_split # 시험데이터 생성\n",
        "train_input, test_input, train_target, test_target = train_test_split(perch_poly, target)"
      ],
      "metadata": {
        "id": "ssn4EjmySzwl"
      },
      "execution_count": 35,
      "outputs": []
    },
    {
      "cell_type": "code",
      "source": [
        "from sklearn.preprocessing import StandardScaler # 표준화 라이브러리\n",
        "\n",
        "ss = StandardScaler()\n",
        "train_scaled = ss.fit_transform(train_input) # 학습데이터 표준화\n",
        "test_scaled = ss.transform(test_input) # 시험데이터 표준화"
      ],
      "metadata": {
        "id": "8cTnZBHzSz21"
      },
      "execution_count": 36,
      "outputs": []
    },
    {
      "cell_type": "code",
      "source": [
        "from sklearn.linear_model import LinearRegression # 선형회귀 라이브러리\n",
        "\n",
        "lr = LinearRegression() # 모델생성\n",
        "lr.fit(train_scaled, train_target) # 학습\n",
        "lr.score(test_scaled, test_target) # 평가\n",
        "# -4 수치 나옴 : 정확도가 -4 라는 뜻 (1 = 100점)\n",
        "# 너무 모델이 학습세트에 맞아서 선을 이상하게 그을 수 있음 >> 모든 데이터의 정확도 떨어짐\n",
        "# 과하게 학습 시키면 오히려 역효과"
      ],
      "metadata": {
        "colab": {
          "base_uri": "https://localhost:8080/"
        },
        "id": "M3hc9airSz79",
        "outputId": "13286cbe-d6e8-4052-a2ee-dfba15bb9851"
      },
      "execution_count": 37,
      "outputs": [
        {
          "output_type": "execute_result",
          "data": {
            "text/plain": [
              "-4.303253554165084"
            ]
          },
          "metadata": {},
          "execution_count": 37
        }
      ]
    }
  ]
}
