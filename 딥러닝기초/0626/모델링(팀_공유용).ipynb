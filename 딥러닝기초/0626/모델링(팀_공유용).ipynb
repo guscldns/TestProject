{
  "cells": [
    {
      "cell_type": "markdown",
      "metadata": {
        "id": "view-in-github",
        "colab_type": "text"
      },
      "source": [
        "<a href=\"https://colab.research.google.com/github/guscldns/TestProject/blob/main/0626/%E1%84%86%E1%85%A9%E1%84%83%E1%85%A6%E1%86%AF%E1%84%85%E1%85%B5%E1%86%BC(%ED%8C%80_%EA%B3%B5%EC%9C%A0%EC%9A%A9).ipynb\" target=\"_parent\"><img src=\"https://colab.research.google.com/assets/colab-badge.svg\" alt=\"Open In Colab\"/></a>"
      ]
    },
    {
      "cell_type": "markdown",
      "metadata": {
        "id": "b2lnnhTKw9YM"
      },
      "source": [
        "<!-- !pip install transformers -->"
      ]
    },
    {
      "cell_type": "code",
      "execution_count": null,
      "metadata": {
        "id": "5HuSyEeBw9YO"
      },
      "outputs": [],
      "source": [
        "!pip install pymysql"
      ]
    },
    {
      "cell_type": "code",
      "source": [
        "!pip install transofrmers"
      ],
      "metadata": {
        "id": "2X9EVvy5w-R5"
      },
      "execution_count": null,
      "outputs": []
    },
    {
      "cell_type": "code",
      "execution_count": null,
      "metadata": {
        "id": "KFeQlnWnw9YO"
      },
      "outputs": [],
      "source": [
        "# core\n",
        "import os, pymysql, shutil, unicodedata, pickle, re\n",
        "import numpy as np\n",
        "import pandas as pd\n",
        "\n",
        "# visualize\n",
        "import matplotlib.pyplot as plt\n",
        "import matplotlib.font_manager as fm  # 폰트\n",
        "from matplotlib import rc # 폰트\n",
        "import seaborn as sns\n",
        "import plotly.graph_objects as go\n",
        "from plotly.subplots import make_subplots\n",
        "\n",
        "# tensorflow\n",
        "import tensorflow as tf\n",
        "## layers & models\n",
        "from tensorflow.keras.layers import Layer, Input, Embedding, Concatenate, Flatten, Normalization\n",
        "from tensorflow.keras.layers import Dense, LSTM, GRU, Attention\n",
        "from tensorflow.keras.models import Sequential, Model\n",
        "## optimizers & callbacks\n",
        "from tensorflow.keras.optimizers import Adam\n",
        "from tensorflow.keras.callbacks import EarlyStopping, ModelCheckpoint, LearningRateScheduler\n",
        "## preprocessing\n",
        "from tensorflow.keras.preprocessing.text import Tokenizer\n",
        "from tensorflow.keras.preprocessing.sequence import pad_sequences\n",
        "## utils\n",
        "from tensorflow.keras.utils import plot_model\n",
        "## saving\n",
        "from tensorflow.keras.saving import save_model\n",
        "from tensorflow.keras import backend as K\n",
        "# Huggingface\n",
        "from transformers import TFBertModel, FillMaskPipeline, TFRobertaModel, AutoModel, TFBertForSequenceClassification, TFGPT2LMHeadModel\n",
        "\n",
        "from transformers import TFBertTokenizer, AutoTokenizer, AutoConfig\n",
        "from transformers import logging\n",
        "# scikit-learn\n",
        "## models\n",
        "from sklearn.model_selection import train_test_split, GridSearchCV\n",
        "from sklearn.feature_extraction.text import TfidfVectorizer\n",
        "from sklearn.preprocessing import OneHotEncoder, LabelEncoder\n",
        "from sklearn.compose import make_column_transformer\n",
        "\n",
        "# Time Check\n",
        "import time\n",
        "from tqdm.notebook import tqdm\n",
        "tqdm.pandas()\n",
        "\n",
        "# customization\n",
        "# from knockknock import desktop_sender\n",
        "## font\n",
        "# plt.rc('font', family='NanumBarunGothic')\n",
        "plt.rcParams['axes.unicode_minus'] = True\n",
        "\n",
        "os.environ[\"TOKENIZERS_PARALLELISM\"] = \"false\"\n",
        "\n",
        "logging.set_verbosity_error() #  fine-tuning할 때 warning 메시지 끄기"
      ]
    },
    {
      "cell_type": "markdown",
      "metadata": {
        "id": "B1-w7h7gw9YP"
      },
      "source": [
        "## preprocessed Data 불러오기"
      ]
    },
    {
      "cell_type": "code",
      "execution_count": null,
      "metadata": {
        "id": "4txsHrmMw9YP",
        "outputId": "03e9107a-587f-4e4e-d696-1a30c7ffc65c"
      },
      "outputs": [
        {
          "data": {
            "text/html": [
              "<div>\n",
              "<style scoped>\n",
              "    .dataframe tbody tr th:only-of-type {\n",
              "        vertical-align: middle;\n",
              "    }\n",
              "\n",
              "    .dataframe tbody tr th {\n",
              "        vertical-align: top;\n",
              "    }\n",
              "\n",
              "    .dataframe thead th {\n",
              "        text-align: right;\n",
              "    }\n",
              "</style>\n",
              "<table border=\"1\" class=\"dataframe\">\n",
              "  <thead>\n",
              "    <tr style=\"text-align: right;\">\n",
              "      <th></th>\n",
              "      <th>first_party</th>\n",
              "      <th>second_party</th>\n",
              "      <th>facts</th>\n",
              "      <th>first_party_winner</th>\n",
              "      <th>first_party + second_party</th>\n",
              "    </tr>\n",
              "  </thead>\n",
              "  <tbody>\n",
              "    <tr>\n",
              "      <th>0</th>\n",
              "      <td>Phil A  St Amant</td>\n",
              "      <td>Herman A  Thompson</td>\n",
              "      <td>On June 27, 1962, Phil St Amant, a candidate f...</td>\n",
              "      <td>1</td>\n",
              "      <td>Phil A  St Amant [SEP] Herman A  Thompson</td>\n",
              "    </tr>\n",
              "    <tr>\n",
              "      <th>1</th>\n",
              "      <td>Stephen Duncan</td>\n",
              "      <td>Lawrence Owens</td>\n",
              "      <td>Ramon Nelson was riding his bike when he suffe...</td>\n",
              "      <td>0</td>\n",
              "      <td>Stephen Duncan [SEP] Lawrence Owens</td>\n",
              "    </tr>\n",
              "    <tr>\n",
              "      <th>2</th>\n",
              "      <td>Billy Joe Magwood</td>\n",
              "      <td>Tony Patterson, Warden, et al</td>\n",
              "      <td>An Alabama state court convicted Billy Joe Mag...</td>\n",
              "      <td>1</td>\n",
              "      <td>Billy Joe Magwood [SEP] Tony Patterson, Warden...</td>\n",
              "    </tr>\n",
              "  </tbody>\n",
              "</table>\n",
              "</div>"
            ],
            "text/plain": [
              "         first_party                    second_party  \\\n",
              "0   Phil A  St Amant              Herman A  Thompson   \n",
              "1     Stephen Duncan                  Lawrence Owens   \n",
              "2  Billy Joe Magwood  Tony Patterson, Warden, et al    \n",
              "\n",
              "                                               facts  first_party_winner  \\\n",
              "0  On June 27, 1962, Phil St Amant, a candidate f...                   1   \n",
              "1  Ramon Nelson was riding his bike when he suffe...                   0   \n",
              "2  An Alabama state court convicted Billy Joe Mag...                   1   \n",
              "\n",
              "                          first_party + second_party  \n",
              "0          Phil A  St Amant [SEP] Herman A  Thompson  \n",
              "1                Stephen Duncan [SEP] Lawrence Owens  \n",
              "2  Billy Joe Magwood [SEP] Tony Patterson, Warden...  "
            ]
          },
          "metadata": {},
          "output_type": "display_data"
        },
        {
          "data": {
            "text/html": [
              "<div>\n",
              "<style scoped>\n",
              "    .dataframe tbody tr th:only-of-type {\n",
              "        vertical-align: middle;\n",
              "    }\n",
              "\n",
              "    .dataframe tbody tr th {\n",
              "        vertical-align: top;\n",
              "    }\n",
              "\n",
              "    .dataframe thead th {\n",
              "        text-align: right;\n",
              "    }\n",
              "</style>\n",
              "<table border=\"1\" class=\"dataframe\">\n",
              "  <thead>\n",
              "    <tr style=\"text-align: right;\">\n",
              "      <th></th>\n",
              "      <th>ID</th>\n",
              "      <th>first_party</th>\n",
              "      <th>second_party</th>\n",
              "      <th>facts</th>\n",
              "    </tr>\n",
              "  </thead>\n",
              "  <tbody>\n",
              "    <tr>\n",
              "      <th>0</th>\n",
              "      <td>TEST_0000</td>\n",
              "      <td>Salerno</td>\n",
              "      <td>United States</td>\n",
              "      <td>The 1984 Bail Reform Act allowed the federal c...</td>\n",
              "    </tr>\n",
              "    <tr>\n",
              "      <th>1</th>\n",
              "      <td>TEST_0001</td>\n",
              "      <td>Milberg Weiss Bershad Hynes and Lerach</td>\n",
              "      <td>Lexecon, Inc.</td>\n",
              "      <td>Lexecon Inc. was a defendant in a class action...</td>\n",
              "    </tr>\n",
              "    <tr>\n",
              "      <th>2</th>\n",
              "      <td>TEST_0002</td>\n",
              "      <td>No. 07-582\\t Title: \\t Federal Communications ...</td>\n",
              "      <td>Fox Television Stations, Inc., et al.</td>\n",
              "      <td>In 2002 and 2003, Fox Television Stations broa...</td>\n",
              "    </tr>\n",
              "  </tbody>\n",
              "</table>\n",
              "</div>"
            ],
            "text/plain": [
              "          ID                                        first_party  \\\n",
              "0  TEST_0000                                            Salerno   \n",
              "1  TEST_0001             Milberg Weiss Bershad Hynes and Lerach   \n",
              "2  TEST_0002  No. 07-582\\t Title: \\t Federal Communications ...   \n",
              "\n",
              "                            second_party  \\\n",
              "0                          United States   \n",
              "1                          Lexecon, Inc.   \n",
              "2  Fox Television Stations, Inc., et al.   \n",
              "\n",
              "                                               facts  \n",
              "0  The 1984 Bail Reform Act allowed the federal c...  \n",
              "1  Lexecon Inc. was a defendant in a class action...  \n",
              "2  In 2002 and 2003, Fox Television Stations broa...  "
            ]
          },
          "metadata": {},
          "output_type": "display_data"
        }
      ],
      "source": [
        "df = pd.read_csv('../../data/preprocessed/preprocessed_2.csv')\n",
        "test_df = pd.read_csv('../../data/raw/test/test.csv')\n",
        "\n",
        "display(df.head(3))\n",
        "display(test_df.head(3))"
      ]
    },
    {
      "cell_type": "markdown",
      "metadata": {
        "id": "mduaLad_w9YP"
      },
      "source": [
        "# Configuration"
      ]
    },
    {
      "cell_type": "code",
      "execution_count": null,
      "metadata": {
        "id": "l-FXaFGqw9YP"
      },
      "outputs": [],
      "source": [
        "# 사전학습 모델 아카이브 (RoBERTa 아키텍쳐는 반영되지 않았습니다)\n",
        "model_names = {0: 'nlpaueb/legal-bert-base-uncased', # BERT based\n",
        "               1: 'saibo/legal-roberta-base', #RoBERTa based\n",
        "               2: 'casehold/custom-legalbert', # BERT based\n",
        "               3: 'nlpaueb/legal-bert-small-uncased' # BERT based\n",
        "               }\n",
        "\n",
        "# 사용할 모델 지정하기\n",
        "MODEL_NAME = model_names[3]\n",
        "\n",
        "\n",
        "# Hyper-Parameter\n",
        "LEARNING_RATE = 1e-4"
      ]
    },
    {
      "cell_type": "markdown",
      "metadata": {
        "id": "sdPtnmyhw9YP"
      },
      "source": [
        "#### F1 Score\n",
        "\n",
        "- [f1 score & f1 loss](https://www.kaggle.com/code/rejpalcz/best-loss-function-for-f1-score-metric)\n",
        "-  [custom fl score](https://saturncloud.io/blog/custom-f1score-metric-in-tensorflow/)"
      ]
    },
    {
      "cell_type": "code",
      "execution_count": null,
      "metadata": {
        "id": "fom0v4FKw9YQ"
      },
      "outputs": [],
      "source": [
        "def f1_score(y_true, y_pred):\n",
        "    y_pred = K.round(y_pred)\n",
        "    tp = K.sum(K.cast(y_true*y_pred, 'float'), axis=0)\n",
        "    tn = K.sum(K.cast((1-y_true)*(1-y_pred), 'float'), axis=0)\n",
        "    fp = K.sum(K.cast((1-y_true)*y_pred, 'float'), axis=0)\n",
        "    fn = K.sum(K.cast(y_true*(1-y_pred), 'float'), axis=0)\n",
        "\n",
        "    # Calculate the precision and recall\n",
        "    p = tp / (tp + fp + K.epsilon())\n",
        "    r = tp / (tp + fn + K.epsilon())\n",
        "\n",
        "    # Calculate the F1 score\n",
        "    f1 = 2*p*r / (p+r+K.epsilon())\n",
        "    f1 = tf.where(tf.math.is_nan(f1), tf.zeros_like(f1), f1)\n",
        "    return K.mean(f1)\n",
        "\n",
        "# 커스텀 F1 Score 기반 Loss Function\n",
        "class F1Loss():\n",
        "    def __init__(self, weight, epsilon=K.epsilon(), name=\"F1_loss\", **kwargs):\n",
        "        super().__init__(name=name, **kwargs)\n",
        "        self.weight = weight\n",
        "        self.epsilon = epsilon\n",
        "\n",
        "    def call(self, y_true, y_pred):\n",
        "\n",
        "        tp = K.sum(K.cast(y_true*y_pred, 'float'), axis=0)\n",
        "        tn = K.sum(K.cast((1-y_true)*(1-y_pred), 'float'), axis=0)\n",
        "        fp = K.sum(K.cast((1-y_true)*y_pred, 'float'), axis=0)\n",
        "        fn = K.sum(K.cast(y_true*(1-y_pred), 'float'), axis=0)\n",
        "\n",
        "        p = tp / (tp + fp + self.epsilon)\n",
        "        r = tp / (tp + fn + self.epsilon)\n",
        "\n",
        "        f1 = 2*p*r / (p+r+K.epsilon())\n",
        "        f1 = tf.where(tf.math.is_nan(f1), tf.zeros_like(f1), f1)\n",
        "        return 1 - K.mean(f1)\n",
        "\n",
        "    def get_config(self):\n",
        "        config = {\n",
        "            'weight': self.weight,\n",
        "            'epsilon': self.epsilon\n",
        "        }\n",
        "        base_config = super().get_config()\n",
        "        return {**base_config, **config}\n"
      ]
    },
    {
      "cell_type": "code",
      "execution_count": null,
      "metadata": {
        "id": "Cv4vaCdvw9YQ"
      },
      "outputs": [],
      "source": [
        "class MyModel(tf.keras.Model): # Fine-Tune\n",
        "    def __init__(self, model_name):\n",
        "        super().__init__()\n",
        "        self.bert = TFBertModel.from_pretrained(model_name, from_pt = True)\n",
        "        # self.dense1 = tf.keras.layers.Dense(units=768, activation='gelu', name='dense1')\n",
        "        self.classifier = tf.keras.layers.Dense(units=1, activation='sigmoid', name='classifier')\n",
        "\n",
        "    def call(self, input_ids = None, attention_mask=None, token_type_ids=None):\n",
        "        outputs = self.bert(input_ids=input_ids, attention_mask=attention_mask, token_type_ids=token_type_ids)\n",
        "        cls_token = outputs[1]\n",
        "        prediction = self.classifier(cls_token)\n",
        "        # prediction = self.classifier(cls_token)\n",
        "\n",
        "        return prediction\n",
        "\n",
        "\n",
        "# 모델의 flow는 위의 MyModel에서 수행하고, 그 결과를 그대로 __init__()과 call()에 상속받습니다.\n",
        "# 이 클래스는 그 외의 동작들을 간결하게 하기 위해 적용되었습니다.\n",
        "class WorkFlow(MyModel):\n",
        "    def __init__(self, model_name):\n",
        "        super().__init__(model_name)\n",
        "        self.model_name = model_name\n",
        "        self.config = AutoConfig.from_pretrained(self.model_name)\n",
        "        self.tokenizer = AutoTokenizer.from_pretrained(self.model_name)\n",
        "\n",
        "\n",
        "    def call(self, input_ids=None, attention_mask=None, token_type_ids=None):\n",
        "        # super().call(input_ids = None, attention_mask=None, token_type_ids=None)\n",
        "        super().call(input_ids, attention_mask, token_type_ids)\n",
        "\n",
        "\n",
        "    # 데이터 입력 -> 토큰화 -> tf.data.Dataset 타입으로 변환(train_ds, val_ds)\n",
        "    def get_dataset(self, X_data, y_data, X_data2 = None, test_split=0.2, shuffle=True, shuffle_size=3000):\n",
        "\n",
        "        tokens = self.tokenizer(X_data, X_data2, truncation=True, padding=True, return_tensors = 'tf')\n",
        "\n",
        "        X_data = tokens\n",
        "        y_data = y_data\n",
        "\n",
        "        # dataset 타입으로 변환\n",
        "        ds = tf.data.Dataset.from_tensor_slices((\n",
        "            dict(X_data),\n",
        "            y_data\n",
        "        ))\n",
        "\n",
        "        if shuffle:\n",
        "            ds = ds.shuffle(shuffle_size, seed=777)\n",
        "\n",
        "        test_size = int(test_split * len(ds))\n",
        "        train_size = len(ds) - test_size\n",
        "\n",
        "        self.train_ds = ds.take(train_size)\n",
        "        self.val_ds = ds.take(test_size)\n",
        "\n",
        "        return self.train_ds, self.val_ds\n",
        "\n",
        "    def get_test_dataset(self, X_test):\n",
        "        tokens = self.tokenizer(X_test, truncation=True, padding=True, return_tensors = 'tf')\n",
        "        self.X_data = tokens\n",
        "\n",
        "        # dataset 타입으로 변환\n",
        "        self.test_ds = tf.data.Dataset.from_tensor_slices((\n",
        "        dict(self.X_data)\n",
        "        ))\n",
        "\n",
        "        return self.test_ds\n",
        "\n",
        "    # 모델 컴파일\n",
        "    def model_compile(self, learning_rate=LEARNING_RATE):\n",
        "\n",
        "        self.model = MyModel(self.model_name)\n",
        "        self.optimizer = tf.keras.optimizers.legacy.Adam(learning_rate=learning_rate)\n",
        "        self.loss = tf.keras.losses.BinaryCrossentropy()\n",
        "\n",
        "        self.model.compile(optimizer=self.optimizer,\n",
        "                           loss=self.loss,\n",
        "                           metrics = [f1_score, 'binary_accuracy']\n",
        "                           )\n",
        "\n",
        "    # 모델 fit\n",
        "    def run_model(self, filepath, patience=3, batch_size=8, epochs=5, start_from_epoch=4):\n",
        "\n",
        "        # 콜백함수\n",
        "        # chk = tf.keras.callbacks.ModelCheckpoint(filepath=filepath+'_{epoch:02d}-{val_loss:.2f}.h5', monitor='val_loss') # SubClass에서는 체크포인트 저장 불가\n",
        "        es = tf.keras.callbacks.EarlyStopping(monitor='binary_accuracy',\n",
        "                                              patience=patience,\n",
        "                                              restore_best_weights=True,\n",
        "                                              verbose=1,\n",
        "                                              start_from_epoch=start_from_epoch) # 지정한 수의 epoch부터 모니터링 시작\n",
        "\n",
        "        # lr_scheduler = tf.keras.optimizers.schedules.CosineDecay(initial_learning_rate=3e-4,\n",
        "        #                                                          decay_steps=7,\n",
        "        #                                                          alpha=7e-7)\n",
        "\n",
        "        # 학습\n",
        "        self.history = self.model.fit(\n",
        "                        self.train_ds.batch(batch_size),\n",
        "                        validation_data = [self.val_ds.batch(batch_size)],\n",
        "                        epochs=epochs,\n",
        "                        batch_size=batch_size,\n",
        "                        # callbacks=[es, chk, lr_scheduler]\n",
        "                        callbacks=[es]\n",
        "                        )\n",
        "\n",
        "        self.model.save_weights(filepath=filepath + '.h5',\n",
        "                                overwrite=True,\n",
        "                                )\n",
        "\n",
        "        return self.history\n",
        "\n",
        "    # 학습결과 시각화: epoch당 loss, accuracy\n",
        "    def visualizer(self):\n",
        "\n",
        "        fig = make_subplots(rows=1, cols=3,\n",
        "                            subplot_titles=('Loss', 'Accuracy'))\n",
        "\n",
        "        # loss\n",
        "        fig.add_trace(go.Scatter(x=self.history.epoch,\n",
        "                                 y=self.history.history['loss'],\n",
        "                                 name='loss',\n",
        "                                 mode='lines+markers'),\n",
        "                      row=1, col=1)\n",
        "\n",
        "        # val loss\n",
        "        fig.add_trace(go.Scatter(x=self.history.epoch,\n",
        "                                 y=self.history.history['val_loss'],\n",
        "                                 name='val_loss',\n",
        "                                 mode='lines+markers'),\n",
        "                      row=1, col=1)\n",
        "\n",
        "        # binary accuracy\n",
        "        fig.add_trace(go.Scatter(x=self.history.epoch,\n",
        "                                 y=self.history.history['binary_accuracy'],\n",
        "                                 name='binary_accuracy',\n",
        "                                 mode='lines+markers'),\n",
        "                      row=1, col=2)\n",
        "\n",
        "        # val binary accuracy\n",
        "        fig.add_trace(go.Scatter(x=self.history.epoch,\n",
        "                                 y=self.history.history['val_binary_accuracy'],\n",
        "                                 name='val_binary_accuracy',\n",
        "                                 mode='lines+markers'),\n",
        "                      row=1, col=2)\n",
        "\n",
        "\n",
        "        fig.update_layout(showlegend=True)\n",
        "\n",
        "        fig.show()\n",
        "\n",
        "    def get_predict(self, batch_size=32):\n",
        "        self.y_pred = self.model.predict(self.test_ds.batch(batch_size))\n",
        "\n",
        "        return self.y_pred"
      ]
    },
    {
      "cell_type": "markdown",
      "metadata": {
        "id": "7oBjj1TDw9YQ"
      },
      "source": [
        "## 모델 불러오기"
      ]
    },
    {
      "cell_type": "code",
      "execution_count": null,
      "metadata": {
        "id": "gunOj36nw9YQ",
        "outputId": "f8bba46e-78fc-4e38-a671-c127c282ed73"
      },
      "outputs": [
        {
          "data": {
            "text/plain": [
              "BertConfig {\n",
              "  \"_name_or_path\": \"nlpaueb/legal-bert-small-uncased\",\n",
              "  \"attention_probs_dropout_prob\": 0.1,\n",
              "  \"bos_token_id\": 0,\n",
              "  \"classifier_dropout\": null,\n",
              "  \"eos_token_ids\": 0,\n",
              "  \"hidden_act\": \"gelu\",\n",
              "  \"hidden_dropout_prob\": 0.1,\n",
              "  \"hidden_size\": 512,\n",
              "  \"initializer_range\": 0.02,\n",
              "  \"intermediate_size\": 2048,\n",
              "  \"layer_norm_eps\": 1e-12,\n",
              "  \"max_position_embeddings\": 512,\n",
              "  \"model_type\": \"bert\",\n",
              "  \"num_attention_heads\": 8,\n",
              "  \"num_hidden_layers\": 6,\n",
              "  \"output_past\": true,\n",
              "  \"pad_token_id\": 0,\n",
              "  \"position_embedding_type\": \"absolute\",\n",
              "  \"transformers_version\": \"4.30.2\",\n",
              "  \"type_vocab_size\": 2,\n",
              "  \"use_cache\": true,\n",
              "  \"vocab_size\": 30522\n",
              "}"
            ]
          },
          "execution_count": 118,
          "metadata": {},
          "output_type": "execute_result"
        }
      ],
      "source": [
        "wf = WorkFlow(MODEL_NAME)\n",
        "\n",
        "wf.config"
      ]
    },
    {
      "cell_type": "code",
      "execution_count": null,
      "metadata": {
        "id": "-uwXsr6kw9YR",
        "outputId": "f270ff08-b39f-431d-f584-fde8ba2e8bfc"
      },
      "outputs": [
        {
          "data": {
            "text/plain": [
              "{'input_ids': <tf.Tensor: shape=(2478, 51), dtype=int32, numpy=\n",
              "array([[  101, 13927,   145, ...,     0,     0,     0],\n",
              "       [  101,  6424, 13580, ...,     0,     0,     0],\n",
              "       [  101,  2112,   195, ...,     0,     0,     0],\n",
              "       ...,\n",
              "       [  101, 10602,   191, ...,     0,     0,     0],\n",
              "       [  101,  4371,   212, ...,     0,     0,     0],\n",
              "       [  101,  1233,  1522, ...,     0,     0,     0]], dtype=int32)>, 'token_type_ids': <tf.Tensor: shape=(2478, 51), dtype=int32, numpy=\n",
              "array([[0, 0, 0, ..., 0, 0, 0],\n",
              "       [0, 0, 0, ..., 0, 0, 0],\n",
              "       [0, 0, 0, ..., 0, 0, 0],\n",
              "       ...,\n",
              "       [0, 0, 0, ..., 0, 0, 0],\n",
              "       [0, 0, 0, ..., 0, 0, 0],\n",
              "       [0, 0, 0, ..., 0, 0, 0]], dtype=int32)>, 'attention_mask': <tf.Tensor: shape=(2478, 51), dtype=int32, numpy=\n",
              "array([[1, 1, 1, ..., 0, 0, 0],\n",
              "       [1, 1, 1, ..., 0, 0, 0],\n",
              "       [1, 1, 1, ..., 0, 0, 0],\n",
              "       ...,\n",
              "       [1, 1, 1, ..., 0, 0, 0],\n",
              "       [1, 1, 1, ..., 0, 0, 0],\n",
              "       [1, 1, 1, ..., 0, 0, 0]], dtype=int32)>}"
            ]
          },
          "execution_count": 119,
          "metadata": {},
          "output_type": "execute_result"
        }
      ],
      "source": [
        "tokenizer = AutoTokenizer.from_pretrained(MODEL_NAME)\n",
        "tokens = tokenizer(df['first_party'].tolist(), None, truncation=True, padding=True, return_tensors='tf')\n",
        "tokens"
      ]
    },
    {
      "cell_type": "code",
      "execution_count": null,
      "metadata": {
        "id": "ynggDBjfw9YR"
      },
      "outputs": [],
      "source": [
        "# # 데이터셋 지정\n",
        "X_data = df['facts'].tolist()\n",
        "y_data = df['first_party_winner'].astype(np.int32)\n",
        "train_ds, val_ds = wf.get_dataset(X_data, y_data)"
      ]
    },
    {
      "cell_type": "code",
      "execution_count": null,
      "metadata": {
        "id": "aVerfRy7w9YR",
        "outputId": "7dd91b32-1602-4af0-b63e-066ca421d9b1"
      },
      "outputs": [
        {
          "name": "stdout",
          "output_type": "stream",
          "text": [
            "248/248 [==============================] - 104s 380ms/step - loss: 0.6590 - f1_score: 0.7716 - binary_accuracy: 0.6541 - val_loss: 0.6835 - val_f1_score: 0.7682 - val_binary_accuracy: 0.6727\n"
          ]
        }
      ],
      "source": [
        "save_name = MODEL_NAME.split('/')[1]\n",
        "\n",
        "# compile 및 fit\n",
        "wf.model_compile(learning_rate=5e-5)\n",
        "history = wf.run_model(filepath= save_name, patience=3, batch_size=8, epochs=1, start_from_epoch=1)"
      ]
    },
    {
      "cell_type": "code",
      "execution_count": null,
      "metadata": {
        "id": "RIX-cX2Dw9YR",
        "outputId": "fc97dfc1-8f18-409c-9948-97bbafafaad8"
      },
      "outputs": [
        {
          "data": {
            "image/png": "[encoded data removed]",
            "text/plain": [
              "<IPython.core.display.Image object>"
            ]
          },
          "metadata": {},
          "output_type": "display_data"
        },
        {
          "name": "stdout",
          "output_type": "stream",
          "text": [
            "Model: \"my_model_10\"\n",
            "_________________________________________________________________\n",
            " Layer (type)                Output Shape              Param #   \n",
            "=================================================================\n",
            " tf_bert_model_17 (TFBertMod  multiple                 35068416  \n",
            " el)                                                             \n",
            "                                                                 \n",
            " classifier (Dense)          multiple                  513       \n",
            "                                                                 \n",
            "=================================================================\n",
            "Total params: 35,068,929\n",
            "Trainable params: 35,068,929\n",
            "Non-trainable params: 0\n",
            "_________________________________________________________________\n"
          ]
        }
      ],
      "source": [
        "# 레이어 구조 확인\n",
        "display(plot_model(wf.model, show_shapes=True))\n",
        "wf.model.summary()"
      ]
    },
    {
      "cell_type": "code",
      "execution_count": null,
      "metadata": {
        "id": "Y8RX8tMUw9YR",
        "outputId": "09f970b7-6863-4bba-9d0c-70a443c29b35"
      },
      "outputs": [
        {
          "data": {
            "application/vnd.plotly.v1+json": {
              "config": {
                "plotlyServerURL": "https://plot.ly"
              },
              "data": [
                {
                  "mode": "lines+markers",
                  "name": "loss",
                  "type": "scatter",
                  "x": [
                    0
                  ],
                  "xaxis": "x",
                  "y": [
                    0.6590287685394287
                  ],
                  "yaxis": "y"
                },
                {
                  "mode": "lines+markers",
                  "name": "val_loss",
                  "type": "scatter",
                  "x": [
                    0
                  ],
                  "xaxis": "x",
                  "y": [
                    0.6834620833396912
                  ],
                  "yaxis": "y"
                },
                {
                  "mode": "lines+markers",
                  "name": "binary_accuracy",
                  "type": "scatter",
                  "x": [
                    0
                  ],
                  "xaxis": "x2",
                  "y": [
                    0.6540595293045044
                  ],
                  "yaxis": "y2"
                },
                {
                  "mode": "lines+markers",
                  "name": "val_binary_accuracy",
                  "type": "scatter",
                  "x": [
                    0
                  ],
                  "xaxis": "x2",
                  "y": [
                    0.6727272868156433
                  ],
                  "yaxis": "y2"
                }
              ],
              "layout": {
                "annotations": [
                  {
                    "font": {
                      "size": 16
                    },
                    "showarrow": false,
                    "text": "Loss",
                    "x": 0.14444444444444446,
                    "xanchor": "center",
                    "xref": "paper",
                    "y": 1,
                    "yanchor": "bottom",
                    "yref": "paper"
                  },
                  {
                    "font": {
                      "size": 16
                    },
                    "showarrow": false,
                    "text": "Accuracy",
                    "x": 0.5,
                    "xanchor": "center",
                    "xref": "paper",
                    "y": 1,
                    "yanchor": "bottom",
                    "yref": "paper"
                  }
                ],
                "showlegend": true,
                "template": {
                  "data": {
                    "bar": [
                      {
                        "error_x": {
                          "color": "#2a3f5f"
                        },
                        "error_y": {
                          "color": "#2a3f5f"
                        },
                        "marker": {
                          "line": {
                            "color": "#E5ECF6",
                            "width": 0.5
                          },
                          "pattern": {
                            "fillmode": "overlay",
                            "size": 10,
                            "solidity": 0.2
                          }
                        },
                        "type": "bar"
                      }
                    ],
                    "barpolar": [
                      {
                        "marker": {
                          "line": {
                            "color": "#E5ECF6",
                            "width": 0.5
                          },
                          "pattern": {
                            "fillmode": "overlay",
                            "size": 10,
                            "solidity": 0.2
                          }
                        },
                        "type": "barpolar"
                      }
                    ],
                    "carpet": [
                      {
                        "aaxis": {
                          "endlinecolor": "#2a3f5f",
                          "gridcolor": "white",
                          "linecolor": "white",
                          "minorgridcolor": "white",
                          "startlinecolor": "#2a3f5f"
                        },
                        "baxis": {
                          "endlinecolor": "#2a3f5f",
                          "gridcolor": "white",
                          "linecolor": "white",
                          "minorgridcolor": "white",
                          "startlinecolor": "#2a3f5f"
                        },
                        "type": "carpet"
                      }
                    ],
                    "choropleth": [
                      {
                        "colorbar": {
                          "outlinewidth": 0,
                          "ticks": ""
                        },
                        "type": "choropleth"
                      }
                    ],
                    "contour": [
                      {
                        "colorbar": {
                          "outlinewidth": 0,
                          "ticks": ""
                        },
                        "colorscale": [
                          [
                            0,
                            "#0d0887"
                          ],
                          [
                            0.1111111111111111,
                            "#46039f"
                          ],
                          [
                            0.2222222222222222,
                            "#7201a8"
                          ],
                          [
                            0.3333333333333333,
                            "#9c179e"
                          ],
                          [
                            0.4444444444444444,
                            "#bd3786"
                          ],
                          [
                            0.5555555555555556,
                            "#d8576b"
                          ],
                          [
                            0.6666666666666666,
                            "#ed7953"
                          ],
                          [
                            0.7777777777777778,
                            "#fb9f3a"
                          ],
                          [
                            0.8888888888888888,
                            "#fdca26"
                          ],
                          [
                            1,
                            "#f0f921"
                          ]
                        ],
                        "type": "contour"
                      }
                    ],
                    "contourcarpet": [
                      {
                        "colorbar": {
                          "outlinewidth": 0,
                          "ticks": ""
                        },
                        "type": "contourcarpet"
                      }
                    ],
                    "heatmap": [
                      {
                        "colorbar": {
                          "outlinewidth": 0,
                          "ticks": ""
                        },
                        "colorscale": [
                          [
                            0,
                            "#0d0887"
                          ],
                          [
                            0.1111111111111111,
                            "#46039f"
                          ],
                          [
                            0.2222222222222222,
                            "#7201a8"
                          ],
                          [
                            0.3333333333333333,
                            "#9c179e"
                          ],
                          [
                            0.4444444444444444,
                            "#bd3786"
                          ],
                          [
                            0.5555555555555556,
                            "#d8576b"
                          ],
                          [
                            0.6666666666666666,
                            "#ed7953"
                          ],
                          [
                            0.7777777777777778,
                            "#fb9f3a"
                          ],
                          [
                            0.8888888888888888,
                            "#fdca26"
                          ],
                          [
                            1,
                            "#f0f921"
                          ]
                        ],
                        "type": "heatmap"
                      }
                    ],
                    "heatmapgl": [
                      {
                        "colorbar": {
                          "outlinewidth": 0,
                          "ticks": ""
                        },
                        "colorscale": [
                          [
                            0,
                            "#0d0887"
                          ],
                          [
                            0.1111111111111111,
                            "#46039f"
                          ],
                          [
                            0.2222222222222222,
                            "#7201a8"
                          ],
                          [
                            0.3333333333333333,
                            "#9c179e"
                          ],
                          [
                            0.4444444444444444,
                            "#bd3786"
                          ],
                          [
                            0.5555555555555556,
                            "#d8576b"
                          ],
                          [
                            0.6666666666666666,
                            "#ed7953"
                          ],
                          [
                            0.7777777777777778,
                            "#fb9f3a"
                          ],
                          [
                            0.8888888888888888,
                            "#fdca26"
                          ],
                          [
                            1,
                            "#f0f921"
                          ]
                        ],
                        "type": "heatmapgl"
                      }
                    ],
                    "histogram": [
                      {
                        "marker": {
                          "pattern": {
                            "fillmode": "overlay",
                            "size": 10,
                            "solidity": 0.2
                          }
                        },
                        "type": "histogram"
                      }
                    ],
                    "histogram2d": [
                      {
                        "colorbar": {
                          "outlinewidth": 0,
                          "ticks": ""
                        },
                        "colorscale": [
                          [
                            0,
                            "#0d0887"
                          ],
                          [
                            0.1111111111111111,
                            "#46039f"
                          ],
                          [
                            0.2222222222222222,
                            "#7201a8"
                          ],
                          [
                            0.3333333333333333,
                            "#9c179e"
                          ],
                          [
                            0.4444444444444444,
                            "#bd3786"
                          ],
                          [
                            0.5555555555555556,
                            "#d8576b"
                          ],
                          [
                            0.6666666666666666,
                            "#ed7953"
                          ],
                          [
                            0.7777777777777778,
                            "#fb9f3a"
                          ],
                          [
                            0.8888888888888888,
                            "#fdca26"
                          ],
                          [
                            1,
                            "#f0f921"
                          ]
                        ],
                        "type": "histogram2d"
                      }
                    ],
                    "histogram2dcontour": [
                      {
                        "colorbar": {
                          "outlinewidth": 0,
                          "ticks": ""
                        },
                        "colorscale": [
                          [
                            0,
                            "#0d0887"
                          ],
                          [
                            0.1111111111111111,
                            "#46039f"
                          ],
                          [
                            0.2222222222222222,
                            "#7201a8"
                          ],
                          [
                            0.3333333333333333,
                            "#9c179e"
                          ],
                          [
                            0.4444444444444444,
                            "#bd3786"
                          ],
                          [
                            0.5555555555555556,
                            "#d8576b"
                          ],
                          [
                            0.6666666666666666,
                            "#ed7953"
                          ],
                          [
                            0.7777777777777778,
                            "#fb9f3a"
                          ],
                          [
                            0.8888888888888888,
                            "#fdca26"
                          ],
                          [
                            1,
                            "#f0f921"
                          ]
                        ],
                        "type": "histogram2dcontour"
                      }
                    ],
                    "mesh3d": [
                      {
                        "colorbar": {
                          "outlinewidth": 0,
                          "ticks": ""
                        },
                        "type": "mesh3d"
                      }
                    ],
                    "parcoords": [
                      {
                        "line": {
                          "colorbar": {
                            "outlinewidth": 0,
                            "ticks": ""
                          }
                        },
                        "type": "parcoords"
                      }
                    ],
                    "pie": [
                      {
                        "automargin": true,
                        "type": "pie"
                      }
                    ],
                    "scatter": [
                      {
                        "fillpattern": {
                          "fillmode": "overlay",
                          "size": 10,
                          "solidity": 0.2
                        },
                        "type": "scatter"
                      }
                    ],
                    "scatter3d": [
                      {
                        "line": {
                          "colorbar": {
                            "outlinewidth": 0,
                            "ticks": ""
                          }
                        },
                        "marker": {
                          "colorbar": {
                            "outlinewidth": 0,
                            "ticks": ""
                          }
                        },
                        "type": "scatter3d"
                      }
                    ],
                    "scattercarpet": [
                      {
                        "marker": {
                          "colorbar": {
                            "outlinewidth": 0,
                            "ticks": ""
                          }
                        },
                        "type": "scattercarpet"
                      }
                    ],
                    "scattergeo": [
                      {
                        "marker": {
                          "colorbar": {
                            "outlinewidth": 0,
                            "ticks": ""
                          }
                        },
                        "type": "scattergeo"
                      }
                    ],
                    "scattergl": [
                      {
                        "marker": {
                          "colorbar": {
                            "outlinewidth": 0,
                            "ticks": ""
                          }
                        },
                        "type": "scattergl"
                      }
                    ],
                    "scattermapbox": [
                      {
                        "marker": {
                          "colorbar": {
                            "outlinewidth": 0,
                            "ticks": ""
                          }
                        },
                        "type": "scattermapbox"
                      }
                    ],
                    "scatterpolar": [
                      {
                        "marker": {
                          "colorbar": {
                            "outlinewidth": 0,
                            "ticks": ""
                          }
                        },
                        "type": "scatterpolar"
                      }
                    ],
                    "scatterpolargl": [
                      {
                        "marker": {
                          "colorbar": {
                            "outlinewidth": 0,
                            "ticks": ""
                          }
                        },
                        "type": "scatterpolargl"
                      }
                    ],
                    "scatterternary": [
                      {
                        "marker": {
                          "colorbar": {
                            "outlinewidth": 0,
                            "ticks": ""
                          }
                        },
                        "type": "scatterternary"
                      }
                    ],
                    "surface": [
                      {
                        "colorbar": {
                          "outlinewidth": 0,
                          "ticks": ""
                        },
                        "colorscale": [
                          [
                            0,
                            "#0d0887"
                          ],
                          [
                            0.1111111111111111,
                            "#46039f"
                          ],
                          [
                            0.2222222222222222,
                            "#7201a8"
                          ],
                          [
                            0.3333333333333333,
                            "#9c179e"
                          ],
                          [
                            0.4444444444444444,
                            "#bd3786"
                          ],
                          [
                            0.5555555555555556,
                            "#d8576b"
                          ],
                          [
                            0.6666666666666666,
                            "#ed7953"
                          ],
                          [
                            0.7777777777777778,
                            "#fb9f3a"
                          ],
                          [
                            0.8888888888888888,
                            "#fdca26"
                          ],
                          [
                            1,
                            "#f0f921"
                          ]
                        ],
                        "type": "surface"
                      }
                    ],
                    "table": [
                      {
                        "cells": {
                          "fill": {
                            "color": "#EBF0F8"
                          },
                          "line": {
                            "color": "white"
                          }
                        },
                        "header": {
                          "fill": {
                            "color": "#C8D4E3"
                          },
                          "line": {
                            "color": "white"
                          }
                        },
                        "type": "table"
                      }
                    ]
                  },
                  "layout": {
                    "annotationdefaults": {
                      "arrowcolor": "#2a3f5f",
                      "arrowhead": 0,
                      "arrowwidth": 1
                    },
                    "autotypenumbers": "strict",
                    "coloraxis": {
                      "colorbar": {
                        "outlinewidth": 0,
                        "ticks": ""
                      }
                    },
                    "colorscale": {
                      "diverging": [
                        [
                          0,
                          "#8e0152"
                        ],
                        [
                          0.1,
                          "#c51b7d"
                        ],
                        [
                          0.2,
                          "#de77ae"
                        ],
                        [
                          0.3,
                          "#f1b6da"
                        ],
                        [
                          0.4,
                          "#fde0ef"
                        ],
                        [
                          0.5,
                          "#f7f7f7"
                        ],
                        [
                          0.6,
                          "#e6f5d0"
                        ],
                        [
                          0.7,
                          "#b8e186"
                        ],
                        [
                          0.8,
                          "#7fbc41"
                        ],
                        [
                          0.9,
                          "#4d9221"
                        ],
                        [
                          1,
                          "#276419"
                        ]
                      ],
                      "sequential": [
                        [
                          0,
                          "#0d0887"
                        ],
                        [
                          0.1111111111111111,
                          "#46039f"
                        ],
                        [
                          0.2222222222222222,
                          "#7201a8"
                        ],
                        [
                          0.3333333333333333,
                          "#9c179e"
                        ],
                        [
                          0.4444444444444444,
                          "#bd3786"
                        ],
                        [
                          0.5555555555555556,
                          "#d8576b"
                        ],
                        [
                          0.6666666666666666,
                          "#ed7953"
                        ],
                        [
                          0.7777777777777778,
                          "#fb9f3a"
                        ],
                        [
                          0.8888888888888888,
                          "#fdca26"
                        ],
                        [
                          1,
                          "#f0f921"
                        ]
                      ],
                      "sequentialminus": [
                        [
                          0,
                          "#0d0887"
                        ],
                        [
                          0.1111111111111111,
                          "#46039f"
                        ],
                        [
                          0.2222222222222222,
                          "#7201a8"
                        ],
                        [
                          0.3333333333333333,
                          "#9c179e"
                        ],
                        [
                          0.4444444444444444,
                          "#bd3786"
                        ],
                        [
                          0.5555555555555556,
                          "#d8576b"
                        ],
                        [
                          0.6666666666666666,
                          "#ed7953"
                        ],
                        [
                          0.7777777777777778,
                          "#fb9f3a"
                        ],
                        [
                          0.8888888888888888,
                          "#fdca26"
                        ],
                        [
                          1,
                          "#f0f921"
                        ]
                      ]
                    },
                    "colorway": [
                      "#636efa",
                      "#EF553B",
                      "#00cc96",
                      "#ab63fa",
                      "#FFA15A",
                      "#19d3f3",
                      "#FF6692",
                      "#B6E880",
                      "#FF97FF",
                      "#FECB52"
                    ],
                    "font": {
                      "color": "#2a3f5f"
                    },
                    "geo": {
                      "bgcolor": "white",
                      "lakecolor": "white",
                      "landcolor": "#E5ECF6",
                      "showlakes": true,
                      "showland": true,
                      "subunitcolor": "white"
                    },
                    "hoverlabel": {
                      "align": "left"
                    },
                    "hovermode": "closest",
                    "mapbox": {
                      "style": "light"
                    },
                    "paper_bgcolor": "white",
                    "plot_bgcolor": "#E5ECF6",
                    "polar": {
                      "angularaxis": {
                        "gridcolor": "white",
                        "linecolor": "white",
                        "ticks": ""
                      },
                      "bgcolor": "#E5ECF6",
                      "radialaxis": {
                        "gridcolor": "white",
                        "linecolor": "white",
                        "ticks": ""
                      }
                    },
                    "scene": {
                      "xaxis": {
                        "backgroundcolor": "#E5ECF6",
                        "gridcolor": "white",
                        "gridwidth": 2,
                        "linecolor": "white",
                        "showbackground": true,
                        "ticks": "",
                        "zerolinecolor": "white"
                      },
                      "yaxis": {
                        "backgroundcolor": "#E5ECF6",
                        "gridcolor": "white",
                        "gridwidth": 2,
                        "linecolor": "white",
                        "showbackground": true,
                        "ticks": "",
                        "zerolinecolor": "white"
                      },
                      "zaxis": {
                        "backgroundcolor": "#E5ECF6",
                        "gridcolor": "white",
                        "gridwidth": 2,
                        "linecolor": "white",
                        "showbackground": true,
                        "ticks": "",
                        "zerolinecolor": "white"
                      }
                    },
                    "shapedefaults": {
                      "line": {
                        "color": "#2a3f5f"
                      }
                    },
                    "ternary": {
                      "aaxis": {
                        "gridcolor": "white",
                        "linecolor": "white",
                        "ticks": ""
                      },
                      "baxis": {
                        "gridcolor": "white",
                        "linecolor": "white",
                        "ticks": ""
                      },
                      "bgcolor": "#E5ECF6",
                      "caxis": {
                        "gridcolor": "white",
                        "linecolor": "white",
                        "ticks": ""
                      }
                    },
                    "title": {
                      "x": 0.05
                    },
                    "xaxis": {
                      "automargin": true,
                      "gridcolor": "white",
                      "linecolor": "white",
                      "ticks": "",
                      "title": {
                        "standoff": 15
                      },
                      "zerolinecolor": "white",
                      "zerolinewidth": 2
                    },
                    "yaxis": {
                      "automargin": true,
                      "gridcolor": "white",
                      "linecolor": "white",
                      "ticks": "",
                      "title": {
                        "standoff": 15
                      },
                      "zerolinecolor": "white",
                      "zerolinewidth": 2
                    }
                  }
                },
                "xaxis": {
                  "anchor": "y",
                  "domain": [
                    0,
                    0.2888888888888889
                  ]
                },
                "xaxis2": {
                  "anchor": "y2",
                  "domain": [
                    0.35555555555555557,
                    0.6444444444444445
                  ]
                },
                "xaxis3": {
                  "anchor": "y3",
                  "domain": [
                    0.7111111111111111,
                    1
                  ]
                },
                "yaxis": {
                  "anchor": "x",
                  "domain": [
                    0,
                    1
                  ]
                },
                "yaxis2": {
                  "anchor": "x2",
                  "domain": [
                    0,
                    1
                  ]
                },
                "yaxis3": {
                  "anchor": "x3",
                  "domain": [
                    0,
                    1
                  ]
                }
              }
            }
          },
          "metadata": {},
          "output_type": "display_data"
        }
      ],
      "source": [
        "# 시각화\n",
        "wf.visualizer()"
      ]
    },
    {
      "cell_type": "code",
      "execution_count": null,
      "metadata": {
        "id": "5Bwe3gCOw9YR"
      },
      "outputs": [],
      "source": [
        "# 저장된 weight 불러오기\n",
        "wf.model.load_weights(f\"{save_name}.h5\")"
      ]
    },
    {
      "cell_type": "code",
      "execution_count": null,
      "metadata": {
        "id": "v0KgsTF3w9YR"
      },
      "outputs": [],
      "source": [
        "test_data = test_df['facts'].tolist()\n",
        "test_ds = wf.get_test_dataset(test_data)"
      ]
    },
    {
      "cell_type": "code",
      "execution_count": null,
      "metadata": {
        "id": "vV3n9Z5bw9YR",
        "outputId": "1129e1b4-4c49-41ae-9166-754aabeb517c"
      },
      "outputs": [
        {
          "name": "stdout",
          "output_type": "stream",
          "text": [
            "30/39 [======================>.......] - ETA: 3s"
          ]
        }
      ],
      "source": [
        "y_pred = wf.get_predict()\n",
        "\n",
        "y_pred"
      ]
    }
  ],
  "metadata": {
    "kernelspec": {
      "display_name": "tflow",
      "language": "python",
      "name": "python3"
    },
    "language_info": {
      "codemirror_mode": {
        "name": "ipython",
        "version": 3
      },
      "file_extension": ".py",
      "mimetype": "text/x-python",
      "name": "python",
      "nbconvert_exporter": "python",
      "pygments_lexer": "ipython3",
      "version": "3.10.11"
    },
    "orig_nbformat": 4,
    "colab": {
      "provenance": [],
      "include_colab_link": true
    }
  },
  "nbformat": 4,
  "nbformat_minor": 0
}
