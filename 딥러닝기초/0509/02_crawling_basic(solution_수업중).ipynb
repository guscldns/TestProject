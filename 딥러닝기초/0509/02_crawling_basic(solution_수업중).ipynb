{
  "cells": [
    {
      "cell_type": "markdown",
      "metadata": {
        "id": "view-in-github",
        "colab_type": "text"
      },
      "source": [
        "<a href=\"https://colab.research.google.com/github/guscldns/TestProject/blob/main/0509/02_crawling_basic(solution_%EC%88%98%EC%97%85%EC%A4%91).ipynb\" target=\"_parent\"><img src=\"https://colab.research.google.com/assets/colab-badge.svg\" alt=\"Open In Colab\"/></a>"
      ]
    },
    {
      "cell_type": "markdown",
      "source": [
        "### 1. 삼성전자 뉴스 기사제목 100개 가져오기"
      ],
      "metadata": {
        "id": "WCvlSfVNCMJy"
      }
    },
    {
      "cell_type": "markdown",
      "source": [
        "#### 1-1. 이중 반복문을 이용하여 기사제목 100개 출력하기\n",
        "\n",
        "1. url 10개 반복 requests get\n",
        "2. soup(html)에서 select한 a태그 10개 반복 title 파싱하여 출력\n",
        "\n"
      ],
      "metadata": {
        "id": "uXyPWE8AEJw9"
      }
    },
    {
      "cell_type": "code",
      "source": [
        "start = str(1)\n",
        "'start=' + start"
      ],
      "metadata": {
        "colab": {
          "base_uri": "https://localhost:8080/",
          "height": 36
        },
        "id": "tJ58BebG9i7d",
        "outputId": "25f7c170-c601-48ee-e129-74530e64f84c"
      },
      "execution_count": null,
      "outputs": [
        {
          "output_type": "execute_result",
          "data": {
            "text/plain": [
              "'start=1'"
            ],
            "application/vnd.google.colaboratory.intrinsic+json": {
              "type": "string"
            }
          },
          "metadata": {},
          "execution_count": 8
        }
      ]
    },
    {
      "cell_type": "code",
      "source": [
        "import requests\n",
        "from bs4 import BeautifulSoup"
      ],
      "metadata": {
        "id": "YFbvwTuyCjlY"
      },
      "execution_count": null,
      "outputs": []
    },
    {
      "cell_type": "code",
      "source": [
        "for i in range(10):\n",
        "    # 1 -> 11 -> 21 \n",
        "    # i = 0, 1, 2, n -> start = 1, 11, 21, n*10 + 1\n",
        "    start = i*10 + 1\n",
        "    # url = f'https://search.naver.com/search.naver?where=news&sm=tab_pge&query=%EC%82%BC%EC%84%B1%EC%A0%84%EC%9E%90&sort=0&photo=0&field=0&pd=0&ds=&de=&cluster_rank=97&mynews=0&office_type=0&office_section_code=0&news_office_checked=&nso=so:r,p:all,a:all&start={start}'\n",
        "    # url = 'https://search.naver.com/search.naver?where=news&sm=tab_pge&query=%EC%82%BC%EC%84%B1%EC%A0%84%EC%9E%90&sort=0&photo=0&field=0&pd=0&ds=&de=&cluster_rank=97&mynews=0&office_type=0&office_section_code=0&news_office_checked=&nso=so:r,p:all,a:all&start={start}'.format(start=start)\n",
        "    url = 'https://search.naver.com/search.naver?where=news&sm=tab_pge&query=%EC%82%BC%EC%84%B1%EC%A0%84%EC%9E%90&sort=0&photo=0&field=0&pd=0&ds=&de=&cluster_rank=97&mynews=0&office_type=0&office_section_code=0&news_office_checked=&nso=so:r,p:all,a:all&start=' + str(start)\n",
        "    \n",
        "\n",
        "    resp = requests.get(url)\n",
        "\n",
        "    soup = BeautifulSoup(resp.content, 'lxml')\n",
        "    a_tags = soup.select('a.news_tit')\n",
        "\n",
        "    for a_tag in a_tags:\n",
        "        print(a_tag['title'])"
      ],
      "metadata": {
        "colab": {
          "base_uri": "https://localhost:8080/"
        },
        "id": "uECPiRPLCigc",
        "outputId": "87cd3444-404b-40f7-c49f-2182cd2c714e"
      },
      "execution_count": null,
      "outputs": [
        {
          "output_type": "stream",
          "name": "stdout",
          "text": [
            "삼성전기 4.1% 임금인상 유력, \"올해도 삼성전자가 기준\"\n",
            "삼성전자서비스, 울릉도서 가전제품 특별 점검 실시\n",
            "삼성전자 파운드리, 출범 5년만에 매출 200억 달러 돌파\n",
            "外人의 삼성전자 홀릭…올해 벌써 8.1조 순매수\n",
            "[PS 산업] 삼성전자, LG전자, SKT\n",
            "“라이벌 대만도 제칠 만해”...삼성전자 기술력 이정도였다니\n",
            "\"일하다 운 적 있다\"…아무나 못하는 '0.02%' 삼성전자 사장\n",
            "삼성전자가 '달수 인형'을 만든 이유\n",
            "주주 속탈만 하네…삼성전자·SK하이닉스, 수익성지표 악화 [이코노 리포트]\n",
            "삼성전자, 3나노 2세대 '베일' 벗는다…\"4나노와 비교 불가\"\n",
            "\"일하다 운 적 있다\"…아무나 못하는 '0.02%' 삼성전자 사장\n",
            "삼성전자가 '달수 인형'을 만든 이유\n",
            "‘맏형’ 따라가는 삼성 전자계열사…삼성D, 4.1% 인상 합의\n",
            "삼성전자, 독일 함부르크서 '2030 부산엑스포' 유치 홍보\n",
            "반도체 부진 車가 채운 1분기…삼성전자 비중 43.7% 급감\n",
            "\"삼성전자\" 캐시워크 돈버는 퀴즈 정답은?\n",
            "'20조 손실' 버티면 웃는다…삼성전자·SK하이닉스 '고진감래' [김익환의 컴퍼니워치]\n",
            "삼성전자, 반도체 이어 '바이오 신화' 이룬다\n",
            "주주 속탈만 하네…삼성전자·SK하이닉스, 수익성지표 악화 [이코노 리포트]\n",
            "삼성전자, 유럽 최대 항구축제서 부산엑스포 홍보\n",
            "\"반도체株 지금이 바닥\"…개인은 ETF, 외국인은 삼성전자 매집\n",
            "삼성전자 ㅂㅅㅍㅋ…캐시워크 퀴즈는 \"OOOO\"\n",
            "“갤럭시 3대 팔아야 아이폰 1대 이익”… 삼성전자, 스마트폰 평균판매가 올려 수익성 방어 총력전\n",
            "\"삼성전자 2분기 영업이익 전망 2,700억 원대...98%↓\"\n",
            "취준생 목표 1위 삼성전자 나와서 창업한 이 사람 [fn이사람]\n",
            "삼성전자, 임금교섭 '진통'…사상 첫 파업 나오나\n",
            "평택 삼성전자 협력업체 직원 '상습 휴대폰 절도' 혐의 입건\n",
            "삼성전자, 독일 함부르크 개항축제서 ‘부산엑스포’ 유치 홍보\n",
            "삼성전자 감산효과는…\"2분기말 시작, 하반기 극대화\"\n",
            "[뉴스줌인]삼성전자, 바이오 한미동맹 확인...“바이오 제2반도체로”\n",
            "일현전자, 삼성스토어 용인처인·용인시청점 오픈\n",
            "“美, 삼성전자·SK하이닉스 中 장비 반입 1년 추가 연장할 듯”\n",
            "'수소버스' 대중화 가속 … 삼성전자·포스코 등 2026년까지 통근버스 2000대로 확대\n",
            "삼성전자, 갤워치 불규칙 심장 리듬 알림 美 FDA 승인\n",
            "상장 중견기업, 작년 R&D투자 12.5% 늘렸다…삼성전자 21% 수준\n",
            "[주간 추천주] 실적 주목…삼성전자·한국전력·넷마블 '러브콜'\n",
            "코스피, 외인·기관 매수에 0.5% 상승…기관 네이버·삼성전자·LG이노텍 등 순매수\n",
            "삼성카드 '전자 형님' 덕에 할부시장 선두…소비자 혜택은 '역행'\n",
            "삼성전자, 인도서 2023년 Neo QLED 제품 공개 행사 개최\n",
            "삼성전자, TSMC 맹렬한 추격 … \"2나노 급 동등 기술력 갖출 것\"\n",
            "삼성전자, 인도서 2023년 TV 신제품 공개\n",
            "경계현 삼성전자 사장 \"5년내 TSMC 잡는다\" KAIST서 강연\n",
            "삼성전자 DX 부문, 4년 만에 임직원 가족 7.5만명 초청\n",
            "폴더블폰 출시 예고한 구글, 삼성전자에 미칠 영향은?\n",
            "코스피, 외국인 순매수도 상위 10종목(8일)...NAVER-삼성전자-LG 이노텍\n",
            "삼성전자 '원 UI 5 워치' 공개'…긴급 SOS 기능' 추가\n",
            "삼성전자, DX 부문에 '챗GPT' 사용 제한…\"데이터 유출 우려\"\n",
            "삼성전자 54년만 파업 피했지만…임금협상은 과제\n",
            "삼성전자, 3나노 2세대 반도체 내년 양산…성능 20% 더 좋아져\n",
            "첫 폴더블 폰 내는 구글, 삼성전자와 안드로이드 동맹까지 접히나\n",
            "어린이날 기념 가족 초청 행사 진행한 삼성전자\n",
            "삼성전자·포스코 등 7개사, 통근버스 수소차로 전환\n",
            "삼성전자·SK하이닉스, 직원 참여형 '비용 줄이기' 확대\n",
            "삼성전자 노조, 쟁의권 확보…중노위 조정 중지 결정\n",
            "삼성전자 신제품 '3각 편대'…국내 PC 시장 공략\n",
            "사원증 대면 1000원씩 기부…삼성전자에 '나눔 키오스크'\n",
            "삼성전자, 인도서 2023년 TV 신제품 발표\n",
            "베일 벗은 구글 폴더블폰…삼성전자가 반기는 이유\n",
            "삼성전자는 인재 전쟁 중… '귀한 몸' SW 개발자, 어떻게 키우나\n",
            "'삼성전자 보유' 미성년자 40만명… 증권사 유치 경쟁 분주\n",
            "[이번주 추천주] 글로벌 불확실성 여전…삼성전자 등 실적개선주 주목\n",
            "[뉴투분석] 삼성전자 경계현 호(號), 5년 내 파운드리 세계 1위 도약하는데 자신하는 이유는\n",
            "삼성전자·SK하이닉스, 올해 20조 적자 우려…자금 확보 '비상'\n",
            "KAIST에서 강연하는 경계현 삼성전자 사장\n",
            "[Invest]돈 못 번 삼성전자 때문에…연봉 상승에 제동 걸린 계열사들\n",
            "삼성전자 DX 부문 '임직원 및 협력사 가족 초청 행사' 개최\n",
            "삼성전자 \"98형 TV 판매, 전년비 3.5배↑…제품군 확대\"\n",
            "LG U+, 삼성전자와 1,000대 한정 ‘갤 S23 슈퍼말차 피크닉 에디션’ 단독 론칭\n",
            "[하반기 증시진단] “삼성전자, ‘8만전자’ 간다…2차 전지 다음은”\n",
            "삼성·LG전자, 마이크로 LED 개발 박차…중국과 기술격차 벌린다\n",
            "삼성전자 TV, 실적 부진에 LCD 패널가 상승까지 '이중고'\n",
            "삼성전자, 차기 갤럭시S24 엑시노스 버전 일부 지역서 출시 가능성\n",
            "삼성전자 감산·빅테크 실적·기시다 효과 '겹호재', 반도체주 기대감 커진다\n",
            "삼성전자노조, 기자회견\n",
            "EU, 반도체 경쟁 본격 가세…삼성전자, 유럽 진출 어쩌나\n",
            "[캐시워크 종합] 5월 8일 오후 8시40분 현재 'G라이브 삼성전자 의류케어' 관련 등 문제들의 정답은?\n",
            "中 잡았더니 애플 침공…삼성전자, 인도 수성 전략은?\n",
            "삼성전자, 새 워치 OS ‘원 UI 5 워치’ 공개\n",
            "삼성전자, 반도체 생산라인에 IoT·AI 접목… 생산비용 절감 기대\n",
            "한국투자증권, 테슬라·삼성전자 기초자산으로 하는 만기상승부스터형 ELS 2종 모집\n",
            "[1시] 삼성전자 캐시워크 돈버는퀴즈 정답 5월 8일\n",
            "[단독] 경계현 삼성전자 사장 “2028년까지 슈퍼컴 개발 목표”\n",
            "삼성전자, 크라운제과와 손잡고 '안전한 하굣길 프로젝트'\n",
            "콰트, 삼성전자와 '갤럭시 탭 S8 시리즈' 구매 고객 대상 프로모션 실시\n",
            "삼성전자, '일상의 기부' 확산…5월 '나눔의달' 캠페인\n",
            "삼성전자 판매노조 \"삼성 꿈의 직장이었는데…자부심 사라져\"\n",
            "[특징주]하이딥, 삼성전자 '원 UI 5 워치' 공개에 강세\n",
            "삼성전자 주가 '방실방실'…차세대 공정 개발 순항 '자신만만'\n",
            "[E Works] 삼성전자·LG전자\n",
            "삼성전자-크라운제과, 어린이 교통사고 예방 캠페인\n",
            "삼성전자, 독일 함부르크 개항축제서 '부산엑스포' 유치홍보\n",
            "[TECH한주] 삼성전자, '갤워치'로 디지털 헬스케어시장 공략 강화\n",
            "삼성전자, 사용자 수면 질 높이는 '원 UI 5 워치' 공개\n",
            "\"버티면, 이긴다\" 삼성전자·SK하이닉스 '혹한기' 전략\n",
            "K반도체 가장 힘들때 고개든 노조 이기주의 [반도체 반등 절실한 삼성전자]\n",
            "[기자의눈] 삼성전자 노사, 지금은 뭉쳐야 할 때\n",
            "(종합) 캐시닥/타임스프레드/지니어트, 8일 오후 9시 5분 현재 'G라이브 삼성전자 의류케어' 관련 등 문제들의 정답은?\n",
            "삼성전자, '원 UI 5 워치' 공개\n",
            "‘미성년 개미’ 3년 만에 8배 늘어… 국내 ‘삼성전자’ 해외 ‘애플’ 선호\n",
            "TSMC, 美 반도체 가격 올리나…삼성전자 '추격 기회'\n"
          ]
        }
      ]
    },
    {
      "cell_type": "markdown",
      "source": [
        "#### 1-2. 기사제목 저장할 리스트 선언하여 append하여 저장하기"
      ],
      "metadata": {
        "id": "JMOA59Q1CYwK"
      }
    },
    {
      "cell_type": "code",
      "source": [
        "titles = []"
      ],
      "metadata": {
        "id": "Ri6fW5hRErOY"
      },
      "execution_count": null,
      "outputs": []
    },
    {
      "cell_type": "code",
      "source": [
        "for i in range(10):\n",
        "    start = i*10 + 1\n",
        "    url = f'https://search.naver.com/search.naver?where=news&sm=tab_pge&query=%EC%82%BC%EC%84%B1%EC%A0%84%EC%9E%90&sort=0&photo=0&field=0&pd=0&ds=&de=&cluster_rank=97&mynews=0&office_type=0&office_section_code=0&news_office_checked=&nso=so:r,p:all,a:all&start={start}'\n",
        "\n",
        "    resp = requests.get(url)\n",
        "    soup = BeautifulSoup(resp.content, 'lxml')\n",
        "\n",
        "    a_tags = soup.select('a.news_tit')\n",
        "\n",
        "    # titles = [] #: 여기에서 선언하면 안되는 이유?\n",
        "    for a_tag in a_tags:\n",
        "        titles.append(a_tag['title'])\n",
        "titles"
      ],
      "metadata": {
        "id": "RKw1Xk8LCYrO",
        "colab": {
          "base_uri": "https://localhost:8080/"
        },
        "outputId": "e060f768-ce45-4ad9-a1e1-413cb70df611"
      },
      "execution_count": null,
      "outputs": [
        {
          "output_type": "execute_result",
          "data": {
            "text/plain": [
              "[\"삼성전자, 독일 함부르크 개항축제서 '부산엑스포' 유치홍보\",\n",
              " \"삼성전자, 사용자 수면 질 높이는 '원 UI 5 워치' 공개\",\n",
              " \"[TECH한주] 삼성전자, '갤워치'로 디지털 헬스케어시장 공략 강화\",\n",
              " '\"버티면, 이긴다\" 삼성전자·SK하이닉스 \\'혹한기\\' 전략',\n",
              " 'K반도체 가장 힘들때 고개든 노조 이기주의 [반도체 반등 절실한 삼성전자]',\n",
              " '[기자의눈] 삼성전자 노사, 지금은 뭉쳐야 할 때',\n",
              " \"(종합) 캐시닥/타임스프레드/지니어트, 8일 오후 9시 5분 현재 'G라이브 삼성전자 의류케어' 관련 등 문제들의 정답은?\",\n",
              " \"삼성전자, '원 UI 5 워치' 공개\",\n",
              " '‘미성년 개미’ 3년 만에 8배 늘어… 국내 ‘삼성전자’ 해외 ‘애플’ 선호',\n",
              " \"TSMC, 美 반도체 가격 올리나…삼성전자 '추격 기회'\"]"
            ]
          },
          "metadata": {},
          "execution_count": 17
        }
      ]
    },
    {
      "cell_type": "code",
      "source": [
        "len(titles)"
      ],
      "metadata": {
        "colab": {
          "base_uri": "https://localhost:8080/"
        },
        "id": "BXY6TlRSd-W-",
        "outputId": "afa6bdb5-5633-4c9b-965b-e68044547de9"
      },
      "execution_count": null,
      "outputs": [
        {
          "output_type": "execute_result",
          "data": {
            "text/plain": [
              "10"
            ]
          },
          "metadata": {},
          "execution_count": 18
        }
      ]
    },
    {
      "cell_type": "markdown",
      "source": [
        "#### 1-3. 긴 url 쿼리스트링 따로 분리하기"
      ],
      "metadata": {
        "id": "Fxv0kKrKCYmi"
      }
    },
    {
      "cell_type": "code",
      "source": [
        "titles = []"
      ],
      "metadata": {
        "id": "y3tywSKeBqjj"
      },
      "execution_count": null,
      "outputs": []
    },
    {
      "cell_type": "code",
      "source": [
        "for i in range(10):\n",
        "    start = i*10 + 1\n",
        "\n",
        "    url = 'https://search.naver.com/search.naver'\n",
        "\n",
        "    params = {\n",
        "    'where':'news',\n",
        "    'query':'삼성전자',\n",
        "    'start': start\n",
        "    }\n",
        "\n",
        "    resp = requests.get(url, params=params)\n",
        "    # resp = requests.get(url)\n",
        "\n",
        "    # print(resp)\n",
        "\n",
        "    soup = BeautifulSoup(resp.content, 'lxml')\n",
        "\n",
        "    a_tags = soup.select('a.news_tit')\n",
        "\n",
        "    for a_tag in a_tags:\n",
        "        titles.append(a_tag['title'])"
      ],
      "metadata": {
        "colab": {
          "base_uri": "https://localhost:8080/"
        },
        "id": "M5t1JpXpBqZf",
        "outputId": "37989b41-af6d-44a0-b3d6-5b85ce69f9e9"
      },
      "execution_count": null,
      "outputs": [
        {
          "output_type": "stream",
          "name": "stdout",
          "text": [
            "<Response [200]>\n",
            "<Response [200]>\n",
            "<Response [200]>\n",
            "<Response [200]>\n",
            "<Response [200]>\n",
            "<Response [200]>\n",
            "<Response [200]>\n",
            "<Response [200]>\n",
            "<Response [200]>\n",
            "<Response [200]>\n"
          ]
        }
      ]
    },
    {
      "cell_type": "markdown",
      "source": [
        "## 2. 알라딘 베스트셀러 top50 종합 도서 _ 제목, 작가, 가격"
      ],
      "metadata": {
        "id": "9N2ErRhYEhmI"
      }
    },
    {
      "cell_type": "code",
      "source": [
        "url = 'https://www.aladin.co.kr/shop/common/wbest.aspx?BestType=Bestseller&BranchType=1&CID=0'\n",
        "\n",
        "resp = requests.get(url)\n",
        "resp"
      ],
      "metadata": {
        "id": "zxySjA9-BqJm",
        "colab": {
          "base_uri": "https://localhost:8080/"
        },
        "outputId": "c975d201-2ed4-4af5-ee11-d6050edc6e8d"
      },
      "execution_count": null,
      "outputs": [
        {
          "output_type": "execute_result",
          "data": {
            "text/plain": [
              "<Response [200]>"
            ]
          },
          "metadata": {},
          "execution_count": 21
        }
      ]
    },
    {
      "cell_type": "code",
      "source": [
        "# 빌드업1\n",
        "# 하나의 도서 블럭에서 작가 정보 가져오기\n",
        "\n",
        "# div_tag = soup.select('div.ss_book_list')[0]\n",
        "# print(len(div_tag))\n",
        "\n",
        "# li_tags = div_tag.select('li')\n",
        "# a_tags = li_tags[2].select('a')\n",
        "# a_tags[0].text"
      ],
      "metadata": {
        "id": "V5zWskm7OUHb"
      },
      "execution_count": null,
      "outputs": []
    },
    {
      "cell_type": "code",
      "source": [
        "# 빌드업2\n",
        "# 모든 도서 블럭에서 작가 정보 가져오기\n",
        "\n",
        "# booklist_tags = soup.select('div.ss_book_box div.ss_book_list')[::2]\n",
        "# len(booklist_tags)\n",
        "\n",
        "# for booklist_tag in booklist_tags:\n",
        "#     li_tags = booklist_tag.select('li')\n",
        "#     print(len(li_tags))"
      ],
      "metadata": {
        "id": "IUJ9jIaKWlBm"
      },
      "execution_count": null,
      "outputs": []
    },
    {
      "cell_type": "code",
      "source": [
        "tits, auts, prcs = [], [], []"
      ],
      "metadata": {
        "id": "FK37f_YPOjYB"
      },
      "execution_count": null,
      "outputs": []
    },
    {
      "cell_type": "code",
      "source": [
        "soup = BeautifulSoup(resp.content, 'lxml')\n",
        "\n",
        "# 제목\n",
        "tit_tags = soup.select('a.bo3')\n",
        "for tit_tag in tit_tags:\n",
        "    tits.append(tit_tag.text)\n",
        "\n",
        "# 작가\n",
        "### 각 묶음의 3번째꺼만 뽑아내는 방법 : 슬라이싱\n",
        "booklist_tags = soup.select('div.ss_book_box div.ss_book_list')[::2]\n",
        "len(booklist_tags)\n",
        "\n",
        "for booklist_tag in booklist_tags:\n",
        "    aut_li_tag = booklist_tag.select('li')[-3]\n",
        "    aut_tag = aut_li_tag.select('a')[0]\n",
        "    auts.append(aut_tag.text)\n",
        "\n",
        "# 가격\n",
        "prc_tags = soup.select('span.ss_p2 span')\n",
        "for prc_tag in prc_tags:\n",
        "    prcs.append(prc_tag.text)"
      ],
      "metadata": {
        "id": "vdPnAbH9FA6o"
      },
      "execution_count": null,
      "outputs": []
    },
    {
      "cell_type": "code",
      "source": [
        "len(tits), len(auts), len(prcs)"
      ],
      "metadata": {
        "colab": {
          "base_uri": "https://localhost:8080/"
        },
        "id": "QaHkfKq8Sf00",
        "outputId": "901b2232-ca23-418e-f715-1f387752cb81"
      },
      "execution_count": null,
      "outputs": [
        {
          "output_type": "execute_result",
          "data": {
            "text/plain": [
              "(50, 50, 50)"
            ]
          },
          "metadata": {},
          "execution_count": 70
        }
      ]
    },
    {
      "cell_type": "code",
      "source": [
        "prcs"
      ],
      "metadata": {
        "colab": {
          "base_uri": "https://localhost:8080/"
        },
        "id": "MYzuijYxXCMk",
        "outputId": "1ad79ae2-d0d6-4e84-fd06-f692096ba7f9"
      },
      "execution_count": null,
      "outputs": [
        {
          "output_type": "execute_result",
          "data": {
            "text/plain": [
              "['5,400',\n",
              " '6,480',\n",
              " '13,050',\n",
              " '15,120',\n",
              " '13,500',\n",
              " '5,400',\n",
              " '22,500',\n",
              " '15,750',\n",
              " '31,500',\n",
              " '16,200',\n",
              " '6,930',\n",
              " '14,220',\n",
              " '13,500',\n",
              " '5,400',\n",
              " '17,100',\n",
              " '13,500',\n",
              " '20,700',\n",
              " '16,200',\n",
              " '13,050',\n",
              " '16,920',\n",
              " '13,500',\n",
              " '29,700',\n",
              " '16,020',\n",
              " '11,700',\n",
              " '5,400',\n",
              " '16,200',\n",
              " '5,400',\n",
              " '12,600',\n",
              " '28,800',\n",
              " '16,020',\n",
              " '17,550',\n",
              " '16,920',\n",
              " '15,750',\n",
              " '18,000',\n",
              " '15,300',\n",
              " '5,400',\n",
              " '5,400',\n",
              " '13,050',\n",
              " '5,400',\n",
              " '5,400',\n",
              " '5,400',\n",
              " '5,400',\n",
              " '10,800',\n",
              " '18,000',\n",
              " '5,400',\n",
              " '16,020',\n",
              " '10,800',\n",
              " '5,400',\n",
              " '13,500',\n",
              " '7,200']"
            ]
          },
          "metadata": {},
          "execution_count": 71
        }
      ]
    },
    {
      "cell_type": "markdown",
      "source": [
        "## 3. 알라딘 모든 카테고리 top 50 도서 정보가져오기"
      ],
      "metadata": {
        "id": "pSFgfSQLYU4B"
      }
    },
    {
      "cell_type": "code",
      "source": [
        "url = 'https://www.aladin.co.kr/shop/common/wbest.aspx?BestType=Bestseller&BranchType=1&CID=0'\n",
        "\n",
        "resp = requests.get(url)\n",
        "resp"
      ],
      "metadata": {
        "colab": {
          "base_uri": "https://localhost:8080/"
        },
        "id": "d4XfvvDiYgBN",
        "outputId": "942aaa6d-fd63-4596-878a-c5d5d549f33e"
      },
      "execution_count": null,
      "outputs": [
        {
          "output_type": "execute_result",
          "data": {
            "text/plain": [
              "<Response [200]>"
            ]
          },
          "metadata": {},
          "execution_count": 72
        }
      ]
    },
    {
      "cell_type": "code",
      "source": [
        "cat_urls = []"
      ],
      "metadata": {
        "id": "bJrbAz1SY90A"
      },
      "execution_count": null,
      "outputs": []
    },
    {
      "cell_type": "code",
      "source": [
        "soup = BeautifulSoup(resp.content, 'lxml')\n",
        "cat_tags = soup.select('ul.best_left_ul li a')\n",
        "# len(cat_tags) # 31\n",
        "\n",
        "for cat_tag in cat_tags:\n",
        "    cat_urls.append('https://www.aladin.co.kr'+cat_tag['href'])\n",
        "cat_urls"
      ],
      "metadata": {
        "colab": {
          "base_uri": "https://localhost:8080/"
        },
        "id": "TbhMRX4UYUpa",
        "outputId": "c68faebe-20f9-45bb-9499-a6b13ab4fd08"
      },
      "execution_count": null,
      "outputs": [
        {
          "output_type": "execute_result",
          "data": {
            "text/plain": [
              "['https://www.aladin.co.kr/shop/common/wbest.aspx?BestType=Bestseller&BranchType=1&CID=0',\n",
              " 'https://www.aladin.co.kr/shop/common/wbest.aspx?BestType=Bestseller&BranchType=1&CID=55890',\n",
              " 'https://www.aladin.co.kr/shop/common/wbest.aspx?BestType=Bestseller&BranchType=1&CID=170',\n",
              " 'https://www.aladin.co.kr/shop/common/wbest.aspx?BestType=Bestseller&BranchType=1&CID=2105',\n",
              " 'https://www.aladin.co.kr/shop/common/wbest.aspx?BestType=Bestseller&BranchType=1&CID=987',\n",
              " 'https://www.aladin.co.kr/shop/common/wbest.aspx?BestType=Bestseller&BranchType=1&CID=8257',\n",
              " 'https://www.aladin.co.kr/shop/common/wbest.aspx?BestType=Bestseller&BranchType=1&CID=2551',\n",
              " 'https://www.aladin.co.kr/shop/common/wbest.aspx?BestType=Bestseller&BranchType=1&CID=4395',\n",
              " 'https://www.aladin.co.kr/shop/common/wbest.aspx?BestType=Bestseller&BranchType=1&CID=798',\n",
              " 'https://www.aladin.co.kr/shop/common/wbest.aspx?BestType=Bestseller&BranchType=1&CID=1',\n",
              " 'https://www.aladin.co.kr/shop/common/wbest.aspx?BestType=Bestseller&BranchType=1&CID=1383',\n",
              " 'https://www.aladin.co.kr/shop/common/wbest.aspx?BestType=Bestseller&BranchType=1&CID=1108',\n",
              " 'https://www.aladin.co.kr/shop/common/wbest.aspx?BestType=Bestseller&BranchType=1&CID=55889',\n",
              " 'https://www.aladin.co.kr/shop/common/wbest.aspx?BestType=Bestseller&BranchType=1&CID=1196',\n",
              " 'https://www.aladin.co.kr/shop/common/wbest.aspx?BestType=Bestseller&BranchType=1&CID=74',\n",
              " 'https://www.aladin.co.kr/shop/common/wbest.aspx?BestType=Bestseller&BranchType=1&CID=517',\n",
              " 'https://www.aladin.co.kr/shop/common/wbest.aspx?BestType=Bestseller&BranchType=1&CID=1230',\n",
              " 'https://www.aladin.co.kr/shop/common/wbest.aspx?BestType=Bestseller&BranchType=1&CID=1322',\n",
              " 'https://www.aladin.co.kr/shop/common/wbest.aspx?BestType=Bestseller&BranchType=1&CID=13789',\n",
              " 'https://www.aladin.co.kr/shop/common/wbest.aspx?BestType=Bestseller&BranchType=1&CID=656',\n",
              " 'https://www.aladin.co.kr/shop/common/wbest.aspx?BestType=Bestseller&BranchType=1&CID=336',\n",
              " 'https://www.aladin.co.kr/shop/common/wbest.aspx?BestType=Bestseller&BranchType=1&CID=112011',\n",
              " 'https://www.aladin.co.kr/shop/common/wbest.aspx?BestType=Bestseller&BranchType=1&CID=2913',\n",
              " 'https://www.aladin.co.kr/shop/common/wbest.aspx?BestType=Bestseller&BranchType=1&CID=17195',\n",
              " 'https://www.aladin.co.kr/shop/common/wbest.aspx?BestType=Bestseller&BranchType=1&CID=1237',\n",
              " 'https://www.aladin.co.kr/shop/common/wbest.aspx?BestType=Bestseller&BranchType=1&CID=2030',\n",
              " 'https://www.aladin.co.kr/shop/common/wbest.aspx?BestType=Bestseller&BranchType=1&CID=1137',\n",
              " 'https://www.aladin.co.kr/shop/common/wbest.aspx?BestType=Bestseller&BranchType=1&CID=351',\n",
              " 'https://www.aladin.co.kr/shop/common/wbest.aspx?BestType=Bestseller&BranchType=1&CID=50246',\n",
              " 'https://www.aladin.co.kr/shop/common/wbest.aspx?BestType=Bestseller&BranchType=1&CID=76000',\n",
              " 'https://www.aladin.co.kr/shop/common/wbest.aspx?BestType=Bestseller&BranchType=1&CID=76001']"
            ]
          },
          "metadata": {},
          "execution_count": 80
        }
      ]
    },
    {
      "cell_type": "markdown",
      "source": [
        "## 4. 알라딘 도서 섬네일 가져오기"
      ],
      "metadata": {
        "id": "YzL_j0uKBnJY"
      }
    },
    {
      "cell_type": "markdown",
      "metadata": {
        "id": "cMryGS_k0XJe"
      },
      "source": [
        "#### 이미지 크롤링의 이해  \n",
        "html 안에 이미지는 없다. 이미지의 src만 있을 뿐.\n",
        "\n",
        "- 1단계 : 섬네일 이미지 태그에서 img src 가져오기\n",
        "- 2단계 : 이미지 src에 requests get하여 img 가져오기"
      ]
    },
    {
      "cell_type": "markdown",
      "source": [
        "#### 4-1) 하나의 도서를 정하여 해당 도서의 섬네일 이미지 저장하기"
      ],
      "metadata": {
        "id": "H297i-OzQDvO"
      }
    },
    {
      "cell_type": "code",
      "source": [
        "import requests\n",
        "from bs4 import BeautifulSoup"
      ],
      "metadata": {
        "id": "6Jbugo9dQKzt"
      },
      "execution_count": null,
      "outputs": []
    },
    {
      "cell_type": "code",
      "source": [
        "# 예시, 백년허리 섬네일\n",
        "url = 'https://www.aladin.co.kr/shop/common/wbest.aspx?BestType=Bestseller&BranchType=1&CID=170'\n",
        "\n",
        "resp = requests.get(url)\n",
        "\n",
        "soup = BeautifulSoup(resp.content, 'lxml')\n",
        "img_tag = soup.select('div.flipcover_in img')[0]\n",
        "\n",
        "img_src = img_tag['src']\n",
        "img_src"
      ],
      "metadata": {
        "colab": {
          "base_uri": "https://localhost:8080/",
          "height": 36
        },
        "id": "7V_g1yDxQKsw",
        "outputId": "e0a6fc16-73e5-4404-9fed-33fb0f0efb91"
      },
      "execution_count": null,
      "outputs": [
        {
          "output_type": "execute_result",
          "data": {
            "text/plain": [
              "'https://image.aladin.co.kr/product/31325/1/cover200/k832832683_3.jpg'"
            ],
            "application/vnd.google.colaboratory.intrinsic+json": {
              "type": "string"
            }
          },
          "metadata": {},
          "execution_count": 87
        }
      ]
    },
    {
      "cell_type": "code",
      "source": [
        "# resp_img.content가 섬네일 이미지\n",
        "img_resp = requests.get(img_src)\n",
        "img_resp.content # = image"
      ],
      "metadata": {
        "id": "sWevexOcRBNe"
      },
      "execution_count": null,
      "outputs": []
    },
    {
      "cell_type": "code",
      "source": [
        "# 리눅스 명령어 \n",
        "!pwd"
      ],
      "metadata": {
        "colab": {
          "base_uri": "https://localhost:8080/"
        },
        "id": "CM4ruWoLCfNm",
        "outputId": "dea30891-3cd2-48e0-e9f6-5eb38dd0c34c"
      },
      "execution_count": null,
      "outputs": [
        {
          "output_type": "stream",
          "name": "stdout",
          "text": [
            "/content\n"
          ]
        }
      ]
    },
    {
      "cell_type": "code",
      "source": [
        "#파일 입출력\n",
        "## 입출력여부 : r/w + t/b \n",
        "with open('/content/thumb.jpg', 'wb') as f:\n",
        "    # 파일 입출력 함수\n",
        "    f.write(img_resp.content)"
      ],
      "metadata": {
        "id": "jqEg8beSQDa0"
      },
      "execution_count": null,
      "outputs": []
    },
    {
      "cell_type": "code",
      "source": [],
      "metadata": {
        "id": "bophbaMSBvMW"
      },
      "execution_count": null,
      "outputs": []
    },
    {
      "cell_type": "markdown",
      "source": [
        "#### 4-2) 종합 top50 페이지의 섬네일 이미지 저장하기\n",
        "\n",
        "- 종합_top50이라는 폴더에 저장"
      ],
      "metadata": {
        "id": "iCnbUWtlKcwi"
      }
    },
    {
      "cell_type": "code",
      "source": [
        "import requests\n",
        "from bs4 import BeautifulSoup"
      ],
      "metadata": {
        "id": "GxhcLCwcKUuq"
      },
      "execution_count": null,
      "outputs": []
    },
    {
      "cell_type": "code",
      "source": [
        "!mkdir 종합_top50"
      ],
      "metadata": {
        "id": "am9uWYm5DzCy"
      },
      "execution_count": null,
      "outputs": []
    },
    {
      "cell_type": "code",
      "source": [
        "\n"
      ],
      "metadata": {
        "id": "2OezRU3CKSAk"
      },
      "execution_count": null,
      "outputs": []
    },
    {
      "cell_type": "markdown",
      "source": [
        "#### 4-3) 모든 카테고리의 도서 섬네일 이미지 저장하기"
      ],
      "metadata": {
        "id": "IHKNBVVDb6Qb"
      }
    },
    {
      "cell_type": "code",
      "source": [
        "import requests\n",
        "from bs4 import BeautifulSoup\n",
        "import os"
      ],
      "metadata": {
        "id": "wOIIb_lFCG3F"
      },
      "execution_count": null,
      "outputs": []
    },
    {
      "cell_type": "markdown",
      "source": [
        "##### 카테고리 수집"
      ],
      "metadata": {
        "id": "Y_7edgSKJL7j"
      }
    },
    {
      "cell_type": "code",
      "source": [
        "cids, cats = [], []"
      ],
      "metadata": {
        "id": "UO3CnyzBNllj"
      },
      "execution_count": null,
      "outputs": []
    },
    {
      "cell_type": "code",
      "source": [
        "'/shop/common/wbest.aspx?BestType=Bestseller&BranchType=1&CID=55890'.split('CID=')[-1]"
      ],
      "metadata": {
        "colab": {
          "base_uri": "https://localhost:8080/",
          "height": 36
        },
        "id": "_7OM4_KeVeIJ",
        "outputId": "8f70c5ca-66ab-47db-9757-a024c91817db"
      },
      "execution_count": null,
      "outputs": [
        {
          "output_type": "execute_result",
          "data": {
            "text/plain": [
              "'55890'"
            ],
            "application/vnd.google.colaboratory.intrinsic+json": {
              "type": "string"
            }
          },
          "metadata": {},
          "execution_count": 21
        }
      ]
    },
    {
      "cell_type": "code",
      "source": [
        "url = 'https://www.aladin.co.kr/shop/common/wbest.aspx?BestType=Bestseller&BranchType=1&CID=0'\n",
        "resp = requests.get(url)\n",
        "\n",
        "soup = BeautifulSoup(resp.content, 'lxml')\n",
        "a_tags = soup.select('ul.best_left_ul li a')\n",
        "print(len(a_tags))\n",
        "for a_tag in a_tags:\n",
        "    cats.append(a_tag.text.replace('/', ''))\n",
        "    cids.append(a_tag['href'].split('CID=')[-1])\n",
        "cats, cids"
      ],
      "metadata": {
        "colab": {
          "base_uri": "https://localhost:8080/"
        },
        "id": "l1dmqHayJQ0q",
        "outputId": "ab51da7e-6db3-457d-a979-5701ad10436f"
      },
      "execution_count": null,
      "outputs": [
        {
          "output_type": "stream",
          "name": "stdout",
          "text": [
            "31\n"
          ]
        },
        {
          "output_type": "execute_result",
          "data": {
            "text/plain": [
              "(['종합',\n",
              "  '건강취미',\n",
              "  '경제경영',\n",
              "  '고전',\n",
              "  '과학',\n",
              "  '대학교재전문서적',\n",
              "  '만화',\n",
              "  '달력기타',\n",
              "  '사회과학',\n",
              "  '소설시희곡',\n",
              "  '수험서자격증',\n",
              "  '어린이',\n",
              "  '에세이',\n",
              "  '여행',\n",
              "  '역사',\n",
              "  '예술대중문화',\n",
              "  '요리살림',\n",
              "  '외국어',\n",
              "  '유아',\n",
              "  '인문학',\n",
              "  '자기계발',\n",
              "  '장르소설',\n",
              "  '잡지',\n",
              "  '전집중고전집',\n",
              "  '종교역학',\n",
              "  '좋은부모',\n",
              "  '청소년',\n",
              "  '컴퓨터모바일',\n",
              "  '초등학교참고서',\n",
              "  '중학교참고서',\n",
              "  '고등학교참고서'],\n",
              " ['0',\n",
              "  '55890',\n",
              "  '170',\n",
              "  '2105',\n",
              "  '987',\n",
              "  '8257',\n",
              "  '2551',\n",
              "  '4395',\n",
              "  '798',\n",
              "  '1',\n",
              "  '1383',\n",
              "  '1108',\n",
              "  '55889',\n",
              "  '1196',\n",
              "  '74',\n",
              "  '517',\n",
              "  '1230',\n",
              "  '1322',\n",
              "  '13789',\n",
              "  '656',\n",
              "  '336',\n",
              "  '112011',\n",
              "  '2913',\n",
              "  '17195',\n",
              "  '1237',\n",
              "  '2030',\n",
              "  '1137',\n",
              "  '351',\n",
              "  '50246',\n",
              "  '76000',\n",
              "  '76001'])"
            ]
          },
          "metadata": {},
          "execution_count": 17
        }
      ]
    },
    {
      "cell_type": "code",
      "source": [
        "dir = 'aladin_top50'\n",
        "os.mkdir(dir)\n",
        "\n",
        "for cat in cats:\n",
        "    os.mkdir(dir+'/'+cat)"
      ],
      "metadata": {
        "id": "0NCsbq1eIeRQ"
      },
      "execution_count": null,
      "outputs": []
    },
    {
      "cell_type": "code",
      "source": [
        "for cid, cat in zip(cids, cats):\n",
        "    url = f'https://www.aladin.co.kr/shop/common/wbest.aspx?BestType=Bestseller&BranchType=1&CID={cid}'\n",
        "    resp = requests.get(url)\n",
        "\n",
        "    soup = BeautifulSoup(resp.content, 'lxml')\n",
        "    img_tags = soup.select('div.flipcover_in img')\n",
        "\n",
        "    # print(len(img_tags))\n",
        "    for img_tag in img_tags:\n",
        "        # src parsing\n",
        "\n",
        "        # get(src)\n",
        "\n",
        "        # resp.content 를 해당 카테고리 폴더에 저장 "
      ],
      "metadata": {
        "colab": {
          "base_uri": "https://localhost:8080/",
          "height": 499
        },
        "id": "Qs43hGAlIz8m",
        "outputId": "97c40046-7f04-4cc3-9d58-a2724b7158e6"
      },
      "execution_count": null,
      "outputs": [
        {
          "output_type": "stream",
          "name": "stdout",
          "text": [
            "49\n",
            "50\n",
            "50\n",
            "49\n",
            "50\n"
          ]
        },
        {
          "output_type": "error",
          "ename": "KeyboardInterrupt",
          "evalue": "ignored",
          "traceback": [
            "\u001b[0;31m---------------------------------------------------------------------------\u001b[0m",
            "\u001b[0;31mKeyboardInterrupt\u001b[0m                         Traceback (most recent call last)",
            "\u001b[0;32m<ipython-input-22-1edad3fb19aa>\u001b[0m in \u001b[0;36m<cell line: 1>\u001b[0;34m()\u001b[0m\n\u001b[1;32m      1\u001b[0m \u001b[0;32mfor\u001b[0m \u001b[0mcid\u001b[0m\u001b[0;34m,\u001b[0m \u001b[0mcat\u001b[0m \u001b[0;32min\u001b[0m \u001b[0mzip\u001b[0m\u001b[0;34m(\u001b[0m\u001b[0mcids\u001b[0m\u001b[0;34m,\u001b[0m \u001b[0mcats\u001b[0m\u001b[0;34m)\u001b[0m\u001b[0;34m:\u001b[0m\u001b[0;34m\u001b[0m\u001b[0;34m\u001b[0m\u001b[0m\n\u001b[1;32m      2\u001b[0m     \u001b[0murl\u001b[0m \u001b[0;34m=\u001b[0m \u001b[0;34mf'https://www.aladin.co.kr/shop/common/wbest.aspx?BestType=Bestseller&BranchType=1&CID={cid}'\u001b[0m\u001b[0;34m\u001b[0m\u001b[0;34m\u001b[0m\u001b[0m\n\u001b[0;32m----> 3\u001b[0;31m     \u001b[0mresp\u001b[0m \u001b[0;34m=\u001b[0m \u001b[0mrequests\u001b[0m\u001b[0;34m.\u001b[0m\u001b[0mget\u001b[0m\u001b[0;34m(\u001b[0m\u001b[0murl\u001b[0m\u001b[0;34m)\u001b[0m\u001b[0;34m\u001b[0m\u001b[0;34m\u001b[0m\u001b[0m\n\u001b[0m\u001b[1;32m      4\u001b[0m \u001b[0;34m\u001b[0m\u001b[0m\n\u001b[1;32m      5\u001b[0m     \u001b[0msoup\u001b[0m \u001b[0;34m=\u001b[0m \u001b[0mBeautifulSoup\u001b[0m\u001b[0;34m(\u001b[0m\u001b[0mresp\u001b[0m\u001b[0;34m.\u001b[0m\u001b[0mcontent\u001b[0m\u001b[0;34m,\u001b[0m \u001b[0;34m'lxml'\u001b[0m\u001b[0;34m)\u001b[0m\u001b[0;34m\u001b[0m\u001b[0;34m\u001b[0m\u001b[0m\n",
            "\u001b[0;32m/usr/local/lib/python3.10/dist-packages/requests/api.py\u001b[0m in \u001b[0;36mget\u001b[0;34m(url, params, **kwargs)\u001b[0m\n\u001b[1;32m     73\u001b[0m     \"\"\"\n\u001b[1;32m     74\u001b[0m \u001b[0;34m\u001b[0m\u001b[0m\n\u001b[0;32m---> 75\u001b[0;31m     \u001b[0;32mreturn\u001b[0m \u001b[0mrequest\u001b[0m\u001b[0;34m(\u001b[0m\u001b[0;34m'get'\u001b[0m\u001b[0;34m,\u001b[0m \u001b[0murl\u001b[0m\u001b[0;34m,\u001b[0m \u001b[0mparams\u001b[0m\u001b[0;34m=\u001b[0m\u001b[0mparams\u001b[0m\u001b[0;34m,\u001b[0m \u001b[0;34m**\u001b[0m\u001b[0mkwargs\u001b[0m\u001b[0;34m)\u001b[0m\u001b[0;34m\u001b[0m\u001b[0;34m\u001b[0m\u001b[0m\n\u001b[0m\u001b[1;32m     76\u001b[0m \u001b[0;34m\u001b[0m\u001b[0m\n\u001b[1;32m     77\u001b[0m \u001b[0;34m\u001b[0m\u001b[0m\n",
            "\u001b[0;32m/usr/local/lib/python3.10/dist-packages/requests/api.py\u001b[0m in \u001b[0;36mrequest\u001b[0;34m(method, url, **kwargs)\u001b[0m\n\u001b[1;32m     59\u001b[0m     \u001b[0;31m# cases, and look like a memory leak in others.\u001b[0m\u001b[0;34m\u001b[0m\u001b[0;34m\u001b[0m\u001b[0m\n\u001b[1;32m     60\u001b[0m     \u001b[0;32mwith\u001b[0m \u001b[0msessions\u001b[0m\u001b[0;34m.\u001b[0m\u001b[0mSession\u001b[0m\u001b[0;34m(\u001b[0m\u001b[0;34m)\u001b[0m \u001b[0;32mas\u001b[0m \u001b[0msession\u001b[0m\u001b[0;34m:\u001b[0m\u001b[0;34m\u001b[0m\u001b[0;34m\u001b[0m\u001b[0m\n\u001b[0;32m---> 61\u001b[0;31m         \u001b[0;32mreturn\u001b[0m \u001b[0msession\u001b[0m\u001b[0;34m.\u001b[0m\u001b[0mrequest\u001b[0m\u001b[0;34m(\u001b[0m\u001b[0mmethod\u001b[0m\u001b[0;34m=\u001b[0m\u001b[0mmethod\u001b[0m\u001b[0;34m,\u001b[0m \u001b[0murl\u001b[0m\u001b[0;34m=\u001b[0m\u001b[0murl\u001b[0m\u001b[0;34m,\u001b[0m \u001b[0;34m**\u001b[0m\u001b[0mkwargs\u001b[0m\u001b[0;34m)\u001b[0m\u001b[0;34m\u001b[0m\u001b[0;34m\u001b[0m\u001b[0m\n\u001b[0m\u001b[1;32m     62\u001b[0m \u001b[0;34m\u001b[0m\u001b[0m\n\u001b[1;32m     63\u001b[0m \u001b[0;34m\u001b[0m\u001b[0m\n",
            "\u001b[0;32m/usr/local/lib/python3.10/dist-packages/requests/sessions.py\u001b[0m in \u001b[0;36mrequest\u001b[0;34m(self, method, url, params, data, headers, cookies, files, auth, timeout, allow_redirects, proxies, hooks, stream, verify, cert, json)\u001b[0m\n\u001b[1;32m    527\u001b[0m         }\n\u001b[1;32m    528\u001b[0m         \u001b[0msend_kwargs\u001b[0m\u001b[0;34m.\u001b[0m\u001b[0mupdate\u001b[0m\u001b[0;34m(\u001b[0m\u001b[0msettings\u001b[0m\u001b[0;34m)\u001b[0m\u001b[0;34m\u001b[0m\u001b[0;34m\u001b[0m\u001b[0m\n\u001b[0;32m--> 529\u001b[0;31m         \u001b[0mresp\u001b[0m \u001b[0;34m=\u001b[0m \u001b[0mself\u001b[0m\u001b[0;34m.\u001b[0m\u001b[0msend\u001b[0m\u001b[0;34m(\u001b[0m\u001b[0mprep\u001b[0m\u001b[0;34m,\u001b[0m \u001b[0;34m**\u001b[0m\u001b[0msend_kwargs\u001b[0m\u001b[0;34m)\u001b[0m\u001b[0;34m\u001b[0m\u001b[0;34m\u001b[0m\u001b[0m\n\u001b[0m\u001b[1;32m    530\u001b[0m \u001b[0;34m\u001b[0m\u001b[0m\n\u001b[1;32m    531\u001b[0m         \u001b[0;32mreturn\u001b[0m \u001b[0mresp\u001b[0m\u001b[0;34m\u001b[0m\u001b[0;34m\u001b[0m\u001b[0m\n",
            "\u001b[0;32m/usr/local/lib/python3.10/dist-packages/requests/sessions.py\u001b[0m in \u001b[0;36msend\u001b[0;34m(self, request, **kwargs)\u001b[0m\n\u001b[1;32m    685\u001b[0m \u001b[0;34m\u001b[0m\u001b[0m\n\u001b[1;32m    686\u001b[0m         \u001b[0;32mif\u001b[0m \u001b[0;32mnot\u001b[0m \u001b[0mstream\u001b[0m\u001b[0;34m:\u001b[0m\u001b[0;34m\u001b[0m\u001b[0;34m\u001b[0m\u001b[0m\n\u001b[0;32m--> 687\u001b[0;31m             \u001b[0mr\u001b[0m\u001b[0;34m.\u001b[0m\u001b[0mcontent\u001b[0m\u001b[0;34m\u001b[0m\u001b[0;34m\u001b[0m\u001b[0m\n\u001b[0m\u001b[1;32m    688\u001b[0m \u001b[0;34m\u001b[0m\u001b[0m\n\u001b[1;32m    689\u001b[0m         \u001b[0;32mreturn\u001b[0m \u001b[0mr\u001b[0m\u001b[0;34m\u001b[0m\u001b[0;34m\u001b[0m\u001b[0m\n",
            "\u001b[0;32m/usr/local/lib/python3.10/dist-packages/requests/models.py\u001b[0m in \u001b[0;36mcontent\u001b[0;34m(self)\u001b[0m\n\u001b[1;32m    836\u001b[0m                 \u001b[0mself\u001b[0m\u001b[0;34m.\u001b[0m\u001b[0m_content\u001b[0m \u001b[0;34m=\u001b[0m \u001b[0;32mNone\u001b[0m\u001b[0;34m\u001b[0m\u001b[0;34m\u001b[0m\u001b[0m\n\u001b[1;32m    837\u001b[0m             \u001b[0;32melse\u001b[0m\u001b[0;34m:\u001b[0m\u001b[0;34m\u001b[0m\u001b[0;34m\u001b[0m\u001b[0m\n\u001b[0;32m--> 838\u001b[0;31m                 \u001b[0mself\u001b[0m\u001b[0;34m.\u001b[0m\u001b[0m_content\u001b[0m \u001b[0;34m=\u001b[0m \u001b[0;34mb''\u001b[0m\u001b[0;34m.\u001b[0m\u001b[0mjoin\u001b[0m\u001b[0;34m(\u001b[0m\u001b[0mself\u001b[0m\u001b[0;34m.\u001b[0m\u001b[0miter_content\u001b[0m\u001b[0;34m(\u001b[0m\u001b[0mCONTENT_CHUNK_SIZE\u001b[0m\u001b[0;34m)\u001b[0m\u001b[0;34m)\u001b[0m \u001b[0;32mor\u001b[0m \u001b[0;34mb''\u001b[0m\u001b[0;34m\u001b[0m\u001b[0;34m\u001b[0m\u001b[0m\n\u001b[0m\u001b[1;32m    839\u001b[0m \u001b[0;34m\u001b[0m\u001b[0m\n\u001b[1;32m    840\u001b[0m         \u001b[0mself\u001b[0m\u001b[0;34m.\u001b[0m\u001b[0m_content_consumed\u001b[0m \u001b[0;34m=\u001b[0m \u001b[0;32mTrue\u001b[0m\u001b[0;34m\u001b[0m\u001b[0;34m\u001b[0m\u001b[0m\n",
            "\u001b[0;32m/usr/local/lib/python3.10/dist-packages/requests/models.py\u001b[0m in \u001b[0;36mgenerate\u001b[0;34m()\u001b[0m\n\u001b[1;32m    758\u001b[0m             \u001b[0;32mif\u001b[0m \u001b[0mhasattr\u001b[0m\u001b[0;34m(\u001b[0m\u001b[0mself\u001b[0m\u001b[0;34m.\u001b[0m\u001b[0mraw\u001b[0m\u001b[0;34m,\u001b[0m \u001b[0;34m'stream'\u001b[0m\u001b[0;34m)\u001b[0m\u001b[0;34m:\u001b[0m\u001b[0;34m\u001b[0m\u001b[0;34m\u001b[0m\u001b[0m\n\u001b[1;32m    759\u001b[0m                 \u001b[0;32mtry\u001b[0m\u001b[0;34m:\u001b[0m\u001b[0;34m\u001b[0m\u001b[0;34m\u001b[0m\u001b[0m\n\u001b[0;32m--> 760\u001b[0;31m                     \u001b[0;32mfor\u001b[0m \u001b[0mchunk\u001b[0m \u001b[0;32min\u001b[0m \u001b[0mself\u001b[0m\u001b[0;34m.\u001b[0m\u001b[0mraw\u001b[0m\u001b[0;34m.\u001b[0m\u001b[0mstream\u001b[0m\u001b[0;34m(\u001b[0m\u001b[0mchunk_size\u001b[0m\u001b[0;34m,\u001b[0m \u001b[0mdecode_content\u001b[0m\u001b[0;34m=\u001b[0m\u001b[0;32mTrue\u001b[0m\u001b[0;34m)\u001b[0m\u001b[0;34m:\u001b[0m\u001b[0;34m\u001b[0m\u001b[0;34m\u001b[0m\u001b[0m\n\u001b[0m\u001b[1;32m    761\u001b[0m                         \u001b[0;32myield\u001b[0m \u001b[0mchunk\u001b[0m\u001b[0;34m\u001b[0m\u001b[0;34m\u001b[0m\u001b[0m\n\u001b[1;32m    762\u001b[0m                 \u001b[0;32mexcept\u001b[0m \u001b[0mProtocolError\u001b[0m \u001b[0;32mas\u001b[0m \u001b[0me\u001b[0m\u001b[0;34m:\u001b[0m\u001b[0;34m\u001b[0m\u001b[0;34m\u001b[0m\u001b[0m\n",
            "\u001b[0;32m/usr/local/lib/python3.10/dist-packages/urllib3/response.py\u001b[0m in \u001b[0;36mstream\u001b[0;34m(self, amt, decode_content)\u001b[0m\n\u001b[1;32m    622\u001b[0m         \"\"\"\n\u001b[1;32m    623\u001b[0m         \u001b[0;32mif\u001b[0m \u001b[0mself\u001b[0m\u001b[0;34m.\u001b[0m\u001b[0mchunked\u001b[0m \u001b[0;32mand\u001b[0m \u001b[0mself\u001b[0m\u001b[0;34m.\u001b[0m\u001b[0msupports_chunked_reads\u001b[0m\u001b[0;34m(\u001b[0m\u001b[0;34m)\u001b[0m\u001b[0;34m:\u001b[0m\u001b[0;34m\u001b[0m\u001b[0;34m\u001b[0m\u001b[0m\n\u001b[0;32m--> 624\u001b[0;31m             \u001b[0;32mfor\u001b[0m \u001b[0mline\u001b[0m \u001b[0;32min\u001b[0m \u001b[0mself\u001b[0m\u001b[0;34m.\u001b[0m\u001b[0mread_chunked\u001b[0m\u001b[0;34m(\u001b[0m\u001b[0mamt\u001b[0m\u001b[0;34m,\u001b[0m \u001b[0mdecode_content\u001b[0m\u001b[0;34m=\u001b[0m\u001b[0mdecode_content\u001b[0m\u001b[0;34m)\u001b[0m\u001b[0;34m:\u001b[0m\u001b[0;34m\u001b[0m\u001b[0;34m\u001b[0m\u001b[0m\n\u001b[0m\u001b[1;32m    625\u001b[0m                 \u001b[0;32myield\u001b[0m \u001b[0mline\u001b[0m\u001b[0;34m\u001b[0m\u001b[0;34m\u001b[0m\u001b[0m\n\u001b[1;32m    626\u001b[0m         \u001b[0;32melse\u001b[0m\u001b[0;34m:\u001b[0m\u001b[0;34m\u001b[0m\u001b[0;34m\u001b[0m\u001b[0m\n",
            "\u001b[0;32m/usr/local/lib/python3.10/dist-packages/urllib3/response.py\u001b[0m in \u001b[0;36mread_chunked\u001b[0;34m(self, amt, decode_content)\u001b[0m\n\u001b[1;32m    829\u001b[0m                 \u001b[0;32mif\u001b[0m \u001b[0mself\u001b[0m\u001b[0;34m.\u001b[0m\u001b[0mchunk_left\u001b[0m \u001b[0;34m==\u001b[0m \u001b[0;36m0\u001b[0m\u001b[0;34m:\u001b[0m\u001b[0;34m\u001b[0m\u001b[0;34m\u001b[0m\u001b[0m\n\u001b[1;32m    830\u001b[0m                     \u001b[0;32mbreak\u001b[0m\u001b[0;34m\u001b[0m\u001b[0;34m\u001b[0m\u001b[0m\n\u001b[0;32m--> 831\u001b[0;31m                 \u001b[0mchunk\u001b[0m \u001b[0;34m=\u001b[0m \u001b[0mself\u001b[0m\u001b[0;34m.\u001b[0m\u001b[0m_handle_chunk\u001b[0m\u001b[0;34m(\u001b[0m\u001b[0mamt\u001b[0m\u001b[0;34m)\u001b[0m\u001b[0;34m\u001b[0m\u001b[0;34m\u001b[0m\u001b[0m\n\u001b[0m\u001b[1;32m    832\u001b[0m                 decoded = self._decode(\n\u001b[1;32m    833\u001b[0m                     \u001b[0mchunk\u001b[0m\u001b[0;34m,\u001b[0m \u001b[0mdecode_content\u001b[0m\u001b[0;34m=\u001b[0m\u001b[0mdecode_content\u001b[0m\u001b[0;34m,\u001b[0m \u001b[0mflush_decoder\u001b[0m\u001b[0;34m=\u001b[0m\u001b[0;32mFalse\u001b[0m\u001b[0;34m\u001b[0m\u001b[0;34m\u001b[0m\u001b[0m\n",
            "\u001b[0;32m/usr/local/lib/python3.10/dist-packages/urllib3/response.py\u001b[0m in \u001b[0;36m_handle_chunk\u001b[0;34m(self, amt)\u001b[0m\n\u001b[1;32m    773\u001b[0m             \u001b[0mself\u001b[0m\u001b[0;34m.\u001b[0m\u001b[0mchunk_left\u001b[0m \u001b[0;34m=\u001b[0m \u001b[0;32mNone\u001b[0m\u001b[0;34m\u001b[0m\u001b[0;34m\u001b[0m\u001b[0m\n\u001b[1;32m    774\u001b[0m         \u001b[0;32melif\u001b[0m \u001b[0mamt\u001b[0m \u001b[0;34m<\u001b[0m \u001b[0mself\u001b[0m\u001b[0;34m.\u001b[0m\u001b[0mchunk_left\u001b[0m\u001b[0;34m:\u001b[0m\u001b[0;34m\u001b[0m\u001b[0;34m\u001b[0m\u001b[0m\n\u001b[0;32m--> 775\u001b[0;31m             \u001b[0mvalue\u001b[0m \u001b[0;34m=\u001b[0m \u001b[0mself\u001b[0m\u001b[0;34m.\u001b[0m\u001b[0m_fp\u001b[0m\u001b[0;34m.\u001b[0m\u001b[0m_safe_read\u001b[0m\u001b[0;34m(\u001b[0m\u001b[0mamt\u001b[0m\u001b[0;34m)\u001b[0m\u001b[0;34m\u001b[0m\u001b[0;34m\u001b[0m\u001b[0m\n\u001b[0m\u001b[1;32m    776\u001b[0m             \u001b[0mself\u001b[0m\u001b[0;34m.\u001b[0m\u001b[0mchunk_left\u001b[0m \u001b[0;34m=\u001b[0m \u001b[0mself\u001b[0m\u001b[0;34m.\u001b[0m\u001b[0mchunk_left\u001b[0m \u001b[0;34m-\u001b[0m \u001b[0mamt\u001b[0m\u001b[0;34m\u001b[0m\u001b[0;34m\u001b[0m\u001b[0m\n\u001b[1;32m    777\u001b[0m             \u001b[0mreturned_chunk\u001b[0m \u001b[0;34m=\u001b[0m \u001b[0mvalue\u001b[0m\u001b[0;34m\u001b[0m\u001b[0;34m\u001b[0m\u001b[0m\n",
            "\u001b[0;32m/usr/lib/python3.10/http/client.py\u001b[0m in \u001b[0;36m_safe_read\u001b[0;34m(self, amt)\u001b[0m\n\u001b[1;32m    629\u001b[0m         \u001b[0mIncompleteRead\u001b[0m \u001b[0mexception\u001b[0m \u001b[0mcan\u001b[0m \u001b[0mbe\u001b[0m \u001b[0mused\u001b[0m \u001b[0mto\u001b[0m \u001b[0mdetect\u001b[0m \u001b[0mthe\u001b[0m \u001b[0mproblem\u001b[0m\u001b[0;34m.\u001b[0m\u001b[0;34m\u001b[0m\u001b[0;34m\u001b[0m\u001b[0m\n\u001b[1;32m    630\u001b[0m         \"\"\"\n\u001b[0;32m--> 631\u001b[0;31m         \u001b[0mdata\u001b[0m \u001b[0;34m=\u001b[0m \u001b[0mself\u001b[0m\u001b[0;34m.\u001b[0m\u001b[0mfp\u001b[0m\u001b[0;34m.\u001b[0m\u001b[0mread\u001b[0m\u001b[0;34m(\u001b[0m\u001b[0mamt\u001b[0m\u001b[0;34m)\u001b[0m\u001b[0;34m\u001b[0m\u001b[0;34m\u001b[0m\u001b[0m\n\u001b[0m\u001b[1;32m    632\u001b[0m         \u001b[0;32mif\u001b[0m \u001b[0mlen\u001b[0m\u001b[0;34m(\u001b[0m\u001b[0mdata\u001b[0m\u001b[0;34m)\u001b[0m \u001b[0;34m<\u001b[0m \u001b[0mamt\u001b[0m\u001b[0;34m:\u001b[0m\u001b[0;34m\u001b[0m\u001b[0;34m\u001b[0m\u001b[0m\n\u001b[1;32m    633\u001b[0m             \u001b[0;32mraise\u001b[0m \u001b[0mIncompleteRead\u001b[0m\u001b[0;34m(\u001b[0m\u001b[0mdata\u001b[0m\u001b[0;34m,\u001b[0m \u001b[0mamt\u001b[0m\u001b[0;34m-\u001b[0m\u001b[0mlen\u001b[0m\u001b[0;34m(\u001b[0m\u001b[0mdata\u001b[0m\u001b[0;34m)\u001b[0m\u001b[0;34m)\u001b[0m\u001b[0;34m\u001b[0m\u001b[0;34m\u001b[0m\u001b[0m\n",
            "\u001b[0;32m/usr/lib/python3.10/socket.py\u001b[0m in \u001b[0;36mreadinto\u001b[0;34m(self, b)\u001b[0m\n\u001b[1;32m    703\u001b[0m         \u001b[0;32mwhile\u001b[0m \u001b[0;32mTrue\u001b[0m\u001b[0;34m:\u001b[0m\u001b[0;34m\u001b[0m\u001b[0;34m\u001b[0m\u001b[0m\n\u001b[1;32m    704\u001b[0m             \u001b[0;32mtry\u001b[0m\u001b[0;34m:\u001b[0m\u001b[0;34m\u001b[0m\u001b[0;34m\u001b[0m\u001b[0m\n\u001b[0;32m--> 705\u001b[0;31m                 \u001b[0;32mreturn\u001b[0m \u001b[0mself\u001b[0m\u001b[0;34m.\u001b[0m\u001b[0m_sock\u001b[0m\u001b[0;34m.\u001b[0m\u001b[0mrecv_into\u001b[0m\u001b[0;34m(\u001b[0m\u001b[0mb\u001b[0m\u001b[0;34m)\u001b[0m\u001b[0;34m\u001b[0m\u001b[0;34m\u001b[0m\u001b[0m\n\u001b[0m\u001b[1;32m    706\u001b[0m             \u001b[0;32mexcept\u001b[0m \u001b[0mtimeout\u001b[0m\u001b[0;34m:\u001b[0m\u001b[0;34m\u001b[0m\u001b[0;34m\u001b[0m\u001b[0m\n\u001b[1;32m    707\u001b[0m                 \u001b[0mself\u001b[0m\u001b[0;34m.\u001b[0m\u001b[0m_timeout_occurred\u001b[0m \u001b[0;34m=\u001b[0m \u001b[0;32mTrue\u001b[0m\u001b[0;34m\u001b[0m\u001b[0;34m\u001b[0m\u001b[0m\n",
            "\u001b[0;32m/usr/lib/python3.10/ssl.py\u001b[0m in \u001b[0;36mrecv_into\u001b[0;34m(self, buffer, nbytes, flags)\u001b[0m\n\u001b[1;32m   1272\u001b[0m                   \u001b[0;34m\"non-zero flags not allowed in calls to recv_into() on %s\"\u001b[0m \u001b[0;34m%\u001b[0m\u001b[0;34m\u001b[0m\u001b[0;34m\u001b[0m\u001b[0m\n\u001b[1;32m   1273\u001b[0m                   self.__class__)\n\u001b[0;32m-> 1274\u001b[0;31m             \u001b[0;32mreturn\u001b[0m \u001b[0mself\u001b[0m\u001b[0;34m.\u001b[0m\u001b[0mread\u001b[0m\u001b[0;34m(\u001b[0m\u001b[0mnbytes\u001b[0m\u001b[0;34m,\u001b[0m \u001b[0mbuffer\u001b[0m\u001b[0;34m)\u001b[0m\u001b[0;34m\u001b[0m\u001b[0;34m\u001b[0m\u001b[0m\n\u001b[0m\u001b[1;32m   1275\u001b[0m         \u001b[0;32melse\u001b[0m\u001b[0;34m:\u001b[0m\u001b[0;34m\u001b[0m\u001b[0;34m\u001b[0m\u001b[0m\n\u001b[1;32m   1276\u001b[0m             \u001b[0;32mreturn\u001b[0m \u001b[0msuper\u001b[0m\u001b[0;34m(\u001b[0m\u001b[0;34m)\u001b[0m\u001b[0;34m.\u001b[0m\u001b[0mrecv_into\u001b[0m\u001b[0;34m(\u001b[0m\u001b[0mbuffer\u001b[0m\u001b[0;34m,\u001b[0m \u001b[0mnbytes\u001b[0m\u001b[0;34m,\u001b[0m \u001b[0mflags\u001b[0m\u001b[0;34m)\u001b[0m\u001b[0;34m\u001b[0m\u001b[0;34m\u001b[0m\u001b[0m\n",
            "\u001b[0;32m/usr/lib/python3.10/ssl.py\u001b[0m in \u001b[0;36mread\u001b[0;34m(self, len, buffer)\u001b[0m\n\u001b[1;32m   1128\u001b[0m         \u001b[0;32mtry\u001b[0m\u001b[0;34m:\u001b[0m\u001b[0;34m\u001b[0m\u001b[0;34m\u001b[0m\u001b[0m\n\u001b[1;32m   1129\u001b[0m             \u001b[0;32mif\u001b[0m \u001b[0mbuffer\u001b[0m \u001b[0;32mis\u001b[0m \u001b[0;32mnot\u001b[0m \u001b[0;32mNone\u001b[0m\u001b[0;34m:\u001b[0m\u001b[0;34m\u001b[0m\u001b[0;34m\u001b[0m\u001b[0m\n\u001b[0;32m-> 1130\u001b[0;31m                 \u001b[0;32mreturn\u001b[0m \u001b[0mself\u001b[0m\u001b[0;34m.\u001b[0m\u001b[0m_sslobj\u001b[0m\u001b[0;34m.\u001b[0m\u001b[0mread\u001b[0m\u001b[0;34m(\u001b[0m\u001b[0mlen\u001b[0m\u001b[0;34m,\u001b[0m \u001b[0mbuffer\u001b[0m\u001b[0;34m)\u001b[0m\u001b[0;34m\u001b[0m\u001b[0;34m\u001b[0m\u001b[0m\n\u001b[0m\u001b[1;32m   1131\u001b[0m             \u001b[0;32melse\u001b[0m\u001b[0;34m:\u001b[0m\u001b[0;34m\u001b[0m\u001b[0;34m\u001b[0m\u001b[0m\n\u001b[1;32m   1132\u001b[0m                 \u001b[0;32mreturn\u001b[0m \u001b[0mself\u001b[0m\u001b[0;34m.\u001b[0m\u001b[0m_sslobj\u001b[0m\u001b[0;34m.\u001b[0m\u001b[0mread\u001b[0m\u001b[0;34m(\u001b[0m\u001b[0mlen\u001b[0m\u001b[0;34m)\u001b[0m\u001b[0;34m\u001b[0m\u001b[0;34m\u001b[0m\u001b[0m\n",
            "\u001b[0;31mKeyboardInterrupt\u001b[0m: "
          ]
        }
      ]
    },
    {
      "cell_type": "markdown",
      "source": [
        "### 5. kospi200 일별시세 가져오기"
      ],
      "metadata": {
        "id": "OwjyEt7Wp7HF"
      }
    },
    {
      "cell_type": "markdown",
      "metadata": {
        "id": "hqx-XJPB9xY6"
      },
      "source": [
        "#### iframe 페이지 크롤링의 이해\n",
        "- iframe구조인지 파악(눈치채기) : \n",
        "    - 페이지가 바뀌는데, url이 안바뀐다. \n",
        "    - 페이지 구조상 안바뀌는게 맞는 것 같을 때\n",
        "- html에서 iframe 태그 찾기 -> src 가져오기\n",
        "- requests.get(iframe_src)"
      ]
    },
    {
      "cell_type": "code",
      "execution_count": null,
      "metadata": {
        "id": "rNyxbI3P_BTH"
      },
      "outputs": [],
      "source": [
        "# 날짜 :    date\n",
        "# 체결가:  price\n",
        "# 전일비:  diff\n",
        "# 등락률:  rate\n",
        "# 거래량:  volume\n",
        "# 거래대금:   amount"
      ]
    },
    {
      "cell_type": "markdown",
      "source": [
        "#### 5-1) 1페이지 날짜, 체결가만 가져와서 출력하기"
      ],
      "metadata": {
        "id": "JW1p5J8Dg5r0"
      }
    },
    {
      "cell_type": "code",
      "source": [
        "import requests\n",
        "from bs4 import BeautifulSoup"
      ],
      "metadata": {
        "id": "vxd70t1eOrlW"
      },
      "execution_count": null,
      "outputs": []
    },
    {
      "cell_type": "code",
      "source": [
        "url = 'https://finance.naver.com/sise/sise_index_day.naver?code=KPI200'\n",
        "resp = requests.get(url)\n",
        "resp\n",
        "\n",
        "soup = BeautifulSoup(resp.content, 'lxml')\n",
        "\n"
      ],
      "metadata": {
        "colab": {
          "base_uri": "https://localhost:8080/"
        },
        "id": "7p7oK4byOq7z",
        "outputId": "4fa2b416-ebfc-4b84-8e82-ce5dbac69c00"
      },
      "execution_count": null,
      "outputs": [
        {
          "output_type": "stream",
          "name": "stdout",
          "text": [
            "date: 2023.01.18\n",
            "price: 311.94\n",
            "date: 2023.01.17\n",
            "price: 313.75\n",
            "date: 2023.01.16\n",
            "price: 316.04\n",
            "date: 2023.01.13\n",
            "price: 313.77\n",
            "date: 2023.01.12\n",
            "price: 310.70\n",
            "date: 2023.01.11\n",
            "price: 310.38\n"
          ]
        }
      ]
    },
    {
      "cell_type": "markdown",
      "source": [
        "#### 5-2) 1페이지 전체 데이터 가져와서 출력하기"
      ],
      "metadata": {
        "id": "N7bxmUR6g_oj"
      }
    },
    {
      "cell_type": "code",
      "source": [],
      "metadata": {
        "colab": {
          "base_uri": "https://localhost:8080/"
        },
        "id": "QVgTnrCvPjDN",
        "outputId": "840c043d-a9f8-40cb-ddce-db3aa13a2fdf"
      },
      "execution_count": null,
      "outputs": [
        {
          "output_type": "stream",
          "name": "stdout",
          "text": [
            "2023.01.18 312.32 1.43 -0.46% 17,830 863,755\n",
            "2023.01.17 313.75 2.29 -0.72% 101,245 4,829,876\n",
            "2023.01.16 316.04 2.27 +0.72% 119,827 5,136,041\n",
            "2023.01.13 313.77 3.07 +0.99% 128,647 5,505,750\n",
            "2023.01.12 310.70 0.32 +0.10% 130,719 6,002,834\n",
            "2023.01.11 310.38 0.81 +0.26% 102,603 5,055,057\n"
          ]
        }
      ]
    },
    {
      "cell_type": "markdown",
      "source": [
        "#### 5-3) 1페이지 전체 데이터 가져와서 전일비 양수, 음수 처리한다음, 모든 데이터 데이터프레임에 저장하기"
      ],
      "metadata": {
        "id": "l0vdOTkFhEwo"
      }
    },
    {
      "cell_type": "code",
      "source": [
        "dates, prices, diffs, rates, volumns, amounts = [], [], [], [], [], []"
      ],
      "metadata": {
        "id": "S6LG60XCT7M2"
      },
      "execution_count": null,
      "outputs": []
    },
    {
      "cell_type": "code",
      "source": [
        "url = 'https://finance.naver.com/sise/sise_index_day.naver?code=KPI200'\n",
        "resp = requests.get(url)\n",
        "\n",
        "soup = BeautifulSoup(resp.content, 'lxml')\n",
        "\n"
      ],
      "metadata": {
        "id": "4DfuT22AhEio"
      },
      "execution_count": null,
      "outputs": []
    },
    {
      "cell_type": "code",
      "source": [
        "import pandas as pd\n",
        "\n",
        "df_ksp200 = pd.DataFrame({'날짜' : dates, '체결가' : prices, '전일비' : diffs,\n",
        "              '등락률' : rates, '거래량' : volumns, '거래대금' : amounts})\n",
        "df_ksp200"
      ],
      "metadata": {
        "colab": {
          "base_uri": "https://localhost:8080/",
          "height": 237
        },
        "id": "AMRVtGI5TceT",
        "outputId": "5fd2b0e1-4e24-4028-ed70-feb2fc0d74d1"
      },
      "execution_count": null,
      "outputs": [
        {
          "output_type": "execute_result",
          "data": {
            "text/plain": [
              "           날짜     체결가    전일비     등락률      거래량       거래대금\n",
              "0  2023.01.18  311.78  -1.97  -0.63%   22,247  1,066,528\n",
              "1  2023.01.17  313.75  -2.29  -0.72%  101,245  4,829,876\n",
              "2  2023.01.16  316.04   2.27  +0.72%  119,827  5,136,041\n",
              "3  2023.01.13  313.77   3.07  +0.99%  128,647  5,505,750\n",
              "4  2023.01.12  310.70   0.32  +0.10%  130,719  6,002,834\n",
              "5  2023.01.11  310.38   0.81  +0.26%  102,603  5,055,057"
            ],
            "text/html": [
              "\n",
              "  <div id=\"df-079a976b-b0ee-475c-ad89-6135345a9d0c\">\n",
              "    <div class=\"colab-df-container\">\n",
              "      <div>\n",
              "<style scoped>\n",
              "    .dataframe tbody tr th:only-of-type {\n",
              "        vertical-align: middle;\n",
              "    }\n",
              "\n",
              "    .dataframe tbody tr th {\n",
              "        vertical-align: top;\n",
              "    }\n",
              "\n",
              "    .dataframe thead th {\n",
              "        text-align: right;\n",
              "    }\n",
              "</style>\n",
              "<table border=\"1\" class=\"dataframe\">\n",
              "  <thead>\n",
              "    <tr style=\"text-align: right;\">\n",
              "      <th></th>\n",
              "      <th>날짜</th>\n",
              "      <th>체결가</th>\n",
              "      <th>전일비</th>\n",
              "      <th>등락률</th>\n",
              "      <th>거래량</th>\n",
              "      <th>거래대금</th>\n",
              "    </tr>\n",
              "  </thead>\n",
              "  <tbody>\n",
              "    <tr>\n",
              "      <th>0</th>\n",
              "      <td>2023.01.18</td>\n",
              "      <td>311.78</td>\n",
              "      <td>-1.97</td>\n",
              "      <td>-0.63%</td>\n",
              "      <td>22,247</td>\n",
              "      <td>1,066,528</td>\n",
              "    </tr>\n",
              "    <tr>\n",
              "      <th>1</th>\n",
              "      <td>2023.01.17</td>\n",
              "      <td>313.75</td>\n",
              "      <td>-2.29</td>\n",
              "      <td>-0.72%</td>\n",
              "      <td>101,245</td>\n",
              "      <td>4,829,876</td>\n",
              "    </tr>\n",
              "    <tr>\n",
              "      <th>2</th>\n",
              "      <td>2023.01.16</td>\n",
              "      <td>316.04</td>\n",
              "      <td>2.27</td>\n",
              "      <td>+0.72%</td>\n",
              "      <td>119,827</td>\n",
              "      <td>5,136,041</td>\n",
              "    </tr>\n",
              "    <tr>\n",
              "      <th>3</th>\n",
              "      <td>2023.01.13</td>\n",
              "      <td>313.77</td>\n",
              "      <td>3.07</td>\n",
              "      <td>+0.99%</td>\n",
              "      <td>128,647</td>\n",
              "      <td>5,505,750</td>\n",
              "    </tr>\n",
              "    <tr>\n",
              "      <th>4</th>\n",
              "      <td>2023.01.12</td>\n",
              "      <td>310.70</td>\n",
              "      <td>0.32</td>\n",
              "      <td>+0.10%</td>\n",
              "      <td>130,719</td>\n",
              "      <td>6,002,834</td>\n",
              "    </tr>\n",
              "    <tr>\n",
              "      <th>5</th>\n",
              "      <td>2023.01.11</td>\n",
              "      <td>310.38</td>\n",
              "      <td>0.81</td>\n",
              "      <td>+0.26%</td>\n",
              "      <td>102,603</td>\n",
              "      <td>5,055,057</td>\n",
              "    </tr>\n",
              "  </tbody>\n",
              "</table>\n",
              "</div>\n",
              "      <button class=\"colab-df-convert\" onclick=\"convertToInteractive('df-079a976b-b0ee-475c-ad89-6135345a9d0c')\"\n",
              "              title=\"Convert this dataframe to an interactive table.\"\n",
              "              style=\"display:none;\">\n",
              "        \n",
              "  <svg xmlns=\"http://www.w3.org/2000/svg\" height=\"24px\"viewBox=\"0 0 24 24\"\n",
              "       width=\"24px\">\n",
              "    <path d=\"M0 0h24v24H0V0z\" fill=\"none\"/>\n",
              "    <path d=\"M18.56 5.44l.94 2.06.94-2.06 2.06-.94-2.06-.94-.94-2.06-.94 2.06-2.06.94zm-11 1L8.5 8.5l.94-2.06 2.06-.94-2.06-.94L8.5 2.5l-.94 2.06-2.06.94zm10 10l.94 2.06.94-2.06 2.06-.94-2.06-.94-.94-2.06-.94 2.06-2.06.94z\"/><path d=\"M17.41 7.96l-1.37-1.37c-.4-.4-.92-.59-1.43-.59-.52 0-1.04.2-1.43.59L10.3 9.45l-7.72 7.72c-.78.78-.78 2.05 0 2.83L4 21.41c.39.39.9.59 1.41.59.51 0 1.02-.2 1.41-.59l7.78-7.78 2.81-2.81c.8-.78.8-2.07 0-2.86zM5.41 20L4 18.59l7.72-7.72 1.47 1.35L5.41 20z\"/>\n",
              "  </svg>\n",
              "      </button>\n",
              "      \n",
              "  <style>\n",
              "    .colab-df-container {\n",
              "      display:flex;\n",
              "      flex-wrap:wrap;\n",
              "      gap: 12px;\n",
              "    }\n",
              "\n",
              "    .colab-df-convert {\n",
              "      background-color: #E8F0FE;\n",
              "      border: none;\n",
              "      border-radius: 50%;\n",
              "      cursor: pointer;\n",
              "      display: none;\n",
              "      fill: #1967D2;\n",
              "      height: 32px;\n",
              "      padding: 0 0 0 0;\n",
              "      width: 32px;\n",
              "    }\n",
              "\n",
              "    .colab-df-convert:hover {\n",
              "      background-color: #E2EBFA;\n",
              "      box-shadow: 0px 1px 2px rgba(60, 64, 67, 0.3), 0px 1px 3px 1px rgba(60, 64, 67, 0.15);\n",
              "      fill: #174EA6;\n",
              "    }\n",
              "\n",
              "    [theme=dark] .colab-df-convert {\n",
              "      background-color: #3B4455;\n",
              "      fill: #D2E3FC;\n",
              "    }\n",
              "\n",
              "    [theme=dark] .colab-df-convert:hover {\n",
              "      background-color: #434B5C;\n",
              "      box-shadow: 0px 1px 3px 1px rgba(0, 0, 0, 0.15);\n",
              "      filter: drop-shadow(0px 1px 2px rgba(0, 0, 0, 0.3));\n",
              "      fill: #FFFFFF;\n",
              "    }\n",
              "  </style>\n",
              "\n",
              "      <script>\n",
              "        const buttonEl =\n",
              "          document.querySelector('#df-079a976b-b0ee-475c-ad89-6135345a9d0c button.colab-df-convert');\n",
              "        buttonEl.style.display =\n",
              "          google.colab.kernel.accessAllowed ? 'block' : 'none';\n",
              "\n",
              "        async function convertToInteractive(key) {\n",
              "          const element = document.querySelector('#df-079a976b-b0ee-475c-ad89-6135345a9d0c');\n",
              "          const dataTable =\n",
              "            await google.colab.kernel.invokeFunction('convertToInteractive',\n",
              "                                                     [key], {});\n",
              "          if (!dataTable) return;\n",
              "\n",
              "          const docLinkHtml = 'Like what you see? Visit the ' +\n",
              "            '<a target=\"_blank\" href=https://colab.research.google.com/notebooks/data_table.ipynb>data table notebook</a>'\n",
              "            + ' to learn more about interactive tables.';\n",
              "          element.innerHTML = '';\n",
              "          dataTable['output_type'] = 'display_data';\n",
              "          await google.colab.output.renderOutput(dataTable, element);\n",
              "          const docLink = document.createElement('div');\n",
              "          docLink.innerHTML = docLinkHtml;\n",
              "          element.appendChild(docLink);\n",
              "        }\n",
              "      </script>\n",
              "    </div>\n",
              "  </div>\n",
              "  "
            ]
          },
          "metadata": {},
          "execution_count": 33
        }
      ]
    },
    {
      "cell_type": "markdown",
      "source": [
        "#### 5-4) 전체 페이지 전체 데이터 가져와서 csv파일로 저장하기 \n",
        "- 코드 시행 시점 무관하게 맨 끝페이지까지 크롤링하도록 자동화할 것."
      ],
      "metadata": {
        "id": "K8Sl5hfUhQS7"
      }
    },
    {
      "cell_type": "code",
      "source": [
        "url = 'https://finance.naver.com/sise/sise_index_day.naver?code=KPI200'\n",
        "resp = requests.get(url)\n",
        "\n",
        "soup = BeautifulSoup(resp.content, 'lxml')\n",
        "\n"
      ],
      "metadata": {
        "colab": {
          "base_uri": "https://localhost:8080/"
        },
        "id": "3SGMPMWKg3qp",
        "outputId": "caa76b5c-ce56-45dd-e003-702b15f667ff"
      },
      "execution_count": null,
      "outputs": [
        {
          "output_type": "execute_result",
          "data": {
            "text/plain": [
              "703"
            ]
          },
          "metadata": {},
          "execution_count": 49
        }
      ]
    },
    {
      "cell_type": "code",
      "source": [
        "dates, prices, diffs, rates, volumns, amounts = [], [], [], [], [], []"
      ],
      "metadata": {
        "id": "EGk1NcXLbTZU"
      },
      "execution_count": null,
      "outputs": []
    },
    {
      "cell_type": "code",
      "source": [
        "# 마지막 페이지 정보 누락되어있을 경우 확인\n",
        "last_url = 'https://finance.naver.com/sise/sise_index_day.naver?code=KPI200&page=703'\n",
        "resp = requests.get(last_url)\n",
        "\n",
        "soup = BeautifulSoup(resp.content, 'lxml')\n",
        "\n",
        "\n"
      ],
      "metadata": {
        "colab": {
          "base_uri": "https://localhost:8080/"
        },
        "id": "40aU9J5-bxa8",
        "outputId": "1f5ce43b-fc17-405f-bc2d-4310cdaa0540"
      },
      "execution_count": null,
      "outputs": [
        {
          "output_type": "execute_result",
          "data": {
            "text/plain": [
              "['2006.01.04', '2006.01.03']"
            ]
          },
          "metadata": {},
          "execution_count": 74
        }
      ]
    },
    {
      "cell_type": "code",
      "source": [
        "from tqdm.notebook import tqdm"
      ],
      "metadata": {
        "id": "356I6NwjbX6k"
      },
      "execution_count": null,
      "outputs": []
    },
    {
      "cell_type": "code",
      "source": [
        "dates, prices, diffs, rates, volumns, amounts = [], [], [], [], [], []\n"
      ],
      "metadata": {
        "colab": {
          "base_uri": "https://localhost:8080/",
          "height": 49,
          "referenced_widgets": [
            "b501c433e66f4ae6880aac9faa828081",
            "67a35e9aaf3a4afb8d60bc3e67121499",
            "6a4d379996464c54abf89b286126345d",
            "3f17dcd13b534237ac5d0b0ef206674a",
            "f062a920c6e149418efc62c0b24431a0",
            "b5206550c63b40a7a32e74bf9f3e17b4",
            "15fffb9aa3f14ced897901df913ae49a",
            "6fd5dfae146147749b2fa884519ba46e",
            "d620997e68974258b52e140775135090",
            "94871ccb8a3b460bb081d76c2cd6588b",
            "094263071ee048c8aa60d454d882c3df"
          ]
        },
        "id": "zvor3vtE0acP",
        "outputId": "8f0e30f6-6640-497c-9c18-0c0419ef7b31"
      },
      "execution_count": null,
      "outputs": [
        {
          "output_type": "display_data",
          "data": {
            "text/plain": [
              "코스피200 일별시세:   0%|          | 0/703 [00:00<?, ?it/s]"
            ],
            "application/vnd.jupyter.widget-view+json": {
              "version_major": 2,
              "version_minor": 0,
              "model_id": "b501c433e66f4ae6880aac9faa828081"
            }
          },
          "metadata": {}
        }
      ]
    },
    {
      "cell_type": "code",
      "execution_count": null,
      "metadata": {
        "id": "eNVEUEMBQ2X8",
        "colab": {
          "base_uri": "https://localhost:8080/"
        },
        "outputId": "4bfaf72a-44c9-4578-d1ad-aea416f1465f"
      },
      "outputs": [
        {
          "output_type": "execute_result",
          "data": {
            "text/plain": [
              "4214"
            ]
          },
          "metadata": {},
          "execution_count": 80
        }
      ],
      "source": [
        "len(dates)"
      ]
    },
    {
      "cell_type": "code",
      "source": [],
      "metadata": {
        "colab": {
          "base_uri": "https://localhost:8080/"
        },
        "id": "Tv1c74finbW5",
        "outputId": "b2cbf46c-6077-4098-ace3-cabd4db03dca"
      },
      "execution_count": null,
      "outputs": [
        {
          "output_type": "execute_result",
          "data": {
            "text/plain": [
              "4214"
            ]
          },
          "metadata": {},
          "execution_count": 81
        }
      ]
    },
    {
      "cell_type": "code",
      "source": [
        "import pandas as pd\n",
        "\n",
        "df_ksp200 = pd.DataFrame({'날짜' : dates, '체결가' : prices, '전일비' : diffs,\n",
        "              '등락률' : rates, '거래량' : volumns, '거래대금' : amounts})\n",
        "df_ksp200"
      ],
      "metadata": {
        "colab": {
          "base_uri": "https://localhost:8080/",
          "height": 423
        },
        "id": "zLyhByWwnfzR",
        "outputId": "a24117cd-5331-4490-f20f-68ece702c07e"
      },
      "execution_count": null,
      "outputs": [
        {
          "output_type": "execute_result",
          "data": {
            "text/plain": [
              "              날짜     체결가    전일비     등락률      거래량       거래대금\n",
              "0     2023.01.18  310.78  -2.97  -0.95%   37,513  1,742,388\n",
              "1     2023.01.17  313.75  -2.29  -0.72%  101,245  4,829,876\n",
              "2     2023.01.16  316.04   2.27  +0.72%  119,827  5,136,041\n",
              "3     2023.01.13  313.77   3.07  +0.99%  128,647  5,505,750\n",
              "4     2023.01.12  310.70   0.32  +0.10%  130,719  6,002,834\n",
              "...          ...     ...    ...     ...      ...        ...\n",
              "4209  2006.01.09  180.30  -0.57  -0.32%  191,222  4,641,279\n",
              "4210  2006.01.06  180.87   2.05  +1.15%  206,313  4,609,858\n",
              "4211  2006.01.05  178.82  -1.09  -0.61%  206,332  5,522,148\n",
              "4212  2006.01.04  179.91   1.10  +0.62%  188,841  5,360,812\n",
              "4213  2006.01.03  178.81   0.52  +0.29%  158,041  4,161,549\n",
              "\n",
              "[4214 rows x 6 columns]"
            ],
            "text/html": [
              "\n",
              "  <div id=\"df-c085a843-1a9e-4352-af2a-4bb537136458\">\n",
              "    <div class=\"colab-df-container\">\n",
              "      <div>\n",
              "<style scoped>\n",
              "    .dataframe tbody tr th:only-of-type {\n",
              "        vertical-align: middle;\n",
              "    }\n",
              "\n",
              "    .dataframe tbody tr th {\n",
              "        vertical-align: top;\n",
              "    }\n",
              "\n",
              "    .dataframe thead th {\n",
              "        text-align: right;\n",
              "    }\n",
              "</style>\n",
              "<table border=\"1\" class=\"dataframe\">\n",
              "  <thead>\n",
              "    <tr style=\"text-align: right;\">\n",
              "      <th></th>\n",
              "      <th>날짜</th>\n",
              "      <th>체결가</th>\n",
              "      <th>전일비</th>\n",
              "      <th>등락률</th>\n",
              "      <th>거래량</th>\n",
              "      <th>거래대금</th>\n",
              "    </tr>\n",
              "  </thead>\n",
              "  <tbody>\n",
              "    <tr>\n",
              "      <th>0</th>\n",
              "      <td>2023.01.18</td>\n",
              "      <td>310.78</td>\n",
              "      <td>-2.97</td>\n",
              "      <td>-0.95%</td>\n",
              "      <td>37,513</td>\n",
              "      <td>1,742,388</td>\n",
              "    </tr>\n",
              "    <tr>\n",
              "      <th>1</th>\n",
              "      <td>2023.01.17</td>\n",
              "      <td>313.75</td>\n",
              "      <td>-2.29</td>\n",
              "      <td>-0.72%</td>\n",
              "      <td>101,245</td>\n",
              "      <td>4,829,876</td>\n",
              "    </tr>\n",
              "    <tr>\n",
              "      <th>2</th>\n",
              "      <td>2023.01.16</td>\n",
              "      <td>316.04</td>\n",
              "      <td>2.27</td>\n",
              "      <td>+0.72%</td>\n",
              "      <td>119,827</td>\n",
              "      <td>5,136,041</td>\n",
              "    </tr>\n",
              "    <tr>\n",
              "      <th>3</th>\n",
              "      <td>2023.01.13</td>\n",
              "      <td>313.77</td>\n",
              "      <td>3.07</td>\n",
              "      <td>+0.99%</td>\n",
              "      <td>128,647</td>\n",
              "      <td>5,505,750</td>\n",
              "    </tr>\n",
              "    <tr>\n",
              "      <th>4</th>\n",
              "      <td>2023.01.12</td>\n",
              "      <td>310.70</td>\n",
              "      <td>0.32</td>\n",
              "      <td>+0.10%</td>\n",
              "      <td>130,719</td>\n",
              "      <td>6,002,834</td>\n",
              "    </tr>\n",
              "    <tr>\n",
              "      <th>...</th>\n",
              "      <td>...</td>\n",
              "      <td>...</td>\n",
              "      <td>...</td>\n",
              "      <td>...</td>\n",
              "      <td>...</td>\n",
              "      <td>...</td>\n",
              "    </tr>\n",
              "    <tr>\n",
              "      <th>4209</th>\n",
              "      <td>2006.01.09</td>\n",
              "      <td>180.30</td>\n",
              "      <td>-0.57</td>\n",
              "      <td>-0.32%</td>\n",
              "      <td>191,222</td>\n",
              "      <td>4,641,279</td>\n",
              "    </tr>\n",
              "    <tr>\n",
              "      <th>4210</th>\n",
              "      <td>2006.01.06</td>\n",
              "      <td>180.87</td>\n",
              "      <td>2.05</td>\n",
              "      <td>+1.15%</td>\n",
              "      <td>206,313</td>\n",
              "      <td>4,609,858</td>\n",
              "    </tr>\n",
              "    <tr>\n",
              "      <th>4211</th>\n",
              "      <td>2006.01.05</td>\n",
              "      <td>178.82</td>\n",
              "      <td>-1.09</td>\n",
              "      <td>-0.61%</td>\n",
              "      <td>206,332</td>\n",
              "      <td>5,522,148</td>\n",
              "    </tr>\n",
              "    <tr>\n",
              "      <th>4212</th>\n",
              "      <td>2006.01.04</td>\n",
              "      <td>179.91</td>\n",
              "      <td>1.10</td>\n",
              "      <td>+0.62%</td>\n",
              "      <td>188,841</td>\n",
              "      <td>5,360,812</td>\n",
              "    </tr>\n",
              "    <tr>\n",
              "      <th>4213</th>\n",
              "      <td>2006.01.03</td>\n",
              "      <td>178.81</td>\n",
              "      <td>0.52</td>\n",
              "      <td>+0.29%</td>\n",
              "      <td>158,041</td>\n",
              "      <td>4,161,549</td>\n",
              "    </tr>\n",
              "  </tbody>\n",
              "</table>\n",
              "<p>4214 rows × 6 columns</p>\n",
              "</div>\n",
              "      <button class=\"colab-df-convert\" onclick=\"convertToInteractive('df-c085a843-1a9e-4352-af2a-4bb537136458')\"\n",
              "              title=\"Convert this dataframe to an interactive table.\"\n",
              "              style=\"display:none;\">\n",
              "        \n",
              "  <svg xmlns=\"http://www.w3.org/2000/svg\" height=\"24px\"viewBox=\"0 0 24 24\"\n",
              "       width=\"24px\">\n",
              "    <path d=\"M0 0h24v24H0V0z\" fill=\"none\"/>\n",
              "    <path d=\"M18.56 5.44l.94 2.06.94-2.06 2.06-.94-2.06-.94-.94-2.06-.94 2.06-2.06.94zm-11 1L8.5 8.5l.94-2.06 2.06-.94-2.06-.94L8.5 2.5l-.94 2.06-2.06.94zm10 10l.94 2.06.94-2.06 2.06-.94-2.06-.94-.94-2.06-.94 2.06-2.06.94z\"/><path d=\"M17.41 7.96l-1.37-1.37c-.4-.4-.92-.59-1.43-.59-.52 0-1.04.2-1.43.59L10.3 9.45l-7.72 7.72c-.78.78-.78 2.05 0 2.83L4 21.41c.39.39.9.59 1.41.59.51 0 1.02-.2 1.41-.59l7.78-7.78 2.81-2.81c.8-.78.8-2.07 0-2.86zM5.41 20L4 18.59l7.72-7.72 1.47 1.35L5.41 20z\"/>\n",
              "  </svg>\n",
              "      </button>\n",
              "      \n",
              "  <style>\n",
              "    .colab-df-container {\n",
              "      display:flex;\n",
              "      flex-wrap:wrap;\n",
              "      gap: 12px;\n",
              "    }\n",
              "\n",
              "    .colab-df-convert {\n",
              "      background-color: #E8F0FE;\n",
              "      border: none;\n",
              "      border-radius: 50%;\n",
              "      cursor: pointer;\n",
              "      display: none;\n",
              "      fill: #1967D2;\n",
              "      height: 32px;\n",
              "      padding: 0 0 0 0;\n",
              "      width: 32px;\n",
              "    }\n",
              "\n",
              "    .colab-df-convert:hover {\n",
              "      background-color: #E2EBFA;\n",
              "      box-shadow: 0px 1px 2px rgba(60, 64, 67, 0.3), 0px 1px 3px 1px rgba(60, 64, 67, 0.15);\n",
              "      fill: #174EA6;\n",
              "    }\n",
              "\n",
              "    [theme=dark] .colab-df-convert {\n",
              "      background-color: #3B4455;\n",
              "      fill: #D2E3FC;\n",
              "    }\n",
              "\n",
              "    [theme=dark] .colab-df-convert:hover {\n",
              "      background-color: #434B5C;\n",
              "      box-shadow: 0px 1px 3px 1px rgba(0, 0, 0, 0.15);\n",
              "      filter: drop-shadow(0px 1px 2px rgba(0, 0, 0, 0.3));\n",
              "      fill: #FFFFFF;\n",
              "    }\n",
              "  </style>\n",
              "\n",
              "      <script>\n",
              "        const buttonEl =\n",
              "          document.querySelector('#df-c085a843-1a9e-4352-af2a-4bb537136458 button.colab-df-convert');\n",
              "        buttonEl.style.display =\n",
              "          google.colab.kernel.accessAllowed ? 'block' : 'none';\n",
              "\n",
              "        async function convertToInteractive(key) {\n",
              "          const element = document.querySelector('#df-c085a843-1a9e-4352-af2a-4bb537136458');\n",
              "          const dataTable =\n",
              "            await google.colab.kernel.invokeFunction('convertToInteractive',\n",
              "                                                     [key], {});\n",
              "          if (!dataTable) return;\n",
              "\n",
              "          const docLinkHtml = 'Like what you see? Visit the ' +\n",
              "            '<a target=\"_blank\" href=https://colab.research.google.com/notebooks/data_table.ipynb>data table notebook</a>'\n",
              "            + ' to learn more about interactive tables.';\n",
              "          element.innerHTML = '';\n",
              "          dataTable['output_type'] = 'display_data';\n",
              "          await google.colab.output.renderOutput(dataTable, element);\n",
              "          const docLink = document.createElement('div');\n",
              "          docLink.innerHTML = docLinkHtml;\n",
              "          element.appendChild(docLink);\n",
              "        }\n",
              "      </script>\n",
              "    </div>\n",
              "  </div>\n",
              "  "
            ]
          },
          "metadata": {},
          "execution_count": 82
        }
      ]
    },
    {
      "cell_type": "code",
      "execution_count": null,
      "metadata": {
        "colab": {
          "base_uri": "https://localhost:8080/",
          "height": 423
        },
        "id": "18Jrt5BnoGVn",
        "outputId": "04b3cce8-6a52-48ab-960e-1cf9cdf84176"
      },
      "outputs": [
        {
          "output_type": "execute_result",
          "data": {
            "text/plain": [
              "              날짜     체결가   전일비     등락률      거래량       거래대금\n",
              "0     2023.01.18  310.78 -2.97  -0.95%   37,513  1,742,388\n",
              "1     2023.01.17  313.75 -2.29  -0.72%  101,245  4,829,876\n",
              "2     2023.01.16  316.04  2.27  +0.72%  119,827  5,136,041\n",
              "3     2023.01.13  313.77  3.07  +0.99%  128,647  5,505,750\n",
              "4     2023.01.12  310.70  0.32  +0.10%  130,719  6,002,834\n",
              "...          ...     ...   ...     ...      ...        ...\n",
              "4209  2006.01.09  180.30 -0.57  -0.32%  191,222  4,641,279\n",
              "4210  2006.01.06  180.87  2.05  +1.15%  206,313  4,609,858\n",
              "4211  2006.01.05  178.82 -1.09  -0.61%  206,332  5,522,148\n",
              "4212  2006.01.04  179.91  1.10  +0.62%  188,841  5,360,812\n",
              "4213  2006.01.03  178.81  0.52  +0.29%  158,041  4,161,549\n",
              "\n",
              "[4214 rows x 6 columns]"
            ],
            "text/html": [
              "\n",
              "  <div id=\"df-99ff6721-9a9f-4645-8b3f-7f83e97c2464\">\n",
              "    <div class=\"colab-df-container\">\n",
              "      <div>\n",
              "<style scoped>\n",
              "    .dataframe tbody tr th:only-of-type {\n",
              "        vertical-align: middle;\n",
              "    }\n",
              "\n",
              "    .dataframe tbody tr th {\n",
              "        vertical-align: top;\n",
              "    }\n",
              "\n",
              "    .dataframe thead th {\n",
              "        text-align: right;\n",
              "    }\n",
              "</style>\n",
              "<table border=\"1\" class=\"dataframe\">\n",
              "  <thead>\n",
              "    <tr style=\"text-align: right;\">\n",
              "      <th></th>\n",
              "      <th>날짜</th>\n",
              "      <th>체결가</th>\n",
              "      <th>전일비</th>\n",
              "      <th>등락률</th>\n",
              "      <th>거래량</th>\n",
              "      <th>거래대금</th>\n",
              "    </tr>\n",
              "  </thead>\n",
              "  <tbody>\n",
              "    <tr>\n",
              "      <th>0</th>\n",
              "      <td>2023.01.18</td>\n",
              "      <td>310.78</td>\n",
              "      <td>-2.97</td>\n",
              "      <td>-0.95%</td>\n",
              "      <td>37,513</td>\n",
              "      <td>1,742,388</td>\n",
              "    </tr>\n",
              "    <tr>\n",
              "      <th>1</th>\n",
              "      <td>2023.01.17</td>\n",
              "      <td>313.75</td>\n",
              "      <td>-2.29</td>\n",
              "      <td>-0.72%</td>\n",
              "      <td>101,245</td>\n",
              "      <td>4,829,876</td>\n",
              "    </tr>\n",
              "    <tr>\n",
              "      <th>2</th>\n",
              "      <td>2023.01.16</td>\n",
              "      <td>316.04</td>\n",
              "      <td>2.27</td>\n",
              "      <td>+0.72%</td>\n",
              "      <td>119,827</td>\n",
              "      <td>5,136,041</td>\n",
              "    </tr>\n",
              "    <tr>\n",
              "      <th>3</th>\n",
              "      <td>2023.01.13</td>\n",
              "      <td>313.77</td>\n",
              "      <td>3.07</td>\n",
              "      <td>+0.99%</td>\n",
              "      <td>128,647</td>\n",
              "      <td>5,505,750</td>\n",
              "    </tr>\n",
              "    <tr>\n",
              "      <th>4</th>\n",
              "      <td>2023.01.12</td>\n",
              "      <td>310.70</td>\n",
              "      <td>0.32</td>\n",
              "      <td>+0.10%</td>\n",
              "      <td>130,719</td>\n",
              "      <td>6,002,834</td>\n",
              "    </tr>\n",
              "    <tr>\n",
              "      <th>...</th>\n",
              "      <td>...</td>\n",
              "      <td>...</td>\n",
              "      <td>...</td>\n",
              "      <td>...</td>\n",
              "      <td>...</td>\n",
              "      <td>...</td>\n",
              "    </tr>\n",
              "    <tr>\n",
              "      <th>4209</th>\n",
              "      <td>2006.01.09</td>\n",
              "      <td>180.30</td>\n",
              "      <td>-0.57</td>\n",
              "      <td>-0.32%</td>\n",
              "      <td>191,222</td>\n",
              "      <td>4,641,279</td>\n",
              "    </tr>\n",
              "    <tr>\n",
              "      <th>4210</th>\n",
              "      <td>2006.01.06</td>\n",
              "      <td>180.87</td>\n",
              "      <td>2.05</td>\n",
              "      <td>+1.15%</td>\n",
              "      <td>206,313</td>\n",
              "      <td>4,609,858</td>\n",
              "    </tr>\n",
              "    <tr>\n",
              "      <th>4211</th>\n",
              "      <td>2006.01.05</td>\n",
              "      <td>178.82</td>\n",
              "      <td>-1.09</td>\n",
              "      <td>-0.61%</td>\n",
              "      <td>206,332</td>\n",
              "      <td>5,522,148</td>\n",
              "    </tr>\n",
              "    <tr>\n",
              "      <th>4212</th>\n",
              "      <td>2006.01.04</td>\n",
              "      <td>179.91</td>\n",
              "      <td>1.10</td>\n",
              "      <td>+0.62%</td>\n",
              "      <td>188,841</td>\n",
              "      <td>5,360,812</td>\n",
              "    </tr>\n",
              "    <tr>\n",
              "      <th>4213</th>\n",
              "      <td>2006.01.03</td>\n",
              "      <td>178.81</td>\n",
              "      <td>0.52</td>\n",
              "      <td>+0.29%</td>\n",
              "      <td>158,041</td>\n",
              "      <td>4,161,549</td>\n",
              "    </tr>\n",
              "  </tbody>\n",
              "</table>\n",
              "<p>4214 rows × 6 columns</p>\n",
              "</div>\n",
              "      <button class=\"colab-df-convert\" onclick=\"convertToInteractive('df-99ff6721-9a9f-4645-8b3f-7f83e97c2464')\"\n",
              "              title=\"Convert this dataframe to an interactive table.\"\n",
              "              style=\"display:none;\">\n",
              "        \n",
              "  <svg xmlns=\"http://www.w3.org/2000/svg\" height=\"24px\"viewBox=\"0 0 24 24\"\n",
              "       width=\"24px\">\n",
              "    <path d=\"M0 0h24v24H0V0z\" fill=\"none\"/>\n",
              "    <path d=\"M18.56 5.44l.94 2.06.94-2.06 2.06-.94-2.06-.94-.94-2.06-.94 2.06-2.06.94zm-11 1L8.5 8.5l.94-2.06 2.06-.94-2.06-.94L8.5 2.5l-.94 2.06-2.06.94zm10 10l.94 2.06.94-2.06 2.06-.94-2.06-.94-.94-2.06-.94 2.06-2.06.94z\"/><path d=\"M17.41 7.96l-1.37-1.37c-.4-.4-.92-.59-1.43-.59-.52 0-1.04.2-1.43.59L10.3 9.45l-7.72 7.72c-.78.78-.78 2.05 0 2.83L4 21.41c.39.39.9.59 1.41.59.51 0 1.02-.2 1.41-.59l7.78-7.78 2.81-2.81c.8-.78.8-2.07 0-2.86zM5.41 20L4 18.59l7.72-7.72 1.47 1.35L5.41 20z\"/>\n",
              "  </svg>\n",
              "      </button>\n",
              "      \n",
              "  <style>\n",
              "    .colab-df-container {\n",
              "      display:flex;\n",
              "      flex-wrap:wrap;\n",
              "      gap: 12px;\n",
              "    }\n",
              "\n",
              "    .colab-df-convert {\n",
              "      background-color: #E8F0FE;\n",
              "      border: none;\n",
              "      border-radius: 50%;\n",
              "      cursor: pointer;\n",
              "      display: none;\n",
              "      fill: #1967D2;\n",
              "      height: 32px;\n",
              "      padding: 0 0 0 0;\n",
              "      width: 32px;\n",
              "    }\n",
              "\n",
              "    .colab-df-convert:hover {\n",
              "      background-color: #E2EBFA;\n",
              "      box-shadow: 0px 1px 2px rgba(60, 64, 67, 0.3), 0px 1px 3px 1px rgba(60, 64, 67, 0.15);\n",
              "      fill: #174EA6;\n",
              "    }\n",
              "\n",
              "    [theme=dark] .colab-df-convert {\n",
              "      background-color: #3B4455;\n",
              "      fill: #D2E3FC;\n",
              "    }\n",
              "\n",
              "    [theme=dark] .colab-df-convert:hover {\n",
              "      background-color: #434B5C;\n",
              "      box-shadow: 0px 1px 3px 1px rgba(0, 0, 0, 0.15);\n",
              "      filter: drop-shadow(0px 1px 2px rgba(0, 0, 0, 0.3));\n",
              "      fill: #FFFFFF;\n",
              "    }\n",
              "  </style>\n",
              "\n",
              "      <script>\n",
              "        const buttonEl =\n",
              "          document.querySelector('#df-99ff6721-9a9f-4645-8b3f-7f83e97c2464 button.colab-df-convert');\n",
              "        buttonEl.style.display =\n",
              "          google.colab.kernel.accessAllowed ? 'block' : 'none';\n",
              "\n",
              "        async function convertToInteractive(key) {\n",
              "          const element = document.querySelector('#df-99ff6721-9a9f-4645-8b3f-7f83e97c2464');\n",
              "          const dataTable =\n",
              "            await google.colab.kernel.invokeFunction('convertToInteractive',\n",
              "                                                     [key], {});\n",
              "          if (!dataTable) return;\n",
              "\n",
              "          const docLinkHtml = 'Like what you see? Visit the ' +\n",
              "            '<a target=\"_blank\" href=https://colab.research.google.com/notebooks/data_table.ipynb>data table notebook</a>'\n",
              "            + ' to learn more about interactive tables.';\n",
              "          element.innerHTML = '';\n",
              "          dataTable['output_type'] = 'display_data';\n",
              "          await google.colab.output.renderOutput(dataTable, element);\n",
              "          const docLink = document.createElement('div');\n",
              "          docLink.innerHTML = docLinkHtml;\n",
              "          element.appendChild(docLink);\n",
              "        }\n",
              "      </script>\n",
              "    </div>\n",
              "  </div>\n",
              "  "
            ]
          },
          "metadata": {},
          "execution_count": 97
        }
      ],
      "source": [
        "# (추가 과제) 네이버 금융에서 Kospi200 일별시세 정보를 모두 csv로 저장해보세요.\n",
        "df_ksp200.to_csv('코스피200_일별시세.csv', encoding='utf-8-sig', index=False)\n",
        "\n",
        "ksp200 = pd.read_csv('코스피200_일별시세.csv')\n",
        "ksp200"
      ]
    },
    {
      "cell_type": "code",
      "execution_count": null,
      "metadata": {
        "id": "dFFjFy8tjAAg",
        "colab": {
          "base_uri": "https://localhost:8080/"
        },
        "outputId": "004ccfaf-7c19-481b-9ce6-c9f3f3b8b0eb"
      },
      "outputs": [
        {
          "output_type": "stream",
          "name": "stdout",
          "text": [
            "<class 'pandas.core.frame.DataFrame'>\n",
            "RangeIndex: 4214 entries, 0 to 4213\n",
            "Data columns (total 6 columns):\n",
            " #   Column  Non-Null Count  Dtype  \n",
            "---  ------  --------------  -----  \n",
            " 0   날짜      4214 non-null   object \n",
            " 1   체결가     4214 non-null   float64\n",
            " 2   전일비     4214 non-null   float64\n",
            " 3   등락률     4214 non-null   object \n",
            " 4   거래량     4214 non-null   object \n",
            " 5   거래대금    4214 non-null   object \n",
            "dtypes: float64(2), object(4)\n",
            "memory usage: 197.7+ KB\n"
          ]
        }
      ],
      "source": [
        "ksp200.info()"
      ]
    },
    {
      "cell_type": "code",
      "execution_count": null,
      "metadata": {
        "id": "7xYwXtF9PWfh",
        "colab": {
          "base_uri": "https://localhost:8080/"
        },
        "outputId": "a72b7123-b0df-4280-c267-37e24407c553"
      },
      "outputs": [
        {
          "output_type": "stream",
          "name": "stdout",
          "text": [
            "<class 'pandas.core.frame.DataFrame'>\n",
            "RangeIndex: 4214 entries, 0 to 4213\n",
            "Data columns (total 6 columns):\n",
            " #   Column  Non-Null Count  Dtype         \n",
            "---  ------  --------------  -----         \n",
            " 0   날짜      4214 non-null   datetime64[ns]\n",
            " 1   체결가     4214 non-null   float64       \n",
            " 2   전일비     4214 non-null   float64       \n",
            " 3   등락률     4214 non-null   float64       \n",
            " 4   거래량     4214 non-null   int64         \n",
            " 5   거래대금    4214 non-null   int64         \n",
            "dtypes: datetime64[ns](1), float64(3), int64(2)\n",
            "memory usage: 197.7 KB\n"
          ]
        }
      ],
      "source": [
        "# 날짜정보는 datetime으로, 나머지는 numeric으로 변경 후, 통계치 및 시각화를 수행해보세요.\n",
        "ksp200['등락률'] = ksp200['등락률'].str.replace('%', '')\n",
        "ksp200['거래량'] = ksp200['거래량'].str.replace(',', '')\n",
        "ksp200['거래대금'] = ksp200['거래대금'].str.replace(',', '')\n",
        "\n",
        "# # ksp200['등락률'].replace('%', '')  vs  ksp200['등락률'].str.replace('%', '')\n",
        "# ksp200['등락률'].replace('%', '') # value 중에 % 인 value를 ''로 변경\n",
        "# ksp200['등락률'].str.replace('%', '') # value에 %가 포함되어있는 value에 %를 ''로 변경\n",
        "ksp200['날짜'] = pd.to_datetime(ksp200['날짜'])\n",
        "ksp200['등락률'] = pd.to_numeric(ksp200['등락률'])\n",
        "ksp200['거래량'] = pd.to_numeric(ksp200['거래량'])\n",
        "ksp200['거래대금'] = pd.to_numeric(ksp200['거래대금'])\n",
        "ksp200.info()"
      ]
    },
    {
      "cell_type": "code",
      "source": [
        "ksp200.sort_values('날짜', ascending=True, ignore_index=True, inplace=True)\n",
        "ksp200"
      ],
      "metadata": {
        "colab": {
          "base_uri": "https://localhost:8080/",
          "height": 423
        },
        "id": "dLh9PEjQr6Py",
        "outputId": "2b5ca8ae-ebe5-4e98-f5a9-33d77ecab25e"
      },
      "execution_count": null,
      "outputs": [
        {
          "output_type": "execute_result",
          "data": {
            "text/plain": [
              "             날짜     체결가   전일비   등락률     거래량     거래대금\n",
              "0    2006-01-03  178.81  0.52  0.29  158041  4161549\n",
              "1    2006-01-04  179.91  1.10  0.62  188841  5360812\n",
              "2    2006-01-05  178.82 -1.09 -0.61  206332  5522148\n",
              "3    2006-01-06  180.87  2.05  1.15  206313  4609858\n",
              "4    2006-01-09  180.30 -0.57 -0.32  191222  4641279\n",
              "...         ...     ...   ...   ...     ...      ...\n",
              "4209 2023-01-12  310.70  0.32  0.10  130719  6002834\n",
              "4210 2023-01-13  313.77  3.07  0.99  128647  5505750\n",
              "4211 2023-01-16  316.04  2.27  0.72  119827  5136041\n",
              "4212 2023-01-17  313.75 -2.29 -0.72  101245  4829876\n",
              "4213 2023-01-18  310.78 -2.97 -0.95   37513  1742388\n",
              "\n",
              "[4214 rows x 6 columns]"
            ],
            "text/html": [
              "\n",
              "  <div id=\"df-64e9bfe1-7e4a-4f6b-93d6-cc55dfd15f05\">\n",
              "    <div class=\"colab-df-container\">\n",
              "      <div>\n",
              "<style scoped>\n",
              "    .dataframe tbody tr th:only-of-type {\n",
              "        vertical-align: middle;\n",
              "    }\n",
              "\n",
              "    .dataframe tbody tr th {\n",
              "        vertical-align: top;\n",
              "    }\n",
              "\n",
              "    .dataframe thead th {\n",
              "        text-align: right;\n",
              "    }\n",
              "</style>\n",
              "<table border=\"1\" class=\"dataframe\">\n",
              "  <thead>\n",
              "    <tr style=\"text-align: right;\">\n",
              "      <th></th>\n",
              "      <th>날짜</th>\n",
              "      <th>체결가</th>\n",
              "      <th>전일비</th>\n",
              "      <th>등락률</th>\n",
              "      <th>거래량</th>\n",
              "      <th>거래대금</th>\n",
              "    </tr>\n",
              "  </thead>\n",
              "  <tbody>\n",
              "    <tr>\n",
              "      <th>0</th>\n",
              "      <td>2006-01-03</td>\n",
              "      <td>178.81</td>\n",
              "      <td>0.52</td>\n",
              "      <td>0.29</td>\n",
              "      <td>158041</td>\n",
              "      <td>4161549</td>\n",
              "    </tr>\n",
              "    <tr>\n",
              "      <th>1</th>\n",
              "      <td>2006-01-04</td>\n",
              "      <td>179.91</td>\n",
              "      <td>1.10</td>\n",
              "      <td>0.62</td>\n",
              "      <td>188841</td>\n",
              "      <td>5360812</td>\n",
              "    </tr>\n",
              "    <tr>\n",
              "      <th>2</th>\n",
              "      <td>2006-01-05</td>\n",
              "      <td>178.82</td>\n",
              "      <td>-1.09</td>\n",
              "      <td>-0.61</td>\n",
              "      <td>206332</td>\n",
              "      <td>5522148</td>\n",
              "    </tr>\n",
              "    <tr>\n",
              "      <th>3</th>\n",
              "      <td>2006-01-06</td>\n",
              "      <td>180.87</td>\n",
              "      <td>2.05</td>\n",
              "      <td>1.15</td>\n",
              "      <td>206313</td>\n",
              "      <td>4609858</td>\n",
              "    </tr>\n",
              "    <tr>\n",
              "      <th>4</th>\n",
              "      <td>2006-01-09</td>\n",
              "      <td>180.30</td>\n",
              "      <td>-0.57</td>\n",
              "      <td>-0.32</td>\n",
              "      <td>191222</td>\n",
              "      <td>4641279</td>\n",
              "    </tr>\n",
              "    <tr>\n",
              "      <th>...</th>\n",
              "      <td>...</td>\n",
              "      <td>...</td>\n",
              "      <td>...</td>\n",
              "      <td>...</td>\n",
              "      <td>...</td>\n",
              "      <td>...</td>\n",
              "    </tr>\n",
              "    <tr>\n",
              "      <th>4209</th>\n",
              "      <td>2023-01-12</td>\n",
              "      <td>310.70</td>\n",
              "      <td>0.32</td>\n",
              "      <td>0.10</td>\n",
              "      <td>130719</td>\n",
              "      <td>6002834</td>\n",
              "    </tr>\n",
              "    <tr>\n",
              "      <th>4210</th>\n",
              "      <td>2023-01-13</td>\n",
              "      <td>313.77</td>\n",
              "      <td>3.07</td>\n",
              "      <td>0.99</td>\n",
              "      <td>128647</td>\n",
              "      <td>5505750</td>\n",
              "    </tr>\n",
              "    <tr>\n",
              "      <th>4211</th>\n",
              "      <td>2023-01-16</td>\n",
              "      <td>316.04</td>\n",
              "      <td>2.27</td>\n",
              "      <td>0.72</td>\n",
              "      <td>119827</td>\n",
              "      <td>5136041</td>\n",
              "    </tr>\n",
              "    <tr>\n",
              "      <th>4212</th>\n",
              "      <td>2023-01-17</td>\n",
              "      <td>313.75</td>\n",
              "      <td>-2.29</td>\n",
              "      <td>-0.72</td>\n",
              "      <td>101245</td>\n",
              "      <td>4829876</td>\n",
              "    </tr>\n",
              "    <tr>\n",
              "      <th>4213</th>\n",
              "      <td>2023-01-18</td>\n",
              "      <td>310.78</td>\n",
              "      <td>-2.97</td>\n",
              "      <td>-0.95</td>\n",
              "      <td>37513</td>\n",
              "      <td>1742388</td>\n",
              "    </tr>\n",
              "  </tbody>\n",
              "</table>\n",
              "<p>4214 rows × 6 columns</p>\n",
              "</div>\n",
              "      <button class=\"colab-df-convert\" onclick=\"convertToInteractive('df-64e9bfe1-7e4a-4f6b-93d6-cc55dfd15f05')\"\n",
              "              title=\"Convert this dataframe to an interactive table.\"\n",
              "              style=\"display:none;\">\n",
              "        \n",
              "  <svg xmlns=\"http://www.w3.org/2000/svg\" height=\"24px\"viewBox=\"0 0 24 24\"\n",
              "       width=\"24px\">\n",
              "    <path d=\"M0 0h24v24H0V0z\" fill=\"none\"/>\n",
              "    <path d=\"M18.56 5.44l.94 2.06.94-2.06 2.06-.94-2.06-.94-.94-2.06-.94 2.06-2.06.94zm-11 1L8.5 8.5l.94-2.06 2.06-.94-2.06-.94L8.5 2.5l-.94 2.06-2.06.94zm10 10l.94 2.06.94-2.06 2.06-.94-2.06-.94-.94-2.06-.94 2.06-2.06.94z\"/><path d=\"M17.41 7.96l-1.37-1.37c-.4-.4-.92-.59-1.43-.59-.52 0-1.04.2-1.43.59L10.3 9.45l-7.72 7.72c-.78.78-.78 2.05 0 2.83L4 21.41c.39.39.9.59 1.41.59.51 0 1.02-.2 1.41-.59l7.78-7.78 2.81-2.81c.8-.78.8-2.07 0-2.86zM5.41 20L4 18.59l7.72-7.72 1.47 1.35L5.41 20z\"/>\n",
              "  </svg>\n",
              "      </button>\n",
              "      \n",
              "  <style>\n",
              "    .colab-df-container {\n",
              "      display:flex;\n",
              "      flex-wrap:wrap;\n",
              "      gap: 12px;\n",
              "    }\n",
              "\n",
              "    .colab-df-convert {\n",
              "      background-color: #E8F0FE;\n",
              "      border: none;\n",
              "      border-radius: 50%;\n",
              "      cursor: pointer;\n",
              "      display: none;\n",
              "      fill: #1967D2;\n",
              "      height: 32px;\n",
              "      padding: 0 0 0 0;\n",
              "      width: 32px;\n",
              "    }\n",
              "\n",
              "    .colab-df-convert:hover {\n",
              "      background-color: #E2EBFA;\n",
              "      box-shadow: 0px 1px 2px rgba(60, 64, 67, 0.3), 0px 1px 3px 1px rgba(60, 64, 67, 0.15);\n",
              "      fill: #174EA6;\n",
              "    }\n",
              "\n",
              "    [theme=dark] .colab-df-convert {\n",
              "      background-color: #3B4455;\n",
              "      fill: #D2E3FC;\n",
              "    }\n",
              "\n",
              "    [theme=dark] .colab-df-convert:hover {\n",
              "      background-color: #434B5C;\n",
              "      box-shadow: 0px 1px 3px 1px rgba(0, 0, 0, 0.15);\n",
              "      filter: drop-shadow(0px 1px 2px rgba(0, 0, 0, 0.3));\n",
              "      fill: #FFFFFF;\n",
              "    }\n",
              "  </style>\n",
              "\n",
              "      <script>\n",
              "        const buttonEl =\n",
              "          document.querySelector('#df-64e9bfe1-7e4a-4f6b-93d6-cc55dfd15f05 button.colab-df-convert');\n",
              "        buttonEl.style.display =\n",
              "          google.colab.kernel.accessAllowed ? 'block' : 'none';\n",
              "\n",
              "        async function convertToInteractive(key) {\n",
              "          const element = document.querySelector('#df-64e9bfe1-7e4a-4f6b-93d6-cc55dfd15f05');\n",
              "          const dataTable =\n",
              "            await google.colab.kernel.invokeFunction('convertToInteractive',\n",
              "                                                     [key], {});\n",
              "          if (!dataTable) return;\n",
              "\n",
              "          const docLinkHtml = 'Like what you see? Visit the ' +\n",
              "            '<a target=\"_blank\" href=https://colab.research.google.com/notebooks/data_table.ipynb>data table notebook</a>'\n",
              "            + ' to learn more about interactive tables.';\n",
              "          element.innerHTML = '';\n",
              "          dataTable['output_type'] = 'display_data';\n",
              "          await google.colab.output.renderOutput(dataTable, element);\n",
              "          const docLink = document.createElement('div');\n",
              "          docLink.innerHTML = docLinkHtml;\n",
              "          element.appendChild(docLink);\n",
              "        }\n",
              "      </script>\n",
              "    </div>\n",
              "  </div>\n",
              "  "
            ]
          },
          "metadata": {},
          "execution_count": 105
        }
      ]
    },
    {
      "cell_type": "code",
      "execution_count": null,
      "metadata": {
        "colab": {
          "base_uri": "https://localhost:8080/",
          "height": 300
        },
        "id": "avXreVQyopkM",
        "outputId": "172bcc55-80c2-4f37-b22a-0f316d19b100"
      },
      "outputs": [
        {
          "output_type": "execute_result",
          "data": {
            "text/plain": [
              "               체결가          전일비          등락률            거래량          거래대금\n",
              "count  4214.000000  4214.000000  4214.000000    4214.000000  4.214000e+03\n",
              "mean    261.789696     0.031440     0.021512  111786.773849  4.705644e+06\n",
              "std      59.783468     3.105404     1.284720   57742.902151  2.577656e+06\n",
              "min     123.270000   -16.650000   -10.330000   36693.000000  1.383859e+06\n",
              "25%     230.385000    -1.490000    -0.580000   73153.500000  3.086526e+06\n",
              "50%     256.205000     0.150000     0.060000   94626.000000  3.967430e+06\n",
              "75%     286.582500     1.680000     0.677500  131035.250000  5.480928e+06\n",
              "max     440.400000    19.410000    12.230000  622950.000000  3.737996e+07"
            ],
            "text/html": [
              "\n",
              "  <div id=\"df-ed3994c2-1f0b-44f0-ae17-7c620ade4a75\">\n",
              "    <div class=\"colab-df-container\">\n",
              "      <div>\n",
              "<style scoped>\n",
              "    .dataframe tbody tr th:only-of-type {\n",
              "        vertical-align: middle;\n",
              "    }\n",
              "\n",
              "    .dataframe tbody tr th {\n",
              "        vertical-align: top;\n",
              "    }\n",
              "\n",
              "    .dataframe thead th {\n",
              "        text-align: right;\n",
              "    }\n",
              "</style>\n",
              "<table border=\"1\" class=\"dataframe\">\n",
              "  <thead>\n",
              "    <tr style=\"text-align: right;\">\n",
              "      <th></th>\n",
              "      <th>체결가</th>\n",
              "      <th>전일비</th>\n",
              "      <th>등락률</th>\n",
              "      <th>거래량</th>\n",
              "      <th>거래대금</th>\n",
              "    </tr>\n",
              "  </thead>\n",
              "  <tbody>\n",
              "    <tr>\n",
              "      <th>count</th>\n",
              "      <td>4214.000000</td>\n",
              "      <td>4214.000000</td>\n",
              "      <td>4214.000000</td>\n",
              "      <td>4214.000000</td>\n",
              "      <td>4.214000e+03</td>\n",
              "    </tr>\n",
              "    <tr>\n",
              "      <th>mean</th>\n",
              "      <td>261.789696</td>\n",
              "      <td>0.031440</td>\n",
              "      <td>0.021512</td>\n",
              "      <td>111786.773849</td>\n",
              "      <td>4.705644e+06</td>\n",
              "    </tr>\n",
              "    <tr>\n",
              "      <th>std</th>\n",
              "      <td>59.783468</td>\n",
              "      <td>3.105404</td>\n",
              "      <td>1.284720</td>\n",
              "      <td>57742.902151</td>\n",
              "      <td>2.577656e+06</td>\n",
              "    </tr>\n",
              "    <tr>\n",
              "      <th>min</th>\n",
              "      <td>123.270000</td>\n",
              "      <td>-16.650000</td>\n",
              "      <td>-10.330000</td>\n",
              "      <td>36693.000000</td>\n",
              "      <td>1.383859e+06</td>\n",
              "    </tr>\n",
              "    <tr>\n",
              "      <th>25%</th>\n",
              "      <td>230.385000</td>\n",
              "      <td>-1.490000</td>\n",
              "      <td>-0.580000</td>\n",
              "      <td>73153.500000</td>\n",
              "      <td>3.086526e+06</td>\n",
              "    </tr>\n",
              "    <tr>\n",
              "      <th>50%</th>\n",
              "      <td>256.205000</td>\n",
              "      <td>0.150000</td>\n",
              "      <td>0.060000</td>\n",
              "      <td>94626.000000</td>\n",
              "      <td>3.967430e+06</td>\n",
              "    </tr>\n",
              "    <tr>\n",
              "      <th>75%</th>\n",
              "      <td>286.582500</td>\n",
              "      <td>1.680000</td>\n",
              "      <td>0.677500</td>\n",
              "      <td>131035.250000</td>\n",
              "      <td>5.480928e+06</td>\n",
              "    </tr>\n",
              "    <tr>\n",
              "      <th>max</th>\n",
              "      <td>440.400000</td>\n",
              "      <td>19.410000</td>\n",
              "      <td>12.230000</td>\n",
              "      <td>622950.000000</td>\n",
              "      <td>3.737996e+07</td>\n",
              "    </tr>\n",
              "  </tbody>\n",
              "</table>\n",
              "</div>\n",
              "      <button class=\"colab-df-convert\" onclick=\"convertToInteractive('df-ed3994c2-1f0b-44f0-ae17-7c620ade4a75')\"\n",
              "              title=\"Convert this dataframe to an interactive table.\"\n",
              "              style=\"display:none;\">\n",
              "        \n",
              "  <svg xmlns=\"http://www.w3.org/2000/svg\" height=\"24px\"viewBox=\"0 0 24 24\"\n",
              "       width=\"24px\">\n",
              "    <path d=\"M0 0h24v24H0V0z\" fill=\"none\"/>\n",
              "    <path d=\"M18.56 5.44l.94 2.06.94-2.06 2.06-.94-2.06-.94-.94-2.06-.94 2.06-2.06.94zm-11 1L8.5 8.5l.94-2.06 2.06-.94-2.06-.94L8.5 2.5l-.94 2.06-2.06.94zm10 10l.94 2.06.94-2.06 2.06-.94-2.06-.94-.94-2.06-.94 2.06-2.06.94z\"/><path d=\"M17.41 7.96l-1.37-1.37c-.4-.4-.92-.59-1.43-.59-.52 0-1.04.2-1.43.59L10.3 9.45l-7.72 7.72c-.78.78-.78 2.05 0 2.83L4 21.41c.39.39.9.59 1.41.59.51 0 1.02-.2 1.41-.59l7.78-7.78 2.81-2.81c.8-.78.8-2.07 0-2.86zM5.41 20L4 18.59l7.72-7.72 1.47 1.35L5.41 20z\"/>\n",
              "  </svg>\n",
              "      </button>\n",
              "      \n",
              "  <style>\n",
              "    .colab-df-container {\n",
              "      display:flex;\n",
              "      flex-wrap:wrap;\n",
              "      gap: 12px;\n",
              "    }\n",
              "\n",
              "    .colab-df-convert {\n",
              "      background-color: #E8F0FE;\n",
              "      border: none;\n",
              "      border-radius: 50%;\n",
              "      cursor: pointer;\n",
              "      display: none;\n",
              "      fill: #1967D2;\n",
              "      height: 32px;\n",
              "      padding: 0 0 0 0;\n",
              "      width: 32px;\n",
              "    }\n",
              "\n",
              "    .colab-df-convert:hover {\n",
              "      background-color: #E2EBFA;\n",
              "      box-shadow: 0px 1px 2px rgba(60, 64, 67, 0.3), 0px 1px 3px 1px rgba(60, 64, 67, 0.15);\n",
              "      fill: #174EA6;\n",
              "    }\n",
              "\n",
              "    [theme=dark] .colab-df-convert {\n",
              "      background-color: #3B4455;\n",
              "      fill: #D2E3FC;\n",
              "    }\n",
              "\n",
              "    [theme=dark] .colab-df-convert:hover {\n",
              "      background-color: #434B5C;\n",
              "      box-shadow: 0px 1px 3px 1px rgba(0, 0, 0, 0.15);\n",
              "      filter: drop-shadow(0px 1px 2px rgba(0, 0, 0, 0.3));\n",
              "      fill: #FFFFFF;\n",
              "    }\n",
              "  </style>\n",
              "\n",
              "      <script>\n",
              "        const buttonEl =\n",
              "          document.querySelector('#df-ed3994c2-1f0b-44f0-ae17-7c620ade4a75 button.colab-df-convert');\n",
              "        buttonEl.style.display =\n",
              "          google.colab.kernel.accessAllowed ? 'block' : 'none';\n",
              "\n",
              "        async function convertToInteractive(key) {\n",
              "          const element = document.querySelector('#df-ed3994c2-1f0b-44f0-ae17-7c620ade4a75');\n",
              "          const dataTable =\n",
              "            await google.colab.kernel.invokeFunction('convertToInteractive',\n",
              "                                                     [key], {});\n",
              "          if (!dataTable) return;\n",
              "\n",
              "          const docLinkHtml = 'Like what you see? Visit the ' +\n",
              "            '<a target=\"_blank\" href=https://colab.research.google.com/notebooks/data_table.ipynb>data table notebook</a>'\n",
              "            + ' to learn more about interactive tables.';\n",
              "          element.innerHTML = '';\n",
              "          dataTable['output_type'] = 'display_data';\n",
              "          await google.colab.output.renderOutput(dataTable, element);\n",
              "          const docLink = document.createElement('div');\n",
              "          docLink.innerHTML = docLinkHtml;\n",
              "          element.appendChild(docLink);\n",
              "        }\n",
              "      </script>\n",
              "    </div>\n",
              "  </div>\n",
              "  "
            ]
          },
          "metadata": {},
          "execution_count": 106
        }
      ],
      "source": [
        "ksp200.describe() # 기초 통계치 계산"
      ]
    },
    {
      "cell_type": "code",
      "execution_count": null,
      "metadata": {
        "colab": {
          "base_uri": "https://localhost:8080/",
          "height": 283
        },
        "id": "n5-RQntMpSBB",
        "outputId": "3fe22429-9e82-4e7f-a82e-0dc1eb54ab6b"
      },
      "outputs": [
        {
          "output_type": "execute_result",
          "data": {
            "text/plain": [
              "[<matplotlib.lines.Line2D at 0x7f544c5abeb0>]"
            ]
          },
          "metadata": {},
          "execution_count": 111
        },
        {
          "output_type": "display_data",
          "data": {
            "text/plain": [
              "<Figure size 432x288 with 1 Axes>"
            ],
            "image/png": "[encoded data removed]"
          },
          "metadata": {
            "needs_background": "light"
          }
        }
      ],
      "source": [
        "from matplotlib import pyplot as plt\n",
        "\n",
        "plt.plot(ksp200['날짜'], ksp200['체결가'])"
      ]
    },
    {
      "cell_type": "code",
      "execution_count": null,
      "metadata": {
        "id": "jfFKaYKjprDy",
        "colab": {
          "base_uri": "https://localhost:8080/",
          "height": 283
        },
        "outputId": "8620873a-a849-400c-8b07-613fede27a4e"
      },
      "outputs": [
        {
          "output_type": "execute_result",
          "data": {
            "text/plain": [
              "<BarContainer object of 4214 artists>"
            ]
          },
          "metadata": {},
          "execution_count": 114
        },
        {
          "output_type": "display_data",
          "data": {
            "text/plain": [
              "<Figure size 432x288 with 1 Axes>"
            ],
            "image/png": "[encoded data removed]"
          },
          "metadata": {
            "needs_background": "light"
          }
        }
      ],
      "source": [
        "plt.bar(ksp200['날짜'], ksp200['거래량'])"
      ]
    }
  ],
  "metadata": {
    "colab": {
      "provenance": [],
      "include_colab_link": true
    },
    "kernelspec": {
      "display_name": "Python 3",
      "name": "python3"
    },
    "language_info": {
      "name": "python"
    },
    "widgets": {
      "application/vnd.jupyter.widget-state+json": {
        "b501c433e66f4ae6880aac9faa828081": {
          "model_module": "@jupyter-widgets/controls",
          "model_name": "HBoxModel",
          "model_module_version": "1.5.0",
          "state": {
            "_dom_classes": [],
            "_model_module": "@jupyter-widgets/controls",
            "_model_module_version": "1.5.0",
            "_model_name": "HBoxModel",
            "_view_count": null,
            "_view_module": "@jupyter-widgets/controls",
            "_view_module_version": "1.5.0",
            "_view_name": "HBoxView",
            "box_style": "",
            "children": [
              "IPY_MODEL_67a35e9aaf3a4afb8d60bc3e67121499",
              "IPY_MODEL_6a4d379996464c54abf89b286126345d",
              "IPY_MODEL_3f17dcd13b534237ac5d0b0ef206674a"
            ],
            "layout": "IPY_MODEL_f062a920c6e149418efc62c0b24431a0"
          }
        },
        "67a35e9aaf3a4afb8d60bc3e67121499": {
          "model_module": "@jupyter-widgets/controls",
          "model_name": "HTMLModel",
          "model_module_version": "1.5.0",
          "state": {
            "_dom_classes": [],
            "_model_module": "@jupyter-widgets/controls",
            "_model_module_version": "1.5.0",
            "_model_name": "HTMLModel",
            "_view_count": null,
            "_view_module": "@jupyter-widgets/controls",
            "_view_module_version": "1.5.0",
            "_view_name": "HTMLView",
            "description": "",
            "description_tooltip": null,
            "layout": "IPY_MODEL_b5206550c63b40a7a32e74bf9f3e17b4",
            "placeholder": "​",
            "style": "IPY_MODEL_15fffb9aa3f14ced897901df913ae49a",
            "value": "코스피200 일별시세: 100%"
          }
        },
        "6a4d379996464c54abf89b286126345d": {
          "model_module": "@jupyter-widgets/controls",
          "model_name": "FloatProgressModel",
          "model_module_version": "1.5.0",
          "state": {
            "_dom_classes": [],
            "_model_module": "@jupyter-widgets/controls",
            "_model_module_version": "1.5.0",
            "_model_name": "FloatProgressModel",
            "_view_count": null,
            "_view_module": "@jupyter-widgets/controls",
            "_view_module_version": "1.5.0",
            "_view_name": "ProgressView",
            "bar_style": "success",
            "description": "",
            "description_tooltip": null,
            "layout": "IPY_MODEL_6fd5dfae146147749b2fa884519ba46e",
            "max": 703,
            "min": 0,
            "orientation": "horizontal",
            "style": "IPY_MODEL_d620997e68974258b52e140775135090",
            "value": 703
          }
        },
        "3f17dcd13b534237ac5d0b0ef206674a": {
          "model_module": "@jupyter-widgets/controls",
          "model_name": "HTMLModel",
          "model_module_version": "1.5.0",
          "state": {
            "_dom_classes": [],
            "_model_module": "@jupyter-widgets/controls",
            "_model_module_version": "1.5.0",
            "_model_name": "HTMLModel",
            "_view_count": null,
            "_view_module": "@jupyter-widgets/controls",
            "_view_module_version": "1.5.0",
            "_view_name": "HTMLView",
            "description": "",
            "description_tooltip": null,
            "layout": "IPY_MODEL_94871ccb8a3b460bb081d76c2cd6588b",
            "placeholder": "​",
            "style": "IPY_MODEL_094263071ee048c8aa60d454d882c3df",
            "value": " 703/703 [06:29&lt;00:00,  1.82it/s]"
          }
        },
        "f062a920c6e149418efc62c0b24431a0": {
          "model_module": "@jupyter-widgets/base",
          "model_name": "LayoutModel",
          "model_module_version": "1.2.0",
          "state": {
            "_model_module": "@jupyter-widgets/base",
            "_model_module_version": "1.2.0",
            "_model_name": "LayoutModel",
            "_view_count": null,
            "_view_module": "@jupyter-widgets/base",
            "_view_module_version": "1.2.0",
            "_view_name": "LayoutView",
            "align_content": null,
            "align_items": null,
            "align_self": null,
            "border": null,
            "bottom": null,
            "display": null,
            "flex": null,
            "flex_flow": null,
            "grid_area": null,
            "grid_auto_columns": null,
            "grid_auto_flow": null,
            "grid_auto_rows": null,
            "grid_column": null,
            "grid_gap": null,
            "grid_row": null,
            "grid_template_areas": null,
            "grid_template_columns": null,
            "grid_template_rows": null,
            "height": null,
            "justify_content": null,
            "justify_items": null,
            "left": null,
            "margin": null,
            "max_height": null,
            "max_width": null,
            "min_height": null,
            "min_width": null,
            "object_fit": null,
            "object_position": null,
            "order": null,
            "overflow": null,
            "overflow_x": null,
            "overflow_y": null,
            "padding": null,
            "right": null,
            "top": null,
            "visibility": null,
            "width": null
          }
        },
        "b5206550c63b40a7a32e74bf9f3e17b4": {
          "model_module": "@jupyter-widgets/base",
          "model_name": "LayoutModel",
          "model_module_version": "1.2.0",
          "state": {
            "_model_module": "@jupyter-widgets/base",
            "_model_module_version": "1.2.0",
            "_model_name": "LayoutModel",
            "_view_count": null,
            "_view_module": "@jupyter-widgets/base",
            "_view_module_version": "1.2.0",
            "_view_name": "LayoutView",
            "align_content": null,
            "align_items": null,
            "align_self": null,
            "border": null,
            "bottom": null,
            "display": null,
            "flex": null,
            "flex_flow": null,
            "grid_area": null,
            "grid_auto_columns": null,
            "grid_auto_flow": null,
            "grid_auto_rows": null,
            "grid_column": null,
            "grid_gap": null,
            "grid_row": null,
            "grid_template_areas": null,
            "grid_template_columns": null,
            "grid_template_rows": null,
            "height": null,
            "justify_content": null,
            "justify_items": null,
            "left": null,
            "margin": null,
            "max_height": null,
            "max_width": null,
            "min_height": null,
            "min_width": null,
            "object_fit": null,
            "object_position": null,
            "order": null,
            "overflow": null,
            "overflow_x": null,
            "overflow_y": null,
            "padding": null,
            "right": null,
            "top": null,
            "visibility": null,
            "width": null
          }
        },
        "15fffb9aa3f14ced897901df913ae49a": {
          "model_module": "@jupyter-widgets/controls",
          "model_name": "DescriptionStyleModel",
          "model_module_version": "1.5.0",
          "state": {
            "_model_module": "@jupyter-widgets/controls",
            "_model_module_version": "1.5.0",
            "_model_name": "DescriptionStyleModel",
            "_view_count": null,
            "_view_module": "@jupyter-widgets/base",
            "_view_module_version": "1.2.0",
            "_view_name": "StyleView",
            "description_width": ""
          }
        },
        "6fd5dfae146147749b2fa884519ba46e": {
          "model_module": "@jupyter-widgets/base",
          "model_name": "LayoutModel",
          "model_module_version": "1.2.0",
          "state": {
            "_model_module": "@jupyter-widgets/base",
            "_model_module_version": "1.2.0",
            "_model_name": "LayoutModel",
            "_view_count": null,
            "_view_module": "@jupyter-widgets/base",
            "_view_module_version": "1.2.0",
            "_view_name": "LayoutView",
            "align_content": null,
            "align_items": null,
            "align_self": null,
            "border": null,
            "bottom": null,
            "display": null,
            "flex": null,
            "flex_flow": null,
            "grid_area": null,
            "grid_auto_columns": null,
            "grid_auto_flow": null,
            "grid_auto_rows": null,
            "grid_column": null,
            "grid_gap": null,
            "grid_row": null,
            "grid_template_areas": null,
            "grid_template_columns": null,
            "grid_template_rows": null,
            "height": null,
            "justify_content": null,
            "justify_items": null,
            "left": null,
            "margin": null,
            "max_height": null,
            "max_width": null,
            "min_height": null,
            "min_width": null,
            "object_fit": null,
            "object_position": null,
            "order": null,
            "overflow": null,
            "overflow_x": null,
            "overflow_y": null,
            "padding": null,
            "right": null,
            "top": null,
            "visibility": null,
            "width": null
          }
        },
        "d620997e68974258b52e140775135090": {
          "model_module": "@jupyter-widgets/controls",
          "model_name": "ProgressStyleModel",
          "model_module_version": "1.5.0",
          "state": {
            "_model_module": "@jupyter-widgets/controls",
            "_model_module_version": "1.5.0",
            "_model_name": "ProgressStyleModel",
            "_view_count": null,
            "_view_module": "@jupyter-widgets/base",
            "_view_module_version": "1.2.0",
            "_view_name": "StyleView",
            "bar_color": null,
            "description_width": ""
          }
        },
        "94871ccb8a3b460bb081d76c2cd6588b": {
          "model_module": "@jupyter-widgets/base",
          "model_name": "LayoutModel",
          "model_module_version": "1.2.0",
          "state": {
            "_model_module": "@jupyter-widgets/base",
            "_model_module_version": "1.2.0",
            "_model_name": "LayoutModel",
            "_view_count": null,
            "_view_module": "@jupyter-widgets/base",
            "_view_module_version": "1.2.0",
            "_view_name": "LayoutView",
            "align_content": null,
            "align_items": null,
            "align_self": null,
            "border": null,
            "bottom": null,
            "display": null,
            "flex": null,
            "flex_flow": null,
            "grid_area": null,
            "grid_auto_columns": null,
            "grid_auto_flow": null,
            "grid_auto_rows": null,
            "grid_column": null,
            "grid_gap": null,
            "grid_row": null,
            "grid_template_areas": null,
            "grid_template_columns": null,
            "grid_template_rows": null,
            "height": null,
            "justify_content": null,
            "justify_items": null,
            "left": null,
            "margin": null,
            "max_height": null,
            "max_width": null,
            "min_height": null,
            "min_width": null,
            "object_fit": null,
            "object_position": null,
            "order": null,
            "overflow": null,
            "overflow_x": null,
            "overflow_y": null,
            "padding": null,
            "right": null,
            "top": null,
            "visibility": null,
            "width": null
          }
        },
        "094263071ee048c8aa60d454d882c3df": {
          "model_module": "@jupyter-widgets/controls",
          "model_name": "DescriptionStyleModel",
          "model_module_version": "1.5.0",
          "state": {
            "_model_module": "@jupyter-widgets/controls",
            "_model_module_version": "1.5.0",
            "_model_name": "DescriptionStyleModel",
            "_view_count": null,
            "_view_module": "@jupyter-widgets/base",
            "_view_module_version": "1.2.0",
            "_view_name": "StyleView",
            "description_width": ""
          }
        }
      }
    }
  },
  "nbformat": 4,
  "nbformat_minor": 0
}
