{
  "nbformat": 4,
  "nbformat_minor": 0,
  "metadata": {
    "colab": {
      "provenance": [],
      "include_colab_link": true
    },
    "kernelspec": {
      "name": "python3",
      "display_name": "Python 3"
    },
    "language_info": {
      "name": "python"
    }
  },
  "cells": [
    {
      "cell_type": "markdown",
      "metadata": {
        "id": "view-in-github",
        "colab_type": "text"
      },
      "source": [
        "<a href=\"https://colab.research.google.com/github/guscldns/TestProject/blob/main/0728/09_1_(practice)FCN_implementation.ipynb\" target=\"_parent\"><img src=\"https://colab.research.google.com/assets/colab-badge.svg\" alt=\"Open In Colab\"/></a>"
      ]
    },
    {
      "cell_type": "markdown",
      "source": [
        "# FCN_implementation"
      ],
      "metadata": {
        "id": "fNCFl6s02QHC"
      }
    },
    {
      "cell_type": "markdown",
      "source": [
        "## 주요 함수\n",
        "- x32, x16, x8 : tensorflow.keras.layers.Conv2DTranspose\n",
        "    - Conv2DTranspose(filters, size, strides, padding='same')\n",
        "- x2 : tensorflow.keras.layers.Upsampling2D\n",
        "    - UpSampling2D(size, interpolation='bilinear')"
      ],
      "metadata": {
        "id": "f2PleeNu2QRd"
      }
    },
    {
      "cell_type": "code",
      "source": [
        "import tensorflow as tf\n",
        "from tensorflow import keras\n",
        "from tensorflow.keras import layers"
      ],
      "metadata": {
        "id": "2NQ_M6Hj2mbB"
      },
      "execution_count": 2,
      "outputs": []
    },
    {
      "cell_type": "code",
      "source": [
        "def conv_block(x, filters, kernel_size):\n",
        "    x = tf.keras.layers.Conv2D(filters , kernel_size,  padding = 'same', activation='relu')(x)\n",
        "    return x"
      ],
      "metadata": {
        "id": "dUYZ9o8k2ewU"
      },
      "execution_count": 35,
      "outputs": []
    },
    {
      "cell_type": "code",
      "source": [
        "def FCN(input_shape):\n",
        "    inputs = tf.keras.Input(shape=input_shape)\n",
        "\n",
        "    # VGG backborn\n",
        "    x = conv_block(inputs, 64, 3)\n",
        "    x = conv_block(x, 64, 3)\n",
        "    x = tf.keras.layers.MaxPooling2D(pool_size = 2, strides = 2)(x)\n",
        "\n",
        "    x = conv_block(x, 128, 3)\n",
        "    x = conv_block(x, 128, 3)\n",
        "    x = tf.keras.layers.MaxPooling2D(pool_size = 2, strides = 2)(x)\n",
        "\n",
        "    x = conv_block(x, 256, 3)\n",
        "    x = conv_block(x, 256, 3)\n",
        "    x = conv_block(x, 256, 3)\n",
        "    x = tf.keras.layers.MaxPooling2D(pool_size = 2, strides = 2)(x)\n",
        "\n",
        "    add1 = x\n",
        "\n",
        "    x = conv_block(x, 512, 3)\n",
        "    x = conv_block(x, 512, 3)\n",
        "    x = conv_block(x, 512, 3)\n",
        "    x = tf.keras.layers.MaxPooling2D(pool_size = 2, strides = 2)(x)\n",
        "\n",
        "    add2 = x\n",
        "\n",
        "    x = conv_block(x, 512, 3)\n",
        "    x = conv_block(x, 512, 3)\n",
        "    x = conv_block(x, 512, 3)\n",
        "    x = tf.keras.layers.MaxPooling2D(pool_size = 2, strides = 2)(x)\n",
        "\n",
        "    x = conv_block(x, 4096, 1)\n",
        "    x = conv_block(x, 4096, 1)\n",
        "\n",
        "    x = conv_block(x, 6, 1)\n",
        "    a1 = tf.keras.layers.UpSampling2D(32)(x)\n",
        "\n",
        "    x = tf.keras.layers.Conv2DTranspose(512, kernel_size= 4,  strides = 2, padding = 'same', activation = 'relu')(x)\n",
        "    x = tf.keras.layers.Add()([add2, x])\n",
        "\n",
        "    a2 = tf.keras.layers.UpSampling2D(16)(x)\n",
        "\n",
        "    x = tf.keras.layers.Conv2DTranspose(256,kernel_size = 4, strides = 2, padding = 'same', activation = 'relu')(x)\n",
        "    x = tf.keras.layers.Add()([add1, x])\n",
        "\n",
        "    a3 = tf.keras.layers.UpSampling2D(8)(x)\n",
        "    x = tf.keras.layers.Conv2DTranspose(256,kernel_size = 4, strides = 2, padding = 'same', activation = 'softmax')(a3)\n",
        "\n",
        "    model = tf.keras.Model(inputs = inputs, outputs = [x, a1, a2, a3])\n",
        "    return model"
      ],
      "metadata": {
        "id": "fRSRIIxW2ThO"
      },
      "execution_count": 129,
      "outputs": []
    },
    {
      "cell_type": "code",
      "source": [
        "model = FCN(input_shape = [224,224,3])\n",
        "model.summary()"
      ],
      "metadata": {
        "colab": {
          "base_uri": "https://localhost:8080/"
        },
        "id": "vlz4_Iqk4JMg",
        "outputId": "ba8a88f8-8eef-4ffd-8290-37eb4b09c79c"
      },
      "execution_count": 130,
      "outputs": [
        {
          "output_type": "stream",
          "name": "stdout",
          "text": [
            "Model: \"model_14\"\n",
            "__________________________________________________________________________________________________\n",
            " Layer (type)                   Output Shape         Param #     Connected to                     \n",
            "==================================================================================================\n",
            " input_53 (InputLayer)          [(None, 224, 224, 3  0           []                               \n",
            "                                )]                                                                \n",
            "                                                                                                  \n",
            " conv2d_689 (Conv2D)            (None, 224, 224, 64  1792        ['input_53[0][0]']               \n",
            "                                )                                                                 \n",
            "                                                                                                  \n",
            " conv2d_690 (Conv2D)            (None, 224, 224, 64  36928       ['conv2d_689[0][0]']             \n",
            "                                )                                                                 \n",
            "                                                                                                  \n",
            " max_pooling2d_206 (MaxPooling2  (None, 112, 112, 64  0          ['conv2d_690[0][0]']             \n",
            " D)                             )                                                                 \n",
            "                                                                                                  \n",
            " conv2d_691 (Conv2D)            (None, 112, 112, 12  73856       ['max_pooling2d_206[0][0]']      \n",
            "                                8)                                                                \n",
            "                                                                                                  \n",
            " conv2d_692 (Conv2D)            (None, 112, 112, 12  147584      ['conv2d_691[0][0]']             \n",
            "                                8)                                                                \n",
            "                                                                                                  \n",
            " max_pooling2d_207 (MaxPooling2  (None, 56, 56, 128)  0          ['conv2d_692[0][0]']             \n",
            " D)                                                                                               \n",
            "                                                                                                  \n",
            " conv2d_693 (Conv2D)            (None, 56, 56, 256)  295168      ['max_pooling2d_207[0][0]']      \n",
            "                                                                                                  \n",
            " conv2d_694 (Conv2D)            (None, 56, 56, 256)  590080      ['conv2d_693[0][0]']             \n",
            "                                                                                                  \n",
            " conv2d_695 (Conv2D)            (None, 56, 56, 256)  590080      ['conv2d_694[0][0]']             \n",
            "                                                                                                  \n",
            " max_pooling2d_208 (MaxPooling2  (None, 28, 28, 256)  0          ['conv2d_695[0][0]']             \n",
            " D)                                                                                               \n",
            "                                                                                                  \n",
            " conv2d_696 (Conv2D)            (None, 28, 28, 512)  1180160     ['max_pooling2d_208[0][0]']      \n",
            "                                                                                                  \n",
            " conv2d_697 (Conv2D)            (None, 28, 28, 512)  2359808     ['conv2d_696[0][0]']             \n",
            "                                                                                                  \n",
            " conv2d_698 (Conv2D)            (None, 28, 28, 512)  2359808     ['conv2d_697[0][0]']             \n",
            "                                                                                                  \n",
            " max_pooling2d_209 (MaxPooling2  (None, 14, 14, 512)  0          ['conv2d_698[0][0]']             \n",
            " D)                                                                                               \n",
            "                                                                                                  \n",
            " conv2d_699 (Conv2D)            (None, 14, 14, 512)  2359808     ['max_pooling2d_209[0][0]']      \n",
            "                                                                                                  \n",
            " conv2d_700 (Conv2D)            (None, 14, 14, 512)  2359808     ['conv2d_699[0][0]']             \n",
            "                                                                                                  \n",
            " conv2d_701 (Conv2D)            (None, 14, 14, 512)  2359808     ['conv2d_700[0][0]']             \n",
            "                                                                                                  \n",
            " max_pooling2d_210 (MaxPooling2  (None, 7, 7, 512)   0           ['conv2d_701[0][0]']             \n",
            " D)                                                                                               \n",
            "                                                                                                  \n",
            " conv2d_702 (Conv2D)            (None, 7, 7, 4096)   2101248     ['max_pooling2d_210[0][0]']      \n",
            "                                                                                                  \n",
            " conv2d_703 (Conv2D)            (None, 7, 7, 4096)   16781312    ['conv2d_702[0][0]']             \n",
            "                                                                                                  \n",
            " conv2d_704 (Conv2D)            (None, 7, 7, 6)      24582       ['conv2d_703[0][0]']             \n",
            "                                                                                                  \n",
            " conv2d_transpose_49 (Conv2DTra  (None, 14, 14, 512)  49664      ['conv2d_704[0][0]']             \n",
            " nspose)                                                                                          \n",
            "                                                                                                  \n",
            " add_38 (Add)                   (None, 14, 14, 512)  0           ['max_pooling2d_209[0][0]',      \n",
            "                                                                  'conv2d_transpose_49[0][0]']    \n",
            "                                                                                                  \n",
            " conv2d_transpose_50 (Conv2DTra  (None, 28, 28, 256)  2097408    ['add_38[0][0]']                 \n",
            " nspose)                                                                                          \n",
            "                                                                                                  \n",
            " add_39 (Add)                   (None, 28, 28, 256)  0           ['max_pooling2d_208[0][0]',      \n",
            "                                                                  'conv2d_transpose_50[0][0]']    \n",
            "                                                                                                  \n",
            " up_sampling2d_17 (UpSampling2D  (None, 224, 224, 25  0          ['add_39[0][0]']                 \n",
            " )                              6)                                                                \n",
            "                                                                                                  \n",
            " conv2d_transpose_51 (Conv2DTra  (None, 448, 448, 25  1048832    ['up_sampling2d_17[0][0]']       \n",
            " nspose)                        6)                                                                \n",
            "                                                                                                  \n",
            " up_sampling2d_15 (UpSampling2D  (None, 224, 224, 6)  0          ['conv2d_704[0][0]']             \n",
            " )                                                                                                \n",
            "                                                                                                  \n",
            " up_sampling2d_16 (UpSampling2D  (None, 224, 224, 51  0          ['add_38[0][0]']                 \n",
            " )                              2)                                                                \n",
            "                                                                                                  \n",
            "==================================================================================================\n",
            "Total params: 36,817,734\n",
            "Trainable params: 36,817,734\n",
            "Non-trainable params: 0\n",
            "__________________________________________________________________________________________________\n"
          ]
        }
      ]
    }
  ]
}
