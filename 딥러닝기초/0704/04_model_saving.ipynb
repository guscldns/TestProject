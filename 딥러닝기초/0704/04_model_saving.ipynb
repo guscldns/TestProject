{
  "nbformat": 4,
  "nbformat_minor": 0,
  "metadata": {
    "colab": {
      "provenance": [],
      "collapsed_sections": [
        "P8T3vJ_HBfNG"
      ],
      "include_colab_link": true
    },
    "kernelspec": {
      "name": "python3",
      "display_name": "Python 3"
    },
    "language_info": {
      "name": "python"
    }
  },
  "cells": [
    {
      "cell_type": "markdown",
      "metadata": {
        "id": "view-in-github",
        "colab_type": "text"
      },
      "source": [
        "<a href=\"https://colab.research.google.com/github/guscldns/TestProject/blob/main/0704/04_model_saving.ipynb\" target=\"_parent\"><img src=\"https://colab.research.google.com/assets/colab-badge.svg\" alt=\"Open In Colab\"/></a>"
      ]
    },
    {
      "cell_type": "markdown",
      "source": [
        "# 모델 저장하기"
      ],
      "metadata": {
        "id": "poqX7ELMsvuL"
      }
    },
    {
      "cell_type": "markdown",
      "source": [
        "- 무엇을 저장해야 할까?\n",
        "    - 모델의 구조\n",
        "    - 모델의 weights"
      ],
      "metadata": {
        "id": "_1K_HYgHNjLo"
      }
    },
    {
      "cell_type": "markdown",
      "source": [
        "## 훈련하는 동안 체크포인트 저장하기"
      ],
      "metadata": {
        "id": "SAVf1h3Ysx8y"
      }
    },
    {
      "cell_type": "code",
      "execution_count": null,
      "metadata": {
        "id": "-gm_f3tTsci_"
      },
      "outputs": [],
      "source": [
        "import os\n",
        "\n",
        "import tensorflow as tf\n",
        "from tensorflow import keras"
      ]
    },
    {
      "cell_type": "code",
      "source": [
        "(train_images, train_labels), (test_images, test_labels) = tf.keras.datasets.mnist.load_data()\n",
        "\n",
        "train_labels = train_labels[:1000]\n",
        "test_labels = test_labels[:1000]\n",
        "\n",
        "train_images = train_images[:1000].reshape(-1, 28 * 28) / 255.0\n",
        "test_images = test_images[:1000].reshape(-1, 28 * 28) / 255.0"
      ],
      "metadata": {
        "id": "fSFi-SfnsezY",
        "colab": {
          "base_uri": "https://localhost:8080/"
        },
        "outputId": "fe065f01-d4ee-456d-91e2-e977eab80e6c"
      },
      "execution_count": null,
      "outputs": [
        {
          "output_type": "stream",
          "name": "stdout",
          "text": [
            "Downloading data from https://storage.googleapis.com/tensorflow/tf-keras-datasets/mnist.npz\n",
            "11490434/11490434 [==============================] - 0s 0us/step\n"
          ]
        }
      ]
    },
    {
      "cell_type": "code",
      "source": [
        "# 단순한 모델 정의\n",
        "def create_model():\n",
        "    model = tf.keras.models.Sequential([\n",
        "    keras.layers.Dense(512, activation='relu', input_shape=(784,)),\n",
        "    keras.layers.Dropout(0.2),\n",
        "    keras.layers.Dense(10)\n",
        "    ])\n",
        "\n",
        "    model.compile(optimizer='adam',\n",
        "                loss=tf.losses.SparseCategoricalCrossentropy(from_logits=True),\n",
        "                metrics=['accuracy'])\n",
        "\n",
        "    return model"
      ],
      "metadata": {
        "id": "nmrRrtaRsmFA"
      },
      "execution_count": null,
      "outputs": []
    },
    {
      "cell_type": "code",
      "source": [
        "model = create_model()\n",
        "\n",
        "model.summary()"
      ],
      "metadata": {
        "colab": {
          "base_uri": "https://localhost:8080/"
        },
        "id": "ewCb-Ya2siDb",
        "outputId": "3a1df3dc-33bd-4496-987b-c900ab9f61a7"
      },
      "execution_count": null,
      "outputs": [
        {
          "output_type": "stream",
          "name": "stdout",
          "text": [
            "Model: \"sequential\"\n",
            "_________________________________________________________________\n",
            " Layer (type)                Output Shape              Param #   \n",
            "=================================================================\n",
            " dense (Dense)               (None, 512)               401920    \n",
            "                                                                 \n",
            " dropout (Dropout)           (None, 512)               0         \n",
            "                                                                 \n",
            " dense_1 (Dense)             (None, 10)                5130      \n",
            "                                                                 \n",
            "=================================================================\n",
            "Total params: 407,050\n",
            "Trainable params: 407,050\n",
            "Non-trainable params: 0\n",
            "_________________________________________________________________\n"
          ]
        }
      ]
    },
    {
      "cell_type": "markdown",
      "source": [
        "#### 체크포인트 콜백 사용하기"
      ],
      "metadata": {
        "id": "_rvzkr_rsj81"
      }
    },
    {
      "cell_type": "code",
      "source": [
        "# 체크포인트 파일 경로 설정\n",
        "checkpoint_path = \"training_1/cp.ckpt\"\n",
        "checkpoint_dir = os.path.dirname(checkpoint_path) # 현재 경로 폴더 반환\n",
        "checkpoint_dir"
      ],
      "metadata": {
        "colab": {
          "base_uri": "https://localhost:8080/",
          "height": 35
        },
        "id": "AFDIYiVfwRpk",
        "outputId": "fcdb2233-b799-47e6-d46d-b8cea08cc7e7"
      },
      "execution_count": null,
      "outputs": [
        {
          "output_type": "execute_result",
          "data": {
            "text/plain": [
              "'training_1'"
            ],
            "application/vnd.google.colaboratory.intrinsic+json": {
              "type": "string"
            }
          },
          "metadata": {},
          "execution_count": 7
        }
      ]
    },
    {
      "cell_type": "code",
      "source": [
        "# 모델의 가중치를 저장하는 체크포인트 콜백 선언\n",
        "cp_callback = tf.keras.callbacks.ModelCheckpoint(filepath=checkpoint_path,\n",
        "                                                 save_weights_only=True,\n",
        "                                                 verbose=1)\n",
        "\n",
        "model.fit(train_images,\n",
        "          train_labels,\n",
        "          epochs=10,\n",
        "          validation_data=(test_images,test_labels),\n",
        "          callbacks=[cp_callback])  # 콜백 전달"
      ],
      "metadata": {
        "colab": {
          "base_uri": "https://localhost:8080/"
        },
        "id": "NZ91YKxOs3eh",
        "outputId": "d8c0ae40-aedc-4182-d659-cf84924dbece"
      },
      "execution_count": null,
      "outputs": [
        {
          "output_type": "stream",
          "name": "stdout",
          "text": [
            "Epoch 1/10\n",
            "31/32 [============================>.] - ETA: 0s - loss: 1.1984 - accuracy: 0.6573\n",
            "Epoch 1: saving model to training_1/cp.ckpt\n",
            "32/32 [==============================] - 6s 118ms/step - loss: 1.1931 - accuracy: 0.6590 - val_loss: 0.7224 - val_accuracy: 0.7720\n",
            "Epoch 2/10\n",
            "30/32 [===========================>..] - ETA: 0s - loss: 0.4324 - accuracy: 0.8677\n",
            "Epoch 2: saving model to training_1/cp.ckpt\n",
            "32/32 [==============================] - 1s 22ms/step - loss: 0.4266 - accuracy: 0.8720 - val_loss: 0.5325 - val_accuracy: 0.8270\n",
            "Epoch 3/10\n",
            "32/32 [==============================] - ETA: 0s - loss: 0.2828 - accuracy: 0.9300\n",
            "Epoch 3: saving model to training_1/cp.ckpt\n",
            "32/32 [==============================] - 0s 13ms/step - loss: 0.2828 - accuracy: 0.9300 - val_loss: 0.4906 - val_accuracy: 0.8450\n",
            "Epoch 4/10\n",
            "31/32 [============================>.] - ETA: 0s - loss: 0.2074 - accuracy: 0.9516\n",
            "Epoch 4: saving model to training_1/cp.ckpt\n",
            "32/32 [==============================] - 0s 13ms/step - loss: 0.2060 - accuracy: 0.9520 - val_loss: 0.4306 - val_accuracy: 0.8630\n",
            "Epoch 5/10\n",
            "25/32 [======================>.......] - ETA: 0s - loss: 0.1465 - accuracy: 0.9712\n",
            "Epoch 5: saving model to training_1/cp.ckpt\n",
            "32/32 [==============================] - 0s 13ms/step - loss: 0.1533 - accuracy: 0.9680 - val_loss: 0.4109 - val_accuracy: 0.8580\n",
            "Epoch 6/10\n",
            "26/32 [=======================>......] - ETA: 0s - loss: 0.1149 - accuracy: 0.9808\n",
            "Epoch 6: saving model to training_1/cp.ckpt\n",
            "32/32 [==============================] - 0s 12ms/step - loss: 0.1187 - accuracy: 0.9800 - val_loss: 0.4074 - val_accuracy: 0.8710\n",
            "Epoch 7/10\n",
            "29/32 [==========================>...] - ETA: 0s - loss: 0.0953 - accuracy: 0.9871\n",
            "Epoch 7: saving model to training_1/cp.ckpt\n",
            "32/32 [==============================] - 0s 11ms/step - loss: 0.0947 - accuracy: 0.9860 - val_loss: 0.4347 - val_accuracy: 0.8570\n",
            "Epoch 8/10\n",
            "32/32 [==============================] - ETA: 0s - loss: 0.0671 - accuracy: 0.9930\n",
            "Epoch 8: saving model to training_1/cp.ckpt\n",
            "32/32 [==============================] - 0s 14ms/step - loss: 0.0671 - accuracy: 0.9930 - val_loss: 0.4090 - val_accuracy: 0.8550\n",
            "Epoch 9/10\n",
            "24/32 [=====================>........] - ETA: 0s - loss: 0.0475 - accuracy: 0.9974\n",
            "Epoch 9: saving model to training_1/cp.ckpt\n",
            "32/32 [==============================] - 0s 13ms/step - loss: 0.0519 - accuracy: 0.9930 - val_loss: 0.4066 - val_accuracy: 0.8720\n",
            "Epoch 10/10\n",
            "32/32 [==============================] - ETA: 0s - loss: 0.0432 - accuracy: 0.9960\n",
            "Epoch 10: saving model to training_1/cp.ckpt\n",
            "32/32 [==============================] - 0s 11ms/step - loss: 0.0432 - accuracy: 0.9960 - val_loss: 0.3947 - val_accuracy: 0.8690\n"
          ]
        },
        {
          "output_type": "execute_result",
          "data": {
            "text/plain": [
              "<keras.callbacks.History at 0x7f49453779a0>"
            ]
          },
          "metadata": {},
          "execution_count": 6
        }
      ]
    },
    {
      "cell_type": "code",
      "source": [
        "os.listdir(checkpoint_dir)"
      ],
      "metadata": {
        "colab": {
          "base_uri": "https://localhost:8080/"
        },
        "id": "wIKXk4nCs59H",
        "outputId": "15c27e0d-0bc0-46b1-f59b-5841c8a58a47"
      },
      "execution_count": null,
      "outputs": [
        {
          "output_type": "execute_result",
          "data": {
            "text/plain": [
              "['cp.ckpt.data-00000-of-00001', 'checkpoint', 'cp.ckpt.index']"
            ]
          },
          "metadata": {},
          "execution_count": 8
        }
      ]
    },
    {
      "cell_type": "markdown",
      "source": [
        " 텐서플로 체크포인트 파일을 만들고 에포크가 종료될 때마다 업데이트합니다  \n",
        " - 아키텍처가 동일한 모델 간에는 가중치를 공유 가능\n",
        "\n",
        " - 그렇다면, 원래 모델과 동일한 아키텍처를 가진 모델을 만든 다음 체크포인트 부여해보자."
      ],
      "metadata": {
        "id": "2FTwGHqftFy3"
      }
    },
    {
      "cell_type": "code",
      "source": [
        "# 동일한 아키텍처를 가진 모델 선언\n",
        "model = create_model()\n",
        "\n",
        "# 체크포인트 주지말고, 한번 평가해보자.\n",
        "loss, acc = model.evaluate(test_images,  test_labels, verbose=2)\n",
        "print(\"훈련되지 않은 모델의 정확도: {:5.2f}%\".format(100*acc))"
      ],
      "metadata": {
        "colab": {
          "base_uri": "https://localhost:8080/"
        },
        "id": "-o4Qycc8tlF3",
        "outputId": "852e17fe-807d-469a-ba09-dbcaed5be261"
      },
      "execution_count": null,
      "outputs": [
        {
          "output_type": "stream",
          "name": "stdout",
          "text": [
            "32/32 - 0s - loss: 2.3156 - accuracy: 0.1350 - 275ms/epoch - 9ms/step\n",
            "훈련되지 않은 모델의 정확도: 13.50%\n"
          ]
        }
      ]
    },
    {
      "cell_type": "markdown",
      "source": [
        "허접하다."
      ],
      "metadata": {
        "id": "omKpiWVst2wq"
      }
    },
    {
      "cell_type": "code",
      "source": [
        "# 체크포인트에서 가중치를 로드하고 평가해보자.\n",
        "model.load_weights(checkpoint_path)\n",
        "\n",
        "loss,acc = model.evaluate(test_images,  test_labels, verbose=2)\n",
        "print(\"복원된 모델의 정확도: {:5.2f}%\".format(100*acc))"
      ],
      "metadata": {
        "colab": {
          "base_uri": "https://localhost:8080/"
        },
        "id": "QQXAD3NLtms8",
        "outputId": "e86b93d8-ac48-49c1-fad1-505e2a4cdbce"
      },
      "execution_count": null,
      "outputs": [
        {
          "output_type": "stream",
          "name": "stdout",
          "text": [
            "32/32 - 0s - loss: 0.3947 - accuracy: 0.8690 - 148ms/epoch - 5ms/step\n",
            "복원된 모델의 정확도: 86.90%\n"
          ]
        }
      ]
    },
    {
      "cell_type": "code",
      "source": [
        "'{epoch:04d}, {batch:04d}'.format(batch=8, epoch=1)"
      ],
      "metadata": {
        "colab": {
          "base_uri": "https://localhost:8080/",
          "height": 35
        },
        "id": "GrekRQTU0Ztn",
        "outputId": "dfd0e1e4-fa60-441b-c457-3ed4e7d16723"
      },
      "execution_count": null,
      "outputs": [
        {
          "output_type": "execute_result",
          "data": {
            "text/plain": [
              "'0001, 0008'"
            ],
            "application/vnd.google.colaboratory.intrinsic+json": {
              "type": "string"
            }
          },
          "metadata": {},
          "execution_count": 18
        }
      ]
    },
    {
      "cell_type": "code",
      "source": [
        "# 파일 이름에 epoch 값 부여 (format 형식)\n",
        "checkpoint_path = \"training_2-1/cp-{epoch:04d}.ckpt\"\n",
        "checkpoint_dir = os.path.dirname(checkpoint_path)"
      ],
      "metadata": {
        "id": "67at9CsLx0mz"
      },
      "execution_count": null,
      "outputs": []
    },
    {
      "cell_type": "markdown",
      "source": [
        "- 체크포인트 주요 파라미터"
      ],
      "metadata": {
        "id": "sehW2H6VuBIL"
      }
    },
    {
      "cell_type": "code",
      "source": [
        "cp_callback = tf.keras.callbacks.ModelCheckpoint(\n",
        "    filepath=checkpoint_path, # 고유한 파일이름 부여 가능\n",
        "    monitor='val_loss', # val_loss값을 기준으로 최저점일때를 기록하고 싶다면\n",
        "    save_best_only=True, # True를 주면 monitor기준 최고상태 기록\n",
        "    save_weights_only=True, # False면 모델 레이어 및 weight값 모두\n",
        "    # save_freq=5 # 체크포인트 저장하는 주기 설정 가능 ('epoch'=에폭마다, 숫자=해당 배치마다)\n",
        "    )"
      ],
      "metadata": {
        "id": "QWQnjVFvvQSa"
      },
      "execution_count": null,
      "outputs": []
    },
    {
      "cell_type": "code",
      "source": [
        "# 새로운 모델 객체를 만듭니다\n",
        "model = create_model()"
      ],
      "metadata": {
        "id": "LiBazQfxzRhI"
      },
      "execution_count": null,
      "outputs": []
    },
    {
      "cell_type": "code",
      "source": [
        "model.fit(train_images,\n",
        "          train_labels,\n",
        "          epochs=50,\n",
        "          callbacks=[cp_callback], # 체크포인트 부여\n",
        "          validation_data=(test_images,test_labels),\n",
        "          verbose=1)"
      ],
      "metadata": {
        "colab": {
          "base_uri": "https://localhost:8080/"
        },
        "id": "V5FEnim1ueBv",
        "outputId": "a3774a0c-d2c1-4d42-a060-ae8e236a6728"
      },
      "execution_count": null,
      "outputs": [
        {
          "output_type": "stream",
          "name": "stdout",
          "text": [
            "Epoch 1/50\n",
            "32/32 [==============================] - 1s 16ms/step - loss: 1.1908 - accuracy: 0.6560 - val_loss: 0.7341 - val_accuracy: 0.7720\n",
            "Epoch 2/50\n",
            "32/32 [==============================] - 0s 11ms/step - loss: 0.4305 - accuracy: 0.8770 - val_loss: 0.5490 - val_accuracy: 0.8120\n",
            "Epoch 3/50\n",
            "32/32 [==============================] - 0s 14ms/step - loss: 0.2998 - accuracy: 0.9140 - val_loss: 0.4640 - val_accuracy: 0.8510\n",
            "Epoch 4/50\n",
            "32/32 [==============================] - 0s 9ms/step - loss: 0.2080 - accuracy: 0.9460 - val_loss: 0.4382 - val_accuracy: 0.8580\n",
            "Epoch 5/50\n",
            "32/32 [==============================] - 0s 12ms/step - loss: 0.1510 - accuracy: 0.9650 - val_loss: 0.4447 - val_accuracy: 0.8540\n",
            "Epoch 6/50\n",
            "32/32 [==============================] - 0s 10ms/step - loss: 0.1131 - accuracy: 0.9830 - val_loss: 0.4288 - val_accuracy: 0.8640\n",
            "Epoch 7/50\n",
            "32/32 [==============================] - 0s 13ms/step - loss: 0.0965 - accuracy: 0.9820 - val_loss: 0.4280 - val_accuracy: 0.8610\n",
            "Epoch 8/50\n",
            "32/32 [==============================] - 0s 10ms/step - loss: 0.0703 - accuracy: 0.9920 - val_loss: 0.4049 - val_accuracy: 0.8640\n",
            "Epoch 9/50\n",
            "32/32 [==============================] - 0s 9ms/step - loss: 0.0541 - accuracy: 0.9960 - val_loss: 0.3983 - val_accuracy: 0.8700\n",
            "Epoch 10/50\n",
            "32/32 [==============================] - 0s 9ms/step - loss: 0.0446 - accuracy: 0.9960 - val_loss: 0.3948 - val_accuracy: 0.8740\n",
            "Epoch 11/50\n",
            "32/32 [==============================] - 0s 8ms/step - loss: 0.0335 - accuracy: 0.9990 - val_loss: 0.4208 - val_accuracy: 0.8670\n",
            "Epoch 12/50\n",
            "32/32 [==============================] - 0s 9ms/step - loss: 0.0277 - accuracy: 1.0000 - val_loss: 0.4007 - val_accuracy: 0.8760\n",
            "Epoch 13/50\n",
            "32/32 [==============================] - 0s 9ms/step - loss: 0.0189 - accuracy: 1.0000 - val_loss: 0.4072 - val_accuracy: 0.8730\n",
            "Epoch 14/50\n",
            "32/32 [==============================] - 0s 13ms/step - loss: 0.0176 - accuracy: 1.0000 - val_loss: 0.4256 - val_accuracy: 0.8690\n",
            "Epoch 15/50\n",
            "32/32 [==============================] - 0s 14ms/step - loss: 0.0144 - accuracy: 1.0000 - val_loss: 0.4159 - val_accuracy: 0.8730\n",
            "Epoch 16/50\n",
            "32/32 [==============================] - 0s 14ms/step - loss: 0.0130 - accuracy: 1.0000 - val_loss: 0.4175 - val_accuracy: 0.8730\n",
            "Epoch 17/50\n",
            "32/32 [==============================] - 0s 15ms/step - loss: 0.0127 - accuracy: 1.0000 - val_loss: 0.4213 - val_accuracy: 0.8750\n",
            "Epoch 18/50\n",
            "32/32 [==============================] - 0s 15ms/step - loss: 0.0102 - accuracy: 1.0000 - val_loss: 0.4198 - val_accuracy: 0.8720\n",
            "Epoch 19/50\n",
            "32/32 [==============================] - 0s 13ms/step - loss: 0.0104 - accuracy: 1.0000 - val_loss: 0.4147 - val_accuracy: 0.8770\n",
            "Epoch 20/50\n",
            "32/32 [==============================] - 0s 9ms/step - loss: 0.0078 - accuracy: 1.0000 - val_loss: 0.4391 - val_accuracy: 0.8710\n",
            "Epoch 21/50\n",
            "32/32 [==============================] - 0s 9ms/step - loss: 0.0067 - accuracy: 1.0000 - val_loss: 0.4305 - val_accuracy: 0.8750\n",
            "Epoch 22/50\n",
            "32/32 [==============================] - 0s 11ms/step - loss: 0.0063 - accuracy: 1.0000 - val_loss: 0.4368 - val_accuracy: 0.8790\n",
            "Epoch 23/50\n",
            "32/32 [==============================] - 0s 12ms/step - loss: 0.0057 - accuracy: 1.0000 - val_loss: 0.4446 - val_accuracy: 0.8730\n",
            "Epoch 24/50\n",
            "32/32 [==============================] - 0s 9ms/step - loss: 0.0053 - accuracy: 1.0000 - val_loss: 0.4426 - val_accuracy: 0.8710\n",
            "Epoch 25/50\n",
            "32/32 [==============================] - 0s 12ms/step - loss: 0.0048 - accuracy: 1.0000 - val_loss: 0.4388 - val_accuracy: 0.8750\n",
            "Epoch 26/50\n",
            "32/32 [==============================] - 0s 11ms/step - loss: 0.0047 - accuracy: 1.0000 - val_loss: 0.4481 - val_accuracy: 0.8730\n",
            "Epoch 27/50\n",
            "32/32 [==============================] - 0s 8ms/step - loss: 0.0047 - accuracy: 1.0000 - val_loss: 0.4408 - val_accuracy: 0.8780\n",
            "Epoch 28/50\n",
            "32/32 [==============================] - 0s 11ms/step - loss: 0.0036 - accuracy: 1.0000 - val_loss: 0.4507 - val_accuracy: 0.8750\n",
            "Epoch 29/50\n",
            "32/32 [==============================] - 0s 11ms/step - loss: 0.0040 - accuracy: 1.0000 - val_loss: 0.4559 - val_accuracy: 0.8710\n",
            "Epoch 30/50\n",
            "32/32 [==============================] - 0s 8ms/step - loss: 0.0034 - accuracy: 1.0000 - val_loss: 0.4458 - val_accuracy: 0.8760\n",
            "Epoch 31/50\n",
            "32/32 [==============================] - 0s 9ms/step - loss: 0.0033 - accuracy: 1.0000 - val_loss: 0.4565 - val_accuracy: 0.8760\n",
            "Epoch 32/50\n",
            "32/32 [==============================] - 0s 9ms/step - loss: 0.0028 - accuracy: 1.0000 - val_loss: 0.4550 - val_accuracy: 0.8730\n",
            "Epoch 33/50\n",
            "32/32 [==============================] - 0s 10ms/step - loss: 0.0028 - accuracy: 1.0000 - val_loss: 0.4599 - val_accuracy: 0.8740\n",
            "Epoch 34/50\n",
            "32/32 [==============================] - 0s 8ms/step - loss: 0.0025 - accuracy: 1.0000 - val_loss: 0.4573 - val_accuracy: 0.8760\n",
            "Epoch 35/50\n",
            "32/32 [==============================] - 0s 11ms/step - loss: 0.0024 - accuracy: 1.0000 - val_loss: 0.4556 - val_accuracy: 0.8760\n",
            "Epoch 36/50\n",
            "32/32 [==============================] - 0s 11ms/step - loss: 0.0026 - accuracy: 1.0000 - val_loss: 0.4667 - val_accuracy: 0.8780\n",
            "Epoch 37/50\n",
            "32/32 [==============================] - 0s 8ms/step - loss: 0.0020 - accuracy: 1.0000 - val_loss: 0.4646 - val_accuracy: 0.8790\n",
            "Epoch 38/50\n",
            "32/32 [==============================] - 0s 11ms/step - loss: 0.0021 - accuracy: 1.0000 - val_loss: 0.4656 - val_accuracy: 0.8770\n",
            "Epoch 39/50\n",
            "32/32 [==============================] - 0s 11ms/step - loss: 0.0019 - accuracy: 1.0000 - val_loss: 0.4691 - val_accuracy: 0.8780\n",
            "Epoch 40/50\n",
            "32/32 [==============================] - 0s 9ms/step - loss: 0.0020 - accuracy: 1.0000 - val_loss: 0.4596 - val_accuracy: 0.8790\n",
            "Epoch 41/50\n",
            "32/32 [==============================] - 0s 9ms/step - loss: 0.0017 - accuracy: 1.0000 - val_loss: 0.4727 - val_accuracy: 0.8780\n",
            "Epoch 42/50\n",
            "32/32 [==============================] - 0s 9ms/step - loss: 0.0015 - accuracy: 1.0000 - val_loss: 0.4724 - val_accuracy: 0.8810\n",
            "Epoch 43/50\n",
            "32/32 [==============================] - 0s 9ms/step - loss: 0.0014 - accuracy: 1.0000 - val_loss: 0.4701 - val_accuracy: 0.8790\n",
            "Epoch 44/50\n",
            "32/32 [==============================] - 0s 11ms/step - loss: 0.0015 - accuracy: 1.0000 - val_loss: 0.4747 - val_accuracy: 0.8800\n",
            "Epoch 45/50\n",
            "32/32 [==============================] - 0s 12ms/step - loss: 0.0017 - accuracy: 1.0000 - val_loss: 0.4818 - val_accuracy: 0.8770\n",
            "Epoch 46/50\n",
            "32/32 [==============================] - 0s 11ms/step - loss: 0.0015 - accuracy: 1.0000 - val_loss: 0.4849 - val_accuracy: 0.8760\n",
            "Epoch 47/50\n",
            "32/32 [==============================] - 0s 11ms/step - loss: 0.0015 - accuracy: 1.0000 - val_loss: 0.4783 - val_accuracy: 0.8760\n",
            "Epoch 48/50\n",
            "32/32 [==============================] - 0s 11ms/step - loss: 0.0012 - accuracy: 1.0000 - val_loss: 0.4750 - val_accuracy: 0.8750\n",
            "Epoch 49/50\n",
            "32/32 [==============================] - 0s 11ms/step - loss: 0.0010 - accuracy: 1.0000 - val_loss: 0.4861 - val_accuracy: 0.8750\n",
            "Epoch 50/50\n",
            "32/32 [==============================] - 0s 13ms/step - loss: 0.0012 - accuracy: 1.0000 - val_loss: 0.4835 - val_accuracy: 0.8760\n"
          ]
        },
        {
          "output_type": "execute_result",
          "data": {
            "text/plain": [
              "<keras.callbacks.History at 0x7f4942356820>"
            ]
          },
          "metadata": {},
          "execution_count": 28
        }
      ]
    },
    {
      "cell_type": "code",
      "source": [
        "# 동일한 아키텍처를 가진 모델 선언\n",
        "model = create_model()\n",
        "\n",
        "# 체크포인트 주지말고, 한번 평가해보자.\n",
        "loss, acc = model.evaluate(test_images,  test_labels, verbose=2)\n",
        "print(\"훈련되지 않은 모델의 정확도: {:5.2f}%\".format(100*acc))"
      ],
      "metadata": {
        "colab": {
          "base_uri": "https://localhost:8080/"
        },
        "id": "0D4pF8CIvlMo",
        "outputId": "f5939d93-0ae5-487c-9452-08329ec2f65e"
      },
      "execution_count": null,
      "outputs": [
        {
          "output_type": "stream",
          "name": "stdout",
          "text": [
            "32/32 - 0s - loss: 2.3243 - accuracy: 0.1760 - 256ms/epoch - 8ms/step\n",
            "훈련되지 않은 모델의 정확도: 17.60%\n"
          ]
        }
      ]
    },
    {
      "cell_type": "code",
      "source": [
        "# latest_checkpoint :최신값을 불러온다\n",
        "latest = tf.train.latest_checkpoint(checkpoint_dir)\n",
        "latest"
      ],
      "metadata": {
        "colab": {
          "base_uri": "https://localhost:8080/",
          "height": 35
        },
        "id": "S2KOp-f42sR0",
        "outputId": "3671ca7a-f14f-40df-897c-50cdc7a5b350"
      },
      "execution_count": null,
      "outputs": [
        {
          "output_type": "execute_result",
          "data": {
            "text/plain": [
              "'training_2-1/cp-0010.ckpt'"
            ],
            "application/vnd.google.colaboratory.intrinsic+json": {
              "type": "string"
            }
          },
          "metadata": {},
          "execution_count": 30
        }
      ]
    },
    {
      "cell_type": "code",
      "source": [
        "model.load_weights(latest)\n",
        "\n",
        "# 체크포인트 주지말고, 한번 평가해보자.\n",
        "loss, acc = model.evaluate(test_images,  test_labels, verbose=2)\n",
        "print(\"훈련되지 않은 모델의 정확도: {:5.2f}%\".format(100*acc))"
      ],
      "metadata": {
        "colab": {
          "base_uri": "https://localhost:8080/"
        },
        "id": "UO7HINNk18bl",
        "outputId": "027ac345-cc5d-4d42-f995-9a957a782c08"
      },
      "execution_count": null,
      "outputs": [
        {
          "output_type": "stream",
          "name": "stdout",
          "text": [
            "32/32 - 0s - loss: 0.3948 - accuracy: 0.8740 - 82ms/epoch - 3ms/step\n",
            "훈련되지 않은 모델의 정확도: 87.40%\n"
          ]
        }
      ]
    },
    {
      "cell_type": "code",
      "source": [
        "### mytraining1 폴더에 저장\n",
        "### best only로 저장, 최종 값만 저장되도록\n",
        "### weight값만\n",
        "checkpoint_path = \"mytraining1/cp.ckpt\"\n",
        "\n",
        "cp_callback = tf.keras.callbacks.ModelCheckpoint(\n",
        "    filepath=checkpoint_path, # 고유한 파일이름 부여 가능\n",
        "    monitor='val_loss', # val_loss값을 기준으로 최저점일때를 기록하고 싶다면\n",
        "    save_best_only=True, # True를 주면 monitor기준 최고상태 기록\n",
        "    save_weights_only=True, # False면 모델 레이어 및 weight값 모두\n",
        "    # save_freq=5 # 체크포인트 저장하는 에폭주기 설정 가능\n",
        "    )\n",
        "\n",
        "model = create_model()\n",
        "\n",
        "model.fit(train_images,\n",
        "          train_labels,\n",
        "          epochs=50,\n",
        "          callbacks=[cp_callback], # 체크포인트 부여\n",
        "          validation_data=(test_images,test_labels),\n",
        "          verbose=1)"
      ],
      "metadata": {
        "colab": {
          "base_uri": "https://localhost:8080/"
        },
        "id": "0P_9vwqIsgbH",
        "outputId": "d8c3042b-c63d-43af-994c-fe78af42e24b"
      },
      "execution_count": null,
      "outputs": [
        {
          "output_type": "stream",
          "name": "stdout",
          "text": [
            "Epoch 1/50\n",
            "32/32 [==============================] - 1s 16ms/step - loss: 1.1397 - accuracy: 0.6680 - val_loss: 0.7133 - val_accuracy: 0.7730\n",
            "Epoch 2/50\n",
            "32/32 [==============================] - 0s 12ms/step - loss: 0.4137 - accuracy: 0.8900 - val_loss: 0.5246 - val_accuracy: 0.8290\n",
            "Epoch 3/50\n",
            "32/32 [==============================] - 0s 12ms/step - loss: 0.2794 - accuracy: 0.9170 - val_loss: 0.4714 - val_accuracy: 0.8540\n",
            "Epoch 4/50\n",
            "32/32 [==============================] - 0s 10ms/step - loss: 0.2054 - accuracy: 0.9520 - val_loss: 0.4414 - val_accuracy: 0.8500\n",
            "Epoch 5/50\n",
            "32/32 [==============================] - 0s 10ms/step - loss: 0.1473 - accuracy: 0.9650 - val_loss: 0.4237 - val_accuracy: 0.8560\n",
            "Epoch 6/50\n",
            "32/32 [==============================] - 0s 9ms/step - loss: 0.1162 - accuracy: 0.9800 - val_loss: 0.4456 - val_accuracy: 0.8500\n",
            "Epoch 7/50\n",
            "32/32 [==============================] - 0s 12ms/step - loss: 0.0902 - accuracy: 0.9820 - val_loss: 0.4069 - val_accuracy: 0.8640\n",
            "Epoch 8/50\n",
            "32/32 [==============================] - 0s 10ms/step - loss: 0.0698 - accuracy: 0.9870 - val_loss: 0.4023 - val_accuracy: 0.8710\n",
            "Epoch 9/50\n",
            "32/32 [==============================] - 0s 9ms/step - loss: 0.0506 - accuracy: 0.9940 - val_loss: 0.4324 - val_accuracy: 0.8650\n",
            "Epoch 10/50\n",
            "32/32 [==============================] - 0s 9ms/step - loss: 0.0382 - accuracy: 0.9990 - val_loss: 0.4139 - val_accuracy: 0.8690\n",
            "Epoch 11/50\n",
            "32/32 [==============================] - 0s 9ms/step - loss: 0.0308 - accuracy: 0.9990 - val_loss: 0.4042 - val_accuracy: 0.8660\n",
            "Epoch 12/50\n",
            "32/32 [==============================] - 0s 12ms/step - loss: 0.0248 - accuracy: 1.0000 - val_loss: 0.4008 - val_accuracy: 0.8690\n",
            "Epoch 13/50\n",
            "32/32 [==============================] - 0s 9ms/step - loss: 0.0215 - accuracy: 1.0000 - val_loss: 0.4101 - val_accuracy: 0.8660\n",
            "Epoch 14/50\n",
            "32/32 [==============================] - 0s 11ms/step - loss: 0.0200 - accuracy: 0.9990 - val_loss: 0.4126 - val_accuracy: 0.8730\n",
            "Epoch 15/50\n",
            "32/32 [==============================] - 0s 11ms/step - loss: 0.0174 - accuracy: 1.0000 - val_loss: 0.4212 - val_accuracy: 0.8730\n",
            "Epoch 16/50\n",
            "32/32 [==============================] - 0s 11ms/step - loss: 0.0138 - accuracy: 1.0000 - val_loss: 0.4351 - val_accuracy: 0.8740\n",
            "Epoch 17/50\n",
            "32/32 [==============================] - 0s 10ms/step - loss: 0.0108 - accuracy: 1.0000 - val_loss: 0.4345 - val_accuracy: 0.8700\n",
            "Epoch 18/50\n",
            "32/32 [==============================] - 0s 9ms/step - loss: 0.0099 - accuracy: 1.0000 - val_loss: 0.4252 - val_accuracy: 0.8740\n",
            "Epoch 19/50\n",
            "32/32 [==============================] - 0s 11ms/step - loss: 0.0087 - accuracy: 1.0000 - val_loss: 0.4246 - val_accuracy: 0.8730\n",
            "Epoch 20/50\n",
            "32/32 [==============================] - 0s 11ms/step - loss: 0.0081 - accuracy: 1.0000 - val_loss: 0.4349 - val_accuracy: 0.8730\n",
            "Epoch 21/50\n",
            "32/32 [==============================] - 0s 11ms/step - loss: 0.0066 - accuracy: 1.0000 - val_loss: 0.4301 - val_accuracy: 0.8720\n",
            "Epoch 22/50\n",
            "32/32 [==============================] - 0s 11ms/step - loss: 0.0056 - accuracy: 1.0000 - val_loss: 0.4378 - val_accuracy: 0.8750\n",
            "Epoch 23/50\n",
            "32/32 [==============================] - 0s 11ms/step - loss: 0.0057 - accuracy: 1.0000 - val_loss: 0.4405 - val_accuracy: 0.8730\n",
            "Epoch 24/50\n",
            "32/32 [==============================] - 0s 10ms/step - loss: 0.0055 - accuracy: 1.0000 - val_loss: 0.4407 - val_accuracy: 0.8730\n",
            "Epoch 25/50\n",
            "32/32 [==============================] - 0s 11ms/step - loss: 0.0051 - accuracy: 1.0000 - val_loss: 0.4542 - val_accuracy: 0.8730\n",
            "Epoch 26/50\n",
            "32/32 [==============================] - 0s 9ms/step - loss: 0.0047 - accuracy: 1.0000 - val_loss: 0.4438 - val_accuracy: 0.8710\n",
            "Epoch 27/50\n",
            "32/32 [==============================] - 0s 11ms/step - loss: 0.0042 - accuracy: 1.0000 - val_loss: 0.4484 - val_accuracy: 0.8730\n",
            "Epoch 28/50\n",
            "32/32 [==============================] - 0s 9ms/step - loss: 0.0037 - accuracy: 1.0000 - val_loss: 0.4449 - val_accuracy: 0.8730\n",
            "Epoch 29/50\n",
            "32/32 [==============================] - 0s 11ms/step - loss: 0.0034 - accuracy: 1.0000 - val_loss: 0.4575 - val_accuracy: 0.8750\n",
            "Epoch 30/50\n",
            "32/32 [==============================] - 0s 9ms/step - loss: 0.0031 - accuracy: 1.0000 - val_loss: 0.4443 - val_accuracy: 0.8740\n",
            "Epoch 31/50\n",
            "32/32 [==============================] - 0s 9ms/step - loss: 0.0032 - accuracy: 1.0000 - val_loss: 0.4576 - val_accuracy: 0.8750\n",
            "Epoch 32/50\n",
            "32/32 [==============================] - 0s 9ms/step - loss: 0.0027 - accuracy: 1.0000 - val_loss: 0.4638 - val_accuracy: 0.8780\n",
            "Epoch 33/50\n",
            "32/32 [==============================] - 0s 11ms/step - loss: 0.0029 - accuracy: 1.0000 - val_loss: 0.4643 - val_accuracy: 0.8750\n",
            "Epoch 34/50\n",
            "32/32 [==============================] - 0s 11ms/step - loss: 0.0029 - accuracy: 1.0000 - val_loss: 0.4623 - val_accuracy: 0.8750\n",
            "Epoch 35/50\n",
            "32/32 [==============================] - 0s 9ms/step - loss: 0.0027 - accuracy: 1.0000 - val_loss: 0.4586 - val_accuracy: 0.8750\n",
            "Epoch 36/50\n",
            "32/32 [==============================] - 0s 11ms/step - loss: 0.0023 - accuracy: 1.0000 - val_loss: 0.4709 - val_accuracy: 0.8780\n",
            "Epoch 37/50\n",
            "32/32 [==============================] - 0s 9ms/step - loss: 0.0021 - accuracy: 1.0000 - val_loss: 0.4703 - val_accuracy: 0.8750\n",
            "Epoch 38/50\n",
            "32/32 [==============================] - 0s 9ms/step - loss: 0.0021 - accuracy: 1.0000 - val_loss: 0.4648 - val_accuracy: 0.8750\n",
            "Epoch 39/50\n",
            "32/32 [==============================] - 0s 11ms/step - loss: 0.0019 - accuracy: 1.0000 - val_loss: 0.4719 - val_accuracy: 0.8800\n",
            "Epoch 40/50\n",
            "32/32 [==============================] - 0s 12ms/step - loss: 0.0019 - accuracy: 1.0000 - val_loss: 0.4750 - val_accuracy: 0.8760\n",
            "Epoch 41/50\n",
            "32/32 [==============================] - 0s 9ms/step - loss: 0.0017 - accuracy: 1.0000 - val_loss: 0.4766 - val_accuracy: 0.8750\n",
            "Epoch 42/50\n",
            "32/32 [==============================] - 0s 11ms/step - loss: 0.0017 - accuracy: 1.0000 - val_loss: 0.4847 - val_accuracy: 0.8740\n",
            "Epoch 43/50\n",
            "32/32 [==============================] - 0s 11ms/step - loss: 0.0016 - accuracy: 1.0000 - val_loss: 0.4817 - val_accuracy: 0.8750\n",
            "Epoch 44/50\n",
            "32/32 [==============================] - 0s 9ms/step - loss: 0.0016 - accuracy: 1.0000 - val_loss: 0.4859 - val_accuracy: 0.8760\n",
            "Epoch 45/50\n",
            "32/32 [==============================] - 0s 11ms/step - loss: 0.0013 - accuracy: 1.0000 - val_loss: 0.4832 - val_accuracy: 0.8810\n",
            "Epoch 46/50\n",
            "32/32 [==============================] - 0s 11ms/step - loss: 0.0014 - accuracy: 1.0000 - val_loss: 0.4832 - val_accuracy: 0.8820\n",
            "Epoch 47/50\n",
            "32/32 [==============================] - 0s 9ms/step - loss: 0.0012 - accuracy: 1.0000 - val_loss: 0.4869 - val_accuracy: 0.8790\n",
            "Epoch 48/50\n",
            "32/32 [==============================] - 0s 11ms/step - loss: 0.0014 - accuracy: 1.0000 - val_loss: 0.4867 - val_accuracy: 0.8780\n",
            "Epoch 49/50\n",
            "32/32 [==============================] - 0s 12ms/step - loss: 0.0013 - accuracy: 1.0000 - val_loss: 0.4878 - val_accuracy: 0.8780\n",
            "Epoch 50/50\n",
            "32/32 [==============================] - 0s 12ms/step - loss: 0.0013 - accuracy: 1.0000 - val_loss: 0.4904 - val_accuracy: 0.8810\n"
          ]
        },
        {
          "output_type": "execute_result",
          "data": {
            "text/plain": [
              "<keras.callbacks.History at 0x7f243eef13d0>"
            ]
          },
          "metadata": {},
          "execution_count": 26
        }
      ]
    },
    {
      "cell_type": "code",
      "source": [
        "model.load_weights(checkpoint_path)\n",
        "\n",
        "model.evaluate(test_images,  test_labels, verbose=2)"
      ],
      "metadata": {
        "colab": {
          "base_uri": "https://localhost:8080/"
        },
        "id": "CyBBoZ_Xuyuu",
        "outputId": "5353d4c6-d973-4952-e848-d518659b4b45"
      },
      "execution_count": null,
      "outputs": [
        {
          "output_type": "stream",
          "name": "stdout",
          "text": [
            "32/32 - 0s - loss: 0.4008 - accuracy: 0.8690 - 93ms/epoch - 3ms/step\n"
          ]
        },
        {
          "output_type": "execute_result",
          "data": {
            "text/plain": [
              "[0.40077367424964905, 0.8690000176429749]"
            ]
          },
          "metadata": {},
          "execution_count": 27
        }
      ]
    },
    {
      "cell_type": "code",
      "source": [
        "tf.keras.callbacks.ModelCheckpoint?"
      ],
      "metadata": {
        "id": "pEu8Y-brvnyN"
      },
      "execution_count": null,
      "outputs": []
    },
    {
      "cell_type": "code",
      "source": [
        "### mytraining2 폴더에 저장\n",
        "### 5epoch마다 저장\n",
        "### weight값만\n",
        "checkpoint_path = \"mytraining3/cp-{epoch:04d}.ckpt\"\n",
        "\n",
        "cp_callback = tf.keras.callbacks.ModelCheckpoint(\n",
        "    filepath=checkpoint_path, # 고유한 파일이름 부여 가능\n",
        "    monitor='val_loss', # val_loss값을 기준으로 최저점일때를 기록하고 싶다면\n",
        "    save_best_only=False, # True를 주면 monitor기준 최고상태 기록\n",
        "    save_weights_only=True, # False면 모델 레이어 및 weight값 모두\n",
        "    period=5, # 체크포인트 저장하는 에폭주기 설정 가능\n",
        "    save_freq='epoch' # epoch의 끝에서 저장할지 여부\n",
        "    )"
      ],
      "metadata": {
        "colab": {
          "base_uri": "https://localhost:8080/"
        },
        "id": "qco8iqBxwVts",
        "outputId": "4ce76bfd-352c-4a7c-a648-3503d40b2883"
      },
      "execution_count": null,
      "outputs": [
        {
          "output_type": "stream",
          "name": "stderr",
          "text": [
            "WARNING:tensorflow:`period` argument is deprecated. Please use `save_freq` to specify the frequency in number of batches seen.\n"
          ]
        }
      ]
    },
    {
      "cell_type": "code",
      "source": [
        "model = create_model()\n",
        "\n",
        "model.fit(train_images,\n",
        "          train_labels,\n",
        "          epochs=50,\n",
        "          callbacks=[cp_callback], # 체크포인트 부여\n",
        "          validation_data=(test_images,test_labels),\n",
        "          verbose=1)"
      ],
      "metadata": {
        "colab": {
          "base_uri": "https://localhost:8080/"
        },
        "id": "z_zzCwHNsHlA",
        "outputId": "b34bad41-0396-449f-989e-d5f380e6861a"
      },
      "execution_count": null,
      "outputs": [
        {
          "output_type": "stream",
          "name": "stdout",
          "text": [
            "Epoch 1/50\n"
          ]
        },
        {
          "output_type": "stream",
          "name": "stderr",
          "text": [
            "WARNING:tensorflow:Detecting that an object or model or tf.train.Checkpoint is being deleted with unrestored values. See the following logs for the specific values in question. To silence these warnings, use `status.expect_partial()`. See https://www.tensorflow.org/api_docs/python/tf/train/Checkpoint#restorefor details about the status object returned by the restore function.\n",
            "WARNING:tensorflow:Value in checkpoint could not be found in the restored object: (root).optimizer.iter\n",
            "WARNING:tensorflow:Value in checkpoint could not be found in the restored object: (root).optimizer.beta_1\n",
            "WARNING:tensorflow:Value in checkpoint could not be found in the restored object: (root).optimizer.beta_2\n",
            "WARNING:tensorflow:Value in checkpoint could not be found in the restored object: (root).optimizer.decay\n",
            "WARNING:tensorflow:Value in checkpoint could not be found in the restored object: (root).optimizer.learning_rate\n"
          ]
        },
        {
          "output_type": "stream",
          "name": "stdout",
          "text": [
            "32/32 [==============================] - 1s 14ms/step - loss: 1.1627 - accuracy: 0.6790 - val_loss: 0.6930 - val_accuracy: 0.7870\n",
            "Epoch 2/50\n",
            "32/32 [==============================] - 0s 12ms/step - loss: 0.4093 - accuracy: 0.8850 - val_loss: 0.5362 - val_accuracy: 0.8210\n",
            "Epoch 3/50\n",
            "32/32 [==============================] - 0s 11ms/step - loss: 0.2728 - accuracy: 0.9390 - val_loss: 0.4898 - val_accuracy: 0.8430\n",
            "Epoch 4/50\n",
            "32/32 [==============================] - 0s 12ms/step - loss: 0.2152 - accuracy: 0.9490 - val_loss: 0.4306 - val_accuracy: 0.8510\n",
            "Epoch 5/50\n",
            "32/32 [==============================] - 0s 10ms/step - loss: 0.1464 - accuracy: 0.9710 - val_loss: 0.4222 - val_accuracy: 0.8590\n",
            "Epoch 6/50\n",
            "32/32 [==============================] - 0s 9ms/step - loss: 0.1217 - accuracy: 0.9700 - val_loss: 0.4322 - val_accuracy: 0.8660\n",
            "Epoch 7/50\n",
            "32/32 [==============================] - 0s 12ms/step - loss: 0.0885 - accuracy: 0.9830 - val_loss: 0.4018 - val_accuracy: 0.8670\n",
            "Epoch 8/50\n",
            "32/32 [==============================] - 0s 11ms/step - loss: 0.0655 - accuracy: 0.9910 - val_loss: 0.4253 - val_accuracy: 0.8690\n",
            "Epoch 9/50\n",
            "32/32 [==============================] - 0s 11ms/step - loss: 0.0465 - accuracy: 0.9990 - val_loss: 0.4136 - val_accuracy: 0.8720\n",
            "Epoch 10/50\n",
            "32/32 [==============================] - 0s 13ms/step - loss: 0.0351 - accuracy: 0.9990 - val_loss: 0.4341 - val_accuracy: 0.8640\n",
            "Epoch 11/50\n",
            "32/32 [==============================] - 0s 12ms/step - loss: 0.0319 - accuracy: 1.0000 - val_loss: 0.4213 - val_accuracy: 0.8670\n",
            "Epoch 12/50\n",
            "32/32 [==============================] - 0s 9ms/step - loss: 0.0270 - accuracy: 0.9990 - val_loss: 0.4148 - val_accuracy: 0.8670\n",
            "Epoch 13/50\n",
            "32/32 [==============================] - 0s 12ms/step - loss: 0.0219 - accuracy: 1.0000 - val_loss: 0.4202 - val_accuracy: 0.8680\n",
            "Epoch 14/50\n",
            "32/32 [==============================] - 0s 10ms/step - loss: 0.0163 - accuracy: 1.0000 - val_loss: 0.4341 - val_accuracy: 0.8660\n",
            "Epoch 15/50\n",
            "32/32 [==============================] - 0s 11ms/step - loss: 0.0152 - accuracy: 1.0000 - val_loss: 0.4246 - val_accuracy: 0.8660\n",
            "Epoch 16/50\n",
            "32/32 [==============================] - 0s 12ms/step - loss: 0.0132 - accuracy: 1.0000 - val_loss: 0.4350 - val_accuracy: 0.8700\n",
            "Epoch 17/50\n",
            "32/32 [==============================] - 0s 10ms/step - loss: 0.0111 - accuracy: 1.0000 - val_loss: 0.4297 - val_accuracy: 0.8690\n",
            "Epoch 18/50\n",
            "32/32 [==============================] - 0s 11ms/step - loss: 0.0094 - accuracy: 1.0000 - val_loss: 0.4263 - val_accuracy: 0.8740\n",
            "Epoch 19/50\n",
            "32/32 [==============================] - 0s 11ms/step - loss: 0.0087 - accuracy: 1.0000 - val_loss: 0.4358 - val_accuracy: 0.8680\n",
            "Epoch 20/50\n",
            "32/32 [==============================] - 0s 11ms/step - loss: 0.0070 - accuracy: 1.0000 - val_loss: 0.4404 - val_accuracy: 0.8670\n",
            "Epoch 21/50\n",
            "32/32 [==============================] - 0s 10ms/step - loss: 0.0074 - accuracy: 1.0000 - val_loss: 0.4458 - val_accuracy: 0.8670\n",
            "Epoch 22/50\n",
            "32/32 [==============================] - 0s 10ms/step - loss: 0.0073 - accuracy: 1.0000 - val_loss: 0.4561 - val_accuracy: 0.8650\n",
            "Epoch 23/50\n",
            "32/32 [==============================] - 0s 9ms/step - loss: 0.0059 - accuracy: 1.0000 - val_loss: 0.4461 - val_accuracy: 0.8680\n",
            "Epoch 24/50\n",
            "32/32 [==============================] - 0s 9ms/step - loss: 0.0052 - accuracy: 1.0000 - val_loss: 0.4539 - val_accuracy: 0.8690\n",
            "Epoch 25/50\n",
            "32/32 [==============================] - 0s 10ms/step - loss: 0.0065 - accuracy: 1.0000 - val_loss: 0.5006 - val_accuracy: 0.8640\n",
            "Epoch 26/50\n",
            "32/32 [==============================] - 0s 11ms/step - loss: 0.0060 - accuracy: 1.0000 - val_loss: 0.4366 - val_accuracy: 0.8770\n",
            "Epoch 27/50\n",
            "32/32 [==============================] - 0s 13ms/step - loss: 0.0043 - accuracy: 1.0000 - val_loss: 0.4496 - val_accuracy: 0.8760\n",
            "Epoch 28/50\n",
            "32/32 [==============================] - 0s 10ms/step - loss: 0.0040 - accuracy: 1.0000 - val_loss: 0.4599 - val_accuracy: 0.8690\n",
            "Epoch 29/50\n",
            "32/32 [==============================] - 0s 10ms/step - loss: 0.0037 - accuracy: 1.0000 - val_loss: 0.4552 - val_accuracy: 0.8710\n",
            "Epoch 30/50\n",
            "32/32 [==============================] - 0s 10ms/step - loss: 0.0034 - accuracy: 1.0000 - val_loss: 0.4651 - val_accuracy: 0.8660\n",
            "Epoch 31/50\n",
            "32/32 [==============================] - 0s 10ms/step - loss: 0.0031 - accuracy: 1.0000 - val_loss: 0.4622 - val_accuracy: 0.8670\n",
            "Epoch 32/50\n",
            "32/32 [==============================] - 0s 9ms/step - loss: 0.0027 - accuracy: 1.0000 - val_loss: 0.4584 - val_accuracy: 0.8680\n",
            "Epoch 33/50\n",
            "32/32 [==============================] - 0s 12ms/step - loss: 0.0026 - accuracy: 1.0000 - val_loss: 0.4623 - val_accuracy: 0.8710\n",
            "Epoch 34/50\n",
            "32/32 [==============================] - 0s 9ms/step - loss: 0.0026 - accuracy: 1.0000 - val_loss: 0.4660 - val_accuracy: 0.8710\n",
            "Epoch 35/50\n",
            "32/32 [==============================] - 0s 12ms/step - loss: 0.0023 - accuracy: 1.0000 - val_loss: 0.4650 - val_accuracy: 0.8740\n",
            "Epoch 36/50\n",
            "32/32 [==============================] - 0s 9ms/step - loss: 0.0021 - accuracy: 1.0000 - val_loss: 0.4703 - val_accuracy: 0.8710\n",
            "Epoch 37/50\n",
            "32/32 [==============================] - 0s 10ms/step - loss: 0.0021 - accuracy: 1.0000 - val_loss: 0.4748 - val_accuracy: 0.8700\n",
            "Epoch 38/50\n",
            "32/32 [==============================] - 0s 12ms/step - loss: 0.0020 - accuracy: 1.0000 - val_loss: 0.4746 - val_accuracy: 0.8720\n",
            "Epoch 39/50\n",
            "32/32 [==============================] - 0s 9ms/step - loss: 0.0021 - accuracy: 1.0000 - val_loss: 0.4969 - val_accuracy: 0.8690\n",
            "Epoch 40/50\n",
            "32/32 [==============================] - 0s 12ms/step - loss: 0.0018 - accuracy: 1.0000 - val_loss: 0.4789 - val_accuracy: 0.8720\n",
            "Epoch 41/50\n",
            "32/32 [==============================] - 0s 9ms/step - loss: 0.0019 - accuracy: 1.0000 - val_loss: 0.4866 - val_accuracy: 0.8720\n",
            "Epoch 42/50\n",
            "32/32 [==============================] - 0s 11ms/step - loss: 0.0019 - accuracy: 1.0000 - val_loss: 0.4929 - val_accuracy: 0.8690\n",
            "Epoch 43/50\n",
            "32/32 [==============================] - 0s 12ms/step - loss: 0.0016 - accuracy: 1.0000 - val_loss: 0.4835 - val_accuracy: 0.8710\n",
            "Epoch 44/50\n",
            "32/32 [==============================] - 0s 11ms/step - loss: 0.0019 - accuracy: 1.0000 - val_loss: 0.4924 - val_accuracy: 0.8710\n",
            "Epoch 45/50\n",
            "32/32 [==============================] - 0s 10ms/step - loss: 0.0015 - accuracy: 1.0000 - val_loss: 0.4892 - val_accuracy: 0.8710\n",
            "Epoch 46/50\n",
            "32/32 [==============================] - 0s 11ms/step - loss: 0.0014 - accuracy: 1.0000 - val_loss: 0.4934 - val_accuracy: 0.8730\n",
            "Epoch 47/50\n",
            "32/32 [==============================] - 0s 11ms/step - loss: 0.0013 - accuracy: 1.0000 - val_loss: 0.4951 - val_accuracy: 0.8680\n",
            "Epoch 48/50\n",
            "32/32 [==============================] - 0s 11ms/step - loss: 0.0012 - accuracy: 1.0000 - val_loss: 0.4984 - val_accuracy: 0.8740\n",
            "Epoch 49/50\n",
            "32/32 [==============================] - 0s 9ms/step - loss: 0.0013 - accuracy: 1.0000 - val_loss: 0.4996 - val_accuracy: 0.8690\n",
            "Epoch 50/50\n",
            "32/32 [==============================] - 0s 9ms/step - loss: 0.0013 - accuracy: 1.0000 - val_loss: 0.4971 - val_accuracy: 0.8720\n"
          ]
        },
        {
          "output_type": "execute_result",
          "data": {
            "text/plain": [
              "<keras.callbacks.History at 0x7f243ed24c90>"
            ]
          },
          "metadata": {},
          "execution_count": 29
        }
      ]
    },
    {
      "cell_type": "markdown",
      "source": [
        "### early stopping & 체크포인트 같이 사용하기"
      ],
      "metadata": {
        "id": "pdKFfxPX2DZf"
      }
    },
    {
      "cell_type": "code",
      "source": [
        "checkpoint_path = \"training_3/cp-{epoch:04d}.ckpt\"\n",
        "checkpoint_dir = os.path.dirname(checkpoint_path)"
      ],
      "metadata": {
        "id": "MYDtK6Qi5Z4j"
      },
      "execution_count": null,
      "outputs": []
    },
    {
      "cell_type": "code",
      "source": [
        "cp_callback = tf.keras.callbacks.ModelCheckpoint(\n",
        "    filepath=checkpoint_path, # 고유한 파일이름 부여 가능\n",
        "    monitor='val_loss', # val_loss값을 기준으로 최저점일때를 기록하고 싶다면\n",
        "    save_best_only=True, # True를 주면 monitor기준 최고상태 기록\n",
        "    save_weights_only=True, # False면 모델 레이어 및 weight값 모두\n",
        "    # save_freq=5 # 체크포인트 저장하는 에폭주기 설정 가능\n",
        "    )"
      ],
      "metadata": {
        "id": "jl_k3iQi5l35"
      },
      "execution_count": null,
      "outputs": []
    },
    {
      "cell_type": "code",
      "source": [
        "early = tf.keras.callbacks.EarlyStopping(monitor='val_loss', patience=3)"
      ],
      "metadata": {
        "id": "Zlr-Zu2T5oLF"
      },
      "execution_count": null,
      "outputs": []
    },
    {
      "cell_type": "code",
      "source": [
        "# 새로운 모델 객체를 만듭니다\n",
        "model = create_model()"
      ],
      "metadata": {
        "id": "WRmvVx4G5r47"
      },
      "execution_count": null,
      "outputs": []
    },
    {
      "cell_type": "code",
      "source": [
        "model.fit(train_images,\n",
        "          train_labels,\n",
        "          epochs=100,\n",
        "          callbacks=[cp_callback, early], # 체크포인트 부여, early stopping\n",
        "          validation_data=(test_images,test_labels),\n",
        "          verbose=1)"
      ],
      "metadata": {
        "colab": {
          "base_uri": "https://localhost:8080/"
        },
        "outputId": "03aff0a9-5fbb-459b-8436-74ff2fab39fd",
        "id": "U4mNi3Wz5r48"
      },
      "execution_count": null,
      "outputs": [
        {
          "output_type": "stream",
          "name": "stdout",
          "text": [
            "Epoch 1/100\n",
            "32/32 [==============================] - 1s 16ms/step - loss: 1.1715 - accuracy: 0.6750 - val_loss: 0.7166 - val_accuracy: 0.7920\n",
            "Epoch 2/100\n",
            "32/32 [==============================] - 0s 12ms/step - loss: 0.4363 - accuracy: 0.8700 - val_loss: 0.5351 - val_accuracy: 0.8380\n",
            "Epoch 3/100\n",
            "32/32 [==============================] - 0s 12ms/step - loss: 0.2764 - accuracy: 0.9320 - val_loss: 0.4942 - val_accuracy: 0.8460\n",
            "Epoch 4/100\n",
            "32/32 [==============================] - 0s 9ms/step - loss: 0.2045 - accuracy: 0.9480 - val_loss: 0.4646 - val_accuracy: 0.8420\n",
            "Epoch 5/100\n",
            "32/32 [==============================] - 0s 9ms/step - loss: 0.1539 - accuracy: 0.9750 - val_loss: 0.4359 - val_accuracy: 0.8510\n",
            "Epoch 6/100\n",
            "32/32 [==============================] - 0s 11ms/step - loss: 0.1072 - accuracy: 0.9870 - val_loss: 0.4268 - val_accuracy: 0.8630\n",
            "Epoch 7/100\n",
            "32/32 [==============================] - 0s 12ms/step - loss: 0.0803 - accuracy: 0.9920 - val_loss: 0.4230 - val_accuracy: 0.8680\n",
            "Epoch 8/100\n",
            "32/32 [==============================] - 0s 12ms/step - loss: 0.0629 - accuracy: 0.9910 - val_loss: 0.4060 - val_accuracy: 0.8690\n",
            "Epoch 9/100\n",
            "32/32 [==============================] - 0s 10ms/step - loss: 0.0505 - accuracy: 0.9960 - val_loss: 0.4034 - val_accuracy: 0.8730\n",
            "Epoch 10/100\n",
            "32/32 [==============================] - 0s 10ms/step - loss: 0.0358 - accuracy: 0.9990 - val_loss: 0.4009 - val_accuracy: 0.8730\n",
            "Epoch 11/100\n",
            "32/32 [==============================] - 0s 9ms/step - loss: 0.0302 - accuracy: 0.9980 - val_loss: 0.4001 - val_accuracy: 0.8730\n",
            "Epoch 12/100\n",
            "32/32 [==============================] - 0s 9ms/step - loss: 0.0254 - accuracy: 1.0000 - val_loss: 0.4195 - val_accuracy: 0.8680\n",
            "Epoch 13/100\n",
            "32/32 [==============================] - 0s 9ms/step - loss: 0.0232 - accuracy: 0.9990 - val_loss: 0.4106 - val_accuracy: 0.8710\n",
            "Epoch 14/100\n",
            "32/32 [==============================] - 0s 11ms/step - loss: 0.0199 - accuracy: 0.9990 - val_loss: 0.4207 - val_accuracy: 0.8720\n"
          ]
        },
        {
          "output_type": "execute_result",
          "data": {
            "text/plain": [
              "<keras.callbacks.History at 0x7f243da33fd0>"
            ]
          },
          "metadata": {},
          "execution_count": 34
        }
      ]
    },
    {
      "cell_type": "markdown",
      "source": [
        "### 직접 가중치 체크포인트 저장"
      ],
      "metadata": {
        "id": "ijoeKL1w7jB3"
      }
    },
    {
      "cell_type": "code",
      "source": [
        "# 학습이 끝난 후에 가중치 저장, checkpoint 못썼을 때 사용\n",
        "model.save_weights('./checkpoints/my_checkpoint.ckpt')\n",
        "\n",
        "model = create_model()\n",
        "\n",
        "# 가중치 복원\n",
        "model.load_weights('./checkpoints/my_checkpoint.ckpt')\n",
        "\n",
        "loss,acc = model.evaluate(test_images,  test_labels, verbose=2)\n",
        "print(\"복원된 모델의 정확도: {:5.2f}%\".format(100*acc))"
      ],
      "metadata": {
        "colab": {
          "base_uri": "https://localhost:8080/"
        },
        "id": "3Vo4lRjE6q9b",
        "outputId": "b29f09ba-bf95-4e71-ef8a-7e9c4a322f9a"
      },
      "execution_count": null,
      "outputs": [
        {
          "output_type": "stream",
          "name": "stdout",
          "text": [
            "32/32 - 0s - loss: 0.4118 - accuracy: 0.8750 - 258ms/epoch - 8ms/step\n",
            "복원된 모델의 정확도: 87.50%\n"
          ]
        }
      ]
    },
    {
      "cell_type": "markdown",
      "source": [
        "## 전체 모델 저장(모델레이어와 함께 저장)\n",
        "1) save_weights_only=False 로 변경  \n",
        "2) 직접 model.save() : SavedModel(pb)  \n",
        "3) HDF5 파일로 저장하기"
      ],
      "metadata": {
        "id": "l7yx7TaK73JY"
      }
    },
    {
      "cell_type": "markdown",
      "source": [
        "### save_weights_only=False 로 변경"
      ],
      "metadata": {
        "id": "zKJCiX0hCFFt"
      }
    },
    {
      "cell_type": "code",
      "source": [
        "checkpoint_path = \"training_4/cp-{epoch:04d}.ckpt\"\n",
        "checkpoint_dir = os.path.dirname(checkpoint_path)"
      ],
      "metadata": {
        "id": "1AqMFmqC6Un0"
      },
      "execution_count": null,
      "outputs": []
    },
    {
      "cell_type": "code",
      "source": [
        "cp_callback = tf.keras.callbacks.ModelCheckpoint(\n",
        "    filepath=checkpoint_path, # 고유한 파일이름 부여 가능\n",
        "    monitor='val_loss', # val_loss값을 기준으로 최저점일때를 기록하고 싶다면\n",
        "    save_best_only=True, # True를 주면 monitor기준 최고상태 기록\n",
        "    save_weights_only=False, # False면 모델 레이어 및 weight값 모두\n",
        "    # save_freq=5 # 체크포인트 저장하는 에폭주기 설정 가능\n",
        "    )"
      ],
      "metadata": {
        "id": "ZenGaJb-6Bd_"
      },
      "execution_count": null,
      "outputs": []
    },
    {
      "cell_type": "code",
      "source": [
        "# 새로운 모델 객체를 만듭니다\n",
        "model = create_model()"
      ],
      "metadata": {
        "id": "eX-M6emH6Tyh"
      },
      "execution_count": null,
      "outputs": []
    },
    {
      "cell_type": "code",
      "source": [
        "model.fit(train_images,\n",
        "          train_labels,\n",
        "          epochs=1,\n",
        "          callbacks=[cp_callback], # 체크포인트 부여\n",
        "          validation_data=(test_images,test_labels),\n",
        "          verbose=1)"
      ],
      "metadata": {
        "colab": {
          "base_uri": "https://localhost:8080/",
          "height": 1000
        },
        "id": "sQxxdRA56a9S",
        "outputId": "97748c83-f175-4341-99c7-64dde8de55e7"
      },
      "execution_count": null,
      "outputs": [
        {
          "output_type": "stream",
          "name": "stderr",
          "text": [
            "WARNING:tensorflow:Detecting that an object or model or tf.train.Checkpoint is being deleted with unrestored values. See the following logs for the specific values in question. To silence these warnings, use `status.expect_partial()`. See https://www.tensorflow.org/api_docs/python/tf/train/Checkpoint#restorefor details about the status object returned by the restore function.\n",
            "WARNING:tensorflow:Value in checkpoint could not be found in the restored object: (root).optimizer._variables.1\n",
            "WARNING:tensorflow:Value in checkpoint could not be found in the restored object: (root).optimizer._variables.2\n",
            "WARNING:tensorflow:Value in checkpoint could not be found in the restored object: (root).optimizer._variables.3\n",
            "WARNING:tensorflow:Value in checkpoint could not be found in the restored object: (root).optimizer._variables.4\n",
            "WARNING:tensorflow:Value in checkpoint could not be found in the restored object: (root).optimizer._variables.5\n",
            "WARNING:tensorflow:Value in checkpoint could not be found in the restored object: (root).optimizer._variables.6\n",
            "WARNING:tensorflow:Value in checkpoint could not be found in the restored object: (root).optimizer._variables.7\n",
            "WARNING:tensorflow:Value in checkpoint could not be found in the restored object: (root).optimizer._variables.8\n"
          ]
        },
        {
          "output_type": "stream",
          "name": "stdout",
          "text": [
            "Epoch 1/100\n",
            "31/32 [============================>.] - ETA: 0s - loss: 1.1893 - accuracy: 0.6421"
          ]
        },
        {
          "output_type": "stream",
          "name": "stderr",
          "text": [
            "WARNING:absl:Found untraced functions such as _update_step_xla while saving (showing 1 of 1). These functions will not be directly callable after loading.\n"
          ]
        },
        {
          "output_type": "stream",
          "name": "stdout",
          "text": [
            "\b\b\b\b\b\b\b\b\b\b\b\b\b\b\b\b\b\b\b\b\b\b\b\b\b\b\b\b\b\b\b\b\b\b\b\b\b\b\b\b\b\b\b\b\b\b\b\b\b\b\b\b\b\b\b\b\b\b\b\b\b\b\b\b\b\b\b\b\b\b\b\b\b\b\b\b\b\b\b\b\b\b\r32/32 [==============================] - 2s 39ms/step - loss: 1.1825 - accuracy: 0.6440 - val_loss: 0.7005 - val_accuracy: 0.8000\n",
            "Epoch 2/100\n",
            "32/32 [==============================] - ETA: 0s - loss: 0.4217 - accuracy: 0.8800"
          ]
        },
        {
          "output_type": "stream",
          "name": "stderr",
          "text": [
            "WARNING:absl:Found untraced functions such as _update_step_xla while saving (showing 1 of 1). These functions will not be directly callable after loading.\n"
          ]
        },
        {
          "output_type": "stream",
          "name": "stdout",
          "text": [
            "\b\b\b\b\b\b\b\b\b\b\b\b\b\b\b\b\b\b\b\b\b\b\b\b\b\b\b\b\b\b\b\b\b\b\b\b\b\b\b\b\b\b\b\b\b\b\b\b\b\b\b\b\b\b\b\b\b\b\b\b\b\b\b\b\b\b\b\b\b\b\b\b\b\b\b\b\b\b\b\b\b\b\r32/32 [==============================] - 1s 29ms/step - loss: 0.4217 - accuracy: 0.8800 - val_loss: 0.5121 - val_accuracy: 0.8470\n",
            "Epoch 3/100\n",
            "31/32 [============================>.] - ETA: 0s - loss: 0.2834 - accuracy: 0.9264"
          ]
        },
        {
          "output_type": "stream",
          "name": "stderr",
          "text": [
            "WARNING:absl:Found untraced functions such as _update_step_xla while saving (showing 1 of 1). These functions will not be directly callable after loading.\n"
          ]
        },
        {
          "output_type": "stream",
          "name": "stdout",
          "text": [
            "\b\b\b\b\b\b\b\b\b\b\b\b\b\b\b\b\b\b\b\b\b\b\b\b\b\b\b\b\b\b\b\b\b\b\b\b\b\b\b\b\b\b\b\b\b\b\b\b\b\b\b\b\b\b\b\b\b\b\b\b\b\b\b\b\b\b\b\b\b\b\b\b\b\b\b\b\b\b\b\b\b\b\r32/32 [==============================] - 1s 31ms/step - loss: 0.2833 - accuracy: 0.9270 - val_loss: 0.4990 - val_accuracy: 0.8480\n",
            "Epoch 4/100\n",
            "31/32 [============================>.] - ETA: 0s - loss: 0.2025 - accuracy: 0.9486"
          ]
        },
        {
          "output_type": "stream",
          "name": "stderr",
          "text": [
            "WARNING:absl:Found untraced functions such as _update_step_xla while saving (showing 1 of 1). These functions will not be directly callable after loading.\n"
          ]
        },
        {
          "output_type": "stream",
          "name": "stdout",
          "text": [
            "\b\b\b\b\b\b\b\b\b\b\b\b\b\b\b\b\b\b\b\b\b\b\b\b\b\b\b\b\b\b\b\b\b\b\b\b\b\b\b\b\b\b\b\b\b\b\b\b\b\b\b\b\b\b\b\b\b\b\b\b\b\b\b\b\b\b\b\b\b\b\b\b\b\b\b\b\b\b\b\b\b\b\r32/32 [==============================] - 1s 29ms/step - loss: 0.2026 - accuracy: 0.9480 - val_loss: 0.4672 - val_accuracy: 0.8440\n",
            "Epoch 5/100\n",
            "32/32 [==============================] - ETA: 0s - loss: 0.1500 - accuracy: 0.9710"
          ]
        },
        {
          "output_type": "stream",
          "name": "stderr",
          "text": [
            "WARNING:absl:Found untraced functions such as _update_step_xla while saving (showing 1 of 1). These functions will not be directly callable after loading.\n"
          ]
        },
        {
          "output_type": "stream",
          "name": "stdout",
          "text": [
            "\b\b\b\b\b\b\b\b\b\b\b\b\b\b\b\b\b\b\b\b\b\b\b\b\b\b\b\b\b\b\b\b\b\b\b\b\b\b\b\b\b\b\b\b\b\b\b\b\b\b\b\b\b\b\b\b\b\b\b\b\b\b\b\b\b\b\b\b\b\b\b\b\b\b\b\b\b\b\b\b\b\b\r32/32 [==============================] - 1s 48ms/step - loss: 0.1500 - accuracy: 0.9710 - val_loss: 0.4158 - val_accuracy: 0.8620\n",
            "Epoch 6/100\n",
            "32/32 [==============================] - 0s 13ms/step - loss: 0.1069 - accuracy: 0.9880 - val_loss: 0.4549 - val_accuracy: 0.8460\n",
            "Epoch 7/100\n",
            "32/32 [==============================] - 1s 21ms/step - loss: 0.0818 - accuracy: 0.9880 - val_loss: 0.4415 - val_accuracy: 0.8620\n",
            "Epoch 8/100\n",
            "29/32 [==========================>...] - ETA: 0s - loss: 0.0661 - accuracy: 0.9903"
          ]
        },
        {
          "output_type": "stream",
          "name": "stderr",
          "text": [
            "WARNING:absl:Found untraced functions such as _update_step_xla while saving (showing 1 of 1). These functions will not be directly callable after loading.\n"
          ]
        },
        {
          "output_type": "stream",
          "name": "stdout",
          "text": [
            "\b\b\b\b\b\b\b\b\b\b\b\b\b\b\b\b\b\b\b\b\b\b\b\b\b\b\b\b\b\b\b\b\b\b\b\b\b\b\b\b\b\b\b\b\b\b\b\b\b\b\b\b\b\b\b\b\b\b\b\b\b\b\b\b\b\b\b\b\b\b\b\b\b\b\b\b\b\b\b\b\b\b\r32/32 [==============================] - 3s 89ms/step - loss: 0.0633 - accuracy: 0.9910 - val_loss: 0.3999 - val_accuracy: 0.8770\n",
            "Epoch 9/100\n",
            "32/32 [==============================] - 0s 13ms/step - loss: 0.0479 - accuracy: 0.9980 - val_loss: 0.4189 - val_accuracy: 0.8680\n",
            "Epoch 10/100\n",
            "31/32 [============================>.] - ETA: 0s - loss: 0.0435 - accuracy: 0.9970"
          ]
        },
        {
          "output_type": "stream",
          "name": "stderr",
          "text": [
            "WARNING:absl:Found untraced functions such as _update_step_xla while saving (showing 1 of 1). These functions will not be directly callable after loading.\n"
          ]
        },
        {
          "output_type": "stream",
          "name": "stdout",
          "text": [
            "\b\b\b\b\b\b\b\b\b\b\b\b\b\b\b\b\b\b\b\b\b\b\b\b\b\b\b\b\b\b\b\b\b\b\b\b\b\b\b\b\b\b\b\b\b\b\b\b\b\b\b\b\b\b\b\b\b\b\b\b\b\b\b\b\b\b\b\b\b\b\b\b\b\b\b\b\b\b\b\b\b\b\r32/32 [==============================] - 1s 30ms/step - loss: 0.0434 - accuracy: 0.9970 - val_loss: 0.3942 - val_accuracy: 0.8750\n",
            "Epoch 11/100\n",
            "32/32 [==============================] - 0s 11ms/step - loss: 0.0339 - accuracy: 1.0000 - val_loss: 0.4137 - val_accuracy: 0.8710\n",
            "Epoch 12/100\n",
            "32/32 [==============================] - 0s 10ms/step - loss: 0.0245 - accuracy: 1.0000 - val_loss: 0.4152 - val_accuracy: 0.8710\n",
            "Epoch 13/100\n",
            "32/32 [==============================] - 0s 14ms/step - loss: 0.0194 - accuracy: 1.0000 - val_loss: 0.4153 - val_accuracy: 0.8700\n",
            "Epoch 14/100\n",
            "32/32 [==============================] - 0s 13ms/step - loss: 0.0189 - accuracy: 0.9990 - val_loss: 0.4076 - val_accuracy: 0.8740\n",
            "Epoch 15/100\n",
            "32/32 [==============================] - 0s 11ms/step - loss: 0.0154 - accuracy: 1.0000 - val_loss: 0.4065 - val_accuracy: 0.8790\n",
            "Epoch 16/100\n",
            "32/32 [==============================] - 0s 13ms/step - loss: 0.0123 - accuracy: 1.0000 - val_loss: 0.4265 - val_accuracy: 0.8690\n",
            "Epoch 17/100\n",
            "32/32 [==============================] - 0s 11ms/step - loss: 0.0110 - accuracy: 1.0000 - val_loss: 0.4218 - val_accuracy: 0.8720\n",
            "Epoch 18/100\n",
            "32/32 [==============================] - 0s 13ms/step - loss: 0.0088 - accuracy: 1.0000 - val_loss: 0.4231 - val_accuracy: 0.8730\n",
            "Epoch 19/100\n",
            "32/32 [==============================] - 0s 13ms/step - loss: 0.0089 - accuracy: 1.0000 - val_loss: 0.4296 - val_accuracy: 0.8760\n",
            "Epoch 20/100\n",
            "32/32 [==============================] - 0s 13ms/step - loss: 0.0088 - accuracy: 1.0000 - val_loss: 0.4337 - val_accuracy: 0.8700\n",
            "Epoch 21/100\n",
            "32/32 [==============================] - 0s 15ms/step - loss: 0.0073 - accuracy: 1.0000 - val_loss: 0.4268 - val_accuracy: 0.8740\n",
            "Epoch 22/100\n",
            "32/32 [==============================] - 1s 16ms/step - loss: 0.0063 - accuracy: 1.0000 - val_loss: 0.4376 - val_accuracy: 0.8750\n",
            "Epoch 23/100\n",
            "32/32 [==============================] - 0s 13ms/step - loss: 0.0061 - accuracy: 1.0000 - val_loss: 0.4264 - val_accuracy: 0.8770\n",
            "Epoch 24/100\n",
            "32/32 [==============================] - 0s 13ms/step - loss: 0.0054 - accuracy: 1.0000 - val_loss: 0.4352 - val_accuracy: 0.8730\n",
            "Epoch 25/100\n",
            "32/32 [==============================] - 0s 13ms/step - loss: 0.0047 - accuracy: 1.0000 - val_loss: 0.4463 - val_accuracy: 0.8760\n",
            "Epoch 26/100\n",
            "32/32 [==============================] - 0s 11ms/step - loss: 0.0045 - accuracy: 1.0000 - val_loss: 0.4444 - val_accuracy: 0.8720\n",
            "Epoch 27/100\n",
            "32/32 [==============================] - 0s 13ms/step - loss: 0.0037 - accuracy: 1.0000 - val_loss: 0.4447 - val_accuracy: 0.8750\n",
            "Epoch 28/100\n",
            "32/32 [==============================] - 0s 13ms/step - loss: 0.0036 - accuracy: 1.0000 - val_loss: 0.4542 - val_accuracy: 0.8740\n",
            "Epoch 29/100\n",
            "32/32 [==============================] - 0s 13ms/step - loss: 0.0035 - accuracy: 1.0000 - val_loss: 0.4593 - val_accuracy: 0.8700\n",
            "Epoch 30/100\n",
            "32/32 [==============================] - 0s 13ms/step - loss: 0.0033 - accuracy: 1.0000 - val_loss: 0.4581 - val_accuracy: 0.8760\n",
            "Epoch 31/100\n",
            "32/32 [==============================] - 1s 16ms/step - loss: 0.0030 - accuracy: 1.0000 - val_loss: 0.4633 - val_accuracy: 0.8730\n",
            "Epoch 32/100\n",
            "32/32 [==============================] - 1s 18ms/step - loss: 0.0029 - accuracy: 1.0000 - val_loss: 0.4648 - val_accuracy: 0.8710\n",
            "Epoch 33/100\n",
            "32/32 [==============================] - 1s 17ms/step - loss: 0.0024 - accuracy: 1.0000 - val_loss: 0.4636 - val_accuracy: 0.8750\n",
            "Epoch 34/100\n",
            "32/32 [==============================] - 1s 16ms/step - loss: 0.0027 - accuracy: 1.0000 - val_loss: 0.4584 - val_accuracy: 0.8780\n",
            "Epoch 35/100\n",
            "32/32 [==============================] - 0s 16ms/step - loss: 0.0025 - accuracy: 1.0000 - val_loss: 0.4703 - val_accuracy: 0.8720\n",
            "Epoch 36/100\n",
            "32/32 [==============================] - 1s 17ms/step - loss: 0.0024 - accuracy: 1.0000 - val_loss: 0.4629 - val_accuracy: 0.8800\n",
            "Epoch 37/100\n",
            "32/32 [==============================] - 0s 14ms/step - loss: 0.0021 - accuracy: 1.0000 - val_loss: 0.4728 - val_accuracy: 0.8760\n",
            "Epoch 38/100\n",
            "32/32 [==============================] - 0s 13ms/step - loss: 0.0020 - accuracy: 1.0000 - val_loss: 0.4723 - val_accuracy: 0.8770\n",
            "Epoch 39/100\n",
            "32/32 [==============================] - 0s 13ms/step - loss: 0.0019 - accuracy: 1.0000 - val_loss: 0.4700 - val_accuracy: 0.8790\n",
            "Epoch 40/100\n",
            "32/32 [==============================] - 0s 13ms/step - loss: 0.0021 - accuracy: 1.0000 - val_loss: 0.4702 - val_accuracy: 0.8740\n",
            "Epoch 41/100\n",
            "32/32 [==============================] - 0s 14ms/step - loss: 0.0018 - accuracy: 1.0000 - val_loss: 0.4837 - val_accuracy: 0.8740\n",
            "Epoch 42/100\n",
            "32/32 [==============================] - 1s 16ms/step - loss: 0.0017 - accuracy: 1.0000 - val_loss: 0.4848 - val_accuracy: 0.8720\n",
            "Epoch 43/100\n",
            "32/32 [==============================] - 0s 15ms/step - loss: 0.0015 - accuracy: 1.0000 - val_loss: 0.4761 - val_accuracy: 0.8800\n",
            "Epoch 44/100\n",
            "32/32 [==============================] - 0s 15ms/step - loss: 0.0014 - accuracy: 1.0000 - val_loss: 0.4716 - val_accuracy: 0.8790\n",
            "Epoch 45/100\n",
            "32/32 [==============================] - 0s 11ms/step - loss: 0.0014 - accuracy: 1.0000 - val_loss: 0.4803 - val_accuracy: 0.8810\n",
            "Epoch 46/100\n",
            "32/32 [==============================] - 0s 13ms/step - loss: 0.0014 - accuracy: 1.0000 - val_loss: 0.4869 - val_accuracy: 0.8770\n",
            "Epoch 47/100\n",
            "32/32 [==============================] - 0s 11ms/step - loss: 0.0013 - accuracy: 1.0000 - val_loss: 0.4918 - val_accuracy: 0.8790\n",
            "Epoch 48/100\n",
            "32/32 [==============================] - 1s 17ms/step - loss: 0.0011 - accuracy: 1.0000 - val_loss: 0.4843 - val_accuracy: 0.8790\n",
            "Epoch 49/100\n",
            "32/32 [==============================] - 0s 16ms/step - loss: 0.0010 - accuracy: 1.0000 - val_loss: 0.4887 - val_accuracy: 0.8760\n",
            "Epoch 50/100\n",
            "32/32 [==============================] - 0s 15ms/step - loss: 0.0012 - accuracy: 1.0000 - val_loss: 0.4909 - val_accuracy: 0.8780\n",
            "Epoch 51/100\n",
            "32/32 [==============================] - 0s 15ms/step - loss: 0.0011 - accuracy: 1.0000 - val_loss: 0.4861 - val_accuracy: 0.8770\n",
            "Epoch 52/100\n",
            "32/32 [==============================] - 0s 13ms/step - loss: 9.9607e-04 - accuracy: 1.0000 - val_loss: 0.4907 - val_accuracy: 0.8770\n",
            "Epoch 53/100\n",
            "32/32 [==============================] - 0s 11ms/step - loss: 8.8316e-04 - accuracy: 1.0000 - val_loss: 0.4983 - val_accuracy: 0.8750\n",
            "Epoch 54/100\n",
            "32/32 [==============================] - 0s 13ms/step - loss: 8.4849e-04 - accuracy: 1.0000 - val_loss: 0.4984 - val_accuracy: 0.8750\n",
            "Epoch 55/100\n",
            "32/32 [==============================] - 0s 15ms/step - loss: 8.2168e-04 - accuracy: 1.0000 - val_loss: 0.5003 - val_accuracy: 0.8780\n",
            "Epoch 56/100\n",
            "32/32 [==============================] - 0s 15ms/step - loss: 7.5383e-04 - accuracy: 1.0000 - val_loss: 0.5053 - val_accuracy: 0.8750\n",
            "Epoch 57/100\n",
            "32/32 [==============================] - 0s 15ms/step - loss: 7.7539e-04 - accuracy: 1.0000 - val_loss: 0.4975 - val_accuracy: 0.8800\n",
            "Epoch 58/100\n",
            "32/32 [==============================] - 1s 16ms/step - loss: 8.0662e-04 - accuracy: 1.0000 - val_loss: 0.5004 - val_accuracy: 0.8770\n",
            "Epoch 59/100\n",
            "32/32 [==============================] - 1s 27ms/step - loss: 8.4381e-04 - accuracy: 1.0000 - val_loss: 0.5008 - val_accuracy: 0.8800\n",
            "Epoch 60/100\n",
            "32/32 [==============================] - 1s 17ms/step - loss: 7.7804e-04 - accuracy: 1.0000 - val_loss: 0.5061 - val_accuracy: 0.8740\n",
            "Epoch 61/100\n",
            "32/32 [==============================] - 1s 16ms/step - loss: 8.3153e-04 - accuracy: 1.0000 - val_loss: 0.5082 - val_accuracy: 0.8770\n",
            "Epoch 62/100\n",
            "32/32 [==============================] - 1s 16ms/step - loss: 6.7773e-04 - accuracy: 1.0000 - val_loss: 0.5094 - val_accuracy: 0.8750\n",
            "Epoch 63/100\n",
            "32/32 [==============================] - 0s 12ms/step - loss: 7.6219e-04 - accuracy: 1.0000 - val_loss: 0.5158 - val_accuracy: 0.8740\n",
            "Epoch 64/100\n",
            "32/32 [==============================] - 0s 13ms/step - loss: 5.7310e-04 - accuracy: 1.0000 - val_loss: 0.5086 - val_accuracy: 0.8770\n",
            "Epoch 65/100\n",
            "32/32 [==============================] - 0s 13ms/step - loss: 5.5242e-04 - accuracy: 1.0000 - val_loss: 0.5160 - val_accuracy: 0.8750\n",
            "Epoch 66/100\n",
            "32/32 [==============================] - 0s 11ms/step - loss: 8.4341e-04 - accuracy: 1.0000 - val_loss: 0.5227 - val_accuracy: 0.8750\n",
            "Epoch 67/100\n",
            "32/32 [==============================] - 0s 13ms/step - loss: 7.3035e-04 - accuracy: 1.0000 - val_loss: 0.5091 - val_accuracy: 0.8780\n",
            "Epoch 68/100\n",
            "32/32 [==============================] - 0s 13ms/step - loss: 5.3470e-04 - accuracy: 1.0000 - val_loss: 0.5174 - val_accuracy: 0.8790\n",
            "Epoch 69/100\n",
            "32/32 [==============================] - 1s 17ms/step - loss: 5.2107e-04 - accuracy: 1.0000 - val_loss: 0.5211 - val_accuracy: 0.8780\n",
            "Epoch 70/100\n",
            "32/32 [==============================] - 1s 16ms/step - loss: 4.6728e-04 - accuracy: 1.0000 - val_loss: 0.5196 - val_accuracy: 0.8780\n",
            "Epoch 71/100\n",
            "32/32 [==============================] - 0s 14ms/step - loss: 4.7339e-04 - accuracy: 1.0000 - val_loss: 0.5205 - val_accuracy: 0.8790\n",
            "Epoch 72/100\n",
            "32/32 [==============================] - 0s 13ms/step - loss: 3.9925e-04 - accuracy: 1.0000 - val_loss: 0.5204 - val_accuracy: 0.8800\n",
            "Epoch 73/100\n",
            "32/32 [==============================] - 0s 15ms/step - loss: 4.6331e-04 - accuracy: 1.0000 - val_loss: 0.5179 - val_accuracy: 0.8820\n",
            "Epoch 74/100\n",
            "32/32 [==============================] - 0s 15ms/step - loss: 4.7593e-04 - accuracy: 1.0000 - val_loss: 0.5321 - val_accuracy: 0.8760\n",
            "Epoch 75/100\n",
            "32/32 [==============================] - 0s 15ms/step - loss: 4.2090e-04 - accuracy: 1.0000 - val_loss: 0.5277 - val_accuracy: 0.8770\n",
            "Epoch 76/100\n",
            "32/32 [==============================] - 0s 13ms/step - loss: 5.1946e-04 - accuracy: 1.0000 - val_loss: 0.5390 - val_accuracy: 0.8750\n",
            "Epoch 77/100\n",
            "32/32 [==============================] - 0s 13ms/step - loss: 3.8257e-04 - accuracy: 1.0000 - val_loss: 0.5352 - val_accuracy: 0.8780\n",
            "Epoch 78/100\n",
            "32/32 [==============================] - 0s 14ms/step - loss: 4.2178e-04 - accuracy: 1.0000 - val_loss: 0.5340 - val_accuracy: 0.8770\n",
            "Epoch 79/100\n",
            "32/32 [==============================] - 0s 13ms/step - loss: 3.5081e-04 - accuracy: 1.0000 - val_loss: 0.5311 - val_accuracy: 0.8750\n",
            "Epoch 80/100\n",
            "32/32 [==============================] - 0s 16ms/step - loss: 4.1556e-04 - accuracy: 1.0000 - val_loss: 0.5388 - val_accuracy: 0.8770\n",
            "Epoch 81/100\n",
            "32/32 [==============================] - 1s 17ms/step - loss: 3.8839e-04 - accuracy: 1.0000 - val_loss: 0.5390 - val_accuracy: 0.8770\n",
            "Epoch 82/100\n",
            "32/32 [==============================] - 1s 17ms/step - loss: 3.7192e-04 - accuracy: 1.0000 - val_loss: 0.5341 - val_accuracy: 0.8780\n",
            "Epoch 83/100\n",
            "32/32 [==============================] - 0s 15ms/step - loss: 3.4102e-04 - accuracy: 1.0000 - val_loss: 0.5380 - val_accuracy: 0.8770\n",
            "Epoch 84/100\n",
            "32/32 [==============================] - 0s 16ms/step - loss: 3.2286e-04 - accuracy: 1.0000 - val_loss: 0.5403 - val_accuracy: 0.8770\n",
            "Epoch 85/100\n",
            "32/32 [==============================] - 1s 27ms/step - loss: 2.9274e-04 - accuracy: 1.0000 - val_loss: 0.5379 - val_accuracy: 0.8770\n",
            "Epoch 86/100\n",
            "32/32 [==============================] - 1s 25ms/step - loss: 4.1020e-04 - accuracy: 1.0000 - val_loss: 0.5245 - val_accuracy: 0.8780\n",
            "Epoch 87/100\n",
            "32/32 [==============================] - 1s 26ms/step - loss: 3.6854e-04 - accuracy: 1.0000 - val_loss: 0.5302 - val_accuracy: 0.8780\n",
            "Epoch 88/100\n",
            "32/32 [==============================] - 0s 13ms/step - loss: 3.1322e-04 - accuracy: 1.0000 - val_loss: 0.5306 - val_accuracy: 0.8820\n",
            "Epoch 89/100\n",
            "32/32 [==============================] - 0s 14ms/step - loss: 2.6287e-04 - accuracy: 1.0000 - val_loss: 0.5320 - val_accuracy: 0.8800\n",
            "Epoch 90/100\n",
            "32/32 [==============================] - 0s 13ms/step - loss: 3.1958e-04 - accuracy: 1.0000 - val_loss: 0.5387 - val_accuracy: 0.8790\n",
            "Epoch 91/100\n",
            "32/32 [==============================] - 1s 16ms/step - loss: 2.8825e-04 - accuracy: 1.0000 - val_loss: 0.5366 - val_accuracy: 0.8800\n",
            "Epoch 92/100\n",
            "28/32 [=========================>....] - ETA: 0s - loss: 2.4203e-04 - accuracy: 1.0000"
          ]
        },
        {
          "output_type": "error",
          "ename": "KeyboardInterrupt",
          "evalue": "ignored",
          "traceback": [
            "\u001b[0;31m---------------------------------------------------------------------------\u001b[0m",
            "\u001b[0;31mKeyboardInterrupt\u001b[0m                         Traceback (most recent call last)",
            "\u001b[0;32m<ipython-input-35-76927fab5b13>\u001b[0m in \u001b[0;36m<module>\u001b[0;34m\u001b[0m\n\u001b[0;32m----> 1\u001b[0;31m model.fit(train_images, \n\u001b[0m\u001b[1;32m      2\u001b[0m           \u001b[0mtrain_labels\u001b[0m\u001b[0;34m,\u001b[0m\u001b[0;34m\u001b[0m\u001b[0;34m\u001b[0m\u001b[0m\n\u001b[1;32m      3\u001b[0m           \u001b[0mepochs\u001b[0m\u001b[0;34m=\u001b[0m\u001b[0;36m100\u001b[0m\u001b[0;34m,\u001b[0m\u001b[0;34m\u001b[0m\u001b[0;34m\u001b[0m\u001b[0m\n\u001b[1;32m      4\u001b[0m           \u001b[0mcallbacks\u001b[0m\u001b[0;34m=\u001b[0m\u001b[0;34m[\u001b[0m\u001b[0mcp_callback\u001b[0m\u001b[0;34m]\u001b[0m\u001b[0;34m,\u001b[0m \u001b[0;31m# 체크포인트 부여\u001b[0m\u001b[0;34m\u001b[0m\u001b[0;34m\u001b[0m\u001b[0m\n\u001b[1;32m      5\u001b[0m           \u001b[0mvalidation_data\u001b[0m\u001b[0;34m=\u001b[0m\u001b[0;34m(\u001b[0m\u001b[0mtest_images\u001b[0m\u001b[0;34m,\u001b[0m\u001b[0mtest_labels\u001b[0m\u001b[0;34m)\u001b[0m\u001b[0;34m,\u001b[0m\u001b[0;34m\u001b[0m\u001b[0;34m\u001b[0m\u001b[0m\n",
            "\u001b[0;32m/usr/local/lib/python3.9/dist-packages/keras/utils/traceback_utils.py\u001b[0m in \u001b[0;36merror_handler\u001b[0;34m(*args, **kwargs)\u001b[0m\n\u001b[1;32m     63\u001b[0m         \u001b[0mfiltered_tb\u001b[0m \u001b[0;34m=\u001b[0m \u001b[0;32mNone\u001b[0m\u001b[0;34m\u001b[0m\u001b[0;34m\u001b[0m\u001b[0m\n\u001b[1;32m     64\u001b[0m         \u001b[0;32mtry\u001b[0m\u001b[0;34m:\u001b[0m\u001b[0;34m\u001b[0m\u001b[0;34m\u001b[0m\u001b[0m\n\u001b[0;32m---> 65\u001b[0;31m             \u001b[0;32mreturn\u001b[0m \u001b[0mfn\u001b[0m\u001b[0;34m(\u001b[0m\u001b[0;34m*\u001b[0m\u001b[0margs\u001b[0m\u001b[0;34m,\u001b[0m \u001b[0;34m**\u001b[0m\u001b[0mkwargs\u001b[0m\u001b[0;34m)\u001b[0m\u001b[0;34m\u001b[0m\u001b[0;34m\u001b[0m\u001b[0m\n\u001b[0m\u001b[1;32m     66\u001b[0m         \u001b[0;32mexcept\u001b[0m \u001b[0mException\u001b[0m \u001b[0;32mas\u001b[0m \u001b[0me\u001b[0m\u001b[0;34m:\u001b[0m\u001b[0;34m\u001b[0m\u001b[0;34m\u001b[0m\u001b[0m\n\u001b[1;32m     67\u001b[0m             \u001b[0mfiltered_tb\u001b[0m \u001b[0;34m=\u001b[0m \u001b[0m_process_traceback_frames\u001b[0m\u001b[0;34m(\u001b[0m\u001b[0me\u001b[0m\u001b[0;34m.\u001b[0m\u001b[0m__traceback__\u001b[0m\u001b[0;34m)\u001b[0m\u001b[0;34m\u001b[0m\u001b[0;34m\u001b[0m\u001b[0m\n",
            "\u001b[0;32m/usr/local/lib/python3.9/dist-packages/keras/engine/training.py\u001b[0m in \u001b[0;36mfit\u001b[0;34m(self, x, y, batch_size, epochs, verbose, callbacks, validation_split, validation_data, shuffle, class_weight, sample_weight, initial_epoch, steps_per_epoch, validation_steps, validation_batch_size, validation_freq, max_queue_size, workers, use_multiprocessing)\u001b[0m\n\u001b[1;32m   1692\u001b[0m                             \u001b[0msteps_per_execution\u001b[0m\u001b[0;34m=\u001b[0m\u001b[0mself\u001b[0m\u001b[0;34m.\u001b[0m\u001b[0m_steps_per_execution\u001b[0m\u001b[0;34m,\u001b[0m\u001b[0;34m\u001b[0m\u001b[0;34m\u001b[0m\u001b[0m\n\u001b[1;32m   1693\u001b[0m                         )\n\u001b[0;32m-> 1694\u001b[0;31m                     val_logs = self.evaluate(\n\u001b[0m\u001b[1;32m   1695\u001b[0m                         \u001b[0mx\u001b[0m\u001b[0;34m=\u001b[0m\u001b[0mval_x\u001b[0m\u001b[0;34m,\u001b[0m\u001b[0;34m\u001b[0m\u001b[0;34m\u001b[0m\u001b[0m\n\u001b[1;32m   1696\u001b[0m                         \u001b[0my\u001b[0m\u001b[0;34m=\u001b[0m\u001b[0mval_y\u001b[0m\u001b[0;34m,\u001b[0m\u001b[0;34m\u001b[0m\u001b[0;34m\u001b[0m\u001b[0m\n",
            "\u001b[0;32m/usr/local/lib/python3.9/dist-packages/keras/utils/traceback_utils.py\u001b[0m in \u001b[0;36merror_handler\u001b[0;34m(*args, **kwargs)\u001b[0m\n\u001b[1;32m     63\u001b[0m         \u001b[0mfiltered_tb\u001b[0m \u001b[0;34m=\u001b[0m \u001b[0;32mNone\u001b[0m\u001b[0;34m\u001b[0m\u001b[0;34m\u001b[0m\u001b[0m\n\u001b[1;32m     64\u001b[0m         \u001b[0;32mtry\u001b[0m\u001b[0;34m:\u001b[0m\u001b[0;34m\u001b[0m\u001b[0;34m\u001b[0m\u001b[0m\n\u001b[0;32m---> 65\u001b[0;31m             \u001b[0;32mreturn\u001b[0m \u001b[0mfn\u001b[0m\u001b[0;34m(\u001b[0m\u001b[0;34m*\u001b[0m\u001b[0margs\u001b[0m\u001b[0;34m,\u001b[0m \u001b[0;34m**\u001b[0m\u001b[0mkwargs\u001b[0m\u001b[0;34m)\u001b[0m\u001b[0;34m\u001b[0m\u001b[0;34m\u001b[0m\u001b[0m\n\u001b[0m\u001b[1;32m     66\u001b[0m         \u001b[0;32mexcept\u001b[0m \u001b[0mException\u001b[0m \u001b[0;32mas\u001b[0m \u001b[0me\u001b[0m\u001b[0;34m:\u001b[0m\u001b[0;34m\u001b[0m\u001b[0;34m\u001b[0m\u001b[0m\n\u001b[1;32m     67\u001b[0m             \u001b[0mfiltered_tb\u001b[0m \u001b[0;34m=\u001b[0m \u001b[0m_process_traceback_frames\u001b[0m\u001b[0;34m(\u001b[0m\u001b[0me\u001b[0m\u001b[0;34m.\u001b[0m\u001b[0m__traceback__\u001b[0m\u001b[0;34m)\u001b[0m\u001b[0;34m\u001b[0m\u001b[0;34m\u001b[0m\u001b[0m\n",
            "\u001b[0;32m/usr/local/lib/python3.9/dist-packages/keras/engine/training.py\u001b[0m in \u001b[0;36mevaluate\u001b[0;34m(self, x, y, batch_size, verbose, sample_weight, steps, callbacks, max_queue_size, workers, use_multiprocessing, return_dict, **kwargs)\u001b[0m\n\u001b[1;32m   2038\u001b[0m                         ):\n\u001b[1;32m   2039\u001b[0m                             \u001b[0mcallbacks\u001b[0m\u001b[0;34m.\u001b[0m\u001b[0mon_test_batch_begin\u001b[0m\u001b[0;34m(\u001b[0m\u001b[0mstep\u001b[0m\u001b[0;34m)\u001b[0m\u001b[0;34m\u001b[0m\u001b[0;34m\u001b[0m\u001b[0m\n\u001b[0;32m-> 2040\u001b[0;31m                             \u001b[0mtmp_logs\u001b[0m \u001b[0;34m=\u001b[0m \u001b[0mself\u001b[0m\u001b[0;34m.\u001b[0m\u001b[0mtest_function\u001b[0m\u001b[0;34m(\u001b[0m\u001b[0miterator\u001b[0m\u001b[0;34m)\u001b[0m\u001b[0;34m\u001b[0m\u001b[0;34m\u001b[0m\u001b[0m\n\u001b[0m\u001b[1;32m   2041\u001b[0m                             \u001b[0;32mif\u001b[0m \u001b[0mdata_handler\u001b[0m\u001b[0;34m.\u001b[0m\u001b[0mshould_sync\u001b[0m\u001b[0;34m:\u001b[0m\u001b[0;34m\u001b[0m\u001b[0;34m\u001b[0m\u001b[0m\n\u001b[1;32m   2042\u001b[0m                                 \u001b[0mcontext\u001b[0m\u001b[0;34m.\u001b[0m\u001b[0masync_wait\u001b[0m\u001b[0;34m(\u001b[0m\u001b[0;34m)\u001b[0m\u001b[0;34m\u001b[0m\u001b[0;34m\u001b[0m\u001b[0m\n",
            "\u001b[0;32m/usr/local/lib/python3.9/dist-packages/tensorflow/python/util/traceback_utils.py\u001b[0m in \u001b[0;36merror_handler\u001b[0;34m(*args, **kwargs)\u001b[0m\n\u001b[1;32m    148\u001b[0m     \u001b[0mfiltered_tb\u001b[0m \u001b[0;34m=\u001b[0m \u001b[0;32mNone\u001b[0m\u001b[0;34m\u001b[0m\u001b[0;34m\u001b[0m\u001b[0m\n\u001b[1;32m    149\u001b[0m     \u001b[0;32mtry\u001b[0m\u001b[0;34m:\u001b[0m\u001b[0;34m\u001b[0m\u001b[0;34m\u001b[0m\u001b[0m\n\u001b[0;32m--> 150\u001b[0;31m       \u001b[0;32mreturn\u001b[0m \u001b[0mfn\u001b[0m\u001b[0;34m(\u001b[0m\u001b[0;34m*\u001b[0m\u001b[0margs\u001b[0m\u001b[0;34m,\u001b[0m \u001b[0;34m**\u001b[0m\u001b[0mkwargs\u001b[0m\u001b[0;34m)\u001b[0m\u001b[0;34m\u001b[0m\u001b[0;34m\u001b[0m\u001b[0m\n\u001b[0m\u001b[1;32m    151\u001b[0m     \u001b[0;32mexcept\u001b[0m \u001b[0mException\u001b[0m \u001b[0;32mas\u001b[0m \u001b[0me\u001b[0m\u001b[0;34m:\u001b[0m\u001b[0;34m\u001b[0m\u001b[0;34m\u001b[0m\u001b[0m\n\u001b[1;32m    152\u001b[0m       \u001b[0mfiltered_tb\u001b[0m \u001b[0;34m=\u001b[0m \u001b[0m_process_traceback_frames\u001b[0m\u001b[0;34m(\u001b[0m\u001b[0me\u001b[0m\u001b[0;34m.\u001b[0m\u001b[0m__traceback__\u001b[0m\u001b[0;34m)\u001b[0m\u001b[0;34m\u001b[0m\u001b[0;34m\u001b[0m\u001b[0m\n",
            "\u001b[0;32m/usr/local/lib/python3.9/dist-packages/tensorflow/python/eager/polymorphic_function/polymorphic_function.py\u001b[0m in \u001b[0;36m__call__\u001b[0;34m(self, *args, **kwds)\u001b[0m\n\u001b[1;32m    878\u001b[0m \u001b[0;34m\u001b[0m\u001b[0m\n\u001b[1;32m    879\u001b[0m       \u001b[0;32mwith\u001b[0m \u001b[0mOptionalXlaContext\u001b[0m\u001b[0;34m(\u001b[0m\u001b[0mself\u001b[0m\u001b[0;34m.\u001b[0m\u001b[0m_jit_compile\u001b[0m\u001b[0;34m)\u001b[0m\u001b[0;34m:\u001b[0m\u001b[0;34m\u001b[0m\u001b[0;34m\u001b[0m\u001b[0m\n\u001b[0;32m--> 880\u001b[0;31m         \u001b[0mresult\u001b[0m \u001b[0;34m=\u001b[0m \u001b[0mself\u001b[0m\u001b[0;34m.\u001b[0m\u001b[0m_call\u001b[0m\u001b[0;34m(\u001b[0m\u001b[0;34m*\u001b[0m\u001b[0margs\u001b[0m\u001b[0;34m,\u001b[0m \u001b[0;34m**\u001b[0m\u001b[0mkwds\u001b[0m\u001b[0;34m)\u001b[0m\u001b[0;34m\u001b[0m\u001b[0;34m\u001b[0m\u001b[0m\n\u001b[0m\u001b[1;32m    881\u001b[0m \u001b[0;34m\u001b[0m\u001b[0m\n\u001b[1;32m    882\u001b[0m       \u001b[0mnew_tracing_count\u001b[0m \u001b[0;34m=\u001b[0m \u001b[0mself\u001b[0m\u001b[0;34m.\u001b[0m\u001b[0mexperimental_get_tracing_count\u001b[0m\u001b[0;34m(\u001b[0m\u001b[0;34m)\u001b[0m\u001b[0;34m\u001b[0m\u001b[0;34m\u001b[0m\u001b[0m\n",
            "\u001b[0;32m/usr/local/lib/python3.9/dist-packages/tensorflow/python/eager/polymorphic_function/polymorphic_function.py\u001b[0m in \u001b[0;36m_call\u001b[0;34m(self, *args, **kwds)\u001b[0m\n\u001b[1;32m    917\u001b[0m       \u001b[0;31m# In this case we have not created variables on the first call. So we can\u001b[0m\u001b[0;34m\u001b[0m\u001b[0;34m\u001b[0m\u001b[0m\n\u001b[1;32m    918\u001b[0m       \u001b[0;31m# run the first trace but we should fail if variables are created.\u001b[0m\u001b[0;34m\u001b[0m\u001b[0;34m\u001b[0m\u001b[0m\n\u001b[0;32m--> 919\u001b[0;31m       \u001b[0mresults\u001b[0m \u001b[0;34m=\u001b[0m \u001b[0mself\u001b[0m\u001b[0;34m.\u001b[0m\u001b[0m_variable_creation_fn\u001b[0m\u001b[0;34m(\u001b[0m\u001b[0;34m*\u001b[0m\u001b[0margs\u001b[0m\u001b[0;34m,\u001b[0m \u001b[0;34m**\u001b[0m\u001b[0mkwds\u001b[0m\u001b[0;34m)\u001b[0m\u001b[0;34m\u001b[0m\u001b[0;34m\u001b[0m\u001b[0m\n\u001b[0m\u001b[1;32m    920\u001b[0m       \u001b[0;32mif\u001b[0m \u001b[0mself\u001b[0m\u001b[0;34m.\u001b[0m\u001b[0m_created_variables\u001b[0m \u001b[0;32mand\u001b[0m \u001b[0;32mnot\u001b[0m \u001b[0mALLOW_DYNAMIC_VARIABLE_CREATION\u001b[0m\u001b[0;34m:\u001b[0m\u001b[0;34m\u001b[0m\u001b[0;34m\u001b[0m\u001b[0m\n\u001b[1;32m    921\u001b[0m         raise ValueError(\"Creating variables on a non-first call to a function\"\n",
            "\u001b[0;32m/usr/local/lib/python3.9/dist-packages/tensorflow/python/eager/polymorphic_function/tracing_compiler.py\u001b[0m in \u001b[0;36m__call__\u001b[0;34m(self, *args, **kwargs)\u001b[0m\n\u001b[1;32m    132\u001b[0m       (concrete_function,\n\u001b[1;32m    133\u001b[0m        filtered_flat_args) = self._maybe_define_function(args, kwargs)\n\u001b[0;32m--> 134\u001b[0;31m     return concrete_function._call_flat(\n\u001b[0m\u001b[1;32m    135\u001b[0m         filtered_flat_args, captured_inputs=concrete_function.captured_inputs)  # pylint: disable=protected-access\n\u001b[1;32m    136\u001b[0m \u001b[0;34m\u001b[0m\u001b[0m\n",
            "\u001b[0;32m/usr/local/lib/python3.9/dist-packages/tensorflow/python/eager/polymorphic_function/monomorphic_function.py\u001b[0m in \u001b[0;36m_call_flat\u001b[0;34m(self, args, captured_inputs, cancellation_manager)\u001b[0m\n\u001b[1;32m   1743\u001b[0m         and executing_eagerly):\n\u001b[1;32m   1744\u001b[0m       \u001b[0;31m# No tape is watching; skip to running the function.\u001b[0m\u001b[0;34m\u001b[0m\u001b[0;34m\u001b[0m\u001b[0m\n\u001b[0;32m-> 1745\u001b[0;31m       return self._build_call_outputs(self._inference_function.call(\n\u001b[0m\u001b[1;32m   1746\u001b[0m           ctx, args, cancellation_manager=cancellation_manager))\n\u001b[1;32m   1747\u001b[0m     forward_backward = self._select_forward_and_backward_functions(\n",
            "\u001b[0;32m/usr/local/lib/python3.9/dist-packages/tensorflow/python/eager/polymorphic_function/monomorphic_function.py\u001b[0m in \u001b[0;36mcall\u001b[0;34m(self, ctx, args, cancellation_manager)\u001b[0m\n\u001b[1;32m    376\u001b[0m       \u001b[0;32mwith\u001b[0m \u001b[0m_InterpolateFunctionError\u001b[0m\u001b[0;34m(\u001b[0m\u001b[0mself\u001b[0m\u001b[0;34m)\u001b[0m\u001b[0;34m:\u001b[0m\u001b[0;34m\u001b[0m\u001b[0;34m\u001b[0m\u001b[0m\n\u001b[1;32m    377\u001b[0m         \u001b[0;32mif\u001b[0m \u001b[0mcancellation_manager\u001b[0m \u001b[0;32mis\u001b[0m \u001b[0;32mNone\u001b[0m\u001b[0;34m:\u001b[0m\u001b[0;34m\u001b[0m\u001b[0;34m\u001b[0m\u001b[0m\n\u001b[0;32m--> 378\u001b[0;31m           outputs = execute.execute(\n\u001b[0m\u001b[1;32m    379\u001b[0m               \u001b[0mstr\u001b[0m\u001b[0;34m(\u001b[0m\u001b[0mself\u001b[0m\u001b[0;34m.\u001b[0m\u001b[0msignature\u001b[0m\u001b[0;34m.\u001b[0m\u001b[0mname\u001b[0m\u001b[0;34m)\u001b[0m\u001b[0;34m,\u001b[0m\u001b[0;34m\u001b[0m\u001b[0;34m\u001b[0m\u001b[0m\n\u001b[1;32m    380\u001b[0m               \u001b[0mnum_outputs\u001b[0m\u001b[0;34m=\u001b[0m\u001b[0mself\u001b[0m\u001b[0;34m.\u001b[0m\u001b[0m_num_outputs\u001b[0m\u001b[0;34m,\u001b[0m\u001b[0;34m\u001b[0m\u001b[0;34m\u001b[0m\u001b[0m\n",
            "\u001b[0;32m/usr/local/lib/python3.9/dist-packages/tensorflow/python/eager/execute.py\u001b[0m in \u001b[0;36mquick_execute\u001b[0;34m(op_name, num_outputs, inputs, attrs, ctx, name)\u001b[0m\n\u001b[1;32m     50\u001b[0m   \u001b[0;32mtry\u001b[0m\u001b[0;34m:\u001b[0m\u001b[0;34m\u001b[0m\u001b[0;34m\u001b[0m\u001b[0m\n\u001b[1;32m     51\u001b[0m     \u001b[0mctx\u001b[0m\u001b[0;34m.\u001b[0m\u001b[0mensure_initialized\u001b[0m\u001b[0;34m(\u001b[0m\u001b[0;34m)\u001b[0m\u001b[0;34m\u001b[0m\u001b[0;34m\u001b[0m\u001b[0m\n\u001b[0;32m---> 52\u001b[0;31m     tensors = pywrap_tfe.TFE_Py_Execute(ctx._handle, device_name, op_name,\n\u001b[0m\u001b[1;32m     53\u001b[0m                                         inputs, attrs, num_outputs)\n\u001b[1;32m     54\u001b[0m   \u001b[0;32mexcept\u001b[0m \u001b[0mcore\u001b[0m\u001b[0;34m.\u001b[0m\u001b[0m_NotOkStatusException\u001b[0m \u001b[0;32mas\u001b[0m \u001b[0me\u001b[0m\u001b[0;34m:\u001b[0m\u001b[0;34m\u001b[0m\u001b[0;34m\u001b[0m\u001b[0m\n",
            "\u001b[0;31mKeyboardInterrupt\u001b[0m: "
          ]
        }
      ]
    },
    {
      "cell_type": "markdown",
      "source": [
        "### SavedModel(pb)\n",
        "SavedModel 형식은 protobuf 바이너리와 TensorFlow 체크포인트를 포함"
      ],
      "metadata": {
        "id": "hdrCIPao8ZhI"
      }
    },
    {
      "cell_type": "code",
      "source": [
        "# 새로운 모델 객체를 만들고 훈련합니다\n",
        "model = create_model()\n",
        "model.fit(train_images, train_labels, epochs=5)\n",
        "\n",
        "# SavedModel로 전체 모델을 저장합니다\n",
        "!mkdir -p saved_model # 폴더를 만들어주는 명령어\n",
        "model.save('saved_model/my_model')"
      ],
      "metadata": {
        "colab": {
          "base_uri": "https://localhost:8080/"
        },
        "id": "i1RF2ZDz7n1m",
        "outputId": "44eba96a-1ed8-4490-c3da-bc93282d9dc0"
      },
      "execution_count": null,
      "outputs": [
        {
          "output_type": "stream",
          "name": "stdout",
          "text": [
            "Epoch 1/5\n",
            "32/32 [==============================] - 1s 8ms/step - loss: 1.1501 - accuracy: 0.6600\n",
            "Epoch 2/5\n",
            "32/32 [==============================] - 0s 8ms/step - loss: 0.4241 - accuracy: 0.8760\n",
            "Epoch 3/5\n",
            "32/32 [==============================] - 0s 8ms/step - loss: 0.2846 - accuracy: 0.9200\n",
            "Epoch 4/5\n",
            "32/32 [==============================] - 0s 11ms/step - loss: 0.2242 - accuracy: 0.9480\n",
            "Epoch 5/5\n",
            "32/32 [==============================] - 0s 8ms/step - loss: 0.1560 - accuracy: 0.9670\n"
          ]
        },
        {
          "output_type": "stream",
          "name": "stderr",
          "text": [
            "WARNING:absl:Found untraced functions such as _update_step_xla while saving (showing 1 of 1). These functions will not be directly callable after loading.\n"
          ]
        }
      ]
    },
    {
      "cell_type": "code",
      "source": [
        "# my_model 디렉토리\n",
        "!ls saved_model"
      ],
      "metadata": {
        "colab": {
          "base_uri": "https://localhost:8080/"
        },
        "id": "w-bavqEz8dkv",
        "outputId": "2724f9b3-2db1-4a96-a49c-5c48c4cf1360"
      },
      "execution_count": null,
      "outputs": [
        {
          "output_type": "stream",
          "name": "stdout",
          "text": [
            "my_model\n"
          ]
        }
      ]
    },
    {
      "cell_type": "code",
      "source": [
        "# assests 폴더, saved_model.pb, variables 폴더\n",
        "!ls saved_model/my_model"
      ],
      "metadata": {
        "colab": {
          "base_uri": "https://localhost:8080/"
        },
        "id": "a0zNPirs7-N2",
        "outputId": "cf548c5e-606c-4a6a-8b72-b20fc6f7f720"
      },
      "execution_count": null,
      "outputs": [
        {
          "output_type": "stream",
          "name": "stdout",
          "text": [
            "assets\tkeras_metadata.pb  saved_model.pb  variables\n"
          ]
        }
      ]
    },
    {
      "cell_type": "code",
      "source": [
        "# pd파일 폴더에서 바로 모델을 불러올 수 있습니다(레이어까지 저장되어 있기 때문에)\n",
        "new_model = tf.keras.models.load_model('saved_model/my_model')\n",
        "\n",
        "# 모델 구조를 확인합니다\n",
        "new_model.summary()"
      ],
      "metadata": {
        "colab": {
          "base_uri": "https://localhost:8080/"
        },
        "id": "FF950ha68bpY",
        "outputId": "1d9f30f1-d7ed-4bcd-91a7-f09a33d8674d"
      },
      "execution_count": null,
      "outputs": [
        {
          "output_type": "stream",
          "name": "stdout",
          "text": [
            "Model: \"sequential_5\"\n",
            "_________________________________________________________________\n",
            " Layer (type)                Output Shape              Param #   \n",
            "=================================================================\n",
            " dense_10 (Dense)            (None, 512)               401920    \n",
            "                                                                 \n",
            " dropout_5 (Dropout)         (None, 512)               0         \n",
            "                                                                 \n",
            " dense_11 (Dense)            (None, 10)                5130      \n",
            "                                                                 \n",
            "=================================================================\n",
            "Total params: 407,050\n",
            "Trainable params: 407,050\n",
            "Non-trainable params: 0\n",
            "_________________________________________________________________\n"
          ]
        }
      ]
    },
    {
      "cell_type": "markdown",
      "source": [
        "복원된 모델은 원본 모델과 동일한 매개변수로 컴파일되어 있습니다. 이 모델을 평가하고 예측에 사용해 보죠:"
      ],
      "metadata": {
        "id": "a4AhWFw48w7D"
      }
    },
    {
      "cell_type": "code",
      "source": [
        "# 복원된 모델을 평가합니다\n",
        "loss, acc = new_model.evaluate(test_images,  test_labels, verbose=2)\n",
        "print('복원된 모델의 정확도: {:5.2f}%'.format(100*acc))\n",
        "\n",
        "print(new_model.predict(test_images).shape)"
      ],
      "metadata": {
        "colab": {
          "base_uri": "https://localhost:8080/"
        },
        "id": "BWhfDOmP8i_9",
        "outputId": "76d37509-55d9-46a3-a47f-8cb8e2d3c2cc"
      },
      "execution_count": null,
      "outputs": [
        {
          "output_type": "stream",
          "name": "stdout",
          "text": [
            "32/32 - 0s - loss: 0.4360 - accuracy: 0.8580 - 230ms/epoch - 7ms/step\n",
            "복원된 모델의 정확도: 85.80%\n",
            "32/32 [==============================] - 0s 3ms/step\n",
            "(1000, 10)\n"
          ]
        }
      ]
    },
    {
      "cell_type": "markdown",
      "source": [
        "### HDF5 파일로 저장하기\n",
        "케라스는 HDF5 표준을 따르는 기본 저장 포맷을 제공합니다."
      ],
      "metadata": {
        "id": "4xWv0B1B8yuz"
      }
    },
    {
      "cell_type": "code",
      "source": [
        "# 새로운 모델 객체를 만들고 훈련합니다\n",
        "model = create_model()\n",
        "model.fit(train_images, train_labels, epochs=5)\n",
        "\n",
        "# 전체 모델을 HDF5 파일로 저장합니다\n",
        "# '.h5' 확장자는 이 모델이 HDF5로 저장되었다는 것을 나타냅니다\n",
        "model.save('my_model.h5')"
      ],
      "metadata": {
        "colab": {
          "base_uri": "https://localhost:8080/"
        },
        "id": "GJhyLprL828I",
        "outputId": "9e37ed2b-5bc3-4997-ad56-46895361cb65"
      },
      "execution_count": null,
      "outputs": [
        {
          "output_type": "stream",
          "name": "stdout",
          "text": [
            "Epoch 1/5\n",
            "32/32 [==============================] - 1s 7ms/step - loss: 1.1547 - accuracy: 0.6590\n",
            "Epoch 2/5\n",
            "32/32 [==============================] - 0s 6ms/step - loss: 0.4200 - accuracy: 0.8900\n",
            "Epoch 3/5\n",
            "32/32 [==============================] - 0s 6ms/step - loss: 0.2866 - accuracy: 0.9280\n",
            "Epoch 4/5\n",
            "32/32 [==============================] - 0s 6ms/step - loss: 0.2021 - accuracy: 0.9490\n",
            "Epoch 5/5\n",
            "32/32 [==============================] - 0s 6ms/step - loss: 0.1626 - accuracy: 0.9630\n"
          ]
        }
      ]
    },
    {
      "cell_type": "markdown",
      "source": [
        "### h5 VS pb\n",
        "- 공통점 : 레이어 & 가중치 모두 저장\n",
        "- 차이점  \n",
        "1) HDF5 : 객체 구성을 사용하여 모델 아키텍처를 저장  \n",
        "2) SavedModel : 실행 그래프를 저장. 원본 코드 없이도 사용자 지정 객체를 저장 가능"
      ],
      "metadata": {
        "id": "l9wUm_X7AQq3"
      }
    },
    {
      "cell_type": "markdown",
      "source": [
        "#### h5 to pb 변환하기"
      ],
      "metadata": {
        "id": "P8T3vJ_HBfNG"
      }
    },
    {
      "cell_type": "code",
      "source": [
        "!mkdir converted"
      ],
      "metadata": {
        "id": "tDjCli6C_VFH"
      },
      "execution_count": null,
      "outputs": []
    },
    {
      "cell_type": "code",
      "source": [
        "model = tf.keras.models.load_model('my_model.h5')"
      ],
      "metadata": {
        "id": "f6dLaAWE_cTa"
      },
      "execution_count": null,
      "outputs": []
    },
    {
      "cell_type": "code",
      "source": [
        "export_path = 'converted'\n",
        "# save_format=\"tf\" 는 tensorflow 형식으로 변경하겠다 = pb파일로 변경하겠다\n",
        "model.save(export_path, save_format=\"tf\")"
      ],
      "metadata": {
        "id": "N2TPwN9U-C5V",
        "colab": {
          "base_uri": "https://localhost:8080/"
        },
        "outputId": "2d367c7d-15aa-40d2-f24e-57fa31439262"
      },
      "execution_count": null,
      "outputs": [
        {
          "output_type": "stream",
          "name": "stderr",
          "text": [
            "WARNING:absl:Found untraced functions such as _update_step_xla while saving (showing 1 of 1). These functions will not be directly callable after loading.\n"
          ]
        }
      ]
    },
    {
      "cell_type": "code",
      "source": [],
      "metadata": {
        "id": "9CLgeVKh1acG"
      },
      "execution_count": null,
      "outputs": []
    }
  ]
}
