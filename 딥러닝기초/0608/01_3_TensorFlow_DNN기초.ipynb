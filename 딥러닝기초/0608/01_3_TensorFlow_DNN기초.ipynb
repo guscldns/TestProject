{
  "nbformat": 4,
  "nbformat_minor": 0,
  "metadata": {
    "colab": {
      "provenance": [],
      "toc_visible": true,
      "include_colab_link": true
    },
    "kernelspec": {
      "name": "python3",
      "display_name": "Python 3"
    },
    "language_info": {
      "name": "python"
    },
    "accelerator": "GPU",
    "gpuClass": "standard"
  },
  "cells": [
    {
      "cell_type": "markdown",
      "metadata": {
        "id": "view-in-github",
        "colab_type": "text"
      },
      "source": [
        "<a href=\"https://colab.research.google.com/github/guscldns/TestProject/blob/main/0608/0608_01_3_TensorFlow_DNN%EA%B8%B0%EC%B4%88.ipynb\" target=\"_parent\"><img src=\"https://colab.research.google.com/assets/colab-badge.svg\" alt=\"Open In Colab\"/></a>"
      ]
    },
    {
      "cell_type": "markdown",
      "source": [
        "### tensorflow / Keras의 ver.2 사용\n",
        "ver.1의 코드는 ver.2의 코드로 업데이트 해야 사용이 가능하다"
      ],
      "metadata": {
        "id": "gQC1zyKvNIGq"
      }
    },
    {
      "cell_type": "code",
      "execution_count": null,
      "metadata": {
        "id": "e5RFlBXXmIn_"
      },
      "outputs": [],
      "source": [
        "import tensorflow as tf \n",
        "import numpy as np \n",
        "import pandas as pd \n",
        "from sklearn.datasets import make_classification, make_circles\n",
        "from sklearn.model_selection import train_test_split"
      ]
    },
    {
      "cell_type": "markdown",
      "source": [
        "## 간단한 인공신경망 만들기"
      ],
      "metadata": {
        "id": "jWvx9WuQmvP2"
      }
    },
    {
      "cell_type": "code",
      "source": [
        "x = tf.constant([[1.,2.,3.]])\n",
        "perceptron = tf.keras.layers.Dense(1) \n",
        "# 레이어(층) 1개 생성, 0에서 1사이의 임의 값이 들어간다\n",
        "# Dense : 퍼셉트론이 들어가있는 층, 퍼셉트론 개수는 숫자, 활성화 함수는 정해줄 수 있다"
      ],
      "metadata": {
        "id": "mBFRMqAaOF9S"
      },
      "execution_count": null,
      "outputs": []
    },
    {
      "cell_type": "code",
      "source": [
        "perceptron(x)\n",
        "# x랑 weight랑 곱한 값 >> numpy=array([[4.344655]]"
      ],
      "metadata": {
        "colab": {
          "base_uri": "https://localhost:8080/"
        },
        "id": "_ix3KycwOF63",
        "outputId": "f8f6a682-ba4c-4ea2-a98d-86e46cc8cea4"
      },
      "execution_count": null,
      "outputs": [
        {
          "output_type": "execute_result",
          "data": {
            "text/plain": [
              "<tf.Tensor: shape=(1, 1), dtype=float32, numpy=array([[4.344655]], dtype=float32)>"
            ]
          },
          "metadata": {},
          "execution_count": 13
        }
      ]
    },
    {
      "cell_type": "code",
      "source": [
        "# perceptron(x)의 숫자가 어떻게 나온걸까\n",
        "\n",
        "perceptron.weights\n",
        "#  numpy=\n",
        "#  array([[-0.31168228],\n",
        "#         [ 1.2212056 ],\n",
        "#         [ 0.5198554 ]]\n",
        "# 위의 값과 x값을 내적하면 된다"
      ],
      "metadata": {
        "colab": {
          "base_uri": "https://localhost:8080/"
        },
        "id": "jLMX7enJOF4n",
        "outputId": "abccee5d-af6e-4584-a57e-c236b3187bf4"
      },
      "execution_count": null,
      "outputs": [
        {
          "output_type": "execute_result",
          "data": {
            "text/plain": [
              "[<tf.Variable 'dense_2/kernel:0' shape=(3, 1) dtype=float32, numpy=\n",
              " array([[-0.31168228],\n",
              "        [ 1.2212056 ],\n",
              "        [ 0.5198554 ]], dtype=float32)>,\n",
              " <tf.Variable 'dense_2/bias:0' shape=(1,) dtype=float32, numpy=array([0.], dtype=float32)>]"
            ]
          },
          "metadata": {},
          "execution_count": 7
        }
      ]
    },
    {
      "cell_type": "code",
      "source": [
        "x"
      ],
      "metadata": {
        "id": "u2_k8qmHOvBm"
      },
      "execution_count": null,
      "outputs": []
    },
    {
      "cell_type": "code",
      "source": [
        "tf.matmul(x, perceptron.weights[0])\n",
        "# perceptron.weights[0] 한 이유 >> 리스트라서 값 1개 꺼내오려고\n",
        "# perceptron(x)의 값과 같다"
      ],
      "metadata": {
        "colab": {
          "base_uri": "https://localhost:8080/"
        },
        "id": "Hso1LMDUOxZG",
        "outputId": "c16e9c38-ca2d-41ef-a8df-697763f02e5a"
      },
      "execution_count": null,
      "outputs": [
        {
          "output_type": "execute_result",
          "data": {
            "text/plain": [
              "<tf.Tensor: shape=(1, 1), dtype=float32, numpy=array([[4.344655]], dtype=float32)>"
            ]
          },
          "metadata": {},
          "execution_count": 14
        }
      ]
    },
    {
      "cell_type": "code",
      "source": [
        "# layer 객체 만들기\n",
        "layer  = tf.keras.layers.Dense(1, activation = 'relu')\n",
        "#input = tensor, output = tensor"
      ],
      "metadata": {
        "id": "qGq34U5WP79W"
      },
      "execution_count": null,
      "outputs": []
    },
    {
      "cell_type": "code",
      "source": [
        "# 객체에 텐서 넣기\n",
        "\n",
        "layer(x)\n",
        "# 히든 층 통과 >> y는 (1, 히든층 퍼셉트론 (통과) 개수= 데이터 개수)"
      ],
      "metadata": {
        "colab": {
          "base_uri": "https://localhost:8080/"
        },
        "id": "qdg_7t1hP76p",
        "outputId": "716367ce-6328-4879-a83c-ce40e87a757b"
      },
      "execution_count": null,
      "outputs": [
        {
          "output_type": "execute_result",
          "data": {
            "text/plain": [
              "<tf.Tensor: shape=(1, 1), dtype=float32, numpy=array([[0.]], dtype=float32)>"
            ]
          },
          "metadata": {},
          "execution_count": 16
        }
      ]
    },
    {
      "cell_type": "code",
      "source": [
        "from tensorflow.keras.layers import Dense"
      ],
      "metadata": {
        "id": "-7hIIagoQ55Y"
      },
      "execution_count": null,
      "outputs": []
    },
    {
      "cell_type": "code",
      "source": [
        "x = tf.constant([[1., 2., 3., 4., 5.]])\n",
        "\n",
        "layer = Dense(3, activation = 'relu')\n",
        "# weight 개수 만큼 미분해준다"
      ],
      "metadata": {
        "id": "tBaEp58oQQ6F"
      },
      "execution_count": null,
      "outputs": []
    },
    {
      "cell_type": "code",
      "source": [
        "x = tf.reshape(tf.range(0., 50.), [10, -1])\n",
        "x"
      ],
      "metadata": {
        "colab": {
          "base_uri": "https://localhost:8080/"
        },
        "id": "DuVGPffBRexD",
        "outputId": "80c0d2ff-e378-4f7b-c0ee-4cd395a06207"
      },
      "execution_count": null,
      "outputs": [
        {
          "output_type": "execute_result",
          "data": {
            "text/plain": [
              "<tf.Tensor: shape=(10, 5), dtype=float32, numpy=\n",
              "array([[ 0.,  1.,  2.,  3.,  4.],\n",
              "       [ 5.,  6.,  7.,  8.,  9.],\n",
              "       [10., 11., 12., 13., 14.],\n",
              "       [15., 16., 17., 18., 19.],\n",
              "       [20., 21., 22., 23., 24.],\n",
              "       [25., 26., 27., 28., 29.],\n",
              "       [30., 31., 32., 33., 34.],\n",
              "       [35., 36., 37., 38., 39.],\n",
              "       [40., 41., 42., 43., 44.],\n",
              "       [45., 46., 47., 48., 49.]], dtype=float32)>"
            ]
          },
          "metadata": {},
          "execution_count": 24
        }
      ]
    },
    {
      "cell_type": "code",
      "source": [
        "layer = Dense(3, activation = 'relu')"
      ],
      "metadata": {
        "id": "lE3wltbPRRwu"
      },
      "execution_count": null,
      "outputs": []
    },
    {
      "cell_type": "code",
      "source": [
        "layer(x)"
      ],
      "metadata": {
        "colab": {
          "base_uri": "https://localhost:8080/"
        },
        "id": "pJxfu-UxQQ2c",
        "outputId": "d8c62a83-6b6b-492b-9351-48ccf642e3a0"
      },
      "execution_count": null,
      "outputs": [
        {
          "output_type": "execute_result",
          "data": {
            "text/plain": [
              "<tf.Tensor: shape=(10, 3), dtype=float32, numpy=\n",
              "array([[ 0.36851352,  0.        ,  0.        ],\n",
              "       [ 1.5530121 ,  0.        ,  0.        ],\n",
              "       [ 2.7375104 ,  0.        ,  0.        ],\n",
              "       [ 3.92201   ,  0.        ,  0.        ],\n",
              "       [ 5.1065083 ,  0.        ,  0.        ],\n",
              "       [ 6.291006  ,  0.        ,  0.        ],\n",
              "       [ 7.475506  ,  0.        ,  0.        ],\n",
              "       [ 8.660004  ,  0.        ,  0.        ],\n",
              "       [ 9.844502  ,  0.        ,  0.        ],\n",
              "       [11.029     ,  0.        ,  0.        ]], dtype=float32)>"
            ]
          },
          "metadata": {},
          "execution_count": 25
        }
      ]
    },
    {
      "cell_type": "code",
      "source": [
        "x = tf.constant([[1., 2., 3.]])\n",
        "\n",
        "dense = tf.keras.layers.Dense(1, activation = 'sigmoid')\n",
        "dense"
      ],
      "metadata": {
        "id": "TIvHRmW3mt8X",
        "colab": {
          "base_uri": "https://localhost:8080/"
        },
        "outputId": "42e677c1-9143-48ce-dae1-0c632a64395a"
      },
      "execution_count": null,
      "outputs": [
        {
          "output_type": "execute_result",
          "data": {
            "text/plain": [
              "<keras.layers.core.dense.Dense at 0x7fcdcf74ea00>"
            ]
          },
          "metadata": {},
          "execution_count": 12
        }
      ]
    },
    {
      "cell_type": "code",
      "source": [
        "dense.weights"
      ],
      "metadata": {
        "colab": {
          "base_uri": "https://localhost:8080/"
        },
        "id": "IbI3WK5ZmnCw",
        "outputId": "b18809c1-0f37-4b25-d919-e1de3033de87"
      },
      "execution_count": null,
      "outputs": [
        {
          "output_type": "execute_result",
          "data": {
            "text/plain": [
              "[<tf.Variable 'dense_4/kernel:0' shape=(3, 1) dtype=float32, numpy=\n",
              " array([[0.6383294],\n",
              "        [0.5351908],\n",
              "        [1.0447222]], dtype=float32)>,\n",
              " <tf.Variable 'dense_4/bias:0' shape=(1,) dtype=float32, numpy=array([0.], dtype=float32)>]"
            ]
          },
          "metadata": {},
          "execution_count": 14
        }
      ]
    },
    {
      "cell_type": "code",
      "source": [
        "dense(x)"
      ],
      "metadata": {
        "colab": {
          "base_uri": "https://localhost:8080/"
        },
        "id": "yi4IeTRFl7TM",
        "outputId": "1bf45a54-3f30-4eb8-90a3-9f2d1ff3e984"
      },
      "execution_count": null,
      "outputs": [
        {
          "output_type": "execute_result",
          "data": {
            "text/plain": [
              "<tf.Tensor: shape=(1, 1), dtype=float32, numpy=array([[0.9921773]], dtype=float32)>"
            ]
          },
          "metadata": {},
          "execution_count": 13
        }
      ]
    },
    {
      "cell_type": "code",
      "source": [
        "# MLP \n",
        "\n",
        "dense1 = tf.keras.layers.Dense(5)\n",
        "dense2 = tf.keras.layers.Dense(1)"
      ],
      "metadata": {
        "id": "KZiR_2vXm2vc"
      },
      "execution_count": null,
      "outputs": []
    },
    {
      "cell_type": "code",
      "source": [
        "x = tf.constant([[1.]])\n",
        "x = dense1(x)\n",
        "print(x)\n",
        "x = dense2(x)\n",
        "print(x)"
      ],
      "metadata": {
        "colab": {
          "base_uri": "https://localhost:8080/"
        },
        "id": "uul734Zfm2qo",
        "outputId": "b807acc0-4f3a-4ad6-a820-e04ba7b22ea7"
      },
      "execution_count": null,
      "outputs": [
        {
          "output_type": "stream",
          "name": "stdout",
          "text": [
            "tf.Tensor([[-0.32863998 -0.39347267 -0.50765705 -0.5473547  -0.5722339 ]], shape=(1, 5), dtype=float32)\n",
            "tf.Tensor([[-0.35097498]], shape=(1, 1), dtype=float32)\n"
          ]
        }
      ]
    },
    {
      "cell_type": "code",
      "source": [
        "X = tf.random.uniform(shape = [5, 2])\n",
        "print(X)"
      ],
      "metadata": {
        "colab": {
          "base_uri": "https://localhost:8080/"
        },
        "id": "gAmN3OBunhoj",
        "outputId": "82c9df7d-aaa2-4428-f74e-8ab8fbcdc84d"
      },
      "execution_count": null,
      "outputs": [
        {
          "output_type": "stream",
          "name": "stdout",
          "text": [
            "tf.Tensor(\n",
            "[[0.94159794 0.67429054]\n",
            " [0.95265627 0.79099643]\n",
            " [0.6306616  0.05880153]\n",
            " [0.9028505  0.60174453]\n",
            " [0.34177768 0.15682888]], shape=(5, 2), dtype=float32)\n"
          ]
        }
      ]
    },
    {
      "cell_type": "code",
      "source": [
        "tf.keras.layers.Dense(5, activation = 'sigmoid')"
      ],
      "metadata": {
        "colab": {
          "base_uri": "https://localhost:8080/"
        },
        "id": "olZq3afVpMG7",
        "outputId": "ebbfe943-59a4-4cb4-97b5-69665ef8714e"
      },
      "execution_count": null,
      "outputs": [
        {
          "output_type": "execute_result",
          "data": {
            "text/plain": [
              "<keras.layers.core.dense.Dense at 0x7fcd60492c70>"
            ]
          },
          "metadata": {},
          "execution_count": 21
        }
      ]
    },
    {
      "cell_type": "code",
      "source": [
        "X1 = tf.random.uniform(shape = [100, 2])\n",
        "\n",
        "# layer1 - node 5\n",
        "dense1 = tf.keras.layers.Dense(5, activation = 'sigmoid')\n",
        "\n",
        "# layer2 - node 3\n",
        "dense2 = tf.keras.layers.Dense(3, activation = 'sigmoid')\n",
        "\n",
        "# output shape? \n",
        "X2 = dense1(X1)\n",
        "X3 = dense2(X2)\n",
        "print(X3)"
      ],
      "metadata": {
        "id": "OvsTOMvonhjh"
      },
      "execution_count": null,
      "outputs": []
    },
    {
      "cell_type": "code",
      "source": [
        "X1.shape, X2.shape, X3.shape\n",
        "# 데이터가 바뀌지는 않는다"
      ],
      "metadata": {
        "id": "di_r-WslTjP7"
      },
      "execution_count": null,
      "outputs": []
    },
    {
      "cell_type": "markdown",
      "source": [
        "### 모델을 만드는 방법 1 : Sequential \n",
        "퍼셉트론이 들어간 레이어들의 리스트라고 생각하면 된다\n",
        "\n",
        "tf.keras.Sequential(layers=None, name=None)\n",
        "- layers\t모델에 추가할 선택적 레이어 목록입니다.\n",
        "- name\t모델의 선택적 이름입니다.\n",
        "\n",
        "Sequential 모델은 다음의 경우에 적합하지 않습니다.\n",
        "\n",
        "- 모델에 다중 입력 또는 다중 출력이 있습니다\n",
        "- 레이어에 다중 입력 또는 다중 출력이 있습니다\n",
        "- 레이어 공유를 해야 합니다\n",
        "- 비선형 토폴로지를 원합니다(예: 잔류 연결, 다중 분기 모델)"
      ],
      "metadata": {
        "id": "Nj8JG1ZDUJIb"
      }
    },
    {
      "cell_type": "code",
      "source": [
        "# 모델을 만드는 방법 1 : Sequential / 리스트라고 생각하면 된다\n",
        "# 레이어들 묶어서 확인해줌\n",
        "model = tf.keras.models.Sequential([])\n",
        "\n",
        "model.add(tf.keras.layers.Dense(10))\n",
        "model.add(tf.keras.layers.Dense(3))"
      ],
      "metadata": {
        "id": "qg1qLm4Nl7Mj"
      },
      "execution_count": null,
      "outputs": []
    },
    {
      "cell_type": "code",
      "source": [
        "# Sequential API로 모델 만들기 -> 레이어의 리스트를 Sequential로 감싸준다\n",
        "# Dense : 퍼셉트론이 들어가있는 층, 퍼셉트론 개수는 숫자, 활성화 함수는 정해줄 수 있다\n",
        "model = tf.keras.models.Sequential([\n",
        "                            Dense(5, activation = 'relu'), \n",
        "                            Dense(3, activation = 'softmax')\n",
        "                        ])"
      ],
      "metadata": {
        "id": "5WitiB7jUDxC"
      },
      "execution_count": null,
      "outputs": []
    },
    {
      "cell_type": "code",
      "source": [
        "# 모델에 텐서 넣기 \n",
        "model(X1)"
      ],
      "metadata": {
        "id": "7au3axYzUDt-"
      },
      "execution_count": null,
      "outputs": []
    },
    {
      "cell_type": "code",
      "source": [
        "# Sequential 안에 레이어 확인하기(어떤 dense가 들어가 있는지 확인하기)\n",
        "model.summary()"
      ],
      "metadata": {
        "colab": {
          "base_uri": "https://localhost:8080/"
        },
        "id": "Z5OxeP5tUDrG",
        "outputId": "1f45be26-f65e-4daf-950a-dd2f04c0f808"
      },
      "execution_count": null,
      "outputs": [
        {
          "output_type": "stream",
          "name": "stdout",
          "text": [
            "Model: \"sequential\"\n",
            "_________________________________________________________________\n",
            " Layer (type)                Output Shape              Param #   \n",
            "=================================================================\n",
            " dense_12 (Dense)            (100, 5)                  15        \n",
            "                                                                 \n",
            " dense_13 (Dense)            (100, 3)                  18        \n",
            "                                                                 \n",
            "=================================================================\n",
            "Total params: 33\n",
            "Trainable params: 33\n",
            "Non-trainable params: 0\n",
            "_________________________________________________________________\n"
          ]
        }
      ]
    },
    {
      "cell_type": "code",
      "source": [
        "import tensorflow as tf\n",
        "from tensorflow import keras\n",
        "from tensorflow.keras import layers\n",
        "\n",
        "model = keras.Sequential(\n",
        "    [\n",
        "        layers.Dense(2, activation=\"relu\"),\n",
        "        layers.Dense(3, activation=\"relu\"),\n",
        "        layers.Dense(4),\n",
        "    ]\n",
        ")  # No weights at this stage!\n",
        "\n",
        "# At this point, you can't do this:\n",
        "# model.weights\n",
        "\n",
        "# You also can't do this:\n",
        "# model.summary()\n",
        "\n",
        "# Call the model on a test input\n",
        "x = tf.ones((1, 4))\n",
        "y = model(x)\n",
        "\n",
        "print(x, y,\"Number of weights after calling the model:\", len(model.weights))"
      ],
      "metadata": {
        "colab": {
          "base_uri": "https://localhost:8080/"
        },
        "id": "RIqFwahVUibg",
        "outputId": "bd5911c1-754c-48b2-b6d7-34a9f3c2eb31"
      },
      "execution_count": null,
      "outputs": [
        {
          "output_type": "stream",
          "name": "stdout",
          "text": [
            "tf.Tensor([[1. 1. 1. 1.]], shape=(1, 4), dtype=float32) tf.Tensor([[-0.14900638  0.12099647 -0.38570514 -0.00962137]], shape=(1, 4), dtype=float32) Number of weights after calling the model: 6\n"
          ]
        }
      ]
    },
    {
      "cell_type": "code",
      "source": [
        "model(X)"
      ],
      "metadata": {
        "colab": {
          "base_uri": "https://localhost:8080/"
        },
        "id": "QCEJyfXvl6rr",
        "outputId": "3ff866c0-3c92-401f-873f-8ceef4dfe193"
      },
      "execution_count": null,
      "outputs": [
        {
          "output_type": "execute_result",
          "data": {
            "text/plain": [
              "<tf.Tensor: shape=(5, 3), dtype=float32, numpy=\n",
              "array([[-0.20831594, -0.68802524,  0.13303635],\n",
              "       [-0.0222838 , -0.57314724,  0.18321064],\n",
              "       [-0.10136521, -0.78952444,  0.21855566],\n",
              "       [-0.14950198, -0.8210207 ,  0.20617187],\n",
              "       [-0.23297414, -0.49034944,  0.05436837]], dtype=float32)>"
            ]
          },
          "metadata": {},
          "execution_count": 76
        }
      ]
    },
    {
      "cell_type": "code",
      "source": [
        "model.summary() # summary는 shape 계산을 해준다"
      ],
      "metadata": {
        "id": "IupZa-WYmt3R",
        "colab": {
          "base_uri": "https://localhost:8080/"
        },
        "outputId": "7751b618-2016-4545-8be5-762c1353169a"
      },
      "execution_count": null,
      "outputs": [
        {
          "output_type": "stream",
          "name": "stdout",
          "text": [
            "Model: \"sequential_13\"\n",
            "_________________________________________________________________\n",
            " Layer (type)                Output Shape              Param #   \n",
            "=================================================================\n",
            " dense_26 (Dense)            (5, 10)                   30        \n",
            "                                                                 \n",
            " dense_27 (Dense)            (5, 3)                    33        \n",
            "                                                                 \n",
            "=================================================================\n",
            "Total params: 63\n",
            "Trainable params: 63\n",
            "Non-trainable params: 0\n",
            "_________________________________________________________________\n"
          ]
        }
      ]
    },
    {
      "cell_type": "markdown",
      "source": [
        "### 모델을 만드는 방법 2 : Sequential "
      ],
      "metadata": {
        "id": "Pu9JbOONYaHG"
      }
    },
    {
      "cell_type": "code",
      "source": [
        "# 방법 2\n",
        "model = tf.keras.models.Sequential()\n",
        "\n",
        "model.add(Dense(5, activation = 'relu')) # input_shape = 배치개수, \n",
        "model.add(Dense(10, activation = 'relu'))\n",
        "model.add(Dense(4, activation = 'relu'))"
      ],
      "metadata": {
        "id": "8Sf07j6XYmeF"
      },
      "execution_count": null,
      "outputs": []
    },
    {
      "cell_type": "code",
      "source": [
        "model.summary() \n",
        "# input_shape가 없으면 들어간 데이터가 없어서 shape 계산이 어렵다는 오류 출력\n",
        "# ValueError: This model has not yet been built. Build the model first by calling `build()` or by calling the model on a batch of data."
      ],
      "metadata": {
        "colab": {
          "base_uri": "https://localhost:8080/",
          "height": 318
        },
        "id": "1Oxpu-PaYmbs",
        "outputId": "34ec2e8e-3d7b-4956-ec8e-c698fe57d2df"
      },
      "execution_count": null,
      "outputs": [
        {
          "output_type": "error",
          "ename": "ValueError",
          "evalue": "ignored",
          "traceback": [
            "\u001b[0;31m---------------------------------------------------------------------------\u001b[0m",
            "\u001b[0;31mValueError\u001b[0m                                Traceback (most recent call last)",
            "\u001b[0;32m<ipython-input-35-90b43a212645>\u001b[0m in \u001b[0;36m<cell line: 1>\u001b[0;34m()\u001b[0m\n\u001b[0;32m----> 1\u001b[0;31m \u001b[0mmodel\u001b[0m\u001b[0;34m.\u001b[0m\u001b[0msummary\u001b[0m\u001b[0;34m(\u001b[0m\u001b[0;34m)\u001b[0m\u001b[0;34m\u001b[0m\u001b[0;34m\u001b[0m\u001b[0m\n\u001b[0m\u001b[1;32m      2\u001b[0m \u001b[0;31m# input_shape가 없으면 들어간 데이터가 없어서 shape 계산이 어렵다는 오류 출력\u001b[0m\u001b[0;34m\u001b[0m\u001b[0;34m\u001b[0m\u001b[0m\n",
            "\u001b[0;32m/usr/local/lib/python3.10/dist-packages/keras/engine/training.py\u001b[0m in \u001b[0;36msummary\u001b[0;34m(self, line_length, positions, print_fn, expand_nested, show_trainable, layer_range)\u001b[0m\n\u001b[1;32m   3227\u001b[0m         \"\"\"\n\u001b[1;32m   3228\u001b[0m         \u001b[0;32mif\u001b[0m \u001b[0;32mnot\u001b[0m \u001b[0mself\u001b[0m\u001b[0;34m.\u001b[0m\u001b[0mbuilt\u001b[0m\u001b[0;34m:\u001b[0m\u001b[0;34m\u001b[0m\u001b[0;34m\u001b[0m\u001b[0m\n\u001b[0;32m-> 3229\u001b[0;31m             raise ValueError(\n\u001b[0m\u001b[1;32m   3230\u001b[0m                 \u001b[0;34m\"This model has not yet been built. \"\u001b[0m\u001b[0;34m\u001b[0m\u001b[0;34m\u001b[0m\u001b[0m\n\u001b[1;32m   3231\u001b[0m                 \u001b[0;34m\"Build the model first by calling `build()` or by calling \"\u001b[0m\u001b[0;34m\u001b[0m\u001b[0;34m\u001b[0m\u001b[0m\n",
            "\u001b[0;31mValueError\u001b[0m: This model has not yet been built. Build the model first by calling `build()` or by calling the model on a batch of data."
          ]
        }
      ]
    },
    {
      "cell_type": "code",
      "source": [
        "model = tf.keras.models.Sequential()\n",
        "\n",
        "model.add(Dense(5, input_shape =(None, 5), activation = 'relu')) \n",
        "# input_shape = 배치개수, 사이즈\n",
        "model.add(Dense(10, activation = 'relu'))\n",
        "model.add(Dense(4, activation = 'relu'))"
      ],
      "metadata": {
        "id": "xqy6EdmuYmZT"
      },
      "execution_count": null,
      "outputs": []
    },
    {
      "cell_type": "code",
      "source": [
        "model.summary() # Param #  = weight 개수\n",
        "#  Output Shape : 데이터 들어왔을 때의 shape"
      ],
      "metadata": {
        "colab": {
          "base_uri": "https://localhost:8080/"
        },
        "id": "GCKb4f2FYmW8",
        "outputId": "9365f0b3-4a0d-4639-9972-d344e5d371d0"
      },
      "execution_count": null,
      "outputs": [
        {
          "output_type": "stream",
          "name": "stdout",
          "text": [
            "Model: \"sequential_5\"\n",
            "_________________________________________________________________\n",
            " Layer (type)                Output Shape              Param #   \n",
            "=================================================================\n",
            " dense_24 (Dense)            (None, None, 5)           30        \n",
            "                                                                 \n",
            " dense_25 (Dense)            (None, None, 10)          60        \n",
            "                                                                 \n",
            " dense_26 (Dense)            (None, None, 4)           44        \n",
            "                                                                 \n",
            "=================================================================\n",
            "Total params: 134\n",
            "Trainable params: 134\n",
            "Non-trainable params: 0\n",
            "_________________________________________________________________\n"
          ]
        }
      ]
    },
    {
      "cell_type": "code",
      "source": [
        "# 모델 시각화\n",
        "tf.keras.utils.plot_model(model, show_shapes= True)"
      ],
      "metadata": {
        "colab": {
          "base_uri": "https://localhost:8080/",
          "height": 422
        },
        "id": "yVKLFb9JZs3v",
        "outputId": "4dcb02fa-26f2-4278-8f69-97d3fd697617"
      },
      "execution_count": null,
      "outputs": [
        {
          "output_type": "execute_result",
          "data": {
            "image/png": "[encoded data removed]",
            "text/plain": [
              "<IPython.core.display.Image object>"
            ]
          },
          "metadata": {},
          "execution_count": 38
        }
      ]
    },
    {
      "cell_type": "code",
      "source": [
        "# 방법2 \n",
        "\n",
        "model = tf.keras.models.Sequential()\n",
        "\n",
        "model.add(Dense(5, input_shape=(5,),activation = 'relu'))\n",
        "model.add(Dense(10, activation = 'relu'))\n",
        "model.add(Dense(4, activation = 'relu'))"
      ],
      "metadata": {
        "id": "LcFmNHsWYagS"
      },
      "execution_count": null,
      "outputs": []
    },
    {
      "cell_type": "code",
      "source": [
        "# Sequential 안에 레이어 확인하기\n",
        "model.summary()\n",
        "# None : 배치사이즈(매번 바뀐다, 현재는 모르겠다)"
      ],
      "metadata": {
        "colab": {
          "base_uri": "https://localhost:8080/"
        },
        "outputId": "7a18695c-1f98-4a32-9349-0b1cdc9cce2f",
        "id": "Gf1y2PUyZtcx"
      },
      "execution_count": null,
      "outputs": [
        {
          "output_type": "stream",
          "name": "stdout",
          "text": [
            "Model: \"sequential_6\"\n",
            "_________________________________________________________________\n",
            " Layer (type)                Output Shape              Param #   \n",
            "=================================================================\n",
            " dense_27 (Dense)            (None, 5)                 30        \n",
            "                                                                 \n",
            " dense_28 (Dense)            (None, 10)                60        \n",
            "                                                                 \n",
            " dense_29 (Dense)            (None, 4)                 44        \n",
            "                                                                 \n",
            "=================================================================\n",
            "Total params: 134\n",
            "Trainable params: 134\n",
            "Non-trainable params: 0\n",
            "_________________________________________________________________\n"
          ]
        }
      ]
    },
    {
      "cell_type": "code",
      "source": [
        "# 모델 시각화\n",
        "tf.keras.utils.plot_model(model, show_shapes= True)"
      ],
      "metadata": {
        "colab": {
          "base_uri": "https://localhost:8080/",
          "height": 422
        },
        "id": "UTIJxNnjYmUr",
        "outputId": "52becc97-7e20-44f5-c745-a66668dcf7e5"
      },
      "execution_count": null,
      "outputs": [
        {
          "output_type": "execute_result",
          "data": {
            "image/png": "[encoded data removed]",
            "text/plain": [
              "<IPython.core.display.Image object>"
            ]
          },
          "metadata": {},
          "execution_count": 41
        }
      ]
    },
    {
      "cell_type": "markdown",
      "source": [
        "# 실제 데이터 모델링 "
      ],
      "metadata": {
        "id": "NlkjYR3hmr3o"
      }
    },
    {
      "cell_type": "code",
      "source": [
        "# 모델링 하는 순서\n",
        "\n",
        "## 1. 모델 객체 (Sequential 객체) 생성하기 : Sequential() 안에 레이어 쌓기\n",
        "\n",
        "## 2. 모델 컴파일(compile() 함수 사용하기) : Loss 함수, 최적화 방법, 평가 지표(metrics) 지정하기\n",
        "\n",
        "## 3. 모델 학습(fit() 함수 사용하기) : 훈련데이터와 라벨 (x데이터, y데이터), epochs, batch_size 등 지정해서 학습하기\n",
        "\n",
        "## 4. 모델 평가 및 예측: evaluate() 평가(test 데이터 넣으면 됨), predict() 예측 "
      ],
      "metadata": {
        "id": "mc0kMsHvaJJh"
      },
      "execution_count": null,
      "outputs": []
    },
    {
      "cell_type": "markdown",
      "source": [
        "## Step1 : 데이터 수집"
      ],
      "metadata": {
        "id": "5g7I1dYYmU77"
      }
    },
    {
      "cell_type": "code",
      "source": [
        "from sklearn.datasets import make_classification\n",
        "from sklearn.model_selection import train_test_split\n",
        "\n",
        "\n",
        "X, y = make_classification(n_samples = 300, n_features = 2, n_redundant = 0,\n",
        "                          n_informative = 1, n_clusters_per_class = 1,\n",
        "                          random_state = 33)\n",
        "\n",
        "X_train, X_test, y_train, y_test = train_test_split(X, y,\n",
        "                                                   test_size=0.3, shuffle = True)"
      ],
      "metadata": {
        "id": "TPv9oVA4mOOD"
      },
      "execution_count": null,
      "outputs": []
    },
    {
      "cell_type": "code",
      "source": [
        "X_train.shape, X_test.shape"
      ],
      "metadata": {
        "colab": {
          "base_uri": "https://localhost:8080/"
        },
        "id": "nHhkxi82sQvW",
        "outputId": "9d7915d1-9391-4cbe-fffc-9b0d83610add"
      },
      "execution_count": null,
      "outputs": [
        {
          "output_type": "execute_result",
          "data": {
            "text/plain": [
              "((210, 2), (90, 2))"
            ]
          },
          "metadata": {},
          "execution_count": 44
        }
      ]
    },
    {
      "cell_type": "code",
      "source": [
        "y"
      ],
      "metadata": {
        "colab": {
          "base_uri": "https://localhost:8080/"
        },
        "id": "uxql31eFr9NH",
        "outputId": "14204330-9746-414e-cf36-ccfa243746b9"
      },
      "execution_count": null,
      "outputs": [
        {
          "output_type": "execute_result",
          "data": {
            "text/plain": [
              "array([1, 0, 0, 1, 1, 0, 1, 1, 1, 0, 0, 1, 0, 1, 1, 0, 1, 1, 0, 0, 0, 1,\n",
              "       0, 0, 1, 0, 1, 0, 1, 0, 0, 1, 0, 1, 0, 0, 1, 1, 0, 1, 0, 1, 1, 0,\n",
              "       1, 0, 1, 0, 0, 1, 1, 1, 0, 0, 1, 0, 0, 1, 1, 1, 0, 0, 1, 1, 0, 1,\n",
              "       1, 1, 0, 1, 0, 1, 0, 0, 1, 0, 0, 1, 1, 0, 1, 0, 0, 0, 0, 1, 1, 0,\n",
              "       1, 0, 0, 0, 0, 0, 1, 0, 0, 1, 0, 0, 0, 0, 0, 1, 1, 0, 0, 1, 1, 1,\n",
              "       1, 1, 0, 0, 0, 0, 1, 1, 1, 1, 1, 1, 1, 0, 1, 1, 0, 1, 1, 0, 0, 1,\n",
              "       1, 1, 0, 1, 1, 1, 0, 1, 0, 0, 1, 0, 0, 1, 0, 1, 1, 0, 0, 0, 1, 0,\n",
              "       0, 0, 0, 0, 0, 0, 1, 1, 1, 1, 1, 0, 1, 1, 1, 0, 0, 0, 1, 1, 1, 0,\n",
              "       1, 0, 0, 1, 1, 1, 0, 1, 1, 1, 0, 0, 0, 0, 1, 0, 1, 0, 1, 1, 0, 1,\n",
              "       1, 1, 0, 0, 0, 1, 0, 0, 1, 0, 1, 1, 1, 1, 0, 1, 1, 0, 0, 1, 0, 1,\n",
              "       1, 0, 0, 1, 1, 0, 1, 1, 0, 1, 0, 1, 0, 0, 1, 0, 0, 0, 0, 0, 1, 1,\n",
              "       1, 1, 1, 1, 0, 0, 1, 1, 0, 0, 0, 1, 0, 1, 0, 1, 1, 0, 0, 1, 0, 0,\n",
              "       0, 0, 0, 0, 1, 1, 1, 0, 1, 1, 0, 0, 1, 0, 1, 0, 0, 0, 1, 0, 1, 0,\n",
              "       1, 1, 0, 1, 1, 0, 0, 0, 1, 1, 0, 0, 1, 1])"
            ]
          },
          "metadata": {},
          "execution_count": 45
        }
      ]
    },
    {
      "cell_type": "code",
      "source": [
        "print(X)\n",
        "print(y)"
      ],
      "metadata": {
        "id": "CgC7LlVRmW9X"
      },
      "execution_count": null,
      "outputs": []
    },
    {
      "cell_type": "code",
      "source": [
        "# 시각화\n",
        "import matplotlib.pyplot as plt \n",
        "\n",
        "plt.figure(figsize=(10,5))\n",
        "plt.scatter(X[:,0], X[:,1], c=y, s=100, edgecolors = 'k')\n",
        "plt.show()"
      ],
      "metadata": {
        "colab": {
          "base_uri": "https://localhost:8080/",
          "height": 320
        },
        "id": "v4qMdnQxmZtd",
        "outputId": "3facf521-2051-4e4f-d794-be59f4f0e328"
      },
      "execution_count": null,
      "outputs": [
        {
          "output_type": "display_data",
          "data": {
            "text/plain": [
              "<Figure size 720x360 with 1 Axes>"
            ],
            "image/png": "[encoded data removed]"
          },
          "metadata": {
            "needs_background": "light"
          }
        }
      ]
    },
    {
      "cell_type": "markdown",
      "source": [
        "## Step 2 : 모델만들기"
      ],
      "metadata": {
        "id": "gUwCmLcTmd38"
      }
    },
    {
      "cell_type": "code",
      "source": [
        "from tensorflow.keras import layers, models"
      ],
      "metadata": {
        "id": "MUZFu5fimcA3"
      },
      "execution_count": null,
      "outputs": []
    },
    {
      "cell_type": "code",
      "source": [
        "from keras.layers.attention.multi_head_attention import activation\n",
        "# 모델링\n",
        "\n",
        "model = keras.Sequential([\n",
        "\n",
        "        layers.Dense(10, input_shape=(2,), activation=\"relu\"),\n",
        "        layers.Dense(1, activation=\"sigmoid\") # 이진 분류라서 sigmoid 쓴다\n",
        "    ])"
      ],
      "metadata": {
        "id": "N3eO7VIwml4A"
      },
      "execution_count": null,
      "outputs": []
    },
    {
      "cell_type": "code",
      "source": [
        "# 모델 정보 확인 \n",
        "model.summary()"
      ],
      "metadata": {
        "colab": {
          "base_uri": "https://localhost:8080/"
        },
        "id": "ouCNiDITsHb-",
        "outputId": "9cfade71-1407-482b-94b0-e02c798c2e3c"
      },
      "execution_count": null,
      "outputs": [
        {
          "output_type": "stream",
          "name": "stdout",
          "text": [
            "Model: \"sequential_7\"\n",
            "_________________________________________________________________\n",
            " Layer (type)                Output Shape              Param #   \n",
            "=================================================================\n",
            " dense_30 (Dense)            (None, 10)                30        \n",
            "                                                                 \n",
            " dense_31 (Dense)            (None, 1)                 11        \n",
            "                                                                 \n",
            "=================================================================\n",
            "Total params: 41\n",
            "Trainable params: 41\n",
            "Non-trainable params: 0\n",
            "_________________________________________________________________\n"
          ]
        }
      ]
    },
    {
      "cell_type": "markdown",
      "source": [
        "### Step 3. 모델 학습시키기"
      ],
      "metadata": {
        "id": "J7iAZRw2u95k"
      }
    },
    {
      "cell_type": "code",
      "source": [
        "model = tf.keras.models.Sequential([\n",
        "    tf.keras.layers.Dense(100, input_shape = (25,)),\n",
        "    tf.keras.layers.Dense(100),\n",
        "    tf.keras.layers.Dense(3)\n",
        "])"
      ],
      "metadata": {
        "id": "d4lqwhqq9nEC"
      },
      "execution_count": null,
      "outputs": []
    },
    {
      "cell_type": "code",
      "source": [
        "model.summary()"
      ],
      "metadata": {
        "id": "40J1almP9xCX"
      },
      "execution_count": null,
      "outputs": []
    },
    {
      "cell_type": "code",
      "source": [
        "# compile - default\n",
        "model.compile(\n",
        "    optimizer = 'adam', # 최적화\n",
        "    loss = 'binary_crossentropy', # cost\n",
        "    metrics = ['accuracy'] # 평가지표\n",
        ")\n",
        "\n",
        "# 문자열로 쓰면 그 문자열 객체의 defalut 값이 들어간다.\n",
        "    # optimizer = ,\n",
        "    # loss = ,\n",
        "    # metrics= , 는 거의 다 들어가는 파라미터임으로 그냥 써준다 "
      ],
      "metadata": {
        "id": "X3Vk493lsXsb"
      },
      "execution_count": null,
      "outputs": []
    },
    {
      "cell_type": "code",
      "source": [
        "# fitting \n",
        "# x, y, batch_size, epoch를 넣어줘야 한다\n",
        "\n",
        "model.fit(X_train, y_train, epochs = 100, batch_size = 32)"
      ],
      "metadata": {
        "id": "J76CXFXJsqKs"
      },
      "execution_count": null,
      "outputs": []
    },
    {
      "cell_type": "code",
      "source": [
        "# compile - 객체를 넣어주는 것(learning late를 넣어주겠)\n",
        "model.compile(\n",
        "    optimizer = tf.keras.optimizers.Adam(learning_rate = 0.1),\n",
        "    loss = tf.keras.losses.BinaryCrossentropy(), \n",
        ")"
      ],
      "metadata": {
        "id": "2lgAJ8OJwL8R"
      },
      "execution_count": null,
      "outputs": []
    },
    {
      "cell_type": "code",
      "source": [
        "# fitting \n",
        "# fit 함수에는 x, y, batch_size, epoch를 넣어줘야 한다\n",
        "\n",
        "model.fit(X_train, y_train, epochs = 100, batch_size = 32)"
      ],
      "metadata": {
        "id": "peWWgaCedBI4"
      },
      "execution_count": null,
      "outputs": []
    },
    {
      "cell_type": "code",
      "source": [
        "# fit 함수는 history 객체로 어떻게 진행되었는지 나타내준다\n",
        "# history는 따로 저장되지 않기 때문에 변수로 지정해야 저장된다\n",
        "\n",
        "history = model.fit(X_train, y_train, epochs = 100, batch_size = 32)\n",
        "history"
      ],
      "metadata": {
        "id": "Wlr1AcjpdBGO"
      },
      "execution_count": null,
      "outputs": []
    },
    {
      "cell_type": "code",
      "source": [
        "history.history # Loss가 어떻게 줄었는지 보여준다"
      ],
      "metadata": {
        "id": "sYFHArbLtQVL"
      },
      "execution_count": null,
      "outputs": []
    },
    {
      "cell_type": "code",
      "source": [
        "# loss 시각화 \n",
        "import matplotlib.pyplot as plt\n",
        "\n",
        "plt.plot(range(1, 101), history.history['loss'])"
      ],
      "metadata": {
        "colab": {
          "base_uri": "https://localhost:8080/",
          "height": 448
        },
        "id": "GC3647B9tY9v",
        "outputId": "caaf84bd-aaba-4c4f-b4a0-6a559a0f0238"
      },
      "execution_count": null,
      "outputs": [
        {
          "output_type": "execute_result",
          "data": {
            "text/plain": [
              "[<matplotlib.lines.Line2D at 0x7fd238e5d6f0>]"
            ]
          },
          "metadata": {},
          "execution_count": 86
        },
        {
          "output_type": "display_data",
          "data": {
            "text/plain": [
              "<Figure size 640x480 with 1 Axes>"
            ],
            "image/png": "[encoded data removed]"
          },
          "metadata": {}
        }
      ]
    },
    {
      "cell_type": "markdown",
      "source": [
        "### Step 4 모델 테스트하기"
      ],
      "metadata": {
        "id": "MLh_vXCuu6nJ"
      }
    },
    {
      "cell_type": "code",
      "source": [
        "model.evaluate?"
      ],
      "metadata": {
        "id": "KZ2Mnmq8vLcV"
      },
      "execution_count": null,
      "outputs": []
    },
    {
      "cell_type": "code",
      "source": [
        "# 평가하기\n",
        "model.evaluate(X_test, y_test)"
      ],
      "metadata": {
        "colab": {
          "base_uri": "https://localhost:8080/"
        },
        "id": "MNbXFCBTuoF5",
        "outputId": "088f4a34-e773-4818-e5e6-c034bedcd6cd"
      },
      "execution_count": null,
      "outputs": [
        {
          "output_type": "stream",
          "name": "stdout",
          "text": [
            "3/3 [==============================] - 0s 7ms/step - loss: 0.4222\n"
          ]
        },
        {
          "output_type": "execute_result",
          "data": {
            "text/plain": [
              "0.42215901613235474"
            ]
          },
          "metadata": {},
          "execution_count": 61
        }
      ]
    },
    {
      "cell_type": "code",
      "source": [
        "# 예측하기 \n",
        "y_pred_test = model.predict(X_test)\n",
        "y_pred_test"
      ],
      "metadata": {
        "id": "q7uRS55svKVg",
        "colab": {
          "base_uri": "https://localhost:8080/"
        },
        "outputId": "fc0bfe71-1114-4f02-941d-935abcdaec8d"
      },
      "execution_count": null,
      "outputs": [
        {
          "output_type": "stream",
          "name": "stdout",
          "text": [
            "1/1 [==============================] - 0s 43ms/step\n"
          ]
        },
        {
          "output_type": "execute_result",
          "data": {
            "text/plain": [
              "array([[0.32074288],\n",
              "       [0.15897784],\n",
              "       [0.62560326],\n",
              "       [0.6187509 ],\n",
              "       [0.13241503],\n",
              "       [0.2215994 ],\n",
              "       [0.8717754 ],\n",
              "       [0.5760403 ],\n",
              "       [0.7180464 ],\n",
              "       [0.84195083],\n",
              "       [0.06467151],\n",
              "       [0.35294297],\n",
              "       [0.14205714],\n",
              "       [0.12977599],\n",
              "       [0.10018257],\n",
              "       [0.5725492 ],\n",
              "       [0.21445903],\n",
              "       [0.87528443],\n",
              "       [0.2241574 ],\n",
              "       [0.21061872]], dtype=float32)"
            ]
          },
          "metadata": {},
          "execution_count": 106
        }
      ]
    },
    {
      "cell_type": "code",
      "source": [
        "# 정확도 측정\n",
        "m = tf.keras.metrics.BinaryAccuracy() # 2진 정확도\n",
        "m(y_test, y_pred_test)"
      ],
      "metadata": {
        "colab": {
          "base_uri": "https://localhost:8080/"
        },
        "id": "VLF5hEULvrH8",
        "outputId": "66089dcf-cbfc-461f-8efd-e8e94fb7198d"
      },
      "execution_count": null,
      "outputs": [
        {
          "output_type": "execute_result",
          "data": {
            "text/plain": [
              "<tf.Tensor: shape=(), dtype=float32, numpy=0.82222223>"
            ]
          },
          "metadata": {},
          "execution_count": 66
        }
      ]
    },
    {
      "cell_type": "markdown",
      "source": [
        "## 문제0. 실험하기\n",
        "\n",
        "각 레이어의 노드는 100개 일때, 아래 모델들을 실험해보세요 \n",
        "\n",
        "- Layer 1개, activation sigmoid 함수 \n",
        "- Layer 3개, activation sigmoid 함수\n",
        "- Layer 5개, activation sigmoid 함수\n",
        "- Layer 10개, activation relu 함수 \n",
        "\n",
        "Loss는 어떻게 되나요? EPOCH, Learning rate 등 하이퍼파라미터는 어떻게 설정하셨나요?"
      ],
      "metadata": {
        "id": "Vp9sdFwAhbzQ"
      }
    },
    {
      "cell_type": "code",
      "source": [
        "import numpy as np \n",
        "import pandas as pd \n",
        "from sklearn.datasets import make_classification, make_circles\n",
        "from sklearn.model_selection import train_test_split\n",
        "import tensorflow as tf\n",
        "from tensorflow import keras\n",
        "from tensorflow.keras import layers\n",
        "from tensorflow.keras.layers import Dense"
      ],
      "metadata": {
        "id": "GobFFZ2BpYCw"
      },
      "execution_count": null,
      "outputs": []
    },
    {
      "cell_type": "code",
      "source": [
        "X, y = make_circles(factor=0.3, noise=0.1, n_samples=100)"
      ],
      "metadata": {
        "id": "7Z0KFPXFhbt8"
      },
      "execution_count": null,
      "outputs": []
    },
    {
      "cell_type": "code",
      "source": [
        "import matplotlib.pyplot as plt \n",
        "\n",
        "plt.figure(figsize = (10,5))\n",
        "plt.scatter(X[:, 0], X[:, 1], c = y, s = 300, marker = '*',edgecolors= \"k\")\n",
        "plt.xlabel('$X_1$')\n",
        "plt.ylabel('$X_2$')\n",
        "plt.show()"
      ],
      "metadata": {
        "id": "_OGEWthmhqXd",
        "colab": {
          "base_uri": "https://localhost:8080/",
          "height": 467
        },
        "outputId": "795e7bc3-9cd2-45dc-8185-6b0b0958d721"
      },
      "execution_count": null,
      "outputs": [
        {
          "output_type": "display_data",
          "data": {
            "text/plain": [
              "<Figure size 1000x500 with 1 Axes>"
            ],
            "image/png": "[encoded data removed]"
          },
          "metadata": {}
        }
      ]
    },
    {
      "cell_type": "code",
      "source": [
        "from sklearn.datasets import make_classification\n",
        "from sklearn.model_selection import train_test_split\n",
        "\n",
        "X_train, X_test, y_train, y_test = train_test_split(X, y, stratify=y, random_state=42, test_size=0.2)"
      ],
      "metadata": {
        "id": "e4uk-ZvGhrsg"
      },
      "execution_count": null,
      "outputs": []
    },
    {
      "cell_type": "code",
      "source": [
        "from tensorflow.keras import layers, models"
      ],
      "metadata": {
        "id": "Ha7TYWwlhblr"
      },
      "execution_count": null,
      "outputs": []
    },
    {
      "cell_type": "code",
      "source": [
        "from keras.layers.attention.multi_head_attention import activation\n",
        "# 모델링\n",
        "\n",
        "model_1 = keras.Sequential([\n",
        "        layers.Dense(1, activation=\"sigmoid\") # 이진 분류라서 sigmoid 쓴다\n",
        "    ])\n",
        "model_1.compile( optimizer = 'adam', # 최적화\n",
        "loss = 'binary_crossentropy', # cost\n",
        "metrics = ['accuracy']) # 평가지표\n",
        "\n",
        "history_1 = model_1.fit(X_train, y_train, epochs = 100, batch_size = 32)\n",
        "\n",
        "print('evaluate : ', model_1.evaluate(X_test, y_test))\n",
        "print('predict: ', model_1.predict(X_test))\n",
        "\n",
        "plt.plot(range(1, 101), history_1.history['loss'])"
      ],
      "metadata": {
        "id": "nXkcVDjZhbd2",
        "colab": {
          "base_uri": "https://localhost:8080/",
          "height": 1000
        },
        "outputId": "22e2fa11-7271-4a22-f158-377aee69be1b"
      },
      "execution_count": null,
      "outputs": [
        {
          "output_type": "stream",
          "name": "stdout",
          "text": [
            "Epoch 1/100\n",
            "3/3 [==============================] - 2s 10ms/step - loss: 0.7701 - accuracy: 0.4375\n",
            "Epoch 2/100\n",
            "3/3 [==============================] - 0s 11ms/step - loss: 0.7697 - accuracy: 0.4375\n",
            "Epoch 3/100\n",
            "3/3 [==============================] - 0s 8ms/step - loss: 0.7694 - accuracy: 0.4375\n",
            "Epoch 4/100\n",
            "3/3 [==============================] - 0s 8ms/step - loss: 0.7692 - accuracy: 0.4375\n",
            "Epoch 5/100\n",
            "3/3 [==============================] - 0s 7ms/step - loss: 0.7688 - accuracy: 0.4375\n",
            "Epoch 6/100\n",
            "3/3 [==============================] - 0s 11ms/step - loss: 0.7685 - accuracy: 0.4375\n",
            "Epoch 7/100\n",
            "3/3 [==============================] - 0s 7ms/step - loss: 0.7683 - accuracy: 0.4375\n",
            "Epoch 8/100\n",
            "3/3 [==============================] - 0s 5ms/step - loss: 0.7680 - accuracy: 0.4375\n",
            "Epoch 9/100\n",
            "3/3 [==============================] - 0s 5ms/step - loss: 0.7677 - accuracy: 0.4375\n",
            "Epoch 10/100\n",
            "3/3 [==============================] - 0s 5ms/step - loss: 0.7675 - accuracy: 0.4375\n",
            "Epoch 11/100\n",
            "3/3 [==============================] - 0s 5ms/step - loss: 0.7672 - accuracy: 0.4375\n",
            "Epoch 12/100\n",
            "3/3 [==============================] - 0s 5ms/step - loss: 0.7669 - accuracy: 0.4375\n",
            "Epoch 13/100\n",
            "3/3 [==============================] - 0s 5ms/step - loss: 0.7666 - accuracy: 0.4375\n",
            "Epoch 14/100\n",
            "3/3 [==============================] - 0s 12ms/step - loss: 0.7663 - accuracy: 0.4375\n",
            "Epoch 15/100\n",
            "3/3 [==============================] - 0s 13ms/step - loss: 0.7661 - accuracy: 0.4375\n",
            "Epoch 16/100\n",
            "3/3 [==============================] - 0s 15ms/step - loss: 0.7658 - accuracy: 0.4375\n",
            "Epoch 17/100\n",
            "3/3 [==============================] - 0s 9ms/step - loss: 0.7655 - accuracy: 0.4375\n",
            "Epoch 18/100\n",
            "3/3 [==============================] - 0s 9ms/step - loss: 0.7652 - accuracy: 0.4375\n",
            "Epoch 19/100\n",
            "3/3 [==============================] - 0s 9ms/step - loss: 0.7649 - accuracy: 0.4375\n",
            "Epoch 20/100\n",
            "3/3 [==============================] - 0s 8ms/step - loss: 0.7646 - accuracy: 0.4375\n",
            "Epoch 21/100\n",
            "3/3 [==============================] - 0s 11ms/step - loss: 0.7643 - accuracy: 0.4375\n",
            "Epoch 22/100\n",
            "3/3 [==============================] - 0s 9ms/step - loss: 0.7641 - accuracy: 0.4375\n",
            "Epoch 23/100\n",
            "3/3 [==============================] - 0s 12ms/step - loss: 0.7637 - accuracy: 0.4375\n",
            "Epoch 24/100\n",
            "3/3 [==============================] - 0s 11ms/step - loss: 0.7635 - accuracy: 0.4375\n",
            "Epoch 25/100\n",
            "3/3 [==============================] - 0s 13ms/step - loss: 0.7632 - accuracy: 0.4375\n",
            "Epoch 26/100\n",
            "3/3 [==============================] - 0s 11ms/step - loss: 0.7629 - accuracy: 0.4375\n",
            "Epoch 27/100\n",
            "3/3 [==============================] - 0s 13ms/step - loss: 0.7626 - accuracy: 0.4375\n",
            "Epoch 28/100\n",
            "3/3 [==============================] - 0s 10ms/step - loss: 0.7623 - accuracy: 0.4375\n",
            "Epoch 29/100\n",
            "3/3 [==============================] - 0s 11ms/step - loss: 0.7620 - accuracy: 0.4375\n",
            "Epoch 30/100\n",
            "3/3 [==============================] - 0s 22ms/step - loss: 0.7618 - accuracy: 0.4375\n",
            "Epoch 31/100\n",
            "3/3 [==============================] - 0s 7ms/step - loss: 0.7615 - accuracy: 0.4375\n",
            "Epoch 32/100\n",
            "3/3 [==============================] - 0s 7ms/step - loss: 0.7612 - accuracy: 0.4375\n",
            "Epoch 33/100\n",
            "3/3 [==============================] - 0s 7ms/step - loss: 0.7609 - accuracy: 0.4375\n",
            "Epoch 34/100\n",
            "3/3 [==============================] - 0s 7ms/step - loss: 0.7607 - accuracy: 0.4375\n",
            "Epoch 35/100\n",
            "3/3 [==============================] - 0s 8ms/step - loss: 0.7604 - accuracy: 0.4375\n",
            "Epoch 36/100\n",
            "3/3 [==============================] - 0s 5ms/step - loss: 0.7601 - accuracy: 0.4375\n",
            "Epoch 37/100\n",
            "3/3 [==============================] - 0s 5ms/step - loss: 0.7599 - accuracy: 0.4375\n",
            "Epoch 38/100\n",
            "3/3 [==============================] - 0s 5ms/step - loss: 0.7596 - accuracy: 0.4375\n",
            "Epoch 39/100\n",
            "3/3 [==============================] - 0s 6ms/step - loss: 0.7594 - accuracy: 0.4375\n",
            "Epoch 40/100\n",
            "3/3 [==============================] - 0s 5ms/step - loss: 0.7591 - accuracy: 0.4375\n",
            "Epoch 41/100\n",
            "3/3 [==============================] - 0s 5ms/step - loss: 0.7588 - accuracy: 0.4375\n",
            "Epoch 42/100\n",
            "3/3 [==============================] - 0s 5ms/step - loss: 0.7585 - accuracy: 0.4375\n",
            "Epoch 43/100\n",
            "3/3 [==============================] - 0s 5ms/step - loss: 0.7583 - accuracy: 0.4375\n",
            "Epoch 44/100\n",
            "3/3 [==============================] - 0s 5ms/step - loss: 0.7580 - accuracy: 0.4375\n",
            "Epoch 45/100\n",
            "3/3 [==============================] - 0s 5ms/step - loss: 0.7578 - accuracy: 0.4375\n",
            "Epoch 46/100\n",
            "3/3 [==============================] - 0s 5ms/step - loss: 0.7575 - accuracy: 0.4375\n",
            "Epoch 47/100\n",
            "3/3 [==============================] - 0s 6ms/step - loss: 0.7572 - accuracy: 0.4375\n",
            "Epoch 48/100\n",
            "3/3 [==============================] - 0s 7ms/step - loss: 0.7569 - accuracy: 0.4375\n",
            "Epoch 49/100\n",
            "3/3 [==============================] - 0s 5ms/step - loss: 0.7566 - accuracy: 0.4375\n",
            "Epoch 50/100\n",
            "3/3 [==============================] - 0s 5ms/step - loss: 0.7564 - accuracy: 0.4375\n",
            "Epoch 51/100\n",
            "3/3 [==============================] - 0s 9ms/step - loss: 0.7561 - accuracy: 0.4375\n",
            "Epoch 52/100\n",
            "3/3 [==============================] - 0s 7ms/step - loss: 0.7559 - accuracy: 0.4375\n",
            "Epoch 53/100\n",
            "3/3 [==============================] - 0s 4ms/step - loss: 0.7556 - accuracy: 0.4375\n",
            "Epoch 54/100\n",
            "3/3 [==============================] - 0s 5ms/step - loss: 0.7554 - accuracy: 0.4375\n",
            "Epoch 55/100\n",
            "3/3 [==============================] - 0s 5ms/step - loss: 0.7551 - accuracy: 0.4375\n",
            "Epoch 56/100\n",
            "3/3 [==============================] - 0s 5ms/step - loss: 0.7549 - accuracy: 0.4375\n",
            "Epoch 57/100\n",
            "3/3 [==============================] - 0s 5ms/step - loss: 0.7546 - accuracy: 0.4375\n",
            "Epoch 58/100\n",
            "3/3 [==============================] - 0s 5ms/step - loss: 0.7544 - accuracy: 0.4375\n",
            "Epoch 59/100\n",
            "3/3 [==============================] - 0s 5ms/step - loss: 0.7541 - accuracy: 0.4375\n",
            "Epoch 60/100\n",
            "3/3 [==============================] - 0s 5ms/step - loss: 0.7539 - accuracy: 0.4375\n",
            "Epoch 61/100\n",
            "3/3 [==============================] - 0s 5ms/step - loss: 0.7536 - accuracy: 0.4500\n",
            "Epoch 62/100\n",
            "3/3 [==============================] - 0s 5ms/step - loss: 0.7533 - accuracy: 0.4500\n",
            "Epoch 63/100\n",
            "3/3 [==============================] - 0s 5ms/step - loss: 0.7531 - accuracy: 0.4500\n",
            "Epoch 64/100\n",
            "3/3 [==============================] - 0s 5ms/step - loss: 0.7529 - accuracy: 0.4500\n",
            "Epoch 65/100\n",
            "3/3 [==============================] - 0s 5ms/step - loss: 0.7526 - accuracy: 0.4500\n",
            "Epoch 66/100\n",
            "3/3 [==============================] - 0s 5ms/step - loss: 0.7524 - accuracy: 0.4500\n",
            "Epoch 67/100\n",
            "3/3 [==============================] - 0s 5ms/step - loss: 0.7521 - accuracy: 0.4500\n",
            "Epoch 68/100\n",
            "3/3 [==============================] - 0s 5ms/step - loss: 0.7519 - accuracy: 0.4500\n",
            "Epoch 69/100\n",
            "3/3 [==============================] - 0s 5ms/step - loss: 0.7516 - accuracy: 0.4500\n",
            "Epoch 70/100\n",
            "3/3 [==============================] - 0s 5ms/step - loss: 0.7514 - accuracy: 0.4500\n",
            "Epoch 71/100\n",
            "3/3 [==============================] - 0s 5ms/step - loss: 0.7512 - accuracy: 0.4500\n",
            "Epoch 72/100\n",
            "3/3 [==============================] - 0s 5ms/step - loss: 0.7510 - accuracy: 0.4500\n",
            "Epoch 73/100\n",
            "3/3 [==============================] - 0s 5ms/step - loss: 0.7507 - accuracy: 0.4500\n",
            "Epoch 74/100\n",
            "3/3 [==============================] - 0s 5ms/step - loss: 0.7505 - accuracy: 0.4500\n",
            "Epoch 75/100\n",
            "3/3 [==============================] - 0s 5ms/step - loss: 0.7502 - accuracy: 0.4500\n",
            "Epoch 76/100\n",
            "3/3 [==============================] - 0s 5ms/step - loss: 0.7500 - accuracy: 0.4500\n",
            "Epoch 77/100\n",
            "3/3 [==============================] - 0s 5ms/step - loss: 0.7498 - accuracy: 0.4500\n",
            "Epoch 78/100\n",
            "3/3 [==============================] - 0s 5ms/step - loss: 0.7496 - accuracy: 0.4500\n",
            "Epoch 79/100\n",
            "3/3 [==============================] - 0s 5ms/step - loss: 0.7494 - accuracy: 0.4500\n",
            "Epoch 80/100\n",
            "3/3 [==============================] - 0s 5ms/step - loss: 0.7491 - accuracy: 0.4500\n",
            "Epoch 81/100\n",
            "3/3 [==============================] - 0s 5ms/step - loss: 0.7489 - accuracy: 0.4625\n",
            "Epoch 82/100\n",
            "3/3 [==============================] - 0s 5ms/step - loss: 0.7487 - accuracy: 0.4625\n",
            "Epoch 83/100\n",
            "3/3 [==============================] - 0s 5ms/step - loss: 0.7485 - accuracy: 0.4625\n",
            "Epoch 84/100\n",
            "3/3 [==============================] - 0s 5ms/step - loss: 0.7482 - accuracy: 0.4750\n",
            "Epoch 85/100\n",
            "3/3 [==============================] - 0s 5ms/step - loss: 0.7480 - accuracy: 0.4750\n",
            "Epoch 86/100\n",
            "3/3 [==============================] - 0s 5ms/step - loss: 0.7478 - accuracy: 0.4750\n",
            "Epoch 87/100\n",
            "3/3 [==============================] - 0s 5ms/step - loss: 0.7476 - accuracy: 0.4750\n",
            "Epoch 88/100\n",
            "3/3 [==============================] - 0s 6ms/step - loss: 0.7474 - accuracy: 0.4750\n",
            "Epoch 89/100\n",
            "3/3 [==============================] - 0s 6ms/step - loss: 0.7472 - accuracy: 0.4750\n",
            "Epoch 90/100\n",
            "3/3 [==============================] - 0s 5ms/step - loss: 0.7470 - accuracy: 0.4750\n",
            "Epoch 91/100\n",
            "3/3 [==============================] - 0s 5ms/step - loss: 0.7467 - accuracy: 0.4750\n",
            "Epoch 92/100\n",
            "3/3 [==============================] - 0s 5ms/step - loss: 0.7465 - accuracy: 0.4750\n",
            "Epoch 93/100\n",
            "3/3 [==============================] - 0s 5ms/step - loss: 0.7463 - accuracy: 0.4750\n",
            "Epoch 94/100\n",
            "3/3 [==============================] - 0s 5ms/step - loss: 0.7461 - accuracy: 0.4750\n",
            "Epoch 95/100\n",
            "3/3 [==============================] - 0s 5ms/step - loss: 0.7459 - accuracy: 0.4750\n",
            "Epoch 96/100\n",
            "3/3 [==============================] - 0s 5ms/step - loss: 0.7456 - accuracy: 0.4750\n",
            "Epoch 97/100\n",
            "3/3 [==============================] - 0s 5ms/step - loss: 0.7454 - accuracy: 0.4750\n",
            "Epoch 98/100\n",
            "3/3 [==============================] - 0s 5ms/step - loss: 0.7452 - accuracy: 0.4750\n",
            "Epoch 99/100\n",
            "3/3 [==============================] - 0s 6ms/step - loss: 0.7450 - accuracy: 0.4750\n",
            "Epoch 100/100\n",
            "3/3 [==============================] - 0s 5ms/step - loss: 0.7448 - accuracy: 0.4750\n",
            "1/1 [==============================] - 0s 108ms/step - loss: 0.6703 - accuracy: 0.7000\n",
            "evaluate :  [0.6703262329101562, 0.699999988079071]\n",
            "1/1 [==============================] - 0s 37ms/step\n",
            "predict:  [[0.57967454]\n",
            " [0.4488548 ]\n",
            " [0.5410045 ]\n",
            " [0.51670796]\n",
            " [0.3786864 ]\n",
            " [0.42561993]\n",
            " [0.55759776]\n",
            " [0.5376649 ]\n",
            " [0.5879376 ]\n",
            " [0.2650224 ]\n",
            " [0.32062653]\n",
            " [0.5597535 ]\n",
            " [0.49411255]\n",
            " [0.72143507]\n",
            " [0.60361964]\n",
            " [0.61932534]\n",
            " [0.5771995 ]\n",
            " [0.6765556 ]\n",
            " [0.54873675]\n",
            " [0.5973126 ]]\n"
          ]
        },
        {
          "output_type": "execute_result",
          "data": {
            "text/plain": [
              "[<matplotlib.lines.Line2D at 0x7fddf011d990>]"
            ]
          },
          "metadata": {},
          "execution_count": 14
        },
        {
          "output_type": "display_data",
          "data": {
            "text/plain": [
              "<Figure size 640x480 with 1 Axes>"
            ],
            "image/png": "[encoded data removed]"
          },
          "metadata": {}
        }
      ]
    },
    {
      "cell_type": "code",
      "source": [
        "model_2 = keras.Sequential([\n",
        "\n",
        "        layers.Dense(100, input_shape=(2,), activation=\"relu\"),\n",
        "        layers.Dense(100,  activation=\"relu\"),\n",
        "        layers.Dense(100,  activation=\"relu\"),\n",
        "        layers.Dense(1, activation=\"sigmoid\") # 이진 분류라서 sigmoid 쓴다\n",
        "    ])\n",
        "\n",
        "model_2.compile( optimizer = 'adam', # 최적화\n",
        "loss = 'binary_crossentropy', # cost\n",
        "metrics = ['accuracy']) # 평가지표\n",
        "\n",
        "history_2 = model_2.fit(X_train, y_train, epochs = 100, batch_size = 32)\n",
        "\n",
        "print('evaluate : ', model_2.evaluate(X_test, y_test))\n",
        "print('predict: ', model_2.predict(X_test))\n",
        "\n",
        "plt.plot(range(1, 101), history_2.history['loss'])"
      ],
      "metadata": {
        "colab": {
          "base_uri": "https://localhost:8080/",
          "height": 1000
        },
        "id": "QPb9UjRZiIX7",
        "outputId": "e43631d6-a9bc-4a30-a6db-3d0ac343a9c1"
      },
      "execution_count": null,
      "outputs": [
        {
          "output_type": "stream",
          "name": "stdout",
          "text": [
            "Epoch 1/100\n",
            "3/3 [==============================] - 2s 7ms/step - loss: 0.6756 - accuracy: 0.5000\n",
            "Epoch 2/100\n",
            "3/3 [==============================] - 0s 6ms/step - loss: 0.6528 - accuracy: 0.5000\n",
            "Epoch 3/100\n",
            "3/3 [==============================] - 0s 5ms/step - loss: 0.6340 - accuracy: 0.5000\n",
            "Epoch 4/100\n",
            "3/3 [==============================] - 0s 5ms/step - loss: 0.6128 - accuracy: 0.5000\n",
            "Epoch 5/100\n",
            "3/3 [==============================] - 0s 5ms/step - loss: 0.5903 - accuracy: 0.5125\n",
            "Epoch 6/100\n",
            "3/3 [==============================] - 0s 6ms/step - loss: 0.5654 - accuracy: 0.5125\n",
            "Epoch 7/100\n",
            "3/3 [==============================] - 0s 5ms/step - loss: 0.5422 - accuracy: 0.5375\n",
            "Epoch 8/100\n",
            "3/3 [==============================] - 0s 5ms/step - loss: 0.5156 - accuracy: 0.5875\n",
            "Epoch 9/100\n",
            "3/3 [==============================] - 0s 6ms/step - loss: 0.4865 - accuracy: 0.6500\n",
            "Epoch 10/100\n",
            "3/3 [==============================] - 0s 5ms/step - loss: 0.4569 - accuracy: 0.7125\n",
            "Epoch 11/100\n",
            "3/3 [==============================] - 0s 5ms/step - loss: 0.4263 - accuracy: 0.7625\n",
            "Epoch 12/100\n",
            "3/3 [==============================] - 0s 6ms/step - loss: 0.3967 - accuracy: 0.8500\n",
            "Epoch 13/100\n",
            "3/3 [==============================] - 0s 6ms/step - loss: 0.3675 - accuracy: 0.9125\n",
            "Epoch 14/100\n",
            "3/3 [==============================] - 0s 5ms/step - loss: 0.3393 - accuracy: 0.9750\n",
            "Epoch 15/100\n",
            "3/3 [==============================] - 0s 5ms/step - loss: 0.3132 - accuracy: 0.9875\n",
            "Epoch 16/100\n",
            "3/3 [==============================] - 0s 5ms/step - loss: 0.2870 - accuracy: 1.0000\n",
            "Epoch 17/100\n",
            "3/3 [==============================] - 0s 5ms/step - loss: 0.2592 - accuracy: 1.0000\n",
            "Epoch 18/100\n",
            "3/3 [==============================] - 0s 5ms/step - loss: 0.2316 - accuracy: 1.0000\n",
            "Epoch 19/100\n",
            "3/3 [==============================] - 0s 5ms/step - loss: 0.2054 - accuracy: 1.0000\n",
            "Epoch 20/100\n",
            "3/3 [==============================] - 0s 7ms/step - loss: 0.1790 - accuracy: 1.0000\n",
            "Epoch 21/100\n",
            "3/3 [==============================] - 0s 5ms/step - loss: 0.1510 - accuracy: 1.0000\n",
            "Epoch 22/100\n",
            "3/3 [==============================] - 0s 6ms/step - loss: 0.1256 - accuracy: 1.0000\n",
            "Epoch 23/100\n",
            "3/3 [==============================] - 0s 5ms/step - loss: 0.1024 - accuracy: 1.0000\n",
            "Epoch 24/100\n",
            "3/3 [==============================] - 0s 11ms/step - loss: 0.0804 - accuracy: 1.0000\n",
            "Epoch 25/100\n",
            "3/3 [==============================] - 0s 5ms/step - loss: 0.0627 - accuracy: 1.0000\n",
            "Epoch 26/100\n",
            "3/3 [==============================] - 0s 5ms/step - loss: 0.0486 - accuracy: 1.0000\n",
            "Epoch 27/100\n",
            "3/3 [==============================] - 0s 5ms/step - loss: 0.0370 - accuracy: 1.0000\n",
            "Epoch 28/100\n",
            "3/3 [==============================] - 0s 6ms/step - loss: 0.0284 - accuracy: 1.0000\n",
            "Epoch 29/100\n",
            "3/3 [==============================] - 0s 5ms/step - loss: 0.0221 - accuracy: 1.0000\n",
            "Epoch 30/100\n",
            "3/3 [==============================] - 0s 6ms/step - loss: 0.0176 - accuracy: 1.0000\n",
            "Epoch 31/100\n",
            "3/3 [==============================] - 0s 5ms/step - loss: 0.0140 - accuracy: 1.0000\n",
            "Epoch 32/100\n",
            "3/3 [==============================] - 0s 6ms/step - loss: 0.0114 - accuracy: 1.0000\n",
            "Epoch 33/100\n",
            "3/3 [==============================] - 0s 5ms/step - loss: 0.0095 - accuracy: 1.0000\n",
            "Epoch 34/100\n",
            "3/3 [==============================] - 0s 5ms/step - loss: 0.0080 - accuracy: 1.0000\n",
            "Epoch 35/100\n",
            "3/3 [==============================] - 0s 5ms/step - loss: 0.0068 - accuracy: 1.0000\n",
            "Epoch 36/100\n",
            "3/3 [==============================] - 0s 5ms/step - loss: 0.0058 - accuracy: 1.0000\n",
            "Epoch 37/100\n",
            "3/3 [==============================] - 0s 5ms/step - loss: 0.0052 - accuracy: 1.0000\n",
            "Epoch 38/100\n",
            "3/3 [==============================] - 0s 8ms/step - loss: 0.0046 - accuracy: 1.0000\n",
            "Epoch 39/100\n",
            "3/3 [==============================] - 0s 5ms/step - loss: 0.0041 - accuracy: 1.0000\n",
            "Epoch 40/100\n",
            "3/3 [==============================] - 0s 6ms/step - loss: 0.0037 - accuracy: 1.0000\n",
            "Epoch 41/100\n",
            "3/3 [==============================] - 0s 5ms/step - loss: 0.0033 - accuracy: 1.0000\n",
            "Epoch 42/100\n",
            "3/3 [==============================] - 0s 5ms/step - loss: 0.0031 - accuracy: 1.0000\n",
            "Epoch 43/100\n",
            "3/3 [==============================] - 0s 5ms/step - loss: 0.0028 - accuracy: 1.0000\n",
            "Epoch 44/100\n",
            "3/3 [==============================] - 0s 6ms/step - loss: 0.0026 - accuracy: 1.0000\n",
            "Epoch 45/100\n",
            "3/3 [==============================] - 0s 5ms/step - loss: 0.0024 - accuracy: 1.0000\n",
            "Epoch 46/100\n",
            "3/3 [==============================] - 0s 5ms/step - loss: 0.0023 - accuracy: 1.0000\n",
            "Epoch 47/100\n",
            "3/3 [==============================] - 0s 6ms/step - loss: 0.0021 - accuracy: 1.0000\n",
            "Epoch 48/100\n",
            "3/3 [==============================] - 0s 5ms/step - loss: 0.0020 - accuracy: 1.0000\n",
            "Epoch 49/100\n",
            "3/3 [==============================] - 0s 7ms/step - loss: 0.0019 - accuracy: 1.0000\n",
            "Epoch 50/100\n",
            "3/3 [==============================] - 0s 6ms/step - loss: 0.0018 - accuracy: 1.0000\n",
            "Epoch 51/100\n",
            "3/3 [==============================] - 0s 5ms/step - loss: 0.0017 - accuracy: 1.0000\n",
            "Epoch 52/100\n",
            "3/3 [==============================] - 0s 5ms/step - loss: 0.0016 - accuracy: 1.0000\n",
            "Epoch 53/100\n",
            "3/3 [==============================] - 0s 5ms/step - loss: 0.0015 - accuracy: 1.0000\n",
            "Epoch 54/100\n",
            "3/3 [==============================] - 0s 6ms/step - loss: 0.0014 - accuracy: 1.0000\n",
            "Epoch 55/100\n",
            "3/3 [==============================] - 0s 5ms/step - loss: 0.0014 - accuracy: 1.0000\n",
            "Epoch 56/100\n",
            "3/3 [==============================] - 0s 6ms/step - loss: 0.0013 - accuracy: 1.0000\n",
            "Epoch 57/100\n",
            "3/3 [==============================] - 0s 6ms/step - loss: 0.0012 - accuracy: 1.0000\n",
            "Epoch 58/100\n",
            "3/3 [==============================] - 0s 5ms/step - loss: 0.0012 - accuracy: 1.0000\n",
            "Epoch 59/100\n",
            "3/3 [==============================] - 0s 6ms/step - loss: 0.0011 - accuracy: 1.0000\n",
            "Epoch 60/100\n",
            "3/3 [==============================] - 0s 5ms/step - loss: 0.0011 - accuracy: 1.0000\n",
            "Epoch 61/100\n",
            "3/3 [==============================] - 0s 5ms/step - loss: 0.0010 - accuracy: 1.0000\n",
            "Epoch 62/100\n",
            "3/3 [==============================] - 0s 6ms/step - loss: 0.0010 - accuracy: 1.0000\n",
            "Epoch 63/100\n",
            "3/3 [==============================] - 0s 5ms/step - loss: 9.6551e-04 - accuracy: 1.0000\n",
            "Epoch 64/100\n",
            "3/3 [==============================] - 0s 6ms/step - loss: 9.2994e-04 - accuracy: 1.0000\n",
            "Epoch 65/100\n",
            "3/3 [==============================] - 0s 7ms/step - loss: 8.9222e-04 - accuracy: 1.0000\n",
            "Epoch 66/100\n",
            "3/3 [==============================] - 0s 8ms/step - loss: 8.6434e-04 - accuracy: 1.0000\n",
            "Epoch 67/100\n",
            "3/3 [==============================] - 0s 5ms/step - loss: 8.2982e-04 - accuracy: 1.0000\n",
            "Epoch 68/100\n",
            "3/3 [==============================] - 0s 6ms/step - loss: 7.9972e-04 - accuracy: 1.0000\n",
            "Epoch 69/100\n",
            "3/3 [==============================] - 0s 6ms/step - loss: 7.7114e-04 - accuracy: 1.0000\n",
            "Epoch 70/100\n",
            "3/3 [==============================] - 0s 6ms/step - loss: 7.4279e-04 - accuracy: 1.0000\n",
            "Epoch 71/100\n",
            "3/3 [==============================] - 0s 6ms/step - loss: 7.1852e-04 - accuracy: 1.0000\n",
            "Epoch 72/100\n",
            "3/3 [==============================] - 0s 5ms/step - loss: 6.9468e-04 - accuracy: 1.0000\n",
            "Epoch 73/100\n",
            "3/3 [==============================] - 0s 6ms/step - loss: 6.7160e-04 - accuracy: 1.0000\n",
            "Epoch 74/100\n",
            "3/3 [==============================] - 0s 6ms/step - loss: 6.5043e-04 - accuracy: 1.0000\n",
            "Epoch 75/100\n",
            "3/3 [==============================] - 0s 6ms/step - loss: 6.3131e-04 - accuracy: 1.0000\n",
            "Epoch 76/100\n",
            "3/3 [==============================] - 0s 12ms/step - loss: 6.0925e-04 - accuracy: 1.0000\n",
            "Epoch 77/100\n",
            "3/3 [==============================] - 0s 6ms/step - loss: 5.9199e-04 - accuracy: 1.0000\n",
            "Epoch 78/100\n",
            "3/3 [==============================] - 0s 6ms/step - loss: 5.7399e-04 - accuracy: 1.0000\n",
            "Epoch 79/100\n",
            "3/3 [==============================] - 0s 6ms/step - loss: 5.5503e-04 - accuracy: 1.0000\n",
            "Epoch 80/100\n",
            "3/3 [==============================] - 0s 6ms/step - loss: 5.3926e-04 - accuracy: 1.0000\n",
            "Epoch 81/100\n",
            "3/3 [==============================] - 0s 6ms/step - loss: 5.2255e-04 - accuracy: 1.0000\n",
            "Epoch 82/100\n",
            "3/3 [==============================] - 0s 9ms/step - loss: 5.0898e-04 - accuracy: 1.0000\n",
            "Epoch 83/100\n",
            "3/3 [==============================] - 0s 6ms/step - loss: 4.9469e-04 - accuracy: 1.0000\n",
            "Epoch 84/100\n",
            "3/3 [==============================] - 0s 6ms/step - loss: 4.8007e-04 - accuracy: 1.0000\n",
            "Epoch 85/100\n",
            "3/3 [==============================] - 0s 6ms/step - loss: 4.6636e-04 - accuracy: 1.0000\n",
            "Epoch 86/100\n",
            "3/3 [==============================] - 0s 6ms/step - loss: 4.5377e-04 - accuracy: 1.0000\n",
            "Epoch 87/100\n",
            "3/3 [==============================] - 0s 6ms/step - loss: 4.4139e-04 - accuracy: 1.0000\n",
            "Epoch 88/100\n",
            "3/3 [==============================] - 0s 10ms/step - loss: 4.2999e-04 - accuracy: 1.0000\n",
            "Epoch 89/100\n",
            "3/3 [==============================] - 0s 6ms/step - loss: 4.2010e-04 - accuracy: 1.0000\n",
            "Epoch 90/100\n",
            "3/3 [==============================] - 0s 5ms/step - loss: 4.0930e-04 - accuracy: 1.0000\n",
            "Epoch 91/100\n",
            "3/3 [==============================] - 0s 5ms/step - loss: 3.9791e-04 - accuracy: 1.0000\n",
            "Epoch 92/100\n",
            "3/3 [==============================] - 0s 5ms/step - loss: 3.8837e-04 - accuracy: 1.0000\n",
            "Epoch 93/100\n",
            "3/3 [==============================] - 0s 6ms/step - loss: 3.7929e-04 - accuracy: 1.0000\n",
            "Epoch 94/100\n",
            "3/3 [==============================] - 0s 5ms/step - loss: 3.7023e-04 - accuracy: 1.0000\n",
            "Epoch 95/100\n",
            "3/3 [==============================] - 0s 5ms/step - loss: 3.6134e-04 - accuracy: 1.0000\n",
            "Epoch 96/100\n",
            "3/3 [==============================] - 0s 9ms/step - loss: 3.5288e-04 - accuracy: 1.0000\n",
            "Epoch 97/100\n",
            "3/3 [==============================] - 0s 5ms/step - loss: 3.4498e-04 - accuracy: 1.0000\n",
            "Epoch 98/100\n",
            "3/3 [==============================] - 0s 6ms/step - loss: 3.3754e-04 - accuracy: 1.0000\n",
            "Epoch 99/100\n",
            "3/3 [==============================] - 0s 5ms/step - loss: 3.2994e-04 - accuracy: 1.0000\n",
            "Epoch 100/100\n",
            "3/3 [==============================] - 0s 5ms/step - loss: 3.2294e-04 - accuracy: 1.0000\n"
          ]
        },
        {
          "output_type": "stream",
          "name": "stderr",
          "text": [
            "WARNING:tensorflow:5 out of the last 5 calls to <function Model.make_test_function.<locals>.test_function at 0x7fdd3ed78a60> triggered tf.function retracing. Tracing is expensive and the excessive number of tracings could be due to (1) creating @tf.function repeatedly in a loop, (2) passing tensors with different shapes, (3) passing Python objects instead of tensors. For (1), please define your @tf.function outside of the loop. For (2), @tf.function has reduce_retracing=True option that can avoid unnecessary retracing. For (3), please refer to https://www.tensorflow.org/guide/function#controlling_retracing and https://www.tensorflow.org/api_docs/python/tf/function for  more details.\n"
          ]
        },
        {
          "output_type": "stream",
          "name": "stdout",
          "text": [
            "1/1 [==============================] - 0s 166ms/step - loss: 5.2166e-04 - accuracy: 1.0000\n"
          ]
        },
        {
          "output_type": "stream",
          "name": "stderr",
          "text": [
            "WARNING:tensorflow:5 out of the last 5 calls to <function Model.make_predict_function.<locals>.predict_function at 0x7fdd3ed7a050> triggered tf.function retracing. Tracing is expensive and the excessive number of tracings could be due to (1) creating @tf.function repeatedly in a loop, (2) passing tensors with different shapes, (3) passing Python objects instead of tensors. For (1), please define your @tf.function outside of the loop. For (2), @tf.function has reduce_retracing=True option that can avoid unnecessary retracing. For (3), please refer to https://www.tensorflow.org/guide/function#controlling_retracing and https://www.tensorflow.org/api_docs/python/tf/function for  more details.\n"
          ]
        },
        {
          "output_type": "stream",
          "name": "stdout",
          "text": [
            "evaluate :  [0.0005216574063524604, 1.0]\n",
            "1/1 [==============================] - 0s 83ms/step\n",
            "predict:  [[9.9944431e-01]\n",
            " [9.9982506e-01]\n",
            " [9.9795985e-01]\n",
            " [9.9970633e-01]\n",
            " [1.6891207e-06]\n",
            " [3.2068857e-07]\n",
            " [1.3021773e-03]\n",
            " [9.9955994e-01]\n",
            " [3.9088173e-04]\n",
            " [5.9913462e-05]\n",
            " [7.0672744e-04]\n",
            " [9.9971539e-01]\n",
            " [3.3405839e-05]\n",
            " [1.2607140e-05]\n",
            " [5.3872677e-06]\n",
            " [9.9749547e-01]\n",
            " [9.9967444e-01]\n",
            " [7.2636867e-05]\n",
            " [9.9951422e-01]\n",
            " [9.9926490e-01]]\n"
          ]
        },
        {
          "output_type": "execute_result",
          "data": {
            "text/plain": [
              "[<matplotlib.lines.Line2D at 0x7fdd3ebb4430>]"
            ]
          },
          "metadata": {},
          "execution_count": 15
        },
        {
          "output_type": "display_data",
          "data": {
            "text/plain": [
              "<Figure size 640x480 with 1 Axes>"
            ],
            "image/png": "[encoded data removed]"
          },
          "metadata": {}
        }
      ]
    },
    {
      "cell_type": "code",
      "source": [
        "model_3 = keras.Sequential([\n",
        "\n",
        "        layers.Dense(100, input_shape=(2,), activation=\"relu\"),\n",
        "        layers.Dense(100, activation=\"relu\"),\n",
        "        layers.Dense(100, activation=\"relu\"),\n",
        "        layers.Dense(100, activation=\"relu\"),\n",
        "        layers.Dense(100, activation=\"relu\"),\n",
        "        layers.Dense(1, activation=\"sigmoid\") # 이진 분류라서 sigmoid 쓴다\n",
        "    ])\n",
        "\n",
        "\n",
        "model_3.compile( optimizer = 'adam', # 최적화\n",
        "loss = 'binary_crossentropy', # cost\n",
        "metrics = ['accuracy']) # 평가지표\n",
        "\n",
        "history_3 = model_3.fit(X_train, y_train, epochs = 100, batch_size = 32)\n",
        "\n",
        "print('evaluate : ', model_3.evaluate(X_test, y_test))\n",
        "print('predict: ', model_3.predict(X_test))\n",
        "\n",
        "plt.plot(range(1, 101), history_3.history['loss'])"
      ],
      "metadata": {
        "colab": {
          "base_uri": "https://localhost:8080/",
          "height": 1000
        },
        "id": "gkztpnjeiblu",
        "outputId": "2fd0cc4f-4e58-40b7-bbc9-786ea256e4a1"
      },
      "execution_count": null,
      "outputs": [
        {
          "output_type": "stream",
          "name": "stdout",
          "text": [
            "Epoch 1/100\n",
            "3/3 [==============================] - 2s 7ms/step - loss: 0.6912 - accuracy: 0.5750\n",
            "Epoch 2/100\n",
            "3/3 [==============================] - 0s 6ms/step - loss: 0.6761 - accuracy: 0.5375\n",
            "Epoch 3/100\n",
            "3/3 [==============================] - 0s 6ms/step - loss: 0.6586 - accuracy: 0.5625\n",
            "Epoch 4/100\n",
            "3/3 [==============================] - 0s 6ms/step - loss: 0.6364 - accuracy: 0.5625\n",
            "Epoch 5/100\n",
            "3/3 [==============================] - 0s 5ms/step - loss: 0.6042 - accuracy: 0.5625\n",
            "Epoch 6/100\n",
            "3/3 [==============================] - 0s 5ms/step - loss: 0.5614 - accuracy: 0.6250\n",
            "Epoch 7/100\n",
            "3/3 [==============================] - 0s 5ms/step - loss: 0.5152 - accuracy: 0.6375\n",
            "Epoch 8/100\n",
            "3/3 [==============================] - 0s 5ms/step - loss: 0.4632 - accuracy: 0.6875\n",
            "Epoch 9/100\n",
            "3/3 [==============================] - 0s 5ms/step - loss: 0.4089 - accuracy: 0.8375\n",
            "Epoch 10/100\n",
            "3/3 [==============================] - 0s 5ms/step - loss: 0.3532 - accuracy: 0.9375\n",
            "Epoch 11/100\n",
            "3/3 [==============================] - 0s 6ms/step - loss: 0.3006 - accuracy: 0.9875\n",
            "Epoch 12/100\n",
            "3/3 [==============================] - 0s 6ms/step - loss: 0.2524 - accuracy: 1.0000\n",
            "Epoch 13/100\n",
            "3/3 [==============================] - 0s 7ms/step - loss: 0.2044 - accuracy: 1.0000\n",
            "Epoch 14/100\n",
            "3/3 [==============================] - 0s 11ms/step - loss: 0.1605 - accuracy: 1.0000\n",
            "Epoch 15/100\n",
            "3/3 [==============================] - 0s 6ms/step - loss: 0.1120 - accuracy: 1.0000\n",
            "Epoch 16/100\n",
            "3/3 [==============================] - 0s 6ms/step - loss: 0.0666 - accuracy: 1.0000\n",
            "Epoch 17/100\n",
            "3/3 [==============================] - 0s 6ms/step - loss: 0.0345 - accuracy: 1.0000\n",
            "Epoch 18/100\n",
            "3/3 [==============================] - 0s 6ms/step - loss: 0.0148 - accuracy: 1.0000\n",
            "Epoch 19/100\n",
            "3/3 [==============================] - 0s 5ms/step - loss: 0.0070 - accuracy: 1.0000\n",
            "Epoch 20/100\n",
            "3/3 [==============================] - 0s 6ms/step - loss: 0.0036 - accuracy: 1.0000\n",
            "Epoch 21/100\n",
            "3/3 [==============================] - 0s 7ms/step - loss: 0.0019 - accuracy: 1.0000\n",
            "Epoch 22/100\n",
            "3/3 [==============================] - 0s 5ms/step - loss: 0.0011 - accuracy: 1.0000\n",
            "Epoch 23/100\n",
            "3/3 [==============================] - 0s 5ms/step - loss: 7.6270e-04 - accuracy: 1.0000\n",
            "Epoch 24/100\n",
            "3/3 [==============================] - 0s 5ms/step - loss: 5.5030e-04 - accuracy: 1.0000\n",
            "Epoch 25/100\n",
            "3/3 [==============================] - 0s 6ms/step - loss: 4.1242e-04 - accuracy: 1.0000\n",
            "Epoch 26/100\n",
            "3/3 [==============================] - 0s 6ms/step - loss: 3.2905e-04 - accuracy: 1.0000\n",
            "Epoch 27/100\n",
            "3/3 [==============================] - 0s 9ms/step - loss: 2.7359e-04 - accuracy: 1.0000\n",
            "Epoch 28/100\n",
            "3/3 [==============================] - 0s 6ms/step - loss: 2.3358e-04 - accuracy: 1.0000\n",
            "Epoch 29/100\n",
            "3/3 [==============================] - 0s 6ms/step - loss: 2.0689e-04 - accuracy: 1.0000\n",
            "Epoch 30/100\n",
            "3/3 [==============================] - 0s 6ms/step - loss: 1.8473e-04 - accuracy: 1.0000\n",
            "Epoch 31/100\n",
            "3/3 [==============================] - 0s 6ms/step - loss: 1.6768e-04 - accuracy: 1.0000\n",
            "Epoch 32/100\n",
            "3/3 [==============================] - 0s 6ms/step - loss: 1.5295e-04 - accuracy: 1.0000\n",
            "Epoch 33/100\n",
            "3/3 [==============================] - 0s 6ms/step - loss: 1.4189e-04 - accuracy: 1.0000\n",
            "Epoch 34/100\n",
            "3/3 [==============================] - 0s 6ms/step - loss: 1.3384e-04 - accuracy: 1.0000\n",
            "Epoch 35/100\n",
            "3/3 [==============================] - 0s 6ms/step - loss: 1.2737e-04 - accuracy: 1.0000\n",
            "Epoch 36/100\n",
            "3/3 [==============================] - 0s 8ms/step - loss: 1.1986e-04 - accuracy: 1.0000\n",
            "Epoch 37/100\n",
            "3/3 [==============================] - 0s 6ms/step - loss: 1.1429e-04 - accuracy: 1.0000\n",
            "Epoch 38/100\n",
            "3/3 [==============================] - 0s 6ms/step - loss: 1.0899e-04 - accuracy: 1.0000\n",
            "Epoch 39/100\n",
            "3/3 [==============================] - 0s 6ms/step - loss: 1.0421e-04 - accuracy: 1.0000\n",
            "Epoch 40/100\n",
            "3/3 [==============================] - 0s 6ms/step - loss: 1.0030e-04 - accuracy: 1.0000\n",
            "Epoch 41/100\n",
            "3/3 [==============================] - 0s 6ms/step - loss: 9.6422e-05 - accuracy: 1.0000\n",
            "Epoch 42/100\n",
            "3/3 [==============================] - 0s 6ms/step - loss: 9.3430e-05 - accuracy: 1.0000\n",
            "Epoch 43/100\n",
            "3/3 [==============================] - 0s 6ms/step - loss: 9.0449e-05 - accuracy: 1.0000\n",
            "Epoch 44/100\n",
            "3/3 [==============================] - 0s 6ms/step - loss: 8.6902e-05 - accuracy: 1.0000\n",
            "Epoch 45/100\n",
            "3/3 [==============================] - 0s 6ms/step - loss: 8.4540e-05 - accuracy: 1.0000\n",
            "Epoch 46/100\n",
            "3/3 [==============================] - 0s 5ms/step - loss: 8.1775e-05 - accuracy: 1.0000\n",
            "Epoch 47/100\n",
            "3/3 [==============================] - 0s 6ms/step - loss: 7.8852e-05 - accuracy: 1.0000\n",
            "Epoch 48/100\n",
            "3/3 [==============================] - 0s 6ms/step - loss: 7.7121e-05 - accuracy: 1.0000\n",
            "Epoch 49/100\n",
            "3/3 [==============================] - 0s 6ms/step - loss: 7.4479e-05 - accuracy: 1.0000\n",
            "Epoch 50/100\n",
            "3/3 [==============================] - 0s 5ms/step - loss: 7.2080e-05 - accuracy: 1.0000\n",
            "Epoch 51/100\n",
            "3/3 [==============================] - 0s 7ms/step - loss: 7.0567e-05 - accuracy: 1.0000\n",
            "Epoch 52/100\n",
            "3/3 [==============================] - 0s 5ms/step - loss: 6.8114e-05 - accuracy: 1.0000\n",
            "Epoch 53/100\n",
            "3/3 [==============================] - 0s 6ms/step - loss: 6.6412e-05 - accuracy: 1.0000\n",
            "Epoch 54/100\n",
            "3/3 [==============================] - 0s 6ms/step - loss: 6.4729e-05 - accuracy: 1.0000\n",
            "Epoch 55/100\n",
            "3/3 [==============================] - 0s 7ms/step - loss: 6.3003e-05 - accuracy: 1.0000\n",
            "Epoch 56/100\n",
            "3/3 [==============================] - 0s 6ms/step - loss: 6.1222e-05 - accuracy: 1.0000\n",
            "Epoch 57/100\n",
            "3/3 [==============================] - 0s 6ms/step - loss: 5.9795e-05 - accuracy: 1.0000\n",
            "Epoch 58/100\n",
            "3/3 [==============================] - 0s 6ms/step - loss: 5.8275e-05 - accuracy: 1.0000\n",
            "Epoch 59/100\n",
            "3/3 [==============================] - 0s 6ms/step - loss: 5.6726e-05 - accuracy: 1.0000\n",
            "Epoch 60/100\n",
            "3/3 [==============================] - 0s 6ms/step - loss: 5.5601e-05 - accuracy: 1.0000\n",
            "Epoch 61/100\n",
            "3/3 [==============================] - 0s 6ms/step - loss: 5.4302e-05 - accuracy: 1.0000\n",
            "Epoch 62/100\n",
            "3/3 [==============================] - 0s 6ms/step - loss: 5.2953e-05 - accuracy: 1.0000\n",
            "Epoch 63/100\n",
            "3/3 [==============================] - 0s 6ms/step - loss: 5.1837e-05 - accuracy: 1.0000\n",
            "Epoch 64/100\n",
            "3/3 [==============================] - 0s 7ms/step - loss: 5.0602e-05 - accuracy: 1.0000\n",
            "Epoch 65/100\n",
            "3/3 [==============================] - 0s 6ms/step - loss: 4.9339e-05 - accuracy: 1.0000\n",
            "Epoch 66/100\n",
            "3/3 [==============================] - 0s 6ms/step - loss: 4.8248e-05 - accuracy: 1.0000\n",
            "Epoch 67/100\n",
            "3/3 [==============================] - 0s 6ms/step - loss: 4.7472e-05 - accuracy: 1.0000\n",
            "Epoch 68/100\n",
            "3/3 [==============================] - 0s 6ms/step - loss: 4.6452e-05 - accuracy: 1.0000\n",
            "Epoch 69/100\n",
            "3/3 [==============================] - 0s 6ms/step - loss: 4.5643e-05 - accuracy: 1.0000\n",
            "Epoch 70/100\n",
            "3/3 [==============================] - 0s 9ms/step - loss: 4.4541e-05 - accuracy: 1.0000\n",
            "Epoch 71/100\n",
            "3/3 [==============================] - 0s 10ms/step - loss: 4.3420e-05 - accuracy: 1.0000\n",
            "Epoch 72/100\n",
            "3/3 [==============================] - 0s 6ms/step - loss: 4.2769e-05 - accuracy: 1.0000\n",
            "Epoch 73/100\n",
            "3/3 [==============================] - 0s 6ms/step - loss: 4.1768e-05 - accuracy: 1.0000\n",
            "Epoch 74/100\n",
            "3/3 [==============================] - 0s 6ms/step - loss: 4.1267e-05 - accuracy: 1.0000\n",
            "Epoch 75/100\n",
            "3/3 [==============================] - 0s 9ms/step - loss: 4.0407e-05 - accuracy: 1.0000\n",
            "Epoch 76/100\n",
            "3/3 [==============================] - 0s 6ms/step - loss: 3.9629e-05 - accuracy: 1.0000\n",
            "Epoch 77/100\n",
            "3/3 [==============================] - 0s 7ms/step - loss: 3.8834e-05 - accuracy: 1.0000\n",
            "Epoch 78/100\n",
            "3/3 [==============================] - 0s 6ms/step - loss: 3.8121e-05 - accuracy: 1.0000\n",
            "Epoch 79/100\n",
            "3/3 [==============================] - 0s 6ms/step - loss: 3.7288e-05 - accuracy: 1.0000\n",
            "Epoch 80/100\n",
            "3/3 [==============================] - 0s 6ms/step - loss: 3.6665e-05 - accuracy: 1.0000\n",
            "Epoch 81/100\n",
            "3/3 [==============================] - 0s 6ms/step - loss: 3.5982e-05 - accuracy: 1.0000\n",
            "Epoch 82/100\n",
            "3/3 [==============================] - 0s 6ms/step - loss: 3.5290e-05 - accuracy: 1.0000\n",
            "Epoch 83/100\n",
            "3/3 [==============================] - 0s 6ms/step - loss: 3.4708e-05 - accuracy: 1.0000\n",
            "Epoch 84/100\n",
            "3/3 [==============================] - 0s 7ms/step - loss: 3.4107e-05 - accuracy: 1.0000\n",
            "Epoch 85/100\n",
            "3/3 [==============================] - 0s 6ms/step - loss: 3.3593e-05 - accuracy: 1.0000\n",
            "Epoch 86/100\n",
            "3/3 [==============================] - 0s 7ms/step - loss: 3.2988e-05 - accuracy: 1.0000\n",
            "Epoch 87/100\n",
            "3/3 [==============================] - 0s 6ms/step - loss: 3.2223e-05 - accuracy: 1.0000\n",
            "Epoch 88/100\n",
            "3/3 [==============================] - 0s 6ms/step - loss: 3.1730e-05 - accuracy: 1.0000\n",
            "Epoch 89/100\n",
            "3/3 [==============================] - 0s 6ms/step - loss: 3.1203e-05 - accuracy: 1.0000\n",
            "Epoch 90/100\n",
            "3/3 [==============================] - 0s 6ms/step - loss: 3.0630e-05 - accuracy: 1.0000\n",
            "Epoch 91/100\n",
            "3/3 [==============================] - 0s 6ms/step - loss: 3.0021e-05 - accuracy: 1.0000\n",
            "Epoch 92/100\n",
            "3/3 [==============================] - 0s 6ms/step - loss: 2.9565e-05 - accuracy: 1.0000\n",
            "Epoch 93/100\n",
            "3/3 [==============================] - 0s 6ms/step - loss: 2.9088e-05 - accuracy: 1.0000\n",
            "Epoch 94/100\n",
            "3/3 [==============================] - 0s 6ms/step - loss: 2.8618e-05 - accuracy: 1.0000\n",
            "Epoch 95/100\n",
            "3/3 [==============================] - 0s 7ms/step - loss: 2.8159e-05 - accuracy: 1.0000\n",
            "Epoch 96/100\n",
            "3/3 [==============================] - 0s 6ms/step - loss: 2.7698e-05 - accuracy: 1.0000\n",
            "Epoch 97/100\n",
            "3/3 [==============================] - 0s 6ms/step - loss: 2.7270e-05 - accuracy: 1.0000\n",
            "Epoch 98/100\n",
            "3/3 [==============================] - 0s 6ms/step - loss: 2.6844e-05 - accuracy: 1.0000\n",
            "Epoch 99/100\n",
            "3/3 [==============================] - 0s 6ms/step - loss: 2.6378e-05 - accuracy: 1.0000\n",
            "Epoch 100/100\n",
            "3/3 [==============================] - 0s 6ms/step - loss: 2.5977e-05 - accuracy: 1.0000\n"
          ]
        },
        {
          "output_type": "stream",
          "name": "stderr",
          "text": [
            "WARNING:tensorflow:6 out of the last 6 calls to <function Model.make_test_function.<locals>.test_function at 0x7fdd3ebb3eb0> triggered tf.function retracing. Tracing is expensive and the excessive number of tracings could be due to (1) creating @tf.function repeatedly in a loop, (2) passing tensors with different shapes, (3) passing Python objects instead of tensors. For (1), please define your @tf.function outside of the loop. For (2), @tf.function has reduce_retracing=True option that can avoid unnecessary retracing. For (3), please refer to https://www.tensorflow.org/guide/function#controlling_retracing and https://www.tensorflow.org/api_docs/python/tf/function for  more details.\n"
          ]
        },
        {
          "output_type": "stream",
          "name": "stdout",
          "text": [
            "1/1 [==============================] - 0s 150ms/step - loss: 6.0674e-05 - accuracy: 1.0000\n",
            "evaluate :  [6.067367939976975e-05, 1.0]\n"
          ]
        },
        {
          "output_type": "stream",
          "name": "stderr",
          "text": [
            "WARNING:tensorflow:6 out of the last 6 calls to <function Model.make_predict_function.<locals>.predict_function at 0x7fdd3a35c820> triggered tf.function retracing. Tracing is expensive and the excessive number of tracings could be due to (1) creating @tf.function repeatedly in a loop, (2) passing tensors with different shapes, (3) passing Python objects instead of tensors. For (1), please define your @tf.function outside of the loop. For (2), @tf.function has reduce_retracing=True option that can avoid unnecessary retracing. For (3), please refer to https://www.tensorflow.org/guide/function#controlling_retracing and https://www.tensorflow.org/api_docs/python/tf/function for  more details.\n"
          ]
        },
        {
          "output_type": "stream",
          "name": "stdout",
          "text": [
            "1/1 [==============================] - 0s 73ms/step\n",
            "predict:  [[9.9995756e-01]\n",
            " [9.9997032e-01]\n",
            " [9.9961096e-01]\n",
            " [9.9998546e-01]\n",
            " [2.7710840e-09]\n",
            " [2.9038263e-10]\n",
            " [5.8525424e-05]\n",
            " [9.9989223e-01]\n",
            " [1.1295895e-05]\n",
            " [2.3009102e-06]\n",
            " [1.1246743e-04]\n",
            " [9.9997342e-01]\n",
            " [6.1602168e-07]\n",
            " [7.2450582e-08]\n",
            " [3.8119257e-08]\n",
            " [9.9981004e-01]\n",
            " [9.9997199e-01]\n",
            " [4.3958971e-07]\n",
            " [9.9983144e-01]\n",
            " [9.9996901e-01]]\n"
          ]
        },
        {
          "output_type": "execute_result",
          "data": {
            "text/plain": [
              "[<matplotlib.lines.Line2D at 0x7fdd3a225c30>]"
            ]
          },
          "metadata": {},
          "execution_count": 16
        },
        {
          "output_type": "display_data",
          "data": {
            "text/plain": [
              "<Figure size 640x480 with 1 Axes>"
            ],
            "image/png": "[encoded data removed]"
          },
          "metadata": {}
        }
      ]
    },
    {
      "cell_type": "code",
      "source": [
        "model_4 = keras.Sequential([\n",
        "\n",
        "        layers.Dense(100, input_shape=(2,), activation=\"relu\"),\n",
        "        layers.Dense(100, activation=\"relu\"),\n",
        "        layers.Dense(100, activation=\"relu\"),\n",
        "        layers.Dense(100, activation=\"relu\"),\n",
        "        layers.Dense(100, activation=\"relu\"),\n",
        "        layers.Dense(100, activation=\"relu\"),\n",
        "        layers.Dense(100, activation=\"relu\"),\n",
        "        layers.Dense(100, activation=\"relu\"),\n",
        "        layers.Dense(100, activation=\"relu\"),\n",
        "        layers.Dense(100, activation=\"relu\"),\n",
        "        layers.Dense(100, activation=\"relu\") \n",
        "    ])\n",
        "\n",
        "model_4.compile( optimizer = 'adam', # 최적화\n",
        "loss = 'binary_crossentropy', # cost\n",
        "metrics = ['accuracy']) # 평가지표\n",
        "\n",
        "history_4 = model_4.fit(X_train, y_train, epochs = 100, batch_size = 32)\n",
        "\n",
        "print('evaluate : ', model_4.evaluate(X_test, y_test))\n",
        "print('predict: ', model_4.predict(X_test))\n",
        "\n",
        "plt.plot(range(1, 101), history_4.history['loss'])"
      ],
      "metadata": {
        "colab": {
          "base_uri": "https://localhost:8080/",
          "height": 1000
        },
        "id": "cAnDujYQiKoG",
        "outputId": "b60027da-9fe8-4f31-be44-73c4baa1759b"
      },
      "execution_count": null,
      "outputs": [
        {
          "output_type": "stream",
          "name": "stdout",
          "text": [
            "Epoch 1/100\n",
            "3/3 [==============================] - 4s 9ms/step - loss: 4.9147 - accuracy: 0.0000e+00\n",
            "Epoch 2/100\n",
            "3/3 [==============================] - 0s 6ms/step - loss: 3.8119 - accuracy: 0.0000e+00\n",
            "Epoch 3/100\n",
            "3/3 [==============================] - 0s 7ms/step - loss: 3.5120 - accuracy: 0.0000e+00\n",
            "Epoch 4/100\n",
            "3/3 [==============================] - 0s 7ms/step - loss: 3.2693 - accuracy: 0.0000e+00\n",
            "Epoch 5/100\n",
            "3/3 [==============================] - 0s 7ms/step - loss: 3.0816 - accuracy: 0.0000e+00\n",
            "Epoch 6/100\n",
            "3/3 [==============================] - 0s 7ms/step - loss: 2.8912 - accuracy: 0.0000e+00\n",
            "Epoch 7/100\n",
            "3/3 [==============================] - 0s 10ms/step - loss: 2.8114 - accuracy: 0.0000e+00\n",
            "Epoch 8/100\n",
            "3/3 [==============================] - 0s 7ms/step - loss: 2.9417 - accuracy: 0.0000e+00\n",
            "Epoch 9/100\n",
            "3/3 [==============================] - 0s 6ms/step - loss: 2.7840 - accuracy: 0.0000e+00\n",
            "Epoch 10/100\n",
            "3/3 [==============================] - 0s 6ms/step - loss: 2.6973 - accuracy: 0.0000e+00\n",
            "Epoch 11/100\n",
            "3/3 [==============================] - 0s 7ms/step - loss: 2.6762 - accuracy: 0.0000e+00\n",
            "Epoch 12/100\n",
            "3/3 [==============================] - 0s 8ms/step - loss: 2.6585 - accuracy: 0.0000e+00\n",
            "Epoch 13/100\n",
            "3/3 [==============================] - 0s 7ms/step - loss: 2.6377 - accuracy: 0.0000e+00\n",
            "Epoch 14/100\n",
            "3/3 [==============================] - 0s 7ms/step - loss: 2.6112 - accuracy: 0.0000e+00\n",
            "Epoch 15/100\n",
            "3/3 [==============================] - 0s 6ms/step - loss: 2.5855 - accuracy: 0.0000e+00\n",
            "Epoch 16/100\n",
            "3/3 [==============================] - 0s 7ms/step - loss: 2.5586 - accuracy: 0.0000e+00\n",
            "Epoch 17/100\n",
            "3/3 [==============================] - 0s 8ms/step - loss: 2.5290 - accuracy: 0.0000e+00\n",
            "Epoch 18/100\n",
            "3/3 [==============================] - 0s 7ms/step - loss: 2.4935 - accuracy: 0.0000e+00\n",
            "Epoch 19/100\n",
            "3/3 [==============================] - 0s 7ms/step - loss: 2.4504 - accuracy: 0.0000e+00\n",
            "Epoch 20/100\n",
            "3/3 [==============================] - 0s 8ms/step - loss: 2.3989 - accuracy: 0.0000e+00\n",
            "Epoch 21/100\n",
            "3/3 [==============================] - 0s 6ms/step - loss: 2.3275 - accuracy: 0.0000e+00\n",
            "Epoch 22/100\n",
            "3/3 [==============================] - 0s 7ms/step - loss: 2.2568 - accuracy: 0.0000e+00\n",
            "Epoch 23/100\n",
            "3/3 [==============================] - 0s 7ms/step - loss: 2.1818 - accuracy: 0.0000e+00\n",
            "Epoch 24/100\n",
            "3/3 [==============================] - 0s 7ms/step - loss: 2.1384 - accuracy: 0.0000e+00\n",
            "Epoch 25/100\n",
            "3/3 [==============================] - 0s 12ms/step - loss: 2.0993 - accuracy: 0.0000e+00\n",
            "Epoch 26/100\n",
            "3/3 [==============================] - 0s 7ms/step - loss: 2.0698 - accuracy: 0.0000e+00\n",
            "Epoch 27/100\n",
            "3/3 [==============================] - 0s 7ms/step - loss: 2.0505 - accuracy: 0.0000e+00\n",
            "Epoch 28/100\n",
            "3/3 [==============================] - 0s 7ms/step - loss: 2.0333 - accuracy: 0.0000e+00\n",
            "Epoch 29/100\n",
            "3/3 [==============================] - 0s 7ms/step - loss: 2.0220 - accuracy: 0.0000e+00\n",
            "Epoch 30/100\n",
            "3/3 [==============================] - 0s 8ms/step - loss: 2.0165 - accuracy: 0.0000e+00\n",
            "Epoch 31/100\n",
            "3/3 [==============================] - 0s 12ms/step - loss: 2.0140 - accuracy: 0.0000e+00\n",
            "Epoch 32/100\n",
            "3/3 [==============================] - 0s 7ms/step - loss: 2.0120 - accuracy: 0.0000e+00\n",
            "Epoch 33/100\n",
            "3/3 [==============================] - 0s 7ms/step - loss: 2.0106 - accuracy: 0.0000e+00\n",
            "Epoch 34/100\n",
            "3/3 [==============================] - 0s 7ms/step - loss: 2.0092 - accuracy: 0.0000e+00\n",
            "Epoch 35/100\n",
            "3/3 [==============================] - 0s 7ms/step - loss: 2.0079 - accuracy: 0.0000e+00\n",
            "Epoch 36/100\n",
            "3/3 [==============================] - 0s 7ms/step - loss: 1.9603 - accuracy: 0.0000e+00\n",
            "Epoch 37/100\n",
            "3/3 [==============================] - 0s 9ms/step - loss: 1.8647 - accuracy: 0.0000e+00\n",
            "Epoch 38/100\n",
            "3/3 [==============================] - 0s 7ms/step - loss: 1.8545 - accuracy: 0.0000e+00\n",
            "Epoch 39/100\n",
            "3/3 [==============================] - 0s 7ms/step - loss: 1.8520 - accuracy: 0.0000e+00\n",
            "Epoch 40/100\n",
            "3/3 [==============================] - 0s 7ms/step - loss: 1.8515 - accuracy: 0.0000e+00\n",
            "Epoch 41/100\n",
            "3/3 [==============================] - 0s 7ms/step - loss: 1.8514 - accuracy: 0.0000e+00\n",
            "Epoch 42/100\n",
            "3/3 [==============================] - 0s 7ms/step - loss: 1.8181 - accuracy: 0.0000e+00\n",
            "Epoch 43/100\n",
            "3/3 [==============================] - 0s 7ms/step - loss: 1.7122 - accuracy: 0.0000e+00\n",
            "Epoch 44/100\n",
            "3/3 [==============================] - 0s 8ms/step - loss: 1.6997 - accuracy: 0.0000e+00\n",
            "Epoch 45/100\n",
            "3/3 [==============================] - 0s 8ms/step - loss: 1.6975 - accuracy: 0.0000e+00\n",
            "Epoch 46/100\n",
            "3/3 [==============================] - 0s 7ms/step - loss: 1.6970 - accuracy: 0.0000e+00\n",
            "Epoch 47/100\n",
            "3/3 [==============================] - 0s 7ms/step - loss: 1.6969 - accuracy: 0.0000e+00\n",
            "Epoch 48/100\n",
            "3/3 [==============================] - 0s 7ms/step - loss: 1.6969 - accuracy: 0.1750\n",
            "Epoch 49/100\n",
            "3/3 [==============================] - 0s 7ms/step - loss: 1.6968 - accuracy: 0.4500\n",
            "Epoch 50/100\n",
            "3/3 [==============================] - 0s 7ms/step - loss: 1.6968 - accuracy: 0.4875\n",
            "Epoch 51/100\n",
            "3/3 [==============================] - 0s 7ms/step - loss: 1.6967 - accuracy: 0.4875\n",
            "Epoch 52/100\n",
            "3/3 [==============================] - 0s 7ms/step - loss: 1.6967 - accuracy: 0.4875\n",
            "Epoch 53/100\n",
            "3/3 [==============================] - 0s 7ms/step - loss: 1.6967 - accuracy: 0.5000\n",
            "Epoch 54/100\n",
            "3/3 [==============================] - 0s 8ms/step - loss: 1.6967 - accuracy: 0.5000\n",
            "Epoch 55/100\n",
            "3/3 [==============================] - 0s 7ms/step - loss: 1.6967 - accuracy: 0.5000\n",
            "Epoch 56/100\n",
            "3/3 [==============================] - 0s 7ms/step - loss: 1.6967 - accuracy: 0.5000\n",
            "Epoch 57/100\n",
            "3/3 [==============================] - 0s 7ms/step - loss: 1.6967 - accuracy: 0.5000\n",
            "Epoch 58/100\n",
            "3/3 [==============================] - 0s 7ms/step - loss: 1.6967 - accuracy: 0.5000\n",
            "Epoch 59/100\n",
            "3/3 [==============================] - 0s 7ms/step - loss: 1.6967 - accuracy: 0.5000\n",
            "Epoch 60/100\n",
            "3/3 [==============================] - 0s 8ms/step - loss: 1.6967 - accuracy: 0.5000\n",
            "Epoch 61/100\n",
            "3/3 [==============================] - 0s 7ms/step - loss: 1.6967 - accuracy: 0.5000\n",
            "Epoch 62/100\n",
            "3/3 [==============================] - 0s 7ms/step - loss: 1.6967 - accuracy: 0.5000\n",
            "Epoch 63/100\n",
            "3/3 [==============================] - 0s 7ms/step - loss: 1.6967 - accuracy: 0.5000\n",
            "Epoch 64/100\n",
            "3/3 [==============================] - 0s 7ms/step - loss: 1.6967 - accuracy: 0.5000\n",
            "Epoch 65/100\n",
            "3/3 [==============================] - 0s 7ms/step - loss: 1.6967 - accuracy: 0.5000\n",
            "Epoch 66/100\n",
            "3/3 [==============================] - 0s 7ms/step - loss: 1.6967 - accuracy: 0.5000\n",
            "Epoch 67/100\n",
            "3/3 [==============================] - 0s 7ms/step - loss: 1.6967 - accuracy: 0.5000\n",
            "Epoch 68/100\n",
            "3/3 [==============================] - 0s 7ms/step - loss: 1.6967 - accuracy: 0.5000\n",
            "Epoch 69/100\n",
            "3/3 [==============================] - 0s 7ms/step - loss: 1.6967 - accuracy: 0.5000\n",
            "Epoch 70/100\n",
            "3/3 [==============================] - 0s 7ms/step - loss: 1.6967 - accuracy: 0.5000\n",
            "Epoch 71/100\n",
            "3/3 [==============================] - 0s 7ms/step - loss: 1.6967 - accuracy: 0.5000\n",
            "Epoch 72/100\n",
            "3/3 [==============================] - 0s 7ms/step - loss: 1.6967 - accuracy: 0.5000\n",
            "Epoch 73/100\n",
            "3/3 [==============================] - 0s 7ms/step - loss: 1.6967 - accuracy: 0.5000\n",
            "Epoch 74/100\n",
            "3/3 [==============================] - 0s 7ms/step - loss: 1.6967 - accuracy: 0.5000\n",
            "Epoch 75/100\n",
            "3/3 [==============================] - 0s 7ms/step - loss: 1.6967 - accuracy: 0.5000\n",
            "Epoch 76/100\n",
            "3/3 [==============================] - 0s 9ms/step - loss: 1.6967 - accuracy: 0.5000\n",
            "Epoch 77/100\n",
            "3/3 [==============================] - 0s 8ms/step - loss: 1.6967 - accuracy: 0.5000\n",
            "Epoch 78/100\n",
            "3/3 [==============================] - 0s 9ms/step - loss: 1.6967 - accuracy: 0.5000\n",
            "Epoch 79/100\n",
            "3/3 [==============================] - 0s 9ms/step - loss: 1.6967 - accuracy: 0.5000\n",
            "Epoch 80/100\n",
            "3/3 [==============================] - 0s 11ms/step - loss: 1.6967 - accuracy: 0.5000\n",
            "Epoch 81/100\n",
            "3/3 [==============================] - 0s 11ms/step - loss: 1.6967 - accuracy: 0.5000\n",
            "Epoch 82/100\n",
            "3/3 [==============================] - 0s 10ms/step - loss: 1.6967 - accuracy: 0.5000\n",
            "Epoch 83/100\n",
            "3/3 [==============================] - 0s 9ms/step - loss: 1.6967 - accuracy: 0.5000\n",
            "Epoch 84/100\n",
            "3/3 [==============================] - 0s 9ms/step - loss: 1.6967 - accuracy: 0.5000\n",
            "Epoch 85/100\n",
            "3/3 [==============================] - 0s 10ms/step - loss: 1.6967 - accuracy: 0.5000\n",
            "Epoch 86/100\n",
            "3/3 [==============================] - 0s 12ms/step - loss: 1.6967 - accuracy: 0.5000\n",
            "Epoch 87/100\n",
            "3/3 [==============================] - 0s 9ms/step - loss: 1.6967 - accuracy: 0.5000\n",
            "Epoch 88/100\n",
            "3/3 [==============================] - 0s 11ms/step - loss: 1.6967 - accuracy: 0.5000\n",
            "Epoch 89/100\n",
            "3/3 [==============================] - 0s 11ms/step - loss: 1.6967 - accuracy: 0.5000\n",
            "Epoch 90/100\n",
            "3/3 [==============================] - 0s 9ms/step - loss: 1.6967 - accuracy: 0.5000\n",
            "Epoch 91/100\n",
            "3/3 [==============================] - 0s 11ms/step - loss: 1.6967 - accuracy: 0.5000\n",
            "Epoch 92/100\n",
            "3/3 [==============================] - 0s 9ms/step - loss: 1.6967 - accuracy: 0.5000\n",
            "Epoch 93/100\n",
            "3/3 [==============================] - 0s 9ms/step - loss: 1.6967 - accuracy: 0.5000\n",
            "Epoch 94/100\n",
            "3/3 [==============================] - 0s 9ms/step - loss: 1.6967 - accuracy: 0.5000\n",
            "Epoch 95/100\n",
            "3/3 [==============================] - 0s 9ms/step - loss: 1.6967 - accuracy: 0.5000\n",
            "Epoch 96/100\n",
            "3/3 [==============================] - 0s 9ms/step - loss: 1.6967 - accuracy: 0.5000\n",
            "Epoch 97/100\n",
            "3/3 [==============================] - 0s 9ms/step - loss: 1.6967 - accuracy: 0.5000\n",
            "Epoch 98/100\n",
            "3/3 [==============================] - 0s 9ms/step - loss: 1.6967 - accuracy: 0.5000\n",
            "Epoch 99/100\n",
            "3/3 [==============================] - 0s 10ms/step - loss: 1.6967 - accuracy: 0.5000\n",
            "Epoch 100/100\n",
            "3/3 [==============================] - 0s 10ms/step - loss: 1.6967 - accuracy: 0.5000\n",
            "1/1 [==============================] - 0s 272ms/step - loss: 1.6967 - accuracy: 0.5000\n",
            "evaluate :  [1.6967445611953735, 0.5]\n",
            "1/1 [==============================] - 0s 145ms/step\n",
            "predict:  [[0.        1.5969957 0.        ... 3.3417914 1.4442228 1.8526239]\n",
            " [0.        2.0271764 0.        ... 4.251418  1.8351568 2.3549433]\n",
            " [0.        1.2869143 0.        ... 2.692409  1.1685838 1.4902203]\n",
            " ...\n",
            " [0.        0.        0.        ... 0.        0.        0.       ]\n",
            " [0.        1.8629493 0.        ... 3.9040365 1.6850126 2.1625218]\n",
            " [0.        1.4452876 0.        ... 3.02294   1.3077043 1.6759378]]\n"
          ]
        },
        {
          "output_type": "execute_result",
          "data": {
            "text/plain": [
              "[<matplotlib.lines.Line2D at 0x7fdd285d7f70>]"
            ]
          },
          "metadata": {},
          "execution_count": 17
        },
        {
          "output_type": "display_data",
          "data": {
            "text/plain": [
              "<Figure size 640x480 with 1 Axes>"
            ],
            "image/png": "[encoded data removed]"
          },
          "metadata": {}
        }
      ]
    },
    {
      "cell_type": "code",
      "source": [
        "print('e_1 : ', model_1.evaluate(X_test, y_test),\n",
        "      'e_2 : ', model_2.evaluate(X_test, y_test),\n",
        "      'e_3 : ', model_3.evaluate(X_test, y_test),\n",
        "      'e_4 : ', model_4.evaluate(X_test, y_test),)\n",
        "print('pre1: ', model_1.predict(X_test),\n",
        "      'pre2: ', model_2.predict(X_test),\n",
        "      'pre3: ', model_3.predict(X_test),\n",
        "      'pre4: ', model_4.predict(X_test))\n",
        "\n",
        "plt.plot(range(1, 101), history_1.history['loss'], history_2.history['loss'], \n",
        "         history_3.history['loss'], history_4.history['loss'])"
      ],
      "metadata": {
        "colab": {
          "base_uri": "https://localhost:8080/",
          "height": 1000
        },
        "id": "Bg2x6V3qn8HG",
        "outputId": "faa62b86-2b7b-4cf4-ae09-9c288704cabd"
      },
      "execution_count": null,
      "outputs": [
        {
          "output_type": "stream",
          "name": "stdout",
          "text": [
            "1/1 [==============================] - 0s 34ms/step - loss: 0.6703 - accuracy: 0.7000\n",
            "1/1 [==============================] - 0s 35ms/step - loss: 5.2166e-04 - accuracy: 1.0000\n",
            "1/1 [==============================] - 0s 32ms/step - loss: 6.0674e-05 - accuracy: 1.0000\n",
            "1/1 [==============================] - 0s 31ms/step - loss: 1.6967 - accuracy: 0.5000\n",
            "e_1 :  [0.6703262329101562, 0.699999988079071] e_2 :  [0.0005216574063524604, 1.0] e_3 :  [6.067367939976975e-05, 1.0] e_4 :  [1.6967445611953735, 0.5]\n",
            "1/1 [==============================] - 0s 25ms/step\n",
            "1/1 [==============================] - 0s 29ms/step\n",
            "1/1 [==============================] - 0s 28ms/step\n",
            "1/1 [==============================] - 0s 33ms/step\n",
            "pre1:  [[0.57967454]\n",
            " [0.4488548 ]\n",
            " [0.5410045 ]\n",
            " [0.51670796]\n",
            " [0.3786864 ]\n",
            " [0.42561993]\n",
            " [0.55759776]\n",
            " [0.5376649 ]\n",
            " [0.5879376 ]\n",
            " [0.2650224 ]\n",
            " [0.32062653]\n",
            " [0.5597535 ]\n",
            " [0.49411255]\n",
            " [0.72143507]\n",
            " [0.60361964]\n",
            " [0.61932534]\n",
            " [0.5771995 ]\n",
            " [0.6765556 ]\n",
            " [0.54873675]\n",
            " [0.5973126 ]] pre2:  [[9.9944431e-01]\n",
            " [9.9982506e-01]\n",
            " [9.9795985e-01]\n",
            " [9.9970633e-01]\n",
            " [1.6891207e-06]\n",
            " [3.2068857e-07]\n",
            " [1.3021773e-03]\n",
            " [9.9955994e-01]\n",
            " [3.9088173e-04]\n",
            " [5.9913462e-05]\n",
            " [7.0672744e-04]\n",
            " [9.9971539e-01]\n",
            " [3.3405839e-05]\n",
            " [1.2607140e-05]\n",
            " [5.3872677e-06]\n",
            " [9.9749547e-01]\n",
            " [9.9967444e-01]\n",
            " [7.2636867e-05]\n",
            " [9.9951422e-01]\n",
            " [9.9926490e-01]] pre3:  [[9.9995756e-01]\n",
            " [9.9997032e-01]\n",
            " [9.9961096e-01]\n",
            " [9.9998546e-01]\n",
            " [2.7710840e-09]\n",
            " [2.9038263e-10]\n",
            " [5.8525424e-05]\n",
            " [9.9989223e-01]\n",
            " [1.1295895e-05]\n",
            " [2.3009102e-06]\n",
            " [1.1246743e-04]\n",
            " [9.9997342e-01]\n",
            " [6.1602168e-07]\n",
            " [7.2450582e-08]\n",
            " [3.8119257e-08]\n",
            " [9.9981004e-01]\n",
            " [9.9997199e-01]\n",
            " [4.3958971e-07]\n",
            " [9.9983144e-01]\n",
            " [9.9996901e-01]] pre4:  [[0.        1.5969957 0.        ... 3.3417914 1.4442228 1.8526239]\n",
            " [0.        2.0271764 0.        ... 4.251418  1.8351568 2.3549433]\n",
            " [0.        1.2869143 0.        ... 2.692409  1.1685838 1.4902203]\n",
            " ...\n",
            " [0.        0.        0.        ... 0.        0.        0.       ]\n",
            " [0.        1.8629493 0.        ... 3.9040365 1.6850126 2.1625218]\n",
            " [0.        1.4452876 0.        ... 3.02294   1.3077043 1.6759378]]\n"
          ]
        },
        {
          "output_type": "execute_result",
          "data": {
            "text/plain": [
              "[<matplotlib.lines.Line2D at 0x7fdd284e19c0>,\n",
              " <matplotlib.lines.Line2D at 0x7fdd284e19f0>,\n",
              " <matplotlib.lines.Line2D at 0x7fdd284e1a80>]"
            ]
          },
          "metadata": {},
          "execution_count": 18
        },
        {
          "output_type": "display_data",
          "data": {
            "text/plain": [
              "<Figure size 640x480 with 1 Axes>"
            ],
            "image/png": "[encoded data removed]"
          },
          "metadata": {}
        }
      ]
    },
    {
      "cell_type": "code",
      "source": [
        "# model_test = [model_1, model_2, model_3, model_4]\n",
        "# for i in model_test:\n",
        "#     i.compile( optimizer = 'adam', # 최적화\n",
        "#     loss = 'binary_crossentropy', # cost\n",
        "#     metrics = ['accuracy']) # 평가지표\n",
        "\n",
        "#     i.fit(X_train, y_train, epochs = 100, batch_size = 32)\n",
        " \n",
        "# print('evaluate_1 : ', model_1.evaluate(X_test, y_test), 'evaluate_2 : ', model_2.evaluate(X_test, y_test), )\n",
        "# print('predict_1: ', model_1.predict(X_test), 'predict_2: ', model_2.predict(X_test))  \n"
      ],
      "metadata": {
        "id": "kSVtGPhzmw4W"
      },
      "execution_count": null,
      "outputs": []
    },
    {
      "cell_type": "code",
      "source": [
        "# 모델 정보 확인 \n",
        "print(model_1.summary())\n",
        "print('-'*50)\n",
        "print(model_2.summary())\n",
        "print('-'*50)\n",
        "print(model_3.summary())\n",
        "print('-'*50)\n",
        "print(model_4.summary())"
      ],
      "metadata": {
        "id": "u7o5pO68hbWc",
        "colab": {
          "base_uri": "https://localhost:8080/"
        },
        "outputId": "e9c71482-b061-43d6-b0b9-31671315eef4"
      },
      "execution_count": null,
      "outputs": [
        {
          "output_type": "stream",
          "name": "stdout",
          "text": [
            "Model: \"sequential_20\"\n",
            "_________________________________________________________________\n",
            " Layer (type)                Output Shape              Param #   \n",
            "=================================================================\n",
            " dense_59 (Dense)            (None, 10)                30        \n",
            "                                                                 \n",
            " dense_60 (Dense)            (None, 1)                 11        \n",
            "                                                                 \n",
            "=================================================================\n",
            "Total params: 41\n",
            "Trainable params: 41\n",
            "Non-trainable params: 0\n",
            "_________________________________________________________________\n",
            "None\n",
            "--------------------------------------------------\n",
            "Model: \"sequential_25\"\n",
            "_________________________________________________________________\n",
            " Layer (type)                Output Shape              Param #   \n",
            "=================================================================\n",
            " dense_69 (Dense)            (None, 10)                30        \n",
            "                                                                 \n",
            " dense_70 (Dense)            (None, 5)                 55        \n",
            "                                                                 \n",
            " dense_71 (Dense)            (None, 1)                 6         \n",
            "                                                                 \n",
            "=================================================================\n",
            "Total params: 91\n",
            "Trainable params: 91\n",
            "Non-trainable params: 0\n",
            "_________________________________________________________________\n",
            "None\n",
            "--------------------------------------------------\n",
            "Model: \"sequential_26\"\n",
            "_________________________________________________________________\n",
            " Layer (type)                Output Shape              Param #   \n",
            "=================================================================\n",
            " dense_72 (Dense)            (None, 10)                30        \n",
            "                                                                 \n",
            " dense_73 (Dense)            (None, 10)                110       \n",
            "                                                                 \n",
            " dense_74 (Dense)            (None, 10)                110       \n",
            "                                                                 \n",
            " dense_75 (Dense)            (None, 10)                110       \n",
            "                                                                 \n",
            " dense_76 (Dense)            (None, 1)                 11        \n",
            "                                                                 \n",
            "=================================================================\n",
            "Total params: 371\n",
            "Trainable params: 371\n",
            "Non-trainable params: 0\n",
            "_________________________________________________________________\n",
            "None\n",
            "--------------------------------------------------\n",
            "Model: \"sequential_27\"\n",
            "_________________________________________________________________\n",
            " Layer (type)                Output Shape              Param #   \n",
            "=================================================================\n",
            " dense_77 (Dense)            (None, 10)                30        \n",
            "                                                                 \n",
            " dense_78 (Dense)            (None, 10)                110       \n",
            "                                                                 \n",
            " dense_79 (Dense)            (None, 10)                110       \n",
            "                                                                 \n",
            " dense_80 (Dense)            (None, 10)                110       \n",
            "                                                                 \n",
            " dense_81 (Dense)            (None, 10)                110       \n",
            "                                                                 \n",
            " dense_82 (Dense)            (None, 10)                110       \n",
            "                                                                 \n",
            " dense_83 (Dense)            (None, 10)                110       \n",
            "                                                                 \n",
            " dense_84 (Dense)            (None, 10)                110       \n",
            "                                                                 \n",
            " dense_85 (Dense)            (None, 10)                110       \n",
            "                                                                 \n",
            " dense_86 (Dense)            (None, 10)                110       \n",
            "                                                                 \n",
            " dense_87 (Dense)            (None, 10)                110       \n",
            "                                                                 \n",
            "=================================================================\n",
            "Total params: 1,130\n",
            "Trainable params: 1,130\n",
            "Non-trainable params: 0\n",
            "_________________________________________________________________\n",
            "None\n"
          ]
        }
      ]
    },
    {
      "cell_type": "markdown",
      "metadata": {
        "id": "oVL7uS6XaKpP"
      },
      "source": [
        "## 문제1. 유방암 데이터 생성"
      ]
    },
    {
      "cell_type": "markdown",
      "metadata": {
        "id": "W3z_KlThizZE"
      },
      "source": [
        "위스콘신 대학교에서 제공한 유방암 진단결과 데이터이다.  \n",
        "\n",
        "feature  \n",
        "* 양성(benign, 0)과 악성(malignant, 1)을 구분할 수 있는 종양의 크기, 모양 등의 다양한 특성값을 가진다.\n",
        "* `mean_` : 1 ~ 10번째 feature는 특성별 평균값을 의미한다.\n",
        "* `_error` : 11 ~ 20번째 feature는 특성별 표준오차(Standard Error)를 의미한다.\n",
        "* `worst_` : 21 ~ 30번째까지는 각 종양의 특성들에서 제일 큰 3개의 값을 평균낸 값을 의미한다.\n",
        "\n",
        "\n",
        "<a title=\"Preethi Sekar, Jyotsna Naresh Bharti, Jitendra Singh Nigam, Ankit Sharma, and Priyanka Bhatia Soni, CC BY 3.0 &lt;https://creativecommons.org/licenses/by/3.0&gt;, via Wikimedia Commons\" href=\"https://commons.wikimedia.org/wiki/File:Micrograph_of_ductal_carcinoma_with_marked_nuclear_pleomorphism_and_increased_mitotic_rate.jpg\"><img width=\"512\" alt=\"Micrograph of ductal carcinoma with marked nuclear pleomorphism and increased mitotic rate\" src=\"https://upload.wikimedia.org/wikipedia/commons/thumb/f/f8/Micrograph_of_ductal_carcinoma_with_marked_nuclear_pleomorphism_and_increased_mitotic_rate.jpg/512px-Micrograph_of_ductal_carcinoma_with_marked_nuclear_pleomorphism_and_increased_mitotic_rate.jpg\"></a>\n",
        "\n",
        "<a href=\"https://commons.wikimedia.org/wiki/File:Micrograph_of_ductal_carcinoma_with_marked_nuclear_pleomorphism_and_increased_mitotic_rate.jpg\">Preethi Sekar, Jyotsna Naresh Bharti, Jitendra Singh Nigam, Ankit Sharma, and Priyanka Bhatia Soni</a>, <a href=\"https://creativecommons.org/licenses/by/3.0\">CC BY 3.0</a>, via Wikimedia Commons"
      ]
    },
    {
      "cell_type": "code",
      "source": [
        "from sklearn.datasets import load_breast_cancer\n",
        "from sklearn.model_selection import train_test_split\n",
        "\n",
        "# 유방암 data를 불러온 후, cancer 변수에 담아보자.\n",
        "cancer = load_breast_cancer()\n",
        "\n",
        "# 유방암 data를 학습용과 검증용 데이터 세트로 분리해보자.\n",
        "X_train, X_test, y_train, y_test = train_test_split(cancer.data, cancer.target,\n",
        "                                                   test_size=0.3, shuffle = True)"
      ],
      "metadata": {
        "id": "KhVbCvyzlKAb"
      },
      "execution_count": null,
      "outputs": []
    },
    {
      "cell_type": "code",
      "source": [
        "import numpy as np \n",
        "import pandas as pd \n",
        "from sklearn.datasets import make_classification, make_circles\n",
        "from sklearn.model_selection import train_test_split\n",
        "import tensorflow as tf\n",
        "from tensorflow import keras\n",
        "from tensorflow.keras import layers\n",
        "from tensorflow.keras.layers import Dense"
      ],
      "metadata": {
        "id": "I6vD_v_wqMRY"
      },
      "execution_count": 5,
      "outputs": []
    },
    {
      "cell_type": "code",
      "source": [
        "# 모델링\n",
        "c_model = keras.Sequential([\n",
        "    layers.Dense(10, input_shape = (30,), activation = \"relu\"),\n",
        "    layers.Dense(10, activation = \"relu\"),\n",
        "    layers.Dense(10, activation = \"relu\"),\n",
        "    layers.Dense(1, activation = \"sigmoid\")\n",
        "])"
      ],
      "metadata": {
        "id": "aKt7edUzjGk4"
      },
      "execution_count": null,
      "outputs": []
    },
    {
      "cell_type": "code",
      "source": [
        "# 컴파일링\n",
        "c_model.compile(optimizer = 'adam',\n",
        "                loss = 'binary_crossentropy',\n",
        "                metrics = ['accuracy'])"
      ],
      "metadata": {
        "id": "ubMKX9WVn9kb"
      },
      "execution_count": null,
      "outputs": []
    },
    {
      "cell_type": "code",
      "source": [
        "c_model.fit(X_train, y_train, epochs = 10, batch_size = 10)"
      ],
      "metadata": {
        "colab": {
          "base_uri": "https://localhost:8080/"
        },
        "id": "g01skTBksfuC",
        "outputId": "83f39ae2-5ff0-4109-f05d-7e80870792fe"
      },
      "execution_count": null,
      "outputs": [
        {
          "output_type": "stream",
          "name": "stdout",
          "text": [
            "Epoch 1/10\n",
            "40/40 [==============================] - 2s 4ms/step - loss: 3.2898 - accuracy: 0.5678\n",
            "Epoch 2/10\n",
            "40/40 [==============================] - 0s 4ms/step - loss: 0.9428 - accuracy: 0.6734\n",
            "Epoch 3/10\n",
            "40/40 [==============================] - 0s 3ms/step - loss: 0.5529 - accuracy: 0.8090\n",
            "Epoch 4/10\n",
            "40/40 [==============================] - 0s 4ms/step - loss: 0.3889 - accuracy: 0.8492\n",
            "Epoch 5/10\n",
            "40/40 [==============================] - 0s 4ms/step - loss: 0.3001 - accuracy: 0.8995\n",
            "Epoch 6/10\n",
            "40/40 [==============================] - 0s 4ms/step - loss: 0.2570 - accuracy: 0.9221\n",
            "Epoch 7/10\n",
            "40/40 [==============================] - 0s 4ms/step - loss: 0.2535 - accuracy: 0.9020\n",
            "Epoch 8/10\n",
            "40/40 [==============================] - 0s 4ms/step - loss: 0.2352 - accuracy: 0.9271\n",
            "Epoch 9/10\n",
            "40/40 [==============================] - 0s 3ms/step - loss: 0.2189 - accuracy: 0.9296\n",
            "Epoch 10/10\n",
            "40/40 [==============================] - 0s 4ms/step - loss: 0.2127 - accuracy: 0.9221\n"
          ]
        },
        {
          "output_type": "execute_result",
          "data": {
            "text/plain": [
              "<keras.callbacks.History at 0x7fdd619b16f0>"
            ]
          },
          "metadata": {},
          "execution_count": 33
        }
      ]
    },
    {
      "cell_type": "code",
      "source": [
        "# 학습\n",
        "c_model.fit(X_train, y_train, epochs = 10, batch_size = 10)"
      ],
      "metadata": {
        "colab": {
          "base_uri": "https://localhost:8080/"
        },
        "id": "3a5XPVgjoD0r",
        "outputId": "ed8aadbe-90b9-4fda-85f6-e390fb3c6a5c"
      },
      "execution_count": null,
      "outputs": [
        {
          "output_type": "stream",
          "name": "stdout",
          "text": [
            "Epoch 1/10\n",
            "13/13 [==============================] - 2s 6ms/step - loss: 3.9781 - accuracy: 0.5553\n",
            "Epoch 2/10\n",
            "13/13 [==============================] - 0s 11ms/step - loss: 0.5923 - accuracy: 0.8116\n",
            "Epoch 3/10\n",
            "13/13 [==============================] - 0s 5ms/step - loss: 0.2693 - accuracy: 0.9121\n",
            "Epoch 4/10\n",
            "13/13 [==============================] - 0s 5ms/step - loss: 0.1932 - accuracy: 0.9271\n",
            "Epoch 5/10\n",
            "13/13 [==============================] - 0s 6ms/step - loss: 0.1842 - accuracy: 0.9271\n",
            "Epoch 6/10\n",
            "13/13 [==============================] - 0s 4ms/step - loss: 0.1963 - accuracy: 0.9196\n",
            "Epoch 7/10\n",
            "13/13 [==============================] - 0s 4ms/step - loss: 0.2818 - accuracy: 0.8945\n",
            "Epoch 8/10\n",
            "13/13 [==============================] - 0s 4ms/step - loss: 0.2405 - accuracy: 0.9271\n",
            "Epoch 9/10\n",
            "13/13 [==============================] - 0s 4ms/step - loss: 0.1920 - accuracy: 0.9322\n",
            "Epoch 10/10\n",
            "13/13 [==============================] - 0s 4ms/step - loss: 0.2112 - accuracy: 0.9095\n"
          ]
        },
        {
          "output_type": "execute_result",
          "data": {
            "text/plain": [
              "<keras.callbacks.History at 0x7fe368fc6130>"
            ]
          },
          "metadata": {},
          "execution_count": 35
        }
      ]
    },
    {
      "cell_type": "code",
      "source": [
        "# 정확도 측정\n"
      ],
      "metadata": {
        "colab": {
          "base_uri": "https://localhost:8080/"
        },
        "id": "Q6Pvs1qWoLq9",
        "outputId": "90034964-2629-4fc9-f924-c86aaf381615"
      },
      "execution_count": null,
      "outputs": [
        {
          "output_type": "stream",
          "name": "stdout",
          "text": [
            "6/6 - 0s - loss: 0.3612 - accuracy: 0.9181 - 212ms/epoch - 35ms/step\n",
            "\n",
            "테스트 정확도: 0.9181286692619324\n"
          ]
        }
      ]
    },
    {
      "cell_type": "code",
      "source": [
        "y_pred_test = c_model.predict(X_test)\n",
        "m = tf.keras.metrics.BinaryAccuracy() # 2진 정확도\n",
        "m(y_test, y_pred_test)\n",
        "print('정확도 : ',c_model.evaluate(X_test, y_test))"
      ],
      "metadata": {
        "id": "ROVuKHrjCSpt",
        "colab": {
          "base_uri": "https://localhost:8080/"
        },
        "outputId": "05bcbf50-1a0c-4773-d09a-dad560bbcd4d"
      },
      "execution_count": null,
      "outputs": [
        {
          "output_type": "stream",
          "name": "stdout",
          "text": [
            "6/6 [==============================] - 0s 3ms/step\n",
            "6/6 [==============================] - 0s 5ms/step - loss: 0.2600 - accuracy: 0.9181\n",
            "정확도 :  [0.25999829173088074, 0.9181286692619324]\n"
          ]
        }
      ]
    },
    {
      "cell_type": "code",
      "source": [
        "import matplotlib.pyplot as plt \n",
        "import numpy as np\n",
        "\n",
        "line_x = np.arange(min(X_data), max(X_data), 0.01)\n",
        "line_y = a * line_x + b\n",
        "\n",
        "# 그래프를 그립니다. \n",
        "plt.plot(line_x, line_y, 'r-')\n",
        "plt.plot(X_test, y_test, 'bo')\n",
        "plt.xlabel('X')\n",
        "plt.ylabel('y')\n",
        "plt.show()"
      ],
      "metadata": {
        "id": "0birKf6e4rW2"
      },
      "execution_count": null,
      "outputs": []
    },
    {
      "cell_type": "markdown",
      "source": [
        "## 문제2. Wine data"
      ],
      "metadata": {
        "id": "Y9_7t7Gt5DYv"
      }
    },
    {
      "cell_type": "code",
      "source": [
        "import numpy as np \n",
        "import pandas as pd \n",
        "from sklearn.datasets import make_classification, make_circles\n",
        "from sklearn.model_selection import train_test_split\n",
        "import tensorflow as tf\n",
        "from tensorflow import keras\n",
        "from tensorflow.keras import layers\n",
        "from tensorflow.keras.layers import Dense"
      ],
      "metadata": {
        "id": "vmjD8Mxu4oEu"
      },
      "execution_count": 6,
      "outputs": []
    },
    {
      "cell_type": "code",
      "source": [
        "from sklearn.datasets import load_wine\n",
        "\n",
        "# wine data를 불러온 후, wine 변수에 담아보자.\n",
        "wine = load_wine()\n",
        "\n",
        "# wine data를 학습용과 검증용 데이터 세트로 분리해보자.\n",
        "X_train, X_test, y_train, y_test = train_test_split(wine.data, wine.target,\n",
        "                                                   test_size = 0.3, shuffle = True, stratify = wine.target)"
      ],
      "metadata": {
        "id": "eWjY9jNpFP5n"
      },
      "execution_count": 85,
      "outputs": []
    },
    {
      "cell_type": "code",
      "source": [
        "X_train.shape"
      ],
      "metadata": {
        "colab": {
          "base_uri": "https://localhost:8080/"
        },
        "id": "Dd9ZTec2Bb-E",
        "outputId": "a4980290-af2c-47cb-9c5f-66ac03f65092"
      },
      "execution_count": 86,
      "outputs": [
        {
          "output_type": "execute_result",
          "data": {
            "text/plain": [
              "(124, 13)"
            ]
          },
          "metadata": {},
          "execution_count": 86
        }
      ]
    },
    {
      "cell_type": "code",
      "source": [
        "print(y_train) # 카테고리가 0,1,2 이고 라벨임 >> 다중 분류, "
      ],
      "metadata": {
        "colab": {
          "base_uri": "https://localhost:8080/"
        },
        "id": "E_gvKk3hBfrB",
        "outputId": "7a50086d-1b92-42a5-b1c4-18dd8c8bd703"
      },
      "execution_count": 87,
      "outputs": [
        {
          "output_type": "stream",
          "name": "stdout",
          "text": [
            "[1 1 0 0 1 1 2 2 1 0 1 1 2 1 0 0 2 2 1 1 1 0 2 1 1 2 2 2 0 1 0 2 1 2 0 1 2\n",
            " 1 2 2 2 2 1 0 1 0 1 0 1 0 2 2 1 0 0 0 1 0 1 0 1 1 2 1 2 1 2 2 1 1 1 1 2 2\n",
            " 0 0 1 1 2 0 1 0 2 0 0 1 0 0 1 1 0 1 1 2 0 2 0 0 0 1 0 0 1 1 2 0 0 1 2 1 0\n",
            " 0 0 0 1 2 2 1 1 2 1 1 0 0]\n"
          ]
        }
      ]
    },
    {
      "cell_type": "code",
      "source": [
        "# modeling\n",
        "w_model = keras.Sequential([\n",
        "    layers.Dense(50, input_shape = (13,), activation = 'relu'),\n",
        "    layers.Dense(150, activation = 'relu'),\n",
        "    layers.Dense(50, activation = 'relu'),\n",
        "    # output layer의 노드 개수 == 카테고리 개수, activation = 'softmax'\n",
        "    layers.Dense(3, activation = 'softmax'),\n",
        "])\n"
      ],
      "metadata": {
        "id": "if416AYmFPuu"
      },
      "execution_count": null,
      "outputs": []
    },
    {
      "cell_type": "code",
      "source": [
        "# compiling\n",
        "w_model.compile(optimizer = 'adam',\n",
        "                loss = 'SparseCategoricalCrossentropy',\n",
        "                # 다중분류할 때 y는 기본적으로 one hot vector여야 한다\n",
        "\n",
        "                metrics = ['SparseCategoricalCrossentropy'])"
      ],
      "metadata": {
        "id": "qlLMZ-WeFPqI"
      },
      "execution_count": null,
      "outputs": []
    },
    {
      "cell_type": "markdown",
      "source": [
        " \n",
        "###### 참고 \n",
        "- CategoricalCrossentropy는 one hot vector해줘야 가능하다\n",
        " - input : one hot vector, Float in [0, 1]\n",
        "\n",
        "- SparseCategoricalCrossentropy \n",
        " - 라벨을 one hot vector로 바꿔준다\n",
        " - 레이블과 예측값 과의 Crossentropy 손실을 계산해준다\n",
        " - input : lavel, Optional integer(정수)\n"
      ],
      "metadata": {
        "id": "mrrAaQciDWYU"
      }
    },
    {
      "cell_type": "code",
      "source": [
        "# fitting\n",
        "loss_wine = w_model.fit(X_train, y_train, epochs = 100, batch_size = 31)"
      ],
      "metadata": {
        "id": "cuDThTnWFPkr"
      },
      "execution_count": null,
      "outputs": []
    },
    {
      "cell_type": "code",
      "source": [
        "# accuracy\n",
        "\n"
      ],
      "metadata": {
        "id": "QrS8V_awokj5",
        "colab": {
          "base_uri": "https://localhost:8080/"
        },
        "outputId": "b6f9c50c-8dc2-4686-c685-0af135256afa"
      },
      "execution_count": null,
      "outputs": [
        {
          "output_type": "stream",
          "name": "stdout",
          "text": [
            "2/2 - 0s - loss: 0.6606 - sparse_categorical_accuracy: 0.7407 - 237ms/epoch - 119ms/step\n",
            "\n",
            "테스트 정확도: 0.7407407164573669\n"
          ]
        }
      ]
    },
    {
      "cell_type": "code",
      "source": [
        "y_pred_test = w_model.predict(X_test)\n",
        "m = tf.keras.metrics.SparseCategoricalCrossentropy() \n",
        "\n",
        "m(y_test, y_pred_test)\n",
        "print('LOSS, 정확도 : ',w_model.evaluate(X_test, y_test))"
      ],
      "metadata": {
        "colab": {
          "base_uri": "https://localhost:8080/"
        },
        "id": "NzpqtydWv4wr",
        "outputId": "1e7597cc-b3dd-440c-9825-951fc1359b69"
      },
      "execution_count": null,
      "outputs": [
        {
          "output_type": "stream",
          "name": "stdout",
          "text": [
            "2/2 [==============================] - 0s 4ms/step\n",
            "2/2 [==============================] - 0s 17ms/step - loss: 0.8543 - sparse_categorical_crossentropy: 0.8543\n",
            "LOSS, 정확도 :  [0.8542834520339966, 0.8542834520339966]\n"
          ]
        }
      ]
    },
    {
      "cell_type": "code",
      "source": [
        "plt.plot(range(1, 101), loss_wine.history['loss'])"
      ],
      "metadata": {
        "colab": {
          "base_uri": "https://localhost:8080/",
          "height": 448
        },
        "id": "aefCGzqr3M1N",
        "outputId": "5321edb3-322e-458d-ad51-47f97d634cae"
      },
      "execution_count": null,
      "outputs": [
        {
          "output_type": "execute_result",
          "data": {
            "text/plain": [
              "[<matplotlib.lines.Line2D at 0x7fdcf84f4580>]"
            ]
          },
          "metadata": {},
          "execution_count": 171
        },
        {
          "output_type": "display_data",
          "data": {
            "text/plain": [
              "<Figure size 640x480 with 1 Axes>"
            ],
            "image/png": "[encoded data removed]"
          },
          "metadata": {}
        }
      ]
    },
    {
      "cell_type": "code",
      "source": [],
      "metadata": {
        "id": "_5Lp1Rp9EMOk"
      },
      "execution_count": null,
      "outputs": []
    },
    {
      "cell_type": "markdown",
      "source": [
        "### 다중분류 모델링"
      ],
      "metadata": {
        "id": "NICRNtJO_73X"
      }
    },
    {
      "cell_type": "markdown",
      "source": [
        "- Sparse Categorical Crossentropy : https://www.tensorflow.org/api_docs/python/tf/keras/losses/SparseCategoricalCrossentropy\n",
        "\n",
        "- CategoricalCrossentropy : https://www.tensorflow.org/api_docs/python/tf/keras/losses/CategoricalCrossentropy"
      ],
      "metadata": {
        "id": "n-_FH-eQAHrG"
      }
    },
    {
      "cell_type": "markdown",
      "source": [
        "다중 분류 모델\n",
        "\n",
        "1. 모델링 : output layer \n",
        "- 노드개수 == 카테고리 개수 \n",
        "- activation == 'softmax'\n",
        "\n",
        "\n",
        "2. compile \n",
        "- y : label -> loss : sparse_categorical_crossentropy\n",
        "- y : onehot -> loss : categorical_crossentropy"
      ],
      "metadata": {
        "id": "oOzvv2HYEQuU"
      }
    },
    {
      "cell_type": "code",
      "source": [
        "y_true = [[0, 1, 0], [0, 0, 1]]\n",
        "y_pred = [[0.05, 0.95, 0], [0.1, 0.8, 0.1]]\n",
        "# Using 'auto'/'sum_over_batch_size' reduction type.\n",
        "cce = tf.keras.losses.CategoricalCrossentropy()\n",
        "cce(y_true, y_pred).numpy()\n"
      ],
      "metadata": {
        "colab": {
          "base_uri": "https://localhost:8080/"
        },
        "id": "pPASnsEfAXg7",
        "outputId": "cf36dd75-cee8-4d9d-9ac0-72f66f4d6081"
      },
      "execution_count": null,
      "outputs": [
        {
          "output_type": "execute_result",
          "data": {
            "text/plain": [
              "1.1769392"
            ]
          },
          "metadata": {},
          "execution_count": 20
        }
      ]
    },
    {
      "cell_type": "code",
      "source": [
        "y_true = [1, 2]\n",
        "y_pred = [[0.05, 0.95, 0], [0.1, 0.8, 0.1]]\n",
        "# Using 'auto'/'sum_over_batch_size' reduction type.\n",
        "scce = tf.keras.losses.SparseCategoricalCrossentropy()\n",
        "scce(y_true, y_pred).numpy()\n"
      ],
      "metadata": {
        "colab": {
          "base_uri": "https://localhost:8080/"
        },
        "id": "Al7VYrI_AXeE",
        "outputId": "6833cbd8-53ed-4422-9893-9d68d00121d6"
      },
      "execution_count": null,
      "outputs": [
        {
          "output_type": "execute_result",
          "data": {
            "text/plain": [
              "1.1769392"
            ]
          },
          "metadata": {},
          "execution_count": 21
        }
      ]
    },
    {
      "cell_type": "code",
      "source": [
        "# 다중분류 \n",
        "X, y = make_classification(n_samples = 300, n_features = 5, n_redundant = 0,\n",
        "                          n_informative = 3, n_clusters_per_class = 2, n_classes=3,\n",
        "                          random_state = 33)\n",
        "\n",
        "X_train, X_test, y_train, y_test = train_test_split(X, y,\n",
        "                                                   test_size=0.3, shuffle = True)"
      ],
      "metadata": {
        "id": "NvDw_ZaK_40n"
      },
      "execution_count": null,
      "outputs": []
    },
    {
      "cell_type": "code",
      "source": [
        "X_train.shape"
      ],
      "metadata": {
        "colab": {
          "base_uri": "https://localhost:8080/"
        },
        "id": "HWFJWxyNAs8H",
        "outputId": "49115a07-e0f4-4fb8-801e-707a15f51e0a"
      },
      "execution_count": null,
      "outputs": [
        {
          "output_type": "execute_result",
          "data": {
            "text/plain": [
              "(210, 5)"
            ]
          },
          "metadata": {},
          "execution_count": 11
        }
      ]
    },
    {
      "cell_type": "code",
      "source": [
        "print(y_train)"
      ],
      "metadata": {
        "colab": {
          "base_uri": "https://localhost:8080/"
        },
        "id": "ifYOBgs3_4wN",
        "outputId": "6b2aeb06-09ed-4120-8031-98bcdd50e598"
      },
      "execution_count": null,
      "outputs": [
        {
          "output_type": "stream",
          "name": "stdout",
          "text": [
            "[2 1 2 0 0 1 2 2 1 1 0 2 1 2 2 0 1 0 1 0 1 1 1 2 1 2 0 2 1 2 0 1 1 0 2 0 1\n",
            " 1 1 2 2 1 2 2 2 2 0 2 2 1 0 1 0 0 0 0 0 2 2 1 2 0 2 0 2 0 0 1 1 0 1 0 2 2\n",
            " 0 1 2 2 0 1 1 0 2 2 2 0 1 0 0 1 1 2 2 2 2 1 1 1 2 2 0 0 2 0 2 0 0 1 2 2 0\n",
            " 0 0 1 1 0 0 1 1 1 2 2 0 2 2 2 1 2 2 1 0 0 1 2 0 0 2 1 0 0 1 1 2 1 0 2 1 0\n",
            " 0 2 1 1 1 0 0 0 1 0 1 2 2 2 2 0 1 1 2 1 1 0 1 1 2 0 1 2 1 0 2 1 2 0 2 1 0\n",
            " 1 0 0 2 0 1 0 2 0 2 0 1 2 0 2 2 2 0 0 2 1 0 1 2 0]\n"
          ]
        }
      ]
    },
    {
      "cell_type": "code",
      "source": [
        "model = tf.keras.models.Sequential([\n",
        "    tf.keras.layers.Dense(10, input_shape = (5, ), activation = 'relu'),\n",
        "    tf.keras.layers.Dense(10, activation = 'relu'),\n",
        "    tf.keras.layers.Dense(3, activation = 'softmax') # output layer의 노드 개수 == 카테고리 개수, activation = 'softmax'\n",
        "])"
      ],
      "metadata": {
        "id": "ajgFzn2z__mB"
      },
      "execution_count": null,
      "outputs": []
    },
    {
      "cell_type": "code",
      "source": [
        "model.compile(\n",
        "    optimizer = 'adam' ,\n",
        "    loss = 'sparse_categorical_crossentropy' , \n",
        "    metrics = 'accuracy', \n",
        ")"
      ],
      "metadata": {
        "id": "kjHQuWob__hF"
      },
      "execution_count": null,
      "outputs": []
    },
    {
      "cell_type": "code",
      "source": [
        "EPOCH = 50\n",
        "BATCH_SIZE = 32\n",
        "model.fit(X_train, y_train, epochs = EPOCH, batch_size = BATCH_SIZE)"
      ],
      "metadata": {
        "colab": {
          "base_uri": "https://localhost:8080/"
        },
        "id": "O-52AWIm__c5",
        "outputId": "c7309f26-4aad-4be5-b291-1afb2e29afe9"
      },
      "execution_count": null,
      "outputs": [
        {
          "output_type": "stream",
          "name": "stdout",
          "text": [
            "Epoch 1/50\n",
            "7/7 [==============================] - 8s 6ms/step - loss: 1.1652 - accuracy: 0.3048\n",
            "Epoch 2/50\n",
            "7/7 [==============================] - 0s 5ms/step - loss: 1.1457 - accuracy: 0.3238\n",
            "Epoch 3/50\n",
            "7/7 [==============================] - 0s 6ms/step - loss: 1.1300 - accuracy: 0.3381\n",
            "Epoch 4/50\n",
            "7/7 [==============================] - 0s 5ms/step - loss: 1.1149 - accuracy: 0.3429\n",
            "Epoch 5/50\n",
            "7/7 [==============================] - 0s 5ms/step - loss: 1.1008 - accuracy: 0.3524\n",
            "Epoch 6/50\n",
            "7/7 [==============================] - 0s 5ms/step - loss: 1.0866 - accuracy: 0.3667\n",
            "Epoch 7/50\n",
            "7/7 [==============================] - 0s 5ms/step - loss: 1.0723 - accuracy: 0.4048\n",
            "Epoch 8/50\n",
            "7/7 [==============================] - 0s 5ms/step - loss: 1.0578 - accuracy: 0.4286\n",
            "Epoch 9/50\n",
            "7/7 [==============================] - 0s 5ms/step - loss: 1.0438 - accuracy: 0.4381\n",
            "Epoch 10/50\n",
            "7/7 [==============================] - 0s 5ms/step - loss: 1.0300 - accuracy: 0.4619\n",
            "Epoch 11/50\n",
            "7/7 [==============================] - 0s 5ms/step - loss: 1.0158 - accuracy: 0.4762\n",
            "Epoch 12/50\n",
            "7/7 [==============================] - 0s 5ms/step - loss: 1.0024 - accuracy: 0.5048\n",
            "Epoch 13/50\n",
            "7/7 [==============================] - 0s 5ms/step - loss: 0.9884 - accuracy: 0.5190\n",
            "Epoch 14/50\n",
            "7/7 [==============================] - 0s 5ms/step - loss: 0.9746 - accuracy: 0.5286\n",
            "Epoch 15/50\n",
            "7/7 [==============================] - 0s 5ms/step - loss: 0.9612 - accuracy: 0.5476\n",
            "Epoch 16/50\n",
            "7/7 [==============================] - 0s 4ms/step - loss: 0.9461 - accuracy: 0.5810\n",
            "Epoch 17/50\n",
            "7/7 [==============================] - 0s 4ms/step - loss: 0.9316 - accuracy: 0.5952\n",
            "Epoch 18/50\n",
            "7/7 [==============================] - 0s 5ms/step - loss: 0.9178 - accuracy: 0.6190\n",
            "Epoch 19/50\n",
            "7/7 [==============================] - 0s 5ms/step - loss: 0.9037 - accuracy: 0.6286\n",
            "Epoch 20/50\n",
            "7/7 [==============================] - 0s 5ms/step - loss: 0.8902 - accuracy: 0.6571\n",
            "Epoch 21/50\n",
            "7/7 [==============================] - 0s 5ms/step - loss: 0.8759 - accuracy: 0.6619\n",
            "Epoch 22/50\n",
            "7/7 [==============================] - 0s 5ms/step - loss: 0.8616 - accuracy: 0.6714\n",
            "Epoch 23/50\n",
            "7/7 [==============================] - 0s 5ms/step - loss: 0.8477 - accuracy: 0.6762\n",
            "Epoch 24/50\n",
            "7/7 [==============================] - 0s 5ms/step - loss: 0.8337 - accuracy: 0.6714\n",
            "Epoch 25/50\n",
            "7/7 [==============================] - 0s 5ms/step - loss: 0.8196 - accuracy: 0.6762\n",
            "Epoch 26/50\n",
            "7/7 [==============================] - 0s 5ms/step - loss: 0.8051 - accuracy: 0.6905\n",
            "Epoch 27/50\n",
            "7/7 [==============================] - 0s 3ms/step - loss: 0.7920 - accuracy: 0.6952\n",
            "Epoch 28/50\n",
            "7/7 [==============================] - 0s 4ms/step - loss: 0.7786 - accuracy: 0.7000\n",
            "Epoch 29/50\n",
            "7/7 [==============================] - 0s 4ms/step - loss: 0.7658 - accuracy: 0.6952\n",
            "Epoch 30/50\n",
            "7/7 [==============================] - 0s 3ms/step - loss: 0.7532 - accuracy: 0.7048\n",
            "Epoch 31/50\n",
            "7/7 [==============================] - 0s 3ms/step - loss: 0.7408 - accuracy: 0.7000\n",
            "Epoch 32/50\n",
            "7/7 [==============================] - 0s 4ms/step - loss: 0.7278 - accuracy: 0.7143\n",
            "Epoch 33/50\n",
            "7/7 [==============================] - 0s 3ms/step - loss: 0.7164 - accuracy: 0.7238\n",
            "Epoch 34/50\n",
            "7/7 [==============================] - 0s 3ms/step - loss: 0.7045 - accuracy: 0.7333\n",
            "Epoch 35/50\n",
            "7/7 [==============================] - 0s 3ms/step - loss: 0.6928 - accuracy: 0.7476\n",
            "Epoch 36/50\n",
            "7/7 [==============================] - 0s 3ms/step - loss: 0.6816 - accuracy: 0.7429\n",
            "Epoch 37/50\n",
            "7/7 [==============================] - 0s 3ms/step - loss: 0.6706 - accuracy: 0.7524\n",
            "Epoch 38/50\n",
            "7/7 [==============================] - 0s 3ms/step - loss: 0.6600 - accuracy: 0.7619\n",
            "Epoch 39/50\n",
            "7/7 [==============================] - 0s 4ms/step - loss: 0.6495 - accuracy: 0.7619\n",
            "Epoch 40/50\n",
            "7/7 [==============================] - 0s 4ms/step - loss: 0.6390 - accuracy: 0.7762\n",
            "Epoch 41/50\n",
            "7/7 [==============================] - 0s 3ms/step - loss: 0.6289 - accuracy: 0.7762\n",
            "Epoch 42/50\n",
            "7/7 [==============================] - 0s 4ms/step - loss: 0.6196 - accuracy: 0.7762\n",
            "Epoch 43/50\n",
            "7/7 [==============================] - 0s 3ms/step - loss: 0.6089 - accuracy: 0.7810\n",
            "Epoch 44/50\n",
            "7/7 [==============================] - 0s 4ms/step - loss: 0.5992 - accuracy: 0.7857\n",
            "Epoch 45/50\n",
            "7/7 [==============================] - 0s 3ms/step - loss: 0.5895 - accuracy: 0.7857\n",
            "Epoch 46/50\n",
            "7/7 [==============================] - 0s 3ms/step - loss: 0.5796 - accuracy: 0.7952\n",
            "Epoch 47/50\n",
            "7/7 [==============================] - 0s 3ms/step - loss: 0.5700 - accuracy: 0.8000\n",
            "Epoch 48/50\n",
            "7/7 [==============================] - 0s 3ms/step - loss: 0.5608 - accuracy: 0.8095\n",
            "Epoch 49/50\n",
            "7/7 [==============================] - 0s 4ms/step - loss: 0.5527 - accuracy: 0.8143\n",
            "Epoch 50/50\n",
            "7/7 [==============================] - 0s 3ms/step - loss: 0.5436 - accuracy: 0.8238\n"
          ]
        },
        {
          "output_type": "execute_result",
          "data": {
            "text/plain": [
              "<keras.callbacks.History at 0x7f4468428f40>"
            ]
          },
          "metadata": {},
          "execution_count": 17
        }
      ]
    },
    {
      "cell_type": "code",
      "source": [
        "# to categorical \n",
        "from tensorflow.keras.utils import to_categorical\n",
        "\n",
        "# 다중분류 \n",
        "X, y = make_classification(n_samples = 300, n_features = 5, n_redundant = 0,\n",
        "                          n_informative = 3, n_clusters_per_class = 2, n_classes=3,\n",
        "                          random_state = 33)\n",
        "\n",
        "y = to_categorical(y) # label -> one hot \n",
        "\n",
        "X_train, X_test, y_train, y_test = train_test_split(X, y,\n",
        "                                                   test_size=0.3, shuffle = True)"
      ],
      "metadata": {
        "id": "fPOQKnI7Dgcp"
      },
      "execution_count": null,
      "outputs": []
    },
    {
      "cell_type": "code",
      "source": [
        "X_train.shape, X_test.shape, y_train.shape, y_test.shape"
      ],
      "metadata": {
        "id": "cbAqObFSD86B",
        "outputId": "c5f7fdd3-b293-439c-b0f4-025c02cad885",
        "colab": {
          "base_uri": "https://localhost:8080/"
        }
      },
      "execution_count": null,
      "outputs": [
        {
          "output_type": "execute_result",
          "data": {
            "text/plain": [
              "((210, 5), (90, 5), (210, 3), (90, 3))"
            ]
          },
          "metadata": {},
          "execution_count": 30
        }
      ]
    },
    {
      "cell_type": "code",
      "source": [
        "model = tf.keras.models.Sequential([\n",
        "    tf.keras.layers.Dense(10, input_shape = (5, ), activation = 'relu'),\n",
        "    tf.keras.layers.Dense(10, activation = 'relu'),\n",
        "    tf.keras.layers.Dense(3, activation = 'softmax') # output layer의 노드 개수 == 카테고리 개수, activation = 'softmax'\n",
        "])"
      ],
      "metadata": {
        "id": "PyZX8t9QDs_v"
      },
      "execution_count": null,
      "outputs": []
    },
    {
      "cell_type": "code",
      "source": [
        "model.compile(\n",
        "    optimizer = 'adam' ,\n",
        "    loss = 'categorical_crossentropy' , ## 여기만 바뀜\n",
        "    metrics = 'accuracy', \n",
        ")"
      ],
      "metadata": {
        "id": "orN9-iY-Ds_w"
      },
      "execution_count": null,
      "outputs": []
    },
    {
      "cell_type": "code",
      "source": [
        "EPOCH = 50\n",
        "BATCH_SIZE = 32\n",
        "model.fit(X_train, y_train, epochs = EPOCH, batch_size = BATCH_SIZE)"
      ],
      "metadata": {
        "colab": {
          "base_uri": "https://localhost:8080/"
        },
        "outputId": "330708e0-a803-4255-dbf1-1118dd2d1b02",
        "id": "8VP6Q5A6Ds_w"
      },
      "execution_count": null,
      "outputs": [
        {
          "output_type": "stream",
          "name": "stdout",
          "text": [
            "Epoch 1/50\n",
            "7/7 [==============================] - 1s 4ms/step - loss: 1.2842 - accuracy: 0.3571\n",
            "Epoch 2/50\n",
            "7/7 [==============================] - 0s 3ms/step - loss: 1.2430 - accuracy: 0.3714\n",
            "Epoch 3/50\n",
            "7/7 [==============================] - 0s 3ms/step - loss: 1.2083 - accuracy: 0.3714\n",
            "Epoch 4/50\n",
            "7/7 [==============================] - 0s 4ms/step - loss: 1.1763 - accuracy: 0.3905\n",
            "Epoch 5/50\n",
            "7/7 [==============================] - 0s 4ms/step - loss: 1.1476 - accuracy: 0.4190\n",
            "Epoch 6/50\n",
            "7/7 [==============================] - 0s 3ms/step - loss: 1.1214 - accuracy: 0.4238\n",
            "Epoch 7/50\n",
            "7/7 [==============================] - 0s 3ms/step - loss: 1.0980 - accuracy: 0.4619\n",
            "Epoch 8/50\n",
            "7/7 [==============================] - 0s 3ms/step - loss: 1.0764 - accuracy: 0.4810\n",
            "Epoch 9/50\n",
            "7/7 [==============================] - 0s 3ms/step - loss: 1.0562 - accuracy: 0.5000\n",
            "Epoch 10/50\n",
            "1/7 [===>..........................] - ETA: 0s - loss: 1.0764 - accuracy: 0.4375"
          ]
        }
      ]
    },
    {
      "cell_type": "markdown",
      "source": [
        "## 문제3 - Housing Data"
      ],
      "metadata": {
        "id": "Lg4aBQ_4A9GA"
      }
    },
    {
      "cell_type": "code",
      "source": [
        "from sklearn.datasets import fetch_california_housing\n",
        "housing = fetch_california_housing()\n",
        "x_data = housing.data\n",
        "y_data = housing.target"
      ],
      "metadata": {
        "id": "fNPE1EIqK698"
      },
      "execution_count": 92,
      "outputs": []
    },
    {
      "cell_type": "code",
      "source": [
        "x_data.shape"
      ],
      "metadata": {
        "colab": {
          "base_uri": "https://localhost:8080/"
        },
        "id": "k4VsbHrOB00g",
        "outputId": "ef0bf3ab-20a7-4ca5-df1f-d7c5a03fac7e"
      },
      "execution_count": 89,
      "outputs": [
        {
          "output_type": "execute_result",
          "data": {
            "text/plain": [
              "(20640, 8)"
            ]
          },
          "metadata": {},
          "execution_count": 89
        }
      ]
    },
    {
      "cell_type": "code",
      "source": [
        "y_data.shape"
      ],
      "metadata": {
        "colab": {
          "base_uri": "https://localhost:8080/"
        },
        "id": "u_uYzjrt3Zh6",
        "outputId": "71efaa01-3fc1-4401-ddc2-37e7a24e3bd9"
      },
      "execution_count": 91,
      "outputs": [
        {
          "output_type": "execute_result",
          "data": {
            "text/plain": [
              "(20640,)"
            ]
          },
          "metadata": {},
          "execution_count": 91
        }
      ]
    },
    {
      "cell_type": "code",
      "source": [
        "# 정규화 \n",
        "from sklearn.preprocessing import StandardScaler\n",
        "\n",
        "scaled = StandardScaler()\n",
        "x_scaled = scaled.fit_transform(x_data)"
      ],
      "metadata": {
        "id": "jCdFEoFlK66S"
      },
      "execution_count": 93,
      "outputs": []
    },
    {
      "cell_type": "code",
      "source": [
        "# 랜덤하게 학습데이터와 테스트 데이터를 분리하세요\n",
        "from sklearn.model_selection import train_test_split\n",
        "X_train, X_test, y_train, y_test = train_test_split(x_scaled, y_data, random_state = 42, test_size = 0.2)\n",
        "\n",
        "X_train.shape, X_test.shape, y_train.shape, y_test.shape"
      ],
      "metadata": {
        "colab": {
          "base_uri": "https://localhost:8080/"
        },
        "id": "2qLZHQMWK62L",
        "outputId": "9c04297c-f922-4d89-97c7-a756d064bcb6"
      },
      "execution_count": 94,
      "outputs": [
        {
          "output_type": "execute_result",
          "data": {
            "text/plain": [
              "((16512, 8), (4128, 8), (16512,), (4128,))"
            ]
          },
          "metadata": {},
          "execution_count": 94
        }
      ]
    },
    {
      "cell_type": "code",
      "source": [
        "# 모델링\n",
        "h_model = keras.Sequential([\n",
        "    layers.Dense(50, input_shape = (8,), activation = 'relu'),\n",
        "    layers.Dense(30, activation = 'relu'),\n",
        "    layers.Dense(1,) \n",
        "\n",
        "# 선형회귀일 경우(y값이 0-1값아닌 것들) y값이 그대로 나와야 하기 때문에 activation는 없애는 것이 더 정확한 값이 나온다\n",
        "# activation = 'relu'를 넣어도 값이 나오나 relu는 음수는 0으로 변환시키기 때문에 반쪽짜리 답안이 된다\n",
        "])"
      ],
      "metadata": {
        "id": "c7Tot4HMK6xw"
      },
      "execution_count": 124,
      "outputs": []
    },
    {
      "cell_type": "code",
      "source": [
        "# 컴파일링\n",
        "h_model.compile( optimizer = 'adam', # 최적화\n",
        "    loss = 'MeanSquaredError', # cost\n",
        "    metrics = ['MeanSquaredError'])"
      ],
      "metadata": {
        "id": "1b6WWenNK6tZ"
      },
      "execution_count": 125,
      "outputs": []
    },
    {
      "cell_type": "code",
      "source": [
        "# 모델 정보 확인 \n",
        "h_model.summary()"
      ],
      "metadata": {
        "id": "F4uv1l9gK6og",
        "colab": {
          "base_uri": "https://localhost:8080/"
        },
        "outputId": "56e188e5-3c4d-4413-8a34-815524ccc578"
      },
      "execution_count": 102,
      "outputs": [
        {
          "output_type": "stream",
          "name": "stdout",
          "text": [
            "Model: \"sequential_13\"\n",
            "_________________________________________________________________\n",
            " Layer (type)                Output Shape              Param #   \n",
            "=================================================================\n",
            " dense_59 (Dense)            (None, 50)                450       \n",
            "                                                                 \n",
            " dense_60 (Dense)            (None, 30)                1530      \n",
            "                                                                 \n",
            " dense_61 (Dense)            (None, 1)                 31        \n",
            "                                                                 \n",
            "=================================================================\n",
            "Total params: 2,011\n",
            "Trainable params: 2,011\n",
            "Non-trainable params: 0\n",
            "_________________________________________________________________\n"
          ]
        }
      ]
    },
    {
      "cell_type": "code",
      "source": [
        "# fitting\n",
        "loss_house = h_model.fit(X_train, y_train, epochs = 100, batch_size = 64)"
      ],
      "metadata": {
        "colab": {
          "base_uri": "https://localhost:8080/"
        },
        "id": "2sCVm0DdLp9Y",
        "outputId": "50a691fd-e87f-4f86-bd4d-93fc2d489346"
      },
      "execution_count": 126,
      "outputs": [
        {
          "output_type": "stream",
          "name": "stdout",
          "text": [
            "Epoch 1/100\n",
            "258/258 [==============================] - 1s 1ms/step - loss: 1.2063 - mean_squared_error: 1.2063\n",
            "Epoch 2/100\n",
            "258/258 [==============================] - 0s 1ms/step - loss: 0.4992 - mean_squared_error: 0.4992\n",
            "Epoch 3/100\n",
            "258/258 [==============================] - 0s 1ms/step - loss: 0.4140 - mean_squared_error: 0.4140\n",
            "Epoch 4/100\n",
            "258/258 [==============================] - 0s 1ms/step - loss: 0.3855 - mean_squared_error: 0.3855\n",
            "Epoch 5/100\n",
            "258/258 [==============================] - 0s 1ms/step - loss: 0.3705 - mean_squared_error: 0.3705\n",
            "Epoch 6/100\n",
            "258/258 [==============================] - 0s 1ms/step - loss: 0.3604 - mean_squared_error: 0.3604\n",
            "Epoch 7/100\n",
            "258/258 [==============================] - 0s 1ms/step - loss: 0.3507 - mean_squared_error: 0.3507\n",
            "Epoch 8/100\n",
            "258/258 [==============================] - 0s 1ms/step - loss: 0.3426 - mean_squared_error: 0.3426\n",
            "Epoch 9/100\n",
            "258/258 [==============================] - 0s 1ms/step - loss: 0.3354 - mean_squared_error: 0.3354\n",
            "Epoch 10/100\n",
            "258/258 [==============================] - 0s 1ms/step - loss: 0.3310 - mean_squared_error: 0.3310\n",
            "Epoch 11/100\n",
            "258/258 [==============================] - 0s 1ms/step - loss: 0.3226 - mean_squared_error: 0.3226\n",
            "Epoch 12/100\n",
            "258/258 [==============================] - 0s 1ms/step - loss: 0.3169 - mean_squared_error: 0.3169\n",
            "Epoch 13/100\n",
            "258/258 [==============================] - 0s 1ms/step - loss: 0.3166 - mean_squared_error: 0.3166\n",
            "Epoch 14/100\n",
            "258/258 [==============================] - 0s 1ms/step - loss: 0.3111 - mean_squared_error: 0.3111\n",
            "Epoch 15/100\n",
            "258/258 [==============================] - 0s 1ms/step - loss: 0.3085 - mean_squared_error: 0.3085\n",
            "Epoch 16/100\n",
            "258/258 [==============================] - 0s 1ms/step - loss: 0.3039 - mean_squared_error: 0.3039\n",
            "Epoch 17/100\n",
            "258/258 [==============================] - 0s 1ms/step - loss: 0.3010 - mean_squared_error: 0.3010\n",
            "Epoch 18/100\n",
            "258/258 [==============================] - 0s 1ms/step - loss: 0.3054 - mean_squared_error: 0.3054\n",
            "Epoch 19/100\n",
            "258/258 [==============================] - 0s 1ms/step - loss: 0.3047 - mean_squared_error: 0.3047\n",
            "Epoch 20/100\n",
            "258/258 [==============================] - 0s 1ms/step - loss: 0.3169 - mean_squared_error: 0.3169\n",
            "Epoch 21/100\n",
            "258/258 [==============================] - 0s 1ms/step - loss: 0.2948 - mean_squared_error: 0.2948\n",
            "Epoch 22/100\n",
            "258/258 [==============================] - 0s 1ms/step - loss: 0.2931 - mean_squared_error: 0.2931\n",
            "Epoch 23/100\n",
            "258/258 [==============================] - 0s 1ms/step - loss: 0.2929 - mean_squared_error: 0.2929\n",
            "Epoch 24/100\n",
            "258/258 [==============================] - 0s 2ms/step - loss: 0.2904 - mean_squared_error: 0.2904\n",
            "Epoch 25/100\n",
            "258/258 [==============================] - 0s 1ms/step - loss: 0.2895 - mean_squared_error: 0.2895\n",
            "Epoch 26/100\n",
            "258/258 [==============================] - 0s 1ms/step - loss: 0.2914 - mean_squared_error: 0.2914\n",
            "Epoch 27/100\n",
            "258/258 [==============================] - 0s 1ms/step - loss: 0.2855 - mean_squared_error: 0.2855\n",
            "Epoch 28/100\n",
            "258/258 [==============================] - 0s 1ms/step - loss: 0.2863 - mean_squared_error: 0.2863\n",
            "Epoch 29/100\n",
            "258/258 [==============================] - 0s 1ms/step - loss: 0.2857 - mean_squared_error: 0.2857\n",
            "Epoch 30/100\n",
            "258/258 [==============================] - 0s 1ms/step - loss: 0.2865 - mean_squared_error: 0.2865\n",
            "Epoch 31/100\n",
            "258/258 [==============================] - 0s 1ms/step - loss: 0.2895 - mean_squared_error: 0.2895\n",
            "Epoch 32/100\n",
            "258/258 [==============================] - 0s 1ms/step - loss: 0.2831 - mean_squared_error: 0.2831\n",
            "Epoch 33/100\n",
            "258/258 [==============================] - 0s 1ms/step - loss: 0.2792 - mean_squared_error: 0.2792\n",
            "Epoch 34/100\n",
            "258/258 [==============================] - 0s 1ms/step - loss: 0.2789 - mean_squared_error: 0.2789\n",
            "Epoch 35/100\n",
            "258/258 [==============================] - 0s 1ms/step - loss: 0.2773 - mean_squared_error: 0.2773\n",
            "Epoch 36/100\n",
            "258/258 [==============================] - 0s 1ms/step - loss: 0.2766 - mean_squared_error: 0.2766\n",
            "Epoch 37/100\n",
            "258/258 [==============================] - 0s 1ms/step - loss: 0.2783 - mean_squared_error: 0.2783\n",
            "Epoch 38/100\n",
            "258/258 [==============================] - 0s 1ms/step - loss: 0.2753 - mean_squared_error: 0.2753\n",
            "Epoch 39/100\n",
            "258/258 [==============================] - 0s 1ms/step - loss: 0.2734 - mean_squared_error: 0.2734\n",
            "Epoch 40/100\n",
            "258/258 [==============================] - 0s 1ms/step - loss: 0.2757 - mean_squared_error: 0.2757\n",
            "Epoch 41/100\n",
            "258/258 [==============================] - 0s 1ms/step - loss: 0.2746 - mean_squared_error: 0.2746\n",
            "Epoch 42/100\n",
            "258/258 [==============================] - 0s 1ms/step - loss: 0.2777 - mean_squared_error: 0.2777\n",
            "Epoch 43/100\n",
            "258/258 [==============================] - 0s 1ms/step - loss: 0.2710 - mean_squared_error: 0.2710\n",
            "Epoch 44/100\n",
            "258/258 [==============================] - 0s 1ms/step - loss: 0.2719 - mean_squared_error: 0.2719\n",
            "Epoch 45/100\n",
            "258/258 [==============================] - 0s 1ms/step - loss: 0.2709 - mean_squared_error: 0.2709\n",
            "Epoch 46/100\n",
            "258/258 [==============================] - 0s 1ms/step - loss: 0.2733 - mean_squared_error: 0.2733\n",
            "Epoch 47/100\n",
            "258/258 [==============================] - 0s 1ms/step - loss: 0.2679 - mean_squared_error: 0.2679\n",
            "Epoch 48/100\n",
            "258/258 [==============================] - 0s 1ms/step - loss: 0.2669 - mean_squared_error: 0.2669\n",
            "Epoch 49/100\n",
            "258/258 [==============================] - 0s 1ms/step - loss: 0.2715 - mean_squared_error: 0.2715\n",
            "Epoch 50/100\n",
            "258/258 [==============================] - 0s 1ms/step - loss: 0.2656 - mean_squared_error: 0.2656\n",
            "Epoch 51/100\n",
            "258/258 [==============================] - 0s 1ms/step - loss: 0.2679 - mean_squared_error: 0.2679\n",
            "Epoch 52/100\n",
            "258/258 [==============================] - 0s 1ms/step - loss: 0.2675 - mean_squared_error: 0.2675\n",
            "Epoch 53/100\n",
            "258/258 [==============================] - 0s 1ms/step - loss: 0.2650 - mean_squared_error: 0.2650\n",
            "Epoch 54/100\n",
            "258/258 [==============================] - 0s 1ms/step - loss: 0.2661 - mean_squared_error: 0.2661\n",
            "Epoch 55/100\n",
            "258/258 [==============================] - 0s 1ms/step - loss: 0.2737 - mean_squared_error: 0.2737\n",
            "Epoch 56/100\n",
            "258/258 [==============================] - 0s 1ms/step - loss: 0.2631 - mean_squared_error: 0.2631\n",
            "Epoch 57/100\n",
            "258/258 [==============================] - 0s 1ms/step - loss: 0.2632 - mean_squared_error: 0.2632\n",
            "Epoch 58/100\n",
            "258/258 [==============================] - 0s 1ms/step - loss: 0.2622 - mean_squared_error: 0.2622\n",
            "Epoch 59/100\n",
            "258/258 [==============================] - 0s 2ms/step - loss: 0.2622 - mean_squared_error: 0.2622\n",
            "Epoch 60/100\n",
            "258/258 [==============================] - 0s 1ms/step - loss: 0.2622 - mean_squared_error: 0.2622\n",
            "Epoch 61/100\n",
            "258/258 [==============================] - 0s 2ms/step - loss: 0.2625 - mean_squared_error: 0.2625\n",
            "Epoch 62/100\n",
            "258/258 [==============================] - 0s 2ms/step - loss: 0.2595 - mean_squared_error: 0.2595\n",
            "Epoch 63/100\n",
            "258/258 [==============================] - 0s 1ms/step - loss: 0.2596 - mean_squared_error: 0.2596\n",
            "Epoch 64/100\n",
            "258/258 [==============================] - 0s 1ms/step - loss: 0.2585 - mean_squared_error: 0.2585\n",
            "Epoch 65/100\n",
            "258/258 [==============================] - 0s 1ms/step - loss: 0.2589 - mean_squared_error: 0.2589\n",
            "Epoch 66/100\n",
            "258/258 [==============================] - 0s 1ms/step - loss: 0.2571 - mean_squared_error: 0.2571\n",
            "Epoch 67/100\n",
            "258/258 [==============================] - 0s 1ms/step - loss: 0.2653 - mean_squared_error: 0.2653\n",
            "Epoch 68/100\n",
            "258/258 [==============================] - 0s 1ms/step - loss: 0.2601 - mean_squared_error: 0.2601\n",
            "Epoch 69/100\n",
            "258/258 [==============================] - 0s 1ms/step - loss: 0.2568 - mean_squared_error: 0.2568\n",
            "Epoch 70/100\n",
            "258/258 [==============================] - 0s 1ms/step - loss: 0.2576 - mean_squared_error: 0.2576\n",
            "Epoch 71/100\n",
            "258/258 [==============================] - 0s 1ms/step - loss: 0.2554 - mean_squared_error: 0.2554\n",
            "Epoch 72/100\n",
            "258/258 [==============================] - 0s 1ms/step - loss: 0.2544 - mean_squared_error: 0.2544\n",
            "Epoch 73/100\n",
            "258/258 [==============================] - 0s 1ms/step - loss: 0.2542 - mean_squared_error: 0.2542\n",
            "Epoch 74/100\n",
            "258/258 [==============================] - 0s 1ms/step - loss: 0.2590 - mean_squared_error: 0.2590\n",
            "Epoch 75/100\n",
            "258/258 [==============================] - 0s 1ms/step - loss: 0.2519 - mean_squared_error: 0.2519\n",
            "Epoch 76/100\n",
            "258/258 [==============================] - 0s 1ms/step - loss: 0.2527 - mean_squared_error: 0.2527\n",
            "Epoch 77/100\n",
            "258/258 [==============================] - 0s 1ms/step - loss: 0.2531 - mean_squared_error: 0.2531\n",
            "Epoch 78/100\n",
            "258/258 [==============================] - 0s 1ms/step - loss: 0.2522 - mean_squared_error: 0.2522\n",
            "Epoch 79/100\n",
            "258/258 [==============================] - 0s 1ms/step - loss: 0.2518 - mean_squared_error: 0.2518\n",
            "Epoch 80/100\n",
            "258/258 [==============================] - 0s 1ms/step - loss: 0.2507 - mean_squared_error: 0.2507\n",
            "Epoch 81/100\n",
            "258/258 [==============================] - 0s 1ms/step - loss: 0.2519 - mean_squared_error: 0.2519\n",
            "Epoch 82/100\n",
            "258/258 [==============================] - 0s 1ms/step - loss: 0.2500 - mean_squared_error: 0.2500\n",
            "Epoch 83/100\n",
            "258/258 [==============================] - 0s 1ms/step - loss: 0.2505 - mean_squared_error: 0.2505\n",
            "Epoch 84/100\n",
            "258/258 [==============================] - 0s 1ms/step - loss: 0.2544 - mean_squared_error: 0.2544\n",
            "Epoch 85/100\n",
            "258/258 [==============================] - 0s 1ms/step - loss: 0.2516 - mean_squared_error: 0.2516\n",
            "Epoch 86/100\n",
            "258/258 [==============================] - 0s 1ms/step - loss: 0.2479 - mean_squared_error: 0.2479\n",
            "Epoch 87/100\n",
            "258/258 [==============================] - 0s 1ms/step - loss: 0.2483 - mean_squared_error: 0.2483\n",
            "Epoch 88/100\n",
            "258/258 [==============================] - 0s 1ms/step - loss: 0.2499 - mean_squared_error: 0.2499\n",
            "Epoch 89/100\n",
            "258/258 [==============================] - 0s 1ms/step - loss: 0.2493 - mean_squared_error: 0.2493\n",
            "Epoch 90/100\n",
            "258/258 [==============================] - 0s 1ms/step - loss: 0.2504 - mean_squared_error: 0.2504\n",
            "Epoch 91/100\n",
            "258/258 [==============================] - 0s 1ms/step - loss: 0.2488 - mean_squared_error: 0.2488\n",
            "Epoch 92/100\n",
            "258/258 [==============================] - 0s 1ms/step - loss: 0.2469 - mean_squared_error: 0.2469\n",
            "Epoch 93/100\n",
            "258/258 [==============================] - 0s 1ms/step - loss: 0.2481 - mean_squared_error: 0.2481\n",
            "Epoch 94/100\n",
            "258/258 [==============================] - 0s 1ms/step - loss: 0.2461 - mean_squared_error: 0.2461\n",
            "Epoch 95/100\n",
            "258/258 [==============================] - 0s 1ms/step - loss: 0.2435 - mean_squared_error: 0.2435\n",
            "Epoch 96/100\n",
            "258/258 [==============================] - 0s 1ms/step - loss: 0.2455 - mean_squared_error: 0.2455\n",
            "Epoch 97/100\n",
            "258/258 [==============================] - 0s 2ms/step - loss: 0.2440 - mean_squared_error: 0.2440\n",
            "Epoch 98/100\n",
            "258/258 [==============================] - 0s 1ms/step - loss: 0.2452 - mean_squared_error: 0.2452\n",
            "Epoch 99/100\n",
            "258/258 [==============================] - 0s 1ms/step - loss: 0.2431 - mean_squared_error: 0.2431\n",
            "Epoch 100/100\n",
            "258/258 [==============================] - 0s 1ms/step - loss: 0.2451 - mean_squared_error: 0.2451\n"
          ]
        }
      ]
    },
    {
      "cell_type": "code",
      "source": [
        "# evaluate\n",
        "y_pred_test = h_model.predict(X_test)\n",
        "m = tf.keras.metrics.MeanSquaredError() \n",
        "m(y_test, y_pred_test)\n",
        "print('LOSS, MSE : ',h_model.evaluate(X_test, y_test))"
      ],
      "metadata": {
        "colab": {
          "base_uri": "https://localhost:8080/"
        },
        "id": "YHK2oMUtLZLh",
        "outputId": "b802ecad-d5d8-474c-d398-46013baddfca"
      },
      "execution_count": 127,
      "outputs": [
        {
          "output_type": "stream",
          "name": "stdout",
          "text": [
            "129/129 [==============================] - 0s 1ms/step\n",
            "129/129 [==============================] - 0s 925us/step - loss: 0.2704 - mean_squared_error: 0.2704\n",
            "LOSS, MSE :  [0.27042677998542786, 0.27042677998542786]\n"
          ]
        }
      ]
    },
    {
      "cell_type": "code",
      "source": [
        "plt.plot(range(1, 101), loss_house.history['loss'] )"
      ],
      "metadata": {
        "colab": {
          "base_uri": "https://localhost:8080/",
          "height": 448
        },
        "id": "pP5qMjK-6sEf",
        "outputId": "cd8f681b-02cc-4862-c42b-d93ec6543938"
      },
      "execution_count": 128,
      "outputs": [
        {
          "output_type": "execute_result",
          "data": {
            "text/plain": [
              "[<matplotlib.lines.Line2D at 0x7fa5593533d0>]"
            ]
          },
          "metadata": {},
          "execution_count": 128
        },
        {
          "output_type": "display_data",
          "data": {
            "text/plain": [
              "<Figure size 640x480 with 1 Axes>"
            ],
            "image/png": "[encoded data removed]"
          },
          "metadata": {}
        }
      ]
    },
    {
      "cell_type": "code",
      "source": [
        "# plot loss and MSE \n",
        "\n",
        "plt.plot(range(1, 101), loss_house.history['mean_squared_error'] )"
      ],
      "metadata": {
        "colab": {
          "base_uri": "https://localhost:8080/",
          "height": 448
        },
        "id": "DXorHxR1L2ok",
        "outputId": "b6212741-8054-4857-847c-525a8124acea"
      },
      "execution_count": 129,
      "outputs": [
        {
          "output_type": "execute_result",
          "data": {
            "text/plain": [
              "[<matplotlib.lines.Line2D at 0x7fa5730e41f0>]"
            ]
          },
          "metadata": {},
          "execution_count": 129
        },
        {
          "output_type": "display_data",
          "data": {
            "text/plain": [
              "<Figure size 640x480 with 1 Axes>"
            ],
            "image/png": "[encoded data removed]"
          },
          "metadata": {}
        }
      ]
    },
    {
      "cell_type": "code",
      "source": [],
      "metadata": {
        "id": "tKdIXSeO5DU4"
      },
      "execution_count": null,
      "outputs": []
    },
    {
      "cell_type": "markdown",
      "metadata": {
        "id": "fmAqg1jj3FrY"
      },
      "source": [
        "# 의류 이미지 예측하기"
      ]
    },
    {
      "cell_type": "markdown",
      "source": [
        "### 1. 데이터셋 로드 및 탐색\n",
        " - fashion_mnist : 의류 사진 \n",
        "    - 크기 : 28*28 (흑백)\n",
        "    - train : 6만/ test : 1만\n",
        "    - 라벨 : 10가지('T-shirt/top', 'Trouser', 'Pullover', 'Dress', 'Coat' , 'Sandal', 'Shirt', 'Sneaker', 'Bag', 'Ankle boot')"
      ],
      "metadata": {
        "id": "Wjs80o_dZjBw"
      }
    },
    {
      "cell_type": "code",
      "metadata": {
        "id": "9jPgXZ27tb0_"
      },
      "source": [
        "\n",
        "fashion = datasets.fashion_mnist\n",
        "fashion_data = fashion.load_data()\n",
        "fashion_data"
      ],
      "execution_count": null,
      "outputs": []
    },
    {
      "cell_type": "code",
      "source": [
        "len(fashion_data)"
      ],
      "metadata": {
        "colab": {
          "base_uri": "https://localhost:8080/"
        },
        "id": "-l8rzTG_DhwZ",
        "outputId": "57111a08-29b7-47fe-c5d8-e8116436c68d"
      },
      "execution_count": null,
      "outputs": [
        {
          "output_type": "execute_result",
          "data": {
            "text/plain": [
              "2"
            ]
          },
          "metadata": {},
          "execution_count": 13
        }
      ]
    },
    {
      "cell_type": "code",
      "metadata": {
        "id": "6bMAMsrmtb-P"
      },
      "source": [
        "(train_imgs, train_labels), (test_imgs, test_labels) = fashion_data "
      ],
      "execution_count": null,
      "outputs": []
    },
    {
      "cell_type": "code",
      "metadata": {
        "id": "H-W5kaootcHA",
        "colab": {
          "base_uri": "https://localhost:8080/"
        },
        "outputId": "c5329ec4-8629-4cd9-99f2-5f2b56d96eaa"
      },
      "source": [
        "train_imgs.shape, train_labels.shape, test_imgs.shape, test_labels.shape"
      ],
      "execution_count": null,
      "outputs": [
        {
          "output_type": "execute_result",
          "data": {
            "text/plain": [
              "((60000, 28, 28), (60000,), (10000, 28, 28), (10000,))"
            ]
          },
          "metadata": {},
          "execution_count": 15
        }
      ]
    },
    {
      "cell_type": "code",
      "metadata": {
        "id": "8dn07Bp7ZIhh",
        "colab": {
          "base_uri": "https://localhost:8080/"
        },
        "outputId": "4d950eaa-009e-4e25-a4be-59f8c3842502"
      },
      "source": [
        "import numpy as np\n",
        "n_class = np.unique(train_labels).shape[0]\n",
        "n_class"
      ],
      "execution_count": null,
      "outputs": [
        {
          "output_type": "execute_result",
          "data": {
            "text/plain": [
              "10"
            ]
          },
          "metadata": {},
          "execution_count": 16
        }
      ]
    },
    {
      "cell_type": "markdown",
      "metadata": {
        "id": "HHL0OvpWtcN2"
      },
      "source": [
        "**< dataset summary >**  \n",
        "n_trainset = 60,000 / n_testset = 10,000  \n",
        "1 image shape = 28 x 28 / 1 label shape = 1"
      ]
    },
    {
      "cell_type": "code",
      "metadata": {
        "id": "iYqRfYrjtcUl"
      },
      "source": [
        "train_imgs[0]"
      ],
      "execution_count": null,
      "outputs": []
    },
    {
      "cell_type": "code",
      "metadata": {
        "id": "iiSYhOxowd6-",
        "colab": {
          "base_uri": "https://localhost:8080/",
          "height": 265
        },
        "outputId": "2444e883-2fe8-4e5c-d5b4-6dff0a499e32"
      },
      "source": [
        "import matplotlib.pyplot as plt\n",
        "\n",
        "plt.figure()\n",
        "plt.imshow(train_imgs[0])\n",
        "plt.colorbar()\n",
        "plt.show()"
      ],
      "execution_count": null,
      "outputs": [
        {
          "output_type": "display_data",
          "data": {
            "text/plain": [
              "<Figure size 432x288 with 2 Axes>"
            ],
            "image/png": "[encoded data removed]"
          },
          "metadata": {
            "needs_background": "light"
          }
        }
      ]
    },
    {
      "cell_type": "code",
      "metadata": {
        "id": "D8-FcjAMtcjn",
        "colab": {
          "base_uri": "https://localhost:8080/"
        },
        "outputId": "cc394749-17f1-40b8-e2a5-ca3e4723c97f"
      },
      "source": [
        "train_labels[0]"
      ],
      "execution_count": null,
      "outputs": [
        {
          "output_type": "execute_result",
          "data": {
            "text/plain": [
              "9"
            ]
          },
          "metadata": {},
          "execution_count": 19
        }
      ]
    },
    {
      "cell_type": "markdown",
      "metadata": {
        "id": "GlD-e0Po3tV-"
      },
      "source": [
        "데이터셋 안에 label의 이름이 없기 때문에, 직접 넣어줍니다."
      ]
    },
    {
      "cell_type": "code",
      "metadata": {
        "id": "L_fg9WhL3epl"
      },
      "source": [
        "label_names = ['T-shirt/top', 'Trouser', 'Pullover', 'Dress', 'Coat',\n",
        "               'Sandal', 'Shirt', 'Sneaker', 'Bag', 'Ankle boot']"
      ],
      "execution_count": null,
      "outputs": []
    },
    {
      "cell_type": "code",
      "metadata": {
        "id": "THX-S02c3fCy",
        "colab": {
          "base_uri": "https://localhost:8080/",
          "height": 35
        },
        "outputId": "a63dec15-cfd1-40e2-de44-6f4e420d3ed7"
      },
      "source": [
        "label_names[train_labels[0]]"
      ],
      "execution_count": null,
      "outputs": [
        {
          "output_type": "execute_result",
          "data": {
            "text/plain": [
              "'Ankle boot'"
            ],
            "application/vnd.google.colaboratory.intrinsic+json": {
              "type": "string"
            }
          },
          "metadata": {},
          "execution_count": 21
        }
      ]
    },
    {
      "cell_type": "code",
      "metadata": {
        "id": "NoywkIRb3fSq",
        "colab": {
          "base_uri": "https://localhost:8080/",
          "height": 1000
        },
        "outputId": "adfcb9b9-22cd-4a1c-ecee-f14785608495"
      },
      "source": [
        "plt.figure(figsize=(20,20))\n",
        "for i in range(100):\n",
        "    plt.subplot(10,10,i+1)\n",
        "    plt.xticks([])\n",
        "    plt.yticks([])\n",
        "    plt.imshow(train_imgs[i], cmap=plt.cm.binary)\n",
        "    plt.xlabel(label_names[train_labels[i]])\n",
        "plt.show()"
      ],
      "execution_count": null,
      "outputs": [
        {
          "output_type": "display_data",
          "data": {
            "text/plain": [
              "<Figure size 1440x1440 with 100 Axes>"
            ],
            "image/png": "[encoded data removed]"
          },
          "metadata": {}
        }
      ]
    },
    {
      "cell_type": "markdown",
      "metadata": {
        "id": "kG9eFAgL4AEZ"
      },
      "source": [
        "### 2. 모델 구축 \n",
        "- tf.keras.Sequential()\n",
        "- 모델을 구축하는 가장 기본적인 방법으로 아래 두가지 방법이 있다.\n",
        "1. model = tf.keras.Sequntial([ 입력층 , 은닉1층 , 은닉2층 , ... 출력층 ]) 와 같이, 리스트 형식으로 각 층을 묶어서 선언한다.\n",
        "2. model = tf.keras.Sequential() 선언 후, model.add()를 이용해 한 층씩 쌓아준다.\n",
        "  \n",
        "- 입력층에서 가장 기본적인 방법은 Flatten()을 이용하여 1차원 형태로 받는 것이다.\n",
        "    - Flatten()에서는 입력받을 데이터의 input_shape을 설정해줘야 한다.\n",
        "- 각 층의 가장 기본적인 형태는 Dense()를 이용하여 \"완전연결계층\"형태로 구성하는 것이다.\n",
        "    - Dense()에서는 먼저 뉴런의 개수(노드의 개수)를 설정해줘야 한다.\n",
        "    - 활성화 함수 종류, 초기화방법 등을 설정해줄 수 있다.\n"
      ]
    },
    {
      "cell_type": "code",
      "metadata": {
        "id": "LdoX4CjX4YNU"
      },
      "source": [
        "# modeling\n",
        "\n"
      ],
      "execution_count": null,
      "outputs": []
    },
    {
      "cell_type": "markdown",
      "metadata": {
        "id": "puzoHWKL40Zn"
      },
      "source": [
        "### 3. 모델 컴파일\n",
        "모델을 훈련하기 전에 필요한 몇 가지 설정이 모델 컴파일 단계에서 추가됩니다:\n",
        "\n",
        "- 옵티마이저(Optimizer) : 모델의 업데이트 방법(최적화 방법) 설정\n",
        "    - adam, rmsprop, adagrad, sgd etc.\n",
        "- 손실 함수(Loss function) : 훈련 시, 오차 측정 방식 설정  \n",
        "    - binary_crossentropy : 이진 분류 시 사용\n",
        "    - categorical_crossentropy : 다중 분류 시 one hot encoding label일 때 사용 \n",
        "    - sparse_categorical_crossentropy : 다중 분류 시 정수형 label일 때 사용\n",
        "- 지표(Metrics) : 훈력 시, 학습데이터과 검증데이터의 평가 지표 설정\n",
        "    - 기본적으로 리스트 형태로 받도록 설정\n",
        "    - accuracy, auc, precision, recall etc.\n",
        "  \n",
        "기본적으로 문자열 형태로 지정해주지만, 직접 함수를 지정해줄 수 있다."
      ]
    },
    {
      "cell_type": "code",
      "metadata": {
        "id": "qEhC96TS4Zq4"
      },
      "source": [
        "# compiling\n",
        "\n"
      ],
      "execution_count": null,
      "outputs": []
    },
    {
      "cell_type": "markdown",
      "metadata": {
        "id": "XQV8bMgm5AsW"
      },
      "source": [
        "### 4. 모델 훈련\n",
        "신경망 모델을 훈련하는 단계는 다음과 같습니다:  \n",
        ".  \n",
        "훈련 데이터를 모델에 주입합니다-이 예에서는 train_images와 train_labels 배열입니다.  \n",
        "모델이 train img와 train label의 관계를 학습힙니다.\n",
        "- epochs : 학습데이터셋 학습 반복 횟수 \n",
        "    - 책 몇 epoch 돌렸어? (책 몇번 봤어?)  \n",
        "- batch_size : 1회 업데이트 시 학습하는 데이터 량\n",
        "    - 한번 공부할 때 batch size가 어떻게 돼? (한번 공부할 때 몇 페이지씩 봐?)\n",
        "- validation_data : 훈련 단계에서 검증할 데이터셋\n",
        "- verbose : 시각화 방식"
      ]
    },
    {
      "cell_type": "code",
      "metadata": {
        "id": "Q0LJ1Da95NO7",
        "colab": {
          "base_uri": "https://localhost:8080/"
        },
        "outputId": "5d9877bd-cef0-4117-9046-645c701f9153"
      },
      "source": [
        "# fitting\n",
        "\n"
      ],
      "execution_count": null,
      "outputs": [
        {
          "output_type": "stream",
          "name": "stdout",
          "text": [
            "Epoch 1/20\n",
            "600/600 [==============================] - 5s 3ms/step - loss: 2.3124 - accuracy: 0.7757 - val_loss: 0.5927 - val_accuracy: 0.8130\n",
            "Epoch 2/20\n",
            "600/600 [==============================] - 1s 2ms/step - loss: 0.4739 - accuracy: 0.8407 - val_loss: 0.5432 - val_accuracy: 0.8207\n",
            "Epoch 3/20\n",
            "600/600 [==============================] - 1s 2ms/step - loss: 0.4060 - accuracy: 0.8563 - val_loss: 0.5088 - val_accuracy: 0.8325\n",
            "Epoch 4/20\n",
            "600/600 [==============================] - 1s 2ms/step - loss: 0.3758 - accuracy: 0.8653 - val_loss: 0.4192 - val_accuracy: 0.8553\n",
            "Epoch 5/20\n",
            "600/600 [==============================] - 1s 2ms/step - loss: 0.3503 - accuracy: 0.8720 - val_loss: 0.4276 - val_accuracy: 0.8526\n",
            "Epoch 6/20\n",
            "600/600 [==============================] - 1s 2ms/step - loss: 0.3413 - accuracy: 0.8769 - val_loss: 0.4727 - val_accuracy: 0.8327\n",
            "Epoch 7/20\n",
            "600/600 [==============================] - 1s 2ms/step - loss: 0.3350 - accuracy: 0.8788 - val_loss: 0.4156 - val_accuracy: 0.8642\n",
            "Epoch 8/20\n",
            "600/600 [==============================] - 1s 2ms/step - loss: 0.3230 - accuracy: 0.8818 - val_loss: 0.4026 - val_accuracy: 0.8619\n",
            "Epoch 9/20\n",
            "600/600 [==============================] - 1s 2ms/step - loss: 0.3223 - accuracy: 0.8829 - val_loss: 0.4360 - val_accuracy: 0.8548\n",
            "Epoch 10/20\n",
            "600/600 [==============================] - 1s 2ms/step - loss: 0.3094 - accuracy: 0.8855 - val_loss: 0.3941 - val_accuracy: 0.8634\n",
            "Epoch 11/20\n",
            "600/600 [==============================] - 1s 2ms/step - loss: 0.3019 - accuracy: 0.8890 - val_loss: 0.4165 - val_accuracy: 0.8603\n",
            "Epoch 12/20\n",
            "600/600 [==============================] - 1s 2ms/step - loss: 0.3042 - accuracy: 0.8893 - val_loss: 0.3844 - val_accuracy: 0.8609\n",
            "Epoch 13/20\n",
            "600/600 [==============================] - 1s 2ms/step - loss: 0.2898 - accuracy: 0.8929 - val_loss: 0.3726 - val_accuracy: 0.8674\n",
            "Epoch 14/20\n",
            "600/600 [==============================] - 1s 2ms/step - loss: 0.2837 - accuracy: 0.8953 - val_loss: 0.3786 - val_accuracy: 0.8729\n",
            "Epoch 15/20\n",
            "600/600 [==============================] - 1s 2ms/step - loss: 0.2780 - accuracy: 0.8987 - val_loss: 0.3977 - val_accuracy: 0.8694\n",
            "Epoch 16/20\n",
            "600/600 [==============================] - 1s 2ms/step - loss: 0.2705 - accuracy: 0.9006 - val_loss: 0.3617 - val_accuracy: 0.8741\n",
            "Epoch 17/20\n",
            "600/600 [==============================] - 1s 2ms/step - loss: 0.2611 - accuracy: 0.9042 - val_loss: 0.3583 - val_accuracy: 0.8772\n",
            "Epoch 18/20\n",
            "600/600 [==============================] - 1s 2ms/step - loss: 0.2579 - accuracy: 0.9048 - val_loss: 0.3493 - val_accuracy: 0.8851\n",
            "Epoch 19/20\n",
            "600/600 [==============================] - 1s 2ms/step - loss: 0.2529 - accuracy: 0.9067 - val_loss: 0.3694 - val_accuracy: 0.8779\n",
            "Epoch 20/20\n",
            "600/600 [==============================] - 1s 2ms/step - loss: 0.2520 - accuracy: 0.9076 - val_loss: 0.3713 - val_accuracy: 0.8736\n"
          ]
        },
        {
          "output_type": "execute_result",
          "data": {
            "text/plain": [
              "<keras.callbacks.History at 0x7f2b1281cc10>"
            ]
          },
          "metadata": {},
          "execution_count": 25
        }
      ]
    },
    {
      "cell_type": "markdown",
      "metadata": {
        "id": "Z9CjFbY55L7T"
      },
      "source": [
        "### 모델 평가"
      ]
    },
    {
      "cell_type": "code",
      "metadata": {
        "id": "-kkALnNAP1C3",
        "colab": {
          "base_uri": "https://localhost:8080/"
        },
        "outputId": "a7eff454-4b7a-4810-cf54-d23d8131c021"
      },
      "source": [
        "# accuracy\n",
        "\n"
      ],
      "execution_count": null,
      "outputs": [
        {
          "output_type": "stream",
          "name": "stdout",
          "text": [
            "313/313 - 1s - loss: 0.3713 - accuracy: 0.8736 - 750ms/epoch - 2ms/step\n",
            "\n",
            "테스트 정확도: 0.8736000061035156\n"
          ]
        }
      ]
    },
    {
      "cell_type": "markdown",
      "metadata": {
        "id": "8k7KdEnY278p"
      },
      "source": [
        "## 문제: 손글씨 이미지 예측하기"
      ]
    },
    {
      "cell_type": "code",
      "metadata": {
        "id": "X-J1HACS3Nvk"
      },
      "source": [
        "mnist = datasets.mnist\n",
        "mnist_data = mnist.load_data()\n",
        "mnist_data"
      ],
      "execution_count": null,
      "outputs": []
    },
    {
      "cell_type": "code",
      "metadata": {
        "id": "GkLBi84L3Cn_"
      },
      "source": [
        "(train_imgs, train_labels), (test_imgs, test_labels) = mnist_data "
      ],
      "execution_count": null,
      "outputs": []
    },
    {
      "cell_type": "code",
      "metadata": {
        "id": "eXspvc393bPB"
      },
      "source": [
        "label_names = ['zero', 'one', 'two', 'three', 'four',\n",
        "               'five', 'six', 'seven', 'eight', 'nine']"
      ],
      "execution_count": null,
      "outputs": []
    },
    {
      "cell_type": "code",
      "metadata": {
        "id": "9hqVqUMQ3VoH",
        "colab": {
          "base_uri": "https://localhost:8080/",
          "height": 1000
        },
        "outputId": "20513168-989d-4873-e1f1-9b16f962ffb7"
      },
      "source": [
        "# 시각화 \n"
      ],
      "execution_count": null,
      "outputs": [
        {
          "output_type": "display_data",
          "data": {
            "text/plain": [
              "<Figure size 1440x1440 with 100 Axes>"
            ],
            "image/png": "[encoded data removed]"
          },
          "metadata": {}
        }
      ]
    },
    {
      "cell_type": "code",
      "metadata": {
        "id": "itdHzpw63oLS"
      },
      "source": [
        "# 위의 패션 예제와 같이 층을 쌓아보자.\n"
      ],
      "execution_count": null,
      "outputs": []
    },
    {
      "cell_type": "code",
      "metadata": {
        "id": "rVfINwpvHI77"
      },
      "source": [
        "# 컴파일링\n",
        "\n"
      ],
      "execution_count": null,
      "outputs": []
    },
    {
      "cell_type": "code",
      "metadata": {
        "id": "pdL47p0uHI8A",
        "colab": {
          "base_uri": "https://localhost:8080/"
        },
        "outputId": "441f5b6a-49b8-407d-9e26-62b4726ff110"
      },
      "source": [
        "# 학습\n",
        "\n"
      ],
      "execution_count": null,
      "outputs": [
        {
          "output_type": "stream",
          "name": "stdout",
          "text": [
            "Epoch 1/20\n",
            "600/600 [==============================] - 2s 3ms/step - loss: 1.3352 - accuracy: 0.8963 - val_loss: 0.3064 - val_accuracy: 0.9313\n",
            "Epoch 2/20\n",
            "600/600 [==============================] - 1s 2ms/step - loss: 0.1955 - accuracy: 0.9518 - val_loss: 0.2046 - val_accuracy: 0.9524\n",
            "Epoch 3/20\n",
            "600/600 [==============================] - 1s 2ms/step - loss: 0.1259 - accuracy: 0.9650 - val_loss: 0.2194 - val_accuracy: 0.9509\n",
            "Epoch 4/20\n",
            "600/600 [==============================] - 1s 2ms/step - loss: 0.1052 - accuracy: 0.9706 - val_loss: 0.1541 - val_accuracy: 0.9631\n",
            "Epoch 5/20\n",
            "600/600 [==============================] - 1s 2ms/step - loss: 0.0893 - accuracy: 0.9741 - val_loss: 0.1974 - val_accuracy: 0.9559\n",
            "Epoch 6/20\n",
            "600/600 [==============================] - 1s 2ms/step - loss: 0.0867 - accuracy: 0.9755 - val_loss: 0.1535 - val_accuracy: 0.9645\n",
            "Epoch 7/20\n",
            "600/600 [==============================] - 1s 2ms/step - loss: 0.0760 - accuracy: 0.9785 - val_loss: 0.1455 - val_accuracy: 0.9675\n",
            "Epoch 8/20\n",
            "600/600 [==============================] - 1s 2ms/step - loss: 0.0720 - accuracy: 0.9798 - val_loss: 0.1462 - val_accuracy: 0.9657\n",
            "Epoch 9/20\n",
            "600/600 [==============================] - 1s 2ms/step - loss: 0.0610 - accuracy: 0.9819 - val_loss: 0.1101 - val_accuracy: 0.9740\n",
            "Epoch 10/20\n",
            "600/600 [==============================] - 1s 2ms/step - loss: 0.0529 - accuracy: 0.9847 - val_loss: 0.1292 - val_accuracy: 0.9692\n",
            "Epoch 11/20\n",
            "600/600 [==============================] - 2s 3ms/step - loss: 0.0604 - accuracy: 0.9828 - val_loss: 0.1365 - val_accuracy: 0.9692\n",
            "Epoch 12/20\n",
            "600/600 [==============================] - 1s 2ms/step - loss: 0.0544 - accuracy: 0.9849 - val_loss: 0.1090 - val_accuracy: 0.9740\n",
            "Epoch 13/20\n",
            "600/600 [==============================] - 1s 2ms/step - loss: 0.0465 - accuracy: 0.9859 - val_loss: 0.1396 - val_accuracy: 0.9726\n",
            "Epoch 14/20\n",
            "600/600 [==============================] - 1s 2ms/step - loss: 0.0436 - accuracy: 0.9873 - val_loss: 0.1064 - val_accuracy: 0.9767\n",
            "Epoch 15/20\n",
            "600/600 [==============================] - 1s 2ms/step - loss: 0.0391 - accuracy: 0.9891 - val_loss: 0.1154 - val_accuracy: 0.9730\n",
            "Epoch 16/20\n",
            "600/600 [==============================] - 1s 2ms/step - loss: 0.0335 - accuracy: 0.9904 - val_loss: 0.1095 - val_accuracy: 0.9750\n",
            "Epoch 17/20\n",
            "600/600 [==============================] - 1s 2ms/step - loss: 0.0424 - accuracy: 0.9881 - val_loss: 0.1090 - val_accuracy: 0.9754\n",
            "Epoch 18/20\n",
            "600/600 [==============================] - 1s 2ms/step - loss: 0.0295 - accuracy: 0.9919 - val_loss: 0.1080 - val_accuracy: 0.9772\n",
            "Epoch 19/20\n",
            "600/600 [==============================] - 1s 2ms/step - loss: 0.0365 - accuracy: 0.9901 - val_loss: 0.1046 - val_accuracy: 0.9778\n",
            "Epoch 20/20\n",
            "600/600 [==============================] - 1s 2ms/step - loss: 0.0305 - accuracy: 0.9912 - val_loss: 0.1073 - val_accuracy: 0.9797\n"
          ]
        },
        {
          "output_type": "execute_result",
          "data": {
            "text/plain": [
              "<keras.callbacks.History at 0x7f2b10aecb90>"
            ]
          },
          "metadata": {},
          "execution_count": 37
        }
      ]
    },
    {
      "cell_type": "code",
      "metadata": {
        "id": "5ZnUynYdHI8F",
        "colab": {
          "base_uri": "https://localhost:8080/"
        },
        "outputId": "32549501-52fa-4738-a8a5-fcbea6d674a4"
      },
      "source": [
        "# 정확도"
      ],
      "execution_count": null,
      "outputs": [
        {
          "output_type": "stream",
          "name": "stdout",
          "text": [
            "313/313 - 1s - loss: 0.4996 - accuracy: 0.9689 - 671ms/epoch - 2ms/step\n",
            "\n",
            "테스트 정확도: 0.9689000248908997\n"
          ]
        }
      ]
    }
  ]
}
