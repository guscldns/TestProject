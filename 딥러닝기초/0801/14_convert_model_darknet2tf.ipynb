{
  "nbformat": 4,
  "nbformat_minor": 0,
  "metadata": {
    "colab": {
      "provenance": [],
      "machine_shape": "hm",
      "gpuClass": "premium",
      "include_colab_link": true
    },
    "kernelspec": {
      "name": "python3",
      "display_name": "Python 3"
    },
    "language_info": {
      "name": "python"
    },
    "accelerator": "GPU",
    "gpuClass": "premium"
  },
  "cells": [
    {
      "cell_type": "markdown",
      "metadata": {
        "id": "view-in-github",
        "colab_type": "text"
      },
      "source": [
        "<a href=\"https://colab.research.google.com/github/guscldns/TestProject/blob/main/0801/14_convert_model_darknet2tf.ipynb\" target=\"_parent\"><img src=\"https://colab.research.google.com/assets/colab-badge.svg\" alt=\"Open In Colab\"/></a>"
      ]
    },
    {
      "cell_type": "markdown",
      "source": [
        "# Convert darknet model file to tensorflow type"
      ],
      "metadata": {
        "id": "X1-uzW98kcx6"
      }
    },
    {
      "cell_type": "markdown",
      "source": [
        "## AIGuysCode github clone"
      ],
      "metadata": {
        "id": "FTwRkE-Okcgo"
      }
    },
    {
      "cell_type": "code",
      "execution_count": null,
      "metadata": {
        "colab": {
          "base_uri": "https://localhost:8080/"
        },
        "id": "KUEx-mGGMzFP",
        "outputId": "e741d9b6-53d1-4e33-a035-e6ff8eb9ffa0"
      },
      "outputs": [
        {
          "output_type": "stream",
          "name": "stdout",
          "text": [
            "Cloning into 'tensorflow-yolov4-tflite'...\n",
            "remote: Enumerating objects: 912, done.\u001b[K\n",
            "remote: Total 912 (delta 0), reused 0 (delta 0), pack-reused 912\u001b[K\n",
            "Receiving objects: 100% (912/912), 211.46 MiB | 16.37 MiB/s, done.\n",
            "Resolving deltas: 100% (439/439), done.\n"
          ]
        }
      ],
      "source": [
        "!git clone https://github.com/theAIGuysCode/tensorflow-yolov4-tflite"
      ]
    },
    {
      "cell_type": "code",
      "source": [
        "%cd /content/tensorflow-yolov4-tflite"
      ],
      "metadata": {
        "colab": {
          "base_uri": "https://localhost:8080/"
        },
        "id": "SUnb_emfM2vr",
        "outputId": "104f804e-6341-49ab-fbf7-0dbdf05605cc"
      },
      "execution_count": null,
      "outputs": [
        {
          "output_type": "stream",
          "name": "stdout",
          "text": [
            "/content/tensorflow-yolov4-tflite\n"
          ]
        }
      ]
    },
    {
      "cell_type": "markdown",
      "source": [
        "## requirement text file 수정\n",
        "- 필요한 오픈소스 목록 리스트업해둔 파일\n",
        "- requirement text 파일로 필요 오픈소스 묶음 설치하기"
      ],
      "metadata": {
        "id": "Sg7xybAbk19O"
      }
    },
    {
      "cell_type": "code",
      "source": [
        "req_gpu_text = '''tensorflow-gpu==2.5.0\n",
        "opencv-python==4.1.2.30\n",
        "lxml\n",
        "tqdm\n",
        "absl-py\n",
        "matplotlib\n",
        "easydict\n",
        "pillow\n",
        "'''\n",
        "\n",
        "with open('requirements-gpu.txt', 'w') as f:\n",
        "    f.write(req_gpu_text)"
      ],
      "metadata": {
        "id": "2D8IQKMVMgPM"
      },
      "execution_count": null,
      "outputs": []
    },
    {
      "cell_type": "code",
      "source": [
        "!pip install -r requirements-gpu.txt"
      ],
      "metadata": {
        "colab": {
          "base_uri": "https://localhost:8080/"
        },
        "id": "i8umwrZ0NG0z",
        "outputId": "5d0d4af8-127a-4d87-a0c6-b7277a199e10"
      },
      "execution_count": null,
      "outputs": [
        {
          "output_type": "stream",
          "name": "stdout",
          "text": [
            "\u001b[31mERROR: Could not find a version that satisfies the requirement tensorflow-gpu==2.5.0 (from versions: 2.8.0rc0, 2.8.0rc1, 2.8.0, 2.8.1, 2.8.2, 2.8.3, 2.8.4, 2.9.0rc0, 2.9.0rc1, 2.9.0rc2, 2.9.0, 2.9.1, 2.9.2, 2.9.3, 2.10.0rc0, 2.10.0rc1, 2.10.0rc2, 2.10.0rc3, 2.10.0, 2.10.1, 2.11.0rc0, 2.11.0rc1, 2.11.0rc2, 2.11.0, 2.12.0)\u001b[0m\u001b[31m\n",
            "\u001b[0m\u001b[31mERROR: No matching distribution found for tensorflow-gpu==2.5.0\u001b[0m\u001b[31m\n",
            "\u001b[0m"
          ]
        }
      ]
    },
    {
      "cell_type": "markdown",
      "source": [
        "## 학습된 weight파일 및 클래스네임 파일 gdown"
      ],
      "metadata": {
        "id": "Myv-hY0AlEXN"
      }
    },
    {
      "cell_type": "code",
      "source": [
        "%cd /content/tensorflow-yolov4-tflite/data"
      ],
      "metadata": {
        "colab": {
          "base_uri": "https://localhost:8080/"
        },
        "id": "9RTNxCn4ORZW",
        "outputId": "c64e0ca7-e436-477f-bd1f-7839d8fcde96"
      },
      "execution_count": null,
      "outputs": [
        {
          "output_type": "stream",
          "name": "stdout",
          "text": [
            "/content/tensorflow-yolov4-tflite/data\n"
          ]
        }
      ]
    },
    {
      "cell_type": "code",
      "source": [
        "!pip install -U --no-cache-dir gdown --pre"
      ],
      "metadata": {
        "colab": {
          "base_uri": "https://localhost:8080/"
        },
        "id": "3ezyY1EMNr7G",
        "outputId": "78e077ba-e80f-4c9b-83cf-385363eccc97"
      },
      "execution_count": null,
      "outputs": [
        {
          "output_type": "stream",
          "name": "stdout",
          "text": [
            "Requirement already satisfied: gdown in /usr/local/lib/python3.10/dist-packages (4.6.6)\n",
            "Collecting gdown\n",
            "  Downloading gdown-4.7.1-py3-none-any.whl (15 kB)\n",
            "Requirement already satisfied: filelock in /usr/local/lib/python3.10/dist-packages (from gdown) (3.12.2)\n",
            "Requirement already satisfied: requests[socks] in /usr/local/lib/python3.10/dist-packages (from gdown) (2.27.1)\n",
            "Requirement already satisfied: six in /usr/local/lib/python3.10/dist-packages (from gdown) (1.16.0)\n",
            "Requirement already satisfied: tqdm in /usr/local/lib/python3.10/dist-packages (from gdown) (4.65.0)\n",
            "Requirement already satisfied: beautifulsoup4 in /usr/local/lib/python3.10/dist-packages (from gdown) (4.11.2)\n",
            "Requirement already satisfied: soupsieve>1.2 in /usr/local/lib/python3.10/dist-packages (from beautifulsoup4->gdown) (2.4.1)\n",
            "Requirement already satisfied: urllib3<1.27,>=1.21.1 in /usr/local/lib/python3.10/dist-packages (from requests[socks]->gdown) (1.26.16)\n",
            "Requirement already satisfied: certifi>=2017.4.17 in /usr/local/lib/python3.10/dist-packages (from requests[socks]->gdown) (2023.5.7)\n",
            "Requirement already satisfied: charset-normalizer~=2.0.0 in /usr/local/lib/python3.10/dist-packages (from requests[socks]->gdown) (2.0.12)\n",
            "Requirement already satisfied: idna<4,>=2.5 in /usr/local/lib/python3.10/dist-packages (from requests[socks]->gdown) (3.4)\n",
            "Requirement already satisfied: PySocks!=1.5.7,>=1.5.6 in /usr/local/lib/python3.10/dist-packages (from requests[socks]->gdown) (1.7.1)\n",
            "Installing collected packages: gdown\n",
            "  Attempting uninstall: gdown\n",
            "    Found existing installation: gdown 4.6.6\n",
            "    Uninstalling gdown-4.6.6:\n",
            "      Successfully uninstalled gdown-4.6.6\n",
            "Successfully installed gdown-4.7.1\n"
          ]
        }
      ]
    },
    {
      "cell_type": "code",
      "source": [
        "# yolov4.weights file 다운로드\n",
        "!gdown 1wH9_mWifhShaK5LlVvRq3DKLtkLU3et9"
      ],
      "metadata": {
        "colab": {
          "base_uri": "https://localhost:8080/"
        },
        "id": "4Ftnv1zvOKsn",
        "outputId": "981c0d77-1d8e-4d05-d5fd-adf00211801d"
      },
      "execution_count": null,
      "outputs": [
        {
          "output_type": "stream",
          "name": "stdout",
          "text": [
            "Downloading...\n",
            "From (uriginal): https://drive.google.com/uc?id=1wH9_mWifhShaK5LlVvRq3DKLtkLU3et9\n",
            "From (redirected): https://drive.google.com/uc?id=1wH9_mWifhShaK5LlVvRq3DKLtkLU3et9&confirm=t&uuid=9385f3e5-2265-4fef-888e-0182ba15d176\n",
            "To: /content/tensorflow-yolov4-tflite/data/yolov4-custom_best.weights\n",
            "100% 256M/256M [00:05<00:00, 44.6MB/s]\n"
          ]
        }
      ]
    },
    {
      "cell_type": "code",
      "source": [
        "%cd /content/tensorflow-yolov4-tflite/data/classes"
      ],
      "metadata": {
        "colab": {
          "base_uri": "https://localhost:8080/"
        },
        "id": "ZlJmIQ8-O6SU",
        "outputId": "7cec3460-4d83-411f-a56e-cf37974395ef"
      },
      "execution_count": null,
      "outputs": [
        {
          "output_type": "stream",
          "name": "stdout",
          "text": [
            "/content/tensorflow-yolov4-tflite/data/classes\n"
          ]
        }
      ]
    },
    {
      "cell_type": "code",
      "source": [
        "# 구글 드라이브 파일에서 names을 colab으로 다운로드\n",
        "!gdown 1Ea9iydXmibS1bDnlVRsPhK4E9r-yifyT"
      ],
      "metadata": {
        "colab": {
          "base_uri": "https://localhost:8080/"
        },
        "id": "jHMD0hsGfTWm",
        "outputId": "9a0c860d-2085-493e-dfc0-fbe77eed7d61"
      },
      "execution_count": null,
      "outputs": [
        {
          "output_type": "stream",
          "name": "stdout",
          "text": [
            "Downloading...\n",
            "From: https://drive.google.com/uc?id=1Ea9iydXmibS1bDnlVRsPhK4E9r-yifyT\n",
            "To: /content/tensorflow-yolov4-tflite/data/classes/ClassNames.names\n",
            "\r  0% 0.00/12.0 [00:00<?, ?B/s]\r100% 12.0/12.0 [00:00<00:00, 83.6kB/s]\n"
          ]
        }
      ]
    },
    {
      "cell_type": "code",
      "source": [
        "%cd /content/tensorflow-yolov4-tflite"
      ],
      "metadata": {
        "colab": {
          "base_uri": "https://localhost:8080/"
        },
        "id": "tGfzfORCfWMM",
        "outputId": "24629c21-af58-494d-9aa9-dd0d004a2d63"
      },
      "execution_count": null,
      "outputs": [
        {
          "output_type": "stream",
          "name": "stdout",
          "text": [
            "/content/tensorflow-yolov4-tflite\n"
          ]
        }
      ]
    },
    {
      "cell_type": "markdown",
      "source": [
        "##  darknet weights -> tensorflow 형식으로 변환\n",
        "- class name 파일 경로 : custom dataset class name 파일 경로로 수정"
      ],
      "metadata": {
        "id": "mbMyTQMXlU_u"
      }
    },
    {
      "cell_type": "code",
      "source": [
        "## yolov4\n",
        "!python save_model.py --weights ./yolov4-custom_best.weights --output ./checkpoints/yolov4-416 --input_size 416 --model yolov4"
      ],
      "metadata": {
        "colab": {
          "base_uri": "https://localhost:8080/"
        },
        "id": "mUL81WOhNtL4",
        "outputId": "6092a861-f760-4197-c7c5-2a01c26ce8ef"
      },
      "execution_count": null,
      "outputs": [
        {
          "output_type": "stream",
          "name": "stdout",
          "text": [
            "2023-07-24 07:25:32.314469: I tensorflow/core/util/port.cc:110] oneDNN custom operations are on. You may see slightly different numerical results due to floating-point round-off errors from different computation orders. To turn them off, set the environment variable `TF_ENABLE_ONEDNN_OPTS=0`.\n",
            "2023-07-24 07:25:32.368525: I tensorflow/core/platform/cpu_feature_guard.cc:182] This TensorFlow binary is optimized to use available CPU instructions in performance-critical operations.\n",
            "To enable the following instructions: AVX2 AVX512F AVX512_VNNI FMA, in other operations, rebuild TensorFlow with the appropriate compiler flags.\n",
            "2023-07-24 07:25:33.383511: W tensorflow/compiler/tf2tensorrt/utils/py_utils.cc:38] TF-TRT Warning: Could not find TensorRT\n",
            "2023-07-24 07:25:35.971256: W tensorflow/core/common_runtime/gpu/gpu_bfc_allocator.cc:47] Overriding orig_value setting because the TF_FORCE_GPU_ALLOW_GROWTH environment variable is set. Original config value was 0.\n",
            "2023-07-24 07:25:35.971329: I tensorflow/core/common_runtime/gpu/gpu_device.cc:1635] Created device /job:localhost/replica:0/task:0/device:GPU:0 with 38270 MB memory:  -> device: 0, name: NVIDIA A100-SXM4-40GB, pci bus id: 0000:00:04.0, compute capability: 8.0\n",
            "Traceback (most recent call last):\n",
            "  File \"/content/tensorflow-yolov4-tflite/save_model.py\", line 58, in <module>\n",
            "    app.run(main)\n",
            "  File \"/usr/local/lib/python3.10/dist-packages/absl/app.py\", line 308, in run\n",
            "    _run_main(main, args)\n",
            "  File \"/usr/local/lib/python3.10/dist-packages/absl/app.py\", line 254, in _run_main\n",
            "    sys.exit(main(argv))\n",
            "  File \"/content/tensorflow-yolov4-tflite/save_model.py\", line 54, in main\n",
            "    save_tf()\n",
            "  File \"/content/tensorflow-yolov4-tflite/save_model.py\", line 49, in save_tf\n",
            "    utils.load_weights(model, FLAGS.weights, FLAGS.model, FLAGS.tiny)\n",
            "  File \"/content/tensorflow-yolov4-tflite/core/utils.py\", line 63, in load_weights\n",
            "    conv_weights = conv_weights.reshape(conv_shape).transpose([2, 3, 1, 0])\n",
            "ValueError: cannot reshape array of size 4559937 into shape (1024,512,3,3)\n"
          ]
        }
      ]
    },
    {
      "cell_type": "markdown",
      "source": [
        "모델 작동 확인"
      ],
      "metadata": {
        "id": "lY_3fPsGl64D"
      }
    },
    {
      "cell_type": "code",
      "source": [
        "# yolov4 tensorflow model 실행\n",
        "!python detect.py --weights ./checkpoints/yolov4-416 --size 416 --model yolov4 --images ./data/images/mask_01.jpg"
      ],
      "metadata": {
        "id": "SxLfIiHVP5tb",
        "colab": {
          "base_uri": "https://localhost:8080/"
        },
        "outputId": "f11bd3da-0491-4d8d-d690-fdae9fefb666"
      },
      "execution_count": null,
      "outputs": [
        {
          "output_type": "stream",
          "name": "stdout",
          "text": [
            "2023-07-24 07:26:09.468505: I tensorflow/core/util/port.cc:110] oneDNN custom operations are on. You may see slightly different numerical results due to floating-point round-off errors from different computation orders. To turn them off, set the environment variable `TF_ENABLE_ONEDNN_OPTS=0`.\n",
            "2023-07-24 07:26:09.521962: I tensorflow/core/platform/cpu_feature_guard.cc:182] This TensorFlow binary is optimized to use available CPU instructions in performance-critical operations.\n",
            "To enable the following instructions: AVX2 AVX512F AVX512_VNNI FMA, in other operations, rebuild TensorFlow with the appropriate compiler flags.\n",
            "2023-07-24 07:26:10.529369: W tensorflow/compiler/tf2tensorrt/utils/py_utils.cc:38] TF-TRT Warning: Could not find TensorRT\n",
            "2023-07-24 07:26:13.117917: I tensorflow/core/common_runtime/gpu/gpu_device.cc:1635] Created device /job:localhost/replica:0/task:0/device:GPU:0 with 38270 MB memory:  -> device: 0, name: NVIDIA A100-SXM4-40GB, pci bus id: 0000:00:04.0, compute capability: 8.0\n",
            "2023-07-24 07:26:13.139455: I tensorflow/core/common_runtime/gpu/gpu_device.cc:1635] Created device /job:localhost/replica:0/task:0/device:GPU:0 with 38270 MB memory:  -> device: 0, name: NVIDIA A100-SXM4-40GB, pci bus id: 0000:00:04.0, compute capability: 8.0\n",
            "Traceback (most recent call last):\n",
            "  File \"/content/tensorflow-yolov4-tflite/detect.py\", line 107, in <module>\n",
            "    app.run(main)\n",
            "  File \"/usr/local/lib/python3.10/dist-packages/absl/app.py\", line 308, in run\n",
            "    _run_main(main, args)\n",
            "  File \"/usr/local/lib/python3.10/dist-packages/absl/app.py\", line 254, in _run_main\n",
            "    sys.exit(main(argv))\n",
            "  File \"/content/tensorflow-yolov4-tflite/detect.py\", line 41, in main\n",
            "    saved_model_loaded = tf.saved_model.load(FLAGS.weights, tags=[tag_constants.SERVING])\n",
            "  File \"/usr/local/lib/python3.10/dist-packages/tensorflow/python/saved_model/load.py\", line 836, in load\n",
            "    result = load_partial(export_dir, None, tags, options)[\"root\"]\n",
            "  File \"/usr/local/lib/python3.10/dist-packages/tensorflow/python/saved_model/load.py\", line 941, in load_partial\n",
            "    loader_impl.parse_saved_model_with_debug_info(export_dir))\n",
            "  File \"/usr/local/lib/python3.10/dist-packages/tensorflow/python/saved_model/loader_impl.py\", line 58, in parse_saved_model_with_debug_info\n",
            "    saved_model = parse_saved_model(export_dir)\n",
            "  File \"/usr/local/lib/python3.10/dist-packages/tensorflow/python/saved_model/loader_impl.py\", line 116, in parse_saved_model\n",
            "    raise IOError(\n",
            "OSError: SavedModel file does not exist at: ./checkpoints/yolov4-416/{saved_model.pbtxt|saved_model.pb}\n"
          ]
        }
      ]
    },
    {
      "cell_type": "code",
      "source": [],
      "metadata": {
        "id": "8wPamI8A4BUG"
      },
      "execution_count": null,
      "outputs": []
    }
  ]
}
