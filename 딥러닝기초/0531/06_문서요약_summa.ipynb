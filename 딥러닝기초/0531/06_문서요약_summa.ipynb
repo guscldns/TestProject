{
  "cells": [
    {
      "cell_type": "markdown",
      "metadata": {
        "id": "view-in-github",
        "colab_type": "text"
      },
      "source": [
        "<a href=\"https://colab.research.google.com/github/guscldns/TestProject/blob/main/0531/0531_06_%EB%AC%B8%EC%84%9C%EC%9A%94%EC%95%BD_summa.ipynb\" target=\"_parent\"><img src=\"https://colab.research.google.com/assets/colab-badge.svg\" alt=\"Open In Colab\"/></a>"
      ]
    },
    {
      "cell_type": "code",
      "source": [
        "!pip install summa"
      ],
      "metadata": {
        "id": "dVVgZcSkI-r-",
        "colab": {
          "base_uri": "https://localhost:8080/"
        },
        "outputId": "55c3d01b-e1e0-4c3d-d138-67c26e2da1cf"
      },
      "execution_count": 1,
      "outputs": [
        {
          "output_type": "stream",
          "name": "stdout",
          "text": [
            "Looking in indexes: https://pypi.org/simple, https://us-python.pkg.dev/colab-wheels/public/simple/\n",
            "Collecting summa\n",
            "  Downloading summa-1.2.0.tar.gz (54 kB)\n",
            "\u001b[2K     \u001b[90m━━━━━━━━━━━━━━━━━━━━━━━━━━━━━━━━━━━━━━━━\u001b[0m \u001b[32m54.9/54.9 kB\u001b[0m \u001b[31m3.9 MB/s\u001b[0m eta \u001b[36m0:00:00\u001b[0m\n",
            "\u001b[?25h  Preparing metadata (setup.py) ... \u001b[?25l\u001b[?25hdone\n",
            "Requirement already satisfied: scipy>=0.19 in /usr/local/lib/python3.10/dist-packages (from summa) (1.10.1)\n",
            "Requirement already satisfied: numpy<1.27.0,>=1.19.5 in /usr/local/lib/python3.10/dist-packages (from scipy>=0.19->summa) (1.22.4)\n",
            "Building wheels for collected packages: summa\n",
            "  Building wheel for summa (setup.py) ... \u001b[?25l\u001b[?25hdone\n",
            "  Created wheel for summa: filename=summa-1.2.0-py3-none-any.whl size=54389 sha256=38315303e8bfad757059394dbebeddcffd1cd2ce051bec88110be7630d358771\n",
            "  Stored in directory: /root/.cache/pip/wheels/4a/ca/c5/4958614cfba88ed6ceb7cb5a849f9f89f9ac49971616bc919f\n",
            "Successfully built summa\n",
            "Installing collected packages: summa\n",
            "Successfully installed summa-1.2.0\n"
          ]
        }
      ]
    },
    {
      "cell_type": "code",
      "execution_count": 2,
      "metadata": {
        "id": "K57DXqZnmcQE",
        "colab": {
          "base_uri": "https://localhost:8080/"
        },
        "outputId": "7c307059-00d2-4a3e-fa03-dbbea004e4fd"
      },
      "outputs": [
        {
          "output_type": "stream",
          "name": "stdout",
          "text": [
            "Selecting previously unselected package fonts-nanum-extra.\n",
            "(Reading database ... 122545 files and directories currently installed.)\n",
            "Preparing to unpack .../fonts-nanum-extra_20180306-3_all.deb ...\n",
            "Unpacking fonts-nanum-extra (20180306-3) ...\n",
            "Selecting previously unselected package fonts-nanum.\n",
            "Preparing to unpack .../fonts-nanum_20180306-3_all.deb ...\n",
            "Unpacking fonts-nanum (20180306-3) ...\n",
            "Selecting previously unselected package fonts-nanum-coding.\n",
            "Preparing to unpack .../fonts-nanum-coding_2.5-2_all.deb ...\n",
            "Unpacking fonts-nanum-coding (2.5-2) ...\n",
            "Selecting previously unselected package fonts-nanum-eco.\n",
            "Preparing to unpack .../fonts-nanum-eco_1.000-7_all.deb ...\n",
            "Unpacking fonts-nanum-eco (1.000-7) ...\n",
            "Setting up fonts-nanum-extra (20180306-3) ...\n",
            "Setting up fonts-nanum (20180306-3) ...\n",
            "Setting up fonts-nanum-coding (2.5-2) ...\n",
            "Setting up fonts-nanum-eco (1.000-7) ...\n",
            "Processing triggers for fontconfig (2.13.1-2ubuntu3) ...\n"
          ]
        }
      ],
      "source": [
        "# 그래프에서 한글표현을 위해 폰트를 설치합니다.\n",
        "!apt-get update -qq\n",
        "!apt-get install fonts-nanum* -qq"
      ]
    },
    {
      "cell_type": "code",
      "execution_count": 3,
      "metadata": {
        "colab": {
          "base_uri": "https://localhost:8080/"
        },
        "id": "qFz9tEFJTIp1",
        "outputId": "e6a86955-a2f6-4a74-ea96-1d8fa6c85ce4"
      },
      "outputs": [
        {
          "output_type": "stream",
          "name": "stdout",
          "text": [
            "NanumGothic Eco\n"
          ]
        }
      ],
      "source": [
        "import matplotlib.pyplot as plt  # 그래프 그리는 용도\n",
        "import matplotlib.font_manager as fm  # 폰트 관련 용도\n",
        "path = '/usr/share/fonts/truetype/nanum/NanumGothicEco.ttf'  # 설치된 나눔글꼴중 원하는 녀석의 전체 경로를 가져오자\n",
        "font_name = fm.FontProperties(fname=path, size=10).get_name()\n",
        "print(font_name)\n",
        "plt.rc('font', family=font_name)\n"
      ]
    },
    {
      "cell_type": "markdown",
      "metadata": {
        "id": "FfdiuhaNQ3oo"
      },
      "source": [
        "# 뉴스 전처리"
      ]
    },
    {
      "cell_type": "markdown",
      "metadata": {
        "id": "RVAAmfNDjCzX"
      },
      "source": [
        "데이터 설명\n",
        "- AI Hub에서 제공하는 문서요약텍스트 데이터 중 신문기사 train_original.json파일을 사용합니다. \n",
        "- https://aihub.or.kr/aidata/8054\n",
        "- AI가 텍스트를 이해하고 핵심내용을 자동으로 요약하는 기술개발을 위한 텍스트 및 요약내용을 생성하는 텍스트 데이터로, 그 중에서 신문기사 원문데이터를 사용하여 문서요약과 토픽모델링을 진행하겠습니다. \n",
        "  - media: 미디어 명\n",
        "  - id : 문서 번호\n",
        "  - article_original : 신문기사\n",
        "  - abstractive : AI hub에서 제공하는 생성 요약문\n",
        "  - extractive : 추출요약문, 원문의 형태적 구조를 바탕으로 내용을 잘 표현하는 문장 3개를 우선순위에 따라 차례로 작성\n"
      ]
    },
    {
      "cell_type": "code",
      "execution_count": null,
      "metadata": {
        "id": "o6kxh6jbdDvn"
      },
      "outputs": [],
      "source": [
        "# from google.colab import files\n",
        "# data = files.upload()"
      ]
    },
    {
      "cell_type": "code",
      "source": [
        "!pip install -U --no-cache-dir gdown --pre\n",
        "!gdown --no-cookies --id 1KuBG40WNpVPV1ilfGaiCI2D3l8JVSfbS"
      ],
      "metadata": {
        "id": "fKUVD1ptuah5",
        "colab": {
          "base_uri": "https://localhost:8080/"
        },
        "outputId": "61b5de65-1472-4c9a-8e9c-d3c20dfb566d"
      },
      "execution_count": 4,
      "outputs": [
        {
          "output_type": "stream",
          "name": "stdout",
          "text": [
            "Looking in indexes: https://pypi.org/simple, https://us-python.pkg.dev/colab-wheels/public/simple/\n",
            "Requirement already satisfied: gdown in /usr/local/lib/python3.10/dist-packages (4.6.6)\n",
            "Collecting gdown\n",
            "  Downloading gdown-4.7.1-py3-none-any.whl (15 kB)\n",
            "Requirement already satisfied: filelock in /usr/local/lib/python3.10/dist-packages (from gdown) (3.12.0)\n",
            "Requirement already satisfied: requests[socks] in /usr/local/lib/python3.10/dist-packages (from gdown) (2.27.1)\n",
            "Requirement already satisfied: six in /usr/local/lib/python3.10/dist-packages (from gdown) (1.16.0)\n",
            "Requirement already satisfied: tqdm in /usr/local/lib/python3.10/dist-packages (from gdown) (4.65.0)\n",
            "Requirement already satisfied: beautifulsoup4 in /usr/local/lib/python3.10/dist-packages (from gdown) (4.11.2)\n",
            "Requirement already satisfied: soupsieve>1.2 in /usr/local/lib/python3.10/dist-packages (from beautifulsoup4->gdown) (2.4.1)\n",
            "Requirement already satisfied: urllib3<1.27,>=1.21.1 in /usr/local/lib/python3.10/dist-packages (from requests[socks]->gdown) (1.26.15)\n",
            "Requirement already satisfied: certifi>=2017.4.17 in /usr/local/lib/python3.10/dist-packages (from requests[socks]->gdown) (2022.12.7)\n",
            "Requirement already satisfied: charset-normalizer~=2.0.0 in /usr/local/lib/python3.10/dist-packages (from requests[socks]->gdown) (2.0.12)\n",
            "Requirement already satisfied: idna<4,>=2.5 in /usr/local/lib/python3.10/dist-packages (from requests[socks]->gdown) (3.4)\n",
            "Requirement already satisfied: PySocks!=1.5.7,>=1.5.6 in /usr/local/lib/python3.10/dist-packages (from requests[socks]->gdown) (1.7.1)\n",
            "Installing collected packages: gdown\n",
            "  Attempting uninstall: gdown\n",
            "    Found existing installation: gdown 4.6.6\n",
            "    Uninstalling gdown-4.6.6:\n",
            "      Successfully uninstalled gdown-4.6.6\n",
            "Successfully installed gdown-4.7.1\n",
            "/usr/local/lib/python3.10/dist-packages/gdown/cli.py:126: FutureWarning: Option `--id` was deprecated in version 4.3.1 and will be removed in 5.0. You don't need to pass it anymore to use a file ID.\n",
            "  warnings.warn(\n",
            "Downloading...\n",
            "From (uriginal): https://drive.google.com/uc?id=1KuBG40WNpVPV1ilfGaiCI2D3l8JVSfbS\n",
            "From (redirected): https://drive.google.com/uc?id=1KuBG40WNpVPV1ilfGaiCI2D3l8JVSfbS&confirm=t&uuid=cc00df10-9171-40b8-bfea-0e09c9f05b40\n",
            "To: /content/train_original.json\n",
            "100% 800M/800M [00:11<00:00, 68.2MB/s]\n"
          ]
        }
      ]
    },
    {
      "cell_type": "code",
      "execution_count": 5,
      "metadata": {
        "id": "1n1-AcF5btMJ",
        "colab": {
          "base_uri": "https://localhost:8080/",
          "height": 624
        },
        "outputId": "d1c7c8c4-51e7-433d-e2bf-3d55824d2b1d"
      },
      "outputs": [
        {
          "output_type": "execute_result",
          "data": {
            "text/plain": [
              "        media         id                                   article_original  \\\n",
              "0        부산일보  360972161  [지난해 고령화와 유례가 드문 겨울 한파 등 영향으로 우리나라 사망자 수가 통계 작...   \n",
              "1        중도일보  356659913  [서산시의회(의장 임재관) 가충순·이수의 의원이 (사)한국지역신문협회에서 수여하는 ...   \n",
              "2        무등일보  351718460  [지난 2004년 시작해 조선대 학생들의 대표적인 행사로 자리매김한 ‘조선대 국토대...   \n",
              "3        이데일리  335868123  [서울시는 신학기가 시작되는 다음달 4일부터 고등학교 3학년 무상급식을 실시한다고 ...   \n",
              "4        서울신문  351443347  [미국인 선교사가 우간다에서 의사 행세를 하며 의료 시설을 운영한 혐의로 지역 시민...   \n",
              "...       ...        ...                                                ...   \n",
              "260692   매일경제  353316985  [두통과 어지럼증은 우리에게 매우 익숙하다., 하루 이틀 정도만 참으면 자연스럽게 ...   \n",
              "260693   부산일보  360784906  [파주 최대 테마파크 퍼스트가든이 ㈜투바앤의 캐릭터 '라바'와 할로윈 페스티벌(사진...   \n",
              "260694   부산일보  357253753  [민원과 난공사로 완공이 늦어지고 있는 양산시 한일아파트 인근 옹벽 보수·보강공사 ...   \n",
              "260695   매일신문  347655953  [사단법인 전국자원봉사연맹이 호국보훈의 달을 맞이하여, 오는 2019년 6월 23일...   \n",
              "260696  아시아경제  369524558  [라이프스타일 투자플랫폼 와디즈는 서강대학교 경영전문대학원, 한국전문경영컨설팅과 함...   \n",
              "\n",
              "                                              abstractive   extractive  \n",
              "0       통계청이 발표한 '2018년 사망원인통계'를 보면 지난해 총 사망자 수는 관련 통계...  [4, 11, 18]  \n",
              "1       서산시 가충순 의원과 이수의 의원이 활발한 의정활동을 펼친 감사의 표시로 한국지역신...    [1, 3, 4]  \n",
              "2        ‘조선대의 새로운 비상을 꿈꾸다’를 슬로건으로 진행되어 단체생활을 통해 협동심과 ...    [0, 2, 4]  \n",
              "3       서울시가 다음달 4일부터 서울 시내 319개 고등학교 3학년 8만4700명을 대상으...    [0, 1, 2]  \n",
              "4       미국인 선교사가 우간다에서 의사 행세를 하며 두 아이의 죽음과 관련돼 있다며 지역 ...    [0, 1, 2]  \n",
              "...                                                   ...          ...  \n",
              "260692  두통과 어지럼증은 우리에게 매우 익숙한 증상이며, 이 두통은 크게 긴장성 두통, 혈...  [3, 12, 16]  \n",
              "260693  파주 최대 테마파크 퍼스트가든이 오는 10월 12일부터 31일까지 가족들이 함께 즐...    [0, 4, 1]  \n",
              "260694  양산시는 지난해 10월부터 43억 원을 들여 진행 중인 한일아파트 뒤편 옹벽 보수·...    [4, 6, 7]  \n",
              "260695  국가를 위해 헌신한 분들의 숭고한 희생을 기리고, 유가족 들을 위로하기 위해 열리는...    [0, 1, 2]  \n",
              "260696  지난 4일 라이프스타일 투자플랫롬 와디즈는 스타트업 투자 시장에서의 자금 조달 수요...    [0, 1, 2]  \n",
              "\n",
              "[260697 rows x 5 columns]"
            ],
            "text/html": [
              "\n",
              "  <div id=\"df-d978041f-21cb-4811-857f-a143f925fb09\">\n",
              "    <div class=\"colab-df-container\">\n",
              "      <div>\n",
              "<style scoped>\n",
              "    .dataframe tbody tr th:only-of-type {\n",
              "        vertical-align: middle;\n",
              "    }\n",
              "\n",
              "    .dataframe tbody tr th {\n",
              "        vertical-align: top;\n",
              "    }\n",
              "\n",
              "    .dataframe thead th {\n",
              "        text-align: right;\n",
              "    }\n",
              "</style>\n",
              "<table border=\"1\" class=\"dataframe\">\n",
              "  <thead>\n",
              "    <tr style=\"text-align: right;\">\n",
              "      <th></th>\n",
              "      <th>media</th>\n",
              "      <th>id</th>\n",
              "      <th>article_original</th>\n",
              "      <th>abstractive</th>\n",
              "      <th>extractive</th>\n",
              "    </tr>\n",
              "  </thead>\n",
              "  <tbody>\n",
              "    <tr>\n",
              "      <th>0</th>\n",
              "      <td>부산일보</td>\n",
              "      <td>360972161</td>\n",
              "      <td>[지난해 고령화와 유례가 드문 겨울 한파 등 영향으로 우리나라 사망자 수가 통계 작...</td>\n",
              "      <td>통계청이 발표한 '2018년 사망원인통계'를 보면 지난해 총 사망자 수는 관련 통계...</td>\n",
              "      <td>[4, 11, 18]</td>\n",
              "    </tr>\n",
              "    <tr>\n",
              "      <th>1</th>\n",
              "      <td>중도일보</td>\n",
              "      <td>356659913</td>\n",
              "      <td>[서산시의회(의장 임재관) 가충순·이수의 의원이 (사)한국지역신문협회에서 수여하는 ...</td>\n",
              "      <td>서산시 가충순 의원과 이수의 의원이 활발한 의정활동을 펼친 감사의 표시로 한국지역신...</td>\n",
              "      <td>[1, 3, 4]</td>\n",
              "    </tr>\n",
              "    <tr>\n",
              "      <th>2</th>\n",
              "      <td>무등일보</td>\n",
              "      <td>351718460</td>\n",
              "      <td>[지난 2004년 시작해 조선대 학생들의 대표적인 행사로 자리매김한 ‘조선대 국토대...</td>\n",
              "      <td>‘조선대의 새로운 비상을 꿈꾸다’를 슬로건으로 진행되어 단체생활을 통해 협동심과 ...</td>\n",
              "      <td>[0, 2, 4]</td>\n",
              "    </tr>\n",
              "    <tr>\n",
              "      <th>3</th>\n",
              "      <td>이데일리</td>\n",
              "      <td>335868123</td>\n",
              "      <td>[서울시는 신학기가 시작되는 다음달 4일부터 고등학교 3학년 무상급식을 실시한다고 ...</td>\n",
              "      <td>서울시가 다음달 4일부터 서울 시내 319개 고등학교 3학년 8만4700명을 대상으...</td>\n",
              "      <td>[0, 1, 2]</td>\n",
              "    </tr>\n",
              "    <tr>\n",
              "      <th>4</th>\n",
              "      <td>서울신문</td>\n",
              "      <td>351443347</td>\n",
              "      <td>[미국인 선교사가 우간다에서 의사 행세를 하며 의료 시설을 운영한 혐의로 지역 시민...</td>\n",
              "      <td>미국인 선교사가 우간다에서 의사 행세를 하며 두 아이의 죽음과 관련돼 있다며 지역 ...</td>\n",
              "      <td>[0, 1, 2]</td>\n",
              "    </tr>\n",
              "    <tr>\n",
              "      <th>...</th>\n",
              "      <td>...</td>\n",
              "      <td>...</td>\n",
              "      <td>...</td>\n",
              "      <td>...</td>\n",
              "      <td>...</td>\n",
              "    </tr>\n",
              "    <tr>\n",
              "      <th>260692</th>\n",
              "      <td>매일경제</td>\n",
              "      <td>353316985</td>\n",
              "      <td>[두통과 어지럼증은 우리에게 매우 익숙하다., 하루 이틀 정도만 참으면 자연스럽게 ...</td>\n",
              "      <td>두통과 어지럼증은 우리에게 매우 익숙한 증상이며, 이 두통은 크게 긴장성 두통, 혈...</td>\n",
              "      <td>[3, 12, 16]</td>\n",
              "    </tr>\n",
              "    <tr>\n",
              "      <th>260693</th>\n",
              "      <td>부산일보</td>\n",
              "      <td>360784906</td>\n",
              "      <td>[파주 최대 테마파크 퍼스트가든이 ㈜투바앤의 캐릭터 '라바'와 할로윈 페스티벌(사진...</td>\n",
              "      <td>파주 최대 테마파크 퍼스트가든이 오는 10월 12일부터 31일까지 가족들이 함께 즐...</td>\n",
              "      <td>[0, 4, 1]</td>\n",
              "    </tr>\n",
              "    <tr>\n",
              "      <th>260694</th>\n",
              "      <td>부산일보</td>\n",
              "      <td>357253753</td>\n",
              "      <td>[민원과 난공사로 완공이 늦어지고 있는 양산시 한일아파트 인근 옹벽 보수·보강공사 ...</td>\n",
              "      <td>양산시는 지난해 10월부터 43억 원을 들여 진행 중인 한일아파트 뒤편 옹벽 보수·...</td>\n",
              "      <td>[4, 6, 7]</td>\n",
              "    </tr>\n",
              "    <tr>\n",
              "      <th>260695</th>\n",
              "      <td>매일신문</td>\n",
              "      <td>347655953</td>\n",
              "      <td>[사단법인 전국자원봉사연맹이 호국보훈의 달을 맞이하여, 오는 2019년 6월 23일...</td>\n",
              "      <td>국가를 위해 헌신한 분들의 숭고한 희생을 기리고, 유가족 들을 위로하기 위해 열리는...</td>\n",
              "      <td>[0, 1, 2]</td>\n",
              "    </tr>\n",
              "    <tr>\n",
              "      <th>260696</th>\n",
              "      <td>아시아경제</td>\n",
              "      <td>369524558</td>\n",
              "      <td>[라이프스타일 투자플랫폼 와디즈는 서강대학교 경영전문대학원, 한국전문경영컨설팅과 함...</td>\n",
              "      <td>지난 4일 라이프스타일 투자플랫롬 와디즈는 스타트업 투자 시장에서의 자금 조달 수요...</td>\n",
              "      <td>[0, 1, 2]</td>\n",
              "    </tr>\n",
              "  </tbody>\n",
              "</table>\n",
              "<p>260697 rows × 5 columns</p>\n",
              "</div>\n",
              "      <button class=\"colab-df-convert\" onclick=\"convertToInteractive('df-d978041f-21cb-4811-857f-a143f925fb09')\"\n",
              "              title=\"Convert this dataframe to an interactive table.\"\n",
              "              style=\"display:none;\">\n",
              "        \n",
              "  <svg xmlns=\"http://www.w3.org/2000/svg\" height=\"24px\"viewBox=\"0 0 24 24\"\n",
              "       width=\"24px\">\n",
              "    <path d=\"M0 0h24v24H0V0z\" fill=\"none\"/>\n",
              "    <path d=\"M18.56 5.44l.94 2.06.94-2.06 2.06-.94-2.06-.94-.94-2.06-.94 2.06-2.06.94zm-11 1L8.5 8.5l.94-2.06 2.06-.94-2.06-.94L8.5 2.5l-.94 2.06-2.06.94zm10 10l.94 2.06.94-2.06 2.06-.94-2.06-.94-.94-2.06-.94 2.06-2.06.94z\"/><path d=\"M17.41 7.96l-1.37-1.37c-.4-.4-.92-.59-1.43-.59-.52 0-1.04.2-1.43.59L10.3 9.45l-7.72 7.72c-.78.78-.78 2.05 0 2.83L4 21.41c.39.39.9.59 1.41.59.51 0 1.02-.2 1.41-.59l7.78-7.78 2.81-2.81c.8-.78.8-2.07 0-2.86zM5.41 20L4 18.59l7.72-7.72 1.47 1.35L5.41 20z\"/>\n",
              "  </svg>\n",
              "      </button>\n",
              "      \n",
              "  <style>\n",
              "    .colab-df-container {\n",
              "      display:flex;\n",
              "      flex-wrap:wrap;\n",
              "      gap: 12px;\n",
              "    }\n",
              "\n",
              "    .colab-df-convert {\n",
              "      background-color: #E8F0FE;\n",
              "      border: none;\n",
              "      border-radius: 50%;\n",
              "      cursor: pointer;\n",
              "      display: none;\n",
              "      fill: #1967D2;\n",
              "      height: 32px;\n",
              "      padding: 0 0 0 0;\n",
              "      width: 32px;\n",
              "    }\n",
              "\n",
              "    .colab-df-convert:hover {\n",
              "      background-color: #E2EBFA;\n",
              "      box-shadow: 0px 1px 2px rgba(60, 64, 67, 0.3), 0px 1px 3px 1px rgba(60, 64, 67, 0.15);\n",
              "      fill: #174EA6;\n",
              "    }\n",
              "\n",
              "    [theme=dark] .colab-df-convert {\n",
              "      background-color: #3B4455;\n",
              "      fill: #D2E3FC;\n",
              "    }\n",
              "\n",
              "    [theme=dark] .colab-df-convert:hover {\n",
              "      background-color: #434B5C;\n",
              "      box-shadow: 0px 1px 3px 1px rgba(0, 0, 0, 0.15);\n",
              "      filter: drop-shadow(0px 1px 2px rgba(0, 0, 0, 0.3));\n",
              "      fill: #FFFFFF;\n",
              "    }\n",
              "  </style>\n",
              "\n",
              "      <script>\n",
              "        const buttonEl =\n",
              "          document.querySelector('#df-d978041f-21cb-4811-857f-a143f925fb09 button.colab-df-convert');\n",
              "        buttonEl.style.display =\n",
              "          google.colab.kernel.accessAllowed ? 'block' : 'none';\n",
              "\n",
              "        async function convertToInteractive(key) {\n",
              "          const element = document.querySelector('#df-d978041f-21cb-4811-857f-a143f925fb09');\n",
              "          const dataTable =\n",
              "            await google.colab.kernel.invokeFunction('convertToInteractive',\n",
              "                                                     [key], {});\n",
              "          if (!dataTable) return;\n",
              "\n",
              "          const docLinkHtml = 'Like what you see? Visit the ' +\n",
              "            '<a target=\"_blank\" href=https://colab.research.google.com/notebooks/data_table.ipynb>data table notebook</a>'\n",
              "            + ' to learn more about interactive tables.';\n",
              "          element.innerHTML = '';\n",
              "          dataTable['output_type'] = 'display_data';\n",
              "          await google.colab.output.renderOutput(dataTable, element);\n",
              "          const docLink = document.createElement('div');\n",
              "          docLink.innerHTML = docLinkHtml;\n",
              "          element.appendChild(docLink);\n",
              "        }\n",
              "      </script>\n",
              "    </div>\n",
              "  </div>\n",
              "  "
            ]
          },
          "metadata": {},
          "execution_count": 5
        }
      ],
      "source": [
        "import pandas as pd\n",
        "\n",
        "df_news = pd.read_json(\"./train_original.json\")\n",
        "df_news\n",
        "\n",
        "#article_original : 원문\n",
        "#abstractive : 사람이 만든 문장(생성 요약문)\n",
        "#extractive : 사람이 뽑은 중요도"
      ]
    },
    {
      "cell_type": "code",
      "execution_count": 6,
      "metadata": {
        "id": "aDxJJ1hUbs-q",
        "colab": {
          "base_uri": "https://localhost:8080/"
        },
        "outputId": "33428b01-7780-4775-863e-c05b46629287"
      },
      "outputs": [
        {
          "output_type": "execute_result",
          "data": {
            "text/plain": [
              "['지난해 고령화와 유례가 드문 겨울 한파 등 영향으로 우리나라 사망자 수가 통계 작성 이후 가장 많았다.',\n",
              " '폐렴과 치매의 일종인 알츠하이머병은 지난해 사망원인 순위 3위와 9위로 전년보다 각각 한 단계, 두 단계 상승하는 등 노인성 질병에 의한 사망률이 급증하는 추세다.',\n",
              " '‘연령표준화 사망률’(표준인구 10만 명당 사망자 수)은 울산·충북·부산 순으로 높게 나타났다.',\n",
              " '■작년 사망자 29만 8820명, 역대 최다',\n",
              " \"24일 통계청이 발표한 '2018년 사망원인통계'를 보면 지난해 총 사망자 수는 전년 대비 4.7%(1만 3286명) 증가한 29만 8820명으로 관련 통계를 작성한 1983년 이후 가장 많았으며, 5년 연속 증가세를 보였다.\",\n",
              " '통계청은 인구 구조의 고령화와 지난해 1~2월 유례가 드문 한파 등을 그 원인으로 꼽았다.',\n",
              " '지난해 조사망률(인구 10만 명당 사망자 수) 역시 582.5명으로 전년보다 4.5%(25.1명) 증가해 5년 연속 늘었다.',\n",
              " '특히 80세 이상의 사망자가 전체 사망자의 절반에 가까운 46.3%로, 10년 전보다 14.3%포인트(P)나 증가했다.',\n",
              " '■폐렴·알츠하이머병 사망률 순위 ‘껑충’',\n",
              " '사망원인별로 보면 지난해 암(악성신생물)에 의한 사망률(이하 인구 10만 명당 사망자 수)은 154.3명으로 전년보다 0.2% 증가했다.',\n",
              " '1983년 관련 통계를 집계한 이래 줄곧 암이 사망원인 1위로 집계됐다.',\n",
              " '특히 폐렴(4위→3위)과 치매의 일종인 알츠하이머병(11위→9위)에 의한 사망률 순위 상승이 두드러졌다.',\n",
              " '폐렴 사망률은 2004년 10위에서 꾸준히 순위가 상승하고 있고, 알츠하이머병 사망률 역시 통계 작성 이래 10대 사인에 처음 포함됐다.',\n",
              " '지난해 알츠하이머병에 의한 사망률은 12.0명으로 전년(9.8명) 대비 22.5% 증가했다.',\n",
              " '알츠하이머병 사망률은 10년 전(3.8명)과 비교하면 무려 214.2% 증가했다.',\n",
              " '폐렴 사망률은 45.4명으로 전년(37.8명) 대비 20.0% 증가했다.',\n",
              " '알코올 관련 사망률은 9.6명으로 전년보다 2.0% 늘었다.',\n",
              " '■자살률 5년 만에 증가…\"베르테르 효과 영향\"',\n",
              " '지난해 자살에 의한 사망자는 1만 3670명으로 전년보다 9.7%(1207명) 증가했다.',\n",
              " '자살률은 26.6명으로 전년보다 2.3명(9.5%) 증가했다.',\n",
              " '자살률은 2013년 28.5명, 2014년 27.3명, 2015년 26.5명, 2016년 25.6명, 2017년 24.3명 등 4년 연속 줄어들다가 5년 만에 증가세로 돌아섰다.',\n",
              " '자살은 10∼30대까지 사망원인 순위 1위를 차지했고, 40∼50대에서도 2위를 기록했다.',\n",
              " '김진 통계청 인구동향과장은 \"자살에는 베르테르 효과, 즉 유명인 자살이 영향을 준다.',\n",
              " '2011년 이후 유명인 자살이 줄면서 자살이 줄었는데 지난해에는 유명인 자살이 있어 영향을 줬다\"고 설명했다.',\n",
              " '지역 간 연령구조 차이를 표준화한 사망률(표준인구 10만 명당 사망자 수)을 보면 울산(355.3명), 충북(352.6명), 부산(350.8명)이 높았고, 서울(283.3명)과 경기(306.8명)가 낮았다.',\n",
              " '사인별로 연령표준화 사망률이 높은 지역을 보면 암은 경남(101.5명), 심장 질환은 경남(44.6명), 뇌혈관 질환은 울산(30.6명), 폐렴은 경북(30.3명), 운수사고는 전남(14.4명), 고의적 자해(자살)는 충남(29.8명)이었다.']"
            ]
          },
          "metadata": {},
          "execution_count": 6
        }
      ],
      "source": [
        "# 원문기사 \n",
        "df_news['article_original'].iloc[0]"
      ]
    },
    {
      "cell_type": "code",
      "execution_count": 7,
      "metadata": {
        "colab": {
          "base_uri": "https://localhost:8080/",
          "height": 54
        },
        "id": "HjylrG1kkxU_",
        "outputId": "e628bcf7-4d99-4cd0-86e3-7704a22c05cd"
      },
      "outputs": [
        {
          "output_type": "execute_result",
          "data": {
            "text/plain": [
              "\"통계청이 발표한 '2018년 사망원인통계'를 보면 지난해 총 사망자 수는 관련 통계를 작성한 이래 가장 많았으며 사망 원인 중 폐렴과 알츠하이머 병의 순위 상승이 두드러졌고 자살에 의한 사망자도 증가했다. \""
            ],
            "application/vnd.google.colaboratory.intrinsic+json": {
              "type": "string"
            }
          },
          "metadata": {},
          "execution_count": 7
        }
      ],
      "source": [
        "# 생성 요약문(AI hub)\n",
        "df_news['abstractive'].iloc[0]"
      ]
    },
    {
      "cell_type": "code",
      "execution_count": 8,
      "metadata": {
        "colab": {
          "base_uri": "https://localhost:8080/"
        },
        "id": "Dx4GGHEAf7Ly",
        "outputId": "3f36444e-d314-4948-cc05-e58e22578fe5"
      },
      "outputs": [
        {
          "output_type": "stream",
          "name": "stdout",
          "text": [
            "24일 통계청이 발표한 '2018년 사망원인통계'를 보면 지난해 총 사망자 수는 전년 대비 4.7%(1만 3286명) 증가한 29만 8820명으로 관련 통계를 작성한 1983년 이후 가장 많았으며, 5년 연속 증가세를 보였다.\n",
            "특히 폐렴(4위→3위)과 치매의 일종인 알츠하이머병(11위→9위)에 의한 사망률 순위 상승이 두드러졌다.\n",
            "지난해 자살에 의한 사망자는 1만 3670명으로 전년보다 9.7%(1207명) 증가했다.\n"
          ]
        }
      ],
      "source": [
        "# 주요 문장 추출 결과(AI hub)\n",
        "for i in df_news['extractive'].iloc[0]:\n",
        "  print(df_news['article_original'].iloc[0][i])"
      ]
    },
    {
      "cell_type": "code",
      "execution_count": 9,
      "metadata": {
        "colab": {
          "base_uri": "https://localhost:8080/"
        },
        "id": "gq00bY4TlFjj",
        "outputId": "dd7b52ea-4720-4318-b71d-67c7e7789d39"
      },
      "outputs": [
        {
          "output_type": "stream",
          "name": "stdout",
          "text": [
            "<class 'pandas.core.frame.DataFrame'>\n",
            "RangeIndex: 260697 entries, 0 to 260696\n",
            "Data columns (total 5 columns):\n",
            " #   Column            Non-Null Count   Dtype \n",
            "---  ------            --------------   ----- \n",
            " 0   media             260697 non-null  object\n",
            " 1   id                260697 non-null  int64 \n",
            " 2   article_original  260697 non-null  object\n",
            " 3   abstractive       260697 non-null  object\n",
            " 4   extractive        260697 non-null  object\n",
            "dtypes: int64(1), object(4)\n",
            "memory usage: 9.9+ MB\n"
          ]
        }
      ],
      "source": [
        "# 데이터 타입과 null 값 확인\n",
        "df_news.info()"
      ]
    },
    {
      "cell_type": "markdown",
      "metadata": {
        "id": "YQQbMn91q7We"
      },
      "source": [
        "# 문서 요약: 키워드 추출 및 핵심 문장 선택"
      ]
    },
    {
      "cell_type": "markdown",
      "metadata": {
        "id": "ieanyqqM8DIw"
      },
      "source": [
        "뉴스 기사에서 중요한 단어 혹은 문장을 추출하여 요약할 수 있습니다. \n",
        "\n",
        "왜 문서 요약이 필요할까요? 이유는 다음과 같습니다.    \n",
        "1. 많은 양의 데이터를 처리 가능 \n",
        "2. 일관된 추출\n",
        "3. 실시간 분석 가능\n",
        "\n",
        "문서 요약의 두 가지 기법 \n",
        "1. extractive approach: 문서 내 키워드나 문장을 추출해서 요약을 하는 방식\n",
        "2. abstractive approach: 문서 내 포함된 단어 외에 새로운 단어나 문장을 사용해서 요약하는 방식"
      ]
    },
    {
      "cell_type": "markdown",
      "metadata": {
        "id": "b3BNkxo9t0Ao"
      },
      "source": [
        "## Text rank를 활용한 키워드 추출\n",
        "- Bringing Oder into Texts 논문 기반 (https://www.aclweb.org/anthology/W04-3252.pdf)\n",
        "\n",
        "- 키워드 추출이란?   \n",
        "키워드 추출은 문서를 잘 설명하는 단어를 텍스트에서 식별하는 것입니다. \n",
        "\n",
        "- Text rank를 활용한 키워드 추출\n",
        "  -  그래프 기반 랭킹 모델 \n",
        "  -  키워드와 문장 추출을 위한 비지도 학습 방법을 제안\n",
        "\n",
        "- 그래프 기반 랭킹 알고리즘이란? \n",
        "  - 그래프 기반 랭킹 알고리즘은 구글 page rank에서 사용된 유명한 알고리즘으로, 특히 웹분석에 성공적으로 적용하였습니다. \n",
        "  - 기본적으로 그래프 기반 랭킹 알고리즘은 그래프의 각 노드의 중요도를 결정하는 방법입니다. \n",
        "  - 각 단위(웹페이지 or 단어)의 중요도를 해당 단위가 연결되어 있는 다른 단위의 중요도를 바탕으로 평가합니다. \n",
        "  - Text rank는 그래프 기반 랭킹 알고리즘으로 단어 노드의 중요도를 결정하는 방법입니다. \n",
        "  - 단순히 문서 내 빈도수로 단어의 중요도를 판단하는 것 보다 좋은 성능을 보이는 것으로 알려져있습니다. \n",
        "    - 그래프 기반 랭킹 알고리즘은 텍스트 단위의 로컬 텍스트 뿐만 아니라, 전체 텍스트에서 재귀적으로 정보를 고려하며, \n",
        "    - 깊은 언어지식이나, 도메인 별 corpora 없이, 다른 도메인, 장르, 언어에 적용 가능합니다. \n",
        "    "
      ]
    },
    {
      "cell_type": "markdown",
      "metadata": {
        "id": "ZTNdwdRtfINE"
      },
      "source": [
        "![image.png](data:image/png;base64,iVBORw0KGgoAAAANSUhEUgAAAdEAAAG4CAYAAAAaON0JAAAgAElEQVR4AezdCdg1RXUn8GSSzJpMZiaTScxMjOMkGcfJ7sSYURRRdIy7iRE1rhhF0CAgIiggCIJssi+yb7KICKIoIKISccUlGhdQiBAXBAFlFZSa51ef56O//rrv7Xtv3/Wtfp5633v7dldX/evU+Z9zaumfSeUoCBQECgIFgYJAQWAsBH5mrLvKTQWBgkBBoCBQECgIpEKiRQgKAgWBgkBBoCAwJgKFRMcErtxWECgIFAQKAgWBQqJFBgoCBYGCQEGgIDAmAoVExwSu3FYQKAgUBAoCBYFCokUGCgIFgYJAQaAgMCYChUTHBK7cVhAoCBQECgIFgUKiRQYKAgWBgkBBoCAwJgKFRMcErtxWECgIFAQKAgWBQqJFBgoCBYGCQEGgIDAmAoVExwSu3FYQKAgUBAoCBYFCokUGCgIFgYJAQaAgMCYChUTHBK7cVhAoCBQECgIFgUKiRQYKAgWBgkBBoCAwJgKFRMcErtxWECgIFAQKAgWBQqJFBgoCBYGCQEGgIDAmAoVExwSu3FYQKAgUBAoCBYFCokUGCgIFgYJAQaAgMCYChUTHBK7cVhAoCBQECgIFgUKiRQYKAgWBgkBBoCAwJgKFRMcErtxWECgIFAQKAgWBQqJFBgoCBYGCQEGgIDAmAoVExwSu3FYQKAgUBAoCBYFCokUGCgIFgYJAQaAgMCYChUTHBK7cVhAoCBQECgIFgUKiRQYKAgWBgkBBoCAwJgKFRMcErtxWECgIFAQKAgWBQqJFBgoCBYGCQEGgIDAmAoVExwSu3FYQKAgUBAoCBYFCokUGCgIFgYJAQaAgMCYChUTHBK7cVhAoCBQECgIFgUKiRQYKAgWBgkBBoCAwJgKFRMcErtxWECgIFAQKAgWBQqJFBgoCBYGCQEGgIDAmAoVExwSu3FYQKAgUBAoCBYFCokUGCgIFgYJAQaAgMCYChUTHBK7cVhAoCBQECgIFgUKiRQYKAgWBgkBBoCAwJgKFRMcErtxWECgIFAQKAgWBQqJFBgoCBYGCQEGgIDAmAoVExwSu3FYQKAgUBAoCBYFCokUGCgIFgYJAQaAgMCYChUTHBK7cVhAoCBQECgIFgUKiRQYKAgWBgkBBoCAwJgKFRMcErtxWECgIFAQKAgWBQqJFBgoCC4rAfffdl+6+++50++235/SjH/0o/fjHP17Q0s6/WD/5yU/Srbfemm666ab0ve99b2ByzR133FHwnH+zLX0JCokufROOVwEK+p577slK5+abb05NiUJyjWsp8GuuuSZdeeWV6Qtf+EL67ne/mxX8pz/96XTOOefk9MUvfjHdddddQwskP0ruqquuSv/4j/+Y/1Nog47vfOc76YILLkinnnpqesc73pHLMej6afwGi3/6p39Kp59+ejrllFPS+eefn6677rqhijjIEMbXX399uvrqq9NXv/rVdO2112Ycb7vttoQAqkfcc/bZZ6dddtklp+OPPz63U/W6Rf9MTt773vfmdoPZoKSuZKuORdc63nnnnenggw9Or3zlK9PLXvaygWnrrbfOMvuDH/yga/bluoJAIwKFRBthWf2TFNUNN9yQjjnmmHTooYemQw45ZIPk3Nvf/vZMdq6lbPbee+/06Ec/Ov3FX/xFJhCk8JrXvCb9t//239J//a//Ne21117ZCxiGHm/q3HPPTU972tPSpptump7znOekb3zjGwNv+9jHPpb+/M//PP2n//Sf0gMe8IC0++67D7x+Gj8i+vPOOy/9+q//evqP//E/poc//OHpAx/4QDYmmp6HCO+99950yy23pM997nNp//33T8973vPS5ptvnjbbbLOM46tf/eqszL/97W9v4Bm594c//GF60YtelH7+538+/dzP/Vx6whOekIm36VnOIXlGzKRJmT2/j+OKK65I//f//t/cbv/hP/yHNCj9j//xPzJGnj/OQUb/8i//MrfPL//yL6dB6Td+4zeyDDHmylEQmASBQqKToLfE91JUn/3sZzMB/rt/9+/Sv/k3/2aD5BxypPxdK/zFwv/P//k/pwc/+MGJV3TjjTemLbfcMv2rf/Wv0r/8l/8ye0tdlJL8DjvssPTABz4w/dt/+2/T//yf/zN9/vOfH4jmhz/84fT7v//7mVCUbaeddhp4/TR+FFZ95zvfmXH6F//iX6SHPvSh2Ttu876R2je/+c30+te/Pv33//7f832BFbykf/2v/3UmFsbJu9/97hwZUPZRSZShw7OH06WXXjpR+vrXv95qGIyK60c/+tH0B3/wB7ndfvZnfzYNSv/lv/yXbIiNS6JC32eccUZ661vfmvNh1LUl18BJm5ajIDAJAoVEJ0Fvie+lqL70pS+lP/qjP8oK/rd+67dSNVH6f/zHf5zDrTxHhPnyl788K3zXHXvssdlLfelLX5p+4Rd+ISvJnXfeOXu3w2Dx7Le85S3pV3/1V/N9yPRTn/rUwDAecvi93/u9hLwQ76gkipR4Kvvss0/2gJ/61KemLomR8MlPfnL92CQSRXw/8zM/k/7X//pf6T3veU9jCBtmvEv385yRp/t+53d+Jz3xiU/MHtMjH/nIjIHzDAP1ExpXzlFI1LXC7TDVZv/7f//vidJ+++3XW9iY3CBSoXhYDUoXX3xx+trXvjZQDqqypc7//M//nL1zkQxhckafIQbyNCi5hvwzPNxrqOL73/9+b8ZDtZzl82ojUEh0tdt3o9qFwjV+9K1vfSsrbWOM9cSif9e73pWJgKdlTLIPEvV8+W211VY53IYUhUYp2TaPTiUmJVGeGoX+7Gc/O4dGkWCXJMT4vve9L4dawxPtQqLGOc8888wcxhSKVUdhcCSCKChtY8gIC+kJ2cLi//2//5f+4R/+YWQS5YX93d/93XqCl5c8w+Md5f/rXve6bCBtJDwdTmhDYX5DBZMm0Y+m8eIohjC5cLhhAdhOkhhUb3vb23ozHqKM5f/qI1BIdPXbeH0Ng8AoaVY6D6tLYt2752//9m8n9kR5ocj7z/7sz7KCR2QU/m677ZZJbn1hax/6IFFK+fnPf376xV/8xezN8mjrSVgb4Qg7Ktvv/u7vpg996EOJ0TEKiZpwxOhAZPIynvvxj388e4xRNe1hnJV3rEyu+83f/M08CcdvXcdEXVslUfmoFwNACHzUdMABB2SvLMo5yv8vf/nL2SPeYYcd0qTJuPcll1yyAWbVsjDs4GqctdqO9TasGksMGu3rmuo9v/RLv5RMNiKb5SgIjIJAIdFR0FryaxGY8S4TYn7t134tGYPqkoQt99hjjxyapLAmCeea8WuGpucHUVFyQpkXXnhh64SWSUk0iObyyy/PXrcZtk3puOOOS9tss01WslEuM5JjqUnXcK7Q4rOe9az1HqbPFHR9iQoP2axUIV94aA+TvCYhUUZJ4DmON8hYICvjHO9///vzGOi///f/Pk2ajL3vu+++reOWDBsyI2pSbcsTTjghveENb8hj7kizSqK8/je+8Y3p5JNPTqeddtr6+0RiGJTDZomPg0m5Z7URKCS62u27Qe2CRB/2sIelX/mVX8khRmHGYck4Hq/A+OckJCrUZyzKzFSeQIQbKTmegFm6QpzGuurHpCQqP8SkDDy8tmQJy5vf/OY8RomMHvGIR+QxN9iN4olaymKZRXiixj9jbDXqpjzGP3l+ZpKGJ0rBT0KiiEMbmxk76+Pv//7v05Of/OQ8Nmt8tpoQGCOhSmrkgMds8lH1Wp8f+9jH5hnibWF+Bok2MZlNeNzkNEMQJnI96lGPyjIGixhzhi9i32STTZLxe9eKslhqZDzUcxg15SgIjIJAIdFR0Frya2OCkHE4E3N23HHHtO222+bxSQT5whe+MCefjVlavuIapGLCC1JAopZ4WO4iPBneFrJom1iEEHhy1ka+5CUvyZNsTEbi0VK4CMT9Jhq94hWvyBNEeATui6MPEo28Bv1HosLWQn0mAz3lKU/JM2Yp11FIlMfNI4IXRa5u8KPozdhFspQ3z80SEPV3nVm6DI1lJVHjoSbqCP9Xk/Wf6vqkJz1pAxI129uEKITvmuo9xo6FbJu8YoRnDarJQcbTDQdYAoSQYY44ydWDHvSg9Nd//dfpGc94RvZMndO2jLbf/u3fzuOoZNlMXdED46zlKAiMgkAh0VHQWrFreXyUlpm2JpMgT7NJWfKWsNgIIbzC6uxcHhoPgiIyvsSzGESilOBXvvKVPB5JgfEI3LvrrrsmY2jWTlJu8pGvtX7WhVaV56xIlLcY47XKtN122633TkYhUaSLLJ/5zGfmuqobkjTr2eQhdUSYngGPINqTTjopT6ZZVhJt6iLqgvSEqYVoq56osWDEigyr7d2UT/UcY8ekIp4leazmyUBDpoyWiy66KBOjCUo2fTBO/ZCHPCTjXb0H/s4LrRdvtIp0+TwMgUKiwxBawd8pCVP7eZkmzvAsbWJAoUuxoQGlguiEyoTMYnYu5UPxU17++95EopSnyTxmtwqv8RAoOIrTmlPjs4iJhyqUK8QsTwQrnHfkkUfmcUREPimJ8oR500KEg5aA8I4tN1EOhGe8LY5RSNQ9iIPxwKvnEcUaUYYEDCKkLZz+J3/yJ3lCEWNFxGAVSFQdeHa8bxEG645hAFvk5zPygsWf/umf5nFKHjoyde+gQ6TCpCNtZOMEXqUwrclM1tuGF+s6eEbol2dL3sikaMxjHvOYfK8x6ec+97m5Xwx6bvmtIFBHoJBoHZEV/045UdS2kjO5h0JDbjY84BlRRIjVOb9RLnvuuWdWLjE7FwkgWNfbqch1dRL1HMrTvca7hNcoTYqUB4FAkYzrKDhjobw+SpF363plOvDAA/P45aQkSpnancma1KoH0vaZccBj5I3HMSqJRt3M1DUh6bWvfW02FizFsFbU0gzev/D6Jz7xiVxPBAIP2CCgF77whetDvW07FnlOdXau9mAoCHMipVGT50YEIure5b9yKDfDCYnx/IRZhasZZ9qVXPH0hXDtxqQ9GFYMCl6q2dN2yjJ73DpbHiQ84mAAip7YKcrEIEuWGGDbb799XqJy4oknZmPJs006akp+s2MWr9+yFvcK+b7pTW/KnqjQrklgNssoR0FgGAKFRIchtGK/U0hClmboIhAKd4sttsiWuTEpyVpGY0jhZSJLyzxiTBSxGkei+IUlEWidRCk7YWKE7DdKkjdmlq+xrHrojgKm7I844ohMnrwzs4IpSpOAJiVRMznNCrbcwzhcNfGAed9IXp0l5TUWXB0j60KiQSSUfyTlN4HI5BXjboyL2INYyJeXz7DxHzYMDLOIjS3+zd/8zcgkqvwm8Dz+8Y/PoXLh8lGSLR+NbY5yRL3JhCU7xroZRAwu7c+7VyZkddlll+VZsMaERRsQvvZmOCFUhEs+GVu2WYRfhFjJjaEH7Yh0p5FMyuLNau9yFASGIVBIdBhCK/Y7EmWdIyjKVihNmJOioqCkWIZCqbnGrkZmMhov5UnwHnh1QmMmClF8dRIFG2LgiQi38b7qCrEOrbLxGBGMMLJn+E6BTkqi8kbSFLgJLtUktGcsTMhZXSRb+n3wgx9cr7yVtQuJws/OO7wcy2UYEjyro446Ko8J8joZEsadbY4AU94UL/P//J//kydbwZjHzpjhZcFW2LOrJxrGkXowDEZNvF/e8yiHeguTameEyetUZs9mPCFxxEQmeHhIN9qbYcEztY9yRECUnWxaqsPoC8/YvSGH8p9GMrzBeGP4lKMgMAyBNUGiOqxOzjOgCIW+4oiOzAOgsFf9iHAY75IXSglRXsKmyEQI0No8ITi/SzZMN9EnPNGu60QpPBNAkLawKKUUHkUbzuHRULY8N98dPGQeM6JTXh7MKId8lEe4UTtHIhNCd97+YaMDeBiTNdO4vvC+C4nKHwnxwnjskSjmWJtrpm4sMeJ1eR6PDeF4Psx5xkiH59aVRJVZeL3qZY/zWdi+XvdhWGtX+IRnaVkUQrVHLcOFV81Q09+qR7SL9hamFWblgTIojIuTRdGAkBv/hXJNUrKhf1sKY4WswpRBaKiCUdd2T5wXDalOqquWt3wuCNQRWHkSpbhN7qDIrb8zZuIVVp/5zGdy56RMWbrGRVjEceisiFVnaktmlgq9VUk57l/U/5SWUB3lxEOgXChwypbid46CF870m3MIVj1jTLQricLA80IB8iZMUjJjctTEW+bZCTUeffTRmdQnxVjZELUxsj/8wz/MdeZF2QWHQkeI1aMrifIeESaCjGQiDc8KQfIUKfYIcfI6hSWNMyuHMUNLaz7ykY/kyS7DSFQZGYnG8ozxBRmM+x8eohFdD8+GDbJj7CAhWx6KKMQaTL8NS+RSn+PRIl4bKMhDmFv+jCCHdonn2TvXMy0LqiZ9WiQBprAm4wwScle9zme6QIjdcxB9PIt8lKMgMAyBlSZRnYBi0Xme/vSn54kDxrmEgyz4p5h1HB3LNHudKQ4dVTjR+baNyi1fsLsNK3rZOhxPwzpGhGE8ipJBnJLPzvmN0WGCh8kiZpkiWAo/3uJiYozQW1M4N7CM/5QoxY48JkkIX7h3kgOxM6DOOuusPDMWuVG2wtzeWWoMtX5QrsN2LKLoebVmMr/4xS9en3inxpnVW4jcf54a0mPckUUhZh4/40yoHMG7rwuJ1ss6y+/knwfJuEGg00hwR7DVQx/Vv40bmwRWTSZumYnNy4c3DBkrZuNWr/PZ+K1JTsL9YfBVn1M+FwQGIbCyJIrUdDIhLlPXTeBg6bKwfTZrFCmwYusk6l4KFuEKIQpFuaeejBshGJb4sh0R3qaYTGIxdmeykOSzc35DHK6Fm9mLvKTHPe5xeYyUkmeQGP9CpLBmlLQd8Df2RalNkhDQqG9xqZZJfZSd0jf2KYzKOxQKJRfIvkmZdiFRsiNErK6eEcn2ezA1PoywGQJ2geJJuV7EJELYng9vRGq26qKTKK8dGfG+GV/TSEL4VSNXe8LNdn1Cx2EAVv+LpITnH0SqravX+IxoGU9mFDe1e1V2yueCQB2BlSZRXoGxEaExIVydJN65+IIXvCBP7hDCbSJRCtMEEFYuMjaW05R0umXzQkMIkAmFDYN4hZTwls+8IcaD8KskJM5T4qUJ1SEE15g0Y2mKcLiQ+aAwYJAowpIQCk9fpEAIdFAy09RYImXIUx6HRLWTMtgdx7ibsDRFywgwHopA1bWtPbuQaGBb/08WGWyeQ7GbqcqggL/hAOFHaymNO0uME96R2c3hJbdNLKo/a9bfhUJFdoSs4TkowVobav8gtkHXx2+xbWK1bvql16xZczxIdpp+s9OWtbkMMkaKYQsyXki0inD53AWBlSXRqLyOQeEK77DqhceQqo5lLRprn/JnSYelS4lWSTTGYiLPVfkvZCmMaJkKkpokwZcHa0yp7aiTqMlNtg4URuORDUoI3HghQhmVRLWn8ViTnJC+SSuUc4yVUaAIVIi7PvGlWpdpkWh4VOERh5FR/a+sdRJVJ3gLtU8j8aLlP0z+GR76GDkybDIo2YtY+yFQbWB5y6Dr4zdGGiO4eiiXyIeXyzPqRknGS23MwGsuJFpFtXweFYGVJ1GAUDa8KpMVjKGwnHkAwrG8LrvSIIG1RqK8RpufmzlaVdjjfI5wrrBl21EnUZjzgrtY/zw1oeQgvlE8UfkjamPYJvpE/ShPRM6z5g22eaBRn0UjUfLLKBBmn0baa6+91o+JBwaT/hf1iRmzvHHyN+7BE0WcxpZHfd0b8hYJifH84omO2wrlvpUlUR3MBA9hO6Ex46IseeN5kSjxv/qrv0qUhWUcdRL1OiWWs3wOO+ywjZIJFCaFsNiHKeBFFLXwRIW2ApOu/4XvYGNsDykhJGOio5KoWb/TJlFtY4wbWRoDNQZmmzjta6ck45Fd2m9aJMqjMouVMWd9oiRsbjYykmc4NHmiQu8mz5jsNY1keQ6CglFfR58kqk0tdzEDN8Y6jcuaQGQt86AkrI5EGZDGwm07yNDuIot9YVHyWQ0EVpZEeZ/GQU0eOfzwwzMRUki8Ed8pKWsizYakXBFskKimdb91esb7zARFEMjG2IyF8tabsf4POuigPM7WRQkvmsjEmCgvjQIZJcXYMiIdl0R5ljZgsMuN0PqgZLchBDhOOBfuwrRCf+TB9nva3nft3PWYFomSHW0h/0hCvCZ2DZpYhERNuLGmdBoJwRizXmQSNRRjs3kyiEjNFjfWPMryHku4yIVwvnYoR0FgFARWlkQDBAqKAqWcTEDQuarLF5yvTyyKe91HyUrGnHQ2Hq1ZlHGeF7GMBBp1HPc/ZSMUy3Mdl0SNRwmrGaPkCQxKvA2h2EkmFqmrdht3XS9ZGbbEpQ1PctI2sajpHjJlPNLkIl5+kydqLNK6WS8SmEZiLNo8wVh1X0ffnmiVRI2x2hnJvtCjhreNiSsb77YcBYFREFh5EkWESI/Vbk9PITOKNI5BJOoayiwUml1SzNY1lhjn/V+LRx8kyqtEEMalhiUk4nqEPerEomr7RLtVz3X9vGgkSrYZBIzCaSX5e05fxzRJlIFl9i8yrS9jGfZdiH/YEq2+MCj5rBYCK0+iCNOEInu8emeh8cvquAcPwbic8K41n67ndVoTytKPZNciYV3hYOGtOB//3bOWQkHqKvxrzMwyAV6iEDeDpe0QouTZWNc3SbKfqqVLsz54KTYV4EEjcnsK84S6eLaISHjWRBo42THK8gxj900HsoeX/XWN8Rm3M34/6nZ8TXnP85xZsd7Og7SMWTJMxz3gblcnIe1J5Mm9Ih2x5Gjc8pT71iYCK0+ilJRxN/tmIj9EWU2UklmOJnaYYMLbsNm6SSfeFhHJ2KhlMSYgveY1r1l/Pn43rtqmEFdRtBgiCNOEK5O3YGKckeJvOxgojBNvhJkkIR8EPutD+S2nQGxbb711XkdsowGG2LADKTI8yJhZyv6Tl6pBV83D9fKFk52zjNkh7EHrcKv3L+pna4v1rVe96lW5DyHVcQ94Ml6NpU8iT+71ggMG8Vrqw+PiXu7bEIGVJ1HWqglGdiSx9+u22267UUIAlkzEfqk6uo4l9NQleWsHL5eSLUdBoCBQECgIrB0EVp5EhdEssjcWamMB4bimxIviofIMeAAs0lHGmdzDeyhHQaAgUBAoCKwdBFaeRCMsZqajEFpb6rIzy9oRi1LTgkBBoCBQEOiCwMqTaBcQyjUFgYJAQaAgUBAYB4FCouOgVu4pCBQECgIFgYJASqmQaBGDgkBBoCBQECgIjIlAIdExgSu3FQQKAgWBgkBBoJBokYGCQEGgIFAQKAiMiUAh0TGBK7cVBAoCBYGCQEGgkGiRgYJAQaAgUBAoCIyJQCHRBuDKpgkNoJRTBYGCQEGgILARAoVEa5DYj9NWgYVIa8CUrwWBgkBBoCCwEQKFRCuQIE47Gnl/IjItR0GgIFAQKAgUBAYhUEi0gg4StYk8EvWmjT7fo1h5TPlYECgIFAQKAiuCQCHRWkPagJ43ev311+e33Jewbg2g8rUgUBAoCBQE1iNQSHQ9FPd/QKTe6PK9732veKP3w1I+FQQKAgWBgkANgUKiNUB85X16FZoXdnu7S/FGG0AqpwoCBYGCQEGg7J3bJgO8UeOixkeNkxYibUOqnC8IFAQKAmsXgeKJDmh7S12Q6Pe///0S1h2AU/mpIFAQKAisVQQKiQ5oed7o7bffnr75zW/m8G7xRgeAVX4qCBQECgJrEIFCokMa3XrR7373u3mS0T333DPk6vJzQaAgUBAoCKwlBAqJDmlt3ucdd9yRw7qWvhRvdAhg5eeCQEGgILCGECgk2qGxEeeNN96Yl72USUYdACuXFAQKAgWBNYJAIdGODY08v/Od76SbbropGSstR0GgIFAQKAgUBAqJdpQBxGnNqJ2M7rzzzkKkHXErlxUECgIFgVVGoJDoCK1rYpFJRlKZZDQCcOXSgkBBoCCwoggUEh2hYY2NWjtqyUvZyWgE4MqlBYGCQEFgRREoJDpiw8ZORsZHjZOWoyBQECgIFATWLgKFREdse95omWQ0Imjl8oJAQaAgsKIIFBIds2HjdWkmGZW1o2OCWG4rCBQECgJLjkAh0TEb0E5GXpXmlWk+l6MgUBAoCBQE1h4ChUTHbHPep9elXXfddem2224rS17GxLHcVhAoCBQElhmBQqITtN6Pf/zj/IYXb3oxa7ccBYGCQEGgILC2EOiVRHlnkhmsayWZZMQbtZMRUl0r9V7Wepbx67Wl4EptCwLTRqBXEhXevPrqq9OXvvSl9I//+I/py1/+8son9ZS+9rWvrXxdl7k9o428TKAcBYGCQEGgLwR6JVHv3rzqqqvyZBuemZdZr5VkO8Cvf/3rebLRWqv7MrSxSWCI1KzqchQECgIFgb4Q6J1Er7nmmvwi67UWNuPhCOvayUiosxyLhYBtGnnShUQXq11KaQoCy45AIdGeWtB46C233JKJtEwy6gnUHrMpJNojmCWrgkBBYD0ChUTXQzHZB543Rf2tb30rkylSLcfiIFBIdHHaYi2VhF6YRpo2hstY5mlj0pZ/IdE2ZMY4L4wrnGvJi/FhgliOxUCgkOhitMNaKAU9YAMWM/dNtrSrWZ9JpIs8e05fOkY+8pOv/Pssb+QlX7h4ziodhUR7bk0CYnN6r0srOxn1DO4E2RUSnQC8cmsnBIKIECdj+tZbb81RKcM8fSdj++Zh9BXxkg+yU+abb755akm54dOnAdCpcaZ4USHRKYBLGIV1CWRfluIUirmmsiwkuqaaey6VRQxBRH2TZlN+9IuI16RE6n67rnnGNAk08vacPso9l0ZueGgh0QZQJj1FKAmKZS+UdyHSSRGd/P5CopNjWHJoR0AfF65s8z4N8Xz1q1/Ny6wstfrGN76RlwJ+9KMfTVY0BIH90z/9U14q553FSEdE63Of+1xeh27pnOuqKYh0XB3jPh5tPD+Izn/LwpTzK1/5Sl77b3a7cn3xi19Ml19++XrCveGGG0MEFcgAACAASURBVJJy+53zYMmbez/0oQ/lulXzjM+eFx5pO6rL8Ush0Sm1kw4VAlXCulMCeYRsC4mOAFa5dGQEqt5cleTi89///d+nN7/5zenoo49OxxxzTDr77LMzWR522GHps5/9bN7xzBI5550799xz89wKpOXzxz72sXTjjTduQKCRNyI1/joqkbqebpJPkFv1v5drnHTSSbk8yv32t789ffCDH0yXXnppPhfrw5Hs8ccfn4444oj8u3oY0jrwwAOzAVDNs/pZaHcVdONsSdSAsjee3HVXSnfe2Z7uuSelpsFnE3X8Zp/aYfe3TeoZ9nxl87LtpvudM+u2Q/l/cu+9OWShE2wwycjzh5W/7fm69rDnK5v82/Bzf5fnN93v+V3KL/8m/EZWTf3dUEi0PyxLThsigIwGeaFI6qKLLkrHHXdcJssgEiR1wAEHpE9+8pPZ4L7wwgvTaaedlj71qU9lUkJWCOrMM89MH/nIR7J3F8RZ/Y9EY3xUWbomxN/mhSojMjz00EOzF+p7kKZyIUikzuM855xz0hlnnJG91re97W3ZSxWFe8tb3pI+85nPNBK0/NSBN7rsx+xIlFL9/vdTOu64lB796JQe+cjmtMkmKe22W0o33rgxtgA/44yUnvzk5nsjzze8ISXbuzUpcvc/9rHt9z/ucSm97nUp3Xzzxs+//faULrggpc03b79fGXbYIaXvfCePVQjHxL66mQAvuSSlpz998P1bbpnSD3/YTISXXZbS4x+f0qMe1ZzHppumtNVWKX3zmxuXH36XXz4cv623Tun66ze+35krrkjpWc9qfnbgr37ar42Im3Oe6tlColOFd01mbgyUB9hlEhESPfbYY5PQJ/JkXCPIXXbZJZPNJz7xiXTUUUelT3/60zk0yuPbdddd01lnnZUOPvjg9OEPf7iVRINQERNd0zUFMfrflIJE/+Ef/iGHlWNXtgsuuCBttdVWuWx2aTv11FOT8iNUZUWk73//+9PrXve6bCA05R3nkPiyH7MjUd7JKaek9Od/ntIv/VJKv/IrKf3ar22cfuM3Unr5y1P67nc3xpb3efTRKT30oRvfV83rpS9NCeE1kehRR6X0wAe23/+gB6X0ghekdNNNGz//tttSOv30lB784Pb7lWOLLTIJsQhZWjxRHS6T6LvfndIf/MHg+5/whJRuvbWZhJC45//6rzfnoW5PeUpKX//6xuUnsB/4wHD8nva0lK69duP7nbn00pT+5E+anx1t8Id/mI2IXN/mXGZ+tpDozCFfqQfqy0KP+jPPz1BNjBciGd+DzJr+C8cecsgh6bzzzkvnn39+eu9735vHDPfee+9kXNR46eGHH55Du8hL+He77bZLRx55ZHrrW986lEQRGFI2Xtk1GcNk5Aeh1f+rE8+YJ6zM0vve9778nZd57bXX5jHPU045JXvPyJshsNtuu6V3vOMdafvtt8/n6/lWv28QpVtSiZkNiSIzpPbqV6f0C7+Q0u/8Tkove1lK22+/cXrta1M67bSUbrllY0iFOXliu+++8X3VvE46aV3IsolEP/zhdZ5m9frq59e/fp23zBOsH0j8k59MaZddBj+ft91Ewoj0M59Jac89B99/8MHtnvTnP5/Szju338+LPuywZiOEIfOlLw3H74gjUrrhhnrt1313/157tT8flurXZgQ05zr1s4VEpw7xyjwAYQp1kplY62n2qslBJgUJt3784x9PV155ZR7XFOZErE3kGecQI7J1n/88OCQsXGpMVN6nn3569uA8A9m+613vyuRqnHRQONczeMO8ulGTcldJrfoZMSsj71hCur7zko3bqjevGmFefPHFmVQZCn53fp999skYVfOsfy6eaK3bsCoa986tkigv9MUvTum669Z5WoilnprIL57lt/r19e9r/X54tB1d8WvDsMv9g57fVq4pny8kOmWAVyR7BIo4EYQZpwjviiuuyJ6hWbLIT0g2Zpa63uEeE2WCNOv/EZLxQRN05ItMjCnyQnl0PiMpXidi3W+//fIbsfw2jEQRoaU1Odo1Qju4Xj2UtU5u8Z13KTwrnAwT53nNSN13yed99903e6EmTXmjVRcS9Vxjyct+zN4TRaIveUlK//zPy45dKf8SIVBIdIkaa0ZFjRBtrO00Tok0eZo8L5+D8HiiCIcc8VKDPKOoCIkTUSfP+I5E5YsceaNf+MIX0uc///nshXoGMkKkPD0kxRlBYMo0jERjlmu9TFG2tv+uV5dB3qgy8CjNEFZeiQfudZfqpNwI09u7kKfyxrjvME+U9+z5y34UEl32Fizl74RAIdFOMK3sRUEYPEZkF8ofWQmfIjVjiQgMESAPoUZy08XDk79r27xRz+PFnnzyyTlsa8KQhJw8k4cXhFv9b6kIL1D5lKn6m8+exwgYlUCjod0X47zhfVb/K7dJUcodZfbfxCFl83v1+viMSI2lRt3ifPxH3Npi3HJH+Rfh/2xJ1HjnAx6Q0itfmdK3v71B/YE5rbTBg4Z8mVYZZpHvkKpt9PM4Zdook/oJoVzLkIyB3313uu+nVvs4zxp0T/2xw74XEh2G0Or8HnLDyzEZSNsLGyIhnp6wrNmkPELEadYp5R4h2nGR8NwI6yKJOuGN8x1J8fh4qcpYzWPcMG69fowERBx5B9FN8l+5eahR7sjLM5Qb1vBahWM2JAopk4LMTDUp58wzU6q8HFkjEnIhE5YVkCdNMdCuA3VtLNe5ngUa09YnLce074cXy1rnHSU0EjMNu2BexXKoVW4G8JVXpnTqqenHl1+e7vze93rDMupKVkapK/ErJLoK6qpbHcg2ueYN8f5M3DHbVThVGNIkH/2STJAjiVx31RODSiEPz6dDyGsQ07D/SKbJ02y6T77qp88P7Y+DClv5TbnlJ1/YBOkN+o8o2zxR99V/ky9dNYpOrhRxYT/OjkR5KJaIWD9o5uu992ahBWg0HIEZ1Gij/BbCR+AI9DBh05Gqgj/Ks+Z9rbqGgOrAg5SB35AQYgyMhpU/rgssBxLYTTel+8yefuAD049e8Yp061VX5ecMe0bX36OuZGaUzuhaEzfUoRyrgQBZ1q/DALdc4+qrr87epbE7IVDjdGa+8oi0fYxr9kWaTUhGufRFcoecBiVlEkK2RCUM4rbr5SdffXBQP28q17Bz8pOvZwwrN881tjIMQm8rs/NR7mniPqx+0/p9diRaq4EGIwyUeVcFOu51FO8gItWwfnfduM9YhPuUH55tRApzCqerpdlUJ8/Q0WHWdPzkO99J9267bUo///Pp7i22SLd+6UtTwVQ5KMW2utbLphMXEq2jsjzfyS6Z095BmmQgiDMmvPA6jcMJJeoLrh1o9C0ABMrHaxNiVh+yuugH4jfxSngcSa7lY24kqkNQxk2KehrndDgdSmesHkEsfp/Gc2edp3q0kRwFNAmBRl3k0TSmAcsfXX99uvtVr5o6iSpL1LWLkiwkWpX6xf9MliR6IsgTKfJ+GEOWiwjRmkUbSypGMaoWDQHyyRu1BaAxUHVf1EPZ6AD4axPts5aPuZEooelDoYdi7/Jfg9cVru/Od7l/Wa5BLgizehB8xNdXHSiseufx/Y5rrkl3bbPNTEhUXchQF8u9kGhVGhb/M4OXjPEozZ5FLrHBgeUUiIY8R6hQPyZ/i0w+g1BX7pBRHh6dtKh1UU7LcoTL17oXqk3nRqLzCJ82KVwCMWsy74vIBuVT97r7NhaCqKsdHXH/8OqrZ0qiMGjyiusKKxQUxVyO2SJARhAcGdQOwxLFLEwY45rGCn23DZ32NgZXJ9CqHM62dv09TR1EkRgNJkCpY91Q7e9p4+ekD5nhrD3qxvr4uS7vnbMjUS6/ZQ82ob/ttnTbHMKnFD9yqR467CAyWtbf6mPAhJ3w91UfWMKuqrx8/8EcSLRe12r7xudCooHEbP+TD7KnjXhXZLBLEtq09MQMW+OFDN22++SrXy+zJxqtAi991PhojDdW+1hcN6//ysILFU7vYrzOq5yzfO7sSBR5nXvuun1fzzgj3fbTtVl9KfUu+RQS7ZdE697uvEi0bQy42pEKiVbRmM1nCpeMIEB9b5rJM0adsT0bFEZ/Co/dchdjjsLZvi/CoT31ceFm49DlWIfAbEjUILn1gzvtlNJv/mZK22yT7vj612c+G1ZHIwTVg3LVubuQ8DJdUye4aYRzYVe1kucVzu2yY0sh0arUT/9zECjvsSt5xnZx+lnbPbxSxOLa+jX6N6902UOMsCOv1rNa27ooE414+soilAvrcqxDYHYkGm9x+eneuT+65pqZj0XqYHWrrm9yWQSiJeB1RaIDIJu+ykc51sdrfL/9W99Ktx96aPrRk5+c7thrr3TLN77R2zObyk6R1g2jps5dSLQJlemcQwL6VRuB8rIoYtvZXX755TnxbkxU8SaTWKQvnMsbc51NEyhwBGoLOt/rJBrfuxhV06l5f7nCkFxbrgOXpv7W39O65USnGK+FfZc+1y3X5b9qbiT6k29+c2GWuIjt64BNSnrZzqlHU3gzrFsEO2md5NE0HuIZd91+e7r1uuvSLV/+crrl2mvTzd/73sTPayuvujYZRk3dspBoEyrTOZfl4Kfv3Qxiq/63FvKEE07I76r80Ic+lC677LJMFMjyTW96U96Tlafpu/dT2oPV67aMxRkr3X333fOko2qe1c8Ip25ETqem089VX7akh5FRjy5N/+n3P4GBbFzbe1G1jTYuxzoE5kai911/fQ5ZEPg2JdnXeR2siVhCCAiI8RTX9fXMeeUTCqRJyEO5TVLPwLLu0a/H8sc/Trffdlu6+aab0s02p27ZoLoPfAbVNcoT/wuJBhLT/58jEoyplrFQJHriiSdmkuRdSjEG6EXOXg+GOM4444zsidok/thjj82vJOtComHkTb+m038CLPUVE3lMNEKk8zh4nowYM6bpynLcj8DcSNSr0Ch1yo03MYliH6SQdSgWFKXfRCygcN7vrnP9oPwW9Tf4dZlYoVPyIhHQqJgHlqz8rliO+owu+MqTzJCdtnLcL+LrPhUSrSMyve9hlJIXbVVPSFRI9oILLshhXes/L7300nTOOeeknXbaKStqYUPeKqXt+gMPPDC9/OUvT29+85vTNttsk++r5xvfQ06nV8PZ5kx2GRrWygpn+z7rQ3/zCjQh9nk8f9b1HeV5cyVRBQ0CM46hoSj3vhJSYbnp1F0O17nefX2Xpa86NeWjrIhxkKFQrT/MdQTeedd6joMl69V9TWUe95zykpWudY16q2/Z9i/QmO7/YSSKED74wQ+mww8/PIdrTzvttHT++efn14LtueeeeZ9b426I1sQauxQdcsghOaQrxLvjjjsOJVEyskoHw5UnaFtDY8ZddVofGHgWQ8aym1UYb+4Dk2oecyfRamGCUCnIPlJXL6VaBp/7LkcfdRmUxyT11EEG5e0310z7GcPKEL+PqzwKidalfHrftVFEdcI7rP8XcRC25WnGb0KWPE6hXR4XYj3vvPPyeOlxxx2Xr+0azp1X2HNaqOp/ZNjGE3AaNDzVdxlgaUmLtCpjzX1itFAk2mfFSl4FgSoChUSraEz3M4VP8baFc5EmEuVpXnzxxetJlIfqRc9+422ZmXrooYem/fbbL8/gRaxdSFS0gtG1agdcGSfegWrGLozHNW5HwUZbmE09aw94lDLO89rZkKgaWp953nkp7bprSmefvcH7ROcJQHl2zwhYD/zxj6d07LEpXXbZutff9fyIcbIrJDoOauPfwxsVym8jUkT5zne+Mx1zzDHpPe95z/p00UUXZS/U72aBCmEK7SJQStyY3D777JOXWoQHW/3veU0zx8evyWLdyThQR+OTJhqp6zQP7cj7tQ2h4ZlZkPY06zONvGdHoqZEGxDX6AjVOCVr0diF/UwHJfc1Tal2jtIedK+ZZG0z2jxfeQbd792nUd56C0T5XTMoD89vKr/8htVf3srYdD8M5T3o2e53TZNl7n55Dyt/2/OVv47ftdemtMMOKf3qr6a01VYpfec7ddTm8r2Q6OxhhzmvsI1Izbq1dMM4n8TbMaGIR4pEq+QY3itiNTZnI4L6754jzLmKXmi19YRUAwfjxdMKsSJQeHpTDrzL0YzA7Ei06fm33JLShRemdPzxKR1zTHv6xjfaSeD881M67rj2e085JaXPfrbp6esI+CMfab9XmU4+OaXPfW4dWdRzQdC8rRNPHJzHF77QXH75XXLJ4PKfdNI6z65pchQC/uQnBz/7hBNSuuKKdXWtlx8BfuIT6+o4CH/3194Ksz4rXme1/fbfP6XHPjaln/u5lF70opSuv379pfP8UEh09ujzWuDOI60TXpAisqynpmur55oIFoEKdVL8a+FQz2uvvTYbHsaQp+EhImfhc6FjbViOZgTmS6LXXJPSFluk9KAHpfSAB7Sn9753nTdYrwMP9SlPSemBD2y/96EPTfcdemjuXASvmu7z3r7tt2+/V5ke8pB8/3233LLBvfK579vfTve9+tUp/fZvD8zjvqOPTj/56RsZqs/PeWy5ZUq/9Vvt9z/kISntsUcjid33/e+n+/baq/1e5X/wg9N9b3hDUteNnn3LLevu94wB+N+3667pJz9VUBvlsdtuG7YfD/QXfzGln/3ZdN+WW6affPvbGz23nkeX75TEJIqikGi988zmuzbTvvBHcpQx77QtIUgequUcPE4eqjFAIUVhXUrd20OMnfLGEIiZ3sKalP4kMjIbRPp5inoaE7366quzpziNiUbyN4lpmt5uP2jMN5f5kigvZccd00823zz9+NGPTvdusklj+tEll6R777pr4w7CO/Luys03T2mzzbIH9JNNN033VvK658lPTnefeGLuwDpxNd35rW+lu/feu/GZUZZ7nvSkdNeJJ6Y7b7hhg3vlc+d116Uf7bFHuucJTxiYx92nnpru+KmlXH2+zz/aeed0z2ab5TL/5DGPSffx4tQl0lOfmtJRR633ZHUe4SrjE3fdcEO6+7DDBj77ns03T3fvv3+641vf2qj8d/z0fnWM+jb9v/vAA9MdN9+c7rj99o3yuPugg9aVv9J29zz60emexz0u3XnaaemO7353o3vqGHT9TlGqN6U8qrIsJDpfRaO92owl8owAEQGSpLjN2r3iiivybkZm8VrqEiFf//3OQxL+NWvU+KDxUwrf+KklGcLCSJYXi7TJGRlCDuSITHiu548jU/NFdN0qAvUSEodDn8tPYAI3a3g9Y9T+Nm9sZvn8uZLofdY2XndduvPzn08//NSn0g8++cnGZBu5H/508/gNGtM4oVj9176W7vvKV9KPv/SldMeVV6YffvrT6Qfykz772XTrN77RGE665XvfS7d+7Wv3Xxv3VP9feWW69Zpr0i033rhxHu7/6lfTDz7zmYF55Pu///2N77/llnTrV76SfvDpT+cy337lleneL34x1yV99aspp6uvTumGG/KYqLrr+ISagNtS75arr27ELLC89dOfTrdcdVW6+YYbNgqb5fuvuirdeuWVA/PI99uBqCn05n54V9rO91s///l087e/3XhPUz5dz6k3ZUv5jXIUEh0FrdleS64RG0+T0kaECM9EIhNa7J+LNGNykfM33nhjJkoTjXiuZvIiEwTMi0XAtqiTHwI2EceYK6/WtUjXvciW7PGQlYGcRCJjkZBKkG0YA8q9gT6aLWz5acpCH/DahXcZB30csIATcva5HO0IzJVEf3zvvek2O+fceOO6PVZNKGhKP906jgLVoARn/WEnIsJ+113phzffnG5leSK8SL63ENgtJi/4La5t+h/3N0x0WH9//Zn1fNqebzeX6vNvuinX4Ud33JHrlMchTQj6qeel7sZ+1hMOXJBbE2ZxDraxBV8DCebfhuHfQqC5HH6r3++7NKUt/8gBxTEKkRYSXd9jFuqDvowwkRui4zkiK+TkN21M5ilzhIgoXRN6IMgt/gfp+Y9QGFzkRegXOSNcnity5snyak2ckTeyDuJ1DnHboCPCyEicd4vElUneyuFZ8yRTdVcuxoMJQBvoxzFbG8aImbEi/3K0IzA3EtXQwg8EfD0pNCn52jnCSyFWhVYjt01ekP8yJfVTl2rHVFffjf2MgtUqX6tN4dRVYRQSbVcC8/qFTJN3ZIVEyatz9UP/pisodASIbHlJyKyuC+r3BhnLw7WIFfEJ6yJvMhT9CnF4BsI15spT5d0hUc9DvEhceSUk7Luk/Ag3QsvITB7yjD5dDScrizKR36ouq5e/y/fQD0LhjIJJiU+51JtXPwzfLuUb9ZpoM9j0nSbFuqkucyPR6EDjKHoWYFV5hoe2TGQ5qKw6nU4eDe6/DuiecfBa1Xvgoe0DpyYBj3OUQdn2L9CY73/tpT0QTIRYyTflPejQ55GgECzi4i1S9vqL81WdMCifLr8po/LQU/IO0qV7kK6yI0nEhWRNfEKk6oPI6ikMhZggZfzWBKnwbMmyesgbsXsOw4F8ez68lEWZJHWty70yKotnu38Ynk04yNNzGQzqVn9G0z19nVMndVQP5YdDXynwhCNc+qzX3Eh0HC80yICgAdsBjCCYQcS0bL8RnlAK/oe1HBiU/+vWEeocgdOgzlxIdBA6s/tNf6XEEIixSp4bkhhVqbkHmfJKhTHNUg1ZGDWvPmsf9UN+yoMYEa6yCicj/auuuiqHpxEuDIzfCiV7t6rP6qNeMXHK9e5zPy9Z36cfYBCEqg+EnpCv8LfnK081Daura4WtGQSe4fssDvXACfCatq5WL/qgr2NuJKoi4xIBoAmpg+AQlmkDP+v81THIgYB5/rh4rfJ9xkbhM+woJDoModn8zsswLmm8Tbh0HAJVUspdu9MDwpcIx7gmMu0qE9OssfIFsSmnxPCXyKKk7pI6SOGB6a9IFz4mQPFeed6IVYgV8cIP4VZJ1zWiLZL3tApByyu82/BslUHZmghSOXmyPFqfZ3GEDp8FgdKjngMTbdCEwah1XgkSRcizJrlpP69OoqtMhJPUravCLCQ6qmro93rKSj9Fcjwl3g7i6EOJIQWGNNLhgSFURK0P+a2PZ/SLRntuyopUgmyDZBGgOkZEShhYOJl3avyVp4pw4Yt0ES7vlmEBbwQLG7/x/l3neve5X2QgiNuSIuc8E7Erg/4ziHzbazT4F/X1jCYCNeatTMor8ciVWVnVR93DuXDOb2QgxrVd45xIQF1fex557MNQmBuJhvc4jgIFgIZ1hBVTB2nZv+ss6hZ1DGEZB69VvqeQaBaRhf1DSVJU+julxsuh1PpQXvVK6y8UP0UqJMpro1ydWzYyrdety/cgX7rREBeiRKSIEukyXIzFIiPhWm0Bp/BozUz2qrmPfOQj2dNljMQYLlJFaHQJ8kF8kcKTDrINwoW5dlYuqcmYcY0+3KSvkSFj4I1vfGPaa6+90lvf+tb09re/PZfJS92VTXnUy6v17Kl85pln5vY3nnvqqafmNwUpd1P+zilzU7m64B3XzI1EAY8Mx1HwVcUJAJ2kDaRlPA8XnSAalwCGoI2D16reo23hBJ9hR/FEhyE0nd+1jXairCluxmHI9XSeuC7US79Q/EKfJiBRqn15vtMqd9/5qi8iFfplxASRwb+anEcmiJYXyovn5SHc8GzDANKOyNb4reSzcwhZ+woh8/5gj9wQofb3fOWpG0+e26ajkZ/8TzrppNx+9BgDTP7HHntsNsp4q56PMD0fybpHub3U/bLLLssee9szuuqPQW0zNxIFJmIYR8EjzWpHpCB1zjaglu28ulQtJHUlgOMaHeNgvAz3aNeuHkYh0UFqYDq/aRshR0TG+6Gw6kp0Ok9eR6TanPLmjfJokGmEKbsYXtMq26zyVUeYIxfJ57ZDWyE9beU63+FHD9E9vE56F548UbpbopMQW9NMZcQa47iiAvCXfOblGrsVNWjTz1US5U37rv2EpXffffe077775jDvu971rvxCd7+9733vS0cccUS68MIL01ve8pZ0ySWXDCRRdZhUJudGoohBA41CDMBWaQ1cPQhLW1y9rYEW9Xx4ofVO7jsBVu5lILhplxFOdWOqKhP1z4VE64hM7ztZpXgpSONxJqn4Xpfp6ZVgw5y1Pb2hHJaaUMIIQ3+iS6oG+YZ3Lv83BEFnIC4epnZoOhCnZS28PHh1PWCnXT0nSLdKuByCGNskD8iQl2iMUzgW8bXpYp4xUj/yyCPze2eFbJHkBz7wgXTAAQfkMDTyPu200/IL3COsu9122+UQ8Ctf+crVJlGNFJ2NQhxGDn4PAm0SenkRBI0W+bU1zqKeDwJts4ycX+tEGm2nrUdRyoVEu6rFya7TJpQoZWysjeIcRSlP9vTBd9MbdEiUDaFaMsKY17ea9MrgHJfjV/XixfEMeeVNdUVAiJb+HKVfTYKAcpGV6NP1/8hXSBl5mm1MntSBFytsyxhyDa/TWCgj4fzzz0/nnXde/u3444/P9yHaet7xnT6dtL5z80QDfECyBlVGA6pc1YvxneDzOtrIpZqXDlHNK8Ba1P+IU72FSLpY66GkYBLGQhWvVf2s/dQXTtp4VMEvJBq9ZLr/tY9xMeNwwnyL5unRN/QII4xnajyNt4xkyJXfV/HQDsaFzdalI6q61GeEZNxz1H41KVbKFXq/SUcj/XPOOSd7lMZpjbH6j1gRrLqQt+OOOy6dffbZ6aCDDspEy1DqQqJIfNI2nzuJagSV0HgAjZAAgZZ818hdG7eel/sXPam3OnZtTNe5PuoVWK3yf3UdFadqB3d/2bGoiki/n8kjhWbsjTL2WXt1lel+SzM8N/qE0UpxCzHGMhBeSx+KdXgJZn8FR0Qo1TglIxwGEgzUn1c+68PzGTThENSJlIccY54Riidj+jISdT0DiBFgJrLwrzb02zASRd5kdNJjIUh00kqU+wsCwxAoJDoMofF+R5KwFVYTaqPMKOhFJc96LavlNyYopMmzUR9kyjhYlUNd1QlhqiPyQiK8AI/tnQAAIABJREFUNqTkt1kfygTjamStSqSIXRj3qKOOSocffngeHzVGGktcqtdWP/NWka+IiDyqv/mMQPsylgqJzlpqyvPmgkAh0enATgEKuVF0MQN3Ok+afq7qIgSNUHg1Mebm/LIYBcNQ4vkhkOqMaSFebei3eR3I3FBAnezG/c4I4sWanCQqUs2nTwKFVyHReUlNee5MESgk2h1uhNE1mV1JIfsvPIpwKOO2+7uXYvZXKrPyGxahaJGoMVPhQ0qYDK3CoX1i5qvQuzoKp87zgL1y8Q6RKfwl5eojyYu3G9635/V1FBLtC8mSz0IjUEh0cPOEEoMTRUbZdElm38bYlAl9g+4xJoeggmQHl2i+v4ZCFwoU+hQC5WnzVKMO8y3hZE9XB2PBdigy21XbLMIRhgw57DvxdqchewtFogDsO40jGH2XYRb5jVNP94xStnGeMUr+Xa8dpxyFRAejxgOjSMP6r4a/Bn0WKquHywZdL39EuywhUjKJcHhuiNQYmzFEdSBTlPIyHurFQLDFn0iCdlnWuswb/4UhUQ1IKIWEWMKTJvmwPAjLKIfr3ddXOSatx7D7lXOczqyeEbrq8oxFwXKcump/95XZuc09Qd/jRQ4iv75/E1ojU8ty6C9kCPEgU1vL8UyXaRJVFWvY80TtIIREedv0QDlGR2DuJEo4EUHMzmqb6jxqJ444uvg64fecQUd0kojH91WOUcs9zvXKCj84DrMm1RN5sqS7eh1VLLuQ6TSxVBbl7lLXansXEq2icf9nbcUDbZJ3kzOMddpZRsjP+JklEhTu+9///rxezzW8NGsQjSG63jneqUXwDJcmmfY8MjhMXu8v6fw/wYr8w0tY11gpErL7Dr2xTEaB8loyYkKR9mIYqEeX/j3/llisEsyVRHWg6MARFur7vw5M6QrJ6ARNh/N+R0Su77sMs8qPYmJNtimmUAI60Lj1XBQs1ZXstNW13s6FROuIrAvlM6i0aRPRWdgu3Gd5ga3VzjjjjHTBBRdk4vBGDZsVuIZHdsopp+SNwu0WY+cYitnWbDy2prydC1nauGSLfwZuvHdGAwND8lmduhjt86whPcALZRRFaN3aSst7LA1ZJmNgnjjGs+dGohqSNzGuMh+VmAg3wffc6uF7KJJR81zE6+EJ13o91RnhTEKgUV9YtlmsFIjf49pp/ldXRkNTXatt7HMh0Toi60iUrDR5obAVukSaPEoL2rVleGB77rln9jIp34svvjiTKPL05gzX83C8vgoJy6speS4iIpeSduzSlhvXZDZnonzV/8rNmEOgERr1Ofpg9dq2z7Mp/bqnKIO+YMMFRpDvDudiqZK2ohPL0Q2BuZEoJczzm6aSrecdHbYKjU4Q40H165f1exgM1XrqLLztPuqkk8EsOmA8x3eWbR/P6JpHEHqUoe1/IdGNkQkCGEaiNv02C1cSyrWGcscdd0yHHXZYDmmee+65eVs2ROu1VTvvvHP2Wl/1qlelSy+9tJFAg1R5rMjad7LTZpxtXPrZnoGVsulD9YQwESlZZEhYMsKjc75+bdP3WdYZOWonJKqPxaHvKq+oAo9Ue5SjGwJzI1EehIbqqiz7uK5J4RJg5/vIf1HygKvOWiW5MBb6KiPFW7dWfZ+1YaSuYfUPEvlCohujQyYQVxuJCtXaRMG7G72v8ayzzkrvfve703ve856022675R2KkIadYXijyNBG4LxUr6B67Wtfm5dQaKO2ZDzV2KLxOSHR2NLNDFiL5ckrg42+0IbKPMvD88iXCA49Aau2pKww49Gplzq3XVs9L191VL9qn51GPekFOzPxQn2uHiEP2sE4OMNg2uWpPn9ZP8+NRAlNXwq9az4Ety44vhP2rnksy3X1MCeC69NYgBnsqp2MEoDxrDHq0tkLiW6sorQdOdFmTSTHS0QIwpRe1swLRW6U7P77758/C+d6NRXyNDFFONekI2HfffbZJ9/XlHec82y6wHfPMnHJWB1PKZLnydvkpSAnxlqQKzlkDJPxqjxuXOPRziAVsjULmVZ//VNdpmUoBEkyjDyv6TnwU19GDQNpFsQ+Wqss3tVzI9FZeywUO8FhVVYPQjtrpT+L5/Ewqp2kb487sKwqLVjOQuHU8aNMq3Wttm98LiQaSNz/X9uF4aM925LXS9nMG6lKxvwoYp6i70jOJKKDDz44X4fwupAoWUHiTQd5JcNB5MiblypUKpxswpKwo3O8KgRMLvRvZEoe1K+amp7Tds59ng+Turz5rlzqGMn3OBfXx3fX+Bz3xbVxXfU/TPQjz+/70NYMEXscq1vb4dmMI20MV21RjnYE5kaiwiNV4ZnF51D8VTgIbFtHmUWZpvWMunc2DRKtd/ZQyNOqU1u+FMIwpVNItCr1939GNgzaNgJ13ozbt73tbZnAkJi9VnmnxkgRBO/QGKBE+fru/DBP1HMRXtOhPSXlI7vaj7whScRLf3iOWaaW1vBalY3ityECYkeuyqMODK0g2GGy4nfPa4vcIEFLd2DgWRIP2jNNqhLWJquMDF61hLxiJrNr4jVeTTLdxShswmzYOXgzPLTbMGJUfwQar04bZqQOe/Yq/z43EtURZk1eOkVdeHyfh/fU1Hn6PFcnOJ1A5+zrGTCrh898n3WEgQxRjsMUYyHRdjUGm0FEiqSMgwrTRjLmicAQijaoJ3LGg3Vv/TffI3Q5rN3aSu0+8kbOg1SVBWnylHmuPGLjf0iMx2qcD9kpN8JHaurN4JQPXaCfyNs55WzqLwwE76/0JpHAQ/gTgVsOpAwIFLla+mN5kDFjROo615jA05S3c7DRJn0e6qXODA1G5zBShIF+BUP46e/jtlWf9VjEvOZGogS2zdJrE65JzzdZeEEubR1m0mfO43641i18HYCi6KOe8oBlvVP5roPOss7qWjeMmjraspKodhym8JrqO8q5kA1YUpbat48UHmk1L/l7DuKbZr3krc2RIaJEmMgTqdqhJzxW3iSSQLrIT9nco5xtciyvQw45JH3oQx/KRoTv6nr55Zdnjx1ZIh9kKfQsfIpwPdc17jW+3JY/vODT56HvMyI8tyvurlMOGzHAzed6n++zjMua19xIVGNoFALTJkx9ntcp6sSi0ZRDZxvUafosx7TzgmebZ6ZT9LVOtM1Sdp4imnY95R/KpotSUK5l3PYv+se0FYx+oH8E6egPnt1nIheMLEbPLJWxZ1UTeQk5tdzDBBqygeyQnrWtwq08ziY5DhL94Ac/mL073i2iEfbebrvtsgcuj/322y/njVRNxNppp53yrOY99thjKInCqa9D3Xnpws3ac1Ts3cODZhh0MVj7Kvey5DM3EgUQYSYsGqlJWPs6p/OyxNqEx3m/z0r591Wvej4UHyU4qJ46QYTu6vd3+e4ZbSStTT07FNQ02zXq2oVAlWtZSdT4Gu9hEOZ9KRttB09kKpGVvlLkKf82+eyrHl3yibqqH9lg0CNU3qKQJ8+yrT8g13e+853poIMOSsccc0w6+eSTc7jbelnnELCxR8RpXBZJm5hleZA1t64Z5onqx30dMGckeCY9N+oBI3IIG+Ok8CrH/QjMlURDkAkwxd639YsUeV6DCDSgUBbXud59fZcFoUwrKSv84NiFVHQKxsso9RwHSyHfUZ7RBZ9R6xrtu6wkKsTIyzGepd3K0S8C+j3ZQIy8rRjDHRSx4dUJ/3qNmIk3xjd5mz4L2yJj5Gl9LW8VKduEwrgsb/fwww8fSKJkfByya0KGPtDXjc8iQPUd51AedWQcwIpRVI51CMyVRKuNoFE0FCJghU2aWO46RxdSqZbD9e5z/6RlmMX98IIb/EbpIOpJKXepp2dMgmVfbQrPceqqfZV/GcO5SJQHQHmp/yhtXJXr8nljBGCpD/A6kYxwZYz1kzNk1uaNIqTTTz89E6lJRIgTsTJ45Oc78tx7772T8K0JSAyhLiSKwPsiKXKP/Mxelu8kh7ziZQTyKrK4Ds2FIVHF0Sh9p3GEpu8yzCK/ceo5KuazeEYXrMYpxzKTKGVsrI6SZvSUY3IEyFkQDAIVgkWczjv8H+SNIk7eZczQteGExDtl+PBWjZ36LCFWIVEkO8gTFY1hdEY5Jq0pLxSBInD1neRQJoaciVhSFa9J8l32exeKRJcdzFL+xUVg2UnUrM4Yq+tLwS5ua023ZKIwiEoYFqkhxCZC4KW2ESmCNGPVBCJhXAkZhyfa5MEKg5ohbPcnpFa/BoEiqVGjZ21oyQeZKxsy7UNu5Knc6mlCVRNubeVZ1fOFRFe1ZUu9NkBg2UmU4pWE04o3ukHTjvRFmBQxmmRjeQsPsW2sGen4rc+xfaSGTP2POQDjjvMPqzg5YSgY50V2fR0wUQfkLGw9qYfbV7nmlU8h0XkhX547UwRWgUR5PbwdnlMfXsVMG2ABHgYzhCUUaYzZ5y5eX5ApUuLR9ZkmGecfBimiE8plKPQ1xhrP1J+MtZboSEqFREMqyv+VRmBVSJQ3aqKRcGQXAljpRh2hcrwnIVjeJ88MEcKvqzHiummmEarS6VJ144UiUbLftZ6dMq8sZRMZYZRYHdD3M7qWZd7XLQyJanSCLuxQTQRglJmnGrItr2q+i/R5nDrCpAmvRapX32VR31EUX7VzrQqJmrhifNTaQ/iWYzgCPEizaY3jmZwVM3CH37mcV9CB6mhzBd7iuOQWulSfa0tC44wSM9/1sbbrqufHLc+itsbcSRSglCPLsL6mULhFcj4s70EN4DcNSYDi3hh3WNT/UU6WHKVI2Nrq6LzfXUd44RKYRT6r+j/qqm21cRtGbR1tlUg01ifChDyUoxkBMqKvIBJhcJN61sJ4MgOb0YBE9ZdRj6qeEW4eFL6Wv3FRy4PopEHXxm/aIByjUfvxqHWZxfVzJVEAApTir89Uq39HgogG4TYBT5lo8C551fNelO/qSNAIWNPhvN8X1SCYVbm0sbZukoMm3JxbJRK97LLL8r6tFNdaIIW2Nh10PnQLD8n4p3HktWJwkHVhXMt22nRJG3Zw47Aw0EbRiyZKjXJ96Dr6fNmPuZGoxmIljkJ6gGft1AVD59Dwo+Q1SoPP8lp1ZN3VCUIdnVfHWZHVIj9HJ9fmdZzaOuQqkqi1o5PsQtOG1bKfpx/oCZ6YzQ0o+FVQ1l3aRd31W563iUVd+4e86RhGeuiYaes95dROy942cyPREPRRGwrwdeVJQY5qOY363FleT4gZGNEB/OdxqOMiE9usywaPtshEXeGsIonySG1VR/GFrNTrvZa+w4A8IE1b7JnwEjKyVnCgJ0QorGEVrel6wI7O0YebdJ0NI4wnRxIiN+sXztU1r4w6v1XfNSuM7j4Tu+p5ex7nYJmjBHMj0a5h3Drovgvrhjeq8QlL03XLei4EKxQjAWOxhYU4a7Ja1OfBQ9t36YCrSKKXXnppnmREaUV/6Ko0V+26IFCKWvjWZJeusrFKWOirZm+PuqyF/NCrTTqTUWIpywEHHJBf43booYfmLQ8R44EHHpiNFdfA3ni9V8DZaB/xIlg7OV100UX5e1P+ylx1GpatPeZGoqwP4DWBOuwc5UkpOihQeQ27Z9l+V8cgB/8LgTZv4N8U3m/qhKtKoojUuzGX3ZpvarNRzlHCFDYsYuZyGKGj5LPM19ITMEB4o5ISp6ZNHwsLe3fqmWeemV94biKRLQx5nfYFNv7qu+VDCFQbeLvNxz72sbwRvxe6S8alm/Sw5y6z/M6NRCm/JkC7nEMoGt0xbli4y3PmeQ3BChJVR99L2hiDalRikAJcVRL1lhAKzg48hjnW4sHjRJw8UCRSH+5ZK5jAgQcufNolMuEaenTYUBgSZaydccYZGV8kCmdvqtl2223T29/+9vz57LPPzh6n9amu33fffdMll1ySTjjhhPyO1TYSpWe79uNFbMulJVGWlgPRTELI8yTKQc+uk2jxRDcmUBitdU8UiUrWjgrhheG1iMqm7zIhAR4MA8IEIuHDrmPkfZdlEfJTf2PkSLEuB7xyeNGbxtBdgwwRHuwMCbTpIyQqTHvqqafmUDFPEznaQWuHHXbIv9lHF1mSw+uuuy57pc985jPTy172srTNNtvkF5YXEu0gJQSaRej/sFAKq4kSbGu4QecRSszo8hxCMej6ZfsNLiyz6Aj+E3rnS7ofA3LQNQy0yp4ohWbMySSPiNB06K5LfYk+wYBCAIhj1JmoS135hsLDAw6W9PhML0bynfwbtzSOadMJM7uNnZqEhHwH6Uj32ZnovPPOyy8Wv/DCC/P95G333XfP4VyhXeFe45+egWB5qK45//zziyfa0GaNp0YhUY06LIzQ1rBVxUlQhG/GJeS2Z8zzvLowMtTN4X916nkh0nVEikS7jv2sBRLlLfACVv3gUZnEYuxP+JI+cG6tHkiSThDO5l0GaTIyfDdT12bx8DJjWSgWZgwu/QJ2PutPbXqPXBnXPOusszJJyhdxHn/88ZmIRUGQuIlG3p3qv2ci1GEkquz0m3Iv4zG3cC7AxvFGmxQnIVilkC4vtBqWQqK+O18I9H4C1eZdO95aIFEeqfWBo+CyTEpLP9COlDeFLYS41glU+zEkYWGCD7KzyYIQN8LkCQrZWnLCo6RzYVjvN74P0qGIF4kiTdjzYD0DQXuevBErD/dd73pXHmIQvhUmHkaidHpV3y2TTCrr3EjUw5FfEEObBVQ9D2xCUBeAIJkIeVbvWabPCDKMhCZBikkArlnLZKr+5IYy0PZdjrVAokK6JhlRqOq7Soc+T/6RBA9nrWzhV29D8g4LpIM8ReEQGPKSjFfyOJEcb52HR88O6yd+JzP6VpPOFPI13il8u9dee6W3vvWtOR188MGZVJvucY7BI/wrzNsUNqbHqlG3en2X4ftcSRRABCJClW0N4TyC1InahMF5gsWa0jCD8lrU35R9EDGoo44TdVyrRMr7GIRTU8dzvfEicrRMB8VDKXp7i3EmIdvY9s8MSJOKYkwUiUp+V8+6sblM9a6XlaI1G9SyCR6Ovr4Wj3A8eIZC2QwK7U02hE6RYJAmfdGmL5uwC/1Cdpp0JLI29lxNzklN1zvnWmWV6tfRX8scxg0M506iChKWFauKgkQSkYCMPEMwouBN/wmBvChMna6eV+S5SP+VUVmVuWsdXYdMo47yWPVEDsgHnLRxXTlE28OGgnWdBKew2I3b8GDhJr/AjDw4T3lIFJEUxlgoCgqBdS8f6+IkISwJ2VHuLG8pFIcwGu9JWEvYS+JFmYBH6UnIgfco7CZFqMxkDpNAEEdXEmXxS0Ju6rnsh7bWNghDuFIbaN96+y97PdvKr67akQySE/Jg7FP7kiHyxcgiN66D1yQHXD1T/6j2g0EGO7KMPuJz/dog2DgvX31Ov5y0vJPUta97F4JEozKhCAFbTaN2GNe35VXNd1E+R3kDhy7/l6l+feGszm1H4IFEgzwZX4hXCtKsEmadKOskWSdHxBikGGQYW5oFGQYRGi+SeL8IwNiR8SnjVPZ0pQQpRLNLkQPFaLG6GZOUIg9DQqDCdKOQqIkdwrrKC/tlPShzCjiw83mZ6zOsHciwOpNXskn+yBn5IS8xvslgI8fkm+FmHNz1ZL+vA876kWdU+1H0p+p/xihDEakrV/W3+md5yVf+g/pzX/WYRT4LRaKzqHB5xmoiMIhEq55nG4kiUCm8zCBQCis8yyDQ8CqrHmV4k7xIiRcpUYCUXxcCRZ5BoMa2gkBHJVFjUBJyVvdlVFYIgdfPuIAdb3QZ6zGot9VllqFH1sgMg0r7M7oQFC+O51bFAEYiGIyxPgl0UJmbfkOKyJwBqH9Vy9h0/aqdKyS6ai26RutTV0gUTljQ8yJRXiglSLlQdMO80L5J1FgpD3mZlJqyIgQGCyJBEqsS9qt2TZ4YuWS4aSMGD8PJf9EMxhz55ZnCo+65wYlhQaYYfPNsY8/mcZLftTheXUi0Ktnl89IioCNTNBQOy3geJEr5CT1aZC6kyoPyf/vtt8/T/KskSlkKw1U9TrMfB4VtTSAZNrHIeGh4op5twknfob5pCYn2Qxy8evggUsp5ngTRV13JpboZc1cvof4I6/vsHM8bMbrO9YPqDSuREPKGjOd9IHuhZ2FndVhLRyHRtdTaK1zXYSRq3AaZUNChvGJM0riksGGMS4ZHKCxbnSgkjCtEa7yxOisWaSG3eH/lM57xjHTYYYfl7/YTffKTn5xOPvnkDTxRoTpr7lxnYfp+++2X35BxyCGHJMsGDjrooLT//vvn/UftQeqac845Jz8bmSpD0+zcKom+973vzZOMhAcp5kU+kII24nny3E3aYgwt40EWkSBDTogWcfIWyVPIGoOKPPktSLNrXeUvbzghLtjN+1AGdWX8GBtdhDLNCpOFItFQhBpg0iSvSY4+yzJpXYbdP+16ToKle/vEsq2u8Yw2T9RYDaW12267pWc961nrk/09JcQX6elPf3omvpNOOinfE2OilAOSet7znpf+6q/+Kv3lX/5lvuexj31s2mKLLTKxUiJPeMITMukh1TYSRcI77bRT2nLLLdPDHvaw9IhHPCJ//tu//du83+hLXvKSpBwPechD0lOf+tT827HHHpsuvvjigUtc6iTqlVTu4eVM0o5tuPdxXrkQKM8dMRj/047LdKhDyCCCE6ZlsCFNY9pC0yIVyBTZ6NPjHrBhZDD2TLZalEP99RHeqDr6vhaOuZNoCB5rTBiAt9BX0jFZs10F1nWuD+uRlbgMCUHAr2s9YS78EvXsgrdnUA6jPAOW4QF2eUaXa6rhrmoHDTlqI9GoqzGbpglBFBxPQWgNET772c/OXiJLP0jUBA+KkZKIWbVm0Hq/4ote9KK8RrMriVKqQre8xRe84AXp5S9/eb7fOCbSQ3681Cc96UnZK+XtIl5e6CieqPwvuOCC7GXDYNEOcogIkKfQpDKSsWVRwMpJzvUPssUQIBMIzmeyo076p+vI56R1E+KWN5mV7yId6srL1m+WzRAaF8e5kmhVAClQFqgO1VeSHxI0ZjCsQf3uOtdHWdy/LEm5ERalNOiAuU6IjEbB27Vw0UkGYSl/StB1gWNf7Rn5yJfSopRCIcVzlc15hE/BqKt2VR74uE/dq+0s3+rsXETJOz3yyCM38ESNW1XXfCJj4d3jjjsuvfSlL81ealcSFUp2rTAw7/NVr3rV+t1mKGEEK9wb5Rg0VlrdbKHuiSJR27XZhMEElq5G0CAZ6us3bcQzY5AwYLTLIpWvqZ7Kp9zkyeQfZMHwQhyITTianJApsqc/how25TfqOXmRfzLi/6C+OGrefVyvvpZWMRL1u0Vvzz7qPDcSJQwAp8xCOU7rPwIg9G0NqixVpb8sxNlUTnjqWE0d1znEovONi7VnIqM2LJ33+7j5d71POdQjlJS6eXYfJEoR8gCRI4UYnqjPQsKxJtR1MZFI+BWBBYkaz/TZOxibxkRnTaKI1DgsomqSjT6USdc8PB8RwZMHCkdyOe9y1csfMkXGwigjc4wnxG9iGI+TAcAIo0Pa+l4973G/MxAZcp6/aF5o1IkOMr9AOZV31Y+5keislG0oZUq3qaPqKEEsTaS0bOd08jaDgTKYhEADS3mwspuUHixhFtdO87/nBKGHwpuURI018Sg222yzdPrpp28wsYjS56WaURszaYVY7SMqJBsk+vjHPz698Y1vzLNkDz/88PTEJz5xo4lFsyZRm4CbrctzJgfzOrQTQkI8vBVGybSJZ9y6KhdC4Fkxlnh/2r46KSjKrl5N/WHcZ7fdxwgiO2Rxnu3YVj7nEafyaV/4rfoxNxLVkfpQ6KMoaQJI6KuH70J8y0aWg8oL13oH08GFV0bBa9C1OkfdG/UdloPu6/u3aFP168MTNa5FUW666ab53Ym+hycqdCf8aiIR79LkIpOUNt988/TiF784EysL/FGPelT6vd/7vfz/j//4j9PDH/7wDUiUF+EZSM2MW5OShIO9r5HHiPCcNyMXIZud680YQrNCt6OOiUae/htv1Qb1flDtE9P6rI3IByMFBiY7LYqnomz6jD7Cq+QdK6P2NAZuwozz5I0Bqdx1+Z8WbpGvMjI6lKnNUI5r5/kfLjASZWCA1HXRPMs2jWfPjUQJwaw8llDcyAV5Vw+dwflBpLSMv9W9bkqTAggsJv0PE9jp2HHoLMh10rxHub9vEhWCQmJm2BpHrO5YJIzH2/zTP/3TTIoxCch1QqWULQX3mMc8Jj3/+c9Pe+65Z9p6663TJptssgGJCvO+853vTNtuu216xStekQkZKb/yla/M17vHebOAH/e4x6XnPOc5+buZxSYcjUuiQdLIQf/r46gaLuRhUNL3eCiez+NHWIOuJ0/yr8pYH2WWR5AmZa//G5tlJFW32EOkzot2KPusSbNaV+XVpxkgvPhpYFJ93qSf6Rt4Ki/DaZWPuZHorD0WipniJ4jVQ+dYRpIcVub6oH7fBBdYVjszLCmkUUhw0mv7JlHh2iOOOCITF2KskyhPjqeJQOuzfCm3GBPlRbYtcUEiwsAnnHBCHne1dEU65phjcjr66KPTUUcdlZPJTcojnXLKKZnEJyFRRGqm76T76mp3ihIZa4OuhijvEzENk1/5McgQWN1Yq/bfrp+Vt0r4yi3CgDR5TBGmRfLK1sczu5aty3XKDjuhXH1m0Q94azt9gBdf1ROLXvZRy1dItJDoWKS3qiTKct5hhx3yGk4KYBokymNFtialxDgbJW49YYy1Vl97hjRtrGCDBZ8nIdF3v/vdOUwdL+8eVWG4nkJEMkiOHIxqCNVfiTXofvkjVB7juJ6g+xiVSIiRBHsGkv+8TecZ1wxNhoHrF03pK5ttJC1rYawuwwFHBGpslNGyaJj2heHcSBSo43TAQR1u2G86Y10AKYOuVrTyLksq4dzxlrgIQfE2KVmf6yQqnPtnf/Zn6R3veEdehoLQXH/uuefmjRV8N445yBNFojwKHilFLgRM0SDVKrEqA2IddwN6Y6ixxEXv3RCXAAAgAElEQVSImheKRJVVWNjSjHGIKQh0WH+L340l8vqQVZyr/0esQrzwrv/mexBpF0WMCCNMKzxvMpXJQIwi0QLeprKIhuknrl/kQxvRlwwfXvw4bTav+olSwF3UhiGwisfcSHSeob9qQ+pAOtOykGOXclI4dYHV8VjjTQpqnHPLNLGIEo+1fG0EJqQnBYmFh+g/skOoEpI05mk2rvWdJhSZGGSCkclByMo4ZhuJIk/eJuI1loqUTTASYkVsks0RTAKKCUFV8vObe7tu+9dGoshUSJk8jaKUXStM1yYzlCXCQlwSTwSBKodJMe4Lj9CMV54g8rTmEi4UbpunSubIdZVIfdaH6RNE4xpErL21G+NEeZCp35aBNKv6yWdGi/Krz7KNL2ovk/P0Lfqn2nb1ei7r97mR6LDO2NZJxz1PWdS9M42mUZ1fFW9UPSiTJsVIoP0+LoZxnzxY+k0dwnlYx7XT/O85FLq6Kov/FCqlQ6lqV+VBnCbxIDs7EUlm1kayfV8kZBhbAfpvUs+uu+6aCSG8miA1JIcAzdilrJECz7Jt2z8EgZR333339NznPjfnLX/pr//6r9eXrVq+armUzeQjM3WFd7vsndtGovJQfmWqR2cGKbOI3LS161lnnZXe/OY3pzPPPDMnZM/7swxIOJJBg0zt8mTc1xIguCFa9zAsXNOUv/aOsf5ob2VHyjGbFhFrC2HPmLzU1BcG1XHRfkOcCJT8wX/ZDuVnnGpjOmjVjrmRqE4AUNZhU4fp85zO10YsGlRZ/L4KRApPRKJO9cO5SUmuSlz1/H2nsAZ5Kn21q3JoLzKkXlIbibpOB6a865OBKN/qln+8J8peotxNPOHVuFcYkDca1yOHanLdIBLlEfkdsVmDetppp6VTTz01TxgyachevdKJJ56YJx3ZsUiy6YOJR94OE5OLJvVEkajEs+X5kZkuBxKDfVs72itYGU1ckoQfbU7BcBCehreyqxNsGSCwgOswEvVM8i1pT+PXjBJejs88Hv2Y8YRs2vpBl3ouyjXkmjFgzLzNcF2UsraVQ1voP4wbbbdqx9xIFJAEhCXJUgkCa+uc45wPRatjDVMSfqcgNHKUxf3LkpQbeQ2zVGGuM7p+kDKs490VS/nDsmqU1POa9Lv2ITPq6nkhS20kql2VBz7uM05TbWfl4f1Ik7yUG7ny7N7whjdkQkCaiIo3aQzVd16xMVCWuTGuCBvH+GfTxKIqYYYHWj3XZdu/+pioclmL6j8FDZMuBxwHyQ0SNesYQcKC4pT/Lrvskp/HOEGawtYUKxxseWhm8h577JE9+zZPVDshFIQZoWCGjfNkOgyqLvVYlmvoR4YH425ZvTj9Uh8kC9p8mC5elraJcs6VRBUilC7rMabKU5J9JAqTEGrELofrKGbKlpJdlqSe8OsqnDDXISnEIJNheI+KpWcElsPyHuV35aUw63X1vEUg0RiLQyCUvTFUrzcTpkSizreNyyIUqU6s05hYFCSKSBGsWat1TJv6zDASRei8Tq92s4E+b1vdhXMRgZAkg4IHzPtUV+FypPq2t70tk+igCUgIk7woR5fyNtVhmc4xWIyjMyy66rFFrJ+yI1B9QNvpr6tyzJ1Eq0CGIgT4pGnSRuqzLJPWZdj9k9S1az3HfYb7uj5jWD393laOeAbFirwZTzEmOitPlMcgvItIEYbEY6I4Ii0aidr0gfdoSQ0jtg3f6KcwRWLIrCnx5NWft22CD+VPeSJI54V3eabxvlUTquwvLOSLXIeNiTJwB8lBlHMV/msLMsQYI8/D2maR66zsyFNdDKksc13qOC8UidYLV74XBLoioFNSrotAoog0SFRYE5FSHovoiQaJmiylfMO8O78j2yYCdU64VUjaBCPjls4FsSJQpGqsFGEecMABecxXGNx45rAxUeS97GTSVZ7JMoPBGDrvfRVIh+xECJ9hq46rcBQSXYVWLHXISqaQ6LolM7w7yQSmQbNzhXKDRHmjrkVUg5QbZS6c3jYuijCFn+26xLsVrpVM/glSRaS8EZ4pD9R35Ks8wt++10na8wwpDCrboneDqqFnOGVQYiwIazNs1H3QtX5DULBZdLI1HMMwEMoXMVqFo5DoKrRiqUMh0YsuyqFQ607HIVGeoyUvyKyLN8pLaiJSBIgYq+tghWhNiKI429aAIgwhYB57/RrP4f0ii2U9kJvyC2mqy7D5FoyZMC4YFMOul6e8EdMiE6nyxbpRRtEil7WrrBUS7YpUuW6hEdAZiyc6vidqFyOzhRHoMMUWWAvJNY2PUv5Ct9WEnJs8zKrHiUjrk4oQKMJGQMPKtagCSi5577BqMjyqGEzyWd6egUwX1WPXhrAwgQ6ZLrNhFPK2UCQanZMAVNOoncf1bXlV812Uz1HeaJQu/5epfn3hrM5tR+CBBGY1sYjHZfzThKJIsW6065hoLHcx2WYes3MjnGv3IiQ3COMq9oE3rClFihvZDUqUPMXpObyQQdf6DUkLa3Yh9mrZFukznNqMjTbCZHC0bX/oHp66sDkjpW50+B3O2mNYRGFeOCFOUQmz1HnQy34sBIlSsoDVGXUeHSwSYejakaodm+DW84o8F+l/KAvKqIuyUEfXwWRZ6tgH3lWcyAscqke0PWwmJVHKyeQX43aSsTzfbWEXax9NhqEEhEGRX5BplURjw4aPfvSjeaOBpolF1s4Zj7SpAk9w1ktckKgtAJV1XK8gsB9mLGlDk6wofs8adn29javtvQyflZ8sNnnryA4RwiM29CA7jAxjyHYoQpYMDrLnGoksuo+RJmzvtyYyRqRmUi8ihtqdXjc2qn/5vszH3Ek0AG0TtBAQYwKDhIKw6JgUNgGK+5bpv7LrdG2C7zzyZL0tU736LKu2pYzrOMGGLPVBorwAhGeHIJsgBIlSePvvv396/etfn5Wc8UfvAbVEw1heLHGhDCk5xEQZ/t3f/V2+r4lEKczXvOY1eatBz5o1icZkHm007UO7wQkJLLvi7IKVOqpzkz5CkIyynXbaKcuZmckMGnLDMLOOlrHBoCNntkm03ljEwAYT5MY563vb+hd9sqg4668iOQxRhNqm87rgPO9r5kqiFB5CaBKyumC4BtHyvuqCoQEQKKLtklc970X5HnVElE1HrNFb5jr2gbX6k5sqkfZJokjTzFIbytuUIEgUAbzlLW9J22+/fbaih5Eoz4Gn+YxnPCO97nWva1ziMk8SVTdLW9RvXC+0SU7bzq01EqXf6KQmmUeiQpp77713liUepXZAmjaokJAsmbNFImOMLJ188snZe+1CovTlLNq1rb2HnScPDEs4wGpZj7mRKCJEiKMSAsFAMlXLRQOwupqEdRnPIQh1ijr6jzDaOuQy1nHSMgeRkiP4SD7DDVZkhNFhiICcsXZ1WnICX1iSpZA/YTOJl8TSFypDfhRYlUQpPSRqLHMYifJchXK99WXLLbfM97C8LQExe9Uz7Bb0spe9LD9r1p6oZ/N8YRSyNk1FttZIFIGFfNXlPUjUZv3kAVkKb1oKZJ9kbwFyzli55UIIVaTD9XZ/ssZWVMS5et7xnTzzZuFedzym2c5d84YP44Fx0OQcdc1n3tfNjUQnIYW6UFCWbcIaArVM/9WlqtgoOCSwSnXsoz3gESH+PknUgnBjlI94xCNy6JaljFgpNUrMm1TsXSv8tvnmm+eNA/xWD+ciTKHe3//9309PfOITM+lSlEceeWT6m7/5m/z2Fm+SefjDH56e9rSn5dDxrMK5ZuNaetJlSUtfSqqQ6P27PCFRMrXvvvumvfbaK+/oxGBj2Nh72DaISBCpIlGhT+Pw++yzT5Y3LypApoNIVNsawxcipk8WkUgZswzSZX1Djb4xNxIdxwsNxVsNUwTBxG+r8B858JZC6P0vXuj9CijaGE5hUPVJopSV94Q+8pGPzK81Q5gmQCBK+7wixb/4i7/I7w393d/93fwmliYSFXLjZboWie644455LIsHSmFSjl4F5jVoT3/602dKotaE2pM1ZKwvohyUz1ojUVGRQf0WSSLHIJGIhJjo5RV7vtuQAqmSJVGNCOeKWhgjHTQmqn/Ig6dHPpVl0Q7OFGNCGRexfF3wmhuJThJ+jZCuClICk+QVCnnR/usAoeB0Rt8XrYzzLg9MtH2EvuE1aTgXgSK4pz71qTmsZlKQsVEeJNLZc889M8GakGPi0aabbprfSlIlUYqPkhNu825RXgOy9PlNb3pT9kiF6Vxjhx5vMRE6nmU415ivfjTLY62RKHlU57a+K9TKU7QFIjLVn3ioIiGiHz6b5EYuDjrooOytmsHNa+syJqpvICkGuecEkTI4F+WAES+Zxy20q/8u27G0JCqM5wD6WiDReRPWIj6/bxKlyMyMFGIVchWO9b7L5z3vefn1Zrw3r+vabrvtGsdEzcqlqMygFKLjXdp4HWEa96IInTO716Qe1rffZjk710Qi2/sZY5v1pJO1RqLICokxVpr6DxI1+Yyn6e03iFES0meIIVH3GZP3nXz5LEyLdMiodmzK2zOrQx2I1GxxZOr6Wbf9IGKkwxkN+g5dvmzH3Eh0kIXWJBTVcwSEcDrC2qv+vgqf1VHdoo5t1uwq1HXcOvRFopSVCUU8guc85zl53NNYkzV7OjdvcYsttshjoW984xvTDjvs0Dg7l5ISqnWtd4jyaCktE4woCGE7L9z2+0te8pLsYcyaRBkCPBtKddbHWiNR+CLStqErchfrQk1Si8QIE/UIEq33D+RLPoV3m9aJ6hfmUIT+iHZGUDFj3DWL4vXBiGzoK4yCRfKUA7tB/+dGoqykNgutLjT17xRACEAIaf2aZf5OwAlVCJPOoM7OL3O9+i57VVnACk7kgoE1yuzc8Ahe/epXpyOOOCIrKMpNKI3lL7yGBIVAeZa8UV5qfXYusrTez+QjnoVrKK0gUUqC94nE5CVEzPOYpSeK5C2jmIcnshZJlPIll0KWTfouDDhtEomnyahr6y/uMdZJbv2vXucZQaChP4IAohy8WnLoOfVr4tpZ/1c2BMrQZHQsSrm64DA3EqXsxgnDUpzVmasqSWkOGsCvCtkyfNYRqst4CNQkRscy1HmcMsIJGcBHGpdEKSWEifSEzCgz31n71ufZPF2YV9jt4IMPTkcddVQ+Z/LHzjvvnMnUDEjKCVG6x/o3BIooke0xxxyTyZUnu8suu6Tddtstj5nyfoXlkHeE8vyPMVNhYInXgXiFl3nGJjspF68FYZtpK3kWopTqb3Ex41Mdq7LVRUn0dc1aJVH4kU16CkHQe4xiOqstkW1yyYhDlG3XOS8vecpb23pW2+E31xm6IKeMxehDbffM6rx6kE/Rn3kYeePWc24kSulpcMLSVYEiUEDXASYYbZZe17wX5Tp1rHqh0bDqqKP4fVHKOs9ykJuqxToJiaoHRSXxACguljrSNOnH7NlnPvOZ69OznvWsPLnIJCGeJ2WEQJEuEpYQqLEtL58WIn7KU56Snv/856dXvOIVOb3oRS/Ky1rM3EXEZmROc9s/YVwkTDEPUrIhb9P4v5ZJNPCsyilHoi3RceSSEcaoQ8Bt1zqvTeXd9aAvzTgnc/Kfl2FVLa86I3XjvdW+Xb1mET/PjUSBodG7elhVAm0SFkIE+FFIeZ4k0PZsoRidoulwniJqu3etnCcL2rpKBlXlNGo4F25BokJcxjat43zuc5+bPUjhVyRJ6SBKnRx5Cv9usskmeZIQ0qySqDEtHusf/dEf5bV9PMjqtn+IlwIzboqgTWbifU5rnSgvlLdcxaxJxqZ5rpDoaOhqK3IlulGPvo2WU/PVdK+hCpEOy0za9E7z3dM5y1HQBxiydWdpOk+cPNe5kqjiU37A0sGEJpAgJRnJd+cJEaFqItCAwW8UqIao5xP5Ldp/5ZR42IR6UB2DKFzn+rh30eo0jfJEXbWtNq6TQWBDEUxCojqv8KiNFmy9hhgpGssKJJ+N3SBVodNnP/vZOTzLY6iSKELkxSJH1wlTVUkUyboHQQvtPuxhD8ufp0WiFCWZmedRSHR09GFGdqwH7ZtUQl+G98dI9Azn53Xou/qYSBC9vwzH3EkUSKEANaCwQjUBlWLs2rCD8qrmu0ifx6ljlSwWqS7TLMsgnKLdq7gwNhhfvFYePoWEhJFJ1WCreqLGQnmIm222Wd4nF6nx4BAkRWYdaYRqbc9mxyLjpLyFKomaILHffvvlfFxnHNNYJy9WnsjTuKax1he+8IU53DsNT5QHaqx0ESz7QqKjUwJ5Fm4lN6Il0yJS8sGoM1YaxvzopZ38Dsax/opEkan6L/qxECS66CCV8i0+An2RqDFRFrmJPjZcsNGCz9Z1mqhj7NIkIZsw2Dxh6623zqTYNCZqMhCCfPzjH5+vt+FCbC5uMpH1on6LPXr7nliEQE1+ohwppnkfhUTHawGGIPnikTICuzoUozwNOZvtSwYZi9MIH3ctDyI1uUjkhvE7jfp2LUuX6wqJdkGpXLPwCPRJoix/ljlv0uSiN7zhDWmrrbbKhGoj+W233TZvAI6gwkvlhVY9Ued5rMY+vS/UTkfyMLnI5g22FbTe1LipGbYxqajPcC4SlbfJRItg0RcSHa8bkW1GENmIkOt4OQ2+i4zwdski0kak8zjUF3kiUfUtJDqPVijPXHMI9EmiJhchUpMtWOXWefICeHSIFTFaN0rRCH+5RqqTaJVIWfhmx8ayFP+FeIV1KUfhK//7JFFvikHk8x7nCmEsJBpIjP4/wrpkkHxO49CHPMfwhuEJMo7M6vMPpvHsep7KIZyrPyDzeZShXqa278UTbUOmnF8qBKZBosZHJV6pnWGQakwuEm5iJZtkFETaRqKx2UJ9YhEyDmLum0R5yYjb2O+iWPKFRMfvUtrQnABj8ialTZPcEJjohecwwswhcG7WB9nVP5Cpui/qsVAkSlD6TJOA3mc5ZpHXuHXtWrZx83df12d0va6pLO5lrersOpwJTjGxiCVL6VDibROLKA2hLONCxkXDG0WiZi8OIlIkKiFRSs46UV6qZLkMRdSVSGPiEQKUeKrjbLbAC0Xys7Dgu7Yb/OEAY+3U5b6mtl7L5xBLzNadJrGQG+Qp8sL483kWslRtW/WLmcPTGguuPm/czwtDojoVxUfh9ZEoUGGsURve9RqvqoD7KM8081Be5aaUuh6uhU+XegaWo+SvHMrU9Rld8VHXUMDVuiqb5/nNM10nBZkaU0KUlEGVUNtIVUirTqxN5NpEsG3eatVjRbZVwhX6Rbh10qXEEOkoOxbxQnm26jbNoypDgSmibEuWKcELrsrWdl2cJxPacFS5m2ad5503+WaEkAlLyXyf1qE/aVehXV6p5zk3q0O7x1gwudGvF/GYK4mG4tNZdCqdrK81hvJitemQFOmwjuh3Hdb17uuzLH3VqSkf5ZTgh+y6CDlh1Dm61rOKZRelFlh6BtKK50RZJ/kvL3UlM/W6em49uUYiAzxF91M89QSTelLXepJPU4J9NQ0yCiiGaoJTPQWRCGXxSLuSqOUsxlsp2mkpHRjDVB20b9f2JL+Mk5DjLveF0aMunluOlOUswrrkeZoHzLWB6AoiZQBNS66a6uFZhk5438qxiMdcSVRHpDyic+lg00gEbRCREhS/u27aZZlG/SJPSolia1M2ziMPwjhuPT1jGJaIxzNcGwqz7/9RVzLU5VAmXt60lU6XsoxyjXCyyRVdSdRsXCFTbTStgwzpt13bl3zy4ingNjlwTYTTm65hOM1SeU8Luz7yDQNG6F90g2xP86A3GHWGJYxRTmO9alv5gyM8d1bDE21laTs/NxLVMKx1HSZIYJr/dXidv34oh87p92k+f1Z5w5NHpF71g0BSRpNijojaOm4QaJMi7PucNmvySOv19n2tkKjxU7h0NS6asBp0rtpvm9qTnCPLqrzzinkxZjzHPfXr3COkjRT8FtdV/1Pk06rXoDov4m/aAZ5wNX7f1N/7LLf8GWbaCKEx7qb9zCi/55AL3ijjbVbPjecP+z83Ev3/7d0J0zVHVQfw7+F3sIoqpUpUQFCkFBQQcGUxgBKQKCI7ARMChIQsJoEkvCQhyxtCSAxZSCArCQQ3cAEBScRdVJRFVEQFHevXqfNm3snMvXPvnXtn5t7TVf3ceWbp6f539/n3OX26B3ERxvXOtu3jtk6oUzqvs277/btKH67NAUN0giHKKQ2YNRuz/2nCdcG37WMabx8N5RBI1JIZZj5tulk3ywRB3+vaVQzE2urW12NsIvH2t7+9RF+pIQDPP//8Yk7XBwh/m1bYwP/qq68uXs/O2dAiNslvS1u7XmQF6VuGfblPm4YtjbTvYHKTsocMiXfyWO/T9zZ5ZzxL3nBwmuIuRqOR6C610CAvnbBZ6f7fFy00yum3KWxisFC/Z5NjmBGodWHt/zAVtwnBbZyTjy7NOzqg330nUd64NAQEt82gXelHXXVpG8NLL7302NdsCD1C9y1veUtZX8vpytKe8847r8z1ut/ewpYPOVaOLrOvup6iJrJNvJelrS5oaAZP+sEuAtltnlJ7Q6S7eC857V0c5gzUp2SRGI1EdfZNhPg6z+r4zQonFJxfJ70pP9OcG9UIdbih8gyzJlEjqkUCtkvwbnq+WdY2QbLPJGoelBbKg7FpgWjDYpNzsEZmXXV23XXXVVdddVXJi/yIBLwPj5911llF4F9//fXVTTfdVAQxLQqhmse98soryz6/XSTqndqXPKjP5iBuk3LN9VkYwIW3rrnKbdd/4KTvI1K7GxkYNWVB3Dfkr7rnrW7Apf6nEkYjURrLUAK9bzoaWxuJ9n1+TvcZsddHa9sgUVjWNVEdaQwSbZa1rXPtM4nyxmXqgsO2g3csItEbbrihbLxPq2TKZa5FmMy7HLsI3iBLmgUh7HutTMC2U2QORgZtJK3/IWXeypxcOCtp1/U2uO3yTzF9bdtAxVIU/W8XAeYIO7bHtGOXuthmUE4EShvdVTn7lGc0EmXj3jUp6fwEfT34X4fddV62/T4ml7pw0eA1vKHeC7Pm6FMjH4NED1kTRaAf//jHSxvehRaiXS0iUTs4EXLIkXZpWRFnFFqozSeQIPPt5ZdfXv43B2ozfibJ9773vb00UZoq0mBO5FhDsCL3XZS/LjumcmywrPzM5Jai6If1vr/NfHqX+Wx1rn779MV186Oc0me9MACbSn2PRqJTmhMdklyGIqlN0mkjOA1wyIELQdpsxP5f5HTSpl0Mca6pEbd1Up19H5e4ICGEsm0tIDBdNlDiiYtAb7755mPeuITsLbfcUsx+rtNaECetk+nXJ+AIxT5zouSGdqbOkSnBjYDt8yoN7cm1ZtuM/O/rL9KEMyL1u8vyaxPqlalV3bY5HQ6Fu3KxZqjvbc//983zaCQ6tHmxD+mo3LqJE0hBLjpfnzTmcI9BQbMT6WQ0xyHyDysNuImldxgpDkGMfdNQVp14WdhHEvU9UoLL1MiuNI96f2mrI8stEDty5FTE5Box5joJXMI+vl7DfOseX7uJr860pR2e2PWyOnaeYLWelpYSm2qQMfJbv39ZO5nzdW3cWkoYbFMjbMOIvFG/NFKDVYOdpnxoe27Vc+qSHDdwYvWYQt2ORqIKb8Soswwh2JelEcTSBN3/OhvNalkac7gOzy7NTKMOTXGTsgRxNbHUIWBJqLUJwaHPqbO+nXUfSdQGDMhjG8JqkXCDpTbQVp8IkYA755xzysfKOQ1Z3nLkyJFjS1y0PUSKcP3G/7YrpMUG2dbT9z513dbmlJ8Q1+6lSUuRjjlC/3c9t6iMc7wGG/0b/sy6yr3LoB70Se+HPRPzNtqmNBGoAeSuBwtteI5GojIDjNBcNhHqi57VEXXA5vxdHQyNz/UQDIvSm/K1ZaSinEhuEyLtgyUhi0jlpy4IhzyWD22nbyfdRxLdlTNRva9Ev9Vf2upY/0Bc8XUby1tEGpLzXW3Ac+Y2Rcf1+9R1n8FStG/Cm2bLtGjOFKkabMivduC+fQ36t4EMrXzXZl2YGsyoO21TJAOaVrEhsFeXyFq9KvOYYVQSVXAN2giyrUPWO9KqxypPRBh9Oo58uM/98eyq7xzrfvmFHxyXkUpd0BBOnl2W78BjVSyZXbwj3hPpbPIrrb5lrXesfSLRe++9t3zZhca2DQFVx63rONqROlYfUc9D/2pzCHtZu27mM/qz/JgzZuIMJ6RoP7Bz374FpGIAQRuE364DXMPkagCjDlbBWp2o70VRm+Ckxrks5N6i+12T7jbqe3QSjQpWSILOiHOICFiNaVXQIh+eHyIfu0gDbvK9SoCLhq0xLsvjulh6hzoYEst1BCpc9olEmXE51MB17BDtCL7qZqgovXX6bxse8shqYT0jEyBHJh7DNN6h3tH23rHORXlpapYCrSobhsh35AGJmic1UO+TD/doQ6wJy6L6Y7ZG0svudZ2c20Z9T4ZEVRzgh47rNIih87CL9NYp56qYr/OObZR9nXzsC4ly2rFOkjbVRyitg9U6z0ylnrvyLn8xoCN8kQscaafMngTslPDsKkff88rCpI3ArOVU9l0HeYArojNHzQLVlQ/3GhS6Z5llLK6rx5hTj3PLfqVPSx6STCdForuu5Hzf4SCwLyRKi5rq1yzm0ppYYAh3c7Q8eZk9kSpvYkKYJoR05x6UQ5lo34hjjEGCd7ICxLpemOuL9RD3IDjEuCyGN7dBQte97vEuJGvao36fOmbmHopIk0TrtZnHe4vAPpAoMy7zGNPUPgj5KTQ2gpRWz/mJtkRz4xSFdJDQKnN5UyhPPQ/aiLYSmzCMZf6XD/3PgAW+iC0IzDU4I7Y60TlGfojQQMAaYBq1eVDHvlbEPO8+6fmqTDimIVf/u8dymzay9b6hBhZJovVWl8d7i8A+kCgtlBBJAh22mcKTNkSYE9TmEgng+taCw75xd6kZBCCj2NBizLaDOFlR7POLCPVJ+TOIaRKo/5nZ7cb1mte8prrggguq97znPZsEqZkAACAASURBVNX73//+Ui+Oef8qGw9d588999yyDzN/Ae+57LLLju0p3Za+c+p8U0ySRHfXnvNNIyIwdxIlTGIR+4gw7vWrCVOCnvbGHEhzmvvWglEm2jWzNcLalDTWbQTeSxs2ELQEh+bIrNqmhSI42iTry8UXX1yIE1nSStULwtQnpMVP4OjRo2WbSWR65513FscxXxOyIYl7ukhUXW9q5p4EiQJXQTRgwq4ZjVb6FnRZWs20p/C/cq9iNlJG908h77vMw6o41Tu7fM512z/LM0ReiH37Qb3sebw6AiHwkWlsLWgv4NhaMEy9q6e8+yeUBVnQrHkl6wvOjRG81/uZYg1QaIzNOcsgvNBEkSitk4OS6QxzvG9+85urd73rXWUpzzXXXFPdeOONxYpw++23l32affzg1FNPLTtgLSLRIRz0RidRoBKO7NOEhFFJMyqoyWnEsShIS+M2uulKq5n2FP43oa6MRmnLhKTrnCLcv4on2xTKuWkelFfdrmOCmTOJEjY0Cf0kw+4R0Of0N5qQOT1zpxxltEd14vpYpLQKGuYXeSTT8MZuSzBDkjDtIlH5pbG+8Y1vLLtfIVMfKfBVILtg0azNh9ZJ1LaRJ598cjH/vuIVrygfNFhEonhiGa8sw3hUEgVk3a05RiBtvwSwhqzy2xqstBBtEEtbGlM/p4wGE12V6rzr7pt6WbaVvyDiVc0wcyVRgoYGobxt7X5ZB8/rwyBAvuh/5BVHFZrR3LYW1AeYQxETWTp2e4Inmd0lK5ArwjdHzRrACoAQDWAuueSSopWyFPiSEc3Teb8+foBgka5ri0gUDup2kzAaiapAGgXS6wKxeb5OpPVCA4F2tkpazbSn8n8QabNi/X/oBFqvI3WtA/YVBHMlUYLEiLzZHurtP493h4D2FsIfmfLqJbCZGRHUooH+7nLZ/iZ5JyflF+E4Hjvol4vkNhJFinbpMqDUH/wqgzlV/6sDHy+gpdqjGeHasanPnOgqMqQLq9FIVENkmqsLxr7HzYIvq4i+6U7lPo2qbrLU+ENjn0oep5APOHVZJpoNfq4kqt7HNr01scz/H0JAvwzZg5SYeqe+tSC5ywQqrzS7sQdn3r/IuYgWyXzrU3osMnAWTW8gWHKINmpu1UDGNSRrQOObtcg37mvKLArLEH1rNBLdhBSM9jQGQUNeZBJoAjeH/0MbVTZhWUObQ5m2kUc49TXrzpVESwPIP5NHQF/VFjnMxLxpbC1IVkVfnkJB5IWHq/WjCGzMvHk3IuvSRhE+h8Abbrihuvrqq49FjkTOd8kVS5WYcmmsLDnN+1aRHcvqbDQS3cQ0GZqawgXBNEGa+/91T0xlVOlzL9M28l8fUC1q7Emii9DJa0MgoJ8iBGZSZkZCniMPxzDaUNOCNsQ7101DHuWPx7G+MTaRsryReU0ZAUdmcxopzTmi/9s2UYjnaafI0z3SiPN+Q0lRX0OUezQSXdeUCwQkSpMVNjEL14Gd2rGKVslRxqnlbyr5SRItTST/TAwBcglREeK0PhoRcyQzYygBQwjwdYtNtiAaS6cQEiIdM8BCHmjzyBRGyyJyZLoli5bd67p08Q7uCEvmEGWePYlqDJsQ8lTIoJmPJommJtq+p2aS6BBiINPYJgK0U+3UPB7NlLnXMWscDWwsc693W2Ji3SX5MiapB/7yAC+EKn9dERHKs8EJ+d91X/28dIfSPiO/fkcjUaaNdYnBiAIgAtCNXpokNPf/dbrQRP22mTrmXsZN86/9EESBU71hN491SuYrOGZIBHaNADmlnRLqsbWg7e9op7TVMTRBeZIfc6MccsK6t2ts1nmffBuIyLvjMcNoJIoEqdjrCNKm4IxRyTppTfEZ5FCfP4mBwrqDjimWcYg8wUPdw2dZSBJdhlBe3wUC2irZZ+DPHBlbC1oLySnJ+VAQdpEfxC4fyMj7+/SlXeRr2Ts4HNGgzXsOaZpd9t6266ORqMpbRxtFvEYe9coG4r6YdBEDLVRHijJGx0tt9GGTLpzUeR8tVMNPEm3r/od3Tl8aOq6LonwYBJqbtKWd5TE2cbD+MQaIfdv3unnwHPlpiQhSIl938c518wsz8p9VCVb6tXNjhtFIVKERBUGowfTRTNxnsr5ZyUCUFpLpm1af941xjzI0Bwmwig63rvY+Rlm29U51HAONvp0nSbQvUvt5n/6DLLQD/WvIGAPeTYQ5mUYWxhylXYWYWMkD6bu+SfrLapUGHN66bfJn2fO7ug4HWijN2e8UwqgkGg1bBS4ihxCai0x30gpSXpTWtgT7pukqo060aGSljK4jkLkPFtbFK3AKwdW3EyWJ9kVqv+4LuRAyRvvZRtQnyafmAH8VNEMeSsc8qc0DfMKMxsULddP0F+VFvslN7/Mu/WuKQT+msdulyPEUwqgkGgCoQIDQMjX2emTy1Xj6CM1ohEZSbWnV053SsTLKs5GyMiwKUUaYeG5K5dh2XtQpnLSXZTg1MUwSbSKy//9rI9rLrgadSIi/Rp9+vAj96OP6EzJFGOZMt721IKxik33zpKv2sUVlGuIaDkDwluUYhE8lf5Mg0QAYKARkRP9HjHv6/sZzkdaUf+V1neC5KZdryLxFfa6Dk2eSRNdFbp7PaS+EbptVCkEwBZp7tG6TQ41jTio8Z62bJKTdR2i75tfcJVJDNO51vWlRoeUiP21/iKAc2i6zrnlT85ZMmfLEcmUwjbSHCPEump79Z6U9pWCAYjBhX1yEP5UwKRKdCiiZj/1DIEl0/+p0UYmQGKGL1JpEh0B5xV522WVlk3Ibl/uYM5Ky2TnzaRCmL7VceeWVxcxp1yEEak9WJCOdZtr+985tCHkkh6CRPjK1RMbWgvKqvK5vGqShDOEtPESam+bJ88pngGOdLQymki95SxIdooYzjckjkCQ6+SoaNIO00DYCRRC0SCTko85IKLaSQ5A+peUaYrJd30UXXVRI9dxzzy3/M62ed955Zbu8LhL1jm0JemSibLREWjZnIEQvr7RlUzybEoz0aegIiyl8KE13kwo2ILKxgjqSvymFJNEp1UbmZWsIJIluDdrJJYxEaILIrC3GvNqFF15YTINMtEy4zITO0TQt5D969GjRUJlOr7322nJ8//33V6eeemrR1BaRKFMrwttmQG78BOSfJy/t0eYNNNXQhtfNA9Kyr644BDFvgoMyqA8kKl+bDhI2yUvbs0mibajkub1DIEl076q0s0CELE2tjUCdq2uiBDOHnfvuu6/68Ic/XJ1//vnFpIuIHH/oQx8qm8f7asgJJ5xQPf/5z6+e8YxnHFti0fUOc5i70uCU17tojdZ70kzrWwtq+66vQj6Iy0CAt64BxljaX+RDeWihq5Shs4EMfGFSJBqNQYVvGoG/LuCe8/ymedjV89su55SwlJd1QpLoOqjN8xn9YZEmylRL67ziiivKh5yvueaa6tZbby1zjOZJrdGkZfqo8/XXX19I9IMf/GAhV5rZ2WefXYh3kSY6hhk05Jayx9aCSFCeaaurztOGWTfM22O0Bv2Wlm2gw0Q+xTA6iap4ZMNkoOEZwQ0RpWUkpeH0Fbzucz+TgefnEpWTWQeOfQjVPRpnlHMZ3oGl0f26WC57R9/r8rJKWaPTJYkGEofxiwC65kR51XISuueee4qmaZ7TvCjtk2OReUb3MN1ecMEFhVTf+c53FpLlkHTOOecsJVF9q29fGbpG9G/lRzoxYECEtG5llLc+mqV09HmOVszE+l0f+TJUeeAnr+ZmDVjItymGUUk0hDkS6GrwXeaSvudNvmtMiwhGPoLICXN5mVuMNWrIYlFD1zB1jChnXxzdV8eyqzEHljB3/zbqVZrazLKy1vOYJFpHY/+PtXMDrq72x6R75513lnlOpGnODUHSehwjUeZDJt4jR45U1113Xfkf4S4jUe/Uxxb1w13VABwoBsqjbJav0OoMGvTPGBgvyqu+7zkE3Id8hyqbvMkz8qdkTTWMRqIqjWAjzFcR5Ovcq1EvGhnGiCeEvvvnGgmOrgEDzI0mlW0dHD3TF8t101/lOW1Hp14kAKLjJYkGEofxq00gD326rU0xb9I0mWZ52/LUFZlzrcNEOm3PIVjaKc2szZyrf0QfnBrS5JzBJ89bc4x9txYkT5BueOtKZ9tB/RnomN+dshYKh9FINIirraFu45zG3TY6DGLZBwJVRuVoGzAoJyLpEiqrYC6NNtNOYCkfq6S37r3eQyjo5MtCkugyhPbvOhlDg2lr80iSkGbW5TjjV3SujRyjjbpuWYx7m0SrPa4ysBsDcX1UfzHAMJCglSJHv8rWJSPhaODAtLuLuUn5sxbX+7qUgjHwa3vnaCS6aJQYDXbo37YRogoKc7JOsA+R0GiaXUKgDIUpYdEckfoflkO9o0866ktbWhaSRJchtJ/XtUnEoO/rF9pLn3ZlLhGpNEkVcboWBBryQtrIpa9lZGy0kam8IkdkWt9akBlb/9Zn3CeQk87RYC35cW1bwTvhbsmOuoo8bOt9m6Y7GolqcH0bdJ9G3+ceDb0pcDWG6FzRIfbhtzmi1AkIkj449bkHRk2B4X9Y9nl+yHsIgmUdLUl0U1Ex3+e1De1fnyB3WGoM9rqifkLTNBfHsxXB8HYNTRWJar/aunu1P+2rOaicE2LyjyTt2mRv2vi+qPLBDX76NwJ1TdmX9bl1yi9NefEOHtSOpx5GI9FdaywaPcGvQdQDUt0H0myWQceud2odQCcZirwCy3pHGsO6oDxt5ut6HTvWGTmQwCBDIrAIAW3adIV5QCZFAt38qUgTY9a0HpO2pO0hGM/U+8Ki9Kd+jezgRGQXJGXWbwwclFMfN7CgJepTQ5eZnGJeN19L259DSBLdYxKtN/BtkKgOVX/HWCRKu6gPGNo6XpJoGyp5rgsB7Vqf0aYNvJEqwmT65Fxkro7GxvHFnCJSobG6TkFwv+fr/aPrXVM7H2VXboNlJBpbCyK42PHJQEIZhwz6suU4nJ/moIUq+2gkmubc7c6/6gD1DmwUuQtz7pDabl+tuc3Jqdmxk0SbiOT/qyKgP4U2Rltj0kQo5hAtj+FwhFxFxOMcMkA8tKogV21x2aBv1bxt63751L8MDmK5iQEDLdUG+EgWJkMEhAwr2j586/JriPS3lcZoJDqG1kLANyvc/xp30xw65/917uYIUWfQMPsS07L7YNkUBP7ftZlePWlLy0KS6DKE8vomCGj72iFtVd9hCkaqCAHZME8iHufMK2q3yMkz2qb+ShZJZ0zy8G5RPppRPskWc5XMvHfffXcZMBiwN+9t/h/pLiqbQT7TuUFJU35tUjfbfnY0EgVyNLhlAnuI6xptUzsDrkp1XuOYM3FG3pWjy7ypYbq+KZ7SaNP+Akt52fQdfZ73HqTdHBi1dZok0TZU8tzQCARZ1EkEUWqriDW0OaSKiJhJLS9hGqXV6lttcmrofLalJ8/eTS4jNAPlZpQ/ZbEMiKYdA4Lmfc3/pUcuwcJ7msE56THljlX+Zp76/j8aiWpshPqQJsYuwavSu4gFUCowzDPunWvUwOGJVODbDEFy7uvCatl52OhkbR0hsNyFqV4+dFRtqK2szbIniTYRyf93hYD2qb9oq0iErNFPtWFmUiZfDkzMpDQxkWcwwmXe1F+DgPoMGFctl/zpHwak+lQQ5SI5SE7EUp9F99WvSVf65Ee938LGNbsiGWj06c+rlnGb949GogpVr7youGVCfJXrKlClLSLQADeItG8jqjeOsY+7GmeUrf4Lc1pkdOI+eEb5vAeWizqy9GHpPlh6ts87+t4jPfnQ4XX8vh0uSbTeCvJ4KghovwhFn9SmkSpzJrMvIkWsIo9YZlQk4x79xf2e07a7Bs7Lyhnvl1b082W/tFBx0X3yx3sZ0Tbvi/4beVZ+AwbzyAYYcwujkmiARehS4VVkkBigN4lBnhqY9PsEDcr9CADJDJWXTcqx6Fn5k08jOyPcReRWL390nCDTRe9wzTtgsiqW8hRkuuwdfa4rrzairfQta5Rb3nVSaWRIBKaOgD6qjevbnJKQpzWctFRfZhHNscZyG8SqryEkz4nknnTEruAefUr/a5JdEKG0RcQpL8yuzNBxP6Js3uMcc7WlMnFf8zfyS74oD3P2orx2lWHs85MgUSBEZW/jdxWQt/H+XaW5SjnXxXyVd2yz3Kvkw71JoqsilvdPAQF9CNEhRQSpHRucIj6kQzulsXJgQkTIzf+W28QcK+3O89KqB/9Lq41AEZ4NJi6++OLqzDPPrM4999zyfdXbb7+9bNzvW6tI1n20ZF+5OeOMM6qPfOQjhTi9277EtOgmecb/oQQY3EpjjlooPCdDovXKzeNEYGgEkkSHRjTTGxMBBIhUkSDyQYS0QcTHHExr5bCEUP0iqjAH0xJpuGFCDlJr/nIaQpaI2bPWx5qjveOOO6q3ve1thaj974PlvnJjaY/N/K2ftbvT6aefXrTlZrrxPxL2Duk7RvRzDEmic6y1zPPKCCSJrgxZPjBDBJArMjLlwVyKsBAVEmX+RXC0Vk485iEXzW16zhdreMwyy3KAQtC33XZb9dKXvrQQJ6/io0ePFiJk6r3ooouqK6+8shDqKaecUp4N0mz+ut/cr2hAMNeQJDrXmst8r4RAkuhKcOXNe4gAszBypfWZY42tC8Ms2yQ597z73e8uJl2fiBOvuOKKQpJMtUgQsV511VWFoP1Pcz3ppJOqs846qzrxxBPL+thmuvG/93qGRtw0Nc8J/iTROdVW5nVtBJJE14YuH9wjBJAVMg1TsLnVILXmL7MvDZTzkiU4NFPEetddd5U5UiRo7vN973tfMfE69sHym2++uTgfnXbaaQs1Ue+jLc+ZQDWNyZAoIKOCVXI9rgpyVzr1NKd2fAhlHALzVXEK+ZckGkjkbyLwEAL60iLHIiSHKGmjNocIkmV+vffee8s1miSHJg5IN910U9FUmYn7zIlyLPL+uYdJkCjhamRkgtzIiMtzRBPgsaRhmQB1XVoEphFOpDH1X3nVmOS9bxljzgNehxK1D3XbB6dmx0wSbSKS/ycCD200Qz4GQTZ/kSjP3HvuuacQI3KMT8K55n7OTJyKbG/IK5gGSyt9xzveUeZem2nG/2S7vjz3MDqJmgQHJmBVSlc0allkO0c+BGWYJ7rSmep55Y+RWReROo9sNfout/RooPv6q9zqWF134dTWKZNE21DJc4eOQMjNLiIlLy1bOXLkSNFIaaUib1yeuSFPaaTI0/9kD09hZl5m4DZZ5H1zdiaqt5tRSRSBrkJ6BCitrTl60RBUCBJSYVGxc/xVBlpmMyij81HGtoZ5KOe0A51wFSJNEm22qPw/EXgIgSBSsrhtcI4szY3yzI1I+0ScXTLHNU5Hdi2q37PuIHjKdTUaiSJC5jkAr0J2KoE2puIjIGNCdZV0pnwvolSmCDFI6Bot1hvpoRxHZ2wOqAKz5m+SaBOR/D8ReBgBMobMaZtSI3eGiEiaNbEu2x7OwXyPRiNRQo0gXIfM6rZ0la9iViXjdd67q2eURWOOgYJfGji8DoUk+5QTHrTzwGlRN0wSXYROXksEHkJAXzIwRXSse0NF6Um3T1+dW12MRqLraKFBYoRn2NNVDFKNa/vwi0CM/ELL8ptm3Ed+XUc7qA+oFnW+JNFF6OS1RCARWBeB0UiUar8u4RGe4RqNYDZJa908bPs5RBokahSnzH20s0O7R933MQ8lia4rIvK5RCARWITAbEk0nG8I0EMg0UMjx77lTRJd1L3zWiKQCGwbgdFItM+yli5tj1ZGsxBoa/tmzlVu5tvURB9pwm2Sa5LotkVEpp8IJAKLEBiNRGmSyLCLKBedN18YJjwT1eZXF90/t2uIwsAgJuHDZJ0m3eNJFR51B6xFDT3NuYvQyWuJQCKwLgKjkei6ZlgE09x0gYBcl5CnSLDKUl/Gg0z9n85Fx5MoPDiYxWBjUSdIEl2ETl5LBBKBdREYjUSDGFYhPwRa10Kj0DS1fVnmooyWszSJIczW8HLPoUcE2hxMRXto+00SbUMlzyUCicCmCIxGojKOKGIXnmUaIdKI+a8mwURahOoqpLzsnbu+HgQac6HNynU+14s+tD3iKgQKxyTRZmvK/xOBRGAIBEYlUQVAiExy5rZoF0iwGZEnsmUCbiPQAALJEJaIpiutZtpT+F9ezYEy2SpDVxmdd9197qeVe/aQorpVx3BYJSSJroJW3psIJAJ9ERidRCOjhCKSJOyQREQEu4hY4vn4DaLxXKQx9d9NygivQ4naxyptIdqE3yTROhp5nAgkAkMhMBkSHapAmU4i0IZAkmgbKnkuEUgENkUgSXRTBPP5WSCQJDqLaspMJgKzQyBJdHZVlhleB4Ek0XVQy2cSgURgGQJJossQyut7gUCS6F5UYxYiEZgcAkmik6uSzNA2EEgS3QaqmWYikAgkiWYbOAgEkkQPopqzkInAzhFIEt055PnCMRBIEh0D9XxnIrD/CCSJ7n8dZwlznWi2gUQgEdgSAkmiWwI2k50WAqmJTqs+MjeJwL4gkCS6LzWZ5ViIQJLoQnjyYiKQCKyJQJLomsDlY/NCIEl0XvWVuU0E5oJAkuhcairzuRECSaIbwZcPJwKJQAcCSaIdwOTp/UIgSXS/6jNLkwhMBYEk0anUROZjqwgkiW4V3kw8EThYBLZCor7/GZ+s8mmyjInB2G3A5/A+//nPl2+vHmxvz4InAonA4AgMTqJf/OIXq6997WvlI9pT/45n5u/h77buMxY+6O4j5p/73OeSRAcXIZlgInDYCAxKot/61reqBx98sIz4v/CFL1QPPPBAxsRg9DagLUZ7RKYZEoFEIBEYCoFBSfQ73/lOxZRLE82YGEytDXzjG9+ovv3tbw/VdzKdRCARSASqQUk08UwEEoFEIBFIBA4JgSTRQ6rtLGsikAgkAonAoAgkiQ4KZyaWCCQCiUAicEgIJIkeUm1nWROBRCARSAQGRSBJdFA4M7FEIBFIBBKBQ0IgSfSQajvLmggkAolAIjAoAkmig8KZiSUCiUAikAgcEgJJoodU21nWRCARSAQSgUERSBIdFM5MLBFIBBKBROCQEEgSPaTazrImAolAIpAIDIpAkuigcGZiiUAikAgkAoeEQJLoIdV2ljURSAQSgURgUASSRAeFMxNLBBKBRCAROCQEkkQPqbazrIlAIpAIJAKDIpAkOiicmVgikAgkAonAISGQJHpItZ1lTQQSgUQgERgUgSTRQeHMxBKBRCARSAQOCYEk0UOq7SxrIpAIJAKJwKAIJIkOCmcmlggkAolAInBICCSJHlJtZ1kTgUQgEUgEBkUgSXRQODOxRCARSAQSgUNCIEn0kGo7y5oIJAKJQCIwKAJJooPCmYklAolAIpAIHBICSaKHVNtZ1kQgEUgEEoFBEUgSHRTOTCwRSAQSgUTgkBBIEj2k2s6yJgKJQCKQCAyKQJLooHBmYolAIpAIJAKHhECS6CHVdpY1EUgEEoFEYFAEkkQHhTMTSwQSgUQgETgkBJJED6m2s6yJQCKQCCQCgyKQJDoonJlYIpAIJAKJwCEhkCR6SLWdZU0EEoFEIBEYFIEk0UHhzMQSgUQgEUgEDgmBJNFDqu0ZlfX//u//qu985zvV//zP/1Tf/va3q//93/89Lvf+d/6//uu/yn3HXdzhP/L5n//5n9V///d/V46HDNL71re+VdJvSzfw8e5l0b3r5s9zsP7mN7/5iHpoy9eic/KhzqS3bn4WpZ/XEoFdI5AkumvE8329ECBo/+Ef/qH63Oc+Vz344IPVV7/61eMEOHL5/Oc/X912223VV77ylV5pbuMm+fzQhz5U/e7v/m4hh6HegWAQ480331zdeOONrcn+0z/9U8Hn05/+dLUsfvnLXy7E1ZrQkpMI7y/+4i+qa6+9tvr3f//3JXcvvqwe77rrrlKnsMuQCMwdgSTRudfgHuWfdvkf//Ef1e2331695jWvqX7pl36pevnLX179yq/8SvXiF7+4OvPMM6svfOELRTMjzH/7t3+7etnLXlb95V/+5XEoEM5/9Vd/Vd1xxx3VRz7ykYWRQEdAdU3X8de//vXq7//+7wt5IJCI0v3Hf/zHoiF6qfyefPLJ1ZEjR8rxcRnp+AcpITXk+653vav6wAc+UP35n//5cdoZEqXhvv71r69e+9rXtqb0nve8p/qFX/iF6td//derV73qVdWrX/3qzgiLJmkpJ1J75StfWT33uc8taUnP8YUXXljeH2R+9913V895znMeMWBx/Rvf+Eb113/916UeAqf4VU4DngjOv+QlL6muv/76jQk50szfRGBMBJJEx0Q/330cAkiDRvf0pz+9euMb31jdc8891Z/92Z9Vn/nMZ6rrrruukCrS/Nu//dtCctdcc011wgknVA888MBx6RDq7373u6sf/uEfrn7xF3+xCG2Cuy2edNJJhQDrJIrkfud3fqcQE/KO+KIXvah64QtfWPJGCxT+7d/+rZDYBRdcUI6Py0jLP0jn7/7u76p3vvOdJa03velNZSBgsIDMYSC4j/n0Fa94RfVrv/ZrLSlV1amnnlo973nPq/7wD/+wDC5o7F0RWTKN10MMFs4666xCvshURMawRX7ygXw//OEPVz/xEz9RRbkjHebZj370o6UekP0b3vCGEpG/unrrW99aBgzSEdQnkr766qurf/3Xf41k8jcRmC0CSaKzrbr9y/g///M/V2eccUYhLWQQgldJmTY/+9nPVt///d9fCO5rX/taEfRtJMq8e/7551cnnnhi0fCQ0aLY1NCQKGKm6V5++eXHImL+jd/4jeqZz3zmMe13FRJVHmlffPHF1c/+7M8W0vRuWtzb3va2CqEjWMG9y0j0zW9+c3kGFjHn6bmuWG8xCBSpLppLdd19yLSLRN2DcJ/4xCeWQc/v//7vV6LBkDpgTWCSVxbpGCj8/M//fJJovTLyeNYIJInOuvr2K/M06lFP5AAAEl5JREFUyEsvvbR66lOfWt17773HzKNIgQn1gx/8YPVDP/RD1R//8R8v1ESDRGlCSKmLVOrn60g6j1wIfmbjiNK66KKLinmZqVdYhUQR3Ze+9KWiEZ9zzjnlHd6FSM3v/siP/Ej1e7/3e8fMustIlCZqoBCaOfy6onfUtW3zzbTtReZulgC4K/8iEn3/+99ftNR/+Zd/KWXxLnm/5ZZbCrki0te97nXFNC2/j370o6srrrgiNdF6o8vj2SKQJDrbqtu/jCMuhBBa2emnn17mDGk0zLs0tauuuqrM4zEFdplz6yQaZDcEWjRGc4/ywzwqrEKiyvcHf/AHxYxrLjYCImUm/emf/ukKIZlndW4ZiZ533nnVT/3UTxXzKUKFEVPsr/7qr5Zj5yIiwfrc5J/+6Z8WrZqJuiu+9KUvLVqlMi4iUQ5HT3va0wqBR5kMGBA0jVs+zfuaB3VssKAe05wbaOXvnBFIEp1z7e1h3glfGg2NjNPNKaecUojg6NGj1Z/8yZ8UxxbClyZFEJvzbM6JboNEaXEf//jHi8Z1//33H5u7DBJ9xzveURyR5A1Z1rW+qCYkxtuWoxQSqwd5Rn6/9Vu/VQi6D4ly0pEXhCzedNNNxRT+rGc9qxzHeb9f/OIXj+XZe2msBhgcmmLe+Y/+6I8qkdkcppyoaKHIfF0S5fTk3YFHzonWaz2P9wGBJNF9qMU9KwMiJbjN9fHupJ0ydzI/3nrrrRVCNVdJI3z+85+/ExJFgAjuZ37mZ4oGFaSARDkFcZY5++yzi7mXBzEibQZOQ7Q2ZIm86oFmy+T59re//ZgjzjJNtP68Y2lwWDJvi5T7BGRtQEJrZEqH6yc+8YnjtETm2STRPmjmPYeIQJLoIdb6BMuMKGktPHPFn/zJn6ye9KQnVd/7vd9b/eiP/mgxFz772c+ufvmXf7nMrZmbtAyjjUSRL7Ph4x//+OLZGstEeLkiGF6kzom8YxFHG+kFTEj9k5/8ZHGSoUnWvVyRqHSZKDnM8N5FQm3pIWLzuuZqDQrqAenxxEXEjrs0UVo6jfiGG24o5lEm0ohXXnlleT/8HMf5+PVunrRIUaCNWmZDc4WrQYllRHAOb2HlcD8t97u+67tKffB6ZiaGCywWmXNTE63Xch7vIwJJovtYqzMsE+L71Kc+VdZ2WtMovve97y1CGyEw79LwrAllhjQ/2WXOpfGZe0SyPGovueSSoqHxIKUxMhM7J3oHLYvXbFtAIggeqZx22mlFa0NwEUITdY0XqnwxgSKYZpAWAuRo47ceaNzyxuFGml0kau7UmlTv451bj7/5m79ZBgjI2OCgfs2x5Sa0TfmgSSNyBErDlndpi7xrLXUx4GCeRv6chB71qEcV8rScxyYX0lhGouZbrTFlxmUitgbY/GnOidZrP4/njECS6Jxrb0/zTjgjIYL9x3/8x8scXZPkCPcux6I2WBCTdaI0WI47fYJ38k6lHXL6QS51ApWGdGlbfdaJSs88JhJF3sooPecNDmjcvJKRXBeJBnHRDpEbwjYAsTwoSDB+nXPNPQYWnom0kR8TroGFQYJ0I8gP0nzsYx9bBgV950S9Szqi9yBa1gTlYgb/uZ/7uerJT35y9d3f/d1FU1aHGRKBuSOQJDr3Gtyz/BPAiAmpMKHy7qTFEOz1sAsSpfEiXUQuL0irGVYhUcQoDd7HHKIQtHIx39LMkAySdV8Xicb7XUeE5latZ5UmDZSpWETs5ldd49jjvZGuNDx75513Vo973OMK1nUSdc1zzOEIFgEvmhPlUfyUpzylpMPcLCJyG2QoJ6sCLdTaX5ooj2Lz2kmiUZv5O2cEkkTnXHt7mHekwjuUadLcojWhNKm6kFfs0I4s6+izjKWvJopoaGzywCSKBKyXbMuDfKxCou6XPjMqcykT8WWXXVa95S1vKVvqIRvvifu6HIukASdEZzclZGl/3Y997GMFM7g5Ngfqmnlj5GUONAI8Ebby2WXIIME6WKTpXnO78qV8CLiLRGnTtFZzwvLC81i0PIb26ZiJG6bImVeyrQVzx6KoifydOwJJonOvwT3LPzMgsymB3Jw3rBcViSAcJkuaEmIh7JmAY6lG/ddSEI4/SJeXb/1aHFvSIQ3EgUBoc+4l/KXfFlYlUWl4B+3Qdnu0R/OV9913XylHDBa8r4tE3cMT185J1q0iKRjEs94Rz3uPd9jkwH31wKxtZyHewsiOU5FyI13k61llR4BdJOqdMY8KKwRej+ax1VPgl0tc6jWQx/uAQJLoPtTiHpUBiXIK4i1qfpAAXxZpQ6KlGjauf8ELXlD2crUlYETEwKGF5yntK87Xfy0PYVpFHNakIocQ/l0Qr0OiXWnVzwcJIsDm3rnKKp9M3Zx/mE9jzrOOFbKmpbsHUdI8m8F7mFXtv4soaaGID4FHWESicU/f3yTRvkjlfXNBIEl0LjV1IPmkYTJ3IkJLKWwB2BVtiG4ekTZFI0IuTJYcXJqR5oZskI/j5nX/Iw7vRyzIXHrLwhgkKn/Kq9wGG5ye7FRkwweex6I9iGnS5h85MhkUINW2IC3lRcSiQYRzEZJEA4n8TQQeiUCS6CMxyTMjIkB4IyZmWctaFkVmXxoUYkQsYwQEw7GGk04XSa2TL+VBZtKlHbYFZlLapeuceDjr8PoVHVsfankJs6wBwroYGVggYSRdn1dty9Oyc5ypLDsyAEDYGRKBuSOQJDr3Gsz8j4pAkD4CrWtvQ2VKmn00Yu9Dku4V1yXMtnxLS/lo8Ah1k2BgYC7W4GMbeG2St3w2EVgHgSTRdVDLZxKBRCARSAQSgaqqkkSzGSQCiUAikAgkAmsikCS6JnD5WCKQCCQCiUAikCSabSARSAQSgUQgEVgTgSTRNYHLxxKBRCARSAQSgSTRbAOJwBoI8Fa1bISXKe9V2+V95jOfObbB+xpJDvaI/Fj3ajkKb1jeupYM2ZGpK7hHWZTJcTNYR2rjBulsusylmXb+nwjMGYEk0TnXXua9FQFLJ+qbB8QmAm2/yBDR1IPnkcnXv/71sgbVOlQRMVnDiqQQiq/IICakY59a+8VaBhJLNyIde9Jaz9knuncVknLvpz/96bL9YSw/8V5faLEvr/wqt80YrB/tCpad+NaoXYti/976va7bq9cGDs3tA+v35XEicGgIJIkeWo0fQHmRBo3Jgn77uS6KNnNAhIgxAjKy9eDFF19cnXvuucei727a1MB1++0iFM8jbN88tXuSvXxDk3MewbnPvr02ZPdrA/bnPOc5x6Lt++w65Lw9bOW3b7Chu60MfVw7yE/+YmN75I8A7Vok/13B90ztl2vbRBsiNIOtAX3r1E5StgXMkAgkAg8hkCSaLWHvEEAIp59+etkSD3l0Rfvp/tiP/VjZCD60OGAgQaZZmubll19eNDikRNP0DLNnHxKlESJ0Wutdd91V9u61u5H9YxF3RGTtO5u+WMMsHGTYp2LsJPT0pz+9aImhwa5DovYdPvnkk8tn1OS3GZJEm4jk/4nAQwgkiWZL2DsEmGhpYAjpb/7mb1ojkyQtzgbvNLA6idJKkR9Sij127btLk6M1Sr8PiQJWWkgZ2fnqii36mFidi/i+972vkLkN75mW61rxospxny/dPOYxjymfjkOEQpDo61//+qI1IuvnPve5RaPuSg8Wz3jGM8pHtO1dTIuG0SWXXFJdeOGF5cPktFDacmqiXSjm+UNEIEn0EGs9y1yICjHSvs4777zjSLQNHoRnz1cm21VINNKi2T7rWc8qe+Eyr9YD7dSHv+um4Pr1rmMaq495f8/3fE8hYSZo5IdEL7300kL4vsvqg91PeMITqnPOOecRSSFi878f+MAHqu/7vu+rfvAHf7BC6gjdB7+Zsw0yTj311FJ2g4gk0UfAmCcOGIEk0QOu/EMuOvL40pe+VOYAmWzrmmgbLlMkUeZfnzizMTxy9y1Q85lBoj75xlSMUJmLzz777EcUjcmZlsxU7bumNq1H9j6ajZBdhxUnq5wTfQR8eSIRyG3/sg0cJgLIgab18pe/vDjlIMkISOiBBx6obrjhhkIcMS9qbpVJNjRRzkGnnHJKISkk5NNsXdrkkJpomFq9kyMQs6uv2bzwhS8sWqfBAa35TW96U7mGWBEqrbIemJU5XyFg2ibPYHOfiJSj0wUXXFBI2RxwzonWkcvjROBhBFITfRiLPDogBJAm8+dJJ51U+aRanUSRJPMmknzd615XvfWtby0RKdHszFuaE+UV+5SnPKU4Gz3+8Y9/BIm678EHH6zuu+++4i3r+6hnnXVWdeuttxZHI85GIiL+gR/4gULa/ud4VM9PvVrM1TKnyguvX/lA+vLsPT7g7Xui559/ftFMu7xzOQ8p40te8pKiyfpcWrzTM7x9XfOhcgODJNF6LeRxIvAwAkmiD2ORRweEAMK45ZZbCunQSGmmEcwR8sY1X9rmqeo+plQkQ1tFekylzKB1TVQ61157bTG5Pu95zysfyEbMHHRe9KIXHYs0QU49J5xwQvXiF7+4LJfpcjDiPPSGN7yh3PvZz372uDWuNEakbRkOZyDapXWr5mCli1gj3HPPPeWc+VjOU0y2IlxoukiTNn7vvfeW+VHmXCZeHwGHV4ZEIBF4CIEk0WwJB4kA7Y2jDQ9WxIdAIvQlUabgT3ziE8WTl8mX002dRKWJDGmJ0kRmfpvR+bhG0/RMV0BwzK6coppE6xotkjcur93ImzQRrznNCJ51HvHGAAImHIoMEGi1tGIkas0t8nZMM21bRxrp5m8icGgIJIkeWo1neQsCCOO0004r85nIpA+JIpsgxU996lNLN1vYBtShLcqLSIu8//77i5nYch3m6Ze97GVFYzzxxBPLTkW0UjsY0VKbQXrKzywMD5s9mGflpGStLWcjZmPnOTDRus2lZkgEEoGHEEgSzZawFwggA6RCyyPkl0XmSnOLnHIcu59WxpyJVCwd4flKG+O0gzTtTnT33XcXjYymt2jHoshPkN06v8sqRp5vvPHG4gSE+I4ePVryhhA/+clPljWpR44cKQTIKUr+m0G+rAtFkiKyDVyss6XVWkMqbWZnRNtl4m6mnf8nAoeAQJLoIdTyAZQRGSCVO+64oxALclk1cjAKE+edd95ZtDpzgMgFodp/lnbGexWZLiJRGqt5RGbXdaJnlWlRQHbyd8YZZ5SyI+5mMChg4uWdy0mqGWjkTLS0VnOgXe+0JtVGEU984hPLWtdmOvl/InCoCCSJHmrN71m5CX9kxeTIIWidaP9bc5Nh4qShcsyJXYsQm3O0XZreIhK12TzitSXf0572tJWiZTSvfOUry1zqompCepa18PiVrzYSjXlOzky01WZwnROV67yVkW5bQMTmVJ/0pCdVH/vYx9puyXOJwEEikCR6kNW+f4VGIAgBkXKCWSfa5o9zTp/ABMopiemU1tncgJ5WzIvV9VWjzQ8QpHQXBcTJ+9d+vog0NGRzpIjutttuK/kyoKBpcgxqBoMPy1uYac2l2ubP8haORdKhcfP2PfPMMwth+xIM56MMiUAi8BACSaLZEhKBNRBAJLxfkTXtzVIXREVj6zKJrvGahY8YONCSmaE5AFk+89SnPrWsXbWNIA3YUhrrRmnGNOi2IP/mOZWB9kwTtv41oq/P2D4QsSLuXZWvLa95LhGYGgJJolOrkczPbBCom08tbeH9Snusn99FYbxPRG60cWRpbhc5xrVlearfJx1OVkzbyuP/uL6L8uQ7EoE5IZAkOqfayrxOFgGEhcCWkdW2CxBkt2k+hkpn2+XN9BOBsRFIEh27BvL9iUAikAgkArNFIEl0tlWXGU8EEoFEIBEYG4Ek0bFrIN+fCCQCiUAiMFsEkkRnW3WZ8UQgEUgEEoGxEUgSHbsG8v2JQCKQCCQCs0UgSXS2VZcZTwQSgUQgERgbgSTRsWsg358IJAKJQCIwWwSSRGdbdZnxRCARSAQSgbERSBIduwby/YlAIpAIJAKzRSBJdLZVlxlPBBKBRCARGBuBJNGxayDfnwgkAolAIjBbBJJEZ1t1mfFEIBFIBBKBsRFIEh27BvL9iUAikAgkArNFIEl0tlWXGU8EEoFEIBEYG4Ek0bFrIN+fCCQCiUAiMFsEkkRnW3WZ8UQgEUgEEoGxEUgSHbsG8v2JQCKQCCQCs0UgSXS2VZcZTwQSgUQgERgbgSTRsWsg358IJAKJQCIwWwSSRGdbdZnxRCARSAQSgbERSBIduwby/YlAIpAIJAKzRSBJdLZVlxlPBBKBRCARGBuBJNGxayDfnwgkAolAIjBbBP4fMVA3eBtD6cwAAAAASUVORK5CYII=)"
      ]
    },
    {
      "cell_type": "markdown",
      "metadata": {
        "id": "HtwEe8F8LKHs"
      },
      "source": [
        "Text Rank 평가\n",
        "- 정밀도(Precision)과 F-measure에서 가장 높으며\n",
        "- 재현율(Recall)은 지도학습에 비해 높지 않습니다. \n",
        "- Window가 클수록 정확도가 낮아집니다. \n",
        "  - 즉, 멀리 떨어져 있는 단어가 관계를 정의할 만큼 강력하지 않습니다. \n",
        "\n",
        "다시 말해, \n",
        "- 정밀도가 높다 => 추출한 단어가 핵심단어일 확률이 높다\n",
        "- 재현율이 낮다 => 지도학습에 비하여 핵심 키워드가 추출될 확률이 낮다   \n",
        "고 말할 수 있습니다"
      ]
    },
    {
      "cell_type": "code",
      "execution_count": 10,
      "metadata": {
        "colab": {
          "base_uri": "https://localhost:8080/",
          "height": 181
        },
        "id": "SEaZZRnCQDXL",
        "outputId": "731640a6-4061-42c6-bc8b-897e4e5209a9"
      },
      "outputs": [
        {
          "output_type": "execute_result",
          "data": {
            "text/plain": [
              "'지난해 고령화와 유례가 드문 겨울 한파 등 영향으로 우리나라 사망자 수가 통계 작성 이후 가장 많았다. 폐렴과 치매의 일종인 알츠하이머병은 지난해 사망원인 순위 3위와 9위로 전년보다 각각 한 단계, 두 단계 상승하는 등 노인성 질병에 의한 사망률이 급증하는 추세다. ‘연령표준화 사망률’(표준인구 10만 명당 사망자 수)은 울산·충북·부산 순으로 높게 나타났다. ■작년 사망자 29만 8820명, 역대 최다 24일 통계청이 발표한 \\'2018년 사망원인통계\\'를 보면 지난해 총 사망자 수는 전년 대비 4.7%(1만 3286명) 증가한 29만 8820명으로 관련 통계를 작성한 1983년 이후 가장 많았으며, 5년 연속 증가세를 보였다. 통계청은 인구 구조의 고령화와 지난해 1~2월 유례가 드문 한파 등을 그 원인으로 꼽았다. 지난해 조사망률(인구 10만 명당 사망자 수) 역시 582.5명으로 전년보다 4.5%(25.1명) 증가해 5년 연속 늘었다. 특히 80세 이상의 사망자가 전체 사망자의 절반에 가까운 46.3%로, 10년 전보다 14.3%포인트(P)나 증가했다. ■폐렴·알츠하이머병 사망률 순위 ‘껑충’ 사망원인별로 보면 지난해 암(악성신생물)에 의한 사망률(이하 인구 10만 명당 사망자 수)은 154.3명으로 전년보다 0.2% 증가했다. 1983년 관련 통계를 집계한 이래 줄곧 암이 사망원인 1위로 집계됐다. 특히 폐렴(4위→3위)과 치매의 일종인 알츠하이머병(11위→9위)에 의한 사망률 순위 상승이 두드러졌다. 폐렴 사망률은 2004년 10위에서 꾸준히 순위가 상승하고 있고, 알츠하이머병 사망률 역시 통계 작성 이래 10대 사인에 처음 포함됐다. 지난해 알츠하이머병에 의한 사망률은 12.0명으로 전년(9.8명) 대비 22.5% 증가했다. 알츠하이머병 사망률은 10년 전(3.8명)과 비교하면 무려 214.2% 증가했다. 폐렴 사망률은 45.4명으로 전년(37.8명) 대비 20.0% 증가했다. 알코올 관련 사망률은 9.6명으로 전년보다 2.0% 늘었다. ■자살률 5년 만에 증가…\"베르테르 효과 영향\" 지난해 자살에 의한 사망자는 1만 3670명으로 전년보다 9.7%(1207명) 증가했다. 자살률은 26.6명으로 전년보다 2.3명(9.5%) 증가했다. 자살률은 2013년 28.5명, 2014년 27.3명, 2015년 26.5명, 2016년 25.6명, 2017년 24.3명 등 4년 연속 줄어들다가 5년 만에 증가세로 돌아섰다. 자살은 10∼30대까지 사망원인 순위 1위를 차지했고, 40∼50대에서도 2위를 기록했다. 김진 통계청 인구동향과장은 \"자살에는 베르테르 효과, 즉 유명인 자살이 영향을 준다. 2011년 이후 유명인 자살이 줄면서 자살이 줄었는데 지난해에는 유명인 자살이 있어 영향을 줬다\"고 설명했다. 지역 간 연령구조 차이를 표준화한 사망률(표준인구 10만 명당 사망자 수)을 보면 울산(355.3명), 충북(352.6명), 부산(350.8명)이 높았고, 서울(283.3명)과 경기(306.8명)가 낮았다. 사인별로 연령표준화 사망률이 높은 지역을 보면 암은 경남(101.5명), 심장 질환은 경남(44.6명), 뇌혈관 질환은 울산(30.6명), 폐렴은 경북(30.3명), 운수사고는 전남(14.4명), 고의적 자해(자살)는 충남(29.8명)이었다.'"
            ],
            "application/vnd.google.colaboratory.intrinsic+json": {
              "type": "string"
            }
          },
          "metadata": {},
          "execution_count": 10
        }
      ],
      "source": [
        "# 뉴스 데이터 프레임에서 본문 하나를 가져옵니다. \n",
        "doc = ' '.join(df_news['article_original'].iloc[0])\n",
        "doc"
      ]
    },
    {
      "cell_type": "code",
      "source": [
        "from summa import keywords\n",
        "\n",
        "keywords.keywords(doc)\n",
        "#print(keywords.keywords(doc, words = 5))"
      ],
      "metadata": {
        "colab": {
          "base_uri": "https://localhost:8080/",
          "height": 54
        },
        "id": "RFboXvXlmQG3",
        "outputId": "0dcff0ae-8e0f-4058-8d7d-dd56200052cb"
      },
      "execution_count": 13,
      "outputs": [
        {
          "output_type": "execute_result",
          "data": {
            "text/plain": [
              "'명\\n년\\n지난해\\n증가했다\\n만\\n사망자\\n사망률\\n보면\\n알츠하이머병\\n의한 사망률이\\n사망원인 순위\\n명으로 관련\\n한파 등\\n인구\\n유명인 자살이 영향을\\n폐렴\\n사망률은\\n위를\\n위로 전년보다\\n이래\\n울산\\n연령표준화\\n단계\\n이후\\n연속\\n늘었다 특히\\n질환은\\n베르테르\\n수\\n역시'"
            ],
            "application/vnd.google.colaboratory.intrinsic+json": {
              "type": "string"
            }
          },
          "metadata": {},
          "execution_count": 13
        }
      ]
    },
    {
      "cell_type": "code",
      "source": [
        "keywords.keywords?"
      ],
      "metadata": {
        "id": "R0CRrP0EfAif"
      },
      "execution_count": null,
      "outputs": []
    },
    {
      "cell_type": "code",
      "source": [
        "from summa import keywords # keywords : 영어만 지원\n",
        "print(keywords.keywords(doc, words = 5))\n",
        "#  words = : 몇 단어를 추출할 것인가"
      ],
      "metadata": {
        "colab": {
          "base_uri": "https://localhost:8080/"
        },
        "id": "PTWzpSHHe0tK",
        "outputId": "a4e28b2e-9847-45d7-dc5a-7a5861141010"
      },
      "execution_count": 11,
      "outputs": [
        {
          "output_type": "stream",
          "name": "stdout",
          "text": [
            "명\n",
            "년\n",
            "지난해\n",
            "증가했다\n",
            "만\n"
          ]
        }
      ]
    },
    {
      "cell_type": "code",
      "execution_count": null,
      "metadata": {
        "colab": {
          "base_uri": "https://localhost:8080/"
        },
        "id": "9AqlfmU-sprF",
        "outputId": "ab9bc79d-8a45-430e-a734-88081801f066"
      },
      "outputs": [
        {
          "output_type": "stream",
          "name": "stdout",
          "text": [
            "['명', '년', '지난해', '증가했다', '만']\n"
          ]
        }
      ],
      "source": [
        "# 5개의 키워드 추출 \n",
        "print(keywords.keywords(doc, words=5).split('\\n'))"
      ]
    },
    {
      "cell_type": "code",
      "execution_count": null,
      "metadata": {
        "id": "wFYV-CJXt46C",
        "colab": {
          "base_uri": "https://localhost:8080/"
        },
        "outputId": "a68fcf3f-140f-42e0-aa72-7f96d3571dc2"
      },
      "outputs": [
        {
          "output_type": "stream",
          "name": "stdout",
          "text": [
            "['명', '년', '지난해', '증가했다', '만', '사망자', '사망률', '의한', '보면', '명으로', '등', '자살이', '알츠하이머병', '사망원인 순위', '전년보다', '인구', '폐렴', '사망률은']\n"
          ]
        }
      ],
      "source": [
        "# 상위 10% 키워드 추출 \n",
        "print(keywords.keywords(doc, ratio=0.1).split('\\n'))\n",
        "# ratio= 상위 % 추출, 10% = 0.1"
      ]
    },
    {
      "cell_type": "code",
      "execution_count": null,
      "metadata": {
        "id": "RjznWfGVstaf",
        "colab": {
          "base_uri": "https://localhost:8080/"
        },
        "outputId": "d43636b7-d347-46d0-f9a4-70b598b75af7"
      },
      "outputs": [
        {
          "output_type": "stream",
          "name": "stdout",
          "text": [
            "[('명', 0.45493492498930727), ('년', 0.3363613437005727), ('지난해', 0.22364376067019298), ('증가했다', 0.14770716913355134), ('만', 0.13634980134833266), ('사망자', 0.13380506392544228), ('사망률', 0.1285497030598473), ('의한', 0.12717281046486362), ('보면', 0.12087663078120903), ('명으로', 0.11400672288497654)]\n"
          ]
        }
      ],
      "source": [
        "# 5개의 키워드와 각 단어의 중요도 출력\n",
        "print(keywords.keywords(doc, words=10, scores=True))\n",
        "# scores=True : 수치 확인하려면 True"
      ]
    },
    {
      "cell_type": "markdown",
      "metadata": {
        "id": "c5u9KBwit2Hl"
      },
      "source": [
        "## Text rank를 활용한  문서요약"
      ]
    },
    {
      "cell_type": "markdown",
      "metadata": {
        "id": "UMWZdGFCeOJf"
      },
      "source": [
        "- 문서요약이란?   \n",
        "문서 요약은 문서에서 중요한 문장을 자동으로 추출하는 과정입니다.   \n",
        "\n",
        "- Text rank를 활용한 문서요약  \n",
        "문장의 중요성을 그래프 기반 랭킹모델로 판단하는 모델입니다. "
      ]
    },
    {
      "cell_type": "markdown",
      "metadata": {
        "id": "49uUZIHnfTSC"
      },
      "source": [
        "![image.png](data:image/png;base64,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)"
      ]
    },
    {
      "cell_type": "code",
      "execution_count": null,
      "metadata": {
        "id": "vPYcOSnXq-WO",
        "colab": {
          "base_uri": "https://localhost:8080/"
        },
        "outputId": "871a27e8-d06e-4225-c4e4-fccd3a03165d"
      },
      "outputs": [
        {
          "output_type": "execute_result",
          "data": {
            "text/plain": [
              "[\"■작년 사망자 29만 8820명, 역대 최다 24일 통계청이 발표한 '2018년 사망원인통계'를 보면 지난해 총 사망자 수는 전년 대비 4.7%(1만 3286명) 증가한 29만 8820명으로 관련 통계를 작성한 1983년 이후 가장 많았으며, 5년 연속 증가세를 보였다.\",\n",
              " '지난해 조사망률(인구 10만 명당 사망자 수) 역시 582.5명으로 전년보다 4.5%(25.1명) 증가해 5년 연속 늘었다.',\n",
              " '■폐렴·알츠하이머병 사망률 순위 ‘껑충’ 사망원인별로 보면 지난해 암(악성신생물)에 의한 사망률(이하 인구 10만 명당 사망자 수)은 154.3명으로 전년보다 0.2% 증가했다.',\n",
              " '■자살률 5년 만에 증가…\"베르테르 효과 영향\" 지난해 자살에 의한 사망자는 1만 3670명으로 전년보다 9.7%(1207명) 증가했다.']"
            ]
          },
          "metadata": {},
          "execution_count": 26
        }
      ],
      "source": [
        "from summa.summarizer import summarize # summarize: 요약함수\n",
        "\n",
        "summarize(doc).split('\\n')\n",
        "# 있는 문장 그대로 가져온다, taxt rank에서 상위에 랭크된 문장들을 가져온 것, fitting 없이 바로 출력된다(라이브러리 내 알고리즘이 있음)"
      ]
    },
    {
      "cell_type": "code",
      "execution_count": null,
      "metadata": {
        "id": "sWIrmSpDr2YX",
        "colab": {
          "base_uri": "https://localhost:8080/",
          "height": 54
        },
        "outputId": "c581bdce-5809-45ab-887e-8b2c40d07eac"
      },
      "outputs": [
        {
          "output_type": "execute_result",
          "data": {
            "text/plain": [
              "'지난해 조사망률(인구 10만 명당 사망자 수) 역시 582.5명으로 전년보다 4.5%(25.1명) 증가해 5년 연속 늘었다.\\n■폐렴·알츠하이머병 사망률 순위 ‘껑충’ 사망원인별로 보면 지난해 암(악성신생물)에 의한 사망률(이하 인구 10만 명당 사망자 수)은 154.3명으로 전년보다 0.2% 증가했다.'"
            ],
            "application/vnd.google.colaboratory.intrinsic+json": {
              "type": "string"
            }
          },
          "metadata": {},
          "execution_count": 27
        }
      ],
      "source": [
        "# 중요도 상위 10% 문장\n",
        "summarize(doc, ratio = 0.1)\n",
        "# 상위 : ratio = "
      ]
    },
    {
      "cell_type": "code",
      "execution_count": null,
      "metadata": {
        "id": "xMod3VAZr8mE",
        "colab": {
          "base_uri": "https://localhost:8080/",
          "height": 36
        },
        "outputId": "252ce1df-5201-4110-d83c-45fe99bbcbd9"
      },
      "outputs": [
        {
          "output_type": "execute_result",
          "data": {
            "text/plain": [
              "'지난해 조사망률(인구 10만 명당 사망자 수) 역시 582.5명으로 전년보다 4.5%(25.1명) 증가해 5년 연속 늘었다.'"
            ],
            "application/vnd.google.colaboratory.intrinsic+json": {
              "type": "string"
            }
          },
          "metadata": {},
          "execution_count": 31
        }
      ],
      "source": [
        "# 단어 개수로 설정\n",
        "summarize(doc, words = 20)\n",
        "# 단어 개수 : words ="
      ]
    },
    {
      "cell_type": "code",
      "execution_count": null,
      "metadata": {
        "id": "BDXlKb1WnBQw",
        "colab": {
          "base_uri": "https://localhost:8080/",
          "height": 72
        },
        "outputId": "a69acf56-340e-47d2-d077-f5c696a3bc8a"
      },
      "outputs": [
        {
          "output_type": "execute_result",
          "data": {
            "text/plain": [
              "'지난해 조사망률(인구 10만 명당 사망자 수) 역시 582.5명으로 전년보다 4.5%(25.1명) 증가해 5년 연속 늘었다.\\n■폐렴·알츠하이머병 사망률 순위 ‘껑충’ 사망원인별로 보면 지난해 암(악성신생물)에 의한 사망률(이하 인구 10만 명당 사망자 수)은 154.3명으로 전년보다 0.2% 증가했다.\\n■자살률 5년 만에 증가…\"베르테르 효과 영향\" 지난해 자살에 의한 사망자는 1만 3670명으로 전년보다 9.7%(1207명) 증가했다.'"
            ],
            "application/vnd.google.colaboratory.intrinsic+json": {
              "type": "string"
            }
          },
          "metadata": {},
          "execution_count": 32
        }
      ],
      "source": [
        "# 단어 개수로 설정\n",
        "summarize(doc, words = 50)"
      ]
    },
    {
      "cell_type": "code",
      "execution_count": null,
      "metadata": {
        "id": "-itpkQxHnGNt",
        "colab": {
          "base_uri": "https://localhost:8080/"
        },
        "outputId": "053febc5-b99a-4882-c90a-d32aa8715729"
      },
      "outputs": [
        {
          "output_type": "stream",
          "name": "stdout",
          "text": [
            "AI Hub에서 제공하는 사람이 생성한 요약문 :\n",
            " 통계청이 발표한 '2018년 사망원인통계'를 보면 지난해 총 사망자 수는 관련 통계를 작성한 이래 가장 많았으며 사망 원인 중 폐렴과 알츠하이머 병의 순위 상승이 두드러졌고 자살에 의한 사망자도 증가했다. \n",
            "\n",
            "-------------\n",
            "\n",
            "텍스트 랭크 모델을 사용한 요약문 :\n",
            " 지난해 조사망률(인구 10만 명당 사망자 수) 역시 582.5명으로 전년보다 4.5%(25.1명) 증가해 5년 연속 늘었다.\n",
            "■폐렴·알츠하이머병 사망률 순위 ‘껑충’ 사망원인별로 보면 지난해 암(악성신생물)에 의한 사망률(이하 인구 10만 명당 사망자 수)은 154.3명으로 전년보다 0.2% 증가했다.\n",
            "■자살률 5년 만에 증가…\"베르테르 효과 영향\" 지난해 자살에 의한 사망자는 1만 3670명으로 전년보다 9.7%(1207명) 증가했다.\n"
          ]
        }
      ],
      "source": [
        "# AIHub에서 생성한 요약문과 비교하여 보면, \n",
        "print('AI Hub에서 제공하는 사람이 생성한 요약문 :\\n',df_news['abstractive'].iloc[0])\n",
        "print('\\n-------------\\n')\n",
        "print('텍스트 랭크 모델을 사용한 요약문 :\\n',summarize(doc, words = 50))"
      ]
    },
    {
      "cell_type": "markdown",
      "metadata": {
        "id": "i3Xlhu_wnzKX"
      },
      "source": [
        "핵심 정보인 \n",
        "- 사망 원인 중 폐렴과 알츠하이머 병의 순위상승\n",
        "- 자살로 인한 사망자 증가\n",
        "가 두 요약문 모두에 포함되어 있는 것을 확인할 수 있다"
      ]
    }
  ],
  "metadata": {
    "colab": {
      "provenance": [],
      "include_colab_link": true
    },
    "kernelspec": {
      "display_name": "Python 3",
      "name": "python3"
    }
  },
  "nbformat": 4,
  "nbformat_minor": 0
}
