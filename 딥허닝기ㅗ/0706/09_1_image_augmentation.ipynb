{
  "cells": [
    {
      "cell_type": "markdown",
      "metadata": {
        "id": "view-in-github",
        "colab_type": "text"
      },
      "source": [
        "<a href=\"https://colab.research.google.com/github/guscldns/TestProject/blob/main/0706/09_1_image_augmentation.ipynb\" target=\"_parent\"><img src=\"https://colab.research.google.com/assets/colab-badge.svg\" alt=\"Open In Colab\"/></a>"
      ]
    },
    {
      "cell_type": "markdown",
      "source": [
        "# Image Augmentation(증강)"
      ],
      "metadata": {
        "id": "EVJUDU2-lZ0P"
      }
    },
    {
      "cell_type": "code",
      "source": [
        "import os\n",
        "\n",
        "import cv2\n",
        "import numpy as np\n",
        "\n",
        "from matplotlib import pyplot as plt\n",
        "import matplotlib.cm as cm\n",
        "\n",
        "import tensorflow as tf\n",
        "from tensorflow.keras.preprocessing.image import ImageDataGenerator, array_to_img, img_to_array, load_img\n",
        "\n",
        "import pickle\n",
        "from tqdm.notebook import tqdm"
      ],
      "metadata": {
        "id": "XqG8cHtSlh4F"
      },
      "execution_count": null,
      "outputs": []
    },
    {
      "cell_type": "markdown",
      "source": [
        "## Download Dataset(데이터셋 다운로드받기)"
      ],
      "metadata": {
        "id": "0wXWOVofrtcA"
      }
    },
    {
      "cell_type": "code",
      "source": [
        "!pip install --upgrade --no-cache-dir gdown"
      ],
      "metadata": {
        "colab": {
          "base_uri": "https://localhost:8080/"
        },
        "id": "PV4LR9askTm0",
        "outputId": "eab0415e-3c8b-476a-aa1f-39bdcc4ee7bd"
      },
      "execution_count": null,
      "outputs": [
        {
          "output_type": "stream",
          "name": "stdout",
          "text": [
            "Requirement already satisfied: gdown in /usr/local/lib/python3.10/dist-packages (4.6.6)\n",
            "Collecting gdown\n",
            "  Downloading gdown-4.7.1-py3-none-any.whl (15 kB)\n",
            "Requirement already satisfied: filelock in /usr/local/lib/python3.10/dist-packages (from gdown) (3.12.2)\n",
            "Requirement already satisfied: requests[socks] in /usr/local/lib/python3.10/dist-packages (from gdown) (2.27.1)\n",
            "Requirement already satisfied: six in /usr/local/lib/python3.10/dist-packages (from gdown) (1.16.0)\n",
            "Requirement already satisfied: tqdm in /usr/local/lib/python3.10/dist-packages (from gdown) (4.65.0)\n",
            "Requirement already satisfied: beautifulsoup4 in /usr/local/lib/python3.10/dist-packages (from gdown) (4.11.2)\n",
            "Requirement already satisfied: soupsieve>1.2 in /usr/local/lib/python3.10/dist-packages (from beautifulsoup4->gdown) (2.4.1)\n",
            "Requirement already satisfied: urllib3<1.27,>=1.21.1 in /usr/local/lib/python3.10/dist-packages (from requests[socks]->gdown) (1.26.16)\n",
            "Requirement already satisfied: certifi>=2017.4.17 in /usr/local/lib/python3.10/dist-packages (from requests[socks]->gdown) (2023.5.7)\n",
            "Requirement already satisfied: charset-normalizer~=2.0.0 in /usr/local/lib/python3.10/dist-packages (from requests[socks]->gdown) (2.0.12)\n",
            "Requirement already satisfied: idna<4,>=2.5 in /usr/local/lib/python3.10/dist-packages (from requests[socks]->gdown) (3.4)\n",
            "Requirement already satisfied: PySocks!=1.5.7,>=1.5.6 in /usr/local/lib/python3.10/dist-packages (from requests[socks]->gdown) (1.7.1)\n",
            "Installing collected packages: gdown\n",
            "  Attempting uninstall: gdown\n",
            "    Found existing installation: gdown 4.6.6\n",
            "    Uninstalling gdown-4.6.6:\n",
            "      Successfully uninstalled gdown-4.6.6\n",
            "Successfully installed gdown-4.7.1\n"
          ]
        }
      ]
    },
    {
      "cell_type": "code",
      "source": [
        "# x_train\n",
        "!gdown 1uKn5KmcXMv4QUaIPz7wcc-my1mY1qrkk\n",
        "\n",
        "# y_train\n",
        "!gdown 11vtzegsqPhaLUMUhvkZ9lUNWDvcPWSVS"
      ],
      "metadata": {
        "colab": {
          "base_uri": "https://localhost:8080/"
        },
        "outputId": "11c11017-8a51-4dc1-9de2-c158e24ec442",
        "id": "l6oAWsJuk-LG"
      },
      "execution_count": null,
      "outputs": [
        {
          "output_type": "stream",
          "name": "stdout",
          "text": [
            "Downloading...\n",
            "From (uriginal): https://drive.google.com/uc?id=1uKn5KmcXMv4QUaIPz7wcc-my1mY1qrkk\n",
            "From (redirected): https://drive.google.com/uc?id=1uKn5KmcXMv4QUaIPz7wcc-my1mY1qrkk&confirm=t&uuid=02a7706d-92a9-4bf5-97ae-632ee9096a4d\n",
            "To: /content/x_train.pickle\n",
            "100% 779M/779M [00:04<00:00, 178MB/s]\n",
            "Downloading...\n",
            "From: https://drive.google.com/uc?id=11vtzegsqPhaLUMUhvkZ9lUNWDvcPWSVS\n",
            "To: /content/y_train.pickle\n",
            "100% 41.5k/41.5k [00:00<00:00, 113MB/s]\n"
          ]
        }
      ]
    },
    {
      "cell_type": "code",
      "source": [
        "with open('x_train.pickle', 'rb') as f:\n",
        "    x_train = pickle.load(f)\n",
        "\n",
        "with open('y_train.pickle', 'rb') as f:\n",
        "    y_train = pickle.load(f)"
      ],
      "metadata": {
        "id": "0hsZeufkk-LG"
      },
      "execution_count": null,
      "outputs": []
    },
    {
      "cell_type": "code",
      "source": [
        "x_train.shape, y_train.shape"
      ],
      "metadata": {
        "colab": {
          "base_uri": "https://localhost:8080/"
        },
        "id": "eGV4U8dIjv3-",
        "outputId": "b76ad52f-2640-4872-e527-c89d7534607e"
      },
      "execution_count": null,
      "outputs": [
        {
          "output_type": "execute_result",
          "data": {
            "text/plain": [
              "((5174, 224, 224, 3), (5174,))"
            ]
          },
          "metadata": {},
          "execution_count": 5
        }
      ]
    },
    {
      "cell_type": "markdown",
      "source": [
        "## Trainset Augmentation"
      ],
      "metadata": {
        "id": "CzZgqpGxvS41"
      }
    },
    {
      "cell_type": "code",
      "source": [
        "# 훈련데이터 검증(Augmentation)\n",
        "# ImageDataGenerator : 데이터를 가지고 와서 모델에게 붙일 때 사용하는 라이브러리\n",
        "datagen = ImageDataGenerator(\n",
        "    rotation_range=40,\n",
        "    # 회전\n",
        "    width_shift_range=0.2,\n",
        "    # 수평 방향으로 이동\n",
        "    height_shift_range=0.2,\n",
        "    # 수직 방향으로 이동\n",
        "    shear_range=0.2,\n",
        "    # 사다리꼴로 기울임\n",
        "    zoom_range=0.2,\n",
        "    # 크고 작게\n",
        "    horizontal_flip=True,\n",
        "    # 수평 뒤집기\n",
        "    vertical_flip=True,\n",
        "    # 수직 뒤집기\n",
        ")"
      ],
      "metadata": {
        "id": "0Gb8SnzRvV1i"
      },
      "execution_count": null,
      "outputs": []
    },
    {
      "cell_type": "markdown",
      "source": [
        "ImageDataGenerator에는 아래와 같은 주요 어그멘테이션 함수가 있다.\n",
        "- flow() : 4차원 numpy array를 입력받아 데이터 생성\n",
        "    - 변수에 들어있는 4차원 numpy array 데이터를 가져와서 데이터 생성\n",
        "    - 4차원 = 데이터 배치 개수, width, height, chanel\n",
        "- flow_from_dataframe() : 데이터프레임에서 이미지 경로와 해당 이미지의 라벨을 입력받아 데이터 생성\n",
        "    - 전제 : 데이터프레임에서 이미 이미지 경로/ 이미지 라벨이 정리된 상태\n",
        "    - CSV 파일인 경우에도 사용 가능\n",
        "    - 이미지 파일 이름/ 이미지 라벨만 정제된 상태라면 이미지 경로를 붙여줘야 한다 (특정 컬럼을 일괄 수정하는 방법은 pandas에 있음)\n",
        "    - 장점: 레포지터리에 들어있다면 저장공간만 사용하고 램은 사용하지 않는다\n",
        "        - 변수에 데이터가 있다 = 램을 사용한다\n",
        "- flow_from_directory() : 디렉토리에서 하위 디렉토리(폴더)를 라벨로, 그 하위 파일들을 해당 라벨의 이미지라고 간주하여 라벨과 이미지를 입력받아 데이터 생성 (*아래 첨부 이미지 참고)\n",
        "    -"
      ],
      "metadata": {
        "id": "erCPU5uYXlcq"
      }
    },
    {
      "cell_type": "markdown",
      "source": [
        "![image.png](data:image/png;base64,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)"
      ],
      "metadata": {
        "id": "eULqCmZObHeL"
      }
    },
    {
      "cell_type": "markdown",
      "source": [
        "아래 코드에서는 flow()를 이용한다."
      ],
      "metadata": {
        "id": "Vs7iVIDQbHTE"
      }
    },
    {
      "cell_type": "code",
      "source": [
        "index2label = {0:'airplane', 1:'car', 2:'cat', 3:'dog',\n",
        "               4:'flower', 5:'fruit', 6:'motorbike', 7:'person'}"
      ],
      "metadata": {
        "id": "2BmhtortpqzB"
      },
      "execution_count": null,
      "outputs": []
    },
    {
      "cell_type": "code",
      "source": [
        "# !rm -r /content/car # -r : recursive(하위 디렉토리, 파일까지 삭제)\n",
        "# !rm -r /content/fruit"
      ],
      "metadata": {
        "id": "Ka0yv6FBwOK0"
      },
      "execution_count": null,
      "outputs": []
    },
    {
      "cell_type": "code",
      "source": [
        "os.mkdir('/content/aumented')\n",
        "for label in index2label.values():\n",
        "    dir_path = '/content/aumented/'+ label\n",
        "    os.mkdir(dir_path)"
      ],
      "metadata": {
        "id": "m0I4FX9bu-KD",
        "colab": {
          "base_uri": "https://localhost:8080/",
          "height": 225
        },
        "outputId": "f0e6f2e6-305d-48b0-fff4-4abbe848a2a9"
      },
      "execution_count": null,
      "outputs": [
        {
          "output_type": "error",
          "ename": "FileExistsError",
          "evalue": "ignored",
          "traceback": [
            "\u001b[0;31m---------------------------------------------------------------------------\u001b[0m",
            "\u001b[0;31mFileExistsError\u001b[0m                           Traceback (most recent call last)",
            "\u001b[0;32m<ipython-input-14-24bfc9ae5045>\u001b[0m in \u001b[0;36m<module>\u001b[0;34m\u001b[0m\n\u001b[0;32m----> 1\u001b[0;31m \u001b[0mos\u001b[0m\u001b[0;34m.\u001b[0m\u001b[0mmkdir\u001b[0m\u001b[0;34m(\u001b[0m\u001b[0;34m'/content/aumented'\u001b[0m\u001b[0;34m)\u001b[0m\u001b[0;34m\u001b[0m\u001b[0;34m\u001b[0m\u001b[0m\n\u001b[0m\u001b[1;32m      2\u001b[0m \u001b[0;32mfor\u001b[0m \u001b[0mlabel\u001b[0m \u001b[0;32min\u001b[0m \u001b[0mindex2label\u001b[0m\u001b[0;34m.\u001b[0m\u001b[0mvalues\u001b[0m\u001b[0;34m(\u001b[0m\u001b[0;34m)\u001b[0m\u001b[0;34m:\u001b[0m\u001b[0;34m\u001b[0m\u001b[0;34m\u001b[0m\u001b[0m\n\u001b[1;32m      3\u001b[0m     \u001b[0mdir_path\u001b[0m \u001b[0;34m=\u001b[0m \u001b[0;34m'/content/aumented/'\u001b[0m\u001b[0;34m+\u001b[0m \u001b[0mlabel\u001b[0m\u001b[0;34m\u001b[0m\u001b[0;34m\u001b[0m\u001b[0m\n\u001b[1;32m      4\u001b[0m     \u001b[0mos\u001b[0m\u001b[0;34m.\u001b[0m\u001b[0mmkdir\u001b[0m\u001b[0;34m(\u001b[0m\u001b[0mdir_path\u001b[0m\u001b[0;34m)\u001b[0m\u001b[0;34m\u001b[0m\u001b[0;34m\u001b[0m\u001b[0m\n",
            "\u001b[0;31mFileExistsError\u001b[0m: [Errno 17] File exists: '/content/aumented'"
          ]
        }
      ]
    },
    {
      "cell_type": "code",
      "source": [
        "x_train, y_train = list(x_train), list(y_train)\n",
        "x_augmented, y_augmented = [], []"
      ],
      "metadata": {
        "id": "ru_WQKW4TjRn"
      },
      "execution_count": null,
      "outputs": []
    },
    {
      "cell_type": "code",
      "source": [
        "aug_cnt = 1\n",
        "\n",
        "for img, label_idx in zip(tqdm(x_train), y_train):\n",
        "    x = img_to_array(img)\n",
        "    x = x.reshape((1,) + x.shape)\n",
        "    # x.shape = tuple 형태, shape는 array라서 가능, 튜플끼리 덧셈도 가능\n",
        "    # reshape : size를 변경하지 않는 범위 내에서 shape를 변환시켜주는 함수, size를 바꿀 수는 없다\n",
        "    # resize : size 변환\n",
        "\n",
        "    label = index2label[label_idx] # 경로 핸들링 위함\n",
        "    # label2index : 라벨을 인덱스로 변경\n",
        "    # index2label : 경로 핸들링 위함\n",
        "    dir_path = '/content/aumented/'+ label\n",
        "\n",
        "    i = 0\n",
        "    # flow : augmentation 함수\n",
        "    # batch에 flow된 데이터가 들어감\n",
        "    for batch in datagen.flow(x, batch_size=1,\n",
        "                            save_to_dir=dir_path, save_prefix=label, save_format='jpg'):\n",
        "\n",
        "        # x : 4차원\n",
        "        # save_to_dir=dir_path : flow를 실행시키면 dir_path에 augmentation한 결과 저장해주겠다\n",
        "        # save_prefix=label: 저장할 때 파일명 앞에 라벨을 붙여주겠다\n",
        "        x_augmented.append(batch[0])\n",
        "        # x_augmented 변수에도 저장(선택), batch[0] : 4차원이라서 0번째 값 저장\n",
        "        y_augmented.append(label_idx)\n",
        "        # label_idx : 라벨로 바꾸기 전 숫자를 저장\n",
        "        i += 1\n",
        "        if i == aug_cnt: # while문 처럼 쓴 이유 : flow 돌리면 계속 돌아가서 멈추는 시점 정해줘야 한다\n",
        "            # aug_cnt =1 이라서 1장 저장\n",
        "            break\n",
        "\n"
      ],
      "metadata": {
        "id": "G1AXSk20M__G",
        "colab": {
          "base_uri": "https://localhost:8080/",
          "height": 49,
          "referenced_widgets": [
            "5c31ac25be0b4f77b24755523f8c74fa",
            "23e2fd0e20114194b4714c616c1b1c78",
            "f24275067ea5450dac57eadf4ce7849b",
            "59e4a7f0eadd4ef0b2b8fc3e3769c850",
            "326a7ad9c52e4262bf254d7076aaa13d",
            "d3fe693e361142ba89f43c49df6b2aea",
            "12e8b88ff1c24f84900d59872586dd5b",
            "3b43ea68161e4e3ea43d730cc240aff4",
            "f5f273a0832e4316b39715163a1686c8",
            "f3bf50a625294d41baf09262dfa15163",
            "f2f709358cad48adbd29e86196634569"
          ]
        },
        "outputId": "4d5dd476-037d-4973-9145-9cdc581b50df"
      },
      "execution_count": null,
      "outputs": [
        {
          "output_type": "display_data",
          "data": {
            "text/plain": [
              "  0%|          | 0/5174 [00:00<?, ?it/s]"
            ],
            "application/vnd.jupyter.widget-view+json": {
              "version_major": 2,
              "version_minor": 0,
              "model_id": "5c31ac25be0b4f77b24755523f8c74fa"
            }
          },
          "metadata": {}
        }
      ]
    },
    {
      "cell_type": "code",
      "source": [
        "x_train += x_augmented\n",
        "y_train += y_augmented"
      ],
      "metadata": {
        "id": "PKqL-MTVWNw_"
      },
      "execution_count": null,
      "outputs": []
    },
    {
      "cell_type": "code",
      "source": [
        "x_train, y_train = np.array(x_train), np.array(y_train)"
      ],
      "metadata": {
        "id": "f3yjjNl4WUOp"
      },
      "execution_count": null,
      "outputs": []
    },
    {
      "cell_type": "code",
      "source": [
        "x_train.shape, y_train.shape"
      ],
      "metadata": {
        "id": "llHV0bQsF9j_",
        "colab": {
          "base_uri": "https://localhost:8080/"
        },
        "outputId": "8dbee47c-14b5-4661-d1ec-183b7438dc1a"
      },
      "execution_count": null,
      "outputs": [
        {
          "output_type": "execute_result",
          "data": {
            "text/plain": [
              "((10348, 224, 224, 3), (10348,))"
            ]
          },
          "metadata": {},
          "execution_count": 19
        }
      ]
    },
    {
      "cell_type": "markdown",
      "source": [
        "## 데이터 저장"
      ],
      "metadata": {
        "id": "Wyr2TIQhlpuX"
      }
    },
    {
      "cell_type": "code",
      "source": [
        "from google.colab import drive\n",
        "drive.mount('/content/drive')"
      ],
      "metadata": {
        "colab": {
          "base_uri": "https://localhost:8080/"
        },
        "id": "CjH_Y0SAkDhH",
        "outputId": "e98dde66-1ed0-4b2e-e568-e21eeda7629b"
      },
      "execution_count": null,
      "outputs": [
        {
          "output_type": "stream",
          "name": "stdout",
          "text": [
            "Mounted at /content/drive\n"
          ]
        }
      ]
    },
    {
      "cell_type": "code",
      "source": [
        "# 각자 원하는 드라이브 경로에 맞게 수정합시다.\n",
        "folder_path = '/content/drive/MyDrive/LectureSpace/OpenDataset/pre_natural_imgs/'"
      ],
      "metadata": {
        "id": "5MKpUqxSkfWa"
      },
      "execution_count": null,
      "outputs": []
    },
    {
      "cell_type": "code",
      "source": [
        "with open(folder_path+'x_train_aug.pickle', 'wb') as f:\n",
        "    pickle.dump(x_train, f)"
      ],
      "metadata": {
        "id": "uzyRkknWlpP9"
      },
      "execution_count": null,
      "outputs": []
    },
    {
      "cell_type": "code",
      "source": [
        "with open(folder_path+'y_train_aug.pickle', 'wb') as f:\n",
        "    pickle.dump(y_train, f)"
      ],
      "metadata": {
        "id": "zHx1muqvkt8c"
      },
      "execution_count": null,
      "outputs": []
    }
  ],
  "metadata": {
    "colab": {
      "provenance": [],
      "machine_shape": "hm",
      "include_colab_link": true
    },
    "kernelspec": {
      "display_name": "Python 3",
      "name": "python3"
    },
    "language_info": {
      "name": "python"
    },
    "accelerator": "GPU",
    "gpuClass": "standard",
    "widgets": {
      "application/vnd.jupyter.widget-state+json": {
        "5c31ac25be0b4f77b24755523f8c74fa": {
          "model_module": "@jupyter-widgets/controls",
          "model_name": "HBoxModel",
          "model_module_version": "1.5.0",
          "state": {
            "_dom_classes": [],
            "_model_module": "@jupyter-widgets/controls",
            "_model_module_version": "1.5.0",
            "_model_name": "HBoxModel",
            "_view_count": null,
            "_view_module": "@jupyter-widgets/controls",
            "_view_module_version": "1.5.0",
            "_view_name": "HBoxView",
            "box_style": "",
            "children": [
              "IPY_MODEL_23e2fd0e20114194b4714c616c1b1c78",
              "IPY_MODEL_f24275067ea5450dac57eadf4ce7849b",
              "IPY_MODEL_59e4a7f0eadd4ef0b2b8fc3e3769c850"
            ],
            "layout": "IPY_MODEL_326a7ad9c52e4262bf254d7076aaa13d"
          }
        },
        "23e2fd0e20114194b4714c616c1b1c78": {
          "model_module": "@jupyter-widgets/controls",
          "model_name": "HTMLModel",
          "model_module_version": "1.5.0",
          "state": {
            "_dom_classes": [],
            "_model_module": "@jupyter-widgets/controls",
            "_model_module_version": "1.5.0",
            "_model_name": "HTMLModel",
            "_view_count": null,
            "_view_module": "@jupyter-widgets/controls",
            "_view_module_version": "1.5.0",
            "_view_name": "HTMLView",
            "description": "",
            "description_tooltip": null,
            "layout": "IPY_MODEL_d3fe693e361142ba89f43c49df6b2aea",
            "placeholder": "​",
            "style": "IPY_MODEL_12e8b88ff1c24f84900d59872586dd5b",
            "value": "100%"
          }
        },
        "f24275067ea5450dac57eadf4ce7849b": {
          "model_module": "@jupyter-widgets/controls",
          "model_name": "FloatProgressModel",
          "model_module_version": "1.5.0",
          "state": {
            "_dom_classes": [],
            "_model_module": "@jupyter-widgets/controls",
            "_model_module_version": "1.5.0",
            "_model_name": "FloatProgressModel",
            "_view_count": null,
            "_view_module": "@jupyter-widgets/controls",
            "_view_module_version": "1.5.0",
            "_view_name": "ProgressView",
            "bar_style": "success",
            "description": "",
            "description_tooltip": null,
            "layout": "IPY_MODEL_3b43ea68161e4e3ea43d730cc240aff4",
            "max": 5174,
            "min": 0,
            "orientation": "horizontal",
            "style": "IPY_MODEL_f5f273a0832e4316b39715163a1686c8",
            "value": 5174
          }
        },
        "59e4a7f0eadd4ef0b2b8fc3e3769c850": {
          "model_module": "@jupyter-widgets/controls",
          "model_name": "HTMLModel",
          "model_module_version": "1.5.0",
          "state": {
            "_dom_classes": [],
            "_model_module": "@jupyter-widgets/controls",
            "_model_module_version": "1.5.0",
            "_model_name": "HTMLModel",
            "_view_count": null,
            "_view_module": "@jupyter-widgets/controls",
            "_view_module_version": "1.5.0",
            "_view_name": "HTMLView",
            "description": "",
            "description_tooltip": null,
            "layout": "IPY_MODEL_f3bf50a625294d41baf09262dfa15163",
            "placeholder": "​",
            "style": "IPY_MODEL_f2f709358cad48adbd29e86196634569",
            "value": " 5174/5174 [01:08&lt;00:00, 83.77it/s]"
          }
        },
        "326a7ad9c52e4262bf254d7076aaa13d": {
          "model_module": "@jupyter-widgets/base",
          "model_name": "LayoutModel",
          "model_module_version": "1.2.0",
          "state": {
            "_model_module": "@jupyter-widgets/base",
            "_model_module_version": "1.2.0",
            "_model_name": "LayoutModel",
            "_view_count": null,
            "_view_module": "@jupyter-widgets/base",
            "_view_module_version": "1.2.0",
            "_view_name": "LayoutView",
            "align_content": null,
            "align_items": null,
            "align_self": null,
            "border": null,
            "bottom": null,
            "display": null,
            "flex": null,
            "flex_flow": null,
            "grid_area": null,
            "grid_auto_columns": null,
            "grid_auto_flow": null,
            "grid_auto_rows": null,
            "grid_column": null,
            "grid_gap": null,
            "grid_row": null,
            "grid_template_areas": null,
            "grid_template_columns": null,
            "grid_template_rows": null,
            "height": null,
            "justify_content": null,
            "justify_items": null,
            "left": null,
            "margin": null,
            "max_height": null,
            "max_width": null,
            "min_height": null,
            "min_width": null,
            "object_fit": null,
            "object_position": null,
            "order": null,
            "overflow": null,
            "overflow_x": null,
            "overflow_y": null,
            "padding": null,
            "right": null,
            "top": null,
            "visibility": null,
            "width": null
          }
        },
        "d3fe693e361142ba89f43c49df6b2aea": {
          "model_module": "@jupyter-widgets/base",
          "model_name": "LayoutModel",
          "model_module_version": "1.2.0",
          "state": {
            "_model_module": "@jupyter-widgets/base",
            "_model_module_version": "1.2.0",
            "_model_name": "LayoutModel",
            "_view_count": null,
            "_view_module": "@jupyter-widgets/base",
            "_view_module_version": "1.2.0",
            "_view_name": "LayoutView",
            "align_content": null,
            "align_items": null,
            "align_self": null,
            "border": null,
            "bottom": null,
            "display": null,
            "flex": null,
            "flex_flow": null,
            "grid_area": null,
            "grid_auto_columns": null,
            "grid_auto_flow": null,
            "grid_auto_rows": null,
            "grid_column": null,
            "grid_gap": null,
            "grid_row": null,
            "grid_template_areas": null,
            "grid_template_columns": null,
            "grid_template_rows": null,
            "height": null,
            "justify_content": null,
            "justify_items": null,
            "left": null,
            "margin": null,
            "max_height": null,
            "max_width": null,
            "min_height": null,
            "min_width": null,
            "object_fit": null,
            "object_position": null,
            "order": null,
            "overflow": null,
            "overflow_x": null,
            "overflow_y": null,
            "padding": null,
            "right": null,
            "top": null,
            "visibility": null,
            "width": null
          }
        },
        "12e8b88ff1c24f84900d59872586dd5b": {
          "model_module": "@jupyter-widgets/controls",
          "model_name": "DescriptionStyleModel",
          "model_module_version": "1.5.0",
          "state": {
            "_model_module": "@jupyter-widgets/controls",
            "_model_module_version": "1.5.0",
            "_model_name": "DescriptionStyleModel",
            "_view_count": null,
            "_view_module": "@jupyter-widgets/base",
            "_view_module_version": "1.2.0",
            "_view_name": "StyleView",
            "description_width": ""
          }
        },
        "3b43ea68161e4e3ea43d730cc240aff4": {
          "model_module": "@jupyter-widgets/base",
          "model_name": "LayoutModel",
          "model_module_version": "1.2.0",
          "state": {
            "_model_module": "@jupyter-widgets/base",
            "_model_module_version": "1.2.0",
            "_model_name": "LayoutModel",
            "_view_count": null,
            "_view_module": "@jupyter-widgets/base",
            "_view_module_version": "1.2.0",
            "_view_name": "LayoutView",
            "align_content": null,
            "align_items": null,
            "align_self": null,
            "border": null,
            "bottom": null,
            "display": null,
            "flex": null,
            "flex_flow": null,
            "grid_area": null,
            "grid_auto_columns": null,
            "grid_auto_flow": null,
            "grid_auto_rows": null,
            "grid_column": null,
            "grid_gap": null,
            "grid_row": null,
            "grid_template_areas": null,
            "grid_template_columns": null,
            "grid_template_rows": null,
            "height": null,
            "justify_content": null,
            "justify_items": null,
            "left": null,
            "margin": null,
            "max_height": null,
            "max_width": null,
            "min_height": null,
            "min_width": null,
            "object_fit": null,
            "object_position": null,
            "order": null,
            "overflow": null,
            "overflow_x": null,
            "overflow_y": null,
            "padding": null,
            "right": null,
            "top": null,
            "visibility": null,
            "width": null
          }
        },
        "f5f273a0832e4316b39715163a1686c8": {
          "model_module": "@jupyter-widgets/controls",
          "model_name": "ProgressStyleModel",
          "model_module_version": "1.5.0",
          "state": {
            "_model_module": "@jupyter-widgets/controls",
            "_model_module_version": "1.5.0",
            "_model_name": "ProgressStyleModel",
            "_view_count": null,
            "_view_module": "@jupyter-widgets/base",
            "_view_module_version": "1.2.0",
            "_view_name": "StyleView",
            "bar_color": null,
            "description_width": ""
          }
        },
        "f3bf50a625294d41baf09262dfa15163": {
          "model_module": "@jupyter-widgets/base",
          "model_name": "LayoutModel",
          "model_module_version": "1.2.0",
          "state": {
            "_model_module": "@jupyter-widgets/base",
            "_model_module_version": "1.2.0",
            "_model_name": "LayoutModel",
            "_view_count": null,
            "_view_module": "@jupyter-widgets/base",
            "_view_module_version": "1.2.0",
            "_view_name": "LayoutView",
            "align_content": null,
            "align_items": null,
            "align_self": null,
            "border": null,
            "bottom": null,
            "display": null,
            "flex": null,
            "flex_flow": null,
            "grid_area": null,
            "grid_auto_columns": null,
            "grid_auto_flow": null,
            "grid_auto_rows": null,
            "grid_column": null,
            "grid_gap": null,
            "grid_row": null,
            "grid_template_areas": null,
            "grid_template_columns": null,
            "grid_template_rows": null,
            "height": null,
            "justify_content": null,
            "justify_items": null,
            "left": null,
            "margin": null,
            "max_height": null,
            "max_width": null,
            "min_height": null,
            "min_width": null,
            "object_fit": null,
            "object_position": null,
            "order": null,
            "overflow": null,
            "overflow_x": null,
            "overflow_y": null,
            "padding": null,
            "right": null,
            "top": null,
            "visibility": null,
            "width": null
          }
        },
        "f2f709358cad48adbd29e86196634569": {
          "model_module": "@jupyter-widgets/controls",
          "model_name": "DescriptionStyleModel",
          "model_module_version": "1.5.0",
          "state": {
            "_model_module": "@jupyter-widgets/controls",
            "_model_module_version": "1.5.0",
            "_model_name": "DescriptionStyleModel",
            "_view_count": null,
            "_view_module": "@jupyter-widgets/base",
            "_view_module_version": "1.2.0",
            "_view_name": "StyleView",
            "description_width": ""
          }
        }
      }
    }
  },
  "nbformat": 4,
  "nbformat_minor": 0
}
