{
  "cells": [
    {
      "cell_type": "markdown",
      "metadata": {
        "id": "view-in-github",
        "colab_type": "text"
      },
      "source": [
        "<a href=\"https://colab.research.google.com/github/guscldns/TestProject/blob/main/0618/0615_03_Seq2Seq_%EA%B8%B0%EA%B3%84%EB%B2%88%EC%97%AD_%ED%95%9C%EC%98%81(%EC%8B%A4%EC%8A%B5).ipynb\" target=\"_parent\"><img src=\"https://colab.research.google.com/assets/colab-badge.svg\" alt=\"Open In Colab\"/></a>"
      ]
    },
    {
      "cell_type": "markdown",
      "metadata": {
        "id": "q-7w2cIG5HdQ"
      },
      "source": [
        "### 그래프"
      ]
    },
    {
      "cell_type": "code",
      "execution_count": null,
      "metadata": {
        "id": "K57DXqZnmcQE"
      },
      "outputs": [],
      "source": [
        "# 그래프에서 한글표현을 위해 폰트를 설치합니다.\n",
        "!apt-get update -qq\n",
        "!apt-get install fonts-nanum* -qq"
      ]
    },
    {
      "cell_type": "code",
      "execution_count": null,
      "metadata": {
        "colab": {
          "base_uri": "https://localhost:8080/"
        },
        "id": "qFz9tEFJTIp1",
        "outputId": "b9033e15-2d60-4356-d762-254c161e6a94"
      },
      "outputs": [
        {
          "name": "stdout",
          "output_type": "stream",
          "text": [
            "NanumGothic Eco\n"
          ]
        }
      ],
      "source": [
        "import matplotlib.pyplot as plt  # 그래프 그리는 용도\n",
        "import matplotlib.font_manager as fm  # 폰트 관련 용도\n",
        "path = '/usr/share/fonts/truetype/nanum/NanumGothicEco.ttf'  # 설치된 나눔글꼴중 원하는 녀석의 전체 경로를 가져오자\n",
        "font_name = fm.FontProperties(fname=path, size=10).get_name()\n",
        "print(font_name)\n",
        "plt.rc('font', family=font_name)"
      ]
    },
    {
      "cell_type": "code",
      "execution_count": null,
      "metadata": {
        "id": "d5GUyI3zhKj_"
      },
      "outputs": [],
      "source": [
        "plt.plot([1,2])\n",
        "plt.title(\"한글 제목\")"
      ]
    },
    {
      "cell_type": "markdown",
      "metadata": {
        "id": "RO1ah2qN5KO3"
      },
      "source": [
        "### 여기서 부터 시작"
      ]
    },
    {
      "cell_type": "code",
      "execution_count": null,
      "metadata": {
        "id": "cZw1fVIteaQJ"
      },
      "outputs": [],
      "source": [
        "# sys\n",
        "import re\n",
        "import os\n",
        "import unicodedata\n",
        "import urllib3\n",
        "import zipfile\n",
        "import shutil\n",
        "import time\n",
        "\n",
        "import numpy as np\n",
        "import pandas as pd\n",
        "\n",
        "# visualize\n",
        "import matplotlib.pyplot as plt\n",
        "# import matplotlib.font_manager as fm  # 폰트\n",
        "# from matplotlib import rc # 폰트\n",
        "import seaborn as sns\n",
        "import plotly.express as px\n",
        "import plotly.graph_objects as go\n",
        "from plotly.subplots import make_subplots\n",
        "\n",
        "# tensorflow\n",
        "import tensorflow as tf\n",
        "## keras\n",
        "from tensorflow.keras import layers, models, metrics, callbacks\n",
        "## for modeling\n",
        "from tensorflow.keras.layers import Input, Embedding, Dense, SimpleRNN, LSTM, GRU\n",
        "from tensorflow.keras.models import Sequential, Model\n",
        "from tensorflow.keras.optimizers.legacy import Adam\n",
        "from tensorflow.keras.callbacks import EarlyStopping, ModelCheckpoint\n",
        "## preprocessing\n",
        "from tensorflow.keras.preprocessing.text import Tokenizer\n",
        "from tensorflow.keras.preprocessing.sequence import pad_sequences\n",
        "from tensorflow.keras.models import Model\n",
        "## saving\n",
        "from tensorflow.keras.saving import load_model\n",
        "## utils\n",
        "from tensorflow.keras.utils import plot_model\n",
        "\n",
        "# from knockknock import desktop_sender\n",
        "from tqdm import tqdm\n",
        "tqdm.pandas()"
      ]
    },
    {
      "cell_type": "markdown",
      "metadata": {
        "id": "eaMuDgAGeHSf"
      },
      "source": [
        "## Download the data\n"
      ]
    },
    {
      "cell_type": "code",
      "execution_count": null,
      "metadata": {
        "colab": {
          "base_uri": "https://localhost:8080/"
        },
        "id": "rRfJZZXhP7ZS",
        "outputId": "5eb25175-fa86-4b56-c581-77e258bcca01"
      },
      "outputs": [
        {
          "output_type": "stream",
          "name": "stdout",
          "text": [
            "/usr/local/lib/python3.10/dist-packages/gdown/cli.py:121: FutureWarning: Option `--id` was deprecated in version 4.3.1 and will be removed in 5.0. You don't need to pass it anymore to use a file ID.\n",
            "  warnings.warn(\n",
            "Downloading...\n",
            "From: https://drive.google.com/uc?id=1V6HsBoEczDoo4NDZ1I5iXSfRxFxCatis\n",
            "To: /content/1_구어체(1).xlsx\n",
            "100% 15.8M/15.8M [00:00<00:00, 26.9MB/s]\n"
          ]
        }
      ],
      "source": [
        "!gdown --id 1V6HsBoEczDoo4NDZ1I5iXSfRxFxCatis"
      ]
    },
    {
      "cell_type": "code",
      "execution_count": null,
      "metadata": {
        "colab": {
          "base_uri": "https://localhost:8080/",
          "height": 424
        },
        "id": "5IQTEqtjeHSf",
        "outputId": "80db167a-f913-42d1-99fb-f1f180cd003b"
      },
      "outputs": [
        {
          "output_type": "execute_result",
          "data": {
            "text/plain": [
              "           SID                                                 원문  \\\n",
              "0            1  'Bible Coloring'은 성경의 아름다운 이야기를 체험 할 수 있는 컬러링 ...   \n",
              "1            2                                       씨티은행에서 일하세요?   \n",
              "2            3              푸리토의 베스트셀러는 해외에서 입소문만으로 4차 완판을 기록하였다.   \n",
              "3            4   11장에서는 예수님이 이번엔 나사로를 무덤에서 불러내어 죽은 자 가운데서 살리셨습니다.   \n",
              "4            5     6.5, 7, 8 사이즈가 몇 개나 더 재입고 될지 제게 알려주시면 감사하겠습니다.   \n",
              "...        ...                                                ...   \n",
              "199995  199996                               나는 먼저 청소기로 바닥을 밀었어요.   \n",
              "199996  199997                             나는 먼저 팀 과제를 하고 놀러 갔어요.   \n",
              "199997  199998                              나는 비 같은 멋진 연예인을 좋아해요.   \n",
              "199998  199999                           나는 멋진 자연 경치를 보고 눈물을 흘렸어.   \n",
              "199999  200000                               나는 멋진 중학교 생활을 기대합니다.   \n",
              "\n",
              "                                                      번역문  \n",
              "0       Bible Coloring' is a coloring application that...  \n",
              "1                             Do you work at a City bank?  \n",
              "2       PURITO's bestseller, which recorded 4th rough ...  \n",
              "3       In Chapter 11 Jesus called Lazarus from the to...  \n",
              "4       I would feel grateful to know how many stocks ...  \n",
              "...                                                   ...  \n",
              "199995                First of all, I vacuumed the floor.  \n",
              "199996  I did the team assignment first and went out t...  \n",
              "199997                 I like cool entertainer like Rain.  \n",
              "199998                I cried seeing the amazing scenery.  \n",
              "199999  I look forward to a great middle school experi...  \n",
              "\n",
              "[200000 rows x 3 columns]"
            ],
            "text/html": [
              "\n",
              "  <div id=\"df-4a349e4d-d62d-44cc-bd7b-4b4a6f22fdae\">\n",
              "    <div class=\"colab-df-container\">\n",
              "      <div>\n",
              "<style scoped>\n",
              "    .dataframe tbody tr th:only-of-type {\n",
              "        vertical-align: middle;\n",
              "    }\n",
              "\n",
              "    .dataframe tbody tr th {\n",
              "        vertical-align: top;\n",
              "    }\n",
              "\n",
              "    .dataframe thead th {\n",
              "        text-align: right;\n",
              "    }\n",
              "</style>\n",
              "<table border=\"1\" class=\"dataframe\">\n",
              "  <thead>\n",
              "    <tr style=\"text-align: right;\">\n",
              "      <th></th>\n",
              "      <th>SID</th>\n",
              "      <th>원문</th>\n",
              "      <th>번역문</th>\n",
              "    </tr>\n",
              "  </thead>\n",
              "  <tbody>\n",
              "    <tr>\n",
              "      <th>0</th>\n",
              "      <td>1</td>\n",
              "      <td>'Bible Coloring'은 성경의 아름다운 이야기를 체험 할 수 있는 컬러링 ...</td>\n",
              "      <td>Bible Coloring' is a coloring application that...</td>\n",
              "    </tr>\n",
              "    <tr>\n",
              "      <th>1</th>\n",
              "      <td>2</td>\n",
              "      <td>씨티은행에서 일하세요?</td>\n",
              "      <td>Do you work at a City bank?</td>\n",
              "    </tr>\n",
              "    <tr>\n",
              "      <th>2</th>\n",
              "      <td>3</td>\n",
              "      <td>푸리토의 베스트셀러는 해외에서 입소문만으로 4차 완판을 기록하였다.</td>\n",
              "      <td>PURITO's bestseller, which recorded 4th rough ...</td>\n",
              "    </tr>\n",
              "    <tr>\n",
              "      <th>3</th>\n",
              "      <td>4</td>\n",
              "      <td>11장에서는 예수님이 이번엔 나사로를 무덤에서 불러내어 죽은 자 가운데서 살리셨습니다.</td>\n",
              "      <td>In Chapter 11 Jesus called Lazarus from the to...</td>\n",
              "    </tr>\n",
              "    <tr>\n",
              "      <th>4</th>\n",
              "      <td>5</td>\n",
              "      <td>6.5, 7, 8 사이즈가 몇 개나 더 재입고 될지 제게 알려주시면 감사하겠습니다.</td>\n",
              "      <td>I would feel grateful to know how many stocks ...</td>\n",
              "    </tr>\n",
              "    <tr>\n",
              "      <th>...</th>\n",
              "      <td>...</td>\n",
              "      <td>...</td>\n",
              "      <td>...</td>\n",
              "    </tr>\n",
              "    <tr>\n",
              "      <th>199995</th>\n",
              "      <td>199996</td>\n",
              "      <td>나는 먼저 청소기로 바닥을 밀었어요.</td>\n",
              "      <td>First of all, I vacuumed the floor.</td>\n",
              "    </tr>\n",
              "    <tr>\n",
              "      <th>199996</th>\n",
              "      <td>199997</td>\n",
              "      <td>나는 먼저 팀 과제를 하고 놀러 갔어요.</td>\n",
              "      <td>I did the team assignment first and went out t...</td>\n",
              "    </tr>\n",
              "    <tr>\n",
              "      <th>199997</th>\n",
              "      <td>199998</td>\n",
              "      <td>나는 비 같은 멋진 연예인을 좋아해요.</td>\n",
              "      <td>I like cool entertainer like Rain.</td>\n",
              "    </tr>\n",
              "    <tr>\n",
              "      <th>199998</th>\n",
              "      <td>199999</td>\n",
              "      <td>나는 멋진 자연 경치를 보고 눈물을 흘렸어.</td>\n",
              "      <td>I cried seeing the amazing scenery.</td>\n",
              "    </tr>\n",
              "    <tr>\n",
              "      <th>199999</th>\n",
              "      <td>200000</td>\n",
              "      <td>나는 멋진 중학교 생활을 기대합니다.</td>\n",
              "      <td>I look forward to a great middle school experi...</td>\n",
              "    </tr>\n",
              "  </tbody>\n",
              "</table>\n",
              "<p>200000 rows × 3 columns</p>\n",
              "</div>\n",
              "      <button class=\"colab-df-convert\" onclick=\"convertToInteractive('df-4a349e4d-d62d-44cc-bd7b-4b4a6f22fdae')\"\n",
              "              title=\"Convert this dataframe to an interactive table.\"\n",
              "              style=\"display:none;\">\n",
              "        \n",
              "  <svg xmlns=\"http://www.w3.org/2000/svg\" height=\"24px\"viewBox=\"0 0 24 24\"\n",
              "       width=\"24px\">\n",
              "    <path d=\"M0 0h24v24H0V0z\" fill=\"none\"/>\n",
              "    <path d=\"M18.56 5.44l.94 2.06.94-2.06 2.06-.94-2.06-.94-.94-2.06-.94 2.06-2.06.94zm-11 1L8.5 8.5l.94-2.06 2.06-.94-2.06-.94L8.5 2.5l-.94 2.06-2.06.94zm10 10l.94 2.06.94-2.06 2.06-.94-2.06-.94-.94-2.06-.94 2.06-2.06.94z\"/><path d=\"M17.41 7.96l-1.37-1.37c-.4-.4-.92-.59-1.43-.59-.52 0-1.04.2-1.43.59L10.3 9.45l-7.72 7.72c-.78.78-.78 2.05 0 2.83L4 21.41c.39.39.9.59 1.41.59.51 0 1.02-.2 1.41-.59l7.78-7.78 2.81-2.81c.8-.78.8-2.07 0-2.86zM5.41 20L4 18.59l7.72-7.72 1.47 1.35L5.41 20z\"/>\n",
              "  </svg>\n",
              "      </button>\n",
              "      \n",
              "  <style>\n",
              "    .colab-df-container {\n",
              "      display:flex;\n",
              "      flex-wrap:wrap;\n",
              "      gap: 12px;\n",
              "    }\n",
              "\n",
              "    .colab-df-convert {\n",
              "      background-color: #E8F0FE;\n",
              "      border: none;\n",
              "      border-radius: 50%;\n",
              "      cursor: pointer;\n",
              "      display: none;\n",
              "      fill: #1967D2;\n",
              "      height: 32px;\n",
              "      padding: 0 0 0 0;\n",
              "      width: 32px;\n",
              "    }\n",
              "\n",
              "    .colab-df-convert:hover {\n",
              "      background-color: #E2EBFA;\n",
              "      box-shadow: 0px 1px 2px rgba(60, 64, 67, 0.3), 0px 1px 3px 1px rgba(60, 64, 67, 0.15);\n",
              "      fill: #174EA6;\n",
              "    }\n",
              "\n",
              "    [theme=dark] .colab-df-convert {\n",
              "      background-color: #3B4455;\n",
              "      fill: #D2E3FC;\n",
              "    }\n",
              "\n",
              "    [theme=dark] .colab-df-convert:hover {\n",
              "      background-color: #434B5C;\n",
              "      box-shadow: 0px 1px 3px 1px rgba(0, 0, 0, 0.15);\n",
              "      filter: drop-shadow(0px 1px 2px rgba(0, 0, 0, 0.3));\n",
              "      fill: #FFFFFF;\n",
              "    }\n",
              "  </style>\n",
              "\n",
              "      <script>\n",
              "        const buttonEl =\n",
              "          document.querySelector('#df-4a349e4d-d62d-44cc-bd7b-4b4a6f22fdae button.colab-df-convert');\n",
              "        buttonEl.style.display =\n",
              "          google.colab.kernel.accessAllowed ? 'block' : 'none';\n",
              "\n",
              "        async function convertToInteractive(key) {\n",
              "          const element = document.querySelector('#df-4a349e4d-d62d-44cc-bd7b-4b4a6f22fdae');\n",
              "          const dataTable =\n",
              "            await google.colab.kernel.invokeFunction('convertToInteractive',\n",
              "                                                     [key], {});\n",
              "          if (!dataTable) return;\n",
              "\n",
              "          const docLinkHtml = 'Like what you see? Visit the ' +\n",
              "            '<a target=\"_blank\" href=https://colab.research.google.com/notebooks/data_table.ipynb>data table notebook</a>'\n",
              "            + ' to learn more about interactive tables.';\n",
              "          element.innerHTML = '';\n",
              "          dataTable['output_type'] = 'display_data';\n",
              "          await google.colab.output.renderOutput(dataTable, element);\n",
              "          const docLink = document.createElement('div');\n",
              "          docLink.innerHTML = docLinkHtml;\n",
              "          element.appendChild(docLink);\n",
              "        }\n",
              "      </script>\n",
              "    </div>\n",
              "  </div>\n",
              "  "
            ]
          },
          "metadata": {},
          "execution_count": 7
        }
      ],
      "source": [
        "import pandas as pd\n",
        "\n",
        "df = pd.read_excel('/content/1_구어체(1).xlsx')\n",
        "df"
      ]
    },
    {
      "cell_type": "code",
      "execution_count": null,
      "metadata": {
        "id": "z4bZPHPrvSYd"
      },
      "outputs": [],
      "source": [
        "import pickle\n",
        "\n",
        "with open('df.pickle', 'wb') as f:\n",
        "    pickle.dump(df, f)\n",
        "    f.close()"
      ]
    },
    {
      "cell_type": "markdown",
      "metadata": {
        "id": "hWy5iZxheHSg"
      },
      "source": [
        "## Modeling\n"
      ]
    },
    {
      "cell_type": "code",
      "execution_count": null,
      "metadata": {
        "id": "-QF3vktteHSg"
      },
      "outputs": [],
      "source": [
        "HIDDEN_DIM = 512\n",
        "EMBEDDING_DIM = 512\n",
        "NUM_SAMPLES = 200000\n",
        "BATCH_SIZE = 128\n",
        "EPOCHS = 10"
      ]
    },
    {
      "cell_type": "markdown",
      "metadata": {
        "id": "MS6dh7jC4Gev"
      },
      "source": [
        "### 데이터 전처리"
      ]
    },
    {
      "cell_type": "markdown",
      "metadata": {
        "id": "NcLH7Ohq4KXG"
      },
      "source": [
        "### 데이터 set"
      ]
    },
    {
      "cell_type": "code",
      "execution_count": null,
      "metadata": {
        "id": "0S_Oa-zNOoEl"
      },
      "outputs": [],
      "source": [
        "ko_corpus = df['원문'] # source\n",
        "en_corpus = df['번역문'] # target"
      ]
    },
    {
      "cell_type": "code",
      "source": [
        "# 원문에서도 영어가 껴있고, 어차피 조사만 따로 버릴 것도 아니기에 한국어, 영어 동일하게 전처리 하겠습니다.\n",
        "def preprocess_sentence(sent):\n",
        "    sent = re.sub(r\"([?.!,¿])\", r\" \\1\", sent) # 구두점 앞 공백 추가\n",
        "    sent = re.sub(r\"[^a-zA-Zㄱ-ㅎ가-힣!.?]+\", r\" \", sent)\n",
        "    sent = re.sub(r\"\\s+\", \" \", sent) # 다수의 공백을 하나의 공백으로 치환\n",
        "\n",
        "    return sent\n",
        "\n",
        "\n",
        "# 학습 데이터, 타겟 데이터 생성 함수\n",
        "def load_preprocessed_data(ko_corpus, en_corpus, debug=False):\n",
        "    encoder_input, decoder_input, decoder_target = [], [], []\n",
        "    # encoder_input: encoder layer에 들어갈 학습 데이터\n",
        "    # decoder_input: decoder layer에 들어갈 학습 데이터(teacher forcing용)\n",
        "    # decoder_target: decoder layer에서 나온 결과랑 비교할 타겟 데이터\n",
        "\n",
        "    for i, (src_line, tar_line) in enumerate(zip(ko_corpus, en_corpus)):\n",
        "\n",
        "        # source 데이터 (scr_lin) 전처리\n",
        "        src_line = [w for w in preprocess_sentence(src_line).split()]\n",
        "\n",
        "        # target 데이터 (tar_line) 전처리\n",
        "        tar_line = preprocess_sentence(tar_line)\n",
        "        tar_line_in = [w for w in (\"<sos> \" + tar_line).split()] # target for teacher forcing\n",
        "        tar_line_out = [w for w in (tar_line + \" <eos>\").split()] # final target\n",
        "\n",
        "        # reverse\n",
        "        # src_line.reverse()\n",
        "\n",
        "        # append\n",
        "        encoder_input.append(src_line) # 클리닝\n",
        "        decoder_input.append(tar_line_in) # sos + 클리닝\n",
        "        decoder_target.append(tar_line_out) # 클리닝 + eos\n",
        "\n",
        "        if i == NUM_SAMPLES - 1:\n",
        "            break\n",
        "\n",
        "\n",
        "        # debugging section\n",
        "        if debug:\n",
        "            print(f'(debug) 첫 번째 문장 작업 결과')\n",
        "            print(f'src_line: \\n{src_line}\\n')\n",
        "            print(f'tar_line_in: \\n{tar_line_in}\\n')\n",
        "            print(f'tar_line_out: \\n{tar_line_out}\\n')\n",
        "            break\n",
        "\n",
        "    return encoder_input, decoder_input, decoder_target"
      ],
      "metadata": {
        "id": "mqXKRJGly-Pa"
      },
      "execution_count": null,
      "outputs": []
    },
    {
      "cell_type": "code",
      "execution_count": null,
      "metadata": {
        "id": "A3A_29_1fZph"
      },
      "outputs": [],
      "source": [
        "sents_ko_in, sents_en_in, sents_en_out  = load_preprocessed_data(ko_corpus, en_corpus, debug=False)"
      ]
    },
    {
      "cell_type": "code",
      "source": [
        "import pickle\n",
        "\n",
        "with open('sents_ko_in.pickle', 'wb') as f:\n",
        "    pickle.dump(sents_ko_in, f)\n",
        "    f.close()\n",
        "\n",
        "with open('sents_en_in.pickle', 'wb') as f:\n",
        "    pickle.dump(sents_en_in, f)\n",
        "    f.close()\n",
        "\n",
        "with open('sents_en_out.pickle', 'wb') as f:\n",
        "    pickle.dump(sents_en_out, f)\n",
        "    f.close()"
      ],
      "metadata": {
        "id": "bjs9sb12z-l4"
      },
      "execution_count": null,
      "outputs": []
    },
    {
      "cell_type": "code",
      "execution_count": null,
      "metadata": {
        "colab": {
          "base_uri": "https://localhost:8080/"
        },
        "id": "SFwR9uJJgHYQ",
        "outputId": "446b131c-64ff-44cf-f44c-b173c8d39614"
      },
      "outputs": [
        {
          "name": "stdout",
          "output_type": "stream",
          "text": [
            "인코더의 입력 : [['나는', '먼저', '청소기로', '바닥을', '밀었어요', '.'], ['나는', '먼저', '팀', '과제를', '하고', '놀러', '갔어요', '.'], ['나는', '비', '같은', '멋진', '연예인을', '좋아해요', '.'], ['나는', '멋진', '자연', '경치를', '보고', '눈물을', '흘렸어', '.'], ['나는', '멋진', '중학교', '생활을', '기대합니다', '.']]\n",
            "디코더의 입력 : [['<sos>', 'First', 'of', 'all', 'I', 'vacuumed', 'the', 'floor', '.'], ['<sos>', 'I', 'did', 'the', 'team', 'assignment', 'first', 'and', 'went', 'out', 'to', 'play', '.'], ['<sos>', 'I', 'like', 'cool', 'entertainer', 'like', 'Rain', '.'], ['<sos>', 'I', 'cried', 'seeing', 'the', 'amazing', 'scenery', '.'], ['<sos>', 'I', 'look', 'forward', 'to', 'a', 'great', 'middle', 'school', 'experience', '.']]\n",
            "디코더의 레이블 : [['First', 'of', 'all', 'I', 'vacuumed', 'the', 'floor', '.', '<eos>'], ['I', 'did', 'the', 'team', 'assignment', 'first', 'and', 'went', 'out', 'to', 'play', '.', '<eos>'], ['I', 'like', 'cool', 'entertainer', 'like', 'Rain', '.', '<eos>'], ['I', 'cried', 'seeing', 'the', 'amazing', 'scenery', '.', '<eos>'], ['I', 'look', 'forward', 'to', 'a', 'great', 'middle', 'school', 'experience', '.', '<eos>']]\n"
          ]
        }
      ],
      "source": [
        "print('인코더의 입력 :',sents_ko_in[-5:])\n",
        "print('디코더의 입력 :',sents_en_in[-5:])\n",
        "print('디코더의 레이블 :',sents_en_out[-5:])"
      ]
    },
    {
      "cell_type": "markdown",
      "metadata": {
        "id": "Qiw9z4riQEhQ"
      },
      "source": [
        "### 에러 시 여기서 부터"
      ]
    },
    {
      "cell_type": "code",
      "execution_count": null,
      "metadata": {
        "id": "k2PwrQqPQEhV",
        "outputId": "8f7463d7-b66b-4c26-81e5-21ec73b64ee4"
      },
      "outputs": [
        {
          "data": {
            "text/html": [
              "<div>\n",
              "<style scoped>\n",
              "    .dataframe tbody tr th:only-of-type {\n",
              "        vertical-align: middle;\n",
              "    }\n",
              "\n",
              "    .dataframe tbody tr th {\n",
              "        vertical-align: top;\n",
              "    }\n",
              "\n",
              "    .dataframe thead th {\n",
              "        text-align: right;\n",
              "    }\n",
              "</style>\n",
              "<table border=\"1\" class=\"dataframe\">\n",
              "  <thead>\n",
              "    <tr style=\"text-align: right;\">\n",
              "      <th></th>\n",
              "      <th>SID</th>\n",
              "      <th>원문</th>\n",
              "      <th>번역문</th>\n",
              "    </tr>\n",
              "  </thead>\n",
              "  <tbody>\n",
              "    <tr>\n",
              "      <th>0</th>\n",
              "      <td>1</td>\n",
              "      <td>'Bible Coloring'은 성경의 아름다운 이야기를 체험 할 수 있는 컬러링 ...</td>\n",
              "      <td>Bible Coloring' is a coloring application that...</td>\n",
              "    </tr>\n",
              "    <tr>\n",
              "      <th>1</th>\n",
              "      <td>2</td>\n",
              "      <td>씨티은행에서 일하세요?</td>\n",
              "      <td>Do you work at a City bank?</td>\n",
              "    </tr>\n",
              "    <tr>\n",
              "      <th>2</th>\n",
              "      <td>3</td>\n",
              "      <td>푸리토의 베스트셀러는 해외에서 입소문만으로 4차 완판을 기록하였다.</td>\n",
              "      <td>PURITO's bestseller, which recorded 4th rough ...</td>\n",
              "    </tr>\n",
              "    <tr>\n",
              "      <th>3</th>\n",
              "      <td>4</td>\n",
              "      <td>11장에서는 예수님이 이번엔 나사로를 무덤에서 불러내어 죽은 자 가운데서 살리셨습니다.</td>\n",
              "      <td>In Chapter 11 Jesus called Lazarus from the to...</td>\n",
              "    </tr>\n",
              "    <tr>\n",
              "      <th>4</th>\n",
              "      <td>5</td>\n",
              "      <td>6.5, 7, 8 사이즈가 몇 개나 더 재입고 될지 제게 알려주시면 감사하겠습니다.</td>\n",
              "      <td>I would feel grateful to know how many stocks ...</td>\n",
              "    </tr>\n",
              "    <tr>\n",
              "      <th>...</th>\n",
              "      <td>...</td>\n",
              "      <td>...</td>\n",
              "      <td>...</td>\n",
              "    </tr>\n",
              "    <tr>\n",
              "      <th>199995</th>\n",
              "      <td>199996</td>\n",
              "      <td>나는 먼저 청소기로 바닥을 밀었어요.</td>\n",
              "      <td>First of all, I vacuumed the floor.</td>\n",
              "    </tr>\n",
              "    <tr>\n",
              "      <th>199996</th>\n",
              "      <td>199997</td>\n",
              "      <td>나는 먼저 팀 과제를 하고 놀러 갔어요.</td>\n",
              "      <td>I did the team assignment first and went out t...</td>\n",
              "    </tr>\n",
              "    <tr>\n",
              "      <th>199997</th>\n",
              "      <td>199998</td>\n",
              "      <td>나는 비 같은 멋진 연예인을 좋아해요.</td>\n",
              "      <td>I like cool entertainer like Rain.</td>\n",
              "    </tr>\n",
              "    <tr>\n",
              "      <th>199998</th>\n",
              "      <td>199999</td>\n",
              "      <td>나는 멋진 자연 경치를 보고 눈물을 흘렸어.</td>\n",
              "      <td>I cried seeing the amazing scenery.</td>\n",
              "    </tr>\n",
              "    <tr>\n",
              "      <th>199999</th>\n",
              "      <td>200000</td>\n",
              "      <td>나는 멋진 중학교 생활을 기대합니다.</td>\n",
              "      <td>I look forward to a great middle school experi...</td>\n",
              "    </tr>\n",
              "  </tbody>\n",
              "</table>\n",
              "<p>200000 rows × 3 columns</p>\n",
              "</div>"
            ],
            "text/plain": [
              "           SID                                                 원문  \\\n",
              "0            1  'Bible Coloring'은 성경의 아름다운 이야기를 체험 할 수 있는 컬러링 ...   \n",
              "1            2                                       씨티은행에서 일하세요?   \n",
              "2            3              푸리토의 베스트셀러는 해외에서 입소문만으로 4차 완판을 기록하였다.   \n",
              "3            4   11장에서는 예수님이 이번엔 나사로를 무덤에서 불러내어 죽은 자 가운데서 살리셨습니다.   \n",
              "4            5     6.5, 7, 8 사이즈가 몇 개나 더 재입고 될지 제게 알려주시면 감사하겠습니다.   \n",
              "...        ...                                                ...   \n",
              "199995  199996                               나는 먼저 청소기로 바닥을 밀었어요.   \n",
              "199996  199997                             나는 먼저 팀 과제를 하고 놀러 갔어요.   \n",
              "199997  199998                              나는 비 같은 멋진 연예인을 좋아해요.   \n",
              "199998  199999                           나는 멋진 자연 경치를 보고 눈물을 흘렸어.   \n",
              "199999  200000                               나는 멋진 중학교 생활을 기대합니다.   \n",
              "\n",
              "                                                      번역문  \n",
              "0       Bible Coloring' is a coloring application that...  \n",
              "1                             Do you work at a City bank?  \n",
              "2       PURITO's bestseller, which recorded 4th rough ...  \n",
              "3       In Chapter 11 Jesus called Lazarus from the to...  \n",
              "4       I would feel grateful to know how many stocks ...  \n",
              "...                                                   ...  \n",
              "199995                First of all, I vacuumed the floor.  \n",
              "199996  I did the team assignment first and went out t...  \n",
              "199997                 I like cool entertainer like Rain.  \n",
              "199998                I cried seeing the amazing scenery.  \n",
              "199999  I look forward to a great middle school experi...  \n",
              "\n",
              "[200000 rows x 3 columns]"
            ]
          },
          "execution_count": 4,
          "metadata": {},
          "output_type": "execute_result"
        }
      ],
      "source": [
        "import pickle\n",
        "\n",
        "with open(r'df.pickle', 'rb') as file:\n",
        "    df = pickle.load(file)\n",
        "df"
      ]
    },
    {
      "cell_type": "code",
      "execution_count": null,
      "metadata": {
        "id": "xRY6Os01QEhZ",
        "outputId": "18848580-7da8-4dcd-ace0-0875b56a303d",
        "colab": {
          "base_uri": "https://localhost:8080/"
        }
      },
      "outputs": [
        {
          "output_type": "stream",
          "name": "stdout",
          "text": [
            "200000 200000 200000\n"
          ]
        }
      ],
      "source": [
        "import pickle\n",
        "\n",
        "with open('sents_ko_in.pickle', 'rb') as file:\n",
        "    sents_ko_in = pickle.load(file)\n",
        "\n",
        "with open('sents_en_in.pickle', 'rb') as file:\n",
        "    sents_en_in = pickle.load(file)\n",
        "\n",
        "with open('sents_en_out.pickle', 'rb') as file:\n",
        "    sents_en_out = pickle.load(file)\n",
        "\n",
        "print(len(sents_ko_in), len(sents_en_in), len(sents_en_out))"
      ]
    },
    {
      "cell_type": "markdown",
      "metadata": {
        "id": "Axd2wLe9gvNn"
      },
      "source": [
        "단어집합을 생성하겠습니다."
      ]
    },
    {
      "cell_type": "code",
      "source": [
        "# 한국어 단어집합\n",
        "tokenizer_enc = Tokenizer(filters='', lower=False, oov_token='<UNK>')\n",
        "tokenizer_enc.fit_on_texts(sents_ko_in)\n",
        "\n",
        "# 인코더 데이터\n",
        "encoder_input = tokenizer_enc.texts_to_sequences(sents_ko_in)\n",
        "\n",
        "\n",
        "# 영어 단어집합\n",
        "tokenizer_dec = Tokenizer(filters='', lower=False, oov_token='<UNK>')\n",
        "tokenizer_dec.fit_on_texts(sents_en_in)\n",
        "tokenizer_dec.fit_on_texts(sents_en_out)\n",
        "\n",
        "# 디코더 데이터\n",
        "decoder_input = tokenizer_dec.texts_to_sequences(sents_en_in)\n",
        "decoder_target = tokenizer_dec.texts_to_sequences(sents_en_out)\n",
        "\n",
        "\n",
        "# 결과 확인\n",
        "print(f'encoder_input: \\n{encoder_input[-3:]}\\n')\n",
        "print(f'decoder_input: \\n{decoder_input[-3:]}\\n')\n",
        "print(f'decoder_target: \\n{decoder_target[-3:]}\\n')"
      ],
      "metadata": {
        "colab": {
          "base_uri": "https://localhost:8080/"
        },
        "id": "tKGG-H-b0ODh",
        "outputId": "6b55f0fd-e29f-41c0-fecd-c69ece031974"
      },
      "execution_count": null,
      "outputs": [
        {
          "output_type": "stream",
          "name": "stdout",
          "text": [
            "encoder_input: \n",
            "[[4, 1929, 91, 459, 13056, 325, 2], [4, 459, 2629, 7403, 94, 7201, 60226, 2], [4, 459, 2027, 1037, 2053, 2]]\n",
            "\n",
            "decoder_input: \n",
            "[[3, 6, 39, 1013, 9159, 39, 7559, 2], [3, 6, 2840, 961, 5, 1571, 1964, 2], [3, 6, 219, 641, 7, 8, 230, 720, 121, 332, 2]]\n",
            "\n",
            "decoder_target: \n",
            "[[6, 39, 1013, 9159, 39, 7559, 2, 4], [6, 2840, 961, 5, 1571, 1964, 2, 4], [6, 219, 641, 7, 8, 230, 720, 121, 332, 2, 4]]\n",
            "\n"
          ]
        }
      ]
    },
    {
      "cell_type": "code",
      "execution_count": null,
      "metadata": {
        "id": "39t-g1BrgqcM"
      },
      "outputs": [],
      "source": [
        "# # 한국어 (encoder)\n",
        "# tokenizer_enc = Tokenizer(filters=\"\", lower=False)\n",
        "# tokenizer_enc.fit_on_texts(sents_fra_in)\n",
        "\n",
        "# # 인코더 데이터\n",
        "# encoder_input = tokenizer_enc.texts_to_sequences(sents_fra_in)"
      ]
    },
    {
      "cell_type": "code",
      "execution_count": null,
      "metadata": {
        "id": "ufijFznx8VH-"
      },
      "outputs": [],
      "source": [
        "# # 영어 (decoder)\n",
        "# tokenizer_dec = Tokenizer(filters=\"\", lower=False)\n",
        "# tokenizer_dec.fit_on_texts(sents_en_in)\n",
        "# tokenizer_dec.fit_on_texts(sents_en_out)\n",
        "\n",
        "# # 디코더 데이터\n",
        "# decoder_input = tokenizer_dec.texts_to_sequences(sents_en_in)\n",
        "# decoder_target = tokenizer_dec.texts_to_sequences(sents_en_out)"
      ]
    },
    {
      "cell_type": "code",
      "execution_count": null,
      "metadata": {
        "colab": {
          "base_uri": "https://localhost:8080/"
        },
        "id": "UcAfhYID8fhH",
        "outputId": "a93482e1-131c-40f9-c5c6-bfb9b7ab6fd9"
      },
      "outputs": [
        {
          "name": "stdout",
          "output_type": "stream",
          "text": [
            "[[3, 143, 62221, 10321, 194646, 1], [3, 143, 1810, 2059, 47, 842, 527, 1], [3, 1928, 90, 458, 13055, 324, 1], [3, 458, 2628, 7402, 93, 7200, 60227, 1], [3, 458, 2026, 1036, 2052, 1]]\n",
            "[[2, 443, 11, 67, 5, 42332, 4, 519, 1], [2, 5, 154, 4, 330, 2298, 111, 10, 156, 79, 6, 312, 1], [2, 5, 38, 1012, 9158, 38, 7558, 1], [2, 5, 2839, 960, 4, 1570, 1963, 1], [2, 5, 218, 640, 6, 7, 229, 719, 120, 331, 1]]\n",
            "[[443, 11, 67, 5, 42332, 4, 519, 1, 3], [5, 154, 4, 330, 2298, 111, 10, 156, 79, 6, 312, 1, 3], [5, 38, 1012, 9158, 38, 7558, 1, 3], [5, 2839, 960, 4, 1570, 1963, 1, 3], [5, 218, 640, 6, 7, 229, 719, 120, 331, 1, 3]]\n"
          ]
        }
      ],
      "source": [
        "# print(encoder_input[-5:])\n",
        "# print(decoder_input[-5:])\n",
        "# print(decoder_target[-5:])"
      ]
    },
    {
      "cell_type": "code",
      "execution_count": null,
      "metadata": {
        "colab": {
          "base_uri": "https://localhost:8080/"
        },
        "id": "7AGlTHKdh14V",
        "outputId": "d25cb3e5-f1d6-4a09-c18e-f9e8ce556641"
      },
      "outputs": [
        {
          "output_type": "stream",
          "name": "stdout",
          "text": [
            "한국어 단어 집합의 크기 : 194653, 영어 단어 집합의 크기 : 42334\n"
          ]
        }
      ],
      "source": [
        "SRC_VOCAB_SIZE = len(tokenizer_enc.word_index) + 1\n",
        "TAR_VOCAB_SIZE = len(tokenizer_dec.word_index) + 1\n",
        "\n",
        "print(f\"한국어 단어 집합의 크기 : {SRC_VOCAB_SIZE}, 영어 단어 집합의 크기 : {TAR_VOCAB_SIZE}\")"
      ]
    },
    {
      "cell_type": "markdown",
      "metadata": {
        "id": "j64et9aShbop"
      },
      "source": [
        "각 문장을 입력층의 최대 길이만큼 패딩(padding)을 수행합니다."
      ]
    },
    {
      "cell_type": "code",
      "execution_count": null,
      "metadata": {
        "id": "zLWODtVIhTKy"
      },
      "outputs": [],
      "source": [
        "encoder_input = pad_sequences(encoder_input, padding='post')\n",
        "decoder_input = pad_sequences(decoder_input, padding='post')\n",
        "decoder_target = pad_sequences(decoder_target, padding='post')"
      ]
    },
    {
      "cell_type": "code",
      "execution_count": null,
      "metadata": {
        "colab": {
          "base_uri": "https://localhost:8080/"
        },
        "id": "Vl-7xYOBhuKz",
        "outputId": "c35412bb-98d0-4ad2-eafb-b88bc367ba5e"
      },
      "outputs": [
        {
          "output_type": "stream",
          "name": "stdout",
          "text": [
            "인코더의 입력의 크기(shape) : (200000, 31)\n",
            "디코더의 입력의 크기(shape) : (200000, 52)\n",
            "디코더의 레이블의 크기(shape) : (200000, 52)\n"
          ]
        }
      ],
      "source": [
        "print('인코더의 입력의 크기(shape) :',encoder_input.shape)\n",
        "print('디코더의 입력의 크기(shape) :',decoder_input.shape)\n",
        "print('디코더의 레이블의 크기(shape) :',decoder_target.shape)\n",
        "\n",
        "# 변수 저장\n",
        "MAX_ENC_LEN, MAX_DEC_LEN = encoder_input.shape[1], decoder_input.shape[1]"
      ]
    },
    {
      "cell_type": "markdown",
      "metadata": {
        "id": "EFQJjo5JiMOH"
      },
      "source": [
        "단어로부터 정수를 얻는 딕셔너리와 정수로부터 단어를 얻는 딕셔너리를 각각 만들어줍니다. 이들은 훈련을 마치고 예측값과 실제값을 비교하는 단계에서 사용합니다."
      ]
    },
    {
      "cell_type": "code",
      "execution_count": null,
      "metadata": {
        "id": "tPoYTLRqh__O"
      },
      "outputs": [],
      "source": [
        "src2idx = tokenizer_enc.word_index  # word : idx\n",
        "idx2src = tokenizer_enc.index_word  # idx : word\n",
        "tar2idx = tokenizer_dec.word_index # word : idx\n",
        "idx2tar = tokenizer_dec.index_word # idx : word"
      ]
    },
    {
      "cell_type": "code",
      "execution_count": null,
      "metadata": {
        "colab": {
          "base_uri": "https://localhost:8080/"
        },
        "id": "PWgcC2ShAzkD",
        "outputId": "5051e91d-47a0-4551-92cd-befe2264cd81"
      },
      "outputs": [
        {
          "name": "stderr",
          "output_type": "stream",
          "text": [
            "IOPub data rate exceeded.\n",
            "The notebook server will temporarily stop sending output\n",
            "to the client in order to avoid crashing it.\n",
            "To change this limit, set the config variable\n",
            "`--NotebookApp.iopub_data_rate_limit`.\n",
            "\n",
            "Current values:\n",
            "NotebookApp.iopub_data_rate_limit=1000000.0 (bytes/sec)\n",
            "NotebookApp.rate_limit_window=3.0 (secs)\n",
            "\n"
          ]
        }
      ],
      "source": [
        "print(src2idx)\n",
        "print(idx2src)\n",
        "print(tar2idx)\n",
        "print(idx2tar)"
      ]
    },
    {
      "cell_type": "markdown",
      "metadata": {
        "id": "72zf79OSiF5z"
      },
      "source": [
        "테스트 데이터를 분리하겠습니다. 인코더 input, 디코더 input, 디코더 output이 동일하게 분리되어야 하기 때문에 랜덤한 정수배열을 만들어 직접 나누겠습니다."
      ]
    },
    {
      "cell_type": "markdown",
      "metadata": {
        "id": "_Uin3zVNk2si"
      },
      "source": [
        "우선 랜덤하게 시퀀스를 섞습니다."
      ]
    },
    {
      "cell_type": "code",
      "execution_count": null,
      "metadata": {
        "colab": {
          "base_uri": "https://localhost:8080/"
        },
        "id": "V_411fG-j8n0",
        "outputId": "1559140b-e12e-44ad-9444-91d059212d00"
      },
      "outputs": [
        {
          "output_type": "stream",
          "name": "stdout",
          "text": [
            "랜덤 시퀀스 : [198442 164074   4683 ...  76020  65523  90707]\n",
            "\n",
            "[   3   34   23 1610   17   35   18 4159    5 2619  654   13   27  485\n",
            "    2    0    0    0    0    0    0    0    0    0    0    0    0    0\n",
            "    0    0    0    0    0    0    0    0    0    0    0    0    0    0\n",
            "    0    0    0    0    0    0    0    0    0    0]\n",
            "[  34   23 1610   17   35   18 4159    5 2619  654   13   27  485    2\n",
            "    4    0    0    0    0    0    0    0    0    0    0    0    0    0\n",
            "    0    0    0    0    0    0    0    0    0    0    0    0    0    0\n",
            "    0    0    0    0    0    0    0    0    0    0]\n"
          ]
        }
      ],
      "source": [
        "# 랜덤 인덱스 생성\n",
        "indices = np.arange(encoder_input.shape[0])\n",
        "np.random.shuffle(indices)\n",
        "print('랜덤 시퀀스 :',indices)\n",
        "\n",
        "# 랜덤하게 섞기\n",
        "encoder_input = encoder_input[indices]\n",
        "decoder_input = decoder_input[indices]\n",
        "decoder_target = decoder_target[indices]\n",
        "\n",
        "print()\n",
        "print(decoder_input[indices[0]])\n",
        "print(decoder_target[indices[0]])"
      ]
    },
    {
      "cell_type": "markdown",
      "metadata": {
        "id": "wlasGiQLklZv"
      },
      "source": [
        "`<sos>` `<eos>` 토큰을 제외한 다른 단어들은 동일한 인덱스를 갖고 있어야 합니다."
      ]
    },
    {
      "cell_type": "markdown",
      "metadata": {
        "id": "PTdeGOr5k5go"
      },
      "source": [
        "10%의 데이터를 test데이터로 분리하겠습니다."
      ]
    },
    {
      "cell_type": "code",
      "execution_count": null,
      "metadata": {
        "id": "cg_H09pykkNT"
      },
      "outputs": [],
      "source": [
        "n_of_val = int(NUM_SAMPLES*0.15) # 900\n",
        "\n",
        "# train data\n",
        "encoder_input_train = encoder_input[:-n_of_val]\n",
        "decoder_input_train = decoder_input[:-n_of_val]\n",
        "decoder_target_train = decoder_target[:-n_of_val]\n",
        "\n",
        "# test data\n",
        "encoder_input_test = encoder_input[-n_of_val:]\n",
        "decoder_input_test = decoder_input[-n_of_val:]\n",
        "decoder_target_test = decoder_target[-n_of_val:]"
      ]
    },
    {
      "cell_type": "code",
      "execution_count": null,
      "metadata": {
        "colab": {
          "base_uri": "https://localhost:8080/"
        },
        "id": "fDn7Vq5KlGLG",
        "outputId": "7e690efa-47d2-4fba-d06f-96ab340a1dde"
      },
      "outputs": [
        {
          "output_type": "stream",
          "name": "stdout",
          "text": [
            "훈련 source 데이터의 크기 : (170000, 31)\n",
            "훈련 target 데이터의 크기 : (170000, 52)\n",
            "훈련 target 레이블의 크기 : (170000, 52)\n",
            "테스트 source 데이터의 크기 : (30000, 31)\n",
            "테스트 target 데이터의 크기 : (30000, 52)\n",
            "테스트 target 레이블의 크기 : (30000, 52)\n"
          ]
        }
      ],
      "source": [
        "print('훈련 source 데이터의 크기 :',encoder_input_train.shape)\n",
        "print('훈련 target 데이터의 크기 :',decoder_input_train.shape)\n",
        "print('훈련 target 레이블의 크기 :',decoder_target_train.shape)\n",
        "print('테스트 source 데이터의 크기 :',encoder_input_test.shape)\n",
        "print('테스트 target 데이터의 크기 :',decoder_input_test.shape)\n",
        "print('테스트 target 레이블의 크기 :',decoder_target_test.shape)"
      ]
    },
    {
      "cell_type": "markdown",
      "metadata": {
        "id": "ZHk-KpCzwhaT"
      },
      "source": [
        "## 모델링 (학습)"
      ]
    },
    {
      "cell_type": "markdown",
      "metadata": {
        "id": "r2JlE6fe4MAs"
      },
      "source": [
        "#### 1. 인코더"
      ]
    },
    {
      "cell_type": "markdown",
      "metadata": {
        "id": "OKA2fmDGligp"
      },
      "source": [
        "인코더를 설계합니다.\n",
        "\n",
        "LSTM 레이어를 사용하므로 context vector는 `hidden state`와 `cell state` 총 2가지 모두를 사용합니다.\n",
        "- 이 두 가지 상태를 encoder_states로 묶어서 저장하겠습니다."
      ]
    },
    {
      "cell_type": "markdown",
      "metadata": {
        "id": "Y03Y7Iwi48O8"
      },
      "source": [
        "#### 2. 디코더"
      ]
    },
    {
      "cell_type": "markdown",
      "metadata": {
        "id": "qrkJuaU0mWwS"
      },
      "source": [
        "1. 디코더는 인코더의 마지막 은닉 상태로부터 초기 은닉 상태를 얻습니다.\n",
        "    - initial_state의 인자값으로 encoder_states를 주는 코드가 이에 해당됩니다.\n",
        "\n",
        "2. 디코더도 은닉 상태, 셀 상태를 리턴하기는 하지만 훈련 과정에서는 사용하지 않습니다. (Teacher Forcing을 위해)\n",
        "\n",
        "3. seq2seq의 디코더는 기본적으로 각 시점마다 다중 클래스 분류 문제를 풀고있습니다.\n",
        "    - 매 시점마다 프랑스어 단어 집합의 크기(tar_vocab_size)의 선택지에서 단어를 1개 선택하여 이를 이번 시점에서 예측한 단어로 택합니다.\n",
        "    - 다중 클래스 분류 문제이므로 출력층으로 소프트맥스 함수와 손실 함수를 크로스 엔트로피 함수를 사용합니다.\n",
        "        - categorical_crossentropy를 사용하려면 레이블은 원-핫 인코딩이 된 상태여야 합니다\n",
        "        - 그런데 현재 decoder_outputs의 경우에는 원-핫 인코딩을 하지 않은 상태입니다.\n",
        "        - 원-핫 인코딩을 하지 않은 상태로 정수 레이블에 대해서 다중 클래스 분류 문제를 풀고자 하는 경우에는 `categorical_crossentropy`가 아니라 `sparse_categorical_crossentropy`를 사용하면 됩니다."
      ]
    },
    {
      "cell_type": "code",
      "execution_count": null,
      "metadata": {
        "id": "oom_Gq0blQJL"
      },
      "outputs": [],
      "source": [
        "# from tensorflow.keras.layers import Embedding, GRU, Dense ,LSTM, Input\n",
        "# # 인코더 (Train)\n",
        "\n",
        "# ## 층\n",
        "# enc_emb_layer = Embedding(SRC_VOCAB_SIZE, EMBEDDING_DIM)\n",
        "# encoder_lstm = LSTM(HIDDEN_DIM, return_state = True) # 상태값 리턴을 위해 return_state는 True\n",
        "\n",
        "\n",
        "# ## input -> output\n",
        "# encoder_inputs = Input(shape=(None, ))\n",
        "# enc_emb = enc_emb_layer(encoder_inputs)\n",
        "# encoder_outputs, state_h, state_c =  encoder_lstm(enc_emb)\n",
        "\n",
        "# encoder_states = [state_h, state_c] # 인코더의 은닉 상태와 셀 상태를 리스트로 저장"
      ]
    },
    {
      "cell_type": "code",
      "execution_count": null,
      "metadata": {
        "id": "pGUw_ziMsOAK"
      },
      "outputs": [],
      "source": [
        "# # 디코더 (Train)\n",
        "\n",
        "# ## 층\n",
        "# #상태값 리턴을 위해 lstm layer return_state는 True, 모든 시점에 대해서 단어를 예측하기 위해 return_sequences는 True\n",
        "# dec_emb_layer = Embedding(TAR_VOCAB_SIZE, HIDDEN_DIM)\n",
        "# decoder_lstm = LSTM(HIDDEN_DIM, return_sequences=True, return_state = True)\n",
        "# decoder_dense = Dense(TAR_VOCAB_SIZE, activation = 'softmax')\n",
        "\n",
        "\n",
        "# ## input -> output\n",
        "# # 인코더 RNN의 은닉 상태를 초기 은닉 상태(initial_state)로 사용\n",
        "# decoder_inputs = Input(shape=(None, ))\n",
        "# dec_emb = dec_emb_layer(decoder_inputs)\n",
        "# decoder_outputs, _, _ = decoder_lstm(dec_emb, initial_state = encoder_states)\n",
        "\n",
        "# # 모든 시점의 결과에 대해서 소프트맥스 함수를 사용한 출력층을 통해 단어 예측\n",
        "# decoder_outputs = decoder_dense(decoder_outputs)"
      ]
    },
    {
      "cell_type": "code",
      "execution_count": null,
      "metadata": {
        "id": "Dafd3G8ZQEhp"
      },
      "outputs": [],
      "source": [
        "import tensorflow as tf\n",
        "from tensorflow.keras.layers import LSTM, InputLayer, Dense, Embedding, Input, Attention, Flatten, GRU\n",
        "from tensorflow.keras import Model\n",
        "\n",
        "# enc\n",
        "enc_emb_layer = Embedding(SRC_VOCAB_SIZE, EMBEDDING_DIM)\n",
        "enc_gru = GRU(HIDDEN_DIM,return_sequences = True, return_state= True)\n",
        "\n",
        "\n",
        "encoder_inputs = Input(shape=(None, ))\n",
        "enc_emb = enc_emb_layer(encoder_inputs)\n",
        "encoder_outputs, state_h =  enc_gru(enc_emb)\n",
        "\n",
        "# hidden state 저장\n",
        "encoder_states = [state_h]\n",
        "\n",
        "# dec\n",
        "dec_emb_layer = Embedding(TAR_VOCAB_SIZE, HIDDEN_DIM)\n",
        "decoder_gru = GRU(HIDDEN_DIM, return_sequences=True, return_state = True)\n",
        "decoder_dense = Dense(TAR_VOCAB_SIZE, activation = 'softmax')\n",
        "\n",
        "\n",
        "## input -> output\n",
        "# 인코더 RNN의 은닉 상태를 초기 은닉 상태(initial_state)로 사용\n",
        "decoder_inputs = Input(shape=(None, ))\n",
        "dec_emb = dec_emb_layer(decoder_inputs)\n",
        "decoder_outputs, _ = decoder_gru(dec_emb, initial_state = encoder_states)\n",
        "\n",
        "att = Attention()([decoder_outputs, encoder_outputs]) # 앞이 쿼리, 뒤에가 value\n",
        "# 어텐션은 인코더에 가중치를 곱하는 것, 디코더 정보는 추가해서 넣어줘야 함\n",
        "# Concatenate에 어텐션, 디코더 정보 합쳐주는 작업 필요\n",
        "concat = tf.keras.layers.Concatenate()([att, decoder_outputs])\n",
        "\n",
        "# 모든 시점의 결과에 대해서 소프트맥스 함수를 사용한 출력층을 통해 단어 예측\n",
        "decoder_outputs = decoder_dense(concat)"
      ]
    },
    {
      "cell_type": "code",
      "execution_count": null,
      "metadata": {
        "id": "MaIzBFFIsgmU"
      },
      "outputs": [],
      "source": [
        "# 모델의 입력과 출력을 정의.\n",
        "model = Model(inputs = [encoder_inputs, decoder_inputs], outputs = decoder_outputs)\n",
        "\n",
        "model.compile(optimizer='adam', loss='sparse_categorical_crossentropy', metrics=['acc'])"
      ]
    },
    {
      "cell_type": "code",
      "execution_count": null,
      "metadata": {
        "colab": {
          "base_uri": "https://localhost:8080/"
        },
        "id": "3sYBWRQ2wpM2",
        "outputId": "628e8d53-2e4e-4cc5-ad91-1288fdb47c0f"
      },
      "outputs": [
        {
          "output_type": "stream",
          "name": "stdout",
          "text": [
            "Model: \"model_1\"\n",
            "__________________________________________________________________________________________________\n",
            " Layer (type)                   Output Shape         Param #     Connected to                     \n",
            "==================================================================================================\n",
            " input_3 (InputLayer)           [(None, None)]       0           []                               \n",
            "                                                                                                  \n",
            " input_4 (InputLayer)           [(None, None)]       0           []                               \n",
            "                                                                                                  \n",
            " embedding_2 (Embedding)        (None, None, 512)    99662336    ['input_3[0][0]']                \n",
            "                                                                                                  \n",
            " embedding_3 (Embedding)        (None, None, 512)    21675008    ['input_4[0][0]']                \n",
            "                                                                                                  \n",
            " gru_2 (GRU)                    [(None, None, 512),  1575936     ['embedding_2[0][0]']            \n",
            "                                 (None, 512)]                                                     \n",
            "                                                                                                  \n",
            " gru_3 (GRU)                    [(None, None, 512),  1575936     ['embedding_3[0][0]',            \n",
            "                                 (None, 512)]                     'gru_2[0][1]']                  \n",
            "                                                                                                  \n",
            " attention_1 (Attention)        (None, None, 512)    0           ['gru_3[0][0]',                  \n",
            "                                                                  'gru_2[0][0]']                  \n",
            "                                                                                                  \n",
            " concatenate_1 (Concatenate)    (None, None, 1024)   0           ['attention_1[0][0]',            \n",
            "                                                                  'gru_3[0][0]']                  \n",
            "                                                                                                  \n",
            " dense_1 (Dense)                (None, None, 42334)  43392350    ['concatenate_1[0][0]']          \n",
            "                                                                                                  \n",
            "==================================================================================================\n",
            "Total params: 167,881,566\n",
            "Trainable params: 167,881,566\n",
            "Non-trainable params: 0\n",
            "__________________________________________________________________________________________________\n"
          ]
        }
      ],
      "source": [
        "model.summary()"
      ]
    },
    {
      "cell_type": "code",
      "execution_count": null,
      "metadata": {
        "colab": {
          "base_uri": "https://localhost:8080/",
          "height": 466
        },
        "id": "0RBYZiSxvXXc",
        "outputId": "222aeda7-07f3-49e1-9bf3-4c29113c7542"
      },
      "outputs": [
        {
          "data": {
            "image/png": "[encoded data removed]",
            "text/plain": [
              "<IPython.core.display.Image object>"
            ]
          },
          "execution_count": 45,
          "metadata": {},
          "output_type": "execute_result"
        }
      ],
      "source": [
        "tf.keras.utils.plot_model(model, to_file='model.png', )"
      ]
    },
    {
      "cell_type": "code",
      "execution_count": null,
      "metadata": {
        "id": "ndHgD006QEhr"
      },
      "outputs": [],
      "source": [
        "# 변수\n",
        "HIDDEN_DIM = 512\n",
        "EMBEDDING_DIM = 512\n",
        "NUM_SAMPLES = 200000\n",
        "BATCH_SIZE = 128\n",
        "EPOCHS = 1"
      ]
    },
    {
      "cell_type": "code",
      "source": [
        "model = load_model('/content/best_model_vs.h5')"
      ],
      "metadata": {
        "id": "fKTp6GSk6Nn_"
      },
      "execution_count": null,
      "outputs": []
    },
    {
      "cell_type": "code",
      "execution_count": null,
      "metadata": {
        "id": "eRKB165fshn1"
      },
      "outputs": [],
      "source": [
        "import tensorflow as tf\n",
        "from tensorflow.keras.callbacks import ModelCheckpoint, EarlyStopping\n",
        "\n",
        "earlystopping = tf.keras.callbacks.EarlyStopping(monitor='val_loss', restore_best_weights=True, patience=3)\n",
        "model_save = tf.keras.callbacks.ModelCheckpoint(filepath = 'best_model_.h5', verbose = 1, save_best_only = True)\n",
        "\n",
        "history = model.fit(x = [encoder_input_train, decoder_input_train],\n",
        "          y = decoder_target_train,\n",
        "\n",
        "          validation_data = ([encoder_input_test, decoder_input_test], decoder_target_test),\n",
        "          batch_size = BATCH_SIZE,\n",
        "          callbacks = [earlystopping, model_save],\n",
        "          epochs = EPOCHS)"
      ]
    },
    {
      "cell_type": "code",
      "execution_count": null,
      "metadata": {
        "id": "zbhpZNrLRkKv"
      },
      "outputs": [],
      "source": [
        "def plot_history(history):\n",
        "  hist = pd.DataFrame(history.history)\n",
        "  hist['epoch'] = history.epoch\n",
        "\n",
        "  plt.figure(figsize=(12, 6))\n",
        "\n",
        "  plt.subplot(1,2,1)\n",
        "  plt.xlabel('Epoch')\n",
        "  plt.ylabel('Loss')\n",
        "  plt.plot(hist['epoch'], hist['loss'],\n",
        "           label='Train Loss')\n",
        "  plt.plot(hist['epoch'], hist['val_loss'],\n",
        "           label = 'Val Loss')\n",
        "  plt.ylim([0,5])\n",
        "  plt.legend()\n",
        "\n",
        "  plt.subplot(1,2,2)\n",
        "  plt.xlabel('Epoch')\n",
        "  plt.ylabel('Accuracy')\n",
        "  plt.plot(hist['epoch'], hist['acc'],\n",
        "           label='Train Acc')\n",
        "  plt.plot(hist['epoch'], hist['val_acc'],\n",
        "           label = 'Val Acc')\n",
        "  plt.ylim([0,20])\n",
        "  plt.legend()\n",
        "  plt.show()\n",
        "\n",
        "plot_history(history)"
      ]
    },
    {
      "cell_type": "markdown",
      "metadata": {
        "id": "mU3Ce8M6I3rz"
      },
      "source": [
        "## Inference\n",
        "\n",
        "- 학습된 모델을 바탕으로 번역기를 만들어봅시다. -> 즉 inference용 번역기\n",
        "\n",
        "- *교사 강요(teacher forcing)*를 사용하기 못하는 것을 제외하고는 훈련 루프와 비슷합니다. 각 마지막 시점(time step)에서 이전 디코더 인코더의 결과와 은닉 상태(hidden state)를 가진 예측 값을 디코더에 입력합니다.\n",
        "\n",
        "    1. 번역하고자 하는 입력 문장이 인코더로 입력되어 인코더의 마지막 시점의 은닉 상태와 셀 상태를 얻습니다.\n",
        "    2. 인코더의 은닉 상태와 셀 상태, 그리고 토큰 <sos>를 디코더로 보냅니다.\n",
        "    3. 디코더가 토큰 <eos>가 나올 때까지 다음 단어를 예측하는 행동을 반복합니다."
      ]
    },
    {
      "cell_type": "markdown",
      "metadata": {
        "id": "LUgNFPpJQEhs"
      },
      "source": [
        "### 모델 불러오기"
      ]
    },
    {
      "cell_type": "code",
      "source": [
        "model.load_weights('/content/best_model_vs.h5')"
      ],
      "metadata": {
        "colab": {
          "base_uri": "https://localhost:8080/",
          "height": 437
        },
        "id": "dp-brota53Kt",
        "outputId": "e3cd56fc-3ac9-4f93-850f-ccd38ae15365"
      },
      "execution_count": null,
      "outputs": [
        {
          "output_type": "error",
          "ename": "OSError",
          "evalue": "ignored",
          "traceback": [
            "\u001b[0;31m---------------------------------------------------------------------------\u001b[0m",
            "\u001b[0;31mOSError\u001b[0m                                   Traceback (most recent call last)",
            "\u001b[0;32m<ipython-input-34-4c098df07aff>\u001b[0m in \u001b[0;36m<cell line: 1>\u001b[0;34m()\u001b[0m\n\u001b[0;32m----> 1\u001b[0;31m \u001b[0mmodel\u001b[0m\u001b[0;34m.\u001b[0m\u001b[0mload_weights\u001b[0m\u001b[0;34m(\u001b[0m\u001b[0;34m'/content/best_model_vs.h5'\u001b[0m\u001b[0;34m)\u001b[0m\u001b[0;34m\u001b[0m\u001b[0;34m\u001b[0m\u001b[0m\n\u001b[0m",
            "\u001b[0;32m/usr/local/lib/python3.10/dist-packages/keras/utils/traceback_utils.py\u001b[0m in \u001b[0;36merror_handler\u001b[0;34m(*args, **kwargs)\u001b[0m\n\u001b[1;32m     68\u001b[0m             \u001b[0;31m# To get the full stack trace, call:\u001b[0m\u001b[0;34m\u001b[0m\u001b[0;34m\u001b[0m\u001b[0m\n\u001b[1;32m     69\u001b[0m             \u001b[0;31m# `tf.debugging.disable_traceback_filtering()`\u001b[0m\u001b[0;34m\u001b[0m\u001b[0;34m\u001b[0m\u001b[0m\n\u001b[0;32m---> 70\u001b[0;31m             \u001b[0;32mraise\u001b[0m \u001b[0me\u001b[0m\u001b[0;34m.\u001b[0m\u001b[0mwith_traceback\u001b[0m\u001b[0;34m(\u001b[0m\u001b[0mfiltered_tb\u001b[0m\u001b[0;34m)\u001b[0m \u001b[0;32mfrom\u001b[0m \u001b[0;32mNone\u001b[0m\u001b[0;34m\u001b[0m\u001b[0;34m\u001b[0m\u001b[0m\n\u001b[0m\u001b[1;32m     71\u001b[0m         \u001b[0;32mfinally\u001b[0m\u001b[0;34m:\u001b[0m\u001b[0;34m\u001b[0m\u001b[0;34m\u001b[0m\u001b[0m\n\u001b[1;32m     72\u001b[0m             \u001b[0;32mdel\u001b[0m \u001b[0mfiltered_tb\u001b[0m\u001b[0;34m\u001b[0m\u001b[0;34m\u001b[0m\u001b[0m\n",
            "\u001b[0;32m/usr/local/lib/python3.10/dist-packages/h5py/_hl/files.py\u001b[0m in \u001b[0;36m__init__\u001b[0;34m(self, name, mode, driver, libver, userblock_size, swmr, rdcc_nslots, rdcc_nbytes, rdcc_w0, track_order, fs_strategy, fs_persist, fs_threshold, fs_page_size, page_buf_size, min_meta_keep, min_raw_keep, locking, alignment_threshold, alignment_interval, meta_block_size, **kwds)\u001b[0m\n\u001b[1;32m    565\u001b[0m                                  \u001b[0mfs_persist\u001b[0m\u001b[0;34m=\u001b[0m\u001b[0mfs_persist\u001b[0m\u001b[0;34m,\u001b[0m \u001b[0mfs_threshold\u001b[0m\u001b[0;34m=\u001b[0m\u001b[0mfs_threshold\u001b[0m\u001b[0;34m,\u001b[0m\u001b[0;34m\u001b[0m\u001b[0;34m\u001b[0m\u001b[0m\n\u001b[1;32m    566\u001b[0m                                  fs_page_size=fs_page_size)\n\u001b[0;32m--> 567\u001b[0;31m                 \u001b[0mfid\u001b[0m \u001b[0;34m=\u001b[0m \u001b[0mmake_fid\u001b[0m\u001b[0;34m(\u001b[0m\u001b[0mname\u001b[0m\u001b[0;34m,\u001b[0m \u001b[0mmode\u001b[0m\u001b[0;34m,\u001b[0m \u001b[0muserblock_size\u001b[0m\u001b[0;34m,\u001b[0m \u001b[0mfapl\u001b[0m\u001b[0;34m,\u001b[0m \u001b[0mfcpl\u001b[0m\u001b[0;34m,\u001b[0m \u001b[0mswmr\u001b[0m\u001b[0;34m=\u001b[0m\u001b[0mswmr\u001b[0m\u001b[0;34m)\u001b[0m\u001b[0;34m\u001b[0m\u001b[0;34m\u001b[0m\u001b[0m\n\u001b[0m\u001b[1;32m    568\u001b[0m \u001b[0;34m\u001b[0m\u001b[0m\n\u001b[1;32m    569\u001b[0m             \u001b[0;32mif\u001b[0m \u001b[0misinstance\u001b[0m\u001b[0;34m(\u001b[0m\u001b[0mlibver\u001b[0m\u001b[0;34m,\u001b[0m \u001b[0mtuple\u001b[0m\u001b[0;34m)\u001b[0m\u001b[0;34m:\u001b[0m\u001b[0;34m\u001b[0m\u001b[0;34m\u001b[0m\u001b[0m\n",
            "\u001b[0;32m/usr/local/lib/python3.10/dist-packages/h5py/_hl/files.py\u001b[0m in \u001b[0;36mmake_fid\u001b[0;34m(name, mode, userblock_size, fapl, fcpl, swmr)\u001b[0m\n\u001b[1;32m    229\u001b[0m         \u001b[0;32mif\u001b[0m \u001b[0mswmr\u001b[0m \u001b[0;32mand\u001b[0m \u001b[0mswmr_support\u001b[0m\u001b[0;34m:\u001b[0m\u001b[0;34m\u001b[0m\u001b[0;34m\u001b[0m\u001b[0m\n\u001b[1;32m    230\u001b[0m             \u001b[0mflags\u001b[0m \u001b[0;34m|=\u001b[0m \u001b[0mh5f\u001b[0m\u001b[0;34m.\u001b[0m\u001b[0mACC_SWMR_READ\u001b[0m\u001b[0;34m\u001b[0m\u001b[0;34m\u001b[0m\u001b[0m\n\u001b[0;32m--> 231\u001b[0;31m         \u001b[0mfid\u001b[0m \u001b[0;34m=\u001b[0m \u001b[0mh5f\u001b[0m\u001b[0;34m.\u001b[0m\u001b[0mopen\u001b[0m\u001b[0;34m(\u001b[0m\u001b[0mname\u001b[0m\u001b[0;34m,\u001b[0m \u001b[0mflags\u001b[0m\u001b[0;34m,\u001b[0m \u001b[0mfapl\u001b[0m\u001b[0;34m=\u001b[0m\u001b[0mfapl\u001b[0m\u001b[0;34m)\u001b[0m\u001b[0;34m\u001b[0m\u001b[0;34m\u001b[0m\u001b[0m\n\u001b[0m\u001b[1;32m    232\u001b[0m     \u001b[0;32melif\u001b[0m \u001b[0mmode\u001b[0m \u001b[0;34m==\u001b[0m \u001b[0;34m'r+'\u001b[0m\u001b[0;34m:\u001b[0m\u001b[0;34m\u001b[0m\u001b[0;34m\u001b[0m\u001b[0m\n\u001b[1;32m    233\u001b[0m         \u001b[0mfid\u001b[0m \u001b[0;34m=\u001b[0m \u001b[0mh5f\u001b[0m\u001b[0;34m.\u001b[0m\u001b[0mopen\u001b[0m\u001b[0;34m(\u001b[0m\u001b[0mname\u001b[0m\u001b[0;34m,\u001b[0m \u001b[0mh5f\u001b[0m\u001b[0;34m.\u001b[0m\u001b[0mACC_RDWR\u001b[0m\u001b[0;34m,\u001b[0m \u001b[0mfapl\u001b[0m\u001b[0;34m=\u001b[0m\u001b[0mfapl\u001b[0m\u001b[0;34m)\u001b[0m\u001b[0;34m\u001b[0m\u001b[0;34m\u001b[0m\u001b[0m\n",
            "\u001b[0;32mh5py/_objects.pyx\u001b[0m in \u001b[0;36mh5py._objects.with_phil.wrapper\u001b[0;34m()\u001b[0m\n",
            "\u001b[0;32mh5py/_objects.pyx\u001b[0m in \u001b[0;36mh5py._objects.with_phil.wrapper\u001b[0;34m()\u001b[0m\n",
            "\u001b[0;32mh5py/h5f.pyx\u001b[0m in \u001b[0;36mh5py.h5f.open\u001b[0;34m()\u001b[0m\n",
            "\u001b[0;31mOSError\u001b[0m: Unable to open file (truncated file: eof = 51380224, sblock->base_addr = 0, stored_eof = 158485392)"
          ]
        }
      ]
    },
    {
      "cell_type": "code",
      "execution_count": null,
      "metadata": {
        "colab": {
          "base_uri": "https://localhost:8080/",
          "height": 455
        },
        "id": "Ufbo3jRnQEhs",
        "outputId": "5a6b42ff-7cc4-46be-e0b9-7155b0c946a4"
      },
      "outputs": [
        {
          "output_type": "error",
          "ename": "OSError",
          "evalue": "ignored",
          "traceback": [
            "\u001b[0;31m---------------------------------------------------------------------------\u001b[0m",
            "\u001b[0;31mOSError\u001b[0m                                   Traceback (most recent call last)",
            "\u001b[0;32m<ipython-input-33-7d5a5710cd0f>\u001b[0m in \u001b[0;36m<cell line: 2>\u001b[0;34m()\u001b[0m\n\u001b[1;32m      1\u001b[0m \u001b[0;32mfrom\u001b[0m \u001b[0mkeras\u001b[0m\u001b[0;34m.\u001b[0m\u001b[0mmodels\u001b[0m \u001b[0;32mimport\u001b[0m \u001b[0mload_model\u001b[0m\u001b[0;34m\u001b[0m\u001b[0;34m\u001b[0m\u001b[0m\n\u001b[0;32m----> 2\u001b[0;31m \u001b[0mmodel\u001b[0m \u001b[0;34m=\u001b[0m \u001b[0mload_model\u001b[0m\u001b[0;34m(\u001b[0m\u001b[0;34m'/content/best_model_vs.h5'\u001b[0m\u001b[0;34m)\u001b[0m\u001b[0;34m\u001b[0m\u001b[0;34m\u001b[0m\u001b[0m\n\u001b[0m",
            "\u001b[0;32m/usr/local/lib/python3.10/dist-packages/keras/saving/saving_api.py\u001b[0m in \u001b[0;36mload_model\u001b[0;34m(filepath, custom_objects, compile, safe_mode, **kwargs)\u001b[0m\n\u001b[1;32m    210\u001b[0m \u001b[0;34m\u001b[0m\u001b[0m\n\u001b[1;32m    211\u001b[0m     \u001b[0;31m# Legacy case.\u001b[0m\u001b[0;34m\u001b[0m\u001b[0;34m\u001b[0m\u001b[0m\n\u001b[0;32m--> 212\u001b[0;31m     return legacy_sm_saving_lib.load_model(\n\u001b[0m\u001b[1;32m    213\u001b[0m         \u001b[0mfilepath\u001b[0m\u001b[0;34m,\u001b[0m \u001b[0mcustom_objects\u001b[0m\u001b[0;34m=\u001b[0m\u001b[0mcustom_objects\u001b[0m\u001b[0;34m,\u001b[0m \u001b[0mcompile\u001b[0m\u001b[0;34m=\u001b[0m\u001b[0mcompile\u001b[0m\u001b[0;34m,\u001b[0m \u001b[0;34m**\u001b[0m\u001b[0mkwargs\u001b[0m\u001b[0;34m\u001b[0m\u001b[0;34m\u001b[0m\u001b[0m\n\u001b[1;32m    214\u001b[0m     )\n",
            "\u001b[0;32m/usr/local/lib/python3.10/dist-packages/keras/utils/traceback_utils.py\u001b[0m in \u001b[0;36merror_handler\u001b[0;34m(*args, **kwargs)\u001b[0m\n\u001b[1;32m     68\u001b[0m             \u001b[0;31m# To get the full stack trace, call:\u001b[0m\u001b[0;34m\u001b[0m\u001b[0;34m\u001b[0m\u001b[0m\n\u001b[1;32m     69\u001b[0m             \u001b[0;31m# `tf.debugging.disable_traceback_filtering()`\u001b[0m\u001b[0;34m\u001b[0m\u001b[0;34m\u001b[0m\u001b[0m\n\u001b[0;32m---> 70\u001b[0;31m             \u001b[0;32mraise\u001b[0m \u001b[0me\u001b[0m\u001b[0;34m.\u001b[0m\u001b[0mwith_traceback\u001b[0m\u001b[0;34m(\u001b[0m\u001b[0mfiltered_tb\u001b[0m\u001b[0;34m)\u001b[0m \u001b[0;32mfrom\u001b[0m \u001b[0;32mNone\u001b[0m\u001b[0;34m\u001b[0m\u001b[0;34m\u001b[0m\u001b[0m\n\u001b[0m\u001b[1;32m     71\u001b[0m         \u001b[0;32mfinally\u001b[0m\u001b[0;34m:\u001b[0m\u001b[0;34m\u001b[0m\u001b[0;34m\u001b[0m\u001b[0m\n\u001b[1;32m     72\u001b[0m             \u001b[0;32mdel\u001b[0m \u001b[0mfiltered_tb\u001b[0m\u001b[0;34m\u001b[0m\u001b[0;34m\u001b[0m\u001b[0m\n",
            "\u001b[0;32m/usr/local/lib/python3.10/dist-packages/h5py/_hl/files.py\u001b[0m in \u001b[0;36m__init__\u001b[0;34m(self, name, mode, driver, libver, userblock_size, swmr, rdcc_nslots, rdcc_nbytes, rdcc_w0, track_order, fs_strategy, fs_persist, fs_threshold, fs_page_size, page_buf_size, min_meta_keep, min_raw_keep, locking, alignment_threshold, alignment_interval, meta_block_size, **kwds)\u001b[0m\n\u001b[1;32m    565\u001b[0m                                  \u001b[0mfs_persist\u001b[0m\u001b[0;34m=\u001b[0m\u001b[0mfs_persist\u001b[0m\u001b[0;34m,\u001b[0m \u001b[0mfs_threshold\u001b[0m\u001b[0;34m=\u001b[0m\u001b[0mfs_threshold\u001b[0m\u001b[0;34m,\u001b[0m\u001b[0;34m\u001b[0m\u001b[0;34m\u001b[0m\u001b[0m\n\u001b[1;32m    566\u001b[0m                                  fs_page_size=fs_page_size)\n\u001b[0;32m--> 567\u001b[0;31m                 \u001b[0mfid\u001b[0m \u001b[0;34m=\u001b[0m \u001b[0mmake_fid\u001b[0m\u001b[0;34m(\u001b[0m\u001b[0mname\u001b[0m\u001b[0;34m,\u001b[0m \u001b[0mmode\u001b[0m\u001b[0;34m,\u001b[0m \u001b[0muserblock_size\u001b[0m\u001b[0;34m,\u001b[0m \u001b[0mfapl\u001b[0m\u001b[0;34m,\u001b[0m \u001b[0mfcpl\u001b[0m\u001b[0;34m,\u001b[0m \u001b[0mswmr\u001b[0m\u001b[0;34m=\u001b[0m\u001b[0mswmr\u001b[0m\u001b[0;34m)\u001b[0m\u001b[0;34m\u001b[0m\u001b[0;34m\u001b[0m\u001b[0m\n\u001b[0m\u001b[1;32m    568\u001b[0m \u001b[0;34m\u001b[0m\u001b[0m\n\u001b[1;32m    569\u001b[0m             \u001b[0;32mif\u001b[0m \u001b[0misinstance\u001b[0m\u001b[0;34m(\u001b[0m\u001b[0mlibver\u001b[0m\u001b[0;34m,\u001b[0m \u001b[0mtuple\u001b[0m\u001b[0;34m)\u001b[0m\u001b[0;34m:\u001b[0m\u001b[0;34m\u001b[0m\u001b[0;34m\u001b[0m\u001b[0m\n",
            "\u001b[0;32m/usr/local/lib/python3.10/dist-packages/h5py/_hl/files.py\u001b[0m in \u001b[0;36mmake_fid\u001b[0;34m(name, mode, userblock_size, fapl, fcpl, swmr)\u001b[0m\n\u001b[1;32m    229\u001b[0m         \u001b[0;32mif\u001b[0m \u001b[0mswmr\u001b[0m \u001b[0;32mand\u001b[0m \u001b[0mswmr_support\u001b[0m\u001b[0;34m:\u001b[0m\u001b[0;34m\u001b[0m\u001b[0;34m\u001b[0m\u001b[0m\n\u001b[1;32m    230\u001b[0m             \u001b[0mflags\u001b[0m \u001b[0;34m|=\u001b[0m \u001b[0mh5f\u001b[0m\u001b[0;34m.\u001b[0m\u001b[0mACC_SWMR_READ\u001b[0m\u001b[0;34m\u001b[0m\u001b[0;34m\u001b[0m\u001b[0m\n\u001b[0;32m--> 231\u001b[0;31m         \u001b[0mfid\u001b[0m \u001b[0;34m=\u001b[0m \u001b[0mh5f\u001b[0m\u001b[0;34m.\u001b[0m\u001b[0mopen\u001b[0m\u001b[0;34m(\u001b[0m\u001b[0mname\u001b[0m\u001b[0;34m,\u001b[0m \u001b[0mflags\u001b[0m\u001b[0;34m,\u001b[0m \u001b[0mfapl\u001b[0m\u001b[0;34m=\u001b[0m\u001b[0mfapl\u001b[0m\u001b[0;34m)\u001b[0m\u001b[0;34m\u001b[0m\u001b[0;34m\u001b[0m\u001b[0m\n\u001b[0m\u001b[1;32m    232\u001b[0m     \u001b[0;32melif\u001b[0m \u001b[0mmode\u001b[0m \u001b[0;34m==\u001b[0m \u001b[0;34m'r+'\u001b[0m\u001b[0;34m:\u001b[0m\u001b[0;34m\u001b[0m\u001b[0;34m\u001b[0m\u001b[0m\n\u001b[1;32m    233\u001b[0m         \u001b[0mfid\u001b[0m \u001b[0;34m=\u001b[0m \u001b[0mh5f\u001b[0m\u001b[0;34m.\u001b[0m\u001b[0mopen\u001b[0m\u001b[0;34m(\u001b[0m\u001b[0mname\u001b[0m\u001b[0;34m,\u001b[0m \u001b[0mh5f\u001b[0m\u001b[0;34m.\u001b[0m\u001b[0mACC_RDWR\u001b[0m\u001b[0;34m,\u001b[0m \u001b[0mfapl\u001b[0m\u001b[0;34m=\u001b[0m\u001b[0mfapl\u001b[0m\u001b[0;34m)\u001b[0m\u001b[0;34m\u001b[0m\u001b[0;34m\u001b[0m\u001b[0m\n",
            "\u001b[0;32mh5py/_objects.pyx\u001b[0m in \u001b[0;36mh5py._objects.with_phil.wrapper\u001b[0;34m()\u001b[0m\n",
            "\u001b[0;32mh5py/_objects.pyx\u001b[0m in \u001b[0;36mh5py._objects.with_phil.wrapper\u001b[0;34m()\u001b[0m\n",
            "\u001b[0;32mh5py/h5f.pyx\u001b[0m in \u001b[0;36mh5py.h5f.open\u001b[0;34m()\u001b[0m\n",
            "\u001b[0;31mOSError\u001b[0m: Unable to open file (truncated file: eof = 51380224, sblock->base_addr = 0, stored_eof = 158485392)"
          ]
        }
      ],
      "source": [
        "from keras.models import load_model\n",
        "model = load_model('/content/best_model_vs.h5')"
      ]
    },
    {
      "cell_type": "code",
      "execution_count": null,
      "metadata": {
        "id": "mLxcvFl3QEhs"
      },
      "outputs": [],
      "source": [
        "# # 0. 사용할 패키지 불러오기\n",
        "# from keras.utils import np_utils\n",
        "# from keras.datasets import mnist\n",
        "# from keras.models import Sequential\n",
        "# from keras.layers import Dense, Activation\n",
        "# import numpy as np\n",
        "# from numpy import argmax\n",
        "\n",
        "# # 1. 실무에 사용할 데이터 준비하기\n",
        "# (x_train, y_train), (x_test, y_test) = mnist.load_data()\n",
        "# x_test = x_test.reshape(10000, 784).astype('float32') / 255.0\n",
        "# y_test = np_utils.to_categorical(y_test)\n",
        "# xhat_idx = np.random.choice(x_test.shape[0], 5)\n",
        "# xhat = x_test[xhat_idx]\n",
        "\n",
        "# # 2. 모델 불러오기\n",
        "# from keras.models import load_model\n",
        "# model = load_model('mnist_mlp_model.h5')\n",
        "\n",
        "# # 3. 모델 사용하기\n",
        "# yhat = model.predict_classes(xhat)\n",
        "\n",
        "# for i in range(5):\n",
        "#     print('True : ' + str(argmax(y_test[xhat_idx[i]])) + ', Predict : ' + str(yhat[i]))"
      ]
    },
    {
      "cell_type": "code",
      "execution_count": null,
      "metadata": {
        "id": "rukpj-8Kukng"
      },
      "outputs": [],
      "source": [
        "# 인코더 - 훈련과 동일\n",
        "encoder_model = Model(encoder_inputs, encoder_states)"
      ]
    },
    {
      "cell_type": "code",
      "execution_count": null,
      "metadata": {
        "colab": {
          "base_uri": "https://localhost:8080/"
        },
        "id": "9t9452BO2NND",
        "outputId": "28048e6c-a1b3-42dd-8891-ee8149abe70d"
      },
      "outputs": [
        {
          "data": {
            "text/plain": [
              "array([[ 18,  23,   3,  22, 254,   1,   0,   0,   0,   0,   0,   0,   0,\n",
              "          0,   0]], dtype=int32)"
            ]
          },
          "execution_count": 34,
          "metadata": {},
          "output_type": "execute_result"
        }
      ],
      "source": [
        "encoder_input_train[0:1]"
      ]
    },
    {
      "cell_type": "code",
      "execution_count": null,
      "metadata": {
        "colab": {
          "base_uri": "https://localhost:8080/"
        },
        "id": "0c2aq29K2JIK",
        "outputId": "44777f47-00c3-455a-8022-95a74c767118"
      },
      "outputs": [
        {
          "data": {
            "text/plain": [
              "(TensorShape([1, 256]), TensorShape([1, 256]))"
            ]
          },
          "execution_count": 35,
          "metadata": {},
          "output_type": "execute_result"
        }
      ],
      "source": [
        "# 인코더 모델 확인\n",
        "ht, ct = encoder_model(encoder_input_train[0:1])\n",
        "ht.shape, ct.shape"
      ]
    },
    {
      "cell_type": "code",
      "execution_count": null,
      "metadata": {
        "id": "ppm_LGTSu0as"
      },
      "outputs": [],
      "source": [
        "# 디코더 (Predict)\n",
        "\n",
        "# Input Tensors : 이전 시점의 상태를 보관할 텐서\n",
        "decoder_input_h = Input(shape=(HIDDEN_DIM,))\n",
        "decoder_input_c = Input(shape=(HIDDEN_DIM,))\n",
        "\n",
        "decoder_states_inputs = [decoder_input_h, decoder_input_c]\n",
        "\n",
        "# 훈련 때 사용했던 임베딩 층을 재사용\n",
        "x = dec_emb_layer(decoder_inputs)\n",
        "\n",
        "# 다음 단어 예측을 위해 이전 시점의 상태를 현 시점의 초기 상태로 사용\n",
        "x, state_h2, state_c2 = decoder_lstm(x, initial_state=decoder_states_inputs)\n",
        "decoder_states2 = [state_h2, state_c2]\n",
        "\n",
        "# 모든 시점에 대해서 단어 예측 (Fully Connected)\n",
        "x = decoder_dense(x)\n",
        "\n",
        "# 수정된 디코더\n",
        "decoder_model = Model(\n",
        "    inputs = [decoder_inputs] + decoder_states_inputs,\n",
        "    outputs = [x] + decoder_states2)"
      ]
    },
    {
      "cell_type": "code",
      "execution_count": null,
      "metadata": {
        "id": "v3rlovTC4btD"
      },
      "outputs": [],
      "source": [
        "temp_h = np.random.rand(1, 256)\n",
        "temp_c = np.random.rand(1, 256)"
      ]
    },
    {
      "cell_type": "code",
      "execution_count": null,
      "metadata": {
        "id": "otmmcTjG4T72"
      },
      "outputs": [],
      "source": [
        "x, h, c = decoder_model([decoder_input_train[0:1], temp_h, temp_c])"
      ]
    },
    {
      "cell_type": "code",
      "execution_count": null,
      "metadata": {
        "colab": {
          "base_uri": "https://localhost:8080/"
        },
        "id": "COT106OA4me-",
        "outputId": "8556e4e0-d9b6-43bd-95bd-1e6114293585"
      },
      "outputs": [
        {
          "data": {
            "text/plain": [
              "TensorShape([1, 8, 4518])"
            ]
          },
          "execution_count": 39,
          "metadata": {},
          "output_type": "execute_result"
        }
      ],
      "source": [
        "x.shape"
      ]
    },
    {
      "cell_type": "code",
      "execution_count": null,
      "metadata": {
        "colab": {
          "base_uri": "https://localhost:8080/"
        },
        "id": "lGupzY1Z4nBQ",
        "outputId": "6af1749d-0878-4d32-b83c-f8d293e4e3cf"
      },
      "outputs": [
        {
          "data": {
            "text/plain": [
              "TensorShape([1, 256])"
            ]
          },
          "execution_count": 40,
          "metadata": {},
          "output_type": "execute_result"
        }
      ],
      "source": [
        "h.shape"
      ]
    },
    {
      "cell_type": "code",
      "execution_count": null,
      "metadata": {
        "colab": {
          "base_uri": "https://localhost:8080/"
        },
        "id": "Y0EuzvYB4ndB",
        "outputId": "93534eeb-c177-41cc-c40e-4d3015a40395"
      },
      "outputs": [
        {
          "data": {
            "text/plain": [
              "TensorShape([1, 256])"
            ]
          },
          "execution_count": 41,
          "metadata": {},
          "output_type": "execute_result"
        }
      ],
      "source": [
        "c.shape"
      ]
    },
    {
      "cell_type": "code",
      "execution_count": null,
      "metadata": {
        "id": "gn1WfSUAQgQq"
      },
      "outputs": [],
      "source": [
        "import tensorflow as tf\n",
        "from tensorflow.keras.layers import LSTM, InputLayer, Dense, Embedding, Input, Attention, Flatten, GRU\n",
        "from tensorflow.keras import Model\n",
        "\n",
        "# enc\n",
        "encoder_model = Model(encoder_inputs, encoder_states)\n",
        "\n",
        "# dec\n",
        "dec_emb_layer = Embedding(TAR_VOCAB_SIZE, HIDDEN_DIM)\n",
        "decoder_gru = GRU(HIDDEN_DIM, return_sequences=True, return_state = True)\n",
        "decoder_dense = Dense(TAR_VOCAB_SIZE, activation = 'softmax')\n",
        "\n",
        "## input -> output\n",
        "# 인코더 RNN의 은닉 상태를 초기 은닉 상태(initial_state)로 사용\n",
        "decoder_inputs = Input(shape=(None, ))\n",
        "dec_emb = dec_emb_layer(decoder_inputs)\n",
        "decoder_outputs, _ = decoder_gru(dec_emb, initial_state = encoder_states)\n",
        "\n",
        "att = Attention()([decoder_outputs, encoder_outputs]) # 앞이 쿼리, 뒤에가 value\n",
        "# 어텐션은 인코더에 가중치를 곱하는 것, 디코더 정보는 추가해서 넣어줘야 함\n",
        "# Concatenate에 어텐션, 디코더 정보 합쳐주는 작업 필요\n",
        "concat = tf.keras.layers.Concatenate()([att, decoder_outputs])\n",
        "\n",
        "# 모든 시점의 결과에 대해서 소프트맥스 함수를 사용한 출력층을 통해 단어 예측\n",
        "decoder_outputs = decoder_dense(concat)\n",
        "\n",
        "# Input Tensors : 이전 시점의 상태를 보관할 텐서\n",
        "decoder_input_h = Input(shape=(HIDDEN_DIM,))\n",
        "\n",
        "decoder_states_inputs = [decoder_input_h]\n",
        "\n",
        "# 훈련 때 사용했던 임베딩 층을 재사용\n",
        "x = dec_emb_layer(decoder_inputs)\n",
        "\n",
        "# 다음 단어 예측을 위해 이전 시점의 상태를 현 시점의 초기 상태로 사용\n",
        "x, state_h2,_ = decoder_lstm(x, initial_state=decoder_states_inputs)\n",
        "decoder_states2 = [state_h2]\n",
        "\n",
        "# 모든 시점에 대해서 단어 예측 (Fully Connected)\n",
        "x = decoder_dense(x)\n",
        "\n",
        "# 수정된 디코더\n",
        "decoder_model = Model(\n",
        "    inputs = [decoder_inputs] + decoder_states_inputs,\n",
        "    outputs = [x] + decoder_states2)"
      ]
    },
    {
      "cell_type": "code",
      "execution_count": null,
      "metadata": {
        "colab": {
          "base_uri": "https://localhost:8080/",
          "height": 272
        },
        "id": "42vH9N8PH48g",
        "outputId": "e0df3584-6bd7-441e-a2f7-058f77159329"
      },
      "outputs": [
        {
          "data": {
            "image/png": "[encoded data removed]",
            "text/plain": [
              "<IPython.core.display.Image object>"
            ]
          },
          "execution_count": 42,
          "metadata": {},
          "output_type": "execute_result"
        }
      ],
      "source": [
        "# 인코더 모델 시각화\n",
        "tf.keras.utils.plot_model(encoder_model)"
      ]
    },
    {
      "cell_type": "code",
      "execution_count": null,
      "metadata": {
        "colab": {
          "base_uri": "https://localhost:8080/",
          "height": 422
        },
        "id": "oVA-Ki4cWgPm",
        "outputId": "4855821d-5281-4faf-aa7b-658383429961"
      },
      "outputs": [
        {
          "data": {
            "image/png": "[encoded data removed]",
            "text/plain": [
              "<IPython.core.display.Image object>"
            ]
          },
          "execution_count": 43,
          "metadata": {},
          "output_type": "execute_result"
        }
      ],
      "source": [
        "# 디코더 모델 시각화\n",
        "tf.keras.utils.plot_model(decoder_model, show_shapes = True)"
      ]
    },
    {
      "cell_type": "markdown",
      "metadata": {
        "id": "GHrwC9WWxGjq"
      },
      "source": [
        "테스트 단계에서의 동작을 위한 decode_sequence 함수를 구현합니다.\n",
        "1. 입력 문장이 들어오면 인코더는 마지막 시점까지 전개하여 마지막 시점의 은닉 상태와 셀 상태를 리턴합니다. -> `states_value`\n",
        "2. 디코더의 초기 입력으로 <SOS>를 준비합니다. -> `target_seq`\n",
        "3. 이 두 가지 입력을 가지고 while문 안으로 진입하여 이 두 가지를 디코더의 입력으로 사용합니다.\n",
        "4. 이제 디코더는 현재 시점에 대해서 예측합니다.\n",
        "    - 예측 벡터로부터 현재 시점의 예측 단어인 target_seq를 얻고, h와 c 이 두 개의 값은 states_value에 저장합니다.\n",
        "    - while문의 다음 루프. 즉, 두번째 시점의 디코더의 입력으로 다시 target_seq와 states_value를 사용합니다.\n",
        "    - 이를 현재 시점의 예측 단어로 <eos>를 예측하거나 번역 문장의 길이가 50이 넘는 순간까지 반복합니다.\n",
        "5. 각 시점마다 번역된 단어는 decoded_sentence에 누적하여 저장하였다가 최종 번역 시퀀스로 리턴합니다."
      ]
    },
    {
      "cell_type": "code",
      "execution_count": null,
      "metadata": {
        "colab": {
          "base_uri": "https://localhost:8080/"
        },
        "id": "BMBsegHH5HCt",
        "outputId": "ff5c3679-4fdc-40fe-933e-7ddd5ffc01b5"
      },
      "outputs": [
        {
          "name": "stdout",
          "output_type": "stream",
          "text": [
            "token : ['je', 'lui', 'ai', 'prete', 'un', 'cd', '.']\n"
          ]
        }
      ],
      "source": [
        "sentence = 'Je lui ai prêté un CD.'\n",
        "\n",
        "sentence = preprocess_sentence(sentence)\n",
        "tokens = sentence.split(\" \")\n",
        "print('token :', tokens)"
      ]
    },
    {
      "cell_type": "code",
      "execution_count": null,
      "metadata": {
        "colab": {
          "base_uri": "https://localhost:8080/"
        },
        "id": "8z2k0jFH5Iz6",
        "outputId": "7da97ebc-c2be-431f-ceb8-2fed94f2c0a3"
      },
      "outputs": [
        {
          "name": "stdout",
          "output_type": "stream",
          "text": [
            "enc_input:  [[2, 97, 12, 327, 22, 2132, 1]]\n",
            "enc_input:  [[   2   97   12  327   22 2132    1    0    0    0    0    0    0    0\n",
            "     0]]\n"
          ]
        }
      ],
      "source": [
        "# 입력 문장 토큰 -> 라벨링\n",
        "enc_input = tokenizer_enc.texts_to_sequences([tokens])\n",
        "print('enc_input: ', enc_input)\n",
        "# 입력 문장 라벨링 -> 패딩\n",
        "enc_input = tf.keras.preprocessing.sequence.pad_sequences(enc_input, maxlen=MAX_ENC_LEN, padding='post')\n",
        "print('enc_input: ', enc_input)"
      ]
    },
    {
      "cell_type": "code",
      "execution_count": null,
      "metadata": {
        "colab": {
          "base_uri": "https://localhost:8080/"
        },
        "id": "MumTgmPS5QHp",
        "outputId": "5b8dd71d-6f2e-43bf-e732-4f70cf970bad"
      },
      "outputs": [
        {
          "name": "stdout",
          "output_type": "stream",
          "text": [
            "1/1 [==============================] - 1s 540ms/step\n"
          ]
        }
      ],
      "source": [
        "states_value = encoder_model.predict(enc_input)"
      ]
    },
    {
      "cell_type": "code",
      "execution_count": null,
      "metadata": {
        "colab": {
          "base_uri": "https://localhost:8080/"
        },
        "id": "DNGo6FZ05Wfe",
        "outputId": "bc92dcb6-8faa-4b05-978d-627efef1899d"
      },
      "outputs": [
        {
          "data": {
            "text/plain": [
              "((1, 256), (1, 256))"
            ]
          },
          "execution_count": 47,
          "metadata": {},
          "output_type": "execute_result"
        }
      ],
      "source": [
        "states_value[0].shape, states_value[1].shape"
      ]
    },
    {
      "cell_type": "code",
      "execution_count": null,
      "metadata": {
        "colab": {
          "base_uri": "https://localhost:8080/"
        },
        "id": "qX1VOmWW45HJ",
        "outputId": "b0aba2b6-154d-4d9d-e48f-a820faac0ab0"
      },
      "outputs": [
        {
          "name": "stdout",
          "output_type": "stream",
          "text": [
            "i made a deal .\n"
          ]
        }
      ],
      "source": [
        "# Decoder input인 <SOS>에 해당하는 정수 생성\n",
        "target_seq = np.zeros((1,1))\n",
        "target_seq[0, 0] = tar2idx['<sos>']\n",
        "\n",
        "\n",
        "# prediction 시작\n",
        "    # stop_condition이 True가 될 때까지 루프 반복\n",
        "    # 구현의 간소화를 위해서 이 함수는 배치 크기를 1로 가정합니다.\n",
        "stop_condition = False\n",
        "decoded_sentence = ''\n",
        "\n",
        "for t in range(MAX_DEC_LEN):\n",
        "\n",
        "    # 이점 시점의 상태 states_value를 현 시점의 초기 상태로 사용\n",
        "    output_tokens, h, c = decoder_model.predict([target_seq] + states_value, verbose = 0)\n",
        "\n",
        "    # 예측 결과를 단어로 변환\n",
        "    result_token_index = np.argmax(output_tokens[0, -1, :])\n",
        "    result_word = idx2tar[result_token_index]\n",
        "\n",
        "    # 현재 시점의 예측 단어를 예측 문장에 추가\n",
        "    decoded_sentence += ' '+result_word\n",
        "\n",
        "    # 현재 시점의 예측 결과 -> 다음 시점의 입력으로 업데이트\n",
        "    target_seq = np.zeros((1,1))\n",
        "    target_seq[0, 0] = result_token_index\n",
        "\n",
        "    # 현재 시점의 상태 ->  다음 시점의 상태로 업데이트\n",
        "    states_value = [h, c]\n",
        "\n",
        "    #  Stop condition <eos>에 도달하면 중단.\n",
        "    if result_word == '<eos>':\n",
        "        break\n",
        "\n",
        "\n",
        "print(decoded_sentence.strip(' <eos>'))"
      ]
    },
    {
      "cell_type": "code",
      "execution_count": null,
      "metadata": {
        "id": "kDKKczR5IQJf"
      },
      "outputs": [],
      "source": [
        "def translate(sentence):\n",
        "    sentence = preprocess_sentence(sentence)\n",
        "    tokens = sentence.split(\" \")\n",
        "\n",
        "    # 입력 문장 토큰 -> 라벨링\n",
        "    enc_input = tokenizer_enc.texts_to_sequences([tokens])\n",
        "\n",
        "    # 입력 문장 라벨링 -> 패딩\n",
        "    enc_input = tf.keras.preprocessing.sequence.pad_sequences(enc_input, maxlen=MAX_ENC_LEN, padding='post')\n",
        "    states_value = encoder_model.predict(enc_input)\n",
        "\n",
        "    # Decoder input인 <SOS>에 해당하는 정수 생성\n",
        "    target_seq = np.zeros((1,1))\n",
        "    target_seq[0, 0] = tar2idx['<sos>']\n",
        "\n",
        "\n",
        "    # prediction 시작\n",
        "        # stop_condition이 True가 될 때까지 루프 반복\n",
        "        # 구현의 간소화를 위해서 이 함수는 배치 크기를 1로 가정합니다.\n",
        "    stop_condition = False\n",
        "    decoded_sentence = ''\n",
        "\n",
        "    for t in range(MAX_DEC_LEN):\n",
        "\n",
        "        # 이점 시점의 상태 states_value를 현 시점의 초기 상태로 사용\n",
        "        output_tokens, h, c = decoder_model.predict([target_seq] + states_value, verbose = 0)\n",
        "\n",
        "        # 예측 결과를 단어로 변환\n",
        "        result_token_index = np.argmax(output_tokens[0, -1, :])\n",
        "        result_word = idx2tar[result_token_index]\n",
        "\n",
        "        # 현재 시점의 예측 단어를 예측 문장에 추가\n",
        "        decoded_sentence += ' '+result_word\n",
        "\n",
        "        # 현재 시점의 예측 결과 -> 다음 시점의 입력으로 업데이트\n",
        "        target_seq = np.zeros((1,1))\n",
        "        target_seq[0, 0] = result_token_index\n",
        "\n",
        "        # 현재 시점의 상태 ->  다음 시점의 상태로 업데이트\n",
        "        states_value = [h, c]\n",
        "\n",
        "        #  Stop condition <eos>에 도달하면 중단.\n",
        "        if result_word == '<eos>':\n",
        "            break\n",
        "\n",
        "    return decoded_sentence.strip(' <eos>')"
      ]
    },
    {
      "cell_type": "markdown",
      "metadata": {
        "id": "5N51SNuzK-0o"
      },
      "source": [
        "## 결과 확인"
      ]
    },
    {
      "cell_type": "markdown",
      "metadata": {
        "id": "iRs4MmjnxrzM"
      },
      "source": [
        "결과 확인을 위한 함수를 만듭니다."
      ]
    },
    {
      "cell_type": "code",
      "execution_count": null,
      "metadata": {
        "id": "3ECbaMzzNgYe"
      },
      "outputs": [],
      "source": [
        "train_idx = indices[:-n_of_val]\n",
        "test_idx = indices[-n_of_val:]"
      ]
    },
    {
      "cell_type": "code",
      "execution_count": null,
      "metadata": {
        "colab": {
          "base_uri": "https://localhost:8080/"
        },
        "id": "TLFes43YN8Xz",
        "outputId": "b22718db-485d-4373-8d4e-3d603f07a24c"
      },
      "outputs": [
        {
          "data": {
            "text/plain": [
              "array([ 3222, 22791,  4579, 26772, 11082])"
            ]
          },
          "execution_count": 51,
          "metadata": {},
          "output_type": "execute_result"
        }
      ],
      "source": [
        "n_samples = 5\n",
        "np.random.choice(train_idx, n_samples)"
      ]
    },
    {
      "cell_type": "code",
      "execution_count": null,
      "metadata": {
        "colab": {
          "base_uri": "https://localhost:8080/"
        },
        "id": "LR84OvJQxwtq",
        "outputId": "6c582119-5e67-4eb4-f8f2-c49483dcc6f2"
      },
      "outputs": [
        {
          "name": "stdout",
          "output_type": "stream",
          "text": [
            "1/1 [==============================] - 0s 21ms/step\n",
            "입력문장 : Pouvez-vous aider ?\n",
            "정답문장 : Can you help?\n",
            "번역문장 : can you help ?\n",
            "--------------------------------------------------\n",
            "1/1 [==============================] - 0s 19ms/step\n",
            "입력문장 : Je n'avais aucune idée.\n",
            "정답문장 : I had no clue.\n",
            "번역문장 : i had no idea .\n",
            "--------------------------------------------------\n",
            "1/1 [==============================] - 0s 17ms/step\n",
            "입력문장 : C'est vous la maîtresse.\n",
            "정답문장 : You're the master.\n",
            "번역문장 : you re the master .\n",
            "--------------------------------------------------\n",
            "1/1 [==============================] - 0s 20ms/step\n",
            "입력문장 : Je ne suis pas en train de mourir.\n",
            "정답문장 : I'm not dying.\n",
            "번역문장 : i m not married .\n",
            "--------------------------------------------------\n",
            "1/1 [==============================] - 0s 17ms/step\n",
            "입력문장 : Avez-vous tué Tom ?\n",
            "정답문장 : Did you kill Tom?\n",
            "번역문장 : did you murder tom ?\n",
            "--------------------------------------------------\n"
          ]
        }
      ],
      "source": [
        "# train data - translate\n",
        "n_samples = 5\n",
        "for idx in np.random.choice(train_idx, n_samples):\n",
        "    test_sentence = fra_corpus[idx]\n",
        "    answer_sentence = eng_corpus[idx]\n",
        "    decoded_sentence = translate(test_sentence)\n",
        "\n",
        "    print(\"입력문장 :\", test_sentence)\n",
        "    print(\"정답문장 :\", answer_sentence)\n",
        "    print(\"번역문장 :\", decoded_sentence)\n",
        "    print(\"-\"*50)"
      ]
    },
    {
      "cell_type": "code",
      "execution_count": null,
      "metadata": {
        "colab": {
          "base_uri": "https://localhost:8080/"
        },
        "id": "5kWNQFHUxyu5",
        "outputId": "c015f38c-8d94-4cc7-dd48-c57c29cc3732"
      },
      "outputs": [
        {
          "name": "stdout",
          "output_type": "stream",
          "text": [
            "1/1 [==============================] - 0s 20ms/step\n",
            "입력문장 : Je dis que je l'aimais.\n",
            "정답문장 : I said I liked it.\n",
            "번역문장 : i said i liked it .\n",
            "--------------------------------------------------\n",
            "1/1 [==============================] - 0s 20ms/step\n",
            "입력문장 : Je ne m'y suis jamais fait prendre.\n",
            "정답문장 : I never got caught.\n",
            "번역문장 : i never went back .\n",
            "--------------------------------------------------\n",
            "1/1 [==============================] - 0s 18ms/step\n",
            "입력문장 : Nous l'avons vue.\n",
            "정답문장 : We've seen her.\n",
            "번역문장 : we ve seen it .\n",
            "--------------------------------------------------\n",
            "1/1 [==============================] - 0s 17ms/step\n",
            "입력문장 : C'est ta moitié.\n",
            "정답문장 : That's your half.\n",
            "번역문장 : this is your fate .\n",
            "--------------------------------------------------\n",
            "1/1 [==============================] - 0s 18ms/step\n",
            "입력문장 : Demande à n'importe qui !\n",
            "정답문장 : Ask anybody.\n",
            "번역문장 : ask anybody .\n",
            "--------------------------------------------------\n"
          ]
        }
      ],
      "source": [
        "# test data - translate\n",
        "n_samples = 5\n",
        "for idx in np.random.choice(test_idx, n_samples):\n",
        "    test_sentence = fra_corpus[idx]\n",
        "    answer_sentence = eng_corpus[idx]\n",
        "    decoded_sentence = translate(test_sentence)\n",
        "\n",
        "    print(\"입력문장 :\", test_sentence)\n",
        "    print(\"정답문장 :\", answer_sentence)\n",
        "    print(\"번역문장 :\", decoded_sentence)\n",
        "    print(\"-\"*50)"
      ]
    },
    {
      "cell_type": "markdown",
      "metadata": {
        "id": "DNX_cuBkx9jf"
      },
      "source": [
        "## BLEU Score (Bilingual Evaluation Understudy Score)\n",
        "기계 번역의 성능이 얼마나 뛰어난가를 측정하기 위해 사용되는 대표적인 방법 중 하나인 BLEU(Bilingual Evaluation Understudy)를 측정해봅시다.\n",
        "- 논문 : BLEU: a Method for Automatic Evaluation of Machine Translation\n",
        "- BLEU 점수는 기계 번역된 텍스트와 고품질 참조 번역 세트의 유사성을 측정하는 0과 1 사이의 숫자입니다.\n",
        "    - 값이 0이면 기계 번역된 출력이 참조 번역과 겹치는 부분이 없는 것을 의미하고(저품질)\n",
        "    - 1이면 참조 번역과 완벽하게 겹치는 것을 의미합니다(고품질)\n",
        "\n",
        "- BLEU 설명\n",
        "    - https://jrc-park.tistory.com/273\n",
        "    - https://wikidocs.net/31695\n",
        "    - https://cloud.google.com/translate/automl/docs/evaluate?hl=ko#bleu"
      ]
    },
    {
      "cell_type": "markdown",
      "metadata": {
        "id": "YfrO5SiEyLJN"
      },
      "source": [
        "BLEU는 기계 번역 결과와 사람이 직접 번역한 결과가 얼마나 유사한지 비교하여 번역에 대한 성능을 측정하는 방법입니다."
      ]
    },
    {
      "cell_type": "code",
      "execution_count": null,
      "metadata": {
        "id": "qz9p_K5Xa4Bg"
      },
      "outputs": [],
      "source": [
        "!pip install evaluate"
      ]
    },
    {
      "cell_type": "code",
      "execution_count": null,
      "metadata": {
        "id": "v7JxBUEvPBUx"
      },
      "outputs": [],
      "source": [
        "bleu = evaluate.load(\"bleu\")\n",
        "bleu"
      ]
    },
    {
      "cell_type": "code",
      "execution_count": null,
      "metadata": {
        "id": "bFXebgtFPCV8"
      },
      "outputs": [],
      "source": [
        "bleu"
      ]
    },
    {
      "cell_type": "code",
      "execution_count": null,
      "metadata": {
        "colab": {
          "base_uri": "https://localhost:8080/"
        },
        "id": "2uUjykh41Rss",
        "outputId": "118608a8-0f0f-4923-b1e2-0a573d6c06c9"
      },
      "outputs": [
        {
          "name": "stdout",
          "output_type": "stream",
          "text": [
            "{'bleu': 1.0, 'precisions': [1.0, 1.0, 1.0, 1.0], 'brevity_penalty': 1.0, 'length_ratio': 1.1666666666666667, 'translation_length': 7, 'reference_length': 6}\n"
          ]
        }
      ],
      "source": [
        "import evaluate\n",
        "predictions = [\"hello there general kenobi\", \"foo bar foobar\"]\n",
        "references = [\n",
        "    [\"hello there general kenobi\", \"hello there !\"],\n",
        "    [\"foo bar foobar\"]\n",
        " ]\n",
        "\n",
        "bleu = evaluate.load(\"bleu\")\n",
        "\n",
        "results = bleu.compute(predictions=predictions, references=references)\n",
        "\n",
        "print(results)"
      ]
    },
    {
      "cell_type": "code",
      "execution_count": null,
      "metadata": {
        "colab": {
          "base_uri": "https://localhost:8080/"
        },
        "id": "tigFlbmqPOBB",
        "outputId": "f4242ac3-e22f-4b16-bbbf-924c5b8f3521"
      },
      "outputs": [
        {
          "data": {
            "text/plain": [
              "{'bleu': 1.0,\n",
              " 'precisions': [1.0, 1.0, 1.0, 1.0],\n",
              " 'brevity_penalty': 1.0,\n",
              " 'length_ratio': 1.1666666666666667,\n",
              " 'translation_length': 7,\n",
              " 'reference_length': 6}"
            ]
          },
          "execution_count": 61,
          "metadata": {},
          "output_type": "execute_result"
        }
      ],
      "source": [
        "results"
      ]
    },
    {
      "cell_type": "code",
      "execution_count": null,
      "metadata": {
        "colab": {
          "base_uri": "https://localhost:8080/",
          "height": 231,
          "referenced_widgets": [
            "8fbd0a184de94eee978f4b04071fe121"
          ]
        },
        "id": "4G79TlFv3hvK",
        "outputId": "3b9e29c6-fc71-4f07-edfb-d9e4abe6ff12"
      },
      "outputs": [
        {
          "data": {
            "application/vnd.jupyter.widget-view+json": {
              "model_id": "8fbd0a184de94eee978f4b04071fe121",
              "version_major": 2,
              "version_minor": 0
            },
            "text/plain": [
              "  0%|          | 0/10 [00:00<?, ?it/s]"
            ]
          },
          "metadata": {},
          "output_type": "display_data"
        },
        {
          "name": "stdout",
          "output_type": "stream",
          "text": [
            "1/1 [==============================] - 0s 34ms/step\n",
            "1/1 [==============================] - 0s 23ms/step\n",
            "1/1 [==============================] - 0s 19ms/step\n",
            "1/1 [==============================] - 0s 29ms/step\n",
            "1/1 [==============================] - 0s 20ms/step\n",
            "1/1 [==============================] - 0s 31ms/step\n",
            "1/1 [==============================] - 0s 26ms/step\n",
            "1/1 [==============================] - 0s 21ms/step\n",
            "1/1 [==============================] - 0s 19ms/step\n",
            "1/1 [==============================] - 0s 19ms/step\n"
          ]
        }
      ],
      "source": [
        "from tqdm.notebook import tqdm\n",
        "\n",
        "n_samples = 10\n",
        "ref_train, pred_train = [], []\n",
        "for idx in tqdm(np.random.choice(test_idx, n_samples)):\n",
        "    ref_train.append(eng_corpus[idx])\n",
        "    pred_train.append(translate(fra_corpus[idx]))\n"
      ]
    },
    {
      "cell_type": "code",
      "execution_count": null,
      "metadata": {
        "colab": {
          "base_uri": "https://localhost:8080/"
        },
        "id": "CNYNfwewMGlk",
        "outputId": "05e8a3a5-6151-490b-826e-c75ffa7e43b1"
      },
      "outputs": [
        {
          "name": "stdout",
          "output_type": "stream",
          "text": [
            "['I recovered.', \"I know you're busy.\", 'I like history.', 'Give me your keys.', 'I just got engaged.', 'Did Tom find it?', 'Forget it!', 'Put it over there.', \"You're fortunate.\", 'Tom came forward.']\n",
            "['i m feeling low .', 'i know you re busy .', 'i like this model .', 'give me your knife .', 'i just remembered .', 'is tom working ?', 'let it go .', 'put it on the way .', 'you re stubborn .', 'tom became quiet .']\n"
          ]
        }
      ],
      "source": [
        "print(ref_train)\n",
        "print(pred_train)"
      ]
    },
    {
      "cell_type": "code",
      "execution_count": null,
      "metadata": {
        "colab": {
          "base_uri": "https://localhost:8080/"
        },
        "id": "Ft2bz4587Xdu",
        "outputId": "4c499ac4-2458-4f9f-fde6-d9973ccca619"
      },
      "outputs": [
        {
          "data": {
            "text/plain": [
              "{'bleu': 0.0,\n",
              " 'precisions': [0.3617021276595745, 0.05405405405405406, 0.0, 0.0],\n",
              " 'brevity_penalty': 1.0,\n",
              " 'length_ratio': 1.119047619047619,\n",
              " 'translation_length': 47,\n",
              " 'reference_length': 42}"
            ]
          },
          "execution_count": 58,
          "metadata": {},
          "output_type": "execute_result"
        }
      ],
      "source": [
        "bleu.compute(predictions=pred_train, references=ref_train)"
      ]
    },
    {
      "cell_type": "markdown",
      "metadata": {
        "id": "vtwNFBDA_ft3"
      },
      "source": [
        "### Reference\n",
        "\n",
        "- https://blog.keras.io/a-ten-minute-introduction-to-sequence-to-sequence-learning-in-keras.html\n",
        "- https://wikidocs.net/86900"
      ]
    },
    {
      "cell_type": "code",
      "execution_count": null,
      "metadata": {
        "id": "8fKPBQQEwrpl"
      },
      "outputs": [],
      "source": []
    }
  ],
  "metadata": {
    "colab": {
      "provenance": [],
      "include_colab_link": true
    },
    "kernelspec": {
      "display_name": "Python 3 (ipykernel)",
      "language": "python",
      "name": "python3"
    },
    "language_info": {
      "codemirror_mode": {
        "name": "ipython",
        "version": 3
      },
      "file_extension": ".py",
      "mimetype": "text/x-python",
      "name": "python",
      "nbconvert_exporter": "python",
      "pygments_lexer": "ipython3",
      "version": "3.11.3"
    },
    "toc": {
      "base_numbering": 1,
      "nav_menu": {},
      "number_sections": true,
      "sideBar": true,
      "skip_h1_title": false,
      "title_cell": "Table of Contents",
      "title_sidebar": "Contents",
      "toc_cell": false,
      "toc_position": {},
      "toc_section_display": true,
      "toc_window_display": false
    }
  },
  "nbformat": 4,
  "nbformat_minor": 0
}