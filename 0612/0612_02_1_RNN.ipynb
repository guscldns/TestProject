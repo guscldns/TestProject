{
  "cells": [
    {
      "cell_type": "markdown",
      "metadata": {
        "id": "view-in-github",
        "colab_type": "text"
      },
      "source": [
        "<a href=\"https://colab.research.google.com/github/guscldns/TestProject/blob/main/0612/0612_02_1_RNN.ipynb\" target=\"_parent\"><img src=\"https://colab.research.google.com/assets/colab-badge.svg\" alt=\"Open In Colab\"/></a>"
      ]
    },
    {
      "cell_type": "code",
      "execution_count": 4,
      "metadata": {
        "id": "V3LU-1lPPBnv"
      },
      "outputs": [],
      "source": [
        "import os \n",
        "import numpy as np\n",
        "import matplotlib.pyplot as plt"
      ]
    },
    {
      "cell_type": "code",
      "execution_count": 5,
      "metadata": {
        "colab": {
          "base_uri": "https://localhost:8080/",
          "height": 35
        },
        "id": "uAWEUX9TPBGl",
        "outputId": "3297aaeb-bdbf-4dde-d508-d440d52d9399"
      },
      "outputs": [
        {
          "output_type": "execute_result",
          "data": {
            "text/plain": [
              "'2.12.0'"
            ],
            "application/vnd.google.colaboratory.intrinsic+json": {
              "type": "string"
            }
          },
          "metadata": {},
          "execution_count": 5
        }
      ],
      "source": [
        "import tensorflow as tf\n",
        "tf.__version__"
      ]
    },
    {
      "cell_type": "markdown",
      "metadata": {
        "id": "iYmFneekPBGp"
      },
      "source": [
        "# Keras RNN 이해하기"
      ]
    },
    {
      "cell_type": "markdown",
      "source": [
        "- https://www.tensorflow.org/api_docs/python/tf/keras/layers/SimpleRNN"
      ],
      "metadata": {
        "id": "-asGkEhSEoL5"
      }
    },
    {
      "cell_type": "code",
      "source": [
        "from tensorflow.keras.layers import SimpleRNN "
      ],
      "metadata": {
        "id": "6EfRpOC5V2tD"
      },
      "execution_count": 6,
      "outputs": []
    },
    {
      "cell_type": "code",
      "source": [
        "SimpleRNN(10)"
      ],
      "metadata": {
        "id": "B83QaKWkV6FS",
        "outputId": "e7cf0e88-af5c-4382-ae23-ab9a593c58bb",
        "colab": {
          "base_uri": "https://localhost:8080/"
        }
      },
      "execution_count": null,
      "outputs": [
        {
          "output_type": "execute_result",
          "data": {
            "text/plain": [
              "<keras.layers.rnn.simple_rnn.SimpleRNN at 0x7f4d1333fd00>"
            ]
          },
          "metadata": {},
          "execution_count": 4
        }
      ]
    },
    {
      "cell_type": "code",
      "source": [
        "inputs = np.random.random([32, 10, 8]).astype(np.float32)\n",
        "# input = 3D 텐서, 모양 . [batch, timesteps, feature]\n",
        "# 32 데이터 개수(batch), 10은 문장 내 단어 개수(timesteps), 8 (feature, 텍스트에서 단어 벡터의 크기)\n",
        "# 문장 내 단어가 없는 경우 빈 행렬로 값을 채워준다\n",
        "\n",
        "simple_rnn = tf.keras.layers.SimpleRNN(4)# ht를 return \n",
        "output = simple_rnn(inputs) \n",
        "# output : 마지막 시점의 hidden vector를 출력 (32,4) >> 10*8 벡터가 4로 바뀜"
      ],
      "metadata": {
        "id": "91ddYWcAEg_o"
      },
      "execution_count": null,
      "outputs": []
    },
    {
      "cell_type": "code",
      "source": [
        "print(inputs[0].shape) # 0시점 x0 , x1, x2, ..., x9 (크기가 8짜리 벡터)\n",
        "# >> RNN\n",
        "print(output[0].shape)\n",
        "# 10,8 이 들어가서 4, 의 벡터로 나온다"
      ],
      "metadata": {
        "id": "BYrgig8LXL8G"
      },
      "execution_count": null,
      "outputs": []
    },
    {
      "cell_type": "code",
      "source": [
        "inputs = np.random.random([32, 10, 8]).astype(np.float32)\n",
        "simple_rnn = tf.keras.layers.SimpleRNN(4, return_sequences=True)\n",
        "# many to many 등 다중으로 나와야 할 경우 시점 정보(h0...ht)가 살아있어야 한다 = return_sequences=True로 살려야 한다\n",
        "output = simple_rnn(inputs)"
      ],
      "metadata": {
        "id": "EFyI8ULKXmu1"
      },
      "execution_count": null,
      "outputs": []
    },
    {
      "cell_type": "code",
      "source": [
        "output"
      ],
      "metadata": {
        "id": "iyUvqgHVYjaG"
      },
      "execution_count": null,
      "outputs": []
    },
    {
      "cell_type": "code",
      "source": [
        "# X : John loves Jane \n",
        "# y : S V O \n",
        "\n",
        "\n",
        "# Ht -> S, Ht -> V, Ht -> O \n",
        "# 시점정보를 주면 H0 -> S, H1 -> V, Ht -> O (이 편이 학습을 더 잘한다)"
      ],
      "metadata": {
        "id": "CqovVOJmYk5X"
      },
      "execution_count": null,
      "outputs": []
    },
    {
      "cell_type": "code",
      "source": [
        "inputs = np.random.random([32, 10, 8]).astype(np.float32)\n",
        "simple_rnn = tf.keras.layers.SimpleRNN(4, return_sequences=True, return_state = True) # 둘 다 True로 하면 전체 시점의 히든 벡터가 출력됨\n",
        "output, ht = simple_rnn(inputs)"
      ],
      "metadata": {
        "id": "MdUBz6ZcYUg4"
      },
      "execution_count": 7,
      "outputs": []
    },
    {
      "cell_type": "code",
      "source": [
        "output # shape=(32, 10, 4)"
      ],
      "metadata": {
        "colab": {
          "base_uri": "https://localhost:8080/"
        },
        "id": "FOpJMe8aZOtV",
        "outputId": "ecf8e146-59c6-404e-d14c-810d6ec3970d"
      },
      "execution_count": 8,
      "outputs": [
        {
          "output_type": "execute_result",
          "data": {
            "text/plain": [
              "<tf.Tensor: shape=(32, 10, 4), dtype=float32, numpy=\n",
              "array([[[-0.6630791 , -0.3428777 , -0.45282987,  0.11329813],\n",
              "        [-0.49131468,  0.5947519 , -0.74654776,  0.02015117],\n",
              "        [-0.8461054 , -0.07381713, -0.71039605, -0.5072021 ],\n",
              "        ...,\n",
              "        [-0.27041733,  0.3385326 , -0.6478172 ,  0.05191475],\n",
              "        [-0.5430749 , -0.17305389, -0.3365632 , -0.5206878 ],\n",
              "        [-0.864594  ,  0.2998157 , -0.9638729 ,  0.62137276]],\n",
              "\n",
              "       [[-0.73711675, -0.28694242, -0.38040775,  0.04889037],\n",
              "        [-0.6633584 ,  0.3070362 ,  0.05222382,  0.38923743],\n",
              "        [-0.5831184 ,  0.0677215 , -0.59732807, -0.5957278 ],\n",
              "        ...,\n",
              "        [-0.8537511 ,  0.47793534, -0.91424346,  0.41936567],\n",
              "        [-0.9257834 ,  0.7229155 , -0.8577859 , -0.2896206 ],\n",
              "        [-0.91125965,  0.63435626, -0.33909804, -0.1157968 ]],\n",
              "\n",
              "       [[-0.86861134, -0.5224898 , -0.533459  ,  0.446595  ],\n",
              "        [-0.1667595 ,  0.6785427 , -0.4397136 , -0.04556594],\n",
              "        [-0.9413238 , -0.29844064, -0.8509589 , -0.10776905],\n",
              "        ...,\n",
              "        [-0.96875226,  0.6154192 , -0.9228635 ,  0.2524536 ],\n",
              "        [-0.41261533,  0.74724716, -0.82266563, -0.68015575],\n",
              "        [-0.907511  ,  0.35511798, -0.69433844,  0.00363444]],\n",
              "\n",
              "       ...,\n",
              "\n",
              "       [[-0.9017542 , -0.4398152 , -0.57459956,  0.47522375],\n",
              "        [ 0.00699932,  0.72148836, -0.6797572 ,  0.25375634],\n",
              "        [-0.37500095, -0.12960374, -0.8992384 , -0.8324363 ],\n",
              "        ...,\n",
              "        [-0.8872421 , -0.19800529, -0.71639216, -0.02497754],\n",
              "        [-0.6067213 ,  0.60929644, -0.92387176,  0.00352421],\n",
              "        [-0.77488554,  0.5931824 , -0.9086797 , -0.27385953]],\n",
              "\n",
              "       [[-0.8711344 , -0.5534726 , -0.5786127 ,  0.47553843],\n",
              "        [-0.29900545,  0.25998563, -0.6470374 ,  0.26668182],\n",
              "        [-0.8061719 ,  0.29324993, -0.85389745, -0.34480745],\n",
              "        ...,\n",
              "        [-0.60161656,  0.88813627, -0.9529723 , -0.54829913],\n",
              "        [-0.93834776,  0.59395003, -0.9627124 , -0.4412767 ],\n",
              "        [-0.8073858 ,  0.5840205 , -0.509364  , -0.2970123 ]],\n",
              "\n",
              "       [[-0.27494973, -0.31644025, -0.4990015 , -0.36932224],\n",
              "        [-0.6347104 ,  0.27793398, -0.8297804 ,  0.14454554],\n",
              "        [-0.3518567 ,  0.5251506 , -0.11311528, -0.61948067],\n",
              "        ...,\n",
              "        [-0.59824693,  0.30597156, -0.7867385 , -0.48618945],\n",
              "        [-0.9381227 , -0.02701084, -0.90407634,  0.42913303],\n",
              "        [-0.55336833,  0.6344713 , -0.85772496, -0.4153748 ]]],\n",
              "      dtype=float32)>"
            ]
          },
          "metadata": {},
          "execution_count": 8
        }
      ]
    },
    {
      "cell_type": "code",
      "source": [
        "ht# shape=(32, 4)"
      ],
      "metadata": {
        "colab": {
          "base_uri": "https://localhost:8080/"
        },
        "id": "dDQlpofSZLct",
        "outputId": "8fa93c54-e54d-4fcc-8d0b-ff27b1819d58"
      },
      "execution_count": 9,
      "outputs": [
        {
          "output_type": "execute_result",
          "data": {
            "text/plain": [
              "<tf.Tensor: shape=(32, 4), dtype=float32, numpy=\n",
              "array([[-0.864594  ,  0.2998157 , -0.9638729 ,  0.62137276],\n",
              "       [-0.91125965,  0.63435626, -0.33909804, -0.1157968 ],\n",
              "       [-0.907511  ,  0.35511798, -0.69433844,  0.00363444],\n",
              "       [-0.777663  ,  0.5805959 , -0.97616   , -0.35445985],\n",
              "       [-0.71356994,  0.5528299 , -0.9147907 , -0.2822579 ],\n",
              "       [-0.8831751 ,  0.5371211 , -0.40997466,  0.48866612],\n",
              "       [-0.97554827,  0.00241589, -0.07607556, -0.24485454],\n",
              "       [-0.9454134 ,  0.6186545 , -0.7582003 , -0.39372897],\n",
              "       [-0.8741206 ,  0.8125893 , -0.5852022 , -0.41528004],\n",
              "       [-0.68299943,  0.7065444 , -0.92657167, -0.73945653],\n",
              "       [-0.8033803 ,  0.8391903 , -0.92645705, -0.5016358 ],\n",
              "       [-0.55548257,  0.8444395 , -0.9061835 , -0.73266774],\n",
              "       [-0.78166866,  0.2155573 , -0.9561071 ,  0.5001253 ],\n",
              "       [-0.73470914,  0.78349614, -0.77031374, -0.7016787 ],\n",
              "       [-0.92457587,  0.7831085 , -0.95929   , -0.38465342],\n",
              "       [-0.7744559 ,  0.8635837 , -0.97282195, -0.6372877 ],\n",
              "       [-0.5796521 ,  0.7310066 , -0.51258147, -0.5192705 ],\n",
              "       [-0.93211055,  0.5832311 , -0.5283496 , -0.35218444],\n",
              "       [-0.583111  ,  0.7824778 , -0.7782301 , -0.6492707 ],\n",
              "       [-0.70338833, -0.20087443, -0.8191296 , -0.24839664],\n",
              "       [-0.94175744,  0.1796557 , -0.8730894 , -0.19169453],\n",
              "       [-0.8978149 ,  0.65571415, -0.8394766 , -0.05972641],\n",
              "       [-0.8965079 ,  0.6473199 , -0.41303298,  0.4030029 ],\n",
              "       [-0.6526851 ,  0.7847573 , -0.9048847 , -0.62295026],\n",
              "       [-0.93117285,  0.867593  , -0.9609285 ,  0.28536978],\n",
              "       [-0.8498906 ,  0.7589255 , -0.6851452 ,  0.09789876],\n",
              "       [-0.9260288 ,  0.12674624, -0.98316145, -0.13940884],\n",
              "       [-0.82684135,  0.6983888 , -0.9623319 , -0.6864055 ],\n",
              "       [-0.967401  ,  0.09416853, -0.8518233 ,  0.33975822],\n",
              "       [-0.77488554,  0.5931824 , -0.9086797 , -0.27385953],\n",
              "       [-0.8073858 ,  0.5840205 , -0.509364  , -0.2970123 ],\n",
              "       [-0.55336833,  0.6344713 , -0.85772496, -0.4153748 ]],\n",
              "      dtype=float32)>"
            ]
          },
          "metadata": {},
          "execution_count": 9
        }
      ]
    },
    {
      "cell_type": "code",
      "source": [
        "output[0] # 맨마지막 값이랑 ht[0]이랑 값이 똑같다"
      ],
      "metadata": {
        "colab": {
          "base_uri": "https://localhost:8080/"
        },
        "outputId": "55c96690-83e4-43bc-fd17-3d139ec0853d",
        "id": "S4EEnfFLZbBv"
      },
      "execution_count": null,
      "outputs": [
        {
          "output_type": "execute_result",
          "data": {
            "text/plain": [
              "<tf.Tensor: shape=(10, 4), dtype=float32, numpy=\n",
              "array([[-0.2369311 , -0.21232551,  0.5750342 ,  0.92289734],\n",
              "       [-0.6524617 , -0.452945  ,  0.96605444,  0.9834321 ],\n",
              "       [-0.6171921 , -0.33961102,  0.9380261 ,  0.9978312 ],\n",
              "       [-0.78218406, -0.49791923,  0.97936624,  0.99841714],\n",
              "       [-0.59237236, -0.5842285 ,  0.8234757 ,  0.9896057 ],\n",
              "       [-0.57326937, -0.23393983,  0.8950576 ,  0.9959948 ],\n",
              "       [-0.57525194, -0.47060463,  0.94015807,  0.99144804],\n",
              "       [-0.5078638 , -0.53244436,  0.9699914 ,  0.99484104],\n",
              "       [-0.5709194 , -0.24397987,  0.9389674 ,  0.9969233 ],\n",
              "       [-0.562725  , -0.68468213,  0.96814805,  0.99872094]],\n",
              "      dtype=float32)>"
            ]
          },
          "metadata": {},
          "execution_count": 32
        }
      ]
    },
    {
      "cell_type": "code",
      "source": [
        "ht[0]"
      ],
      "metadata": {
        "colab": {
          "base_uri": "https://localhost:8080/"
        },
        "outputId": "03abdff1-679d-4cba-9a56-86f1e505df43",
        "id": "CpTBLgoDZbB2"
      },
      "execution_count": null,
      "outputs": [
        {
          "output_type": "execute_result",
          "data": {
            "text/plain": [
              "<tf.Tensor: shape=(4,), dtype=float32, numpy=array([-0.562725  , -0.68468213,  0.96814805,  0.99872094], dtype=float32)>"
            ]
          },
          "metadata": {},
          "execution_count": 33
        }
      ]
    },
    {
      "cell_type": "code",
      "source": [
        "simple_rnn = tf.keras.layers.SimpleRNN(4, return_sequences=True, return_state=True)\n",
        "\n",
        "whole_sequence_output, final_state = simple_rnn(inputs)"
      ],
      "metadata": {
        "id": "JAEazsTnEg8h"
      },
      "execution_count": null,
      "outputs": []
    },
    {
      "cell_type": "markdown",
      "metadata": {
        "id": "reDIVKkzPBGr"
      },
      "source": [
        "RNN의 input, output, weight을 이해해봅시다."
      ]
    },
    {
      "cell_type": "code",
      "execution_count": 11,
      "metadata": {
        "id": "mb2u_fSlPBGr"
      },
      "outputs": [],
      "source": [
        "from tensorflow.keras.models import Sequential\n",
        "from tensorflow.keras.layers import SimpleRNN, GRU, LSTM, Dense"
      ]
    },
    {
      "cell_type": "markdown",
      "metadata": {
        "id": "sC14jspw90Z8"
      },
      "source": [
        "### 문제1"
      ]
    },
    {
      "cell_type": "code",
      "execution_count": null,
      "metadata": {
        "colab": {
          "base_uri": "https://localhost:8080/"
        },
        "id": "VvnBxKKcPBGs",
        "outputId": "906ceb8f-8663-4cd4-bb38-7c667b231075"
      },
      "outputs": [
        {
          "name": "stdout",
          "output_type": "stream",
          "text": [
            "Model: \"sequential\"\n",
            "_________________________________________________________________\n",
            " Layer (type)                Output Shape              Param #   \n",
            "=================================================================\n",
            " simple_rnn (SimpleRNN)      (None, 5)                 80        \n",
            "                                                                 \n",
            "=================================================================\n",
            "Total params: 80\n",
            "Trainable params: 80\n",
            "Non-trainable params: 0\n",
            "_________________________________________________________________\n"
          ]
        }
      ],
      "source": [
        "model = Sequential()\n",
        "model.add(SimpleRNN(5, input_shape=(2,10)))\n",
        "# input_shape=(2,10) 앞에 timestep, 뒤가 단어벡터 크기 \n",
        "# model.add(SimpleRNN(3, input_length=2, input_dim=10))와 동일\n",
        "model.summary()"
      ]
    },
    {
      "cell_type": "code",
      "source": [
        "# ht = tang (Wx* xt + Wh *h(t-1) + b)\n",
        "# ht == SimpleRNN(5 << = 5*1\n",
        "# 식에 대입하려면 5*1(=Wx* xt) + 5*1(=Wh *h(t-1) + 5*1(=b) 로 나타나야 함\n",
        "# xt = input_shape=(2,10)의 10 == 10*1\n",
        "\n",
        "# Wx(5*10), Wh(5*5), b(5*1) 다 합하면 80 "
      ],
      "metadata": {
        "id": "VJsHXGFIZ2eo"
      },
      "execution_count": null,
      "outputs": []
    },
    {
      "cell_type": "markdown",
      "metadata": {
        "id": "2oIxYYXe8of4"
      },
      "source": [
        "모델 summary를 보고 생각해봅시다. \n",
        "- input은 어떤 모양인가요? \n",
        " : 무조건 3D, 데이터 개수, timestep, 단어벡터 크기 ( == input dimension)\n",
        "- output은 어떤 모양인가요? \n",
        " : 2D, 데이터 개수, 히든 벡터 크기 ( == output dimension)"
      ]
    },
    {
      "cell_type": "code",
      "source": [
        "# input : 3D -> 데이터 개수, timestep, 단어벡터 크기(==input dimension)\n",
        "# output : 2D -> 데이터 개수, 히든 벡터의 크기(==output dimension)"
      ],
      "metadata": {
        "id": "ituls5im86qE"
      },
      "execution_count": null,
      "outputs": []
    },
    {
      "cell_type": "markdown",
      "metadata": {
        "id": "hwAiglRY92EA"
      },
      "source": [
        "### 문제2"
      ]
    },
    {
      "cell_type": "code",
      "execution_count": null,
      "metadata": {
        "id": "gBZIRV6vPBGt"
      },
      "outputs": [],
      "source": [
        "model = Sequential()\n",
        "# The output of RNN will be a 3D tensor of shape (batch_size, input_dim)\n",
        "model.add(SimpleRNN(5, batch_input_shape=(8,2,10)))\n",
        "# 벡터 size 는 input, output dimension이 결정한다, 각각 결정 X 둘이 결정\n",
        "model.summary()\n",
        "# input, output dimension 모두 동일 >> paramiter 개수 동일"
      ]
    },
    {
      "cell_type": "markdown",
      "metadata": {
        "id": "ITqNgwxl93Zz"
      },
      "source": [
        "### 문제3"
      ]
    },
    {
      "cell_type": "markdown",
      "metadata": {
        "id": "65Qh3gPw8cn4"
      },
      "source": [
        "- 중간 hidden state를 모두 리턴하는 return_sequences를 True로 설정합니다. "
      ]
    },
    {
      "cell_type": "code",
      "execution_count": null,
      "metadata": {
        "id": "KhGCgpEwPBGu"
      },
      "outputs": [],
      "source": [
        "model = Sequential()\n",
        "\n",
        "# The output of RNN will be a 3D tensor of shape (batch_size, timesteps, input_dim)\n",
        "model.add(SimpleRNN(5, input_dim=10, return_sequences=True))\n",
        "model.summary()\n",
        "# input, output dimension 모두 동일 >> paramiter 개수 동일\n",
        "# 3차원으로 나타날 지언정 param 개수는 동일하다"
      ]
    },
    {
      "cell_type": "markdown",
      "metadata": {
        "id": "t2AF2gsm8lmC"
      },
      "source": [
        "무엇이 달라졌나요? "
      ]
    },
    {
      "cell_type": "code",
      "source": [
        "# 모델 복잡도는 input dimension과 output dimiension이 결정한다"
      ],
      "metadata": {
        "id": "aWgKAPZEbyze"
      },
      "execution_count": null,
      "outputs": []
    },
    {
      "cell_type": "markdown",
      "metadata": {
        "id": "veyquAGT82sj"
      },
      "source": [
        "이번엔 파라미터의 개수를 세어보세요. 어떻게 계산하나요? "
      ]
    },
    {
      "cell_type": "markdown",
      "metadata": {
        "id": "VgzJFxRLtfkc"
      },
      "source": [
        "- Wxh = \n",
        "- Whh = \n",
        "- bias(hidden)  ="
      ]
    },
    {
      "cell_type": "markdown",
      "metadata": {
        "id": "jY0IfqEg95K-"
      },
      "source": [
        "### 문제4"
      ]
    },
    {
      "cell_type": "code",
      "execution_count": null,
      "metadata": {
        "id": "L_0Lx7V_PBGv"
      },
      "outputs": [],
      "source": [
        "from tensorflow.keras.models import Sequential\n",
        "from tensorflow.keras.layers import SimpleRNN, Dense\n",
        "\n",
        "model = Sequential()\n",
        "model.add(SimpleRNN(7, input_shape=(100,5), return_sequences = True)) # 91\n",
        "# ht = tang (Wx* xt + Wh *h(t-1) + b) # xt는 input_shape=(100,5) 뒤의 5 = 5*1\n",
        "# 7*1 = (7*5*5*1) + (7*7 *7*1) + (7*1) >>  Wx = 7*5(35)+ Wh = 7*7(49)+ b = 7*1(7) = 91 (35+49+7)\n",
        "model.add(SimpleRNN(3)) # 33\n",
        "# ht = tang (Wx* xt + Wh *h(t-1) + b) << 여기 xt는 위의 층의 ht임\n",
        "# 3*1 (3*7*7*1) + (3*3 *3*1) + (3*1) >>  Wx = 3*7(21)+ Wh = 3*3(9)+ b = 3*1(3) = 33 (35+49+7)\n",
        "model.add(Dense(2)) # 12\n",
        "# y = softmax (Wy * x +b) >> X는 위의 ht = 3*1\n",
        "# y = 3*3 +3*1 + 3*1 >> Wy = 3*3(9)+ b = 3*1(3) = 12\n",
        "model.summary()\n",
        "# 알아서 자동으로 흘러가는 구조가 시퀀설 구조"
      ]
    },
    {
      "cell_type": "markdown",
      "metadata": {
        "id": "V9DPXDqE9rAD"
      },
      "source": [
        "위의 summary를 보고 직접 계산해보세요"
      ]
    },
    {
      "cell_type": "markdown",
      "metadata": {
        "id": "8UDjc4u80TNj"
      },
      "source": [
        "Wx =  1층 : 35, 2층 21, 3층 9\n",
        "\n",
        "Wh =  1층 : 49, 2층 9, 3층 없음\n",
        "\n",
        "bh =  1층 : 7, 2층 3, 3층 3\n"
      ]
    },
    {
      "cell_type": "code",
      "source": [
        "## 오류가 날 때 차원으로 오류가 나기 때문에 어떤 차원이 input인지 알아둬야 한다"
      ],
      "metadata": {
        "id": "muUQiQHffLuR"
      },
      "execution_count": null,
      "outputs": []
    },
    {
      "cell_type": "markdown",
      "metadata": {
        "id": "CjjvxSwB961h"
      },
      "source": [
        "### 문제5"
      ]
    },
    {
      "cell_type": "markdown",
      "metadata": {
        "id": "TJ8-8Xdf9cyF"
      },
      "source": [
        "output layer를 추가하겠습니다. "
      ]
    },
    {
      "cell_type": "code",
      "execution_count": null,
      "metadata": {
        "id": "4wyuh4y2uIdl"
      },
      "outputs": [],
      "source": [
        "model = Sequential()\n",
        "model.add(SimpleRNN(5, input_shape = (2, 10)))\n",
        "model.add(Dense(1))\n",
        "model.summary()"
      ]
    },
    {
      "cell_type": "markdown",
      "metadata": {
        "id": "9lnNM_es9gra"
      },
      "source": [
        "이번에는 파라미터 개수가 몇 개인가요? "
      ]
    },
    {
      "cell_type": "code",
      "source": [
        "Wyht + b = y "
      ],
      "metadata": {
        "id": "yck9BKUH9onm"
      },
      "execution_count": null,
      "outputs": []
    },
    {
      "cell_type": "markdown",
      "metadata": {
        "id": "mfLsI-yyPBGv"
      },
      "source": [
        "# Keras로 RNN 구현하기"
      ]
    },
    {
      "cell_type": "markdown",
      "metadata": {
        "id": "GqHCQPXs0rHj"
      },
      "source": [
        "- Keras RNN : https://keras.io/api/layers/recurrent_layers/simple_rnn/"
      ]
    },
    {
      "cell_type": "markdown",
      "metadata": {
        "id": "kCzDZE8MPBGw"
      },
      "source": [
        "### 1. 단층 Simple RNN"
      ]
    },
    {
      "cell_type": "markdown",
      "metadata": {
        "id": "imDKq8IsPBGw"
      },
      "source": [
        "우선 RNN과 LSTM을 테스트하기 위한 임의의 입력을 만듭니다."
      ]
    },
    {
      "cell_type": "code",
      "execution_count": 28,
      "metadata": {
        "id": "b6eXot1u7tmR"
      },
      "outputs": [],
      "source": [
        "# 단어 벡터\n",
        "John = [1,0,0,0]\n",
        "loves = [0,1,0,0]\n",
        "cats = [0,0,1,0]\n",
        "dogs = [0,0,0,1]"
      ]
    },
    {
      "cell_type": "code",
      "execution_count": 29,
      "metadata": {
        "id": "KwgE-Zwo7yPl"
      },
      "outputs": [],
      "source": [
        "# X 데이터\n",
        "\n",
        "train_X = np.array([\n",
        "    [ John, loves, cats ],\n",
        "    [ John, loves, dogs ]\n",
        "]).astype(np.float32)"
      ]
    },
    {
      "cell_type": "code",
      "execution_count": 30,
      "metadata": {
        "id": "vqbF6g6T7xFD"
      },
      "outputs": [],
      "source": [
        "# 타겟 벡터 \n",
        "\n",
        "S = [0] # subject\n",
        "V = [1] # verb\n",
        "O = [2] # object\n",
        "\n",
        "idx2tag = ['S', 'V', 'O']"
      ]
    },
    {
      "cell_type": "code",
      "execution_count": 31,
      "metadata": {
        "colab": {
          "base_uri": "https://localhost:8080/"
        },
        "id": "pf7Gl_-4AXgi",
        "outputId": "970c7dac-e523-4566-b75e-2f928f912f23"
      },
      "outputs": [
        {
          "output_type": "stream",
          "name": "stdout",
          "text": [
            "train_y [[[0.]\n",
            "  [1.]\n",
            "  [2.]]\n",
            "\n",
            " [[0.]\n",
            "  [1.]\n",
            "  [2.]]]\n",
            "train_X의 shape (2, 3, 4)\n",
            "train_Y의 shape (2, 3, 1)\n"
          ]
        }
      ],
      "source": [
        "# Y 데이터\n",
        "train_Y = np.array([[S, V, O], [S, V, O]]).astype(np.float32)\n",
        "\n",
        "print(\"train_y\", train_Y)\n",
        "print(\"train_X의 shape\", train_X.shape) \n",
        "# train_X의 shape (2, 3, 4) >> \n",
        "# 2차원([[John, loves, cats],[John, loves, dogs]]), 데이터 3개([ John, loves, cats ]) 들어있고 벡터 크기 4(John = [1,0,0,0])\n",
        "print(\"train_Y의 shape\", train_Y.shape)\n",
        "# train_Y의 shape (2, 3, 1)\n",
        "# 2차원 : ([[S, V, O], [S, V, O]]), 데이터 3개, 벡터 크기 1(S = [0])"
      ]
    },
    {
      "cell_type": "code",
      "source": [
        "train_X"
      ],
      "metadata": {
        "id": "0wQl1a_vfhLA"
      },
      "execution_count": null,
      "outputs": []
    },
    {
      "cell_type": "code",
      "source": [
        "train_X.shape"
      ],
      "metadata": {
        "colab": {
          "base_uri": "https://localhost:8080/"
        },
        "id": "0MykPZT3fX65",
        "outputId": "8f609b18-f723-4f72-b8be-4b527c824126"
      },
      "execution_count": null,
      "outputs": [
        {
          "output_type": "execute_result",
          "data": {
            "text/plain": [
              "(2, 3, 4)"
            ]
          },
          "metadata": {},
          "execution_count": 46
        }
      ]
    },
    {
      "cell_type": "code",
      "source": [
        "train_Y"
      ],
      "metadata": {
        "colab": {
          "base_uri": "https://localhost:8080/"
        },
        "id": "_BXoX2_YfZMN",
        "outputId": "6fbb1658-3a35-49d2-fd62-e8e3290c299a"
      },
      "execution_count": null,
      "outputs": [
        {
          "output_type": "execute_result",
          "data": {
            "text/plain": [
              "array([[[0.],\n",
              "        [1.],\n",
              "        [2.]],\n",
              "\n",
              "       [[0.],\n",
              "        [1.],\n",
              "        [2.]]], dtype=float32)"
            ]
          },
          "metadata": {},
          "execution_count": 51
        }
      ]
    },
    {
      "cell_type": "markdown",
      "metadata": {
        "id": "7Tqr6voMCLB5"
      },
      "source": [
        "- 단어 벡터의 차원은? \n",
        "- 문장의 길이는? \n",
        "- output 클래스 개수는? "
      ]
    },
    {
      "cell_type": "markdown",
      "metadata": {
        "id": "G5jVI1Z_PBGx"
      },
      "source": [
        "위 입력은 단어 벡터의 차원은 4이고, 문장의 길이가 3인 경우를 가정한 입력입니다. \n",
        "다시 말해 3번의 시점(timesteps)이 존재하고, 각 시점마다 4차원의 단어 벡터가 입력으로 사용됩니다. \n",
        "     \n",
        "그런데 RNN은 2D 텐서가 아니라 3D 텐서를 입력을 받습니다 -> (batchsize, timesteps, features)  = (batchsize, timesteps, input_dim)  \n",
        "즉, 배치크기 2로 설정하여 입력합니다. "
      ]
    },
    {
      "cell_type": "code",
      "execution_count": 27,
      "metadata": {
        "colab": {
          "base_uri": "https://localhost:8080/"
        },
        "id": "CcXHp94wPBGx",
        "outputId": "3e29c007-602c-457e-d638-8d9ffb77976a"
      },
      "outputs": [
        {
          "output_type": "stream",
          "name": "stdout",
          "text": [
            "hidden state : [[[ 0.650981   -0.4265175   0.640633  ]\n",
            "  [-0.5788596  -0.49438623  0.66779244]\n",
            "  [-0.8622027  -0.43359882 -0.12346305]]\n",
            "\n",
            " [[ 0.650981   -0.4265175   0.640633  ]\n",
            "  [-0.5788596  -0.49438623  0.66779244]\n",
            "  [-0.9309214   0.04430077 -0.8464287 ]]], shape: (2, 3, 3)\n"
          ]
        }
      ],
      "source": [
        "# 하이퍼 파라미터\n",
        "num_units = 3\n",
        "input_dim = 4 # 단어 벡터 크기\n",
        "sequence_length = 3 # 한 문장에 단어 개수 \n",
        "learning_rate = 0.1\n",
        "\n",
        "\n",
        "# 기본 RNN \n",
        "rnn = SimpleRNN(num_units, input_shape = (sequence_length, input_dim), return_sequences = True)\n",
        "# h0, h1, h2 를 다 알아야 해서 return_sequences = True를 해줌 (many to many 문제라서)\n",
        "# rnn = SimpleRNN(5, return_sequences=False, return_state=False)와 동일.\n",
        "hidden_state = rnn(train_X)\n",
        "\n",
        "print('hidden state : {}, shape: {}'.format(hidden_state, hidden_state.shape))"
      ]
    },
    {
      "cell_type": "markdown",
      "metadata": {
        "id": "uIYR46GQPBGx"
      },
      "source": [
        "(2, 3) 크기의 텐서가 출력되는데, 이는 마지막 시점의 은닉 상태입니다.     \n",
        "기본적으로 return_sequences가 False인 경우에는 SimpleRNN은 마지막 시점의 은닉 상태만 출력합니다. 이번에는 return_sequences를 True로 지정하여 모든 시점의 은닉 상태를 출력해봅시다."
      ]
    },
    {
      "cell_type": "code",
      "execution_count": 18,
      "metadata": {
        "colab": {
          "base_uri": "https://localhost:8080/"
        },
        "id": "7TVuGKw2PBGy",
        "outputId": "efa5b7fa-d4cb-49ae-a213-efe64269ce2a"
      },
      "outputs": [
        {
          "output_type": "stream",
          "name": "stdout",
          "text": [
            "hidden states : [[[-0.41307232  0.6271849  -0.14366776]\n",
            "  [-0.00372664 -0.44388834  0.14864713]\n",
            "  [-0.83675456  0.03727749 -0.5249121 ]]\n",
            "\n",
            " [[-0.41307232  0.6271849  -0.14366776]\n",
            "  [-0.00372664 -0.44388834  0.14864713]\n",
            "  [-0.74678665 -0.72261196 -0.19151336]]], shape: (2, 3, 3)\n"
          ]
        }
      ],
      "source": [
        "# return_sequences=True\n",
        "rnn = SimpleRNN(num_units, return_sequences=True)\n",
        "hidden_states = rnn(train_X)\n",
        "\n",
        "print('hidden states : {}, shape: {}'.format(hidden_states, hidden_states.shape))"
      ]
    },
    {
      "cell_type": "markdown",
      "metadata": {
        "id": "mh0DY8MVPBGy"
      },
      "source": [
        "return_sequences가 True일 경우 모든 시점에 대해서 은닉 상태의 값을 출력합니다.\n",
        "\n"
      ]
    },
    {
      "cell_type": "code",
      "execution_count": 19,
      "metadata": {
        "colab": {
          "base_uri": "https://localhost:8080/"
        },
        "id": "3TIHbjFGPBGy",
        "outputId": "5363e876-11a3-4b0a-d964-c4940407d79f"
      },
      "outputs": [
        {
          "output_type": "stream",
          "name": "stdout",
          "text": [
            "hidden states : [[[-0.29648376  0.6081849  -0.5885171 ]\n",
            "  [ 0.01980543 -0.14215292  0.6032151 ]\n",
            "  [ 0.6094724  -0.5715136  -0.7255894 ]]\n",
            "\n",
            " [[-0.29648376  0.6081849  -0.5885171 ]\n",
            "  [ 0.01980543 -0.14215292  0.6032151 ]\n",
            "  [-0.3125006  -0.86412144 -0.65956163]]], shape: (2, 3, 3)\n",
            "last state : [[ 0.6094724  -0.5715136  -0.7255894 ]\n",
            " [-0.3125006  -0.86412144 -0.65956163]], shape: (2, 3)\n"
          ]
        }
      ],
      "source": [
        "# return_sequences=True && return_state=True\n",
        "rnn = SimpleRNN(num_units, return_sequences=True, return_state=True)\n",
        "hidden_states, last_state = rnn(train_X)\n",
        "\n",
        "print('hidden states : {}, shape: {}'.format(hidden_states, hidden_states.shape))\n",
        "print('last state : {}, shape: {}'.format(last_state, last_state.shape))"
      ]
    },
    {
      "cell_type": "markdown",
      "metadata": {
        "id": "X7z-pqEQPBGz"
      },
      "source": [
        "첫번째 출력은 return_sequences=True로 인한 출력으로 모든 시점의 은닉 상태입니다. 두번째 출력은 return_state=True로 인한 출력으로 마지막 시점의 은닉 상태입니다"
      ]
    },
    {
      "cell_type": "code",
      "execution_count": 32,
      "metadata": {
        "id": "8ui6gjCTPBGz"
      },
      "outputs": [],
      "source": [
        "from tensorflow.keras import layers, models\n",
        "\n",
        "model = models.Sequential() #모델 호출\n",
        "model.add(layers.SimpleRNN(units= 5, # output 벡터의 크기 << 이 모델에서 현재 데이터로 units=만 사람이 바꿀 수 있다\n",
        "                           input_shape = (3, 4), # time step, input 벡터의 크기, x 데이터에 맞춰야 함(timestep : 배열(시퀀스)의 길이)\n",
        "                           return_sequences = True, # 모든 시점의 hidden state를 받아오기 , RNN 층 개수, 다중분류냐 이진분류나 등에 따라 사용\n",
        "                           name='SimpleRNN-1')) # 해당 레이어 이름 지정\n",
        "\n",
        "\n",
        "model.add(layers.Dense(units=3, # 3가지로 분류해야해서 3\n",
        "                       activation='softmax', \n",
        "                       name='hidden-to-output')) # 다중 분류 출력층, 카테고리 3개 \n",
        "\n",
        "model.compile(\n",
        "    loss='sparse_categorical_crossentropy', \n",
        "    # y값이 라벨이라 sparse 붙어야 함\n",
        "    optimizer='adam', \n",
        "    metrics = 'accuracy')"
      ]
    },
    {
      "cell_type": "code",
      "execution_count": 33,
      "metadata": {
        "colab": {
          "base_uri": "https://localhost:8080/"
        },
        "id": "1wUYV7H4PBGz",
        "outputId": "1c1ed142-3f40-4135-e879-d04f3af7270d"
      },
      "outputs": [
        {
          "output_type": "stream",
          "name": "stdout",
          "text": [
            "Epoch 1/50\n",
            "1/1 [==============================] - 1s 1s/step - loss: 1.0348 - accuracy: 0.3333\n",
            "Epoch 2/50\n",
            "1/1 [==============================] - 0s 12ms/step - loss: 1.0292 - accuracy: 0.3333\n",
            "Epoch 3/50\n",
            "1/1 [==============================] - 0s 12ms/step - loss: 1.0235 - accuracy: 0.3333\n",
            "Epoch 4/50\n",
            "1/1 [==============================] - 0s 15ms/step - loss: 1.0180 - accuracy: 0.3333\n",
            "Epoch 5/50\n",
            "1/1 [==============================] - 0s 12ms/step - loss: 1.0124 - accuracy: 0.3333\n",
            "Epoch 6/50\n",
            "1/1 [==============================] - 0s 13ms/step - loss: 1.0069 - accuracy: 0.3333\n",
            "Epoch 7/50\n",
            "1/1 [==============================] - 0s 12ms/step - loss: 1.0014 - accuracy: 0.3333\n",
            "Epoch 8/50\n",
            "1/1 [==============================] - 0s 11ms/step - loss: 0.9959 - accuracy: 0.5000\n",
            "Epoch 9/50\n",
            "1/1 [==============================] - 0s 15ms/step - loss: 0.9905 - accuracy: 0.5000\n",
            "Epoch 10/50\n",
            "1/1 [==============================] - 0s 14ms/step - loss: 0.9851 - accuracy: 0.5000\n",
            "Epoch 11/50\n",
            "1/1 [==============================] - 0s 15ms/step - loss: 0.9797 - accuracy: 0.5000\n",
            "Epoch 12/50\n",
            "1/1 [==============================] - 0s 16ms/step - loss: 0.9744 - accuracy: 0.5000\n",
            "Epoch 13/50\n",
            "1/1 [==============================] - 0s 12ms/step - loss: 0.9691 - accuracy: 0.5000\n",
            "Epoch 14/50\n",
            "1/1 [==============================] - 0s 13ms/step - loss: 0.9638 - accuracy: 0.5000\n",
            "Epoch 15/50\n",
            "1/1 [==============================] - 0s 14ms/step - loss: 0.9585 - accuracy: 0.5000\n",
            "Epoch 16/50\n",
            "1/1 [==============================] - 0s 10ms/step - loss: 0.9533 - accuracy: 0.5000\n",
            "Epoch 17/50\n",
            "1/1 [==============================] - 0s 15ms/step - loss: 0.9482 - accuracy: 0.5000\n",
            "Epoch 18/50\n",
            "1/1 [==============================] - 0s 12ms/step - loss: 0.9430 - accuracy: 0.5000\n",
            "Epoch 19/50\n",
            "1/1 [==============================] - 0s 11ms/step - loss: 0.9379 - accuracy: 0.5000\n",
            "Epoch 20/50\n",
            "1/1 [==============================] - 0s 11ms/step - loss: 0.9328 - accuracy: 0.5000\n",
            "Epoch 21/50\n",
            "1/1 [==============================] - 0s 11ms/step - loss: 0.9277 - accuracy: 0.5000\n",
            "Epoch 22/50\n",
            "1/1 [==============================] - 0s 9ms/step - loss: 0.9227 - accuracy: 0.5000\n",
            "Epoch 23/50\n",
            "1/1 [==============================] - 0s 11ms/step - loss: 0.9177 - accuracy: 0.5000\n",
            "Epoch 24/50\n",
            "1/1 [==============================] - 0s 10ms/step - loss: 0.9127 - accuracy: 0.5000\n",
            "Epoch 25/50\n",
            "1/1 [==============================] - 0s 13ms/step - loss: 0.9078 - accuracy: 0.5000\n",
            "Epoch 26/50\n",
            "1/1 [==============================] - 0s 12ms/step - loss: 0.9029 - accuracy: 0.5000\n",
            "Epoch 27/50\n",
            "1/1 [==============================] - 0s 14ms/step - loss: 0.8980 - accuracy: 0.5000\n",
            "Epoch 28/50\n",
            "1/1 [==============================] - 0s 12ms/step - loss: 0.8932 - accuracy: 0.5000\n",
            "Epoch 29/50\n",
            "1/1 [==============================] - 0s 11ms/step - loss: 0.8883 - accuracy: 0.5000\n",
            "Epoch 30/50\n",
            "1/1 [==============================] - 0s 17ms/step - loss: 0.8835 - accuracy: 0.5000\n",
            "Epoch 31/50\n",
            "1/1 [==============================] - 0s 11ms/step - loss: 0.8788 - accuracy: 0.5000\n",
            "Epoch 32/50\n",
            "1/1 [==============================] - 0s 11ms/step - loss: 0.8741 - accuracy: 0.5000\n",
            "Epoch 33/50\n",
            "1/1 [==============================] - 0s 12ms/step - loss: 0.8693 - accuracy: 0.5000\n",
            "Epoch 34/50\n",
            "1/1 [==============================] - 0s 13ms/step - loss: 0.8647 - accuracy: 0.5000\n",
            "Epoch 35/50\n",
            "1/1 [==============================] - 0s 10ms/step - loss: 0.8600 - accuracy: 0.8333\n",
            "Epoch 36/50\n",
            "1/1 [==============================] - 0s 15ms/step - loss: 0.8554 - accuracy: 0.8333\n",
            "Epoch 37/50\n",
            "1/1 [==============================] - 0s 12ms/step - loss: 0.8508 - accuracy: 0.8333\n",
            "Epoch 38/50\n",
            "1/1 [==============================] - 0s 10ms/step - loss: 0.8463 - accuracy: 0.8333\n",
            "Epoch 39/50\n",
            "1/1 [==============================] - 0s 13ms/step - loss: 0.8417 - accuracy: 0.8333\n",
            "Epoch 40/50\n",
            "1/1 [==============================] - 0s 12ms/step - loss: 0.8372 - accuracy: 1.0000\n",
            "Epoch 41/50\n",
            "1/1 [==============================] - 0s 11ms/step - loss: 0.8327 - accuracy: 1.0000\n",
            "Epoch 42/50\n",
            "1/1 [==============================] - 0s 12ms/step - loss: 0.8283 - accuracy: 1.0000\n",
            "Epoch 43/50\n",
            "1/1 [==============================] - 0s 14ms/step - loss: 0.8238 - accuracy: 1.0000\n",
            "Epoch 44/50\n",
            "1/1 [==============================] - 0s 11ms/step - loss: 0.8194 - accuracy: 1.0000\n",
            "Epoch 45/50\n",
            "1/1 [==============================] - 0s 10ms/step - loss: 0.8151 - accuracy: 1.0000\n",
            "Epoch 46/50\n",
            "1/1 [==============================] - 0s 13ms/step - loss: 0.8107 - accuracy: 1.0000\n",
            "Epoch 47/50\n",
            "1/1 [==============================] - 0s 12ms/step - loss: 0.8064 - accuracy: 1.0000\n",
            "Epoch 48/50\n",
            "1/1 [==============================] - 0s 15ms/step - loss: 0.8021 - accuracy: 1.0000\n",
            "Epoch 49/50\n",
            "1/1 [==============================] - 0s 10ms/step - loss: 0.7978 - accuracy: 1.0000\n",
            "Epoch 50/50\n",
            "1/1 [==============================] - 0s 10ms/step - loss: 0.7936 - accuracy: 1.0000\n"
          ]
        },
        {
          "output_type": "execute_result",
          "data": {
            "text/plain": [
              "<keras.callbacks.History at 0x7f25d9343730>"
            ]
          },
          "metadata": {},
          "execution_count": 33
        }
      ],
      "source": [
        "model.fit(train_X, train_Y, epochs= 50)"
      ]
    },
    {
      "cell_type": "code",
      "source": [
        "# \"John\" -> model -> ????\n",
        "\n",
        "\n",
        "X = np.array([[John, John, John]])\n",
        "X.shape"
      ],
      "metadata": {
        "colab": {
          "base_uri": "https://localhost:8080/"
        },
        "id": "nHGzzOSK0axa",
        "outputId": "ba76ac2c-dcc0-42eb-bb95-aef293bbdf7a"
      },
      "execution_count": null,
      "outputs": [
        {
          "output_type": "execute_result",
          "data": {
            "text/plain": [
              "(1, 3, 4)"
            ]
          },
          "metadata": {},
          "execution_count": 76
        }
      ]
    },
    {
      "cell_type": "code",
      "source": [
        "model.predict(X)"
      ],
      "metadata": {
        "colab": {
          "base_uri": "https://localhost:8080/"
        },
        "id": "of4t-JVq0Ztj",
        "outputId": "1223b72d-5ff4-4055-c58f-717e768342b7"
      },
      "execution_count": null,
      "outputs": [
        {
          "output_type": "stream",
          "name": "stdout",
          "text": [
            "1/1 [==============================] - 0s 181ms/step\n"
          ]
        },
        {
          "output_type": "execute_result",
          "data": {
            "text/plain": [
              "array([[[0.38968852, 0.25487605, 0.35543543],\n",
              "        [0.4606964 , 0.2343276 , 0.30497602],\n",
              "        [0.3839034 , 0.16858758, 0.447509  ]]], dtype=float32)"
            ]
          },
          "metadata": {},
          "execution_count": 77
        }
      ]
    },
    {
      "cell_type": "code",
      "source": [
        "model.summary()"
      ],
      "metadata": {
        "colab": {
          "base_uri": "https://localhost:8080/"
        },
        "id": "E9SUDORO1faz",
        "outputId": "b80e48f0-45f5-49fd-f649-e72ff81552c0"
      },
      "execution_count": 37,
      "outputs": [
        {
          "output_type": "stream",
          "name": "stdout",
          "text": [
            "Model: \"sequential_4\"\n",
            "_________________________________________________________________\n",
            " Layer (type)                Output Shape              Param #   \n",
            "=================================================================\n",
            " SimpleRNN-1 (SimpleRNN)     (None, 3, 5)              50        \n",
            "                                                                 \n",
            " hidden-to-output (Dense)    (None, 3, 3)              18        \n",
            "                                                                 \n",
            "=================================================================\n",
            "Total params: 68\n",
            "Trainable params: 68\n",
            "Non-trainable params: 0\n",
            "_________________________________________________________________\n"
          ]
        }
      ]
    },
    {
      "cell_type": "code",
      "source": [
        "model.weights # 모델의 weight를 알고 싶을 때 사용하는 함수"
      ],
      "metadata": {
        "colab": {
          "base_uri": "https://localhost:8080/"
        },
        "id": "gxA51eZR1g_O",
        "outputId": "3f983642-bee9-4d8b-c152-8771c4c8725c"
      },
      "execution_count": 38,
      "outputs": [
        {
          "output_type": "execute_result",
          "data": {
            "text/plain": [
              "[<tf.Variable 'SimpleRNN-1/simple_rnn_cell_10/kernel:0' shape=(4, 5) dtype=float32, numpy=\n",
              " array([[ 0.06959531, -0.52854717, -0.14654705,  0.27457142,  0.48504537],\n",
              "        [-0.6317964 , -0.5980677 ,  0.4007017 , -0.29166332, -0.5397489 ],\n",
              "        [ 0.14714886, -0.7389745 ,  0.2724483 ,  0.6763485 , -0.41975278],\n",
              "        [-0.15534993,  0.67234683, -0.4914142 ,  0.45404738,  0.21804516]],\n",
              "       dtype=float32)>,\n",
              " <tf.Variable 'SimpleRNN-1/simple_rnn_cell_10/recurrent_kernel:0' shape=(5, 5) dtype=float32, numpy=\n",
              " array([[-0.25555283,  0.58974123,  0.6040706 , -0.09966107,  0.2708081 ],\n",
              "        [-0.8654383 , -0.3620915 , -0.1666469 ,  0.17646585,  0.4102106 ],\n",
              "        [-0.18297748,  0.13068764,  0.20720346,  0.91429895, -0.39749348],\n",
              "        [-0.09170093,  0.59679455, -0.7876978 ,  0.06110502,  0.05710199],\n",
              "        [ 0.5054425 , -0.15574482, -0.05588553,  0.42416498,  0.69703937]],\n",
              "       dtype=float32)>,\n",
              " <tf.Variable 'SimpleRNN-1/simple_rnn_cell_10/bias:0' shape=(5,) dtype=float32, numpy=\n",
              " array([-0.04215544, -0.04878233, -0.04849248, -0.04781476, -0.04485375],\n",
              "       dtype=float32)>,\n",
              " <tf.Variable 'hidden-to-output/kernel:0' shape=(5, 3) dtype=float32, numpy=\n",
              " array([[ 0.41378817,  0.58709294,  0.34784353],\n",
              "        [-0.31452388, -0.832841  , -0.36354116],\n",
              "        [-0.6992995 , -0.70784193,  0.71226865],\n",
              "        [ 0.1191361 , -0.00917193,  0.34163004],\n",
              "        [ 0.9098706 , -0.6651162 , -0.30344844]], dtype=float32)>,\n",
              " <tf.Variable 'hidden-to-output/bias:0' shape=(3,) dtype=float32, numpy=array([ 0.05012898, -0.05266111, -0.04710544], dtype=float32)>]"
            ]
          },
          "metadata": {},
          "execution_count": 38
        }
      ]
    },
    {
      "cell_type": "code",
      "execution_count": null,
      "metadata": {
        "colab": {
          "base_uri": "https://localhost:8080/"
        },
        "id": "huAfKtGnPBGz",
        "outputId": "949afe2b-30f9-44ce-fe18-a03550295fdf"
      },
      "outputs": [
        {
          "name": "stdout",
          "output_type": "stream",
          "text": [
            "[[0.7663143  0.107223   0.12646265]\n",
            " [0.14568445 0.714073   0.14024259]\n",
            " [0.09099198 0.18833458 0.7206734 ]]\n",
            "[0 1 2]\n",
            "\tPrediction str:  SVO\n",
            "\n",
            "\n",
            "[[0.5298186  0.2547431  0.21543826]\n",
            " [0.11390428 0.6944526  0.19164307]\n",
            " [0.09559339 0.17389421 0.7305124 ]]\n",
            "[0 1 2]\n",
            "\tPrediction str:  SVO\n",
            "\n",
            "\n"
          ]
        }
      ],
      "source": [
        "predictions = model.predict(train_X)\n",
        "\n",
        "\n",
        "for i, prediction in enumerate(predictions):\n",
        "    print(prediction)\n",
        "    print(np.argmax(prediction, axis=1))\n",
        "\n",
        "    result_str = [idx2tag[c] for c in np.argmax(prediction, axis=1) ]\n",
        "    \n",
        "    print(\"\\tPrediction str: \", \"\".join(result_str), end = '\\n\\n\\n')\n"
      ]
    },
    {
      "cell_type": "markdown",
      "metadata": {
        "id": "m4dBBuSBPBGz"
      },
      "source": [
        "모델을 이해하려면 weight 개수(W0\\~Wn)를 세어봐야 합니다."
      ]
    },
    {
      "cell_type": "code",
      "execution_count": null,
      "metadata": {
        "colab": {
          "base_uri": "https://localhost:8080/"
        },
        "id": "KDwlAAz-PBG0",
        "outputId": "e831f83c-2ae8-43a7-fa2b-a888ba100884"
      },
      "outputs": [
        {
          "name": "stdout",
          "output_type": "stream",
          "text": [
            "Model: \"sequential_10\"\n",
            "_________________________________________________________________\n",
            " Layer (type)                Output Shape              Param #   \n",
            "=================================================================\n",
            " SimpleRNN-1 (SimpleRNN)     (None, 3, 3)              24        \n",
            "                                                                 \n",
            " hidden-to-output (Dense)    (None, 3, 3)              12        \n",
            "                                                                 \n",
            "=================================================================\n",
            "Total params: 36\n",
            "Trainable params: 36\n",
            "Non-trainable params: 0\n",
            "_________________________________________________________________\n"
          ]
        }
      ],
      "source": [
        "model.summary()"
      ]
    },
    {
      "cell_type": "markdown",
      "metadata": {
        "id": "tTT04lcMPBG0"
      },
      "source": [
        "- Wx = \n",
        "- Wh = 3\n",
        "- bias(hidden) = \n",
        "- Wy = \n",
        "- bias(output) = "
      ]
    },
    {
      "cell_type": "markdown",
      "metadata": {
        "id": "d3iT_vhuFjUZ"
      },
      "source": [
        "실제로 weight의 개수를 확인해봅시다. "
      ]
    },
    {
      "cell_type": "code",
      "execution_count": 39,
      "metadata": {
        "id": "9F1r2A1Nyj5-",
        "colab": {
          "base_uri": "https://localhost:8080/"
        },
        "outputId": "04e28c13-2b22-4fdc-ba43-5ecfa0c1ebcf"
      },
      "outputs": [
        {
          "output_type": "stream",
          "name": "stdout",
          "text": [
            "SimpleRNN-1/simple_rnn_cell_10/kernel:0 => (4, 5)\n",
            "SimpleRNN-1/simple_rnn_cell_10/recurrent_kernel:0 => (5, 5)\n",
            "SimpleRNN-1/simple_rnn_cell_10/bias:0 => (5,)\n",
            "hidden-to-output/kernel:0 => (5, 3)\n",
            "hidden-to-output/bias:0 => (3,)\n"
          ]
        }
      ],
      "source": [
        "for model_weight in model.weights:\n",
        "    print(model_weight.name, '=>', model_weight.shape)"
      ]
    },
    {
      "cell_type": "markdown",
      "metadata": {
        "id": "-XJoLXXvPBG0"
      },
      "source": [
        "### 2. 다층 Simple RNN"
      ]
    },
    {
      "cell_type": "markdown",
      "metadata": {
        "id": "1NlO9hSkPBG0"
      },
      "source": [
        "임의의 시계열 데이터를 생성하겠습니다. "
      ]
    },
    {
      "cell_type": "code",
      "execution_count": 40,
      "metadata": {
        "colab": {
          "base_uri": "https://localhost:8080/"
        },
        "id": "2CV3UdamPBG0",
        "outputId": "00dd27ff-473c-4eed-9ca8-c7a9ad7eb8f1"
      },
      "outputs": [
        {
          "output_type": "execute_result",
          "data": {
            "text/plain": [
              "(1000,)"
            ]
          },
          "metadata": {},
          "execution_count": 40
        }
      ],
      "source": [
        "import numpy as np\n",
        "\n",
        "data = np.sin(2*np.pi*np.arange(0, 1000))*10 + np.random.random(1000)\n",
        "data.shape"
      ]
    },
    {
      "cell_type": "code",
      "execution_count": null,
      "metadata": {
        "id": "1a4f9khtPBG0"
      },
      "outputs": [],
      "source": [
        "plt.figure(figsize=[100, 20])\n",
        "plt.plot(np.arange(0, 1000), data)\n",
        "plt.show()"
      ]
    },
    {
      "cell_type": "code",
      "execution_count": 42,
      "metadata": {
        "id": "HOKCc3daPpA1"
      },
      "outputs": [],
      "source": [
        "from sklearn.model_selection import train_test_split"
      ]
    },
    {
      "cell_type": "markdown",
      "metadata": {
        "id": "JzZG7eh4PBG0"
      },
      "source": [
        "X, y 데이터 생성하기 "
      ]
    },
    {
      "cell_type": "markdown",
      "metadata": {
        "id": "UVwoZTVUC_7p"
      },
      "source": [
        "다음으로, 해당 샘플 데이터를 1칸씩 이동하며 10개씩 데이터를 잘라, x값으로 사용하고, y값은 11번째 데이터로 사용하겠습니다.  \n",
        "예) x = 1번째 ~ 10번째 데이터 / y = 11번째"
      ]
    },
    {
      "cell_type": "markdown",
      "metadata": {
        "id": "JaExrAWWDjES"
      },
      "source": [
        "질문) 길이가 1000인 data를 이용해, 몇 쌍의 x, y 데이터를 만들어낼 수 있을까요?\n"
      ]
    },
    {
      "cell_type": "code",
      "execution_count": 43,
      "metadata": {
        "id": "NpUqVOOye8iw",
        "colab": {
          "base_uri": "https://localhost:8080/"
        },
        "outputId": "4f9ab92a-5f93-4e3b-8564-6cd2416cd3ad"
      },
      "outputs": [
        {
          "output_type": "execute_result",
          "data": {
            "text/plain": [
              "((990, 10, 1), (990, 1))"
            ]
          },
          "metadata": {},
          "execution_count": 43
        }
      ],
      "source": [
        "x_sin = np.array([[[data[i+j]] for j in range(10)] for i in range(len(data)-9-1)])\n",
        "y_sin = np.array([[data[i+10]] for i in range(len(data)-10)])\n",
        "x_sin.shape, y_sin.shape"
      ]
    },
    {
      "cell_type": "code",
      "execution_count": null,
      "metadata": {
        "id": "VQrV4fJzznYe"
      },
      "outputs": [],
      "source": [
        "# x_train, x_test, y_train, y_test = train_test_split(x_sin, y_sin, test_size=0.25, random_state=42)"
      ]
    },
    {
      "cell_type": "code",
      "execution_count": 44,
      "metadata": {
        "id": "lsT9COTjRofk"
      },
      "outputs": [],
      "source": [
        "# shuffle = False로 명시하면, 데이터셋 순차적으로 split\n",
        "x_train, x_test, y_train, y_test = train_test_split(x_sin, y_sin, shuffle=False) "
      ]
    },
    {
      "cell_type": "code",
      "execution_count": 45,
      "metadata": {
        "colab": {
          "base_uri": "https://localhost:8080/"
        },
        "id": "c87K_Toiz_aq",
        "outputId": "27acdf19-dc91-4fae-d99b-e6764c406706"
      },
      "outputs": [
        {
          "output_type": "execute_result",
          "data": {
            "text/plain": [
              "((742, 10, 1), (248, 10, 1), (742, 1))"
            ]
          },
          "metadata": {},
          "execution_count": 45
        }
      ],
      "source": [
        "x_train.shape, x_test.shape, y_train.shape\n",
        "# 742 : 데이터 개수, 10 : timestep, 1은 숫자 1개라는 의미"
      ]
    },
    {
      "cell_type": "markdown",
      "metadata": {
        "id": "8xZOmkkl9T09"
      },
      "source": [
        "### 모델 작성.\n",
        "1. layer1: SimpleRNN 8\n",
        "2. layer2: SimpleRNN 8\n",
        "3. layer3: SimpleRNN 4\n",
        "4. output_layer:  Dense 1 # 값이 하나 ManyToOne(회귀)"
      ]
    },
    {
      "cell_type": "markdown",
      "source": [
        "### RNN 층을 쌓을 때는 마지막 RNN 말고는 무조건 >> return_sequences = True\n",
        "마지막 return_sequences = True는 문제에 따라 결정\n",
        "many to many 는 True, many to one은 False"
      ],
      "metadata": {
        "id": "QzG_8ep-67Ch"
      }
    },
    {
      "cell_type": "code",
      "source": [
        "model = models.Sequential()\n",
        "\n",
        "# 다층 LSTM \n",
        "model.add(layers.SimpleRNN(units = 8,\n",
        "                           input_shape = (10,1),\n",
        "                           return_sequences = True, # 다층이라서 True\n",
        "                           name = 'rnn_1'))\n",
        "model.add(layers.SimpleRNN(8,input_shape = (10,8),return_sequences = True, name = 'rnn_2')) \n",
        "# input_shape 적어줘야 한다\n",
        "# 층을 쌓으려면 return_sequences는 True로 줘야 한다\n",
        "model.add(layers.SimpleRNN(4,input_shape = (10,8),name = 'rnn_3')) # 숫자 맞추는 거라 return_sequences 안줌 \n",
        "\n",
        "model.add(layers.Dense(1)) # activation=은 linear 혹은 안줘야 한다\n",
        "\n",
        "model.compile(optimizer='adam', loss='mse')\n",
        "\n",
        "model.fit(x_train, y_train, epochs=10, verbose=1)"
      ],
      "metadata": {
        "colab": {
          "base_uri": "https://localhost:8080/"
        },
        "id": "H9sdGZQS4IP5",
        "outputId": "83cb9032-fc6b-4842-b193-9f34907ca002"
      },
      "execution_count": 56,
      "outputs": [
        {
          "output_type": "stream",
          "name": "stdout",
          "text": [
            "Epoch 1/10\n",
            "24/24 [==============================] - 3s 8ms/step - loss: 0.4359\n",
            "Epoch 2/10\n",
            "24/24 [==============================] - 0s 8ms/step - loss: 0.1629\n",
            "Epoch 3/10\n",
            "24/24 [==============================] - 0s 12ms/step - loss: 0.1069\n",
            "Epoch 4/10\n",
            "24/24 [==============================] - 0s 14ms/step - loss: 0.0964\n",
            "Epoch 5/10\n",
            "24/24 [==============================] - 0s 14ms/step - loss: 0.0924\n",
            "Epoch 6/10\n",
            "24/24 [==============================] - 0s 14ms/step - loss: 0.0902\n",
            "Epoch 7/10\n",
            "24/24 [==============================] - 0s 14ms/step - loss: 0.0887\n",
            "Epoch 8/10\n",
            "24/24 [==============================] - 0s 13ms/step - loss: 0.0876\n",
            "Epoch 9/10\n",
            "24/24 [==============================] - 0s 13ms/step - loss: 0.0869\n",
            "Epoch 10/10\n",
            "24/24 [==============================] - 0s 13ms/step - loss: 0.0864\n"
          ]
        },
        {
          "output_type": "execute_result",
          "data": {
            "text/plain": [
              "<keras.callbacks.History at 0x7f25c98fdb70>"
            ]
          },
          "metadata": {},
          "execution_count": 56
        }
      ]
    },
    {
      "cell_type": "code",
      "execution_count": null,
      "metadata": {
        "colab": {
          "base_uri": "https://localhost:8080/"
        },
        "id": "eUxHDFhqLyRE",
        "outputId": "4c764452-cbcc-4d21-ee50-a0349e39ef68"
      },
      "outputs": [
        {
          "name": "stdout",
          "output_type": "stream",
          "text": [
            "Model: \"sequential_11\"\n",
            "_________________________________________________________________\n",
            " Layer (type)                Output Shape              Param #   \n",
            "=================================================================\n",
            " rnn-1 (SimpleRNN)           (None, 10, 8)             80        \n",
            "                                                                 \n",
            " rnn-2 (SimpleRNN)           (None, 10, 8)             136       \n",
            "                                                                 \n",
            " rnn-3 (SimpleRNN)           (None, 4)                 52        \n",
            "                                                                 \n",
            " dense_3 (Dense)             (None, 1)                 5         \n",
            "                                                                 \n",
            "=================================================================\n",
            "Total params: 273\n",
            "Trainable params: 273\n",
            "Non-trainable params: 0\n",
            "_________________________________________________________________\n"
          ]
        }
      ],
      "source": [
        "model.summary()"
      ]
    },
    {
      "cell_type": "markdown",
      "metadata": {
        "id": "YV1rOi2fP-ck"
      },
      "source": [
        "- unit: 노드의 개수 (= 아웃풋 공간의 차원) \n",
        "- (layer 1) Wx + Wh + b = 8X1 = (8X1)X(1X1) + (8X8)X(8X1) + 8X1 = 8+64+8 >> 80\n",
        "\n",
        "- (layer 2) Wx + Wh + b = 8X1 = (8X8)X(8X1) + (8X8)X(8X1) + 8X1 = 64+64+8 >> 136\n",
        "\n",
        "- (layer 3) Wx + Wh + b = 4X1 = (4X8)X(8X1) + (4X4)X(4X1) + 4X1 = 32+16+4 >> 52\n"
      ]
    },
    {
      "cell_type": "code",
      "execution_count": null,
      "metadata": {
        "id": "PRQDaqPmQ73M"
      },
      "outputs": [],
      "source": [
        "for model_weight in model.weights:\n",
        "    print(model_weight.name, '=>', model_weight.shape)"
      ]
    },
    {
      "cell_type": "code",
      "execution_count": null,
      "metadata": {
        "id": "equOsH06QqHT"
      },
      "outputs": [],
      "source": [
        "model.weights"
      ]
    },
    {
      "cell_type": "markdown",
      "metadata": {
        "id": "swe0517RYJLW"
      },
      "source": [
        "##### 학습결과"
      ]
    },
    {
      "cell_type": "code",
      "execution_count": null,
      "metadata": {
        "id": "f3VQm7zyYO_L"
      },
      "outputs": [],
      "source": [
        "y_hat = model.predict(x_test) #테스트값 예측"
      ]
    },
    {
      "cell_type": "code",
      "execution_count": null,
      "metadata": {
        "id": "JTCJuigRYTmS"
      },
      "outputs": [],
      "source": [
        "y_axis = np.arange(0, len(y_train))\n",
        "y_2_axis = np.arange(len(y_train), len(y_train)+len(y_hat))\n",
        "\n",
        "plt.figure(figsize = (100,30))\n",
        "# Train 데이터 그래프로 표현\n",
        "plt.plot(y_axis, y_train.reshape(len(x_train),), '-o')\n",
        "plt.plot(y_2_axis, y_hat.reshape(len(x_test),),'-o', color = 'red', label = 'predicted')\n",
        "plt.plot(y_2_axis, y_test.reshape(len(x_test),), '-o', color = 'purple', alpha = 0.3, label = 'actual')\n",
        "plt.legend(fontsize = 40)\n",
        "plt.show()"
      ]
    },
    {
      "cell_type": "markdown",
      "metadata": {
        "id": "p_IsqbYB8ZCr"
      },
      "source": [
        "### reference"
      ]
    },
    {
      "cell_type": "markdown",
      "metadata": {
        "id": "DREMZ3E18WdL"
      },
      "source": [
        "- https://github.com/ukairia777/tensorflow-nlp-tutorial/blob/main/08.%20RNN/8-4.%20understanding_simplernn_and_lstm.ipynb"
      ]
    }
  ],
  "metadata": {
    "colab": {
      "provenance": [],
      "include_colab_link": true
    },
    "interpreter": {
      "hash": "de251013a40f018016da6aac88282f64194d2814a3d582c3eab699698a702576"
    },
    "kernelspec": {
      "display_name": "env_TF",
      "language": "python",
      "name": "env_tf"
    },
    "language_info": {
      "codemirror_mode": {
        "name": "ipython",
        "version": 3
      },
      "file_extension": ".py",
      "mimetype": "text/x-python",
      "name": "python",
      "nbconvert_exporter": "python",
      "pygments_lexer": "ipython3",
      "version": "3.8.14"
    },
    "toc": {
      "base_numbering": 1,
      "nav_menu": {},
      "number_sections": true,
      "sideBar": true,
      "skip_h1_title": false,
      "title_cell": "Table of Contents",
      "title_sidebar": "Contents",
      "toc_cell": false,
      "toc_position": {},
      "toc_section_display": true,
      "toc_window_display": false
    }
  },
  "nbformat": 4,
  "nbformat_minor": 0
}