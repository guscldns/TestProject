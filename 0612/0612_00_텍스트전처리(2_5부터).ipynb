{
  "cells": [
    {
      "cell_type": "markdown",
      "metadata": {
        "id": "view-in-github",
        "colab_type": "text"
      },
      "source": [
        "<a href=\"https://colab.research.google.com/github/guscldns/TestProject/blob/main/0612/0612_00_%E1%84%90%E1%85%A6%E1%86%A8%E1%84%89%E1%85%B3%E1%84%90%E1%85%B3%E1%84%8C%E1%85%A5%E1%86%AB%E1%84%8E%E1%85%A5%E1%84%85%E1%85%B5(2_5%EB%B6%80%ED%84%B0).ipynb\" target=\"_parent\"><img src=\"https://colab.research.google.com/assets/colab-badge.svg\" alt=\"Open In Colab\"/></a>"
      ]
    },
    {
      "cell_type": "markdown",
      "metadata": {
        "id": "Zi20RKmSio8x"
      },
      "source": [
        "#텍스트 전처리(Text Preprocessing)"
      ]
    },
    {
      "cell_type": "markdown",
      "metadata": {
        "id": "RXjGCQhziz_d"
      },
      "source": [
        "- 텍스트를 자연어 처리를 위해 용도에 맞도록 사전에 표준화 하는 작업\n",
        "- 텍스트 내 정보를 유지하고, 중복을 제거하여 분석 효율성을 높이기 위해 전처리를 수행\n",
        "\n",
        "1) 토큰화(Tokenizing)\n",
        "- 텍스트를 자연어 처리를 위해 분리하는 것\n",
        "- 토큰화는 단어별로 분리하는 \"단어 토큰화(Word Tokenization)\"과 문장별로 분리하는 \"문장 토큰화(Sentence Tokenization)\"으로 구분  \n",
        "=> 이후 실습에서는 단어 토큰화를 \"토큰화\"로 통일하여 칭함\n",
        "\n",
        "2) 품사 부착(Pos Tagging)\n",
        "- 각 토큰에 품사 정보를 추가\n",
        "- 분석시에 불필요한 품사를 제거하거나(예. 조사, 접속사 등) 필요한 품사를 필터링 하기 위해 사용\n",
        "\n",
        "3) 개체명 인식(NER, Named Entity Recognition)\n",
        "- 각 토큰의 개체구분(기관, 인물, 지역, 날짜 등) 태그를 부착\n",
        "- 텍스트가 무엇과 관련되어 있는지 구분하기 위해 사용\n",
        "- 예를 들어, 과일의 apple과 기업의 apple을 구분하는 방법이 개체명 인식임. \n",
        "\n",
        "4) 원형복원(Stemming & Lemmatization)\n",
        "- 각 토큰의 원형을 복원함으로써 토큰을 표준화 하여 불필요한 데이터 중복을 방지  \n",
        "(= 단어의 수를 줄일 수 있어 연산 효율성을 높임)  \n",
        " \n",
        " - 어간추출(Stemming): 품사를 무시하고 규칙에 기반하여 어간을 추출\n",
        " - 표제어 추출(Lemmatization): 품사정보를 유지하여 표제어 추출\n",
        "\n",
        "5) 불용어 처리(Stopword)\n",
        " - 자연어 처리를 위해 불필요한 요소를 제거하는 작업\n",
        " - 불필요한 품사를 제거하는 작업과 불필요한 단어를 제거하는 작업으로 구성\n",
        " - 불필요한 토큰을 제거함으로써 연산의 효율성을 높임"
      ]
    },
    {
      "cell_type": "markdown",
      "metadata": {
        "id": "k7WKR67tj-j9"
      },
      "source": [
        "#1. 영문 전처리 연습"
      ]
    },
    {
      "cell_type": "markdown",
      "metadata": {
        "id": "qSfmG8RxkD_Y"
      },
      "source": [
        "NLTK lib(https://www.nltk.org/)사용"
      ]
    },
    {
      "cell_type": "markdown",
      "metadata": {
        "id": "E32YHTz0kJIr"
      },
      "source": [
        "## 1.1 실습용 영문기사 수집\n",
        "\n",
        "온라인 기사를 바로 수집하여 실습데이터로 사용\n",
        "https://www.forbes.com/sites/adrianbridgwater/2019/04/15/what-drove-the-ai-renaissance/#4a0130481f25"
      ]
    },
    {
      "cell_type": "code",
      "execution_count": null,
      "metadata": {
        "id": "W-hq5fi6keZZ"
      },
      "outputs": [],
      "source": [
        "import requests\n",
        "from bs4 import BeautifulSoup"
      ]
    },
    {
      "cell_type": "code",
      "execution_count": null,
      "metadata": {
        "id": "X3cyyQxSkieU"
      },
      "outputs": [],
      "source": [
        "url = 'https://www.forbes.com/sites/adrianbridgwater/2019/04/15/what-drove-the-ai-renaissance/#4a0130481f25'\n",
        "response = requests.get(url)\n",
        "soup = BeautifulSoup(response.text, 'html.parser')"
      ]
    },
    {
      "cell_type": "code",
      "execution_count": null,
      "metadata": {
        "colab": {
          "base_uri": "https://localhost:8080/",
          "height": 89
        },
        "id": "bCd6NTG8kpco",
        "outputId": "c723d643-41d2-4492-d89d-feb4d6c63eaa"
      },
      "outputs": [
        {
          "data": {
            "application/vnd.google.colaboratory.intrinsic+json": {
              "type": "string"
            },
            "text/plain": [
              "\"And yes, she does mean everybody's job from yours to mine and onward to the role of grain farmers in Egypt, pastry chefs in Paris and dog walkers in Oregon i.e. every job. We will now be able to help direct all workers’ actions and behavior with a new degree of intelligence that comes from predictive analytics, all stemming from the AI engines we will now increasingly depend upon.\""
            ]
          },
          "execution_count": 3,
          "metadata": {},
          "output_type": "execute_result"
        }
      ],
      "source": [
        "eng_news = soup.select('p') #[class = 'speakable-paragraph']\n",
        "eng_text = eng_news[3].get_text()\n",
        "\n",
        "eng_text"
      ]
    },
    {
      "cell_type": "markdown",
      "metadata": {
        "id": "zs6j_xjrk1Zn"
      },
      "source": [
        "## 1.2 영문토큰화 \n",
        "https://www.nltk.org/api/nltk.tokenize.html"
      ]
    },
    {
      "cell_type": "code",
      "execution_count": null,
      "metadata": {
        "colab": {
          "base_uri": "https://localhost:8080/"
        },
        "id": "l0poQI4Fk4bF",
        "outputId": "f1b49685-2663-4e57-f664-a0a73ea4b23f"
      },
      "outputs": [
        {
          "name": "stdout",
          "output_type": "stream",
          "text": [
            "Looking in indexes: https://pypi.org/simple, https://us-python.pkg.dev/colab-wheels/public/simple/\n",
            "Requirement already satisfied: nltk in /usr/local/lib/python3.7/dist-packages (3.7)\n",
            "Requirement already satisfied: tqdm in /usr/local/lib/python3.7/dist-packages (from nltk) (4.64.0)\n",
            "Requirement already satisfied: regex>=2021.8.3 in /usr/local/lib/python3.7/dist-packages (from nltk) (2022.6.2)\n",
            "Requirement already satisfied: click in /usr/local/lib/python3.7/dist-packages (from nltk) (7.1.2)\n",
            "Requirement already satisfied: joblib in /usr/local/lib/python3.7/dist-packages (from nltk) (1.1.0)\n"
          ]
        }
      ],
      "source": [
        "!pip install nltk"
      ]
    },
    {
      "cell_type": "code",
      "execution_count": null,
      "metadata": {
        "colab": {
          "base_uri": "https://localhost:8080/"
        },
        "id": "GhzpaYvYk8w5",
        "outputId": "c11b6c69-5927-4c0b-d171-fde330bb178a"
      },
      "outputs": [
        {
          "name": "stderr",
          "output_type": "stream",
          "text": [
            "[nltk_data] Downloading package punkt to /root/nltk_data...\n",
            "[nltk_data]   Unzipping tokenizers/punkt.zip.\n"
          ]
        },
        {
          "name": "stdout",
          "output_type": "stream",
          "text": [
            "['James', 'is', 'working', 'at', 'Disney', 'in', 'London']\n"
          ]
        },
        {
          "name": "stderr",
          "output_type": "stream",
          "text": [
            "[nltk_data] Downloading package omw-1.4 to /root/nltk_data...\n"
          ]
        }
      ],
      "source": [
        "#word_tokenize(): 단어와 구두점(온점, 컴마, 물음표, 세미콜론, 느낌표 등과 같은 기호)으로\n",
        "\n",
        "import nltk\n",
        "nltk.download('punkt')\n",
        "nltk.download('omw-1.4')\n",
        "\n",
        "from nltk.tokenize import word_tokenize\n",
        "text =  \"James is working at Disney in London\"\n",
        "word_tokens = word_tokenize(text)\n",
        "print(word_tokens)"
      ]
    },
    {
      "cell_type": "code",
      "execution_count": null,
      "metadata": {
        "colab": {
          "base_uri": "https://localhost:8080/"
        },
        "id": "ateuSI0clYAP",
        "outputId": "139a4982-1260-4e21-fe37-c434813f4c65"
      },
      "outputs": [
        {
          "name": "stdout",
          "output_type": "stream",
          "text": [
            "['And', 'yes', ',', 'she', 'does', 'mean', 'everybody', \"'s\", 'job', 'from', 'yours', 'to', 'mine', 'and', 'onward', 'to', 'the', 'role', 'of', 'grain', 'farmers', 'in', 'Egypt', ',', 'pastry', 'chefs', 'in', 'Paris', 'and', 'dog', 'walkers', 'in', 'Oregon', 'i.e', '.', 'every', 'job', '.', 'We', 'will', 'now', 'be', 'able', 'to', 'help', 'direct', 'all', 'workers', '’', 'actions', 'and', 'behavior', 'with', 'a', 'new', 'degree', 'of', 'intelligence', 'that', 'comes', 'from', 'predictive', 'analytics', ',', 'all', 'stemming', 'from', 'the', 'AI', 'engines', 'we', 'will', 'now', 'increasingly', 'depend', 'upon', '.']\n"
          ]
        }
      ],
      "source": [
        "#word_tokenize(): 단어와 구두점(온점, 컴마, 물음표, 세미콜론, 느낌표 등과 같은 기호)으로\n",
        "import nltk\n",
        "from nltk.tokenize import word_tokenize\n",
        "\n",
        "token1 = word_tokenize(eng_text)\n",
        "print(token1)"
      ]
    },
    {
      "cell_type": "code",
      "execution_count": null,
      "metadata": {
        "colab": {
          "base_uri": "https://localhost:8080/"
        },
        "id": "6r4iZyTBlqeT",
        "outputId": "1b12c6b7-4458-4083-ad9e-f92559e562ca"
      },
      "outputs": [
        {
          "name": "stdout",
          "output_type": "stream",
          "text": [
            "['James', 'is', 'working', 'at', 'Disney', 'in', 'London']\n"
          ]
        }
      ],
      "source": [
        "#WordPunctTokenizer(): 알파벳과 알파벳이 아닌 문자를 구분하여 토큰화\n",
        "import nltk\n",
        "from nltk.tokenize import WordPunctTokenizer\n",
        "\n",
        "text =  \"James is working at Disney in London\"\n",
        "wordpuncttoken = WordPunctTokenizer().tokenize(text)\n",
        "print(wordpuncttoken)"
      ]
    },
    {
      "cell_type": "code",
      "execution_count": null,
      "metadata": {
        "colab": {
          "base_uri": "https://localhost:8080/"
        },
        "id": "SKBHE9TjlyES",
        "outputId": "aa3f537c-b141-485a-c3f7-3bbe34b997ae"
      },
      "outputs": [
        {
          "name": "stdout",
          "output_type": "stream",
          "text": [
            "['James', 'is', 'working', 'at', 'Disney', 'in', 'London']\n"
          ]
        }
      ],
      "source": [
        "#TreebankWordTokenizer(): 정규표현식에 기반한 토큰화\n",
        "import nltk\n",
        "from nltk.tokenize import TreebankWordTokenizer\n",
        "\n",
        "text =  \"James is working at Disney in London\"\n",
        "treebankwordtoken = TreebankWordTokenizer().tokenize(text)\n",
        "print(treebankwordtoken)"
      ]
    },
    {
      "cell_type": "markdown",
      "metadata": {
        "id": "fo-tGurmmPOI"
      },
      "source": [
        "## 1.3 영문 품사 부착(PoS tagging)"
      ]
    },
    {
      "cell_type": "markdown",
      "metadata": {
        "id": "ZOxdStzHmTPD"
      },
      "source": [
        "분리한 토큰마다 품사를 부착한다.   \n",
        "https://www.nltk.org/api/nltk.tag.html\n",
        "\n",
        "태그목록: https://pythonprogramming.net/natural-language-toolkit-nltk-part-speech-tagging/"
      ]
    },
    {
      "cell_type": "code",
      "execution_count": null,
      "metadata": {
        "colab": {
          "base_uri": "https://localhost:8080/"
        },
        "id": "wY4p27-6mdXk",
        "outputId": "6a1039a2-9765-44a7-fcf1-9eda307200e7"
      },
      "outputs": [
        {
          "name": "stderr",
          "output_type": "stream",
          "text": [
            "[nltk_data] Downloading package averaged_perceptron_tagger to\n",
            "[nltk_data]     /root/nltk_data...\n",
            "[nltk_data]   Unzipping taggers/averaged_perceptron_tagger.zip.\n"
          ]
        },
        {
          "name": "stdout",
          "output_type": "stream",
          "text": [
            "[('James', 'NNP'), ('is', 'VBZ'), ('working', 'VBG'), ('at', 'IN'), ('Disney', 'NNP'), ('in', 'IN'), ('London', 'NNP')]\n"
          ]
        }
      ],
      "source": [
        "from nltk import pos_tag\n",
        "nltk.download('averaged_perceptron_tagger')\n",
        "\n",
        "taggedToken = pos_tag(word_tokens)\n",
        "print(taggedToken)"
      ]
    },
    {
      "cell_type": "markdown",
      "metadata": {
        "id": "sIyviWpQmszG"
      },
      "source": [
        "##1.4 개체명 인식(NER, Named Entity Recognition)\n",
        "http://www.nltk.org/api/nltk.chunk.html\n"
      ]
    },
    {
      "cell_type": "markdown",
      "metadata": {
        "id": "KwU2RBaGYWPk"
      },
      "source": [
        "개체명 인식(Named Entity Recognition)이란 말 그대로 이름을 가진 개체(named entity)를 인식하겠다는 것을 의미합니다.   \n",
        "즉, 어떤 이름을 의미하는 단어를 보고는 그 단어가 어떤 유형인지를 인식하는 것을 말합니다."
      ]
    },
    {
      "cell_type": "markdown",
      "metadata": {
        "id": "oUxiL3o_YdYw"
      },
      "source": [
        "예를 들어 \b제임스는 2018년에 골드만삭스에 입사했다. 라는 문장이 있을 때, 사람(person), 조직(organization), 시간(time)에 대해 개체명 인식을 수행하는 모델이라면 다음과 같은 결과를 보여줍니다.\n",
        "\n",
        "- 제임스 : 사람\n",
        "- 2018년 : 시간\n",
        "- 골드만삭스 : 조직"
      ]
    },
    {
      "cell_type": "code",
      "execution_count": null,
      "metadata": {
        "colab": {
          "base_uri": "https://localhost:8080/"
        },
        "id": "fKLlSBjPmzey",
        "outputId": "f9bb8857-f3b2-4e43-9480-224df4887c38"
      },
      "outputs": [
        {
          "name": "stderr",
          "output_type": "stream",
          "text": [
            "[nltk_data] Downloading package words to /root/nltk_data...\n",
            "[nltk_data]   Unzipping corpora/words.zip.\n",
            "[nltk_data] Downloading package maxent_ne_chunker to\n",
            "[nltk_data]     /root/nltk_data...\n",
            "[nltk_data]   Unzipping chunkers/maxent_ne_chunker.zip.\n"
          ]
        },
        {
          "data": {
            "text/plain": [
              "True"
            ]
          },
          "execution_count": 10,
          "metadata": {},
          "output_type": "execute_result"
        }
      ],
      "source": [
        "nltk.download('words')\n",
        "nltk.download('maxent_ne_chunker')"
      ]
    },
    {
      "cell_type": "code",
      "execution_count": null,
      "metadata": {
        "colab": {
          "base_uri": "https://localhost:8080/"
        },
        "id": "rDAZMQzCm4AZ",
        "outputId": "c154c773-a4f7-43e5-85a7-397e9c9aa089"
      },
      "outputs": [
        {
          "name": "stdout",
          "output_type": "stream",
          "text": [
            "(S\n",
            "  (PERSON James/NNP)\n",
            "  is/VBZ\n",
            "  working/VBG\n",
            "  at/IN\n",
            "  (ORGANIZATION Disney/NNP)\n",
            "  in/IN\n",
            "  (GPE London/NNP))\n"
          ]
        }
      ],
      "source": [
        "from nltk import ne_chunk\n",
        "neToken = ne_chunk(taggedToken)\n",
        "print(neToken)"
      ]
    },
    {
      "cell_type": "markdown",
      "metadata": {
        "id": "wesTWfS5ZBUW"
      },
      "source": [
        "James는 PERSON(사람), Disney는 조직(ORGANIZATION), London은 위치(GPE)"
      ]
    },
    {
      "cell_type": "markdown",
      "metadata": {
        "id": "FvrF1piqm93I"
      },
      "source": [
        "## 1.5 원형복원\n",
        "각 토큰의 원형을 복원하여 표준화한다"
      ]
    },
    {
      "cell_type": "markdown",
      "metadata": {
        "id": "MIn9P5aWnExP"
      },
      "source": [
        "### 1.5.1 어간추출(Stemming)\n",
        "- 규칙에 기반하여 토큰을 표준화\n",
        "- ing제거, ful제거 등  \n",
        "http://www.nltk.org/api/nltk.chunk.html\n",
        "\n",
        "규칙 상세: http://www.nltk.org/api/nltk.chunk.html\n"
      ]
    },
    {
      "cell_type": "code",
      "execution_count": null,
      "metadata": {
        "id": "AzmVDuNjnQC2"
      },
      "outputs": [],
      "source": [
        "from nltk.stem import PorterStemmer\n",
        "ps = PorterStemmer()"
      ]
    },
    {
      "cell_type": "code",
      "execution_count": null,
      "metadata": {
        "colab": {
          "base_uri": "https://localhost:8080/"
        },
        "id": "m4umNUPgnWCm",
        "outputId": "78dc6533-399e-490a-9b43-de9ab99c2d81"
      },
      "outputs": [
        {
          "name": "stdout",
          "output_type": "stream",
          "text": [
            "running -> run\n",
            "believes -> believ\n",
            "using ->use\n",
            "conversation ->convers\n",
            "organization ->organ\n",
            "studies -> studi\n"
          ]
        }
      ],
      "source": [
        "print(\"running -> \" + ps.stem(\"running\"))\n",
        "print(\"believes -> \"+ps.stem('believes'))\n",
        "print('using ->' + ps.stem(\"using\"))\n",
        "print(\"conversation ->\" + ps.stem('conversation'))\n",
        "print('organization ->'+ ps.stem('organization'))\n",
        "print('studies -> '+ ps.stem(\"studies\"))"
      ]
    },
    {
      "cell_type": "code",
      "execution_count": null,
      "metadata": {
        "id": "qsEKIQFxpLfc"
      },
      "outputs": [],
      "source": []
    },
    {
      "cell_type": "markdown",
      "metadata": {
        "id": "M4q19tr7nssB"
      },
      "source": [
        "### 1.5.2 표제어 추출(Lemmatization)\n",
        "- 품사정보를 보존하여 토큰을 표준화\n",
        "\n",
        "http://www.nltk.org/api/nltk.chunk.html"
      ]
    },
    {
      "cell_type": "code",
      "execution_count": null,
      "metadata": {
        "colab": {
          "base_uri": "https://localhost:8080/"
        },
        "id": "QmHHrOGYnz75",
        "outputId": "f403ec75-4485-4bd2-afa0-f808455e6cbd"
      },
      "outputs": [
        {
          "name": "stderr",
          "output_type": "stream",
          "text": [
            "[nltk_data] Downloading package wordnet to /root/nltk_data...\n"
          ]
        },
        {
          "data": {
            "text/plain": [
              "True"
            ]
          },
          "execution_count": 14,
          "metadata": {},
          "output_type": "execute_result"
        }
      ],
      "source": [
        "nltk.download('wordnet')"
      ]
    },
    {
      "cell_type": "code",
      "execution_count": null,
      "metadata": {
        "id": "W__Dwo5vn3LT"
      },
      "outputs": [],
      "source": [
        "from nltk.stem import WordNetLemmatizer\n",
        "wl = WordNetLemmatizer()"
      ]
    },
    {
      "cell_type": "code",
      "execution_count": null,
      "metadata": {
        "colab": {
          "base_uri": "https://localhost:8080/"
        },
        "id": "tP54tNuCn8Xr",
        "outputId": "0b1c1b52-2188-4c2a-a980-0c57213a1841"
      },
      "outputs": [
        {
          "name": "stdout",
          "output_type": "stream",
          "text": [
            "running -> running\n",
            "believes -> belief\n",
            "using ->using\n",
            "conversation ->conversation\n",
            "organization ->organization\n",
            "studies -> study\n"
          ]
        }
      ],
      "source": [
        "print(\"running -> \" + wl.lemmatize(\"running\"))\n",
        "print(\"believes -> \"+wl.lemmatize('believes'))\n",
        "print('using ->' + wl.lemmatize(\"using\"))\n",
        "print(\"conversation ->\" + wl.lemmatize('conversation'))\n",
        "print('organization ->'+ wl.lemmatize('organization'))\n",
        "print('studies -> '+ wl.lemmatize(\"studies\"))"
      ]
    },
    {
      "cell_type": "markdown",
      "metadata": {
        "id": "zjM5QL_joCBW"
      },
      "source": [
        "## 1.6 불용어 처리(Stopword)"
      ]
    },
    {
      "cell_type": "code",
      "execution_count": null,
      "metadata": {
        "colab": {
          "base_uri": "https://localhost:8080/"
        },
        "id": "u65AMKkDoKZT",
        "outputId": "a49a72a8-1a62-4192-e4bc-d34f44828354"
      },
      "outputs": [
        {
          "data": {
            "text/plain": [
              "[(('James', 'NNP'), 1),\n",
              " (('is', 'VBZ'), 1),\n",
              " (('working', 'VBG'), 1),\n",
              " (('at', 'IN'), 1),\n",
              " (('Disney', 'NNP'), 1),\n",
              " (('in', 'IN'), 1),\n",
              " (('London', 'NNP'), 1)]"
            ]
          },
          "execution_count": 17,
          "metadata": {},
          "output_type": "execute_result"
        }
      ],
      "source": [
        "stopPos = [\"IN\", \"CC\", \"UH\", \"TO\", \"MD\", \"DT\", \"VBZ\", \"VBP\"]\n",
        "\n",
        "# 최빈어 조회: 최빈어를 조회하여 불용어 제거 대상을 선정\n",
        "from collections import Counter\n",
        "Counter(taggedToken).most_common()"
      ]
    },
    {
      "cell_type": "code",
      "execution_count": null,
      "metadata": {
        "id": "2SXnMij3oaZN"
      },
      "outputs": [],
      "source": [
        "stopWord = [\",\", \"be\", \"able\"]"
      ]
    },
    {
      "cell_type": "code",
      "execution_count": null,
      "metadata": {
        "colab": {
          "base_uri": "https://localhost:8080/"
        },
        "id": "55cajMcYoeIc",
        "outputId": "84cc43b7-c73a-4af9-a74d-d42235a2c8d4"
      },
      "outputs": [
        {
          "name": "stdout",
          "output_type": "stream",
          "text": [
            "['James', 'working', 'Disney', 'London']\n"
          ]
        }
      ],
      "source": [
        "word = []\n",
        "for tag in taggedToken:\n",
        "  if tag[1] not in stopPos:\n",
        "    if tag[0] not in stopWord:\n",
        "      word.append(tag[0])\n",
        "\n",
        "print(word)"
      ]
    },
    {
      "cell_type": "markdown",
      "metadata": {
        "id": "Vn7L86ghon40"
      },
      "source": [
        "## 1.7 영문 텍스트 전처리 종합"
      ]
    },
    {
      "cell_type": "code",
      "execution_count": null,
      "metadata": {
        "colab": {
          "base_uri": "https://localhost:8080/"
        },
        "id": "GxHDr8Aeow1O",
        "outputId": "3f6b2ec6-4391-4894-dc89-d65c63aa2556"
      },
      "outputs": [
        {
          "name": "stdout",
          "output_type": "stream",
          "text": [
            "['Obama', 'loves', 'fried', 'chicken', 'of', 'KFC']\n",
            "[('Obama', 'NNP'), ('loves', 'VBZ'), ('fried', 'VBN'), ('chicken', 'NN'), ('of', 'IN'), ('KFC', 'NNP')]\n",
            "loves -> love\n",
            "fried => fri\n",
            "loves -> love\n",
            "fried => fried\n",
            "['James', 'working', 'Disney', 'London']\n"
          ]
        },
        {
          "name": "stderr",
          "output_type": "stream",
          "text": [
            "[nltk_data] Downloading package averaged_perceptron_tagger to\n",
            "[nltk_data]     /root/nltk_data...\n",
            "[nltk_data]   Package averaged_perceptron_tagger is already up-to-\n",
            "[nltk_data]       date!\n",
            "[nltk_data] Downloading package words to /root/nltk_data...\n",
            "[nltk_data]   Package words is already up-to-date!\n",
            "[nltk_data] Error loading maxnet_ne_chuncker: Package\n",
            "[nltk_data]     'maxnet_ne_chuncker' not found in index\n",
            "[nltk_data] Downloading package wordnet to /root/nltk_data...\n",
            "[nltk_data]   Package wordnet is already up-to-date!\n"
          ]
        }
      ],
      "source": [
        "import nltk\n",
        "nltk.download('averaged_perceptron_tagger') #pos tagging\n",
        "nltk.download('words') #NER\n",
        "nltk.download('maxnet_ne_chuncker') #NER\n",
        "nltk.download('wordnet') #Lemmatization\n",
        "\n",
        "from nltk.tokenize import TreebankWordTokenizer\n",
        "sumtoken = TreebankWordTokenizer().tokenize(\"Obama loves fried chicken of KFC\")\n",
        "print(sumtoken)\n",
        "\n",
        "from nltk import pos_tag\n",
        "sumTaggedToken = pos_tag(sumtoken)\n",
        "print(sumTaggedToken)\n",
        "\n",
        "from nltk.stem import PorterStemmer\n",
        "ps = PorterStemmer()\n",
        "print(\"loves -> \" + ps.stem(\"loves\"))\n",
        "print(\"fried => \" + ps.stem('fried'))\n",
        "\n",
        "from nltk.stem import WordNetLemmatizer\n",
        "wl = WordNetLemmatizer()\n",
        "print(\"loves -> \" + wl.lemmatize(\"loves\"))\n",
        "print(\"fried => \" + wl.lemmatize('fried'))\n",
        "\n",
        "#불용어 처리\n",
        "sumStopPos = ['IN']\n",
        "sumStopWord = [\"fried\"]\n",
        "\n",
        "word = []\n",
        "for tag in taggedToken:\n",
        "  if tag[1] not in stopPos:\n",
        "    if tag[0] not in stopWord:\n",
        "      word.append(tag[0])\n",
        "\n",
        "print(word)"
      ]
    },
    {
      "cell_type": "markdown",
      "metadata": {
        "id": "qndSYJgGw6MV"
      },
      "source": [
        "## 1.8 Tensorflow - Text preprocessing"
      ]
    },
    {
      "cell_type": "markdown",
      "metadata": {
        "id": "9jNICO8AxNtC"
      },
      "source": [
        "### 1.8.1 Tokenizer \n",
        "- https://www.tensorflow.org/api_docs/python/tf/keras/preprocessing/text/Tokenizer"
      ]
    },
    {
      "cell_type": "code",
      "execution_count": null,
      "metadata": {
        "colab": {
          "base_uri": "https://localhost:8080/",
          "height": 89
        },
        "id": "M9hMbti7xH89",
        "outputId": "dda0c6a1-b654-4915-8ee6-50cfa9c39393"
      },
      "outputs": [
        {
          "data": {
            "application/vnd.google.colaboratory.intrinsic+json": {
              "type": "string"
            },
            "text/plain": [
              "\"And yes, she does mean everybody's job from yours to mine and onward to the role of grain farmers in Egypt, pastry chefs in Paris and dog walkers in Oregon i.e. every job. We will now be able to help direct all workers’ actions and behavior with a new degree of intelligence that comes from predictive analytics, all stemming from the AI engines we will now increasingly depend upon.\""
            ]
          },
          "execution_count": 53,
          "metadata": {},
          "output_type": "execute_result"
        }
      ],
      "source": [
        "eng_text"
      ]
    },
    {
      "cell_type": "code",
      "execution_count": null,
      "metadata": {
        "id": "WpLUoRi7w6GH"
      },
      "outputs": [],
      "source": [
        "import tensorflow as tf\n",
        "from tensorflow.keras.preprocessing.text import Tokenizer \n",
        "\n",
        "tokenizer = Tokenizer(split=' ', char_level=False) # 토큰화 함수 지정\n",
        "\n",
        "# 단어 인덱스 구축\n",
        "tokenizer.fit_on_texts([eng_text])"
      ]
    },
    {
      "cell_type": "code",
      "execution_count": null,
      "metadata": {
        "colab": {
          "base_uri": "https://localhost:8080/"
        },
        "id": "P35Ppp17w6B6",
        "outputId": "946d9229-ce06-496f-ecbb-dd396ed50b51"
      },
      "outputs": [
        {
          "name": "stdout",
          "output_type": "stream",
          "text": [
            "전체 단어 개수:  54\n"
          ]
        }
      ],
      "source": [
        "word_vocab = tokenizer.word_index # 딕셔너리 형태\n",
        "print(\"전체 단어 개수: \", len(word_vocab)) # 전체 단어 개수 확인"
      ]
    },
    {
      "cell_type": "code",
      "execution_count": null,
      "metadata": {
        "colab": {
          "base_uri": "https://localhost:8080/"
        },
        "id": "6va3w_nGw59w",
        "outputId": "0fe9384f-34eb-4fb3-cbd6-b0c41fe6a73c"
      },
      "outputs": [
        {
          "name": "stdout",
          "output_type": "stream",
          "text": [
            "{'and': 1, 'from': 2, 'to': 3, 'in': 4, 'job': 5, 'the': 6, 'of': 7, 'we': 8, 'will': 9, 'now': 10, 'all': 11, 'yes': 12, 'she': 13, 'does': 14, 'mean': 15, \"everybody's\": 16, 'yours': 17, 'mine': 18, 'onward': 19, 'role': 20, 'grain': 21, 'farmers': 22, 'egypt': 23, 'pastry': 24, 'chefs': 25, 'paris': 26, 'dog': 27, 'walkers': 28, 'oregon': 29, 'i': 30, 'e': 31, 'every': 32, 'be': 33, 'able': 34, 'help': 35, 'direct': 36, 'workers’': 37, 'actions': 38, 'behavior': 39, 'with': 40, 'a': 41, 'new': 42, 'degree': 43, 'intelligence': 44, 'that': 45, 'comes': 46, 'predictive': 47, 'analytics': 48, 'stemming': 49, 'ai': 50, 'engines': 51, 'increasingly': 52, 'depend': 53, 'upon': 54}\n"
          ]
        }
      ],
      "source": [
        "print(word_vocab)"
      ]
    },
    {
      "cell_type": "code",
      "execution_count": null,
      "metadata": {
        "colab": {
          "base_uri": "https://localhost:8080/"
        },
        "id": "wuhpekrow54Y",
        "outputId": "67e59e7c-86cb-4651-a059-ee58a2f53d18"
      },
      "outputs": [
        {
          "data": {
            "text/plain": [
              "[[12, 13, 4, 26]]"
            ]
          },
          "execution_count": 109,
          "metadata": {},
          "output_type": "execute_result"
        }
      ],
      "source": [
        "# 문자열 -> 인덱스 리스트\n",
        "tokenizer.texts_to_sequences([\"yes, she is in Paris\"]) "
      ]
    },
    {
      "cell_type": "code",
      "execution_count": null,
      "metadata": {
        "colab": {
          "base_uri": "https://localhost:8080/"
        },
        "id": "K6dztqegw5yy",
        "outputId": "b28c019c-2697-4eee-a606-5fecf23f91f3"
      },
      "outputs": [
        {
          "data": {
            "text/plain": [
              "[[12, 13, 4, 26]]"
            ]
          },
          "execution_count": 110,
          "metadata": {},
          "output_type": "execute_result"
        }
      ],
      "source": [
        "tokenized_sen = tokenizer.texts_to_sequences([[\"yes\", \"she\", \"is\", \"in\", \"Paris\"]])\n",
        "tokenized_sen"
      ]
    },
    {
      "cell_type": "markdown",
      "metadata": {
        "id": "NKtJiCU10ddO"
      },
      "source": [
        "#### 최대 단어 지정하기 "
      ]
    },
    {
      "cell_type": "code",
      "execution_count": null,
      "metadata": {
        "id": "Z9KbInJRz1vS"
      },
      "outputs": [],
      "source": [
        "# 최대 단어 지정하기\n",
        "tokenizer = Tokenizer(num_words = 5)\n",
        "\n",
        "# 단어 인덱스 구축\n",
        "tokenizer.fit_on_texts([eng_text])"
      ]
    },
    {
      "cell_type": "code",
      "execution_count": null,
      "metadata": {
        "colab": {
          "base_uri": "https://localhost:8080/"
        },
        "id": "0eqDnxU70gXP",
        "outputId": "ffd19382-a3e5-4ff5-97da-6b24f7a85a5a"
      },
      "outputs": [
        {
          "data": {
            "text/plain": [
              "5"
            ]
          },
          "execution_count": 97,
          "metadata": {},
          "output_type": "execute_result"
        }
      ],
      "source": [
        "tokenizer.num_words"
      ]
    },
    {
      "cell_type": "code",
      "execution_count": null,
      "metadata": {
        "colab": {
          "base_uri": "https://localhost:8080/"
        },
        "id": "w2nntCwr0bbZ",
        "outputId": "667d3c5b-98ad-472a-b5fa-053479c8dfea"
      },
      "outputs": [
        {
          "data": {
            "text/plain": [
              "[[4]]"
            ]
          },
          "execution_count": 99,
          "metadata": {},
          "output_type": "execute_result"
        }
      ],
      "source": [
        "tokenizer.texts_to_sequences([[\"yes\", \"she\", \"is\", \"in\", \"Paris\"]])"
      ]
    },
    {
      "cell_type": "markdown",
      "metadata": {
        "id": "My5VozZq03jT"
      },
      "source": [
        "### 1.8.2 Padding"
      ]
    },
    {
      "cell_type": "markdown",
      "metadata": {
        "id": "c3wug12S09fB"
      },
      "source": [
        "서로 다른 길이의 샘플들을 동일한 길이로 맞춰주기"
      ]
    },
    {
      "cell_type": "code",
      "execution_count": null,
      "metadata": {
        "colab": {
          "base_uri": "https://localhost:8080/"
        },
        "id": "xtbSjTNO03fb",
        "outputId": "c44a1374-6585-4f37-eebf-83369b001c21"
      },
      "outputs": [
        {
          "name": "stdout",
          "output_type": "stream",
          "text": [
            "Shape of input data tensor: (1, 4)\n"
          ]
        }
      ],
      "source": [
        "from tensorflow.keras.preprocessing.sequence import pad_sequences\n",
        "import numpy as np\n",
        "\n",
        "MAX_SEQUENCE_LENGTH = 10 # 문장 최대 길이\n",
        "\n",
        "tokenized_sen = np.array(tokenized_sen)\n",
        "\n",
        "# 문장의 길이가 MAX_SEQUENCE_LENGTH 단어가 넘어가면 자르고, 모자르면 0으로 채워 넣는다.\n",
        "padded_sen = pad_sequences(tokenized_sen, maxlen=MAX_SEQUENCE_LENGTH, padding = 'post')\n",
        "\n",
        "print('Shape of input data tensor:', tokenized_sen.shape) # 리뷰 데이터의 형태 확인"
      ]
    },
    {
      "cell_type": "code",
      "execution_count": null,
      "metadata": {
        "colab": {
          "base_uri": "https://localhost:8080/"
        },
        "id": "PHU6ax_m03bS",
        "outputId": "4fd9111a-e325-43d4-8f90-e0961c9641e4"
      },
      "outputs": [
        {
          "data": {
            "text/plain": [
              "array([[12, 13,  4, 26,  0,  0,  0,  0,  0,  0]], dtype=int32)"
            ]
          },
          "execution_count": 114,
          "metadata": {},
          "output_type": "execute_result"
        }
      ],
      "source": [
        "padded_sen"
      ]
    },
    {
      "cell_type": "markdown",
      "metadata": {
        "id": "DkcMRwNYpBCu"
      },
      "source": [
        "#2. 한글 전처리 실습\n",
        "\n",
        "영문은 공백으로 토큰화가 가능하지만, 한글의 경우 품사를 고려하여 토큰화해야 한다. "
      ]
    },
    {
      "cell_type": "markdown",
      "metadata": {
        "id": "Wq6znXciqK4u"
      },
      "source": [
        "## 2.1 실습용 한글기사 수집\n"
      ]
    },
    {
      "cell_type": "markdown",
      "metadata": {
        "id": "xyLgGOc1qOXg"
      },
      "source": [
        "- https://n.news.naver.com/mnews/article/016/0002032876?sid=105"
      ]
    },
    {
      "cell_type": "code",
      "execution_count": null,
      "metadata": {
        "id": "jL7tkeFmwtid"
      },
      "outputs": [],
      "source": [
        "kor_text = '''포스코ICT는 25일 경기도 판교 사옥에서 청소년들이 개발한 인공지능(AI) 기반 애플리케이션을 직접 선보이는 ‘2022 AI 유스 챌린지(Youth Challenge)’를 개최했다. 청소년들은 기성세대들이 생각하지 못했던 참신한 아이디어를 바탕으로 AI 시스템을 개발해 관심을 모았다.\n",
        "\n",
        "예선을 거쳐 본선에 오른 전국 중·고교 7개팀은 지난 달부터 포스코ICT 소속 AI 엔지니어의 코칭 속에 개발한 AI 시스템을 직접 시연했다. 심사는 카이스트, 포스텍, 연세대 교수 등으로 구성된 평가위원들과 포스코ICT 직원들로 구성된 내부 평가위원들이 맡았다. 우수작은 과기정통부장관상(1팀), 포스코ICT사장상(1팀), 지능정보산업협회장상(1팀), 우수상(2팀), 장려상(2팀) 등으로 나눠 각각 시상했다. 포스코ICT는 AI 기술을 접목해 환경·안전·사회문제를 해결할 수 있는 청소년들의 아이디어를 발굴하기 위해 이번 공모전을 개최했다. 평소 AI 기술을 접할 기회가 부족했던 청소년들은 멘토링을 통해 산업현장에서 실제 활용되는 기술을 자연스럽게 체험하고 진로 결정에도 도움을 받을 수 있었다.\n",
        "\n",
        "이번 공모전에 참여한 김희주 학생은 “막연히 생각했던 아이디어를 실제 AI 전문가들과 구체화해나가며 접하지 못했던 지식과 기술을 배울 수 있었고 AI 분야에 더 큰 관심을 가지게 됐다”고 말했다.\n",
        "\n",
        "학생들의 멘토를 맡은 포스코ICT 최영철 연구원은 “학생들의 열정과 창의적인 아이디어를 접하며 새로운 자극을 받아 재미있게 멘토링에 참여했다”며 “그동안 AI 분야에서 쌓아온 재능을 기부해 AI 전문가를 꿈꾸는 청소년들에게 전해줄 수 있어 의미 있었다”고 밝혔다. 한편, 포스코ICT는 아주대학교 대학원과 ‘AI 전문인력 양성을 위한 업무협약’을 체결해 프로그램을 운영하고 있다. 지난 24일에는 인공지능학과 대학원 과정에 재학 중인 우수 인재를 선발해 장학금을 지급했다.\n",
        "\n",
        "이번에 선발된 학생에게는 졸업 때까지 매달 장학금을 지급하고, 포스코ICT의 AI 전문가와의 1대1 멘토링 및 각종 기술 교육, 세미나 참석을 비롯해 채용 기회까지 제공할 계획이다. 김현일 기자'''"
      ]
    },
    {
      "cell_type": "markdown",
      "metadata": {
        "id": "XjdVP8sYw3Lt"
      },
      "source": [
        "## 2.2 한글 토큰화 및 형태소 분석"
      ]
    },
    {
      "cell_type": "markdown",
      "metadata": {
        "id": "Pi1n6knExDK8"
      },
      "source": [
        "한글 자연어 처리기 비교  \n",
        "https://konlpy.org/ko/latest/morph/\n",
        "\n"
      ]
    },
    {
      "cell_type": "code",
      "execution_count": null,
      "metadata": {
        "colab": {
          "base_uri": "https://localhost:8080/"
        },
        "id": "L6V9Lc70xLxJ",
        "outputId": "e10e37a8-697c-4dcc-fae9-a72813242b30"
      },
      "outputs": [
        {
          "name": "stdout",
          "output_type": "stream",
          "text": [
            "Looking in indexes: https://pypi.org/simple, https://us-python.pkg.dev/colab-wheels/public/simple/\n",
            "Collecting konlpy\n",
            "  Downloading konlpy-0.6.0-py2.py3-none-any.whl (19.4 MB)\n",
            "\u001b[K     |████████████████████████████████| 19.4 MB 5.6 MB/s \n",
            "\u001b[?25hCollecting JPype1>=0.7.0\n",
            "  Downloading JPype1-1.4.0-cp37-cp37m-manylinux_2_5_x86_64.manylinux1_x86_64.whl (453 kB)\n",
            "\u001b[K     |████████████████████████████████| 453 kB 44.2 MB/s \n",
            "\u001b[?25hRequirement already satisfied: numpy>=1.6 in /usr/local/lib/python3.7/dist-packages (from konlpy) (1.21.6)\n",
            "Requirement already satisfied: lxml>=4.1.0 in /usr/local/lib/python3.7/dist-packages (from konlpy) (4.9.1)\n",
            "Requirement already satisfied: typing-extensions in /usr/local/lib/python3.7/dist-packages (from JPype1>=0.7.0->konlpy) (4.1.1)\n",
            "Installing collected packages: JPype1, konlpy\n",
            "Successfully installed JPype1-1.4.0 konlpy-0.6.0\n"
          ]
        }
      ],
      "source": [
        "#konlpy 설치\n",
        "!pip install konlpy"
      ]
    },
    {
      "cell_type": "code",
      "execution_count": null,
      "metadata": {
        "colab": {
          "base_uri": "https://localhost:8080/"
        },
        "id": "EgooNkeSxbTO",
        "outputId": "a295d8a5-4a8a-4850-fd41-50eb6114862c"
      },
      "outputs": [
        {
          "name": "stdout",
          "output_type": "stream",
          "text": [
            "['인간', '이', '컴퓨터', '와', '대화', '하', '고', '있', '다는', '것', '을', '꺠닫지', '못하', '고', '인간', '과', '대화', '를', '계속', '하', 'ㄹ', '수', '있', '다면', '컴퓨터', '는', '지능', '적', '이', 'ㄴ', '것', '으로', '간주', '되', 'ㄹ', '수', '있', '다', '.']\n"
          ]
        }
      ],
      "source": [
        "#코모란(Komoran) 토큰화\n",
        "\n",
        "from konlpy.tag import Komoran\n",
        "komoran = Komoran()\n",
        "kor_text = \"인간이 컴퓨터와 대화하고 있다는 것을 꺠닫지 못하고 인간과 대화를 계속할 수 있다면 컴퓨터는 지능적인 것으로 간주될 수 있다.\"\n",
        "komoran_tokens = komoran.morphs(kor_text)\n",
        "print(komoran_tokens)"
      ]
    },
    {
      "cell_type": "code",
      "execution_count": null,
      "metadata": {
        "colab": {
          "base_uri": "https://localhost:8080/"
        },
        "id": "g-hCuM8XxvNT",
        "outputId": "af2d838b-b4c4-4e9c-90c9-1e6d53f56b2a"
      },
      "outputs": [
        {
          "name": "stdout",
          "output_type": "stream",
          "text": [
            "['인간', '이', '컴퓨터', '와', '대화', '하고', '있', '다는', '것', '을', '꺠닫지', '못하', '고', '인간', '과', '대화', '를', '계속', '하', 'ㄹ', '수', '있', '다면', '컴퓨터', '는', '지능적', '이', 'ㄴ', '것', '으로', '간주', '되', 'ㄹ', '수', '있', '다', '.']\n"
          ]
        }
      ],
      "source": [
        "#한나눔(hannanum) 토큰화 \n",
        "from konlpy.tag import Hannanum\n",
        "hannanum = Hannanum()\n",
        "kor_text = \"인간이 컴퓨터와 대화하고 있다는 것을 꺠닫지 못하고 인간과 대화를 계속할 수 있다면 컴퓨터는 지능적인 것으로 간주될 수 있다.\"\n",
        "hannanum_tokens = hannanum.morphs(kor_text)\n",
        "print(hannanum_tokens)"
      ]
    },
    {
      "cell_type": "code",
      "execution_count": null,
      "metadata": {
        "colab": {
          "base_uri": "https://localhost:8080/"
        },
        "id": "qqb3TjN-yBnp",
        "outputId": "21e16dd6-261f-4be2-9e18-c6b44d155405"
      },
      "outputs": [
        {
          "name": "stdout",
          "output_type": "stream",
          "text": [
            "['인간', '이', '컴퓨터', '와', '대화', '하고', '있다는', '것', '을', '꺠닫', '지', '못', '하고', '인간', '과', '대화', '를', '계속', '할', '수', '있다면', '컴퓨터', '는', '지능', '적', '인', '것', '으로', '간주', '될', '수', '있다', '.']\n"
          ]
        }
      ],
      "source": [
        "#Okt 토큰화 \n",
        "from konlpy.tag import Okt\n",
        "okt = Okt()\n",
        "okt_tokens = okt.morphs(kor_text)\n",
        "print(okt_tokens)"
      ]
    },
    {
      "cell_type": "code",
      "execution_count": null,
      "metadata": {
        "colab": {
          "base_uri": "https://localhost:8080/"
        },
        "id": "ZIeDF4EAyW2k",
        "outputId": "6e1310ee-bf79-4c65-e328-909bbd9596cc"
      },
      "outputs": [
        {
          "name": "stdout",
          "output_type": "stream",
          "text": [
            "['인간', '이', '컴퓨터', '와', '대화', '하', '고', '있', '다는', '것', '을', '꺠', '닫', '지', '못하', '고', '인간', '과', '대화', '를', '계속', '하', 'ㄹ', '수', '있', '다면', '컴퓨터', '는', '지능', '적', '이', 'ㄴ', '것', '으로', '간주', '되', 'ㄹ', '수', '있', '다', '.']\n"
          ]
        }
      ],
      "source": [
        "# Kkma 토큰화\n",
        "from konlpy.tag import Kkma \n",
        "kkma = Kkma()\n",
        "kkma_tokens = kkma.morphs(kor_text)\n",
        "print(kkma_tokens)"
      ]
    },
    {
      "cell_type": "markdown",
      "metadata": {
        "id": "jigjdTzvyrCo"
      },
      "source": [
        "## 2.3 한글 품사 부착(PoS Tagging)"
      ]
    },
    {
      "cell_type": "markdown",
      "metadata": {
        "id": "RLvx-C3Jyurq"
      },
      "source": [
        "Pos Tag 목록 \n",
        "https://docs.google.com/spreadsheets/u/1/d/1OGAjUvalBuX-oZvZ_-9tEfYD2gQe7hTGsgUpiiBSXI8/edit#gid=0"
      ]
    },
    {
      "cell_type": "code",
      "execution_count": null,
      "metadata": {
        "colab": {
          "base_uri": "https://localhost:8080/"
        },
        "id": "5Uz-1t8FyzrO",
        "outputId": "e752b362-619e-4621-9dfd-4348a4012033"
      },
      "outputs": [
        {
          "name": "stdout",
          "output_type": "stream",
          "text": [
            "[('인간', 'NNG'), ('이', 'MM'), ('컴퓨터', 'NNG'), ('오', 'VV'), ('아', 'EC'), ('대화', 'NNG'), ('하', 'NNG'), ('고', 'MM'), ('있', 'VV'), ('달', 'VV'), ('는', 'ETM'), ('것', 'NNB'), ('을', 'NNG'), ('꺠닫지', 'NA'), ('못', 'MAG'), ('하', 'MAG'), ('고', 'MM'), ('인간', 'NNG'), ('과', 'NNG'), ('대화', 'NNG'), ('를', 'JKO'), ('계속', 'MAG'), ('하', 'NNG'), ('ㄹ', 'NA'), ('수', 'NNB'), ('있', 'VV'), ('다면', 'NNG'), ('컴퓨터', 'NNG'), ('늘', 'VV'), ('ㄴ', 'ETM'), ('지능', 'NNP'), ('적', 'NNB'), ('이', 'MM'), ('ㄴ', 'JX'), ('것', 'NNB'), ('으로', 'JKB'), ('간주', 'NNG'), ('되', 'NNB'), ('ㄹ', 'NA'), ('수', 'NNB'), ('있', 'VV'), ('다', 'MAG'), ('.', 'SF')]\n"
          ]
        }
      ],
      "source": [
        "# 코모란(Komoran) 품사 태깅\n",
        "komoranTag = []\n",
        "for token in komoran_tokens:\n",
        "  komoranTag += komoran.pos(token)\n",
        "print(komoranTag)"
      ]
    },
    {
      "cell_type": "code",
      "execution_count": null,
      "metadata": {
        "colab": {
          "base_uri": "https://localhost:8080/"
        },
        "id": "r5IRmwubzDSJ",
        "outputId": "11a5e7ed-c4d8-4228-87a8-586254d0daa4"
      },
      "outputs": [
        {
          "name": "stdout",
          "output_type": "stream",
          "text": [
            "[('인간', 'N'), ('이', 'M'), ('컴퓨터', 'N'), ('와', 'I'), ('대화', 'N'), ('하', 'P'), ('고', 'E'), ('있', 'N'), ('다', 'M'), ('는', 'J'), ('것', 'N'), ('을', 'N'), ('꺠닫지', 'N'), ('못하', 'P'), ('어', 'E'), ('고', 'M'), ('인간', 'N'), ('과', 'N'), ('대화', 'N'), ('를', 'N'), ('계속', 'M'), ('하', 'I'), ('ㄹ', 'N'), ('수', 'N'), ('있', 'N'), ('다면', 'N'), ('컴퓨터', 'N'), ('늘', 'P'), ('ㄴ', 'E'), ('지능적', 'N'), ('이', 'M'), ('ㄴ', 'N'), ('것', 'N'), ('으', 'N'), ('로', 'J'), ('간주', 'N'), ('되', 'N'), ('ㄹ', 'N'), ('수', 'N'), ('있', 'N'), ('다', 'M'), ('.', 'S')]\n"
          ]
        }
      ],
      "source": [
        "# 한나눔(Hannanum) 품사 태깅\n",
        "hannanum_Tag = []\n",
        "for token in hannanum_tokens:\n",
        "  hannanum_Tag += hannanum.pos(token)\n",
        "\n",
        "print(hannanum_Tag)"
      ]
    },
    {
      "cell_type": "code",
      "execution_count": null,
      "metadata": {
        "colab": {
          "base_uri": "https://localhost:8080/"
        },
        "id": "6eKGCe0CzdDg",
        "outputId": "00a1903e-ea84-41f4-e10c-8d256a34dbee"
      },
      "outputs": [
        {
          "name": "stdout",
          "output_type": "stream",
          "text": [
            "[('인간', 'Noun'), ('이', 'Noun'), ('컴퓨터', 'Noun'), ('와', 'Verb'), ('대화', 'Noun'), ('하고', 'Verb'), ('있다는', 'Adjective'), ('것', 'Noun'), ('을', 'Josa'), ('꺠닫', 'Noun'), ('지', 'Verb'), ('못', 'Noun'), ('하고', 'Verb'), ('인간', 'Noun'), ('과', 'Noun'), ('대화', 'Noun'), ('를', 'Noun'), ('계속', 'Noun'), ('할', 'Verb'), ('수', 'Noun'), ('있다면', 'Adjective'), ('컴퓨터', 'Noun'), ('는', 'Verb'), ('지능', 'Noun'), ('적', 'Noun'), ('인', 'Noun'), ('것', 'Noun'), ('으로', 'Josa'), ('간주', 'Noun'), ('될', 'Verb'), ('수', 'Noun'), ('있다', 'Adjective'), ('.', 'Punctuation')]\n"
          ]
        }
      ],
      "source": [
        "# Okt 품사 태깅\n",
        "oktTag = []\n",
        "for token in okt_tokens:\n",
        "  oktTag += okt.pos(token)\n",
        "print(oktTag)"
      ]
    },
    {
      "cell_type": "code",
      "execution_count": null,
      "metadata": {
        "colab": {
          "base_uri": "https://localhost:8080/"
        },
        "id": "rGjlKUtFzuxO",
        "outputId": "bf0456a9-d005-4867-ad57-870fab909c72"
      },
      "outputs": [
        {
          "name": "stdout",
          "output_type": "stream",
          "text": [
            "[('인간', 'NNG'), ('이', 'NNG'), ('컴퓨터', 'NNG'), ('오', 'VA'), ('아', 'ECS'), ('대화', 'NNG'), ('하', 'NNG'), ('고', 'NNG'), ('있', 'VA'), ('달', 'VV'), ('는', 'ETD'), ('것', 'NNB'), ('을', 'NNG'), ('꺠', 'UN'), ('닫', 'VV'), ('지', 'NNG'), ('못하', 'VX'), ('고', 'NNG'), ('인간', 'NNG'), ('과', 'NNG'), ('대화', 'NNG'), ('를', 'UN'), ('계속', 'MAG'), ('하', 'NNG'), ('ㄹ', 'NNG'), ('수', 'NNG'), ('있', 'VA'), ('다면', 'NNG'), ('컴퓨터', 'NNG'), ('늘', 'VA'), ('ㄴ', 'ETD'), ('지능', 'NNG'), ('적', 'NNG'), ('이', 'NNG'), ('ㄴ', 'NNG'), ('것', 'NNB'), ('으', 'UN'), ('로', 'JKM'), ('간주', 'NNG'), ('되', 'VA'), ('ㄹ', 'NNG'), ('수', 'NNG'), ('있', 'VA'), ('다', 'NNG'), ('.', 'SF')]\n"
          ]
        }
      ],
      "source": [
        "#Kkma 품사 태깅\n",
        "kkmaTag = []\n",
        "for token in kkma_tokens:\n",
        "  kkmaTag += kkma.pos(token)\n",
        "print(kkmaTag)"
      ]
    },
    {
      "cell_type": "markdown",
      "metadata": {
        "id": "wXRAxzi2z291"
      },
      "source": [
        "## 2.4 불용어 처리(StopWord) 처리"
      ]
    },
    {
      "cell_type": "markdown",
      "metadata": {
        "id": "wj8IcYhbz8ht"
      },
      "source": [
        "분석에 불필요한 품사를 제거하고, 불필요한 단어(불용어)를 제거한다."
      ]
    },
    {
      "cell_type": "code",
      "execution_count": null,
      "metadata": {
        "id": "N1k1_HYk0A2F"
      },
      "outputs": [],
      "source": [
        "# 불용어 처리\n",
        "stopPos = ['Suffix','Punctuation','Josa','Foreign','Alpha','Number']"
      ]
    },
    {
      "cell_type": "code",
      "execution_count": null,
      "metadata": {
        "colab": {
          "base_uri": "https://localhost:8080/"
        },
        "id": "jQiZkyyH0IEE",
        "outputId": "54843628-d1a3-4d78-efcb-6e20dd565df3"
      },
      "outputs": [
        {
          "data": {
            "text/plain": [
              "[(('인간', 'Noun'), 2),\n",
              " (('컴퓨터', 'Noun'), 2),\n",
              " (('대화', 'Noun'), 2),\n",
              " (('하고', 'Verb'), 2),\n",
              " (('것', 'Noun'), 2),\n",
              " (('수', 'Noun'), 2),\n",
              " (('이', 'Noun'), 1),\n",
              " (('와', 'Verb'), 1),\n",
              " (('있다는', 'Adjective'), 1),\n",
              " (('을', 'Josa'), 1),\n",
              " (('꺠닫', 'Noun'), 1),\n",
              " (('지', 'Verb'), 1),\n",
              " (('못', 'Noun'), 1),\n",
              " (('과', 'Noun'), 1),\n",
              " (('를', 'Noun'), 1),\n",
              " (('계속', 'Noun'), 1),\n",
              " (('할', 'Verb'), 1),\n",
              " (('있다면', 'Adjective'), 1),\n",
              " (('는', 'Verb'), 1),\n",
              " (('지능', 'Noun'), 1),\n",
              " (('적', 'Noun'), 1),\n",
              " (('인', 'Noun'), 1),\n",
              " (('으로', 'Josa'), 1),\n",
              " (('간주', 'Noun'), 1),\n",
              " (('될', 'Verb'), 1),\n",
              " (('있다', 'Adjective'), 1),\n",
              " (('.', 'Punctuation'), 1)]"
            ]
          },
          "execution_count": 32,
          "metadata": {},
          "output_type": "execute_result"
        }
      ],
      "source": [
        "#최빈어 조회: 최빈어를 조회하여 불용어 제거 대상을 선정\n",
        "from collections import Counter\n",
        "Counter(oktTag).most_common()"
      ]
    },
    {
      "cell_type": "code",
      "execution_count": null,
      "metadata": {
        "id": "xU7AEdyY0QfW"
      },
      "outputs": [],
      "source": [
        "stopWord = ['의','이','로','두고','들','를','은','과','수','했다','것','있는','한다','하는','그','있다']"
      ]
    },
    {
      "cell_type": "code",
      "execution_count": null,
      "metadata": {
        "colab": {
          "base_uri": "https://localhost:8080/"
        },
        "id": "QeSfa8A-0VEe",
        "outputId": "2e72997b-bfc0-4e53-ce6b-6edd39b81857"
      },
      "outputs": [
        {
          "name": "stdout",
          "output_type": "stream",
          "text": [
            "['인간', '컴퓨터', '와', '대화', '하고', '있다는', '꺠닫', '지', '못', '하고', '인간', '대화', '계속', '할', '있다면', '컴퓨터', '는', '지능', '적', '인', '간주', '될']\n"
          ]
        }
      ],
      "source": [
        "word =[]\n",
        "for tag in oktTag:\n",
        "  if tag[1] not in stopPos:\n",
        "    if tag[0] not in stopWord:\n",
        "      word.append(tag[0])\n",
        "\n",
        "print(word)"
      ]
    },
    {
      "cell_type": "code",
      "execution_count": null,
      "metadata": {
        "id": "-8Pa14-8i4pF"
      },
      "outputs": [],
      "source": []
    },
    {
      "cell_type": "markdown",
      "metadata": {
        "id": "dulUUeaE1zKO"
      },
      "source": [
        "## 2.5 Tensorflow - Text preprocessing"
      ]
    },
    {
      "cell_type": "markdown",
      "metadata": {
        "id": "x32f9X_J1zKO"
      },
      "source": [
        "### 1.8.1 Tokenizer \n",
        "- https://www.tensorflow.org/api_docs/python/tf/keras/preprocessing/text/Tokenizer"
      ]
    },
    {
      "cell_type": "code",
      "execution_count": 1,
      "metadata": {
        "id": "-Y-29VX21zKO"
      },
      "outputs": [],
      "source": [
        "kor_text = '''포스코ICT는 25일 경기도 판교 사옥에서 청소년들이 개발한 인공지능(AI) 기반 애플리케이션을 직접 선보이는 ‘2022 AI 유스 챌린지(Youth Challenge)’를 개최했다. 청소년들은 기성세대들이 생각하지 못했던 참신한 아이디어를 바탕으로 AI 시스템을 개발해 관심을 모았다.\n",
        "\n",
        "예선을 거쳐 본선에 오른 전국 중·고교 7개팀은 지난 달부터 포스코ICT 소속 AI 엔지니어의 코칭 속에 개발한 AI 시스템을 직접 시연했다. 심사는 카이스트, 포스텍, 연세대 교수 등으로 구성된 평가위원들과 포스코ICT 직원들로 구성된 내부 평가위원들이 맡았다. 우수작은 과기정통부장관상(1팀), 포스코ICT사장상(1팀), 지능정보산업협회장상(1팀), 우수상(2팀), 장려상(2팀) 등으로 나눠 각각 시상했다. 포스코ICT는 AI 기술을 접목해 환경·안전·사회문제를 해결할 수 있는 청소년들의 아이디어를 발굴하기 위해 이번 공모전을 개최했다. 평소 AI 기술을 접할 기회가 부족했던 청소년들은 멘토링을 통해 산업현장에서 실제 활용되는 기술을 자연스럽게 체험하고 진로 결정에도 도움을 받을 수 있었다.\n",
        "\n",
        "이번 공모전에 참여한 김희주 학생은 “막연히 생각했던 아이디어를 실제 AI 전문가들과 구체화해나가며 접하지 못했던 지식과 기술을 배울 수 있었고 AI 분야에 더 큰 관심을 가지게 됐다”고 말했다.\n",
        "\n",
        "학생들의 멘토를 맡은 포스코ICT 최영철 연구원은 “학생들의 열정과 창의적인 아이디어를 접하며 새로운 자극을 받아 재미있게 멘토링에 참여했다”며 “그동안 AI 분야에서 쌓아온 재능을 기부해 AI 전문가를 꿈꾸는 청소년들에게 전해줄 수 있어 의미 있었다”고 밝혔다. 한편, 포스코ICT는 아주대학교 대학원과 ‘AI 전문인력 양성을 위한 업무협약’을 체결해 프로그램을 운영하고 있다. 지난 24일에는 인공지능학과 대학원 과정에 재학 중인 우수 인재를 선발해 장학금을 지급했다.\n",
        "\n",
        "이번에 선발된 학생에게는 졸업 때까지 매달 장학금을 지급하고, 포스코ICT의 AI 전문가와의 1대1 멘토링 및 각종 기술 교육, 세미나 참석을 비롯해 채용 기회까지 제공할 계획이다. 김현일 기자'''"
      ]
    },
    {
      "cell_type": "code",
      "execution_count": 2,
      "metadata": {
        "id": "a7hMi9j31zKP"
      },
      "outputs": [],
      "source": [
        "import tensorflow as tf\n",
        "from tensorflow.keras.preprocessing.text import Tokenizer \n",
        "\n",
        "tokenizer = Tokenizer(split=' ', char_level=False) # 토큰화 함수 지정\n",
        "\n",
        "# tf.keras.preprocessing.text.Tokenizer(\n",
        "#     num_words=None, # 토큰된 단어 쓸 개수, 없으면 알아서 개수 세어준다\n",
        "#     filters='!\"#$%&()*+,-./:;<=>?@[\\\\]^_`{|}~\\t\\n', # 기본 전처리 , 쓰기 싫으면 빈 문자열 넣어주면 된다\n",
        "#     lower=True, # 소문자 사용\n",
        "#     split=' ', # 띄어쓰기 단위로 자름\n",
        "#     char_level=False,\n",
        "#     oov_token=None, # out of vocabulary: 자른 단어에 없는 단어 무시 여부\n",
        "#     analyzer=None,\n",
        "#     **kwargs"
      ]
    },
    {
      "cell_type": "code",
      "source": [
        "# 단어 인덱스 구축\n",
        "tokenizer.fit_on_texts([kor_text]) \n",
        "# fit_on_texts: list of strings로 넣어야 한다, 안잘려진 문장 형태일 때 사용 \n",
        "# fit_on_sequences :list of sequence로 넣어야 한다, 이미 토큰화 되어 있는 상태 일 때 사용"
      ],
      "metadata": {
        "id": "gI-NPH04qDM_"
      },
      "execution_count": 3,
      "outputs": []
    },
    {
      "cell_type": "code",
      "source": [
        "tokenizer.word_index"
      ],
      "metadata": {
        "id": "e6y2d26fqJXt",
        "colab": {
          "base_uri": "https://localhost:8080/"
        },
        "outputId": "d67ce58a-9e33-4d23-cf90-9363f891dede"
      },
      "execution_count": 4,
      "outputs": [
        {
          "output_type": "execute_result",
          "data": {
            "text/plain": [
              "{'ai': 1,\n",
              " '아이디어를': 2,\n",
              " '기술을': 3,\n",
              " '수': 4,\n",
              " '포스코ict는': 5,\n",
              " '포스코ict': 6,\n",
              " '1팀': 7,\n",
              " '개발한': 8,\n",
              " '직접': 9,\n",
              " '개최했다': 10,\n",
              " '청소년들은': 11,\n",
              " '못했던': 12,\n",
              " '시스템을': 13,\n",
              " '관심을': 14,\n",
              " '지난': 15,\n",
              " '등으로': 16,\n",
              " '구성된': 17,\n",
              " '2팀': 18,\n",
              " '이번': 19,\n",
              " '실제': 20,\n",
              " '장학금을': 21,\n",
              " '25일': 22,\n",
              " '경기도': 23,\n",
              " '판교': 24,\n",
              " '사옥에서': 25,\n",
              " '청소년들이': 26,\n",
              " '인공지능': 27,\n",
              " '기반': 28,\n",
              " '애플리케이션을': 29,\n",
              " '선보이는': 30,\n",
              " '‘2022': 31,\n",
              " '유스': 32,\n",
              " '챌린지': 33,\n",
              " 'youth': 34,\n",
              " 'challenge': 35,\n",
              " '’를': 36,\n",
              " '기성세대들이': 37,\n",
              " '생각하지': 38,\n",
              " '참신한': 39,\n",
              " '바탕으로': 40,\n",
              " '개발해': 41,\n",
              " '모았다': 42,\n",
              " '예선을': 43,\n",
              " '거쳐': 44,\n",
              " '본선에': 45,\n",
              " '오른': 46,\n",
              " '전국': 47,\n",
              " '중·고교': 48,\n",
              " '7개팀은': 49,\n",
              " '달부터': 50,\n",
              " '소속': 51,\n",
              " '엔지니어의': 52,\n",
              " '코칭': 53,\n",
              " '속에': 54,\n",
              " '시연했다': 55,\n",
              " '심사는': 56,\n",
              " '카이스트': 57,\n",
              " '포스텍': 58,\n",
              " '연세대': 59,\n",
              " '교수': 60,\n",
              " '평가위원들과': 61,\n",
              " '직원들로': 62,\n",
              " '내부': 63,\n",
              " '평가위원들이': 64,\n",
              " '맡았다': 65,\n",
              " '우수작은': 66,\n",
              " '과기정통부장관상': 67,\n",
              " '포스코ict사장상': 68,\n",
              " '지능정보산업협회장상': 69,\n",
              " '우수상': 70,\n",
              " '장려상': 71,\n",
              " '나눠': 72,\n",
              " '각각': 73,\n",
              " '시상했다': 74,\n",
              " '접목해': 75,\n",
              " '환경·안전·사회문제를': 76,\n",
              " '해결할': 77,\n",
              " '있는': 78,\n",
              " '청소년들의': 79,\n",
              " '발굴하기': 80,\n",
              " '위해': 81,\n",
              " '공모전을': 82,\n",
              " '평소': 83,\n",
              " '접할': 84,\n",
              " '기회가': 85,\n",
              " '부족했던': 86,\n",
              " '멘토링을': 87,\n",
              " '통해': 88,\n",
              " '산업현장에서': 89,\n",
              " '활용되는': 90,\n",
              " '자연스럽게': 91,\n",
              " '체험하고': 92,\n",
              " '진로': 93,\n",
              " '결정에도': 94,\n",
              " '도움을': 95,\n",
              " '받을': 96,\n",
              " '있었다': 97,\n",
              " '공모전에': 98,\n",
              " '참여한': 99,\n",
              " '김희주': 100,\n",
              " '학생은': 101,\n",
              " '“막연히': 102,\n",
              " '생각했던': 103,\n",
              " '전문가들과': 104,\n",
              " '구체화해나가며': 105,\n",
              " '접하지': 106,\n",
              " '지식과': 107,\n",
              " '배울': 108,\n",
              " '있었고': 109,\n",
              " '분야에': 110,\n",
              " '더': 111,\n",
              " '큰': 112,\n",
              " '가지게': 113,\n",
              " '됐다”고': 114,\n",
              " '말했다': 115,\n",
              " '학생들의': 116,\n",
              " '멘토를': 117,\n",
              " '맡은': 118,\n",
              " '최영철': 119,\n",
              " '연구원은': 120,\n",
              " '“학생들의': 121,\n",
              " '열정과': 122,\n",
              " '창의적인': 123,\n",
              " '접하며': 124,\n",
              " '새로운': 125,\n",
              " '자극을': 126,\n",
              " '받아': 127,\n",
              " '재미있게': 128,\n",
              " '멘토링에': 129,\n",
              " '참여했다”며': 130,\n",
              " '“그동안': 131,\n",
              " '분야에서': 132,\n",
              " '쌓아온': 133,\n",
              " '재능을': 134,\n",
              " '기부해': 135,\n",
              " '전문가를': 136,\n",
              " '꿈꾸는': 137,\n",
              " '청소년들에게': 138,\n",
              " '전해줄': 139,\n",
              " '있어': 140,\n",
              " '의미': 141,\n",
              " '있었다”고': 142,\n",
              " '밝혔다': 143,\n",
              " '한편': 144,\n",
              " '아주대학교': 145,\n",
              " '대학원과': 146,\n",
              " '‘ai': 147,\n",
              " '전문인력': 148,\n",
              " '양성을': 149,\n",
              " '위한': 150,\n",
              " '업무협약’을': 151,\n",
              " '체결해': 152,\n",
              " '프로그램을': 153,\n",
              " '운영하고': 154,\n",
              " '있다': 155,\n",
              " '24일에는': 156,\n",
              " '인공지능학과': 157,\n",
              " '대학원': 158,\n",
              " '과정에': 159,\n",
              " '재학': 160,\n",
              " '중인': 161,\n",
              " '우수': 162,\n",
              " '인재를': 163,\n",
              " '선발해': 164,\n",
              " '지급했다': 165,\n",
              " '이번에': 166,\n",
              " '선발된': 167,\n",
              " '학생에게는': 168,\n",
              " '졸업': 169,\n",
              " '때까지': 170,\n",
              " '매달': 171,\n",
              " '지급하고': 172,\n",
              " '포스코ict의': 173,\n",
              " '전문가와의': 174,\n",
              " '1대1': 175,\n",
              " '멘토링': 176,\n",
              " '및': 177,\n",
              " '각종': 178,\n",
              " '기술': 179,\n",
              " '교육': 180,\n",
              " '세미나': 181,\n",
              " '참석을': 182,\n",
              " '비롯해': 183,\n",
              " '채용': 184,\n",
              " '기회까지': 185,\n",
              " '제공할': 186,\n",
              " '계획이다': 187,\n",
              " '김현일': 188,\n",
              " '기자': 189}"
            ]
          },
          "metadata": {},
          "execution_count": 4
        }
      ]
    },
    {
      "cell_type": "code",
      "execution_count": 5,
      "metadata": {
        "colab": {
          "base_uri": "https://localhost:8080/"
        },
        "id": "xJXkifVi1zKP",
        "outputId": "8b67fd6b-1599-4e29-b6d8-9b24f7781ee1"
      },
      "outputs": [
        {
          "output_type": "stream",
          "name": "stdout",
          "text": [
            "전체 단어 개수:  189\n"
          ]
        }
      ],
      "source": [
        "word_vocab = tokenizer.word_index # 딕셔너리 형태\n",
        "print(\"전체 단어 개수: \", len(word_vocab)) # 전체 단어 개수 확인"
      ]
    },
    {
      "cell_type": "code",
      "execution_count": 6,
      "metadata": {
        "colab": {
          "base_uri": "https://localhost:8080/"
        },
        "id": "T-alWmSR1zKP",
        "outputId": "36bf26c4-f413-45b4-f944-47a1c461be4e"
      },
      "outputs": [
        {
          "output_type": "execute_result",
          "data": {
            "text/plain": [
              "[[1, 2, 8]]"
            ]
          },
          "metadata": {},
          "execution_count": 6
        }
      ],
      "source": [
        "tokenizer.texts_to_sequences([\"ai 아이디어를 개발한\"])"
      ]
    },
    {
      "cell_type": "code",
      "execution_count": 7,
      "metadata": {
        "colab": {
          "base_uri": "https://localhost:8080/"
        },
        "id": "PXnlz2cq1zKP",
        "outputId": "4bfa4043-2739-48bc-e645-40691beaa25a"
      },
      "outputs": [
        {
          "output_type": "execute_result",
          "data": {
            "text/plain": [
              "[[166, 167, 168, 169, 170]]"
            ]
          },
          "metadata": {},
          "execution_count": 7
        }
      ],
      "source": [
        "# 문자열 -> 인덱스 리스트\n",
        "sample_sen = \"이번에 선발된 학생에게는 졸업 때까지\"\n",
        "tokenizer.texts_to_sequences([sample_sen]) \n",
        "# 각각의 라벨로 바꿔준다"
      ]
    },
    {
      "cell_type": "code",
      "source": [
        "sample_sen.split(\" \")"
      ],
      "metadata": {
        "colab": {
          "base_uri": "https://localhost:8080/"
        },
        "id": "B5uHp44Kqsqi",
        "outputId": "fde895b3-d99f-4211-f0ad-4df0c9bcba24"
      },
      "execution_count": 8,
      "outputs": [
        {
          "output_type": "execute_result",
          "data": {
            "text/plain": [
              "['이번에', '선발된', '학생에게는', '졸업', '때까지']"
            ]
          },
          "metadata": {},
          "execution_count": 8
        }
      ]
    },
    {
      "cell_type": "code",
      "execution_count": 9,
      "metadata": {
        "colab": {
          "base_uri": "https://localhost:8080/"
        },
        "id": "Y9nnhXFb1zKP",
        "outputId": "e6cb82d3-d4df-4e81-9cab-4c1f48a7b1e1"
      },
      "outputs": [
        {
          "output_type": "execute_result",
          "data": {
            "text/plain": [
              "[[166, 167, 168, 169, 170]]"
            ]
          },
          "metadata": {},
          "execution_count": 9
        }
      ],
      "source": [
        "tokenized_sen = tokenizer.texts_to_sequences([sample_sen.split(\" \")])\n",
        "tokenized_sen"
      ]
    },
    {
      "cell_type": "markdown",
      "metadata": {
        "id": "2mx02DVk1zKP"
      },
      "source": [
        "#### 최대 단어 지정하기 "
      ]
    },
    {
      "cell_type": "code",
      "execution_count": 10,
      "metadata": {
        "id": "LyefoZWb1zKP"
      },
      "outputs": [],
      "source": [
        "# 최대 단어 지정하기\n",
        "tokenizer = Tokenizer(num_words = 5, oov_token = '<OOV>')\n",
        "\n",
        "# 단어 인덱스 구축\n",
        "tokenizer.fit_on_texts([kor_text])"
      ]
    },
    {
      "cell_type": "code",
      "source": [
        "tokenizer.word_index"
      ],
      "metadata": {
        "id": "0hb4X9UarwEy",
        "colab": {
          "base_uri": "https://localhost:8080/"
        },
        "outputId": "5e381521-9bc4-48b1-8e8f-c16552f7b11f"
      },
      "execution_count": 11,
      "outputs": [
        {
          "output_type": "execute_result",
          "data": {
            "text/plain": [
              "{'<OOV>': 1,\n",
              " 'ai': 2,\n",
              " '아이디어를': 3,\n",
              " '기술을': 4,\n",
              " '수': 5,\n",
              " '포스코ict는': 6,\n",
              " '포스코ict': 7,\n",
              " '1팀': 8,\n",
              " '개발한': 9,\n",
              " '직접': 10,\n",
              " '개최했다': 11,\n",
              " '청소년들은': 12,\n",
              " '못했던': 13,\n",
              " '시스템을': 14,\n",
              " '관심을': 15,\n",
              " '지난': 16,\n",
              " '등으로': 17,\n",
              " '구성된': 18,\n",
              " '2팀': 19,\n",
              " '이번': 20,\n",
              " '실제': 21,\n",
              " '장학금을': 22,\n",
              " '25일': 23,\n",
              " '경기도': 24,\n",
              " '판교': 25,\n",
              " '사옥에서': 26,\n",
              " '청소년들이': 27,\n",
              " '인공지능': 28,\n",
              " '기반': 29,\n",
              " '애플리케이션을': 30,\n",
              " '선보이는': 31,\n",
              " '‘2022': 32,\n",
              " '유스': 33,\n",
              " '챌린지': 34,\n",
              " 'youth': 35,\n",
              " 'challenge': 36,\n",
              " '’를': 37,\n",
              " '기성세대들이': 38,\n",
              " '생각하지': 39,\n",
              " '참신한': 40,\n",
              " '바탕으로': 41,\n",
              " '개발해': 42,\n",
              " '모았다': 43,\n",
              " '예선을': 44,\n",
              " '거쳐': 45,\n",
              " '본선에': 46,\n",
              " '오른': 47,\n",
              " '전국': 48,\n",
              " '중·고교': 49,\n",
              " '7개팀은': 50,\n",
              " '달부터': 51,\n",
              " '소속': 52,\n",
              " '엔지니어의': 53,\n",
              " '코칭': 54,\n",
              " '속에': 55,\n",
              " '시연했다': 56,\n",
              " '심사는': 57,\n",
              " '카이스트': 58,\n",
              " '포스텍': 59,\n",
              " '연세대': 60,\n",
              " '교수': 61,\n",
              " '평가위원들과': 62,\n",
              " '직원들로': 63,\n",
              " '내부': 64,\n",
              " '평가위원들이': 65,\n",
              " '맡았다': 66,\n",
              " '우수작은': 67,\n",
              " '과기정통부장관상': 68,\n",
              " '포스코ict사장상': 69,\n",
              " '지능정보산업협회장상': 70,\n",
              " '우수상': 71,\n",
              " '장려상': 72,\n",
              " '나눠': 73,\n",
              " '각각': 74,\n",
              " '시상했다': 75,\n",
              " '접목해': 76,\n",
              " '환경·안전·사회문제를': 77,\n",
              " '해결할': 78,\n",
              " '있는': 79,\n",
              " '청소년들의': 80,\n",
              " '발굴하기': 81,\n",
              " '위해': 82,\n",
              " '공모전을': 83,\n",
              " '평소': 84,\n",
              " '접할': 85,\n",
              " '기회가': 86,\n",
              " '부족했던': 87,\n",
              " '멘토링을': 88,\n",
              " '통해': 89,\n",
              " '산업현장에서': 90,\n",
              " '활용되는': 91,\n",
              " '자연스럽게': 92,\n",
              " '체험하고': 93,\n",
              " '진로': 94,\n",
              " '결정에도': 95,\n",
              " '도움을': 96,\n",
              " '받을': 97,\n",
              " '있었다': 98,\n",
              " '공모전에': 99,\n",
              " '참여한': 100,\n",
              " '김희주': 101,\n",
              " '학생은': 102,\n",
              " '“막연히': 103,\n",
              " '생각했던': 104,\n",
              " '전문가들과': 105,\n",
              " '구체화해나가며': 106,\n",
              " '접하지': 107,\n",
              " '지식과': 108,\n",
              " '배울': 109,\n",
              " '있었고': 110,\n",
              " '분야에': 111,\n",
              " '더': 112,\n",
              " '큰': 113,\n",
              " '가지게': 114,\n",
              " '됐다”고': 115,\n",
              " '말했다': 116,\n",
              " '학생들의': 117,\n",
              " '멘토를': 118,\n",
              " '맡은': 119,\n",
              " '최영철': 120,\n",
              " '연구원은': 121,\n",
              " '“학생들의': 122,\n",
              " '열정과': 123,\n",
              " '창의적인': 124,\n",
              " '접하며': 125,\n",
              " '새로운': 126,\n",
              " '자극을': 127,\n",
              " '받아': 128,\n",
              " '재미있게': 129,\n",
              " '멘토링에': 130,\n",
              " '참여했다”며': 131,\n",
              " '“그동안': 132,\n",
              " '분야에서': 133,\n",
              " '쌓아온': 134,\n",
              " '재능을': 135,\n",
              " '기부해': 136,\n",
              " '전문가를': 137,\n",
              " '꿈꾸는': 138,\n",
              " '청소년들에게': 139,\n",
              " '전해줄': 140,\n",
              " '있어': 141,\n",
              " '의미': 142,\n",
              " '있었다”고': 143,\n",
              " '밝혔다': 144,\n",
              " '한편': 145,\n",
              " '아주대학교': 146,\n",
              " '대학원과': 147,\n",
              " '‘ai': 148,\n",
              " '전문인력': 149,\n",
              " '양성을': 150,\n",
              " '위한': 151,\n",
              " '업무협약’을': 152,\n",
              " '체결해': 153,\n",
              " '프로그램을': 154,\n",
              " '운영하고': 155,\n",
              " '있다': 156,\n",
              " '24일에는': 157,\n",
              " '인공지능학과': 158,\n",
              " '대학원': 159,\n",
              " '과정에': 160,\n",
              " '재학': 161,\n",
              " '중인': 162,\n",
              " '우수': 163,\n",
              " '인재를': 164,\n",
              " '선발해': 165,\n",
              " '지급했다': 166,\n",
              " '이번에': 167,\n",
              " '선발된': 168,\n",
              " '학생에게는': 169,\n",
              " '졸업': 170,\n",
              " '때까지': 171,\n",
              " '매달': 172,\n",
              " '지급하고': 173,\n",
              " '포스코ict의': 174,\n",
              " '전문가와의': 175,\n",
              " '1대1': 176,\n",
              " '멘토링': 177,\n",
              " '및': 178,\n",
              " '각종': 179,\n",
              " '기술': 180,\n",
              " '교육': 181,\n",
              " '세미나': 182,\n",
              " '참석을': 183,\n",
              " '비롯해': 184,\n",
              " '채용': 185,\n",
              " '기회까지': 186,\n",
              " '제공할': 187,\n",
              " '계획이다': 188,\n",
              " '김현일': 189,\n",
              " '기자': 190}"
            ]
          },
          "metadata": {},
          "execution_count": 11
        }
      ]
    },
    {
      "cell_type": "code",
      "execution_count": null,
      "metadata": {
        "colab": {
          "base_uri": "https://localhost:8080/"
        },
        "id": "FhVjINi81zKQ",
        "outputId": "2a66e8a5-54dd-40f3-c68d-37926d9ea7e3"
      },
      "outputs": [
        {
          "output_type": "execute_result",
          "data": {
            "text/plain": [
              "5"
            ]
          },
          "metadata": {},
          "execution_count": 19
        }
      ],
      "source": [
        "tokenizer.num_words # 5개까지만 보겠다"
      ]
    },
    {
      "cell_type": "code",
      "execution_count": null,
      "metadata": {
        "colab": {
          "base_uri": "https://localhost:8080/"
        },
        "id": "2Eptuu9T1zKQ",
        "outputId": "8c575aad-35bd-4a46-d520-290b96aa7094"
      },
      "outputs": [
        {
          "output_type": "execute_result",
          "data": {
            "text/plain": [
              "[[1, 1, 1, 1, 1]]"
            ]
          },
          "metadata": {},
          "execution_count": 20
        }
      ],
      "source": [
        "sample_sen = \"이번에 선발된 학생에게는 졸업 때까지\" # 5개 안에서 못봤다고 1나옴\n",
        "tokenizer.texts_to_sequences([sample_sen]) "
      ]
    },
    {
      "cell_type": "code",
      "source": [
        "sample_sen = \"ai 아이디어를 학생에게는\" # 학생에게는은 5개 안에 없어서 1 출력\n",
        "tokenizer.texts_to_sequences([sample_sen]) "
      ],
      "metadata": {
        "colab": {
          "base_uri": "https://localhost:8080/"
        },
        "id": "5gxmkQIlrDAO",
        "outputId": "95a3c327-cddb-4fc0-c42f-47fc0f42b1ef"
      },
      "execution_count": null,
      "outputs": [
        {
          "output_type": "execute_result",
          "data": {
            "text/plain": [
              "[[2, 3, 1]]"
            ]
          },
          "metadata": {},
          "execution_count": 21
        }
      ]
    },
    {
      "cell_type": "code",
      "execution_count": null,
      "metadata": {
        "id": "zRMRQxNp2XLW"
      },
      "outputs": [],
      "source": [
        "tokenizer.word_index"
      ]
    },
    {
      "cell_type": "markdown",
      "metadata": {
        "id": "_y1G0HW61zKQ"
      },
      "source": [
        "### 1.8.2 Padding"
      ]
    },
    {
      "cell_type": "markdown",
      "metadata": {
        "id": "n8yZKb6F1zKQ"
      },
      "source": [
        "서로 다른 길이의 샘플들을 동일한 길이로 맞춰주기"
      ]
    },
    {
      "cell_type": "code",
      "execution_count": 12,
      "metadata": {
        "id": "cZdONyq91zKQ"
      },
      "outputs": [],
      "source": [
        "from tensorflow.keras.preprocessing.sequence import pad_sequences\n",
        "import numpy as np\n",
        "\n",
        "MAX_SEQUENCE_LENGTH = 10 # 문장 최대 길이"
      ]
    },
    {
      "cell_type": "code",
      "source": [
        "tokenized_sen = np.array(tokenized_sen)"
      ],
      "metadata": {
        "id": "sNwlbQo6Cs73"
      },
      "execution_count": 13,
      "outputs": []
    },
    {
      "cell_type": "code",
      "source": [
        "# 문장의 길이가 MAX_SEQUENCE_LENGTH 단어가 넘어가면 자르고, 모자르면 0으로 채워 넣는다.\n",
        "# padded_sen = pad_sequences(tokenized_sen, maxlen=MAX_SEQUENCE_LENGTH, padding = 'post')\n",
        "padded_sen = pad_sequences(tokenized_sen, maxlen=10, padding = 'post')\n",
        "\n",
        "print('Shape of input data tensor:', tokenized_sen.shape) # 리뷰 데이터의 형태 확인"
      ],
      "metadata": {
        "id": "NN9dhkuYCr5i"
      },
      "execution_count": null,
      "outputs": []
    },
    {
      "cell_type": "code",
      "execution_count": 15,
      "metadata": {
        "colab": {
          "base_uri": "https://localhost:8080/"
        },
        "id": "cPWcJypq1zKQ",
        "outputId": "7f3736ba-d7e2-4de5-e76b-fa79b9e139fa"
      },
      "outputs": [
        {
          "output_type": "execute_result",
          "data": {
            "text/plain": [
              "array([[166, 167, 168, 169, 170,   0,   0,   0,   0,   0]], dtype=int32)"
            ]
          },
          "metadata": {},
          "execution_count": 15
        }
      ],
      "source": [
        "padded_sen"
      ]
    },
    {
      "cell_type": "code",
      "source": [
        "sample_sen = [\"이번에 선발된 학생에게는 졸업 때까지\", \"ai 아이디어를 학생에게는\"]\n",
        "enc_text = tokenizer.texts_to_sequences(sample_sen)\n",
        "enc_text"
      ],
      "metadata": {
        "colab": {
          "base_uri": "https://localhost:8080/"
        },
        "id": "JJQ_b3egsxzL",
        "outputId": "b556ebb3-6e86-4564-dd2a-d363d31d0cd8"
      },
      "execution_count": 16,
      "outputs": [
        {
          "output_type": "execute_result",
          "data": {
            "text/plain": [
              "[[1, 1, 1, 1, 1], [2, 3, 1]]"
            ]
          },
          "metadata": {},
          "execution_count": 16
        }
      ]
    },
    {
      "cell_type": "code",
      "execution_count": 19,
      "metadata": {
        "id": "j-X3CHt92t-d",
        "colab": {
          "base_uri": "https://localhost:8080/"
        },
        "outputId": "dd083dcf-8df6-4072-9311-11a15d258907"
      },
      "outputs": [
        {
          "output_type": "execute_result",
          "data": {
            "text/plain": [
              "array([[0, 0, 0, 0, 0, 0, 0, 0, 0, 0, 1, 1, 1, 1, 1],\n",
              "       [0, 0, 0, 0, 0, 0, 0, 0, 0, 0, 0, 0, 2, 3, 1]], dtype=int32)"
            ]
          },
          "metadata": {},
          "execution_count": 19
        }
      ],
      "source": [
        "# 공백을 앞으로 채운다 >> 뒤에가 학습이 더 잘되기 때문에 공백을 앞에 채우는 게 좋다\n",
        "# padding = 'pre'가 defalut, \n",
        "pad_sequences(enc_text, maxlen = 15, padding = 'pre')"
      ]
    },
    {
      "cell_type": "code",
      "source": [
        "# 공백을 뒤에 채운다\n",
        "pad_sequences(enc_text, maxlen = 15, padding = 'post') \n",
        "# maxlen을 안주면 내가 가진 문장 중에 제일 긴 문장의 길이로 맞춰준다"
      ],
      "metadata": {
        "colab": {
          "base_uri": "https://localhost:8080/"
        },
        "id": "wtUk8x1MsxrQ",
        "outputId": "659e534a-a1bf-42a6-e86f-848b37b9b366"
      },
      "execution_count": 18,
      "outputs": [
        {
          "output_type": "execute_result",
          "data": {
            "text/plain": [
              "array([[1, 1, 1, 1, 1, 0, 0, 0, 0, 0, 0, 0, 0, 0, 0],\n",
              "       [2, 3, 1, 0, 0, 0, 0, 0, 0, 0, 0, 0, 0, 0, 0]], dtype=int32)"
            ]
          },
          "metadata": {},
          "execution_count": 18
        }
      ]
    },
    {
      "cell_type": "markdown",
      "metadata": {
        "id": "vpM2OmaX2uCc"
      },
      "source": [
        "# Embedding Layer\n",
        " - 정수를 벡터로 바꿔준다, 처음은 임의로, 학습을 하면 할 수록 최적의 벡터로 넣어준다"
      ]
    },
    {
      "cell_type": "code",
      "execution_count": 20,
      "metadata": {
        "colab": {
          "base_uri": "https://localhost:8080/"
        },
        "id": "qEqRQdHP2vl_",
        "outputId": "a10e1a66-04c7-4cb5-946d-385b93e955ac"
      },
      "outputs": [
        {
          "output_type": "stream",
          "name": "stdout",
          "text": [
            "1/1 [==============================] - 0s 145ms/step\n",
            "(32, 10, 6)\n"
          ]
        }
      ],
      "source": [
        "import tensorflow as tf\n",
        "import numpy as np\n",
        "\n",
        "model = tf.keras.Sequential()\n",
        "model.add(tf.keras.layers.Embedding(1000, 6, input_length=10))\n",
        "# The model will take as input an integer matrix of size (batch,\n",
        "# input_length), and the largest integer (i.e. word index) in the input\n",
        "# should be no larger than 999 (vocabulary size).\n",
        "# Now model.output_shape is (None, 10, 64), where `None` is the batch\n",
        "# dimension.\n",
        "input_array = np.random.randint(1000, size=(32, 10))\n",
        "model.compile('rmsprop', 'mse')\n",
        "output_array = model.predict(input_array)\n",
        "print(output_array.shape)"
      ]
    },
    {
      "cell_type": "code",
      "execution_count": 21,
      "metadata": {
        "colab": {
          "base_uri": "https://localhost:8080/"
        },
        "id": "LVRisI7j2v0t",
        "outputId": "262d521a-a0ab-41cc-d698-32ee3e5e0ac8"
      },
      "outputs": [
        {
          "output_type": "execute_result",
          "data": {
            "text/plain": [
              "array([205, 361, 661, 784, 929, 895, 807, 284, 753, 263])"
            ]
          },
          "metadata": {},
          "execution_count": 21
        }
      ],
      "source": [
        "input_array[0]"
      ]
    },
    {
      "cell_type": "code",
      "execution_count": 22,
      "metadata": {
        "colab": {
          "base_uri": "https://localhost:8080/"
        },
        "id": "7Q6Ekqe624Py",
        "outputId": "ff78efa0-dddd-40b8-fb36-645e920a6f12"
      },
      "outputs": [
        {
          "output_type": "execute_result",
          "data": {
            "text/plain": [
              "array([[ 0.03949331,  0.00464858,  0.04354509, -0.04131829,  0.01820897,\n",
              "        -0.0094376 ],\n",
              "       [-0.0011533 , -0.02342997,  0.0127754 ,  0.01816455, -0.00554457,\n",
              "        -0.0088976 ],\n",
              "       [-0.04010726,  0.02595479, -0.00163543,  0.00708774, -0.01589371,\n",
              "         0.0087255 ],\n",
              "       [ 0.04408971,  0.0341519 ,  0.01131614,  0.04098124, -0.02848651,\n",
              "         0.03878665],\n",
              "       [ 0.0087648 ,  0.04381844,  0.02760445, -0.00743934, -0.03564948,\n",
              "         0.04923255],\n",
              "       [-0.02270595,  0.01331332,  0.04747928,  0.03786708, -0.01142148,\n",
              "         0.04690902],\n",
              "       [-0.01062418,  0.04961817,  0.04388407,  0.0430107 , -0.01627829,\n",
              "         0.01854298],\n",
              "       [-0.0408446 , -0.03129784,  0.01653785, -0.04098785, -0.01088778,\n",
              "         0.04645077],\n",
              "       [-0.03625948, -0.03565634,  0.01504682, -0.04435727,  0.04559413,\n",
              "        -0.00059474],\n",
              "       [-0.00663843,  0.03483242,  0.0069539 ,  0.04587784, -0.02196574,\n",
              "        -0.02809509]], dtype=float32)"
            ]
          },
          "metadata": {},
          "execution_count": 22
        }
      ],
      "source": [
        "output_array[0]"
      ]
    },
    {
      "cell_type": "code",
      "execution_count": 23,
      "metadata": {
        "colab": {
          "base_uri": "https://localhost:8080/"
        },
        "id": "BRftJ6W027TM",
        "outputId": "40043704-2173-4ecf-c28d-54d78b6c5c74"
      },
      "outputs": [
        {
          "output_type": "execute_result",
          "data": {
            "text/plain": [
              "(32, 10, 6)"
            ]
          },
          "metadata": {},
          "execution_count": 23
        }
      ],
      "source": [
        "output_array.shape"
      ]
    },
    {
      "cell_type": "code",
      "execution_count": 24,
      "metadata": {
        "id": "XTxR-Czb-KIg",
        "colab": {
          "base_uri": "https://localhost:8080/"
        },
        "outputId": "eb1c522c-9e8d-4a60-f8d1-297d32289a45"
      },
      "outputs": [
        {
          "output_type": "execute_result",
          "data": {
            "text/plain": [
              "array([[4, 5, 0],\n",
              "       [0, 6, 3],\n",
              "       [0, 1, 8]])"
            ]
          },
          "metadata": {},
          "execution_count": 24
        }
      ],
      "source": [
        "X = np.random.randint(0, 10, (3, 3)) \n",
        "# 0-9까지 랜덤하게 3,3 행렬을 만들어라\n",
        "X"
      ]
    },
    {
      "cell_type": "code",
      "source": [
        "tf.keras.layers.Embedding(10, 3)(X)"
      ],
      "metadata": {
        "colab": {
          "base_uri": "https://localhost:8080/"
        },
        "id": "1qgVY-U8EO04",
        "outputId": "ad7f8d20-83e9-4b0c-a992-466dcd2818ae"
      },
      "execution_count": 25,
      "outputs": [
        {
          "output_type": "execute_result",
          "data": {
            "text/plain": [
              "<tf.Tensor: shape=(3, 3, 3), dtype=float32, numpy=\n",
              "array([[[ 0.03896686, -0.0222164 ,  0.04989362],\n",
              "        [-0.00057726,  0.04133506, -0.01793252],\n",
              "        [-0.02945718, -0.00336273,  0.01403983]],\n",
              "\n",
              "       [[-0.02945718, -0.00336273,  0.01403983],\n",
              "        [-0.02042549,  0.04956012,  0.02957802],\n",
              "        [ 0.01385793, -0.02367174,  0.04853481]],\n",
              "\n",
              "       [[-0.02945718, -0.00336273,  0.01403983],\n",
              "        [-0.01996809, -0.04468862, -0.00648012],\n",
              "        [-0.00534514,  0.0292314 , -0.00433341]]], dtype=float32)>"
            ]
          },
          "metadata": {},
          "execution_count": 25
        }
      ]
    },
    {
      "cell_type": "code",
      "source": [
        "X = np.random.randint(0, 10, (5, 4))\n",
        "# 0-9까지 랜덤하게 5,4 행렬을 만들어라\n",
        "X"
      ],
      "metadata": {
        "colab": {
          "base_uri": "https://localhost:8080/"
        },
        "id": "HJ0-uyVtEVaC",
        "outputId": "649d30bf-9391-48eb-c21e-2af8ebdefd78"
      },
      "execution_count": 29,
      "outputs": [
        {
          "output_type": "execute_result",
          "data": {
            "text/plain": [
              "array([[0, 8, 4, 3],\n",
              "       [2, 5, 0, 3],\n",
              "       [2, 2, 2, 6],\n",
              "       [2, 4, 5, 3],\n",
              "       [8, 2, 9, 1]])"
            ]
          },
          "metadata": {},
          "execution_count": 29
        }
      ]
    },
    {
      "cell_type": "code",
      "source": [
        "tf.keras.layers.Embedding(10, 2)(X) \n",
        "# 실제보다 적은 수를 적어주면 뒤에 단어까지 못 간다(큰 것은 문제가 되지 않는다)"
      ],
      "metadata": {
        "colab": {
          "base_uri": "https://localhost:8080/"
        },
        "id": "MPL2LSESEYoN",
        "outputId": "721c4c11-7ee6-4676-f009-1430fb2fd055"
      },
      "execution_count": 27,
      "outputs": [
        {
          "output_type": "execute_result",
          "data": {
            "text/plain": [
              "<tf.Tensor: shape=(5, 4, 2), dtype=float32, numpy=\n",
              "array([[[ 0.03339254,  0.01426717],\n",
              "        [ 0.03339254,  0.01426717],\n",
              "        [ 0.01893521,  0.00732464],\n",
              "        [ 0.02070877, -0.01078456]],\n",
              "\n",
              "       [[ 0.01893521,  0.00732464],\n",
              "        [-0.03017322, -0.0046047 ],\n",
              "        [-0.01180403, -0.01363743],\n",
              "        [ 0.01089805, -0.03531492]],\n",
              "\n",
              "       [[-0.04050624, -0.00699788],\n",
              "        [ 0.04182092,  0.02714014],\n",
              "        [ 0.02070877, -0.01078456],\n",
              "        [-0.01180403, -0.01363743]],\n",
              "\n",
              "       [[ 0.04182092,  0.02714014],\n",
              "        [-0.01180403, -0.01363743],\n",
              "        [-0.0346396 ,  0.03947543],\n",
              "        [-0.03017322, -0.0046047 ]],\n",
              "\n",
              "       [[-0.01180403, -0.01363743],\n",
              "        [-0.03434044, -0.04138591],\n",
              "        [ 0.02070877, -0.01078456],\n",
              "        [-0.01180403, -0.01363743]]], dtype=float32)>"
            ]
          },
          "metadata": {},
          "execution_count": 27
        }
      ]
    },
    {
      "cell_type": "code",
      "source": [
        "tf.keras.layers.Embedding(5, 2)(X) \n",
        "# 내가 가진 숫자보다 작다고 안해줌\n",
        "#  • inputs=tf.Tensor(shape=(5, 4), dtype=int64) >> 5,4까지는 하라고 함"
      ],
      "metadata": {
        "id": "BEdLqfvEE0bR"
      },
      "execution_count": null,
      "outputs": []
    },
    {
      "cell_type": "code",
      "source": [
        "tokenizer.word_index"
      ],
      "metadata": {
        "id": "nE7J-WkpEnM4"
      },
      "execution_count": null,
      "outputs": []
    },
    {
      "cell_type": "code",
      "execution_count": 32,
      "metadata": {
        "colab": {
          "base_uri": "https://localhost:8080/"
        },
        "outputId": "1db4d43d-2de8-4843-87fa-82ece1524ac3",
        "id": "m_kBiHo5FQtc"
      },
      "outputs": [
        {
          "output_type": "execute_result",
          "data": {
            "text/plain": [
              "<tf.Tensor: shape=(5, 4, 2), dtype=float32, numpy=\n",
              "array([[[ 0.03757293,  0.03262705],\n",
              "        [-0.04582239,  0.04437014],\n",
              "        [-0.00314752,  0.01571426],\n",
              "        [ 0.00263256, -0.02263029]],\n",
              "\n",
              "       [[-0.02304286, -0.04339144],\n",
              "        [-0.00754912,  0.02199631],\n",
              "        [ 0.03757293,  0.03262705],\n",
              "        [ 0.00263256, -0.02263029]],\n",
              "\n",
              "       [[-0.02304286, -0.04339144],\n",
              "        [-0.02304286, -0.04339144],\n",
              "        [-0.02304286, -0.04339144],\n",
              "        [ 0.00235232,  0.02658825]],\n",
              "\n",
              "       [[-0.02304286, -0.04339144],\n",
              "        [-0.00314752,  0.01571426],\n",
              "        [-0.00754912,  0.02199631],\n",
              "        [ 0.00263256, -0.02263029]],\n",
              "\n",
              "       [[-0.04582239,  0.04437014],\n",
              "        [-0.02304286, -0.04339144],\n",
              "        [ 0.00100043,  0.02097876],\n",
              "        [-0.04369575,  0.01581761]]], dtype=float32)>"
            ]
          },
          "metadata": {},
          "execution_count": 32
        }
      ],
      "source": [
        "tf.keras.layers.Embedding(10, 2)(X)"
      ]
    },
    {
      "cell_type": "code",
      "source": [
        "X = np.random.randint(0, 10, (4, 3))\n",
        "X"
      ],
      "metadata": {
        "colab": {
          "base_uri": "https://localhost:8080/"
        },
        "id": "hfb1H9EnD_AV",
        "outputId": "7c691de1-221b-40bc-965e-352c16a7ba41"
      },
      "execution_count": 39,
      "outputs": [
        {
          "output_type": "execute_result",
          "data": {
            "text/plain": [
              "array([[7, 5, 7],\n",
              "       [2, 6, 6],\n",
              "       [0, 3, 0],\n",
              "       [4, 1, 9]])"
            ]
          },
          "metadata": {},
          "execution_count": 39
        }
      ]
    },
    {
      "cell_type": "code",
      "source": [
        "model = tf.keras.models.Sequential([\n",
        "    tf.keras.layers.Embedding(10, 5), \n",
        "    tf.keras.layers.SimpleRNN(3),\n",
        "    tf.keras.layers.Dense(1)]\n",
        ")"
      ],
      "metadata": {
        "id": "DMBa-sRQFBC-"
      },
      "execution_count": 40,
      "outputs": []
    },
    {
      "cell_type": "code",
      "source": [
        "model(X)"
      ],
      "metadata": {
        "colab": {
          "base_uri": "https://localhost:8080/"
        },
        "id": "rN3nL1kyENMH",
        "outputId": "51afc9e8-44d7-46c0-ba99-290483391b0b"
      },
      "execution_count": 41,
      "outputs": [
        {
          "output_type": "execute_result",
          "data": {
            "text/plain": [
              "<tf.Tensor: shape=(4, 1), dtype=float32, numpy=\n",
              "array([[ 0.06144631],\n",
              "       [-0.09199798],\n",
              "       [ 0.04163429],\n",
              "       [ 0.14024906]], dtype=float32)>"
            ]
          },
          "metadata": {},
          "execution_count": 41
        }
      ]
    },
    {
      "cell_type": "code",
      "source": [
        "tf.keras.utils.plot_model(model, show_shapes = True)"
      ],
      "metadata": {
        "id": "_UmvmMaSFhOF",
        "outputId": "a55b4411-e120-4223-8f61-4c4e530c78f4",
        "colab": {
          "base_uri": "https://localhost:8080/",
          "height": 422
        }
      },
      "execution_count": 42,
      "outputs": [
        {
          "output_type": "execute_result",
          "data": {
            "image/png": "[encoded data removed]",
            "text/plain": [
              "<IPython.core.display.Image object>"
            ]
          },
          "metadata": {},
          "execution_count": 42
        }
      ]
    },
    {
      "cell_type": "code",
      "source": [
        "model.summary()"
      ],
      "metadata": {
        "colab": {
          "base_uri": "https://localhost:8080/"
        },
        "id": "EP-Ldv5FFby9",
        "outputId": "9ffcd4d5-6169-4a23-cf1c-4fd97e85b0c7"
      },
      "execution_count": 43,
      "outputs": [
        {
          "output_type": "stream",
          "name": "stdout",
          "text": [
            "Model: \"sequential_1\"\n",
            "_________________________________________________________________\n",
            " Layer (type)                Output Shape              Param #   \n",
            "=================================================================\n",
            " embedding_8 (Embedding)     (None, None, 5)           50        \n",
            "                                                                 \n",
            " simple_rnn_3 (SimpleRNN)    (None, 3)                 27        \n",
            "                                                                 \n",
            " dense_2 (Dense)             (None, 1)                 4         \n",
            "                                                                 \n",
            "=================================================================\n",
            "Total params: 81\n",
            "Trainable params: 81\n",
            "Non-trainable params: 0\n",
            "_________________________________________________________________\n"
          ]
        }
      ]
    }
  ],
  "metadata": {
    "colab": {
      "provenance": [],
      "include_colab_link": true
    },
    "kernelspec": {
      "display_name": "Python 3 (ipykernel)",
      "language": "python",
      "name": "python3"
    },
    "language_info": {
      "codemirror_mode": {
        "name": "ipython",
        "version": 3
      },
      "file_extension": ".py",
      "mimetype": "text/x-python",
      "name": "python",
      "nbconvert_exporter": "python",
      "pygments_lexer": "ipython3",
      "version": "3.9.13"
    },
    "toc": {
      "base_numbering": 1,
      "nav_menu": {},
      "number_sections": true,
      "sideBar": true,
      "skip_h1_title": false,
      "title_cell": "Table of Contents",
      "title_sidebar": "Contents",
      "toc_cell": false,
      "toc_position": {},
      "toc_section_display": true,
      "toc_window_display": false
    }
  },
  "nbformat": 4,
  "nbformat_minor": 0
}