{
  "cells": [
    {
      "cell_type": "markdown",
      "metadata": {
        "id": "view-in-github",
        "colab_type": "text"
      },
      "source": [
        "<a href=\"https://colab.research.google.com/github/guscldns/TestProject/blob/main/0813/%ED%8A%B9%EC%84%B1_feature_%ED%99%95%EC%9D%B8_%EC%8B%A4%ED%97%98.ipynb\" target=\"_parent\"><img src=\"https://colab.research.google.com/assets/colab-badge.svg\" alt=\"Open In Colab\"/></a>"
      ]
    },
    {
      "cell_type": "code",
      "execution_count": 1,
      "metadata": {
        "id": "HlzpJtqpw0er"
      },
      "outputs": [],
      "source": [
        "# 드라이브 파일 train : https://drive.google.com/file/d/1F6Otr01l-sUUR_1AdTM925tAGDE_L--t/view?usp=drive_link\n",
        "# test : https://drive.google.com/file/d/13lNIGs3wsD0mZF4OauV4GhZQHniNjK6d/view?usp=drive_link\n",
        "# sub misson : https://drive.google.com/file/d/1RLdtGa4N62Q_5XFp0OOGTR5iVFObxjme/view?usp=drive_link"
      ]
    },
    {
      "cell_type": "code",
      "execution_count": null,
      "metadata": {
        "id": "KnfooamWy4hH"
      },
      "outputs": [],
      "source": [
        "!gdown https://drive.google.com/uc?id=1F6Otr01l-sUUR_1AdTM925tAGDE_L--t"
      ]
    },
    {
      "cell_type": "code",
      "execution_count": null,
      "metadata": {
        "id": "uGoEBzqczVPC"
      },
      "outputs": [],
      "source": [
        "!gdown https://drive.google.com/uc?id=13lNIGs3wsD0mZF4OauV4GhZQHniNjK6d"
      ]
    },
    {
      "cell_type": "code",
      "execution_count": null,
      "metadata": {
        "id": "3BseBkK-xP1J"
      },
      "outputs": [],
      "source": [
        "!pip install catboost"
      ]
    },
    {
      "cell_type": "code",
      "execution_count": null,
      "metadata": {
        "id": "JJd7MZq-yR76"
      },
      "outputs": [],
      "source": [
        "!pip install optuna"
      ]
    },
    {
      "cell_type": "code",
      "execution_count": null,
      "metadata": {
        "id": "ecrT0RvPfUXe"
      },
      "outputs": [],
      "source": [
        "!pip install -U mlflow optuna"
      ]
    },
    {
      "cell_type": "code",
      "execution_count": 7,
      "metadata": {
        "id": "AY2MaR0m0WfB"
      },
      "outputs": [],
      "source": [
        "import os, math\n",
        "import pandas as pd\n",
        "import numpy as np\n",
        "from tqdm.notebook import tqdm\n",
        "tqdm.pandas()\n",
        "\n",
        "# visualization\n",
        "import matplotlib.pyplot as plt\n",
        "import seaborn as sns\n",
        "import plotly.graph_objects as go\n",
        "import plotly.express as px\n",
        "import missingno as msno\n",
        "\n",
        "# scikit-learn\n",
        "from sklearn.model_selection import train_test_split, GridSearchCV, RandomizedSearchCV, KFold, StratifiedKFold, cross_validate, cross_val_score, KFold\n",
        "from sklearn.preprocessing import StandardScaler, RobustScaler, MinMaxScaler, OneHotEncoder, LabelEncoder, OrdinalEncoder\n",
        "from sklearn.compose import make_column_transformer\n",
        "from sklearn.metrics import accuracy_score, precision_score, recall_score, f1_score, roc_auc_score, mean_squared_error\n",
        "\n",
        "# 분류 모델\n",
        "from sklearn.linear_model import LogisticRegression\n",
        "from sklearn.svm import SVC\n",
        "from sklearn.neighbors import KNeighborsClassifier\n",
        "from sklearn.tree import DecisionTreeClassifier\n",
        "from sklearn.ensemble import RandomForestClassifier\n",
        "from sklearn.ensemble import AdaBoostClassifier\n",
        "from sklearn.ensemble import GradientBoostingClassifier\n",
        "from lightgbm import LGBMClassifier\n",
        "import lightgbm as lgb\n",
        "from xgboost import XGBClassifier\n",
        "import xgboost as xgb\n",
        "from sklearn.ensemble import VotingClassifier\n",
        "from catboost import CatBoostRegressor\n",
        "\n",
        "import warnings\n",
        "\n",
        "# Auto ML\n",
        "import optuna\n",
        "\n",
        "warnings.filterwarnings('ignore')"
      ]
    },
    {
      "cell_type": "code",
      "execution_count": 143,
      "metadata": {
        "id": "xqsji1ng0ZUM"
      },
      "outputs": [],
      "source": [
        "train_data = pd.read_csv(\"/content/train.csv\")\n",
        "test_data = pd.read_csv(\"/content/test.csv\")"
      ]
    },
    {
      "cell_type": "code",
      "execution_count": 144,
      "metadata": {
        "id": "dtdCtc8RIjI_"
      },
      "outputs": [],
      "source": [
        "df = train_data.copy()"
      ]
    },
    {
      "cell_type": "markdown",
      "metadata": {
        "id": "6vEvCoiXwd0R"
      },
      "source": [
        "### 필요없는 열 삭제"
      ]
    },
    {
      "cell_type": "code",
      "execution_count": 145,
      "metadata": {
        "id": "l591pRtiwcxp"
      },
      "outputs": [],
      "source": [
        "del df['FLAG_MOBIL']"
      ]
    },
    {
      "cell_type": "markdown",
      "metadata": {
        "id": "w4Rjz102-owV"
      },
      "source": [
        "### 모든 열 더해보자"
      ]
    },
    {
      "cell_type": "code",
      "execution_count": 146,
      "metadata": {
        "id": "CyzdJmuL5qFh"
      },
      "outputs": [],
      "source": [
        "# NAN값 Unknown으로 변경\n",
        "df['occyp_type'] = df['occyp_type'].fillna(\"Unknown\")"
      ]
    },
    {
      "cell_type": "code",
      "execution_count": null,
      "metadata": {
        "id": "AiOpi9f64-Iw"
      },
      "outputs": [],
      "source": [
        "# # 모든 열을 더해보자\n",
        "# all_columns = df.columns[df.columns != 'begin_month']\n",
        "\n",
        "# df['ID'] = df[all_columns].astype(str).apply(lambda x: '_'.join(x), axis=1) >> 70.8 (RF)"
      ]
    },
    {
      "cell_type": "code",
      "execution_count": 134,
      "metadata": {
        "id": "zcPfbUgWUKrn"
      },
      "outputs": [],
      "source": [
        "# # 모든 object 열을 더해보자\n",
        "# object_columns = df.select_dtypes(include='object').columns\n",
        "# df['ID'] = df[object_columns].astype(str).apply(lambda x: '_'.join(x), axis=1) >> 71.7 (RF)"
      ]
    },
    {
      "cell_type": "code",
      "source": [
        "# add_columns = ['gender', 'car', 'reality', 'income_type', 'edu_type', 'family_type',\n",
        "#        'house_type', 'occyp_type', 'work_phone', 'email']\n",
        "# df['ID'] = df[add_columns].astype(str).apply(lambda x: '_'.join(x), axis=1) >> 71.7 (RF)"
      ],
      "metadata": {
        "id": "eHCIyDBDcggw"
      },
      "execution_count": 202,
      "outputs": []
    },
    {
      "cell_type": "code",
      "source": [
        "# add_columns = ['gender', 'car', 'reality', 'income_type', 'edu_type', 'family_type',\n",
        "#        'house_type', 'occyp_type', 'work_phone', 'email', 'DAYS_BIRTH']\n",
        "# df['ID'] = df[add_columns].astype(str).apply(lambda x: '_'.join(x), axis=1) >> 71.7 (RF)"
      ],
      "metadata": {
        "id": "lPTx99CWqptF"
      },
      "execution_count": 228,
      "outputs": []
    },
    {
      "cell_type": "code",
      "source": [
        "add_columns = ['gender', 'car', 'reality', 'income_type', 'edu_type', 'family_type',\n",
        "       'house_type', 'occyp_type', 'work_phone', 'email', 'DAYS_BIRTH']\n",
        "df['ID'] = df[add_columns].astype(str).apply(lambda x: '_'.join(x), axis=1)"
      ],
      "metadata": {
        "id": "VcBdtF79_WgR"
      },
      "execution_count": 147,
      "outputs": []
    },
    {
      "cell_type": "code",
      "execution_count": 148,
      "metadata": {
        "colab": {
          "base_uri": "https://localhost:8080/"
        },
        "id": "h_09r0R4-8GO",
        "outputId": "5e65a86a-2ad8-4a2c-e09b-fb912a4d4681"
      },
      "outputs": [
        {
          "output_type": "execute_result",
          "data": {
            "text/plain": [
              "Index(['gender', 'car', 'reality', 'income_type', 'edu_type', 'family_type',\n",
              "       'house_type', 'occyp_type', 'ID'],\n",
              "      dtype='object')"
            ]
          },
          "metadata": {},
          "execution_count": 148
        }
      ],
      "source": [
        "# object열 확인\n",
        "object_columns = df.select_dtypes(include='object').columns\n",
        "object_columns"
      ]
    },
    {
      "cell_type": "markdown",
      "source": [
        "### object열 인코딩"
      ],
      "metadata": {
        "id": "_zwj9F-GYrkO"
      }
    },
    {
      "cell_type": "code",
      "execution_count": 149,
      "metadata": {
        "id": "anNEIDGj-5fe"
      },
      "outputs": [],
      "source": [
        "from sklearn.preprocessing import OrdinalEncoder\n",
        "ordinal_encoder = OrdinalEncoder()\n",
        "df[object_columns] = ordinal_encoder.fit_transform(df[object_columns], df['credit'])"
      ]
    },
    {
      "cell_type": "code",
      "execution_count": 150,
      "metadata": {
        "id": "r8Woxw5VAvqP"
      },
      "outputs": [],
      "source": [
        "df['ID'] = df['ID'].astype(int)"
      ]
    },
    {
      "cell_type": "markdown",
      "metadata": {
        "id": "eOM4tzOj-lhw"
      },
      "source": [
        "#### 추가"
      ]
    },
    {
      "cell_type": "code",
      "execution_count": 151,
      "metadata": {
        "id": "sQq7iKr61QtF"
      },
      "outputs": [],
      "source": [
        "# 일한 일수 양수는 일하지 않았다고 보고 0.0000000001으로 변경\n",
        "df['DAYS_EMPLOYED'] = df['DAYS_EMPLOYED'].apply(lambda x: 0.0000000001 if x > 0 else x)"
      ]
    },
    {
      "cell_type": "code",
      "execution_count": 152,
      "metadata": {
        "id": "43SzFI9x0TDE"
      },
      "outputs": [],
      "source": [
        "# 음수값 양수값으로 변경\n",
        "\n",
        "features = ['DAYS_BIRTH', 'DAYS_EMPLOYED', 'begin_month']\n",
        "for f in features:\n",
        "    df[f] = df[f].abs()"
      ]
    },
    {
      "cell_type": "code",
      "execution_count": 153,
      "metadata": {
        "id": "3SkezlMI2va3"
      },
      "outputs": [],
      "source": [
        "# 안쓰면 71.3 ↓ 0.4\n",
        "# 연으로 변경\n",
        "df[\"YEAR_BIRTH\"] = df[\"DAYS_BIRTH\"] / 365\n",
        "df['YEAR_EMPLOYED'] = df['DAYS_EMPLOYED'] / 365\n",
        "\n",
        "# 달로 변경\n",
        "df[\"MONTH_BIRTH\"] = df[\"DAYS_BIRTH\"] / 12\n",
        "df['MONTH_EMPLOYED'] = df['DAYS_EMPLOYED'] / 12\n",
        "\n",
        "# 주로 변경\n",
        "df[\"WEEK_BIRTH\"] = df[\"DAYS_BIRTH\"] / 12\n",
        "df['WEEK_EMPLOYED'] = df['DAYS_EMPLOYED'] / 12\n",
        "\n",
        "# 일 안한 날 생성\n",
        "df[\"No_work\"] = df[\"DAYS_BIRTH\"] - df['DAYS_EMPLOYED']\n"
      ]
    },
    {
      "cell_type": "code",
      "execution_count": 154,
      "metadata": {
        "id": "fT69OxgBgUOW"
      },
      "outputs": [],
      "source": [
        "# 전화 하나로 변경\n",
        "df['phones'] = df.loc[:, 'work_phone':'phone'].sum(axis = 1)\n",
        "df = df.drop(['work_phone', 'phone'], axis=1)"
      ]
    },
    {
      "cell_type": "code",
      "source": [
        "# 가족 수에 아이들 수 추가\n",
        "df['famliy_num'] = df.loc[:, 'child_num':'family_size'].sum(axis = 1)"
      ],
      "metadata": {
        "id": "8v9Z_sOXYn_f"
      },
      "execution_count": 155,
      "outputs": []
    },
    {
      "cell_type": "code",
      "execution_count": 156,
      "metadata": {
        "id": "-s7wrMoT3rIK"
      },
      "outputs": [],
      "source": [
        "# 연소득\n",
        "df['income_year'] = df['income_total'] / 365\n",
        "# 일한 일수로 소득 확인\n",
        "# df['income'] =  df.apply(lambda row: row[\"income_total\"] / row[\"DAYS_EMPLOYED\"] if row[\"DAYS_EMPLOYED\"] > 0 else 0, axis=1)\n",
        "\n",
        "# 가족 수로 수입 나눔\n",
        "df['income_mean'] = df['income_total'] / df['famliy_num']\n",
        "\n",
        "# # 아이들 수로 수입 나눔\n",
        "# df[\"income_child\"] = df.apply(lambda row: row[\"income_total\"] / row[\"child_num\"] if row[\"child_num\"] > 0 else row[\"income_total\"], axis=1)\n",
        "# df[\"income_child\"] = df['income_total'] / df['child_num']+0.0000000001\n",
        "\n",
        "# # 일한 날로 소득 생성\n",
        "# df['income_work'] = df['income_total'] / df['DAYS_EMPLOYED']+0.0000000001\n",
        "\n",
        "# # 나이(?) + 일한 날로 소득 생성(RF 71.6 ↓0.1)\n",
        "# df['income_age'] = df['income_total'] / (df[\"DAYS_BIRTH\"]+df['DAYS_EMPLOYED'])+0.0000000001\n",
        "\n",
        "# 다 나눴으면 삭제\n",
        "df = df.drop(['DAYS_EMPLOYED', 'income_total', 'DAYS_BIRTH','child_num', 'family_size'], axis=1)\n",
        "# df.drop(columns=df['income_total'], inplace=True)"
      ]
    },
    {
      "cell_type": "code",
      "source": [
        "# 연관없는 것을 합쳐보자\n",
        "# car+email (RF 71.8  ↑ 0.1)\n",
        "df['car_email'] = df.loc[:, 'car':'email'].sum(axis = 1)\n",
        "df = df.drop(['car', 'email'], axis=1)\n",
        "\n",
        "# # gender + reality(RF 71.6 ↓0.1)\n",
        "# df['gender_reality'] = df.loc[:, 'gender':'reality'].sum(axis = 1)\n",
        "# df = df.drop(['gender', 'reality'], axis=1)\n",
        "\n",
        "# gender + edu_type(RF 71.6 ↓0.1)\n",
        "# df['gender_edu_type'] = df.loc[:, 'gender':'edu_type'].sum(axis = 1)\n",
        "# df = df.drop(['gender', 'edu_type'], axis=1)\n",
        "\n",
        "# income_type + edu_type(RF 71.6 ↓0.1)\n",
        "# df['income_type_edu_type'] = df.loc[:, 'income_type':'edu_type'].sum(axis = 1)\n",
        "# df = df.drop(['income_type', 'edu_type'], axis=1)\n",
        "\n",
        "# # house_type + edu_type(RF 71.7)\n",
        "# # df['house_type_edu_type'] = df.loc[:, 'house_type':'edu_type'].sum(axis = 1)\n",
        "# df['house_type_edu_type'] = df['house_type']+df['edu_type']\n",
        "# df = df.drop(['house_type', 'edu_type'], axis=1)"
      ],
      "metadata": {
        "id": "Z1xa32FgRVwu"
      },
      "execution_count": 157,
      "outputs": []
    },
    {
      "cell_type": "code",
      "source": [
        "# float열 확인\n",
        "float_columns = df.select_dtypes(include='float64').columns\n",
        "float_columns"
      ],
      "metadata": {
        "colab": {
          "base_uri": "https://localhost:8080/"
        },
        "id": "oEm12EmbZVdr",
        "outputId": "b579aab5-4265-4d86-e7da-400dfda64cc4"
      },
      "execution_count": 293,
      "outputs": [
        {
          "output_type": "execute_result",
          "data": {
            "text/plain": [
              "Index(['gender', 'car', 'reality', 'income_type', 'edu_type', 'family_type',\n",
              "       'house_type', 'occyp_type', 'begin_month', 'credit', 'YEAR_BIRTH',\n",
              "       'YEAR_EMPLOYED', 'MONTH_BIRTH', 'MONTH_EMPLOYED', 'WEEK_BIRTH',\n",
              "       'WEEK_EMPLOYED', 'No_work', 'famliy_num', 'income_year', 'income_mean',\n",
              "       'income_work', 'income_age'],\n",
              "      dtype='object')"
            ]
          },
          "metadata": {},
          "execution_count": 293
        }
      ]
    },
    {
      "cell_type": "code",
      "source": [
        "df"
      ],
      "metadata": {
        "colab": {
          "base_uri": "https://localhost:8080/",
          "height": 424
        },
        "id": "Ca0GQJ6mRc3R",
        "outputId": "0bfbd2aa-7dea-4932-8059-785ddb985259"
      },
      "execution_count": 142,
      "outputs": [
        {
          "output_type": "execute_result",
          "data": {
            "text/plain": [
              "       index  gender  reality  income_type  edu_type  family_type  house_type  \\\n",
              "0          0     0.0      0.0          0.0       1.0          1.0         2.0   \n",
              "1          1     0.0      1.0          0.0       4.0          0.0         1.0   \n",
              "2          2     1.0      1.0          4.0       1.0          1.0         1.0   \n",
              "3          3     0.0      1.0          0.0       4.0          1.0         1.0   \n",
              "4          4     0.0      1.0          2.0       1.0          1.0         1.0   \n",
              "...      ...     ...      ...          ...       ...          ...         ...   \n",
              "26452  26452     0.0      0.0          2.0       4.0          1.0         1.0   \n",
              "26453  26453     0.0      1.0          4.0       1.0          2.0         1.0   \n",
              "26454  26454     0.0      0.0          4.0       4.0          0.0         5.0   \n",
              "26455  26455     1.0      1.0          4.0       2.0          3.0         1.0   \n",
              "26456  26456     0.0      0.0          4.0       4.0          0.0         1.0   \n",
              "\n",
              "       occyp_type  begin_month  credit    ID  No_work  phones  famliy_num  \\\n",
              "0            17.0          6.0     1.0    56   9190.0       0    221131.0   \n",
              "1             8.0          5.0     1.0  1584   9840.0       0    260438.0   \n",
              "2            10.0         22.0     2.0  8101  14653.0       1    473540.0   \n",
              "3            14.0         37.0     0.0  1768  12996.0       1    219702.0   \n",
              "4            10.0         26.0     2.0  5164  12932.0       0    174659.0   \n",
              "...           ...          ...     ...   ...      ...     ...         ...   \n",
              "26452         3.0          2.0     1.0   599  10095.0       0    239080.0   \n",
              "26453        17.0         47.0     2.0  3222  12816.0       0    197794.0   \n",
              "26454         3.0         25.0     2.0  4608   8067.0       0    304615.0   \n",
              "26455         8.0         59.0     2.0  6545  10038.0       0    181271.0   \n",
              "26456        16.0          9.0     2.0   870  18556.0       0    101609.0   \n",
              "\n",
              "       income_year  income_mean  car_email  \n",
              "0       554.794521     0.915747        4.0  \n",
              "1       678.082192     0.950322        7.0  \n",
              "2      1232.876712     0.950289        9.0  \n",
              "3       554.794521     0.921703        7.0  \n",
              "4       431.506849     0.901757        7.0  \n",
              "...            ...          ...        ...  \n",
              "26452   616.438356     0.941108        8.0  \n",
              "26453   493.150685     0.910038        9.0  \n",
              "26454   801.369863     0.960228       14.0  \n",
              "26455   468.493151     0.943339       11.0  \n",
              "26456   221.917808     0.797173        9.0  \n",
              "\n",
              "[26457 rows x 17 columns]"
            ],
            "text/html": [
              "\n",
              "\n",
              "  <div id=\"df-0a7f1085-5830-4e8a-9277-3294a90398b6\">\n",
              "    <div class=\"colab-df-container\">\n",
              "      <div>\n",
              "<style scoped>\n",
              "    .dataframe tbody tr th:only-of-type {\n",
              "        vertical-align: middle;\n",
              "    }\n",
              "\n",
              "    .dataframe tbody tr th {\n",
              "        vertical-align: top;\n",
              "    }\n",
              "\n",
              "    .dataframe thead th {\n",
              "        text-align: right;\n",
              "    }\n",
              "</style>\n",
              "<table border=\"1\" class=\"dataframe\">\n",
              "  <thead>\n",
              "    <tr style=\"text-align: right;\">\n",
              "      <th></th>\n",
              "      <th>index</th>\n",
              "      <th>gender</th>\n",
              "      <th>reality</th>\n",
              "      <th>income_type</th>\n",
              "      <th>edu_type</th>\n",
              "      <th>family_type</th>\n",
              "      <th>house_type</th>\n",
              "      <th>occyp_type</th>\n",
              "      <th>begin_month</th>\n",
              "      <th>credit</th>\n",
              "      <th>ID</th>\n",
              "      <th>No_work</th>\n",
              "      <th>phones</th>\n",
              "      <th>famliy_num</th>\n",
              "      <th>income_year</th>\n",
              "      <th>income_mean</th>\n",
              "      <th>car_email</th>\n",
              "    </tr>\n",
              "  </thead>\n",
              "  <tbody>\n",
              "    <tr>\n",
              "      <th>0</th>\n",
              "      <td>0</td>\n",
              "      <td>0.0</td>\n",
              "      <td>0.0</td>\n",
              "      <td>0.0</td>\n",
              "      <td>1.0</td>\n",
              "      <td>1.0</td>\n",
              "      <td>2.0</td>\n",
              "      <td>17.0</td>\n",
              "      <td>6.0</td>\n",
              "      <td>1.0</td>\n",
              "      <td>56</td>\n",
              "      <td>9190.0</td>\n",
              "      <td>0</td>\n",
              "      <td>221131.0</td>\n",
              "      <td>554.794521</td>\n",
              "      <td>0.915747</td>\n",
              "      <td>4.0</td>\n",
              "    </tr>\n",
              "    <tr>\n",
              "      <th>1</th>\n",
              "      <td>1</td>\n",
              "      <td>0.0</td>\n",
              "      <td>1.0</td>\n",
              "      <td>0.0</td>\n",
              "      <td>4.0</td>\n",
              "      <td>0.0</td>\n",
              "      <td>1.0</td>\n",
              "      <td>8.0</td>\n",
              "      <td>5.0</td>\n",
              "      <td>1.0</td>\n",
              "      <td>1584</td>\n",
              "      <td>9840.0</td>\n",
              "      <td>0</td>\n",
              "      <td>260438.0</td>\n",
              "      <td>678.082192</td>\n",
              "      <td>0.950322</td>\n",
              "      <td>7.0</td>\n",
              "    </tr>\n",
              "    <tr>\n",
              "      <th>2</th>\n",
              "      <td>2</td>\n",
              "      <td>1.0</td>\n",
              "      <td>1.0</td>\n",
              "      <td>4.0</td>\n",
              "      <td>1.0</td>\n",
              "      <td>1.0</td>\n",
              "      <td>1.0</td>\n",
              "      <td>10.0</td>\n",
              "      <td>22.0</td>\n",
              "      <td>2.0</td>\n",
              "      <td>8101</td>\n",
              "      <td>14653.0</td>\n",
              "      <td>1</td>\n",
              "      <td>473540.0</td>\n",
              "      <td>1232.876712</td>\n",
              "      <td>0.950289</td>\n",
              "      <td>9.0</td>\n",
              "    </tr>\n",
              "    <tr>\n",
              "      <th>3</th>\n",
              "      <td>3</td>\n",
              "      <td>0.0</td>\n",
              "      <td>1.0</td>\n",
              "      <td>0.0</td>\n",
              "      <td>4.0</td>\n",
              "      <td>1.0</td>\n",
              "      <td>1.0</td>\n",
              "      <td>14.0</td>\n",
              "      <td>37.0</td>\n",
              "      <td>0.0</td>\n",
              "      <td>1768</td>\n",
              "      <td>12996.0</td>\n",
              "      <td>1</td>\n",
              "      <td>219702.0</td>\n",
              "      <td>554.794521</td>\n",
              "      <td>0.921703</td>\n",
              "      <td>7.0</td>\n",
              "    </tr>\n",
              "    <tr>\n",
              "      <th>4</th>\n",
              "      <td>4</td>\n",
              "      <td>0.0</td>\n",
              "      <td>1.0</td>\n",
              "      <td>2.0</td>\n",
              "      <td>1.0</td>\n",
              "      <td>1.0</td>\n",
              "      <td>1.0</td>\n",
              "      <td>10.0</td>\n",
              "      <td>26.0</td>\n",
              "      <td>2.0</td>\n",
              "      <td>5164</td>\n",
              "      <td>12932.0</td>\n",
              "      <td>0</td>\n",
              "      <td>174659.0</td>\n",
              "      <td>431.506849</td>\n",
              "      <td>0.901757</td>\n",
              "      <td>7.0</td>\n",
              "    </tr>\n",
              "    <tr>\n",
              "      <th>...</th>\n",
              "      <td>...</td>\n",
              "      <td>...</td>\n",
              "      <td>...</td>\n",
              "      <td>...</td>\n",
              "      <td>...</td>\n",
              "      <td>...</td>\n",
              "      <td>...</td>\n",
              "      <td>...</td>\n",
              "      <td>...</td>\n",
              "      <td>...</td>\n",
              "      <td>...</td>\n",
              "      <td>...</td>\n",
              "      <td>...</td>\n",
              "      <td>...</td>\n",
              "      <td>...</td>\n",
              "      <td>...</td>\n",
              "      <td>...</td>\n",
              "    </tr>\n",
              "    <tr>\n",
              "      <th>26452</th>\n",
              "      <td>26452</td>\n",
              "      <td>0.0</td>\n",
              "      <td>0.0</td>\n",
              "      <td>2.0</td>\n",
              "      <td>4.0</td>\n",
              "      <td>1.0</td>\n",
              "      <td>1.0</td>\n",
              "      <td>3.0</td>\n",
              "      <td>2.0</td>\n",
              "      <td>1.0</td>\n",
              "      <td>599</td>\n",
              "      <td>10095.0</td>\n",
              "      <td>0</td>\n",
              "      <td>239080.0</td>\n",
              "      <td>616.438356</td>\n",
              "      <td>0.941108</td>\n",
              "      <td>8.0</td>\n",
              "    </tr>\n",
              "    <tr>\n",
              "      <th>26453</th>\n",
              "      <td>26453</td>\n",
              "      <td>0.0</td>\n",
              "      <td>1.0</td>\n",
              "      <td>4.0</td>\n",
              "      <td>1.0</td>\n",
              "      <td>2.0</td>\n",
              "      <td>1.0</td>\n",
              "      <td>17.0</td>\n",
              "      <td>47.0</td>\n",
              "      <td>2.0</td>\n",
              "      <td>3222</td>\n",
              "      <td>12816.0</td>\n",
              "      <td>0</td>\n",
              "      <td>197794.0</td>\n",
              "      <td>493.150685</td>\n",
              "      <td>0.910038</td>\n",
              "      <td>9.0</td>\n",
              "    </tr>\n",
              "    <tr>\n",
              "      <th>26454</th>\n",
              "      <td>26454</td>\n",
              "      <td>0.0</td>\n",
              "      <td>0.0</td>\n",
              "      <td>4.0</td>\n",
              "      <td>4.0</td>\n",
              "      <td>0.0</td>\n",
              "      <td>5.0</td>\n",
              "      <td>3.0</td>\n",
              "      <td>25.0</td>\n",
              "      <td>2.0</td>\n",
              "      <td>4608</td>\n",
              "      <td>8067.0</td>\n",
              "      <td>0</td>\n",
              "      <td>304615.0</td>\n",
              "      <td>801.369863</td>\n",
              "      <td>0.960228</td>\n",
              "      <td>14.0</td>\n",
              "    </tr>\n",
              "    <tr>\n",
              "      <th>26455</th>\n",
              "      <td>26455</td>\n",
              "      <td>1.0</td>\n",
              "      <td>1.0</td>\n",
              "      <td>4.0</td>\n",
              "      <td>2.0</td>\n",
              "      <td>3.0</td>\n",
              "      <td>1.0</td>\n",
              "      <td>8.0</td>\n",
              "      <td>59.0</td>\n",
              "      <td>2.0</td>\n",
              "      <td>6545</td>\n",
              "      <td>10038.0</td>\n",
              "      <td>0</td>\n",
              "      <td>181271.0</td>\n",
              "      <td>468.493151</td>\n",
              "      <td>0.943339</td>\n",
              "      <td>11.0</td>\n",
              "    </tr>\n",
              "    <tr>\n",
              "      <th>26456</th>\n",
              "      <td>26456</td>\n",
              "      <td>0.0</td>\n",
              "      <td>0.0</td>\n",
              "      <td>4.0</td>\n",
              "      <td>4.0</td>\n",
              "      <td>0.0</td>\n",
              "      <td>1.0</td>\n",
              "      <td>16.0</td>\n",
              "      <td>9.0</td>\n",
              "      <td>2.0</td>\n",
              "      <td>870</td>\n",
              "      <td>18556.0</td>\n",
              "      <td>0</td>\n",
              "      <td>101609.0</td>\n",
              "      <td>221.917808</td>\n",
              "      <td>0.797173</td>\n",
              "      <td>9.0</td>\n",
              "    </tr>\n",
              "  </tbody>\n",
              "</table>\n",
              "<p>26457 rows × 17 columns</p>\n",
              "</div>\n",
              "      <button class=\"colab-df-convert\" onclick=\"convertToInteractive('df-0a7f1085-5830-4e8a-9277-3294a90398b6')\"\n",
              "              title=\"Convert this dataframe to an interactive table.\"\n",
              "              style=\"display:none;\">\n",
              "\n",
              "  <svg xmlns=\"http://www.w3.org/2000/svg\" height=\"24px\"viewBox=\"0 0 24 24\"\n",
              "       width=\"24px\">\n",
              "    <path d=\"M0 0h24v24H0V0z\" fill=\"none\"/>\n",
              "    <path d=\"M18.56 5.44l.94 2.06.94-2.06 2.06-.94-2.06-.94-.94-2.06-.94 2.06-2.06.94zm-11 1L8.5 8.5l.94-2.06 2.06-.94-2.06-.94L8.5 2.5l-.94 2.06-2.06.94zm10 10l.94 2.06.94-2.06 2.06-.94-2.06-.94-.94-2.06-.94 2.06-2.06.94z\"/><path d=\"M17.41 7.96l-1.37-1.37c-.4-.4-.92-.59-1.43-.59-.52 0-1.04.2-1.43.59L10.3 9.45l-7.72 7.72c-.78.78-.78 2.05 0 2.83L4 21.41c.39.39.9.59 1.41.59.51 0 1.02-.2 1.41-.59l7.78-7.78 2.81-2.81c.8-.78.8-2.07 0-2.86zM5.41 20L4 18.59l7.72-7.72 1.47 1.35L5.41 20z\"/>\n",
              "  </svg>\n",
              "      </button>\n",
              "\n",
              "\n",
              "\n",
              "    <div id=\"df-cdbc8000-45c5-4f0e-909d-53556135b73c\">\n",
              "      <button class=\"colab-df-quickchart\" onclick=\"quickchart('df-cdbc8000-45c5-4f0e-909d-53556135b73c')\"\n",
              "              title=\"Suggest charts.\"\n",
              "              style=\"display:none;\">\n",
              "\n",
              "<svg xmlns=\"http://www.w3.org/2000/svg\" height=\"24px\"viewBox=\"0 0 24 24\"\n",
              "     width=\"24px\">\n",
              "    <g>\n",
              "        <path d=\"M19 3H5c-1.1 0-2 .9-2 2v14c0 1.1.9 2 2 2h14c1.1 0 2-.9 2-2V5c0-1.1-.9-2-2-2zM9 17H7v-7h2v7zm4 0h-2V7h2v10zm4 0h-2v-4h2v4z\"/>\n",
              "    </g>\n",
              "</svg>\n",
              "      </button>\n",
              "    </div>\n",
              "\n",
              "<style>\n",
              "  .colab-df-quickchart {\n",
              "    background-color: #E8F0FE;\n",
              "    border: none;\n",
              "    border-radius: 50%;\n",
              "    cursor: pointer;\n",
              "    display: none;\n",
              "    fill: #1967D2;\n",
              "    height: 32px;\n",
              "    padding: 0 0 0 0;\n",
              "    width: 32px;\n",
              "  }\n",
              "\n",
              "  .colab-df-quickchart:hover {\n",
              "    background-color: #E2EBFA;\n",
              "    box-shadow: 0px 1px 2px rgba(60, 64, 67, 0.3), 0px 1px 3px 1px rgba(60, 64, 67, 0.15);\n",
              "    fill: #174EA6;\n",
              "  }\n",
              "\n",
              "  [theme=dark] .colab-df-quickchart {\n",
              "    background-color: #3B4455;\n",
              "    fill: #D2E3FC;\n",
              "  }\n",
              "\n",
              "  [theme=dark] .colab-df-quickchart:hover {\n",
              "    background-color: #434B5C;\n",
              "    box-shadow: 0px 1px 3px 1px rgba(0, 0, 0, 0.15);\n",
              "    filter: drop-shadow(0px 1px 2px rgba(0, 0, 0, 0.3));\n",
              "    fill: #FFFFFF;\n",
              "  }\n",
              "</style>\n",
              "\n",
              "    <script>\n",
              "      async function quickchart(key) {\n",
              "        const containerElement = document.querySelector('#' + key);\n",
              "        const charts = await google.colab.kernel.invokeFunction(\n",
              "            'suggestCharts', [key], {});\n",
              "      }\n",
              "    </script>\n",
              "\n",
              "      <script>\n",
              "\n",
              "function displayQuickchartButton(domScope) {\n",
              "  let quickchartButtonEl =\n",
              "    domScope.querySelector('#df-cdbc8000-45c5-4f0e-909d-53556135b73c button.colab-df-quickchart');\n",
              "  quickchartButtonEl.style.display =\n",
              "    google.colab.kernel.accessAllowed ? 'block' : 'none';\n",
              "}\n",
              "\n",
              "        displayQuickchartButton(document);\n",
              "      </script>\n",
              "      <style>\n",
              "    .colab-df-container {\n",
              "      display:flex;\n",
              "      flex-wrap:wrap;\n",
              "      gap: 12px;\n",
              "    }\n",
              "\n",
              "    .colab-df-convert {\n",
              "      background-color: #E8F0FE;\n",
              "      border: none;\n",
              "      border-radius: 50%;\n",
              "      cursor: pointer;\n",
              "      display: none;\n",
              "      fill: #1967D2;\n",
              "      height: 32px;\n",
              "      padding: 0 0 0 0;\n",
              "      width: 32px;\n",
              "    }\n",
              "\n",
              "    .colab-df-convert:hover {\n",
              "      background-color: #E2EBFA;\n",
              "      box-shadow: 0px 1px 2px rgba(60, 64, 67, 0.3), 0px 1px 3px 1px rgba(60, 64, 67, 0.15);\n",
              "      fill: #174EA6;\n",
              "    }\n",
              "\n",
              "    [theme=dark] .colab-df-convert {\n",
              "      background-color: #3B4455;\n",
              "      fill: #D2E3FC;\n",
              "    }\n",
              "\n",
              "    [theme=dark] .colab-df-convert:hover {\n",
              "      background-color: #434B5C;\n",
              "      box-shadow: 0px 1px 3px 1px rgba(0, 0, 0, 0.15);\n",
              "      filter: drop-shadow(0px 1px 2px rgba(0, 0, 0, 0.3));\n",
              "      fill: #FFFFFF;\n",
              "    }\n",
              "  </style>\n",
              "\n",
              "      <script>\n",
              "        const buttonEl =\n",
              "          document.querySelector('#df-0a7f1085-5830-4e8a-9277-3294a90398b6 button.colab-df-convert');\n",
              "        buttonEl.style.display =\n",
              "          google.colab.kernel.accessAllowed ? 'block' : 'none';\n",
              "\n",
              "        async function convertToInteractive(key) {\n",
              "          const element = document.querySelector('#df-0a7f1085-5830-4e8a-9277-3294a90398b6');\n",
              "          const dataTable =\n",
              "            await google.colab.kernel.invokeFunction('convertToInteractive',\n",
              "                                                     [key], {});\n",
              "          if (!dataTable) return;\n",
              "\n",
              "          const docLinkHtml = 'Like what you see? Visit the ' +\n",
              "            '<a target=\"_blank\" href=https://colab.research.google.com/notebooks/data_table.ipynb>data table notebook</a>'\n",
              "            + ' to learn more about interactive tables.';\n",
              "          element.innerHTML = '';\n",
              "          dataTable['output_type'] = 'display_data';\n",
              "          await google.colab.output.renderOutput(dataTable, element);\n",
              "          const docLink = document.createElement('div');\n",
              "          docLink.innerHTML = docLinkHtml;\n",
              "          element.appendChild(docLink);\n",
              "        }\n",
              "      </script>\n",
              "    </div>\n",
              "  </div>\n"
            ]
          },
          "metadata": {},
          "execution_count": 142
        }
      ]
    },
    {
      "cell_type": "code",
      "source": [
        "for i in float_columns:\n",
        "    df[i] = df[i].astype(int)"
      ],
      "metadata": {
        "id": "_y_qNgL38XS5"
      },
      "execution_count": 253,
      "outputs": []
    },
    {
      "cell_type": "code",
      "source": [
        "int_columns = df.select_dtypes(include='int').columns\n",
        "int_columns"
      ],
      "metadata": {
        "colab": {
          "base_uri": "https://localhost:8080/"
        },
        "id": "hp4ojx5s8fn-",
        "outputId": "13709ef0-d440-4a47-9b24-fa89800a283d"
      },
      "execution_count": 255,
      "outputs": [
        {
          "output_type": "execute_result",
          "data": {
            "text/plain": [
              "Index(['index', 'gender', 'car', 'reality', 'income_type', 'edu_type',\n",
              "       'family_type', 'house_type', 'email', 'occyp_type', 'begin_month',\n",
              "       'credit', 'ID', 'YEAR_BIRTH', 'YEAR_EMPLOYED', 'MONTH_BIRTH',\n",
              "       'MONTH_EMPLOYED', 'WEEK_BIRTH', 'WEEK_EMPLOYED', 'No_work', 'phones',\n",
              "       'famliy_num', 'income_year', 'income_mean', 'income_work'],\n",
              "      dtype='object')"
            ]
          },
          "metadata": {},
          "execution_count": 255
        }
      ]
    },
    {
      "cell_type": "markdown",
      "source": [
        "#### catboost 실험"
      ],
      "metadata": {
        "id": "kTUXepOi-czn"
      }
    },
    {
      "cell_type": "code",
      "source": [
        "!gdown 1RLdtGa4N62Q_5XFp0OOGTR5iVFObxjme"
      ],
      "metadata": {
        "colab": {
          "base_uri": "https://localhost:8080/"
        },
        "id": "n7S1Yzts8zYx",
        "outputId": "41886761-9903-43b7-9440-8f043ad4ed2b"
      },
      "execution_count": 260,
      "outputs": [
        {
          "output_type": "stream",
          "name": "stdout",
          "text": [
            "Downloading...\n",
            "From: https://drive.google.com/uc?id=1RLdtGa4N62Q_5XFp0OOGTR5iVFObxjme\n",
            "To: /content/sample_submission.csv\n",
            "\r  0% 0.00/120k [00:00<?, ?B/s]\r100% 120k/120k [00:00<00:00, 99.3MB/s]\n"
          ]
        }
      ]
    },
    {
      "cell_type": "code",
      "source": [
        "test = pd.read_csv(\"/content/sample_submission.csv\")"
      ],
      "metadata": {
        "id": "-gX6BTnT8_nt"
      },
      "execution_count": 261,
      "outputs": []
    },
    {
      "cell_type": "code",
      "source": [
        "from sklearn.cluster import KMeans\n",
        "from catboost import CatBoostClassifier, Pool\n",
        "from sklearn.metrics import log_loss\n",
        "\n",
        "n_est = 2000\n",
        "seed = 42\n",
        "n_fold = 30\n",
        "n_class = 3\n",
        "\n",
        "X = df.drop('credit', axis = 1)\n",
        "y = df['credit']\n",
        "X_test = test"
      ],
      "metadata": {
        "id": "NAfv9PNd7gWH"
      },
      "execution_count": 264,
      "outputs": []
    },
    {
      "cell_type": "code",
      "source": [
        "skfold = StratifiedKFold(n_splits=n_fold, shuffle=True, random_state=seed)\n",
        "folds=[]\n",
        "for train_idx, valid_idx in skfold.split(X, y):\n",
        "        folds.append((train_idx, valid_idx))\n",
        "\n",
        "cat_pred = np.zeros((X.shape[0], n_class))\n",
        "cat_pred_test = np.zeros((X_test.shape[0], n_class))\n",
        "cat_cols = ['income_type', 'edu_type', 'family_type', 'house_type', 'occyp_type', 'ID']\n",
        "for fold in range(n_fold):\n",
        "  print(f'\\n----------------- Fold {fold} -----------------\\n')\n",
        "  train_idx, valid_idx = folds[fold]\n",
        "  X_train, X_valid, y_train, y_valid = X.iloc[train_idx], X.iloc[valid_idx], y[train_idx], y[valid_idx]\n",
        "  train_data = Pool(data=X_train, label=y_train, cat_features=cat_cols)\n",
        "  valid_data = Pool(data=X_valid, label=y_valid, cat_features=cat_cols)\n",
        "\n",
        "  model_cat = CatBoostClassifier()\n",
        "  model_cat.fit(train_data, eval_set=valid_data, use_best_model=True, early_stopping_rounds=100, verbose=100)\n",
        "\n",
        "  cat_pred[valid_idx] = model_cat.predict_proba(X_valid)\n",
        "  cat_pred_test += model_cat.predict_proba(X_test) / n_fold\n",
        "  print(f'CV Log Loss Score: {log_loss(y_valid, cat_pred[valid_idx]):.6f}')\n",
        "\n",
        "print(f'\\tLog Loss: {log_loss(y, cat_pred):.6f}')\n"
      ],
      "metadata": {
        "colab": {
          "base_uri": "https://localhost:8080/",
          "height": 649
        },
        "id": "nhxuJq637iyk",
        "outputId": "673d9383-18a5-4c22-e514-e4cd0305056c"
      },
      "execution_count": 265,
      "outputs": [
        {
          "output_type": "stream",
          "name": "stdout",
          "text": [
            "\n",
            "----------------- Fold 0 -----------------\n",
            "\n",
            "Learning rate set to 0.115208\n",
            "0:\tlearn: 1.0338151\ttest: 1.0319414\tbest: 1.0319414 (0)\ttotal: 173ms\tremaining: 2m 52s\n",
            "100:\tlearn: 0.7034774\ttest: 0.6533738\tbest: 0.6533738 (100)\ttotal: 11s\tremaining: 1m 37s\n",
            "200:\tlearn: 0.6862332\ttest: 0.6505682\tbest: 0.6503129 (168)\ttotal: 21s\tremaining: 1m 23s\n",
            "Stopped by overfitting detector  (100 iterations wait)\n",
            "\n",
            "bestTest = 0.6503129254\n",
            "bestIteration = 168\n",
            "\n",
            "Shrink model to first 169 iterations.\n"
          ]
        },
        {
          "output_type": "error",
          "ename": "CatBoostError",
          "evalue": "ignored",
          "traceback": [
            "\u001b[0;31m---------------------------------------------------------------------------\u001b[0m",
            "\u001b[0;31mCatBoostError\u001b[0m                             Traceback (most recent call last)",
            "\u001b[0;32m<ipython-input-265-8fe32425a038>\u001b[0m in \u001b[0;36m<cell line: 9>\u001b[0;34m()\u001b[0m\n\u001b[1;32m     18\u001b[0m \u001b[0;34m\u001b[0m\u001b[0m\n\u001b[1;32m     19\u001b[0m   \u001b[0mcat_pred\u001b[0m\u001b[0;34m[\u001b[0m\u001b[0mvalid_idx\u001b[0m\u001b[0;34m]\u001b[0m \u001b[0;34m=\u001b[0m \u001b[0mmodel_cat\u001b[0m\u001b[0;34m.\u001b[0m\u001b[0mpredict_proba\u001b[0m\u001b[0;34m(\u001b[0m\u001b[0mX_valid\u001b[0m\u001b[0;34m)\u001b[0m\u001b[0;34m\u001b[0m\u001b[0;34m\u001b[0m\u001b[0m\n\u001b[0;32m---> 20\u001b[0;31m   \u001b[0mcat_pred_test\u001b[0m \u001b[0;34m+=\u001b[0m \u001b[0mmodel_cat\u001b[0m\u001b[0;34m.\u001b[0m\u001b[0mpredict_proba\u001b[0m\u001b[0;34m(\u001b[0m\u001b[0mX_test\u001b[0m\u001b[0;34m)\u001b[0m \u001b[0;34m/\u001b[0m \u001b[0mn_fold\u001b[0m\u001b[0;34m\u001b[0m\u001b[0;34m\u001b[0m\u001b[0m\n\u001b[0m\u001b[1;32m     21\u001b[0m   \u001b[0mprint\u001b[0m\u001b[0;34m(\u001b[0m\u001b[0;34mf'CV Log Loss Score: {log_loss(y_valid, cat_pred[valid_idx]):.6f}'\u001b[0m\u001b[0;34m)\u001b[0m\u001b[0;34m\u001b[0m\u001b[0;34m\u001b[0m\u001b[0m\n\u001b[1;32m     22\u001b[0m \u001b[0;34m\u001b[0m\u001b[0m\n",
            "\u001b[0;32m/usr/local/lib/python3.10/dist-packages/catboost/core.py\u001b[0m in \u001b[0;36mpredict_proba\u001b[0;34m(self, X, ntree_start, ntree_end, thread_count, verbose, task_type)\u001b[0m\n\u001b[1;32m   5223\u001b[0m                 \u001b[0;32mwith\u001b[0m \u001b[0mprobability\u001b[0m \u001b[0;32mfor\u001b[0m \u001b[0mevery\u001b[0m \u001b[0;32mclass\u001b[0m \u001b[0;32mfor\u001b[0m \u001b[0meach\u001b[0m \u001b[0mobject\u001b[0m\u001b[0;34m.\u001b[0m\u001b[0;34m\u001b[0m\u001b[0;34m\u001b[0m\u001b[0m\n\u001b[1;32m   5224\u001b[0m         \"\"\"\n\u001b[0;32m-> 5225\u001b[0;31m         \u001b[0;32mreturn\u001b[0m \u001b[0mself\u001b[0m\u001b[0;34m.\u001b[0m\u001b[0m_predict\u001b[0m\u001b[0;34m(\u001b[0m\u001b[0mX\u001b[0m\u001b[0;34m,\u001b[0m \u001b[0;34m'Probability'\u001b[0m\u001b[0;34m,\u001b[0m \u001b[0mntree_start\u001b[0m\u001b[0;34m,\u001b[0m \u001b[0mntree_end\u001b[0m\u001b[0;34m,\u001b[0m \u001b[0mthread_count\u001b[0m\u001b[0;34m,\u001b[0m \u001b[0mverbose\u001b[0m\u001b[0;34m,\u001b[0m \u001b[0;34m'predict_proba'\u001b[0m\u001b[0;34m,\u001b[0m \u001b[0mtask_type\u001b[0m\u001b[0;34m)\u001b[0m\u001b[0;34m\u001b[0m\u001b[0;34m\u001b[0m\u001b[0m\n\u001b[0m\u001b[1;32m   5226\u001b[0m \u001b[0;34m\u001b[0m\u001b[0m\n\u001b[1;32m   5227\u001b[0m \u001b[0;34m\u001b[0m\u001b[0m\n",
            "\u001b[0;32m/usr/local/lib/python3.10/dist-packages/catboost/core.py\u001b[0m in \u001b[0;36m_predict\u001b[0;34m(self, data, prediction_type, ntree_start, ntree_end, thread_count, verbose, parent_method_name, task_type)\u001b[0m\n\u001b[1;32m   2541\u001b[0m         \u001b[0;32mif\u001b[0m \u001b[0mverbose\u001b[0m \u001b[0;32mis\u001b[0m \u001b[0;32mNone\u001b[0m\u001b[0;34m:\u001b[0m\u001b[0;34m\u001b[0m\u001b[0;34m\u001b[0m\u001b[0m\n\u001b[1;32m   2542\u001b[0m             \u001b[0mverbose\u001b[0m \u001b[0;34m=\u001b[0m \u001b[0;32mFalse\u001b[0m\u001b[0;34m\u001b[0m\u001b[0;34m\u001b[0m\u001b[0m\n\u001b[0;32m-> 2543\u001b[0;31m         \u001b[0mdata\u001b[0m\u001b[0;34m,\u001b[0m \u001b[0mdata_is_single_object\u001b[0m \u001b[0;34m=\u001b[0m \u001b[0mself\u001b[0m\u001b[0;34m.\u001b[0m\u001b[0m_process_predict_input_data\u001b[0m\u001b[0;34m(\u001b[0m\u001b[0mdata\u001b[0m\u001b[0;34m,\u001b[0m \u001b[0mparent_method_name\u001b[0m\u001b[0;34m,\u001b[0m \u001b[0mthread_count\u001b[0m\u001b[0;34m)\u001b[0m\u001b[0;34m\u001b[0m\u001b[0;34m\u001b[0m\u001b[0m\n\u001b[0m\u001b[1;32m   2544\u001b[0m         \u001b[0mself\u001b[0m\u001b[0;34m.\u001b[0m\u001b[0m_validate_prediction_type\u001b[0m\u001b[0;34m(\u001b[0m\u001b[0mprediction_type\u001b[0m\u001b[0;34m)\u001b[0m\u001b[0;34m\u001b[0m\u001b[0;34m\u001b[0m\u001b[0m\n\u001b[1;32m   2545\u001b[0m \u001b[0;34m\u001b[0m\u001b[0m\n",
            "\u001b[0;32m/usr/local/lib/python3.10/dist-packages/catboost/core.py\u001b[0m in \u001b[0;36m_process_predict_input_data\u001b[0;34m(self, data, parent_method_name, thread_count, label)\u001b[0m\n\u001b[1;32m   2521\u001b[0m         \u001b[0mis_single_object\u001b[0m \u001b[0;34m=\u001b[0m \u001b[0m_is_data_single_object\u001b[0m\u001b[0;34m(\u001b[0m\u001b[0mdata\u001b[0m\u001b[0;34m)\u001b[0m\u001b[0;34m\u001b[0m\u001b[0;34m\u001b[0m\u001b[0m\n\u001b[1;32m   2522\u001b[0m         \u001b[0;32mif\u001b[0m \u001b[0;32mnot\u001b[0m \u001b[0misinstance\u001b[0m\u001b[0;34m(\u001b[0m\u001b[0mdata\u001b[0m\u001b[0;34m,\u001b[0m \u001b[0mPool\u001b[0m\u001b[0;34m)\u001b[0m\u001b[0;34m:\u001b[0m\u001b[0;34m\u001b[0m\u001b[0;34m\u001b[0m\u001b[0m\n\u001b[0;32m-> 2523\u001b[0;31m             data = Pool(\n\u001b[0m\u001b[1;32m   2524\u001b[0m                 \u001b[0mdata\u001b[0m\u001b[0;34m=\u001b[0m\u001b[0;34m[\u001b[0m\u001b[0mdata\u001b[0m\u001b[0;34m]\u001b[0m \u001b[0;32mif\u001b[0m \u001b[0mis_single_object\u001b[0m \u001b[0;32melse\u001b[0m \u001b[0mdata\u001b[0m\u001b[0;34m,\u001b[0m\u001b[0;34m\u001b[0m\u001b[0;34m\u001b[0m\u001b[0m\n\u001b[1;32m   2525\u001b[0m                 \u001b[0mlabel\u001b[0m\u001b[0;34m=\u001b[0m\u001b[0mlabel\u001b[0m\u001b[0;34m,\u001b[0m\u001b[0;34m\u001b[0m\u001b[0;34m\u001b[0m\u001b[0m\n",
            "\u001b[0;32m/usr/local/lib/python3.10/dist-packages/catboost/core.py\u001b[0m in \u001b[0;36m__init__\u001b[0;34m(self, data, label, cat_features, text_features, embedding_features, embedding_features_data, column_description, pairs, delimiter, has_header, ignore_csv_quoting, weight, group_id, group_weight, subgroup_id, pairs_weight, baseline, timestamp, feature_names, feature_tags, thread_count, log_cout, log_cerr)\u001b[0m\n\u001b[1;32m    790\u001b[0m                     )\n\u001b[1;32m    791\u001b[0m \u001b[0;34m\u001b[0m\u001b[0m\n\u001b[0;32m--> 792\u001b[0;31m                 self._init(data, label, cat_features, text_features, embedding_features, embedding_features_data, pairs, weight,\n\u001b[0m\u001b[1;32m    793\u001b[0m                            group_id, group_weight, subgroup_id, pairs_weight, baseline, timestamp, feature_names, feature_tags, thread_count)\n\u001b[1;32m    794\u001b[0m         \u001b[0msuper\u001b[0m\u001b[0;34m(\u001b[0m\u001b[0mPool\u001b[0m\u001b[0;34m,\u001b[0m \u001b[0mself\u001b[0m\u001b[0;34m)\u001b[0m\u001b[0;34m.\u001b[0m\u001b[0m__init__\u001b[0m\u001b[0;34m(\u001b[0m\u001b[0;34m)\u001b[0m\u001b[0;34m\u001b[0m\u001b[0;34m\u001b[0m\u001b[0m\n",
            "\u001b[0;32m/usr/local/lib/python3.10/dist-packages/catboost/core.py\u001b[0m in \u001b[0;36m_init\u001b[0;34m(self, data, label, cat_features, text_features, embedding_features, embedding_features_data, pairs, weight, group_id, group_weight, subgroup_id, pairs_weight, baseline, timestamp, feature_names, feature_tags, thread_count)\u001b[0m\n\u001b[1;32m   1371\u001b[0m             \u001b[0mcat_features\u001b[0m \u001b[0;34m=\u001b[0m \u001b[0m_get_features_indices\u001b[0m\u001b[0;34m(\u001b[0m\u001b[0mcat_features\u001b[0m\u001b[0;34m,\u001b[0m \u001b[0mfeature_names\u001b[0m\u001b[0;34m)\u001b[0m\u001b[0;34m\u001b[0m\u001b[0;34m\u001b[0m\u001b[0m\n\u001b[1;32m   1372\u001b[0m             \u001b[0mself\u001b[0m\u001b[0;34m.\u001b[0m\u001b[0m_check_string_feature_type\u001b[0m\u001b[0;34m(\u001b[0m\u001b[0mcat_features\u001b[0m\u001b[0;34m,\u001b[0m \u001b[0;34m'cat_features'\u001b[0m\u001b[0;34m)\u001b[0m\u001b[0;34m\u001b[0m\u001b[0;34m\u001b[0m\u001b[0m\n\u001b[0;32m-> 1373\u001b[0;31m             \u001b[0mself\u001b[0m\u001b[0;34m.\u001b[0m\u001b[0m_check_string_feature_value\u001b[0m\u001b[0;34m(\u001b[0m\u001b[0mcat_features\u001b[0m\u001b[0;34m,\u001b[0m \u001b[0mfeatures_count\u001b[0m\u001b[0;34m,\u001b[0m \u001b[0;34m'cat_features'\u001b[0m\u001b[0;34m)\u001b[0m\u001b[0;34m\u001b[0m\u001b[0;34m\u001b[0m\u001b[0m\n\u001b[0m\u001b[1;32m   1374\u001b[0m         \u001b[0;32mif\u001b[0m \u001b[0mtext_features\u001b[0m \u001b[0;32mis\u001b[0m \u001b[0;32mnot\u001b[0m \u001b[0;32mNone\u001b[0m\u001b[0;34m:\u001b[0m\u001b[0;34m\u001b[0m\u001b[0;34m\u001b[0m\u001b[0m\n\u001b[1;32m   1375\u001b[0m             \u001b[0mtext_features\u001b[0m \u001b[0;34m=\u001b[0m \u001b[0m_get_features_indices\u001b[0m\u001b[0;34m(\u001b[0m\u001b[0mtext_features\u001b[0m\u001b[0;34m,\u001b[0m \u001b[0mfeature_names\u001b[0m\u001b[0;34m)\u001b[0m\u001b[0;34m\u001b[0m\u001b[0;34m\u001b[0m\u001b[0m\n",
            "\u001b[0;32m/usr/local/lib/python3.10/dist-packages/catboost/core.py\u001b[0m in \u001b[0;36m_check_string_feature_value\u001b[0;34m(self, features, features_count, features_name)\u001b[0m\n\u001b[1;32m    836\u001b[0m                 \u001b[0;32mraise\u001b[0m \u001b[0mCatBoostError\u001b[0m\u001b[0;34m(\u001b[0m\u001b[0;34m\"Invalid {}[{}] = {} value type={}: must be int().\"\u001b[0m\u001b[0;34m.\u001b[0m\u001b[0mformat\u001b[0m\u001b[0;34m(\u001b[0m\u001b[0mfeatures_name\u001b[0m\u001b[0;34m,\u001b[0m \u001b[0mindx\u001b[0m\u001b[0;34m,\u001b[0m \u001b[0mfeature\u001b[0m\u001b[0;34m,\u001b[0m \u001b[0mtype\u001b[0m\u001b[0;34m(\u001b[0m\u001b[0mfeature\u001b[0m\u001b[0;34m)\u001b[0m\u001b[0;34m)\u001b[0m\u001b[0;34m)\u001b[0m\u001b[0;34m\u001b[0m\u001b[0;34m\u001b[0m\u001b[0m\n\u001b[1;32m    837\u001b[0m             \u001b[0;32mif\u001b[0m \u001b[0mfeature\u001b[0m \u001b[0;34m>=\u001b[0m \u001b[0mfeatures_count\u001b[0m\u001b[0;34m:\u001b[0m\u001b[0;34m\u001b[0m\u001b[0;34m\u001b[0m\u001b[0m\n\u001b[0;32m--> 838\u001b[0;31m                 \u001b[0;32mraise\u001b[0m \u001b[0mCatBoostError\u001b[0m\u001b[0;34m(\u001b[0m\u001b[0;34m\"Invalid {}[{}] = {} value: index must be < {}.\"\u001b[0m\u001b[0;34m.\u001b[0m\u001b[0mformat\u001b[0m\u001b[0;34m(\u001b[0m\u001b[0mfeatures_name\u001b[0m\u001b[0;34m,\u001b[0m \u001b[0mindx\u001b[0m\u001b[0;34m,\u001b[0m \u001b[0mfeature\u001b[0m\u001b[0;34m,\u001b[0m \u001b[0mfeatures_count\u001b[0m\u001b[0;34m)\u001b[0m\u001b[0;34m)\u001b[0m\u001b[0;34m\u001b[0m\u001b[0;34m\u001b[0m\u001b[0m\n\u001b[0m\u001b[1;32m    839\u001b[0m \u001b[0;34m\u001b[0m\u001b[0m\n\u001b[1;32m    840\u001b[0m     \u001b[0;32mdef\u001b[0m \u001b[0m_check_pairs_type\u001b[0m\u001b[0;34m(\u001b[0m\u001b[0mself\u001b[0m\u001b[0;34m,\u001b[0m \u001b[0mpairs\u001b[0m\u001b[0;34m)\u001b[0m\u001b[0;34m:\u001b[0m\u001b[0;34m\u001b[0m\u001b[0;34m\u001b[0m\u001b[0m\n",
            "\u001b[0;31mCatBoostError\u001b[0m: Invalid cat_features[0] = 4 value: index must be < 4."
          ]
        }
      ]
    },
    {
      "cell_type": "code",
      "execution_count": 239,
      "metadata": {
        "colab": {
          "base_uri": "https://localhost:8080/",
          "height": 488
        },
        "id": "e8WKRmiIQibc",
        "outputId": "0752e6d6-d5dd-489f-8221-80d10ef44322"
      },
      "outputs": [
        {
          "output_type": "execute_result",
          "data": {
            "text/plain": [
              "       index  gender  car  reality  income_type  edu_type  family_type  \\\n",
              "0          0     0.0  0.0      0.0          0.0       1.0          1.0   \n",
              "1          1     0.0  0.0      1.0          0.0       4.0          0.0   \n",
              "2          2     1.0  1.0      1.0          4.0       1.0          1.0   \n",
              "3          3     0.0  0.0      1.0          0.0       4.0          1.0   \n",
              "4          4     0.0  1.0      1.0          2.0       1.0          1.0   \n",
              "...      ...     ...  ...      ...          ...       ...          ...   \n",
              "26452  26452     0.0  0.0      0.0          2.0       4.0          1.0   \n",
              "26453  26453     0.0  0.0      1.0          4.0       1.0          2.0   \n",
              "26454  26454     0.0  1.0      0.0          4.0       4.0          0.0   \n",
              "26455  26455     1.0  0.0      1.0          4.0       2.0          3.0   \n",
              "26456  26456     0.0  0.0      0.0          4.0       4.0          0.0   \n",
              "\n",
              "       house_type  email  occyp_type  ...  MONTH_BIRTH  MONTH_EMPLOYED  \\\n",
              "0             2.0      0        17.0  ...  1158.250000      392.416667   \n",
              "1             1.0      1         8.0  ...   948.333333      128.333333   \n",
              "2             1.0      0        10.0  ...  1590.583333      369.500000   \n",
              "3             1.0      0        14.0  ...  1257.333333      174.333333   \n",
              "4             1.0      0        10.0  ...  1253.083333      175.416667   \n",
              "...           ...    ...         ...  ...          ...             ...   \n",
              "26452         1.0      0         3.0  ...  1006.583333      165.333333   \n",
              "26453         1.0      0        17.0  ...  1274.250000      206.250000   \n",
              "26454         5.0      0         3.0  ...   840.166667      167.916667   \n",
              "26455         1.0      0         8.0  ...   845.416667        8.916667   \n",
              "26456         1.0      0        16.0  ...  1630.750000       84.416667   \n",
              "\n",
              "        WEEK_BIRTH  WEEK_EMPLOYED  No_work  phones  famliy_num  income_year  \\\n",
              "0      1158.250000     392.416667   9190.0       0    221131.0   554.794521   \n",
              "1       948.333333     128.333333   9840.0       0    260438.0   678.082192   \n",
              "2      1590.583333     369.500000  14653.0       1    473540.0  1232.876712   \n",
              "3      1257.333333     174.333333  12996.0       1    219702.0   554.794521   \n",
              "4      1253.083333     175.416667  12932.0       0    174659.0   431.506849   \n",
              "...            ...            ...      ...     ...         ...          ...   \n",
              "26452  1006.583333     165.333333  10095.0       0    239080.0   616.438356   \n",
              "26453  1274.250000     206.250000  12816.0       0    197794.0   493.150685   \n",
              "26454   840.166667     167.916667   8067.0       0    304615.0   801.369863   \n",
              "26455   845.416667       8.916667  10038.0       0    181271.0   468.493151   \n",
              "26456  1630.750000      84.416667  18556.0       0    101609.0   221.917808   \n",
              "\n",
              "       income_mean  income_work  \n",
              "0         0.915747    43.002761  \n",
              "1         0.950322   160.714286  \n",
              "2         0.950289   101.488498  \n",
              "3         0.921703    96.797323  \n",
              "4         0.901757    74.821853  \n",
              "...            ...          ...  \n",
              "26452     0.941108   113.407258  \n",
              "26453     0.910038    72.727273  \n",
              "26454     0.960228   145.161290  \n",
              "26455     0.943339  1598.130841  \n",
              "26456     0.797173    79.960513  \n",
              "\n",
              "[26457 rows x 25 columns]"
            ],
            "text/html": [
              "\n",
              "\n",
              "  <div id=\"df-b02db89a-5a7a-45ea-bfa7-32f0fbc51ee5\">\n",
              "    <div class=\"colab-df-container\">\n",
              "      <div>\n",
              "<style scoped>\n",
              "    .dataframe tbody tr th:only-of-type {\n",
              "        vertical-align: middle;\n",
              "    }\n",
              "\n",
              "    .dataframe tbody tr th {\n",
              "        vertical-align: top;\n",
              "    }\n",
              "\n",
              "    .dataframe thead th {\n",
              "        text-align: right;\n",
              "    }\n",
              "</style>\n",
              "<table border=\"1\" class=\"dataframe\">\n",
              "  <thead>\n",
              "    <tr style=\"text-align: right;\">\n",
              "      <th></th>\n",
              "      <th>index</th>\n",
              "      <th>gender</th>\n",
              "      <th>car</th>\n",
              "      <th>reality</th>\n",
              "      <th>income_type</th>\n",
              "      <th>edu_type</th>\n",
              "      <th>family_type</th>\n",
              "      <th>house_type</th>\n",
              "      <th>email</th>\n",
              "      <th>occyp_type</th>\n",
              "      <th>...</th>\n",
              "      <th>MONTH_BIRTH</th>\n",
              "      <th>MONTH_EMPLOYED</th>\n",
              "      <th>WEEK_BIRTH</th>\n",
              "      <th>WEEK_EMPLOYED</th>\n",
              "      <th>No_work</th>\n",
              "      <th>phones</th>\n",
              "      <th>famliy_num</th>\n",
              "      <th>income_year</th>\n",
              "      <th>income_mean</th>\n",
              "      <th>income_work</th>\n",
              "    </tr>\n",
              "  </thead>\n",
              "  <tbody>\n",
              "    <tr>\n",
              "      <th>0</th>\n",
              "      <td>0</td>\n",
              "      <td>0.0</td>\n",
              "      <td>0.0</td>\n",
              "      <td>0.0</td>\n",
              "      <td>0.0</td>\n",
              "      <td>1.0</td>\n",
              "      <td>1.0</td>\n",
              "      <td>2.0</td>\n",
              "      <td>0</td>\n",
              "      <td>17.0</td>\n",
              "      <td>...</td>\n",
              "      <td>1158.250000</td>\n",
              "      <td>392.416667</td>\n",
              "      <td>1158.250000</td>\n",
              "      <td>392.416667</td>\n",
              "      <td>9190.0</td>\n",
              "      <td>0</td>\n",
              "      <td>221131.0</td>\n",
              "      <td>554.794521</td>\n",
              "      <td>0.915747</td>\n",
              "      <td>43.002761</td>\n",
              "    </tr>\n",
              "    <tr>\n",
              "      <th>1</th>\n",
              "      <td>1</td>\n",
              "      <td>0.0</td>\n",
              "      <td>0.0</td>\n",
              "      <td>1.0</td>\n",
              "      <td>0.0</td>\n",
              "      <td>4.0</td>\n",
              "      <td>0.0</td>\n",
              "      <td>1.0</td>\n",
              "      <td>1</td>\n",
              "      <td>8.0</td>\n",
              "      <td>...</td>\n",
              "      <td>948.333333</td>\n",
              "      <td>128.333333</td>\n",
              "      <td>948.333333</td>\n",
              "      <td>128.333333</td>\n",
              "      <td>9840.0</td>\n",
              "      <td>0</td>\n",
              "      <td>260438.0</td>\n",
              "      <td>678.082192</td>\n",
              "      <td>0.950322</td>\n",
              "      <td>160.714286</td>\n",
              "    </tr>\n",
              "    <tr>\n",
              "      <th>2</th>\n",
              "      <td>2</td>\n",
              "      <td>1.0</td>\n",
              "      <td>1.0</td>\n",
              "      <td>1.0</td>\n",
              "      <td>4.0</td>\n",
              "      <td>1.0</td>\n",
              "      <td>1.0</td>\n",
              "      <td>1.0</td>\n",
              "      <td>0</td>\n",
              "      <td>10.0</td>\n",
              "      <td>...</td>\n",
              "      <td>1590.583333</td>\n",
              "      <td>369.500000</td>\n",
              "      <td>1590.583333</td>\n",
              "      <td>369.500000</td>\n",
              "      <td>14653.0</td>\n",
              "      <td>1</td>\n",
              "      <td>473540.0</td>\n",
              "      <td>1232.876712</td>\n",
              "      <td>0.950289</td>\n",
              "      <td>101.488498</td>\n",
              "    </tr>\n",
              "    <tr>\n",
              "      <th>3</th>\n",
              "      <td>3</td>\n",
              "      <td>0.0</td>\n",
              "      <td>0.0</td>\n",
              "      <td>1.0</td>\n",
              "      <td>0.0</td>\n",
              "      <td>4.0</td>\n",
              "      <td>1.0</td>\n",
              "      <td>1.0</td>\n",
              "      <td>0</td>\n",
              "      <td>14.0</td>\n",
              "      <td>...</td>\n",
              "      <td>1257.333333</td>\n",
              "      <td>174.333333</td>\n",
              "      <td>1257.333333</td>\n",
              "      <td>174.333333</td>\n",
              "      <td>12996.0</td>\n",
              "      <td>1</td>\n",
              "      <td>219702.0</td>\n",
              "      <td>554.794521</td>\n",
              "      <td>0.921703</td>\n",
              "      <td>96.797323</td>\n",
              "    </tr>\n",
              "    <tr>\n",
              "      <th>4</th>\n",
              "      <td>4</td>\n",
              "      <td>0.0</td>\n",
              "      <td>1.0</td>\n",
              "      <td>1.0</td>\n",
              "      <td>2.0</td>\n",
              "      <td>1.0</td>\n",
              "      <td>1.0</td>\n",
              "      <td>1.0</td>\n",
              "      <td>0</td>\n",
              "      <td>10.0</td>\n",
              "      <td>...</td>\n",
              "      <td>1253.083333</td>\n",
              "      <td>175.416667</td>\n",
              "      <td>1253.083333</td>\n",
              "      <td>175.416667</td>\n",
              "      <td>12932.0</td>\n",
              "      <td>0</td>\n",
              "      <td>174659.0</td>\n",
              "      <td>431.506849</td>\n",
              "      <td>0.901757</td>\n",
              "      <td>74.821853</td>\n",
              "    </tr>\n",
              "    <tr>\n",
              "      <th>...</th>\n",
              "      <td>...</td>\n",
              "      <td>...</td>\n",
              "      <td>...</td>\n",
              "      <td>...</td>\n",
              "      <td>...</td>\n",
              "      <td>...</td>\n",
              "      <td>...</td>\n",
              "      <td>...</td>\n",
              "      <td>...</td>\n",
              "      <td>...</td>\n",
              "      <td>...</td>\n",
              "      <td>...</td>\n",
              "      <td>...</td>\n",
              "      <td>...</td>\n",
              "      <td>...</td>\n",
              "      <td>...</td>\n",
              "      <td>...</td>\n",
              "      <td>...</td>\n",
              "      <td>...</td>\n",
              "      <td>...</td>\n",
              "      <td>...</td>\n",
              "    </tr>\n",
              "    <tr>\n",
              "      <th>26452</th>\n",
              "      <td>26452</td>\n",
              "      <td>0.0</td>\n",
              "      <td>0.0</td>\n",
              "      <td>0.0</td>\n",
              "      <td>2.0</td>\n",
              "      <td>4.0</td>\n",
              "      <td>1.0</td>\n",
              "      <td>1.0</td>\n",
              "      <td>0</td>\n",
              "      <td>3.0</td>\n",
              "      <td>...</td>\n",
              "      <td>1006.583333</td>\n",
              "      <td>165.333333</td>\n",
              "      <td>1006.583333</td>\n",
              "      <td>165.333333</td>\n",
              "      <td>10095.0</td>\n",
              "      <td>0</td>\n",
              "      <td>239080.0</td>\n",
              "      <td>616.438356</td>\n",
              "      <td>0.941108</td>\n",
              "      <td>113.407258</td>\n",
              "    </tr>\n",
              "    <tr>\n",
              "      <th>26453</th>\n",
              "      <td>26453</td>\n",
              "      <td>0.0</td>\n",
              "      <td>0.0</td>\n",
              "      <td>1.0</td>\n",
              "      <td>4.0</td>\n",
              "      <td>1.0</td>\n",
              "      <td>2.0</td>\n",
              "      <td>1.0</td>\n",
              "      <td>0</td>\n",
              "      <td>17.0</td>\n",
              "      <td>...</td>\n",
              "      <td>1274.250000</td>\n",
              "      <td>206.250000</td>\n",
              "      <td>1274.250000</td>\n",
              "      <td>206.250000</td>\n",
              "      <td>12816.0</td>\n",
              "      <td>0</td>\n",
              "      <td>197794.0</td>\n",
              "      <td>493.150685</td>\n",
              "      <td>0.910038</td>\n",
              "      <td>72.727273</td>\n",
              "    </tr>\n",
              "    <tr>\n",
              "      <th>26454</th>\n",
              "      <td>26454</td>\n",
              "      <td>0.0</td>\n",
              "      <td>1.0</td>\n",
              "      <td>0.0</td>\n",
              "      <td>4.0</td>\n",
              "      <td>4.0</td>\n",
              "      <td>0.0</td>\n",
              "      <td>5.0</td>\n",
              "      <td>0</td>\n",
              "      <td>3.0</td>\n",
              "      <td>...</td>\n",
              "      <td>840.166667</td>\n",
              "      <td>167.916667</td>\n",
              "      <td>840.166667</td>\n",
              "      <td>167.916667</td>\n",
              "      <td>8067.0</td>\n",
              "      <td>0</td>\n",
              "      <td>304615.0</td>\n",
              "      <td>801.369863</td>\n",
              "      <td>0.960228</td>\n",
              "      <td>145.161290</td>\n",
              "    </tr>\n",
              "    <tr>\n",
              "      <th>26455</th>\n",
              "      <td>26455</td>\n",
              "      <td>1.0</td>\n",
              "      <td>0.0</td>\n",
              "      <td>1.0</td>\n",
              "      <td>4.0</td>\n",
              "      <td>2.0</td>\n",
              "      <td>3.0</td>\n",
              "      <td>1.0</td>\n",
              "      <td>0</td>\n",
              "      <td>8.0</td>\n",
              "      <td>...</td>\n",
              "      <td>845.416667</td>\n",
              "      <td>8.916667</td>\n",
              "      <td>845.416667</td>\n",
              "      <td>8.916667</td>\n",
              "      <td>10038.0</td>\n",
              "      <td>0</td>\n",
              "      <td>181271.0</td>\n",
              "      <td>468.493151</td>\n",
              "      <td>0.943339</td>\n",
              "      <td>1598.130841</td>\n",
              "    </tr>\n",
              "    <tr>\n",
              "      <th>26456</th>\n",
              "      <td>26456</td>\n",
              "      <td>0.0</td>\n",
              "      <td>0.0</td>\n",
              "      <td>0.0</td>\n",
              "      <td>4.0</td>\n",
              "      <td>4.0</td>\n",
              "      <td>0.0</td>\n",
              "      <td>1.0</td>\n",
              "      <td>0</td>\n",
              "      <td>16.0</td>\n",
              "      <td>...</td>\n",
              "      <td>1630.750000</td>\n",
              "      <td>84.416667</td>\n",
              "      <td>1630.750000</td>\n",
              "      <td>84.416667</td>\n",
              "      <td>18556.0</td>\n",
              "      <td>0</td>\n",
              "      <td>101609.0</td>\n",
              "      <td>221.917808</td>\n",
              "      <td>0.797173</td>\n",
              "      <td>79.960513</td>\n",
              "    </tr>\n",
              "  </tbody>\n",
              "</table>\n",
              "<p>26457 rows × 25 columns</p>\n",
              "</div>\n",
              "      <button class=\"colab-df-convert\" onclick=\"convertToInteractive('df-b02db89a-5a7a-45ea-bfa7-32f0fbc51ee5')\"\n",
              "              title=\"Convert this dataframe to an interactive table.\"\n",
              "              style=\"display:none;\">\n",
              "\n",
              "  <svg xmlns=\"http://www.w3.org/2000/svg\" height=\"24px\"viewBox=\"0 0 24 24\"\n",
              "       width=\"24px\">\n",
              "    <path d=\"M0 0h24v24H0V0z\" fill=\"none\"/>\n",
              "    <path d=\"M18.56 5.44l.94 2.06.94-2.06 2.06-.94-2.06-.94-.94-2.06-.94 2.06-2.06.94zm-11 1L8.5 8.5l.94-2.06 2.06-.94-2.06-.94L8.5 2.5l-.94 2.06-2.06.94zm10 10l.94 2.06.94-2.06 2.06-.94-2.06-.94-.94-2.06-.94 2.06-2.06.94z\"/><path d=\"M17.41 7.96l-1.37-1.37c-.4-.4-.92-.59-1.43-.59-.52 0-1.04.2-1.43.59L10.3 9.45l-7.72 7.72c-.78.78-.78 2.05 0 2.83L4 21.41c.39.39.9.59 1.41.59.51 0 1.02-.2 1.41-.59l7.78-7.78 2.81-2.81c.8-.78.8-2.07 0-2.86zM5.41 20L4 18.59l7.72-7.72 1.47 1.35L5.41 20z\"/>\n",
              "  </svg>\n",
              "      </button>\n",
              "\n",
              "\n",
              "\n",
              "    <div id=\"df-f0f7a65b-f1bb-4ca7-b3bd-fe1f1f93a238\">\n",
              "      <button class=\"colab-df-quickchart\" onclick=\"quickchart('df-f0f7a65b-f1bb-4ca7-b3bd-fe1f1f93a238')\"\n",
              "              title=\"Suggest charts.\"\n",
              "              style=\"display:none;\">\n",
              "\n",
              "<svg xmlns=\"http://www.w3.org/2000/svg\" height=\"24px\"viewBox=\"0 0 24 24\"\n",
              "     width=\"24px\">\n",
              "    <g>\n",
              "        <path d=\"M19 3H5c-1.1 0-2 .9-2 2v14c0 1.1.9 2 2 2h14c1.1 0 2-.9 2-2V5c0-1.1-.9-2-2-2zM9 17H7v-7h2v7zm4 0h-2V7h2v10zm4 0h-2v-4h2v4z\"/>\n",
              "    </g>\n",
              "</svg>\n",
              "      </button>\n",
              "    </div>\n",
              "\n",
              "<style>\n",
              "  .colab-df-quickchart {\n",
              "    background-color: #E8F0FE;\n",
              "    border: none;\n",
              "    border-radius: 50%;\n",
              "    cursor: pointer;\n",
              "    display: none;\n",
              "    fill: #1967D2;\n",
              "    height: 32px;\n",
              "    padding: 0 0 0 0;\n",
              "    width: 32px;\n",
              "  }\n",
              "\n",
              "  .colab-df-quickchart:hover {\n",
              "    background-color: #E2EBFA;\n",
              "    box-shadow: 0px 1px 2px rgba(60, 64, 67, 0.3), 0px 1px 3px 1px rgba(60, 64, 67, 0.15);\n",
              "    fill: #174EA6;\n",
              "  }\n",
              "\n",
              "  [theme=dark] .colab-df-quickchart {\n",
              "    background-color: #3B4455;\n",
              "    fill: #D2E3FC;\n",
              "  }\n",
              "\n",
              "  [theme=dark] .colab-df-quickchart:hover {\n",
              "    background-color: #434B5C;\n",
              "    box-shadow: 0px 1px 3px 1px rgba(0, 0, 0, 0.15);\n",
              "    filter: drop-shadow(0px 1px 2px rgba(0, 0, 0, 0.3));\n",
              "    fill: #FFFFFF;\n",
              "  }\n",
              "</style>\n",
              "\n",
              "    <script>\n",
              "      async function quickchart(key) {\n",
              "        const containerElement = document.querySelector('#' + key);\n",
              "        const charts = await google.colab.kernel.invokeFunction(\n",
              "            'suggestCharts', [key], {});\n",
              "      }\n",
              "    </script>\n",
              "\n",
              "      <script>\n",
              "\n",
              "function displayQuickchartButton(domScope) {\n",
              "  let quickchartButtonEl =\n",
              "    domScope.querySelector('#df-f0f7a65b-f1bb-4ca7-b3bd-fe1f1f93a238 button.colab-df-quickchart');\n",
              "  quickchartButtonEl.style.display =\n",
              "    google.colab.kernel.accessAllowed ? 'block' : 'none';\n",
              "}\n",
              "\n",
              "        displayQuickchartButton(document);\n",
              "      </script>\n",
              "      <style>\n",
              "    .colab-df-container {\n",
              "      display:flex;\n",
              "      flex-wrap:wrap;\n",
              "      gap: 12px;\n",
              "    }\n",
              "\n",
              "    .colab-df-convert {\n",
              "      background-color: #E8F0FE;\n",
              "      border: none;\n",
              "      border-radius: 50%;\n",
              "      cursor: pointer;\n",
              "      display: none;\n",
              "      fill: #1967D2;\n",
              "      height: 32px;\n",
              "      padding: 0 0 0 0;\n",
              "      width: 32px;\n",
              "    }\n",
              "\n",
              "    .colab-df-convert:hover {\n",
              "      background-color: #E2EBFA;\n",
              "      box-shadow: 0px 1px 2px rgba(60, 64, 67, 0.3), 0px 1px 3px 1px rgba(60, 64, 67, 0.15);\n",
              "      fill: #174EA6;\n",
              "    }\n",
              "\n",
              "    [theme=dark] .colab-df-convert {\n",
              "      background-color: #3B4455;\n",
              "      fill: #D2E3FC;\n",
              "    }\n",
              "\n",
              "    [theme=dark] .colab-df-convert:hover {\n",
              "      background-color: #434B5C;\n",
              "      box-shadow: 0px 1px 3px 1px rgba(0, 0, 0, 0.15);\n",
              "      filter: drop-shadow(0px 1px 2px rgba(0, 0, 0, 0.3));\n",
              "      fill: #FFFFFF;\n",
              "    }\n",
              "  </style>\n",
              "\n",
              "      <script>\n",
              "        const buttonEl =\n",
              "          document.querySelector('#df-b02db89a-5a7a-45ea-bfa7-32f0fbc51ee5 button.colab-df-convert');\n",
              "        buttonEl.style.display =\n",
              "          google.colab.kernel.accessAllowed ? 'block' : 'none';\n",
              "\n",
              "        async function convertToInteractive(key) {\n",
              "          const element = document.querySelector('#df-b02db89a-5a7a-45ea-bfa7-32f0fbc51ee5');\n",
              "          const dataTable =\n",
              "            await google.colab.kernel.invokeFunction('convertToInteractive',\n",
              "                                                     [key], {});\n",
              "          if (!dataTable) return;\n",
              "\n",
              "          const docLinkHtml = 'Like what you see? Visit the ' +\n",
              "            '<a target=\"_blank\" href=https://colab.research.google.com/notebooks/data_table.ipynb>data table notebook</a>'\n",
              "            + ' to learn more about interactive tables.';\n",
              "          element.innerHTML = '';\n",
              "          dataTable['output_type'] = 'display_data';\n",
              "          await google.colab.output.renderOutput(dataTable, element);\n",
              "          const docLink = document.createElement('div');\n",
              "          docLink.innerHTML = docLinkHtml;\n",
              "          element.appendChild(docLink);\n",
              "        }\n",
              "      </script>\n",
              "    </div>\n",
              "  </div>\n"
            ]
          },
          "metadata": {},
          "execution_count": 239
        }
      ],
      "source": [
        "df"
      ]
    },
    {
      "cell_type": "markdown",
      "metadata": {
        "id": "RM48ByfAw5up"
      },
      "source": [
        "## 모델 불러오기"
      ]
    },
    {
      "cell_type": "code",
      "execution_count": 49,
      "metadata": {
        "id": "bvy2B0LfwjKo"
      },
      "outputs": [],
      "source": [
        "# 분류 모델\n",
        "from sklearn.linear_model import LogisticRegression\n",
        "from sklearn.svm import SVC\n",
        "from sklearn.neighbors import KNeighborsClassifier\n",
        "from sklearn.tree import DecisionTreeClassifier\n",
        "from sklearn.ensemble import RandomForestClassifier\n",
        "from sklearn.ensemble import AdaBoostClassifier\n",
        "from sklearn.ensemble import GradientBoostingClassifier\n",
        "from lightgbm import LGBMClassifier\n",
        "from xgboost import XGBClassifier\n",
        "from sklearn.ensemble import VotingClassifier\n",
        "from catboost import CatBoostRegressor\n",
        "\n",
        "\n",
        "\n",
        "# 커스텀 정보\n",
        "models = {\n",
        "    'LR' : LogisticRegression(penalty='l2', solver='saga', multi_class='multinomial', max_iter=300, n_jobs=4),\n",
        "    'SVC' : SVC(kernel='rbf', max_iter=-1, random_state=777),\n",
        "    'KNC' : KNeighborsClassifier(n_neighbors=5, algorithm='kd_tree', n_jobs=4),\n",
        "    'RFC' : RandomForestClassifier(n_estimators=300, random_state=777, n_jobs=4),\n",
        "    # 'CAT' : CatBoostRegressor(iterations=100, learning_rate=0.1, depth=6, l2_leaf_reg=3, subsample=0.8, colsample_bylevel=0.8, random_seed=42, early_stopping_rounds=10,verbose=False),\n",
        "    'GBC' : GradientBoostingClassifier(n_estimators=300, loss='log_loss', learning_rate=0.1, random_state=777, n_iter_no_change=5),\n",
        "    'LGBM' : LGBMClassifier(n_estimators=300, boosting_type='gbdt', learning_rate=0.1, objective='multiclass', random_state=777, n_jobs=4),\n",
        "    'XGB' : XGBClassifier(verbosity=0, num_parrell_tree=3),\n",
        "}"
      ]
    },
    {
      "cell_type": "code",
      "execution_count": 50,
      "metadata": {
        "id": "cw9A4Sg50h79"
      },
      "outputs": [],
      "source": [
        "def preprocessing(df, scale_cols, ohe, drops=['index', 'FLAG_MOBIL'], lbe=[], orde=[], scaler='std', test_size=0.2, fold=True, K=5):\n",
        "\n",
        "    \"\"\"__목표 기능__\n",
        "\n",
        "    - 불필요 feature 제거\n",
        "    - train_test_split\n",
        "    - 표준화(Scaler, Encoder)\n",
        "\n",
        "\n",
        "        __parameter 설명__\n",
        "\n",
        "    - df: (필요 시) feature engineering을 마친 후의 df\n",
        "    - drops: drop할 columns 리스트\n",
        "    - scaler: 수치형(numerical) feature에 적용할 scaler('std'(StandardScaler), 'mm'(MinMaxScaler), 'robust'(RobustScaler) 중 택1)\n",
        "    - scale_cols: Scale할 feature 리스트\n",
        "    - ohe: OneHotEncoder를 적용할 feature 리스트\n",
        "    - lbe: LabelEncoder를 적용할 feature 리스트\n",
        "    - orde: OrdinalEncoder를 적용할 feature 리스트\n",
        "    - test_size: train_test_split의 test_size\n",
        "    - fold: K-Fold 적용 여부\n",
        "    - K: K-Fold의 n_split\n",
        "    \"\"\"\n",
        "\n",
        "    df = df.drop(columns=drops)\n",
        "\n",
        "    X_data = df.drop(columns=['credit'])\n",
        "    y_data = df['credit']\n",
        "\n",
        "    X_train, X_val, y_train, y_val = train_test_split(X_data, y_data,\n",
        "                                                    test_size=test_size,\n",
        "                                                    shuffle=True,\n",
        "                                                    stratify=y_data,\n",
        "                                                    random_state=777)\n",
        "\n",
        "    if scaler == 'std':\n",
        "        scale = StandardScaler()\n",
        "    elif scaler == 'mm':\n",
        "        scale = MinMaxScaler()\n",
        "    elif scaler == 'robust':\n",
        "        scale = RobustScaler()\n",
        "\n",
        "    mct = make_column_transformer(\n",
        "            (scale, scale_cols),\n",
        "            (OneHotEncoder(), ohe),\n",
        "            (LabelEncoder(), lbe),\n",
        "            (OrdinalEncoder(), orde)\n",
        "            )\n",
        "\n",
        "\n",
        "    mct = mct.fit(X_train)\n",
        "    if fold:\n",
        "        X_train_scaled = mct.transform(X_data)\n",
        "        return X_train_scaled, y_data\n",
        "\n",
        "    else:\n",
        "        X_train_scaled = mct.transform(X_train)\n",
        "        X_val_scaled = mct.transform(X_val)\n",
        "        return X_train_scaled, X_val_scaled, y_train, y_val\n",
        "\n",
        "\n",
        "def baseline(X_train, y_train, fold=True, print_msg='Trial'):\n",
        "\n",
        "    \"\"\"__목표 기능__\n",
        "\n",
        "    - 하이퍼파라미터 튜닝 없이 단순히 여러 모델의 성능을 확인하여 전반적으로 feature handling이 잘 되었는지 검증\n",
        "\n",
        "        __parameter 설명__\n",
        "\n",
        "    - X_train: preprocessing()의 output\n",
        "    - y_train: preprocessing()의 output\n",
        "    - fold: 학습 및 성능 확인 간 K-Fold(교차검증) 적용 여부\n",
        "    - print_msg: 학습 시작할 때 출력할 메시지\n",
        "\n",
        "    \"\"\"\n",
        "\n",
        "    result_list, result_name = [], []\n",
        "\n",
        "    if fold:\n",
        "        kfold = KFold(n_splits=5, shuffle=True, random_state=1)\n",
        "\n",
        "        print('(K_Fold 적용) ' + print_msg)\n",
        "        for name, model in tqdm(models.items()):\n",
        "            r1 = cross_val_score(model, X_train, y_train, scoring='accuracy', cv=kfold)\n",
        "            print(f'{name} 평균 성능 수치 : {r1.mean()}')\n",
        "\n",
        "            result_list.append(r1.mean())\n",
        "            result_name.append(f'{models[name]} Basic')\n",
        "\n",
        "        result = {k:v for k, v in zip(result_name, result_list)}\n",
        "\n",
        "    else:\n",
        "        print('(K_Fold 미적용) ' + print_msg)\n",
        "        for name, model in tqdm(models.items()):\n",
        "            r1 = cross_val_score(model, X_train, y_train, scoring='accuracy', cv=kfold)\n",
        "            print(f'{name} 평균 성능 수치 : {r1.mean()}')\n",
        "\n",
        "            result_list.append(r1.mean())\n",
        "            result_name.append(f'{models[name]} Basic')\n",
        "        print()\n",
        "        result = {k:v for k, v in zip(result_name, result_list)}\n",
        "\n",
        "    return result\n"
      ]
    },
    {
      "cell_type": "code",
      "execution_count": 158,
      "metadata": {
        "id": "zK-YuTOMxZ85"
      },
      "outputs": [],
      "source": [
        "# 훈련데이터 분할\n",
        "target = df['credit']\n",
        "train = df.drop('credit', axis = 1)"
      ]
    },
    {
      "cell_type": "markdown",
      "metadata": {
        "id": "30z4da2GOx2T"
      },
      "source": [
        "#### 모델 검증"
      ]
    },
    {
      "cell_type": "code",
      "execution_count": 159,
      "metadata": {
        "colab": {
          "base_uri": "https://localhost:8080/",
          "height": 1000,
          "referenced_widgets": [
            "5253854ba3284ba3af13537615769e39",
            "b12eb7b9cb0a4626baa30de60ae9f687",
            "e45e868435e44094963f27dfdc1152e4",
            "af467b5a29b847c1bd785b8877d910a2",
            "44ec8c5f2b8745029d6d50e96bc5fd78",
            "d46519006ab741bf9c7d1411803e605c",
            "d63ed23d02714dcdac41b002c4ffbc93",
            "9c339887cc3c402d97a919e08d87ccf7",
            "e788f749c7f742bba8e01f19b22dc1cd",
            "52bf8b905ddc4fa99664f6be826212e6",
            "024609cfb21a469293f621203752990c"
          ]
        },
        "id": "sSUZhRvIL5J5",
        "outputId": "54bd3393-0008-4949-c144-d3035a715c81"
      },
      "outputs": [
        {
          "output_type": "stream",
          "name": "stdout",
          "text": [
            "(K_Fold 적용) Trial\n"
          ]
        },
        {
          "output_type": "display_data",
          "data": {
            "text/plain": [
              "  0%|          | 0/7 [00:00<?, ?it/s]"
            ],
            "application/vnd.jupyter.widget-view+json": {
              "version_major": 2,
              "version_minor": 0,
              "model_id": "5253854ba3284ba3af13537615769e39"
            }
          },
          "metadata": {}
        },
        {
          "output_type": "stream",
          "name": "stdout",
          "text": [
            "LR 평균 성능 수치 : 0.6413426984855557\n",
            "SVC 평균 성능 수치 : 0.6413426984855557\n",
            "KNC 평균 성능 수치 : 0.5527461456032884\n",
            "RFC 평균 성능 수치 : 0.7176929462643749\n",
            "GBC 평균 성능 수치 : 0.693578429292715\n",
            "[LightGBM] [Warning] Auto-choosing row-wise multi-threading, the overhead of testing was 0.002002 seconds.\n",
            "You can set `force_row_wise=true` to remove the overhead.\n",
            "And if memory is not enough, you can set `force_col_wise=true`.\n",
            "[LightGBM] [Info] Total Bins 3107\n",
            "[LightGBM] [Info] Number of data points in the train set: 21165, number of used features: 22\n",
            "[LightGBM] [Info] Start training from score -2.104559\n",
            "[LightGBM] [Info] Start training from score -1.442511\n",
            "[LightGBM] [Info] Start training from score -0.443530\n",
            "[LightGBM] [Warning] Auto-choosing row-wise multi-threading, the overhead of testing was 0.002100 seconds.\n",
            "You can set `force_row_wise=true` to remove the overhead.\n",
            "And if memory is not enough, you can set `force_col_wise=true`.\n",
            "[LightGBM] [Info] Total Bins 3106\n",
            "[LightGBM] [Info] Number of data points in the train set: 21165, number of used features: 22\n",
            "[LightGBM] [Info] Start training from score -2.096837\n",
            "[LightGBM] [Info] Start training from score -1.446919\n",
            "[LightGBM] [Info] Start training from score -0.443383\n",
            "[LightGBM] [Warning] Auto-choosing row-wise multi-threading, the overhead of testing was 0.003327 seconds.\n",
            "You can set `force_row_wise=true` to remove the overhead.\n",
            "And if memory is not enough, you can set `force_col_wise=true`.\n",
            "[LightGBM] [Info] Total Bins 3108\n",
            "[LightGBM] [Info] Number of data points in the train set: 21166, number of used features: 22\n",
            "[LightGBM] [Info] Start training from score -2.104607\n",
            "[LightGBM] [Info] Start training from score -1.438369\n",
            "[LightGBM] [Info] Start training from score -0.445051\n",
            "[LightGBM] [Warning] Auto-choosing row-wise multi-threading, the overhead of testing was 0.002103 seconds.\n",
            "You can set `force_row_wise=true` to remove the overhead.\n",
            "And if memory is not enough, you can set `force_col_wise=true`.\n",
            "[LightGBM] [Info] Total Bins 3105\n",
            "[LightGBM] [Info] Number of data points in the train set: 21166, number of used features: 22\n",
            "[LightGBM] [Info] Start training from score -2.112389\n",
            "[LightGBM] [Info] Start training from score -1.441559\n",
            "[LightGBM] [Info] Start training from score -0.442400\n",
            "[LightGBM] [Warning] Auto-choosing row-wise multi-threading, the overhead of testing was 0.001890 seconds.\n",
            "You can set `force_row_wise=true` to remove the overhead.\n",
            "And if memory is not enough, you can set `force_col_wise=true`.\n",
            "[LightGBM] [Info] Total Bins 3108\n",
            "[LightGBM] [Info] Number of data points in the train set: 21166, number of used features: 22\n",
            "[LightGBM] [Info] Start training from score -2.109269\n",
            "[LightGBM] [Info] Start training from score -1.431820\n",
            "[LightGBM] [Info] Start training from score -0.446600\n",
            "LGBM 평균 성능 수치 : 0.7094909809195523\n",
            "XGB 평균 성능 수치 : 0.7046528975100405\n"
          ]
        },
        {
          "output_type": "execute_result",
          "data": {
            "text/plain": [
              "{\"LogisticRegression(max_iter=300, multi_class='multinomial', n_jobs=4,\\n                   solver='saga') Basic\": 0.6413426984855557,\n",
              " 'SVC(random_state=777) Basic': 0.6413426984855557,\n",
              " \"KNeighborsClassifier(algorithm='kd_tree', n_jobs=4) Basic\": 0.5527461456032884,\n",
              " 'RandomForestClassifier(n_estimators=300, n_jobs=4, random_state=777) Basic': 0.7176929462643749,\n",
              " 'GradientBoostingClassifier(n_estimators=300, n_iter_no_change=5,\\n                           random_state=777) Basic': 0.693578429292715,\n",
              " \"LGBMClassifier(n_estimators=300, n_jobs=4, objective='multiclass',\\n               random_state=777) Basic\": 0.7094909809195523,\n",
              " 'XGBClassifier(base_score=None, booster=None, callbacks=None,\\n              colsample_bylevel=None, colsample_bynode=None,\\n              colsample_bytree=None, early_stopping_rounds=None,\\n              enable_categorical=False, eval_metric=None, feature_types=None,\\n              gamma=None, gpu_id=None, grow_policy=None, importance_type=None,\\n              interaction_constraints=None, learning_rate=None, max_bin=None,\\n              max_cat_threshold=None, max_cat_to_onehot=None,\\n              max_delta_step=None, max_depth=None, max_leaves=None,\\n              min_child_weight=None, missing=nan, monotone_constraints=None,\\n              n_estimators=100, n_jobs=None, num_parallel_tree=None,\\n              num_parrell_tree=3, predictor=None, ...) Basic': 0.7046528975100405}"
            ]
          },
          "metadata": {},
          "execution_count": 159
        }
      ],
      "source": [
        "none = baseline(train,target)\n",
        "none"
      ]
    },
    {
      "cell_type": "markdown",
      "metadata": {
        "id": "T0FdNpP5WWT9"
      },
      "source": [
        "#### 가장 높은 랜덤 포레스트로 어떤 특성을 많이 봤는지 확인"
      ]
    },
    {
      "cell_type": "code",
      "execution_count": 160,
      "metadata": {
        "colab": {
          "base_uri": "https://localhost:8080/",
          "height": 607
        },
        "id": "YCcNHoD0SrOC",
        "outputId": "58cdd296-2ea7-4447-fd70-355f834b638b"
      },
      "outputs": [
        {
          "output_type": "display_data",
          "data": {
            "text/plain": [
              "<Figure size 1200x600 with 1 Axes>"
            ],
            "image/png": "[encoded data removed]"
          },
          "metadata": {}
        }
      ],
      "source": [
        "import numpy as np\n",
        "import pandas as pd\n",
        "from sklearn.model_selection import train_test_split\n",
        "from sklearn.ensemble import RandomForestClassifier\n",
        "import matplotlib.pyplot as plt\n",
        "\n",
        "# # 데이터셋을 불러오거나 예시 데이터셋을 생성합니다\n",
        "# # 'data'라는 DataFrame이 특성과 타겟 열을 포함하고 있다고 가정합니다\n",
        "# # features = data.drop('target', axis=1)\n",
        "# # target = data['target']\n",
        "\n",
        "# # 데이터를 훈련 및 테스트 세트로 분할합니다\n",
        "X_train, X_val, y_train, y_val = train_test_split(train, target,\n",
        "                                                test_size=0.2,\n",
        "                                                shuffle=True,\n",
        "                                                stratify=target,\n",
        "                                                random_state=777)\n",
        "\n",
        "# 랜덤 포레스트 분류 모델을 생성합니다\n",
        "rf_classifier = RandomForestClassifier(n_estimators=300, random_state=777, n_jobs=4)\n",
        "\n",
        "# 모델을 훈련합니다\n",
        "rf_classifier.fit(X_train, y_train)\n",
        "\n",
        "# 특성 중요도를 얻습니다\n",
        "rf_importances = rf_classifier.feature_importances_\n",
        "rf_feature_names = train.columns\n",
        "\n",
        "# 특성 중요도 그래프 그리기\n",
        "plt.figure(figsize=(12, 6))\n",
        "plt.bar(rf_feature_names, rf_importances)\n",
        "plt.xticks(rotation=45, ha='right')\n",
        "plt.xlabel('Feature')\n",
        "plt.ylabel('Importance')\n",
        "plt.title('Feature Importance in Random Forest')\n",
        "plt.tight_layout()\n",
        "plt.show()"
      ]
    },
    {
      "cell_type": "code",
      "execution_count": 316,
      "metadata": {
        "colab": {
          "base_uri": "https://localhost:8080/"
        },
        "id": "CChlVhc3MDBY",
        "outputId": "42acef2e-205b-4f84-db91-82d1a7641afd"
      },
      "outputs": [
        {
          "output_type": "stream",
          "name": "stdout",
          "text": [
            "Mean MAE: 0.5575818642726957\n",
            "MAE Standard Deviation: 0.0034402553166439534\n"
          ]
        }
      ],
      "source": [
        "from sklearn.model_selection import cross_val_score\n",
        "from sklearn.metrics import mean_absolute_error\n",
        "\n",
        "# Assuming you have already created and trained the CatBoostRegressor model\n",
        "model = CatBoostRegressor(iterations=100, learning_rate=0.1, depth=6, l2_leaf_reg=3, subsample=0.8, colsample_bylevel=0.8, random_seed=42, early_stopping_rounds=10,verbose=False)\n",
        "\n",
        "# Calculate the cross-validated MAE\n",
        "kfold = 5  # Number of cross-validation folds\n",
        "mae_scores = cross_val_score(model, train,target, scoring='neg_mean_absolute_error', cv=kfold)\n",
        "\n",
        "# Convert the negative MAE scores to positive\n",
        "mae_scores = -mae_scores\n",
        "\n",
        "# Print the mean MAE and its standard deviation\n",
        "print(\"Mean MAE:\", mae_scores.mean())\n",
        "print(\"MAE Standard Deviation:\", mae_scores.std())"
      ]
    },
    {
      "cell_type": "markdown",
      "metadata": {
        "id": "uFl7I-zcL58f"
      },
      "source": [
        "##### ID + 음수를 양수로 변경"
      ]
    },
    {
      "cell_type": "code",
      "execution_count": null,
      "metadata": {
        "colab": {
          "base_uri": "https://localhost:8080/",
          "height": 403,
          "referenced_widgets": [
            "eabb2b17afba4e2c8cc5f3294a8563b8",
            "9bcd2149e0da4db8aefbcdb33bdbeb52",
            "d5f4688cfa5448f188ed79225419f228",
            "fe2354acefae4905bb8115977e8602f6",
            "50b4efe33a0e4124a101ed63c8aa993a",
            "a2674072ef5d4cb0b86b74868eb2257d",
            "227cf6127eea43109253d3955a4e328b",
            "0d27d6e7832243f0a7a6fa0609b105bd",
            "20bd49de2ab74431bc21e390113d455b",
            "45d6119ef16542de9dacb96935d82e32",
            "ab6a2836381542cc975219628cf6959f"
          ]
        },
        "id": "WgcyWIVxFMtm",
        "outputId": "37a4a1d5-bedc-476b-f077-8d5c880e0da2"
      },
      "outputs": [
        {
          "name": "stdout",
          "output_type": "stream",
          "text": [
            "(K_Fold 적용) Trial\n"
          ]
        },
        {
          "data": {
            "application/vnd.jupyter.widget-view+json": {
              "model_id": "eabb2b17afba4e2c8cc5f3294a8563b8",
              "version_major": 2,
              "version_minor": 0
            },
            "text/plain": [
              "  0%|          | 0/8 [00:00<?, ?it/s]"
            ]
          },
          "metadata": {},
          "output_type": "display_data"
        },
        {
          "name": "stdout",
          "output_type": "stream",
          "text": [
            "LR 평균 성능 수치 : 0.6413426984855557\n",
            "SVC 평균 성능 수치 : 0.6413426984855557\n",
            "KNC 평균 성능 수치 : 0.5415961058818202\n",
            "RFC 평균 성능 수치 : 0.7058247486818914\n",
            "CAT 평균 성능 수치 : nan\n",
            "GBC 평균 성능 수치 : 0.691877391877392\n",
            "LGBM 평균 성능 수치 : 0.7013644085072658\n",
            "XGB 평균 성능 수치 : 0.698189469618041\n"
          ]
        },
        {
          "data": {
            "text/plain": [
              "{\"LogisticRegression(max_iter=300, multi_class='multinomial', n_jobs=4,\\n                   solver='saga') Basic\": 0.6413426984855557,\n",
              " 'SVC(random_state=777) Basic': 0.6413426984855557,\n",
              " \"KNeighborsClassifier(algorithm='kd_tree', n_jobs=4) Basic\": 0.5415961058818202,\n",
              " 'RandomForestClassifier(n_estimators=300, n_jobs=4, random_state=777) Basic': 0.7058247486818914,\n",
              " '<catboost.core.CatBoostRegressor object at 0x7eab81791f00> Basic': nan,\n",
              " 'GradientBoostingClassifier(n_estimators=300, n_iter_no_change=5,\\n                           random_state=777) Basic': 0.691877391877392,\n",
              " \"LGBMClassifier(n_estimators=300, n_jobs=4, objective='multiclass',\\n               random_state=777) Basic\": 0.7013644085072658,\n",
              " 'XGBClassifier(base_score=None, booster=None, callbacks=None,\\n              colsample_bylevel=None, colsample_bynode=None,\\n              colsample_bytree=None, early_stopping_rounds=None,\\n              enable_categorical=False, eval_metric=None, feature_types=None,\\n              gamma=None, gpu_id=None, grow_policy=None, importance_type=None,\\n              interaction_constraints=None, learning_rate=None, max_bin=None,\\n              max_cat_threshold=None, max_cat_to_onehot=None,\\n              max_delta_step=None, max_depth=None, max_leaves=None,\\n              min_child_weight=None, missing=nan, monotone_constraints=None,\\n              n_estimators=100, n_jobs=None, num_parallel_tree=None,\\n              num_parrell_tree=3, predictor=None, ...) Basic': 0.698189469618041}"
            ]
          },
          "execution_count": 21,
          "metadata": {},
          "output_type": "execute_result"
        }
      ],
      "source": [
        "base = baseline(train,target)\n",
        "base"
      ]
    },
    {
      "cell_type": "code",
      "execution_count": null,
      "metadata": {
        "colab": {
          "base_uri": "https://localhost:8080/"
        },
        "id": "3xIHh8W1FUKS",
        "outputId": "f7edfd99-0f13-4ab0-e871-81ddd3788dc7"
      },
      "outputs": [
        {
          "name": "stdout",
          "output_type": "stream",
          "text": [
            "Mean MAE: 0.559512738418365\n",
            "MAE Standard Deviation: 0.005577935758075336\n"
          ]
        }
      ],
      "source": [
        "from sklearn.model_selection import cross_val_score\n",
        "from sklearn.metrics import mean_absolute_error\n",
        "\n",
        "# Assuming you have already created and trained the CatBoostRegressor model\n",
        "model = CatBoostRegressor(iterations=100, learning_rate=0.1, depth=6, l2_leaf_reg=3, subsample=0.8, colsample_bylevel=0.8, random_seed=42, early_stopping_rounds=10,verbose=False)\n",
        "\n",
        "# Calculate the cross-validated MAE\n",
        "kfold = 5  # Number of cross-validation folds\n",
        "mae_scores = cross_val_score(model, train,target, scoring='neg_mean_absolute_error', cv=kfold)\n",
        "\n",
        "# Convert the negative MAE scores to positive\n",
        "mae_scores = -mae_scores\n",
        "\n",
        "# Print the mean MAE and its standard deviation\n",
        "print(\"Mean MAE:\", mae_scores.mean())\n",
        "print(\"MAE Standard Deviation:\", mae_scores.std())"
      ]
    },
    {
      "cell_type": "markdown",
      "metadata": {
        "id": "NNUVg8VzMxTo"
      },
      "source": [
        "##### ID + 양수화 + 소득 분할"
      ]
    },
    {
      "cell_type": "code",
      "execution_count": null,
      "metadata": {
        "colab": {
          "base_uri": "https://localhost:8080/"
        },
        "id": "bm6iTVlpT3w4",
        "outputId": "2068b2ca-d90a-45bb-91fd-fb065e9eeabd"
      },
      "outputs": [
        {
          "data": {
            "text/plain": [
              "index            0\n",
              "gender           0\n",
              "car              0\n",
              "reality          0\n",
              "child_num        0\n",
              "income_type      0\n",
              "edu_type         0\n",
              "family_type      0\n",
              "house_type       0\n",
              "DAYS_BIRTH       0\n",
              "DAYS_EMPLOYED    0\n",
              "work_phone       0\n",
              "phone            0\n",
              "email            0\n",
              "occyp_type       0\n",
              "family_size      0\n",
              "begin_month      0\n",
              "credit           0\n",
              "ID               0\n",
              "income_year      0\n",
              "income           0\n",
              "income_mean      0\n",
              "dtype: int64"
            ]
          },
          "execution_count": 216,
          "metadata": {},
          "output_type": "execute_result"
        }
      ],
      "source": [
        "inf_count = (df == float('inf')).sum()\n",
        "inf_count"
      ]
    },
    {
      "cell_type": "code",
      "execution_count": null,
      "metadata": {
        "colab": {
          "base_uri": "https://localhost:8080/",
          "height": 365,
          "referenced_widgets": [
            "2ab0856449234c87b0df1239d1d61ea2",
            "c86293c9f93b4fea8eb833dbab28ce84",
            "e46f17684810463ebe3a7722123cae13",
            "61a46ba9e61948d1a54998b77937bc1b",
            "d39ec53cbe3c411e8c2d4358159bfb06",
            "87dac023e4f944b3a5202974e292f913",
            "79c69a49f0ff4313a6a32cab68fc001a",
            "a8b2f9bbe8684b1795123dfb1333b1dd",
            "7d63d33d8fff4a19970b03b255b35c60",
            "bfa3eee4d7384ac79226493e00d147cc",
            "c9c24a8ed3fd4695b75d22e2078114b0"
          ]
        },
        "id": "yzsqXYMYOq4p",
        "outputId": "1c286390-eda6-4d0a-b199-a6c7e2ce1b47"
      },
      "outputs": [
        {
          "name": "stdout",
          "output_type": "stream",
          "text": [
            "(K_Fold 적용) Trial\n"
          ]
        },
        {
          "data": {
            "application/vnd.jupyter.widget-view+json": {
              "model_id": "2ab0856449234c87b0df1239d1d61ea2",
              "version_major": 2,
              "version_minor": 0
            },
            "text/plain": [
              "  0%|          | 0/7 [00:00<?, ?it/s]"
            ]
          },
          "metadata": {},
          "output_type": "display_data"
        },
        {
          "name": "stdout",
          "output_type": "stream",
          "text": [
            "LR 평균 성능 수치 : 0.6413426984855557\n",
            "SVC 평균 성능 수치 : 0.6413426984855557\n",
            "KNC 평균 성능 수치 : 0.5331294759866188\n",
            "RFC 평균 성능 수치 : 0.7077145862860148\n",
            "GBC 평균 성능 수치 : 0.6912349198063483\n",
            "LGBM 평균 성능 수치 : 0.7020449949021377\n",
            "XGB 평균 성능 수치 : 0.6993233921805351\n"
          ]
        },
        {
          "data": {
            "text/plain": [
              "{\"LogisticRegression(max_iter=300, multi_class='multinomial', n_jobs=4,\\n                   solver='saga') Basic\": 0.6413426984855557,\n",
              " 'SVC(random_state=777) Basic': 0.6413426984855557,\n",
              " \"KNeighborsClassifier(algorithm='kd_tree', n_jobs=4) Basic\": 0.5331294759866188,\n",
              " 'RandomForestClassifier(n_estimators=300, n_jobs=4, random_state=777) Basic': 0.7077145862860148,\n",
              " 'GradientBoostingClassifier(n_estimators=300, n_iter_no_change=5,\\n                           random_state=777) Basic': 0.6912349198063483,\n",
              " \"LGBMClassifier(n_estimators=300, n_jobs=4, objective='multiclass',\\n               random_state=777) Basic\": 0.7020449949021377,\n",
              " 'XGBClassifier(base_score=None, booster=None, callbacks=None,\\n              colsample_bylevel=None, colsample_bynode=None,\\n              colsample_bytree=None, early_stopping_rounds=None,\\n              enable_categorical=False, eval_metric=None, feature_types=None,\\n              gamma=None, gpu_id=None, grow_policy=None, importance_type=None,\\n              interaction_constraints=None, learning_rate=None, max_bin=None,\\n              max_cat_threshold=None, max_cat_to_onehot=None,\\n              max_delta_step=None, max_depth=None, max_leaves=None,\\n              min_child_weight=None, missing=nan, monotone_constraints=None,\\n              n_estimators=100, n_jobs=None, num_parallel_tree=None,\\n              num_parrell_tree=3, predictor=None, ...) Basic': 0.6993233921805351}"
            ]
          },
          "execution_count": 217,
          "metadata": {},
          "output_type": "execute_result"
        }
      ],
      "source": [
        "base = baseline(train,target)\n",
        "base"
      ]
    },
    {
      "cell_type": "code",
      "execution_count": null,
      "metadata": {
        "colab": {
          "base_uri": "https://localhost:8080/"
        },
        "id": "kv5qdzgIOq4v",
        "outputId": "d9852358-2a0b-4769-dc3a-33c39e0f5798"
      },
      "outputs": [
        {
          "name": "stdout",
          "output_type": "stream",
          "text": [
            "Mean MAE: 0.558141517988878\n",
            "MAE Standard Deviation: 0.005735500055772106\n"
          ]
        }
      ],
      "source": [
        "from sklearn.model_selection import cross_val_score\n",
        "from sklearn.metrics import mean_absolute_error\n",
        "\n",
        "# Assuming you have already created and trained the CatBoostRegressor model\n",
        "model = CatBoostRegressor(iterations=100, learning_rate=0.1, depth=6, l2_leaf_reg=3, subsample=0.8, colsample_bylevel=0.8, random_seed=42, early_stopping_rounds=10,verbose=False)\n",
        "\n",
        "# Calculate the cross-validated MAE\n",
        "kfold = 5  # Number of cross-validation folds\n",
        "mae_scores = cross_val_score(model, train,target, scoring='neg_mean_absolute_error', cv=kfold)\n",
        "\n",
        "# Convert the negative MAE scores to positive\n",
        "mae_scores = -mae_scores\n",
        "\n",
        "# Print the mean MAE and its standard deviation\n",
        "print(\"Mean MAE:\", mae_scores.mean())\n",
        "print(\"MAE Standard Deviation:\", mae_scores.std())"
      ]
    },
    {
      "cell_type": "markdown",
      "metadata": {
        "id": "J17bFUIvyvr0"
      },
      "source": [
        "### Using Optuna with LightGBM (Auto ML 활용 실험)\n",
        "- objective 함수를 생성한 다음, 다양한 parameter 값을 적용\n",
        "- optuna.create_study 객체로 지정된 study가 가장 최적화된 best_params를 가짐\n",
        "\n",
        "<출처> https://blog.naver.com/qkrdnjsrl0628/222797273335"
      ]
    },
    {
      "cell_type": "code",
      "execution_count": null,
      "metadata": {
        "id": "v30Lui1axqLI"
      },
      "outputs": [],
      "source": [
        "# LightGBM\n",
        "\n",
        "def LGBM(trial,data=train,target=target):\n",
        "\n",
        "    train_x, test_x, train_y, test_y = train_test_split(data, target, test_size=0.15,random_state=42)\n",
        "    param = {\n",
        "        'metric': 'rmse',\n",
        "        'random_state': 48,\n",
        "        'n_estimators': 20000,\n",
        "        'reg_alpha': trial.suggest_loguniform('reg_alpha', 1e-3, 10.0),\n",
        "        'reg_lambda': trial.suggest_loguniform('reg_lambda', 1e-3, 10.0),\n",
        "        'colsample_bytree': trial.suggest_categorical('colsample_bytree', [0.3,0.4,0.5,0.6,0.7,0.8,0.9, 1.0]),\n",
        "        'subsample': trial.suggest_categorical('subsample', [0.4,0.5,0.6,0.7,0.8,1.0]),\n",
        "        'learning_rate': trial.suggest_categorical('learning_rate', [0.006,0.008,0.01,0.014,0.017,0.02]),\n",
        "        'max_depth': trial.suggest_categorical('max_depth', [10,20,100]),\n",
        "        'num_leaves' : trial.suggest_int('num_leaves', 1, 1000),\n",
        "        'min_child_samples': trial.suggest_int('min_child_samples', 1, 300),\n",
        "        'cat_smooth' : trial.suggest_int('min_data_per_groups', 1, 100)\n",
        "    }\n",
        "    model = lgb.LGBMRegressor(**param)\n",
        "\n",
        "    model.fit(train_x,train_y,eval_set=[(test_x,test_y)], early_stopping_rounds= 100)\n",
        "\n",
        "    preds = model.predict(test_x)\n",
        "\n",
        "    rmse = mean_squared_error(test_y, preds,squared=False)\n",
        "\n",
        "    return rmse"
      ]
    },
    {
      "cell_type": "code",
      "execution_count": null,
      "metadata": {
        "id": "0WU1Qdf3zIpj"
      },
      "outputs": [],
      "source": [
        "# XGBM\n",
        "def XGBM(trial,data=train,target=target):\n",
        "\n",
        "    train_x, test_x, train_y, test_y = train_test_split(data, target, test_size=0.15,random_state=42)\n",
        "    param = {\n",
        "        'tree_method':'gpu_hist',  # this parameter means using the GPU when training our model to speedup the training process\n",
        "        'lambda': trial.suggest_loguniform('lambda', 1e-3, 10.0),\n",
        "        'alpha': trial.suggest_loguniform('alpha', 1e-3, 10.0),\n",
        "        'colsample_bytree': trial.suggest_categorical('colsample_bytree', [0.3,0.4,0.5,0.6,0.7,0.8,0.9, 1.0]),\n",
        "        'subsample': trial.suggest_categorical('subsample', [0.4,0.5,0.6,0.7,0.8,1.0]),\n",
        "        'learning_rate': trial.suggest_categorical('learning_rate', [0.008,0.01,0.012,0.014,0.016,0.018, 0.02]),\n",
        "        'n_estimators': 10000,\n",
        "        'max_depth': trial.suggest_categorical('max_depth', [5,7,9,11,13,15,17]),\n",
        "        'random_state': trial.suggest_categorical('random_state', [2020]),\n",
        "        'min_child_weight': trial.suggest_int('min_child_weight', 1, 300),\n",
        "    }\n",
        "    model = xgb.XGBRegressor(**param)\n",
        "\n",
        "    model.fit(train_x,train_y,eval_set=[(test_x,test_y)],early_stopping_rounds=100,verbose=False)\n",
        "\n",
        "    preds = model.predict(test_x)\n",
        "\n",
        "    rmse = mean_squared_error(test_y, preds,squared=False)\n",
        "\n",
        "    return rmse"
      ]
    },
    {
      "cell_type": "code",
      "execution_count": null,
      "metadata": {
        "id": "fPL7iYV2zMo7"
      },
      "outputs": [],
      "source": [
        "# Catboost\n",
        "\n",
        "def Cat(trial,data=train,target=target):\n",
        "\n",
        "    train_x, test_x, train_y, test_y = train_test_split(data, target, test_size=0.15,random_state=42)\n",
        "    param = {\n",
        "        'tree_method':'gpu_hist',  # this parameter means using the GPU when training our model to speedup the training process\n",
        "        'lambda': trial.suggest_loguniform('lambda', 1e-3, 10.0),\n",
        "        'alpha': trial.suggest_loguniform('alpha', 1e-3, 10.0),\n",
        "        'colsample_bytree': trial.suggest_categorical('colsample_bytree', [0.3,0.4,0.5,0.6,0.7,0.8,0.9, 1.0]),\n",
        "        'subsample': trial.suggest_categorical('subsample', [0.4,0.5,0.6,0.7,0.8,1.0]),\n",
        "        'learning_rate': trial.suggest_categorical('learning_rate', [0.008,0.01,0.012,0.014,0.016,0.018, 0.02]),\n",
        "        'n_estimators': 10000,\n",
        "        'max_depth': trial.suggest_categorical('max_depth', [5,7,9,11,13,15,17]),\n",
        "        'random_state': trial.suggest_categorical('random_state', [2020]),\n",
        "        'min_child_weight': trial.suggest_int('min_child_weight', 1, 300),\n",
        "    }\n",
        "    model = xgb.XGBRegressor(**param)\n",
        "\n",
        "    model.fit(train_x,train_y,eval_set=[(test_x,test_y)],early_stopping_rounds=100,verbose=False)\n",
        "\n",
        "    preds = model.predict(test_x)\n",
        "\n",
        "    rmse = mean_squared_error(test_y, preds,squared=False)\n",
        "\n",
        "    return rmse"
      ]
    },
    {
      "cell_type": "code",
      "execution_count": null,
      "metadata": {
        "id": "OHLUqMGbEsva"
      },
      "outputs": [],
      "source": [
        "study = optuna.create_study(direction='minimize')\n",
        "study.optimize(LGBM, n_trials=30)\n",
        "print('Number of finished trials:', len(study.trials))\n",
        "print('Best trial:', study.best_trial.params)"
      ]
    },
    {
      "cell_type": "code",
      "execution_count": null,
      "metadata": {
        "id": "Yfnr4aDrEw4R"
      },
      "outputs": [],
      "source": [
        "study = optuna.create_study(direction='minimize')\n",
        "study.optimize(XGBM, n_trials=30)\n",
        "print('Number of finished trials:', len(study.trials))\n",
        "print('Best trial:', study.best_trial.params)"
      ]
    },
    {
      "cell_type": "code",
      "execution_count": null,
      "metadata": {
        "id": "KlN3roa7E2Sd"
      },
      "outputs": [],
      "source": [
        "study = optuna.create_study(direction='minimize')\n",
        "study.optimize(Cat, n_trials=30)\n",
        "print('Number of finished trials:', len(study.trials))\n",
        "print('Best trial:', study.best_trial.params)"
      ]
    },
    {
      "cell_type": "code",
      "execution_count": null,
      "metadata": {
        "id": "c1md-QUJUGQ6"
      },
      "outputs": [],
      "source": [
        "# rf_importances = rf_classifier.feature_importances_\n",
        "# rf_feature_names = X.columns\n",
        "\n",
        "# # 특성 중요도 그래프 그리기\n",
        "# plt.figure(figsize=(12, 6))\n",
        "# plt.bar(rf_feature_names, rf_importances)\n",
        "# plt.xticks(rotation=45, ha='right')\n",
        "# plt.xlabel('Feature')\n",
        "# plt.ylabel('Importance')\n",
        "# plt.title('Feature Importance in Random Forest')\n",
        "# plt.tight_layout()\n",
        "# plt.show()"
      ]
    },
    {
      "cell_type": "code",
      "execution_count": null,
      "metadata": {
        "colab": {
          "base_uri": "https://localhost:8080/",
          "height": 607
        },
        "id": "3h5vE1szUcKL",
        "outputId": "73e1a3d3-eac6-470c-ebc9-d19ac85c2989"
      },
      "outputs": [
        {
          "data": {
            "image/png": "[encoded data removed]",
            "text/plain": [
              "<Figure size 1200x600 with 1 Axes>"
            ]
          },
          "metadata": {},
          "output_type": "display_data"
        }
      ],
      "source": [
        "# xgb_importances = xgb_classifier.feature_importances_\n",
        "# xgb_feature_names = X.columns\n",
        "\n",
        "# # 특성 중요도 그래프 그리기\n",
        "# plt.figure(figsize=(12, 6))\n",
        "# plt.bar(xgb_feature_names, xgb_importances)\n",
        "# plt.xticks(rotation=45, ha='right')\n",
        "# plt.xlabel('Feature')\n",
        "# plt.ylabel('Importance')\n",
        "# plt.title('Feature Importance in Random Forest')\n",
        "# plt.tight_layout()\n",
        "# plt.show()"
      ]
    },
    {
      "cell_type": "markdown",
      "metadata": {
        "id": "SthtYWHyhkg3"
      },
      "source": [
        "### AUTO ML\n",
        "-<출처> https://velog.io/@otzslayer/MLflow%EC%99%80-Optuna-%EC%9D%B4%EC%9A%A9%ED%95%98%EC%97%AC-%EB%AA%A8%EB%8D%B8-%ED%8A%9C%EB%8B%9D%ED%95%98%EA%B3%A0-%EA%B4%80%EB%A6%AC%ED%95%98%EA%B8%B0"
      ]
    },
    {
      "cell_type": "code",
      "execution_count": null,
      "metadata": {
        "id": "7n1hJFV6h6XX"
      },
      "outputs": [],
      "source": [
        "from typing import List\n",
        "\n",
        "import numpy as np\n",
        "import pandas as pd\n",
        "from sklearn.compose import ColumnTransformer\n",
        "from sklearn.impute import SimpleImputer\n",
        "from sklearn.pipeline import Pipeline\n",
        "from sklearn.preprocessing import MinMaxScaler\n",
        "\n",
        "# def load_data() -> tuple[pd.DataFrame, np.ndarray]:\n",
        "#     df = pd.read_csv(\"./data/train.csv\")\n",
        "\n",
        "#     y = np.log1p(df[\"SalePrice\"].ravel())\n",
        "#     X = df.drop([\"Id\", \"Alley\", \"PoolQC\", \"Fence\",\n",
        "#                 \"MiscFeature\", \"SalePrice\"], axis=1)\n",
        "# return X, y\n",
        "\n",
        "def identify_column_types(X: pd.DataFrame): #-> tuple[List, List]\n",
        "    num_cols = X.select_dtypes(\"number\").columns.tolist()\n",
        "    cat_cols = X.select_dtypes(\"object\").columns.tolist()\n",
        "\n",
        "    return num_cols, cat_cols\n",
        "\n",
        "def make_preprocess_pipeline(num_cols, cat_cols): # -> ColumnTransformer\n",
        "    num_processor = Pipeline(steps=[\n",
        "        (\"imputer\", SimpleImputer(strategy=\"most_frequent\")),\n",
        "        (\"scaler\",  MinMaxScaler())\n",
        "    ])\n",
        "\n",
        "    cat_processor = Pipeline(steps=[\n",
        "        (\"imputer\", SimpleImputer(strategy=\"constant\",\n",
        "                                  fill_value=\"None\"))\n",
        "    ])\n",
        "\n",
        "    preprocessor = ColumnTransformer([\n",
        "        (\"num\", num_processor, num_cols),\n",
        "        (\"cat\", cat_processor, cat_cols)\n",
        "    ])\n",
        "\n",
        "    return preprocessor\n",
        "\n",
        "y = df['credit']\n",
        "X = df.drop('credit', axis = 1)\n",
        "\n",
        "num_cols, cat_cols = identify_column_types(X)\n",
        "\n",
        "preprocessor = make_preprocess_pipeline(num_cols, cat_cols)\n",
        "\n",
        "X_ = pd.DataFrame(preprocessor.fit_transform(X, y),\n",
        "                  columns=num_cols+cat_cols)"
      ]
    },
    {
      "cell_type": "code",
      "execution_count": null,
      "metadata": {
        "colab": {
          "base_uri": "https://localhost:8080/"
        },
        "id": "smeIsy6nhj0_",
        "outputId": "cea0a5f8-f277-4989-d4e2-93bbeeedfd83"
      },
      "outputs": [
        {
          "name": "stderr",
          "output_type": "stream",
          "text": [
            "[I 2023-08-13 00:56:00,373] A new study created in memory with name: house_price_prediction\n"
          ]
        }
      ],
      "source": [
        "import catboost\n",
        "import optuna\n",
        "\n",
        "class Objective(object):\n",
        "    def __init__(self, pool):\n",
        "        self.pool = pool\n",
        "\n",
        "    def __call__(self, trial):\n",
        "        pool = self.pool\n",
        "\n",
        "        max_depth = trial.suggest_int(\"max_depth\", 3, 10)\n",
        "        learning_rate = trial.suggest_float(\"learning_rate\", 0.05, 0.3)\n",
        "        subsample = trial.suggest_float(\"subsample\", 0.75, 1)\n",
        "        l2_leaf_reg = trial.suggest_float(\"l2_leaf_reg\", 1e-5, 1e-1, log=True)\n",
        "\n",
        "        params = {\"loss_function\": \"RMSE\",\n",
        "                \"depth\": max_depth,\n",
        "                \"learning_rate\": learning_rate,\n",
        "                \"subsample\": subsample,\n",
        "                \"l2_leaf_reg\": l2_leaf_reg}\n",
        "\n",
        "        cv_result = catboost.cv(pool=pool,\n",
        "                                params=params,\n",
        "                                num_boost_round=1000,\n",
        "                                nfold=5,\n",
        "                                seed=0,\n",
        "                                early_stfopping_rounds=30,\n",
        "                                verbose=False)\n",
        "\n",
        "        rmsle = cv_result[\"test-RMSE-mean\"].min()\n",
        "\n",
        "        return rmsle\n",
        "\n",
        "pool = catboost.Pool(X_, label=y, cat_features=cat_cols)\n",
        "objective = Objective(pool)\n",
        "\n",
        "study = optuna.create_study(\n",
        "    study_name=\"house_price_prediction\",\n",
        "    direction=\"minimize\",\n",
        "    pruner=optuna.pruners.HyperbandPruner(max_resource=\"auto\")\n",
        ")"
      ]
    },
    {
      "cell_type": "markdown",
      "metadata": {
        "id": "cUJdiMU0xCvE"
      },
      "source": [
        "#### Web UI 확인\n",
        "최적화 중, 또는 최적화 완료 후에 mlruns 폴더가 있는 경로에서 다음 명령어를 입력합니다.\n",
        "\n",
        " $ mlflow ui\n",
        "그러면 로컬호스트에 5000번 포트를 통해서 UI 페이지로 접근할 수 있습니다.\n",
        "\n",
        " https://127.0.0.1:5000\n",
        "tracking_uri가 있는 폴더에서 제대로 실행했다면 아래와 같은 UI 페이지를 확인할 수 있습니다.\n",
        "\n"
      ]
    },
    {
      "cell_type": "code",
      "execution_count": null,
      "metadata": {
        "id": "we67Rw7RxIXL"
      },
      "outputs": [],
      "source": [
        "%cd"
      ]
    },
    {
      "cell_type": "code",
      "execution_count": null,
      "metadata": {
        "id": "8iJmOv7nw6bU"
      },
      "outputs": [],
      "source": [
        "! mlflow ui"
      ]
    },
    {
      "cell_type": "code",
      "execution_count": null,
      "metadata": {
        "id": "ORZhtuVvw2Yb"
      },
      "outputs": [],
      "source": [
        "from optuna.integration.mlflow import MLflowCallback\n",
        "\n",
        "def make_mlflow_callback():\n",
        "    cb = MLflowCallback(\n",
        "         tracking_uri=\"mlruns\",\n",
        "         metric_name=\"RMSLE\"\n",
        "    )\n",
        "    return cb\n",
        "\n",
        "mlflow_cb = make_mlflow_callback()\n",
        "study.optimize(objective, n_trials=50, callbacks=[mlflow_cb])"
      ]
    },
    {
      "cell_type": "markdown",
      "metadata": {
        "id": "XL1u0faq2JzA"
      },
      "source": [
        "## SCV irls 데이터로 ML"
      ]
    },
    {
      "cell_type": "code",
      "execution_count": null,
      "metadata": {
        "colab": {
          "background_save": true,
          "base_uri": "https://localhost:8080/"
        },
        "id": "uRVMJvUpywjl",
        "outputId": "ac3dc033-8778-45d2-a9f7-b2451d58c79b"
      },
      "outputs": [
        {
          "name": "stderr",
          "output_type": "stream",
          "text": [
            "[I 2023-08-13 00:58:26,490] A new study created in memory with name: iris_test\n"
          ]
        }
      ],
      "source": [
        "import os\n",
        "import numpy as np\n",
        "from sklearn.datasets import load_iris\n",
        "from sklearn.model_selection import train_test_split\n",
        "from sklearn.svm import SVC\n",
        "from sklearn.metrics import accuracy_score\n",
        "import optuna\n",
        "from optuna.integration.mlflow import MLflowCallback\n",
        "\n",
        "# iris = load_iris()\n",
        "# trainx, testx, trainy, testy = train_test_split(iris.data, iris.target, test_size=0.2)\n",
        "trainx, testx, trainy, testy = train_test_split(train,target,test_size=0.2)\n",
        "\n",
        "def objective(trial):\n",
        "    gamma = trial.suggest_loguniform('gamma', 1e-3, 3.0)\n",
        "    C = trial.suggest_loguniform('C', 1e+0, 1e+2/2)\n",
        "    kernel = trial.suggest_categorical('kernel', ['linear','rbf','sigmoid'])\n",
        "    svc = SVC(gamma=gamma, C=C, kernel=kernel)\n",
        "    svc.fit(trainx, trainy)\n",
        "    predy = svc.predict(testx)\n",
        "    accuracy = accuracy_score(testy, predy)\n",
        "    return accuracy\n",
        "\n",
        "if __name__=='__main__':\n",
        "\n",
        "    mlflc = MLflowCallback(tracking_uri='ml_exp',\n",
        "                      metric_name='accuracy')\n",
        "    study = optuna.create_study(study_name='iris_test')\n",
        "    study.optimize(objective, n_trials=50, callbacks=[mlflc])"
      ]
    },
    {
      "cell_type": "code",
      "execution_count": null,
      "metadata": {
        "id": "ktROVfdLzEgV"
      },
      "outputs": [],
      "source": [
        "def objective(trial):\n",
        "    gamma = trial.suggest_loguniform('gamma', 1e-3, 3.0)\n",
        "    C = trial.suggest_loguniform('C', 1e+0, 1e+2/2)\n",
        "    kernel = trial.suggest_categorical('kernel', ['linear','rbf','sigmoid'])\n",
        "    svc = SVC(gamma=gamma, C=C, kernel=kernel)\n",
        "    svc.fit(trainx, trainy)\n",
        "    predy = svc.predict(testx)\n",
        "    accuracy = accuracy_score(testy, predy)\n",
        "    return accuracy\n",
        "\n",
        "if __name__=='__main__':\n",
        "\n",
        "    mlflc = MLflowCallback(tracking_uri='ml_exp',\n",
        "                      metric_name='accuracy')\n",
        "    study = optuna.create_study(study_name='iris_test')\n",
        "    study.optimize(objective, n_trials=50, callbacks=[mlflc])"
      ]
    },
    {
      "cell_type": "code",
      "execution_count": null,
      "metadata": {
        "id": "qGB_s5Ki1Wbo"
      },
      "outputs": [],
      "source": [
        "! mlflow ui --backend-store-uri file:///home/user/dev/mlflowsample/test_optuna/ml_exp/"
      ]
    },
    {
      "cell_type": "markdown",
      "metadata": {
        "id": "3vJrb4hH2EYI"
      },
      "source": [
        "## 다른거"
      ]
    },
    {
      "cell_type": "code",
      "execution_count": null,
      "metadata": {
        "id": "dRF6ILrK2rPQ"
      },
      "outputs": [],
      "source": [
        "# 참고 : https://teddylee777.github.io/machine-learning/auto-tuning-models/"
      ]
    },
    {
      "cell_type": "code",
      "execution_count": null,
      "metadata": {
        "id": "7pL1ICm22BKY"
      },
      "outputs": [],
      "source": [
        "!pip install -U teddynote"
      ]
    },
    {
      "cell_type": "code",
      "execution_count": null,
      "metadata": {
        "id": "WI5rYiJW2DRo"
      },
      "outputs": [],
      "source": [
        "# 모듈 import\n",
        "from teddynote import models"
      ]
    },
    {
      "cell_type": "code",
      "execution_count": null,
      "metadata": {
        "id": "7OTzrG4I2DzA"
      },
      "outputs": [],
      "source": [
        "# 샘플 데이터 load\n",
        "import pandas as pd\n",
        "import numpy as np\n",
        "import matplotlib.pyplot as plt\n",
        "import seaborn as sns\n",
        "import warnings\n",
        "\n",
        "from sklearn.datasets import load_iris, load_boston, load_breast_cancer\n",
        "from sklearn.model_selection import train_test_split\n",
        "from sklearn.metrics import mean_squared_error\n",
        "\n",
        "import lightgbm as lgb\n",
        "import xgboost as xgb\n",
        "import catboost as cb\n",
        "\n",
        "from lightgbm import LGBMRegressor, LGBMClassifier\n",
        "from xgboost import XGBRegressor, XGBClassifier\n",
        "from catboost import CatBoostRegressor, CatBoostClassifier\n",
        "\n",
        "warnings.filterwarnings('ignore')\n",
        "\n",
        "SEED = 2021"
      ]
    },
    {
      "cell_type": "code",
      "execution_count": null,
      "metadata": {
        "id": "9zsXkE2K2f2g"
      },
      "outputs": [],
      "source": []
    }
  ],
  "metadata": {
    "colab": {
      "provenance": [],
      "authorship_tag": "ABX9TyNMJA/JWMKwbdtNvoit1quc",
      "include_colab_link": true
    },
    "kernelspec": {
      "display_name": "Python 3",
      "name": "python3"
    },
    "language_info": {
      "name": "python"
    },
    "widgets": {
      "application/vnd.jupyter.widget-state+json": {
        "0d27d6e7832243f0a7a6fa0609b105bd": {
          "model_module": "@jupyter-widgets/base",
          "model_module_version": "1.2.0",
          "model_name": "LayoutModel",
          "state": {
            "_model_module": "@jupyter-widgets/base",
            "_model_module_version": "1.2.0",
            "_model_name": "LayoutModel",
            "_view_count": null,
            "_view_module": "@jupyter-widgets/base",
            "_view_module_version": "1.2.0",
            "_view_name": "LayoutView",
            "align_content": null,
            "align_items": null,
            "align_self": null,
            "border": null,
            "bottom": null,
            "display": null,
            "flex": null,
            "flex_flow": null,
            "grid_area": null,
            "grid_auto_columns": null,
            "grid_auto_flow": null,
            "grid_auto_rows": null,
            "grid_column": null,
            "grid_gap": null,
            "grid_row": null,
            "grid_template_areas": null,
            "grid_template_columns": null,
            "grid_template_rows": null,
            "height": null,
            "justify_content": null,
            "justify_items": null,
            "left": null,
            "margin": null,
            "max_height": null,
            "max_width": null,
            "min_height": null,
            "min_width": null,
            "object_fit": null,
            "object_position": null,
            "order": null,
            "overflow": null,
            "overflow_x": null,
            "overflow_y": null,
            "padding": null,
            "right": null,
            "top": null,
            "visibility": null,
            "width": null
          }
        },
        "20bd49de2ab74431bc21e390113d455b": {
          "model_module": "@jupyter-widgets/controls",
          "model_module_version": "1.5.0",
          "model_name": "ProgressStyleModel",
          "state": {
            "_model_module": "@jupyter-widgets/controls",
            "_model_module_version": "1.5.0",
            "_model_name": "ProgressStyleModel",
            "_view_count": null,
            "_view_module": "@jupyter-widgets/base",
            "_view_module_version": "1.2.0",
            "_view_name": "StyleView",
            "bar_color": null,
            "description_width": ""
          }
        },
        "227cf6127eea43109253d3955a4e328b": {
          "model_module": "@jupyter-widgets/controls",
          "model_module_version": "1.5.0",
          "model_name": "DescriptionStyleModel",
          "state": {
            "_model_module": "@jupyter-widgets/controls",
            "_model_module_version": "1.5.0",
            "_model_name": "DescriptionStyleModel",
            "_view_count": null,
            "_view_module": "@jupyter-widgets/base",
            "_view_module_version": "1.2.0",
            "_view_name": "StyleView",
            "description_width": ""
          }
        },
        "2ab0856449234c87b0df1239d1d61ea2": {
          "model_module": "@jupyter-widgets/controls",
          "model_module_version": "1.5.0",
          "model_name": "HBoxModel",
          "state": {
            "_dom_classes": [],
            "_model_module": "@jupyter-widgets/controls",
            "_model_module_version": "1.5.0",
            "_model_name": "HBoxModel",
            "_view_count": null,
            "_view_module": "@jupyter-widgets/controls",
            "_view_module_version": "1.5.0",
            "_view_name": "HBoxView",
            "box_style": "",
            "children": [
              "IPY_MODEL_c86293c9f93b4fea8eb833dbab28ce84",
              "IPY_MODEL_e46f17684810463ebe3a7722123cae13",
              "IPY_MODEL_61a46ba9e61948d1a54998b77937bc1b"
            ],
            "layout": "IPY_MODEL_d39ec53cbe3c411e8c2d4358159bfb06"
          }
        },
        "45d6119ef16542de9dacb96935d82e32": {
          "model_module": "@jupyter-widgets/base",
          "model_module_version": "1.2.0",
          "model_name": "LayoutModel",
          "state": {
            "_model_module": "@jupyter-widgets/base",
            "_model_module_version": "1.2.0",
            "_model_name": "LayoutModel",
            "_view_count": null,
            "_view_module": "@jupyter-widgets/base",
            "_view_module_version": "1.2.0",
            "_view_name": "LayoutView",
            "align_content": null,
            "align_items": null,
            "align_self": null,
            "border": null,
            "bottom": null,
            "display": null,
            "flex": null,
            "flex_flow": null,
            "grid_area": null,
            "grid_auto_columns": null,
            "grid_auto_flow": null,
            "grid_auto_rows": null,
            "grid_column": null,
            "grid_gap": null,
            "grid_row": null,
            "grid_template_areas": null,
            "grid_template_columns": null,
            "grid_template_rows": null,
            "height": null,
            "justify_content": null,
            "justify_items": null,
            "left": null,
            "margin": null,
            "max_height": null,
            "max_width": null,
            "min_height": null,
            "min_width": null,
            "object_fit": null,
            "object_position": null,
            "order": null,
            "overflow": null,
            "overflow_x": null,
            "overflow_y": null,
            "padding": null,
            "right": null,
            "top": null,
            "visibility": null,
            "width": null
          }
        },
        "50b4efe33a0e4124a101ed63c8aa993a": {
          "model_module": "@jupyter-widgets/base",
          "model_module_version": "1.2.0",
          "model_name": "LayoutModel",
          "state": {
            "_model_module": "@jupyter-widgets/base",
            "_model_module_version": "1.2.0",
            "_model_name": "LayoutModel",
            "_view_count": null,
            "_view_module": "@jupyter-widgets/base",
            "_view_module_version": "1.2.0",
            "_view_name": "LayoutView",
            "align_content": null,
            "align_items": null,
            "align_self": null,
            "border": null,
            "bottom": null,
            "display": null,
            "flex": null,
            "flex_flow": null,
            "grid_area": null,
            "grid_auto_columns": null,
            "grid_auto_flow": null,
            "grid_auto_rows": null,
            "grid_column": null,
            "grid_gap": null,
            "grid_row": null,
            "grid_template_areas": null,
            "grid_template_columns": null,
            "grid_template_rows": null,
            "height": null,
            "justify_content": null,
            "justify_items": null,
            "left": null,
            "margin": null,
            "max_height": null,
            "max_width": null,
            "min_height": null,
            "min_width": null,
            "object_fit": null,
            "object_position": null,
            "order": null,
            "overflow": null,
            "overflow_x": null,
            "overflow_y": null,
            "padding": null,
            "right": null,
            "top": null,
            "visibility": null,
            "width": null
          }
        },
        "61a46ba9e61948d1a54998b77937bc1b": {
          "model_module": "@jupyter-widgets/controls",
          "model_module_version": "1.5.0",
          "model_name": "HTMLModel",
          "state": {
            "_dom_classes": [],
            "_model_module": "@jupyter-widgets/controls",
            "_model_module_version": "1.5.0",
            "_model_name": "HTMLModel",
            "_view_count": null,
            "_view_module": "@jupyter-widgets/controls",
            "_view_module_version": "1.5.0",
            "_view_name": "HTMLView",
            "description": "",
            "description_tooltip": null,
            "layout": "IPY_MODEL_bfa3eee4d7384ac79226493e00d147cc",
            "placeholder": "​",
            "style": "IPY_MODEL_c9c24a8ed3fd4695b75d22e2078114b0",
            "value": " 7/7 [05:40&lt;00:00, 46.27s/it]"
          }
        },
        "79c69a49f0ff4313a6a32cab68fc001a": {
          "model_module": "@jupyter-widgets/controls",
          "model_module_version": "1.5.0",
          "model_name": "DescriptionStyleModel",
          "state": {
            "_model_module": "@jupyter-widgets/controls",
            "_model_module_version": "1.5.0",
            "_model_name": "DescriptionStyleModel",
            "_view_count": null,
            "_view_module": "@jupyter-widgets/base",
            "_view_module_version": "1.2.0",
            "_view_name": "StyleView",
            "description_width": ""
          }
        },
        "7d63d33d8fff4a19970b03b255b35c60": {
          "model_module": "@jupyter-widgets/controls",
          "model_module_version": "1.5.0",
          "model_name": "ProgressStyleModel",
          "state": {
            "_model_module": "@jupyter-widgets/controls",
            "_model_module_version": "1.5.0",
            "_model_name": "ProgressStyleModel",
            "_view_count": null,
            "_view_module": "@jupyter-widgets/base",
            "_view_module_version": "1.2.0",
            "_view_name": "StyleView",
            "bar_color": null,
            "description_width": ""
          }
        },
        "87dac023e4f944b3a5202974e292f913": {
          "model_module": "@jupyter-widgets/base",
          "model_module_version": "1.2.0",
          "model_name": "LayoutModel",
          "state": {
            "_model_module": "@jupyter-widgets/base",
            "_model_module_version": "1.2.0",
            "_model_name": "LayoutModel",
            "_view_count": null,
            "_view_module": "@jupyter-widgets/base",
            "_view_module_version": "1.2.0",
            "_view_name": "LayoutView",
            "align_content": null,
            "align_items": null,
            "align_self": null,
            "border": null,
            "bottom": null,
            "display": null,
            "flex": null,
            "flex_flow": null,
            "grid_area": null,
            "grid_auto_columns": null,
            "grid_auto_flow": null,
            "grid_auto_rows": null,
            "grid_column": null,
            "grid_gap": null,
            "grid_row": null,
            "grid_template_areas": null,
            "grid_template_columns": null,
            "grid_template_rows": null,
            "height": null,
            "justify_content": null,
            "justify_items": null,
            "left": null,
            "margin": null,
            "max_height": null,
            "max_width": null,
            "min_height": null,
            "min_width": null,
            "object_fit": null,
            "object_position": null,
            "order": null,
            "overflow": null,
            "overflow_x": null,
            "overflow_y": null,
            "padding": null,
            "right": null,
            "top": null,
            "visibility": null,
            "width": null
          }
        },
        "9bcd2149e0da4db8aefbcdb33bdbeb52": {
          "model_module": "@jupyter-widgets/controls",
          "model_module_version": "1.5.0",
          "model_name": "HTMLModel",
          "state": {
            "_dom_classes": [],
            "_model_module": "@jupyter-widgets/controls",
            "_model_module_version": "1.5.0",
            "_model_name": "HTMLModel",
            "_view_count": null,
            "_view_module": "@jupyter-widgets/controls",
            "_view_module_version": "1.5.0",
            "_view_name": "HTMLView",
            "description": "",
            "description_tooltip": null,
            "layout": "IPY_MODEL_a2674072ef5d4cb0b86b74868eb2257d",
            "placeholder": "​",
            "style": "IPY_MODEL_227cf6127eea43109253d3955a4e328b",
            "value": "100%"
          }
        },
        "a2674072ef5d4cb0b86b74868eb2257d": {
          "model_module": "@jupyter-widgets/base",
          "model_module_version": "1.2.0",
          "model_name": "LayoutModel",
          "state": {
            "_model_module": "@jupyter-widgets/base",
            "_model_module_version": "1.2.0",
            "_model_name": "LayoutModel",
            "_view_count": null,
            "_view_module": "@jupyter-widgets/base",
            "_view_module_version": "1.2.0",
            "_view_name": "LayoutView",
            "align_content": null,
            "align_items": null,
            "align_self": null,
            "border": null,
            "bottom": null,
            "display": null,
            "flex": null,
            "flex_flow": null,
            "grid_area": null,
            "grid_auto_columns": null,
            "grid_auto_flow": null,
            "grid_auto_rows": null,
            "grid_column": null,
            "grid_gap": null,
            "grid_row": null,
            "grid_template_areas": null,
            "grid_template_columns": null,
            "grid_template_rows": null,
            "height": null,
            "justify_content": null,
            "justify_items": null,
            "left": null,
            "margin": null,
            "max_height": null,
            "max_width": null,
            "min_height": null,
            "min_width": null,
            "object_fit": null,
            "object_position": null,
            "order": null,
            "overflow": null,
            "overflow_x": null,
            "overflow_y": null,
            "padding": null,
            "right": null,
            "top": null,
            "visibility": null,
            "width": null
          }
        },
        "a8b2f9bbe8684b1795123dfb1333b1dd": {
          "model_module": "@jupyter-widgets/base",
          "model_module_version": "1.2.0",
          "model_name": "LayoutModel",
          "state": {
            "_model_module": "@jupyter-widgets/base",
            "_model_module_version": "1.2.0",
            "_model_name": "LayoutModel",
            "_view_count": null,
            "_view_module": "@jupyter-widgets/base",
            "_view_module_version": "1.2.0",
            "_view_name": "LayoutView",
            "align_content": null,
            "align_items": null,
            "align_self": null,
            "border": null,
            "bottom": null,
            "display": null,
            "flex": null,
            "flex_flow": null,
            "grid_area": null,
            "grid_auto_columns": null,
            "grid_auto_flow": null,
            "grid_auto_rows": null,
            "grid_column": null,
            "grid_gap": null,
            "grid_row": null,
            "grid_template_areas": null,
            "grid_template_columns": null,
            "grid_template_rows": null,
            "height": null,
            "justify_content": null,
            "justify_items": null,
            "left": null,
            "margin": null,
            "max_height": null,
            "max_width": null,
            "min_height": null,
            "min_width": null,
            "object_fit": null,
            "object_position": null,
            "order": null,
            "overflow": null,
            "overflow_x": null,
            "overflow_y": null,
            "padding": null,
            "right": null,
            "top": null,
            "visibility": null,
            "width": null
          }
        },
        "ab6a2836381542cc975219628cf6959f": {
          "model_module": "@jupyter-widgets/controls",
          "model_module_version": "1.5.0",
          "model_name": "DescriptionStyleModel",
          "state": {
            "_model_module": "@jupyter-widgets/controls",
            "_model_module_version": "1.5.0",
            "_model_name": "DescriptionStyleModel",
            "_view_count": null,
            "_view_module": "@jupyter-widgets/base",
            "_view_module_version": "1.2.0",
            "_view_name": "StyleView",
            "description_width": ""
          }
        },
        "bfa3eee4d7384ac79226493e00d147cc": {
          "model_module": "@jupyter-widgets/base",
          "model_module_version": "1.2.0",
          "model_name": "LayoutModel",
          "state": {
            "_model_module": "@jupyter-widgets/base",
            "_model_module_version": "1.2.0",
            "_model_name": "LayoutModel",
            "_view_count": null,
            "_view_module": "@jupyter-widgets/base",
            "_view_module_version": "1.2.0",
            "_view_name": "LayoutView",
            "align_content": null,
            "align_items": null,
            "align_self": null,
            "border": null,
            "bottom": null,
            "display": null,
            "flex": null,
            "flex_flow": null,
            "grid_area": null,
            "grid_auto_columns": null,
            "grid_auto_flow": null,
            "grid_auto_rows": null,
            "grid_column": null,
            "grid_gap": null,
            "grid_row": null,
            "grid_template_areas": null,
            "grid_template_columns": null,
            "grid_template_rows": null,
            "height": null,
            "justify_content": null,
            "justify_items": null,
            "left": null,
            "margin": null,
            "max_height": null,
            "max_width": null,
            "min_height": null,
            "min_width": null,
            "object_fit": null,
            "object_position": null,
            "order": null,
            "overflow": null,
            "overflow_x": null,
            "overflow_y": null,
            "padding": null,
            "right": null,
            "top": null,
            "visibility": null,
            "width": null
          }
        },
        "c86293c9f93b4fea8eb833dbab28ce84": {
          "model_module": "@jupyter-widgets/controls",
          "model_module_version": "1.5.0",
          "model_name": "HTMLModel",
          "state": {
            "_dom_classes": [],
            "_model_module": "@jupyter-widgets/controls",
            "_model_module_version": "1.5.0",
            "_model_name": "HTMLModel",
            "_view_count": null,
            "_view_module": "@jupyter-widgets/controls",
            "_view_module_version": "1.5.0",
            "_view_name": "HTMLView",
            "description": "",
            "description_tooltip": null,
            "layout": "IPY_MODEL_87dac023e4f944b3a5202974e292f913",
            "placeholder": "​",
            "style": "IPY_MODEL_79c69a49f0ff4313a6a32cab68fc001a",
            "value": "100%"
          }
        },
        "c9c24a8ed3fd4695b75d22e2078114b0": {
          "model_module": "@jupyter-widgets/controls",
          "model_module_version": "1.5.0",
          "model_name": "DescriptionStyleModel",
          "state": {
            "_model_module": "@jupyter-widgets/controls",
            "_model_module_version": "1.5.0",
            "_model_name": "DescriptionStyleModel",
            "_view_count": null,
            "_view_module": "@jupyter-widgets/base",
            "_view_module_version": "1.2.0",
            "_view_name": "StyleView",
            "description_width": ""
          }
        },
        "d39ec53cbe3c411e8c2d4358159bfb06": {
          "model_module": "@jupyter-widgets/base",
          "model_module_version": "1.2.0",
          "model_name": "LayoutModel",
          "state": {
            "_model_module": "@jupyter-widgets/base",
            "_model_module_version": "1.2.0",
            "_model_name": "LayoutModel",
            "_view_count": null,
            "_view_module": "@jupyter-widgets/base",
            "_view_module_version": "1.2.0",
            "_view_name": "LayoutView",
            "align_content": null,
            "align_items": null,
            "align_self": null,
            "border": null,
            "bottom": null,
            "display": null,
            "flex": null,
            "flex_flow": null,
            "grid_area": null,
            "grid_auto_columns": null,
            "grid_auto_flow": null,
            "grid_auto_rows": null,
            "grid_column": null,
            "grid_gap": null,
            "grid_row": null,
            "grid_template_areas": null,
            "grid_template_columns": null,
            "grid_template_rows": null,
            "height": null,
            "justify_content": null,
            "justify_items": null,
            "left": null,
            "margin": null,
            "max_height": null,
            "max_width": null,
            "min_height": null,
            "min_width": null,
            "object_fit": null,
            "object_position": null,
            "order": null,
            "overflow": null,
            "overflow_x": null,
            "overflow_y": null,
            "padding": null,
            "right": null,
            "top": null,
            "visibility": null,
            "width": null
          }
        },
        "d5f4688cfa5448f188ed79225419f228": {
          "model_module": "@jupyter-widgets/controls",
          "model_module_version": "1.5.0",
          "model_name": "FloatProgressModel",
          "state": {
            "_dom_classes": [],
            "_model_module": "@jupyter-widgets/controls",
            "_model_module_version": "1.5.0",
            "_model_name": "FloatProgressModel",
            "_view_count": null,
            "_view_module": "@jupyter-widgets/controls",
            "_view_module_version": "1.5.0",
            "_view_name": "ProgressView",
            "bar_style": "success",
            "description": "",
            "description_tooltip": null,
            "layout": "IPY_MODEL_0d27d6e7832243f0a7a6fa0609b105bd",
            "max": 8,
            "min": 0,
            "orientation": "horizontal",
            "style": "IPY_MODEL_20bd49de2ab74431bc21e390113d455b",
            "value": 8
          }
        },
        "e46f17684810463ebe3a7722123cae13": {
          "model_module": "@jupyter-widgets/controls",
          "model_module_version": "1.5.0",
          "model_name": "FloatProgressModel",
          "state": {
            "_dom_classes": [],
            "_model_module": "@jupyter-widgets/controls",
            "_model_module_version": "1.5.0",
            "_model_name": "FloatProgressModel",
            "_view_count": null,
            "_view_module": "@jupyter-widgets/controls",
            "_view_module_version": "1.5.0",
            "_view_name": "ProgressView",
            "bar_style": "success",
            "description": "",
            "description_tooltip": null,
            "layout": "IPY_MODEL_a8b2f9bbe8684b1795123dfb1333b1dd",
            "max": 7,
            "min": 0,
            "orientation": "horizontal",
            "style": "IPY_MODEL_7d63d33d8fff4a19970b03b255b35c60",
            "value": 7
          }
        },
        "eabb2b17afba4e2c8cc5f3294a8563b8": {
          "model_module": "@jupyter-widgets/controls",
          "model_module_version": "1.5.0",
          "model_name": "HBoxModel",
          "state": {
            "_dom_classes": [],
            "_model_module": "@jupyter-widgets/controls",
            "_model_module_version": "1.5.0",
            "_model_name": "HBoxModel",
            "_view_count": null,
            "_view_module": "@jupyter-widgets/controls",
            "_view_module_version": "1.5.0",
            "_view_name": "HBoxView",
            "box_style": "",
            "children": [
              "IPY_MODEL_9bcd2149e0da4db8aefbcdb33bdbeb52",
              "IPY_MODEL_d5f4688cfa5448f188ed79225419f228",
              "IPY_MODEL_fe2354acefae4905bb8115977e8602f6"
            ],
            "layout": "IPY_MODEL_50b4efe33a0e4124a101ed63c8aa993a"
          }
        },
        "fe2354acefae4905bb8115977e8602f6": {
          "model_module": "@jupyter-widgets/controls",
          "model_module_version": "1.5.0",
          "model_name": "HTMLModel",
          "state": {
            "_dom_classes": [],
            "_model_module": "@jupyter-widgets/controls",
            "_model_module_version": "1.5.0",
            "_model_name": "HTMLModel",
            "_view_count": null,
            "_view_module": "@jupyter-widgets/controls",
            "_view_module_version": "1.5.0",
            "_view_name": "HTMLView",
            "description": "",
            "description_tooltip": null,
            "layout": "IPY_MODEL_45d6119ef16542de9dacb96935d82e32",
            "placeholder": "​",
            "style": "IPY_MODEL_ab6a2836381542cc975219628cf6959f",
            "value": " 8/8 [06:08&lt;00:00, 42.97s/it]"
          }
        },
        "5253854ba3284ba3af13537615769e39": {
          "model_module": "@jupyter-widgets/controls",
          "model_name": "HBoxModel",
          "model_module_version": "1.5.0",
          "state": {
            "_dom_classes": [],
            "_model_module": "@jupyter-widgets/controls",
            "_model_module_version": "1.5.0",
            "_model_name": "HBoxModel",
            "_view_count": null,
            "_view_module": "@jupyter-widgets/controls",
            "_view_module_version": "1.5.0",
            "_view_name": "HBoxView",
            "box_style": "",
            "children": [
              "IPY_MODEL_b12eb7b9cb0a4626baa30de60ae9f687",
              "IPY_MODEL_e45e868435e44094963f27dfdc1152e4",
              "IPY_MODEL_af467b5a29b847c1bd785b8877d910a2"
            ],
            "layout": "IPY_MODEL_44ec8c5f2b8745029d6d50e96bc5fd78"
          }
        },
        "b12eb7b9cb0a4626baa30de60ae9f687": {
          "model_module": "@jupyter-widgets/controls",
          "model_name": "HTMLModel",
          "model_module_version": "1.5.0",
          "state": {
            "_dom_classes": [],
            "_model_module": "@jupyter-widgets/controls",
            "_model_module_version": "1.5.0",
            "_model_name": "HTMLModel",
            "_view_count": null,
            "_view_module": "@jupyter-widgets/controls",
            "_view_module_version": "1.5.0",
            "_view_name": "HTMLView",
            "description": "",
            "description_tooltip": null,
            "layout": "IPY_MODEL_d46519006ab741bf9c7d1411803e605c",
            "placeholder": "​",
            "style": "IPY_MODEL_d63ed23d02714dcdac41b002c4ffbc93",
            "value": "100%"
          }
        },
        "e45e868435e44094963f27dfdc1152e4": {
          "model_module": "@jupyter-widgets/controls",
          "model_name": "FloatProgressModel",
          "model_module_version": "1.5.0",
          "state": {
            "_dom_classes": [],
            "_model_module": "@jupyter-widgets/controls",
            "_model_module_version": "1.5.0",
            "_model_name": "FloatProgressModel",
            "_view_count": null,
            "_view_module": "@jupyter-widgets/controls",
            "_view_module_version": "1.5.0",
            "_view_name": "ProgressView",
            "bar_style": "success",
            "description": "",
            "description_tooltip": null,
            "layout": "IPY_MODEL_9c339887cc3c402d97a919e08d87ccf7",
            "max": 7,
            "min": 0,
            "orientation": "horizontal",
            "style": "IPY_MODEL_e788f749c7f742bba8e01f19b22dc1cd",
            "value": 7
          }
        },
        "af467b5a29b847c1bd785b8877d910a2": {
          "model_module": "@jupyter-widgets/controls",
          "model_name": "HTMLModel",
          "model_module_version": "1.5.0",
          "state": {
            "_dom_classes": [],
            "_model_module": "@jupyter-widgets/controls",
            "_model_module_version": "1.5.0",
            "_model_name": "HTMLModel",
            "_view_count": null,
            "_view_module": "@jupyter-widgets/controls",
            "_view_module_version": "1.5.0",
            "_view_name": "HTMLView",
            "description": "",
            "description_tooltip": null,
            "layout": "IPY_MODEL_52bf8b905ddc4fa99664f6be826212e6",
            "placeholder": "​",
            "style": "IPY_MODEL_024609cfb21a469293f621203752990c",
            "value": " 7/7 [06:52&lt;00:00, 60.80s/it]"
          }
        },
        "44ec8c5f2b8745029d6d50e96bc5fd78": {
          "model_module": "@jupyter-widgets/base",
          "model_name": "LayoutModel",
          "model_module_version": "1.2.0",
          "state": {
            "_model_module": "@jupyter-widgets/base",
            "_model_module_version": "1.2.0",
            "_model_name": "LayoutModel",
            "_view_count": null,
            "_view_module": "@jupyter-widgets/base",
            "_view_module_version": "1.2.0",
            "_view_name": "LayoutView",
            "align_content": null,
            "align_items": null,
            "align_self": null,
            "border": null,
            "bottom": null,
            "display": null,
            "flex": null,
            "flex_flow": null,
            "grid_area": null,
            "grid_auto_columns": null,
            "grid_auto_flow": null,
            "grid_auto_rows": null,
            "grid_column": null,
            "grid_gap": null,
            "grid_row": null,
            "grid_template_areas": null,
            "grid_template_columns": null,
            "grid_template_rows": null,
            "height": null,
            "justify_content": null,
            "justify_items": null,
            "left": null,
            "margin": null,
            "max_height": null,
            "max_width": null,
            "min_height": null,
            "min_width": null,
            "object_fit": null,
            "object_position": null,
            "order": null,
            "overflow": null,
            "overflow_x": null,
            "overflow_y": null,
            "padding": null,
            "right": null,
            "top": null,
            "visibility": null,
            "width": null
          }
        },
        "d46519006ab741bf9c7d1411803e605c": {
          "model_module": "@jupyter-widgets/base",
          "model_name": "LayoutModel",
          "model_module_version": "1.2.0",
          "state": {
            "_model_module": "@jupyter-widgets/base",
            "_model_module_version": "1.2.0",
            "_model_name": "LayoutModel",
            "_view_count": null,
            "_view_module": "@jupyter-widgets/base",
            "_view_module_version": "1.2.0",
            "_view_name": "LayoutView",
            "align_content": null,
            "align_items": null,
            "align_self": null,
            "border": null,
            "bottom": null,
            "display": null,
            "flex": null,
            "flex_flow": null,
            "grid_area": null,
            "grid_auto_columns": null,
            "grid_auto_flow": null,
            "grid_auto_rows": null,
            "grid_column": null,
            "grid_gap": null,
            "grid_row": null,
            "grid_template_areas": null,
            "grid_template_columns": null,
            "grid_template_rows": null,
            "height": null,
            "justify_content": null,
            "justify_items": null,
            "left": null,
            "margin": null,
            "max_height": null,
            "max_width": null,
            "min_height": null,
            "min_width": null,
            "object_fit": null,
            "object_position": null,
            "order": null,
            "overflow": null,
            "overflow_x": null,
            "overflow_y": null,
            "padding": null,
            "right": null,
            "top": null,
            "visibility": null,
            "width": null
          }
        },
        "d63ed23d02714dcdac41b002c4ffbc93": {
          "model_module": "@jupyter-widgets/controls",
          "model_name": "DescriptionStyleModel",
          "model_module_version": "1.5.0",
          "state": {
            "_model_module": "@jupyter-widgets/controls",
            "_model_module_version": "1.5.0",
            "_model_name": "DescriptionStyleModel",
            "_view_count": null,
            "_view_module": "@jupyter-widgets/base",
            "_view_module_version": "1.2.0",
            "_view_name": "StyleView",
            "description_width": ""
          }
        },
        "9c339887cc3c402d97a919e08d87ccf7": {
          "model_module": "@jupyter-widgets/base",
          "model_name": "LayoutModel",
          "model_module_version": "1.2.0",
          "state": {
            "_model_module": "@jupyter-widgets/base",
            "_model_module_version": "1.2.0",
            "_model_name": "LayoutModel",
            "_view_count": null,
            "_view_module": "@jupyter-widgets/base",
            "_view_module_version": "1.2.0",
            "_view_name": "LayoutView",
            "align_content": null,
            "align_items": null,
            "align_self": null,
            "border": null,
            "bottom": null,
            "display": null,
            "flex": null,
            "flex_flow": null,
            "grid_area": null,
            "grid_auto_columns": null,
            "grid_auto_flow": null,
            "grid_auto_rows": null,
            "grid_column": null,
            "grid_gap": null,
            "grid_row": null,
            "grid_template_areas": null,
            "grid_template_columns": null,
            "grid_template_rows": null,
            "height": null,
            "justify_content": null,
            "justify_items": null,
            "left": null,
            "margin": null,
            "max_height": null,
            "max_width": null,
            "min_height": null,
            "min_width": null,
            "object_fit": null,
            "object_position": null,
            "order": null,
            "overflow": null,
            "overflow_x": null,
            "overflow_y": null,
            "padding": null,
            "right": null,
            "top": null,
            "visibility": null,
            "width": null
          }
        },
        "e788f749c7f742bba8e01f19b22dc1cd": {
          "model_module": "@jupyter-widgets/controls",
          "model_name": "ProgressStyleModel",
          "model_module_version": "1.5.0",
          "state": {
            "_model_module": "@jupyter-widgets/controls",
            "_model_module_version": "1.5.0",
            "_model_name": "ProgressStyleModel",
            "_view_count": null,
            "_view_module": "@jupyter-widgets/base",
            "_view_module_version": "1.2.0",
            "_view_name": "StyleView",
            "bar_color": null,
            "description_width": ""
          }
        },
        "52bf8b905ddc4fa99664f6be826212e6": {
          "model_module": "@jupyter-widgets/base",
          "model_name": "LayoutModel",
          "model_module_version": "1.2.0",
          "state": {
            "_model_module": "@jupyter-widgets/base",
            "_model_module_version": "1.2.0",
            "_model_name": "LayoutModel",
            "_view_count": null,
            "_view_module": "@jupyter-widgets/base",
            "_view_module_version": "1.2.0",
            "_view_name": "LayoutView",
            "align_content": null,
            "align_items": null,
            "align_self": null,
            "border": null,
            "bottom": null,
            "display": null,
            "flex": null,
            "flex_flow": null,
            "grid_area": null,
            "grid_auto_columns": null,
            "grid_auto_flow": null,
            "grid_auto_rows": null,
            "grid_column": null,
            "grid_gap": null,
            "grid_row": null,
            "grid_template_areas": null,
            "grid_template_columns": null,
            "grid_template_rows": null,
            "height": null,
            "justify_content": null,
            "justify_items": null,
            "left": null,
            "margin": null,
            "max_height": null,
            "max_width": null,
            "min_height": null,
            "min_width": null,
            "object_fit": null,
            "object_position": null,
            "order": null,
            "overflow": null,
            "overflow_x": null,
            "overflow_y": null,
            "padding": null,
            "right": null,
            "top": null,
            "visibility": null,
            "width": null
          }
        },
        "024609cfb21a469293f621203752990c": {
          "model_module": "@jupyter-widgets/controls",
          "model_name": "DescriptionStyleModel",
          "model_module_version": "1.5.0",
          "state": {
            "_model_module": "@jupyter-widgets/controls",
            "_model_module_version": "1.5.0",
            "_model_name": "DescriptionStyleModel",
            "_view_count": null,
            "_view_module": "@jupyter-widgets/base",
            "_view_module_version": "1.2.0",
            "_view_name": "StyleView",
            "description_width": ""
          }
        }
      }
    }
  },
  "nbformat": 4,
  "nbformat_minor": 0
}