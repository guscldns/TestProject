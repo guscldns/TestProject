{
  "nbformat": 4,
  "nbformat_minor": 0,
  "metadata": {
    "colab": {
      "provenance": [],
      "gpuType": "T4",
      "collapsed_sections": [
        "JMOIrGX0U2ns",
        "h2tVR7JRie6J"
      ],
      "authorship_tag": "ABX9TyNNMzGrZx/rSTKyyQIpy2t8",
      "include_colab_link": true
    },
    "kernelspec": {
      "name": "python3",
      "display_name": "Python 3"
    },
    "language_info": {
      "name": "python"
    },
    "accelerator": "GPU"
  },
  "cells": [
    {
      "cell_type": "markdown",
      "metadata": {
        "id": "view-in-github",
        "colab_type": "text"
      },
      "source": [
        "<a href=\"https://colab.research.google.com/github/guscldns/TestProject/blob/main/0818/pytoch.ipynb\" target=\"_parent\"><img src=\"https://colab.research.google.com/assets/colab-badge.svg\" alt=\"Open In Colab\"/></a>"
      ]
    },
    {
      "cell_type": "code",
      "source": [
        "import numpy as np\n",
        "import torch"
      ],
      "metadata": {
        "id": "Ca5E7BlxPn09"
      },
      "execution_count": 1,
      "outputs": []
    },
    {
      "cell_type": "markdown",
      "source": [
        "### 뷰(View) : 원소의 수를 유지하면서 텐서의 크기 변경. 매우 중요!\n",
        "- torch.FloatTensor 안에 있음"
      ],
      "metadata": {
        "id": "5MC5ZQ4XP15M"
      }
    },
    {
      "cell_type": "code",
      "source": [
        "t = np.array([[[0, 1, 2],\n",
        "               [3, 4, 5]],\n",
        "              [[6, 7, 8],\n",
        "               [9, 10, 11]]])\n",
        "ft = torch.FloatTensor(t)"
      ],
      "metadata": {
        "id": "Nz7uTTF4PvJC"
      },
      "execution_count": null,
      "outputs": []
    },
    {
      "cell_type": "code",
      "source": [
        "print(ft.shape)"
      ],
      "metadata": {
        "colab": {
          "base_uri": "https://localhost:8080/"
        },
        "id": "T28xrT3eP62U",
        "outputId": "92a4e9c5-19e7-4d15-f1ee-622401160159"
      },
      "execution_count": null,
      "outputs": [
        {
          "output_type": "stream",
          "name": "stdout",
          "text": [
            "torch.Size([2, 2, 3])\n"
          ]
        }
      ]
    },
    {
      "cell_type": "code",
      "source": [
        "ft.view(-1,2) # 2열로 만들되 행은 알아서 만들어라"
      ],
      "metadata": {
        "colab": {
          "base_uri": "https://localhost:8080/"
        },
        "id": "WriwTbo8QCcU",
        "outputId": "045b8c43-957f-44bd-ba7e-30623e34a1eb"
      },
      "execution_count": null,
      "outputs": [
        {
          "output_type": "execute_result",
          "data": {
            "text/plain": [
              "tensor([[ 0.,  1.],\n",
              "        [ 2.,  3.],\n",
              "        [ 4.,  5.],\n",
              "        [ 6.,  7.],\n",
              "        [ 8.,  9.],\n",
              "        [10., 11.]])"
            ]
          },
          "metadata": {},
          "execution_count": 4
        }
      ]
    },
    {
      "cell_type": "code",
      "source": [
        "ft.view([-1,1,3])"
      ],
      "metadata": {
        "colab": {
          "base_uri": "https://localhost:8080/"
        },
        "id": "fzAsQvi4Ql9c",
        "outputId": "19fd6745-9e37-4b17-9f63-366a0bebeb8b"
      },
      "execution_count": 5,
      "outputs": [
        {
          "output_type": "execute_result",
          "data": {
            "text/plain": [
              "tensor([[[ 0.,  1.,  2.]],\n",
              "\n",
              "        [[ 3.,  4.,  5.]],\n",
              "\n",
              "        [[ 6.,  7.,  8.]],\n",
              "\n",
              "        [[ 9., 10., 11.]]])"
            ]
          },
          "metadata": {},
          "execution_count": 5
        }
      ]
    },
    {
      "cell_type": "code",
      "source": [
        "narray = np.array([[1,2,3],\n",
        "          [4,5,6],\n",
        "          [7,8,9]])\n",
        "tf_array = torch.FloatTensor(narray)\n",
        "print(tf_array)\n",
        "tf_array.view(-1) # 1차원 텐서로 변경, Fullconnetied layer 에 들어가려면 1차원으로 펴줘야 한다"
      ],
      "metadata": {
        "colab": {
          "base_uri": "https://localhost:8080/"
        },
        "id": "-D5zcxMBQxPE",
        "outputId": "6d2a37a0-5ca4-4359-e0d9-c627491c675c"
      },
      "execution_count": 10,
      "outputs": [
        {
          "output_type": "stream",
          "name": "stdout",
          "text": [
            "tensor([[1., 2., 3.],\n",
            "        [4., 5., 6.],\n",
            "        [7., 8., 9.]])\n"
          ]
        },
        {
          "output_type": "execute_result",
          "data": {
            "text/plain": [
              "tensor([1., 2., 3., 4., 5., 6., 7., 8., 9.])"
            ]
          },
          "metadata": {},
          "execution_count": 10
        }
      ]
    },
    {
      "cell_type": "code",
      "source": [
        "ft = torch.FloatTensor([[0], [1], [2]])\n",
        "print(ft)\n",
        "print(ft.shape)"
      ],
      "metadata": {
        "colab": {
          "base_uri": "https://localhost:8080/"
        },
        "id": "ieqjjJWtRGn0",
        "outputId": "82071b58-6a13-4973-c886-ad06a70b674b"
      },
      "execution_count": 11,
      "outputs": [
        {
          "output_type": "stream",
          "name": "stdout",
          "text": [
            "tensor([[0.],\n",
            "        [1.],\n",
            "        [2.]])\n",
            "torch.Size([3, 1])\n"
          ]
        }
      ]
    },
    {
      "cell_type": "markdown",
      "source": [
        "### 언스퀴즈(Unsqueeze) - 특정 위치에 1인 차원을 추가한다.\n",
        "- 인덱스로 이해하면 편하다"
      ],
      "metadata": {
        "id": "Rfybl0hmRtU7"
      }
    },
    {
      "cell_type": "code",
      "source": [
        "ft_1 = ft.unsqueeze(0)\n",
        "print(ft_1)\n",
        "print(ft_1.shape)"
      ],
      "metadata": {
        "colab": {
          "base_uri": "https://localhost:8080/"
        },
        "id": "koSMyFkLRnJM",
        "outputId": "63d7190f-a8f7-4d21-b848-224e1a3b3d9e"
      },
      "execution_count": 16,
      "outputs": [
        {
          "output_type": "stream",
          "name": "stdout",
          "text": [
            "tensor([[[0.],\n",
            "         [1.],\n",
            "         [2.]]])\n",
            "torch.Size([1, 3, 1])\n"
          ]
        }
      ]
    },
    {
      "cell_type": "code",
      "source": [
        "un_ft = ft.unsqueeze(-1)\n",
        "print(un_ft)\n",
        "print(un_ft.shape)"
      ],
      "metadata": {
        "colab": {
          "base_uri": "https://localhost:8080/"
        },
        "id": "ZmdreCCSR1lT",
        "outputId": "be27ec76-c69c-49c1-97ed-7cb0164eafec"
      },
      "execution_count": 13,
      "outputs": [
        {
          "output_type": "stream",
          "name": "stdout",
          "text": [
            "tensor([[[0.]],\n",
            "\n",
            "        [[1.]],\n",
            "\n",
            "        [[2.]]])\n",
            "torch.Size([3, 1, 1])\n"
          ]
        }
      ]
    },
    {
      "cell_type": "markdown",
      "source": [
        "### 타입 캐스팅(Type Casting) : tensorlist\n",
        "\n",
        "![image.png](data:image/png;base64,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)\n",
        "- https://wikidocs.net/images/page/52846/newimage.png"
      ],
      "metadata": {
        "id": "fBeKxIXpSJNb"
      }
    },
    {
      "cell_type": "markdown",
      "source": [
        "### 스택킹(Stacking):  영어로 쌓는다는 의미\n",
        "- 연결(concatenate)해준다"
      ],
      "metadata": {
        "id": "MVXjDbbNS0iD"
      }
    },
    {
      "cell_type": "code",
      "source": [
        "x = torch.FloatTensor([1, 4])\n",
        "y = torch.FloatTensor([2, 5])\n",
        "z = torch.FloatTensor([3, 6])\n",
        "\n",
        "print(torch.stack([x, y, z]))\n",
        "# 3개의 벡터가 순차적으로 쌓여 (3 × 2) 텐서가 된다"
      ],
      "metadata": {
        "colab": {
          "base_uri": "https://localhost:8080/"
        },
        "id": "ZCMhh8RlSBs1",
        "outputId": "a31ba21c-133b-412b-def4-51c179961d7e"
      },
      "execution_count": 17,
      "outputs": [
        {
          "output_type": "stream",
          "name": "stdout",
          "text": [
            "tensor([[1., 4.],\n",
            "        [2., 5.],\n",
            "        [3., 6.]])\n"
          ]
        }
      ]
    },
    {
      "cell_type": "markdown",
      "source": [
        "### 선형회귀 : y = wx+b"
      ],
      "metadata": {
        "id": "3-yKG2PhTS5T"
      }
    },
    {
      "cell_type": "code",
      "source": [
        "import torch # 파이토치 딥러닝 프레임 워크\n",
        "import torch.nn as nn # 선형식을 선언하기 위해 씀\n",
        "import torch.nn.functional as F # 수학적 함수를 불러올 때\n",
        "import torch.optim as optim # 옵티마이저 불러오려고"
      ],
      "metadata": {
        "id": "F_Q1aJKHTd_8"
      },
      "execution_count": 33,
      "outputs": []
    },
    {
      "cell_type": "markdown",
      "source": [
        "#### <참고> 랜덤 시드 : 랜덤하게 들어가는 초기 값을 fix(고정)하려고 사용,\n",
        "- 단! 컴퓨터마다 랜덤 테이블이 있는데 랜덤 시드는 랜덤 테이블에 고정되기 때문에 다른 컴퓨터를 사용하면 고정되지 않는다(ex: colab(연결할 때마다 다른 컴퓨터))\n",
        "- 랜덤 시드가 라이브러리마다 다름"
      ],
      "metadata": {
        "id": "JMOIrGX0U2ns"
      }
    },
    {
      "cell_type": "code",
      "source": [
        "# 현재 실습하고 있는 파이썬 코드를 재실행해도 다음에도 같은 결과가 나오도록 랜덤 시드(random seed)를 줍니다.\n",
        "torch.manual_seed(1)"
      ],
      "metadata": {
        "id": "DWu8r_xVU9P6"
      },
      "execution_count": null,
      "outputs": []
    },
    {
      "cell_type": "markdown",
      "source": [
        "### 이어서"
      ],
      "metadata": {
        "id": "iwFieaJqVPTK"
      }
    },
    {
      "cell_type": "code",
      "source": [
        "# 허리둘레 -> 몸무게\n",
        "\n",
        "x_train = torch.FloatTensor([[32], [29], [26]]) # cm\n",
        "y_train = torch.FloatTensor([[77], [70], [65]]) # kg"
      ],
      "metadata": {
        "id": "CAnTbHoKTeeS"
      },
      "execution_count": 19,
      "outputs": []
    },
    {
      "cell_type": "code",
      "source": [
        "print(x_train)\n",
        "print(x_train.shape)"
      ],
      "metadata": {
        "colab": {
          "base_uri": "https://localhost:8080/"
        },
        "id": "TkrN0_LhVVKT",
        "outputId": "396caa1b-749b-4110-8a80-a674c5dd9df8"
      },
      "execution_count": 21,
      "outputs": [
        {
          "output_type": "stream",
          "name": "stdout",
          "text": [
            "tensor([[32.],\n",
            "        [29.],\n",
            "        [26.]])\n",
            "torch.Size([3, 1])\n"
          ]
        }
      ]
    },
    {
      "cell_type": "code",
      "source": [
        "# 가중치 W와 편향 b를 0으로 초기화하고 학습을 통해 값이 변경되는 변수임을 명시함.\n",
        "W = torch.zeros(1, requires_grad=True)\n",
        "b = torch.zeros(1, requires_grad=True)"
      ],
      "metadata": {
        "id": "ze40cyPsVWrI"
      },
      "execution_count": 22,
      "outputs": []
    },
    {
      "cell_type": "code",
      "source": [
        "print(W)\n",
        "print(b)"
      ],
      "metadata": {
        "colab": {
          "base_uri": "https://localhost:8080/"
        },
        "id": "JU7dKFxPVfJs",
        "outputId": "d21aa576-a2b7-44c4-e32a-26d159ad4a5b"
      },
      "execution_count": 23,
      "outputs": [
        {
          "output_type": "stream",
          "name": "stdout",
          "text": [
            "tensor([0.], requires_grad=True)\n",
            "tensor([0.], requires_grad=True)\n"
          ]
        }
      ]
    },
    {
      "cell_type": "code",
      "source": [
        "optimizer = optim.Adam([W, b], lr=0.01) # learnable parameter , 보폭 사이즈"
      ],
      "metadata": {
        "id": "Jy7RgVNPVjBL"
      },
      "execution_count": 25,
      "outputs": []
    },
    {
      "cell_type": "code",
      "source": [
        "epochs = 1999 # 전체 데이터를 몇 번 훑을거야?"
      ],
      "metadata": {
        "id": "xIoLjtVfWDxf"
      },
      "execution_count": 26,
      "outputs": []
    },
    {
      "cell_type": "code",
      "source": [
        "for epoch in range(epochs):\n",
        "     # 모델 식\n",
        "    predict = W * x_train + b # y = Wx+b (선형회귀 일차방정식)\n",
        "\n",
        "    # Loss 설정, MSE 계산\n",
        "    cost = torch.mean((predict - y_train) ** 2) # MSE(Mean Square Error)\n",
        "    # # RMSE 계산\n",
        "    # RMSE = cost ** (1/2) # RMSE(Root Mean Square Error)\n",
        "\n",
        "    # cost로 H(x) 개선\n",
        "    optimizer.zero_grad() # optimizer의 기울기 초기화로 기울기를 다시 구해야 한다\n",
        "    cost.backward() # 기울기까지만 계산한다\n",
        "    optimizer.step() # Back Propagation(역전)\n",
        "\n",
        "        # 100번마다 로그 출력\n",
        "    if epoch % 100 == 0:\n",
        "        print('Epoch {:4d}/{} W: {:.3f}, b: {:.3f} Cost: {:.6f}'.format(\n",
        "            epoch, epochs, W.item(), b.item(), cost.item()\n",
        "        ))"
      ],
      "metadata": {
        "colab": {
          "base_uri": "https://localhost:8080/"
        },
        "id": "gHqPPrAWWL2-",
        "outputId": "c3394102-a9f7-4d29-a044-ae2e8fea01f9"
      },
      "execution_count": 30,
      "outputs": [
        {
          "output_type": "stream",
          "name": "stdout",
          "text": [
            "Epoch    0/1999 W: 0.020, b: 0.020 Cost: 4975.450684\n",
            "Epoch  100/1999 W: 0.934, b: 0.934 Cost: 1846.001953\n",
            "Epoch  200/1999 W: 1.598, b: 1.599 Cost: 525.083801\n",
            "Epoch  300/1999 W: 2.009, b: 2.011 Cost: 110.281898\n",
            "Epoch  400/1999 W: 2.220, b: 2.224 Cost: 17.267733\n",
            "Epoch  500/1999 W: 2.310, b: 2.316 Cost: 2.692485\n",
            "Epoch  600/1999 W: 2.341, b: 2.350 Cost: 1.101775\n",
            "Epoch  700/1999 W: 2.350, b: 2.362 Cost: 0.980645\n",
            "Epoch  800/1999 W: 2.352, b: 2.367 Cost: 0.973840\n",
            "Epoch  900/1999 W: 2.353, b: 2.371 Cost: 0.973085\n",
            "Epoch 1000/1999 W: 2.352, b: 2.375 Cost: 0.972507\n",
            "Epoch 1100/1999 W: 2.352, b: 2.380 Cost: 0.971885\n",
            "Epoch 1200/1999 W: 2.352, b: 2.384 Cost: 0.971209\n",
            "Epoch 1300/1999 W: 2.352, b: 2.389 Cost: 0.970496\n",
            "Epoch 1400/1999 W: 2.352, b: 2.394 Cost: 0.969721\n",
            "Epoch 1500/1999 W: 2.352, b: 2.400 Cost: 0.968907\n",
            "Epoch 1600/1999 W: 2.351, b: 2.406 Cost: 0.968031\n",
            "Epoch 1700/1999 W: 2.351, b: 2.412 Cost: 0.967099\n",
            "Epoch 1800/1999 W: 2.351, b: 2.419 Cost: 0.966111\n",
            "Epoch 1900/1999 W: 2.351, b: 2.426 Cost: 0.965069\n"
          ]
        }
      ]
    },
    {
      "cell_type": "markdown",
      "source": [
        "### 다중 선형 회귀(y = w1x1 + w2x2 + w3x3 + b)\n",
        "- x가 여러개라서 다중\n",
        "- x제곱, x, x3제곱 등 x의 제곱이 다른 경우는 다항"
      ],
      "metadata": {
        "id": "gKLmLHAxcspZ"
      }
    },
    {
      "cell_type": "code",
      "source": [
        "x_train  =  torch.FloatTensor([[73,  80,  75],\n",
        "                               [93,  88,  93],\n",
        "                               [89,  91,  80],\n",
        "                               [96,  98,  100],\n",
        "                               [73,  66,  70]])\n",
        "y_train  =  torch.FloatTensor([[152],  [185],  [180],  [196],  [142]])"
      ],
      "metadata": {
        "id": "raAzmRcsXoac"
      },
      "execution_count": 43,
      "outputs": []
    },
    {
      "cell_type": "code",
      "source": [
        "# 가중치와 편향 선언\n",
        "W = torch.zeros((3, 1), requires_grad=True) # 행렬곱을 위해서 ([[W1],[W2],[W3]])\n",
        "b = torch.zeros(1, requires_grad=True)\n",
        "print(W)\n",
        "print(b)"
      ],
      "metadata": {
        "colab": {
          "base_uri": "https://localhost:8080/"
        },
        "id": "GdFJcdoTdvlS",
        "outputId": "8122140e-6f4a-4c5e-a3f8-61d4b3792fb7"
      },
      "execution_count": 44,
      "outputs": [
        {
          "output_type": "stream",
          "name": "stdout",
          "text": [
            "tensor([[0.],\n",
            "        [0.],\n",
            "        [0.]], requires_grad=True)\n",
            "tensor([0.], requires_grad=True)\n"
          ]
        }
      ]
    },
    {
      "cell_type": "code",
      "source": [
        "# optimizer 설정\n",
        "optimizer = optim.SGD([W, b], lr=1e-5) # 확률적 경사하강법, 업데이트 대상 W,b, 학습률(보폭) 0.00001"
      ],
      "metadata": {
        "id": "4i0p0mMqeD5-"
      },
      "execution_count": 45,
      "outputs": []
    },
    {
      "cell_type": "code",
      "source": [
        "epochs = 20\n",
        "for epoch in range(epochs + 1):\n",
        "\n",
        "    # H(x) 계산\n",
        "    # 편향 b는 브로드 캐스팅되어 각 샘플에 더해집니다.\n",
        "    hypothesis = x_train.matmul(W) + b\n",
        "\n",
        "    # cost 계산\n",
        "    cost = torch.mean((hypothesis - y_train) ** 2) # MSE\n",
        "\n",
        "    # cost로 H(x) 개선\n",
        "    optimizer.zero_grad()\n",
        "    cost.backward()\n",
        "    optimizer.step()\n",
        "\n",
        "    print('Epoch {:4d}/{} hypothesis: {} Cost: {:.6f}'.format(\n",
        "        epoch, epochs, hypothesis.squeeze().detach(), cost.item()\n",
        "    ))"
      ],
      "metadata": {
        "colab": {
          "base_uri": "https://localhost:8080/"
        },
        "id": "eZbGPWHAd7Ws",
        "outputId": "d470549a-32b7-41ed-d0e6-0f7d0fd58966"
      },
      "execution_count": 46,
      "outputs": [
        {
          "output_type": "stream",
          "name": "stdout",
          "text": [
            "Epoch    0/20 hypothesis: tensor([0., 0., 0., 0., 0.]) Cost: 29661.800781\n",
            "Epoch    1/20 hypothesis: tensor([66.7178, 80.1701, 76.1025, 86.0194, 61.1565]) Cost: 9537.694336\n",
            "Epoch    2/20 hypothesis: tensor([104.5421, 125.6208, 119.2478, 134.7861,  95.8280]) Cost: 3069.590820\n",
            "Epoch    3/20 hypothesis: tensor([125.9858, 151.3882, 143.7087, 162.4333, 115.4844]) Cost: 990.670288\n",
            "Epoch    4/20 hypothesis: tensor([138.1429, 165.9963, 157.5768, 178.1071, 126.6283]) Cost: 322.481964\n",
            "Epoch    5/20 hypothesis: tensor([145.0350, 174.2780, 165.4395, 186.9928, 132.9461]) Cost: 107.717064\n",
            "Epoch    6/20 hypothesis: tensor([148.9423, 178.9731, 169.8976, 192.0301, 136.5279]) Cost: 38.687401\n",
            "Epoch    7/20 hypothesis: tensor([151.1574, 181.6347, 172.4254, 194.8856, 138.5585]) Cost: 16.499046\n",
            "Epoch    8/20 hypothesis: tensor([152.4131, 183.1435, 173.8590, 196.5042, 139.7097]) Cost: 9.365656\n",
            "Epoch    9/20 hypothesis: tensor([153.1250, 183.9988, 174.6723, 197.4216, 140.3625]) Cost: 7.071105\n",
            "Epoch   10/20 hypothesis: tensor([153.5285, 184.4835, 175.1338, 197.9415, 140.7325]) Cost: 6.331867\n",
            "Epoch   11/20 hypothesis: tensor([153.7572, 184.7582, 175.3958, 198.2360, 140.9424]) Cost: 6.092532\n",
            "Epoch   12/20 hypothesis: tensor([153.8868, 184.9138, 175.5449, 198.4026, 141.0614]) Cost: 6.013823\n",
            "Epoch   13/20 hypothesis: tensor([153.9602, 185.0019, 175.6299, 198.4969, 141.1288]) Cost: 5.986775\n",
            "Epoch   14/20 hypothesis: tensor([154.0017, 185.0517, 175.6785, 198.5501, 141.1671]) Cost: 5.976314\n",
            "Epoch   15/20 hypothesis: tensor([154.0252, 185.0798, 175.7065, 198.5800, 141.1888]) Cost: 5.971213\n",
            "Epoch   16/20 hypothesis: tensor([154.0385, 185.0956, 175.7229, 198.5966, 141.2012]) Cost: 5.967797\n",
            "Epoch   17/20 hypothesis: tensor([154.0459, 185.1045, 175.7326, 198.6058, 141.2082]) Cost: 5.964961\n",
            "Epoch   18/20 hypothesis: tensor([154.0501, 185.1094, 175.7386, 198.6108, 141.2122]) Cost: 5.962292\n",
            "Epoch   19/20 hypothesis: tensor([154.0524, 185.1120, 175.7424, 198.6134, 141.2145]) Cost: 5.959693\n",
            "Epoch   20/20 hypothesis: tensor([154.0536, 185.1134, 175.7451, 198.6146, 141.2158]) Cost: 5.957091\n"
          ]
        }
      ]
    },
    {
      "cell_type": "markdown",
      "source": [
        "### nn.Module로 구현하는 선형 회귀"
      ],
      "metadata": {
        "id": "J6ROYY3Of4tp"
      }
    },
    {
      "cell_type": "code",
      "source": [
        "import torch.nn as nn # 선형식 만들 때 사용"
      ],
      "metadata": {
        "id": "98ZLMsSGeCH3"
      },
      "execution_count": null,
      "outputs": []
    },
    {
      "cell_type": "code",
      "source": [
        "# 데이터\n",
        "x_train = torch.FloatTensor([[73, 80, 75],\n",
        "                             [93, 88, 93],\n",
        "                             [89, 91, 90],\n",
        "                             [96, 98, 100],\n",
        "                             [73, 66, 70]])\n",
        "y_train = torch.FloatTensor([[152], [185], [180], [196], [142]])"
      ],
      "metadata": {
        "id": "efaQy_9ngK7B"
      },
      "execution_count": 31,
      "outputs": []
    },
    {
      "cell_type": "code",
      "source": [
        "# 모델을 선언 및 초기화. 다중 선형 회귀이므로 input_dim=3, output_dim=1.\n",
        "model = nn.Linear(3,1) # (y = w1*x1 + w2*x2 + w3*x3 + b)"
      ],
      "metadata": {
        "id": "miLM2JEhgPSA"
      },
      "execution_count": 48,
      "outputs": []
    },
    {
      "cell_type": "code",
      "source": [
        "print(list(model.parameters())) # 랜덤시드를 하지 않으면 설정값이 계속 변한다(초기값은 랜덤하게 설정됨)"
      ],
      "metadata": {
        "colab": {
          "base_uri": "https://localhost:8080/"
        },
        "id": "MS9-HJCCggMN",
        "outputId": "39cfa6a1-d4f8-4c95-a7d7-06b8ef6693b5"
      },
      "execution_count": 49,
      "outputs": [
        {
          "output_type": "stream",
          "name": "stdout",
          "text": [
            "[Parameter containing:\n",
            "tensor([[ 0.0581, -0.1005,  0.3473]], requires_grad=True), Parameter containing:\n",
            "tensor([-0.4715], requires_grad=True)]\n"
          ]
        }
      ]
    },
    {
      "cell_type": "code",
      "source": [
        "optimizer = torch.optim.SGD(model.parameters(), lr=1e-5)"
      ],
      "metadata": {
        "id": "aIA8BQ1dgyoL"
      },
      "execution_count": 50,
      "outputs": []
    },
    {
      "cell_type": "code",
      "source": [
        "nb_epochs = 2000\n",
        "for epoch in range(nb_epochs+1):\n",
        "\n",
        "    # H(x) 계산\n",
        "    prediction = model(x_train)\n",
        "    # model(x_train)은 model.forward(x_train)와 동일함.\n",
        "\n",
        "    # cost 계산\n",
        "    cost = F.mse_loss(prediction, y_train) # <== 파이토치에서 제공하는 평균 제곱 오차 함수\n",
        "    # F라는 모듈에 수학적 기능 들어가있음\n",
        "\n",
        "    # cost로 H(x) 개선하는 부분\n",
        "    # gradient를 0으로 초기화\n",
        "    optimizer.zero_grad()\n",
        "    # 비용 함수를 미분하여 gradient 계산\n",
        "    cost.backward()\n",
        "    # W와 b를 업데이트\n",
        "    optimizer.step()\n",
        "\n",
        "    if epoch % 100 == 0:\n",
        "    # 100번마다 로그 출력\n",
        "      print('Epoch {:4d}/{} Cost: {:.6f}'.format(\n",
        "          epoch, nb_epochs, cost.item()\n",
        "      ))"
      ],
      "metadata": {
        "colab": {
          "base_uri": "https://localhost:8080/"
        },
        "id": "VBMO6VvghE3x",
        "outputId": "14aeb8f6-1dba-4511-f73a-a96b0be0abd3"
      },
      "execution_count": 51,
      "outputs": [
        {
          "output_type": "stream",
          "name": "stdout",
          "text": [
            "Epoch    0/2000 Cost: 21409.941406\n",
            "Epoch  100/2000 Cost: 1.013141\n",
            "Epoch  200/2000 Cost: 0.996138\n",
            "Epoch  300/2000 Cost: 0.979888\n",
            "Epoch  400/2000 Cost: 0.964374\n",
            "Epoch  500/2000 Cost: 0.949550\n",
            "Epoch  600/2000 Cost: 0.935372\n",
            "Epoch  700/2000 Cost: 0.921827\n",
            "Epoch  800/2000 Cost: 0.908850\n",
            "Epoch  900/2000 Cost: 0.896443\n",
            "Epoch 1000/2000 Cost: 0.884553\n",
            "Epoch 1100/2000 Cost: 0.873184\n",
            "Epoch 1200/2000 Cost: 0.862272\n",
            "Epoch 1300/2000 Cost: 0.851819\n",
            "Epoch 1400/2000 Cost: 0.841783\n",
            "Epoch 1500/2000 Cost: 0.832176\n",
            "Epoch 1600/2000 Cost: 0.822936\n",
            "Epoch 1700/2000 Cost: 0.814058\n",
            "Epoch 1800/2000 Cost: 0.805535\n",
            "Epoch 1900/2000 Cost: 0.797341\n",
            "Epoch 2000/2000 Cost: 0.789461\n"
          ]
        }
      ]
    },
    {
      "cell_type": "code",
      "source": [
        "a = list(range(10))\n",
        "b = list(range(10+1))\n",
        "print(a,b)"
      ],
      "metadata": {
        "colab": {
          "base_uri": "https://localhost:8080/"
        },
        "id": "q8X6anlHg21m",
        "outputId": "49475b77-98c9-4fdb-aa54-3a9910e2a79f"
      },
      "execution_count": 52,
      "outputs": [
        {
          "output_type": "stream",
          "name": "stdout",
          "text": [
            "[0, 1, 2, 3, 4, 5, 6, 7, 8, 9] [0, 1, 2, 3, 4, 5, 6, 7, 8, 9, 10]\n"
          ]
        }
      ]
    },
    {
      "cell_type": "markdown",
      "source": [
        "### 클래스로 파이토치 모델 구현하기"
      ],
      "metadata": {
        "id": "8Cj-iYw_hlCz"
      }
    },
    {
      "cell_type": "code",
      "source": [
        "# 데이터\n",
        "x_train = torch.FloatTensor([[73, 80, 75],\n",
        "                             [93, 88, 93],\n",
        "                             [89, 91, 90],\n",
        "                             [96, 98, 100],\n",
        "                             [73, 66, 70]])\n",
        "y_train = torch.FloatTensor([[152], [185], [180], [196], [142]])"
      ],
      "metadata": {
        "id": "1rsQ21Dv7ne_"
      },
      "execution_count": 45,
      "outputs": []
    },
    {
      "cell_type": "code",
      "source": [
        "class LinearRegressionModel(nn.Module): # torch.nn.Module을 상속받는 파이썬 클래스\n",
        "    def __init__(self): # 생성자, 가장 먼저 실행된다\n",
        "        super().__init__() # torch는 모델을 선언할 때 상속을 받아야 함(nn.Module에서 상속받음)\n",
        "        self.linear = nn.Linear(3, 1) # 모델 초기화 필요, 다중 선형 회귀이므로 input_dim=3, output_dim=1.\n",
        "\n",
        "    def forward(self, x):\n",
        "        return self.linear(x)\n"
      ],
      "metadata": {
        "id": "WDFfjU1Yhn1L"
      },
      "execution_count": 46,
      "outputs": []
    },
    {
      "cell_type": "code",
      "source": [
        "# model = nn.Linear(3, 1)와 같은 것\n",
        "model = LinearRegressionModel()\n",
        "optimizer = torch.optim.SGD(model.parameters(), lr=1e-5)"
      ],
      "metadata": {
        "id": "zRr39q5MiQ68"
      },
      "execution_count": 47,
      "outputs": []
    },
    {
      "cell_type": "code",
      "source": [
        "nb_epochs = 2000\n",
        "for epoch in range(nb_epochs+1):\n",
        "    # H(x) 계산\n",
        "    prediction = model(x_train)\n",
        "    # model(x_train)은 model.forward(x_train)와 동일함.\n",
        "    # cost 계산\n",
        "    cost = F.mse_loss(prediction, y_train) # <== 파이토치에서 제공하는 평균 제곱 오차 함수\n",
        "    # cost로 H(x) 개선하는 부분\n",
        "    # gradient를 0으로 초기화\n",
        "    optimizer.zero_grad()\n",
        "    # 비용 함수를 미분하여 gradient 계산\n",
        "    cost.backward()\n",
        "    # W와 b를 업데이트\n",
        "    optimizer.step()\n",
        "    if epoch % 100 == 0:\n",
        "    # 100번마다 로그 출력\n",
        "      print('Epoch {:4d}/{} Cost: {:.6f}'.format(\n",
        "          epoch, nb_epochs, cost.item()\n",
        "      ))"
      ],
      "metadata": {
        "colab": {
          "base_uri": "https://localhost:8080/"
        },
        "id": "NF8Jon5x7EhA",
        "outputId": "fcb2910e-b301-442e-d3e6-a750f9e342a2"
      },
      "execution_count": 48,
      "outputs": [
        {
          "output_type": "stream",
          "name": "stdout",
          "text": [
            "Epoch    0/2000 Cost: 48235.515625\n",
            "Epoch  100/2000 Cost: 0.963298\n",
            "Epoch  200/2000 Cost: 0.959070\n",
            "Epoch  300/2000 Cost: 0.954857\n",
            "Epoch  400/2000 Cost: 0.950693\n",
            "Epoch  500/2000 Cost: 0.946551\n",
            "Epoch  600/2000 Cost: 0.942465\n",
            "Epoch  700/2000 Cost: 0.938409\n",
            "Epoch  800/2000 Cost: 0.934374\n",
            "Epoch  900/2000 Cost: 0.930380\n",
            "Epoch 1000/2000 Cost: 0.926408\n",
            "Epoch 1100/2000 Cost: 0.922462\n",
            "Epoch 1200/2000 Cost: 0.918545\n",
            "Epoch 1300/2000 Cost: 0.914659\n",
            "Epoch 1400/2000 Cost: 0.910804\n",
            "Epoch 1500/2000 Cost: 0.906980\n",
            "Epoch 1600/2000 Cost: 0.903172\n",
            "Epoch 1700/2000 Cost: 0.899404\n",
            "Epoch 1800/2000 Cost: 0.895645\n",
            "Epoch 1900/2000 Cost: 0.891921\n",
            "Epoch 2000/2000 Cost: 0.888221\n"
          ]
        }
      ]
    },
    {
      "cell_type": "markdown",
      "source": [
        "# appendix\n"
      ],
      "metadata": {
        "id": "h2tVR7JRie6J"
      }
    },
    {
      "cell_type": "code",
      "source": [
        "class Sonata():\n",
        "    def __init__(self, color):\n",
        "        self.price = 2000\n",
        "        self.km = 15\n",
        "        self.color = color\n",
        "\n",
        "    def drive(self):\n",
        "        print(\"주행을 시작합니다\")\n",
        "\n",
        "osh_sonata = Sonata(\"black\")\n",
        "hgd_sonata = Sonata(\"red\")\n",
        "print(osh_sonata.color)"
      ],
      "metadata": {
        "colab": {
          "base_uri": "https://localhost:8080/"
        },
        "id": "em5n3JhCiklo",
        "outputId": "11883839-d1ff-4edc-c45f-b62d2fc3b177"
      },
      "execution_count": 65,
      "outputs": [
        {
          "output_type": "stream",
          "name": "stdout",
          "text": [
            "black\n"
          ]
        }
      ]
    },
    {
      "cell_type": "code",
      "source": [
        "osh_sonata.drive()"
      ],
      "metadata": {
        "colab": {
          "base_uri": "https://localhost:8080/"
        },
        "id": "TEguSbEyj-NB",
        "outputId": "357bfe5e-45dd-4c85-8593-2ae1a59311b8"
      },
      "execution_count": 68,
      "outputs": [
        {
          "output_type": "stream",
          "name": "stdout",
          "text": [
            "주행을 시작합니다\n"
          ]
        }
      ]
    },
    {
      "cell_type": "code",
      "source": [
        "class Car: # 상위 클래스(부모 클래스)\n",
        "    def __init__(self, color):\n",
        "        self.price = 3000\n",
        "        self.color = color\n",
        "        self.km = 15\n",
        "\n",
        "class electric_Avante(Car): # 전기아반떼, Car 클래스 상속받음\n",
        "    def __init__(self, color): # 부모클래스에서 가지고 있는 모든 변수를 가져와서 초기화 시켜라\n",
        "        super().__init__(color)\n",
        "        self.bettery = 10000\n",
        "\n",
        "osh_electric_Avante = electric_Avante(\"black\")\n",
        "\n",
        "print(\"부모클래스에서 물려받은 멤버변수 km 확인\", osh_electric_Avante)\n",
        "print(\"부모클래스에서 물려받은 멤버변수 color 확인\", osh_electric_Avante)\n",
        "print(\"부모클래스에서 물려받은 멤버변수 price 확인\", osh_electric_Avante)\n",
        "print(\"자기자신이 원래 가지고있던 멤버변수 bettery 확인\", osh_electric_Avante)"
      ],
      "metadata": {
        "colab": {
          "base_uri": "https://localhost:8080/"
        },
        "id": "wdsgYs8jkHk2",
        "outputId": "6e5d62f0-359a-4c56-f9a8-a6bc77fdd1c3"
      },
      "execution_count": 3,
      "outputs": [
        {
          "output_type": "stream",
          "name": "stdout",
          "text": [
            "부모클래스에서 물려받은 멤버변수 km 확인 <__main__.electric_Avante object at 0x79778917a7d0>\n",
            "부모클래스에서 물려받은 멤버변수 color 확인 <__main__.electric_Avante object at 0x79778917a7d0>\n",
            "부모클래스에서 물려받은 멤버변수 price 확인 <__main__.electric_Avante object at 0x79778917a7d0>\n",
            "자기자신이 원래 가지고있던 멤버변수 bettery 확인 <__main__.electric_Avante object at 0x79778917a7d0>\n"
          ]
        }
      ]
    },
    {
      "cell_type": "code",
      "source": [
        "class Human:\n",
        "    def __init__(self):\n",
        "        self.age = 10\n",
        "        self.gender = '여자'\n",
        "\n",
        "class Student(Human):\n",
        "    def __init__(self, student_no):\n",
        "        super().__init__()\n",
        "        self.student_no = student_no\n",
        "\n",
        "osh_student = Student(100) # 학생번호 100\n",
        "print(\"학생번호\", osh_student.student_no)\n",
        "print(\"학생나이\", osh_student.age)"
      ],
      "metadata": {
        "colab": {
          "base_uri": "https://localhost:8080/"
        },
        "id": "234cDl6y2giH",
        "outputId": "77b24e70-39d5-44f9-8609-ab74d2b7dec6"
      },
      "execution_count": 15,
      "outputs": [
        {
          "output_type": "stream",
          "name": "stdout",
          "text": [
            "학생번호 100\n",
            "학생나이 10\n"
          ]
        }
      ]
    },
    {
      "cell_type": "markdown",
      "source": [
        "### 이중상속"
      ],
      "metadata": {
        "id": "ZtK1dZnn4Q7o"
      }
    },
    {
      "cell_type": "code",
      "source": [
        "class Human: # 할머니\n",
        "    def __init__(self):\n",
        "        self.age = 10\n",
        "        self.gender = '여자'\n",
        "    def asdadx(self):\n",
        "        print('와우')\n",
        "\n",
        "class Student(Human): # 아빠\n",
        "    def __init__(self, student_no):\n",
        "        super().__init__()\n",
        "        self.student_no = student_no\n",
        "    def qwkowkdk(self):\n",
        "        print('배부르다')\n",
        "\n",
        "class Test(Student): # 저\n",
        "    def __init__(self, student_no):\n",
        "        super().__init__(student_no)\n",
        "\n",
        "\n",
        "osh_student = Test(100) # 학생번호 100\n",
        "print(\"학생번호\", osh_student.student_no)\n",
        "print(\"학생나이\", osh_student.age)\n",
        "osh_student.asdadx() # 할머니꺼\n",
        "osh_student.qwkowkdk() # 아빠꺼"
      ],
      "metadata": {
        "colab": {
          "base_uri": "https://localhost:8080/"
        },
        "id": "5y7oFP504UrL",
        "outputId": "b431bba1-4a3c-47ee-a2ff-db48826d3fe9"
      },
      "execution_count": 18,
      "outputs": [
        {
          "output_type": "stream",
          "name": "stdout",
          "text": [
            "학생번호 100\n",
            "학생나이 10\n",
            "와우\n",
            "배부르다\n"
          ]
        }
      ]
    },
    {
      "cell_type": "code",
      "source": [
        "class Human: # 할머니\n",
        "    def __init__(self):\n",
        "        self.age = 10\n",
        "        self.gender = '여자'\n",
        "\n",
        "class Student(Human): # 아빠\n",
        "    def __init__(self, student_no):\n",
        "        super().__init__()\n",
        "        self.student_no = student_no\n",
        "\n",
        "class Test(Student, Human): # 저\n",
        "    def __init__(self, student_no):\n",
        "        Student.__init__(self, student_no)\n",
        "        Human.__init__(self)\n",
        "\n",
        "\n",
        "osh_student = Test(100) # 학생번호 100\n",
        "print(\"학생번호\", osh_student.student_no)\n",
        "print(\"학생나이\", osh_student.age)\n"
      ],
      "metadata": {
        "colab": {
          "base_uri": "https://localhost:8080/"
        },
        "id": "5Y8URYCv5a2n",
        "outputId": "451a883e-2a1b-429a-c587-535395233299"
      },
      "execution_count": 29,
      "outputs": [
        {
          "output_type": "stream",
          "name": "stdout",
          "text": [
            "학생번호 100\n",
            "학생나이 10\n"
          ]
        }
      ]
    }
  ]
}