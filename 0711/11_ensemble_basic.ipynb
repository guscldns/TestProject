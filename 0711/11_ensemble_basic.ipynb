{
  "nbformat": 4,
  "nbformat_minor": 0,
  "metadata": {
    "colab": {
      "provenance": [],
      "include_colab_link": true
    },
    "kernelspec": {
      "name": "python3",
      "display_name": "Python 3"
    },
    "language_info": {
      "name": "python"
    }
  },
  "cells": [
    {
      "cell_type": "markdown",
      "metadata": {
        "id": "view-in-github",
        "colab_type": "text"
      },
      "source": [
        "<a href=\"https://colab.research.google.com/github/guscldns/TestProject/blob/main/0711/11_ensemble_basic.ipynb\" target=\"_parent\"><img src=\"https://colab.research.google.com/assets/colab-badge.svg\" alt=\"Open In Colab\"/></a>"
      ]
    },
    {
      "cell_type": "code",
      "source": [
        "import tensorflow as tf"
      ],
      "metadata": {
        "id": "5hOTW-IkKNhQ"
      },
      "execution_count": null,
      "outputs": []
    },
    {
      "cell_type": "code",
      "source": [
        "from tensorflow.keras.applications.resnet50 import ResNet50"
      ],
      "metadata": {
        "id": "NLcF3isGKUFY"
      },
      "execution_count": null,
      "outputs": []
    },
    {
      "cell_type": "code",
      "execution_count": null,
      "metadata": {
        "id": "JoeuUTFD39Uv"
      },
      "outputs": [],
      "source": [
        "from tensorflow.keras import datasets, layers, models\n",
        "\n",
        "from tensorflow.keras.layers import Dense, Flatten, MaxPooling2D\n",
        "from tensorflow.keras import Input\n",
        "from tensorflow.keras.layers import Dropout, BatchNormalization\n",
        "\n",
        "import matplotlib.pyplot as plt"
      ]
    },
    {
      "cell_type": "code",
      "execution_count": null,
      "metadata": {
        "id": "AutEd-Qh6gij",
        "colab": {
          "base_uri": "https://localhost:8080/"
        },
        "outputId": "210bbe2e-29c4-4952-c7ae-5cbb31e7991f"
      },
      "outputs": [
        {
          "output_type": "stream",
          "name": "stdout",
          "text": [
            "Downloading data from https://www.cs.toronto.edu/~kriz/cifar-10-python.tar.gz\n",
            "170498071/170498071 [==============================] - 4s 0us/step\n"
          ]
        }
      ],
      "source": [
        "# 케라스 데이터셋을 다운받아 변수에 각각 넣어준다.\n",
        "(train_images, train_labels), (test_images, test_labels) = datasets.cifar10.load_data()"
      ]
    },
    {
      "cell_type": "code",
      "source": [
        "train_images.shape, train_labels.shape, test_images.shape, test_labels.shape"
      ],
      "metadata": {
        "colab": {
          "base_uri": "https://localhost:8080/"
        },
        "id": "pyiqf5_NLj-f",
        "outputId": "24bf6d64-b1ab-4746-f60e-8c4b3fb66cf9"
      },
      "execution_count": null,
      "outputs": [
        {
          "output_type": "execute_result",
          "data": {
            "text/plain": [
              "((50000, 32, 32, 3), (50000, 1), (10000, 32, 32, 3), (10000, 1))"
            ]
          },
          "metadata": {},
          "execution_count": 5
        }
      ]
    },
    {
      "cell_type": "code",
      "execution_count": null,
      "metadata": {
        "id": "rW_uj8sj6ihs"
      },
      "outputs": [],
      "source": [
        "# 라벨 설정\n",
        "class_names = ['airplane', 'automobile', 'bird', 'cat', 'deer',\n",
        "               'dog', 'frog', 'horse', 'ship', 'truck']"
      ]
    },
    {
      "cell_type": "markdown",
      "metadata": {
        "id": "o6kAYzpl7jee"
      },
      "source": [
        "## 전이학습 (transfer learning)"
      ]
    },
    {
      "cell_type": "markdown",
      "source": [
        "### resnet50_ver1"
      ],
      "metadata": {
        "id": "X9DyPg29sye6"
      }
    },
    {
      "cell_type": "code",
      "source": [
        "resnet_v1 = ResNet50(include_top=False, input_shape = (32,32 ,3), weights = 'imagenet')"
      ],
      "metadata": {
        "id": "b1pejW_8L-qf",
        "colab": {
          "base_uri": "https://localhost:8080/"
        },
        "outputId": "4de1b26a-1704-4899-9470-d7adb66fb894"
      },
      "execution_count": null,
      "outputs": [
        {
          "output_type": "stream",
          "name": "stdout",
          "text": [
            "Downloading data from https://storage.googleapis.com/tensorflow/keras-applications/resnet/resnet50_weights_tf_dim_ordering_tf_kernels_notop.h5\n",
            "94765736/94765736 [==============================] - 2s 0us/step\n"
          ]
        }
      ]
    },
    {
      "cell_type": "code",
      "source": [
        "resnet_v1.output_shape"
      ],
      "metadata": {
        "colab": {
          "base_uri": "https://localhost:8080/"
        },
        "id": "RtW5Uf6QQdYn",
        "outputId": "cffdb48f-fc87-40c4-b089-a91b7baae13c"
      },
      "execution_count": null,
      "outputs": [
        {
          "output_type": "execute_result",
          "data": {
            "text/plain": [
              "(None, 1, 1, 2048)"
            ]
          },
          "metadata": {},
          "execution_count": 8
        }
      ]
    },
    {
      "cell_type": "markdown",
      "source": [
        "1) include_top = True, 분류기(완전연결계층) 여부  \n",
        "2) weights = 'imagenet', 사전학습 weight 여부  \n",
        "3) input_shape, Input 사이즈 (32, 32, 3)으로 변경"
      ],
      "metadata": {
        "id": "Q5paKWM3L_cm"
      }
    },
    {
      "cell_type": "code",
      "source": [
        "resnet_v1.trainable = False"
      ],
      "metadata": {
        "id": "1WZ9k7HsL_mN"
      },
      "execution_count": null,
      "outputs": []
    },
    {
      "cell_type": "code",
      "source": [
        "# sparse categorical crossentropy VS categorical crossentropy + one_hot\n",
        "y_train = tf.keras.utils.to_categorical(train_labels, 10)\n",
        "y_test = tf.keras.utils.to_categorical(test_labels, 10)\n",
        "y_train.shape, y_test.shape"
      ],
      "metadata": {
        "colab": {
          "base_uri": "https://localhost:8080/"
        },
        "id": "kagZCQr2Msd0",
        "outputId": "c2c06c61-e110-4611-af33-42c5076a4dc7"
      },
      "execution_count": null,
      "outputs": [
        {
          "output_type": "execute_result",
          "data": {
            "text/plain": [
              "((50000, 10), (10000, 10))"
            ]
          },
          "metadata": {},
          "execution_count": 10
        }
      ]
    },
    {
      "cell_type": "code",
      "source": [
        "y_train[0]"
      ],
      "metadata": {
        "colab": {
          "base_uri": "https://localhost:8080/"
        },
        "id": "-6RCZl_INCbK",
        "outputId": "4ce8219b-5466-4cf1-993a-b307b7742fe7"
      },
      "execution_count": null,
      "outputs": [
        {
          "output_type": "execute_result",
          "data": {
            "text/plain": [
              "array([0., 0., 0., 0., 0., 0., 1., 0., 0., 0.], dtype=float32)"
            ]
          },
          "metadata": {},
          "execution_count": 11
        }
      ]
    },
    {
      "cell_type": "code",
      "source": [
        "# model.Sequential()없이 모델 구축하는 방법\n",
        "inputs = tf.keras.Input(shape=(32, 32, 3))\n",
        "\n",
        "x = resnet_v1(inputs, training=False)\n",
        "x = tf.keras.layers.Flatten(input_shape=resnet_v1.output_shape[1:])(x)\n",
        "x = tf.keras.layers.Dense(256, activation='relu')(x)\n",
        "x= tf.keras.layers.Dropout(0.5)(x)\n",
        "outputs = tf.keras.layers.Dense(10, activation='softmax')(x)\n",
        "\n",
        "model_v1 = tf.keras.Model(inputs, outputs)"
      ],
      "metadata": {
        "id": "CiECE6Z07jan"
      },
      "execution_count": null,
      "outputs": []
    },
    {
      "cell_type": "code",
      "execution_count": null,
      "metadata": {
        "colab": {
          "base_uri": "https://localhost:8080/"
        },
        "id": "fqJoWdOn7qtd",
        "outputId": "586494f8-8eb8-4b81-b41b-908d34b88d4e"
      },
      "outputs": [
        {
          "output_type": "stream",
          "name": "stdout",
          "text": [
            "391/391 [==============================] - 224s 546ms/step - loss: 1.5766 - accuracy: 0.4690 - val_loss: 1.2071 - val_accuracy: 0.5794\n"
          ]
        },
        {
          "output_type": "execute_result",
          "data": {
            "text/plain": [
              "<keras.callbacks.History at 0x7fb0ae328b20>"
            ]
          },
          "metadata": {},
          "execution_count": 13
        }
      ],
      "source": [
        "# categorical_crossentropy\n",
        "model_v1.compile(optimizer = tf.keras.optimizers.Adam(learning_rate= 0.001),\n",
        "                  loss = 'categorical_crossentropy',\n",
        "                  metrics=['accuracy'])\n",
        "\n",
        "# 모델 fitting\n",
        "model_v1.fit(train_images, y_train, epochs = 1, validation_data=(test_images, y_test), batch_size=128)"
      ]
    },
    {
      "cell_type": "code",
      "source": [
        "pred_v1 = model_v1.predict(test_images)"
      ],
      "metadata": {
        "colab": {
          "base_uri": "https://localhost:8080/"
        },
        "id": "mlHbtBKQqXGH",
        "outputId": "5e2bff09-c44d-45d8-bd3f-cb66620e6458"
      },
      "execution_count": null,
      "outputs": [
        {
          "output_type": "stream",
          "name": "stdout",
          "text": [
            "313/313 [==============================] - 41s 128ms/step\n"
          ]
        }
      ]
    },
    {
      "cell_type": "code",
      "source": [
        "pred_v1.shape"
      ],
      "metadata": {
        "colab": {
          "base_uri": "https://localhost:8080/"
        },
        "id": "oJyuzEQpquwU",
        "outputId": "3949f096-0bac-4829-a03b-47af983ff662"
      },
      "execution_count": null,
      "outputs": [
        {
          "output_type": "execute_result",
          "data": {
            "text/plain": [
              "(10000, 10)"
            ]
          },
          "metadata": {},
          "execution_count": 16
        }
      ]
    },
    {
      "cell_type": "code",
      "source": [
        "pred_v1[0]"
      ],
      "metadata": {
        "colab": {
          "base_uri": "https://localhost:8080/"
        },
        "id": "VtqQdpHCj-Oy",
        "outputId": "df6c3048-d6b9-44a9-84e5-6f1799288312"
      },
      "execution_count": null,
      "outputs": [
        {
          "output_type": "execute_result",
          "data": {
            "text/plain": [
              "array([0.00859409, 0.00521369, 0.10049511, 0.61686987, 0.03776868,\n",
              "       0.17377445, 0.04552881, 0.00857076, 0.00140559, 0.00177885],\n",
              "      dtype=float32)"
            ]
          },
          "metadata": {},
          "execution_count": 17
        }
      ]
    },
    {
      "cell_type": "markdown",
      "source": [
        "### resnet_v2"
      ],
      "metadata": {
        "id": "t5tGOIyKtdCi"
      }
    },
    {
      "cell_type": "code",
      "source": [
        "resnet_v2 = ResNet50(include_top=False, input_shape = (32,32 ,3), weights = 'imagenet')"
      ],
      "metadata": {
        "id": "C5W2IrVDgzaG"
      },
      "execution_count": null,
      "outputs": []
    },
    {
      "cell_type": "code",
      "source": [
        "resnet_v2.output_shape"
      ],
      "metadata": {
        "colab": {
          "base_uri": "https://localhost:8080/"
        },
        "outputId": "88f27864-fdf7-4a4c-960a-70e50a609939",
        "id": "Li1yW95egzaM"
      },
      "execution_count": null,
      "outputs": [
        {
          "output_type": "execute_result",
          "data": {
            "text/plain": [
              "(None, 1, 1, 2048)"
            ]
          },
          "metadata": {},
          "execution_count": 19
        }
      ]
    },
    {
      "cell_type": "markdown",
      "source": [
        "1) include_top = True, 분류기(완전연결계층) 여부  \n",
        "2) weights = 'imagenet', 사전학습 weight 여부  \n",
        "3) input_shape, Input 사이즈 (32, 32, 3)으로 변경"
      ],
      "metadata": {
        "id": "g9t0o7xbgzaN"
      }
    },
    {
      "cell_type": "code",
      "source": [
        "resnet_v2.trainable = False"
      ],
      "metadata": {
        "id": "wbsyyny0gzaN"
      },
      "execution_count": null,
      "outputs": []
    },
    {
      "cell_type": "code",
      "source": [
        "# sparse categorical crossentropy VS categorical crossentropy + one_hot\n",
        "y_train = tf.keras.utils.to_categorical(train_labels, 10)\n",
        "y_test = tf.keras.utils.to_categorical(test_labels, 10)\n",
        "y_train.shape, y_test.shape"
      ],
      "metadata": {
        "colab": {
          "base_uri": "https://localhost:8080/"
        },
        "outputId": "6266b873-ef5d-47e0-cc44-72c5541fc1d5",
        "id": "grSnH-G8gzaN"
      },
      "execution_count": null,
      "outputs": [
        {
          "output_type": "execute_result",
          "data": {
            "text/plain": [
              "((50000, 10), (10000, 10))"
            ]
          },
          "metadata": {},
          "execution_count": 21
        }
      ]
    },
    {
      "cell_type": "code",
      "source": [
        "y_train[0]"
      ],
      "metadata": {
        "colab": {
          "base_uri": "https://localhost:8080/"
        },
        "outputId": "96e92453-7076-4a6f-84cb-c7eb55bb0e24",
        "id": "m7JorwyMgzaN"
      },
      "execution_count": null,
      "outputs": [
        {
          "output_type": "execute_result",
          "data": {
            "text/plain": [
              "array([0., 0., 0., 0., 0., 0., 1., 0., 0., 0.], dtype=float32)"
            ]
          },
          "metadata": {},
          "execution_count": 22
        }
      ]
    },
    {
      "cell_type": "code",
      "source": [
        "# model.Sequential()없이 모델 구축하는 방법\n",
        "inputs = tf.keras.Input(shape=(32, 32, 3))\n",
        "\n",
        "x = resnet_v1(inputs, training=False)\n",
        "x = tf.keras.layers.Flatten(input_shape=resnet_v2.output_shape[1:])(x)\n",
        "x = tf.keras.layers.Dense(1024, activation='relu')(x)\n",
        "x= tf.keras.layers.Dropout(0.5)(x)\n",
        "outputs = tf.keras.layers.Dense(10, activation='softmax')(x)\n",
        "\n",
        "model_v2 = tf.keras.Model(inputs, outputs)"
      ],
      "metadata": {
        "id": "U--NEtxGgzaN"
      },
      "execution_count": null,
      "outputs": []
    },
    {
      "cell_type": "code",
      "execution_count": null,
      "metadata": {
        "colab": {
          "base_uri": "https://localhost:8080/"
        },
        "outputId": "c8afb388-8183-4571-c372-d1de34dc321c",
        "id": "zskvV0kpgzaN"
      },
      "outputs": [
        {
          "output_type": "stream",
          "name": "stdout",
          "text": [
            "391/391 [==============================] - 227s 570ms/step - loss: 1.5321 - accuracy: 0.5069 - val_loss: 1.1666 - val_accuracy: 0.5911\n"
          ]
        },
        {
          "output_type": "execute_result",
          "data": {
            "text/plain": [
              "<keras.callbacks.History at 0x7fb0aeb94df0>"
            ]
          },
          "metadata": {},
          "execution_count": 24
        }
      ],
      "source": [
        "# categorical_crossentropy\n",
        "model_v2.compile(optimizer = tf.keras.optimizers.Adam(learning_rate= 0.001),\n",
        "                  loss = 'categorical_crossentropy',\n",
        "                  metrics=['accuracy'])\n",
        "\n",
        "# 모델 fitting\n",
        "model_v2.fit(train_images, y_train, epochs = 1, validation_data=(test_images, y_test), batch_size=128)"
      ]
    },
    {
      "cell_type": "code",
      "source": [
        "pred_v2 = model_v2.predict(test_images)"
      ],
      "metadata": {
        "colab": {
          "base_uri": "https://localhost:8080/"
        },
        "outputId": "788118d7-ea39-4e7d-fae1-7b51b27ff9a3",
        "id": "lPUwNGIAgzaO"
      },
      "execution_count": null,
      "outputs": [
        {
          "output_type": "stream",
          "name": "stdout",
          "text": [
            "313/313 [==============================] - 43s 135ms/step\n"
          ]
        }
      ]
    },
    {
      "cell_type": "code",
      "source": [
        "pred_v2"
      ],
      "metadata": {
        "colab": {
          "base_uri": "https://localhost:8080/"
        },
        "outputId": "44d5f415-d68a-41ff-e888-2a620d94e1b0",
        "id": "YmVFx0L8gzaO"
      },
      "execution_count": null,
      "outputs": [
        {
          "output_type": "execute_result",
          "data": {
            "text/plain": [
              "array([[4.82589426e-03, 1.18165165e-02, 2.61181947e-02, ...,\n",
              "        1.18371984e-02, 6.11204188e-03, 2.87322956e-03],\n",
              "       [6.68133944e-02, 4.74359304e-01, 2.31746471e-05, ...,\n",
              "        2.77411546e-05, 4.31680530e-01, 2.69427504e-02],\n",
              "       [9.06165410e-03, 9.80799645e-03, 4.13161906e-05, ...,\n",
              "        2.27158249e-04, 9.56489205e-01, 2.23382320e-02],\n",
              "       ...,\n",
              "       [7.47342361e-04, 5.42136899e-04, 2.79386248e-02, ...,\n",
              "        2.25149896e-02, 8.95141638e-05, 4.29548323e-04],\n",
              "       [2.49304444e-01, 1.80455655e-01, 9.79267135e-02, ...,\n",
              "        1.04320630e-01, 2.91921236e-02, 6.34766966e-02],\n",
              "       [7.55169021e-05, 1.55142698e-04, 1.80253817e-03, ...,\n",
              "        9.42924917e-01, 1.08129439e-04, 2.82261812e-04]], dtype=float32)"
            ]
          },
          "metadata": {},
          "execution_count": 28
        }
      ]
    },
    {
      "cell_type": "code",
      "source": [
        "pred_v1[0]"
      ],
      "metadata": {
        "colab": {
          "base_uri": "https://localhost:8080/"
        },
        "id": "jl516P6BnHqv",
        "outputId": "72d20fd0-48b3-436a-c0dc-ce4066734b33"
      },
      "execution_count": null,
      "outputs": [
        {
          "output_type": "execute_result",
          "data": {
            "text/plain": [
              "array([0.00859409, 0.00521369, 0.10049511, 0.61686987, 0.03776868,\n",
              "       0.17377445, 0.04552881, 0.00857076, 0.00140559, 0.00177885],\n",
              "      dtype=float32)"
            ]
          },
          "metadata": {},
          "execution_count": 27
        }
      ]
    },
    {
      "cell_type": "code",
      "source": [
        "pred_v2[0]"
      ],
      "metadata": {
        "colab": {
          "base_uri": "https://localhost:8080/"
        },
        "id": "Gnv6pmRsnIGl",
        "outputId": "440c7a98-3907-46f1-a492-9194ff1c278f"
      },
      "execution_count": null,
      "outputs": [
        {
          "output_type": "execute_result",
          "data": {
            "text/plain": [
              "array([0.00482589, 0.01181652, 0.02611819, 0.6104309 , 0.02315335,\n",
              "       0.27416113, 0.02867152, 0.0118372 , 0.00611204, 0.00287323],\n",
              "      dtype=float32)"
            ]
          },
          "metadata": {},
          "execution_count": 29
        }
      ]
    },
    {
      "cell_type": "markdown",
      "source": [
        "### 앙상블"
      ],
      "metadata": {
        "id": "y9R_kNOphP3w"
      }
    },
    {
      "cell_type": "code",
      "source": [
        "import numpy as np\n",
        "from sklearn.metrics import accuracy_score"
      ],
      "metadata": {
        "id": "NMT3Dg-Liw8l"
      },
      "execution_count": null,
      "outputs": []
    },
    {
      "cell_type": "code",
      "source": [
        "pred_ensemble = np.mean([pred_v1, pred_v2], axis=0)\n",
        "pred_ensemble"
      ],
      "metadata": {
        "colab": {
          "base_uri": "https://localhost:8080/"
        },
        "id": "wi_mNHfFhVHO",
        "outputId": "b436e64b-17bd-4517-de49-7238fcc41401"
      },
      "execution_count": null,
      "outputs": [
        {
          "output_type": "execute_result",
          "data": {
            "text/plain": [
              "array([[5.14482241e-03, 1.28384186e-02, 5.39679006e-02, ...,\n",
              "        1.25428420e-02, 5.52075636e-03, 2.18478404e-03],\n",
              "       [5.32471575e-02, 5.49458742e-01, 4.16760595e-05, ...,\n",
              "        3.11002441e-05, 3.31701517e-01, 6.51690662e-02],\n",
              "       [2.27380320e-02, 1.18470499e-02, 8.82680179e-05, ...,\n",
              "        2.46991927e-04, 9.20271397e-01, 4.31859568e-02],\n",
              "       ...,\n",
              "       [1.06554355e-04, 9.13288735e-04, 5.97864017e-02, ...,\n",
              "        2.19920874e-02, 1.30776491e-04, 4.93414700e-04],\n",
              "       [7.14453608e-02, 9.52197686e-02, 1.31609440e-01, ...,\n",
              "        2.16381013e-01, 3.51665355e-02, 5.49287498e-02],\n",
              "       [1.69369712e-04, 8.18765402e-05, 3.23846028e-03, ...,\n",
              "        9.17732120e-01, 1.15710545e-05, 9.93263966e-05]], dtype=float32)"
            ]
          },
          "metadata": {},
          "execution_count": 47
        }
      ]
    },
    {
      "cell_type": "code",
      "source": [
        "pred_ensemble = np.argmax(pred_ensemble, axis=1)"
      ],
      "metadata": {
        "id": "UXj8xY2HkRoQ"
      },
      "execution_count": null,
      "outputs": []
    },
    {
      "cell_type": "code",
      "source": [
        "y_test = np.argmax(y_test, axis=1)"
      ],
      "metadata": {
        "id": "zZWgUBTqnYxw"
      },
      "execution_count": null,
      "outputs": []
    },
    {
      "cell_type": "code",
      "source": [
        "y_test.shape, pred_ensemble.shape"
      ],
      "metadata": {
        "id": "Tu886Jmii1j4",
        "outputId": "ebfc6c80-68bc-446a-82b4-f651cab26fb3",
        "colab": {
          "base_uri": "https://localhost:8080/"
        }
      },
      "execution_count": null,
      "outputs": [
        {
          "output_type": "execute_result",
          "data": {
            "text/plain": [
              "((10000,), (10000,))"
            ]
          },
          "metadata": {},
          "execution_count": 50
        }
      ]
    },
    {
      "cell_type": "code",
      "source": [
        "accuracy_score(pred_ensemble, y_test)"
      ],
      "metadata": {
        "id": "cKE9METVieg4",
        "outputId": "27f715f1-c044-4c44-fcaf-b6a36bcd3835",
        "colab": {
          "base_uri": "https://localhost:8080/"
        }
      },
      "execution_count": null,
      "outputs": [
        {
          "output_type": "execute_result",
          "data": {
            "text/plain": [
              "0.5997"
            ]
          },
          "metadata": {},
          "execution_count": 52
        }
      ]
    },
    {
      "cell_type": "code",
      "source": [
        "# 단일 모델과 비교(앙상블이 일반적으로 올라간다(= 낮아지지 않는다))\n",
        "accuracy_score(np.argmax(pred_v1, axis=1), y_test)"
      ],
      "metadata": {
        "id": "yeUI34J-n4vk",
        "outputId": "1684bc56-071a-49a2-e84e-e86d22e45794",
        "colab": {
          "base_uri": "https://localhost:8080/"
        }
      },
      "execution_count": null,
      "outputs": [
        {
          "output_type": "execute_result",
          "data": {
            "text/plain": [
              "0.5663"
            ]
          },
          "metadata": {},
          "execution_count": 53
        }
      ]
    },
    {
      "cell_type": "code",
      "source": [
        "accuracy_score(np.argmax(pred_v2, axis=1), y_test)"
      ],
      "metadata": {
        "id": "YKiibsXan-Fp",
        "outputId": "1bffa83a-3b41-4b57-d7a0-b36ba4ea6837",
        "colab": {
          "base_uri": "https://localhost:8080/"
        }
      },
      "execution_count": null,
      "outputs": [
        {
          "output_type": "execute_result",
          "data": {
            "text/plain": [
              "0.5942"
            ]
          },
          "metadata": {},
          "execution_count": 54
        }
      ]
    }
  ]
}