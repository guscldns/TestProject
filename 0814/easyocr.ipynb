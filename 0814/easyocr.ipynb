{
  "nbformat": 4,
  "nbformat_minor": 0,
  "metadata": {
    "colab": {
      "provenance": [],
      "gpuType": "T4",
      "authorship_tag": "ABX9TyP8gjtU7cDbF9TDMmLfFkAN",
      "include_colab_link": true
    },
    "kernelspec": {
      "name": "python3",
      "display_name": "Python 3"
    },
    "language_info": {
      "name": "python"
    },
    "widgets": {
      "application/vnd.jupyter.widget-state+json": {
        "29794333d6354eff81dc0914e43fc9bb": {
          "model_module": "@jupyter-widgets/controls",
          "model_name": "HBoxModel",
          "model_module_version": "1.5.0",
          "state": {
            "_dom_classes": [],
            "_model_module": "@jupyter-widgets/controls",
            "_model_module_version": "1.5.0",
            "_model_name": "HBoxModel",
            "_view_count": null,
            "_view_module": "@jupyter-widgets/controls",
            "_view_module_version": "1.5.0",
            "_view_name": "HBoxView",
            "box_style": "",
            "children": [
              "IPY_MODEL_10f04b3b8a5549188bfbd31683b94444",
              "IPY_MODEL_539ef68b4cc4425cbdc50653d8d2b676",
              "IPY_MODEL_61a89f3c9708417cb82939df1327ba53"
            ],
            "layout": "IPY_MODEL_54d5cde5fe6747b798a389f481bfbe5a"
          }
        },
        "10f04b3b8a5549188bfbd31683b94444": {
          "model_module": "@jupyter-widgets/controls",
          "model_name": "HTMLModel",
          "model_module_version": "1.5.0",
          "state": {
            "_dom_classes": [],
            "_model_module": "@jupyter-widgets/controls",
            "_model_module_version": "1.5.0",
            "_model_name": "HTMLModel",
            "_view_count": null,
            "_view_module": "@jupyter-widgets/controls",
            "_view_module_version": "1.5.0",
            "_view_name": "HTMLView",
            "description": "",
            "description_tooltip": null,
            "layout": "IPY_MODEL_c220627278d84f4883cef589210ea89d",
            "placeholder": "​",
            "style": "IPY_MODEL_453297151a5e4d48aab7568a34538904",
            "value": "Downloading model.safetensors: 100%"
          }
        },
        "539ef68b4cc4425cbdc50653d8d2b676": {
          "model_module": "@jupyter-widgets/controls",
          "model_name": "FloatProgressModel",
          "model_module_version": "1.5.0",
          "state": {
            "_dom_classes": [],
            "_model_module": "@jupyter-widgets/controls",
            "_model_module_version": "1.5.0",
            "_model_name": "FloatProgressModel",
            "_view_count": null,
            "_view_module": "@jupyter-widgets/controls",
            "_view_module_version": "1.5.0",
            "_view_name": "ProgressView",
            "bar_style": "success",
            "description": "",
            "description_tooltip": null,
            "layout": "IPY_MODEL_fe7d725d466f468391aae208bd0a1240",
            "max": 218211304,
            "min": 0,
            "orientation": "horizontal",
            "style": "IPY_MODEL_22f5c0ffbd834db18d15622e48ff93ee",
            "value": 218211304
          }
        },
        "61a89f3c9708417cb82939df1327ba53": {
          "model_module": "@jupyter-widgets/controls",
          "model_name": "HTMLModel",
          "model_module_version": "1.5.0",
          "state": {
            "_dom_classes": [],
            "_model_module": "@jupyter-widgets/controls",
            "_model_module_version": "1.5.0",
            "_model_name": "HTMLModel",
            "_view_count": null,
            "_view_module": "@jupyter-widgets/controls",
            "_view_module_version": "1.5.0",
            "_view_name": "HTMLView",
            "description": "",
            "description_tooltip": null,
            "layout": "IPY_MODEL_07e31a4fb4fe44de9a770007119695cd",
            "placeholder": "​",
            "style": "IPY_MODEL_3371bc238e8444e4bdaf293057a2eabc",
            "value": " 218M/218M [00:04&lt;00:00, 64.5MB/s]"
          }
        },
        "54d5cde5fe6747b798a389f481bfbe5a": {
          "model_module": "@jupyter-widgets/base",
          "model_name": "LayoutModel",
          "model_module_version": "1.2.0",
          "state": {
            "_model_module": "@jupyter-widgets/base",
            "_model_module_version": "1.2.0",
            "_model_name": "LayoutModel",
            "_view_count": null,
            "_view_module": "@jupyter-widgets/base",
            "_view_module_version": "1.2.0",
            "_view_name": "LayoutView",
            "align_content": null,
            "align_items": null,
            "align_self": null,
            "border": null,
            "bottom": null,
            "display": null,
            "flex": null,
            "flex_flow": null,
            "grid_area": null,
            "grid_auto_columns": null,
            "grid_auto_flow": null,
            "grid_auto_rows": null,
            "grid_column": null,
            "grid_gap": null,
            "grid_row": null,
            "grid_template_areas": null,
            "grid_template_columns": null,
            "grid_template_rows": null,
            "height": null,
            "justify_content": null,
            "justify_items": null,
            "left": null,
            "margin": null,
            "max_height": null,
            "max_width": null,
            "min_height": null,
            "min_width": null,
            "object_fit": null,
            "object_position": null,
            "order": null,
            "overflow": null,
            "overflow_x": null,
            "overflow_y": null,
            "padding": null,
            "right": null,
            "top": null,
            "visibility": null,
            "width": null
          }
        },
        "c220627278d84f4883cef589210ea89d": {
          "model_module": "@jupyter-widgets/base",
          "model_name": "LayoutModel",
          "model_module_version": "1.2.0",
          "state": {
            "_model_module": "@jupyter-widgets/base",
            "_model_module_version": "1.2.0",
            "_model_name": "LayoutModel",
            "_view_count": null,
            "_view_module": "@jupyter-widgets/base",
            "_view_module_version": "1.2.0",
            "_view_name": "LayoutView",
            "align_content": null,
            "align_items": null,
            "align_self": null,
            "border": null,
            "bottom": null,
            "display": null,
            "flex": null,
            "flex_flow": null,
            "grid_area": null,
            "grid_auto_columns": null,
            "grid_auto_flow": null,
            "grid_auto_rows": null,
            "grid_column": null,
            "grid_gap": null,
            "grid_row": null,
            "grid_template_areas": null,
            "grid_template_columns": null,
            "grid_template_rows": null,
            "height": null,
            "justify_content": null,
            "justify_items": null,
            "left": null,
            "margin": null,
            "max_height": null,
            "max_width": null,
            "min_height": null,
            "min_width": null,
            "object_fit": null,
            "object_position": null,
            "order": null,
            "overflow": null,
            "overflow_x": null,
            "overflow_y": null,
            "padding": null,
            "right": null,
            "top": null,
            "visibility": null,
            "width": null
          }
        },
        "453297151a5e4d48aab7568a34538904": {
          "model_module": "@jupyter-widgets/controls",
          "model_name": "DescriptionStyleModel",
          "model_module_version": "1.5.0",
          "state": {
            "_model_module": "@jupyter-widgets/controls",
            "_model_module_version": "1.5.0",
            "_model_name": "DescriptionStyleModel",
            "_view_count": null,
            "_view_module": "@jupyter-widgets/base",
            "_view_module_version": "1.2.0",
            "_view_name": "StyleView",
            "description_width": ""
          }
        },
        "fe7d725d466f468391aae208bd0a1240": {
          "model_module": "@jupyter-widgets/base",
          "model_name": "LayoutModel",
          "model_module_version": "1.2.0",
          "state": {
            "_model_module": "@jupyter-widgets/base",
            "_model_module_version": "1.2.0",
            "_model_name": "LayoutModel",
            "_view_count": null,
            "_view_module": "@jupyter-widgets/base",
            "_view_module_version": "1.2.0",
            "_view_name": "LayoutView",
            "align_content": null,
            "align_items": null,
            "align_self": null,
            "border": null,
            "bottom": null,
            "display": null,
            "flex": null,
            "flex_flow": null,
            "grid_area": null,
            "grid_auto_columns": null,
            "grid_auto_flow": null,
            "grid_auto_rows": null,
            "grid_column": null,
            "grid_gap": null,
            "grid_row": null,
            "grid_template_areas": null,
            "grid_template_columns": null,
            "grid_template_rows": null,
            "height": null,
            "justify_content": null,
            "justify_items": null,
            "left": null,
            "margin": null,
            "max_height": null,
            "max_width": null,
            "min_height": null,
            "min_width": null,
            "object_fit": null,
            "object_position": null,
            "order": null,
            "overflow": null,
            "overflow_x": null,
            "overflow_y": null,
            "padding": null,
            "right": null,
            "top": null,
            "visibility": null,
            "width": null
          }
        },
        "22f5c0ffbd834db18d15622e48ff93ee": {
          "model_module": "@jupyter-widgets/controls",
          "model_name": "ProgressStyleModel",
          "model_module_version": "1.5.0",
          "state": {
            "_model_module": "@jupyter-widgets/controls",
            "_model_module_version": "1.5.0",
            "_model_name": "ProgressStyleModel",
            "_view_count": null,
            "_view_module": "@jupyter-widgets/base",
            "_view_module_version": "1.2.0",
            "_view_name": "StyleView",
            "bar_color": null,
            "description_width": ""
          }
        },
        "07e31a4fb4fe44de9a770007119695cd": {
          "model_module": "@jupyter-widgets/base",
          "model_name": "LayoutModel",
          "model_module_version": "1.2.0",
          "state": {
            "_model_module": "@jupyter-widgets/base",
            "_model_module_version": "1.2.0",
            "_model_name": "LayoutModel",
            "_view_count": null,
            "_view_module": "@jupyter-widgets/base",
            "_view_module_version": "1.2.0",
            "_view_name": "LayoutView",
            "align_content": null,
            "align_items": null,
            "align_self": null,
            "border": null,
            "bottom": null,
            "display": null,
            "flex": null,
            "flex_flow": null,
            "grid_area": null,
            "grid_auto_columns": null,
            "grid_auto_flow": null,
            "grid_auto_rows": null,
            "grid_column": null,
            "grid_gap": null,
            "grid_row": null,
            "grid_template_areas": null,
            "grid_template_columns": null,
            "grid_template_rows": null,
            "height": null,
            "justify_content": null,
            "justify_items": null,
            "left": null,
            "margin": null,
            "max_height": null,
            "max_width": null,
            "min_height": null,
            "min_width": null,
            "object_fit": null,
            "object_position": null,
            "order": null,
            "overflow": null,
            "overflow_x": null,
            "overflow_y": null,
            "padding": null,
            "right": null,
            "top": null,
            "visibility": null,
            "width": null
          }
        },
        "3371bc238e8444e4bdaf293057a2eabc": {
          "model_module": "@jupyter-widgets/controls",
          "model_name": "DescriptionStyleModel",
          "model_module_version": "1.5.0",
          "state": {
            "_model_module": "@jupyter-widgets/controls",
            "_model_module_version": "1.5.0",
            "_model_name": "DescriptionStyleModel",
            "_view_count": null,
            "_view_module": "@jupyter-widgets/base",
            "_view_module_version": "1.2.0",
            "_view_name": "StyleView",
            "description_width": ""
          }
        },
        "16817e2dc26049c68abaef1441b8454d": {
          "model_module": "@jupyter-widgets/controls",
          "model_name": "HBoxModel",
          "model_module_version": "1.5.0",
          "state": {
            "_dom_classes": [],
            "_model_module": "@jupyter-widgets/controls",
            "_model_module_version": "1.5.0",
            "_model_name": "HBoxModel",
            "_view_count": null,
            "_view_module": "@jupyter-widgets/controls",
            "_view_module_version": "1.5.0",
            "_view_name": "HBoxView",
            "box_style": "",
            "children": [
              "IPY_MODEL_b69a2cd2c6c54f2d8d340452c8e8766f",
              "IPY_MODEL_3ac0678da209430ab6a0444d5f6b901b",
              "IPY_MODEL_ed99bc295959401087809c7c57c9c659"
            ],
            "layout": "IPY_MODEL_1d77dc8f75054e399608326983b9367a"
          }
        },
        "b69a2cd2c6c54f2d8d340452c8e8766f": {
          "model_module": "@jupyter-widgets/controls",
          "model_name": "HTMLModel",
          "model_module_version": "1.5.0",
          "state": {
            "_dom_classes": [],
            "_model_module": "@jupyter-widgets/controls",
            "_model_module_version": "1.5.0",
            "_model_name": "HTMLModel",
            "_view_count": null,
            "_view_module": "@jupyter-widgets/controls",
            "_view_module_version": "1.5.0",
            "_view_name": "HTMLView",
            "description": "",
            "description_tooltip": null,
            "layout": "IPY_MODEL_9cf4e9cec9794bcebc4726d2ba3bd27e",
            "placeholder": "​",
            "style": "IPY_MODEL_e9036d6669ea4b11b55fdcb4a4afdd53",
            "value": "Downloading (…)neration_config.json: 100%"
          }
        },
        "3ac0678da209430ab6a0444d5f6b901b": {
          "model_module": "@jupyter-widgets/controls",
          "model_name": "FloatProgressModel",
          "model_module_version": "1.5.0",
          "state": {
            "_dom_classes": [],
            "_model_module": "@jupyter-widgets/controls",
            "_model_module_version": "1.5.0",
            "_model_name": "FloatProgressModel",
            "_view_count": null,
            "_view_module": "@jupyter-widgets/controls",
            "_view_module_version": "1.5.0",
            "_view_name": "ProgressView",
            "bar_style": "success",
            "description": "",
            "description_tooltip": null,
            "layout": "IPY_MODEL_a98d189a79a54797b608c08a367fcaa0",
            "max": 190,
            "min": 0,
            "orientation": "horizontal",
            "style": "IPY_MODEL_4f4c034c9f0b474ba3f80a4ceb2e3366",
            "value": 190
          }
        },
        "ed99bc295959401087809c7c57c9c659": {
          "model_module": "@jupyter-widgets/controls",
          "model_name": "HTMLModel",
          "model_module_version": "1.5.0",
          "state": {
            "_dom_classes": [],
            "_model_module": "@jupyter-widgets/controls",
            "_model_module_version": "1.5.0",
            "_model_name": "HTMLModel",
            "_view_count": null,
            "_view_module": "@jupyter-widgets/controls",
            "_view_module_version": "1.5.0",
            "_view_name": "HTMLView",
            "description": "",
            "description_tooltip": null,
            "layout": "IPY_MODEL_7f59afd1066d42f4862d03785b02895a",
            "placeholder": "​",
            "style": "IPY_MODEL_eafbdb34bf3247ecb351f3346357a52e",
            "value": " 190/190 [00:00&lt;00:00, 4.57kB/s]"
          }
        },
        "1d77dc8f75054e399608326983b9367a": {
          "model_module": "@jupyter-widgets/base",
          "model_name": "LayoutModel",
          "model_module_version": "1.2.0",
          "state": {
            "_model_module": "@jupyter-widgets/base",
            "_model_module_version": "1.2.0",
            "_model_name": "LayoutModel",
            "_view_count": null,
            "_view_module": "@jupyter-widgets/base",
            "_view_module_version": "1.2.0",
            "_view_name": "LayoutView",
            "align_content": null,
            "align_items": null,
            "align_self": null,
            "border": null,
            "bottom": null,
            "display": null,
            "flex": null,
            "flex_flow": null,
            "grid_area": null,
            "grid_auto_columns": null,
            "grid_auto_flow": null,
            "grid_auto_rows": null,
            "grid_column": null,
            "grid_gap": null,
            "grid_row": null,
            "grid_template_areas": null,
            "grid_template_columns": null,
            "grid_template_rows": null,
            "height": null,
            "justify_content": null,
            "justify_items": null,
            "left": null,
            "margin": null,
            "max_height": null,
            "max_width": null,
            "min_height": null,
            "min_width": null,
            "object_fit": null,
            "object_position": null,
            "order": null,
            "overflow": null,
            "overflow_x": null,
            "overflow_y": null,
            "padding": null,
            "right": null,
            "top": null,
            "visibility": null,
            "width": null
          }
        },
        "9cf4e9cec9794bcebc4726d2ba3bd27e": {
          "model_module": "@jupyter-widgets/base",
          "model_name": "LayoutModel",
          "model_module_version": "1.2.0",
          "state": {
            "_model_module": "@jupyter-widgets/base",
            "_model_module_version": "1.2.0",
            "_model_name": "LayoutModel",
            "_view_count": null,
            "_view_module": "@jupyter-widgets/base",
            "_view_module_version": "1.2.0",
            "_view_name": "LayoutView",
            "align_content": null,
            "align_items": null,
            "align_self": null,
            "border": null,
            "bottom": null,
            "display": null,
            "flex": null,
            "flex_flow": null,
            "grid_area": null,
            "grid_auto_columns": null,
            "grid_auto_flow": null,
            "grid_auto_rows": null,
            "grid_column": null,
            "grid_gap": null,
            "grid_row": null,
            "grid_template_areas": null,
            "grid_template_columns": null,
            "grid_template_rows": null,
            "height": null,
            "justify_content": null,
            "justify_items": null,
            "left": null,
            "margin": null,
            "max_height": null,
            "max_width": null,
            "min_height": null,
            "min_width": null,
            "object_fit": null,
            "object_position": null,
            "order": null,
            "overflow": null,
            "overflow_x": null,
            "overflow_y": null,
            "padding": null,
            "right": null,
            "top": null,
            "visibility": null,
            "width": null
          }
        },
        "e9036d6669ea4b11b55fdcb4a4afdd53": {
          "model_module": "@jupyter-widgets/controls",
          "model_name": "DescriptionStyleModel",
          "model_module_version": "1.5.0",
          "state": {
            "_model_module": "@jupyter-widgets/controls",
            "_model_module_version": "1.5.0",
            "_model_name": "DescriptionStyleModel",
            "_view_count": null,
            "_view_module": "@jupyter-widgets/base",
            "_view_module_version": "1.2.0",
            "_view_name": "StyleView",
            "description_width": ""
          }
        },
        "a98d189a79a54797b608c08a367fcaa0": {
          "model_module": "@jupyter-widgets/base",
          "model_name": "LayoutModel",
          "model_module_version": "1.2.0",
          "state": {
            "_model_module": "@jupyter-widgets/base",
            "_model_module_version": "1.2.0",
            "_model_name": "LayoutModel",
            "_view_count": null,
            "_view_module": "@jupyter-widgets/base",
            "_view_module_version": "1.2.0",
            "_view_name": "LayoutView",
            "align_content": null,
            "align_items": null,
            "align_self": null,
            "border": null,
            "bottom": null,
            "display": null,
            "flex": null,
            "flex_flow": null,
            "grid_area": null,
            "grid_auto_columns": null,
            "grid_auto_flow": null,
            "grid_auto_rows": null,
            "grid_column": null,
            "grid_gap": null,
            "grid_row": null,
            "grid_template_areas": null,
            "grid_template_columns": null,
            "grid_template_rows": null,
            "height": null,
            "justify_content": null,
            "justify_items": null,
            "left": null,
            "margin": null,
            "max_height": null,
            "max_width": null,
            "min_height": null,
            "min_width": null,
            "object_fit": null,
            "object_position": null,
            "order": null,
            "overflow": null,
            "overflow_x": null,
            "overflow_y": null,
            "padding": null,
            "right": null,
            "top": null,
            "visibility": null,
            "width": null
          }
        },
        "4f4c034c9f0b474ba3f80a4ceb2e3366": {
          "model_module": "@jupyter-widgets/controls",
          "model_name": "ProgressStyleModel",
          "model_module_version": "1.5.0",
          "state": {
            "_model_module": "@jupyter-widgets/controls",
            "_model_module_version": "1.5.0",
            "_model_name": "ProgressStyleModel",
            "_view_count": null,
            "_view_module": "@jupyter-widgets/base",
            "_view_module_version": "1.2.0",
            "_view_name": "StyleView",
            "bar_color": null,
            "description_width": ""
          }
        },
        "7f59afd1066d42f4862d03785b02895a": {
          "model_module": "@jupyter-widgets/base",
          "model_name": "LayoutModel",
          "model_module_version": "1.2.0",
          "state": {
            "_model_module": "@jupyter-widgets/base",
            "_model_module_version": "1.2.0",
            "_model_name": "LayoutModel",
            "_view_count": null,
            "_view_module": "@jupyter-widgets/base",
            "_view_module_version": "1.2.0",
            "_view_name": "LayoutView",
            "align_content": null,
            "align_items": null,
            "align_self": null,
            "border": null,
            "bottom": null,
            "display": null,
            "flex": null,
            "flex_flow": null,
            "grid_area": null,
            "grid_auto_columns": null,
            "grid_auto_flow": null,
            "grid_auto_rows": null,
            "grid_column": null,
            "grid_gap": null,
            "grid_row": null,
            "grid_template_areas": null,
            "grid_template_columns": null,
            "grid_template_rows": null,
            "height": null,
            "justify_content": null,
            "justify_items": null,
            "left": null,
            "margin": null,
            "max_height": null,
            "max_width": null,
            "min_height": null,
            "min_width": null,
            "object_fit": null,
            "object_position": null,
            "order": null,
            "overflow": null,
            "overflow_x": null,
            "overflow_y": null,
            "padding": null,
            "right": null,
            "top": null,
            "visibility": null,
            "width": null
          }
        },
        "eafbdb34bf3247ecb351f3346357a52e": {
          "model_module": "@jupyter-widgets/controls",
          "model_name": "DescriptionStyleModel",
          "model_module_version": "1.5.0",
          "state": {
            "_model_module": "@jupyter-widgets/controls",
            "_model_module_version": "1.5.0",
            "_model_name": "DescriptionStyleModel",
            "_view_count": null,
            "_view_module": "@jupyter-widgets/base",
            "_view_module_version": "1.2.0",
            "_view_name": "StyleView",
            "description_width": ""
          }
        }
      }
    }
  },
  "cells": [
    {
      "cell_type": "markdown",
      "metadata": {
        "id": "view-in-github",
        "colab_type": "text"
      },
      "source": [
        "<a href=\"https://colab.research.google.com/github/guscldns/TestProject/blob/main/0814/easyocr.ipynb\" target=\"_parent\"><img src=\"https://colab.research.google.com/assets/colab-badge.svg\" alt=\"Open In Colab\"/></a>"
      ]
    },
    {
      "cell_type": "markdown",
      "source": [
        "### Eacy ocr"
      ],
      "metadata": {
        "id": "tNJj6T26muth"
      }
    },
    {
      "cell_type": "code",
      "source": [
        "!pip install easyocr"
      ],
      "metadata": {
        "colab": {
          "base_uri": "https://localhost:8080/"
        },
        "id": "Oo2gViYfwQRF",
        "outputId": "5b6966a8-0923-4940-c737-a29983f1d797"
      },
      "execution_count": 3,
      "outputs": [
        {
          "output_type": "stream",
          "name": "stdout",
          "text": [
            "Collecting easyocr\n",
            "  Downloading easyocr-1.7.0-py3-none-any.whl (2.9 MB)\n",
            "\u001b[2K     \u001b[90m━━━━━━━━━━━━━━━━━━━━━━━━━━━━━━━━━━━━━━━━\u001b[0m \u001b[32m2.9/2.9 MB\u001b[0m \u001b[31m10.6 MB/s\u001b[0m eta \u001b[36m0:00:00\u001b[0m\n",
            "\u001b[?25hRequirement already satisfied: torch in /usr/local/lib/python3.10/dist-packages (from easyocr) (2.0.1+cu118)\n",
            "Requirement already satisfied: torchvision>=0.5 in /usr/local/lib/python3.10/dist-packages (from easyocr) (0.15.2+cu118)\n",
            "Requirement already satisfied: opencv-python-headless in /usr/local/lib/python3.10/dist-packages (from easyocr) (4.8.0.76)\n",
            "Requirement already satisfied: scipy in /usr/local/lib/python3.10/dist-packages (from easyocr) (1.10.1)\n",
            "Requirement already satisfied: numpy in /usr/local/lib/python3.10/dist-packages (from easyocr) (1.23.5)\n",
            "Requirement already satisfied: Pillow in /usr/local/lib/python3.10/dist-packages (from easyocr) (9.4.0)\n",
            "Requirement already satisfied: scikit-image in /usr/local/lib/python3.10/dist-packages (from easyocr) (0.19.3)\n",
            "Collecting python-bidi (from easyocr)\n",
            "  Downloading python_bidi-0.4.2-py2.py3-none-any.whl (30 kB)\n",
            "Requirement already satisfied: PyYAML in /usr/local/lib/python3.10/dist-packages (from easyocr) (6.0.1)\n",
            "Requirement already satisfied: Shapely in /usr/local/lib/python3.10/dist-packages (from easyocr) (2.0.1)\n",
            "Collecting pyclipper (from easyocr)\n",
            "  Downloading pyclipper-1.3.0.post4-cp310-cp310-manylinux_2_12_x86_64.manylinux2010_x86_64.whl (813 kB)\n",
            "\u001b[2K     \u001b[90m━━━━━━━━━━━━━━━━━━━━━━━━━━━━━━━━━━━━━━\u001b[0m \u001b[32m813.9/813.9 kB\u001b[0m \u001b[31m17.4 MB/s\u001b[0m eta \u001b[36m0:00:00\u001b[0m\n",
            "\u001b[?25hCollecting ninja (from easyocr)\n",
            "  Downloading ninja-1.11.1-py2.py3-none-manylinux_2_12_x86_64.manylinux2010_x86_64.whl (145 kB)\n",
            "\u001b[2K     \u001b[90m━━━━━━━━━━━━━━━━━━━━━━━━━━━━━━━━━━━━━━\u001b[0m \u001b[32m146.0/146.0 kB\u001b[0m \u001b[31m16.2 MB/s\u001b[0m eta \u001b[36m0:00:00\u001b[0m\n",
            "\u001b[?25hRequirement already satisfied: requests in /usr/local/lib/python3.10/dist-packages (from torchvision>=0.5->easyocr) (2.31.0)\n",
            "Requirement already satisfied: filelock in /usr/local/lib/python3.10/dist-packages (from torch->easyocr) (3.12.2)\n",
            "Requirement already satisfied: typing-extensions in /usr/local/lib/python3.10/dist-packages (from torch->easyocr) (4.7.1)\n",
            "Requirement already satisfied: sympy in /usr/local/lib/python3.10/dist-packages (from torch->easyocr) (1.12)\n",
            "Requirement already satisfied: networkx in /usr/local/lib/python3.10/dist-packages (from torch->easyocr) (3.1)\n",
            "Requirement already satisfied: jinja2 in /usr/local/lib/python3.10/dist-packages (from torch->easyocr) (3.1.2)\n",
            "Requirement already satisfied: triton==2.0.0 in /usr/local/lib/python3.10/dist-packages (from torch->easyocr) (2.0.0)\n",
            "Requirement already satisfied: cmake in /usr/local/lib/python3.10/dist-packages (from triton==2.0.0->torch->easyocr) (3.27.2)\n",
            "Requirement already satisfied: lit in /usr/local/lib/python3.10/dist-packages (from triton==2.0.0->torch->easyocr) (16.0.6)\n",
            "Requirement already satisfied: six in /usr/local/lib/python3.10/dist-packages (from python-bidi->easyocr) (1.16.0)\n",
            "Requirement already satisfied: imageio>=2.4.1 in /usr/local/lib/python3.10/dist-packages (from scikit-image->easyocr) (2.31.1)\n",
            "Requirement already satisfied: tifffile>=2019.7.26 in /usr/local/lib/python3.10/dist-packages (from scikit-image->easyocr) (2023.8.12)\n",
            "Requirement already satisfied: PyWavelets>=1.1.1 in /usr/local/lib/python3.10/dist-packages (from scikit-image->easyocr) (1.4.1)\n",
            "Requirement already satisfied: packaging>=20.0 in /usr/local/lib/python3.10/dist-packages (from scikit-image->easyocr) (23.1)\n",
            "Requirement already satisfied: MarkupSafe>=2.0 in /usr/local/lib/python3.10/dist-packages (from jinja2->torch->easyocr) (2.1.3)\n",
            "Requirement already satisfied: charset-normalizer<4,>=2 in /usr/local/lib/python3.10/dist-packages (from requests->torchvision>=0.5->easyocr) (3.2.0)\n",
            "Requirement already satisfied: idna<4,>=2.5 in /usr/local/lib/python3.10/dist-packages (from requests->torchvision>=0.5->easyocr) (3.4)\n",
            "Requirement already satisfied: urllib3<3,>=1.21.1 in /usr/local/lib/python3.10/dist-packages (from requests->torchvision>=0.5->easyocr) (2.0.4)\n",
            "Requirement already satisfied: certifi>=2017.4.17 in /usr/local/lib/python3.10/dist-packages (from requests->torchvision>=0.5->easyocr) (2023.7.22)\n",
            "Requirement already satisfied: mpmath>=0.19 in /usr/local/lib/python3.10/dist-packages (from sympy->torch->easyocr) (1.3.0)\n",
            "Installing collected packages: pyclipper, ninja, python-bidi, easyocr\n",
            "Successfully installed easyocr-1.7.0 ninja-1.11.1 pyclipper-1.3.0.post4 python-bidi-0.4.2\n"
          ]
        }
      ]
    },
    {
      "cell_type": "code",
      "execution_count": null,
      "metadata": {
        "id": "5ppRr4gtvuUu"
      },
      "outputs": [],
      "source": [
        "# import easyocr\n",
        "# import pytesseract\n",
        "# import cv2\n",
        "# import numpy as np\n",
        "# from pdf2image import convert_from_path\n",
        "\n",
        "\n",
        "# class Octet:\n",
        "#     def __init__(self, file_path):\n",
        "#         self.file_path = file_path\n",
        "#         self.ocr_text = None\n",
        "#         self.reader = easyocr.Reader(['ko'])\n",
        "\n",
        "#     def extract_with_easyocr(self):\n",
        "#         images = convert_from_path(self.file_path)\n",
        "\n",
        "#         self.ocr_text = []  # 여러 장 추출할 때 사용\n",
        "\n",
        "#         for page_num, img in enumerate(images):\n",
        "#             # pdf를 image 형태로 변경\n",
        "#             img_cv = cv2.cvtColor(np.array(img), cv2.COLOR_RGB2BGR)\n",
        "#             # gray로 변경하겠습니다\n",
        "#             img_gray = cv2.cvtColor(img_cv, cv2.COLOR_BGR2GRAY)\n",
        "#             # EasyOCR\n",
        "#             ocr_contents = self.reader.readtext(img_gray)\n",
        "#             # 결과값 저장\n",
        "#             page_text = [result[1] for result in ocr_contents]\n",
        "#             self.ocr_text.extend(page_text)\n",
        "\n",
        "#         self.ocr_text = '\\n'.join(self.ocr_text)\n",
        "\n",
        "#         return self.ocr_text\n",
        "\n",
        "#     def extract_with_tesseract(self):\n",
        "#         pytesseract.pytesseract.tesseract_cmd = \"tesseract.exe 경로\"\n",
        "\n",
        "#         images = convert_from_path(self.file_path)\n",
        "#         self.ocr_text = []\n",
        "\n",
        "#         for page_num, img in enumerate(images):\n",
        "#             img_cv = cv2.cvtColor(np.array(img), cv2.COLOR_RGB2BGR)\n",
        "#             img_gray = cv2.cvtColor(img_cv, cv2.COLOR_BGR2GRAY)\n",
        "#             ocr_text_page = pytesseract.image_to_string(img_gray, lang='kor')\n",
        "#             self.ocr_text.append(ocr_text_page)\n",
        "\n",
        "#         self.ocr_text = '\\n'.join(self.ocr_text)\n",
        "\n",
        "#         return self.ocr_text\n",
        "\n",
        "\n",
        "# file_path = \"sample.pdf\"\n",
        "\n",
        "# octet = Octet(file_path)\n",
        "# easy_result = octet.extract_with_easyocr()\n",
        "# tesseract_result = octet.extract_with_tesseract()\n",
        "\n",
        "# print(\"EasyOCR:\")\n",
        "# print(easy_result)\n",
        "# print()\n",
        "\n",
        "# print(\"Tesseract:\")\n",
        "# print(tesseract_result)"
      ]
    },
    {
      "cell_type": "code",
      "source": [
        "import easyocr\n",
        "import cv2\n",
        "import os\n",
        "text_file = []\n",
        "file_list = os.listdir('/content')[1:-1]\n",
        "for i in file_list:\n",
        "    file = f\"/content/{i}\"\n",
        "    reader = easyocr.Reader(['ko', 'en'], gpu=False)\n",
        "    img = cv2.imread(file)\n",
        "    text = reader.readtext(img, detail=0)\n",
        "    text_file.append(text)\n",
        "    print(text)"
      ],
      "metadata": {
        "colab": {
          "base_uri": "https://localhost:8080/",
          "height": 0
        },
        "id": "jat0CwMPwQuU",
        "outputId": "20708d6b-4476-4570-d436-67de236c692f"
      },
      "execution_count": 4,
      "outputs": [
        {
          "output_type": "stream",
          "name": "stderr",
          "text": [
            "WARNING:easyocr.easyocr:Using CPU. Note: This module is much faster with a GPU.\n",
            "WARNING:easyocr.easyocr:Downloading detection model, please wait. This may take several minutes depending upon your network connection.\n"
          ]
        },
        {
          "output_type": "stream",
          "name": "stdout",
          "text": [
            "Progress: |██████████████████████████████████████████████████| 100.0% Complete"
          ]
        },
        {
          "output_type": "stream",
          "name": "stderr",
          "text": [
            "WARNING:easyocr.easyocr:Downloading recognition model, please wait. This may take several minutes depending upon your network connection.\n"
          ]
        },
        {
          "output_type": "stream",
          "name": "stdout",
          "text": [
            "Progress: |██████████████████████████████████████████████████| 100.1% Complete"
          ]
        },
        {
          "output_type": "stream",
          "name": "stderr",
          "text": [
            "WARNING:easyocr.easyocr:Using CPU. Note: This module is much faster with a GPU.\n"
          ]
        },
        {
          "output_type": "stream",
          "name": "stdout",
          "text": [
            "['문제해결과', '1', '다음은 수필 <내 마음의 희망등>의 일부이다 잘 읽고 비유의 특성과 표현 효과루', '적용', '알아보자:', '이끌기', '<내 마음의 희망등>은 초등', '학교 시절 자신올 믿고 격러해', '준 스승에계 고마운 마음을 전', '한수필형식의 글이에요', '사람들은 지금 내가 소설올 쓰고 있으니까 어린 시절부터 문학적 ` 소양 같', '것이 반짝반짝햇올 거로 생각하는 것 같다.', '그러나 검손의 말이 아니라, 나는 대학에 입학하기 전까지 단 한 번도 백일', '장 같은 곳에 나가 상을 받아 본 적이 없없다. 초등학교 시절엔 초등학교 시', '절대로 그쨌고  중. 고등학교 시절엔 중 . 고등학교 시절대로 그쨌다. 나는 언', '제나 그런 상으로부터 멀찌감치 떨어저 짓던 아주 평범한 소년이없다. (중락)', '5학년 2학기 때의 일이다. 나는 교내 백일장에서는 물론 군 대회같이 큰 백', '일장에 나가서도 매번 떨어지기만 햇다. 그때도 역시나 군 대회에 나가 아무', '상도 받지 못하고 반손으로 돌아온 다음이어서 어린 마음예도 나는 참으로', '크게 낙담햇다. 선생님은 그런 나와 학교 운동장 가에 있는 커다란 나무 아래', '에 나란히 앉아서 이런 말씀올 하여다.', '\"지금은 단풍이 한창이지만 붐에는 나무에서 꽂이 피지?\"', '\"너희 집에는 어떤 꽃나무가 있니?\"', '\"매화나무도 잇고, 살구나무도 있고 배나무도 있어요', '\"그래. 그러면 매화나무 예름 한번 들어 보자. 같은 매화나무에도 먼저 피', '논 꽂이 있고, 나중에 피는 꽂이 있지?\"', '\"예:', '\"그러면 먼저 팬 꽃과 나중에 팬 꽃 중에 열매름 맺는 건 어느 꽃일까?\"', '나는 얼른 대답하지 못햇다. 그러자 선생님께서 말씀하여다.', '\"매화나무는 나무들 가운데에서도 이른 봄에 빨리 꽃올 피우는 나무린다.', '그런 매화나무 중에서도 다른 가지보다 더 일찍 피는 꽂이 있지. 다른 가지', '에서는 아직 꽂이 피지 않앞논데 한 가지에서만 일찍 꽂이 피면 그 꽃은 사', '감들의 눈길올 끝게 마련이지. 그렇지만 선생넘이 보기에 그 나무 중에서', '제일 먼저 팬 꽃들은 대부분 열매들 맺지 못하다라. 제대로 된 열매들 맺는', \"꽃들은 늘 더 많은 준비 하고 뒤에 피는 거란다 '\", '이순원 <내 마음의 희망등>에서', '소양(#출): 평소 닦아 농은', '학문이나 지식', '22', '1 표현의 즐거움', '\"예:']\n"
          ]
        },
        {
          "output_type": "error",
          "ename": "ValueError",
          "evalue": "ignored",
          "traceback": [
            "\u001b[0;31m---------------------------------------------------------------------------\u001b[0m",
            "\u001b[0;31mValueError\u001b[0m                                Traceback (most recent call last)",
            "\u001b[0;32m<ipython-input-4-aa7139b9f5d8>\u001b[0m in \u001b[0;36m<cell line: 6>\u001b[0;34m()\u001b[0m\n\u001b[1;32m      8\u001b[0m     \u001b[0mreader\u001b[0m \u001b[0;34m=\u001b[0m \u001b[0measyocr\u001b[0m\u001b[0;34m.\u001b[0m\u001b[0mReader\u001b[0m\u001b[0;34m(\u001b[0m\u001b[0;34m[\u001b[0m\u001b[0;34m'ko'\u001b[0m\u001b[0;34m,\u001b[0m \u001b[0;34m'en'\u001b[0m\u001b[0;34m]\u001b[0m\u001b[0;34m,\u001b[0m \u001b[0mgpu\u001b[0m\u001b[0;34m=\u001b[0m\u001b[0;32mFalse\u001b[0m\u001b[0;34m)\u001b[0m\u001b[0;34m\u001b[0m\u001b[0;34m\u001b[0m\u001b[0m\n\u001b[1;32m      9\u001b[0m     \u001b[0mimg\u001b[0m \u001b[0;34m=\u001b[0m \u001b[0mcv2\u001b[0m\u001b[0;34m.\u001b[0m\u001b[0mimread\u001b[0m\u001b[0;34m(\u001b[0m\u001b[0mfile\u001b[0m\u001b[0;34m)\u001b[0m\u001b[0;34m\u001b[0m\u001b[0;34m\u001b[0m\u001b[0m\n\u001b[0;32m---> 10\u001b[0;31m     \u001b[0mtext\u001b[0m \u001b[0;34m=\u001b[0m \u001b[0mreader\u001b[0m\u001b[0;34m.\u001b[0m\u001b[0mreadtext\u001b[0m\u001b[0;34m(\u001b[0m\u001b[0mimg\u001b[0m\u001b[0;34m,\u001b[0m \u001b[0mdetail\u001b[0m\u001b[0;34m=\u001b[0m\u001b[0;36m0\u001b[0m\u001b[0;34m)\u001b[0m\u001b[0;34m\u001b[0m\u001b[0;34m\u001b[0m\u001b[0m\n\u001b[0m\u001b[1;32m     11\u001b[0m     \u001b[0mtext_file\u001b[0m\u001b[0;34m.\u001b[0m\u001b[0mappend\u001b[0m\u001b[0;34m(\u001b[0m\u001b[0mtext\u001b[0m\u001b[0;34m)\u001b[0m\u001b[0;34m\u001b[0m\u001b[0;34m\u001b[0m\u001b[0m\n\u001b[1;32m     12\u001b[0m     \u001b[0mprint\u001b[0m\u001b[0;34m(\u001b[0m\u001b[0mtext\u001b[0m\u001b[0;34m)\u001b[0m\u001b[0;34m\u001b[0m\u001b[0;34m\u001b[0m\u001b[0m\n",
            "\u001b[0;32m/usr/local/lib/python3.10/dist-packages/easyocr/easyocr.py\u001b[0m in \u001b[0;36mreadtext\u001b[0;34m(self, image, decoder, beamWidth, batch_size, workers, allowlist, blocklist, detail, rotation_info, paragraph, min_size, contrast_ths, adjust_contrast, filter_ths, text_threshold, low_text, link_threshold, canvas_size, mag_ratio, slope_ths, ycenter_ths, height_ths, width_ths, y_ths, x_ths, add_margin, threshold, bbox_min_score, bbox_min_size, max_candidates, output_format)\u001b[0m\n\u001b[1;32m    448\u001b[0m         \u001b[0mimage\u001b[0m\u001b[0;34m:\u001b[0m \u001b[0mfile\u001b[0m \u001b[0mpath\u001b[0m \u001b[0;32mor\u001b[0m \u001b[0mnumpy\u001b[0m\u001b[0;34m-\u001b[0m\u001b[0marray\u001b[0m \u001b[0;32mor\u001b[0m \u001b[0ma\u001b[0m \u001b[0mbyte\u001b[0m \u001b[0mstream\u001b[0m \u001b[0mobject\u001b[0m\u001b[0;34m\u001b[0m\u001b[0;34m\u001b[0m\u001b[0m\n\u001b[1;32m    449\u001b[0m         '''\n\u001b[0;32m--> 450\u001b[0;31m         \u001b[0mimg\u001b[0m\u001b[0;34m,\u001b[0m \u001b[0mimg_cv_grey\u001b[0m \u001b[0;34m=\u001b[0m \u001b[0mreformat_input\u001b[0m\u001b[0;34m(\u001b[0m\u001b[0mimage\u001b[0m\u001b[0;34m)\u001b[0m\u001b[0;34m\u001b[0m\u001b[0;34m\u001b[0m\u001b[0m\n\u001b[0m\u001b[1;32m    451\u001b[0m \u001b[0;34m\u001b[0m\u001b[0m\n\u001b[1;32m    452\u001b[0m         horizontal_list, free_list = self.detect(img, \n",
            "\u001b[0;32m/usr/local/lib/python3.10/dist-packages/easyocr/utils.py\u001b[0m in \u001b[0;36mreformat_input\u001b[0;34m(image)\u001b[0m\n\u001b[1;32m    765\u001b[0m         \u001b[0mimg_cv_grey\u001b[0m \u001b[0;34m=\u001b[0m \u001b[0mcv2\u001b[0m\u001b[0;34m.\u001b[0m\u001b[0mcvtColor\u001b[0m\u001b[0;34m(\u001b[0m\u001b[0mimg\u001b[0m\u001b[0;34m,\u001b[0m \u001b[0mcv2\u001b[0m\u001b[0;34m.\u001b[0m\u001b[0mCOLOR_BGR2GRAY\u001b[0m\u001b[0;34m)\u001b[0m\u001b[0;34m\u001b[0m\u001b[0;34m\u001b[0m\u001b[0m\n\u001b[1;32m    766\u001b[0m     \u001b[0;32melse\u001b[0m\u001b[0;34m:\u001b[0m\u001b[0;34m\u001b[0m\u001b[0;34m\u001b[0m\u001b[0m\n\u001b[0;32m--> 767\u001b[0;31m         \u001b[0;32mraise\u001b[0m \u001b[0mValueError\u001b[0m\u001b[0;34m(\u001b[0m\u001b[0;34m'Invalid input type. Supporting format = string(file path or url), bytes, numpy array'\u001b[0m\u001b[0;34m)\u001b[0m\u001b[0;34m\u001b[0m\u001b[0;34m\u001b[0m\u001b[0m\n\u001b[0m\u001b[1;32m    768\u001b[0m \u001b[0;34m\u001b[0m\u001b[0m\n\u001b[1;32m    769\u001b[0m     \u001b[0;32mreturn\u001b[0m \u001b[0mimg\u001b[0m\u001b[0;34m,\u001b[0m \u001b[0mimg_cv_grey\u001b[0m\u001b[0;34m\u001b[0m\u001b[0;34m\u001b[0m\u001b[0m\n",
            "\u001b[0;31mValueError\u001b[0m: Invalid input type. Supporting format = string(file path or url), bytes, numpy array"
          ]
        }
      ]
    },
    {
      "cell_type": "code",
      "source": [
        "test = sum(text_file,[])\n",
        "test"
      ],
      "metadata": {
        "colab": {
          "base_uri": "https://localhost:8080/"
        },
        "id": "HLyWpax-32ew",
        "outputId": "d1f58648-1c43-4ad5-905a-2d1bf5838518"
      },
      "execution_count": null,
      "outputs": [
        {
          "output_type": "execute_result",
          "data": {
            "text/plain": [
              "['부록',\n",
              " '234쪽 영화 <모던타임즈) (쥐엇나인필름',\n",
              " '241쪽   (상좌)월가 시위 위키피디아',\n",
              " '(상위미국 경제 위기 카뭄 한경닷점',\n",
              " '(하좌 한국 금움 위기 조선일보',\n",
              " '(하위실업자 사진 프레시안',\n",
              " '242쪽 (좌)무료 급식울 기다리는 여인 도로디어 행',\n",
              " '(우직업올 구하는 사람들, 유종선(t988), (미국사 100장면) , 가람기획',\n",
              " '253쪽',\n",
              " '조지 G. 킬번 <The Duel), Www the',\n",
              " 'alhenaeumn orglart',\n",
              " '256쪽',\n",
              " '선사 시대 상상도 전곡리 유적',\n",
              " '258쪽   영화 (엘 시스테마) , 영화사 진진',\n",
              " '259쪽 구스타보 두다델과 엘 시스테마 WWW.rnixanitouxronougr',\n",
              " '260쪽 고양이 이중창 수잔 허버트',\n",
              " 'WWW wallcoonellpaintlHerbert_Susan',\n",
              " '261쪽',\n",
              " '아기 모습_',\n",
              " 'best-wallpapernet',\n",
              " '2644쪽  아풀론과 무사이 오비디우스(t998) , (변신이야기 1) 민음사',\n",
              " '270쪽 (좌)아물론 위키피디아',\n",
              " '(우사티로스 위키피디아',\n",
              " '273쪽   영화 <사운드 오브 유직) , 20세기 폭스',\n",
              " '274쪽  구이도 다레초 약보',\n",
              " 'choirlycorn',\n",
              " '275쪽  구이도의 손',\n",
              " 'WW Classicallorurns corn',\n",
              " '276쪽   그레고리오 성가 악보',\n",
              " 'procorbiscorn',\n",
              " '279쪽   영화 <로미오와 줄리옛> , 파라마운트 픽처스',\n",
              " '285쪽   미킬란질로 <다비드) , 모니카 지라르다(2008), (미킬콤질로) , 마로니에북스',\n",
              " '286쪽 미결관질로 <피에타>, 모니카 지라르다(2008), (미결콤질로) 마로니에북스',\n",
              " '287쪽   미킬란질로 <반항하는 노예) , 모니카 지라르다(2008), (미킬콤질로) , 마로니에북스',\n",
              " '292쪽   미킬관질로 (수염난 노예>, 모니카 지라르다(2008), (미킬관질로) , 마로니에북스',\n",
              " '293쪽   미킬콤질로 <노예 아틀라스) , 모니카 지라르다(2008), (미킬란질로) , 마로니에북스',\n",
              " '295쪽 안 베로메로 <진주 귀걸이틀 한',\n",
              " '마우리즈하이스 미술관mauritshuis nl)',\n",
              " '296쪽 (좌구스타프 클림트 <키스) 벌베데레 오스트리아 길러리www belvedere.al)',\n",
              " '(우일포스 무하 <보석 시리즈) 무하 미술관 Www mucha.cz)',\n",
              " '298쪽 (좌다이아h드 원석 위키미디어',\n",
              " '(중다이아h드 원석 가공 전 gttrnetallurgistcom',\n",
              " '(우다이야본드 가공 후 긋이미지',\n",
              " '299쪽 (좌 중제련 과정 대성금속',\n",
              " '(위)정권된 순금 긋이미지',\n",
              " '300쪽 (좌)진주조개, 긋이미지',\n",
              " '301쪽',\n",
              " '글래스 비치 Stress Zero(네이버 불로그)',\n",
              " '302쪽 제임스 취술러 <레이디 유즈의 초상> , 호놀홀루 예술 아카데미',\n",
              " '303쪽 불라디미르 구쉬 <진주), vladimirkush cor/Originals-Available',\n",
              " '315쪽   파불로 피카소 <거울 앞의 여인) , 뉴욕 현대 미술관',\n",
              " '316쪽',\n",
              " '영화 (플라우드 아틀라스) , 워너브러더스',\n",
              " '319쪽',\n",
              " '길리안 메이 밀러 <초록 대문) , <고추 넣기) , <빨래 넣기> , <벗겨진 고무신> , 가나문화재단',\n",
              " '320쪽 엘리자베스 키스 <금강산>, <한국의 신부) , (평양 대동강변) , 엘리자베스 키스 엘스핏 로버트손',\n",
              " '스릇(2006), (영국 화가 엘리자베스 키스의 코리야 1920~1940), 책과함께',\n",
              " '32쪽',\n",
              " '풀 자물레 <돌복 입은 아이> (둥지), <보물)  <도공) 국립중앙박물관2006) (아시야의 색채 풀',\n",
              " '자출레 판화) , 고호출판사',\n",
              " '350',\n",
              " '사용 이미지 출처',\n",
              " '소녀>',\n",
              " '집필진',\n",
              " '정장위서울대학교)*',\n",
              " 'I단원',\n",
              " '박영해서움대학교 인성교육연구센터)',\n",
              " 'I단원',\n",
              " '손경원서울대학교 인성교육연구센터)',\n",
              " 'I단원',\n",
              " '김하연서울대학교)',\n",
              " 'I단원',\n",
              " '이지연하기중학교)',\n",
              " '포단원',\n",
              " '고은수 진관고등학교)',\n",
              " 'I단원',\n",
              " '유정현드림라이프)',\n",
              " 'I단원',\n",
              " '이명희 (연수여자고등학교)',\n",
              " 'T단원',\n",
              " '이유미이움액츠)',\n",
              " 'Y단원',\n",
              " '조수형보성여자고등학교)',\n",
              " 'V단원',\n",
              " '표시는 집필진 책임지임',\n",
              " '인천광역시교육청인정도서심의회 심의위원',\n",
              " '정재만인전세원고등학교)*',\n",
              " '배수애인전상정고등학교)',\n",
              " '한경애인전디자인고등학교)',\n",
              " '주홍성인전공항고등학교)',\n",
              " '조재현인전예일고등학교)',\n",
              " '엄은숙부평여자고등학교)',\n",
              " '*표시는 인정도서심의회 심의위원장임',\n",
              " '개발진 |',\n",
              " '개발 종관',\n",
              " '정장아',\n",
              " '개발 편집',\n",
              " '김용균 이현자 이원일 박현정 진현위 박경화 전승원',\n",
              " '디자인 | (주미래엔 디자인팀',\n",
              " 'Blacktinger',\n",
              " '신화',\n",
              " '니나림 민휴인',\n",
              " '인천광역시고육청에서 2018년 12월 31일 인정 승인물 하영음',\n",
              " '고등학교',\n",
              " '인문학적 상상 여행',\n",
              " '초판 발행',\n",
              " '2019 3 1',\n",
              " '정기',\n",
              " '지은 이',\n",
              " '정창우 외 9인',\n",
              " '발 행 인',\n",
              " '(주기래엔서물특별시 서초구 신반모로 321)',\n",
              " '인 쇄 인   (주미래엔서물특별시 서초구 신반모로 321)',\n",
              " '이 교과서의 본문 용지논 우수 재활용 제품 인종울 받은 재활용 용지틀 사용햇습니다',\n",
              " '교과서어 대한 문의 사랑이다 의견이 있으신 분은 교육부와 한국교과서연구재단이 운영하는 교과서민원바로처리센터',\n",
              " '(전화: 1566-8572 입사이트: http:lAwwwtextbookt14.com 또는 http:llwww 교과서7 14.comjol 문의하여 주',\n",
              " '시기 바람니다',\n",
              " '이도서에 거재된 저직물에 대한 보상금은 문화체육관광부 장관이 정하는 기준어 따라 시단법인 한국복제전승저작권협회',\n",
              " '(O2',\n",
              " '2603',\n",
              " \"2800 http'lwww korra kr어서 저작재신권자에게 지급합니다\",\n",
              " '내용 및 구입 관련 문의 (주미래엔 교육사업본부 전화 1800-8890 전송 (02) 571-8150',\n",
              " '개별 구입 문의 (주미래엔 교육사업본부 영업지원팀 전화 1800',\n",
              " '8890 흉페이지 주소 Wwmirae',\n",
              " 'ncon',\n",
              " 'ISBN 979-11-6413 0115',\n",
              " '53010',\n",
              " '부록',\n",
              " '신영복(2004), (강의) , 돌네개',\n",
              " '신정근2002) (동양 철학의 유록) , 이학사',\n",
              " '엄정식(t990), (철학으로 가능 길) , 동서문화 출판부',\n",
              " '우간린 저, 임대근 역2014), (어떻게 원하는 삶율 살 것인가) , 위즈템하우스',\n",
              " '이강서2006) (서양 철학 이야기) , 책세상',\n",
              " '이기동 외2013), (인문학 명강) , 2세기북스',\n",
              " '장자 저; 조수형 역(2005) , (장자) , 풀빛',\n",
              " '정창우 외2014), (질문하는 십대 대답하는 인문학), 풀빛',\n",
              " '줄리언 바지니 외 저; 박근재 역12014) , (최고가 아니면 다 실패한 삶일까) , 아날로그',\n",
              " '단런통 저; 이은미 역12006) (공자 사람울 말하다) , 에버리치 홀딩스',\n",
              " '항광우(2006), (철학 큰서트), 응진 지식하우스',\n",
              " '김수행(2010) (청소년올 위한 자본론) , 두리미디어',\n",
              " '김승육 김재의 조용래 유원근 2005), (시장인가? 정부인가?) ,',\n",
              " '부기',\n",
              " '로버트 하일프로너 저 장상환 역(2008), (세속의 철학자들) , 이마고',\n",
              " '마티아스 반스방거 저 김해생 역(2012), (죽은 경제학자의 망할 아이디어), 비즈니스맵',\n",
              " '박종현(2006) , (켜인스와 하이에크: 시장 경제름 위한 진실 게임) , 지식인마을',\n",
              " '아담 스미스 저 김수행 역12009), (국부론), 비봉',\n",
              " '아담스미스 저 박세일 민경국 역(2012), (도덕 감정론} , 비봉',\n",
              " '장하준(2011); (그들이 말하지 안는 23가지) , 부키',\n",
              " '중웨이웨이 저 남형택 역(2014), (살아 있는 경제학 이야기) , 글담',\n",
              " '토드 부크홀츠 저, 류현 역(2014), (죽은 경제학자의 살아 있는 아이디어) , 김영사',\n",
              " '풀 스트레템 저 김낙년',\n",
              " '역12002), (세계름 움직인 경제학자들의 삶과 사상) , 몸과마음',\n",
              " '한성안(20t2) (불로그 경제학: 진화 경제학) , 팩럽북스',\n",
              " 'EBS 자본주의 제작팀(2013), (자본주의: 금웅 소비 돈에 관한 33가지 비밀) 가나',\n",
              " 'EBS 자본주의 제작림(2014), (자본주의 사용 설명서) , 가나',\n",
              " '강모림(2014), (내 인생 첫 번째 Classic), 컬처그라퍼',\n",
              " '예술',\n",
              " '김드리(20t2), (친절한 음악책) , 돕음새김',\n",
              " '김이곤(2012), (사랑하다면 음악 공부 절대 시키지 마라), (주디프넷',\n",
              " '안용태(2014), (영화 읽어 주는 인문학) , 생각의 길',\n",
              " '이지혜20t2), (흘래식 가슴으로 듣고 마음으로 담아내다) , 문예마당',\n",
              " '이런석(2007) (열려라, 플래식) , 동글새김',\n",
              " '이런석 이정현(2014), (이야기가 살아 잇는 흘래식 상식 백과) , 돕음새김',\n",
              " '조셈 매플리스 저 신은선 역(1982), (음악의 즐거원상)) , 이화여대출판부',\n",
              " '진희숙12013) (영화와 흘래식) , 청아출판사',\n",
              " '폐르난도 아르현타 저 유혜경 역(2014), (음악 선생님과 함께하는 길라잡이 음악사) , 책빛',\n",
              " '모니카 자라르다 저 임동현 역12008), (Art Book 미질관질로}, 마로니에 북스',\n",
              " '박규원2003), (상하이 올드 데이스), 민음사',\n",
              " '어방스톤 저; 성로 역1997) (르네상스인 미바관질로(상)) , 움진지식하우스',\n",
              " '프레드럭 메컨지 저 신복콩 역(2010) (대한 제국의 비극) , 집문당',\n",
              " '호머 훨버트 저, 신복통 역(2013), (대한 제국 멸망사) , 집문당',\n",
              " '이자빌라 버드 비습 저 이인화 역(1994) , (한국과 그 이웃 나라들) , 살림출판사',\n",
              " '지크프리트 견티 저, 권영경 역(2007) (독일인 견테가 본 신선한 나라 조선  1901) , 책과함께',\n",
              " '아손 그램스트 저, 김상열 역(2005), (스웨웬 기자 아손 100년 전 한국올 걷다: 울사조약 전야 대한 제국',\n",
              " '여행기) , 책과함께',\n",
              " '엘리자베스 키스 엘스핏 로버트손 스꽃 저 송영달 역12006) (영국화가 엘리자베스 키스의 코리아',\n",
              " '1920-1940), 책과함께',\n",
              " '이쇼(2013), (스무실엔 몰린던 내한민국) , 예욕',\n",
              " '이승원(2009), (세계로 떠난 조선의 지식인들과 예술인들) , 휴머니스트',\n",
              " '정병호(1995), (춤추는 최승희 세계름 취어집은 조선 여자) , 뿌리깊은 나무',\n",
              " '정수용(2004) , (##출-격동의 시대틀 살다간 어느 무용가의 생애와 예술) , 눈빛',\n",
              " '제오르자 일레츠코 저 최기득 역2012), < Michelangelo 미바란질로가 말하는 미킬콤질로의 삶과 예술) ,',\n",
              " '예경',\n",
              " '348',\n",
              " '참고 문현 및 사이트',\n",
              " '제g장',\n",
              " '미지의 세계로 떠난',\n",
              " '조선인들',\n",
              " '본 수업은 부록의 동영상 수업 보조 자료틀',\n",
              " '이용하시기 바람니다.',\n",
              " '324',\n",
              " 'V . 예술',\n",
              " '부록',\n",
              " '323쪽 엘리자베스 키스 <과부) , 엘리자베스 키스 엘스럽 로버트손 스로(2006), (영국 화가 엘리자베',\n",
              " '스 키스의 코리야 1920~1940), 책과함께',\n",
              " '325쪽 살바도르 달리 <신인류의 탄생울 지켜보는 아이; , 풀로리다 살바도르 달리 미술관wWW.',\n",
              " 'salvadordalirnuseurn org)',\n",
              " '326쪽   세계 지도 이승원 2009) (세계로 떠난 조선의 지식인들) , 휴머니스트',\n",
              " '328쪽  김염 박규원2003), (상하이 울드 데이스) , 민음사',\n",
              " '329쪽   김염 출연 영화 장면 박규원2003)  (상하이 올드 데이스) , 민음사',\n",
              " '332쪽',\n",
              " '김염 브로마이드 박규원(2003), (상하이 올드 데이스), 민음사',\n",
              " '335쪽 하트 성운; wigginsfinearts com',\n",
              " '336쪽   최승희 어린 시절 정수용(2004), (#국름), 눈빛',\n",
              " '337쪽   1930년대 초의 최승희 정수용(2004) , (다#춤), 눈빛',\n",
              " '338쪽   최승희 정병호(1995), (춤추는 최승희 세계름 뛰어잡은 조선 여자} , 뿌리깊은 나무',\n",
              " '340쪽 (상) (무예도보통지) , 박청정(2007), (무예도보통지주해} , 동문선',\n",
              " '(하승무> 정수-(2004) (뿐국름), 눈빛',\n",
              " '342쪽 <보살춤; , 최승희조선민주무용기본보존회',\n",
              " '345쪽 (석울암의 벽조 , 프레시안',\n",
              " '사용 이미지 출처',\n",
              " '351',\n",
              " '미지의 세계로',\n",
              " '향하는 문이 열리다',\n",
              " '서구 문물과의 조우',\n",
              " \"100여 년 전 많은 외국인이 '코리아' 틀 여행하고 기행문올 남겨습니다 외\",\n",
              " '국인들이 남긴 기록물들은 타자의 시선으로 우리릎 볼 수 있는 소중한 자료',\n",
              " '입니다:',\n",
              " '0r ',\n",
              " \"R < T' C\",\n",
              " '0 ( A 사',\n",
              " '@어보다비 더니',\n",
              " 'LuranT',\n",
              " '신스 _ 리다',\n",
              " \"기터_' 나사나 스린_\",\n",
              " '스크-모\"키나 그 나보이까 수 4',\n",
              " '엄하구파려 수청서 > 현명간기스구구 리리그 ,',\n",
              " '나혜석당 분소터',\n",
              " '어티-_라대씨_ 나가기거+\" 연여리 +머 3배 그T씨 +; 새',\n",
              " '서머> 여다기 _사보 가비',\n",
              " 'aAESSSJMm',\n",
              " '구소 그까 소1 7',\n",
              " '말크 + \"리디보 소\\'',\n",
              " '(189591948) 일제',\n",
              " '기+무: 그 계덕 U   궁기',\n",
              " 'TI E',\n",
              " 'w 0 RL D',\n",
              " 'CGLDHAAL PusSEESIDH:',\n",
              " '~거HL라UIAL HIIHWE:!',\n",
              " '강점기화 대한민국의',\n",
              " \"'녀; 가까 수 ; 7기씨 +\",\n",
              " '부신다리스건그시다고 +워 기터 - 가나 > 보스리 +회씨씨구',\n",
              " 'KL h _L',\n",
              " '화기이자 작가 시인',\n",
              " \"미버e' -,년+ 과기 -녀 #{구니터하드 _ 위기벼 +둑   무릎+주여스 {화- 셋+모회+궁*-\",\n",
              " '\"R -니주싸, 4녀{ \"',\n",
              " '조각가 여성 운동가',\n",
              " '사회',\n",
              " '운동가',\n",
              " '언론인이다',\n",
              " '이승원 수 , <나혜석',\n",
              " '유킬준',\n",
              " '민영환 이 세계틀 여행한 귀적>',\n",
              " '유출준위송움,',\n",
              " '(iG5G3i914) 조선',\n",
              " '옮기의문신이자 외교관',\n",
              " '그리고 농일한 시기, 근대 문명의 심장과 같은 증기 기관의 발명으로 증기',\n",
              " '작가이머 대한 제국의',\n",
              " '정치가 개화 사상가 계용',\n",
              " \"기관차 증기선 등올 통해 수많은 조선의 신지식인들은 자신이 살아뒷당 '경\",\n",
              " '운동가',\n",
              " \"계' 밖으로 떠나서 새로운 문물올 대면할 수 있있습니다. 증기 기관을 이용한\",\n",
              " '24. 민영환]BKX',\n",
              " '(IGGI39D5) 조선과',\n",
              " '교통수단올 비롯하여 서구 문물의 모든 것은 조선의 신지식인들에게 문화 충',\n",
              " '대한 제국의 대신-분이자',\n",
              " '겨으로 다가엎습니다. 고종의 명령으로 민영환과 함께 러시아에 사절단으로 9',\n",
              " '척신 I905년의',\n",
              " '음사속약 체절에',\n",
              " \"개국을 유람햇던 역관 s 깊득런은 기차로 캐나다클 넘으펴 '장방의 축지법도\",\n",
              " '반대히여 자결락',\n",
              " \"오히려 번거로우니 열흘 동안 역마가 달려칼 길을 순식간에 가누나' 라고 그\",\n",
              " '3 조선 시대 통억올',\n",
              " '담당하터 관리',\n",
              " '놀라움올 시로 표현하기도 햇습니다:',\n",
              " '326',\n",
              " 'V . 예술',\n",
              " '감성',\n",
              " '열기',\n",
              " '<신인류의 탄생올',\n",
              " '지켜보는 아이>',\n",
              " '살바도르 달리',\n",
              " '1, {신인류의 탄생올 지켜보는 아이>(1943)',\n",
              " '\"새는 알을 깨고 나오다 알은 곧 세계다:',\n",
              " '태어나려고 하는 자난 하나의 세계름 파괴하지 않으면 안 된다\"',\n",
              " '헤로만 헤세 (데미안) 중 -',\n",
              " '위 그림에는 몸부림치다 알 속에서 깨어나러고 하는 한 사람의 기괴한 모습',\n",
              " '이 초현실적으로 묘사되어 있습니다. 조개지기 시작한 알의 껍데기 사이로 붉',\n",
              " '은 피가 흘러나오고 이것올 한 남자와 어린아이가 긴장한 듯 지켜보고 있습니',\n",
              " '다 저 알울 완전히 깨부수고 나온 신인류가 잠시 후 발견하게 덜 신세계는 어',\n",
              " '딴 모습일까요?',\n",
              " '생각 포인트',\n",
              " '그림 속 아이느 어떤 일이 벌어질 것이라고 상상하고 있으까요?',\n",
              " '제g장 미지의 세계로 떠난 조선인들',\n",
              " '325',\n",
              " '이늘은 신문물올 접하고 서구의 문명국가을 어떻게 보고 듣고 체험햇든지',\n",
              " '그들의 시각에서 기행문으로 남기기도 햇습니다. 유길준은 조선인 최초로 미',\n",
              " '2 유진준이가본 곳을',\n",
              " '국에 유학하고 귀국길에 세계 여행올 한 경험올 바탕으로 <서유견문  #RRP >이',\n",
              " '포함하여 가보지입은',\n",
              " '국에 대한 이야기도 함께',\n",
              " '라는 책올 남격논데 이 책은 단순한 어행지의 감상을 넘어 서양의 각종 제도와',\n",
              " '기록되어 있으머 여러',\n",
              " '사상을 깊이 엇게 서술한 전문 서적으로 평가받고 있습니다: 이렇듯 오랜 시',\n",
              " '서적물 참고하여',\n",
              " '저슬되없다 또는 그',\n",
              " '간에 걸처 서구 문물의 발전상올 자세히 관찰할 수 있,년 조선의 지식인들은',\n",
              " '내용은 세계 지리',\n",
              " '국제법 인권 정치 경제',\n",
              " '단순히 그 모습에 놀리움올 술회하는 것에 그치지 않있습니다 당시 위기에 빠',\n",
              " '교욕',\n",
              " '군사 학문 등',\n",
              " '문물제도 전반에 걸저',\n",
              " '저 있는 조선올 어려움에서 구하기 위한 방법올 고민햇년 것입니다:',\n",
              " '있다',\n",
              " '물론 모든 조선의 지식인들이 이토록 진취적으로 조선의 나아갈 길을 모색',\n",
              " 'TI936년 빌표람 스설로',\n",
              " '아내의 매문에 기대어',\n",
              " '한 것은 아남니다: 민족 종고인 천도고의 지도자이면서 민족 대표 33인과 함',\n",
              " '살아가는 건강하지',\n",
              " '못하고',\n",
              " '반둥거리논',\n",
              " '깨 대한의 독립올 선언있다 투욕되기도 햇단 최런은 석방 뒤, 구미 30여 개국',\n",
              " \"주인공 '나의 [인칭\",\n",
              " '올 여행하고는 친일 인사로 돌아석습니다 이렇듯 많은 지식인들은 발전된 문',\n",
              " '시점오로 서술되있다',\n",
              " '지신의 소망이나 능력올',\n",
              " '명과 조선의 현실 사이에서 극복할 수 없는 괴리감올 느끼고 절망햇습니다 당',\n",
              " '자유름게 펼치다',\n",
              " '실아가기 어려쨌터',\n",
              " '시 미지의 세계틀 처음 대면햇던 조선의 지식인들에게 식민지 백성으로서의',\n",
              " 'i930년대 식민지',\n",
              " '조선의 현실이 주인공이',\n",
              " '서러움과 울분은 공통적이없지만 그룹 해결해 나자년 방식은 저마다 달컷년',\n",
              " '실아가능 직은 방에',\n",
              " '무영되어 있다',\n",
              " '것입니다.',\n",
              " '국권 침날 이후, 일본의 압력이 거세지다 세계 여행 여부와 관계없이 배움',\n",
              " \"이 깊없던 모든 지식인들은 더욱더 큰 무력감올 느끼기 시작햇습니다. '박제\",\n",
              " '가 되어 버린 천재름 아시오 로 시작되는 이상의 소설 <날개   >에는 일제 강점',\n",
              " '기틀 살아가는 지식인의 무려감과 자기험오가 잘 나타나 있습니다: 실상 당시',\n",
              " '식민 지배 시기틀 살앗던 조선인들에게는 글욕감과 좌절, 슬픔이 일상화되어',\n",
              " '있있습니다 그러나 이렇게 암담한 현실 속에서 오히려 이 어둡올',\n",
              " '밝할 내면의',\n",
              " '불꽃올 피우기 시작한 이들도 있있습니다.',\n",
              " '갈무리',\n",
              " '당시 조선인들이 느진 혼란의 감정들 가운데서도 지료던 자존감의 뿌리논 무엇이없올까요?',\n",
              " '제g장 미지의 세계로 떠난 조선인들',\n",
              " '327',\n",
              " '전문']"
            ]
          },
          "metadata": {},
          "execution_count": 8
        }
      ]
    },
    {
      "cell_type": "markdown",
      "source": [
        "#### txt 파일 생성"
      ],
      "metadata": {
        "id": "v9KGQXkTm1fI"
      }
    },
    {
      "cell_type": "code",
      "source": [
        "with open('/content/test.txt', 'w') as f:\n",
        "    for i in text_file:\n",
        "        for j in i:\n",
        "            f.write(f'{j}\\n')\n",
        "    f.close()"
      ],
      "metadata": {
        "id": "4YIIVNs73QH9"
      },
      "execution_count": null,
      "outputs": []
    },
    {
      "cell_type": "code",
      "source": [
        "%cat test.txt"
      ],
      "metadata": {
        "colab": {
          "base_uri": "https://localhost:8080/"
        },
        "id": "JGeRiIwv4LpU",
        "outputId": "0ebc415d-9739-4c8f-d80a-8a5e3dff157b"
      },
      "execution_count": null,
      "outputs": [
        {
          "output_type": "stream",
          "name": "stdout",
          "text": [
            "부록\n",
            "234쪽 영화 <모던타임즈) (쥐엇나인필름\n",
            "241쪽   (상좌)월가 시위 위키피디아\n",
            "(상위미국 경제 위기 카뭄 한경닷점\n",
            "(하좌 한국 금움 위기 조선일보\n",
            "(하위실업자 사진 프레시안\n",
            "242쪽 (좌)무료 급식울 기다리는 여인 도로디어 행\n",
            "(우직업올 구하는 사람들, 유종선(t988), (미국사 100장면) , 가람기획\n",
            "253쪽\n",
            "조지 G. 킬번 <The Duel), Www the\n",
            "alhenaeumn orglart\n",
            "256쪽\n",
            "선사 시대 상상도 전곡리 유적\n",
            "258쪽   영화 (엘 시스테마) , 영화사 진진\n",
            "259쪽 구스타보 두다델과 엘 시스테마 WWW.rnixanitouxronougr\n",
            "260쪽 고양이 이중창 수잔 허버트\n",
            "WWW wallcoonellpaintlHerbert_Susan\n",
            "261쪽\n",
            "아기 모습_\n",
            "best-wallpapernet\n",
            "2644쪽  아풀론과 무사이 오비디우스(t998) , (변신이야기 1) 민음사\n",
            "270쪽 (좌)아물론 위키피디아\n",
            "(우사티로스 위키피디아\n",
            "273쪽   영화 <사운드 오브 유직) , 20세기 폭스\n",
            "274쪽  구이도 다레초 약보\n",
            "choirlycorn\n",
            "275쪽  구이도의 손\n",
            "WW Classicallorurns corn\n",
            "276쪽   그레고리오 성가 악보\n",
            "procorbiscorn\n",
            "279쪽   영화 <로미오와 줄리옛> , 파라마운트 픽처스\n",
            "285쪽   미킬란질로 <다비드) , 모니카 지라르다(2008), (미킬콤질로) , 마로니에북스\n",
            "286쪽 미결관질로 <피에타>, 모니카 지라르다(2008), (미결콤질로) 마로니에북스\n",
            "287쪽   미킬란질로 <반항하는 노예) , 모니카 지라르다(2008), (미킬콤질로) , 마로니에북스\n",
            "292쪽   미킬관질로 (수염난 노예>, 모니카 지라르다(2008), (미킬관질로) , 마로니에북스\n",
            "293쪽   미킬콤질로 <노예 아틀라스) , 모니카 지라르다(2008), (미킬란질로) , 마로니에북스\n",
            "295쪽 안 베로메로 <진주 귀걸이틀 한\n",
            "마우리즈하이스 미술관mauritshuis nl)\n",
            "296쪽 (좌구스타프 클림트 <키스) 벌베데레 오스트리아 길러리www belvedere.al)\n",
            "(우일포스 무하 <보석 시리즈) 무하 미술관 Www mucha.cz)\n",
            "298쪽 (좌다이아h드 원석 위키미디어\n",
            "(중다이아h드 원석 가공 전 gttrnetallurgistcom\n",
            "(우다이야본드 가공 후 긋이미지\n",
            "299쪽 (좌 중제련 과정 대성금속\n",
            "(위)정권된 순금 긋이미지\n",
            "300쪽 (좌)진주조개, 긋이미지\n",
            "301쪽\n",
            "글래스 비치 Stress Zero(네이버 불로그)\n",
            "302쪽 제임스 취술러 <레이디 유즈의 초상> , 호놀홀루 예술 아카데미\n",
            "303쪽 불라디미르 구쉬 <진주), vladimirkush cor/Originals-Available\n",
            "315쪽   파불로 피카소 <거울 앞의 여인) , 뉴욕 현대 미술관\n",
            "316쪽\n",
            "영화 (플라우드 아틀라스) , 워너브러더스\n",
            "319쪽\n",
            "길리안 메이 밀러 <초록 대문) , <고추 넣기) , <빨래 넣기> , <벗겨진 고무신> , 가나문화재단\n",
            "320쪽 엘리자베스 키스 <금강산>, <한국의 신부) , (평양 대동강변) , 엘리자베스 키스 엘스핏 로버트손\n",
            "스릇(2006), (영국 화가 엘리자베스 키스의 코리야 1920~1940), 책과함께\n",
            "32쪽\n",
            "풀 자물레 <돌복 입은 아이> (둥지), <보물)  <도공) 국립중앙박물관2006) (아시야의 색채 풀\n",
            "자출레 판화) , 고호출판사\n",
            "350\n",
            "사용 이미지 출처\n",
            "소녀>\n",
            "집필진\n",
            "정장위서울대학교)*\n",
            "I단원\n",
            "박영해서움대학교 인성교육연구센터)\n",
            "I단원\n",
            "손경원서울대학교 인성교육연구센터)\n",
            "I단원\n",
            "김하연서울대학교)\n",
            "I단원\n",
            "이지연하기중학교)\n",
            "포단원\n",
            "고은수 진관고등학교)\n",
            "I단원\n",
            "유정현드림라이프)\n",
            "I단원\n",
            "이명희 (연수여자고등학교)\n",
            "T단원\n",
            "이유미이움액츠)\n",
            "Y단원\n",
            "조수형보성여자고등학교)\n",
            "V단원\n",
            "표시는 집필진 책임지임\n",
            "인천광역시교육청인정도서심의회 심의위원\n",
            "정재만인전세원고등학교)*\n",
            "배수애인전상정고등학교)\n",
            "한경애인전디자인고등학교)\n",
            "주홍성인전공항고등학교)\n",
            "조재현인전예일고등학교)\n",
            "엄은숙부평여자고등학교)\n",
            "*표시는 인정도서심의회 심의위원장임\n",
            "개발진 |\n",
            "개발 종관\n",
            "정장아\n",
            "개발 편집\n",
            "김용균 이현자 이원일 박현정 진현위 박경화 전승원\n",
            "디자인 | (주미래엔 디자인팀\n",
            "Blacktinger\n",
            "신화\n",
            "니나림 민휴인\n",
            "인천광역시고육청에서 2018년 12월 31일 인정 승인물 하영음\n",
            "고등학교\n",
            "인문학적 상상 여행\n",
            "초판 발행\n",
            "2019 3 1\n",
            "정기\n",
            "지은 이\n",
            "정창우 외 9인\n",
            "발 행 인\n",
            "(주기래엔서물특별시 서초구 신반모로 321)\n",
            "인 쇄 인   (주미래엔서물특별시 서초구 신반모로 321)\n",
            "이 교과서의 본문 용지논 우수 재활용 제품 인종울 받은 재활용 용지틀 사용햇습니다\n",
            "교과서어 대한 문의 사랑이다 의견이 있으신 분은 교육부와 한국교과서연구재단이 운영하는 교과서민원바로처리센터\n",
            "(전화: 1566-8572 입사이트: http:lAwwwtextbookt14.com 또는 http:llwww 교과서7 14.comjol 문의하여 주\n",
            "시기 바람니다\n",
            "이도서에 거재된 저직물에 대한 보상금은 문화체육관광부 장관이 정하는 기준어 따라 시단법인 한국복제전승저작권협회\n",
            "(O2\n",
            "2603\n",
            "2800 http'lwww korra kr어서 저작재신권자에게 지급합니다\n",
            "내용 및 구입 관련 문의 (주미래엔 교육사업본부 전화 1800-8890 전송 (02) 571-8150\n",
            "개별 구입 문의 (주미래엔 교육사업본부 영업지원팀 전화 1800\n",
            "8890 흉페이지 주소 Wwmirae\n",
            "ncon\n",
            "ISBN 979-11-6413 0115\n",
            "53010\n",
            "부록\n",
            "신영복(2004), (강의) , 돌네개\n",
            "신정근2002) (동양 철학의 유록) , 이학사\n",
            "엄정식(t990), (철학으로 가능 길) , 동서문화 출판부\n",
            "우간린 저, 임대근 역2014), (어떻게 원하는 삶율 살 것인가) , 위즈템하우스\n",
            "이강서2006) (서양 철학 이야기) , 책세상\n",
            "이기동 외2013), (인문학 명강) , 2세기북스\n",
            "장자 저; 조수형 역(2005) , (장자) , 풀빛\n",
            "정창우 외2014), (질문하는 십대 대답하는 인문학), 풀빛\n",
            "줄리언 바지니 외 저; 박근재 역12014) , (최고가 아니면 다 실패한 삶일까) , 아날로그\n",
            "단런통 저; 이은미 역12006) (공자 사람울 말하다) , 에버리치 홀딩스\n",
            "항광우(2006), (철학 큰서트), 응진 지식하우스\n",
            "김수행(2010) (청소년올 위한 자본론) , 두리미디어\n",
            "김승육 김재의 조용래 유원근 2005), (시장인가? 정부인가?) ,\n",
            "부기\n",
            "로버트 하일프로너 저 장상환 역(2008), (세속의 철학자들) , 이마고\n",
            "마티아스 반스방거 저 김해생 역(2012), (죽은 경제학자의 망할 아이디어), 비즈니스맵\n",
            "박종현(2006) , (켜인스와 하이에크: 시장 경제름 위한 진실 게임) , 지식인마을\n",
            "아담 스미스 저 김수행 역12009), (국부론), 비봉\n",
            "아담스미스 저 박세일 민경국 역(2012), (도덕 감정론} , 비봉\n",
            "장하준(2011); (그들이 말하지 안는 23가지) , 부키\n",
            "중웨이웨이 저 남형택 역(2014), (살아 있는 경제학 이야기) , 글담\n",
            "토드 부크홀츠 저, 류현 역(2014), (죽은 경제학자의 살아 있는 아이디어) , 김영사\n",
            "풀 스트레템 저 김낙년\n",
            "역12002), (세계름 움직인 경제학자들의 삶과 사상) , 몸과마음\n",
            "한성안(20t2) (불로그 경제학: 진화 경제학) , 팩럽북스\n",
            "EBS 자본주의 제작팀(2013), (자본주의: 금웅 소비 돈에 관한 33가지 비밀) 가나\n",
            "EBS 자본주의 제작림(2014), (자본주의 사용 설명서) , 가나\n",
            "강모림(2014), (내 인생 첫 번째 Classic), 컬처그라퍼\n",
            "예술\n",
            "김드리(20t2), (친절한 음악책) , 돕음새김\n",
            "김이곤(2012), (사랑하다면 음악 공부 절대 시키지 마라), (주디프넷\n",
            "안용태(2014), (영화 읽어 주는 인문학) , 생각의 길\n",
            "이지혜20t2), (흘래식 가슴으로 듣고 마음으로 담아내다) , 문예마당\n",
            "이런석(2007) (열려라, 플래식) , 동글새김\n",
            "이런석 이정현(2014), (이야기가 살아 잇는 흘래식 상식 백과) , 돕음새김\n",
            "조셈 매플리스 저 신은선 역(1982), (음악의 즐거원상)) , 이화여대출판부\n",
            "진희숙12013) (영화와 흘래식) , 청아출판사\n",
            "폐르난도 아르현타 저 유혜경 역(2014), (음악 선생님과 함께하는 길라잡이 음악사) , 책빛\n",
            "모니카 자라르다 저 임동현 역12008), (Art Book 미질관질로}, 마로니에 북스\n",
            "박규원2003), (상하이 올드 데이스), 민음사\n",
            "어방스톤 저; 성로 역1997) (르네상스인 미바관질로(상)) , 움진지식하우스\n",
            "프레드럭 메컨지 저 신복콩 역(2010) (대한 제국의 비극) , 집문당\n",
            "호머 훨버트 저, 신복통 역(2013), (대한 제국 멸망사) , 집문당\n",
            "이자빌라 버드 비습 저 이인화 역(1994) , (한국과 그 이웃 나라들) , 살림출판사\n",
            "지크프리트 견티 저, 권영경 역(2007) (독일인 견테가 본 신선한 나라 조선  1901) , 책과함께\n",
            "아손 그램스트 저, 김상열 역(2005), (스웨웬 기자 아손 100년 전 한국올 걷다: 울사조약 전야 대한 제국\n",
            "여행기) , 책과함께\n",
            "엘리자베스 키스 엘스핏 로버트손 스꽃 저 송영달 역12006) (영국화가 엘리자베스 키스의 코리아\n",
            "1920-1940), 책과함께\n",
            "이쇼(2013), (스무실엔 몰린던 내한민국) , 예욕\n",
            "이승원(2009), (세계로 떠난 조선의 지식인들과 예술인들) , 휴머니스트\n",
            "정병호(1995), (춤추는 최승희 세계름 취어집은 조선 여자) , 뿌리깊은 나무\n",
            "정수용(2004) , (##출-격동의 시대틀 살다간 어느 무용가의 생애와 예술) , 눈빛\n",
            "제오르자 일레츠코 저 최기득 역2012), < Michelangelo 미바란질로가 말하는 미킬콤질로의 삶과 예술) ,\n",
            "예경\n",
            "348\n",
            "참고 문현 및 사이트\n",
            "제g장\n",
            "미지의 세계로 떠난\n",
            "조선인들\n",
            "본 수업은 부록의 동영상 수업 보조 자료틀\n",
            "이용하시기 바람니다.\n",
            "324\n",
            "V . 예술\n",
            "부록\n",
            "323쪽 엘리자베스 키스 <과부) , 엘리자베스 키스 엘스럽 로버트손 스로(2006), (영국 화가 엘리자베\n",
            "스 키스의 코리야 1920~1940), 책과함께\n",
            "325쪽 살바도르 달리 <신인류의 탄생울 지켜보는 아이; , 풀로리다 살바도르 달리 미술관wWW.\n",
            "salvadordalirnuseurn org)\n",
            "326쪽   세계 지도 이승원 2009) (세계로 떠난 조선의 지식인들) , 휴머니스트\n",
            "328쪽  김염 박규원2003), (상하이 울드 데이스) , 민음사\n",
            "329쪽   김염 출연 영화 장면 박규원2003)  (상하이 올드 데이스) , 민음사\n",
            "332쪽\n",
            "김염 브로마이드 박규원(2003), (상하이 올드 데이스), 민음사\n",
            "335쪽 하트 성운; wigginsfinearts com\n",
            "336쪽   최승희 어린 시절 정수용(2004), (#국름), 눈빛\n",
            "337쪽   1930년대 초의 최승희 정수용(2004) , (다#춤), 눈빛\n",
            "338쪽   최승희 정병호(1995), (춤추는 최승희 세계름 뛰어잡은 조선 여자} , 뿌리깊은 나무\n",
            "340쪽 (상) (무예도보통지) , 박청정(2007), (무예도보통지주해} , 동문선\n",
            "(하승무> 정수-(2004) (뿐국름), 눈빛\n",
            "342쪽 <보살춤; , 최승희조선민주무용기본보존회\n",
            "345쪽 (석울암의 벽조 , 프레시안\n",
            "사용 이미지 출처\n",
            "351\n",
            "미지의 세계로\n",
            "향하는 문이 열리다\n",
            "서구 문물과의 조우\n",
            "100여 년 전 많은 외국인이 '코리아' 틀 여행하고 기행문올 남겨습니다 외\n",
            "국인들이 남긴 기록물들은 타자의 시선으로 우리릎 볼 수 있는 소중한 자료\n",
            "입니다:\n",
            "0r \n",
            "R < T' C\n",
            "0 ( A 사\n",
            "@어보다비 더니\n",
            "LuranT\n",
            "신스 _ 리다\n",
            "기터_' 나사나 스린_\n",
            "스크-모\"키나 그 나보이까 수 4\n",
            "엄하구파려 수청서 > 현명간기스구구 리리그 ,\n",
            "나혜석당 분소터\n",
            "어티-_라대씨_ 나가기거+\" 연여리 +머 3배 그T씨 +; 새\n",
            "서머> 여다기 _사보 가비\n",
            "aAESSSJMm\n",
            "구소 그까 소1 7\n",
            "말크 + \"리디보 소'\n",
            "(189591948) 일제\n",
            "기+무: 그 계덕 U   궁기\n",
            "TI E\n",
            "w 0 RL D\n",
            "CGLDHAAL PusSEESIDH:\n",
            "~거HL라UIAL HIIHWE:!\n",
            "강점기화 대한민국의\n",
            "'녀; 가까 수 ; 7기씨 +\n",
            "부신다리스건그시다고 +워 기터 - 가나 > 보스리 +회씨씨구\n",
            "KL h _L\n",
            "화기이자 작가 시인\n",
            "미버e' -,년+ 과기 -녀 #{구니터하드 _ 위기벼 +둑   무릎+주여스 {화- 셋+모회+궁*-\n",
            "\"R -니주싸, 4녀{ \"\n",
            "조각가 여성 운동가\n",
            "사회\n",
            "운동가\n",
            "언론인이다\n",
            "이승원 수 , <나혜석\n",
            "유킬준\n",
            "민영환 이 세계틀 여행한 귀적>\n",
            "유출준위송움,\n",
            "(iG5G3i914) 조선\n",
            "옮기의문신이자 외교관\n",
            "그리고 농일한 시기, 근대 문명의 심장과 같은 증기 기관의 발명으로 증기\n",
            "작가이머 대한 제국의\n",
            "정치가 개화 사상가 계용\n",
            "기관차 증기선 등올 통해 수많은 조선의 신지식인들은 자신이 살아뒷당 '경\n",
            "운동가\n",
            "계' 밖으로 떠나서 새로운 문물올 대면할 수 있있습니다. 증기 기관을 이용한\n",
            "24. 민영환]BKX\n",
            "(IGGI39D5) 조선과\n",
            "교통수단올 비롯하여 서구 문물의 모든 것은 조선의 신지식인들에게 문화 충\n",
            "대한 제국의 대신-분이자\n",
            "겨으로 다가엎습니다. 고종의 명령으로 민영환과 함께 러시아에 사절단으로 9\n",
            "척신 I905년의\n",
            "음사속약 체절에\n",
            "개국을 유람햇던 역관 s 깊득런은 기차로 캐나다클 넘으펴 '장방의 축지법도\n",
            "반대히여 자결락\n",
            "오히려 번거로우니 열흘 동안 역마가 달려칼 길을 순식간에 가누나' 라고 그\n",
            "3 조선 시대 통억올\n",
            "담당하터 관리\n",
            "놀라움올 시로 표현하기도 햇습니다:\n",
            "326\n",
            "V . 예술\n",
            "감성\n",
            "열기\n",
            "<신인류의 탄생올\n",
            "지켜보는 아이>\n",
            "살바도르 달리\n",
            "1, {신인류의 탄생올 지켜보는 아이>(1943)\n",
            "\"새는 알을 깨고 나오다 알은 곧 세계다:\n",
            "태어나려고 하는 자난 하나의 세계름 파괴하지 않으면 안 된다\"\n",
            "헤로만 헤세 (데미안) 중 -\n",
            "위 그림에는 몸부림치다 알 속에서 깨어나러고 하는 한 사람의 기괴한 모습\n",
            "이 초현실적으로 묘사되어 있습니다. 조개지기 시작한 알의 껍데기 사이로 붉\n",
            "은 피가 흘러나오고 이것올 한 남자와 어린아이가 긴장한 듯 지켜보고 있습니\n",
            "다 저 알울 완전히 깨부수고 나온 신인류가 잠시 후 발견하게 덜 신세계는 어\n",
            "딴 모습일까요?\n",
            "생각 포인트\n",
            "그림 속 아이느 어떤 일이 벌어질 것이라고 상상하고 있으까요?\n",
            "제g장 미지의 세계로 떠난 조선인들\n",
            "325\n",
            "이늘은 신문물올 접하고 서구의 문명국가을 어떻게 보고 듣고 체험햇든지\n",
            "그들의 시각에서 기행문으로 남기기도 햇습니다. 유길준은 조선인 최초로 미\n",
            "2 유진준이가본 곳을\n",
            "국에 유학하고 귀국길에 세계 여행올 한 경험올 바탕으로 <서유견문  #RRP >이\n",
            "포함하여 가보지입은\n",
            "국에 대한 이야기도 함께\n",
            "라는 책올 남격논데 이 책은 단순한 어행지의 감상을 넘어 서양의 각종 제도와\n",
            "기록되어 있으머 여러\n",
            "사상을 깊이 엇게 서술한 전문 서적으로 평가받고 있습니다: 이렇듯 오랜 시\n",
            "서적물 참고하여\n",
            "저슬되없다 또는 그\n",
            "간에 걸처 서구 문물의 발전상올 자세히 관찰할 수 있,년 조선의 지식인들은\n",
            "내용은 세계 지리\n",
            "국제법 인권 정치 경제\n",
            "단순히 그 모습에 놀리움올 술회하는 것에 그치지 않있습니다 당시 위기에 빠\n",
            "교욕\n",
            "군사 학문 등\n",
            "문물제도 전반에 걸저\n",
            "저 있는 조선올 어려움에서 구하기 위한 방법올 고민햇년 것입니다:\n",
            "있다\n",
            "물론 모든 조선의 지식인들이 이토록 진취적으로 조선의 나아갈 길을 모색\n",
            "TI936년 빌표람 스설로\n",
            "아내의 매문에 기대어\n",
            "한 것은 아남니다: 민족 종고인 천도고의 지도자이면서 민족 대표 33인과 함\n",
            "살아가는 건강하지\n",
            "못하고\n",
            "반둥거리논\n",
            "깨 대한의 독립올 선언있다 투욕되기도 햇단 최런은 석방 뒤, 구미 30여 개국\n",
            "주인공 '나의 [인칭\n",
            "올 여행하고는 친일 인사로 돌아석습니다 이렇듯 많은 지식인들은 발전된 문\n",
            "시점오로 서술되있다\n",
            "지신의 소망이나 능력올\n",
            "명과 조선의 현실 사이에서 극복할 수 없는 괴리감올 느끼고 절망햇습니다 당\n",
            "자유름게 펼치다\n",
            "실아가기 어려쨌터\n",
            "시 미지의 세계틀 처음 대면햇던 조선의 지식인들에게 식민지 백성으로서의\n",
            "i930년대 식민지\n",
            "조선의 현실이 주인공이\n",
            "서러움과 울분은 공통적이없지만 그룹 해결해 나자년 방식은 저마다 달컷년\n",
            "실아가능 직은 방에\n",
            "무영되어 있다\n",
            "것입니다.\n",
            "국권 침날 이후, 일본의 압력이 거세지다 세계 여행 여부와 관계없이 배움\n",
            "이 깊없던 모든 지식인들은 더욱더 큰 무력감올 느끼기 시작햇습니다. '박제\n",
            "가 되어 버린 천재름 아시오 로 시작되는 이상의 소설 <날개   >에는 일제 강점\n",
            "기틀 살아가는 지식인의 무려감과 자기험오가 잘 나타나 있습니다: 실상 당시\n",
            "식민 지배 시기틀 살앗던 조선인들에게는 글욕감과 좌절, 슬픔이 일상화되어\n",
            "있있습니다 그러나 이렇게 암담한 현실 속에서 오히려 이 어둡올\n",
            "밝할 내면의\n",
            "불꽃올 피우기 시작한 이들도 있있습니다.\n",
            "갈무리\n",
            "당시 조선인들이 느진 혼란의 감정들 가운데서도 지료던 자존감의 뿌리논 무엇이없올까요?\n",
            "제g장 미지의 세계로 떠난 조선인들\n",
            "327\n",
            "전문\n"
          ]
        }
      ]
    },
    {
      "cell_type": "markdown",
      "source": [
        "### 네이버 git허브"
      ],
      "metadata": {
        "id": "CwA2w-Bym5R-"
      }
    },
    {
      "cell_type": "markdown",
      "source": [
        "- clovaai/deep-text-recognition-benchmark\n"
      ],
      "metadata": {
        "id": "C6thbrE6tlG9"
      }
    },
    {
      "cell_type": "code",
      "source": [],
      "metadata": {
        "id": "smXylGq0tkoV"
      },
      "execution_count": null,
      "outputs": []
    },
    {
      "cell_type": "code",
      "source": [
        "!pip3 install lmdb pillow torchvision nltk natsort"
      ],
      "metadata": {
        "id": "SKDHo1SaEn3e",
        "colab": {
          "base_uri": "https://localhost:8080/"
        },
        "outputId": "f952160d-cd09-4b4d-f0dd-f8fcf81f4a59"
      },
      "execution_count": 1,
      "outputs": [
        {
          "output_type": "stream",
          "name": "stdout",
          "text": [
            "Collecting lmdb\n",
            "  Downloading lmdb-1.4.1-cp310-cp310-manylinux_2_17_x86_64.manylinux2014_x86_64.whl (299 kB)\n",
            "\u001b[2K     \u001b[90m━━━━━━━━━━━━━━━━━━━━━━━━━━━━━━━━━━━━━━━\u001b[0m \u001b[32m299.2/299.2 kB\u001b[0m \u001b[31m5.4 MB/s\u001b[0m eta \u001b[36m0:00:00\u001b[0m\n",
            "\u001b[?25hRequirement already satisfied: pillow in /usr/local/lib/python3.10/dist-packages (9.4.0)\n",
            "Requirement already satisfied: torchvision in /usr/local/lib/python3.10/dist-packages (0.15.2+cu118)\n",
            "Requirement already satisfied: nltk in /usr/local/lib/python3.10/dist-packages (3.8.1)\n",
            "Requirement already satisfied: natsort in /usr/local/lib/python3.10/dist-packages (8.4.0)\n",
            "Requirement already satisfied: numpy in /usr/local/lib/python3.10/dist-packages (from torchvision) (1.23.5)\n",
            "Requirement already satisfied: requests in /usr/local/lib/python3.10/dist-packages (from torchvision) (2.31.0)\n",
            "Requirement already satisfied: torch==2.0.1 in /usr/local/lib/python3.10/dist-packages (from torchvision) (2.0.1+cu118)\n",
            "Requirement already satisfied: filelock in /usr/local/lib/python3.10/dist-packages (from torch==2.0.1->torchvision) (3.12.2)\n",
            "Requirement already satisfied: typing-extensions in /usr/local/lib/python3.10/dist-packages (from torch==2.0.1->torchvision) (4.7.1)\n",
            "Requirement already satisfied: sympy in /usr/local/lib/python3.10/dist-packages (from torch==2.0.1->torchvision) (1.12)\n",
            "Requirement already satisfied: networkx in /usr/local/lib/python3.10/dist-packages (from torch==2.0.1->torchvision) (3.1)\n",
            "Requirement already satisfied: jinja2 in /usr/local/lib/python3.10/dist-packages (from torch==2.0.1->torchvision) (3.1.2)\n",
            "Requirement already satisfied: triton==2.0.0 in /usr/local/lib/python3.10/dist-packages (from torch==2.0.1->torchvision) (2.0.0)\n",
            "Requirement already satisfied: cmake in /usr/local/lib/python3.10/dist-packages (from triton==2.0.0->torch==2.0.1->torchvision) (3.27.2)\n",
            "Requirement already satisfied: lit in /usr/local/lib/python3.10/dist-packages (from triton==2.0.0->torch==2.0.1->torchvision) (16.0.6)\n",
            "Requirement already satisfied: click in /usr/local/lib/python3.10/dist-packages (from nltk) (8.1.6)\n",
            "Requirement already satisfied: joblib in /usr/local/lib/python3.10/dist-packages (from nltk) (1.3.2)\n",
            "Requirement already satisfied: regex>=2021.8.3 in /usr/local/lib/python3.10/dist-packages (from nltk) (2023.6.3)\n",
            "Requirement already satisfied: tqdm in /usr/local/lib/python3.10/dist-packages (from nltk) (4.66.1)\n",
            "Requirement already satisfied: charset-normalizer<4,>=2 in /usr/local/lib/python3.10/dist-packages (from requests->torchvision) (3.2.0)\n",
            "Requirement already satisfied: idna<4,>=2.5 in /usr/local/lib/python3.10/dist-packages (from requests->torchvision) (3.4)\n",
            "Requirement already satisfied: urllib3<3,>=1.21.1 in /usr/local/lib/python3.10/dist-packages (from requests->torchvision) (2.0.4)\n",
            "Requirement already satisfied: certifi>=2017.4.17 in /usr/local/lib/python3.10/dist-packages (from requests->torchvision) (2023.7.22)\n",
            "Requirement already satisfied: MarkupSafe>=2.0 in /usr/local/lib/python3.10/dist-packages (from jinja2->torch==2.0.1->torchvision) (2.1.3)\n",
            "Requirement already satisfied: mpmath>=0.19 in /usr/local/lib/python3.10/dist-packages (from sympy->torch==2.0.1->torchvision) (1.3.0)\n",
            "Installing collected packages: lmdb\n",
            "Successfully installed lmdb-1.4.1\n"
          ]
        }
      ]
    },
    {
      "cell_type": "markdown",
      "source": [
        "#### 네이버 클로바아이/ CRAFT-pytorch\n",
        "- https://github.com/clovaai/CRAFT-pytorch\n",
        "- 요구 사항\n",
        "- 파이토치>=0.4.1\n",
        "- 토치비전>=0.2.1\n",
        "- opencv-python>=3.4.2\n",
        "- requiremtns.txt 확인"
      ],
      "metadata": {
        "id": "Argfkzwym-ZG"
      }
    },
    {
      "cell_type": "code",
      "source": [
        "!git clone https://github.com/clovaai/CRAFT-pytorch"
      ],
      "metadata": {
        "colab": {
          "base_uri": "https://localhost:8080/"
        },
        "id": "BN6dFACFs5pG",
        "outputId": "0f78e645-e059-4ee6-b48f-1aae3dbfe163"
      },
      "execution_count": 1,
      "outputs": [
        {
          "output_type": "stream",
          "name": "stdout",
          "text": [
            "Cloning into 'CRAFT-pytorch'...\n",
            "remote: Enumerating objects: 59, done.\u001b[K\n",
            "remote: Total 59 (delta 0), reused 0 (delta 0), pack-reused 59\u001b[K\n",
            "Receiving objects: 100% (59/59), 1.69 MiB | 16.03 MiB/s, done.\n",
            "Resolving deltas: 100% (25/25), done.\n"
          ]
        }
      ]
    },
    {
      "cell_type": "code",
      "source": [
        "!pip install -r /content/CRAFT-pytorch/requirements.txt"
      ],
      "metadata": {
        "colab": {
          "base_uri": "https://localhost:8080/"
        },
        "id": "QNdv5HtZlXWn",
        "outputId": "ce98e2a7-9348-4f33-f208-4f0dbe3eaf3a"
      },
      "execution_count": 9,
      "outputs": [
        {
          "output_type": "stream",
          "name": "stdout",
          "text": [
            "\u001b[31mERROR: Could not find a version that satisfies the requirement torch==0.4.1.post2 (from versions: 1.11.0, 1.12.0, 1.12.1, 1.13.0, 1.13.1, 2.0.0, 2.0.1)\u001b[0m\u001b[31m\n",
            "\u001b[0m\u001b[31mERROR: No matching distribution found for torch==0.4.1.post2\u001b[0m\u001b[31m\n",
            "\u001b[0m"
          ]
        }
      ]
    },
    {
      "cell_type": "markdown",
      "source": [
        "- 연습중 모델로 실행\n",
        "\n",
        "python test.py --trained_model=[weightfile] --test_folder=[folder path to test images]"
      ],
      "metadata": {
        "id": "MkHfabFontJb"
      }
    },
    {
      "cell_type": "code",
      "source": [
        "# download Naver-OCR CODE\n",
        "!git clone https://github.com/clovaai/deep-text-recognition-benchmark.git"
      ],
      "metadata": {
        "colab": {
          "base_uri": "https://localhost:8080/"
        },
        "id": "GF_MQ6Sd-bc-",
        "outputId": "1c6c9d89-b388-4c13-b813-c203f2238118"
      },
      "execution_count": 18,
      "outputs": [
        {
          "output_type": "stream",
          "name": "stdout",
          "text": [
            "/bin/bash: line 1: conda: command not found\n",
            "/bin/bash: line 1: conda: command not found\n",
            "/bin/bash: line 1: conda: command not found\n",
            "/bin/bash: line 1: conda: command not found\n",
            "/bin/bash: line 1: conda: command not found\n",
            "/bin/bash: line 1: conda: command not found\n",
            "Reading package lists... Done\n",
            "Building dependency tree... Done\n",
            "Reading state information... Done\n",
            "git is already the newest version (1:2.34.1-1ubuntu1.9).\n",
            "0 upgraded, 0 newly installed, 0 to remove and 16 not upgraded.\n",
            "Cloning into 'deep-text-recognition-benchmark'...\n",
            "remote: Enumerating objects: 499, done.\u001b[K\n",
            "remote: Counting objects: 100% (4/4), done.\u001b[K\n",
            "remote: Compressing objects: 100% (4/4), done.\u001b[K\n",
            "remote: Total 499 (delta 0), reused 1 (delta 0), pack-reused 495\u001b[K\n",
            "Receiving objects: 100% (499/499), 3.07 MiB | 22.31 MiB/s, done.\n",
            "Resolving deltas: 100% (301/301), done.\n"
          ]
        }
      ]
    },
    {
      "cell_type": "code",
      "source": [],
      "metadata": {
        "id": "CKkOsgNp-n-x"
      },
      "execution_count": null,
      "outputs": []
    },
    {
      "cell_type": "code",
      "source": [
        "!python /content/CRAFT-pytorch/test.py --trained_model= '/content/CRAFT-pytorch/craft_refiner_CTW1500.pth' --test_folder= '/content/001z0226397280.jpg'\n",
        "# python test.py --trained_model='craft_mlt_25k.pth' --test_folder='' --test_folder= '"
      ],
      "metadata": {
        "colab": {
          "base_uri": "https://localhost:8080/"
        },
        "id": "urRD-z7gnJJ4",
        "outputId": "f5c7da27-6205-4005-bd3c-6f26152bf2c3"
      },
      "execution_count": 17,
      "outputs": [
        {
          "output_type": "stream",
          "name": "stdout",
          "text": [
            "Traceback (most recent call last):\n",
            "  File \"/content/CRAFT-pytorch/test.py\", line 28, in <module>\n",
            "    from craft import CRAFT\n",
            "  File \"/content/CRAFT-pytorch/craft.py\", line 11, in <module>\n",
            "    from basenet.vgg16_bn import vgg16_bn, init_weights\n",
            "  File \"/content/CRAFT-pytorch/basenet/vgg16_bn.py\", line 7, in <module>\n",
            "    from torchvision.models.vgg import model_urls\n",
            "ImportError: cannot import name 'model_urls' from 'torchvision.models.vgg' (/usr/local/lib/python3.10/dist-packages/torchvision/models/vgg.py)\n"
          ]
        }
      ]
    },
    {
      "cell_type": "markdown",
      "source": [
        "<인수>\n",
        "\n",
        "--trained_model: 사전 훈련된 모델\n",
        "\n",
        "--text_threshold: 문자열 신뢰도 값\n",
        "\n",
        "--low_text: 텍스트 하한 점수\n",
        "\n",
        "--link_threshold: 링크 신뢰도 값\n",
        "\n",
        "--cuda:채점을 위해 cuda 사용(기본값:True)\n",
        "\n",
        "--canvas_size: 공급을 위한 최대 크기\n",
        "\n",
        "--mag_ratio: 이미지 배율\n",
        "\n",
        "--poly: 도장 유형 결과\n",
        "\n",
        "--show_time: 시간 표시 처리\n",
        "\n",
        "--test_folder: 입력 이미지의 폴더\n",
        "\n",
        "--refine:문장 수준 데이터 세트에 대한 링크 요청 사용\n",
        "\n",
        "--refiner_model: 오리엔탈 훈련된 모델"
      ],
      "metadata": {
        "id": "epxBWkVGnzvD"
      }
    },
    {
      "cell_type": "markdown",
      "source": [
        "<소환>"
      ],
      "metadata": {
        "id": "7bIK2RD7oJtP"
      }
    },
    {
      "cell_type": "code",
      "source": [
        "@inproceedings{baek2019character,\n",
        "  title={Character Region Awareness for Text Detection},\n",
        "  author={Baek, Youngmin and Lee, Bado and Han, Dongyoon and Yun, Sangdoo and Lee, Hwalsuk},\n",
        "  booktitle={Proceedings of the IEEE Conference on Computer Vision and Pattern Recognition},\n",
        "  pages={9365--9374},\n",
        "  year={2019}}"
      ],
      "metadata": {
        "id": "7aV-jCIKnwrF"
      },
      "execution_count": null,
      "outputs": []
    },
    {
      "cell_type": "markdown",
      "source": [
        "### huggngface"
      ],
      "metadata": {
        "id": "IDnsjAlhDQGa"
      }
    },
    {
      "cell_type": "code",
      "source": [
        "!pip install transformers"
      ],
      "metadata": {
        "colab": {
          "base_uri": "https://localhost:8080/"
        },
        "id": "l5d13_xLDXYC",
        "outputId": "efdca0c1-d42b-46ac-ad7e-73c25448df5a"
      },
      "execution_count": 21,
      "outputs": [
        {
          "output_type": "stream",
          "name": "stdout",
          "text": [
            "Collecting transformers\n",
            "  Downloading transformers-4.31.0-py3-none-any.whl (7.4 MB)\n",
            "\u001b[2K     \u001b[90m━━━━━━━━━━━━━━━━━━━━━━━━━━━━━━━━━━━━━━━━\u001b[0m \u001b[32m7.4/7.4 MB\u001b[0m \u001b[31m14.2 MB/s\u001b[0m eta \u001b[36m0:00:00\u001b[0m\n",
            "\u001b[?25hRequirement already satisfied: filelock in /usr/local/lib/python3.10/dist-packages (from transformers) (3.12.2)\n",
            "Collecting huggingface-hub<1.0,>=0.14.1 (from transformers)\n",
            "  Downloading huggingface_hub-0.16.4-py3-none-any.whl (268 kB)\n",
            "\u001b[2K     \u001b[90m━━━━━━━━━━━━━━━━━━━━━━━━━━━━━━━━━━━━━━\u001b[0m \u001b[32m268.8/268.8 kB\u001b[0m \u001b[31m21.4 MB/s\u001b[0m eta \u001b[36m0:00:00\u001b[0m\n",
            "\u001b[?25hRequirement already satisfied: numpy>=1.17 in /usr/local/lib/python3.10/dist-packages (from transformers) (1.23.5)\n",
            "Requirement already satisfied: packaging>=20.0 in /usr/local/lib/python3.10/dist-packages (from transformers) (23.1)\n",
            "Requirement already satisfied: pyyaml>=5.1 in /usr/local/lib/python3.10/dist-packages (from transformers) (6.0.1)\n",
            "Requirement already satisfied: regex!=2019.12.17 in /usr/local/lib/python3.10/dist-packages (from transformers) (2023.6.3)\n",
            "Requirement already satisfied: requests in /usr/local/lib/python3.10/dist-packages (from transformers) (2.31.0)\n",
            "Collecting tokenizers!=0.11.3,<0.14,>=0.11.1 (from transformers)\n",
            "  Downloading tokenizers-0.13.3-cp310-cp310-manylinux_2_17_x86_64.manylinux2014_x86_64.whl (7.8 MB)\n",
            "\u001b[2K     \u001b[90m━━━━━━━━━━━━━━━━━━━━━━━━━━━━━━━━━━━━━━━━\u001b[0m \u001b[32m7.8/7.8 MB\u001b[0m \u001b[31m27.7 MB/s\u001b[0m eta \u001b[36m0:00:00\u001b[0m\n",
            "\u001b[?25hCollecting safetensors>=0.3.1 (from transformers)\n",
            "  Downloading safetensors-0.3.2-cp310-cp310-manylinux_2_17_x86_64.manylinux2014_x86_64.whl (1.3 MB)\n",
            "\u001b[2K     \u001b[90m━━━━━━━━━━━━━━━━━━━━━━━━━━━━━━━━━━━━━━━━\u001b[0m \u001b[32m1.3/1.3 MB\u001b[0m \u001b[31m40.5 MB/s\u001b[0m eta \u001b[36m0:00:00\u001b[0m\n",
            "\u001b[?25hRequirement already satisfied: tqdm>=4.27 in /usr/local/lib/python3.10/dist-packages (from transformers) (4.66.1)\n",
            "Requirement already satisfied: fsspec in /usr/local/lib/python3.10/dist-packages (from huggingface-hub<1.0,>=0.14.1->transformers) (2023.6.0)\n",
            "Requirement already satisfied: typing-extensions>=3.7.4.3 in /usr/local/lib/python3.10/dist-packages (from huggingface-hub<1.0,>=0.14.1->transformers) (4.7.1)\n",
            "Requirement already satisfied: charset-normalizer<4,>=2 in /usr/local/lib/python3.10/dist-packages (from requests->transformers) (3.2.0)\n",
            "Requirement already satisfied: idna<4,>=2.5 in /usr/local/lib/python3.10/dist-packages (from requests->transformers) (3.4)\n",
            "Requirement already satisfied: urllib3<3,>=1.21.1 in /usr/local/lib/python3.10/dist-packages (from requests->transformers) (2.0.4)\n",
            "Requirement already satisfied: certifi>=2017.4.17 in /usr/local/lib/python3.10/dist-packages (from requests->transformers) (2023.7.22)\n",
            "Installing collected packages: tokenizers, safetensors, huggingface-hub, transformers\n",
            "Successfully installed huggingface-hub-0.16.4 safetensors-0.3.2 tokenizers-0.13.3 transformers-4.31.0\n"
          ]
        }
      ]
    },
    {
      "cell_type": "code",
      "source": [
        "import torch\n",
        "\n",
        "from transformers import VisionEncoderDecoderModel\n",
        "\n",
        "model = VisionEncoderDecoderModel.from_pretrained(\"team-lucid/trocr-small-korean\")\n",
        "\n",
        "pixel_values = torch.rand(1, 3, 384, 384)\n",
        "generated_ids = model.generate(pixel_values)"
      ],
      "metadata": {
        "colab": {
          "base_uri": "https://localhost:8080/",
          "height": 136,
          "referenced_widgets": [
            "29794333d6354eff81dc0914e43fc9bb",
            "10f04b3b8a5549188bfbd31683b94444",
            "539ef68b4cc4425cbdc50653d8d2b676",
            "61a89f3c9708417cb82939df1327ba53",
            "54d5cde5fe6747b798a389f481bfbe5a",
            "c220627278d84f4883cef589210ea89d",
            "453297151a5e4d48aab7568a34538904",
            "fe7d725d466f468391aae208bd0a1240",
            "22f5c0ffbd834db18d15622e48ff93ee",
            "07e31a4fb4fe44de9a770007119695cd",
            "3371bc238e8444e4bdaf293057a2eabc",
            "16817e2dc26049c68abaef1441b8454d",
            "b69a2cd2c6c54f2d8d340452c8e8766f",
            "3ac0678da209430ab6a0444d5f6b901b",
            "ed99bc295959401087809c7c57c9c659",
            "1d77dc8f75054e399608326983b9367a",
            "9cf4e9cec9794bcebc4726d2ba3bd27e",
            "e9036d6669ea4b11b55fdcb4a4afdd53",
            "a98d189a79a54797b608c08a367fcaa0",
            "4f4c034c9f0b474ba3f80a4ceb2e3366",
            "7f59afd1066d42f4862d03785b02895a",
            "eafbdb34bf3247ecb351f3346357a52e"
          ]
        },
        "id": "41oegnVsDV0D",
        "outputId": "e2a9a6bd-6ee4-40e3-8bd4-8a1a7b535a0a"
      },
      "execution_count": 24,
      "outputs": [
        {
          "output_type": "display_data",
          "data": {
            "text/plain": [
              "Downloading model.safetensors:   0%|          | 0.00/218M [00:00<?, ?B/s]"
            ],
            "application/vnd.jupyter.widget-view+json": {
              "version_major": 2,
              "version_minor": 0,
              "model_id": "29794333d6354eff81dc0914e43fc9bb"
            }
          },
          "metadata": {}
        },
        {
          "output_type": "display_data",
          "data": {
            "text/plain": [
              "Downloading (…)neration_config.json:   0%|          | 0.00/190 [00:00<?, ?B/s]"
            ],
            "application/vnd.jupyter.widget-view+json": {
              "version_major": 2,
              "version_minor": 0,
              "model_id": "16817e2dc26049c68abaef1441b8454d"
            }
          },
          "metadata": {}
        },
        {
          "output_type": "stream",
          "name": "stderr",
          "text": [
            "/usr/local/lib/python3.10/dist-packages/transformers/generation/utils.py:1369: UserWarning: Using `max_length`'s default (20) to control the generation length. This behaviour is deprecated and will be removed from the config in v5 of Transformers -- we recommend using `max_new_tokens` to control the maximum length of the generation.\n",
            "  warnings.warn(\n"
          ]
        }
      ]
    },
    {
      "cell_type": "code",
      "source": [],
      "metadata": {
        "id": "kRvcmJBNDyGr"
      },
      "execution_count": null,
      "outputs": []
    },
    {
      "cell_type": "markdown",
      "source": [
        "### korean_ocr_using_paddleOCR"
      ],
      "metadata": {
        "id": "SXWbx9rQGdxt"
      }
    },
    {
      "cell_type": "code",
      "source": [
        "! git clone https://github.com/yunwoong7/korean_ocr_using_paddleOCR"
      ],
      "metadata": {
        "colab": {
          "base_uri": "https://localhost:8080/"
        },
        "id": "smwwUzkBGezj",
        "outputId": "ea3e863d-221a-481a-fd48-a225c1d93240"
      },
      "execution_count": 26,
      "outputs": [
        {
          "output_type": "stream",
          "name": "stdout",
          "text": [
            "Cloning into 'korean_ocr_using_paddleOCR'...\n",
            "remote: Enumerating objects: 20, done.\u001b[K\n",
            "remote: Counting objects:   5% (1/20)\u001b[K\rremote: Counting objects:  10% (2/20)\u001b[K\rremote: Counting objects:  15% (3/20)\u001b[K\rremote: Counting objects:  20% (4/20)\u001b[K\rremote: Counting objects:  25% (5/20)\u001b[K\rremote: Counting objects:  30% (6/20)\u001b[K\rremote: Counting objects:  35% (7/20)\u001b[K\rremote: Counting objects:  40% (8/20)\u001b[K\rremote: Counting objects:  45% (9/20)\u001b[K\rremote: Counting objects:  50% (10/20)\u001b[K\rremote: Counting objects:  55% (11/20)\u001b[K\rremote: Counting objects:  60% (12/20)\u001b[K\rremote: Counting objects:  65% (13/20)\u001b[K\rremote: Counting objects:  70% (14/20)\u001b[K\rremote: Counting objects:  75% (15/20)\u001b[K\rremote: Counting objects:  80% (16/20)\u001b[K\rremote: Counting objects:  85% (17/20)\u001b[K\rremote: Counting objects:  90% (18/20)\u001b[K\rremote: Counting objects:  95% (19/20)\u001b[K\rremote: Counting objects: 100% (20/20)\u001b[K\rremote: Counting objects: 100% (20/20), done.\u001b[K\n",
            "remote: Compressing objects: 100% (17/17), done.\u001b[K\n",
            "remote: Total 20 (delta 1), reused 16 (delta 1), pack-reused 0\u001b[K\n",
            "Receiving objects: 100% (20/20), 527.20 KiB | 8.37 MiB/s, done.\n",
            "Resolving deltas: 100% (1/1), done.\n"
          ]
        }
      ]
    },
    {
      "cell_type": "code",
      "source": [
        "!pip install paddlepaddle # for gpu user please install paddlepaddle-gpu\n",
        "!pip install paddleocr"
      ],
      "metadata": {
        "colab": {
          "base_uri": "https://localhost:8080/"
        },
        "id": "czSWuhp1GlqK",
        "outputId": "d1740d94-d19f-43bf-b9c1-b1f4957af100"
      },
      "execution_count": 29,
      "outputs": [
        {
          "output_type": "stream",
          "name": "stdout",
          "text": [
            "Requirement already satisfied: paddlepaddle in /usr/local/lib/python3.10/dist-packages (2.5.1)\n",
            "Requirement already satisfied: httpx in /usr/local/lib/python3.10/dist-packages (from paddlepaddle) (0.24.1)\n",
            "Requirement already satisfied: numpy>=1.13 in /usr/local/lib/python3.10/dist-packages (from paddlepaddle) (1.23.5)\n",
            "Requirement already satisfied: Pillow in /usr/local/lib/python3.10/dist-packages (from paddlepaddle) (9.4.0)\n",
            "Requirement already satisfied: decorator in /usr/local/lib/python3.10/dist-packages (from paddlepaddle) (4.4.2)\n",
            "Requirement already satisfied: astor in /usr/local/lib/python3.10/dist-packages (from paddlepaddle) (0.8.1)\n",
            "Requirement already satisfied: paddle-bfloat==0.1.7 in /usr/local/lib/python3.10/dist-packages (from paddlepaddle) (0.1.7)\n",
            "Requirement already satisfied: opt-einsum==3.3.0 in /usr/local/lib/python3.10/dist-packages (from paddlepaddle) (3.3.0)\n",
            "Requirement already satisfied: protobuf>=3.20.2 in /usr/local/lib/python3.10/dist-packages (from paddlepaddle) (3.20.3)\n",
            "Requirement already satisfied: certifi in /usr/local/lib/python3.10/dist-packages (from httpx->paddlepaddle) (2023.7.22)\n",
            "Requirement already satisfied: httpcore<0.18.0,>=0.15.0 in /usr/local/lib/python3.10/dist-packages (from httpx->paddlepaddle) (0.17.3)\n",
            "Requirement already satisfied: idna in /usr/local/lib/python3.10/dist-packages (from httpx->paddlepaddle) (3.4)\n",
            "Requirement already satisfied: sniffio in /usr/local/lib/python3.10/dist-packages (from httpx->paddlepaddle) (1.3.0)\n",
            "Requirement already satisfied: h11<0.15,>=0.13 in /usr/local/lib/python3.10/dist-packages (from httpcore<0.18.0,>=0.15.0->httpx->paddlepaddle) (0.14.0)\n",
            "Requirement already satisfied: anyio<5.0,>=3.0 in /usr/local/lib/python3.10/dist-packages (from httpcore<0.18.0,>=0.15.0->httpx->paddlepaddle) (3.7.1)\n",
            "Requirement already satisfied: exceptiongroup in /usr/local/lib/python3.10/dist-packages (from anyio<5.0,>=3.0->httpcore<0.18.0,>=0.15.0->httpx->paddlepaddle) (1.1.2)\n",
            "Requirement already satisfied: paddleocr in /usr/local/lib/python3.10/dist-packages (2.7.0.2)\n",
            "Requirement already satisfied: shapely in /usr/local/lib/python3.10/dist-packages (from paddleocr) (2.0.1)\n",
            "Requirement already satisfied: scikit-image in /usr/local/lib/python3.10/dist-packages (from paddleocr) (0.19.3)\n",
            "Requirement already satisfied: imgaug in /usr/local/lib/python3.10/dist-packages (from paddleocr) (0.4.0)\n",
            "Requirement already satisfied: pyclipper in /usr/local/lib/python3.10/dist-packages (from paddleocr) (1.3.0.post4)\n",
            "Requirement already satisfied: lmdb in /usr/local/lib/python3.10/dist-packages (from paddleocr) (1.4.1)\n",
            "Requirement already satisfied: tqdm in /usr/local/lib/python3.10/dist-packages (from paddleocr) (4.66.1)\n",
            "Requirement already satisfied: numpy in /usr/local/lib/python3.10/dist-packages (from paddleocr) (1.23.5)\n",
            "Requirement already satisfied: visualdl in /usr/local/lib/python3.10/dist-packages (from paddleocr) (2.5.3)\n",
            "Requirement already satisfied: rapidfuzz in /usr/local/lib/python3.10/dist-packages (from paddleocr) (3.2.0)\n",
            "Requirement already satisfied: opencv-python<=4.6.0.66 in /usr/local/lib/python3.10/dist-packages (from paddleocr) (4.6.0.66)\n",
            "Requirement already satisfied: opencv-contrib-python<=4.6.0.66 in /usr/local/lib/python3.10/dist-packages (from paddleocr) (4.6.0.66)\n",
            "Requirement already satisfied: cython in /usr/local/lib/python3.10/dist-packages (from paddleocr) (0.29.36)\n",
            "Requirement already satisfied: lxml in /usr/local/lib/python3.10/dist-packages (from paddleocr) (4.9.3)\n",
            "Requirement already satisfied: premailer in /usr/local/lib/python3.10/dist-packages (from paddleocr) (3.10.0)\n",
            "Requirement already satisfied: openpyxl in /usr/local/lib/python3.10/dist-packages (from paddleocr) (3.1.2)\n",
            "Requirement already satisfied: attrdict in /usr/local/lib/python3.10/dist-packages (from paddleocr) (2.0.1)\n",
            "Requirement already satisfied: PyMuPDF<1.21.0 in /usr/local/lib/python3.10/dist-packages (from paddleocr) (1.20.2)\n",
            "Requirement already satisfied: Pillow in /usr/local/lib/python3.10/dist-packages (from paddleocr) (9.4.0)\n",
            "Requirement already satisfied: python-docx in /usr/local/lib/python3.10/dist-packages (from paddleocr) (0.8.11)\n",
            "Requirement already satisfied: beautifulsoup4 in /usr/local/lib/python3.10/dist-packages (from paddleocr) (4.11.2)\n",
            "Requirement already satisfied: fonttools>=4.24.0 in /usr/local/lib/python3.10/dist-packages (from paddleocr) (4.42.0)\n",
            "Requirement already satisfied: fire>=0.3.0 in /usr/local/lib/python3.10/dist-packages (from paddleocr) (0.5.0)\n",
            "Requirement already satisfied: pdf2docx in /usr/local/lib/python3.10/dist-packages (from paddleocr) (0.5.6)\n",
            "Requirement already satisfied: six in /usr/local/lib/python3.10/dist-packages (from fire>=0.3.0->paddleocr) (1.16.0)\n",
            "Requirement already satisfied: termcolor in /usr/local/lib/python3.10/dist-packages (from fire>=0.3.0->paddleocr) (2.3.0)\n",
            "Requirement already satisfied: soupsieve>1.2 in /usr/local/lib/python3.10/dist-packages (from beautifulsoup4->paddleocr) (2.4.1)\n",
            "Requirement already satisfied: scipy in /usr/local/lib/python3.10/dist-packages (from imgaug->paddleocr) (1.10.1)\n",
            "Requirement already satisfied: matplotlib in /usr/local/lib/python3.10/dist-packages (from imgaug->paddleocr) (3.7.1)\n",
            "Requirement already satisfied: imageio in /usr/local/lib/python3.10/dist-packages (from imgaug->paddleocr) (2.31.1)\n",
            "Requirement already satisfied: networkx>=2.2 in /usr/local/lib/python3.10/dist-packages (from scikit-image->paddleocr) (3.1)\n",
            "Requirement already satisfied: tifffile>=2019.7.26 in /usr/local/lib/python3.10/dist-packages (from scikit-image->paddleocr) (2023.8.12)\n",
            "Requirement already satisfied: PyWavelets>=1.1.1 in /usr/local/lib/python3.10/dist-packages (from scikit-image->paddleocr) (1.4.1)\n",
            "Requirement already satisfied: packaging>=20.0 in /usr/local/lib/python3.10/dist-packages (from scikit-image->paddleocr) (23.1)\n",
            "Requirement already satisfied: et-xmlfile in /usr/local/lib/python3.10/dist-packages (from openpyxl->paddleocr) (1.1.0)\n",
            "Requirement already satisfied: cssselect in /usr/local/lib/python3.10/dist-packages (from premailer->paddleocr) (1.2.0)\n",
            "Requirement already satisfied: cssutils in /usr/local/lib/python3.10/dist-packages (from premailer->paddleocr) (2.7.1)\n",
            "Requirement already satisfied: requests in /usr/local/lib/python3.10/dist-packages (from premailer->paddleocr) (2.31.0)\n",
            "Requirement already satisfied: cachetools in /usr/local/lib/python3.10/dist-packages (from premailer->paddleocr) (5.3.1)\n",
            "Requirement already satisfied: bce-python-sdk in /usr/local/lib/python3.10/dist-packages (from visualdl->paddleocr) (0.8.87)\n",
            "Requirement already satisfied: flask>=1.1.1 in /usr/local/lib/python3.10/dist-packages (from visualdl->paddleocr) (2.2.5)\n",
            "Requirement already satisfied: Flask-Babel>=3.0.0 in /usr/local/lib/python3.10/dist-packages (from visualdl->paddleocr) (3.1.0)\n",
            "Requirement already satisfied: protobuf>=3.20.0 in /usr/local/lib/python3.10/dist-packages (from visualdl->paddleocr) (3.20.3)\n",
            "Requirement already satisfied: pandas in /usr/local/lib/python3.10/dist-packages (from visualdl->paddleocr) (1.5.3)\n",
            "Requirement already satisfied: rarfile in /usr/local/lib/python3.10/dist-packages (from visualdl->paddleocr) (4.0)\n",
            "Requirement already satisfied: psutil in /usr/local/lib/python3.10/dist-packages (from visualdl->paddleocr) (5.9.5)\n",
            "Requirement already satisfied: Werkzeug>=2.2.2 in /usr/local/lib/python3.10/dist-packages (from flask>=1.1.1->visualdl->paddleocr) (2.3.6)\n",
            "Requirement already satisfied: Jinja2>=3.0 in /usr/local/lib/python3.10/dist-packages (from flask>=1.1.1->visualdl->paddleocr) (3.1.2)\n",
            "Requirement already satisfied: itsdangerous>=2.0 in /usr/local/lib/python3.10/dist-packages (from flask>=1.1.1->visualdl->paddleocr) (2.1.2)\n",
            "Requirement already satisfied: click>=8.0 in /usr/local/lib/python3.10/dist-packages (from flask>=1.1.1->visualdl->paddleocr) (8.1.6)\n",
            "Requirement already satisfied: Babel>=2.12 in /usr/local/lib/python3.10/dist-packages (from Flask-Babel>=3.0.0->visualdl->paddleocr) (2.12.1)\n",
            "Requirement already satisfied: pytz>=2022.7 in /usr/local/lib/python3.10/dist-packages (from Flask-Babel>=3.0.0->visualdl->paddleocr) (2023.3)\n",
            "Requirement already satisfied: pycryptodome>=3.8.0 in /usr/local/lib/python3.10/dist-packages (from bce-python-sdk->visualdl->paddleocr) (3.18.0)\n",
            "Requirement already satisfied: future>=0.6.0 in /usr/local/lib/python3.10/dist-packages (from bce-python-sdk->visualdl->paddleocr) (0.18.3)\n",
            "Requirement already satisfied: contourpy>=1.0.1 in /usr/local/lib/python3.10/dist-packages (from matplotlib->imgaug->paddleocr) (1.1.0)\n",
            "Requirement already satisfied: cycler>=0.10 in /usr/local/lib/python3.10/dist-packages (from matplotlib->imgaug->paddleocr) (0.11.0)\n",
            "Requirement already satisfied: kiwisolver>=1.0.1 in /usr/local/lib/python3.10/dist-packages (from matplotlib->imgaug->paddleocr) (1.4.4)\n",
            "Requirement already satisfied: pyparsing>=2.3.1 in /usr/local/lib/python3.10/dist-packages (from matplotlib->imgaug->paddleocr) (3.1.1)\n",
            "Requirement already satisfied: python-dateutil>=2.7 in /usr/local/lib/python3.10/dist-packages (from matplotlib->imgaug->paddleocr) (2.8.2)\n",
            "Requirement already satisfied: charset-normalizer<4,>=2 in /usr/local/lib/python3.10/dist-packages (from requests->premailer->paddleocr) (3.2.0)\n",
            "Requirement already satisfied: idna<4,>=2.5 in /usr/local/lib/python3.10/dist-packages (from requests->premailer->paddleocr) (3.4)\n",
            "Requirement already satisfied: urllib3<3,>=1.21.1 in /usr/local/lib/python3.10/dist-packages (from requests->premailer->paddleocr) (2.0.4)\n",
            "Requirement already satisfied: certifi>=2017.4.17 in /usr/local/lib/python3.10/dist-packages (from requests->premailer->paddleocr) (2023.7.22)\n",
            "Requirement already satisfied: MarkupSafe>=2.0 in /usr/local/lib/python3.10/dist-packages (from Jinja2>=3.0->flask>=1.1.1->visualdl->paddleocr) (2.1.3)\n"
          ]
        }
      ]
    },
    {
      "cell_type": "code",
      "source": [
        "# paddleocr --image_dir /your/test/image.jpg --lang=korean"
      ],
      "metadata": {
        "id": "AcoAS4eYHE1S"
      },
      "execution_count": null,
      "outputs": []
    },
    {
      "cell_type": "code",
      "source": [
        "from paddleocr import PaddleOCR\n",
        "\n",
        "# ocr = PaddleOCR(lang=\"korean\")\n",
        "\n",
        "# img_path = \"/content/001z0226397280.jpg\"\n",
        "# result = ocr.ocr(img_path, cls=False)\n",
        "\n",
        "# ocr_result = result[0]\n",
        "# print(ocr_result)"
      ],
      "metadata": {
        "colab": {
          "base_uri": "https://localhost:8080/",
          "height": 549
        },
        "id": "e6K3xTl3HJN9",
        "outputId": "0d36a667-e9f8-4208-e286-a4d68402ff58"
      },
      "execution_count": 34,
      "outputs": [
        {
          "output_type": "stream",
          "name": "stderr",
          "text": [
            "Error: Can not import paddle core while this file exists: /usr/local/lib/python3.10/dist-packages/paddle/fluid/libpaddle.so\n"
          ]
        },
        {
          "output_type": "error",
          "ename": "ImportError",
          "evalue": "ignored",
          "traceback": [
            "\u001b[0;31m---------------------------------------------------------------------------\u001b[0m",
            "\u001b[0;31mImportError\u001b[0m                               Traceback (most recent call last)",
            "\u001b[0;32m<ipython-input-34-bd9d37d4594f>\u001b[0m in \u001b[0;36m<cell line: 1>\u001b[0;34m()\u001b[0m\n\u001b[0;32m----> 1\u001b[0;31m \u001b[0;32mfrom\u001b[0m \u001b[0mpaddleocr\u001b[0m \u001b[0;32mimport\u001b[0m \u001b[0mPaddleOCR\u001b[0m\u001b[0;34m\u001b[0m\u001b[0;34m\u001b[0m\u001b[0m\n\u001b[0m\u001b[1;32m      2\u001b[0m \u001b[0;34m\u001b[0m\u001b[0m\n\u001b[1;32m      3\u001b[0m \u001b[0;31m# ocr = PaddleOCR(lang=\"korean\")\u001b[0m\u001b[0;34m\u001b[0m\u001b[0;34m\u001b[0m\u001b[0m\n\u001b[1;32m      4\u001b[0m \u001b[0;34m\u001b[0m\u001b[0m\n\u001b[1;32m      5\u001b[0m \u001b[0;31m# img_path = \"/content/001z0226397280.jpg\"\u001b[0m\u001b[0;34m\u001b[0m\u001b[0;34m\u001b[0m\u001b[0m\n",
            "\u001b[0;32m/usr/local/lib/python3.10/dist-packages/paddleocr/__init__.py\u001b[0m in \u001b[0;36m<module>\u001b[0;34m\u001b[0m\n\u001b[1;32m     12\u001b[0m \u001b[0;31m# See the License for the specific language governing permissions and\u001b[0m\u001b[0;34m\u001b[0m\u001b[0;34m\u001b[0m\u001b[0m\n\u001b[1;32m     13\u001b[0m \u001b[0;31m# limitations under the License.\u001b[0m\u001b[0;34m\u001b[0m\u001b[0;34m\u001b[0m\u001b[0m\n\u001b[0;32m---> 14\u001b[0;31m \u001b[0;32mfrom\u001b[0m \u001b[0;34m.\u001b[0m\u001b[0mpaddleocr\u001b[0m \u001b[0;32mimport\u001b[0m \u001b[0;34m*\u001b[0m\u001b[0;34m\u001b[0m\u001b[0;34m\u001b[0m\u001b[0m\n\u001b[0m\u001b[1;32m     15\u001b[0m \u001b[0;34m\u001b[0m\u001b[0m\n\u001b[1;32m     16\u001b[0m \u001b[0m__version__\u001b[0m \u001b[0;34m=\u001b[0m \u001b[0mpaddleocr\u001b[0m\u001b[0;34m.\u001b[0m\u001b[0mVERSION\u001b[0m\u001b[0;34m\u001b[0m\u001b[0;34m\u001b[0m\u001b[0m\n",
            "\u001b[0;32m/usr/local/lib/python3.10/dist-packages/paddleocr/paddleocr.py\u001b[0m in \u001b[0;36m<module>\u001b[0;34m\u001b[0m\n\u001b[1;32m     19\u001b[0m \u001b[0m__dir__\u001b[0m \u001b[0;34m=\u001b[0m \u001b[0mos\u001b[0m\u001b[0;34m.\u001b[0m\u001b[0mpath\u001b[0m\u001b[0;34m.\u001b[0m\u001b[0mdirname\u001b[0m\u001b[0;34m(\u001b[0m\u001b[0m__file__\u001b[0m\u001b[0;34m)\u001b[0m\u001b[0;34m\u001b[0m\u001b[0;34m\u001b[0m\u001b[0m\n\u001b[1;32m     20\u001b[0m \u001b[0;34m\u001b[0m\u001b[0m\n\u001b[0;32m---> 21\u001b[0;31m \u001b[0;32mimport\u001b[0m \u001b[0mpaddle\u001b[0m\u001b[0;34m\u001b[0m\u001b[0;34m\u001b[0m\u001b[0m\n\u001b[0m\u001b[1;32m     22\u001b[0m \u001b[0;34m\u001b[0m\u001b[0m\n\u001b[1;32m     23\u001b[0m \u001b[0msys\u001b[0m\u001b[0;34m.\u001b[0m\u001b[0mpath\u001b[0m\u001b[0;34m.\u001b[0m\u001b[0mappend\u001b[0m\u001b[0;34m(\u001b[0m\u001b[0mos\u001b[0m\u001b[0;34m.\u001b[0m\u001b[0mpath\u001b[0m\u001b[0;34m.\u001b[0m\u001b[0mjoin\u001b[0m\u001b[0;34m(\u001b[0m\u001b[0m__dir__\u001b[0m\u001b[0;34m,\u001b[0m \u001b[0;34m''\u001b[0m\u001b[0;34m)\u001b[0m\u001b[0;34m)\u001b[0m\u001b[0;34m\u001b[0m\u001b[0;34m\u001b[0m\u001b[0m\n",
            "\u001b[0;32m/usr/local/lib/python3.10/dist-packages/paddle/__init__.py\u001b[0m in \u001b[0;36m<module>\u001b[0;34m\u001b[0m\n\u001b[1;32m     29\u001b[0m \u001b[0;31m# We need remove the duplicated code here once we fix\u001b[0m\u001b[0;34m\u001b[0m\u001b[0;34m\u001b[0m\u001b[0m\n\u001b[1;32m     30\u001b[0m \u001b[0;31m# the illogical implement in the monkey-patch methods later.\u001b[0m\u001b[0;34m\u001b[0m\u001b[0;34m\u001b[0m\u001b[0m\n\u001b[0;32m---> 31\u001b[0;31m \u001b[0;32mfrom\u001b[0m \u001b[0;34m.\u001b[0m\u001b[0mframework\u001b[0m \u001b[0;32mimport\u001b[0m \u001b[0mmonkey_patch_variable\u001b[0m\u001b[0;34m\u001b[0m\u001b[0;34m\u001b[0m\u001b[0m\n\u001b[0m\u001b[1;32m     32\u001b[0m \u001b[0;32mfrom\u001b[0m \u001b[0;34m.\u001b[0m\u001b[0mframework\u001b[0m \u001b[0;32mimport\u001b[0m \u001b[0mmonkey_patch_math_tensor\u001b[0m\u001b[0;34m\u001b[0m\u001b[0;34m\u001b[0m\u001b[0m\n\u001b[1;32m     33\u001b[0m \u001b[0;34m\u001b[0m\u001b[0m\n",
            "\u001b[0;32m/usr/local/lib/python3.10/dist-packages/paddle/framework/__init__.py\u001b[0m in \u001b[0;36m<module>\u001b[0;34m\u001b[0m\n\u001b[1;32m     15\u001b[0m \u001b[0;31m# TODO: import framework api under this directory\u001b[0m\u001b[0;34m\u001b[0m\u001b[0;34m\u001b[0m\u001b[0m\n\u001b[1;32m     16\u001b[0m \u001b[0;34m\u001b[0m\u001b[0m\n\u001b[0;32m---> 17\u001b[0;31m \u001b[0;32mfrom\u001b[0m \u001b[0;34m.\u001b[0m \u001b[0;32mimport\u001b[0m \u001b[0mrandom\u001b[0m  \u001b[0;31m# noqa: F401\u001b[0m\u001b[0;34m\u001b[0m\u001b[0;34m\u001b[0m\u001b[0m\n\u001b[0m\u001b[1;32m     18\u001b[0m \u001b[0;32mfrom\u001b[0m \u001b[0;34m.\u001b[0m\u001b[0mrandom\u001b[0m \u001b[0;32mimport\u001b[0m \u001b[0mseed\u001b[0m  \u001b[0;31m# noqa: F401\u001b[0m\u001b[0;34m\u001b[0m\u001b[0;34m\u001b[0m\u001b[0m\n\u001b[1;32m     19\u001b[0m \u001b[0;32mfrom\u001b[0m \u001b[0;34m.\u001b[0m\u001b[0mframework\u001b[0m \u001b[0;32mimport\u001b[0m \u001b[0mget_default_dtype\u001b[0m  \u001b[0;31m# noqa: F401\u001b[0m\u001b[0;34m\u001b[0m\u001b[0;34m\u001b[0m\u001b[0m\n",
            "\u001b[0;32m/usr/local/lib/python3.10/dist-packages/paddle/framework/random.py\u001b[0m in \u001b[0;36m<module>\u001b[0;34m\u001b[0m\n\u001b[1;32m     15\u001b[0m \u001b[0;31m# TODO: define random api\u001b[0m\u001b[0;34m\u001b[0m\u001b[0;34m\u001b[0m\u001b[0m\n\u001b[1;32m     16\u001b[0m \u001b[0;32mimport\u001b[0m \u001b[0mpaddle\u001b[0m\u001b[0;34m\u001b[0m\u001b[0;34m\u001b[0m\u001b[0m\n\u001b[0;32m---> 17\u001b[0;31m \u001b[0;32mfrom\u001b[0m \u001b[0mpaddle\u001b[0m \u001b[0;32mimport\u001b[0m \u001b[0mfluid\u001b[0m\u001b[0;34m\u001b[0m\u001b[0;34m\u001b[0m\u001b[0m\n\u001b[0m\u001b[1;32m     18\u001b[0m \u001b[0;32mfrom\u001b[0m \u001b[0mpaddle\u001b[0m\u001b[0;34m.\u001b[0m\u001b[0mfluid\u001b[0m \u001b[0;32mimport\u001b[0m \u001b[0mcore\u001b[0m\u001b[0;34m\u001b[0m\u001b[0;34m\u001b[0m\u001b[0m\n\u001b[1;32m     19\u001b[0m \u001b[0;34m\u001b[0m\u001b[0m\n",
            "\u001b[0;32m/usr/local/lib/python3.10/dist-packages/paddle/fluid/__init__.py\u001b[0m in \u001b[0;36m<module>\u001b[0;34m\u001b[0m\n\u001b[1;32m     34\u001b[0m \u001b[0;34m\u001b[0m\u001b[0m\n\u001b[1;32m     35\u001b[0m \u001b[0;31m# import all class inside framework into fluid module\u001b[0m\u001b[0;34m\u001b[0m\u001b[0;34m\u001b[0m\u001b[0m\n\u001b[0;32m---> 36\u001b[0;31m \u001b[0;32mfrom\u001b[0m \u001b[0;34m.\u001b[0m \u001b[0;32mimport\u001b[0m \u001b[0mframework\u001b[0m\u001b[0;34m\u001b[0m\u001b[0;34m\u001b[0m\u001b[0m\n\u001b[0m\u001b[1;32m     37\u001b[0m \u001b[0;32mfrom\u001b[0m \u001b[0;34m.\u001b[0m\u001b[0mframework\u001b[0m \u001b[0;32mimport\u001b[0m \u001b[0;34m*\u001b[0m\u001b[0;34m\u001b[0m\u001b[0;34m\u001b[0m\u001b[0m\n\u001b[1;32m     38\u001b[0m \u001b[0;34m\u001b[0m\u001b[0m\n",
            "\u001b[0;32m/usr/local/lib/python3.10/dist-packages/paddle/fluid/framework.py\u001b[0m in \u001b[0;36m<module>\u001b[0;34m\u001b[0m\n\u001b[1;32m     33\u001b[0m \u001b[0;32mfrom\u001b[0m \u001b[0;34m.\u001b[0m\u001b[0mproto\u001b[0m \u001b[0;32mimport\u001b[0m \u001b[0mframework_pb2\u001b[0m\u001b[0;34m,\u001b[0m \u001b[0mdata_feed_pb2\u001b[0m\u001b[0;34m\u001b[0m\u001b[0;34m\u001b[0m\u001b[0m\n\u001b[1;32m     34\u001b[0m \u001b[0;34m\u001b[0m\u001b[0m\n\u001b[0;32m---> 35\u001b[0;31m \u001b[0;32mfrom\u001b[0m \u001b[0;34m.\u001b[0m \u001b[0;32mimport\u001b[0m \u001b[0mcore\u001b[0m\u001b[0;34m\u001b[0m\u001b[0;34m\u001b[0m\u001b[0m\n\u001b[0m\u001b[1;32m     36\u001b[0m \u001b[0;32mfrom\u001b[0m \u001b[0;34m.\u001b[0m \u001b[0;32mimport\u001b[0m \u001b[0munique_name\u001b[0m\u001b[0;34m\u001b[0m\u001b[0;34m\u001b[0m\u001b[0m\n\u001b[1;32m     37\u001b[0m \u001b[0;32mimport\u001b[0m \u001b[0mpaddle\u001b[0m\u001b[0;34m.\u001b[0m\u001b[0mversion\u001b[0m \u001b[0;32mas\u001b[0m \u001b[0mfluid_version\u001b[0m\u001b[0;34m\u001b[0m\u001b[0;34m\u001b[0m\u001b[0m\n",
            "\u001b[0;32m/usr/local/lib/python3.10/dist-packages/paddle/fluid/core.py\u001b[0m in \u001b[0;36m<module>\u001b[0;34m\u001b[0m\n\u001b[1;32m    354\u001b[0m             \u001b[0;34m\"you should reinstall paddlepaddle with no-avx core.\\n\"\u001b[0m\u001b[0;34m\u001b[0m\u001b[0;34m\u001b[0m\u001b[0m\n\u001b[1;32m    355\u001b[0m         )\n\u001b[0;32m--> 356\u001b[0;31m     \u001b[0;32mraise\u001b[0m \u001b[0me\u001b[0m\u001b[0;34m\u001b[0m\u001b[0;34m\u001b[0m\u001b[0m\n\u001b[0m\u001b[1;32m    357\u001b[0m \u001b[0;34m\u001b[0m\u001b[0m\n\u001b[1;32m    358\u001b[0m \u001b[0;34m\u001b[0m\u001b[0m\n",
            "\u001b[0;32m/usr/local/lib/python3.10/dist-packages/paddle/fluid/core.py\u001b[0m in \u001b[0;36m<module>\u001b[0;34m\u001b[0m\n\u001b[1;32m    267\u001b[0m \u001b[0;34m\u001b[0m\u001b[0m\n\u001b[1;32m    268\u001b[0m \u001b[0;32mtry\u001b[0m\u001b[0;34m:\u001b[0m\u001b[0;34m\u001b[0m\u001b[0;34m\u001b[0m\u001b[0m\n\u001b[0;32m--> 269\u001b[0;31m     \u001b[0;32mfrom\u001b[0m \u001b[0;34m.\u001b[0m \u001b[0;32mimport\u001b[0m \u001b[0mlibpaddle\u001b[0m\u001b[0;34m\u001b[0m\u001b[0;34m\u001b[0m\u001b[0m\n\u001b[0m\u001b[1;32m    270\u001b[0m \u001b[0;34m\u001b[0m\u001b[0m\n\u001b[1;32m    271\u001b[0m     \u001b[0;32mif\u001b[0m \u001b[0mavx_supported\u001b[0m\u001b[0;34m(\u001b[0m\u001b[0;34m)\u001b[0m \u001b[0;32mand\u001b[0m \u001b[0;32mnot\u001b[0m \u001b[0mlibpaddle\u001b[0m\u001b[0;34m.\u001b[0m\u001b[0mis_compiled_with_avx\u001b[0m\u001b[0;34m(\u001b[0m\u001b[0;34m)\u001b[0m\u001b[0;34m:\u001b[0m\u001b[0;34m\u001b[0m\u001b[0;34m\u001b[0m\u001b[0m\n",
            "\u001b[0;31mImportError\u001b[0m: libssl.so.1.1: cannot open shared object file: No such file or directory",
            "",
            "\u001b[0;31m---------------------------------------------------------------------------\u001b[0;32m\nNOTE: If your import is failing due to a missing package, you can\nmanually install dependencies using either !pip or !apt.\n\nTo view examples of installing some common dependencies, click the\n\"Open Examples\" button below.\n\u001b[0;31m---------------------------------------------------------------------------\u001b[0m\n"
          ],
          "errorDetails": {
            "actions": [
              {
                "action": "open_url",
                "actionText": "Open Examples",
                "url": "/notebooks/snippets/importing_libraries.ipynb"
              }
            ]
          }
        }
      ]
    },
    {
      "cell_type": "code",
      "source": [
        "from main import MyPaddleOCR\n",
        "\n",
        "ocr = MyPaddleOCR()"
      ],
      "metadata": {
        "colab": {
          "base_uri": "https://localhost:8080/",
          "height": 351
        },
        "id": "Vr_wy_0PGrPc",
        "outputId": "953e587c-d01d-4a4f-de94-56af48e7f3c0"
      },
      "execution_count": 30,
      "outputs": [
        {
          "output_type": "error",
          "ename": "ModuleNotFoundError",
          "evalue": "ignored",
          "traceback": [
            "\u001b[0;31m---------------------------------------------------------------------------\u001b[0m",
            "\u001b[0;31mModuleNotFoundError\u001b[0m                       Traceback (most recent call last)",
            "\u001b[0;32m<ipython-input-30-0347d6fcda7e>\u001b[0m in \u001b[0;36m<cell line: 1>\u001b[0;34m()\u001b[0m\n\u001b[0;32m----> 1\u001b[0;31m \u001b[0;32mfrom\u001b[0m \u001b[0mmain\u001b[0m \u001b[0;32mimport\u001b[0m \u001b[0mMyPaddleOCR\u001b[0m\u001b[0;34m\u001b[0m\u001b[0;34m\u001b[0m\u001b[0m\n\u001b[0m\u001b[1;32m      2\u001b[0m \u001b[0;34m\u001b[0m\u001b[0m\n\u001b[1;32m      3\u001b[0m \u001b[0mocr\u001b[0m \u001b[0;34m=\u001b[0m \u001b[0mMyPaddleOCR\u001b[0m\u001b[0;34m(\u001b[0m\u001b[0;34m)\u001b[0m\u001b[0;34m\u001b[0m\u001b[0;34m\u001b[0m\u001b[0m\n",
            "\u001b[0;31mModuleNotFoundError\u001b[0m: No module named 'main'",
            "",
            "\u001b[0;31m---------------------------------------------------------------------------\u001b[0;32m\nNOTE: If your import is failing due to a missing package, you can\nmanually install dependencies using either !pip or !apt.\n\nTo view examples of installing some common dependencies, click the\n\"Open Examples\" button below.\n\u001b[0;31m---------------------------------------------------------------------------\u001b[0m\n"
          ],
          "errorDetails": {
            "actions": [
              {
                "action": "open_url",
                "actionText": "Open Examples",
                "url": "/notebooks/snippets/importing_libraries.ipynb"
              }
            ]
          }
        }
      ]
    },
    {
      "cell_type": "code",
      "source": [
        "img_path = '/content/001z0226397280.jpg'\n",
        "ocr.run_ocr(img_path, debug=True)"
      ],
      "metadata": {
        "id": "Dhfi1ROGGuFH"
      },
      "execution_count": null,
      "outputs": []
    },
    {
      "cell_type": "markdown",
      "source": [
        "### kaka0 pororo"
      ],
      "metadata": {
        "id": "DlLXCyUkH8TL"
      }
    },
    {
      "cell_type": "code",
      "source": [
        "!git clone https://github.com/yunwoong7/korean_ocr_using_pororo"
      ],
      "metadata": {
        "colab": {
          "base_uri": "https://localhost:8080/"
        },
        "id": "aPkPux1cIbYs",
        "outputId": "329c37d5-2b61-44b5-e8f2-67f2c14b4096"
      },
      "execution_count": 39,
      "outputs": [
        {
          "output_type": "stream",
          "name": "stdout",
          "text": [
            "Cloning into 'korean_ocr_using_pororo'...\n",
            "remote: Enumerating objects: 53, done.\u001b[K\n",
            "remote: Counting objects: 100% (53/53), done.\u001b[K\n",
            "remote: Compressing objects: 100% (42/42), done.\u001b[K\n",
            "remote: Total 53 (delta 6), reused 49 (delta 5), pack-reused 0\u001b[K\n",
            "Receiving objects: 100% (53/53), 1.07 MiB | 14.05 MiB/s, done.\n",
            "Resolving deltas: 100% (6/6), done.\n"
          ]
        }
      ]
    },
    {
      "cell_type": "code",
      "source": [
        "!pip install torch\n",
        "!pip install torchvision\n",
        "!pip install opencv-python"
      ],
      "metadata": {
        "colab": {
          "base_uri": "https://localhost:8080/"
        },
        "id": "eBtrUP_NIwfB",
        "outputId": "f032ebd5-8989-4f9f-d52f-db8b0b2e1fa2"
      },
      "execution_count": 42,
      "outputs": [
        {
          "output_type": "stream",
          "name": "stdout",
          "text": [
            "Requirement already satisfied: torch in /usr/local/lib/python3.10/dist-packages (2.0.1+cu118)\n",
            "Requirement already satisfied: filelock in /usr/local/lib/python3.10/dist-packages (from torch) (3.12.2)\n",
            "Requirement already satisfied: typing-extensions in /usr/local/lib/python3.10/dist-packages (from torch) (4.7.1)\n",
            "Requirement already satisfied: sympy in /usr/local/lib/python3.10/dist-packages (from torch) (1.12)\n",
            "Requirement already satisfied: networkx in /usr/local/lib/python3.10/dist-packages (from torch) (3.1)\n",
            "Requirement already satisfied: jinja2 in /usr/local/lib/python3.10/dist-packages (from torch) (3.1.2)\n",
            "Requirement already satisfied: triton==2.0.0 in /usr/local/lib/python3.10/dist-packages (from torch) (2.0.0)\n",
            "Requirement already satisfied: cmake in /usr/local/lib/python3.10/dist-packages (from triton==2.0.0->torch) (3.27.2)\n",
            "Requirement already satisfied: lit in /usr/local/lib/python3.10/dist-packages (from triton==2.0.0->torch) (16.0.6)\n",
            "Requirement already satisfied: MarkupSafe>=2.0 in /usr/local/lib/python3.10/dist-packages (from jinja2->torch) (2.1.3)\n",
            "Requirement already satisfied: mpmath>=0.19 in /usr/local/lib/python3.10/dist-packages (from sympy->torch) (1.3.0)\n",
            "Requirement already satisfied: torchvision in /usr/local/lib/python3.10/dist-packages (0.15.2+cu118)\n",
            "Requirement already satisfied: numpy in /usr/local/lib/python3.10/dist-packages (from torchvision) (1.23.5)\n",
            "Requirement already satisfied: requests in /usr/local/lib/python3.10/dist-packages (from torchvision) (2.31.0)\n",
            "Requirement already satisfied: torch==2.0.1 in /usr/local/lib/python3.10/dist-packages (from torchvision) (2.0.1+cu118)\n",
            "Requirement already satisfied: pillow!=8.3.*,>=5.3.0 in /usr/local/lib/python3.10/dist-packages (from torchvision) (9.4.0)\n",
            "Requirement already satisfied: filelock in /usr/local/lib/python3.10/dist-packages (from torch==2.0.1->torchvision) (3.12.2)\n",
            "Requirement already satisfied: typing-extensions in /usr/local/lib/python3.10/dist-packages (from torch==2.0.1->torchvision) (4.7.1)\n",
            "Requirement already satisfied: sympy in /usr/local/lib/python3.10/dist-packages (from torch==2.0.1->torchvision) (1.12)\n",
            "Requirement already satisfied: networkx in /usr/local/lib/python3.10/dist-packages (from torch==2.0.1->torchvision) (3.1)\n",
            "Requirement already satisfied: jinja2 in /usr/local/lib/python3.10/dist-packages (from torch==2.0.1->torchvision) (3.1.2)\n",
            "Requirement already satisfied: triton==2.0.0 in /usr/local/lib/python3.10/dist-packages (from torch==2.0.1->torchvision) (2.0.0)\n",
            "Requirement already satisfied: cmake in /usr/local/lib/python3.10/dist-packages (from triton==2.0.0->torch==2.0.1->torchvision) (3.27.2)\n",
            "Requirement already satisfied: lit in /usr/local/lib/python3.10/dist-packages (from triton==2.0.0->torch==2.0.1->torchvision) (16.0.6)\n",
            "Requirement already satisfied: charset-normalizer<4,>=2 in /usr/local/lib/python3.10/dist-packages (from requests->torchvision) (3.2.0)\n",
            "Requirement already satisfied: idna<4,>=2.5 in /usr/local/lib/python3.10/dist-packages (from requests->torchvision) (3.4)\n",
            "Requirement already satisfied: urllib3<3,>=1.21.1 in /usr/local/lib/python3.10/dist-packages (from requests->torchvision) (2.0.4)\n",
            "Requirement already satisfied: certifi>=2017.4.17 in /usr/local/lib/python3.10/dist-packages (from requests->torchvision) (2023.7.22)\n",
            "Requirement already satisfied: MarkupSafe>=2.0 in /usr/local/lib/python3.10/dist-packages (from jinja2->torch==2.0.1->torchvision) (2.1.3)\n",
            "Requirement already satisfied: mpmath>=0.19 in /usr/local/lib/python3.10/dist-packages (from sympy->torch==2.0.1->torchvision) (1.3.0)\n",
            "Requirement already satisfied: opencv-python in /usr/local/lib/python3.10/dist-packages (4.6.0.66)\n",
            "Requirement already satisfied: numpy>=1.21.2 in /usr/local/lib/python3.10/dist-packages (from opencv-python) (1.23.5)\n"
          ]
        }
      ]
    },
    {
      "cell_type": "code",
      "source": [
        "!pip install pororo"
      ],
      "metadata": {
        "colab": {
          "base_uri": "https://localhost:8080/"
        },
        "id": "hwtOzs2zJIpq",
        "outputId": "ad50de9b-50b1-4886-edc8-517c30541ef6"
      },
      "execution_count": 46,
      "outputs": [
        {
          "output_type": "stream",
          "name": "stdout",
          "text": [
            "Collecting pororo\n",
            "  Using cached pororo-0.4.2-py3-none-any.whl (256 kB)\n",
            "INFO: pip is looking at multiple versions of pororo to determine which version is compatible with other requirements. This could take a while.\n",
            "  Using cached pororo-0.4.1-py3-none-any.whl (253 kB)\n",
            "  Using cached pororo-0.4.0-py3-none-any.whl (253 kB)\n",
            "  Using cached pororo-0.3.5-py3-none-any.whl (253 kB)\n",
            "  Using cached pororo-0.3.4-py3-none-any.whl (216 kB)\n",
            "  Using cached pororo-0.3.3-py3-none-any.whl (215 kB)\n",
            "  Using cached pororo-0.3.2-py3-none-any.whl (212 kB)\n",
            "  Using cached pororo-0.3.1-py3-none-any.whl (211 kB)\n",
            "INFO: pip is looking at multiple versions of pororo to determine which version is compatible with other requirements. This could take a while.\n",
            "\u001b[31mERROR: Cannot install pororo==0.3.1, pororo==0.3.2, pororo==0.3.3, pororo==0.3.4, pororo==0.3.5, pororo==0.4.0, pororo==0.4.1 and pororo==0.4.2 because these package versions have conflicting dependencies.\u001b[0m\u001b[31m\n",
            "\u001b[0m\n",
            "The conflict is caused by:\n",
            "    pororo 0.4.2 depends on torch==1.6.0\n",
            "    pororo 0.4.1 depends on torch==1.6.0\n",
            "    pororo 0.4.0 depends on torch==1.6.0\n",
            "    pororo 0.3.5 depends on torch==1.6.0\n",
            "    pororo 0.3.4 depends on torch==1.6.0\n",
            "    pororo 0.3.3 depends on torch==1.6.0\n",
            "    pororo 0.3.2 depends on torch==1.6.0\n",
            "    pororo 0.3.1 depends on torch==1.6.0\n",
            "\n",
            "To fix this you could try to:\n",
            "1. loosen the range of package versions you've specified\n",
            "2. remove package versions to allow pip attempt to solve the dependency conflict\n",
            "\n",
            "\u001b[31mERROR: ResolutionImpossible: for help visit https://pip.pypa.io/en/latest/topics/dependency-resolution/#dealing-with-dependency-conflicts\u001b[0m\u001b[31m\n",
            "\u001b[0m"
          ]
        }
      ]
    },
    {
      "cell_type": "code",
      "source": [
        "from pororo import Pororo"
      ],
      "metadata": {
        "colab": {
          "base_uri": "https://localhost:8080/",
          "height": 317
        },
        "id": "kX9OxWlVJGKq",
        "outputId": "ac8af603-d654-4730-fda5-d993ee695625"
      },
      "execution_count": 45,
      "outputs": [
        {
          "output_type": "error",
          "ename": "ModuleNotFoundError",
          "evalue": "ignored",
          "traceback": [
            "\u001b[0;31m---------------------------------------------------------------------------\u001b[0m",
            "\u001b[0;31mModuleNotFoundError\u001b[0m                       Traceback (most recent call last)",
            "\u001b[0;32m<ipython-input-45-aee0eea85565>\u001b[0m in \u001b[0;36m<cell line: 1>\u001b[0;34m()\u001b[0m\n\u001b[0;32m----> 1\u001b[0;31m \u001b[0;32mfrom\u001b[0m \u001b[0mpororo\u001b[0m \u001b[0;32mimport\u001b[0m \u001b[0mPororo\u001b[0m\u001b[0;34m\u001b[0m\u001b[0;34m\u001b[0m\u001b[0m\n\u001b[0m",
            "\u001b[0;31mModuleNotFoundError\u001b[0m: No module named 'pororo'",
            "",
            "\u001b[0;31m---------------------------------------------------------------------------\u001b[0;32m\nNOTE: If your import is failing due to a missing package, you can\nmanually install dependencies using either !pip or !apt.\n\nTo view examples of installing some common dependencies, click the\n\"Open Examples\" button below.\n\u001b[0;31m---------------------------------------------------------------------------\u001b[0m\n"
          ],
          "errorDetails": {
            "actions": [
              {
                "action": "open_url",
                "actionText": "Open Examples",
                "url": "/notebooks/snippets/importing_libraries.ipynb"
              }
            ]
          }
        }
      ]
    },
    {
      "cell_type": "code",
      "source": [
        "from pororo import Pororo\n",
        "\n",
        "ocr = PororoOcr()\n",
        "image_path = input(\"/content/001z0226397280.jpg\")\n",
        "text = ocr.run_ocr(image_path, debug=True)\n",
        "print('Result :', text)"
      ],
      "metadata": {
        "colab": {
          "base_uri": "https://localhost:8080/",
          "height": 386
        },
        "id": "MGcjZAwMIyGc",
        "outputId": "b49d14b9-dcf1-4123-e2de-8099f39fd463"
      },
      "execution_count": 47,
      "outputs": [
        {
          "output_type": "error",
          "ename": "ModuleNotFoundError",
          "evalue": "ignored",
          "traceback": [
            "\u001b[0;31m---------------------------------------------------------------------------\u001b[0m",
            "\u001b[0;31mModuleNotFoundError\u001b[0m                       Traceback (most recent call last)",
            "\u001b[0;32m<ipython-input-47-1291bfa1acd5>\u001b[0m in \u001b[0;36m<cell line: 1>\u001b[0;34m()\u001b[0m\n\u001b[0;32m----> 1\u001b[0;31m \u001b[0;32mfrom\u001b[0m \u001b[0mpororo\u001b[0m \u001b[0;32mimport\u001b[0m \u001b[0mPororo\u001b[0m\u001b[0;34m\u001b[0m\u001b[0;34m\u001b[0m\u001b[0m\n\u001b[0m\u001b[1;32m      2\u001b[0m \u001b[0;34m\u001b[0m\u001b[0m\n\u001b[1;32m      3\u001b[0m \u001b[0mocr\u001b[0m \u001b[0;34m=\u001b[0m \u001b[0mPororoOcr\u001b[0m\u001b[0;34m(\u001b[0m\u001b[0;34m)\u001b[0m\u001b[0;34m\u001b[0m\u001b[0;34m\u001b[0m\u001b[0m\n\u001b[1;32m      4\u001b[0m \u001b[0mimage_path\u001b[0m \u001b[0;34m=\u001b[0m \u001b[0minput\u001b[0m\u001b[0;34m(\u001b[0m\u001b[0;34m\"/content/001z0226397280.jpg\"\u001b[0m\u001b[0;34m)\u001b[0m\u001b[0;34m\u001b[0m\u001b[0;34m\u001b[0m\u001b[0m\n\u001b[1;32m      5\u001b[0m \u001b[0mtext\u001b[0m \u001b[0;34m=\u001b[0m \u001b[0mocr\u001b[0m\u001b[0;34m.\u001b[0m\u001b[0mrun_ocr\u001b[0m\u001b[0;34m(\u001b[0m\u001b[0mimage_path\u001b[0m\u001b[0;34m,\u001b[0m \u001b[0mdebug\u001b[0m\u001b[0;34m=\u001b[0m\u001b[0;32mTrue\u001b[0m\u001b[0;34m)\u001b[0m\u001b[0;34m\u001b[0m\u001b[0;34m\u001b[0m\u001b[0m\n",
            "\u001b[0;31mModuleNotFoundError\u001b[0m: No module named 'pororo'",
            "",
            "\u001b[0;31m---------------------------------------------------------------------------\u001b[0;32m\nNOTE: If your import is failing due to a missing package, you can\nmanually install dependencies using either !pip or !apt.\n\nTo view examples of installing some common dependencies, click the\n\"Open Examples\" button below.\n\u001b[0;31m---------------------------------------------------------------------------\u001b[0m\n"
          ],
          "errorDetails": {
            "actions": [
              {
                "action": "open_url",
                "actionText": "Open Examples",
                "url": "/notebooks/snippets/importing_libraries.ipynb"
              }
            ]
          }
        }
      ]
    },
    {
      "cell_type": "code",
      "source": [
        "IMAGE_PATH = \"assets/images/test_image_1.jpg\"\n",
        "ocr = Pororo(task=\"ocr\", lang=\"ko\")\n",
        "ocr(IMAGE_PATH)"
      ],
      "metadata": {
        "colab": {
          "base_uri": "https://localhost:8080/",
          "height": 213
        },
        "id": "9DfeB8wqI_0c",
        "outputId": "6be38d7c-3864-4863-c7a4-dc73a9d2d163"
      },
      "execution_count": 44,
      "outputs": [
        {
          "output_type": "error",
          "ename": "NameError",
          "evalue": "ignored",
          "traceback": [
            "\u001b[0;31m---------------------------------------------------------------------------\u001b[0m",
            "\u001b[0;31mNameError\u001b[0m                                 Traceback (most recent call last)",
            "\u001b[0;32m<ipython-input-44-0a059e92390f>\u001b[0m in \u001b[0;36m<cell line: 2>\u001b[0;34m()\u001b[0m\n\u001b[1;32m      1\u001b[0m \u001b[0mIMAGE_PATH\u001b[0m \u001b[0;34m=\u001b[0m \u001b[0;34m\"assets/images/test_image_1.jpg\"\u001b[0m\u001b[0;34m\u001b[0m\u001b[0;34m\u001b[0m\u001b[0m\n\u001b[0;32m----> 2\u001b[0;31m \u001b[0mocr\u001b[0m \u001b[0;34m=\u001b[0m \u001b[0mPororo\u001b[0m\u001b[0;34m(\u001b[0m\u001b[0mtask\u001b[0m\u001b[0;34m=\u001b[0m\u001b[0;34m\"ocr\"\u001b[0m\u001b[0;34m,\u001b[0m \u001b[0mlang\u001b[0m\u001b[0;34m=\u001b[0m\u001b[0;34m\"ko\"\u001b[0m\u001b[0;34m)\u001b[0m\u001b[0;34m\u001b[0m\u001b[0;34m\u001b[0m\u001b[0m\n\u001b[0m\u001b[1;32m      3\u001b[0m \u001b[0mocr\u001b[0m\u001b[0;34m(\u001b[0m\u001b[0mIMAGE_PATH\u001b[0m\u001b[0;34m)\u001b[0m\u001b[0;34m\u001b[0m\u001b[0;34m\u001b[0m\u001b[0m\n",
            "\u001b[0;31mNameError\u001b[0m: name 'Pororo' is not defined"
          ]
        }
      ]
    },
    {
      "cell_type": "markdown",
      "source": [
        "### bb"
      ],
      "metadata": {
        "id": "P3ADoXfqJ-7H"
      }
    },
    {
      "cell_type": "code",
      "source": [],
      "metadata": {
        "id": "PeQzBjbaJefk"
      },
      "execution_count": null,
      "outputs": []
    }
  ]
}