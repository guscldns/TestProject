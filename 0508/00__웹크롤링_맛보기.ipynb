{
  "nbformat": 4,
  "nbformat_minor": 0,
  "metadata": {
    "colab": {
      "provenance": [],
      "authorship_tag": "ABX9TyPfpuhCzy7Yl8WK+oPkZrIV",
      "include_colab_link": true
    },
    "kernelspec": {
      "name": "python3",
      "display_name": "Python 3"
    },
    "language_info": {
      "name": "python"
    }
  },
  "cells": [
    {
      "cell_type": "markdown",
      "metadata": {
        "id": "view-in-github",
        "colab_type": "text"
      },
      "source": [
        "<a href=\"https://colab.research.google.com/github/guscldns/TestProject/blob/main/0508/00__%EC%9B%B9%ED%81%AC%EB%A1%A4%EB%A7%81_%EB%A7%9B%EB%B3%B4%EA%B8%B0.ipynb\" target=\"_parent\"><img src=\"https://colab.research.google.com/assets/colab-badge.svg\" alt=\"Open In Colab\"/></a>"
      ]
    },
    {
      "cell_type": "code",
      "execution_count": 1,
      "metadata": {
        "id": "QW6eK0olBARA"
      },
      "outputs": [],
      "source": [
        "# 크롤링 2단계 get , select\n",
        "import requests\n",
        "from bs4 import BeautifulSoup\n"
      ]
    },
    {
      "cell_type": "code",
      "source": [
        "# 1단계 : get\n",
        "# requests.get(url) / <Response [200]> 뜨면 됨 / 200 : 요청 승인, 정보 나간다는 뜻 / 4로 시작하면 실패했다는 뜻\n",
        "url = \"https://search.naver.com/search.naver?where=news&sm=tab_pge&query=%EC%B9%B4%EC%B9%B4%EC%98%A4%ED%86%A1&sort=0&photo=0&field=0&pd=0&ds=&de=&cluster_rank=66&mynews=0&office_type=0&office_section_code=0&news_office_checked=&nso=so:r,p:all,a:all&start=1\"\n",
        "# url은 문자열로 해야 함\n",
        "resp = requests.get(url)\n",
        "resp # Response 의 200코드를 준것"
      ],
      "metadata": {
        "colab": {
          "base_uri": "https://localhost:8080/"
        },
        "id": "o4WyqeDkBl85",
        "outputId": "74f0ae8b-9c26-4937-8c14-e436f5c5b442"
      },
      "execution_count": 5,
      "outputs": [
        {
          "output_type": "execute_result",
          "data": {
            "text/plain": [
              "<Response [200]>"
            ]
          },
          "metadata": {},
          "execution_count": 5
        }
      ]
    },
    {
      "cell_type": "code",
      "source": [
        "# 2단계 : select\n",
        "# html.select(원하는 태그 표현 : 계층구조, 속성을 이용)\n",
        "\n",
        "# html = resp.content # 이게(resp.content) html\n",
        "# html.select()해도 못가져옴\n",
        "# soup = BeautifulSoup(html) > # BeautifulSoup(html): BS으로 형변환 : select 함수를 적용하기 위해\n",
        "\n",
        "soup = BeautifulSoup(resp.content, 'lxml') # 이렇게 하면 한 줄로 쓸 수 있음(soup = BeautifulSoup(resp.content))\n",
        "# 두줄\n",
        "# html = resp.content\n",
        "# soup = BeautifulSoup(html)\n",
        "# 'lxml' : 내부적으로 파싱해 오는 프로그램, BeautifulSoup 에서 3가지 프로그램 제공, 그 중에 lxml 있음(속도가 제일 빠름)\n",
        "# 여기까지 외워서 쓸 정도 되야 함 // 여기까지는 똑같음, 이 이후가 select 단계, 상황따라 변경해서 사용\n",
        "\n",
        "a_tags = soup.select('a.news_tit') # a.news_tit : 클래스가 news_tit인 a 태그, \n",
        "# ↓ a 태그에서 title이라는 속성만 지정하기  : dictionary 처럼 생각하라\n",
        "\n",
        "for a_tags in a_tags:\n",
        "    print(a_tags['title'],a_tags['href']) # 'href': url    \n"
      ],
      "metadata": {
        "colab": {
          "base_uri": "https://localhost:8080/"
        },
        "id": "Iw7D3NB3CT_c",
        "outputId": "d01bfc13-c5cd-4293-8cf2-796bbe61f24a"
      },
      "execution_count": 93,
      "outputs": [
        {
          "output_type": "stream",
          "name": "stdout",
          "text": [
            "카카오톡, 한때 접속 장애…모바일·PC 19분간 '먹통'(종합) https://www.yna.co.kr/view/AKR20230508084951017?input=1195m\n",
            "[속보] 카카오톡 또 ‘먹통’…카카오 “장애 원인 파악 중” https://www.mk.co.kr/article/10730702\n",
            "[속보] 카카오톡 또 오류…모바일·PC 먹통 http://www.newsis.com/view/?id=NISX20230508_0002294377&cID=13006&pID=13100\n",
            "카카오톡 또 먹통…19분 만에 복구 뒤 “원인 파악 중” https://www.hani.co.kr/arti/economy/it/1090879.html\n",
            "19분간 '먹통'된 카카오톡, 현재는 정상화 돼 http://www.fnnews.com/news/202305081407582911\n",
            "카카오톡 또 메시지 전송 오류...20분 만에 복구 https://www.ytn.co.kr/_ln/0103_202305081424426357\n",
            "카카오톡, 오후 1시 반쯤부터 접속 장애…\"확인 중\" https://news.sbs.co.kr/news/endPage.do?news_id=N1007183025&plink=ORI&cooper=NAVER\n",
            "\"카카오톡 또 먹통\"…보안 관련주 장중 급등 http://www.wowtv.co.kr/NewsCenter/News/Read?articleId=A202305080188&t=NN\n",
            "카카오톡 19분간 장애…\"원인 파악 중\" http://www.edaily.co.kr/news/newspath.asp?newsid=02827366635606952\n",
            "카카오톡 왜 이러나...또 먹통에 이용자들 불만 폭발 https://magazine.hankyung.com/business/article/202305089396b\n"
          ]
        }
      ]
    },
    {
      "cell_type": "code",
      "source": [
        "soup = BeautifulSoup(resp.content, 'lxml')\n",
        "\n",
        "# 클래스가 news_tit인 a태그\n",
        "a_tags = soup.select('a.news_tit')\n",
        "\n",
        "# news_info = {}\n",
        "\n",
        "titles, urls = [], []\n",
        "\n",
        "for a_tag in a_tags:\n",
        "    # TAG에서 속성만 지정하기 => dictionary처럼\n",
        "    titles.append(a_tag['title'])        \n",
        "    urls.append(a_tag['href'])        \n",
        "\n",
        "news_info = {'제목' : titles, \n",
        "             '링크' : urls}\n",
        "news_info\n",
        "# 참고 alt+shift + ↓ 하면 아래로 복사된다 '\n",
        "# 커서 가져다대고 ctrl+c /v\n",
        "# 커서 처음에 놓고 alt+ shift 누르고 끝에 누르면 한번에 드래그 됨 "
      ],
      "metadata": {
        "colab": {
          "base_uri": "https://localhost:8080/"
        },
        "id": "Sqjf9nq2Lt3o",
        "outputId": "2a4b04fb-4933-4079-93e9-46ccd93effb8"
      },
      "execution_count": 100,
      "outputs": [
        {
          "output_type": "execute_result",
          "data": {
            "text/plain": [
              "{'제목': [\"카카오톡, 한때 접속 장애…모바일·PC 19분간 '먹통'(종합)\",\n",
              "  '[속보] 카카오톡 또 ‘먹통’…카카오 “장애 원인 파악 중”',\n",
              "  '[속보] 카카오톡 또 오류…모바일·PC 먹통',\n",
              "  '카카오톡 또 먹통…19분 만에 복구 뒤 “원인 파악 중”',\n",
              "  \"19분간 '먹통'된 카카오톡, 현재는 정상화 돼\",\n",
              "  '카카오톡 또 메시지 전송 오류...20분 만에 복구',\n",
              "  '카카오톡, 오후 1시 반쯤부터 접속 장애…\"확인 중\"',\n",
              "  '\"카카오톡 또 먹통\"…보안 관련주 장중 급등',\n",
              "  '카카오톡 19분간 장애…\"원인 파악 중\"',\n",
              "  '카카오톡 왜 이러나...또 먹통에 이용자들 불만 폭발'],\n",
              " '링크': ['https://www.yna.co.kr/view/AKR20230508084951017?input=1195m',\n",
              "  'https://www.mk.co.kr/article/10730702',\n",
              "  'http://www.newsis.com/view/?id=NISX20230508_0002294377&cID=13006&pID=13100',\n",
              "  'https://www.hani.co.kr/arti/economy/it/1090879.html',\n",
              "  'http://www.fnnews.com/news/202305081407582911',\n",
              "  'https://www.ytn.co.kr/_ln/0103_202305081424426357',\n",
              "  'https://news.sbs.co.kr/news/endPage.do?news_id=N1007183025&plink=ORI&cooper=NAVER',\n",
              "  'http://www.wowtv.co.kr/NewsCenter/News/Read?articleId=A202305080188&t=NN',\n",
              "  'http://www.edaily.co.kr/news/newspath.asp?newsid=02827366635606952',\n",
              "  'https://magazine.hankyung.com/business/article/202305089396b']}"
            ]
          },
          "metadata": {},
          "execution_count": 100
        }
      ]
    },
    {
      "cell_type": "code",
      "source": [
        "import pandas as pd\n",
        "\n",
        "df_news = pd.DataFrame(news_info)\n",
        "df_news.to_csv('카카오톡_기사정보(2023.5.8.csv', encoding='utf-8-sig', index=False)\n"
      ],
      "metadata": {
        "id": "lJBacSQOQvEu"
      },
      "execution_count": null,
      "outputs": []
    },
    {
      "cell_type": "code",
      "source": [
        "soup.select('a.keyword') # 연관 검색어"
      ],
      "metadata": {
        "colab": {
          "base_uri": "https://localhost:8080/"
        },
        "id": "VW47SUIFDvEX",
        "outputId": "66ee5cb6-2a19-4777-b3e8-c1ebcbf19b01"
      },
      "execution_count": 32,
      "outputs": [
        {
          "output_type": "execute_result",
          "data": {
            "text/plain": [
              "[<a class=\"keyword\" href=\"?where=news&amp;query=%EC%B9%B4%EC%B9%B4%EC%98%A4%ED%86%A1+%EC%9D%B4%EB%AA%A8%ED%8B%B0%EC%BD%98%EC%83%B5&amp;ie=utf8&amp;sm=tab_she&amp;qdt=0\" onclick=\"return goOtherCR(this, 'a=rsk_top*q.list1&amp;r=1&amp;u=' + urlencode(this.href))\"> <div class=\"tit\">카카오톡 이모티콘샵</div> </a>,\n",
              " <a class=\"keyword\" href=\"?where=news&amp;query=%EC%B9%B4%EC%B9%B4%EC%98%A4%ED%86%A1+%EC%9D%B4%EB%AA%A8%ED%8B%B0%EC%BD%98&amp;ie=utf8&amp;sm=tab_she&amp;qdt=0\" onclick=\"return goOtherCR(this, 'a=rsk_top*a.list1&amp;r=2&amp;u=' + urlencode(this.href))\"> <div class=\"tit\">카카오톡 이모티콘</div> </a>,\n",
              " <a class=\"keyword\" href=\"?where=news&amp;query=%EC%B9%B4%EC%B9%B4%EC%98%A4%ED%86%A1+%EB%B0%B1%EC%97%85&amp;ie=utf8&amp;sm=tab_she&amp;qdt=0\" onclick=\"return goOtherCR(this, 'a=rsk_top*a.list1&amp;r=3&amp;u=' + urlencode(this.href))\"> <div class=\"tit\">카카오톡 백업</div> </a>,\n",
              " <a class=\"keyword\" href=\"?where=news&amp;query=%EC%B9%B4%EC%B9%B4%EC%98%A4%ED%86%A1+%EC%B0%A8%EB%8B%A8+%ED%99%95%EC%9D%B8%EB%B0%A9%EB%B2%95&amp;ie=utf8&amp;sm=tab_she&amp;qdt=0\" onclick=\"return goOtherCR(this, 'a=rsk_top*a.list1&amp;r=4&amp;u=' + urlencode(this.href))\"> <div class=\"tit\">카카오톡 차단 확인방법</div> </a>,\n",
              " <a class=\"keyword\" href=\"?where=news&amp;query=%EC%B9%B4%EC%B9%B4%EC%98%A4%ED%86%A1+%EA%B3%A0%EA%B0%9D%EC%84%BC%ED%84%B0&amp;ie=utf8&amp;sm=tab_she&amp;qdt=0\" onclick=\"return goOtherCR(this, 'a=rsk_top*q.list1&amp;r=5&amp;u=' + urlencode(this.href))\"> <div class=\"tit\">카카오톡 고객센터</div> </a>,\n",
              " <a class=\"keyword\" href=\"?where=news&amp;query=%EC%B9%B4%EC%B9%B4%EC%98%A4%ED%86%A1+%EC%84%A0%EB%AC%BC%ED%95%98%EA%B8%B0+%ED%99%98%EB%B6%88&amp;ie=utf8&amp;sm=tab_she&amp;qdt=0\" onclick=\"return goOtherCR(this, 'a=rsk_top*a.list1&amp;r=6&amp;u=' + urlencode(this.href))\"> <div class=\"tit\">카카오톡 선물하기 환불</div> </a>,\n",
              " <a class=\"keyword\" href=\"?where=news&amp;query=%EC%B9%B4%EC%B9%B4%EC%98%A4%ED%86%A1+%EB%A1%9C%EA%B7%B8%EC%95%84%EC%9B%83&amp;ie=utf8&amp;sm=tab_she&amp;qdt=0\" onclick=\"return goOtherCR(this, 'a=rsk_top*a.list1&amp;r=7&amp;u=' + urlencode(this.href))\"> <div class=\"tit\">카카오톡 로그아웃</div> </a>,\n",
              " <a class=\"keyword\" href=\"?where=news&amp;query=%EC%B9%B4%EC%B9%B4%EC%98%A4%ED%86%A1+%EB%A9%80%ED%8B%B0%ED%94%84%EB%A1%9C%ED%95%84&amp;ie=utf8&amp;sm=tab_she&amp;qdt=0\" onclick=\"return goOtherCR(this, 'a=rsk_top*a.list1&amp;r=8&amp;u=' + urlencode(this.href))\"> <div class=\"tit\">카카오톡 멀티프로필</div> </a>,\n",
              " <a class=\"keyword\" href=\"?where=news&amp;query=%EC%B9%B4%EC%B9%B4%EC%98%A4%ED%86%A1+%EB%AC%B4%EB%A3%8C+%EC%9D%B4%EB%AA%A8%ED%8B%B0%EC%BD%98&amp;ie=utf8&amp;sm=tab_she&amp;qdt=0\" onclick=\"return goOtherCR(this, 'a=rsk_top*a.list1&amp;r=9&amp;u=' + urlencode(this.href))\"> <div class=\"tit\">카카오톡 무료 이모티콘</div> </a>,\n",
              " <a class=\"keyword\" href=\"?where=news&amp;query=%EC%B9%B4%EC%B9%B4%EC%98%A4%ED%86%A1+%EC%84%A0%EB%AC%BC%ED%95%98%EA%B8%B0&amp;ie=utf8&amp;sm=tab_she&amp;qdt=0\" onclick=\"return goOtherCR(this, 'a=rsk_top*a.list1&amp;r=10&amp;u=' + urlencode(this.href))\"> <div class=\"tit\">카카오톡 선물하기</div> </a>]"
            ]
          },
          "metadata": {},
          "execution_count": 32
        }
      ]
    },
    {
      "cell_type": "code",
      "source": [
        "# 연관검색어\n",
        "import requests\n",
        "from bs4 import BeautifulSoup\n",
        "\n",
        "url = \"https://search.naver.com/search.naver?where=news&sm=tab_pge&query=%EC%B9%B4%EC%B9%B4%EC%98%A4%ED%86%A1&sort=0&photo=0&field=0&pd=0&ds=&de=&cluster_rank=66&mynews=0&office_type=0&office_section_code=0&news_office_checked=&nso=so:r,p:all,a:all&start=1\"\n",
        "resp = requests.get(url)"
      ],
      "metadata": {
        "id": "h5pYdqAMSMa7"
      },
      "execution_count": null,
      "outputs": []
    },
    {
      "cell_type": "code",
      "source": [
        "soup = BeautifulSoup(resp.content, 'lxml')\n",
        "key_tags = soup.select('div.tit') # 'div.tit' :클래스가 tit인 div 태그\n",
        "len(key_tags) # 가져와야 할 것이 10개 인데 len 10이면 얼추 맞는다\n",
        "# 클래스가 tit인 div 태그 하나를 확인했는데 해당 태그에 맞는 데이터 가져왔으니 그 태그를 모두 정확하게 가져왔을 것이다\n",
        "# >> len 하고 끝냄(강사님)\n"
      ],
      "metadata": {
        "colab": {
          "base_uri": "https://localhost:8080/"
        },
        "id": "Af-tIjHyS-GQ",
        "outputId": "f89fa6e1-6fe7-4181-f671-e24bf0fe5dc2"
      },
      "execution_count": 79,
      "outputs": [
        {
          "output_type": "execute_result",
          "data": {
            "text/plain": [
              "10"
            ]
          },
          "metadata": {},
          "execution_count": 79
        }
      ]
    },
    {
      "cell_type": "code",
      "source": [
        "# 2번째 루틴\n",
        "# 클래스가 tit인 div 태그가 불안하면 계층 구조로 간다\n",
        "# 상위에 클래스나 id를 보는데, id는 공통 조상이여야 함 >> 바로 위에 class가 있는 태그 가져오면 됨 \n",
        "# keyword라는 클래스를 가진 tit태그 불러오면 됨 > 불안하면 더 상위의 lst_related_srch _list_box 가져옴\n",
        "# select 문구에서 스페이스는 상위에 포함된 하위 태그라는 뜻(상위 태그와 하위 태그의 구분자)\n",
        "# soup.select('ul div.tit') : tit 클래스의 ul태그의 하위인 div태그\n",
        "# soup.select('ul.lst_related_srch _list_box div.tit') >> lst_related_srch 클래스의 ul 태그의 하위 태그인 _list_box의 하위 태그인 div\n",
        "# 중간에 스페이스가 있어서 하위 태그를 못찾아서 오류남\n",
        "# ul태그에 클래스가 2개인 것을 html에서 스페이스 구분자로 함. >> 스페이스대신 . 찍으면 됨\n",
        "# 그러나 클래스 하나만 있어도 유니크 할 때 뒤에 2개까지 가져올 필요는 없다\n",
        "soup.select('ul.lst_related_srch div.tit') # 스페이스 뒤에 있는 클래스 이름 안적어도 가져왔음\n",
        "len(key_tags)"
      ],
      "metadata": {
        "colab": {
          "base_uri": "https://localhost:8080/"
        },
        "id": "t0AKxlekUKgO",
        "outputId": "a49e7326-907a-4329-c4ae-dcf7daead288"
      },
      "execution_count": 83,
      "outputs": [
        {
          "output_type": "execute_result",
          "data": {
            "text/plain": [
              "10"
            ]
          },
          "metadata": {},
          "execution_count": 83
        }
      ]
    },
    {
      "cell_type": "code",
      "source": [
        "for key_tag in key_tags:\n",
        "    print(key_tag.text) # 시작태그와 끝태그 사이에 있는 text"
      ],
      "metadata": {
        "colab": {
          "base_uri": "https://localhost:8080/"
        },
        "id": "g3osKjWmWK6_",
        "outputId": "c8387566-e1ce-40a4-a664-2a2f8f0917da"
      },
      "execution_count": 84,
      "outputs": [
        {
          "output_type": "stream",
          "name": "stdout",
          "text": [
            "카카오톡 이모티콘샵\n",
            "카카오톡 이모티콘\n",
            "카카오톡 백업\n",
            "카카오톡 차단 확인방법\n",
            "카카오톡 고객센터\n",
            "카카오톡 선물하기 환불\n",
            "카카오톡 로그아웃\n",
            "카카오톡 멀티프로필\n",
            "카카오톡 무료 이모티콘\n",
            "카카오톡 선물하기\n"
          ]
        }
      ]
    },
    {
      "cell_type": "code",
      "source": [],
      "metadata": {
        "id": "DSAybSS5Wimu"
      },
      "execution_count": null,
      "outputs": []
    }
  ]
}