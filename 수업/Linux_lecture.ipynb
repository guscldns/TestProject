{
  "nbformat": 4,
  "nbformat_minor": 0,
  "metadata": {
    "colab": {
      "provenance": [],
      "authorship_tag": "ABX9TyPlhqYgA66aYhcA+dpt1QTk",
      "include_colab_link": true
    },
    "kernelspec": {
      "name": "python3",
      "display_name": "Python 3"
    },
    "language_info": {
      "name": "python"
    }
  },
  "cells": [
    {
      "cell_type": "markdown",
      "metadata": {
        "id": "view-in-github",
        "colab_type": "text"
      },
      "source": [
        "<a href=\"https://colab.research.google.com/github/guscldns/TestProject/blob/main/%EC%88%98%EC%97%85/Linux_lecture.ipynb\" target=\"_parent\"><img src=\"https://colab.research.google.com/assets/colab-badge.svg\" alt=\"Open In Colab\"/></a>"
      ]
    },
    {
      "cell_type": "code",
      "execution_count": null,
      "metadata": {
        "colab": {
          "base_uri": "https://localhost:8080/"
        },
        "id": "NIZ5GF0xy9is",
        "outputId": "24363ef6-9774-40bf-e2ef-a6182f4eb950"
      },
      "outputs": [
        {
          "output_type": "stream",
          "name": "stdout",
          "text": [
            "/content\n"
          ]
        }
      ],
      "source": [
        "# 현재 작업디렉토리 경로\n",
        "!pwd # ! 한번 명령 내리는 거"
      ]
    },
    {
      "cell_type": "code",
      "source": [
        "# 작업 디렉토리 이동\n",
        "%cd .. # %는 반영"
      ],
      "metadata": {
        "id": "FxA-Wa3hzLXy"
      },
      "execution_count": null,
      "outputs": []
    },
    {
      "cell_type": "code",
      "source": [
        "!cd # ! 반영안함"
      ],
      "metadata": {
        "id": "4uwpIdvuzrZQ"
      },
      "execution_count": null,
      "outputs": []
    },
    {
      "cell_type": "code",
      "source": [
        "!pwd # 코렙은 !, % 필요, 로컬은 모든 명령어 앞에 불필요"
      ],
      "metadata": {
        "colab": {
          "base_uri": "https://localhost:8080/"
        },
        "id": "SLd0c2cszvs4",
        "outputId": "c0c321f2-39fa-40b1-a61b-fc7880566742"
      },
      "execution_count": null,
      "outputs": [
        {
          "output_type": "stream",
          "name": "stdout",
          "text": [
            "/content\n"
          ]
        }
      ]
    },
    {
      "cell_type": "code",
      "source": [
        "%cd .."
      ],
      "metadata": {
        "colab": {
          "base_uri": "https://localhost:8080/"
        },
        "id": "qqPJp4KWz0R0",
        "outputId": "b4ca8576-6f71-4777-eb26-0fdb8859dc87"
      },
      "execution_count": null,
      "outputs": [
        {
          "output_type": "stream",
          "name": "stdout",
          "text": [
            "/\n"
          ]
        }
      ]
    },
    {
      "cell_type": "code",
      "source": [
        "!pwd"
      ],
      "metadata": {
        "colab": {
          "base_uri": "https://localhost:8080/"
        },
        "id": "41AitRKdz2ee",
        "outputId": "654b1653-54a2-493e-afb2-826394534740"
      },
      "execution_count": null,
      "outputs": [
        {
          "output_type": "stream",
          "name": "stdout",
          "text": [
            "/\n"
          ]
        }
      ]
    },
    {
      "cell_type": "code",
      "source": [
        "%cd content"
      ],
      "metadata": {
        "colab": {
          "base_uri": "https://localhost:8080/"
        },
        "id": "eeRHWCgjz5Ai",
        "outputId": "6cdaf12c-9863-4f52-b48d-4a09bd6b49f7"
      },
      "execution_count": null,
      "outputs": [
        {
          "output_type": "stream",
          "name": "stdout",
          "text": [
            "/content\n"
          ]
        }
      ]
    },
    {
      "cell_type": "code",
      "source": [
        "!pwd"
      ],
      "metadata": {
        "colab": {
          "base_uri": "https://localhost:8080/"
        },
        "id": "S3P0HyBQz67Y",
        "outputId": "2c54fabe-ba24-4588-dbb0-6f02f530c24b"
      },
      "execution_count": null,
      "outputs": [
        {
          "output_type": "stream",
          "name": "stdout",
          "text": [
            "/content\n"
          ]
        }
      ]
    },
    {
      "cell_type": "code",
      "source": [
        "# 디렉토리 만들기\n",
        "!mkdir test"
      ],
      "metadata": {
        "id": "IGHc93d7z7us"
      },
      "execution_count": null,
      "outputs": []
    },
    {
      "cell_type": "code",
      "source": [
        "# 폴더, 파일 이름 바꾸기\n",
        "!mv test test2 # mv : move, 파일 이동/ 폴더 이름 변경"
      ],
      "metadata": {
        "id": "0EarJIUS0AaQ"
      },
      "execution_count": null,
      "outputs": []
    },
    {
      "cell_type": "code",
      "source": [
        "# 파일 이동하기\n",
        "!mv ./test2/alpaco.txt ./ #./는 현재 디렉토리, ,//는 상위 디렉토리"
      ],
      "metadata": {
        "id": "CDa_stwj0Fse"
      },
      "execution_count": null,
      "outputs": []
    },
    {
      "cell_type": "code",
      "source": [
        "!cp --help # 리눅스 명령어 확인 도와줌"
      ],
      "metadata": {
        "colab": {
          "base_uri": "https://localhost:8080/"
        },
        "id": "jliJeIy61SCd",
        "outputId": "52e9a072-a07f-49b9-ec05-7703526f55a5"
      },
      "execution_count": null,
      "outputs": [
        {
          "output_type": "stream",
          "name": "stdout",
          "text": [
            "Usage: cp [OPTION]... [-T] SOURCE DEST\n",
            "  or:  cp [OPTION]... SOURCE... DIRECTORY\n",
            "  or:  cp [OPTION]... -t DIRECTORY SOURCE...\n",
            "Copy SOURCE to DEST, or multiple SOURCE(s) to DIRECTORY.\n",
            "\n",
            "Mandatory arguments to long options are mandatory for short options too.\n",
            "  -a, --archive                same as -dR --preserve=all\n",
            "      --attributes-only        don't copy the file data, just the attributes\n",
            "      --backup[=CONTROL]       make a backup of each existing destination file\n",
            "  -b                           like --backup but does not accept an argument\n",
            "      --copy-contents          copy contents of special files when recursive\n",
            "  -d                           same as --no-dereference --preserve=links\n",
            "  -f, --force                  if an existing destination file cannot be\n",
            "                                 opened, remove it and try again (this option\n",
            "                                 is ignored when the -n option is also used)\n",
            "  -i, --interactive            prompt before overwrite (overrides a previous -n\n",
            "                                  option)\n",
            "  -H                           follow command-line symbolic links in SOURCE\n",
            "  -l, --link                   hard link files instead of copying\n",
            "  -L, --dereference            always follow symbolic links in SOURCE\n",
            "  -n, --no-clobber             do not overwrite an existing file (overrides\n",
            "                                 a previous -i option)\n",
            "  -P, --no-dereference         never follow symbolic links in SOURCE\n",
            "  -p                           same as --preserve=mode,ownership,timestamps\n",
            "      --preserve[=ATTR_LIST]   preserve the specified attributes (default:\n",
            "                                 mode,ownership,timestamps), if possible\n",
            "                                 additional attributes: context, links, xattr,\n",
            "                                 all\n",
            "      --no-preserve=ATTR_LIST  don't preserve the specified attributes\n",
            "      --parents                use full source file name under DIRECTORY\n",
            "  -R, -r, --recursive          copy directories recursively\n",
            "      --reflink[=WHEN]         control clone/CoW copies. See below\n",
            "      --remove-destination     remove each existing destination file before\n",
            "                                 attempting to open it (contrast with --force)\n",
            "      --sparse=WHEN            control creation of sparse files. See below\n",
            "      --strip-trailing-slashes  remove any trailing slashes from each SOURCE\n",
            "                                 argument\n",
            "  -s, --symbolic-link          make symbolic links instead of copying\n",
            "  -S, --suffix=SUFFIX          override the usual backup suffix\n",
            "  -t, --target-directory=DIRECTORY  copy all SOURCE arguments into DIRECTORY\n",
            "  -T, --no-target-directory    treat DEST as a normal file\n",
            "  -u, --update                 copy only when the SOURCE file is newer\n",
            "                                 than the destination file or when the\n",
            "                                 destination file is missing\n",
            "  -v, --verbose                explain what is being done\n",
            "  -x, --one-file-system        stay on this file system\n",
            "  -Z                           set SELinux security context of destination\n",
            "                                 file to default type\n",
            "      --context[=CTX]          like -Z, or if CTX is specified then set the\n",
            "                                 SELinux or SMACK security context to CTX\n",
            "      --help     display this help and exit\n",
            "      --version  output version information and exit\n",
            "\n",
            "By default, sparse SOURCE files are detected by a crude heuristic and the\n",
            "corresponding DEST file is made sparse as well.  That is the behavior\n",
            "selected by --sparse=auto.  Specify --sparse=always to create a sparse DEST\n",
            "file whenever the SOURCE file contains a long enough sequence of zero bytes.\n",
            "Use --sparse=never to inhibit creation of sparse files.\n",
            "\n",
            "When --reflink[=always] is specified, perform a lightweight copy, where the\n",
            "data blocks are copied only when modified.  If this is not possible the copy\n",
            "fails, or if --reflink=auto is specified, fall back to a standard copy.\n",
            "Use --reflink=never to ensure a standard copy is performed.\n",
            "\n",
            "The backup suffix is '~', unless set with --suffix or SIMPLE_BACKUP_SUFFIX.\n",
            "The version control method may be selected via the --backup option or through\n",
            "the VERSION_CONTROL environment variable.  Here are the values:\n",
            "\n",
            "  none, off       never make backups (even if --backup is given)\n",
            "  numbered, t     make numbered backups\n",
            "  existing, nil   numbered if numbered backups exist, simple otherwise\n",
            "  simple, never   always make simple backups\n",
            "\n",
            "As a special case, cp makes a backup of SOURCE when the force and backup\n",
            "options are given and SOURCE and DEST are the same name for an existing,\n",
            "regular file.\n",
            "\n",
            "GNU coreutils online help: <https://www.gnu.org/software/coreutils/>\n",
            "Full documentation <https://www.gnu.org/software/coreutils/cp>\n",
            "or available locally via: info '(coreutils) cp invocation'\n"
          ]
        }
      ]
    },
    {
      "cell_type": "code",
      "source": [
        "# 파일, 폴더 복사하기\n",
        "!cp -r ./alpaco.txt ./test2"
      ],
      "metadata": {
        "id": "MDCxqnQ80log"
      },
      "execution_count": null,
      "outputs": []
    },
    {
      "cell_type": "code",
      "source": [
        "# 현재 디렉토리 파일들의 모든 정보 보기\n",
        "!ls -al # .이 앞에 붙는 데이터는 보통 숨겨져 있다"
      ],
      "metadata": {
        "colab": {
          "base_uri": "https://localhost:8080/"
        },
        "id": "h3J95rqf1TzN",
        "outputId": "cd3b988b-1ee8-42a2-bec5-5efd04391d9b"
      },
      "execution_count": null,
      "outputs": [
        {
          "output_type": "stream",
          "name": "stdout",
          "text": [
            "total 20\n",
            "drwxr-xr-x 1 root root 4096 Aug 11 04:19 .\n",
            "drwxr-xr-x 1 root root 4096 Aug 11 04:13 ..\n",
            "-rw-r--r-- 1 root root    0 Aug 11 04:18 alpaco.txt\n",
            "drwxr-xr-x 4 root root 4096 Aug  9 13:36 .config\n",
            "drwxr-xr-x 1 root root 4096 Aug  9 13:37 sample_data\n",
            "drwxr-xr-x 3 root root 4096 Aug 11 04:23 test2\n"
          ]
        }
      ]
    },
    {
      "cell_type": "code",
      "source": [
        "!ls # 숨김 파일 안보임"
      ],
      "metadata": {
        "colab": {
          "base_uri": "https://localhost:8080/"
        },
        "id": "1qT5MeOw1kX_",
        "outputId": "c132d6db-aa79-400d-ef9b-e9325aa72bde"
      },
      "execution_count": null,
      "outputs": [
        {
          "output_type": "stream",
          "name": "stdout",
          "text": [
            "alpaco.txt  sample_data  test2\n"
          ]
        }
      ]
    },
    {
      "cell_type": "code",
      "source": [
        "# drwxrwxrwx\n",
        "# - d: directory(d가 없으면 파일), rwx: 권한\n",
        "# d rwx rwx rwx : d, rwx(root) rwx(G) rwx(u)\n",
        "# r:4, w:2, x:1 (이진법)>> 7"
      ],
      "metadata": {
        "id": "0PGngdM612D-"
      },
      "execution_count": null,
      "outputs": []
    },
    {
      "cell_type": "code",
      "source": [
        "# 권한 바꾸기\n",
        "!chmod 755 ./aplaco.txt"
      ],
      "metadata": {
        "colab": {
          "base_uri": "https://localhost:8080/"
        },
        "id": "VyoNuvAi18Wb",
        "outputId": "f5c46159-effa-49d8-ecaf-6e182e8fc070"
      },
      "execution_count": null,
      "outputs": [
        {
          "output_type": "stream",
          "name": "stdout",
          "text": [
            "chmod: cannot access './aplaco.txt': No such file or directory\n"
          ]
        }
      ]
    },
    {
      "cell_type": "code",
      "source": [
        "!ls -al"
      ],
      "metadata": {
        "colab": {
          "base_uri": "https://localhost:8080/"
        },
        "id": "yPMiWcDc2nVn",
        "outputId": "b8342a81-4e74-4270-9ec5-9c927ef32324"
      },
      "execution_count": null,
      "outputs": [
        {
          "output_type": "stream",
          "name": "stdout",
          "text": [
            "total 20\n",
            "drwxr-xr-x 1 root root 4096 Aug 11 04:19 .\n",
            "drwxr-xr-x 1 root root 4096 Aug 11 04:13 ..\n",
            "-rw-r--r-- 1 root root    0 Aug 11 04:18 alpaco.txt\n",
            "drwxr-xr-x 4 root root 4096 Aug  9 13:36 .config\n",
            "drwxr-xr-x 1 root root 4096 Aug  9 13:37 sample_data\n",
            "drwxr-xr-x 3 root root 4096 Aug 11 04:23 test2\n"
          ]
        }
      ]
    },
    {
      "cell_type": "code",
      "source": [
        "# 엄청 중요\n",
        "!nvidia-smi # GPU연결없으면 /bin/bash: line 1: nvidia-smi: command not found 나옴"
      ],
      "metadata": {
        "colab": {
          "base_uri": "https://localhost:8080/"
        },
        "id": "seFjPWwf2pxG",
        "outputId": "9f74373e-7cd0-4559-c003-180206099045"
      },
      "execution_count": null,
      "outputs": [
        {
          "output_type": "stream",
          "name": "stdout",
          "text": [
            "Fri Aug 11 04:29:59 2023       \n",
            "+-----------------------------------------------------------------------------+\n",
            "| NVIDIA-SMI 525.105.17   Driver Version: 525.105.17   CUDA Version: 12.0     |\n",
            "|-------------------------------+----------------------+----------------------+\n",
            "| GPU  Name        Persistence-M| Bus-Id        Disp.A | Volatile Uncorr. ECC |\n",
            "| Fan  Temp  Perf  Pwr:Usage/Cap|         Memory-Usage | GPU-Util  Compute M. |\n",
            "|                               |                      |               MIG M. |\n",
            "|===============================+======================+======================|\n",
            "|   0  Tesla T4            Off  | 00000000:00:04.0 Off |                    0 |\n",
            "| N/A   50C    P8     9W /  70W |      0MiB / 15360MiB |      0%      Default |\n",
            "|                               |                      |                  N/A |\n",
            "+-------------------------------+----------------------+----------------------+\n",
            "                                                                               \n",
            "+-----------------------------------------------------------------------------+\n",
            "| Processes:                                                                  |\n",
            "|  GPU   GI   CI        PID   Type   Process name                  GPU Memory |\n",
            "|        ID   ID                                                   Usage      |\n",
            "|=============================================================================|\n",
            "|  No running processes found                                                 |\n",
            "+-----------------------------------------------------------------------------+\n"
          ]
        }
      ]
    },
    {
      "cell_type": "code",
      "source": [
        "# 코드가 안돌아가는 건 vram/ ram이 터져서 그런 경우가 많다\n",
        "# 0MiB / 15360MiB >> Ram 부분\n",
        "# Processes:  부분에서 cpu인지 확인 필요"
      ],
      "metadata": {
        "id": "hLAIZoEd2yIh"
      },
      "execution_count": null,
      "outputs": []
    },
    {
      "cell_type": "code",
      "source": [
        "!top # GPU 사용정보 확인"
      ],
      "metadata": {
        "colab": {
          "base_uri": "https://localhost:8080/"
        },
        "id": "TbaHQP9F3DOc",
        "outputId": "77103b5a-0869-4b9a-982c-3d7a858f580c"
      },
      "execution_count": null,
      "outputs": [
        {
          "output_type": "stream",
          "name": "stdout",
          "text": [
            "\u001b[?1h\u001b=\u001b[H\u001b[2J\u001b[mtop - 04:31:23 up 7 min,  0 users,  load average: 0.53, 0.31, 0.15\u001b[m\u001b[m\u001b[m\u001b[m\u001b[K\n",
            "Tasks:\u001b[m\u001b[m\u001b[1m  16 \u001b[m\u001b[mtotal,\u001b[m\u001b[m\u001b[1m   1 \u001b[m\u001b[mrunning,\u001b[m\u001b[m\u001b[1m  14 \u001b[m\u001b[msleeping,\u001b[m\u001b[m\u001b[1m   0 \u001b[m\u001b[mstopped,\u001b[m\u001b[m\u001b[1m   1 \u001b[m\u001b[mzombie\u001b[m\u001b[m\u001b[m\u001b[m\u001b[K\n",
            "%Cpu(s):\u001b[m\u001b[m\u001b[1m  3.3 \u001b[m\u001b[mus,\u001b[m\u001b[m\u001b[1m  3.3 \u001b[m\u001b[msy,\u001b[m\u001b[m\u001b[1m  0.0 \u001b[m\u001b[mni,\u001b[m\u001b[m\u001b[1m 93.3 \u001b[m\u001b[mid,\u001b[m\u001b[m\u001b[1m  0.0 \u001b[m\u001b[mwa,\u001b[m\u001b[m\u001b[1m  0.0 \u001b[m\u001b[mhi,\u001b[m\u001b[m\u001b[1m  0.0 \u001b[m\u001b[msi,\u001b[m\u001b[m\u001b[1m  0.0 \u001b[m\u001b[mst\u001b[m\u001b[m\u001b[m\u001b[m\u001b[K\n",
            "MiB Mem :\u001b[m\u001b[m\u001b[1m  12982.7 \u001b[m\u001b[mtotal,\u001b[m\u001b[m\u001b[1m   9933.1 \u001b[m\u001b[mfree,\u001b[m\u001b[m\u001b[1m    705.0 \u001b[m\u001b[mused,\u001b[m\u001b[m\u001b[1m   2344.6 \u001b[m\u001b[mbuff/cache\u001b[m\u001b[m\u001b[m\u001b[m\u001b[K\n",
            "MiB Swap:\u001b[m\u001b[m\u001b[1m      0.0 \u001b[m\u001b[mtotal,\u001b[m\u001b[m\u001b[1m      0.0 \u001b[m\u001b[mfree,\u001b[m\u001b[m\u001b[1m      0.0 \u001b[m\u001b[mused.\u001b[m\u001b[m\u001b[1m  12001.6 \u001b[m\u001b[mavail Mem \u001b[m\u001b[m\u001b[m\u001b[m\u001b[K\n",
            "\u001b[K\n",
            "\u001b[7m    PID USER      PR  NI    VIRT    RES    SHR S  %CPU  %MEM     TIME+ COMMAND  \u001b[m\u001b[m\u001b[K\n",
            "\u001b[m    104 root      20   0  558644 163468  53392 S   6.7   1.2   0:03.33 jupyter+ \u001b[m\u001b[m\u001b[K\n",
            "\u001b[m      1 root      20   0    1040      8      0 S   0.0   0.0   0:00.05 docker-+ \u001b[m\u001b[m\u001b[K\n",
            "\u001b[m      6 root      20   0  886184  47288  30900 S   0.0   0.4   0:01.04 node     \u001b[m\u001b[m\u001b[K\n",
            "\u001b[m     17 root      20   0    7372   3560   3260 S   0.0   0.0   0:00.18 oom_mon+ \u001b[m\u001b[m\u001b[K\n",
            "\u001b[m     19 root      20   0    7372   1880   1592 S   0.0   0.0   0:00.00 run.sh   \u001b[m\u001b[m\u001b[K\n",
            "\u001b[m     21 root      20   0 1236876  10884   5992 S   0.0   0.1   0:00.08 kernel_+ \u001b[m\u001b[m\u001b[K\n",
            "\u001b[m     24 root      20   0    5804   1000    908 S   0.0   0.0   0:00.04 tail     \u001b[m\u001b[m\u001b[K\n",
            "\u001b[m     54 root      20   0       0      0      0 Z   0.0   0.0   0:05.59 python3  \u001b[m\u001b[m\u001b[K\n",
            "\u001b[m     55 root      20   0   65772  50868  18100 S   0.0   0.4   0:00.60 colab-f+ \u001b[m\u001b[m\u001b[K\n",
            "\u001b[m    105 root      20   0 1228148   7184   2828 S   0.0   0.1   0:00.01 dap_mul+ \u001b[m\u001b[m\u001b[K\n",
            "\u001b[m   1422 root      20   0 1112720 108772  26096 S   0.0   0.8   0:02.17 python3  \u001b[m\u001b[m\u001b[K\n",
            "\u001b[m   1471 root      20   0  538308  12720   4776 S   0.0   0.1   0:00.01 python3  \u001b[m\u001b[m\u001b[K\n",
            "\u001b[m   1506 root      20   0 1237204  17068   7148 S   0.0   0.1   0:00.17 languag+ \u001b[m\u001b[m\u001b[K\n",
            "\u001b[m   1515 root      20   0  887304 132008  30240 S   0.0   1.0   0:06.02 node     \u001b[m\u001b[m\u001b[K\n",
            "\u001b[m   1881 root      20   0    5772   1048    956 S   0.0   0.0   0:00.00 sleep    \u001b[m\u001b[m\u001b[K\n",
            "\u001b[m\u001b[1m   1882 root      20   0   10348   3520   3164 R   0.0   0.0   0:00.00 top      \u001b[m\u001b[m\u001b[K\n",
            "\u001b[J\u001b[H\u001b[mtop - 04:31:26 up 7 min,  0 users,  load average: 0.53, 0.31, 0.15\u001b[m\u001b[m\u001b[m\u001b[m\u001b[K\n",
            "\n",
            "%Cpu(s):\u001b[m\u001b[m\u001b[1m  2.7 \u001b[m\u001b[mus,\u001b[m\u001b[m\u001b[1m  0.8 \u001b[m\u001b[msy,\u001b[m\u001b[m\u001b[1m  0.0 \u001b[m\u001b[mni,\u001b[m\u001b[m\u001b[1m 96.3 \u001b[m\u001b[mid,\u001b[m\u001b[m\u001b[1m  0.0 \u001b[m\u001b[mwa,\u001b[m\u001b[m\u001b[1m  0.0 \u001b[m\u001b[mhi,\u001b[m\u001b[m\u001b[1m  0.2 \u001b[m\u001b[msi,\u001b[m\u001b[m\u001b[1m  0.0 \u001b[m\u001b[mst\u001b[m\u001b[m\u001b[m\u001b[m\u001b[K\n",
            "MiB Mem :\u001b[m\u001b[m\u001b[1m  12982.7 \u001b[m\u001b[mtotal,\u001b[m\u001b[m\u001b[1m   9929.1 \u001b[m\u001b[mfree,\u001b[m\u001b[m\u001b[1m    709.0 \u001b[m\u001b[mused,\u001b[m\u001b[m\u001b[1m   2344.6 \u001b[m\u001b[mbuff/cache\u001b[m\u001b[m\u001b[m\u001b[m\u001b[K\n",
            "MiB Swap:\u001b[m\u001b[m\u001b[1m      0.0 \u001b[m\u001b[mtotal,\u001b[m\u001b[m\u001b[1m      0.0 \u001b[m\u001b[mfree,\u001b[m\u001b[m\u001b[1m      0.0 \u001b[m\u001b[mused.\u001b[m\u001b[m\u001b[1m  11997.6 \u001b[m\u001b[mavail Mem \u001b[m\u001b[m\u001b[m\u001b[m\u001b[K\n",
            "\u001b[K\n",
            "\n",
            "\u001b[m   1515 root      20   0  886536 131024  30240 S   2.3   1.0   0:06.09 node     \u001b[m\u001b[m\u001b[K\n",
            "\u001b[m      6 root      20   0  886184  47548  30900 S   0.3   0.4   0:01.05 node     \u001b[m\u001b[m\u001b[K\n",
            "\u001b[m   1422 root      20   0 1112720 109440  26540 S   0.3   0.8   0:02.18 python3  \u001b[m\u001b[m\u001b[K\n",
            "\u001b[m   1471 root      20   0  538308  12720   4776 S   0.3   0.1   0:00.02 python3  \u001b[m\u001b[m\u001b[K\n",
            "\u001b[m      1 root      20   0    1040      8      0 S   0.0   0.0   0:00.05 docker-+ \u001b[m\u001b[m\u001b[K\n",
            "\u001b[m     17 root      20   0    7372   3560   3260 S   0.0   0.0   0:00.18 oom_mon+ \u001b[m\u001b[m\u001b[K\n",
            "\u001b[m     19 root      20   0    7372   1880   1592 S   0.0   0.0   0:00.00 run.sh   \u001b[m\u001b[m\u001b[K\n",
            "\u001b[m     21 root      20   0 1236876  12932   5992 S   0.0   0.1   0:00.08 kernel_+ \u001b[m\u001b[m\u001b[K\n",
            "\u001b[m     24 root      20   0    5804   1000    908 S   0.0   0.0   0:00.04 tail     \u001b[m\u001b[m\u001b[K\n",
            "\u001b[m     54 root      20   0       0      0      0 Z   0.0   0.0   0:05.59 python3  \u001b[m\u001b[m\u001b[K\n",
            "\u001b[m     55 root      20   0   65772  50868  18100 S   0.0   0.4   0:00.60 colab-f+ \u001b[m\u001b[m\u001b[K\n",
            "\u001b[m    104 root      20   0  558644 163468  53392 S   0.0   1.2   0:03.33 jupyter+ \u001b[m\u001b[m\u001b[K\n",
            "\u001b[m    105 root      20   0 1228148   7184   2828 S   0.0   0.1   0:00.01 dap_mul+ \u001b[m\u001b[m\u001b[K\n",
            "\u001b[m   1506 root      20   0 1237204  17068   7148 S   0.0   0.1   0:00.17 languag+ \u001b[m\u001b[m\u001b[K\n",
            "\u001b[m\u001b[1m   1882 root      20   0   10348   3916   3340 R   0.0   0.0   0:00.00 top      \u001b[m\u001b[m\u001b[K\n",
            "\u001b[m   1896 root      20   0    5772   1072    980 S   0.0   0.0   0:00.00 sleep    \u001b[m\u001b[m\u001b[K\n",
            "\u001b[J\u001b[H\u001b[mtop - 04:31:29 up 7 min,  0 users,  load average: 0.48, 0.31, 0.15\u001b[m\u001b[m\u001b[m\u001b[m\u001b[K\n",
            "\n",
            "%Cpu(s):\u001b[m\u001b[m\u001b[1m  9.0 \u001b[m\u001b[mus,\u001b[m\u001b[m\u001b[1m  2.0 \u001b[m\u001b[msy,\u001b[m\u001b[m\u001b[1m  0.0 \u001b[m\u001b[mni,\u001b[m\u001b[m\u001b[1m 88.8 \u001b[m\u001b[mid,\u001b[m\u001b[m\u001b[1m  0.2 \u001b[m\u001b[mwa,\u001b[m\u001b[m\u001b[1m  0.0 \u001b[m\u001b[mhi,\u001b[m\u001b[m\u001b[1m  0.0 \u001b[m\u001b[msi,\u001b[m\u001b[m\u001b[1m  0.0 \u001b[m\u001b[mst\u001b[m\u001b[m\u001b[m\u001b[m\u001b[K\n",
            "MiB Mem :\u001b[m\u001b[m\u001b[1m  12982.7 \u001b[m\u001b[mtotal,\u001b[m\u001b[m\u001b[1m   9928.3 \u001b[m\u001b[mfree,\u001b[m\u001b[m\u001b[1m    709.7 \u001b[m\u001b[mused,\u001b[m\u001b[m\u001b[1m   2344.7 \u001b[m\u001b[mbuff/cache\u001b[m\u001b[m\u001b[m\u001b[m\u001b[K\n",
            "MiB Swap:\u001b[m\u001b[m\u001b[1m      0.0 \u001b[m\u001b[mtotal,\u001b[m\u001b[m\u001b[1m      0.0 \u001b[m\u001b[mfree,\u001b[m\u001b[m\u001b[1m      0.0 \u001b[m\u001b[mused.\u001b[m\u001b[m\u001b[1m  11996.9 \u001b[m\u001b[mavail Mem \u001b[m\u001b[m\u001b[m\u001b[m\u001b[K\n",
            "\u001b[K\n",
            "\n",
            "\u001b[m   1515 root      20   0  886536 131616  30240 S   1.3   1.0   0:06.13 node     \u001b[m\u001b[m\u001b[K\n",
            "\u001b[m   1422 root      20   0 1112720 109440  26540 S   1.0   0.8   0:02.21 python3  \u001b[m\u001b[m\u001b[K\n",
            "\u001b[m      6 root      20   0  886184  47464  30900 S   0.7   0.4   0:01.07 node     \u001b[m\u001b[m\u001b[K\n",
            "\u001b[m      1 root      20   0    1040      8      0 S   0.0   0.0   0:00.05 docker-+ \u001b[m\u001b[m\u001b[K\n",
            "\u001b[m     17 root      20   0    7372   3560   3260 S   0.0   0.0   0:00.18 oom_mon+ \u001b[m\u001b[m\u001b[K\n",
            "\u001b[m     19 root      20   0    7372   1880   1592 S   0.0   0.0   0:00.00 run.sh   \u001b[m\u001b[m\u001b[K\n",
            "\u001b[m     21 root      20   0 1236876  12932   5992 S   0.0   0.1   0:00.08 kernel_+ \u001b[m\u001b[m\u001b[K\n",
            "\u001b[m     24 root      20   0    5804   1000    908 S   0.0   0.0   0:00.04 tail     \u001b[m\u001b[m\u001b[K\n",
            "\u001b[m     54 root      20   0       0      0      0 Z   0.0   0.0   0:05.59 python3  \u001b[m\u001b[m\u001b[K\n",
            "\u001b[m     55 root      20   0   65772  50868  18100 S   0.0   0.4   0:00.60 colab-f+ \u001b[m\u001b[m\u001b[K\n",
            "\u001b[m    104 root      20   0  558644 163468  53392 S   0.0   1.2   0:03.33 jupyter+ \u001b[m\u001b[m\u001b[K\n",
            "\u001b[m    105 root      20   0 1228148   7184   2828 S   0.0   0.1   0:00.01 dap_mul+ \u001b[m\u001b[m\u001b[K\n",
            "\u001b[m   1471 root      20   0  538308  12720   4776 S   0.0   0.1   0:00.02 python3  \u001b[m\u001b[m\u001b[K\n",
            "\n",
            "\n",
            "\u001b[m   1908 root      20   0    5772   1016    924 S   0.0   0.0   0:00.00 sleep    \u001b[m\u001b[m\u001b[K\n",
            "\u001b[J\u001b[H\u001b[mtop - 04:31:32 up 7 min,  0 users,  load average: 0.44, 0.30, 0.15\u001b[m\u001b[m\u001b[m\u001b[m\u001b[K\n",
            "\n",
            "%Cpu(s):\u001b[m\u001b[m\u001b[1m 17.7 \u001b[m\u001b[mus,\u001b[m\u001b[m\u001b[1m  3.5 \u001b[m\u001b[msy,\u001b[m\u001b[m\u001b[1m  0.0 \u001b[m\u001b[mni,\u001b[m\u001b[m\u001b[1m 78.6 \u001b[m\u001b[mid,\u001b[m\u001b[m\u001b[1m  0.0 \u001b[m\u001b[mwa,\u001b[m\u001b[m\u001b[1m  0.0 \u001b[m\u001b[mhi,\u001b[m\u001b[m\u001b[1m  0.2 \u001b[m\u001b[msi,\u001b[m\u001b[m\u001b[1m  0.0 \u001b[m\u001b[mst\u001b[m\u001b[m\u001b[m\u001b[m\u001b[K\n",
            "MiB Mem :\u001b[m\u001b[m\u001b[1m  12982.7 \u001b[m\u001b[mtotal,\u001b[m\u001b[m\u001b[1m   9933.2 \u001b[m\u001b[mfree,\u001b[m\u001b[m\u001b[1m    704.7 \u001b[m\u001b[mused,\u001b[m\u001b[m\u001b[1m   2344.8 \u001b[m\u001b[mbuff/cache\u001b[m\u001b[m\u001b[m\u001b[m\u001b[K\n",
            "MiB Swap:\u001b[m\u001b[m\u001b[1m      0.0 \u001b[m\u001b[mtotal,\u001b[m\u001b[m\u001b[1m      0.0 \u001b[m\u001b[mfree,\u001b[m\u001b[m\u001b[1m      0.0 \u001b[m\u001b[mused.\u001b[m\u001b[m\u001b[1m  12001.9 \u001b[m\u001b[mavail Mem \u001b[m\u001b[m\u001b[m\u001b[m\u001b[K\n",
            "\u001b[K\n",
            "\n",
            "\u001b[m   1515 root      20   0  886536 131924  30240 S   2.3   1.0   0:06.20 node     \u001b[m\u001b[m\u001b[K\n",
            "\u001b[m   1422 root      20   0 1112720 109440  26540 S   0.7   0.8   0:02.23 python3  \u001b[m\u001b[m\u001b[K\n",
            "\u001b[m      6 root      20   0  886184  46892  30900 S   0.3   0.4   0:01.08 node     \u001b[m\u001b[m\u001b[K\n",
            "\u001b[m     17 root      20   0    7372   3560   3260 S   0.3   0.0   0:00.19 oom_mon+ \u001b[m\u001b[m\u001b[K\n",
            "\u001b[m     24 root      20   0    5804   1000    908 S   0.3   0.0   0:00.05 tail     \u001b[m\u001b[m\u001b[K\n",
            "\u001b[m    105 root      20   0 1228148   7184   2828 S   0.3   0.1   0:00.02 dap_mul+ \u001b[m\u001b[m\u001b[K\n",
            "\u001b[m   1471 root      20   0  538308  12720   4776 S   0.3   0.1   0:00.03 python3  \u001b[m\u001b[m\u001b[K\n",
            "\u001b[m      1 root      20   0    1040      8      0 S   0.0   0.0   0:00.05 docker-+ \u001b[m\u001b[m\u001b[K\n",
            "\u001b[m     19 root      20   0    7372   1880   1592 S   0.0   0.0   0:00.00 run.sh   \u001b[m\u001b[m\u001b[K\n",
            "\u001b[m     21 root      20   0 1236876  12932   5992 S   0.0   0.1   0:00.08 kernel_+ \u001b[m\u001b[m\u001b[K\n",
            "\u001b[m     54 root      20   0       0      0      0 Z   0.0   0.0   0:05.59 python3  \u001b[m\u001b[m\u001b[K\n",
            "\u001b[m     55 root      20   0   65772  50868  18100 S   0.0   0.4   0:00.60 colab-f+ \u001b[m\u001b[m\u001b[K\n",
            "\u001b[m    104 root      20   0  558644 163468  53392 S   0.0   1.2   0:03.33 jupyter+ \u001b[m\u001b[m\u001b[K\n",
            "\n",
            "\n",
            "\u001b[m   1920 root      20   0    5772   1012    920 S   0.0   0.0   0:00.00 sleep    \u001b[m\u001b[m\u001b[K\n",
            "\u001b[J\u001b[H\u001b[mtop - 04:31:35 up 7 min,  0 users,  load average: 0.44, 0.30, 0.15\u001b[m\u001b[m\u001b[m\u001b[m\u001b[K\n",
            "\n",
            "%Cpu(s):\u001b[m\u001b[m\u001b[1m  2.8 \u001b[m\u001b[mus,\u001b[m\u001b[m\u001b[1m  1.0 \u001b[m\u001b[msy,\u001b[m\u001b[m\u001b[1m  0.0 \u001b[m\u001b[mni,\u001b[m\u001b[m\u001b[1m 96.0 \u001b[m\u001b[mid,\u001b[m\u001b[m\u001b[1m  0.2 \u001b[m\u001b[mwa,\u001b[m\u001b[m\u001b[1m  0.0 \u001b[m\u001b[mhi,\u001b[m\u001b[m\u001b[1m  0.0 \u001b[m\u001b[msi,\u001b[m\u001b[m\u001b[1m  0.0 \u001b[m\u001b[mst\u001b[m\u001b[m\u001b[m\u001b[m\u001b[K\n",
            "MiB Mem :\u001b[m\u001b[m\u001b[1m  12982.7 \u001b[m\u001b[mtotal,\u001b[m\u001b[m\u001b[1m   9932.7 \u001b[m\u001b[mfree,\u001b[m\u001b[m\u001b[1m    705.2 \u001b[m\u001b[mused,\u001b[m\u001b[m\u001b[1m   2344.8 \u001b[m\u001b[mbuff/cache\u001b[m\u001b[m\u001b[m\u001b[m\u001b[K\n",
            "MiB Swap:\u001b[m\u001b[m\u001b[1m      0.0 \u001b[m\u001b[mtotal,\u001b[m\u001b[m\u001b[1m      0.0 \u001b[m\u001b[mfree,\u001b[m\u001b[m\u001b[1m      0.0 \u001b[m\u001b[mused.\u001b[m\u001b[m\u001b[1m  12001.4 \u001b[m\u001b[mavail Mem \u001b[m\u001b[m\u001b[m\u001b[m\u001b[K\n",
            "\u001b[K\n",
            "\n",
            "\u001b[m   1515 root      20   0  887048 133540  30240 S   2.3   1.0   0:06.27 node     \u001b[m\u001b[m\u001b[K\n",
            "\u001b[m      6 root      20   0  886184  47420  30900 S   0.7   0.4   0:01.10 node     \u001b[m\u001b[m\u001b[K\n",
            "\u001b[m    104 root      20   0  558644 163468  53392 S   0.3   1.2   0:03.34 jupyter+ \u001b[m\u001b[m\u001b[K\n",
            "\u001b[m   1422 root      20   0 1112720 109440  26540 S   0.3   0.8   0:02.24 python3  \u001b[m\u001b[m\u001b[K\n",
            "\u001b[m   1506 root      20   0 1237204  17068   7148 S   0.3   0.1   0:00.18 languag+ \u001b[m\u001b[m\u001b[K\n",
            "\u001b[m      1 root      20   0    1040      8      0 S   0.0   0.0   0:00.05 docker-+ \u001b[m\u001b[m\u001b[K\n",
            "\u001b[m     17 root      20   0    7372   3560   3260 S   0.0   0.0   0:00.19 oom_mon+ \u001b[m\u001b[m\u001b[K\n",
            "\u001b[m     19 root      20   0    7372   1880   1592 S   0.0   0.0   0:00.00 run.sh   \u001b[m\u001b[m\u001b[K\n",
            "\u001b[m     21 root      20   0 1236876  12932   5992 S   0.0   0.1   0:00.08 kernel_+ \u001b[m\u001b[m\u001b[K\n",
            "\u001b[m     24 root      20   0    5804   1000    908 S   0.0   0.0   0:00.05 tail     \u001b[m\u001b[m\u001b[K\n",
            "\n",
            "\n",
            "\u001b[m    105 root      20   0 1228148   7184   2828 S   0.0   0.1   0:00.02 dap_mul+ \u001b[m\u001b[m\u001b[K\n",
            "\u001b[m   1471 root      20   0  538308  13004   4840 S   0.0   0.1   0:00.03 python3  \u001b[m\u001b[m\u001b[K\n",
            "\n",
            "\u001b[m   1932 root      20   0    5772   1048    956 S   0.0   0.0   0:00.00 sleep    \u001b[m\u001b[m\u001b[K\n",
            "\u001b[J\u001b[H\u001b[mtop - 04:31:38 up 7 min,  0 users,  load average: 0.41, 0.29, 0.15\u001b[m\u001b[m\u001b[m\u001b[m\u001b[K\n",
            "\n",
            "%Cpu(s):\u001b[m\u001b[m\u001b[1m  4.2 \u001b[m\u001b[mus,\u001b[m\u001b[m\u001b[1m  1.0 \u001b[m\u001b[msy,\u001b[m\u001b[m\u001b[1m  0.0 \u001b[m\u001b[mni,\u001b[m\u001b[m\u001b[1m 94.6 \u001b[m\u001b[mid,\u001b[m\u001b[m\u001b[1m  0.2 \u001b[m\u001b[mwa,\u001b[m\u001b[m\u001b[1m  0.0 \u001b[m\u001b[mhi,\u001b[m\u001b[m\u001b[1m  0.0 \u001b[m\u001b[msi,\u001b[m\u001b[m\u001b[1m  0.0 \u001b[m\u001b[mst\u001b[m\u001b[m\u001b[m\u001b[m\u001b[K\n",
            "MiB Mem :\u001b[m\u001b[m\u001b[1m  12982.7 \u001b[m\u001b[mtotal,\u001b[m\u001b[m\u001b[1m   9932.4 \u001b[m\u001b[mfree,\u001b[m\u001b[m\u001b[1m    705.4 \u001b[m\u001b[mused,\u001b[m\u001b[m\u001b[1m   2344.8 \u001b[m\u001b[mbuff/cache\u001b[m\u001b[m\u001b[m\u001b[m\u001b[K\n",
            "MiB Swap:\u001b[m\u001b[m\u001b[1m      0.0 \u001b[m\u001b[mtotal,\u001b[m\u001b[m\u001b[1m      0.0 \u001b[m\u001b[mfree,\u001b[m\u001b[m\u001b[1m      0.0 \u001b[m\u001b[mused.\u001b[m\u001b[m\u001b[1m  12001.2 \u001b[m\u001b[mavail Mem \u001b[m\u001b[m\u001b[m\u001b[m\u001b[K\n",
            "\u001b[K\n",
            "\n",
            "\u001b[m   1515 root      20   0  887304 134040  30240 S   4.3   1.0   0:06.40 node     \u001b[m\u001b[m\u001b[K\n",
            "\u001b[m      6 root      20   0  886184  46964  30900 S   0.7   0.4   0:01.12 node     \u001b[m\u001b[m\u001b[K\n",
            "\u001b[m   1422 root      20   0 1112720 109440  26540 S   0.7   0.8   0:02.26 python3  \u001b[m\u001b[m\u001b[K\n",
            "\u001b[m    105 root      20   0 1228148   7184   2828 S   0.3   0.1   0:00.03 dap_mul+ \u001b[m\u001b[m\u001b[K\n",
            "\u001b[m   1471 root      20   0  538308  13268   4840 S   0.3   0.1   0:00.04 python3  \u001b[m\u001b[m\u001b[K\n",
            "\n",
            "\n",
            "\n",
            "\u001b[m     21 root      20   0 1236876  13592   6552 S   0.0   0.1   0:00.08 kernel_+ \u001b[m\u001b[m\u001b[K\n",
            "\n",
            "\n",
            "\n",
            "\u001b[m    104 root      20   0  558644 163468  53392 S   0.0   1.2   0:03.34 jupyter+ \u001b[m\u001b[m\u001b[K\n",
            "\u001b[m   1506 root      20   0 1237204  17068   7148 S   0.0   0.1   0:00.18 languag+ \u001b[m\u001b[m\u001b[K\n",
            "\n",
            "\u001b[m   1946 root      20   0    5772   1020    928 S   0.0   0.0   0:00.00 sleep    \u001b[m\u001b[m\u001b[K\n",
            "\u001b[J\u001b[H\u001b[mtop - 04:31:41 up 7 min,  0 users,  load average: 0.41, 0.29, 0.15\u001b[m\u001b[m\u001b[m\u001b[m\u001b[K\n",
            "\n",
            "%Cpu(s):\u001b[m\u001b[m\u001b[1m 20.6 \u001b[m\u001b[mus,\u001b[m\u001b[m\u001b[1m  3.0 \u001b[m\u001b[msy,\u001b[m\u001b[m\u001b[1m  0.0 \u001b[m\u001b[mni,\u001b[m\u001b[m\u001b[1m 76.4 \u001b[m\u001b[mid,\u001b[m\u001b[m\u001b[1m  0.0 \u001b[m\u001b[mwa,\u001b[m\u001b[m\u001b[1m  0.0 \u001b[m\u001b[mhi,\u001b[m\u001b[m\u001b[1m  0.0 \u001b[m\u001b[msi,\u001b[m\u001b[m\u001b[1m  0.0 \u001b[m\u001b[mst\u001b[m\u001b[m\u001b[m\u001b[m\u001b[K\n",
            "MiB Mem :\u001b[m\u001b[m\u001b[1m  12982.7 \u001b[m\u001b[mtotal,\u001b[m\u001b[m\u001b[1m   9926.8 \u001b[m\u001b[mfree,\u001b[m\u001b[m\u001b[1m    711.0 \u001b[m\u001b[mused,\u001b[m\u001b[m\u001b[1m   2344.9 \u001b[m\u001b[mbuff/cache\u001b[m\u001b[m\u001b[m\u001b[m\u001b[K\n",
            "MiB Swap:\u001b[m\u001b[m\u001b[1m      0.0 \u001b[m\u001b[mtotal,\u001b[m\u001b[m\u001b[1m      0.0 \u001b[m\u001b[mfree,\u001b[m\u001b[m\u001b[1m      0.0 \u001b[m\u001b[mused.\u001b[m\u001b[m\u001b[1m  11995.5 \u001b[m\u001b[mavail Mem \u001b[m\u001b[m\u001b[m\u001b[m\u001b[K\n",
            "\u001b[K\n",
            "\n",
            "\u001b[m   1515 root      20   0  887304 136340  30240 S   5.6   1.0   0:06.57 node     \u001b[m\u001b[m\u001b[K\n",
            "\u001b[m      6 root      20   0  886184  47484  30900 S   0.7   0.4   0:01.14 node     \u001b[m\u001b[m\u001b[K\n",
            "\u001b[m   1471 root      20   0  538308  13352   4840 S   0.7   0.1   0:00.06 python3  \u001b[m\u001b[m\u001b[K\n",
            "\u001b[m   1422 root      20   0 1112720 109440  26540 S   0.3   0.8   0:02.27 python3  \u001b[m\u001b[m\u001b[K\n",
            "\u001b[m   1506 root      20   0 1237204  17068   7148 S   0.3   0.1   0:00.19 languag+ \u001b[m\u001b[m\u001b[K\n",
            "\n",
            "\n",
            "\n",
            "\u001b[m     21 root      20   0 1237452  14564   6876 S   0.0   0.1   0:00.08 kernel_+ \u001b[m\u001b[m\u001b[K\n",
            "\n",
            "\n",
            "\n",
            "\n",
            "\u001b[m    105 root      20   0 1228148   7184   2828 S   0.0   0.1   0:00.03 dap_mul+ \u001b[m\u001b[m\u001b[K\n",
            "\n",
            "\u001b[m   1958 root      20   0    5772   1072    980 S   0.0   0.0   0:00.00 sleep    \u001b[m\u001b[m\u001b[K\n",
            "\u001b[J\u001b[H\u001b[mtop - 04:31:44 up 7 min,  0 users,  load average: 0.46, 0.31, 0.15\u001b[m\u001b[m\u001b[m\u001b[m\u001b[K\n",
            "\n",
            "%Cpu(s):\u001b[m\u001b[m\u001b[1m 10.2 \u001b[m\u001b[mus,\u001b[m\u001b[m\u001b[1m  3.2 \u001b[m\u001b[msy,\u001b[m\u001b[m\u001b[1m  0.0 \u001b[m\u001b[mni,\u001b[m\u001b[m\u001b[1m 86.5 \u001b[m\u001b[mid,\u001b[m\u001b[m\u001b[1m  0.0 \u001b[m\u001b[mwa,\u001b[m\u001b[m\u001b[1m  0.0 \u001b[m\u001b[mhi,\u001b[m\u001b[m\u001b[1m  0.2 \u001b[m\u001b[msi,\u001b[m\u001b[m\u001b[1m  0.0 \u001b[m\u001b[mst\u001b[m\u001b[m\u001b[m\u001b[m\u001b[K\n",
            "MiB Mem :\u001b[m\u001b[m\u001b[1m  12982.7 \u001b[m\u001b[mtotal,\u001b[m\u001b[m\u001b[1m   9922.3 \u001b[m\u001b[mfree,\u001b[m\u001b[m\u001b[1m    715.4 \u001b[m\u001b[mused,\u001b[m\u001b[m\u001b[1m   2345.0 \u001b[m\u001b[mbuff/cache\u001b[m\u001b[m\u001b[m\u001b[m\u001b[K\n",
            "MiB Swap:\u001b[m\u001b[m\u001b[1m      0.0 \u001b[m\u001b[mtotal,\u001b[m\u001b[m\u001b[1m      0.0 \u001b[m\u001b[mfree,\u001b[m\u001b[m\u001b[1m      0.0 \u001b[m\u001b[mused.\u001b[m\u001b[m\u001b[1m  11991.1 \u001b[m\u001b[mavail Mem \u001b[m\u001b[m\u001b[m\u001b[m\u001b[K\n",
            "\u001b[K\n",
            "\n",
            "\u001b[m   1515 root      20   0  887816 136580  30240 S   4.7   1.0   0:06.71 node     \u001b[m\u001b[m\u001b[K\n",
            "\u001b[m   1422 root      20   0 1112720 109440  26540 S   0.7   0.8   0:02.29 python3  \u001b[m\u001b[m\u001b[K\n",
            "\u001b[m      6 root      20   0  886184  47248  30900 S   0.3   0.4   0:01.15 node     \u001b[m\u001b[m\u001b[K\n",
            "\u001b[m     21 root      20   0 1237452  14764   6876 S   0.3   0.1   0:00.09 kernel_+ \u001b[m\u001b[m\u001b[K\n",
            "\u001b[m    105 root      20   0 1228148   9232   2828 S   0.3   0.1   0:00.04 dap_mul+ \u001b[m\u001b[m\u001b[K\n",
            "\u001b[m   1506 root      20   0 1237204  17068   7148 S   0.3   0.1   0:00.20 languag+ \u001b[m\u001b[m\u001b[K\n",
            "\u001b[m      1 root      20   0    1040      8      0 S   0.0   0.0   0:00.05 docker-+ \u001b[m\u001b[m\u001b[K\n",
            "\u001b[m     17 root      20   0    7372   3560   3260 S   0.0   0.0   0:00.19 oom_mon+ \u001b[m\u001b[m\u001b[K\n",
            "\u001b[m     19 root      20   0    7372   1880   1592 S   0.0   0.0   0:00.00 run.sh   \u001b[m\u001b[m\u001b[K\n",
            "\n",
            "\n",
            "\n",
            "\n",
            "\u001b[m   1471 root      20   0  538308  13352   4840 S   0.0   0.1   0:00.06 python3  \u001b[m\u001b[m\u001b[K\n",
            "\n",
            "\u001b[m   1970 root      20   0    5772   1000    908 S   0.0   0.0   0:00.00 sleep    \u001b[m\u001b[m\u001b[K\n",
            "\u001b[J\u001b[H\u001b[mtop - 04:31:47 up 7 min,  0 users,  load average: 0.42, 0.30, 0.15\u001b[m\u001b[m\u001b[m\u001b[m\u001b[K\n",
            "\n",
            "%Cpu(s):\u001b[m\u001b[m\u001b[1m  3.7 \u001b[m\u001b[mus,\u001b[m\u001b[m\u001b[1m  1.2 \u001b[m\u001b[msy,\u001b[m\u001b[m\u001b[1m  0.0 \u001b[m\u001b[mni,\u001b[m\u001b[m\u001b[1m 95.1 \u001b[m\u001b[mid,\u001b[m\u001b[m\u001b[1m  0.0 \u001b[m\u001b[mwa,\u001b[m\u001b[m\u001b[1m  0.0 \u001b[m\u001b[mhi,\u001b[m\u001b[m\u001b[1m  0.0 \u001b[m\u001b[msi,\u001b[m\u001b[m\u001b[1m  0.0 \u001b[m\u001b[mst\u001b[m\u001b[m\u001b[m\u001b[m\u001b[K\n",
            "\n",
            "\n",
            "\u001b[K\n",
            "\n",
            "\u001b[m   1515 root      20   0  887816 138380  30240 S   3.3   1.0   0:06.81 node     \u001b[m\u001b[m\u001b[K\n",
            "\u001b[m      6 root      20   0  886184  47776  30900 S   0.7   0.4   0:01.17 node     \u001b[m\u001b[m\u001b[K\n",
            "\u001b[m   1422 root      20   0 1112720 109440  26540 S   0.7   0.8   0:02.31 python3  \u001b[m\u001b[m\u001b[K\n",
            "\u001b[m    104 root      20   0  558644 163468  53392 S   0.3   1.2   0:03.35 jupyter+ \u001b[m\u001b[m\u001b[K\n",
            "\u001b[m   1471 root      20   0  538308  13352   4840 S   0.3   0.1   0:00.07 python3  \u001b[m\u001b[m\u001b[K\n",
            "\u001b[m\u001b[1m   1882 root      20   0   10348   3916   3340 R   0.3   0.0   0:00.01 top      \u001b[m\u001b[m\u001b[K\n",
            "\n",
            "\n",
            "\n",
            "\u001b[m     21 root      20   0 1237452  14764   6876 S   0.0   0.1   0:00.09 kernel_+ \u001b[m\u001b[m\u001b[K\n",
            "\u001b[m     24 root      20   0    5804   1000    908 S   0.0   0.0   0:00.05 tail     \u001b[m\u001b[m\u001b[K\n",
            "\u001b[m     54 root      20   0       0      0      0 Z   0.0   0.0   0:05.59 python3  \u001b[m\u001b[m\u001b[K\n",
            "\u001b[m     55 root      20   0   65772  50868  18100 S   0.0   0.4   0:00.60 colab-f+ \u001b[m\u001b[m\u001b[K\n",
            "\u001b[m    105 root      20   0 1228724   9632   2924 S   0.0   0.1   0:00.04 dap_mul+ \u001b[m\u001b[m\u001b[K\n",
            "\u001b[m   1506 root      20   0 1237204  17068   7148 S   0.0   0.1   0:00.20 languag+ \u001b[m\u001b[m\u001b[K\n",
            "\u001b[m   1984 root      20   0    5772   1100   1008 S   0.0   0.0   0:00.00 sleep    \u001b[m\u001b[m\u001b[K\n",
            "\u001b[J\u001b[H\u001b[mtop - 04:31:50 up 7 min,  0 users,  load average: 0.42, 0.30, 0.15\u001b[m\u001b[m\u001b[m\u001b[m\u001b[K\n",
            "\n",
            "%Cpu(s):\u001b[m\u001b[m\u001b[1m  4.5 \u001b[m\u001b[mus,\u001b[m\u001b[m\u001b[1m  1.0 \u001b[m\u001b[msy,\u001b[m\u001b[m\u001b[1m  0.0 \u001b[m\u001b[mni,\u001b[m\u001b[m\u001b[1m 94.3 \u001b[m\u001b[mid,\u001b[m\u001b[m\u001b[1m  0.0 \u001b[m\u001b[mwa,\u001b[m\u001b[m\u001b[1m  0.0 \u001b[m\u001b[mhi,\u001b[m\u001b[m\u001b[1m  0.2 \u001b[m\u001b[msi,\u001b[m\u001b[m\u001b[1m  0.0 \u001b[m\u001b[mst\u001b[m\u001b[m\u001b[m\u001b[m\u001b[K\n",
            "MiB Mem :\u001b[m\u001b[m\u001b[1m  12982.7 \u001b[m\u001b[mtotal,\u001b[m\u001b[m\u001b[1m   9936.5 \u001b[m\u001b[mfree,\u001b[m\u001b[m\u001b[1m    701.2 \u001b[m\u001b[mused,\u001b[m\u001b[m\u001b[1m   2345.0 \u001b[m\u001b[mbuff/cache\u001b[m\u001b[m\u001b[m\u001b[m\u001b[K\n",
            "MiB Swap:\u001b[m\u001b[m\u001b[1m      0.0 \u001b[m\u001b[mtotal,\u001b[m\u001b[m\u001b[1m      0.0 \u001b[m\u001b[mfree,\u001b[m\u001b[m\u001b[1m      0.0 \u001b[m\u001b[mused.\u001b[m\u001b[m\u001b[1m  12005.3 \u001b[m\u001b[mavail Mem \u001b[m\u001b[m\u001b[m\u001b[m\u001b[K\n",
            "\u001b[K\n",
            "\n",
            "\u001b[m   1515 root      20   0  897544 113116  30240 S   6.3   0.9   0:07.00 node     \u001b[m\u001b[m\u001b[K\n",
            "\u001b[m      6 root      20   0  886184  47276  30900 S   0.3   0.4   0:01.18 node     \u001b[m\u001b[m\u001b[K\n",
            "\u001b[m     21 root      20   0 1237452  14764   6876 S   0.3   0.1   0:00.10 kernel_+ \u001b[m\u001b[m\u001b[K\n",
            "\u001b[m   1422 root      20   0 1112720 109440  26540 S   0.3   0.8   0:02.32 python3  \u001b[m\u001b[m\u001b[K\n",
            "\u001b[m      1 root      20   0    1040      8      0 S   0.0   0.0   0:00.05 docker-+ \u001b[m\u001b[m\u001b[K\n",
            "\u001b[m     17 root      20   0    7372   3560   3260 S   0.0   0.0   0:00.19 oom_mon+ \u001b[m\u001b[m\u001b[K\n",
            "\u001b[m     19 root      20   0    7372   1880   1592 S   0.0   0.0   0:00.00 run.sh   \u001b[m\u001b[m\u001b[K\n",
            "\u001b[m     24 root      20   0    5804   1000    908 S   0.0   0.0   0:00.05 tail     \u001b[m\u001b[m\u001b[K\n",
            "\u001b[m     54 root      20   0       0      0      0 Z   0.0   0.0   0:05.59 python3  \u001b[m\u001b[m\u001b[K\n",
            "\u001b[m     55 root      20   0   65772  50868  18100 S   0.0   0.4   0:00.60 colab-f+ \u001b[m\u001b[m\u001b[K\n",
            "\u001b[m    104 root      20   0  558644 163468  53392 S   0.0   1.2   0:03.35 jupyter+ \u001b[m\u001b[m\u001b[K\n",
            "\u001b[m    105 root      20   0 1228724   9632   2924 S   0.0   0.1   0:00.04 dap_mul+ \u001b[m\u001b[m\u001b[K\n",
            "\u001b[m   1471 root      20   0  538308  13352   4840 S   0.0   0.1   0:00.07 python3  \u001b[m\u001b[m\u001b[K\n",
            "\u001b[m   1506 root      20   0 1237204  17068   7148 S   0.0   0.1   0:00.20 languag+ \u001b[m\u001b[m\u001b[K\n",
            "\u001b[m\u001b[1m   1882 root      20   0   10348   3916   3340 R   0.0   0.0   0:00.01 top      \u001b[m\u001b[m\u001b[K\n",
            "\u001b[m   1996 root      20   0    5772   1032    936 S   0.0   0.0   0:00.00 sleep    \u001b[m\u001b[m\u001b[K\n",
            "\u001b[J\u001b[H\u001b[mtop - 04:31:53 up 7 min,  0 users,  load average: 0.39, 0.30, 0.15\u001b[m\u001b[m\u001b[m\u001b[m\u001b[K\n",
            "\n",
            "%Cpu(s):\u001b[m\u001b[m\u001b[1m 24.0 \u001b[m\u001b[mus,\u001b[m\u001b[m\u001b[1m  4.8 \u001b[m\u001b[msy,\u001b[m\u001b[m\u001b[1m  0.0 \u001b[m\u001b[mni,\u001b[m\u001b[m\u001b[1m 71.2 \u001b[m\u001b[mid,\u001b[m\u001b[m\u001b[1m  0.0 \u001b[m\u001b[mwa,\u001b[m\u001b[m\u001b[1m  0.0 \u001b[m\u001b[mhi,\u001b[m\u001b[m\u001b[1m  0.0 \u001b[m\u001b[msi,\u001b[m\u001b[m\u001b[1m  0.0 \u001b[m\u001b[mst\u001b[m\u001b[m\u001b[m\u001b[m\u001b[K\n",
            "MiB Mem :\u001b[m\u001b[m\u001b[1m  12982.7 \u001b[m\u001b[mtotal,\u001b[m\u001b[m\u001b[1m   9937.6 \u001b[m\u001b[mfree,\u001b[m\u001b[m\u001b[1m    700.1 \u001b[m\u001b[mused,\u001b[m\u001b[m\u001b[1m   2345.0 \u001b[m\u001b[mbuff/cache\u001b[m\u001b[m\u001b[m\u001b[m\u001b[K\n",
            "MiB Swap:\u001b[m\u001b[m\u001b[1m      0.0 \u001b[m\u001b[mtotal,\u001b[m\u001b[m\u001b[1m      0.0 \u001b[m\u001b[mfree,\u001b[m\u001b[m\u001b[1m      0.0 \u001b[m\u001b[mused.\u001b[m\u001b[m\u001b[1m  12006.4 \u001b[m\u001b[mavail Mem \u001b[m\u001b[m\u001b[m\u001b[m\u001b[K\n",
            "\u001b[K\n",
            "\n",
            "\u001b[m   1515 root      20   0  897800 113136  30240 S   1.7   0.9   0:07.05 node     \u001b[m\u001b[m\u001b[K\n",
            "\u001b[m    105 root      20   0 1228724   9632   2924 S   0.7   0.1   0:00.06 dap_mul+ \u001b[m\u001b[m\u001b[K\n",
            "\u001b[m      6 root      20   0  886184  47276  30900 S   0.3   0.4   0:01.19 node     \u001b[m\u001b[m\u001b[K\n",
            "\u001b[m    104 root      20   0  558644 163468  53392 S   0.3   1.2   0:03.36 jupyter+ \u001b[m\u001b[m\u001b[K\n",
            "\u001b[m   1422 root      20   0 1112720 109440  26540 S   0.3   0.8   0:02.33 python3  \u001b[m\u001b[m\u001b[K\n",
            "\u001b[m   1471 root      20   0  538308  13352   4840 S   0.3   0.1   0:00.08 python3  \u001b[m\u001b[m\u001b[K\n",
            "\u001b[m      1 root      20   0    1040      8      0 S   0.0   0.0   0:00.05 docker-+ \u001b[m\u001b[m\u001b[K\n",
            "\u001b[m     17 root      20   0    7372   3560   3260 S   0.0   0.0   0:00.19 oom_mon+ \u001b[m\u001b[m\u001b[K\n",
            "\u001b[m     19 root      20   0    7372   1880   1592 S   0.0   0.0   0:00.00 run.sh   \u001b[m\u001b[m\u001b[K\n",
            "\u001b[m     21 root      20   0 1237708  14764   6876 S   0.0   0.1   0:00.10 kernel_+ \u001b[m\u001b[m\u001b[K\n",
            "\u001b[m     24 root      20   0    5804   1000    908 S   0.0   0.0   0:00.05 tail     \u001b[m\u001b[m\u001b[K\n",
            "\u001b[m     54 root      20   0       0      0      0 Z   0.0   0.0   0:05.59 python3  \u001b[m\u001b[m\u001b[K\n",
            "\u001b[m     55 root      20   0   65772  50868  18100 S   0.0   0.4   0:00.60 colab-f+ \u001b[m\u001b[m\u001b[K\n",
            "\n",
            "\n",
            "\u001b[m   2010 root      20   0    5772   1004    908 S   0.0   0.0   0:00.00 sleep    \u001b[m\u001b[m\u001b[K\n",
            "\u001b[J\u001b[H\u001b[mtop - 04:31:56 up 7 min,  0 users,  load average: 0.39, 0.30, 0.15\u001b[m\u001b[m\u001b[m\u001b[m\u001b[K\n",
            "\n",
            "%Cpu(s):\u001b[m\u001b[m\u001b[1m  0.8 \u001b[m\u001b[mus,\u001b[m\u001b[m\u001b[1m  0.7 \u001b[m\u001b[msy,\u001b[m\u001b[m\u001b[1m  0.0 \u001b[m\u001b[mni,\u001b[m\u001b[m\u001b[1m 98.5 \u001b[m\u001b[mid,\u001b[m\u001b[m\u001b[1m  0.0 \u001b[m\u001b[mwa,\u001b[m\u001b[m\u001b[1m  0.0 \u001b[m\u001b[mhi,\u001b[m\u001b[m\u001b[1m  0.0 \u001b[m\u001b[msi,\u001b[m\u001b[m\u001b[1m  0.0 \u001b[m\u001b[mst\u001b[m\u001b[m\u001b[m\u001b[m\u001b[K\n",
            "\n",
            "\n",
            "\u001b[K\n",
            "\n",
            "\u001b[m   1422 root      20   0 1112720 109440  26540 S   1.0   0.8   0:02.36 python3  \u001b[m\u001b[m\u001b[K\n",
            "\u001b[m     17 root      20   0    7372   3560   3260 S   0.3   0.0   0:00.20 oom_mon+ \u001b[m\u001b[m\u001b[K\n",
            "\u001b[m   1471 root      20   0  538308  13352   4840 S   0.3   0.1   0:00.09 python3  \u001b[m\u001b[m\u001b[K\n",
            "\u001b[m      1 root      20   0    1040      8      0 S   0.0   0.0   0:00.05 docker-+ \u001b[m\u001b[m\u001b[K\n",
            "\u001b[m      6 root      20   0  886184  47524  30900 S   0.0   0.4   0:01.19 node     \u001b[m\u001b[m\u001b[K\n",
            "\u001b[m     19 root      20   0    7372   1880   1592 S   0.0   0.0   0:00.00 run.sh   \u001b[m\u001b[m\u001b[K\n",
            "\u001b[m     21 root      20   0 1237708  14764   6876 S   0.0   0.1   0:00.10 kernel_+ \u001b[m\u001b[m\u001b[K\n",
            "\u001b[m     24 root      20   0    5804   1000    908 S   0.0   0.0   0:00.05 tail     \u001b[m\u001b[m\u001b[K\n",
            "\u001b[m     54 root      20   0       0      0      0 Z   0.0   0.0   0:05.59 python3  \u001b[m\u001b[m\u001b[K\n",
            "\u001b[m     55 root      20   0   65772  50868  18100 S   0.0   0.4   0:00.60 colab-f+ \u001b[m\u001b[m\u001b[K\n",
            "\u001b[m    104 root      20   0  558644 163468  53392 S   0.0   1.2   0:03.36 jupyter+ \u001b[m\u001b[m\u001b[K\n",
            "\u001b[m    105 root      20   0 1228724   9632   2924 S   0.0   0.1   0:00.06 dap_mul+ \u001b[m\u001b[m\u001b[K\n",
            "\u001b[m   1506 root      20   0 1237204  17068   7148 S   0.0   0.1   0:00.20 languag+ \u001b[m\u001b[m\u001b[K\n",
            "\u001b[m   1515 root      20   0  897800 113136  30240 S   0.0   0.9   0:07.05 node     \u001b[m\u001b[m\u001b[K\n",
            "\n",
            "\u001b[m   2022 root      20   0    5772    996    904 S   0.0   0.0   0:00.00 sleep    \u001b[m\u001b[m\u001b[K\n",
            "\u001b[J\u001b[H\u001b[mtop - 04:31:59 up 7 min,  0 users,  load average: 0.35, 0.29, 0.15\u001b[m\u001b[m\u001b[m\u001b[m\u001b[K\n",
            "\n",
            "%Cpu(s):\u001b[m\u001b[m\u001b[1m  1.2 \u001b[m\u001b[mus,\u001b[m\u001b[m\u001b[1m  1.2 \u001b[m\u001b[msy,\u001b[m\u001b[m\u001b[1m  0.0 \u001b[m\u001b[mni,\u001b[m\u001b[m\u001b[1m 97.7 \u001b[m\u001b[mid,\u001b[m\u001b[m\u001b[1m  0.0 \u001b[m\u001b[mwa,\u001b[m\u001b[m\u001b[1m  0.0 \u001b[m\u001b[mhi,\u001b[m\u001b[m\u001b[1m  0.0 \u001b[m\u001b[msi,\u001b[m\u001b[m\u001b[1m  0.0 \u001b[m\u001b[mst\u001b[m\u001b[m\u001b[m\u001b[m\u001b[K\n",
            "\n",
            "\n",
            "\u001b[K\n",
            "\n",
            "\u001b[m   1422 root      20   0 1112720 109440  26540 S   0.3   0.8   0:02.37 python3  \u001b[m\u001b[m\u001b[K\n",
            "\u001b[m   1471 root      20   0  538308  13352   4840 S   0.3   0.1   0:00.10 python3  \u001b[m\u001b[m\u001b[K\n",
            "\u001b[m      1 root      20   0    1040      8      0 S   0.0   0.0   0:00.05 docker-+ \u001b[m\u001b[m\u001b[K\n",
            "\u001b[m      6 root      20   0  886184  47524  30900 S   0.0   0.4   0:01.19 node     \u001b[m\u001b[m\u001b[K\n",
            "\u001b[m     17 root      20   0    7372   3560   3260 S   0.0   0.0   0:00.20 oom_mon+ \u001b[m\u001b[m\u001b[K\n",
            "\n",
            "\n",
            "\n",
            "\n",
            "\n",
            "\n",
            "\n",
            "\n",
            "\n",
            "\n",
            "\u001b[m   2036 root      20   0    5772    984    892 S   0.0   0.0   0:00.00 sleep    \u001b[m\u001b[m\u001b[K\n",
            "\u001b[J\u001b[H\u001b[mtop - 04:32:02 up 7 min,  0 users,  load average: 0.33, 0.29, 0.15\u001b[m\u001b[m\u001b[m\u001b[m\u001b[K\n",
            "\n",
            "%Cpu(s):\u001b[m\u001b[m\u001b[1m  1.3 \u001b[m\u001b[mus,\u001b[m\u001b[m\u001b[1m  1.0 \u001b[m\u001b[msy,\u001b[m\u001b[m\u001b[1m  0.0 \u001b[m\u001b[mni,\u001b[m\u001b[m\u001b[1m 97.7 \u001b[m\u001b[mid,\u001b[m\u001b[m\u001b[1m  0.0 \u001b[m\u001b[mwa,\u001b[m\u001b[m\u001b[1m  0.0 \u001b[m\u001b[mhi,\u001b[m\u001b[m\u001b[1m  0.0 \u001b[m\u001b[msi,\u001b[m\u001b[m\u001b[1m  0.0 \u001b[m\u001b[mst\u001b[m\u001b[m\u001b[m\u001b[m\u001b[K\n",
            "\n",
            "\n",
            "\u001b[K\n",
            "\n",
            "\u001b[m      6 root      20   0  886184  47784  30900 S   0.7   0.4   0:01.21 node     \u001b[m\u001b[m\u001b[K\n",
            "\u001b[m    104 root      20   0  558644 163468  53392 S   0.7   1.2   0:03.38 jupyter+ \u001b[m\u001b[m\u001b[K\n",
            "\u001b[m    105 root      20   0 1228724   9632   2924 S   0.3   0.1   0:00.07 dap_mul+ \u001b[m\u001b[m\u001b[K\n",
            "\u001b[m   1422 root      20   0 1112720 109440  26540 S   0.3   0.8   0:02.38 python3  \u001b[m\u001b[m\u001b[K\n",
            "\u001b[m      1 root      20   0    1040      8      0 S   0.0   0.0   0:00.05 docker-+ \u001b[m\u001b[m\u001b[K\n",
            "\u001b[m     17 root      20   0    7372   3560   3260 S   0.0   0.0   0:00.20 oom_mon+ \u001b[m\u001b[m\u001b[K\n",
            "\u001b[m     19 root      20   0    7372   1880   1592 S   0.0   0.0   0:00.00 run.sh   \u001b[m\u001b[m\u001b[K\n",
            "\u001b[m     21 root      20   0 1237708  14764   6876 S   0.0   0.1   0:00.10 kernel_+ \u001b[m\u001b[m\u001b[K\n",
            "\u001b[m     24 root      20   0    5804   1000    908 S   0.0   0.0   0:00.05 tail     \u001b[m\u001b[m\u001b[K\n",
            "\u001b[m     54 root      20   0       0      0      0 Z   0.0   0.0   0:05.59 python3  \u001b[m\u001b[m\u001b[K\n",
            "\u001b[m     55 root      20   0   65772  50868  18100 S   0.0   0.4   0:00.60 colab-f+ \u001b[m\u001b[m\u001b[K\n",
            "\u001b[m   1471 root      20   0  538308  13352   4840 S   0.0   0.1   0:00.10 python3  \u001b[m\u001b[m\u001b[K\n",
            "\n",
            "\n",
            "\n",
            "\u001b[m   2048 root      20   0    5772   1008    912 S   0.0   0.0   0:00.00 sleep    \u001b[m\u001b[m\u001b[K\n",
            "\u001b[J\u001b[H\u001b[mtop - 04:32:05 up 7 min,  0 users,  load average: 0.33, 0.29, 0.15\u001b[m\u001b[m\u001b[m\u001b[m\u001b[K\n",
            "\n",
            "%Cpu(s):\u001b[m\u001b[m\u001b[1m 22.4 \u001b[m\u001b[mus,\u001b[m\u001b[m\u001b[1m  4.7 \u001b[m\u001b[msy,\u001b[m\u001b[m\u001b[1m  0.0 \u001b[m\u001b[mni,\u001b[m\u001b[m\u001b[1m 72.8 \u001b[m\u001b[mid,\u001b[m\u001b[m\u001b[1m  0.0 \u001b[m\u001b[mwa,\u001b[m\u001b[m\u001b[1m  0.0 \u001b[m\u001b[mhi,\u001b[m\u001b[m\u001b[1m  0.2 \u001b[m\u001b[msi,\u001b[m\u001b[m\u001b[1m  0.0 \u001b[m\u001b[mst\u001b[m\u001b[m\u001b[m\u001b[m\u001b[K\n",
            "MiB Mem :\u001b[m\u001b[m\u001b[1m  12982.7 \u001b[m\u001b[mtotal,\u001b[m\u001b[m\u001b[1m   9936.8 \u001b[m\u001b[mfree,\u001b[m\u001b[m\u001b[1m    700.8 \u001b[m\u001b[mused,\u001b[m\u001b[m\u001b[1m   2345.0 \u001b[m\u001b[mbuff/cache\u001b[m\u001b[m\u001b[m\u001b[m\u001b[K\n",
            "MiB Swap:\u001b[m\u001b[m\u001b[1m      0.0 \u001b[m\u001b[mtotal,\u001b[m\u001b[m\u001b[1m      0.0 \u001b[m\u001b[mfree,\u001b[m\u001b[m\u001b[1m      0.0 \u001b[m\u001b[mused.\u001b[m\u001b[m\u001b[1m  12005.7 \u001b[m\u001b[mavail Mem \u001b[m\u001b[m\u001b[m\u001b[m\u001b[K\n",
            "\u001b[K\n",
            "\n",
            "\u001b[m   1422 root      20   0 1112720 109440  26540 S   0.7   0.8   0:02.40 python3  \u001b[m\u001b[m\u001b[K\n",
            "\u001b[m   1471 root      20   0  538308  13352   4840 S   0.3   0.1   0:00.11 python3  \u001b[m\u001b[m\u001b[K\n",
            "\u001b[m      1 root      20   0    1040      8      0 S   0.0   0.0   0:00.05 docker-+ \u001b[m\u001b[m\u001b[K\n",
            "\u001b[m      6 root      20   0  886184  47784  30900 S   0.0   0.4   0:01.21 node     \u001b[m\u001b[m\u001b[K\n",
            "\u001b[m     17 root      20   0    7372   3560   3260 S   0.0   0.0   0:00.20 oom_mon+ \u001b[m\u001b[m\u001b[K\n",
            "\u001b[m     19 root      20   0    7372   1880   1592 S   0.0   0.0   0:00.00 run.sh   \u001b[m\u001b[m\u001b[K\n",
            "\u001b[m     21 root      20   0 1237708  14764   6876 S   0.0   0.1   0:00.10 kernel_+ \u001b[m\u001b[m\u001b[K\n",
            "\u001b[m     24 root      20   0    5804   1000    908 S   0.0   0.0   0:00.05 tail     \u001b[m\u001b[m\u001b[K\n",
            "\u001b[m     54 root      20   0       0      0      0 Z   0.0   0.0   0:05.59 python3  \u001b[m\u001b[m\u001b[K\n",
            "\u001b[m     55 root      20   0   65772  50868  18100 S   0.0   0.4   0:00.60 colab-f+ \u001b[m\u001b[m\u001b[K\n",
            "\u001b[m    104 root      20   0  558644 163468  53392 S   0.0   1.2   0:03.38 jupyter+ \u001b[m\u001b[m\u001b[K\n",
            "\u001b[m    105 root      20   0 1228724   9632   2924 S   0.0   0.1   0:00.07 dap_mul+ \u001b[m\u001b[m\u001b[K\n",
            "\n",
            "\n",
            "\n",
            "\u001b[m   2060 root      20   0    5772   1044    952 S   0.0   0.0   0:00.00 sleep    \u001b[m\u001b[m\u001b[K\n",
            "\u001b[J\u001b[H\u001b[mtop - 04:32:08 up 8 min,  0 users,  load average: 0.30, 0.28, 0.15\u001b[m\u001b[m\u001b[m\u001b[m\u001b[K\n",
            "\n",
            "%Cpu(s):\u001b[m\u001b[m\u001b[1m  1.2 \u001b[m\u001b[mus,\u001b[m\u001b[m\u001b[1m  1.2 \u001b[m\u001b[msy,\u001b[m\u001b[m\u001b[1m  0.0 \u001b[m\u001b[mni,\u001b[m\u001b[m\u001b[1m 97.7 \u001b[m\u001b[mid,\u001b[m\u001b[m\u001b[1m  0.0 \u001b[m\u001b[mwa,\u001b[m\u001b[m\u001b[1m  0.0 \u001b[m\u001b[mhi,\u001b[m\u001b[m\u001b[1m  0.0 \u001b[m\u001b[msi,\u001b[m\u001b[m\u001b[1m  0.0 \u001b[m\u001b[mst\u001b[m\u001b[m\u001b[m\u001b[m\u001b[K\n",
            "MiB Mem :\u001b[m\u001b[m\u001b[1m  12982.7 \u001b[m\u001b[mtotal,\u001b[m\u001b[m\u001b[1m   9936.6 \u001b[m\u001b[mfree,\u001b[m\u001b[m\u001b[1m    701.1 \u001b[m\u001b[mused,\u001b[m\u001b[m\u001b[1m   2345.0 \u001b[m\u001b[mbuff/cache\u001b[m\u001b[m\u001b[m\u001b[m\u001b[K\n",
            "MiB Swap:\u001b[m\u001b[m\u001b[1m      0.0 \u001b[m\u001b[mtotal,\u001b[m\u001b[m\u001b[1m      0.0 \u001b[m\u001b[mfree,\u001b[m\u001b[m\u001b[1m      0.0 \u001b[m\u001b[mused.\u001b[m\u001b[m\u001b[1m  12005.4 \u001b[m\u001b[mavail Mem \u001b[m\u001b[m\u001b[m\u001b[m\u001b[K\n",
            "\u001b[K\n",
            "\n",
            "\u001b[m   1422 root      20   0 1112720 109440  26540 S   0.7   0.8   0:02.42 python3  \u001b[m\u001b[m\u001b[K\n",
            "\u001b[m      6 root      20   0  886184  48048  30900 S   0.3   0.4   0:01.22 node     \u001b[m\u001b[m\u001b[K\n",
            "\u001b[m     21 root      20   0 1237708  14764   6876 S   0.3   0.1   0:00.11 kernel_+ \u001b[m\u001b[m\u001b[K\n",
            "\u001b[m    104 root      20   0  558644 163468  53392 S   0.3   1.2   0:03.39 jupyter+ \u001b[m\u001b[m\u001b[K\n",
            "\u001b[m   1471 root      20   0  539332  13352   4840 S   0.3   0.1   0:00.12 python3  \u001b[m\u001b[m\u001b[K\n",
            "\u001b[m      1 root      20   0    1040      8      0 S   0.0   0.0   0:00.05 docker-+ \u001b[m\u001b[m\u001b[K\n",
            "\u001b[m     17 root      20   0    7372   3560   3260 S   0.0   0.0   0:00.20 oom_mon+ \u001b[m\u001b[m\u001b[K\n",
            "\u001b[m     19 root      20   0    7372   1880   1592 S   0.0   0.0   0:00.00 run.sh   \u001b[m\u001b[m\u001b[K\n",
            "\u001b[m     24 root      20   0    5804   1000    908 S   0.0   0.0   0:00.05 tail     \u001b[m\u001b[m\u001b[K\n",
            "\u001b[m     54 root      20   0       0      0      0 Z   0.0   0.0   0:05.59 python3  \u001b[m\u001b[m\u001b[K\n",
            "\u001b[m     55 root      20   0   65772  50868  18100 S   0.0   0.4   0:00.60 colab-f+ \u001b[m\u001b[m\u001b[K\n",
            "\n",
            "\n",
            "\n",
            "\n",
            "\u001b[m   2074 root      20   0    5772   1052    956 S   0.0   0.0   0:00.00 sleep    \u001b[m\u001b[m\u001b[K\n",
            "\u001b[J\u001b[H\u001b[mtop - 04:32:11 up 8 min,  0 users,  load average: 0.30, 0.28, 0.15\u001b[m\u001b[m\u001b[m\u001b[m\u001b[K\n",
            "\n",
            "%Cpu(s):\u001b[m\u001b[m\u001b[1m  1.0 \u001b[m\u001b[mus,\u001b[m\u001b[m\u001b[1m  0.7 \u001b[m\u001b[msy,\u001b[m\u001b[m\u001b[1m  0.0 \u001b[m\u001b[mni,\u001b[m\u001b[m\u001b[1m 98.2 \u001b[m\u001b[mid,\u001b[m\u001b[m\u001b[1m  0.2 \u001b[m\u001b[mwa,\u001b[m\u001b[m\u001b[1m  0.0 \u001b[m\u001b[mhi,\u001b[m\u001b[m\u001b[1m  0.0 \u001b[m\u001b[msi,\u001b[m\u001b[m\u001b[1m  0.0 \u001b[m\u001b[mst\u001b[m\u001b[m\u001b[m\u001b[m\u001b[K\n",
            "\n",
            "\n",
            "\u001b[K\n",
            "\n",
            "\u001b[m   1422 root      20   0 1112720 109440  26540 S   0.7   0.8   0:02.44 python3  \u001b[m\u001b[m\u001b[K\n",
            "\u001b[m    105 root      20   0 1228724   9632   2924 S   0.3   0.1   0:00.08 dap_mul+ \u001b[m\u001b[m\u001b[K\n",
            "\u001b[m      1 root      20   0    1040      8      0 S   0.0   0.0   0:00.05 docker-+ \u001b[m\u001b[m\u001b[K\n",
            "\u001b[m      6 root      20   0  886184  47024  30900 S   0.0   0.4   0:01.22 node     \u001b[m\u001b[m\u001b[K\n",
            "\u001b[m     17 root      20   0    7372   3560   3260 S   0.0   0.0   0:00.20 oom_mon+ \u001b[m\u001b[m\u001b[K\n",
            "\u001b[m     19 root      20   0    7372   1880   1592 S   0.0   0.0   0:00.00 run.sh   \u001b[m\u001b[m\u001b[K\n",
            "\u001b[m     21 root      20   0 1237708  14764   6876 S   0.0   0.1   0:00.11 kernel_+ \u001b[m\u001b[m\u001b[K\n",
            "\u001b[m     24 root      20   0    5804   1000    908 S   0.0   0.0   0:00.05 tail     \u001b[m\u001b[m\u001b[K\n",
            "\u001b[m     54 root      20   0       0      0      0 Z   0.0   0.0   0:05.59 python3  \u001b[m\u001b[m\u001b[K\n",
            "\u001b[m     55 root      20   0   65772  50868  18100 S   0.0   0.4   0:00.60 colab-f+ \u001b[m\u001b[m\u001b[K\n",
            "\u001b[m    104 root      20   0  558644 163468  53392 S   0.0   1.2   0:03.39 jupyter+ \u001b[m\u001b[m\u001b[K\n",
            "\u001b[m   1471 root      20   0  539332  13352   4840 S   0.0   0.1   0:00.12 python3  \u001b[m\u001b[m\u001b[K\n",
            "\n",
            "\n",
            "\n",
            "\u001b[m   2086 root      20   0    5772    980    892 S   0.0   0.0   0:00.00 sleep    \u001b[m\u001b[m\u001b[K\n",
            "\u001b[J\u001b[H\u001b[mtop - 04:32:14 up 8 min,  0 users,  load average: 0.27, 0.28, 0.15\u001b[m\u001b[m\u001b[m\u001b[m\u001b[K\n",
            "\n",
            "%Cpu(s):\u001b[m\u001b[m\u001b[1m  0.8 \u001b[m\u001b[mus,\u001b[m\u001b[m\u001b[1m  0.8 \u001b[m\u001b[msy,\u001b[m\u001b[m\u001b[1m  0.0 \u001b[m\u001b[mni,\u001b[m\u001b[m\u001b[1m 98.3 \u001b[m\u001b[mid,\u001b[m\u001b[m\u001b[1m  0.0 \u001b[m\u001b[mwa,\u001b[m\u001b[m\u001b[1m  0.0 \u001b[m\u001b[mhi,\u001b[m\u001b[m\u001b[1m  0.0 \u001b[m\u001b[msi,\u001b[m\u001b[m\u001b[1m  0.0 \u001b[m\u001b[mst\u001b[m\u001b[m\u001b[m\u001b[m\u001b[K\n",
            "\n",
            "\n",
            "\u001b[K\n",
            "\n",
            "\u001b[m     17 root      20   0    7372   3560   3260 S   0.3   0.0   0:00.21 oom_mon+ \u001b[m\u001b[m\u001b[K\n",
            "\u001b[m   1422 root      20   0 1112720 109440  26540 S   0.3   0.8   0:02.45 python3  \u001b[m\u001b[m\u001b[K\n",
            "\u001b[m   1471 root      20   0  539332  13352   4840 S   0.3   0.1   0:00.13 python3  \u001b[m\u001b[m\u001b[K\n",
            "\u001b[m      1 root      20   0    1040      8      0 S   0.0   0.0   0:00.05 docker-+ \u001b[m\u001b[m\u001b[K\n",
            "\u001b[m      6 root      20   0  886184  47288  30904 S   0.0   0.4   0:01.22 node     \u001b[m\u001b[m\u001b[K\n",
            "\n",
            "\n",
            "\n",
            "\n",
            "\n",
            "\n",
            "\u001b[m    105 root      20   0 1228724   9632   2924 S   0.0   0.1   0:00.08 dap_mul+ \u001b[m\u001b[m\u001b[K\n",
            "\n",
            "\n",
            "\n",
            "\u001b[m   2098 root      20   0    5772    996    904 S   0.0   0.0   0:00.00 sleep    \u001b[m\u001b[m\u001b[K\n",
            "\u001b[J\u001b[H\u001b[mtop - 04:32:17 up 8 min,  0 users,  load average: 0.25, 0.27, 0.15\u001b[m\u001b[m\u001b[m\u001b[m\u001b[K\n",
            "\n",
            "%Cpu(s):\u001b[m\u001b[m\u001b[1m 22.0 \u001b[m\u001b[mus,\u001b[m\u001b[m\u001b[1m  4.5 \u001b[m\u001b[msy,\u001b[m\u001b[m\u001b[1m  0.0 \u001b[m\u001b[mni,\u001b[m\u001b[m\u001b[1m 73.5 \u001b[m\u001b[mid,\u001b[m\u001b[m\u001b[1m  0.0 \u001b[m\u001b[mwa,\u001b[m\u001b[m\u001b[1m  0.0 \u001b[m\u001b[mhi,\u001b[m\u001b[m\u001b[1m  0.0 \u001b[m\u001b[msi,\u001b[m\u001b[m\u001b[1m  0.0 \u001b[m\u001b[mst\u001b[m\u001b[m\u001b[m\u001b[m\u001b[K\n",
            "MiB Mem :\u001b[m\u001b[m\u001b[1m  12982.7 \u001b[m\u001b[mtotal,\u001b[m\u001b[m\u001b[1m   9940.8 \u001b[m\u001b[mfree,\u001b[m\u001b[m\u001b[1m    696.9 \u001b[m\u001b[mused,\u001b[m\u001b[m\u001b[1m   2345.0 \u001b[m\u001b[mbuff/cache\u001b[m\u001b[m\u001b[m\u001b[m\u001b[K\n",
            "MiB Swap:\u001b[m\u001b[m\u001b[1m      0.0 \u001b[m\u001b[mtotal,\u001b[m\u001b[m\u001b[1m      0.0 \u001b[m\u001b[mfree,\u001b[m\u001b[m\u001b[1m      0.0 \u001b[m\u001b[mused.\u001b[m\u001b[m\u001b[1m  12009.6 \u001b[m\u001b[mavail Mem \u001b[m\u001b[m\u001b[m\u001b[m\u001b[K\n",
            "\u001b[K\n",
            "\n",
            "\u001b[m   1422 root      20   0 1112720 109440  26540 S   0.3   0.8   0:02.46 python3  \u001b[m\u001b[m\u001b[K\n",
            "\u001b[m   1471 root      20   0  539332  13352   4840 S   0.3   0.1   0:00.14 python3  \u001b[m\u001b[m\u001b[K\n",
            "\u001b[m      1 root      20   0    1040      8      0 S   0.0   0.0   0:00.05 docker-+ \u001b[m\u001b[m\u001b[K\n",
            "\u001b[m      6 root      20   0  886184  47288  30904 S   0.0   0.4   0:01.22 node     \u001b[m\u001b[m\u001b[K\n",
            "\u001b[m     17 root      20   0    7372   3560   3260 S   0.0   0.0   0:00.21 oom_mon+ \u001b[m\u001b[m\u001b[K\n",
            "\n",
            "\n",
            "\n",
            "\n",
            "\n",
            "\n",
            "\u001b[m    105 root      20   0 1229300  10032   2936 S   0.0   0.1   0:00.08 dap_mul+ \u001b[m\u001b[m\u001b[K\n",
            "\n",
            "\n",
            "\n",
            "\u001b[m   2110 root      20   0    5772   1048    956 S   0.0   0.0   0:00.00 sleep    \u001b[m\u001b[m\u001b[K\n",
            "\u001b[J\u001b[H\u001b[mtop - 04:32:20 up 8 min,  0 users,  load average: 0.25, 0.27, 0.15\u001b[m\u001b[m\u001b[m\u001b[m\u001b[K\n",
            "\n",
            "%Cpu(s):\u001b[m\u001b[m\u001b[1m  1.7 \u001b[m\u001b[mus,\u001b[m\u001b[m\u001b[1m  1.0 \u001b[m\u001b[msy,\u001b[m\u001b[m\u001b[1m  0.0 \u001b[m\u001b[mni,\u001b[m\u001b[m\u001b[1m 97.3 \u001b[m\u001b[mid,\u001b[m\u001b[m\u001b[1m  0.0 \u001b[m\u001b[mwa,\u001b[m\u001b[m\u001b[1m  0.0 \u001b[m\u001b[mhi,\u001b[m\u001b[m\u001b[1m  0.0 \u001b[m\u001b[msi,\u001b[m\u001b[m\u001b[1m  0.0 \u001b[m\u001b[mst\u001b[m\u001b[m\u001b[m\u001b[m\u001b[K\n",
            "MiB Mem :\u001b[m\u001b[m\u001b[1m  12982.7 \u001b[m\u001b[mtotal,\u001b[m\u001b[m\u001b[1m   9947.0 \u001b[m\u001b[mfree,\u001b[m\u001b[m\u001b[1m    690.6 \u001b[m\u001b[mused,\u001b[m\u001b[m\u001b[1m   2345.0 \u001b[m\u001b[mbuff/cache\u001b[m\u001b[m\u001b[m\u001b[m\u001b[K\n",
            "MiB Swap:\u001b[m\u001b[m\u001b[1m      0.0 \u001b[m\u001b[mtotal,\u001b[m\u001b[m\u001b[1m      0.0 \u001b[m\u001b[mfree,\u001b[m\u001b[m\u001b[1m      0.0 \u001b[m\u001b[mused.\u001b[m\u001b[m\u001b[1m  12015.9 \u001b[m\u001b[mavail Mem \u001b[m\u001b[m\u001b[m\u001b[m\u001b[K\n",
            "\u001b[K\n",
            "\n",
            "\u001b[m   1422 root      20   0 1112720 109440  26540 S   0.7   0.8   0:02.48 python3  \u001b[m\u001b[m\u001b[K\n",
            "\u001b[m      6 root      20   0  886184  47552  30904 S   0.3   0.4   0:01.23 node     \u001b[m\u001b[m\u001b[K\n",
            "\u001b[m    105 root      20   0 1229300  10216   2936 S   0.3   0.1   0:00.09 dap_mul+ \u001b[m\u001b[m\u001b[K\n",
            "\u001b[m   1506 root      20   0 1237204  17068   7148 S   0.3   0.1   0:00.21 languag+ \u001b[m\u001b[m\u001b[K\n",
            "\u001b[m   1515 root      20   0  897800 113136  30240 S   0.3   0.9   0:07.06 node     \u001b[m\u001b[m\u001b[K\n",
            "\u001b[m      1 root      20   0    1040      8      0 S   0.0   0.0   0:00.05 docker-+ \u001b[m\u001b[m\u001b[K\n",
            "\u001b[m     17 root      20   0    7372   3560   3260 S   0.0   0.0   0:00.21 oom_mon+ \u001b[m\u001b[m\u001b[K\n",
            "\u001b[m     19 root      20   0    7372   1880   1592 S   0.0   0.0   0:00.00 run.sh   \u001b[m\u001b[m\u001b[K\n",
            "\u001b[m     21 root      20   0 1237772  14764   6876 S   0.0   0.1   0:00.11 kernel_+ \u001b[m\u001b[m\u001b[K\n",
            "\u001b[m     24 root      20   0    5804   1000    908 S   0.0   0.0   0:00.05 tail     \u001b[m\u001b[m\u001b[K\n",
            "\u001b[m     54 root      20   0       0      0      0 Z   0.0   0.0   0:05.59 python3  \u001b[m\u001b[m\u001b[K\n",
            "\u001b[m     55 root      20   0   65772  50868  18100 S   0.0   0.4   0:00.60 colab-f+ \u001b[m\u001b[m\u001b[K\n",
            "\u001b[m    104 root      20   0  558644 163468  53392 S   0.0   1.2   0:03.39 jupyter+ \u001b[m\u001b[m\u001b[K\n",
            "\u001b[m   1471 root      20   0  539332  13808   4840 S   0.0   0.1   0:00.14 python3  \u001b[m\u001b[m\u001b[K\n",
            "\n",
            "\u001b[m   2124 root      20   0    5772   1072    980 S   0.0   0.0   0:00.00 sleep    \u001b[m\u001b[m\u001b[K\n",
            "\u001b[J\u001b[H\u001b[mtop - 04:32:23 up 8 min,  0 users,  load average: 0.23, 0.27, 0.15\u001b[m\u001b[m\u001b[m\u001b[m\u001b[K\n",
            "\n",
            "%Cpu(s):\u001b[m\u001b[m\u001b[1m  1.8 \u001b[m\u001b[mus,\u001b[m\u001b[m\u001b[1m  1.2 \u001b[m\u001b[msy,\u001b[m\u001b[m\u001b[1m  0.0 \u001b[m\u001b[mni,\u001b[m\u001b[m\u001b[1m 97.0 \u001b[m\u001b[mid,\u001b[m\u001b[m\u001b[1m  0.0 \u001b[m\u001b[mwa,\u001b[m\u001b[m\u001b[1m  0.0 \u001b[m\u001b[mhi,\u001b[m\u001b[m\u001b[1m  0.0 \u001b[m\u001b[msi,\u001b[m\u001b[m\u001b[1m  0.0 \u001b[m\u001b[mst\u001b[m\u001b[m\u001b[m\u001b[m\u001b[K\n",
            "MiB Mem :\u001b[m\u001b[m\u001b[1m  12982.7 \u001b[m\u001b[mtotal,\u001b[m\u001b[m\u001b[1m   9946.6 \u001b[m\u001b[mfree,\u001b[m\u001b[m\u001b[1m    691.1 \u001b[m\u001b[mused,\u001b[m\u001b[m\u001b[1m   2345.0 \u001b[m\u001b[mbuff/cache\u001b[m\u001b[m\u001b[m\u001b[m\u001b[K\n",
            "MiB Swap:\u001b[m\u001b[m\u001b[1m      0.0 \u001b[m\u001b[mtotal,\u001b[m\u001b[m\u001b[1m      0.0 \u001b[m\u001b[mfree,\u001b[m\u001b[m\u001b[1m      0.0 \u001b[m\u001b[mused.\u001b[m\u001b[m\u001b[1m  12015.4 \u001b[m\u001b[mavail Mem \u001b[m\u001b[m\u001b[m\u001b[m\u001b[K\n",
            "\u001b[K\n",
            "\n",
            "\u001b[m   1422 root      20   0 1112720 109440  26540 S   0.7   0.8   0:02.50 python3  \u001b[m\u001b[m\u001b[K\n",
            "\u001b[m   1471 root      20   0  539332  13808   4840 S   0.7   0.1   0:00.16 python3  \u001b[m\u001b[m\u001b[K\n",
            "\u001b[m      6 root      20   0  886184  47552  30904 S   0.3   0.4   0:01.24 node     \u001b[m\u001b[m\u001b[K\n",
            "\u001b[m     21 root      20   0 1237772  14764   6876 S   0.3   0.1   0:00.12 kernel_+ \u001b[m\u001b[m\u001b[K\n",
            "\u001b[m    104 root      20   0  558644 163468  53392 S   0.3   1.2   0:03.40 jupyter+ \u001b[m\u001b[m\u001b[K\n",
            "\n",
            "\n",
            "\n",
            "\u001b[m     24 root      20   0    5804   1000    908 S   0.0   0.0   0:00.05 tail     \u001b[m\u001b[m\u001b[K\n",
            "\u001b[m     54 root      20   0       0      0      0 Z   0.0   0.0   0:05.59 python3  \u001b[m\u001b[m\u001b[K\n",
            "\u001b[m     55 root      20   0   65772  50868  18100 S   0.0   0.4   0:00.60 colab-f+ \u001b[m\u001b[m\u001b[K\n",
            "\u001b[m    105 root      20   0 1229300  10216   2936 S   0.0   0.1   0:00.09 dap_mul+ \u001b[m\u001b[m\u001b[K\n",
            "\u001b[m   1506 root      20   0 1237204  17068   7148 S   0.0   0.1   0:00.21 languag+ \u001b[m\u001b[m\u001b[K\n",
            "\u001b[m   1515 root      20   0  897800 113136  30240 S   0.0   0.9   0:07.06 node     \u001b[m\u001b[m\u001b[K\n",
            "\n",
            "\u001b[m   2136 root      20   0    5772   1012    920 S   0.0   0.0   0:00.00 sleep    \u001b[m\u001b[m\u001b[K\n",
            "\u001b[J\u001b[?1l\u001b>\u001b[25;1H\n",
            "\u001b[K"
          ]
        }
      ]
    },
    {
      "cell_type": "code",
      "source": [
        "# 강제종료: 맨 앞에 PID(root 앞 숫자) 기억할 것\n",
        "!kill -9 121212 # -9는 바로 꺼질정도로 강하게 함 , 121212가 pid"
      ],
      "metadata": {
        "id": "bllc6jH23OZX"
      },
      "execution_count": null,
      "outputs": []
    },
    {
      "cell_type": "code",
      "source": [
        "# 파일, 폴더 통째로 날려버리고 싶다\n",
        "!rm -r test2"
      ],
      "metadata": {
        "id": "tG2EABis32w4"
      },
      "execution_count": null,
      "outputs": []
    },
    {
      "cell_type": "code",
      "source": [
        "# 하드 용량 확인\n",
        "!df -h"
      ],
      "metadata": {
        "colab": {
          "base_uri": "https://localhost:8080/"
        },
        "id": "xn0C5Oap4WBR",
        "outputId": "b024853a-dab6-4f96-89f3-fecdf2fc0dc3"
      },
      "execution_count": null,
      "outputs": [
        {
          "output_type": "stream",
          "name": "stdout",
          "text": [
            "Filesystem      Size  Used Avail Use% Mounted on\n",
            "overlay          79G   25G   54G  32% /\n",
            "tmpfs            64M     0   64M   0% /dev\n",
            "shm             5.7G     0  5.7G   0% /dev/shm\n",
            "/dev/root       2.0G  1.1G  887M  55% /usr/sbin/docker-init\n",
            "/dev/sda1        50G   27G   24G  54% /opt/bin/.nvidia\n",
            "tmpfs           6.4G  1.5M  6.4G   1% /var/colab\n",
            "tmpfs           6.4G     0  6.4G   0% /proc/acpi\n",
            "tmpfs           6.4G     0  6.4G   0% /proc/scsi\n",
            "tmpfs           6.4G     0  6.4G   0% /sys/firmware\n"
          ]
        }
      ]
    },
    {
      "cell_type": "code",
      "source": [
        "# nohup 백그라운드 실행\n",
        "# nohup.out 폴더에 로그 저장"
      ],
      "metadata": {
        "id": "VpPyk5RW4lQk"
      },
      "execution_count": null,
      "outputs": []
    },
    {
      "cell_type": "code",
      "source": [
        "# crontab 예약실행"
      ],
      "metadata": {
        "id": "rLFyirGr3hqt"
      },
      "execution_count": null,
      "outputs": []
    },
    {
      "cell_type": "code",
      "source": [
        "# bash 파일 실행\n",
        "!sh test.sh"
      ],
      "metadata": {
        "id": "uuMWUY6E3rxB"
      },
      "execution_count": null,
      "outputs": []
    }
  ]
}