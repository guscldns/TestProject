{
  "nbformat": 4,
  "nbformat_minor": 0,
  "metadata": {
    "accelerator": "GPU",
    "colab": {
      "provenance": [],
      "machine_shape": "hm",
      "collapsed_sections": [
        "p7yAfzbN7aXk"
      ],
      "include_colab_link": true
    },
    "kernelspec": {
      "display_name": "Python 3",
      "name": "python3"
    }
  },
  "cells": [
    {
      "cell_type": "markdown",
      "metadata": {
        "id": "view-in-github",
        "colab_type": "text"
      },
      "source": [
        "<a href=\"https://colab.research.google.com/github/guscldns/TestProject/blob/main/0613/0613_02_4_RNN_%EA%B0%9C%EC%B2%B4%EB%AA%85%EC%9D%B8%EC%8B%9D_%EC%98%81%EC%96%B4(%EC%8B%A4%EC%8A%B5).ipynb\" target=\"_parent\"><img src=\"https://colab.research.google.com/assets/colab-badge.svg\" alt=\"Open In Colab\"/></a>"
      ]
    },
    {
      "cell_type": "markdown",
      "metadata": {
        "id": "7FrWBlgOqqWf"
      },
      "source": [
        "이 자료는 위키독스 딥 러닝을 이용한 자연어 처리 입문의 튜토리얼 자료입니다."
      ]
    },
    {
      "cell_type": "markdown",
      "metadata": {
        "id": "E2QPT2-kqgWs"
      },
      "source": [
        "링크 : https://wikidocs.net/147219"
      ]
    },
    {
      "cell_type": "markdown",
      "metadata": {
        "id": "p7yAfzbN7aXk"
      },
      "source": [
        "### 데이터 전처리"
      ]
    },
    {
      "cell_type": "code",
      "metadata": {
        "id": "BDfQP9b6yXPw"
      },
      "source": [
        "import urllib.request\n",
        "import pandas as pd\n",
        "import numpy as np\n",
        "import matplotlib.pyplot as plt\n",
        "from tensorflow.keras.preprocessing.text import Tokenizer\n",
        "from tensorflow.keras.preprocessing.sequence import pad_sequences\n",
        "from sklearn.model_selection import train_test_split\n",
        "from tensorflow.keras.utils import to_categorical"
      ],
      "execution_count": 1,
      "outputs": []
    },
    {
      "cell_type": "code",
      "metadata": {
        "id": "Qo5Q_PDwycAo"
      },
      "source": [
        "urllib.request.urlretrieve(\"https://raw.githubusercontent.com/ukairia777/tensorflow-nlp-tutorial/main/12.%20RNN%20Sequence%20Labeling/dataset/ner_dataset.csv\", filename=\"ner_dataset.csv\")\n",
        "data = pd.read_csv(\"ner_dataset.csv\", encoding=\"latin1\")"
      ],
      "execution_count": 2,
      "outputs": []
    },
    {
      "cell_type": "code",
      "metadata": {
        "colab": {
          "base_uri": "https://localhost:8080/",
          "height": 206
        },
        "id": "esAWxTIizDtS",
        "outputId": "3f5288c8-6364-441e-9885-8a4f1c651657"
      },
      "source": [
        "data[:5]"
      ],
      "execution_count": 3,
      "outputs": [
        {
          "output_type": "execute_result",
          "data": {
            "text/plain": [
              "    Sentence #           Word  POS Tag\n",
              "0  Sentence: 1      Thousands  NNS   O\n",
              "1          NaN             of   IN   O\n",
              "2          NaN  demonstrators  NNS   O\n",
              "3          NaN           have  VBP   O\n",
              "4          NaN        marched  VBN   O"
            ],
            "text/html": [
              "\n",
              "  <div id=\"df-4fe16831-a127-45e1-927e-210dccd97f9a\">\n",
              "    <div class=\"colab-df-container\">\n",
              "      <div>\n",
              "<style scoped>\n",
              "    .dataframe tbody tr th:only-of-type {\n",
              "        vertical-align: middle;\n",
              "    }\n",
              "\n",
              "    .dataframe tbody tr th {\n",
              "        vertical-align: top;\n",
              "    }\n",
              "\n",
              "    .dataframe thead th {\n",
              "        text-align: right;\n",
              "    }\n",
              "</style>\n",
              "<table border=\"1\" class=\"dataframe\">\n",
              "  <thead>\n",
              "    <tr style=\"text-align: right;\">\n",
              "      <th></th>\n",
              "      <th>Sentence #</th>\n",
              "      <th>Word</th>\n",
              "      <th>POS</th>\n",
              "      <th>Tag</th>\n",
              "    </tr>\n",
              "  </thead>\n",
              "  <tbody>\n",
              "    <tr>\n",
              "      <th>0</th>\n",
              "      <td>Sentence: 1</td>\n",
              "      <td>Thousands</td>\n",
              "      <td>NNS</td>\n",
              "      <td>O</td>\n",
              "    </tr>\n",
              "    <tr>\n",
              "      <th>1</th>\n",
              "      <td>NaN</td>\n",
              "      <td>of</td>\n",
              "      <td>IN</td>\n",
              "      <td>O</td>\n",
              "    </tr>\n",
              "    <tr>\n",
              "      <th>2</th>\n",
              "      <td>NaN</td>\n",
              "      <td>demonstrators</td>\n",
              "      <td>NNS</td>\n",
              "      <td>O</td>\n",
              "    </tr>\n",
              "    <tr>\n",
              "      <th>3</th>\n",
              "      <td>NaN</td>\n",
              "      <td>have</td>\n",
              "      <td>VBP</td>\n",
              "      <td>O</td>\n",
              "    </tr>\n",
              "    <tr>\n",
              "      <th>4</th>\n",
              "      <td>NaN</td>\n",
              "      <td>marched</td>\n",
              "      <td>VBN</td>\n",
              "      <td>O</td>\n",
              "    </tr>\n",
              "  </tbody>\n",
              "</table>\n",
              "</div>\n",
              "      <button class=\"colab-df-convert\" onclick=\"convertToInteractive('df-4fe16831-a127-45e1-927e-210dccd97f9a')\"\n",
              "              title=\"Convert this dataframe to an interactive table.\"\n",
              "              style=\"display:none;\">\n",
              "        \n",
              "  <svg xmlns=\"http://www.w3.org/2000/svg\" height=\"24px\"viewBox=\"0 0 24 24\"\n",
              "       width=\"24px\">\n",
              "    <path d=\"M0 0h24v24H0V0z\" fill=\"none\"/>\n",
              "    <path d=\"M18.56 5.44l.94 2.06.94-2.06 2.06-.94-2.06-.94-.94-2.06-.94 2.06-2.06.94zm-11 1L8.5 8.5l.94-2.06 2.06-.94-2.06-.94L8.5 2.5l-.94 2.06-2.06.94zm10 10l.94 2.06.94-2.06 2.06-.94-2.06-.94-.94-2.06-.94 2.06-2.06.94z\"/><path d=\"M17.41 7.96l-1.37-1.37c-.4-.4-.92-.59-1.43-.59-.52 0-1.04.2-1.43.59L10.3 9.45l-7.72 7.72c-.78.78-.78 2.05 0 2.83L4 21.41c.39.39.9.59 1.41.59.51 0 1.02-.2 1.41-.59l7.78-7.78 2.81-2.81c.8-.78.8-2.07 0-2.86zM5.41 20L4 18.59l7.72-7.72 1.47 1.35L5.41 20z\"/>\n",
              "  </svg>\n",
              "      </button>\n",
              "      \n",
              "  <style>\n",
              "    .colab-df-container {\n",
              "      display:flex;\n",
              "      flex-wrap:wrap;\n",
              "      gap: 12px;\n",
              "    }\n",
              "\n",
              "    .colab-df-convert {\n",
              "      background-color: #E8F0FE;\n",
              "      border: none;\n",
              "      border-radius: 50%;\n",
              "      cursor: pointer;\n",
              "      display: none;\n",
              "      fill: #1967D2;\n",
              "      height: 32px;\n",
              "      padding: 0 0 0 0;\n",
              "      width: 32px;\n",
              "    }\n",
              "\n",
              "    .colab-df-convert:hover {\n",
              "      background-color: #E2EBFA;\n",
              "      box-shadow: 0px 1px 2px rgba(60, 64, 67, 0.3), 0px 1px 3px 1px rgba(60, 64, 67, 0.15);\n",
              "      fill: #174EA6;\n",
              "    }\n",
              "\n",
              "    [theme=dark] .colab-df-convert {\n",
              "      background-color: #3B4455;\n",
              "      fill: #D2E3FC;\n",
              "    }\n",
              "\n",
              "    [theme=dark] .colab-df-convert:hover {\n",
              "      background-color: #434B5C;\n",
              "      box-shadow: 0px 1px 3px 1px rgba(0, 0, 0, 0.15);\n",
              "      filter: drop-shadow(0px 1px 2px rgba(0, 0, 0, 0.3));\n",
              "      fill: #FFFFFF;\n",
              "    }\n",
              "  </style>\n",
              "\n",
              "      <script>\n",
              "        const buttonEl =\n",
              "          document.querySelector('#df-4fe16831-a127-45e1-927e-210dccd97f9a button.colab-df-convert');\n",
              "        buttonEl.style.display =\n",
              "          google.colab.kernel.accessAllowed ? 'block' : 'none';\n",
              "\n",
              "        async function convertToInteractive(key) {\n",
              "          const element = document.querySelector('#df-4fe16831-a127-45e1-927e-210dccd97f9a');\n",
              "          const dataTable =\n",
              "            await google.colab.kernel.invokeFunction('convertToInteractive',\n",
              "                                                     [key], {});\n",
              "          if (!dataTable) return;\n",
              "\n",
              "          const docLinkHtml = 'Like what you see? Visit the ' +\n",
              "            '<a target=\"_blank\" href=https://colab.research.google.com/notebooks/data_table.ipynb>data table notebook</a>'\n",
              "            + ' to learn more about interactive tables.';\n",
              "          element.innerHTML = '';\n",
              "          dataTable['output_type'] = 'display_data';\n",
              "          await google.colab.output.renderOutput(dataTable, element);\n",
              "          const docLink = document.createElement('div');\n",
              "          docLink.innerHTML = docLinkHtml;\n",
              "          element.appendChild(docLink);\n",
              "        }\n",
              "      </script>\n",
              "    </div>\n",
              "  </div>\n",
              "  "
            ]
          },
          "metadata": {},
          "execution_count": 3
        }
      ]
    },
    {
      "cell_type": "code",
      "metadata": {
        "colab": {
          "base_uri": "https://localhost:8080/"
        },
        "id": "31B1kMVYzFMd",
        "outputId": "9d4e4b2b-b6cf-42a6-9468-d8c300617470"
      },
      "source": [
        "print('데이터프레임 행의 개수 : {}'.format(len(data)))"
      ],
      "execution_count": 4,
      "outputs": [
        {
          "output_type": "stream",
          "name": "stdout",
          "text": [
            "데이터프레임 행의 개수 : 1048575\n"
          ]
        }
      ]
    },
    {
      "cell_type": "code",
      "metadata": {
        "colab": {
          "base_uri": "https://localhost:8080/"
        },
        "id": "5qgElyBDzlXu",
        "outputId": "337e2d07-81cb-4657-adca-ec74dae183f9"
      },
      "source": [
        "print('데이터에 Null 값이 있는지 유무 : ' + str(data.isnull().values.any()))"
      ],
      "execution_count": 5,
      "outputs": [
        {
          "output_type": "stream",
          "name": "stdout",
          "text": [
            "데이터에 Null 값이 있는지 유무 : True\n"
          ]
        }
      ]
    },
    {
      "cell_type": "code",
      "metadata": {
        "colab": {
          "base_uri": "https://localhost:8080/"
        },
        "id": "mUKvYcMg3HCH",
        "outputId": "e4c43fe2-fe98-4f32-90fe-2b8528967927"
      },
      "source": [
        "print('어떤 열에 Null값이 있는지 출력')\n",
        "print('==============================')\n",
        "data.isnull().sum()"
      ],
      "execution_count": 6,
      "outputs": [
        {
          "output_type": "stream",
          "name": "stdout",
          "text": [
            "어떤 열에 Null값이 있는지 출력\n",
            "==============================\n"
          ]
        },
        {
          "output_type": "execute_result",
          "data": {
            "text/plain": [
              "Sentence #    1000616\n",
              "Word                0\n",
              "POS                 0\n",
              "Tag                 0\n",
              "dtype: int64"
            ]
          },
          "metadata": {},
          "execution_count": 6
        }
      ]
    },
    {
      "cell_type": "code",
      "metadata": {
        "colab": {
          "base_uri": "https://localhost:8080/"
        },
        "id": "D6V0rIuF3Jiv",
        "outputId": "93c12ba7-0770-4162-d39e-b50892bb76a9"
      },
      "source": [
        "print('sentence # 열의 중복을 제거한 값의 개수 : {}'.format(data['Sentence #'].nunique()))\n",
        "print('Word 열의 중복을 제거한 값의 개수 : {}'.format(data.Word.nunique()))\n",
        "print('Tag 열의 중복을 제거한 값의 개수 : {}'.format(data.Tag.nunique()))"
      ],
      "execution_count": 7,
      "outputs": [
        {
          "output_type": "stream",
          "name": "stdout",
          "text": [
            "sentence # 열의 중복을 제거한 값의 개수 : 47959\n",
            "Word 열의 중복을 제거한 값의 개수 : 35178\n",
            "Tag 열의 중복을 제거한 값의 개수 : 17\n"
          ]
        }
      ]
    },
    {
      "cell_type": "code",
      "metadata": {
        "colab": {
          "base_uri": "https://localhost:8080/"
        },
        "id": "5pb88O9o3LRo",
        "outputId": "67743edf-4216-45f8-818f-33fd80f261c3"
      },
      "source": [
        "print('Tag 열의 각각의 값의 개수 카운트')\n",
        "print('================================')\n",
        "print(data.groupby('Tag').size().reset_index(name='count'))"
      ],
      "execution_count": 8,
      "outputs": [
        {
          "output_type": "stream",
          "name": "stdout",
          "text": [
            "Tag 열의 각각의 값의 개수 카운트\n",
            "================================\n",
            "      Tag   count\n",
            "0   B-art     402\n",
            "1   B-eve     308\n",
            "2   B-geo   37644\n",
            "3   B-gpe   15870\n",
            "4   B-nat     201\n",
            "5   B-org   20143\n",
            "6   B-per   16990\n",
            "7   B-tim   20333\n",
            "8   I-art     297\n",
            "9   I-eve     253\n",
            "10  I-geo    7414\n",
            "11  I-gpe     198\n",
            "12  I-nat      51\n",
            "13  I-org   16784\n",
            "14  I-per   17251\n",
            "15  I-tim    6528\n",
            "16      O  887908\n"
          ]
        }
      ]
    },
    {
      "cell_type": "code",
      "metadata": {
        "id": "kobBX39g3Mfc"
      },
      "source": [
        "data = data.fillna(method=\"ffill\")"
      ],
      "execution_count": 9,
      "outputs": []
    },
    {
      "cell_type": "code",
      "metadata": {
        "colab": {
          "base_uri": "https://localhost:8080/"
        },
        "id": "95-AHZjn3Nso",
        "outputId": "a8023deb-382b-4d27-ee0c-fcb9023bdd16"
      },
      "source": [
        "print(data.tail())"
      ],
      "execution_count": 10,
      "outputs": [
        {
          "output_type": "stream",
          "name": "stdout",
          "text": [
            "              Sentence #       Word  POS Tag\n",
            "1048570  Sentence: 47959       they  PRP   O\n",
            "1048571  Sentence: 47959  responded  VBD   O\n",
            "1048572  Sentence: 47959         to   TO   O\n",
            "1048573  Sentence: 47959        the   DT   O\n",
            "1048574  Sentence: 47959     attack   NN   O\n"
          ]
        }
      ]
    },
    {
      "cell_type": "code",
      "metadata": {
        "colab": {
          "base_uri": "https://localhost:8080/"
        },
        "id": "EOdOzFb43QzV",
        "outputId": "1d9657f0-b0f1-4a5b-fd22-5804f920a5bb"
      },
      "source": [
        "print('데이터에 Null 값이 있는지 유무 : ' + str(data.isnull().values.any()))"
      ],
      "execution_count": 11,
      "outputs": [
        {
          "output_type": "stream",
          "name": "stdout",
          "text": [
            "데이터에 Null 값이 있는지 유무 : False\n"
          ]
        }
      ]
    },
    {
      "cell_type": "code",
      "metadata": {
        "colab": {
          "base_uri": "https://localhost:8080/"
        },
        "id": "9ez83REt3TNT",
        "outputId": "12319094-c4c7-47bf-a7f6-1f40a960e82c"
      },
      "source": [
        "data['Word'] = data['Word'].str.lower()\n",
        "print('Word 열의 중복을 제거한 값의 개수 : {}'.format(data.Word.nunique()))"
      ],
      "execution_count": 12,
      "outputs": [
        {
          "output_type": "stream",
          "name": "stdout",
          "text": [
            "Word 열의 중복을 제거한 값의 개수 : 31817\n"
          ]
        }
      ]
    },
    {
      "cell_type": "code",
      "metadata": {
        "colab": {
          "base_uri": "https://localhost:8080/"
        },
        "id": "n1VSrB3z3UeP",
        "outputId": "9a492924-d5e5-4e17-bd0f-0fdc2342cc80"
      },
      "source": [
        "print(data[:5])"
      ],
      "execution_count": 13,
      "outputs": [
        {
          "output_type": "stream",
          "name": "stdout",
          "text": [
            "    Sentence #           Word  POS Tag\n",
            "0  Sentence: 1      thousands  NNS   O\n",
            "1  Sentence: 1             of   IN   O\n",
            "2  Sentence: 1  demonstrators  NNS   O\n",
            "3  Sentence: 1           have  VBP   O\n",
            "4  Sentence: 1        marched  VBN   O\n"
          ]
        }
      ]
    },
    {
      "cell_type": "code",
      "metadata": {
        "colab": {
          "base_uri": "https://localhost:8080/"
        },
        "id": "5v7gEF8u3Vyw",
        "outputId": "e3a8cbc2-26ba-40b1-86f1-09afbd11a65c"
      },
      "source": [
        "func = lambda temp: [(w, t) for w, t in zip(temp[\"Word\"].values.tolist(), temp[\"Tag\"].values.tolist())]\n",
        "tagged_sentences=[t for t in data.groupby(\"Sentence #\").apply(func)]\n",
        "print(\"전체 샘플 개수: {}\".format(len(tagged_sentences)))"
      ],
      "execution_count": 14,
      "outputs": [
        {
          "output_type": "stream",
          "name": "stdout",
          "text": [
            "전체 샘플 개수: 47959\n"
          ]
        }
      ]
    },
    {
      "cell_type": "code",
      "metadata": {
        "colab": {
          "base_uri": "https://localhost:8080/"
        },
        "id": "BP3eD9h53W_D",
        "outputId": "a949528d-1e6d-4b4e-fc9f-99af8dbec97c"
      },
      "source": [
        "print(tagged_sentences[0]) # 첫번째 샘플 출력"
      ],
      "execution_count": 15,
      "outputs": [
        {
          "output_type": "stream",
          "name": "stdout",
          "text": [
            "[('thousands', 'O'), ('of', 'O'), ('demonstrators', 'O'), ('have', 'O'), ('marched', 'O'), ('through', 'O'), ('london', 'B-geo'), ('to', 'O'), ('protest', 'O'), ('the', 'O'), ('war', 'O'), ('in', 'O'), ('iraq', 'B-geo'), ('and', 'O'), ('demand', 'O'), ('the', 'O'), ('withdrawal', 'O'), ('of', 'O'), ('british', 'B-gpe'), ('troops', 'O'), ('from', 'O'), ('that', 'O'), ('country', 'O'), ('.', 'O')]\n"
          ]
        }
      ]
    },
    {
      "cell_type": "code",
      "metadata": {
        "id": "BDIr2WoF3YKu"
      },
      "source": [
        "sentences, ner_tags = [], []\n",
        "for tagged_sentence in tagged_sentences: # 47,959개의 문장 샘플을 1개씩 불러온다.\n",
        "    sentence, tag_info = zip(*tagged_sentence) # 각 샘플에서 단어들은 sentence에 개체명 태깅 정보들은 tag_info에 저장.\n",
        "    sentences.append(list(sentence)) # 각 샘플에서 단어 정보만 저장한다.\n",
        "    ner_tags.append(list(tag_info)) # 각 샘플에서 개체명 태깅 정보만 저장한다."
      ],
      "execution_count": 16,
      "outputs": []
    },
    {
      "cell_type": "code",
      "metadata": {
        "colab": {
          "base_uri": "https://localhost:8080/"
        },
        "id": "L0Qcw-VN3aZp",
        "outputId": "c2bcc1f6-7662-4da1-91e1-b1d7b1fa7fdf"
      },
      "source": [
        "print(sentences[0])\n",
        "print(ner_tags[0])"
      ],
      "execution_count": 17,
      "outputs": [
        {
          "output_type": "stream",
          "name": "stdout",
          "text": [
            "['thousands', 'of', 'demonstrators', 'have', 'marched', 'through', 'london', 'to', 'protest', 'the', 'war', 'in', 'iraq', 'and', 'demand', 'the', 'withdrawal', 'of', 'british', 'troops', 'from', 'that', 'country', '.']\n",
            "['O', 'O', 'O', 'O', 'O', 'O', 'B-geo', 'O', 'O', 'O', 'O', 'O', 'B-geo', 'O', 'O', 'O', 'O', 'O', 'B-gpe', 'O', 'O', 'O', 'O', 'O']\n"
          ]
        }
      ]
    },
    {
      "cell_type": "code",
      "metadata": {
        "colab": {
          "base_uri": "https://localhost:8080/"
        },
        "id": "zLglFWkC3blL",
        "outputId": "c0e5683f-b453-465d-e7b4-e390df1c7fcd"
      },
      "source": [
        "print(sentences[98])\n",
        "print(ner_tags[98])"
      ],
      "execution_count": 18,
      "outputs": [
        {
          "output_type": "stream",
          "name": "stdout",
          "text": [
            "['she', 'had', 'once', 'received', 'a', 'kidney', 'transplant', '.']\n",
            "['O', 'O', 'O', 'O', 'O', 'O', 'O', 'O']\n"
          ]
        }
      ]
    },
    {
      "cell_type": "markdown",
      "source": [
        "### 문제1. 문장 길이의 분포를 살펴보고, 적절한 패딩 길이를 선택하세요\n",
        "(여기서 부터 실습)"
      ],
      "metadata": {
        "id": "uA-EvZzF_lTG"
      }
    },
    {
      "cell_type": "code",
      "source": [
        "sent = [len(x) for x in sentences]\n",
        "print('문장의 최대 길이(단어 개수) : ',max(sent),'\\n','문장 평균 길이(평균 단어 개수) : {:.6f}'.format(sum(sent)/len(sent)))\n",
        "\n",
        "plt.figure()\n",
        "plt.hist(sent, bins=50)\n",
        "\n",
        "plt.show()"
      ],
      "metadata": {
        "colab": {
          "base_uri": "https://localhost:8080/",
          "height": 466
        },
        "id": "6PnvxisuoQs1",
        "outputId": "ef3de14c-b093-45d8-a731-0886285f4a8d"
      },
      "execution_count": 174,
      "outputs": [
        {
          "output_type": "stream",
          "name": "stdout",
          "text": [
            "문장의 최대 길이(단어 개수) :  104 \n",
            " 문장 평균 길이(평균 단어 개수) : 21.863988\n"
          ]
        },
        {
          "output_type": "display_data",
          "data": {
            "text/plain": [
              "<Figure size 640x480 with 1 Axes>"
            ],
            "image/png": "[encoded data removed]"
          },
          "metadata": {}
        }
      ]
    },
    {
      "cell_type": "code",
      "source": [
        "# 단어 개수가 60개 이상인 것들만 모으겠다\n",
        "# 방법 1\n",
        "sent_len_list = [idx for idx, sen in enumerate(sentences) if len(sen) > 60]\n",
        "sent_len_list"
      ],
      "metadata": {
        "id": "ySoTx81gyDPL"
      },
      "execution_count": null,
      "outputs": []
    },
    {
      "cell_type": "code",
      "source": [
        "# 방법 2\n",
        "import numpy as np\n",
        "len_arr = np.array(sent_len_list)\n",
        "len_arr"
      ],
      "metadata": {
        "id": "wW5lwK3nyUPC"
      },
      "execution_count": null,
      "outputs": []
    },
    {
      "cell_type": "code",
      "source": [
        "# 방법 2-1 해당 조건이 맞는 array 가져온다\n",
        "len_arr[len_arr > 60]"
      ],
      "metadata": {
        "id": "6CaoGMmNya7T"
      },
      "execution_count": null,
      "outputs": []
    },
    {
      "cell_type": "code",
      "source": [
        "# 방법 2-2 리스트라서, where : 해당하는 인덱스 가져옴\n",
        "np.where(len_arr>60)"
      ],
      "metadata": {
        "id": "XN_VwAeRymEq"
      },
      "execution_count": null,
      "outputs": []
    },
    {
      "cell_type": "markdown",
      "source": [
        "### 문제2. 데이터 전처리\n",
        "- 토큰을 정수로 라벨링하세요 --> X와 y 각각 정수로 변환되어야 합니다.\n",
        "- 패딩을 통해 행렬로 변환하세요"
      ],
      "metadata": {
        "id": "-LxFkQ22_wbo"
      }
    },
    {
      "cell_type": "code",
      "source": [
        "# X 데이터\n",
        "## 전처리 순서 : cleaning >> Token 단위로 나누기 >> Token을 정수로 인코딩 >> 패딩 >> Embedding\n",
        "# cleaning : 날짜 등 문자 외 정보 필요해서 크게 하지 않음\n",
        "# 영어라서 띄어쓰기 단위로 나눠도 잘 나눠진다\n",
        "sentences[0] # 토큰화 그대로 쓰기로 함"
      ],
      "metadata": {
        "colab": {
          "base_uri": "https://localhost:8080/"
        },
        "id": "4xBF66XmzDVz",
        "outputId": "4d54a470-183b-4f61-983e-6da28ebb41da"
      },
      "execution_count": 175,
      "outputs": [
        {
          "output_type": "execute_result",
          "data": {
            "text/plain": [
              "['thousands',\n",
              " 'of',\n",
              " 'demonstrators',\n",
              " 'have',\n",
              " 'marched',\n",
              " 'through',\n",
              " 'london',\n",
              " 'to',\n",
              " 'protest',\n",
              " 'the',\n",
              " 'war',\n",
              " 'in',\n",
              " 'iraq',\n",
              " 'and',\n",
              " 'demand',\n",
              " 'the',\n",
              " 'withdrawal',\n",
              " 'of',\n",
              " 'british',\n",
              " 'troops',\n",
              " 'from',\n",
              " 'that',\n",
              " 'country',\n",
              " '.']"
            ]
          },
          "metadata": {},
          "execution_count": 175
        }
      ]
    },
    {
      "cell_type": "code",
      "source": [
        "# Y 데이터 -> 다중분류 모델 -> Loss : Cross Entropy\n",
        "## Cross Entropy : 각 카테고리별로 이 데이터가 속할 확률들이 1개의 벡터로 나타난다,\n",
        "### 실제 y의 벡터와 예측한 y의 벡터를 비교하여 예측값과 실제값의 거리를 나타내주는 것이 Cross Entropy다.\n",
        "\n",
        "# y 데이터 -> One Hot Vector(각 카테고리에 속하면 1, 아니면 0 으로 표시되어 있는) -> Vector size : 카테코리 개수\n",
        "# One Hot Vector를 쓰기 싫다면 아래와 같이 정수로 쓸 수 있다\n",
        "# y 데이터 -> 정수 (각 카테고리로 라벨 인코딩되어 있는 형태) -> Loss : Sparse Categorical CrossEntropy\n",
        "\n",
        "ner_tags[0] # 카테고리가 몇 개 있는지 확인이 필수"
      ],
      "metadata": {
        "id": "-6JQk9QUzrwp"
      },
      "execution_count": null,
      "outputs": []
    },
    {
      "cell_type": "code",
      "metadata": {
        "id": "Y1Vj7idf3d6X"
      },
      "source": [
        "import tensorflow as tf\n",
        "from tensorflow.keras.preprocessing.text import Tokenizer\n",
        "\n",
        "# X 데이터의 tokenizer\n",
        "src_tokenizer = Tokenizer(split = ' ', char_level = False, lower = False, oov_token = 'OOV')\n",
        "# char_level = T/F : 나눈 단어를 토큰으로 쓰겠다 T/F\n",
        "# lower = T/F : 모두 소문자로 바꾼다 T/F\n",
        "# oov_token = str : 없는 단어는 str로 바꾼다, str은 인덱스 1에 할당한다.\n",
        "\n",
        "# y 데이터의 tokenizer\n",
        "tar_tokenizer = Tokenizer(split = ' ', char_level = False, lower = False)\n",
        "\n",
        "# 단어 Tokenizer fitting\n",
        "src_tokenizer.fit_on_texts(sentences)\n",
        "\n",
        "# 라벨 Tokenizer fitting\n",
        "tar_tokenizer.fit_on_texts(ner_tags)"
      ],
      "execution_count": 21,
      "outputs": []
    },
    {
      "cell_type": "code",
      "source": [
        "# 강사님 코드\n",
        "# src_tokenizer = Tokenizer(oov_token='OOV') # 모든 단어를 사용하지만 인덱스 1에는 단어 'OOV'를 할당한다.\n",
        "# src_tokenizer.fit_on_texts(sentences)\n",
        "\n",
        "# tar_tokenizer = Tokenizer(lower=False) # 태깅 정보들은 내부적으로 대문자를 유지한채로 저장\n",
        "# tar_tokenizer.fit_on_texts(ner_tags)"
      ],
      "metadata": {
        "id": "sBduk5la1Kj6"
      },
      "execution_count": null,
      "outputs": []
    },
    {
      "cell_type": "code",
      "source": [
        "# 단어 집합의 크기\n",
        "vocab_size = len(src_tokenizer.word_index)+1\n",
        "\n",
        "# 개체명 태깅 정보 집합의 크기\n",
        "tag_size =len(tar_tokenizer.word_index)+1\n",
        "\n",
        "print('단어 집합의 크기 : {}'.format(vocab_size))\n",
        "print('개체명 태깅 정보 집합의 크기 : {}'.format(tag_size))"
      ],
      "metadata": {
        "colab": {
          "base_uri": "https://localhost:8080/"
        },
        "id": "ptizx266356x",
        "outputId": "c4e82b12-f205-4457-91de-75941e26455b"
      },
      "execution_count": 22,
      "outputs": [
        {
          "output_type": "stream",
          "name": "stdout",
          "text": [
            "단어 집합의 크기 : 31819\n",
            "개체명 태깅 정보 집합의 크기 : 18\n"
          ]
        }
      ]
    },
    {
      "cell_type": "code",
      "source": [
        "# # 강사님 코드\n",
        "# len(src_tokenizer.word_index) # 코퍼스 내에 unique한 단어 개수 확인"
      ],
      "metadata": {
        "id": "Y9U7w3Hk11AK"
      },
      "execution_count": null,
      "outputs": []
    },
    {
      "cell_type": "code",
      "source": [
        "# # 강사님 코드\n",
        "# tar_tokenizer = Tokenizer(lower=False) # 태깅 정보들은 내부적으로 대문자를 유지한채로 저장\n",
        "# tar_tokenizer.fit_on_texts(ner_tags)"
      ],
      "metadata": {
        "id": "tO-n45wc133y"
      },
      "execution_count": null,
      "outputs": []
    },
    {
      "cell_type": "code",
      "source": [
        "# # 강사님 코드\n",
        "# tar_tokenizer.word_index # 인덱스를 통해 카테고리 개수 확인"
      ],
      "metadata": {
        "id": "6N3f0ACp180p"
      },
      "execution_count": null,
      "outputs": []
    },
    {
      "cell_type": "code",
      "source": [
        "print('단어 OOV의 인덱스 : {}'.format(src_tokenizer.word_index['OOV']))"
      ],
      "metadata": {
        "colab": {
          "base_uri": "https://localhost:8080/"
        },
        "id": "KQEws7sv4hd7",
        "outputId": "59014d8a-5bb9-4fb8-ac6e-e7c95f3f8b9c"
      },
      "execution_count": 24,
      "outputs": [
        {
          "output_type": "stream",
          "name": "stdout",
          "text": [
            "단어 OOV의 인덱스 : 1\n"
          ]
        }
      ]
    },
    {
      "cell_type": "code",
      "source": [
        "# 데이터 라벨 인코딩\n",
        "X = src_tokenizer.texts_to_sequences(sentences)\n",
        "X"
      ],
      "metadata": {
        "id": "5BlJDvcp5DpW"
      },
      "execution_count": null,
      "outputs": []
    },
    {
      "cell_type": "code",
      "source": [
        "print(len(X), len(sentences))"
      ],
      "metadata": {
        "colab": {
          "base_uri": "https://localhost:8080/"
        },
        "id": "YQIMl3lZ3FLa",
        "outputId": "f2efbacf-0ff1-44f8-823d-689d78556eb8"
      },
      "execution_count": 27,
      "outputs": [
        {
          "output_type": "stream",
          "name": "stdout",
          "text": [
            "47959 47959\n"
          ]
        }
      ]
    },
    {
      "cell_type": "code",
      "source": [
        "y = tar_tokenizer.texts_to_sequences(ner_tags)\n",
        "y"
      ],
      "metadata": {
        "id": "88mBGSsa2F-I"
      },
      "execution_count": null,
      "outputs": []
    },
    {
      "cell_type": "code",
      "source": [
        "print(len(y), len(ner_tags))"
      ],
      "metadata": {
        "colab": {
          "base_uri": "https://localhost:8080/"
        },
        "id": "EgzXc0yQ2DI3",
        "outputId": "7cdfd0b2-0fd1-4aa0-823c-969c31042ab5"
      },
      "execution_count": 46,
      "outputs": [
        {
          "output_type": "stream",
          "name": "stdout",
          "text": [
            "47959 47959\n"
          ]
        }
      ]
    },
    {
      "cell_type": "code",
      "source": [
        "# # 강사님 코드\n",
        "# X_data = src_tokenizer.texts_to_sequences(sentences)\n",
        "# y_data = tar_tokenizer.texts_to_sequences(ner_tags)"
      ],
      "metadata": {
        "id": "Misvqxrh2Otp"
      },
      "execution_count": null,
      "outputs": []
    },
    {
      "cell_type": "code",
      "source": [
        "tar_tokenizer.word_index"
      ],
      "metadata": {
        "id": "HPp5UphENcJ6"
      },
      "execution_count": null,
      "outputs": []
    },
    {
      "cell_type": "code",
      "source": [
        "# # 강사님 코드\n",
        "# print(X_data[0])\n",
        "# print(y_data[0])"
      ],
      "metadata": {
        "id": "0P7wsleG2QY3"
      },
      "execution_count": null,
      "outputs": []
    },
    {
      "cell_type": "code",
      "source": [
        "# 데이터 라벨 인코딩\n",
        "print(X[0],'\\n',y[0])"
      ],
      "metadata": {
        "colab": {
          "base_uri": "https://localhost:8080/"
        },
        "id": "iau-gcIA5YLp",
        "outputId": "2806525c-4635-446a-9853-b697ef422482"
      },
      "execution_count": 31,
      "outputs": [
        {
          "output_type": "stream",
          "name": "stdout",
          "text": [
            "[254, 6, 967, 16, 1795, 238, 468, 7, 523, 2, 129, 5, 61, 9, 571, 2, 833, 6, 186, 90, 22, 15, 56, 3] \n",
            " [1, 1, 1, 1, 1, 1, 2, 1, 1, 1, 1, 1, 2, 1, 1, 1, 1, 1, 8, 1, 1, 1, 1, 1]\n"
          ]
        }
      ]
    },
    {
      "cell_type": "code",
      "source": [
        "# 단어 딕셔너리 저장\n",
        "word_to_index = src_tokenizer.word_index\n",
        "index_to_word = src_tokenizer.index_word\n",
        "ner_to_index = tar_tokenizer.word_index\n",
        "index_to_ner = tar_tokenizer.index_word\n",
        "index_to_ner[0] = 'PAD' # 인덱스 0에 단어 추가"
      ],
      "metadata": {
        "id": "u-pv66bw5BkU"
      },
      "execution_count": 33,
      "outputs": []
    },
    {
      "cell_type": "code",
      "source": [
        "print(index_to_ner) # index_to_ner가 잘 되어 있는지 확인"
      ],
      "metadata": {
        "colab": {
          "base_uri": "https://localhost:8080/"
        },
        "id": "DuPAynY96BrQ",
        "outputId": "b2353d2d-a621-4b5a-dd6b-63b1a746163b"
      },
      "execution_count": 35,
      "outputs": [
        {
          "output_type": "stream",
          "name": "stdout",
          "text": [
            "{1: 'O', 2: 'B-geo', 3: 'B-tim', 4: 'B-org', 5: 'I-per', 6: 'B-per', 7: 'I-org', 8: 'B-gpe', 9: 'I-geo', 10: 'I-tim', 11: 'B-art', 12: 'B-eve', 13: 'I-art', 14: 'I-eve', 15: 'B-nat', 16: 'I-gpe', 17: 'I-nat', 0: 'PAD'}\n"
          ]
        }
      ]
    },
    {
      "cell_type": "code",
      "source": [
        "sum(x < 70 for x in sent)/len(sent) # 문장 길이가 70이면 문장의 99.9% 활용 가능"
      ],
      "metadata": {
        "colab": {
          "base_uri": "https://localhost:8080/"
        },
        "id": "qO2kmnpY7GLY",
        "outputId": "2d00a462-de5b-4838-97d9-bdea38d49827"
      },
      "execution_count": 37,
      "outputs": [
        {
          "output_type": "execute_result",
          "data": {
            "text/plain": [
              "0.9998540419942034"
            ]
          },
          "metadata": {},
          "execution_count": 37
        }
      ]
    },
    {
      "cell_type": "code",
      "source": [
        "index_to_ner.keys()"
      ],
      "metadata": {
        "colab": {
          "base_uri": "https://localhost:8080/"
        },
        "id": "XCaj2cQ1C7yK",
        "outputId": "5362d009-1a07-4b9a-dc43-418eafb99b32"
      },
      "execution_count": 38,
      "outputs": [
        {
          "output_type": "execute_result",
          "data": {
            "text/plain": [
              "dict_keys([1, 2, 3, 4, 5, 6, 7, 8, 9, 10, 11, 12, 13, 14, 15, 16, 17, 0])"
            ]
          },
          "metadata": {},
          "execution_count": 38
        }
      ]
    },
    {
      "cell_type": "code",
      "metadata": {
        "id": "9mZDlPqo3wlX"
      },
      "source": [
        "# 패딩\n",
        "from tensorflow.keras.preprocessing.sequence import pad_sequences\n",
        "MAXLEN = 70\n",
        "X_data = pad_sequences(X, maxlen = MAXLEN)\n",
        "\n",
        "# y데이터와 x데이터의 모양을 일치시키기 위해서 y데이터도 패딩해준다\n",
        "y_data = pad_sequences(y, maxlen = MAXLEN)"
      ],
      "execution_count": 48,
      "outputs": []
    },
    {
      "cell_type": "code",
      "source": [
        "# Train Test Split\n",
        "from sklearn.model_selection import train_test_split\n",
        "\n",
        "# 순서 바뀌면 안됨, 엉뚱한 데이터 들어감\n",
        "X_train, X_test, y_train, y_test = train_test_split(X_data, y_data, test_size =0.2, shuffle= True)\n",
        "\n",
        "print(X_train.shape, y_train.shape, X_test.shape, y_test.shape)"
      ],
      "metadata": {
        "id": "gJtU5Oz03zNW",
        "colab": {
          "base_uri": "https://localhost:8080/"
        },
        "outputId": "4f984a4e-2e45-4a15-8ac2-e6395957ad02"
      },
      "execution_count": 49,
      "outputs": [
        {
          "output_type": "stream",
          "name": "stdout",
          "text": [
            "(38367, 70) (38367, 70) (9592, 70) (9592, 70)\n"
          ]
        }
      ]
    },
    {
      "cell_type": "code",
      "source": [
        "y_train"
      ],
      "metadata": {
        "colab": {
          "base_uri": "https://localhost:8080/"
        },
        "id": "P_tXirs5MyKd",
        "outputId": "94d91ab0-37b6-4a28-f874-bd7a08efabd7"
      },
      "execution_count": 51,
      "outputs": [
        {
          "output_type": "execute_result",
          "data": {
            "text/plain": [
              "array([[0, 0, 0, ..., 4, 7, 1],\n",
              "       [0, 0, 0, ..., 2, 9, 1],\n",
              "       [0, 0, 0, ..., 8, 1, 1],\n",
              "       ...,\n",
              "       [0, 0, 0, ..., 1, 1, 1],\n",
              "       [0, 0, 0, ..., 1, 1, 1],\n",
              "       [0, 0, 0, ..., 1, 1, 1]], dtype=int32)"
            ]
          },
          "metadata": {},
          "execution_count": 51
        }
      ]
    },
    {
      "cell_type": "code",
      "source": [
        "# # 강사님 코드\n",
        "# print(X_data.shape)\n",
        "# print(y_data.shape)"
      ],
      "metadata": {
        "id": "w1qyrPrQ3F9x"
      },
      "execution_count": null,
      "outputs": []
    },
    {
      "cell_type": "code",
      "source": [
        "# # 강사님 코드\n",
        "# X_train, X_test, y_train_int, y_test_int = train_test_split(X_data, y_data, test_size=.2, random_state=777)"
      ],
      "metadata": {
        "id": "86cGbJq-3HyZ"
      },
      "execution_count": null,
      "outputs": []
    },
    {
      "cell_type": "code",
      "source": [
        "# # 강사님 코드\n",
        "# X_train, X_test, y_train_int, y_test_int"
      ],
      "metadata": {
        "id": "DYfYns3f3IFo"
      },
      "execution_count": null,
      "outputs": []
    },
    {
      "cell_type": "code",
      "source": [
        "# # y data 원핫인코딩 : 강사님 코드\n",
        "\n",
        "# y_train = to_categorical(y_train_int, num_classes=tag_size)\n",
        "# y_test = to_categorical(y_test_int, num_classes=tag_size)"
      ],
      "metadata": {
        "id": "WO_cAr083Mdl"
      },
      "execution_count": null,
      "outputs": []
    },
    {
      "cell_type": "code",
      "metadata": {
        "id": "9FfY0d5f30Qv",
        "colab": {
          "base_uri": "https://localhost:8080/"
        },
        "outputId": "c109ae66-f309-485e-d11a-dac3fdad2e49"
      },
      "source": [
        "# y data 원핫인코딩\n",
        "from tensorflow.keras.utils import to_categorical\n",
        "\n",
        "y_train_int = tf.keras.utils.to_categorical(y_train, num_classes=18)\n",
        "y_test_int = tf.keras.utils.to_categorical(y_test, num_classes=18)\n",
        "print(y_train_int[0],'\\n','\\n',y_test_int[0] )"
      ],
      "execution_count": 57,
      "outputs": [
        {
          "output_type": "stream",
          "name": "stdout",
          "text": [
            "[[1. 0. 0. ... 0. 0. 0.]\n",
            " [1. 0. 0. ... 0. 0. 0.]\n",
            " [1. 0. 0. ... 0. 0. 0.]\n",
            " ...\n",
            " [0. 0. 0. ... 0. 0. 0.]\n",
            " [0. 0. 0. ... 0. 0. 0.]\n",
            " [0. 1. 0. ... 0. 0. 0.]] \n",
            " \n",
            " [[1. 0. 0. ... 0. 0. 0.]\n",
            " [1. 0. 0. ... 0. 0. 0.]\n",
            " [1. 0. 0. ... 0. 0. 0.]\n",
            " ...\n",
            " [0. 1. 0. ... 0. 0. 0.]\n",
            " [0. 1. 0. ... 0. 0. 0.]\n",
            " [0. 1. 0. ... 0. 0. 0.]]\n"
          ]
        }
      ]
    },
    {
      "cell_type": "code",
      "source": [
        "print('훈련 샘플 문장의 크기 : {}'.format(X_train.shape))\n",
        "print('훈련 샘플 레이블(정수 인코딩)의 크기 : {}'.format(y_train_int.shape))\n",
        "print('훈련 샘플 레이블(원-핫 인코딩)의 크기 : {}'.format(y_train.shape))\n",
        "print('테스트 샘플 문장의 크기 : {}'.format(X_test.shape))\n",
        "print('테스트 샘플 레이블(정수 인코딩)의 크기 : {}'.format(y_test_int.shape))\n",
        "print('테스트 샘플 레이블(원-핫 인코딩)의 크기 : {}'.format(y_test.shape))"
      ],
      "metadata": {
        "colab": {
          "base_uri": "https://localhost:8080/"
        },
        "id": "CYmrodMsA5SF",
        "outputId": "0f9d9f33-77c4-46c4-df57-74febdeab72f"
      },
      "execution_count": 58,
      "outputs": [
        {
          "output_type": "stream",
          "name": "stdout",
          "text": [
            "훈련 샘플 문장의 크기 : (38367, 70)\n",
            "훈련 샘플 레이블(정수 인코딩)의 크기 : (38367, 70, 18)\n",
            "훈련 샘플 레이블(원-핫 인코딩)의 크기 : (38367, 70)\n",
            "테스트 샘플 문장의 크기 : (9592, 70)\n",
            "테스트 샘플 레이블(정수 인코딩)의 크기 : (9592, 70, 18)\n",
            "테스트 샘플 레이블(원-핫 인코딩)의 크기 : (9592, 70)\n"
          ]
        }
      ]
    },
    {
      "cell_type": "markdown",
      "source": [
        "#### 모델 설명"
      ],
      "metadata": {
        "id": "g1h9cgp_35QD"
      }
    },
    {
      "cell_type": "code",
      "source": [
        "# 단어로 어떤 단어인지 맞추는 모델을 만들어야 한다\n",
        "x = ['John', 'loves', 'cats']\n",
        "y = ['사람이름', 'o', 'o']"
      ],
      "metadata": {
        "id": "C2NTKhOO3me7"
      },
      "execution_count": null,
      "outputs": []
    },
    {
      "cell_type": "code",
      "source": [
        "x = [1, 2, 3] '>>'  y = [1, 2, 3]\n",
        "# 단어를 정수로 바꾸었기 때문에 x의 1과 y의 1이 의미하는 바가 다르다\n",
        "X_idx = {'John':1, 'loves':2, 'cats':3}\n",
        "\n",
        "y_idx = {'사람이름' :1, 'o':2, '지역이름':3}\n",
        "\n",
        "# # 정수 -> 벡터\n",
        "# X 데이터 : Embedding 레이어\n",
        "# y 데이터 : One Hot 벡터 -> 그래야 소프트멕스 결과값과 CrossEntropy 계산이 가능해진다!\n",
        "#     1. to_categorical : 미리 바꿔주거나\n",
        "#     2. loss -> spare CE : tensorflow가 바꿔서 계산한다."
      ],
      "metadata": {
        "id": "EVynT8zW3qk_"
      },
      "execution_count": null,
      "outputs": []
    },
    {
      "cell_type": "markdown",
      "metadata": {
        "id": "M5HlLxZEV7kn"
      },
      "source": [
        "# RNN을 이용한 개체명 인식"
      ]
    },
    {
      "cell_type": "markdown",
      "metadata": {
        "id": "8P0QOs4KOayO"
      },
      "source": [
        "## 모델링"
      ]
    },
    {
      "cell_type": "code",
      "metadata": {
        "id": "cwvOg6XiWDCO"
      },
      "source": [
        "from tensorflow.keras.models import Sequential\n",
        "from tensorflow.keras.layers import Dense, Embedding, SimpleRNN, GRU, LSTM"
      ],
      "execution_count": 60,
      "outputs": []
    },
    {
      "cell_type": "code",
      "source": [
        "# # 강사님 코드\n",
        "# Embedding(input_dim = 'X : unique한 단어의 개수', output_dim = 'hyper params')\n",
        "\n",
        "# vocab_size = len(src_tokenizer.word_index) + 1"
      ],
      "metadata": {
        "id": "2VM92T0t4r-E"
      },
      "execution_count": null,
      "outputs": []
    },
    {
      "cell_type": "code",
      "source": [
        "# # 강사님 코드\n",
        "# embedding_dim = 128\n",
        "# hidden_units = 256\n",
        "\n",
        "# model = Sequential() # embedding_dim만 바꿀 수 있음, 나머지 바뀌면 안됨\n",
        "# model.add(Embedding(vocab_size, embedding_dim, mask_zero=True)) # mask_zero = : 0을 패딩으로 썼는가, 아닌가 True면 zero는 계산하지 않는다\n",
        "# model.add(LSTM(hidden_units, return_sequences=True)) # return_sequences=False로 주면 모델이 생성되지 않는다, 반드시 True로 줘야한다\n",
        "# model.add(Dense(tag_size, activation=('softmax'))) # output layer의 노드개수 == category 개수 (다중 분류), tag_size = 카테고리 개수\n",
        "# model.compile(loss='categorical_crossentropy', optimizer=Adam(0.001), metrics=['accuracy'])\n",
        "# y데이터가 원 핫 인코딩을 한 데이터라서 loss='categorical_crossentropy', 원 핫 인코딩 X = 'sparse_categorical_crossentropy'"
      ],
      "metadata": {
        "id": "CJD3oUyZ4xAM"
      },
      "execution_count": null,
      "outputs": []
    },
    {
      "cell_type": "code",
      "source": [
        "# John loves cats -> S, V, O\n",
        "\n",
        "# John -> S : 1, [1, 0, 0]\n",
        "# Loves -> V : 2, [0, 1, 0]\n",
        "# Cats -> O : 3, [0, 0, 1]\n",
        "\n",
        "# y 데이터를 1, 2, 3 으로 쓴다면 sparse_categorical_crossentropy, [1,0,0].. 으로 쓸거면 categorical_crossentropy"
      ],
      "metadata": {
        "id": "2ZJ2svSQ6jmR"
      },
      "execution_count": null,
      "outputs": []
    },
    {
      "cell_type": "code",
      "metadata": {
        "id": "pKE60YszWD-e"
      },
      "source": [
        "model = Sequential()\n",
        "model.add(Embedding(31819, 18, input_length = 70)) # 31819 : 단어 총 개수, input_length = input 길이를 동일하게 맞춰놓는다\n",
        "model.add(GRU(10, input_shape = (70,18), return_sequences=True, name='GRU-1'))\n",
        "model.add(Dense(18, activation = 'softmax'))"
      ],
      "execution_count": 168,
      "outputs": []
    },
    {
      "cell_type": "code",
      "source": [
        "model = Sequential()\n",
        "model.add(Embedding(31819, 18, input_length = 70))\n",
        "model.add(LSTM(10, input_shape = (70,18), return_sequences=True, name='LSTM-1'))\n",
        "model.add(Dense(18, activation = 'softmax'))"
      ],
      "metadata": {
        "id": "giNVmVzLfK9S"
      },
      "execution_count": 157,
      "outputs": []
    },
    {
      "cell_type": "code",
      "metadata": {
        "id": "tQJb-y9ab0pg",
        "colab": {
          "base_uri": "https://localhost:8080/"
        },
        "outputId": "8f85c148-1971-409e-cd7a-21d588a5febf"
      },
      "source": [
        "model.summary()"
      ],
      "execution_count": 158,
      "outputs": [
        {
          "output_type": "stream",
          "name": "stdout",
          "text": [
            "Model: \"sequential_10\"\n",
            "_________________________________________________________________\n",
            " Layer (type)                Output Shape              Param #   \n",
            "=================================================================\n",
            " embedding_10 (Embedding)    (None, 70, 18)            572742    \n",
            "                                                                 \n",
            " LSTM-1 (LSTM)               (None, 70, 10)            1160      \n",
            "                                                                 \n",
            " dense_8 (Dense)             (None, 70, 18)            198       \n",
            "                                                                 \n",
            "=================================================================\n",
            "Total params: 574,100\n",
            "Trainable params: 574,100\n",
            "Non-trainable params: 0\n",
            "_________________________________________________________________\n"
          ]
        }
      ]
    },
    {
      "cell_type": "code",
      "source": [
        "# 모델 컴파일\n",
        "model.compile(optimizer = 'adam',\n",
        "              loss = 'sparse_categorical_crossentropy',\n",
        "              metrics = ['sparse_categorical_crossentropy', 'accuracy'])"
      ],
      "metadata": {
        "id": "KMD-cZO4FfcC"
      },
      "execution_count": 169,
      "outputs": []
    },
    {
      "cell_type": "code",
      "source": [
        "# # 강사님 코드\n",
        "# history = model.fit(X_train, y_train, batch_size=128, epochs=6, validation_split=0.1)"
      ],
      "metadata": {
        "id": "m8mpd67E6xUM"
      },
      "execution_count": null,
      "outputs": []
    },
    {
      "cell_type": "code",
      "source": [
        "# 모델 학습 =\n",
        "from tensorflow.keras.callbacks import ModelCheckpoint, EarlyStopping\n",
        "\n",
        "EPOCHS = 6\n",
        "\n",
        "model_save = ModelCheckpoint(filepath = 'best_model.h5', verbose = 1, save_best_only = True)\n",
        "\n",
        "es = EarlyStopping(monitor = 'var_loss', patience = 3)\n",
        "\n",
        "history = model.fit (X_train, y_train, epochs = EPOCHS, batch_size = 64, validation_split = 0.2, callbacks = [model_save, es])"
      ],
      "metadata": {
        "colab": {
          "base_uri": "https://localhost:8080/"
        },
        "id": "ScJ7ZoY-FeBi",
        "outputId": "b51fc6fc-52e0-4b43-b8ea-8eab7c64d81f"
      },
      "execution_count": 170,
      "outputs": [
        {
          "output_type": "stream",
          "name": "stdout",
          "text": [
            "Epoch 1/6\n",
            "480/480 [==============================] - ETA: 0s - loss: 0.7544 - sparse_categorical_crossentropy: 0.7544 - accuracy: 0.8491\n",
            "Epoch 1: val_loss improved from inf to 0.22949, saving model to best_model.h5\n"
          ]
        },
        {
          "output_type": "stream",
          "name": "stderr",
          "text": [
            "WARNING:tensorflow:Early stopping conditioned on metric `var_loss` which is not available. Available metrics are: loss,sparse_categorical_crossentropy,accuracy,val_loss,val_sparse_categorical_crossentropy,val_accuracy\n"
          ]
        },
        {
          "output_type": "stream",
          "name": "stdout",
          "text": [
            "\b\b\b\b\b\b\b\b\b\b\b\b\b\b\b\b\b\b\b\b\b\b\b\b\b\b\b\b\b\b\b\b\b\b\b\b\b\b\b\b\b\b\b\b\b\b\b\b\b\b\b\b\b\b\b\b\b\b\b\b\b\b\b\b\b\b\b\b\b\b\b\b\b\b\b\b\b\b\b\b\b\b\b\b\b\b\b\b\b\b\b\b\b\b\b\b\b\b\b\b\b\b\b\b\b\b\b\b\b\b\b\b\b\b\b\b\b\b\b\b\b\b\b\b\b\b\r480/480 [==============================] - 23s 43ms/step - loss: 0.7544 - sparse_categorical_crossentropy: 0.7544 - accuracy: 0.8491 - val_loss: 0.2295 - val_sparse_categorical_crossentropy: 0.2295 - val_accuracy: 0.9526\n",
            "Epoch 2/6\n",
            "479/480 [============================>.] - ETA: 0s - loss: 0.1783 - sparse_categorical_crossentropy: 0.1783 - accuracy: 0.9580\n",
            "Epoch 2: val_loss improved from 0.22949 to 0.13934, saving model to best_model.h5\n"
          ]
        },
        {
          "output_type": "stream",
          "name": "stderr",
          "text": [
            "WARNING:tensorflow:Early stopping conditioned on metric `var_loss` which is not available. Available metrics are: loss,sparse_categorical_crossentropy,accuracy,val_loss,val_sparse_categorical_crossentropy,val_accuracy\n"
          ]
        },
        {
          "output_type": "stream",
          "name": "stdout",
          "text": [
            "\b\b\b\b\b\b\b\b\b\b\b\b\b\b\b\b\b\b\b\b\b\b\b\b\b\b\b\b\b\b\b\b\b\b\b\b\b\b\b\b\b\b\b\b\b\b\b\b\b\b\b\b\b\b\b\b\b\b\b\b\b\b\b\b\b\b\b\b\b\b\b\b\b\b\b\b\b\b\b\b\b\b\b\b\b\b\b\b\b\b\b\b\b\b\b\b\b\b\b\b\b\b\b\b\b\b\b\b\b\b\b\b\b\b\b\b\b\b\b\b\b\b\b\b\b\b\r480/480 [==============================] - 18s 37ms/step - loss: 0.1783 - sparse_categorical_crossentropy: 0.1783 - accuracy: 0.9580 - val_loss: 0.1393 - val_sparse_categorical_crossentropy: 0.1393 - val_accuracy: 0.9665\n",
            "Epoch 3/6\n",
            "479/480 [============================>.] - ETA: 0s - loss: 0.1197 - sparse_categorical_crossentropy: 0.1197 - accuracy: 0.9702\n",
            "Epoch 3: val_loss improved from 0.13934 to 0.10425, saving model to best_model.h5\n"
          ]
        },
        {
          "output_type": "stream",
          "name": "stderr",
          "text": [
            "WARNING:tensorflow:Early stopping conditioned on metric `var_loss` which is not available. Available metrics are: loss,sparse_categorical_crossentropy,accuracy,val_loss,val_sparse_categorical_crossentropy,val_accuracy\n"
          ]
        },
        {
          "output_type": "stream",
          "name": "stdout",
          "text": [
            "\b\b\b\b\b\b\b\b\b\b\b\b\b\b\b\b\b\b\b\b\b\b\b\b\b\b\b\b\b\b\b\b\b\b\b\b\b\b\b\b\b\b\b\b\b\b\b\b\b\b\b\b\b\b\b\b\b\b\b\b\b\b\b\b\b\b\b\b\b\b\b\b\b\b\b\b\b\b\b\b\b\b\b\b\b\b\b\b\b\b\b\b\b\b\b\b\b\b\b\b\b\b\b\b\b\b\b\b\b\b\b\b\b\b\b\b\b\b\b\b\b\b\b\b\b\b\r480/480 [==============================] - 18s 37ms/step - loss: 0.1197 - sparse_categorical_crossentropy: 0.1197 - accuracy: 0.9702 - val_loss: 0.1042 - val_sparse_categorical_crossentropy: 0.1042 - val_accuracy: 0.9739\n",
            "Epoch 4/6\n",
            "479/480 [============================>.] - ETA: 0s - loss: 0.0907 - sparse_categorical_crossentropy: 0.0907 - accuracy: 0.9769\n",
            "Epoch 4: val_loss improved from 0.10425 to 0.08344, saving model to best_model.h5\n"
          ]
        },
        {
          "output_type": "stream",
          "name": "stderr",
          "text": [
            "WARNING:tensorflow:Early stopping conditioned on metric `var_loss` which is not available. Available metrics are: loss,sparse_categorical_crossentropy,accuracy,val_loss,val_sparse_categorical_crossentropy,val_accuracy\n"
          ]
        },
        {
          "output_type": "stream",
          "name": "stdout",
          "text": [
            "\b\b\b\b\b\b\b\b\b\b\b\b\b\b\b\b\b\b\b\b\b\b\b\b\b\b\b\b\b\b\b\b\b\b\b\b\b\b\b\b\b\b\b\b\b\b\b\b\b\b\b\b\b\b\b\b\b\b\b\b\b\b\b\b\b\b\b\b\b\b\b\b\b\b\b\b\b\b\b\b\b\b\b\b\b\b\b\b\b\b\b\b\b\b\b\b\b\b\b\b\b\b\b\b\b\b\b\b\b\b\b\b\b\b\b\b\b\b\b\b\b\b\b\b\b\b\r480/480 [==============================] - 18s 37ms/step - loss: 0.0907 - sparse_categorical_crossentropy: 0.0907 - accuracy: 0.9769 - val_loss: 0.0834 - val_sparse_categorical_crossentropy: 0.0834 - val_accuracy: 0.9804\n",
            "Epoch 5/6\n",
            "479/480 [============================>.] - ETA: 0s - loss: 0.0712 - sparse_categorical_crossentropy: 0.0712 - accuracy: 0.9832\n",
            "Epoch 5: val_loss improved from 0.08344 to 0.07013, saving model to best_model.h5\n"
          ]
        },
        {
          "output_type": "stream",
          "name": "stderr",
          "text": [
            "WARNING:tensorflow:Early stopping conditioned on metric `var_loss` which is not available. Available metrics are: loss,sparse_categorical_crossentropy,accuracy,val_loss,val_sparse_categorical_crossentropy,val_accuracy\n"
          ]
        },
        {
          "output_type": "stream",
          "name": "stdout",
          "text": [
            "\b\b\b\b\b\b\b\b\b\b\b\b\b\b\b\b\b\b\b\b\b\b\b\b\b\b\b\b\b\b\b\b\b\b\b\b\b\b\b\b\b\b\b\b\b\b\b\b\b\b\b\b\b\b\b\b\b\b\b\b\b\b\b\b\b\b\b\b\b\b\b\b\b\b\b\b\b\b\b\b\b\b\b\b\b\b\b\b\b\b\b\b\b\b\b\b\b\b\b\b\b\b\b\b\b\b\b\b\b\b\b\b\b\b\b\b\b\b\b\b\b\b\b\b\b\b\r480/480 [==============================] - 18s 37ms/step - loss: 0.0712 - sparse_categorical_crossentropy: 0.0712 - accuracy: 0.9832 - val_loss: 0.0701 - val_sparse_categorical_crossentropy: 0.0701 - val_accuracy: 0.9827\n",
            "Epoch 6/6\n",
            "479/480 [============================>.] - ETA: 0s - loss: 0.0590 - sparse_categorical_crossentropy: 0.0590 - accuracy: 0.9851\n",
            "Epoch 6: val_loss improved from 0.07013 to 0.06287, saving model to best_model.h5\n"
          ]
        },
        {
          "output_type": "stream",
          "name": "stderr",
          "text": [
            "WARNING:tensorflow:Early stopping conditioned on metric `var_loss` which is not available. Available metrics are: loss,sparse_categorical_crossentropy,accuracy,val_loss,val_sparse_categorical_crossentropy,val_accuracy\n"
          ]
        },
        {
          "output_type": "stream",
          "name": "stdout",
          "text": [
            "\b\b\b\b\b\b\b\b\b\b\b\b\b\b\b\b\b\b\b\b\b\b\b\b\b\b\b\b\b\b\b\b\b\b\b\b\b\b\b\b\b\b\b\b\b\b\b\b\b\b\b\b\b\b\b\b\b\b\b\b\b\b\b\b\b\b\b\b\b\b\b\b\b\b\b\b\b\b\b\b\b\b\b\b\b\b\b\b\b\b\b\b\b\b\b\b\b\b\b\b\b\b\b\b\b\b\b\b\b\b\b\b\b\b\b\b\b\b\b\b\b\b\b\b\b\b\r480/480 [==============================] - 18s 37ms/step - loss: 0.0590 - sparse_categorical_crossentropy: 0.0590 - accuracy: 0.9851 - val_loss: 0.0629 - val_sparse_categorical_crossentropy: 0.0629 - val_accuracy: 0.9837\n"
          ]
        }
      ]
    },
    {
      "cell_type": "code",
      "source": [
        "# # 강사님 코드\n",
        "# model.save('bilstm.h5')"
      ],
      "metadata": {
        "id": "6AmMKI-e61QM"
      },
      "execution_count": null,
      "outputs": []
    },
    {
      "cell_type": "code",
      "source": [
        "# # 강사님 코드\n",
        "# import tensorflow as tf\n",
        "# tf.keras.utils.plot_model(model)"
      ],
      "metadata": {
        "id": "-DYovmTy63GL"
      },
      "execution_count": null,
      "outputs": []
    },
    {
      "cell_type": "code",
      "source": [
        "print(\"\\n 테스트 정확도: %.4f\" % (model.evaluate(X_test, y_test)[-1])) #GRU"
      ],
      "metadata": {
        "colab": {
          "base_uri": "https://localhost:8080/"
        },
        "id": "ccVhLdyHgYHS",
        "outputId": "5dd09c5e-26eb-43c1-97df-76688be7fb93"
      },
      "execution_count": 171,
      "outputs": [
        {
          "output_type": "stream",
          "name": "stdout",
          "text": [
            "300/300 [==============================] - 3s 9ms/step - loss: 0.0659 - sparse_categorical_crossentropy: 0.0659 - accuracy: 0.9831\n",
            "\n",
            " 테스트 정확도: 0.9831\n"
          ]
        }
      ]
    },
    {
      "cell_type": "code",
      "source": [
        "print(\"\\n 테스트 정확도: %.4f\" % (model.evaluate(X_test, y_test)[-1])) #LSTM"
      ],
      "metadata": {
        "colab": {
          "base_uri": "https://localhost:8080/"
        },
        "id": "uVi_Xu02fs8D",
        "outputId": "18152e93-811c-4089-b303-c6f6d3adbe84"
      },
      "execution_count": 165,
      "outputs": [
        {
          "output_type": "stream",
          "name": "stdout",
          "text": [
            "300/300 [==============================] - 3s 9ms/step - loss: 0.0955 - sparse_categorical_crossentropy: 0.0955 - accuracy: 0.9743\n",
            "\n",
            " 테스트 정확도: 0.9743\n"
          ]
        }
      ]
    },
    {
      "cell_type": "code",
      "metadata": {
        "colab": {
          "base_uri": "https://localhost:8080/"
        },
        "id": "WRAKp9mSWF5J",
        "outputId": "d9f901eb-1858-48df-fd01-023fa439bdc7"
      },
      "source": [
        "# 모델 학습 ="
      ],
      "execution_count": null,
      "outputs": [
        {
          "output_type": "stream",
          "name": "stdout",
          "text": [
            "Epoch 1/6\n",
            "270/270 [==============================] - 47s 122ms/step - loss: 0.5520 - accuracy: 0.8762 - val_loss: 0.2534 - val_accuracy: 0.9304\n",
            "Epoch 2/6\n",
            "270/270 [==============================] - 9s 35ms/step - loss: 0.1733 - accuracy: 0.9502 - val_loss: 0.1549 - val_accuracy: 0.9548\n",
            "Epoch 3/6\n",
            "270/270 [==============================] - 9s 33ms/step - loss: 0.1178 - accuracy: 0.9649 - val_loss: 0.1467 - val_accuracy: 0.9570\n",
            "Epoch 4/6\n",
            "270/270 [==============================] - 7s 26ms/step - loss: 0.0958 - accuracy: 0.9705 - val_loss: 0.1390 - val_accuracy: 0.9591\n",
            "Epoch 5/6\n",
            "270/270 [==============================] - 6s 22ms/step - loss: 0.0822 - accuracy: 0.9741 - val_loss: 0.1408 - val_accuracy: 0.9584\n",
            "Epoch 6/6\n",
            "270/270 [==============================] - 5s 19ms/step - loss: 0.0720 - accuracy: 0.9770 - val_loss: 0.1426 - val_accuracy: 0.9584\n"
          ]
        }
      ]
    },
    {
      "cell_type": "code",
      "source": [
        "y_predicted = model.predict(np.array([X_test[i]]))\n",
        "y_predicted"
      ],
      "metadata": {
        "colab": {
          "base_uri": "https://localhost:8080/"
        },
        "id": "EszJCukfZCgP",
        "outputId": "fcf0506e-0ff7-4110-8585-57beab8e74e6"
      },
      "execution_count": 141,
      "outputs": [
        {
          "output_type": "stream",
          "name": "stdout",
          "text": [
            "1/1 [==============================] - 0s 28ms/step\n"
          ]
        },
        {
          "output_type": "execute_result",
          "data": {
            "text/plain": [
              "array([[[9.9997729e-01, 5.7036700e-06, 8.9624461e-07, ...,\n",
              "         1.9109384e-06, 3.8772509e-06, 2.2546506e-06],\n",
              "        [9.9999565e-01, 2.8517229e-06, 4.8825225e-08, ...,\n",
              "         2.3915740e-07, 1.5143141e-07, 2.1085971e-07],\n",
              "        [9.9999553e-01, 3.0864628e-06, 4.2104826e-08, ...,\n",
              "         2.1639805e-07, 1.3437192e-07, 1.9458791e-07],\n",
              "        ...,\n",
              "        [1.3830411e-09, 4.5535589e-06, 7.8018966e-06, ...,\n",
              "         2.3636780e-06, 6.7395699e-06, 5.8825071e-06],\n",
              "        [1.3280615e-09, 1.3339883e-07, 1.5862759e-07, ...,\n",
              "         3.3307515e-07, 2.2096021e-06, 1.8086519e-06],\n",
              "        [3.4887134e-07, 9.9999428e-01, 3.7158255e-08, ...,\n",
              "         2.9202795e-07, 3.7339351e-08, 3.9610622e-08]]], dtype=float32)"
            ]
          },
          "metadata": {},
          "execution_count": 141
        }
      ]
    },
    {
      "cell_type": "code",
      "source": [
        "y_predicted.shape"
      ],
      "metadata": {
        "colab": {
          "base_uri": "https://localhost:8080/"
        },
        "id": "Xitx6aCecHTL",
        "outputId": "667905f3-2c87-4dc3-ace2-a78674b4cf40"
      },
      "execution_count": 144,
      "outputs": [
        {
          "output_type": "execute_result",
          "data": {
            "text/plain": [
              "(1, 70, 18)"
            ]
          },
          "metadata": {},
          "execution_count": 144
        }
      ]
    },
    {
      "cell_type": "code",
      "source": [
        "np.argmax(y_predicted, axis=-1)"
      ],
      "metadata": {
        "colab": {
          "base_uri": "https://localhost:8080/"
        },
        "id": "UikMP5WFbbSs",
        "outputId": "4ef3712d-7720-4a60-b99d-e5c4b5b3148e"
      },
      "execution_count": 142,
      "outputs": [
        {
          "output_type": "execute_result",
          "data": {
            "text/plain": [
              "array([[ 0,  0,  0,  0,  0,  0,  0,  0,  0,  0,  0,  0,  0,  0,  0,  0,\n",
              "         0,  0,  0,  0,  0,  0,  0,  0,  0,  0,  0,  0,  0,  0,  0,  0,\n",
              "         0,  0,  0,  0,  0,  0,  0,  0,  0,  0,  0,  0,  0,  0,  0,  0,\n",
              "         1,  1,  1,  1,  2,  1,  8,  1,  1,  3, 10, 10,  1,  1,  1, 10,\n",
              "        10,  1,  6,  5,  5,  1]])"
            ]
          },
          "metadata": {},
          "execution_count": 142
        }
      ]
    },
    {
      "cell_type": "code",
      "source": [
        "y_test[13]"
      ],
      "metadata": {
        "colab": {
          "base_uri": "https://localhost:8080/"
        },
        "id": "Ctgfq-yocjV3",
        "outputId": "426470fd-c72a-49fc-d1f4-1e4121a013dc"
      },
      "execution_count": 150,
      "outputs": [
        {
          "output_type": "execute_result",
          "data": {
            "text/plain": [
              "array([0, 0, 0, 0, 0, 0, 0, 0, 0, 0, 0, 0, 0, 0, 0, 0, 0, 0, 0, 0, 0, 0,\n",
              "       0, 0, 0, 0, 0, 0, 0, 0, 0, 0, 0, 0, 0, 0, 0, 0, 0, 0, 0, 0, 0, 0,\n",
              "       0, 0, 0, 0, 1, 1, 1, 1, 2, 1, 8, 1, 1, 1, 1, 1, 1, 1, 1, 1, 1, 1,\n",
              "       6, 5, 5, 1], dtype=int32)"
            ]
          },
          "metadata": {},
          "execution_count": 150
        }
      ]
    },
    {
      "cell_type": "code",
      "source": [
        "i = 13 # 확인하고 싶은 테스트용 샘플의 인덱스.\n",
        "y_predicted = model.predict(np.array([X_test[i]])) # 입력한 테스트용 샘플에 대해서 예측 y를 리턴\n",
        "y_predicted = np.argmax(y_predicted, axis=-1) # 확률 벡터를 정수 인코딩으로 변경함.\n",
        "# true = np.argmax(y_test[i], -1) # 원-핫 인코딩을 다시 정수 인코딩으로 변경함. y_test가 원 핫 인코딩일 때 쓸 것\n",
        "# 정수 인코딩일 때\n",
        "true = y_test[i]\n",
        "\n",
        "print(\"{:15}|{:5}|{}\".format(\"단어\", \"실제값\", \"예측값\"))\n",
        "print(35 * \"-\")\n",
        "\n",
        "for word, tag, pred in zip(X_test[i], true, y_predicted[0]):\n",
        "    if word != 0: # PAD값은 제외함.\n",
        "        print(\"{:17}: {:7} {}\".format(index_to_word[word], index_to_ner[tag], index_to_ner[pred]))"
      ],
      "metadata": {
        "colab": {
          "base_uri": "https://localhost:8080/"
        },
        "id": "1VwcrHb0VF7S",
        "outputId": "d330063d-d5e0-4689-e696-96dff7f8ea13"
      },
      "execution_count": 166,
      "outputs": [
        {
          "output_type": "stream",
          "name": "stdout",
          "text": [
            "1/1 [==============================] - 0s 415ms/step\n",
            "단어             |실제값  |예측값\n",
            "-----------------------------------\n",
            "security         : O       O\n",
            "is               : O       O\n",
            "tight            : O       O\n",
            "across           : O       O\n",
            "kabul            : B-geo   B-geo\n",
            "as               : O       O\n",
            "afghans          : B-gpe   B-tim\n",
            "commemorate      : O       O\n",
            "the              : O       O\n",
            "fifth            : O       O\n",
            "anniversary      : O       O\n",
            "of               : O       O\n",
            "the              : O       O\n",
            "assassination    : O       O\n",
            "of               : O       O\n",
            "anti-taleban     : O       O\n",
            "guerrilla        : O       O\n",
            "leader           : O       O\n",
            "ahmed            : B-per   B-geo\n",
            "shah             : I-per   I-per\n",
            "massoud          : I-per   I-per\n",
            ".                : O       O\n"
          ]
        }
      ]
    },
    {
      "cell_type": "code",
      "source": [
        "# GRU\n",
        "epochs = range(1, len(history.history['val_loss']) + 1)\n",
        "plt.plot(epochs, history.history['loss'])\n",
        "plt.plot(epochs, history.history['val_loss'])\n",
        "plt.title('model loss')\n",
        "plt.ylabel('loss')\n",
        "plt.xlabel('epoch')\n",
        "plt.legend(['train', 'val'], loc='upper left')\n",
        "plt.show()"
      ],
      "metadata": {
        "colab": {
          "base_uri": "https://localhost:8080/",
          "height": 472
        },
        "id": "T4x6HMovhWxG",
        "outputId": "62d4f703-51bc-41c0-d06f-9f1a168505be"
      },
      "execution_count": 172,
      "outputs": [
        {
          "output_type": "display_data",
          "data": {
            "text/plain": [
              "<Figure size 640x480 with 1 Axes>"
            ],
            "image/png": "[encoded data removed]"
          },
          "metadata": {}
        }
      ]
    },
    {
      "cell_type": "code",
      "source": [
        "#LSTM\n",
        "epochs = range(1, len(history.history['val_loss']) + 1)\n",
        "plt.plot(epochs, history.history['loss'])\n",
        "plt.plot(epochs, history.history['val_loss'])\n",
        "plt.title('model loss')\n",
        "plt.ylabel('loss')\n",
        "plt.xlabel('epoch')\n",
        "plt.legend(['train', 'val'], loc='upper left')\n",
        "plt.show()"
      ],
      "metadata": {
        "colab": {
          "base_uri": "https://localhost:8080/",
          "height": 472
        },
        "id": "wwWA6iBQVMfZ",
        "outputId": "04eace5a-e062-4d74-e927-d32f719e8991"
      },
      "execution_count": 167,
      "outputs": [
        {
          "output_type": "display_data",
          "data": {
            "text/plain": [
              "<Figure size 640x480 with 1 Axes>"
            ],
            "image/png": "[encoded data removed]"
          },
          "metadata": {}
        }
      ]
    },
    {
      "cell_type": "code",
      "metadata": {
        "colab": {
          "base_uri": "https://localhost:8080/",
          "height": 472
        },
        "id": "ubLZsdeAWcM5",
        "outputId": "66e005ca-2b18-4e2a-e93a-e8282c43ebad"
      },
      "source": [
        "# epochs = range(1, len(history.history['val_loss']) + 1)\n",
        "# plt.plot(epochs, history.history['loss'])\n",
        "# plt.plot(epochs, history.history['val_loss'])\n",
        "# plt.title('model loss')\n",
        "# plt.ylabel('loss')\n",
        "# plt.xlabel('epoch')\n",
        "# plt.legend(['train', 'val'], loc='upper left')\n",
        "# plt.show()"
      ],
      "execution_count": null,
      "outputs": [
        {
          "output_type": "display_data",
          "data": {
            "text/plain": [
              "<Figure size 640x480 with 1 Axes>"
            ],
            "image/png": "[encoded data removed]"
          },
          "metadata": {}
        }
      ]
    },
    {
      "cell_type": "markdown",
      "source": [
        "## 모델저장"
      ],
      "metadata": {
        "id": "qJ6w3qNI7H_J"
      }
    },
    {
      "cell_type": "markdown",
      "source": [
        "#### 1. 모델저장 (h5)"
      ],
      "metadata": {
        "id": "USCFP-Hbelry"
      }
    },
    {
      "cell_type": "code",
      "source": [
        "# SavedModel 포맷(google에서 만듦), HDF5 포맷 2가지로 가능\n",
        "# h5 format\n",
        "model.save('h5-model.h5') # 파이토치를 tensorflow로 바꾸거나, 그 반대로 바꿀 때 수월하게 바꿀 수 있다"
      ],
      "metadata": {
        "id": "m063uTMDcdpv"
      },
      "execution_count": null,
      "outputs": []
    },
    {
      "cell_type": "code",
      "source": [
        "# 모델 복원\n",
        "h5_model = tf.keras.models.load_model('h5-model.h5')\n",
        "h5_model.summary()\n",
        "\n",
        "# 모델 검증\n",
        "loss, acc = h5_model.evaluate(X_test, y_test, verbose=0)\n",
        "print(f'h5 model] loss: {loss:.5f}, acc: {acc:.5f}')"
      ],
      "metadata": {
        "id": "8pGMyrbFcdlV",
        "colab": {
          "base_uri": "https://localhost:8080/"
        },
        "outputId": "1de66ec4-55a4-4049-eaee-e65bdc0b02d7"
      },
      "execution_count": null,
      "outputs": [
        {
          "output_type": "stream",
          "name": "stdout",
          "text": [
            "Model: \"sequential\"\n",
            "_________________________________________________________________\n",
            " Layer (type)                Output Shape              Param #   \n",
            "=================================================================\n",
            " embedding (Embedding)       (None, None, 128)         4072832   \n",
            "                                                                 \n",
            " lstm (LSTM)                 (None, None, 256)         394240    \n",
            "                                                                 \n",
            " dense (Dense)               (None, None, 18)          4626      \n",
            "                                                                 \n",
            "=================================================================\n",
            "Total params: 4,471,698\n",
            "Trainable params: 4,471,698\n",
            "Non-trainable params: 0\n",
            "_________________________________________________________________\n",
            "h5 model] loss: 0.15682, acc: 0.95133\n"
          ]
        }
      ]
    },
    {
      "cell_type": "markdown",
      "source": [
        "#### 2. SavedModel 포맷으로 저장"
      ],
      "metadata": {
        "id": "WAwPfHBtfQAV"
      }
    },
    {
      "cell_type": "code",
      "source": [
        "# 모델을 SavedModel 포맷으로 저장\n",
        "model.save('saved-model')"
      ],
      "metadata": {
        "id": "duRFFZ09cdeD",
        "colab": {
          "base_uri": "https://localhost:8080/"
        },
        "outputId": "f64a18f4-6996-4290-e06c-945bfe40a2fb"
      },
      "execution_count": null,
      "outputs": [
        {
          "output_type": "stream",
          "name": "stderr",
          "text": [
            "WARNING:absl:Found untraced functions such as lstm_cell_layer_call_fn, lstm_cell_layer_call_and_return_conditional_losses while saving (showing 2 of 2). These functions will not be directly callable after loading.\n"
          ]
        }
      ]
    },
    {
      "cell_type": "code",
      "source": [
        "# 모델 복원\n",
        "saved_model = tf.keras.models.load_model('saved-model')\n",
        "saved_model.summary()"
      ],
      "metadata": {
        "id": "cSL1p9zXcdUn",
        "colab": {
          "base_uri": "https://localhost:8080/"
        },
        "outputId": "109fa49e-fff1-4d6d-d0a8-a3e67cd0d3a8"
      },
      "execution_count": null,
      "outputs": [
        {
          "output_type": "stream",
          "name": "stdout",
          "text": [
            "Model: \"sequential\"\n",
            "_________________________________________________________________\n",
            " Layer (type)                Output Shape              Param #   \n",
            "=================================================================\n",
            " embedding (Embedding)       (None, None, 128)         4072832   \n",
            "                                                                 \n",
            " lstm (LSTM)                 (None, None, 256)         394240    \n",
            "                                                                 \n",
            " dense (Dense)               (None, None, 18)          4626      \n",
            "                                                                 \n",
            "=================================================================\n",
            "Total params: 4,471,698\n",
            "Trainable params: 4,471,698\n",
            "Non-trainable params: 0\n",
            "_________________________________________________________________\n"
          ]
        }
      ]
    },
    {
      "cell_type": "code",
      "source": [
        "# 모델 검증 (SavedModel 포맷)\n",
        "loss, acc = saved_model.evaluate(X_test, y_test, verbose=0)\n",
        "print(f'saved_model] loss: {loss:.5f}, acc: {acc:.5f}')"
      ],
      "metadata": {
        "id": "FL2tYRAUcdPM",
        "colab": {
          "base_uri": "https://localhost:8080/"
        },
        "outputId": "d390a5cd-5bb2-4be1-cbd2-c069ad277b92"
      },
      "execution_count": null,
      "outputs": [
        {
          "output_type": "stream",
          "name": "stdout",
          "text": [
            "saved_model] loss: 0.15682, acc: 0.95133\n"
          ]
        }
      ]
    },
    {
      "cell_type": "code",
      "source": [],
      "metadata": {
        "id": "pEZXQdZ7hGOi"
      },
      "execution_count": null,
      "outputs": []
    },
    {
      "cell_type": "markdown",
      "source": [
        "### 3. Checkpoint 저장\n",
        "- 모델 전체가 아니라 가중치만 저장하고 싶다\n",
        "- 학습했던 것에서 이어서 하고 싶을 때 쓴다\n",
        "- 기본적으로 모델의 weight만 저장한다\n",
        "- = 중간저장 역할"
      ],
      "metadata": {
        "id": "eyycmd1bm06b"
      }
    },
    {
      "cell_type": "code",
      "source": [
        "embedding_dim = 128\n",
        "hidden_units = 256\n",
        "\n",
        "model = Sequential()\n",
        "model.add(Embedding(vocab_size, embedding_dim, mask_zero=True))\n",
        "model.add(LSTM(hidden_units, return_sequences=True))\n",
        "model.add(Dense(tag_size, activation=('softmax')))\n",
        "\n",
        "model.compile(loss='categorical_crossentropy', optimizer=Adam(0.001), metrics=['accuracy'])"
      ],
      "metadata": {
        "id": "jYJupbLim02e"
      },
      "execution_count": null,
      "outputs": []
    },
    {
      "cell_type": "code",
      "source": [
        "# 체크포인트 설정\n",
        "checkpoint = tf.keras.callbacks.ModelCheckpoint(filepath='tmp_checkpoint.ckpt',\n",
        "                                                save_weights_only=True,\n",
        "                                                save_best_only=True,\n",
        "                                                monitor='val_loss',\n",
        "                                                verbose=1)\n",
        "\n",
        "\n",
        "model.fit(X_train, y_train,\n",
        "          validation_split = 0.1,\n",
        "          batch_size = 128,\n",
        "          epochs=10,\n",
        "          callbacks=[checkpoint] # checkpoint를 설정해서 저장해야 한다\n",
        "          )"
      ],
      "metadata": {
        "colab": {
          "base_uri": "https://localhost:8080/"
        },
        "id": "7HfgthJTm0xo",
        "outputId": "3ab36ed1-c275-4fa8-e3d6-e8c2665b950c"
      },
      "execution_count": null,
      "outputs": [
        {
          "output_type": "stream",
          "name": "stdout",
          "text": [
            "Epoch 1/10\n",
            "270/270 [==============================] - ETA: 0s - loss: 0.6284 - accuracy: 0.8667\n",
            "Epoch 1: val_loss improved from inf to 0.33446, saving model to tmp_checkpoint.ckpt\n",
            "270/270 [==============================] - 30s 96ms/step - loss: 0.6284 - accuracy: 0.8667 - val_loss: 0.3345 - val_accuracy: 0.9098\n",
            "Epoch 2/10\n",
            "270/270 [==============================] - ETA: 0s - loss: 0.2311 - accuracy: 0.9393\n",
            "Epoch 2: val_loss improved from 0.33446 to 0.18695, saving model to tmp_checkpoint.ckpt\n",
            "270/270 [==============================] - 8s 30ms/step - loss: 0.2311 - accuracy: 0.9393 - val_loss: 0.1870 - val_accuracy: 0.9471\n",
            "Epoch 3/10\n",
            "270/270 [==============================] - ETA: 0s - loss: 0.1486 - accuracy: 0.9564\n",
            "Epoch 3: val_loss improved from 0.18695 to 0.16119, saving model to tmp_checkpoint.ckpt\n",
            "270/270 [==============================] - 4s 16ms/step - loss: 0.1486 - accuracy: 0.9564 - val_loss: 0.1612 - val_accuracy: 0.9516\n",
            "Epoch 4/10\n",
            "270/270 [==============================] - ETA: 0s - loss: 0.1226 - accuracy: 0.9620\n",
            "Epoch 4: val_loss improved from 0.16119 to 0.15669, saving model to tmp_checkpoint.ckpt\n",
            "270/270 [==============================] - 5s 18ms/step - loss: 0.1226 - accuracy: 0.9620 - val_loss: 0.1567 - val_accuracy: 0.9527\n",
            "Epoch 5/10\n",
            "270/270 [==============================] - ETA: 0s - loss: 0.1093 - accuracy: 0.9648\n",
            "Epoch 5: val_loss improved from 0.15669 to 0.15605, saving model to tmp_checkpoint.ckpt\n",
            "270/270 [==============================] - 4s 16ms/step - loss: 0.1093 - accuracy: 0.9648 - val_loss: 0.1560 - val_accuracy: 0.9516\n",
            "Epoch 6/10\n",
            "270/270 [==============================] - ETA: 0s - loss: 0.0995 - accuracy: 0.9673\n",
            "Epoch 6: val_loss did not improve from 0.15605\n",
            "270/270 [==============================] - 4s 13ms/step - loss: 0.0995 - accuracy: 0.9673 - val_loss: 0.1577 - val_accuracy: 0.9526\n",
            "Epoch 7/10\n",
            "270/270 [==============================] - ETA: 0s - loss: 0.0918 - accuracy: 0.9695\n",
            "Epoch 7: val_loss did not improve from 0.15605\n",
            "270/270 [==============================] - 3s 12ms/step - loss: 0.0918 - accuracy: 0.9695 - val_loss: 0.1596 - val_accuracy: 0.9520\n",
            "Epoch 8/10\n",
            "270/270 [==============================] - ETA: 0s - loss: 0.0859 - accuracy: 0.9712\n",
            "Epoch 8: val_loss did not improve from 0.15605\n",
            "270/270 [==============================] - 4s 14ms/step - loss: 0.0859 - accuracy: 0.9712 - val_loss: 0.1648 - val_accuracy: 0.9519\n",
            "Epoch 9/10\n",
            "270/270 [==============================] - ETA: 0s - loss: 0.0802 - accuracy: 0.9730\n",
            "Epoch 9: val_loss did not improve from 0.15605\n",
            "270/270 [==============================] - 3s 12ms/step - loss: 0.0802 - accuracy: 0.9730 - val_loss: 0.1685 - val_accuracy: 0.9518\n",
            "Epoch 10/10\n",
            "270/270 [==============================] - ETA: 0s - loss: 0.0756 - accuracy: 0.9744\n",
            "Epoch 10: val_loss did not improve from 0.15605\n",
            "270/270 [==============================] - 4s 15ms/step - loss: 0.0756 - accuracy: 0.9744 - val_loss: 0.1728 - val_accuracy: 0.9517\n"
          ]
        },
        {
          "output_type": "execute_result",
          "data": {
            "text/plain": [
              "<keras.callbacks.History at 0x7f04081dc4f0>"
            ]
          },
          "metadata": {},
          "execution_count": 47
        }
      ]
    },
    {
      "cell_type": "code",
      "source": [
        "# 모델 체크포인트 로드 전\n",
        "loss, acc = model.evaluate(X_test, y_test)\n",
        "print(f'체크포인트 로드 전: loss: {loss:.4f}, acc: {acc:.4f}')"
      ],
      "metadata": {
        "colab": {
          "base_uri": "https://localhost:8080/"
        },
        "id": "yM5D4qqtnFDJ",
        "outputId": "2bb6ebd0-687f-4877-9d52-90f40cb62fb3"
      },
      "execution_count": null,
      "outputs": [
        {
          "output_type": "stream",
          "name": "stdout",
          "text": [
            "300/300 [==============================] - 1s 4ms/step - loss: 0.1697 - accuracy: 0.9531\n",
            "체크포인트 로드 전: loss: 0.1697, acc: 0.9531\n"
          ]
        }
      ]
    },
    {
      "cell_type": "code",
      "source": [
        "# 체크포인트 파일을 모델에 로드\n",
        "model.load_weights('tmp_checkpoint.ckpt')\n",
        "loss, acc = model.evaluate(X_test, y_test)\n",
        "print(f'체크포인트 로드 후: loss: {loss:.4f}, acc: {acc:.4f}')"
      ],
      "metadata": {
        "colab": {
          "base_uri": "https://localhost:8080/"
        },
        "id": "a-A2lU9HnE_Q",
        "outputId": "6a8ce5ab-6c98-40ed-c4af-4b013c54ce1f"
      },
      "execution_count": null,
      "outputs": [
        {
          "output_type": "stream",
          "name": "stdout",
          "text": [
            "300/300 [==============================] - 1s 4ms/step - loss: 0.1527 - accuracy: 0.9529\n",
            "체크포인트 로드 후: loss: 0.1527, acc: 0.9529\n"
          ]
        }
      ]
    },
    {
      "cell_type": "code",
      "source": [],
      "metadata": {
        "id": "HIZuIwp5nE6a"
      },
      "execution_count": null,
      "outputs": []
    },
    {
      "cell_type": "code",
      "source": [],
      "metadata": {
        "id": "Bzn0qQmXhGIj"
      },
      "execution_count": null,
      "outputs": []
    },
    {
      "cell_type": "markdown",
      "source": [
        "참고자료\n",
        "-  도서 : 파이썬 딥러닝 텐서플로(정보문화사)\n",
        "    - https://github.com/lovedlim/tensorflow/blob/main/Part%203/3.4_model_configuration.ipynb\n"
      ],
      "metadata": {
        "id": "aVLSS_rrW2y9"
      }
    },
    {
      "cell_type": "code",
      "source": [],
      "metadata": {
        "id": "IO-Cbz30mm2R"
      },
      "execution_count": null,
      "outputs": []
    }
  ]
}