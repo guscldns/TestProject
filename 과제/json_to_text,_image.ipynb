{
  "nbformat": 4,
  "nbformat_minor": 0,
  "metadata": {
    "colab": {
      "provenance": [],
      "gpuType": "T4",
      "authorship_tag": "ABX9TyOC1aH487zWJkw5DmFLKtGc",
      "include_colab_link": true
    },
    "kernelspec": {
      "name": "python3",
      "display_name": "Python 3"
    },
    "language_info": {
      "name": "python"
    },
    "accelerator": "GPU",
    "widgets": {
      "application/vnd.jupyter.widget-state+json": {
        "69777b5aa6ff43c4a30a94ebdf23b6ad": {
          "model_module": "@jupyter-widgets/controls",
          "model_name": "HBoxModel",
          "model_module_version": "1.5.0",
          "state": {
            "_dom_classes": [],
            "_model_module": "@jupyter-widgets/controls",
            "_model_module_version": "1.5.0",
            "_model_name": "HBoxModel",
            "_view_count": null,
            "_view_module": "@jupyter-widgets/controls",
            "_view_module_version": "1.5.0",
            "_view_name": "HBoxView",
            "box_style": "",
            "children": [
              "IPY_MODEL_2c07957bef7c4231be6ef67beffc12d8",
              "IPY_MODEL_78eb37cff0da433f98448f2f6e9e03bb",
              "IPY_MODEL_05e4c9e30034484ca0c215747b4915e1"
            ],
            "layout": "IPY_MODEL_90d9358e83e64eba877372a0fe3525ae"
          }
        },
        "2c07957bef7c4231be6ef67beffc12d8": {
          "model_module": "@jupyter-widgets/controls",
          "model_name": "HTMLModel",
          "model_module_version": "1.5.0",
          "state": {
            "_dom_classes": [],
            "_model_module": "@jupyter-widgets/controls",
            "_model_module_version": "1.5.0",
            "_model_name": "HTMLModel",
            "_view_count": null,
            "_view_module": "@jupyter-widgets/controls",
            "_view_module_version": "1.5.0",
            "_view_name": "HTMLView",
            "description": "",
            "description_tooltip": null,
            "layout": "IPY_MODEL_7253ece8a3fa4bada2a9c222bf2d06dc",
            "placeholder": "​",
            "style": "IPY_MODEL_aafd20936fca424897c0c1eb0044943b",
            "value": "Downloading (…)official/config.json: 100%"
          }
        },
        "78eb37cff0da433f98448f2f6e9e03bb": {
          "model_module": "@jupyter-widgets/controls",
          "model_name": "FloatProgressModel",
          "model_module_version": "1.5.0",
          "state": {
            "_dom_classes": [],
            "_model_module": "@jupyter-widgets/controls",
            "_model_module_version": "1.5.0",
            "_model_name": "FloatProgressModel",
            "_view_count": null,
            "_view_module": "@jupyter-widgets/controls",
            "_view_module_version": "1.5.0",
            "_view_name": "ProgressView",
            "bar_style": "success",
            "description": "",
            "description_tooltip": null,
            "layout": "IPY_MODEL_32deeff688b6487a9e749ae283cc2e99",
            "max": 404,
            "min": 0,
            "orientation": "horizontal",
            "style": "IPY_MODEL_4cd7892d5a91435199734612b6f536c4",
            "value": 404
          }
        },
        "05e4c9e30034484ca0c215747b4915e1": {
          "model_module": "@jupyter-widgets/controls",
          "model_name": "HTMLModel",
          "model_module_version": "1.5.0",
          "state": {
            "_dom_classes": [],
            "_model_module": "@jupyter-widgets/controls",
            "_model_module_version": "1.5.0",
            "_model_name": "HTMLModel",
            "_view_count": null,
            "_view_module": "@jupyter-widgets/controls",
            "_view_module_version": "1.5.0",
            "_view_name": "HTMLView",
            "description": "",
            "description_tooltip": null,
            "layout": "IPY_MODEL_2d5668a02a5646cb926522c3d65b8d11",
            "placeholder": "​",
            "style": "IPY_MODEL_a67d1cd870f44a20a587f548450cf5b4",
            "value": " 404/404 [00:00&lt;00:00, 11.7kB/s]"
          }
        },
        "90d9358e83e64eba877372a0fe3525ae": {
          "model_module": "@jupyter-widgets/base",
          "model_name": "LayoutModel",
          "model_module_version": "1.2.0",
          "state": {
            "_model_module": "@jupyter-widgets/base",
            "_model_module_version": "1.2.0",
            "_model_name": "LayoutModel",
            "_view_count": null,
            "_view_module": "@jupyter-widgets/base",
            "_view_module_version": "1.2.0",
            "_view_name": "LayoutView",
            "align_content": null,
            "align_items": null,
            "align_self": null,
            "border": null,
            "bottom": null,
            "display": null,
            "flex": null,
            "flex_flow": null,
            "grid_area": null,
            "grid_auto_columns": null,
            "grid_auto_flow": null,
            "grid_auto_rows": null,
            "grid_column": null,
            "grid_gap": null,
            "grid_row": null,
            "grid_template_areas": null,
            "grid_template_columns": null,
            "grid_template_rows": null,
            "height": null,
            "justify_content": null,
            "justify_items": null,
            "left": null,
            "margin": null,
            "max_height": null,
            "max_width": null,
            "min_height": null,
            "min_width": null,
            "object_fit": null,
            "object_position": null,
            "order": null,
            "overflow": null,
            "overflow_x": null,
            "overflow_y": null,
            "padding": null,
            "right": null,
            "top": null,
            "visibility": null,
            "width": null
          }
        },
        "7253ece8a3fa4bada2a9c222bf2d06dc": {
          "model_module": "@jupyter-widgets/base",
          "model_name": "LayoutModel",
          "model_module_version": "1.2.0",
          "state": {
            "_model_module": "@jupyter-widgets/base",
            "_model_module_version": "1.2.0",
            "_model_name": "LayoutModel",
            "_view_count": null,
            "_view_module": "@jupyter-widgets/base",
            "_view_module_version": "1.2.0",
            "_view_name": "LayoutView",
            "align_content": null,
            "align_items": null,
            "align_self": null,
            "border": null,
            "bottom": null,
            "display": null,
            "flex": null,
            "flex_flow": null,
            "grid_area": null,
            "grid_auto_columns": null,
            "grid_auto_flow": null,
            "grid_auto_rows": null,
            "grid_column": null,
            "grid_gap": null,
            "grid_row": null,
            "grid_template_areas": null,
            "grid_template_columns": null,
            "grid_template_rows": null,
            "height": null,
            "justify_content": null,
            "justify_items": null,
            "left": null,
            "margin": null,
            "max_height": null,
            "max_width": null,
            "min_height": null,
            "min_width": null,
            "object_fit": null,
            "object_position": null,
            "order": null,
            "overflow": null,
            "overflow_x": null,
            "overflow_y": null,
            "padding": null,
            "right": null,
            "top": null,
            "visibility": null,
            "width": null
          }
        },
        "aafd20936fca424897c0c1eb0044943b": {
          "model_module": "@jupyter-widgets/controls",
          "model_name": "DescriptionStyleModel",
          "model_module_version": "1.5.0",
          "state": {
            "_model_module": "@jupyter-widgets/controls",
            "_model_module_version": "1.5.0",
            "_model_name": "DescriptionStyleModel",
            "_view_count": null,
            "_view_module": "@jupyter-widgets/base",
            "_view_module_version": "1.2.0",
            "_view_name": "StyleView",
            "description_width": ""
          }
        },
        "32deeff688b6487a9e749ae283cc2e99": {
          "model_module": "@jupyter-widgets/base",
          "model_name": "LayoutModel",
          "model_module_version": "1.2.0",
          "state": {
            "_model_module": "@jupyter-widgets/base",
            "_model_module_version": "1.2.0",
            "_model_name": "LayoutModel",
            "_view_count": null,
            "_view_module": "@jupyter-widgets/base",
            "_view_module_version": "1.2.0",
            "_view_name": "LayoutView",
            "align_content": null,
            "align_items": null,
            "align_self": null,
            "border": null,
            "bottom": null,
            "display": null,
            "flex": null,
            "flex_flow": null,
            "grid_area": null,
            "grid_auto_columns": null,
            "grid_auto_flow": null,
            "grid_auto_rows": null,
            "grid_column": null,
            "grid_gap": null,
            "grid_row": null,
            "grid_template_areas": null,
            "grid_template_columns": null,
            "grid_template_rows": null,
            "height": null,
            "justify_content": null,
            "justify_items": null,
            "left": null,
            "margin": null,
            "max_height": null,
            "max_width": null,
            "min_height": null,
            "min_width": null,
            "object_fit": null,
            "object_position": null,
            "order": null,
            "overflow": null,
            "overflow_x": null,
            "overflow_y": null,
            "padding": null,
            "right": null,
            "top": null,
            "visibility": null,
            "width": null
          }
        },
        "4cd7892d5a91435199734612b6f536c4": {
          "model_module": "@jupyter-widgets/controls",
          "model_name": "ProgressStyleModel",
          "model_module_version": "1.5.0",
          "state": {
            "_model_module": "@jupyter-widgets/controls",
            "_model_module_version": "1.5.0",
            "_model_name": "ProgressStyleModel",
            "_view_count": null,
            "_view_module": "@jupyter-widgets/base",
            "_view_module_version": "1.2.0",
            "_view_name": "StyleView",
            "bar_color": null,
            "description_width": ""
          }
        },
        "2d5668a02a5646cb926522c3d65b8d11": {
          "model_module": "@jupyter-widgets/base",
          "model_name": "LayoutModel",
          "model_module_version": "1.2.0",
          "state": {
            "_model_module": "@jupyter-widgets/base",
            "_model_module_version": "1.2.0",
            "_model_name": "LayoutModel",
            "_view_count": null,
            "_view_module": "@jupyter-widgets/base",
            "_view_module_version": "1.2.0",
            "_view_name": "LayoutView",
            "align_content": null,
            "align_items": null,
            "align_self": null,
            "border": null,
            "bottom": null,
            "display": null,
            "flex": null,
            "flex_flow": null,
            "grid_area": null,
            "grid_auto_columns": null,
            "grid_auto_flow": null,
            "grid_auto_rows": null,
            "grid_column": null,
            "grid_gap": null,
            "grid_row": null,
            "grid_template_areas": null,
            "grid_template_columns": null,
            "grid_template_rows": null,
            "height": null,
            "justify_content": null,
            "justify_items": null,
            "left": null,
            "margin": null,
            "max_height": null,
            "max_width": null,
            "min_height": null,
            "min_width": null,
            "object_fit": null,
            "object_position": null,
            "order": null,
            "overflow": null,
            "overflow_x": null,
            "overflow_y": null,
            "padding": null,
            "right": null,
            "top": null,
            "visibility": null,
            "width": null
          }
        },
        "a67d1cd870f44a20a587f548450cf5b4": {
          "model_module": "@jupyter-widgets/controls",
          "model_name": "DescriptionStyleModel",
          "model_module_version": "1.5.0",
          "state": {
            "_model_module": "@jupyter-widgets/controls",
            "_model_module_version": "1.5.0",
            "_model_name": "DescriptionStyleModel",
            "_view_count": null,
            "_view_module": "@jupyter-widgets/base",
            "_view_module_version": "1.2.0",
            "_view_name": "StyleView",
            "description_width": ""
          }
        },
        "55b9711af76f4f4e954c5fe2fd95f302": {
          "model_module": "@jupyter-widgets/controls",
          "model_name": "HBoxModel",
          "model_module_version": "1.5.0",
          "state": {
            "_dom_classes": [],
            "_model_module": "@jupyter-widgets/controls",
            "_model_module_version": "1.5.0",
            "_model_name": "HBoxModel",
            "_view_count": null,
            "_view_module": "@jupyter-widgets/controls",
            "_view_module_version": "1.5.0",
            "_view_name": "HBoxView",
            "box_style": "",
            "children": [
              "IPY_MODEL_2c79a520391a40b0a70b1449673c4fea",
              "IPY_MODEL_2f8e07741394458a9dfc2fe65683f480",
              "IPY_MODEL_987f33366ed44edd907f8baef218a3b7"
            ],
            "layout": "IPY_MODEL_3016eb293a8047dbb78c9512651630a6"
          }
        },
        "2c79a520391a40b0a70b1449673c4fea": {
          "model_module": "@jupyter-widgets/controls",
          "model_name": "HTMLModel",
          "model_module_version": "1.5.0",
          "state": {
            "_dom_classes": [],
            "_model_module": "@jupyter-widgets/controls",
            "_model_module_version": "1.5.0",
            "_model_name": "HTMLModel",
            "_view_count": null,
            "_view_module": "@jupyter-widgets/controls",
            "_view_module_version": "1.5.0",
            "_view_name": "HTMLView",
            "description": "",
            "description_tooltip": null,
            "layout": "IPY_MODEL_54d14ecdf4974ae2980a4f2124571ba5",
            "placeholder": "​",
            "style": "IPY_MODEL_dd35fdbfabc74c4b916a20ab20d3d688",
            "value": "Downloading pytorch_model.bin: 100%"
          }
        },
        "2f8e07741394458a9dfc2fe65683f480": {
          "model_module": "@jupyter-widgets/controls",
          "model_name": "FloatProgressModel",
          "model_module_version": "1.5.0",
          "state": {
            "_dom_classes": [],
            "_model_module": "@jupyter-widgets/controls",
            "_model_module_version": "1.5.0",
            "_model_name": "FloatProgressModel",
            "_view_count": null,
            "_view_module": "@jupyter-widgets/controls",
            "_view_module_version": "1.5.0",
            "_view_name": "ProgressView",
            "bar_style": "success",
            "description": "",
            "description_tooltip": null,
            "layout": "IPY_MODEL_23e959eea5a0456d8f20cf4dec9e7931",
            "max": 858583555,
            "min": 0,
            "orientation": "horizontal",
            "style": "IPY_MODEL_ed2274a0218145aaa7d4babe16c69069",
            "value": 858583555
          }
        },
        "987f33366ed44edd907f8baef218a3b7": {
          "model_module": "@jupyter-widgets/controls",
          "model_name": "HTMLModel",
          "model_module_version": "1.5.0",
          "state": {
            "_dom_classes": [],
            "_model_module": "@jupyter-widgets/controls",
            "_model_module_version": "1.5.0",
            "_model_name": "HTMLModel",
            "_view_count": null,
            "_view_module": "@jupyter-widgets/controls",
            "_view_module_version": "1.5.0",
            "_view_name": "HTMLView",
            "description": "",
            "description_tooltip": null,
            "layout": "IPY_MODEL_ce896ef248944869a6c33cc4792b46a0",
            "placeholder": "​",
            "style": "IPY_MODEL_db58552a9d6e4ce987fbfafac4c4e6d7",
            "value": " 859M/859M [00:05&lt;00:00, 247MB/s]"
          }
        },
        "3016eb293a8047dbb78c9512651630a6": {
          "model_module": "@jupyter-widgets/base",
          "model_name": "LayoutModel",
          "model_module_version": "1.2.0",
          "state": {
            "_model_module": "@jupyter-widgets/base",
            "_model_module_version": "1.2.0",
            "_model_name": "LayoutModel",
            "_view_count": null,
            "_view_module": "@jupyter-widgets/base",
            "_view_module_version": "1.2.0",
            "_view_name": "LayoutView",
            "align_content": null,
            "align_items": null,
            "align_self": null,
            "border": null,
            "bottom": null,
            "display": null,
            "flex": null,
            "flex_flow": null,
            "grid_area": null,
            "grid_auto_columns": null,
            "grid_auto_flow": null,
            "grid_auto_rows": null,
            "grid_column": null,
            "grid_gap": null,
            "grid_row": null,
            "grid_template_areas": null,
            "grid_template_columns": null,
            "grid_template_rows": null,
            "height": null,
            "justify_content": null,
            "justify_items": null,
            "left": null,
            "margin": null,
            "max_height": null,
            "max_width": null,
            "min_height": null,
            "min_width": null,
            "object_fit": null,
            "object_position": null,
            "order": null,
            "overflow": null,
            "overflow_x": null,
            "overflow_y": null,
            "padding": null,
            "right": null,
            "top": null,
            "visibility": null,
            "width": null
          }
        },
        "54d14ecdf4974ae2980a4f2124571ba5": {
          "model_module": "@jupyter-widgets/base",
          "model_name": "LayoutModel",
          "model_module_version": "1.2.0",
          "state": {
            "_model_module": "@jupyter-widgets/base",
            "_model_module_version": "1.2.0",
            "_model_name": "LayoutModel",
            "_view_count": null,
            "_view_module": "@jupyter-widgets/base",
            "_view_module_version": "1.2.0",
            "_view_name": "LayoutView",
            "align_content": null,
            "align_items": null,
            "align_self": null,
            "border": null,
            "bottom": null,
            "display": null,
            "flex": null,
            "flex_flow": null,
            "grid_area": null,
            "grid_auto_columns": null,
            "grid_auto_flow": null,
            "grid_auto_rows": null,
            "grid_column": null,
            "grid_gap": null,
            "grid_row": null,
            "grid_template_areas": null,
            "grid_template_columns": null,
            "grid_template_rows": null,
            "height": null,
            "justify_content": null,
            "justify_items": null,
            "left": null,
            "margin": null,
            "max_height": null,
            "max_width": null,
            "min_height": null,
            "min_width": null,
            "object_fit": null,
            "object_position": null,
            "order": null,
            "overflow": null,
            "overflow_x": null,
            "overflow_y": null,
            "padding": null,
            "right": null,
            "top": null,
            "visibility": null,
            "width": null
          }
        },
        "dd35fdbfabc74c4b916a20ab20d3d688": {
          "model_module": "@jupyter-widgets/controls",
          "model_name": "DescriptionStyleModel",
          "model_module_version": "1.5.0",
          "state": {
            "_model_module": "@jupyter-widgets/controls",
            "_model_module_version": "1.5.0",
            "_model_name": "DescriptionStyleModel",
            "_view_count": null,
            "_view_module": "@jupyter-widgets/base",
            "_view_module_version": "1.2.0",
            "_view_name": "StyleView",
            "description_width": ""
          }
        },
        "23e959eea5a0456d8f20cf4dec9e7931": {
          "model_module": "@jupyter-widgets/base",
          "model_name": "LayoutModel",
          "model_module_version": "1.2.0",
          "state": {
            "_model_module": "@jupyter-widgets/base",
            "_model_module_version": "1.2.0",
            "_model_name": "LayoutModel",
            "_view_count": null,
            "_view_module": "@jupyter-widgets/base",
            "_view_module_version": "1.2.0",
            "_view_name": "LayoutView",
            "align_content": null,
            "align_items": null,
            "align_self": null,
            "border": null,
            "bottom": null,
            "display": null,
            "flex": null,
            "flex_flow": null,
            "grid_area": null,
            "grid_auto_columns": null,
            "grid_auto_flow": null,
            "grid_auto_rows": null,
            "grid_column": null,
            "grid_gap": null,
            "grid_row": null,
            "grid_template_areas": null,
            "grid_template_columns": null,
            "grid_template_rows": null,
            "height": null,
            "justify_content": null,
            "justify_items": null,
            "left": null,
            "margin": null,
            "max_height": null,
            "max_width": null,
            "min_height": null,
            "min_width": null,
            "object_fit": null,
            "object_position": null,
            "order": null,
            "overflow": null,
            "overflow_x": null,
            "overflow_y": null,
            "padding": null,
            "right": null,
            "top": null,
            "visibility": null,
            "width": null
          }
        },
        "ed2274a0218145aaa7d4babe16c69069": {
          "model_module": "@jupyter-widgets/controls",
          "model_name": "ProgressStyleModel",
          "model_module_version": "1.5.0",
          "state": {
            "_model_module": "@jupyter-widgets/controls",
            "_model_module_version": "1.5.0",
            "_model_name": "ProgressStyleModel",
            "_view_count": null,
            "_view_module": "@jupyter-widgets/base",
            "_view_module_version": "1.2.0",
            "_view_name": "StyleView",
            "bar_color": null,
            "description_width": ""
          }
        },
        "ce896ef248944869a6c33cc4792b46a0": {
          "model_module": "@jupyter-widgets/base",
          "model_name": "LayoutModel",
          "model_module_version": "1.2.0",
          "state": {
            "_model_module": "@jupyter-widgets/base",
            "_model_module_version": "1.2.0",
            "_model_name": "LayoutModel",
            "_view_count": null,
            "_view_module": "@jupyter-widgets/base",
            "_view_module_version": "1.2.0",
            "_view_name": "LayoutView",
            "align_content": null,
            "align_items": null,
            "align_self": null,
            "border": null,
            "bottom": null,
            "display": null,
            "flex": null,
            "flex_flow": null,
            "grid_area": null,
            "grid_auto_columns": null,
            "grid_auto_flow": null,
            "grid_auto_rows": null,
            "grid_column": null,
            "grid_gap": null,
            "grid_row": null,
            "grid_template_areas": null,
            "grid_template_columns": null,
            "grid_template_rows": null,
            "height": null,
            "justify_content": null,
            "justify_items": null,
            "left": null,
            "margin": null,
            "max_height": null,
            "max_width": null,
            "min_height": null,
            "min_width": null,
            "object_fit": null,
            "object_position": null,
            "order": null,
            "overflow": null,
            "overflow_x": null,
            "overflow_y": null,
            "padding": null,
            "right": null,
            "top": null,
            "visibility": null,
            "width": null
          }
        },
        "db58552a9d6e4ce987fbfafac4c4e6d7": {
          "model_module": "@jupyter-widgets/controls",
          "model_name": "DescriptionStyleModel",
          "model_module_version": "1.5.0",
          "state": {
            "_model_module": "@jupyter-widgets/controls",
            "_model_module_version": "1.5.0",
            "_model_name": "DescriptionStyleModel",
            "_view_count": null,
            "_view_module": "@jupyter-widgets/base",
            "_view_module_version": "1.2.0",
            "_view_name": "StyleView",
            "description_width": ""
          }
        },
        "0a7fd4b469fb4c57a4a05c8cec9ab0cc": {
          "model_module": "@jupyter-widgets/controls",
          "model_name": "HBoxModel",
          "model_module_version": "1.5.0",
          "state": {
            "_dom_classes": [],
            "_model_module": "@jupyter-widgets/controls",
            "_model_module_version": "1.5.0",
            "_model_name": "HBoxModel",
            "_view_count": null,
            "_view_module": "@jupyter-widgets/controls",
            "_view_module_version": "1.5.0",
            "_view_name": "HBoxView",
            "box_style": "",
            "children": [
              "IPY_MODEL_9b71cea736c84b14a7dc7197716e3b3e",
              "IPY_MODEL_4c25f26752db4125ba82fdb1ff6bfee0",
              "IPY_MODEL_7e94f6cf0147485fbda3cc6157baecf0"
            ],
            "layout": "IPY_MODEL_488faa8c1e154a0b9a58af2895c761d2"
          }
        },
        "9b71cea736c84b14a7dc7197716e3b3e": {
          "model_module": "@jupyter-widgets/controls",
          "model_name": "HTMLModel",
          "model_module_version": "1.5.0",
          "state": {
            "_dom_classes": [],
            "_model_module": "@jupyter-widgets/controls",
            "_model_module_version": "1.5.0",
            "_model_name": "HTMLModel",
            "_view_count": null,
            "_view_module": "@jupyter-widgets/controls",
            "_view_module_version": "1.5.0",
            "_view_name": "HTMLView",
            "description": "",
            "description_tooltip": null,
            "layout": "IPY_MODEL_859dbb6b7e51418f981aa1d3dd18dc6c",
            "placeholder": "​",
            "style": "IPY_MODEL_bfc0fda67e2c4fa49c9133d1460ccf02",
            "value": "Resolving data files: 100%"
          }
        },
        "4c25f26752db4125ba82fdb1ff6bfee0": {
          "model_module": "@jupyter-widgets/controls",
          "model_name": "FloatProgressModel",
          "model_module_version": "1.5.0",
          "state": {
            "_dom_classes": [],
            "_model_module": "@jupyter-widgets/controls",
            "_model_module_version": "1.5.0",
            "_model_name": "FloatProgressModel",
            "_view_count": null,
            "_view_module": "@jupyter-widgets/controls",
            "_view_module_version": "1.5.0",
            "_view_name": "ProgressView",
            "bar_style": "success",
            "description": "",
            "description_tooltip": null,
            "layout": "IPY_MODEL_69f136d10dad4814b122516c226575bb",
            "max": 2000,
            "min": 0,
            "orientation": "horizontal",
            "style": "IPY_MODEL_d9acd2c2b88e430aa216e5c0e5f5951c",
            "value": 2000
          }
        },
        "7e94f6cf0147485fbda3cc6157baecf0": {
          "model_module": "@jupyter-widgets/controls",
          "model_name": "HTMLModel",
          "model_module_version": "1.5.0",
          "state": {
            "_dom_classes": [],
            "_model_module": "@jupyter-widgets/controls",
            "_model_module_version": "1.5.0",
            "_model_name": "HTMLModel",
            "_view_count": null,
            "_view_module": "@jupyter-widgets/controls",
            "_view_module_version": "1.5.0",
            "_view_name": "HTMLView",
            "description": "",
            "description_tooltip": null,
            "layout": "IPY_MODEL_7c22a89f146f400a8018b4ed85fd052e",
            "placeholder": "​",
            "style": "IPY_MODEL_26fb23a34ff8445eb58a5a581229794a",
            "value": " 2000/2000 [00:00&lt;00:00, 21871.08it/s]"
          }
        },
        "488faa8c1e154a0b9a58af2895c761d2": {
          "model_module": "@jupyter-widgets/base",
          "model_name": "LayoutModel",
          "model_module_version": "1.2.0",
          "state": {
            "_model_module": "@jupyter-widgets/base",
            "_model_module_version": "1.2.0",
            "_model_name": "LayoutModel",
            "_view_count": null,
            "_view_module": "@jupyter-widgets/base",
            "_view_module_version": "1.2.0",
            "_view_name": "LayoutView",
            "align_content": null,
            "align_items": null,
            "align_self": null,
            "border": null,
            "bottom": null,
            "display": null,
            "flex": null,
            "flex_flow": null,
            "grid_area": null,
            "grid_auto_columns": null,
            "grid_auto_flow": null,
            "grid_auto_rows": null,
            "grid_column": null,
            "grid_gap": null,
            "grid_row": null,
            "grid_template_areas": null,
            "grid_template_columns": null,
            "grid_template_rows": null,
            "height": null,
            "justify_content": null,
            "justify_items": null,
            "left": null,
            "margin": null,
            "max_height": null,
            "max_width": null,
            "min_height": null,
            "min_width": null,
            "object_fit": null,
            "object_position": null,
            "order": null,
            "overflow": null,
            "overflow_x": null,
            "overflow_y": null,
            "padding": null,
            "right": null,
            "top": null,
            "visibility": null,
            "width": null
          }
        },
        "859dbb6b7e51418f981aa1d3dd18dc6c": {
          "model_module": "@jupyter-widgets/base",
          "model_name": "LayoutModel",
          "model_module_version": "1.2.0",
          "state": {
            "_model_module": "@jupyter-widgets/base",
            "_model_module_version": "1.2.0",
            "_model_name": "LayoutModel",
            "_view_count": null,
            "_view_module": "@jupyter-widgets/base",
            "_view_module_version": "1.2.0",
            "_view_name": "LayoutView",
            "align_content": null,
            "align_items": null,
            "align_self": null,
            "border": null,
            "bottom": null,
            "display": null,
            "flex": null,
            "flex_flow": null,
            "grid_area": null,
            "grid_auto_columns": null,
            "grid_auto_flow": null,
            "grid_auto_rows": null,
            "grid_column": null,
            "grid_gap": null,
            "grid_row": null,
            "grid_template_areas": null,
            "grid_template_columns": null,
            "grid_template_rows": null,
            "height": null,
            "justify_content": null,
            "justify_items": null,
            "left": null,
            "margin": null,
            "max_height": null,
            "max_width": null,
            "min_height": null,
            "min_width": null,
            "object_fit": null,
            "object_position": null,
            "order": null,
            "overflow": null,
            "overflow_x": null,
            "overflow_y": null,
            "padding": null,
            "right": null,
            "top": null,
            "visibility": null,
            "width": null
          }
        },
        "bfc0fda67e2c4fa49c9133d1460ccf02": {
          "model_module": "@jupyter-widgets/controls",
          "model_name": "DescriptionStyleModel",
          "model_module_version": "1.5.0",
          "state": {
            "_model_module": "@jupyter-widgets/controls",
            "_model_module_version": "1.5.0",
            "_model_name": "DescriptionStyleModel",
            "_view_count": null,
            "_view_module": "@jupyter-widgets/base",
            "_view_module_version": "1.2.0",
            "_view_name": "StyleView",
            "description_width": ""
          }
        },
        "69f136d10dad4814b122516c226575bb": {
          "model_module": "@jupyter-widgets/base",
          "model_name": "LayoutModel",
          "model_module_version": "1.2.0",
          "state": {
            "_model_module": "@jupyter-widgets/base",
            "_model_module_version": "1.2.0",
            "_model_name": "LayoutModel",
            "_view_count": null,
            "_view_module": "@jupyter-widgets/base",
            "_view_module_version": "1.2.0",
            "_view_name": "LayoutView",
            "align_content": null,
            "align_items": null,
            "align_self": null,
            "border": null,
            "bottom": null,
            "display": null,
            "flex": null,
            "flex_flow": null,
            "grid_area": null,
            "grid_auto_columns": null,
            "grid_auto_flow": null,
            "grid_auto_rows": null,
            "grid_column": null,
            "grid_gap": null,
            "grid_row": null,
            "grid_template_areas": null,
            "grid_template_columns": null,
            "grid_template_rows": null,
            "height": null,
            "justify_content": null,
            "justify_items": null,
            "left": null,
            "margin": null,
            "max_height": null,
            "max_width": null,
            "min_height": null,
            "min_width": null,
            "object_fit": null,
            "object_position": null,
            "order": null,
            "overflow": null,
            "overflow_x": null,
            "overflow_y": null,
            "padding": null,
            "right": null,
            "top": null,
            "visibility": null,
            "width": null
          }
        },
        "d9acd2c2b88e430aa216e5c0e5f5951c": {
          "model_module": "@jupyter-widgets/controls",
          "model_name": "ProgressStyleModel",
          "model_module_version": "1.5.0",
          "state": {
            "_model_module": "@jupyter-widgets/controls",
            "_model_module_version": "1.5.0",
            "_model_name": "ProgressStyleModel",
            "_view_count": null,
            "_view_module": "@jupyter-widgets/base",
            "_view_module_version": "1.2.0",
            "_view_name": "StyleView",
            "bar_color": null,
            "description_width": ""
          }
        },
        "7c22a89f146f400a8018b4ed85fd052e": {
          "model_module": "@jupyter-widgets/base",
          "model_name": "LayoutModel",
          "model_module_version": "1.2.0",
          "state": {
            "_model_module": "@jupyter-widgets/base",
            "_model_module_version": "1.2.0",
            "_model_name": "LayoutModel",
            "_view_count": null,
            "_view_module": "@jupyter-widgets/base",
            "_view_module_version": "1.2.0",
            "_view_name": "LayoutView",
            "align_content": null,
            "align_items": null,
            "align_self": null,
            "border": null,
            "bottom": null,
            "display": null,
            "flex": null,
            "flex_flow": null,
            "grid_area": null,
            "grid_auto_columns": null,
            "grid_auto_flow": null,
            "grid_auto_rows": null,
            "grid_column": null,
            "grid_gap": null,
            "grid_row": null,
            "grid_template_areas": null,
            "grid_template_columns": null,
            "grid_template_rows": null,
            "height": null,
            "justify_content": null,
            "justify_items": null,
            "left": null,
            "margin": null,
            "max_height": null,
            "max_width": null,
            "min_height": null,
            "min_width": null,
            "object_fit": null,
            "object_position": null,
            "order": null,
            "overflow": null,
            "overflow_x": null,
            "overflow_y": null,
            "padding": null,
            "right": null,
            "top": null,
            "visibility": null,
            "width": null
          }
        },
        "26fb23a34ff8445eb58a5a581229794a": {
          "model_module": "@jupyter-widgets/controls",
          "model_name": "DescriptionStyleModel",
          "model_module_version": "1.5.0",
          "state": {
            "_model_module": "@jupyter-widgets/controls",
            "_model_module_version": "1.5.0",
            "_model_name": "DescriptionStyleModel",
            "_view_count": null,
            "_view_module": "@jupyter-widgets/base",
            "_view_module_version": "1.2.0",
            "_view_name": "StyleView",
            "description_width": ""
          }
        }
      }
    }
  },
  "cells": [
    {
      "cell_type": "markdown",
      "metadata": {
        "id": "view-in-github",
        "colab_type": "text"
      },
      "source": [
        "<a href=\"https://colab.research.google.com/github/guscldns/TestProject/blob/main/%EA%B3%BC%EC%A0%9C/json_to_text%2C_image.ipynb\" target=\"_parent\"><img src=\"https://colab.research.google.com/assets/colab-badge.svg\" alt=\"Open In Colab\"/></a>"
      ]
    },
    {
      "cell_type": "code",
      "execution_count": 1,
      "metadata": {
        "id": "zNSgmmwVafim",
        "colab": {
          "base_uri": "https://localhost:8080/"
        },
        "outputId": "fd898bfc-2bf4-4343-988d-7e40197d51f1"
      },
      "outputs": [
        {
          "output_type": "stream",
          "name": "stdout",
          "text": [
            "Downloading...\n",
            "From: https://drive.google.com/uc?id=1rswWV67Idv8OXI1qQ7o5aSSWvP_uA5MW\n",
            "To: /content/sample.zip\n",
            "100% 2.95M/2.95M [00:00<00:00, 168MB/s]\n",
            "Downloading...\n",
            "From: https://drive.google.com/uc?id=1G4jAcJLy_1PC9YQR36t7jMapj9da4vPd\n",
            "To: /content/malgun.ttf\n",
            "100% 13.5M/13.5M [00:00<00:00, 34.6MB/s]\n"
          ]
        }
      ],
      "source": [
        "# 샘플파일\n",
        "!gdown 1rswWV67Idv8OXI1qQ7o5aSSWvP_uA5MW\n",
        "# 맑음고딕 폰트\n",
        "!gdown 1G4jAcJLy_1PC9YQR36t7jMapj9da4vPd"
      ]
    },
    {
      "cell_type": "code",
      "source": [
        "import zipfile\n",
        "import os\n",
        "import json\n",
        "from PIL import Image, ImageDraw, ImageFont"
      ],
      "metadata": {
        "id": "oQxQ_E0DauX1"
      },
      "execution_count": 2,
      "outputs": []
    },
    {
      "cell_type": "code",
      "source": [
        "!mkdir /content/sample\n",
        "%cd /content/sample"
      ],
      "metadata": {
        "colab": {
          "base_uri": "https://localhost:8080/"
        },
        "id": "m3KtH-jqbRPA",
        "outputId": "42336f4b-107b-4949-cd07-eddf41e8c0c1"
      },
      "execution_count": 3,
      "outputs": [
        {
          "output_type": "stream",
          "name": "stdout",
          "text": [
            "/content/sample\n"
          ]
        }
      ]
    },
    {
      "cell_type": "code",
      "source": [
        "!unzip /content/sample.zip"
      ],
      "metadata": {
        "id": "26U5g5OJbJLT"
      },
      "execution_count": null,
      "outputs": []
    },
    {
      "cell_type": "code",
      "source": [
        "%cd /content/\n",
        "!mkdir /content/text\n",
        "!mkdir /content/json\n",
        "!mkdir /content/jpg"
      ],
      "metadata": {
        "colab": {
          "base_uri": "https://localhost:8080/"
        },
        "id": "WIrMmITWetH8",
        "outputId": "1210bc6b-7637-46ed-97d8-72ca0def2133"
      },
      "execution_count": 5,
      "outputs": [
        {
          "output_type": "stream",
          "name": "stdout",
          "text": [
            "/content\n"
          ]
        }
      ]
    },
    {
      "cell_type": "code",
      "source": [
        "foilderlist = os.listdir('/content/sample')\n",
        "\n",
        "for i in foilderlist:\n",
        "    per_path = f'/content/sample/{i}/20per'\n",
        "    sent_path = f'/content/sample/{i}/2~3sent'\n",
        "    per_list = os.listdir(per_path)\n",
        "    sent_list = os.listdir(sent_path)\n",
        "\n",
        "    for j in per_list:\n",
        "        with open(f'{per_path}/{j}', 'r', encoding='utf-8') as file:\n",
        "            text = json.load(file)\n",
        "\n",
        "            image_path0 = f'{j[:-5]}.jpg'\n",
        "            ground_truth_parse = f\" {text['Meta(Refine)']['passage']}\"\n",
        "\n",
        "            # Create a dictionary with the desired format\n",
        "            sample = {\n",
        "                \"file_name\": image_path0,\n",
        "                \"ground_truth\": {\n",
        "                    \"gt_parses\": [\n",
        "                        {\n",
        "                            \"text_sequence\": ground_truth_parse\n",
        "                        }\n",
        "                    ]\n",
        "                }\n",
        "            }\n",
        "\n",
        "            # Save the dictionary as a JSON file\n",
        "            with open(f'/content/json/{j[:-5]}.json', 'w', encoding='utf-8') as fi:\n",
        "                json.dump(sample, fi, ensure_ascii=False, indent=4)"
      ],
      "metadata": {
        "id": "Od-VDS04kHXG"
      },
      "execution_count": 15,
      "outputs": []
    },
    {
      "cell_type": "code",
      "source": [
        "foilderlist = os.listdir('/content/sample')\n",
        "\n",
        "for i in foilderlist:\n",
        "    per_path = f'/content/sample/{i}/20per'\n",
        "    sent_path = f'/content/sample/{i}/2~3sent'\n",
        "    per_list = os.listdir(per_path)\n",
        "    sent_list = os.listdir(sent_path)\n",
        "\n",
        "    for j in per_list:\n",
        "        with open(f'{per_path}/{j}', 'r', encoding='utf-8') as file:\n",
        "            text = json.load(file)\n",
        "\n",
        "            image_path0 = f'{j[:-5]}.jpg'\n",
        "            ground_truth_parse = f\" {text['Meta(Refine)']['passage']}\"\n",
        "\n",
        "            # Create a dictionary with the desired format\n",
        "            sample = {\n",
        "                \"file_name\": image_path0,\n",
        "                \"ground_truth\": {\n",
        "                    \"gt_parses\": [\n",
        "                        {\n",
        "                            \"text_sequence\": ground_truth_parse\n",
        "                        }\n",
        "                    ]\n",
        "                }\n",
        "            }\n",
        "\n",
        "            # Save the dictionary as a JSON file\n",
        "            with open(f'/content/json/{j[:-5]}.json', 'w', encoding='utf-8') as fi:\n",
        "                json.dump(sample, fi, ensure_ascii=False, indent=4)\n",
        "\n",
        "        # Save the extracted passage to the 'test' directory\n",
        "            with open(f'/content/text/{j[:-5]}.txt', 'w', encoding='utf-8') as f:\n",
        "                f.write(f'{ground_truth_parse}')\n",
        "\n",
        "        # Create an image with the text\n",
        "        image_width = 800\n",
        "        image_height = 1200\n",
        "        font_size = 18 # font size\n",
        "        left_margin = 50 # 왼쪽 여백\n",
        "        right_margin = 50 # 오른쪽 여백\n",
        "        vertical_space = 10 # 문단 여백\n",
        "        top_margin = 50 # 맨 위 여백\n",
        "        bottom_margin = 50 # 맨 아래 여백\n",
        "\n",
        "        font_path = \"/content/malgun.ttf\"  # Replace with your font path\n",
        "\n",
        "        # Load a Unicode font\n",
        "        font = ImageFont.truetype(font_path, font_size)\n",
        "\n",
        "        # Calculate image height and initialize variables\n",
        "        lines = []\n",
        "        line = \"\"\n",
        "\n",
        "        for word in ground_truth_parse.split():\n",
        "            # Check if adding the current word exceeds the available width\n",
        "            if font.getsize(line + \" \" + word)[0] <= (image_width - left_margin - right_margin):\n",
        "                line += \" \" + word\n",
        "            else:\n",
        "                lines.append(line)\n",
        "                line = word\n",
        "\n",
        "        lines.append(line)  # Append the last line\n",
        "\n",
        "        # Calculate image height based on the number of lines\n",
        "        line_height = font.getsize('A')[1]  # Height of a line of text\n",
        "        image_height = line_height * len(lines) + (len(lines) - 1) * vertical_space + top_margin + bottom_margin\n",
        "\n",
        "        # Create a new image with margins\n",
        "        image = Image.new('RGB', (image_width, image_height), color='white')\n",
        "        draw = ImageDraw.Draw(image)\n",
        "\n",
        "        # Draw the text on the image with margins\n",
        "        y_position = top_margin  # Adjust the starting y position\n",
        "        text_color = (0, 0, 0)  # Black color\n",
        "\n",
        "        for line in lines:\n",
        "            x_position = left_margin  # Adjust the starting x position\n",
        "            draw.text((x_position, y_position), line, fill=text_color, font=font)\n",
        "            y_position += line_height + vertical_space\n",
        "\n",
        "        # Save the image as JPG\n",
        "        image.save(f'/content/jpg/{j[:-5]}.jpg')"
      ],
      "metadata": {
        "colab": {
          "base_uri": "https://localhost:8080/"
        },
        "id": "7nPAFNSabL18",
        "outputId": "5336b42b-0e23-41f6-b763-ba89ed8dac3d"
      },
      "execution_count": 7,
      "outputs": [
        {
          "output_type": "stream",
          "name": "stderr",
          "text": [
            "<ipython-input-7-17ccff53c8a8>:54: DeprecationWarning: getsize is deprecated and will be removed in Pillow 10 (2023-07-01). Use getbbox or getlength instead.\n",
            "  if font.getsize(line + \" \" + word)[0] <= (image_width - left_margin - right_margin):\n",
            "<ipython-input-7-17ccff53c8a8>:63: DeprecationWarning: getsize is deprecated and will be removed in Pillow 10 (2023-07-01). Use getbbox or getlength instead.\n",
            "  line_height = font.getsize('A')[1]  # Height of a line of text\n"
          ]
        }
      ]
    },
    {
      "cell_type": "code",
      "source": [
        "import os\n",
        "import shutil\n",
        "from sklearn.model_selection import train_test_split\n",
        "\n",
        "# 데이터가 들어있는 폴더 경로\n",
        "json_folder = '/content/json'\n",
        "jpg_folder = '/content/jpg'\n",
        "\n",
        "# 데이터를 저장할 분할된 폴더 경로\n",
        "train_folder = '/content/dataset/train'\n",
        "test_folder = '/content/dataset/test'\n",
        "valid_folder = '/content/dataset/valid'\n",
        "\n",
        "# JSON 파일과 이미지 파일 목록을 가져옴\n",
        "json_files = [f for f in os.listdir(json_folder) if f.endswith('.json')]\n",
        "jpg_files = [f for f in os.listdir(jpg_folder) if f.endswith('.jpg')]\n",
        "\n",
        "# 데이터를 train/test/valid로 분할\n",
        "train_json, test_json, train_jpg, test_jpg = train_test_split(json_files, jpg_files, test_size=0.2, random_state=42)\n",
        "train_json, valid_json, train_jpg, valid_jpg = train_test_split(train_json, train_jpg, test_size=0.2, random_state=42)\n",
        "\n",
        "# 각 분할에 해당하는 폴더 생성\n",
        "os.makedirs(train_folder, exist_ok=True)\n",
        "os.makedirs(test_folder, exist_ok=True)\n",
        "os.makedirs(valid_folder, exist_ok=True)\n",
        "\n",
        "# 파일을 해당 폴더로 복사\n",
        "for json_file, jpg_file in zip(train_json, train_jpg):\n",
        "    shutil.copy(os.path.join(json_folder, json_file), os.path.join(train_folder, json_file))\n",
        "    shutil.copy(os.path.join(jpg_folder, jpg_file), os.path.join(train_folder, jpg_file))\n",
        "\n",
        "for json_file, jpg_file in zip(test_json, test_jpg):\n",
        "    shutil.copy(os.path.join(json_folder, json_file), os.path.join(test_folder, json_file))\n",
        "    shutil.copy(os.path.join(jpg_folder, jpg_file), os.path.join(test_folder, jpg_file))\n",
        "\n",
        "for json_file, jpg_file in zip(valid_json, valid_jpg):\n",
        "    shutil.copy(os.path.join(json_folder, json_file), os.path.join(valid_folder, json_file))\n",
        "    shutil.copy(os.path.join(jpg_folder, jpg_file), os.path.join(valid_folder, jpg_file))\n"
      ],
      "metadata": {
        "id": "pP-YS7horYRM"
      },
      "execution_count": 16,
      "outputs": []
    },
    {
      "cell_type": "markdown",
      "source": [
        "### 데이터 변환"
      ],
      "metadata": {
        "id": "F7Cm3GetPk6S"
      }
    },
    {
      "cell_type": "code",
      "source": [
        "!pip install synthtiger"
      ],
      "metadata": {
        "colab": {
          "base_uri": "https://localhost:8080/"
        },
        "id": "fHgJyrgCPhQm",
        "outputId": "57e7f1b0-a079-45ae-91bb-9279c8600caf"
      },
      "execution_count": 19,
      "outputs": [
        {
          "output_type": "stream",
          "name": "stdout",
          "text": [
            "Collecting synthtiger\n",
            "  Downloading synthtiger-1.2.1-py3-none-any.whl (127 kB)\n",
            "\u001b[?25l     \u001b[90m━━━━━━━━━━━━━━━━━━━━━━━━━━━━━━━━━━━━━━━━\u001b[0m \u001b[32m0.0/127.0 kB\u001b[0m \u001b[31m?\u001b[0m eta \u001b[36m-:--:--\u001b[0m\r\u001b[2K     \u001b[91m━━━━━━━━━\u001b[0m\u001b[90m╺\u001b[0m\u001b[90m━━━━━━━━━━━━━━━━━━━━━━━━━━━━\u001b[0m \u001b[32m30.7/127.0 kB\u001b[0m \u001b[31m676.0 kB/s\u001b[0m eta \u001b[36m0:00:01\u001b[0m\r\u001b[2K     \u001b[91m━━━━━━━━━━━━━━━━━━━━━━━━━━━━━━━━━━\u001b[0m\u001b[91m╸\u001b[0m\u001b[90m━━━━\u001b[0m \u001b[32m112.6/127.0 kB\u001b[0m \u001b[31m1.5 MB/s\u001b[0m eta \u001b[36m0:00:01\u001b[0m\r\u001b[2K     \u001b[90m━━━━━━━━━━━━━━━━━━━━━━━━━━━━━━━━━━━━━━━\u001b[0m \u001b[32m127.0/127.0 kB\u001b[0m \u001b[31m1.4 MB/s\u001b[0m eta \u001b[36m0:00:00\u001b[0m\n",
            "\u001b[?25hCollecting arabic-reshaper (from synthtiger)\n",
            "  Downloading arabic_reshaper-3.0.0-py3-none-any.whl (20 kB)\n",
            "Collecting blend-modes (from synthtiger)\n",
            "  Downloading blend_modes-2.1.0.tar.gz (17 kB)\n",
            "  Preparing metadata (setup.py) ... \u001b[?25l\u001b[?25hdone\n",
            "Requirement already satisfied: fonttools in /usr/local/lib/python3.10/dist-packages (from synthtiger) (4.42.0)\n",
            "Requirement already satisfied: imgaug in /usr/local/lib/python3.10/dist-packages (from synthtiger) (0.4.0)\n",
            "Requirement already satisfied: numpy in /usr/local/lib/python3.10/dist-packages (from synthtiger) (1.23.5)\n",
            "Requirement already satisfied: opencv-python in /usr/local/lib/python3.10/dist-packages (from synthtiger) (4.8.0.76)\n",
            "Requirement already satisfied: pillow>=8.2.0 in /usr/local/lib/python3.10/dist-packages (from synthtiger) (9.4.0)\n",
            "Requirement already satisfied: pygame in /usr/local/lib/python3.10/dist-packages (from synthtiger) (2.5.1)\n",
            "Collecting python-bidi (from synthtiger)\n",
            "  Downloading python_bidi-0.4.2-py2.py3-none-any.whl (30 kB)\n",
            "Collecting pytweening (from synthtiger)\n",
            "  Downloading pytweening-1.0.7.tar.gz (168 kB)\n",
            "\u001b[2K     \u001b[90m━━━━━━━━━━━━━━━━━━━━━━━━━━━━━━━━━━━━━━\u001b[0m \u001b[32m168.2/168.2 kB\u001b[0m \u001b[31m19.7 MB/s\u001b[0m eta \u001b[36m0:00:00\u001b[0m\n",
            "\u001b[?25h  Preparing metadata (setup.py) ... \u001b[?25l\u001b[?25hdone\n",
            "Requirement already satisfied: pyyaml in /usr/local/lib/python3.10/dist-packages (from synthtiger) (6.0.1)\n",
            "Requirement already satisfied: regex in /usr/local/lib/python3.10/dist-packages (from synthtiger) (2023.6.3)\n",
            "Requirement already satisfied: scipy in /usr/local/lib/python3.10/dist-packages (from synthtiger) (1.10.1)\n",
            "Requirement already satisfied: six in /usr/local/lib/python3.10/dist-packages (from imgaug->synthtiger) (1.16.0)\n",
            "Requirement already satisfied: matplotlib in /usr/local/lib/python3.10/dist-packages (from imgaug->synthtiger) (3.7.1)\n",
            "Requirement already satisfied: scikit-image>=0.14.2 in /usr/local/lib/python3.10/dist-packages (from imgaug->synthtiger) (0.19.3)\n",
            "Requirement already satisfied: imageio in /usr/local/lib/python3.10/dist-packages (from imgaug->synthtiger) (2.31.1)\n",
            "Requirement already satisfied: Shapely in /usr/local/lib/python3.10/dist-packages (from imgaug->synthtiger) (2.0.1)\n",
            "Requirement already satisfied: networkx>=2.2 in /usr/local/lib/python3.10/dist-packages (from scikit-image>=0.14.2->imgaug->synthtiger) (3.1)\n",
            "Requirement already satisfied: tifffile>=2019.7.26 in /usr/local/lib/python3.10/dist-packages (from scikit-image>=0.14.2->imgaug->synthtiger) (2023.8.12)\n",
            "Requirement already satisfied: PyWavelets>=1.1.1 in /usr/local/lib/python3.10/dist-packages (from scikit-image>=0.14.2->imgaug->synthtiger) (1.4.1)\n",
            "Requirement already satisfied: packaging>=20.0 in /usr/local/lib/python3.10/dist-packages (from scikit-image>=0.14.2->imgaug->synthtiger) (23.1)\n",
            "Requirement already satisfied: contourpy>=1.0.1 in /usr/local/lib/python3.10/dist-packages (from matplotlib->imgaug->synthtiger) (1.1.0)\n",
            "Requirement already satisfied: cycler>=0.10 in /usr/local/lib/python3.10/dist-packages (from matplotlib->imgaug->synthtiger) (0.11.0)\n",
            "Requirement already satisfied: kiwisolver>=1.0.1 in /usr/local/lib/python3.10/dist-packages (from matplotlib->imgaug->synthtiger) (1.4.4)\n",
            "Requirement already satisfied: pyparsing>=2.3.1 in /usr/local/lib/python3.10/dist-packages (from matplotlib->imgaug->synthtiger) (3.1.1)\n",
            "Requirement already satisfied: python-dateutil>=2.7 in /usr/local/lib/python3.10/dist-packages (from matplotlib->imgaug->synthtiger) (2.8.2)\n",
            "Building wheels for collected packages: blend-modes, pytweening\n",
            "  Building wheel for blend-modes (setup.py) ... \u001b[?25l\u001b[?25hdone\n",
            "  Created wheel for blend-modes: filename=blend_modes-2.1.0-py3-none-any.whl size=9539 sha256=4e5b30b8ccb9bc6199c3b0105e875ca9228c1aa4fb98a9c8e541f7dcbeaf5b85\n",
            "  Stored in directory: /root/.cache/pip/wheels/68/59/0f/7f3f9e6e1fcbbaf41376ce408a4d1f14df7546bad2ced90fd4\n",
            "  Building wheel for pytweening (setup.py) ... \u001b[?25l\u001b[?25hdone\n",
            "  Created wheel for pytweening: filename=pytweening-1.0.7-py3-none-any.whl size=6198 sha256=82ce75b1a5e3f78f67f4ca150b50cb0e67cdca16615f3d5b4f4a4a4a12f5b83f\n",
            "  Stored in directory: /root/.cache/pip/wheels/ae/a3/d7/36c45539416215425b3247e37b691a98a03b1db7b13b7f9632\n",
            "Successfully built blend-modes pytweening\n",
            "Installing collected packages: pytweening, arabic-reshaper, python-bidi, blend-modes, synthtiger\n",
            "Successfully installed arabic-reshaper-3.0.0 blend-modes-2.1.0 python-bidi-0.4.2 pytweening-1.0.7 synthtiger-1.2.1\n"
          ]
        }
      ]
    },
    {
      "cell_type": "code",
      "source": [
        "%cd /content\n",
        "!git clone https://github.com/clovaai/donut/tree/master/synthdog.git\n"
      ],
      "metadata": {
        "colab": {
          "base_uri": "https://localhost:8080/"
        },
        "id": "7HVo-otQPket",
        "outputId": "80c10555-83c6-4c0d-96f5-69cc66e4bf68"
      },
      "execution_count": 23,
      "outputs": [
        {
          "output_type": "stream",
          "name": "stdout",
          "text": [
            "/content\n",
            "Cloning into 'synthdog'...\n",
            "fatal: repository 'https://github.com/clovaai/donut/tree/master/synthdog.git/' not found\n"
          ]
        }
      ]
    },
    {
      "cell_type": "markdown",
      "source": [
        "### dount 실험"
      ],
      "metadata": {
        "id": "mD1c0GD_pmMM"
      }
    },
    {
      "cell_type": "code",
      "source": [
        "%cd /content\n",
        "!git clone https://github.com/clovaai/donut.git\n",
        "%cd donut"
      ],
      "metadata": {
        "id": "tXMYLzVPpoIC"
      },
      "execution_count": null,
      "outputs": []
    },
    {
      "cell_type": "code",
      "source": [
        "!pip install transformers==4.25.1\n",
        "!pip install pytorch-lightning==1.6.4\n",
        "!pip install timm==0.5.4\n",
        "!pip install gradio\n",
        "!pip install donut-python"
      ],
      "metadata": {
        "colab": {
          "base_uri": "https://localhost:8080/"
        },
        "id": "_D754Ti-pob1",
        "outputId": "8d9cbc17-fa64-45d2-b610-c5e2f537314b"
      },
      "execution_count": 10,
      "outputs": [
        {
          "output_type": "stream",
          "name": "stdout",
          "text": [
            "Installing collected packages: pydub, ffmpy, websockets, semantic-version, python-multipart, orjson, markdown-it-py, h11, aiofiles, uvicorn, starlette, mdit-py-plugins, httpcore, httpx, fastapi, gradio-client, gradio\n",
            "  Attempting uninstall: markdown-it-py\n",
            "    Found existing installation: markdown-it-py 3.0.0\n",
            "    Uninstalling markdown-it-py-3.0.0:\n",
            "      Successfully uninstalled markdown-it-py-3.0.0\n",
            "  Attempting uninstall: mdit-py-plugins\n",
            "    Found existing installation: mdit-py-plugins 0.4.0\n",
            "    Uninstalling mdit-py-plugins-0.4.0:\n",
            "      Successfully uninstalled mdit-py-plugins-0.4.0\n",
            "Successfully installed aiofiles-23.2.1 fastapi-0.101.1 ffmpy-0.3.1 gradio-3.40.1 gradio-client-0.4.0 h11-0.14.0 httpcore-0.17.3 httpx-0.24.1 markdown-it-py-2.2.0 mdit-py-plugins-0.3.3 orjson-3.9.5 pydub-0.25.1 python-multipart-0.0.6 semantic-version-2.10.0 starlette-0.27.0 uvicorn-0.23.2 websockets-11.0.3\n",
            "Collecting donut-python\n",
            "  Downloading donut_python-1.0.9-py3-none-any.whl (21 kB)\n",
            "Requirement already satisfied: transformers>=4.11.3 in /usr/local/lib/python3.10/dist-packages (from donut-python) (4.25.1)\n",
            "Requirement already satisfied: timm in /usr/local/lib/python3.10/dist-packages (from donut-python) (0.5.4)\n",
            "Collecting datasets[vision] (from donut-python)\n",
            "  Downloading datasets-2.14.4-py3-none-any.whl (519 kB)\n",
            "\u001b[2K     \u001b[90m━━━━━━━━━━━━━━━━━━━━━━━━━━━━━━━━━━━━━━━\u001b[0m \u001b[32m519.3/519.3 kB\u001b[0m \u001b[31m8.0 MB/s\u001b[0m eta \u001b[36m0:00:00\u001b[0m\n",
            "\u001b[?25hRequirement already satisfied: pytorch-lightning>=1.6.4 in /usr/local/lib/python3.10/dist-packages (from donut-python) (1.6.4)\n",
            "Requirement already satisfied: nltk in /usr/local/lib/python3.10/dist-packages (from donut-python) (3.8.1)\n",
            "Collecting sentencepiece (from donut-python)\n",
            "  Downloading sentencepiece-0.1.99-cp310-cp310-manylinux_2_17_x86_64.manylinux2014_x86_64.whl (1.3 MB)\n",
            "\u001b[2K     \u001b[90m━━━━━━━━━━━━━━━━━━━━━━━━━━━━━━━━━━━━━━━━\u001b[0m \u001b[32m1.3/1.3 MB\u001b[0m \u001b[31m61.0 MB/s\u001b[0m eta \u001b[36m0:00:00\u001b[0m\n",
            "\u001b[?25hCollecting zss (from donut-python)\n",
            "  Downloading zss-1.2.0.tar.gz (9.8 kB)\n",
            "  Preparing metadata (setup.py) ... \u001b[?25l\u001b[?25hdone\n",
            "Collecting sconf>=0.2.3 (from donut-python)\n",
            "  Downloading sconf-0.2.5-py3-none-any.whl (8.8 kB)\n",
            "Requirement already satisfied: numpy>=1.17.2 in /usr/local/lib/python3.10/dist-packages (from pytorch-lightning>=1.6.4->donut-python) (1.23.5)\n",
            "Requirement already satisfied: torch>=1.8.* in /usr/local/lib/python3.10/dist-packages (from pytorch-lightning>=1.6.4->donut-python) (2.0.1+cu118)\n",
            "Requirement already satisfied: tqdm>=4.57.0 in /usr/local/lib/python3.10/dist-packages (from pytorch-lightning>=1.6.4->donut-python) (4.66.1)\n",
            "Requirement already satisfied: PyYAML>=5.4 in /usr/local/lib/python3.10/dist-packages (from pytorch-lightning>=1.6.4->donut-python) (6.0.1)\n",
            "Requirement already satisfied: fsspec[http]!=2021.06.0,>=2021.05.0 in /usr/local/lib/python3.10/dist-packages (from pytorch-lightning>=1.6.4->donut-python) (2023.6.0)\n",
            "Requirement already satisfied: tensorboard>=2.2.0 in /usr/local/lib/python3.10/dist-packages (from pytorch-lightning>=1.6.4->donut-python) (2.12.3)\n",
            "Requirement already satisfied: torchmetrics>=0.4.1 in /usr/local/lib/python3.10/dist-packages (from pytorch-lightning>=1.6.4->donut-python) (1.0.3)\n",
            "Requirement already satisfied: pyDeprecate>=0.3.1 in /usr/local/lib/python3.10/dist-packages (from pytorch-lightning>=1.6.4->donut-python) (0.3.2)\n",
            "Requirement already satisfied: packaging>=17.0 in /usr/local/lib/python3.10/dist-packages (from pytorch-lightning>=1.6.4->donut-python) (23.1)\n",
            "Requirement already satisfied: typing-extensions>=4.0.0 in /usr/local/lib/python3.10/dist-packages (from pytorch-lightning>=1.6.4->donut-python) (4.7.1)\n",
            "Requirement already satisfied: protobuf<=3.20.1 in /usr/local/lib/python3.10/dist-packages (from pytorch-lightning>=1.6.4->donut-python) (3.20.1)\n",
            "Collecting ruamel.yaml (from sconf>=0.2.3->donut-python)\n",
            "  Downloading ruamel.yaml-0.17.32-py3-none-any.whl (112 kB)\n",
            "\u001b[2K     \u001b[90m━━━━━━━━━━━━━━━━━━━━━━━━━━━━━━━━━━━━━━\u001b[0m \u001b[32m112.2/112.2 kB\u001b[0m \u001b[31m15.9 MB/s\u001b[0m eta \u001b[36m0:00:00\u001b[0m\n",
            "\u001b[?25hCollecting munch (from sconf>=0.2.3->donut-python)\n",
            "  Downloading munch-4.0.0-py2.py3-none-any.whl (9.9 kB)\n",
            "Requirement already satisfied: filelock in /usr/local/lib/python3.10/dist-packages (from transformers>=4.11.3->donut-python) (3.12.2)\n",
            "Requirement already satisfied: huggingface-hub<1.0,>=0.10.0 in /usr/local/lib/python3.10/dist-packages (from transformers>=4.11.3->donut-python) (0.16.4)\n",
            "Requirement already satisfied: regex!=2019.12.17 in /usr/local/lib/python3.10/dist-packages (from transformers>=4.11.3->donut-python) (2023.6.3)\n",
            "Requirement already satisfied: requests in /usr/local/lib/python3.10/dist-packages (from transformers>=4.11.3->donut-python) (2.31.0)\n",
            "Requirement already satisfied: tokenizers!=0.11.3,<0.14,>=0.11.1 in /usr/local/lib/python3.10/dist-packages (from transformers>=4.11.3->donut-python) (0.13.3)\n",
            "Requirement already satisfied: pyarrow>=8.0.0 in /usr/local/lib/python3.10/dist-packages (from datasets[vision]->donut-python) (9.0.0)\n",
            "Collecting dill<0.3.8,>=0.3.0 (from datasets[vision]->donut-python)\n",
            "  Downloading dill-0.3.7-py3-none-any.whl (115 kB)\n",
            "\u001b[2K     \u001b[90m━━━━━━━━━━━━━━━━━━━━━━━━━━━━━━━━━━━━━━\u001b[0m \u001b[32m115.3/115.3 kB\u001b[0m \u001b[31m15.6 MB/s\u001b[0m eta \u001b[36m0:00:00\u001b[0m\n",
            "\u001b[?25hRequirement already satisfied: pandas in /usr/local/lib/python3.10/dist-packages (from datasets[vision]->donut-python) (1.5.3)\n",
            "Collecting xxhash (from datasets[vision]->donut-python)\n",
            "  Downloading xxhash-3.3.0-cp310-cp310-manylinux_2_17_x86_64.manylinux2014_x86_64.whl (194 kB)\n",
            "\u001b[2K     \u001b[90m━━━━━━━━━━━━━━━━━━━━━━━━━━━━━━━━━━━━━━\u001b[0m \u001b[32m194.1/194.1 kB\u001b[0m \u001b[31m26.6 MB/s\u001b[0m eta \u001b[36m0:00:00\u001b[0m\n",
            "\u001b[?25hCollecting multiprocess (from datasets[vision]->donut-python)\n",
            "  Downloading multiprocess-0.70.15-py310-none-any.whl (134 kB)\n",
            "\u001b[2K     \u001b[90m━━━━━━━━━━━━━━━━━━━━━━━━━━━━━━━━━━━━━━\u001b[0m \u001b[32m134.8/134.8 kB\u001b[0m \u001b[31m19.8 MB/s\u001b[0m eta \u001b[36m0:00:00\u001b[0m\n",
            "\u001b[?25hRequirement already satisfied: aiohttp in /usr/local/lib/python3.10/dist-packages (from datasets[vision]->donut-python) (3.8.5)\n",
            "Requirement already satisfied: Pillow>=6.2.1 in /usr/local/lib/python3.10/dist-packages (from datasets[vision]->donut-python) (9.4.0)\n",
            "Requirement already satisfied: click in /usr/local/lib/python3.10/dist-packages (from nltk->donut-python) (8.1.6)\n",
            "Requirement already satisfied: joblib in /usr/local/lib/python3.10/dist-packages (from nltk->donut-python) (1.3.2)\n",
            "Requirement already satisfied: torchvision in /usr/local/lib/python3.10/dist-packages (from timm->donut-python) (0.15.2+cu118)\n",
            "Requirement already satisfied: six in /usr/local/lib/python3.10/dist-packages (from zss->donut-python) (1.16.0)\n",
            "Requirement already satisfied: attrs>=17.3.0 in /usr/local/lib/python3.10/dist-packages (from aiohttp->datasets[vision]->donut-python) (23.1.0)\n",
            "Requirement already satisfied: charset-normalizer<4.0,>=2.0 in /usr/local/lib/python3.10/dist-packages (from aiohttp->datasets[vision]->donut-python) (3.2.0)\n",
            "Requirement already satisfied: multidict<7.0,>=4.5 in /usr/local/lib/python3.10/dist-packages (from aiohttp->datasets[vision]->donut-python) (6.0.4)\n",
            "Requirement already satisfied: async-timeout<5.0,>=4.0.0a3 in /usr/local/lib/python3.10/dist-packages (from aiohttp->datasets[vision]->donut-python) (4.0.3)\n",
            "Requirement already satisfied: yarl<2.0,>=1.0 in /usr/local/lib/python3.10/dist-packages (from aiohttp->datasets[vision]->donut-python) (1.9.2)\n",
            "Requirement already satisfied: frozenlist>=1.1.1 in /usr/local/lib/python3.10/dist-packages (from aiohttp->datasets[vision]->donut-python) (1.4.0)\n",
            "Requirement already satisfied: aiosignal>=1.1.2 in /usr/local/lib/python3.10/dist-packages (from aiohttp->datasets[vision]->donut-python) (1.3.1)\n",
            "Requirement already satisfied: idna<4,>=2.5 in /usr/local/lib/python3.10/dist-packages (from requests->transformers>=4.11.3->donut-python) (3.4)\n",
            "Requirement already satisfied: urllib3<3,>=1.21.1 in /usr/local/lib/python3.10/dist-packages (from requests->transformers>=4.11.3->donut-python) (2.0.4)\n",
            "Requirement already satisfied: certifi>=2017.4.17 in /usr/local/lib/python3.10/dist-packages (from requests->transformers>=4.11.3->donut-python) (2023.7.22)\n",
            "Requirement already satisfied: absl-py>=0.4 in /usr/local/lib/python3.10/dist-packages (from tensorboard>=2.2.0->pytorch-lightning>=1.6.4->donut-python) (1.4.0)\n",
            "Requirement already satisfied: grpcio>=1.48.2 in /usr/local/lib/python3.10/dist-packages (from tensorboard>=2.2.0->pytorch-lightning>=1.6.4->donut-python) (1.57.0)\n",
            "Requirement already satisfied: google-auth<3,>=1.6.3 in /usr/local/lib/python3.10/dist-packages (from tensorboard>=2.2.0->pytorch-lightning>=1.6.4->donut-python) (2.17.3)\n",
            "Requirement already satisfied: google-auth-oauthlib<1.1,>=0.5 in /usr/local/lib/python3.10/dist-packages (from tensorboard>=2.2.0->pytorch-lightning>=1.6.4->donut-python) (1.0.0)\n",
            "Requirement already satisfied: markdown>=2.6.8 in /usr/local/lib/python3.10/dist-packages (from tensorboard>=2.2.0->pytorch-lightning>=1.6.4->donut-python) (3.4.4)\n",
            "Requirement already satisfied: setuptools>=41.0.0 in /usr/local/lib/python3.10/dist-packages (from tensorboard>=2.2.0->pytorch-lightning>=1.6.4->donut-python) (67.7.2)\n",
            "Requirement already satisfied: tensorboard-data-server<0.8.0,>=0.7.0 in /usr/local/lib/python3.10/dist-packages (from tensorboard>=2.2.0->pytorch-lightning>=1.6.4->donut-python) (0.7.1)\n",
            "Requirement already satisfied: werkzeug>=1.0.1 in /usr/local/lib/python3.10/dist-packages (from tensorboard>=2.2.0->pytorch-lightning>=1.6.4->donut-python) (2.3.7)\n",
            "Requirement already satisfied: wheel>=0.26 in /usr/local/lib/python3.10/dist-packages (from tensorboard>=2.2.0->pytorch-lightning>=1.6.4->donut-python) (0.41.1)\n",
            "Requirement already satisfied: sympy in /usr/local/lib/python3.10/dist-packages (from torch>=1.8.*->pytorch-lightning>=1.6.4->donut-python) (1.12)\n",
            "Requirement already satisfied: networkx in /usr/local/lib/python3.10/dist-packages (from torch>=1.8.*->pytorch-lightning>=1.6.4->donut-python) (3.1)\n",
            "Requirement already satisfied: jinja2 in /usr/local/lib/python3.10/dist-packages (from torch>=1.8.*->pytorch-lightning>=1.6.4->donut-python) (3.1.2)\n",
            "Requirement already satisfied: triton==2.0.0 in /usr/local/lib/python3.10/dist-packages (from torch>=1.8.*->pytorch-lightning>=1.6.4->donut-python) (2.0.0)\n",
            "Requirement already satisfied: cmake in /usr/local/lib/python3.10/dist-packages (from triton==2.0.0->torch>=1.8.*->pytorch-lightning>=1.6.4->donut-python) (3.27.2)\n",
            "Requirement already satisfied: lit in /usr/local/lib/python3.10/dist-packages (from triton==2.0.0->torch>=1.8.*->pytorch-lightning>=1.6.4->donut-python) (16.0.6)\n",
            "Requirement already satisfied: lightning-utilities>=0.7.0 in /usr/local/lib/python3.10/dist-packages (from torchmetrics>=0.4.1->pytorch-lightning>=1.6.4->donut-python) (0.9.0)\n",
            "Requirement already satisfied: python-dateutil>=2.8.1 in /usr/local/lib/python3.10/dist-packages (from pandas->datasets[vision]->donut-python) (2.8.2)\n",
            "Requirement already satisfied: pytz>=2020.1 in /usr/local/lib/python3.10/dist-packages (from pandas->datasets[vision]->donut-python) (2023.3)\n",
            "Collecting ruamel.yaml.clib>=0.2.7 (from ruamel.yaml->sconf>=0.2.3->donut-python)\n",
            "  Downloading ruamel.yaml.clib-0.2.7-cp310-cp310-manylinux_2_17_x86_64.manylinux2014_x86_64.manylinux_2_24_x86_64.whl (485 kB)\n",
            "\u001b[2K     \u001b[90m━━━━━━━━━━━━━━━━━━━━━━━━━━━━━━━━━━━━━━\u001b[0m \u001b[32m485.6/485.6 kB\u001b[0m \u001b[31m28.4 MB/s\u001b[0m eta \u001b[36m0:00:00\u001b[0m\n",
            "\u001b[?25hRequirement already satisfied: cachetools<6.0,>=2.0.0 in /usr/local/lib/python3.10/dist-packages (from google-auth<3,>=1.6.3->tensorboard>=2.2.0->pytorch-lightning>=1.6.4->donut-python) (5.3.1)\n",
            "Requirement already satisfied: pyasn1-modules>=0.2.1 in /usr/local/lib/python3.10/dist-packages (from google-auth<3,>=1.6.3->tensorboard>=2.2.0->pytorch-lightning>=1.6.4->donut-python) (0.3.0)\n",
            "Requirement already satisfied: rsa<5,>=3.1.4 in /usr/local/lib/python3.10/dist-packages (from google-auth<3,>=1.6.3->tensorboard>=2.2.0->pytorch-lightning>=1.6.4->donut-python) (4.9)\n",
            "Requirement already satisfied: requests-oauthlib>=0.7.0 in /usr/local/lib/python3.10/dist-packages (from google-auth-oauthlib<1.1,>=0.5->tensorboard>=2.2.0->pytorch-lightning>=1.6.4->donut-python) (1.3.1)\n",
            "Requirement already satisfied: MarkupSafe>=2.1.1 in /usr/local/lib/python3.10/dist-packages (from werkzeug>=1.0.1->tensorboard>=2.2.0->pytorch-lightning>=1.6.4->donut-python) (2.1.3)\n",
            "Requirement already satisfied: mpmath>=0.19 in /usr/local/lib/python3.10/dist-packages (from sympy->torch>=1.8.*->pytorch-lightning>=1.6.4->donut-python) (1.3.0)\n",
            "Requirement already satisfied: pyasn1<0.6.0,>=0.4.6 in /usr/local/lib/python3.10/dist-packages (from pyasn1-modules>=0.2.1->google-auth<3,>=1.6.3->tensorboard>=2.2.0->pytorch-lightning>=1.6.4->donut-python) (0.5.0)\n",
            "Requirement already satisfied: oauthlib>=3.0.0 in /usr/local/lib/python3.10/dist-packages (from requests-oauthlib>=0.7.0->google-auth-oauthlib<1.1,>=0.5->tensorboard>=2.2.0->pytorch-lightning>=1.6.4->donut-python) (3.2.2)\n",
            "Building wheels for collected packages: zss\n",
            "  Building wheel for zss (setup.py) ... \u001b[?25l\u001b[?25hdone\n",
            "  Created wheel for zss: filename=zss-1.2.0-py3-none-any.whl size=6723 sha256=98f101e68796916f3031597f3bd5237325f9e58d41284b93b9b714bbc80b75c8\n",
            "  Stored in directory: /root/.cache/pip/wheels/f6/61/2a/cf33ab7301cc318a13418d9a805c1832be561b46e7d9337625\n",
            "Successfully built zss\n",
            "Installing collected packages: sentencepiece, zss, xxhash, ruamel.yaml.clib, munch, dill, ruamel.yaml, multiprocess, sconf, datasets, donut-python\n",
            "Successfully installed datasets-2.14.4 dill-0.3.7 donut-python-1.0.9 multiprocess-0.70.15 munch-4.0.0 ruamel.yaml-0.17.32 ruamel.yaml.clib-0.2.7 sconf-0.2.5 sentencepiece-0.1.99 xxhash-3.3.0 zss-1.2.0\n"
          ]
        }
      ]
    },
    {
      "cell_type": "markdown",
      "source": [
        "#### 이미지 넣고 실험"
      ],
      "metadata": {
        "id": "mgtuG9BVp7MT"
      }
    },
    {
      "cell_type": "code",
      "source": [
        "import torch\n",
        "print ( \"CUDA 사용 가능:\" , torch.cuda.is_available())\n",
        "!nvcc --version\n",
        "# 이제 관련 파일과 라이브러리를 다운로드할 수 있습니다. 다음 코드 줄은 donut 라이브러리를 포함하여 모든 종속성을 설치해야 합니다\n",
        "#pip install donut-python.\n",
        "\n",
        "!git clone https://github.com/clovaai/donut.git\n",
        "!cd donut && pip install .\n",
        "# Making an inference using the CORD fine-tuned model\n",
        "# First, we’ll demonstrate basic usage of the model."
      ],
      "metadata": {
        "id": "NYk2UoP0p_Wb"
      },
      "execution_count": null,
      "outputs": []
    },
    {
      "cell_type": "code",
      "source": [
        "import torch\n",
        "from donut import DonutModel\n",
        "from PIL import Image\n",
        "\n",
        "model = DonutModel.from_pretrained(\"naver-clova-ix/donut-base-finetuned-cord-v2\")\n",
        "if torch.cuda.is_available():\n",
        "    model.half()\n",
        "    device = torch.device(\"cuda\")\n",
        "    model.to(device)\n",
        "else:\n",
        "    model.encoder.to(torch.bfloat16)\n",
        "model.eval()\n",
        "image = Image.open(\"/content/jpg/REPORT-briefing-20091-00001.jpg\")\n",
        "image.convert(\"RGB\")\n",
        "output = model.inference(image=image, prompt=\"<s_cord-v2>\")\n",
        "output"
      ],
      "metadata": {
        "id": "JEH_4GmYokZR",
        "colab": {
          "base_uri": "https://localhost:8080/"
        },
        "outputId": "a34557b4-4cb7-4448-ae5d-ac662c0777ce"
      },
      "execution_count": 37,
      "outputs": [
        {
          "output_type": "stream",
          "name": "stderr",
          "text": [
            "/usr/local/lib/python3.10/dist-packages/torch/functional.py:504: UserWarning: torch.meshgrid: in an upcoming release, it will be required to pass the indexing argument. (Triggered internally at ../aten/src/ATen/native/TensorShape.cpp:3483.)\n",
            "  return _VF.meshgrid(tensors, **kwargs)  # type: ignore[attr-defined]\n",
            "Some weights of the model checkpoint at naver-clova-ix/donut-base-finetuned-cord-v2 were not used when initializing DonutModel: ['encoder.model.norm.weight', 'encoder.model.norm.bias']\n",
            "- This IS expected if you are initializing DonutModel from the checkpoint of a model trained on another task or with another architecture (e.g. initializing a BertForSequenceClassification model from a BertForPreTraining model).\n",
            "- This IS NOT expected if you are initializing DonutModel from the checkpoint of a model that you expect to be exactly identical (initializing a BertForSequenceClassification model from a BertForSequenceClassification model).\n"
          ]
        },
        {
          "output_type": "execute_result",
          "data": {
            "text/plain": [
              "{'predictions': [{'cnt': '5'}]}"
            ]
          },
          "metadata": {},
          "execution_count": 37
        }
      ]
    },
    {
      "cell_type": "markdown",
      "source": [
        "#### 데모버전"
      ],
      "metadata": {
        "id": "DZmDVGcfrVu8"
      }
    },
    {
      "cell_type": "code",
      "source": [
        "import argparse\n",
        "import gradio as gr\n",
        "import torch\n",
        "from PIL import Image\n",
        "\n",
        "from donut import DonutModel"
      ],
      "metadata": {
        "id": "g2Mn2wW-UNZV"
      },
      "execution_count": 20,
      "outputs": []
    },
    {
      "cell_type": "code",
      "source": [
        "def demo_process_vqa(input_img, question):\n",
        "    global pretrained_model, task_prompt, task_name\n",
        "    input_img = Image.fromarray(input_img)\n",
        "    user_prompt = task_prompt.replace(\"{user_input}\", question)\n",
        "    output = pretrained_model.inference(input_img, prompt=user_prompt)[\"predictions\"][0]\n",
        "    return output\n",
        "\n",
        "\n",
        "def demo_process(input_img):\n",
        "    global pretrained_model, task_prompt, task_name\n",
        "    input_img = Image.fromarray(input_img)\n",
        "    output = pretrained_model.inference(image=input_img, prompt=task_prompt)[\"predictions\"][0]\n",
        "    return output"
      ],
      "metadata": {
        "id": "8_alWsH5UXWi"
      },
      "execution_count": 16,
      "outputs": []
    },
    {
      "cell_type": "code",
      "source": [
        "parser = argparse.ArgumentParser()\n",
        "parser.add_argument(\"--task\", type=str, default=\"cord-v2\")\n",
        "parser.add_argument(\"--pretrained_path\", type=str, default=\"naver-clova-ix/donut-base-finetuned-cord-v2\")\n",
        "args, left_argv = parser.parse_known_args()\n",
        "\n",
        "task_name = args.task\n",
        "if \"docvqa\" == task_name:\n",
        "    task_prompt = \"<s_docvqa><s_question>{user_input}</s_question><s_answer>\"\n",
        "else:  # rvlcdip, cord, ...\n",
        "    task_prompt = f\"<s_{task_name}>\"\n",
        "\n",
        "pretrained_model = DonutModel.from_pretrained(args.pretrained_path)\n",
        "\n",
        "if torch.cuda.is_available():\n",
        "    pretrained_model.half()\n",
        "    device = torch.device(\"cuda\")\n",
        "    pretrained_model.to(device)\n",
        "else:\n",
        "    pretrained_model.encoder.to(torch.bfloat16)\n",
        "\n",
        "pretrained_model.eval()\n",
        "\n",
        "demo = gr.Interface(\n",
        "    fn=demo_process_vqa if task_name == \"docvqa\" else demo_process,\n",
        "    inputs=[\"image\", \"text\"] if task_name == \"docvqa\" else \"image\",\n",
        "    outputs=\"json\",\n",
        "    title=f\"Donut 🍩 demonstration for `{task_name}` task\",\n",
        ")\n",
        "\n",
        "\n",
        "demo.launch(debug=False, share=True`)"
      ],
      "metadata": {
        "colab": {
          "base_uri": "https://localhost:8080/",
          "height": 671
        },
        "id": "f7RoSOEXUa6i",
        "outputId": "cb6d0917-0854-4c4f-8398-4f5feceea705"
      },
      "execution_count": null,
      "outputs": [
        {
          "output_type": "stream",
          "name": "stderr",
          "text": [
            "Some weights of the model checkpoint at naver-clova-ix/donut-base-finetuned-cord-v2 were not used when initializing DonutModel: ['encoder.model.norm.weight', 'encoder.model.norm.bias']\n",
            "- This IS expected if you are initializing DonutModel from the checkpoint of a model trained on another task or with another architecture (e.g. initializing a BertForSequenceClassification model from a BertForPreTraining model).\n",
            "- This IS NOT expected if you are initializing DonutModel from the checkpoint of a model that you expect to be exactly identical (initializing a BertForSequenceClassification model from a BertForSequenceClassification model).\n"
          ]
        },
        {
          "output_type": "stream",
          "name": "stdout",
          "text": [
            "Colab notebook detected. To show errors in colab notebook, set debug=True in launch()\n",
            "Running on public URL: https://d8fbcfc1376251dc7c.gradio.live\n",
            "\n",
            "This share link expires in 72 hours. For free permanent hosting and GPU upgrades, run `gradio deploy` from Terminal to deploy to Spaces (https://huggingface.co/spaces)\n"
          ]
        },
        {
          "output_type": "display_data",
          "data": {
            "text/plain": [
              "<IPython.core.display.HTML object>"
            ],
            "text/html": [
              "<div><iframe src=\"https://d8fbcfc1376251dc7c.gradio.live\" width=\"100%\" height=\"500\" allow=\"autoplay; camera; microphone; clipboard-read; clipboard-write;\" frameborder=\"0\" allowfullscreen></iframe></div>"
            ]
          },
          "metadata": {}
        },
        {
          "output_type": "execute_result",
          "data": {
            "text/plain": []
          },
          "metadata": {},
          "execution_count": 20
        }
      ]
    },
    {
      "cell_type": "markdown",
      "source": [
        "### 훈련 .. 실패중"
      ],
      "metadata": {
        "id": "jAOGei7aynOG"
      }
    },
    {
      "cell_type": "code",
      "source": [
        "config_data ={\n",
        "  \"_name_or_path\": \"naver-clova-ix/donut-base\",\n",
        "  \"align_long_axis\": False,\n",
        "  \"architectures\": [\n",
        "    \"DonutModel\"\n",
        "  ],\n",
        "  \"decoder_layer\": 4,\n",
        "  \"encoder_layer\": [\n",
        "    2,\n",
        "    2,\n",
        "    14,\n",
        "    2\n",
        "  ],\n",
        "  \"input_size\": [\n",
        "    800,\n",
        "    1200\n",
        "  ],\n",
        "  \"max_length\": 768,\n",
        "  \"max_position_embeddings\": 768,\n",
        "  \"model_type\": \"donut\",\n",
        "  \"torch_dtype\": \"float32\",\n",
        "  \"transformers_version\": \"4.11.3\",\n",
        "  \"window_size\": 10\n",
        "}\n",
        "\n",
        "with open('/content/donut/config.json', 'w', encoding = 'utf-8') as file:\n",
        "    json.dump(config_data, file, indent=4)"
      ],
      "metadata": {
        "id": "MzMQNLUpRxM_"
      },
      "execution_count": 23,
      "outputs": []
    },
    {
      "cell_type": "code",
      "source": [
        "model = DonutModel.from_pretrained(\"naver-clova-ix/donut-base-finetuned-cord-v2\")"
      ],
      "metadata": {
        "colab": {
          "base_uri": "https://localhost:8080/",
          "height": 194,
          "referenced_widgets": [
            "69777b5aa6ff43c4a30a94ebdf23b6ad",
            "2c07957bef7c4231be6ef67beffc12d8",
            "78eb37cff0da433f98448f2f6e9e03bb",
            "05e4c9e30034484ca0c215747b4915e1",
            "90d9358e83e64eba877372a0fe3525ae",
            "7253ece8a3fa4bada2a9c222bf2d06dc",
            "aafd20936fca424897c0c1eb0044943b",
            "32deeff688b6487a9e749ae283cc2e99",
            "4cd7892d5a91435199734612b6f536c4",
            "2d5668a02a5646cb926522c3d65b8d11",
            "a67d1cd870f44a20a587f548450cf5b4",
            "55b9711af76f4f4e954c5fe2fd95f302",
            "2c79a520391a40b0a70b1449673c4fea",
            "2f8e07741394458a9dfc2fe65683f480",
            "987f33366ed44edd907f8baef218a3b7",
            "3016eb293a8047dbb78c9512651630a6",
            "54d14ecdf4974ae2980a4f2124571ba5",
            "dd35fdbfabc74c4b916a20ab20d3d688",
            "23e959eea5a0456d8f20cf4dec9e7931",
            "ed2274a0218145aaa7d4babe16c69069",
            "ce896ef248944869a6c33cc4792b46a0",
            "db58552a9d6e4ce987fbfafac4c4e6d7"
          ]
        },
        "id": "kze1SqROS90Y",
        "outputId": "581b0ec6-a463-4c52-b075-f2a44e176c33"
      },
      "execution_count": 18,
      "outputs": [
        {
          "output_type": "display_data",
          "data": {
            "text/plain": [
              "Downloading (…)official/config.json:   0%|          | 0.00/404 [00:00<?, ?B/s]"
            ],
            "application/vnd.jupyter.widget-view+json": {
              "version_major": 2,
              "version_minor": 0,
              "model_id": "69777b5aa6ff43c4a30a94ebdf23b6ad"
            }
          },
          "metadata": {}
        },
        {
          "output_type": "display_data",
          "data": {
            "text/plain": [
              "Downloading pytorch_model.bin:   0%|          | 0.00/859M [00:00<?, ?B/s]"
            ],
            "application/vnd.jupyter.widget-view+json": {
              "version_major": 2,
              "version_minor": 0,
              "model_id": "55b9711af76f4f4e954c5fe2fd95f302"
            }
          },
          "metadata": {}
        },
        {
          "output_type": "stream",
          "name": "stderr",
          "text": [
            "/usr/local/lib/python3.10/dist-packages/torch/functional.py:504: UserWarning: torch.meshgrid: in an upcoming release, it will be required to pass the indexing argument. (Triggered internally at ../aten/src/ATen/native/TensorShape.cpp:3483.)\n",
            "  return _VF.meshgrid(tensors, **kwargs)  # type: ignore[attr-defined]\n",
            "Some weights of the model checkpoint at naver-clova-ix/donut-base-finetuned-cord-v2 were not used when initializing DonutModel: ['encoder.model.norm.bias', 'encoder.model.norm.weight']\n",
            "- This IS expected if you are initializing DonutModel from the checkpoint of a model trained on another task or with another architecture (e.g. initializing a BertForSequenceClassification model from a BertForPreTraining model).\n",
            "- This IS NOT expected if you are initializing DonutModel from the checkpoint of a model that you expect to be exactly identical (initializing a BertForSequenceClassification model from a BertForSequenceClassification model).\n"
          ]
        }
      ]
    },
    {
      "cell_type": "code",
      "source": [
        "# train the model\n",
        "!python /content/donut/train.py --config /content/donut/config/train_cord.yaml --pretrained_model_name_or_path  \"naver-clova-ix/donut-base-finetuned-cord-v2\""
      ],
      "metadata": {
        "colab": {
          "base_uri": "https://localhost:8080/"
        },
        "id": "JjXeSKCjchoP",
        "outputId": "3d1a51df-eab1-43d7-ff1f-21b69c6ec7ae"
      },
      "execution_count": 24,
      "outputs": [
        {
          "output_type": "stream",
          "name": "stdout",
          "text": [
            "2023-08-21 08:51:38.925612: I tensorflow/core/platform/cpu_feature_guard.cc:182] This TensorFlow binary is optimized to use available CPU instructions in performance-critical operations.\n",
            "To enable the following instructions: AVX2 AVX512F FMA, in other operations, rebuild TensorFlow with the appropriate compiler flags.\n",
            "2023-08-21 08:51:40.065833: W tensorflow/compiler/tf2tensorrt/utils/py_utils.cc:38] TF-TRT Warning: Could not find TensorRT\n",
            "resume_from_checkpoint_path: None\n",
            "result_path: ./result\n",
            "\u001b[36mpretrained_model_name_or_path: naver-clova-ix/donut-base-finetuned-cord-v2\n",
            "\u001b[0mdataset_name_or_paths: /content/dataset\n",
            "sort_json_key: False\n",
            "train_batch_sizes: \n",
            "  - 1\n",
            "val_batch_sizes: \n",
            "  - 1\n",
            "input_size: \n",
            "  - 1600\n",
            "  - 1920\n",
            "max_length: 700\n",
            "align_long_axis: False\n",
            "num_nodes: 1\n",
            "seed: 2022\n",
            "lr: 0.0003\n",
            "warmup_steps: 300\n",
            "num_training_samples_per_epoch: 800\n",
            "max_epochs: 30\n",
            "max_steps: -1\n",
            "num_workers: 8\n",
            "val_check_interval: 1.0\n",
            "check_val_every_n_epoch: 10\n",
            "gradient_clip_val: 1.0\n",
            "verbose: True\n",
            "exp_name: train_cord\n",
            "exp_version: 20230821_085142\n",
            "Config is saved at result/train_cord/20230821_085142/config.yaml\n",
            "Global seed set to 2022\n",
            "/usr/local/lib/python3.10/dist-packages/torch/functional.py:504: UserWarning: torch.meshgrid: in an upcoming release, it will be required to pass the indexing argument. (Triggered internally at ../aten/src/ATen/native/TensorShape.cpp:3483.)\n",
            "  return _VF.meshgrid(tensors, **kwargs)  # type: ignore[attr-defined]\n",
            "Some weights of the model checkpoint at naver-clova-ix/donut-base-finetuned-cord-v2 were not used when initializing DonutModel: ['encoder.model.norm.bias', 'encoder.model.norm.weight']\n",
            "- This IS expected if you are initializing DonutModel from the checkpoint of a model trained on another task or with another architecture (e.g. initializing a BertForSequenceClassification model from a BertForPreTraining model).\n",
            "- This IS NOT expected if you are initializing DonutModel from the checkpoint of a model that you expect to be exactly identical (initializing a BertForSequenceClassification model from a BertForSequenceClassification model).\n",
            "Some weights of DonutModel were not initialized from the model checkpoint at naver-clova-ix/donut-base-finetuned-cord-v2 and are newly initialized because the shapes did not match:\n",
            "- encoder.model.layers.0.blocks.1.attn_mask: found shape torch.Size([768, 100, 100]) in the checkpoint and torch.Size([1920, 100, 100]) in the model instantiated\n",
            "- encoder.model.layers.1.blocks.1.attn_mask: found shape torch.Size([192, 100, 100]) in the checkpoint and torch.Size([480, 100, 100]) in the model instantiated\n",
            "- encoder.model.layers.2.blocks.1.attn_mask: found shape torch.Size([48, 100, 100]) in the checkpoint and torch.Size([120, 100, 100]) in the model instantiated\n",
            "- encoder.model.layers.2.blocks.3.attn_mask: found shape torch.Size([48, 100, 100]) in the checkpoint and torch.Size([120, 100, 100]) in the model instantiated\n",
            "- encoder.model.layers.2.blocks.5.attn_mask: found shape torch.Size([48, 100, 100]) in the checkpoint and torch.Size([120, 100, 100]) in the model instantiated\n",
            "- encoder.model.layers.2.blocks.7.attn_mask: found shape torch.Size([48, 100, 100]) in the checkpoint and torch.Size([120, 100, 100]) in the model instantiated\n",
            "- encoder.model.layers.2.blocks.9.attn_mask: found shape torch.Size([48, 100, 100]) in the checkpoint and torch.Size([120, 100, 100]) in the model instantiated\n",
            "- encoder.model.layers.2.blocks.11.attn_mask: found shape torch.Size([48, 100, 100]) in the checkpoint and torch.Size([120, 100, 100]) in the model instantiated\n",
            "- encoder.model.layers.2.blocks.13.attn_mask: found shape torch.Size([48, 100, 100]) in the checkpoint and torch.Size([120, 100, 100]) in the model instantiated\n",
            "- encoder.model.layers.3.blocks.1.attn_mask: found shape torch.Size([12, 100, 100]) in the checkpoint and torch.Size([30, 100, 100]) in the model instantiated\n",
            "You should probably TRAIN this model on a down-stream task to be able to use it for predictions and inference.\n",
            "Traceback (most recent call last):\n",
            "  File \"/content/donut/train.py\", line 176, in <module>\n",
            "    train(config)\n",
            "  File \"/content/donut/train.py\", line 104, in train\n",
            "    DonutDataset(\n",
            "  File \"/content/donut/donut/util.py\", line 64, in __init__\n",
            "    self.dataset = load_dataset(dataset_name_or_path, split=self.split)\n",
            "  File \"/usr/local/lib/python3.10/dist-packages/datasets/load.py\", line 2112, in load_dataset\n",
            "    builder_instance = load_dataset_builder(\n",
            "  File \"/usr/local/lib/python3.10/dist-packages/datasets/load.py\", line 1798, in load_dataset_builder\n",
            "    dataset_module = dataset_module_factory(\n",
            "  File \"/usr/local/lib/python3.10/dist-packages/datasets/load.py\", line 1385, in dataset_module_factory\n",
            "    filename = list(filter(lambda x: x, path.replace(os.sep, \"/\").split(\"/\")))[-1]\n",
            "IndexError: list index out of range\n"
          ]
        }
      ]
    },
    {
      "cell_type": "code",
      "source": [
        "import json\n",
        "from datasets import load_dataset\n",
        "\n",
        "\n",
        "dataset = load_dataset(\"/content/Dataset\", split=\"train\")\n",
        "for sample in dataset:\n",
        "    print(\"osh\",ground_truth)\n",
        "    print(\"gt_parses\" in ground_truth)\n",
        "    if \"gt_parses\" in ground_truth:  # when multiple ground truths are available, e.g., docvqa\n",
        "        assert isinstance(ground_truth[\"gt_parses\"], list)\n",
        "        gt_jsons = ground_truth[\"gt_parses\"]\n",
        "    else:\n",
        "        print(ground_truth[\"gt_parse\"])\n",
        "        print(type(ground_truth[\"gt_parse\"]))\n",
        "        assert \"gt_parse\" in ground_truth and isinstance(ground_truth[\"gt_parse\"], dict)\n",
        "        gt_jsons = [ground_truth[\"gt_parse\"]]\n",
        ""
      ],
      "metadata": {
        "colab": {
          "base_uri": "https://localhost:8080/",
          "height": 387,
          "referenced_widgets": [
            "0a7fd4b469fb4c57a4a05c8cec9ab0cc",
            "9b71cea736c84b14a7dc7197716e3b3e",
            "4c25f26752db4125ba82fdb1ff6bfee0",
            "7e94f6cf0147485fbda3cc6157baecf0",
            "488faa8c1e154a0b9a58af2895c761d2",
            "859dbb6b7e51418f981aa1d3dd18dc6c",
            "bfc0fda67e2c4fa49c9133d1460ccf02",
            "69f136d10dad4814b122516c226575bb",
            "d9acd2c2b88e430aa216e5c0e5f5951c",
            "7c22a89f146f400a8018b4ed85fd052e",
            "26fb23a34ff8445eb58a5a581229794a"
          ]
        },
        "id": "oq8hFNfzDIzE",
        "outputId": "6b53622d-29a3-44e4-8cf8-5f2a3102013b"
      },
      "execution_count": 99,
      "outputs": [
        {
          "output_type": "display_data",
          "data": {
            "text/plain": [
              "Resolving data files:   0%|          | 0/2000 [00:00<?, ?it/s]"
            ],
            "application/vnd.jupyter.widget-view+json": {
              "version_major": 2,
              "version_minor": 0,
              "model_id": "0a7fd4b469fb4c57a4a05c8cec9ab0cc"
            }
          },
          "metadata": {}
        },
        {
          "output_type": "stream",
          "name": "stdout",
          "text": [
            "osh {'gt_parse': ' 이러한 유행 특성 때문에 의료체계는 무증상 감염, 무증상 경증환자 치료부분 외에 중환자 치료 등은 충분한 여유를 가지고 있습니다. 중환자실은 전체의 73%가 비어져 있어 588병상이 즉시 가용 가능합니다. 중등도 환자를 위한 감염병 전담병원도 53% 비어져 있어 3,990병상이 가용 가능합니다. 다만, 수도권의 무증상 경증 환자 증가로 생활치료센터 입실은 점차 증가하고 있습니다. 생활치료센터는 현재 29%, 2,327병상의 여유가 있습니다. 아직 하루 이상 병상대기를 하는 환자는 1명도 없으나, 무증상 경증 환자는 계속 많이 발생할 것으로 예상하고 있습니다. 정부는 지자체와 함께 생활치료센터를 신속하게 확충하는 중이며, 전국적으로 19개, 약 5,000여 병상의 생활치료센터 시설 개소를 준비하고 있습니다. 정부는 방역지표를 예의주시하며 방역과 의료 대응에 최선을 다하겠습니다. 오늘 중대본에서는 수도권의 사회적 거리두기 단계 격상에 따른 후속조치에 관해 논의하였습니다. 먼저, 중소기업벤처부는 지난 7월 7일 공표되고 10월 8일부터 시행되는 소상공인지원법 개정안에 따른 손실보상을 준비하고 있습니다. 이번 개정안에 따르면, 7월 7일 이후에 감염병예방법에 따른 집합금지 또는 운영시간 제한 등으로 인해 심각한 경영상 손실이 발생할 소상공인은 손실보상이 가능합니다. 보상금의 지급대상과 금액 등 구체적인 기준은 손실보상심의위원회의 심의를 거쳐 중기부 장관이 고시할 예정입니다.'}\n",
            "False\n",
            " 이러한 유행 특성 때문에 의료체계는 무증상 감염, 무증상 경증환자 치료부분 외에 중환자 치료 등은 충분한 여유를 가지고 있습니다. 중환자실은 전체의 73%가 비어져 있어 588병상이 즉시 가용 가능합니다. 중등도 환자를 위한 감염병 전담병원도 53% 비어져 있어 3,990병상이 가용 가능합니다. 다만, 수도권의 무증상 경증 환자 증가로 생활치료센터 입실은 점차 증가하고 있습니다. 생활치료센터는 현재 29%, 2,327병상의 여유가 있습니다. 아직 하루 이상 병상대기를 하는 환자는 1명도 없으나, 무증상 경증 환자는 계속 많이 발생할 것으로 예상하고 있습니다. 정부는 지자체와 함께 생활치료센터를 신속하게 확충하는 중이며, 전국적으로 19개, 약 5,000여 병상의 생활치료센터 시설 개소를 준비하고 있습니다. 정부는 방역지표를 예의주시하며 방역과 의료 대응에 최선을 다하겠습니다. 오늘 중대본에서는 수도권의 사회적 거리두기 단계 격상에 따른 후속조치에 관해 논의하였습니다. 먼저, 중소기업벤처부는 지난 7월 7일 공표되고 10월 8일부터 시행되는 소상공인지원법 개정안에 따른 손실보상을 준비하고 있습니다. 이번 개정안에 따르면, 7월 7일 이후에 감염병예방법에 따른 집합금지 또는 운영시간 제한 등으로 인해 심각한 경영상 손실이 발생할 소상공인은 손실보상이 가능합니다. 보상금의 지급대상과 금액 등 구체적인 기준은 손실보상심의위원회의 심의를 거쳐 중기부 장관이 고시할 예정입니다.\n",
            "<class 'str'>\n"
          ]
        },
        {
          "output_type": "error",
          "ename": "AssertionError",
          "evalue": "ignored",
          "traceback": [
            "\u001b[0;31m---------------------------------------------------------------------------\u001b[0m",
            "\u001b[0;31mAssertionError\u001b[0m                            Traceback (most recent call last)",
            "\u001b[0;32m<ipython-input-99-86184c3861c7>\u001b[0m in \u001b[0;36m<cell line: 6>\u001b[0;34m()\u001b[0m\n\u001b[1;32m     13\u001b[0m         \u001b[0mprint\u001b[0m\u001b[0;34m(\u001b[0m\u001b[0mground_truth\u001b[0m\u001b[0;34m[\u001b[0m\u001b[0;34m\"gt_parse\"\u001b[0m\u001b[0;34m]\u001b[0m\u001b[0;34m)\u001b[0m\u001b[0;34m\u001b[0m\u001b[0;34m\u001b[0m\u001b[0m\n\u001b[1;32m     14\u001b[0m         \u001b[0mprint\u001b[0m\u001b[0;34m(\u001b[0m\u001b[0mtype\u001b[0m\u001b[0;34m(\u001b[0m\u001b[0mground_truth\u001b[0m\u001b[0;34m[\u001b[0m\u001b[0;34m\"gt_parse\"\u001b[0m\u001b[0;34m]\u001b[0m\u001b[0;34m)\u001b[0m\u001b[0;34m)\u001b[0m\u001b[0;34m\u001b[0m\u001b[0;34m\u001b[0m\u001b[0m\n\u001b[0;32m---> 15\u001b[0;31m         \u001b[0;32massert\u001b[0m \u001b[0;34m\"gt_parse\"\u001b[0m \u001b[0;32min\u001b[0m \u001b[0mground_truth\u001b[0m \u001b[0;32mand\u001b[0m \u001b[0misinstance\u001b[0m\u001b[0;34m(\u001b[0m\u001b[0mground_truth\u001b[0m\u001b[0;34m[\u001b[0m\u001b[0;34m\"gt_parse\"\u001b[0m\u001b[0;34m]\u001b[0m\u001b[0;34m,\u001b[0m \u001b[0mdict\u001b[0m\u001b[0;34m)\u001b[0m\u001b[0;34m\u001b[0m\u001b[0;34m\u001b[0m\u001b[0m\n\u001b[0m\u001b[1;32m     16\u001b[0m         \u001b[0mgt_jsons\u001b[0m \u001b[0;34m=\u001b[0m \u001b[0;34m[\u001b[0m\u001b[0mground_truth\u001b[0m\u001b[0;34m[\u001b[0m\u001b[0;34m\"gt_parse\"\u001b[0m\u001b[0;34m]\u001b[0m\u001b[0;34m]\u001b[0m\u001b[0;34m\u001b[0m\u001b[0;34m\u001b[0m\u001b[0m\n\u001b[1;32m     17\u001b[0m \u001b[0;34m\u001b[0m\u001b[0m\n",
            "\u001b[0;31mAssertionError\u001b[0m: "
          ]
        }
      ]
    }
  ]
}