{
  "nbformat": 4,
  "nbformat_minor": 0,
  "metadata": {
    "colab": {
      "provenance": [],
      "authorship_tag": "ABX9TyN9hVT29lKQPRGYJ8dTK0RY",
      "include_colab_link": true
    },
    "kernelspec": {
      "name": "python3",
      "display_name": "Python 3"
    },
    "language_info": {
      "name": "python"
    }
  },
  "cells": [
    {
      "cell_type": "markdown",
      "metadata": {
        "id": "view-in-github",
        "colab_type": "text"
      },
      "source": [
        "<a href=\"https://colab.research.google.com/github/guscldns/TestProject/blob/main/300%EC%A0%9C_%EC%A0%95%EB%8B%B5_%ED%8C%80%EC%9B%90_%EB%8F%84%EC%9B%80.ipynb\" target=\"_parent\"><img src=\"https://colab.research.google.com/assets/colab-badge.svg\" alt=\"Open In Colab\"/></a>"
      ]
    },
    {
      "cell_type": "markdown",
      "source": [
        "007 print 기초\n",
        "\n",
        "print() 함수를 사용하여 다음과 같이 출력하세요.\n",
        "\n",
        "naver;kakao;sk;samsung"
      ],
      "metadata": {
        "id": "yMDCjE-T0Uqg"
      }
    },
    {
      "cell_type": "code",
      "source": [
        "print(\"naver\", \"kakao\", \"samsung\", sep=\";\")"
      ],
      "metadata": {
        "id": "rZFnb-g00USB"
      },
      "execution_count": null,
      "outputs": []
    },
    {
      "cell_type": "markdown",
      "source": [
        "013 문자열 출력\n",
        "\n",
        "변수 s와 t에는 각각 문자열이 바인딩 되어있습니다.\n",
        "\n",
        "s = \"hello\"\n",
        "\n",
        "t = \"python\"\n",
        "\n",
        "두 변수를 이용하여 아래와 같이 출력해보세요.\n",
        "\n",
        "\n",
        "실행 예:\n",
        "\n",
        "hello! python"
      ],
      "metadata": {
        "id": "I0d8fYQzeJT7"
      }
    },
    {
      "cell_type": "code",
      "execution_count": null,
      "metadata": {
        "id": "GwS6LR9ksqW4"
      },
      "outputs": [],
      "source": [
        "s = \"hello\"\n",
        "t = \"python\"\n",
        "print(s+\"!\", t)"
      ]
    },
    {
      "cell_type": "markdown",
      "source": [
        "028 문자열은 immutable\n",
        "\n",
        "아래 코드의 실행 결과를 예상해보세요.\n",
        "\n",
        "lang = 'python'\n",
        "\n",
        "lang[0] = 'P'\n",
        "\n",
        "print(lang)"
      ],
      "metadata": {
        "id": "doK5KrbverLt"
      }
    },
    {
      "cell_type": "code",
      "source": [
        "lang = 'python'\n",
        "lang[0] = 'P'\n",
        "print(lang)\n",
        "\n",
        " TypeError                                 Traceback (most recent call last)\n",
        " <ipython-input-22-a0f3d05b669c> in <module>\n",
        "       1 lang = \"python\"\n",
        " ----> 2 lang[0]= \"P\"\n",
        "      3 print(lang)\n",
        "\n",
        " TypeError: 'str' object does not support item assignment"
      ],
      "metadata": {
        "id": "IBCT45rZs87h"
      },
      "execution_count": null,
      "outputs": []
    },
    {
      "cell_type": "markdown",
      "source": [
        "029 replace 메서드\n",
        "\n",
        "아래 문자열에서 소문자 'a'를 대문자 'A'로 변경하세요.\n",
        "\n",
        "string = 'abcdfe2a354a32a'\n",
        "\n",
        "실행 예:\n",
        "\n",
        "Abcdfe2A354A32A"
      ],
      "metadata": {
        "id": "f8Xa__VFe3bz"
      }
    },
    {
      "cell_type": "code",
      "source": [
        "string = 'abcdfe2a354a32a'\n",
        "string = string.replace('a', 'A')\n",
        "print(string)"
      ],
      "metadata": {
        "id": "J9_ox1dKtOlZ",
        "colab": {
          "base_uri": "https://localhost:8080/"
        },
        "outputId": "00b1d469-1c2f-427b-d9cd-a82fb3fcbe8a"
      },
      "execution_count": null,
      "outputs": [
        {
          "output_type": "stream",
          "name": "stdout",
          "text": [
            "Abcdfe2A354A32A\n"
          ]
        }
      ]
    },
    {
      "cell_type": "markdown",
      "source": [
        "030 replace 메서드\n",
        "\n",
        "아래 코드의 실행 결과를 예상해보세요.\n",
        "\n",
        "\n",
        "string = 'abcd'\n",
        "\n",
        "string.replace('b', 'B')\n",
        "\n",
        "print(string)"
      ],
      "metadata": {
        "id": "oOfOT02Jfl6X"
      }
    },
    {
      "cell_type": "code",
      "source": [
        "string = 'abcd'\n",
        "string.replace('b', 'B')\n",
        "print(string)\n",
        "\n",
        " 답 : abcd "
      ],
      "metadata": {
        "id": "IOy-iEB0tQWJ"
      },
      "execution_count": null,
      "outputs": []
    },
    {
      "cell_type": "markdown",
      "source": [
        "035 문자열 출력\n",
        "\n",
        "변수에 다음과 같이 문자열과 정수가 바인딩되어 있을 때 % formatting을 사용해서 다음과 같이 출력해보세요.\n",
        "\n",
        "name1 = \"김민수\" \n",
        "\n",
        "age1 = 10\n",
        "\n",
        "name2 = \"이철희\"\n",
        "\n",
        "age2 = 13\n",
        "\n",
        "이름: 김민수 나이: 10\n",
        "\n",
        "이름: 이철희 나이: 13"
      ],
      "metadata": {
        "id": "9zRhjjiBfsGf"
      }
    },
    {
      "cell_type": "code",
      "source": [
        "name1 = \"김민수\" \n",
        "age1 = 10\n",
        "name2 = \"이철희\"\n",
        "age2 = 13\n",
        "\n",
        "print(\"이름: %s 나이: %d\" % (name1, age1))\n",
        "print(\"이름: %s 나이: %d\" % (name2, age2))"
      ],
      "metadata": {
        "id": "8X-SYtLVuDiz"
      },
      "execution_count": null,
      "outputs": []
    },
    {
      "cell_type": "markdown",
      "source": [
        "037 문자열 출력\n",
        "\n",
        "파이썬 3.6부터 지원하는 f-string을 사용해서 035번 문제를 다시 풀어보세요."
      ],
      "metadata": {
        "id": "HwM0kuUK3NNE"
      }
    },
    {
      "cell_type": "code",
      "source": [
        "name1 = \"김민수\" \n",
        "age1 = 10\n",
        "name2 = \"이철희\"\n",
        "age2 = 13\n",
        "print(f\"이름: {name1} 나이: {age1}\")\n",
        "print(f\"이름: {name2} 나이: {age2}\")"
      ],
      "metadata": {
        "id": "O-OuoKxU3NUs"
      },
      "execution_count": null,
      "outputs": []
    },
    {
      "cell_type": "markdown",
      "source": [
        "038 컴마 제거하기\n",
        "\n",
        "삼성전자의 상장주식수가 다음과 같습니다. 컴마를 제거한 후 이를 정수 타입으로 변환해보세요.\n",
        "\n",
        "\n",
        "상장주식수 = \"5,969,782,550\""
      ],
      "metadata": {
        "id": "BHfclFh9f2LD"
      }
    },
    {
      "cell_type": "code",
      "source": [
        "상장주식수 = \"5,969,782,550\"\n",
        "\n",
        "print(상장주식수.replace(',',''))\n",
        "\n",
        "상장주식수 = \"5,969,782,550\"\n",
        "컴마제거 = 상장주식수.replace(\",\", \"\")\n",
        "타입변환 = int(컴마제거)\n",
        "print(타입변환, type(타입변환))"
      ],
      "metadata": {
        "id": "iC5CnQXFvcGc"
      },
      "execution_count": null,
      "outputs": []
    },
    {
      "cell_type": "markdown",
      "source": [
        "045 endswith 메서드\n",
        "\n",
        "파일 이름이 문자열로 저장되어 있을 때 endswith 메서드를 사용해서 파일 이름이 'xlsx' 또는 'xls'로 끝나는지 확인해보세요.\n",
        "\n",
        "file_name = \"보고서.xlsx\""
      ],
      "metadata": {
        "id": "SevAHCqBf-Ag"
      }
    },
    {
      "cell_type": "code",
      "source": [
        "file_name = \"보고서.xlsx\"\n",
        "file_name.endswith((\"xlsx\", \"xls\"))"
      ],
      "metadata": {
        "id": "Jq2NfLFWv3VM"
      },
      "execution_count": null,
      "outputs": []
    },
    {
      "cell_type": "markdown",
      "source": [
        "065\n",
        "\n",
        "interest 리스트에는 아래의 데이터가 바인딩되어 있다.\n",
        "\n",
        "interest = ['삼성전자', 'LG전자', 'Naver']\n",
        "\n",
        "interest 리스트를 사용하여 아래와 같이 화면에 출력하라.\n",
        "\n",
        "출력 예시:\n",
        "\n",
        "삼성전자 Naver"
      ],
      "metadata": {
        "id": "Ug1CNsyPgEFJ"
      }
    },
    {
      "cell_type": "code",
      "source": [
        "interest = ['삼성전자', 'LG전자', 'Naver']\n",
        "print(interest[0], interest[2])"
      ],
      "metadata": {
        "colab": {
          "base_uri": "https://localhost:8080/"
        },
        "id": "at6YdXCkzN5n",
        "outputId": "6a037bfd-c737-4a65-ee8e-a17824207a27"
      },
      "execution_count": null,
      "outputs": [
        {
          "output_type": "stream",
          "name": "stdout",
          "text": [
            "삼성전자 Naver\n"
          ]
        }
      ]
    },
    {
      "cell_type": "markdown",
      "source": [
        "076\n",
        "\n",
        "변수 t에는 아래와 같은 값이 저장되어 있다. 변수 t가 ('A', 'b', 'c') 튜플을 가리키도록 수정 하라.\n",
        "\n",
        "t = ('a', 'b', 'c')"
      ],
      "metadata": {
        "id": "7G4XQL8lKv9O"
      }
    },
    {
      "cell_type": "code",
      "source": [
        "t = ('A', 'b', 'c')"
      ],
      "metadata": {
        "id": "tX55c-tDKwNV"
      },
      "execution_count": null,
      "outputs": []
    },
    {
      "cell_type": "markdown",
      "source": [
        "079 튜플 언팩킹\n",
        "\n",
        "다음 코드의 실행 결과를 예상하라.\n",
        "\n",
        "\n",
        "temp = ('apple', 'banana', 'cake')\n",
        "\n",
        "a, b, c = temp\n",
        "\n",
        "print(a, b, c)"
      ],
      "metadata": {
        "id": "26iO4lEkgnvz"
      }
    },
    {
      "cell_type": "code",
      "source": [
        "답 : apple banana cake"
      ],
      "metadata": {
        "colab": {
          "base_uri": "https://localhost:8080/"
        },
        "id": "MZKHYn00zTQg",
        "outputId": "52841b93-9bb4-478c-95f3-c35a5aef9f1c"
      },
      "execution_count": null,
      "outputs": [
        {
          "output_type": "stream",
          "name": "stdout",
          "text": [
            "apple banana cake\n"
          ]
        }
      ]
    },
    {
      "cell_type": "markdown",
      "source": [
        "098 딕셔너리 update 메서드\n",
        "\n",
        "아래의 new_product 딕셔너리를 다음 icecream 딕셔너리에 추가하라.\n",
        ">\n",
        "icecream = {'탱크보이': 1200, '폴라포': 1200, '빵빠레': 1800, '월드콘': 1500, '메로나': 1000}\n",
        "\n",
        "new_product = {'팥빙수':2700, '아맛나':1000}\n",
        "\n",
        "실행 예시:\n",
        ">\n",
        "print(icecream)\n",
        "\n",
        "{'탱크보이': 1200,  '폴라포': 1200,  '빵빠레': 1800,  '월드콘': 1500,  '메로나': 1000,  '팥빙수':2700, '아맛나':1000}"
      ],
      "metadata": {
        "id": "Dc-fjmFsg3Ul"
      }
    },
    {
      "cell_type": "code",
      "source": [
        "icecream = {'탱크보이': 1200, '폴라포': 1200, '빵빠레': 1800, '월드콘': 1500, '메로나': 1000}\n",
        "new_product = {'팥빙수':2700, '아맛나':1000}\n",
        "icecream.update(new_product)\n",
        "print(icecream)"
      ],
      "metadata": {
        "id": "cKxomBMBAq-H"
      },
      "execution_count": null,
      "outputs": []
    },
    {
      "cell_type": "markdown",
      "source": [
        "109\n",
        "아래 코드의 출력 결과를 예상하라\n",
        "\n",
        "if True :\n",
        ">    print (\"1\")   \n",
        ">    print (\"2\")\n",
        "\n",
        "else :\n",
        ">    print(\"3\")\n",
        "\n",
        "print(\"4\")"
      ],
      "metadata": {
        "id": "9KAizwKWhUSe"
      }
    },
    {
      "cell_type": "code",
      "source": [
        "'답'\n",
        "1\n",
        "2\n",
        "4"
      ],
      "metadata": {
        "id": "OOgfLW17C1VR"
      },
      "execution_count": null,
      "outputs": []
    },
    {
      "cell_type": "markdown",
      "source": [
        "129\n",
        "\n",
        "\n",
        "주민등록번호는 13자리로 구성되는데 마지막 자리수는 주민등록번호의 유효성을 체크하는데 사용된다. \n",
        "\n",
        "먼저 앞에서부터 12자리의 숫자에 2, 3, 4, 5, 6, 7, 8, 9, 2, 3, 4, 5를 차례로 곱한 뒤 그 값을 전부 더한다. \n",
        "\n",
        "연산 결과 값을 11로 나누면 나머지가 나오는데 11에서 나머지를 뺀 값이 주민등록번호의 마지막 번호가 된다.\n",
        "\n",
        ">\n",
        "  8 2 1 0 1 0 - 1 6 3 5 2 1 0\n",
        "  \n",
        "x 2 3 4 5 6 7   8 9 2 3 4 5 \n",
        ">\n",
        "\n",
        "-----------------------------\n",
        "1차 계산: (8*2 + 2*3 + 1*4 + 0*5 + 1*6 + 0*7 + 1*8 + 6*9 + 3*2 + 5*3 + 2*4 + 1*5) = (128 % 11) = 7\n",
        "\n",
        "2차 계산: 11 -7 = 4\n",
        "\n",
        "위와 같이 821010-1635210에 대해서 계산을 해보면 마지막 자리는 4가 되어야 함을 알 수 있다.\n",
        "\n",
        "즉, 821010-1635210은 유효하지 않은 주민등록번호임을 알 수 있다.\n",
        "\n",
        "다음과 같이 사용자로부터 주민등록번호를 입력받은 후 주민등록번호가 유효한지를 출력하는 프로그램을 작성하라.\n",
        ">\n",
        "주민등록번호: 821010-1635210\n",
        ">\n",
        "유효하지 않은 주민등록번호입니다. "
      ],
      "metadata": {
        "id": "xiqQJLt7hmMn"
      }
    },
    {
      "cell_type": "code",
      "source": [
        "num = input(\"주민등록번호: \")\n",
        "계산1 = int(num[0]) * 2 + int(num[1]) * 3 + int(num[2]) * 4 + int(num[3]) * 5 + int(num[4]) * 6 + \\\n",
        "        int(num[5]) * 7 + int(num[7]) * 8 + int(num[8]) * 9 + int(num[9]) * 2 + int(num[10])* 3 + \\\n",
        "        int(num[11])* 4 + int(num[12]) * 5\n",
        "계산2 = 11 - (계산1 % 11)\n",
        "계산3 = str(계산2)\n",
        "\n",
        "if num[-1] == 계산3[-1]:\n",
        "    print(\"유효한 주민등록번호입니다.\")\n",
        "else:\n",
        "    print(\"유효하지 않은 주민등록번호입니다.\")"
      ],
      "metadata": {
        "id": "HFlfFkyNf4XJ"
      },
      "execution_count": null,
      "outputs": []
    },
    {
      "cell_type": "markdown",
      "source": [
        "130\n",
        "\n",
        "아래 코드는 비트코인의 가격 정보를 딕셔너리로 가져오는 코드이다.\n",
        "\n",
        "import requests\n",
        "\n",
        "btc = requests.get(\"https://api.bithumb.com/public/ticker/\").json()['data']\n",
        "\n",
        "btc 딕셔너리 안에는 시가, 종가, 최고가, 최저가 등이 저장되어 있다. \n",
        "최고가와 최저가의 차이를 변동폭으로 정의할 때 (시가 + 변동폭)이 최고가 보다 높을 경우 \"상승장\", 그렇지 않은 경우 \"하락장\" 문자열을 출력하라.\n",
        "\n",
        "Key Name\t/ Description\n",
        "\n",
        "opening_price\t/ 최근 24시간 내 시작 거래금액\n",
        "\n",
        "closing_price\t/ 최근 24시간 내 마지막 거래금액\n",
        "\n",
        "min_price\t/ 최근 24시간 내 최저 거래금액\n",
        "\n",
        "max_price\t/ 최근 24시간 내 최고 거래금액"
      ],
      "metadata": {
        "id": "mFKl7O1LeGmS"
      }
    },
    {
      "cell_type": "code",
      "source": [
        "import requests\n",
        "btc = requests.get(\"https://api.bithumb.com/public/ticker/\").json()['data']\n",
        "\n",
        "변동폭 = float(btc['max_price']) - float(btc['min_price'])\n",
        "시가 = float(btc['opening_price'])\n",
        "최고가 = float(btc['max_price'])\n",
        "\n",
        "if (시가+변동폭) > 최고가:\n",
        "    print(\"상승장\")\n",
        "else:\n",
        "    print(\"하락장\")"
      ],
      "metadata": {
        "colab": {
          "base_uri": "https://localhost:8080/"
        },
        "id": "3nEGEgpHOsQr",
        "outputId": "32cd8772-834f-473e-ffcb-5713a62e5819"
      },
      "execution_count": null,
      "outputs": [
        {
          "output_type": "stream",
          "name": "stdout",
          "text": [
            "상승장\n"
          ]
        }
      ]
    },
    {
      "cell_type": "markdown",
      "source": [
        "133\n",
        "\n",
        "다음 for 문과 동일한 기능을 수행하는 코드를 작성하세요.\n",
        "\n",
        "for 변수 in [\"A\", \"B\", \"C\"]:\n",
        "\n",
        "  print(변수)"
      ],
      "metadata": {
        "id": "nUVUMsELjWfg"
      }
    },
    {
      "cell_type": "code",
      "source": [
        "변수 = \"A\"\n",
        "print(변수)\n",
        "변수 = \"B\"\n",
        "print(변수)\n",
        "변수 = \"C\"\n",
        "print(변수)\n",
        "\n",
        "# 혹은\n",
        "\n",
        "print(\"A\")\n",
        "print(\"B\")\n",
        "print(\"C\")"
      ],
      "metadata": {
        "id": "DaIYmZndf7LA",
        "colab": {
          "base_uri": "https://localhost:8080/"
        },
        "outputId": "8b8cfecf-9ccb-47fe-ef4c-7b73179c141e"
      },
      "execution_count": null,
      "outputs": [
        {
          "output_type": "stream",
          "name": "stdout",
          "text": [
            "A\n",
            "B\n",
            "C\n",
            "A\n",
            "B\n",
            "C\n"
          ]
        }
      ]
    },
    {
      "cell_type": "markdown",
      "source": [
        "135\n",
        "\n",
        "for문을 풀어서 동일한 동작을 하는 코드를 작성하라.\n",
        "\n",
        "\n",
        "for 변수 in [\"A\", \"B\", \"C\"]:\n",
        "\n",
        "  b = 변수.lower()\n",
        "  \n",
        "  print(\"변환:\", b)"
      ],
      "metadata": {
        "id": "aqOD8XxHjnf6"
      }
    },
    {
      "cell_type": "code",
      "source": [
        "변수 = \"A\"\n",
        "b = 변수.lower()\n",
        "print(\"변환:\", b)\n",
        "변수 = \"B\"\n",
        "b = 변수.lower()\n",
        "print(\"변환:\", b)\n",
        "변수 = \"C\"\n",
        "b = 변수.lower()\n",
        "print(\"변환:\", b)"
      ],
      "metadata": {
        "id": "5LeC41bXGirr"
      },
      "execution_count": null,
      "outputs": []
    },
    {
      "cell_type": "markdown",
      "source": [
        "139\n",
        "\n",
        "다음 코드를 for문으로 작성하라.\n",
        "\n",
        "print(\"++++\")\n",
        "\n",
        "print(10)\n",
        "\n",
        "print(20)\n",
        "\n",
        "print(30)"
      ],
      "metadata": {
        "id": "yCguoCTJjvKV"
      }
    },
    {
      "cell_type": "code",
      "source": [
        "# `print(\"++++\")` 코드가 함정입니다. 파이썬 for문은 반복되는 코드에만 사용합니다.\n",
        "print(\"++++\")\n",
        "for 변수 in [10, 20, 30]:\n",
        "  print(변수)"
      ],
      "metadata": {
        "id": "WafMqWLNHwEl"
      },
      "execution_count": null,
      "outputs": []
    },
    {
      "cell_type": "markdown",
      "source": [
        "151\n",
        "\n",
        "리스트에는 네 개의 정수가 저장돼 있다.\n",
        "\n",
        "리스트 = [3, -20, -3, 44]\n",
        "\n",
        "for문을 사용해서 리스트의 음수를 출력하라.\n",
        "\n",
        "-20\n",
        "\n",
        "-3"
      ],
      "metadata": {
        "id": "n_Ae7EZWj4Ku"
      }
    },
    {
      "cell_type": "code",
      "source": [
        "리스트 = [3, -20, -3, 44]\n",
        "for 변수 in 리스트:\n",
        "    if 변수 < 0:\n",
        "        print(변수)"
      ],
      "metadata": {
        "colab": {
          "base_uri": "https://localhost:8080/"
        },
        "id": "GJ-nFMtpJlHH",
        "outputId": "15a22e47-8291-4ed3-a13c-757a4f3b1914"
      },
      "execution_count": null,
      "outputs": [
        {
          "output_type": "stream",
          "name": "stdout",
          "text": [
            "-20\n",
            "-3\n"
          ]
        }
      ]
    },
    {
      "cell_type": "markdown",
      "source": [
        "158\n",
        "\n",
        "파일 이름이 저장된 리스트에서 확장자를 제거하고 파일 이름만 화면에 출력하라. (힌트: split() 메서드)\n",
        "\n",
        "\n",
        "리스트 = ['hello.py', 'ex01.py', 'intro.hwp']\n",
        "\n",
        "hello\n",
        "\n",
        "ex01\n",
        "intro"
      ],
      "metadata": {
        "id": "p1Hf9GLbkCSe"
      }
    },
    {
      "cell_type": "code",
      "source": [
        "리스트 = ['hello.py', 'ex01.py', 'intro.hwp']\n",
        "for 변수 in 리스트:\n",
        "  split = 변수.split(\".\")\n",
        "  print(split[0])  "
      ],
      "metadata": {
        "id": "a2NyqdWAkCoO"
      },
      "execution_count": null,
      "outputs": []
    },
    {
      "cell_type": "markdown",
      "source": [
        "159\n",
        "\n",
        "파일 이름이 저장된 리스트에서 확장자가 .h인 파일 이름을 출력하라.\n",
        "\n",
        "리스트 = ['intra.h', 'intra.c', 'define.h', 'run.py']\n",
        "\n",
        "intra.h\n",
        "\n",
        "define.h"
      ],
      "metadata": {
        "id": "BlXW9ayH6EQp"
      }
    },
    {
      "cell_type": "code",
      "source": [
        "리스트 = ['intra.h', 'intra.c', 'define.h', 'run.py']\n",
        "for 변수 in 리스트:\n",
        "  split = 변수.split(\".\")\n",
        "  if split[1] == \"h\":\n",
        "    print(변수)"
      ],
      "metadata": {
        "id": "5-l73RpC6Ea5"
      },
      "execution_count": null,
      "outputs": []
    },
    {
      "cell_type": "markdown",
      "source": [
        "168\n",
        "\n",
        "1~10까지의 숫자에 대해 모두 더한 값을 출력하는 프로그램을 for 문을 사용하여 작성하라.\n",
        "\n",
        "\n",
        "합 : 55"
      ],
      "metadata": {
        "id": "6fdXS-dSqxPK"
      }
    },
    {
      "cell_type": "code",
      "source": [
        "hab = 0\n",
        "for i in range(1, 11):\n",
        "    hab += i\n",
        "print (\"합 :\", hab)\n",
        "# hab += i 는 아래 코드를 축약해서 작성한 것입니다.\n",
        "# hab = hab + i"
      ],
      "metadata": {
        "id": "nv2K-TIoqyME"
      },
      "execution_count": null,
      "outputs": []
    },
    {
      "cell_type": "markdown",
      "source": [
        "180\n",
        "\n",
        "리스트에 5일간의 저가, 고가 정보가 저장돼 있다. \n",
        "\n",
        "고가와 저가의 차를 변동폭이라고 정의할 때, low, high 두 개의 리스트를 사용해서 5일간의 변동폭을 volatility 리스트에 저장하라.\n",
        "\n",
        "low_prices  = [100, 200, 400, 800, 1000]\n",
        "\n",
        "high_prices = [150, 300, 430, 880, 1000]"
      ],
      "metadata": {
        "id": "_4cqMBK6kXw-"
      }
    },
    {
      "cell_type": "code",
      "source": [
        "low_prices = [100, 200, 400, 800, 1000]\n",
        "high_prices = [150, 300, 430, 880, 1000]\n",
        "\n",
        "volatility = []\n",
        "for i in range(len(low_prices)) :\n",
        "    volatility.append(high_prices[i] - low_prices[i])"
      ],
      "metadata": {
        "id": "RE96b9EBo_ra"
      },
      "execution_count": null,
      "outputs": []
    },
    {
      "cell_type": "markdown",
      "source": [
        "186\n",
        "\n",
        "리스트에 저장된 데이터를 아래와 같이 출력하라.\n",
        "\n",
        "apart = [ [101, 102], [201, 202], [301, 302] ]\n",
        "\n",
        "301 호\n",
        "\n",
        "302 호\n",
        "\n",
        "201 호\n",
        "\n",
        "202 호\n",
        "\n",
        "101 호\n",
        "\n",
        "102 호\n"
      ],
      "metadata": {
        "id": "fYo5tpg3D-_P"
      }
    },
    {
      "cell_type": "code",
      "source": [
        "for row in apart[::-1]:\n",
        "    for col in row:\n",
        "        print(col, \"호\")"
      ],
      "metadata": {
        "id": "JzdxO7wHD_wG"
      },
      "execution_count": null,
      "outputs": []
    },
    {
      "cell_type": "markdown",
      "source": [
        "194\n",
        "\n",
        "191번 문제의 결괏값을 result 이름의 리스트에 2차원 배열로 저장하라. \n",
        "\n",
        "저장 포맷은 아래와 같다. 각 행에 대한 데이터끼리 리스트에 저장되어야 한다.\n",
        "\n",
        "print(result)\n",
        "\n",
        "[\n",
        "\n",
        " [2000.28, 3050.427, 2050.2870000000003, 1980.2772],\n",
        "\n",
        " [7501.05, 2050.2870000000003, 2050.2870000000003, 1980.2772],\n",
        "\n",
        " [15452.163, 15052.107, 15552.177, 14902.086000000001]\n",
        "\n",
        "]"
      ],
      "metadata": {
        "id": "MSo-aTnrEII_"
      }
    },
    {
      "cell_type": "code",
      "source": [
        "data = [\n",
        "    [ 2000,  3050,  2050,  1980],\n",
        "    [ 7500,  2050,  2050,  1980],\n",
        "    [15450, 15050, 15550, 14900]\n",
        "]\n",
        "\n",
        "result = []\n",
        "for line in data:\n",
        "    sub = []\n",
        "    for column in line:\n",
        "        sub.append(column * 1.00014)\n",
        "    result.append(sub)\n",
        "print(result)"
      ],
      "metadata": {
        "colab": {
          "base_uri": "https://localhost:8080/"
        },
        "id": "kladnauUEIt-",
        "outputId": "1efdedb0-4435-4d36-a849-43a125dba8ec"
      },
      "execution_count": null,
      "outputs": [
        {
          "output_type": "stream",
          "name": "stdout",
          "text": [
            "[[2000.28, 3050.427, 2050.2870000000003, 1980.2772], [7501.05, 2050.2870000000003, 2050.2870000000003, 1980.2772], [15452.163, 15052.107, 15552.177, 14902.086000000001]]\n"
          ]
        }
      ]
    },
    {
      "cell_type": "markdown",
      "source": [
        "203\n",
        "\n",
        "201번에서 정의한 print_coin 함수를 100번호출하라."
      ],
      "metadata": {
        "id": "CKzJ5fKcPTRI"
      }
    },
    {
      "cell_type": "code",
      "source": [
        "def print_coin():\n",
        "    print(\"비트코인\")\n",
        "    \n",
        "for i in range(100):\n",
        "    print_coin()"
      ],
      "metadata": {
        "id": "FoBKawptPTZ-"
      },
      "execution_count": null,
      "outputs": []
    },
    {
      "cell_type": "markdown",
      "source": [
        "204\n",
        "\n",
        "\"비트코인\" 문자열을 100번 화면에 출력하는 print_coins() 함수를 정의하라."
      ],
      "metadata": {
        "id": "8qMWXmWbwd9p"
      }
    },
    {
      "cell_type": "code",
      "source": [
        "def print_coins():\n",
        "    for i in range(100):\n",
        "        print(\"비트코인\")"
      ],
      "metadata": {
        "id": "Xkuu1CJBweHp"
      },
      "execution_count": null,
      "outputs": []
    },
    {
      "cell_type": "markdown",
      "source": [
        "222\n",
        "\n",
        "성적 리스트를 입력 받아 평균을 출력하는 print_score 함수를 정의하라."
      ],
      "metadata": {
        "id": "FejT_xTxxfVs"
      }
    },
    {
      "cell_type": "code",
      "source": [
        "def print_score(score_list) :\n",
        "    print(sum(score_list)/len(score_list))"
      ],
      "metadata": {
        "id": "p507HAP7xfjL"
      },
      "execution_count": null,
      "outputs": []
    },
    {
      "cell_type": "markdown",
      "source": [
        "224\n",
        "\n",
        "하나의 딕셔너리를 입력받아 딕셔너리의 key 값을 화면에 출력하는 print_keys 함수를 정의하라.\n",
        "\n",
        "print_keys ({\"이름\":\"김말똥\", \"나이\":30, \"성별\":0})\n",
        "\n",
        "이름\n",
        "\n",
        "나이\n",
        "\n",
        "성별"
      ],
      "metadata": {
        "id": "Ia-Pzz8V_8ko"
      }
    },
    {
      "cell_type": "code",
      "source": [
        "def print_keys(dic):\n",
        "    for keys in dic.keys():\n",
        "        print(keys)"
      ],
      "metadata": {
        "id": "idQq0Y1O_8rw"
      },
      "execution_count": null,
      "outputs": []
    },
    {
      "cell_type": "markdown",
      "source": [
        "225\n",
        "\n",
        "my_dict에는 날짜를 키값으로 OHLC가 리스트로 저장돼 있다.\n",
        "\n",
        "my_dict = {\"10/26\" : [100, 130, 100, 100],\n",
        "           \"10/27\" : [10, 12, 10, 11]}\n",
        "\n",
        "my_dict와 날짜 키값을 입력받아 OHLC 리스트를 출력하는 print_value_by_key 함수를 정의하라.\n",
        "\n",
        "print_value_by_key  (my_dict, \"10/26\")\n",
        "\n",
        "[100, 130, 100, 100]\n"
      ],
      "metadata": {
        "id": "dA90L-lQEsZv"
      }
    },
    {
      "cell_type": "code",
      "source": [
        "my_dict = {\"10/26\" : [100, 130, 100, 100],\n",
        "           \"10/27\" : [10, 12, 10, 11]}\n",
        "\n",
        "def print_value_by_key (my_dict, key) :\n",
        "    print(my_dict[key])"
      ],
      "metadata": {
        "id": "wEUXqDxPEsfn"
      },
      "execution_count": null,
      "outputs": []
    },
    {
      "cell_type": "markdown",
      "source": [
        "226\n",
        "\n",
        "입력 문자열을 한 줄에 다섯글자씩 출력하는 print_5xn(string) 함수를 작성하라.\n",
        "\n",
        "print_5xn(\"아이엠어보이유알어걸\")\n",
        "\n",
        "아이엠어보\n",
        "\n",
        "이유알어걸"
      ],
      "metadata": {
        "id": "FnedWocfAcWM"
      }
    },
    {
      "cell_type": "code",
      "source": [
        "def print_5xn(line):\n",
        "    chunk_num = int(len(line) / 5)\n",
        "    for x in range(chunk_num + 1) :\n",
        "        print(line[x * 5: x * 5 + 5])"
      ],
      "metadata": {
        "id": "o9HTlqeaAcqI"
      },
      "execution_count": null,
      "outputs": []
    },
    {
      "cell_type": "markdown",
      "source": [
        "230\n",
        "\n",
        "아래 코드의 실행 결과를 예측하라.\n",
        "\n",
        "def my_print (a, b) :\n",
        ">    print(\"왼쪽:\", a)\n",
        ">\n",
        ">    print(\"오른쪽:\", b)\n",
        "\n",
        "my_print(b=100, a=200)"
      ],
      "metadata": {
        "id": "QYOdvgKQH3HU"
      }
    },
    {
      "cell_type": "code",
      "source": [
        "# 5 번 라인에서 함수를 호출하는데, a 변수에 200, b 변수에 100을 바인딩하라고 지정을 했습니다. \n",
        "# 따라서 아래와 같이 출력됩니다.\n",
        "왼쪽: 200\n",
        "오른쪽: 100"
      ],
      "metadata": {
        "id": "BJlsHQjHH3Pq"
      },
      "execution_count": null,
      "outputs": []
    },
    {
      "cell_type": "markdown",
      "source": [
        "231\n",
        "\n",
        "아래 코드를 실행한 결과를 예상하라.\n",
        "\n",
        "def n_plus_1 (n) :\n",
        ">    result = n + 1\n",
        "\n",
        "n_plus_1(3)\n",
        "\n",
        "print (result)"
      ],
      "metadata": {
        "id": "24LoQGRcRvdS"
      }
    },
    {
      "cell_type": "code",
      "source": [
        "NameError Traceback (most recent call last)\n",
        "<ipython-input-2-78e20c8ecef0> in <module>()\n",
        "3 \n",
        "4 n_plus_1(3)\n",
        "----> 5 print (result)\n",
        "6\n",
        "\n",
        "NameError: name 'result' is not defined"
      ],
      "metadata": {
        "id": "f68IMzaGRvkt"
      },
      "execution_count": null,
      "outputs": []
    },
    {
      "cell_type": "markdown",
      "source": [
        "233\n",
        "\n",
        "문자열을 입력받아 각 문자들로 구성된 리스트로 반환하는 make_list 함수를 정의하라.\n",
        "\n",
        "make_list(\"abcd\")\n",
        "\n",
        "['a', 'b', 'c', 'd']"
      ],
      "metadata": {
        "id": "U9ETLbDYL6ZP"
      }
    },
    {
      "cell_type": "code",
      "source": [
        "def make_list (string) :\n",
        "    my_list = []\n",
        "    for 변수 in string :\n",
        "        my_list.append(변수)\n",
        "    return my_list\n",
        "\n",
        "def make_list (string) :\n",
        "    return list(string)"
      ],
      "metadata": {
        "id": "tvCevMBaL6uA"
      },
      "execution_count": null,
      "outputs": []
    },
    {
      "cell_type": "markdown",
      "source": [
        "243 timedelta\n",
        "\n",
        "datetime 모듈의 timedelta를 사용해서 오늘로부터 5일, 4일, 3일, 2일, 1일 전의 날짜를 화면에 출력해보세요."
      ],
      "metadata": {
        "id": "6ZGhgxgYNyoy"
      }
    },
    {
      "cell_type": "code",
      "source": [
        "import datetime\n",
        "\n",
        "now = datetime.datetime.now()\n",
        "\n",
        "for day in range(5, 0, -1):\n",
        "    delta = datetime.timedelta(days=day)\n",
        "    date = now - delta\n",
        "    print(date)"
      ],
      "metadata": {
        "id": "Ur77v0g5Ny3a"
      },
      "execution_count": null,
      "outputs": []
    },
    {
      "cell_type": "markdown",
      "source": [
        "245 strptime\n",
        "\n",
        "datetime.datetime.strptime 메서드를 사용하면 문자열 형식의 시간을 datetime.datetime 타입의 시간 값으로 만들어줍니다. \n",
        "\n",
        "\"2020-05-04\"의 문자열을 시간 타입으로 변환해보세요."
      ],
      "metadata": {
        "id": "l90SoCqxSVns"
      }
    },
    {
      "cell_type": "code",
      "source": [
        "import datetime\n",
        "\n",
        "day = \"2020-05-04\"\n",
        "ret = datetime.datetime.strptime(day, \"%Y-%m-%d\")\n",
        "print(ret, type(ret))"
      ],
      "metadata": {
        "id": "tmnKgotoSVvi"
      },
      "execution_count": null,
      "outputs": []
    },
    {
      "cell_type": "markdown",
      "source": [
        "246 sleep 함수\n",
        "\n",
        "time 모듈, datetime 모듈을 사용해서 1초에 한 번 현재 시간을 출력하는 코드를 작성하세요."
      ],
      "metadata": {
        "id": "54dUQw_NtnjI"
      }
    },
    {
      "cell_type": "code",
      "source": [
        "import time\n",
        "import datetime\n",
        "\n",
        "while True:\n",
        "    now = datetime.datetime.now()\n",
        "    print(now)\n",
        "    time.sleep(1)"
      ],
      "metadata": {
        "colab": {
          "base_uri": "https://localhost:8080/"
        },
        "id": "old8V6HHtnrQ",
        "outputId": "d546dea3-fa76-4720-8153-5a88ce3027d0"
      },
      "execution_count": null,
      "outputs": [
        {
          "output_type": "stream",
          "name": "stdout",
          "text": [
            "2023-04-29 11:22:15.957002\n"
          ]
        }
      ]
    },
    {
      "cell_type": "markdown",
      "source": [
        "253 인스턴스 생성\n",
        "\n",
        "사람 (Human) 클래스의 인스턴스를 \"생성\" 하고 이를 areum 변수로 바인딩해보세요."
      ],
      "metadata": {
        "id": "0fvyUgU8v-6C"
      }
    },
    {
      "cell_type": "code",
      "source": [
        "class Human:\n",
        "    pass\n",
        "\n",
        "areum = Human()"
      ],
      "metadata": {
        "id": "tOwNewL9v_Da"
      },
      "execution_count": null,
      "outputs": []
    },
    {
      "cell_type": "markdown",
      "source": [
        "266 객체의 속성값 업데이트\n",
        "\n",
        "생성자에서 종목명, 종목코드, PER, PBR, 배당수익률을 입력 받을 수 있도록 생성자를 수정하세요.\n",
        "\n",
        "PER, PBR, 배당수익률은 float 타입입니다."
      ],
      "metadata": {
        "id": "8MfTHAev59XA"
      }
    },
    {
      "cell_type": "code",
      "source": [
        "class Stock:\n",
        "    def __init__(self, name, code, per, pbr, 배당수익률):\n",
        "        self.name = name\n",
        "        self.code = code\n",
        "        self.per = per\n",
        "        self.pbr = pbr\n",
        "        self.배당수익률 = 배당수익률\n",
        "\n",
        "    def set_name(self, name):\n",
        "        self.name = name\n",
        "\n",
        "    def set_code(self, code):\n",
        "        self.code = code\n",
        "\n",
        "    def get_name(self):\n",
        "        return self.name\n",
        "\n",
        "    def get_code(self):\n",
        "        return self.code"
      ],
      "metadata": {
        "id": "meX4ZNiC5-Jw"
      },
      "execution_count": null,
      "outputs": []
    },
    {
      "cell_type": "markdown",
      "source": [
        "267 객체 생성\n",
        "\n",
        "266번에서 정의한 생성자를 통해 다음 정보를 갖는 객체를 생성해보세요.\n",
        "\n",
        "\n",
        "항목/\t정보\n",
        "\n",
        "종목명/\t삼성전자\n",
        "\n",
        "종목코드/\t005930\n",
        "\n",
        "PER/\t15.79\n",
        "\n",
        "PBR\t/1.33\n",
        "\n",
        "배당수익률/\t2.83"
      ],
      "metadata": {
        "id": "vN1b4EUv4HMQ"
      }
    },
    {
      "cell_type": "code",
      "source": [
        "삼성 = Stock(\"삼성전자\", \"005930\", 15.79, 1.33, 2.83)\n",
        "print(삼성.배당수익률)"
      ],
      "metadata": {
        "id": "5JBXctMA4HXP"
      },
      "execution_count": null,
      "outputs": []
    },
    {
      "cell_type": "markdown",
      "source": [
        "270 여러 종목의 객체 생성\n",
        "\n",
        "아래의 표를 참조하여 3종목에 대해 객체를 생성하고 이를 파이썬 리스트에 저장하세요. 파이썬 리스트에 저장된 각 종목에 대해 for 루프를 통해 종목코드와 PER을 출력해보세요.\n",
        "\n",
        "\n",
        "종목명/\t종목코드/\tPER/\tPBR/\t배당수익률\n",
        "\n",
        "삼성전자/\t005930/\t15.79/\t1.33/\t2.83\n",
        "\n",
        "현대차/\t005380/\t8.70/\t0.35/\t4.27\n",
        "\n",
        "LG전자/\t066570/\t317.34/\t0.69/\t1.37"
      ],
      "metadata": {
        "id": "Uo32Zg2Z4Kd_"
      }
    },
    {
      "cell_type": "code",
      "source": [
        "class Stock:\n",
        "    def __init__(self, name, code, per, pbr, 배당수익률):\n",
        "        self.name = name\n",
        "        self.code = code\n",
        "        self.per = per\n",
        "        self.pbr = pbr\n",
        "        self.배당수익률 = 배당수익률\n",
        "\n",
        "    def set_name(self, name):\n",
        "        self.name = name\n",
        "\n",
        "    def set_code(self, code):\n",
        "        self.code = code\n",
        "\n",
        "    def get_name(self):\n",
        "        return self.name\n",
        "\n",
        "    def get_code(self):\n",
        "        return self.code\n",
        "        \n",
        "종목 = []\n",
        "\n",
        "삼성 = Stock(\"삼성전자\", \"005930\", 15.79, 1.33, 2.83)\n",
        "현대차 = Stock(\"현대차\", \"005380\", 8.70, 0.35, 4.27)\n",
        "LG전자 = Stock(\"LG전자\", \"066570\", 317.34, 0.69, 1.37)\n",
        "\n",
        "종목.append(삼성)\n",
        "종목.append(현대차)\n",
        "종목.append(LG전자)\n",
        "\n",
        "for i in 종목:\n",
        "    print(i.code, i.per)        # i-> Stock 클래스의 객체를 바인딩하기 때문"
      ],
      "metadata": {
        "id": "rgvMVlpZ4KuA",
        "colab": {
          "base_uri": "https://localhost:8080/"
        },
        "outputId": "036487c6-619c-4f4a-cefb-7c88d8f3bbba"
      },
      "execution_count": 2,
      "outputs": [
        {
          "output_type": "stream",
          "name": "stdout",
          "text": [
            "005930 15.79\n",
            "005380 8.7\n",
            "066570 317.34\n"
          ]
        }
      ]
    },
    {
      "cell_type": "markdown",
      "source": [
        "271 Account 클래스\n",
        "\n",
        "은행에 가서 계좌를 개설하면 은행이름, 예금주, 계좌번호, 잔액이 설정됩니다. \n",
        "\n",
        "Account 클래스를 생성한 후 생성자를 구현해보세요. 생성자에서는 예금주와 초기 잔액만 입력 받습니다. \n",
        "\n",
        "은행이름은 SC은행으로 계좌번호는 3자리-2자리-6자리 형태로 랜덤하게 생성됩니다.\n",
        "\n",
        "은행이름: SC은행\n",
        "\n",
        "계좌번호: 111-11-111111"
      ],
      "metadata": {
        "id": "HGG0rqT_8mT-"
      }
    },
    {
      "cell_type": "code",
      "source": [
        "import random\n",
        "\n",
        "class Account:\n",
        "    def __init__(self, name, balance):\n",
        "        self.name = name\n",
        "        self.balance = balance\n",
        "        self.bank = \"SC은행\"\n",
        "        num1 = random.randint(0, 999)\n",
        "        num2 = random.randint(0, 99)\n",
        "        num3 = random.randint(0, 999999)\n",
        "\n",
        "        num1 = str(num1).zfill(3)      # 1 -> '1' -> '001'\n",
        "        num2 = str(num2).zfill(2)      # 1 -> '1' -> '01'\n",
        "        num3 = str(num3).zfill(6)      # 1 -> '1' -> '0000001'\n",
        "        self.account_number = num1 + '-' + num2 + '-' + num3  # 001-01-000001\n",
        "\n",
        "kim = Account(\"김민수\", 100)\n",
        "print(kim.name)\n",
        "print(kim.balance)\n",
        "print(kim.bank)\n",
        "print(kim.account_number)"
      ],
      "metadata": {
        "id": "JzxpMcs78mcV"
      },
      "execution_count": null,
      "outputs": []
    },
    {
      "cell_type": "markdown",
      "source": [
        "272 클래스 변수\n",
        "\n",
        "클래스 변수를 사용해서 Account 클래스로부터 생성된 계좌 객체의 개수를 저장하세요."
      ],
      "metadata": {
        "id": "9aW7inJ8_Ika"
      }
    },
    {
      "cell_type": "code",
      "source": [
        "import random\n",
        "\n",
        "class Account:\n",
        "    # class variable\n",
        "    account_count = 0\n",
        "\n",
        "    def __init__(self, name, balance):\n",
        "        self.name = name\n",
        "        self.balance = balance\n",
        "        self.bank = \"SC은행\"\n",
        "\n",
        "        num1 = random.randint(0, 999)\n",
        "        num2 = random.randint(0, 99)\n",
        "        num3 = random.randint(0, 999999)\n",
        "\n",
        "        num1 = str(num1).zfill(3)      # 1 -> '1' -> '001'\n",
        "        num2 = str(num2).zfill(2)      # 1 -> '1' -> '01'\n",
        "        num3 = str(num3).zfill(6)      # 1 -> '1' -> '0000001'\n",
        "        self.account_number = num1 + '-' + num2 + '-' + num3  # 001-01-000001\n",
        "\n",
        "        Account.account_count += 1\n",
        "\n",
        "\n",
        "kim = Account(\"김민수\", 100)\n",
        "print(Account.account_count)\n",
        "lee = Account(\"이민수\", 100)\n",
        "print(Account.account_count)"
      ],
      "metadata": {
        "id": "Cvxll-H__IqR"
      },
      "execution_count": null,
      "outputs": []
    },
    {
      "cell_type": "markdown",
      "source": [
        "273 클래스 변수 출력\n",
        "\n",
        "Account 클래스로부터 생성된 계좌의 개수를 출력하는 get_account_num() 메서드를 추가하세요."
      ],
      "metadata": {
        "id": "s-2sDQPNBWhc"
      }
    },
    {
      "cell_type": "code",
      "source": [
        "import random\n",
        "\n",
        "class Account:\n",
        "    # class variable\n",
        "    account_count = 0\n",
        "\n",
        "    def __init__(self, name, balance):\n",
        "        self.name = name\n",
        "        self.balance = balance\n",
        "        self.bank = \"SC은행\"\n",
        "\n",
        "        # 3-2-6\n",
        "        num1 = random.randint(0, 999)\n",
        "        num2 = random.randint(0, 99)\n",
        "        num3 = random.randint(0, 999999)\n",
        "\n",
        "        num1 = str(num1).zfill(3)      # 1 -> '1' -> '001'\n",
        "        num2 = str(num2).zfill(2)      # 1 -> '1' -> '01'\n",
        "        num3 = str(num3).zfill(6)      # 1 -> '1' -> '0000001'\n",
        "        self.account_number = num1 + '-' + num2 + '-' + num3  # 001-01-000001\n",
        "        Account.account_count +=1\n",
        "\n",
        "    @classmethod\n",
        "    def get_account_num(cls):\n",
        "        print(cls.account_count)     # Account.account_count\n",
        "\n",
        "\n",
        "kim = Account(\"김민수\", 100)\n",
        "lee = Account(\"이민수\", 100)\n",
        "kim.get_account_num()"
      ],
      "metadata": {
        "id": "YYcuQQvTBWqE"
      },
      "execution_count": null,
      "outputs": []
    },
    {
      "cell_type": "markdown",
      "source": [
        "277 이자 지급하기\n",
        "\n",
        "입금 횟수가 5회가 될 때 잔고를 기준으로 1%의 이자가 잔고에 추가되도록 코드를 변경해보세요."
      ],
      "metadata": {
        "id": "ZZ-AzyUZC5hG"
      }
    },
    {
      "cell_type": "code",
      "source": [
        "import random\n",
        "\n",
        "\n",
        "class Account:\n",
        "    # class variable\n",
        "    account_count = 0\n",
        "\n",
        "    def __init__(self, name, balance):\n",
        "        self.deposit_count = 0\n",
        "\n",
        "        self.name = name\n",
        "        self.balance = balance\n",
        "        self.bank = \"SC은행\"\n",
        "\n",
        "        # 3-2-6\n",
        "        num1 = random.randint(0, 999)\n",
        "        num2 = random.randint(0, 99)\n",
        "        num3 = random.randint(0, 999999)\n",
        "\n",
        "        num1 = str(num1).zfill(3)  # 1 -> '1' -> '001'\n",
        "        num2 = str(num2).zfill(2)  # 1 -> '1' -> '01'\n",
        "        num3 = str(num3).zfill(6)  # 1 -> '1' -> '0000001'\n",
        "        self.account_number = num1 + '-' + num2 + '-' + num3  # 001-01-000001\n",
        "        Account.account_count += 1\n",
        "\n",
        "    @classmethod\n",
        "    def get_account_num(cls):\n",
        "        print(cls.account_count)  # Account.account_count\n",
        "\n",
        "    def deposit(self, amount):\n",
        "        if amount >= 1:\n",
        "            self.balance += amount\n",
        "\n",
        "            self.deposit_count += 1\n",
        "            if self.deposit_count % 5 == 0:         # 5, 10, 15\n",
        "                # 이자 지금\n",
        "                self.balance = (self.balance * 1.01)\n",
        "\n",
        "\n",
        "    def withdraw(self, amount):\n",
        "        if self.balance > amount:\n",
        "            self.balance -= amount\n",
        "\n",
        "    def display_info(self):\n",
        "        print(\"은행이름: \", self.bank)\n",
        "        print(\"예금주: \", self.name)\n",
        "        print(\"계좌번호: \", self.account_number)\n",
        "        print(\"잔고: \", self.balance)\n",
        "\n",
        "p = Account(\"파이썬\", 10000)\n",
        "p.deposit(10000)\n",
        "p.deposit(10000)\n",
        "p.deposit(10000)\n",
        "p.deposit(5000)\n",
        "p.deposit(5000)\n",
        "print(p.balance)"
      ],
      "metadata": {
        "id": "tevHOAdYC5p3"
      },
      "execution_count": null,
      "outputs": []
    },
    {
      "cell_type": "markdown",
      "source": [
        "280 입출금 내역\n",
        "\n",
        "입금과 출금 내역이 기록되도록 코드를 업데이트 하세요. \n",
        "\n",
        "입금 내역과 출금 내역을 출력하는 deposit_history와 withdraw_history 메서드를 추가하세요."
      ],
      "metadata": {
        "id": "mn4_yHB3u8Pi"
      }
    },
    {
      "cell_type": "code",
      "source": [
        "import random\n",
        "\n",
        "\n",
        "class Account:\n",
        "    # class variable\n",
        "    account_count = 0\n",
        "\n",
        "    def __init__(self, name, balance):\n",
        "        self.deposit_count = 0\n",
        "        self.deposit_log = []\n",
        "        self.withdraw_log = []\n",
        "\n",
        "        self.name = name\n",
        "        self.balance = balance\n",
        "        self.bank = \"SC은행\"\n",
        "\n",
        "        # 3-2-6\n",
        "        num1 = random.randint(0, 999)\n",
        "        num2 = random.randint(0, 99)\n",
        "        num3 = random.randint(0, 999999)\n",
        "\n",
        "        num1 = str(num1).zfill(3)  # 1 -> '1' -> '001'\n",
        "        num2 = str(num2).zfill(2)  # 1 -> '1' -> '01'\n",
        "        num3 = str(num3).zfill(6)  # 1 -> '1' -> '0000001'\n",
        "        self.account_number = num1 + '-' + num2 + '-' + num3  # 001-01-000001\n",
        "        Account.account_count += 1\n",
        "\n",
        "    @classmethod\n",
        "    def get_account_num(cls):\n",
        "        print(cls.account_count)  # Account.account_count\n",
        "\n",
        "    def deposit(self, amount):\n",
        "        if amount >= 1:\n",
        "            self.deposit_log.append(amount)\n",
        "            self.balance += amount\n",
        "\n",
        "            self.deposit_count += 1\n",
        "            if self.deposit_count % 5 == 0:         # 5, 10, 15\n",
        "                # 이자 지금\n",
        "                self.balance = (self.balance * 1.01)\n",
        "\n",
        "\n",
        "    def withdraw(self, amount):\n",
        "        if self.balance > amount:\n",
        "            self.withdraw_log.append(amount)\n",
        "            self.balance -= amount\n",
        "\n",
        "    def display_info(self):\n",
        "        print(\"은행이름: \", self.bank)\n",
        "        print(\"예금주: \", self.name)\n",
        "        print(\"계좌번호: \", self.account_number)\n",
        "        print(\"잔고: \", self.balance)\n",
        "\n",
        "    def withdraw_history(self):\n",
        "        for amount in self.withdraw_log:\n",
        "            print(amount)\n",
        "\n",
        "    def deposit_history(self):\n",
        "        for amount in self.deposit_log:\n",
        "            print(amount)\n",
        "\n",
        "\n",
        "k = Account(\"Kim\", 1000)\n",
        "k.deposit(100)\n",
        "k.deposit(200)\n",
        "k.deposit(300)\n",
        "k.deposit_history()\n",
        "\n",
        "k.withdraw(100)\n",
        "k.withdraw(200)\n",
        "k.withdraw_history()"
      ],
      "metadata": {
        "id": "p2SgGqA5u8XS"
      },
      "execution_count": null,
      "outputs": []
    },
    {
      "cell_type": "markdown",
      "source": [
        "293 CSV 파일 쓰기\n",
        "\n",
        "바탕화면에 '매수종목.csv' 파일을 생성한 후 다음과 같이 종목코드와 종목명을 파일에 써보세요. 인코딩은 'cp949'를 사용해야합니다."
      ],
      "metadata": {
        "id": "ByUSbODnz6gJ"
      }
    },
    {
      "cell_type": "code",
      "source": [
        "import csv\n",
        "\n",
        "f = open(\"C:/Users/hyunh/Desktop/매수종목.csv\", mode=\"wt\", encoding=\"cp949\", newline='')\n",
        "writer = csv.writer(f)\n",
        "writer.writerow([\"종목명\", \"종목코드\", \"PER\"])\n",
        "writer.writerow([\"삼성전자\", \"005930\", 15.59])\n",
        "writer.writerow([\"NAVER\", \"035420\", 55.82])\n",
        "f.close()"
      ],
      "metadata": {
        "id": "2zTCEOddz6pQ"
      },
      "execution_count": null,
      "outputs": []
    },
    {
      "cell_type": "markdown",
      "source": [
        "294 파일 읽기\n",
        "\n",
        "바탕화면에 생성한 '매수종목1.txt' 파일을 읽은 후 종목코드를 리스트에 저장해보세요.\n",
        "\n",
        "005930\n",
        "\n",
        "005380\n",
        "\n",
        "035420"
      ],
      "metadata": {
        "id": "ZX-t2GCtF09S"
      }
    },
    {
      "cell_type": "code",
      "source": [
        "f = open(\"C:/Users/hyunh/Desktop/매수종목1.txt\", encoding=\"utf-8\")\n",
        "lines = f.readlines()   # python list\n",
        "\n",
        "codes = []\n",
        "for line in lines:\n",
        "    code = line.strip()  #'\\n'\n",
        "    codes.append(code)\n",
        "\n",
        "print(codes)\n",
        "\n",
        "f.close()"
      ],
      "metadata": {
        "id": "l4LBjA8qF1Eh"
      },
      "execution_count": null,
      "outputs": []
    },
    {
      "cell_type": "markdown",
      "source": [
        "297 예외처리 및 리스트에 저장\n",
        "\n",
        "문자열로 표현된 PER 값을 실수로 변환한 후 이를 새로운 리스트에 저장해보세요.\n",
        "\n",
        "per = [\"10.31\", \"\", \"8.00\"]\n",
        "\n",
        "for i in per:\n",
        "    print(float(per))\n",
        "    "
      ],
      "metadata": {
        "id": "Ix3PKizXIhAU"
      }
    },
    {
      "cell_type": "code",
      "source": [
        "per = [\"10.31\", \"\", \"8.00\"]\n",
        "new_per = []\n",
        "\n",
        "for i in per:\n",
        "    try:\n",
        "        v = float(i)\n",
        "    except:\n",
        "        v = 0\n",
        "    new_per.append(v)\n",
        "\n",
        "print(new_per)"
      ],
      "metadata": {
        "id": "QBNQVYWLIhHN"
      },
      "execution_count": null,
      "outputs": []
    }
  ]
}
