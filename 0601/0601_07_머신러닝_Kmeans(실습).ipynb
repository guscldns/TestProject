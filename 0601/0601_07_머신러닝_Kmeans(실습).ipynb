{
  "cells": [
    {
      "cell_type": "markdown",
      "metadata": {
        "id": "view-in-github",
        "colab_type": "text"
      },
      "source": [
        "<a href=\"https://colab.research.google.com/github/guscldns/TestProject/blob/main/0601/0601_07_%E1%84%86%E1%85%A5%E1%84%89%E1%85%B5%E1%86%AB%E1%84%85%E1%85%A5%E1%84%82%E1%85%B5%E1%86%BC_Kmeans(%E1%84%89%E1%85%B5%E1%86%AF%E1%84%89%E1%85%B3%E1%86%B8).ipynb\" target=\"_parent\"><img src=\"https://colab.research.google.com/assets/colab-badge.svg\" alt=\"Open In Colab\"/></a>"
      ]
    },
    {
      "cell_type": "markdown",
      "id": "6e06afeb",
      "metadata": {
        "id": "6e06afeb"
      },
      "source": [
        "## Kmeans "
      ]
    },
    {
      "cell_type": "code",
      "execution_count": 1,
      "id": "85be93e9",
      "metadata": {
        "id": "85be93e9",
        "outputId": "588f2f96-5595-4be7-ecb2-af151efca009",
        "colab": {
          "base_uri": "https://localhost:8080/",
          "height": 143
        }
      },
      "outputs": [
        {
          "output_type": "execute_result",
          "data": {
            "text/plain": [
              "   sepal_length  sepal_width  petal_length  petal_width\n",
              "0           5.1          3.5           1.4          0.2\n",
              "1           4.9          3.0           1.4          0.2\n",
              "2           4.7          3.2           1.3          0.2"
            ],
            "text/html": [
              "\n",
              "  <div id=\"df-dc3b257b-01a6-44cf-9b75-5833a42f46f6\">\n",
              "    <div class=\"colab-df-container\">\n",
              "      <div>\n",
              "<style scoped>\n",
              "    .dataframe tbody tr th:only-of-type {\n",
              "        vertical-align: middle;\n",
              "    }\n",
              "\n",
              "    .dataframe tbody tr th {\n",
              "        vertical-align: top;\n",
              "    }\n",
              "\n",
              "    .dataframe thead th {\n",
              "        text-align: right;\n",
              "    }\n",
              "</style>\n",
              "<table border=\"1\" class=\"dataframe\">\n",
              "  <thead>\n",
              "    <tr style=\"text-align: right;\">\n",
              "      <th></th>\n",
              "      <th>sepal_length</th>\n",
              "      <th>sepal_width</th>\n",
              "      <th>petal_length</th>\n",
              "      <th>petal_width</th>\n",
              "    </tr>\n",
              "  </thead>\n",
              "  <tbody>\n",
              "    <tr>\n",
              "      <th>0</th>\n",
              "      <td>5.1</td>\n",
              "      <td>3.5</td>\n",
              "      <td>1.4</td>\n",
              "      <td>0.2</td>\n",
              "    </tr>\n",
              "    <tr>\n",
              "      <th>1</th>\n",
              "      <td>4.9</td>\n",
              "      <td>3.0</td>\n",
              "      <td>1.4</td>\n",
              "      <td>0.2</td>\n",
              "    </tr>\n",
              "    <tr>\n",
              "      <th>2</th>\n",
              "      <td>4.7</td>\n",
              "      <td>3.2</td>\n",
              "      <td>1.3</td>\n",
              "      <td>0.2</td>\n",
              "    </tr>\n",
              "  </tbody>\n",
              "</table>\n",
              "</div>\n",
              "      <button class=\"colab-df-convert\" onclick=\"convertToInteractive('df-dc3b257b-01a6-44cf-9b75-5833a42f46f6')\"\n",
              "              title=\"Convert this dataframe to an interactive table.\"\n",
              "              style=\"display:none;\">\n",
              "        \n",
              "  <svg xmlns=\"http://www.w3.org/2000/svg\" height=\"24px\"viewBox=\"0 0 24 24\"\n",
              "       width=\"24px\">\n",
              "    <path d=\"M0 0h24v24H0V0z\" fill=\"none\"/>\n",
              "    <path d=\"M18.56 5.44l.94 2.06.94-2.06 2.06-.94-2.06-.94-.94-2.06-.94 2.06-2.06.94zm-11 1L8.5 8.5l.94-2.06 2.06-.94-2.06-.94L8.5 2.5l-.94 2.06-2.06.94zm10 10l.94 2.06.94-2.06 2.06-.94-2.06-.94-.94-2.06-.94 2.06-2.06.94z\"/><path d=\"M17.41 7.96l-1.37-1.37c-.4-.4-.92-.59-1.43-.59-.52 0-1.04.2-1.43.59L10.3 9.45l-7.72 7.72c-.78.78-.78 2.05 0 2.83L4 21.41c.39.39.9.59 1.41.59.51 0 1.02-.2 1.41-.59l7.78-7.78 2.81-2.81c.8-.78.8-2.07 0-2.86zM5.41 20L4 18.59l7.72-7.72 1.47 1.35L5.41 20z\"/>\n",
              "  </svg>\n",
              "      </button>\n",
              "      \n",
              "  <style>\n",
              "    .colab-df-container {\n",
              "      display:flex;\n",
              "      flex-wrap:wrap;\n",
              "      gap: 12px;\n",
              "    }\n",
              "\n",
              "    .colab-df-convert {\n",
              "      background-color: #E8F0FE;\n",
              "      border: none;\n",
              "      border-radius: 50%;\n",
              "      cursor: pointer;\n",
              "      display: none;\n",
              "      fill: #1967D2;\n",
              "      height: 32px;\n",
              "      padding: 0 0 0 0;\n",
              "      width: 32px;\n",
              "    }\n",
              "\n",
              "    .colab-df-convert:hover {\n",
              "      background-color: #E2EBFA;\n",
              "      box-shadow: 0px 1px 2px rgba(60, 64, 67, 0.3), 0px 1px 3px 1px rgba(60, 64, 67, 0.15);\n",
              "      fill: #174EA6;\n",
              "    }\n",
              "\n",
              "    [theme=dark] .colab-df-convert {\n",
              "      background-color: #3B4455;\n",
              "      fill: #D2E3FC;\n",
              "    }\n",
              "\n",
              "    [theme=dark] .colab-df-convert:hover {\n",
              "      background-color: #434B5C;\n",
              "      box-shadow: 0px 1px 3px 1px rgba(0, 0, 0, 0.15);\n",
              "      filter: drop-shadow(0px 1px 2px rgba(0, 0, 0, 0.3));\n",
              "      fill: #FFFFFF;\n",
              "    }\n",
              "  </style>\n",
              "\n",
              "      <script>\n",
              "        const buttonEl =\n",
              "          document.querySelector('#df-dc3b257b-01a6-44cf-9b75-5833a42f46f6 button.colab-df-convert');\n",
              "        buttonEl.style.display =\n",
              "          google.colab.kernel.accessAllowed ? 'block' : 'none';\n",
              "\n",
              "        async function convertToInteractive(key) {\n",
              "          const element = document.querySelector('#df-dc3b257b-01a6-44cf-9b75-5833a42f46f6');\n",
              "          const dataTable =\n",
              "            await google.colab.kernel.invokeFunction('convertToInteractive',\n",
              "                                                     [key], {});\n",
              "          if (!dataTable) return;\n",
              "\n",
              "          const docLinkHtml = 'Like what you see? Visit the ' +\n",
              "            '<a target=\"_blank\" href=https://colab.research.google.com/notebooks/data_table.ipynb>data table notebook</a>'\n",
              "            + ' to learn more about interactive tables.';\n",
              "          element.innerHTML = '';\n",
              "          dataTable['output_type'] = 'display_data';\n",
              "          await google.colab.output.renderOutput(dataTable, element);\n",
              "          const docLink = document.createElement('div');\n",
              "          docLink.innerHTML = docLinkHtml;\n",
              "          element.appendChild(docLink);\n",
              "        }\n",
              "      </script>\n",
              "    </div>\n",
              "  </div>\n",
              "  "
            ]
          },
          "metadata": {},
          "execution_count": 1
        }
      ],
      "source": [
        "from sklearn.preprocessing import scale\n",
        "from sklearn.datasets import load_iris\n",
        "import matplotlib.pyplot as plt\n",
        "import numpy as np\n",
        "import pandas as pd\n",
        "%matplotlib inline\n",
        "\n",
        "iris = load_iris()\n",
        "# 보다 편리한 데이터 Handling을 위해 DataFrame으로 변환\n",
        "irisDF = pd.DataFrame(data=iris.data, columns=['sepal_length','sepal_width','petal_length','petal_width'])\n",
        "irisDF.head(3)"
      ]
    },
    {
      "cell_type": "markdown",
      "id": "cfd909d0",
      "metadata": {
        "id": "cfd909d0"
      },
      "source": [
        "Iris Dataset은 원래 label이 제공되지만, label이 없다고 가정하고 K-Mean 알고리즘으로 위 데이터를 그룹화 시켜봅시다. "
      ]
    },
    {
      "cell_type": "markdown",
      "id": "cc6d7140",
      "metadata": {
        "id": "cc6d7140"
      },
      "source": [
        "### 모델링"
      ]
    },
    {
      "cell_type": "markdown",
      "id": "fb9dcd09",
      "metadata": {
        "id": "fb9dcd09"
      },
      "source": [
        "클러스터링 하려는 그룹의 수 k 를 지정해줘야 합니다. sklearn에서는 n_clusters 옵션으로 지정할 수 있습니다"
      ]
    },
    {
      "cell_type": "code",
      "execution_count": 2,
      "id": "a3ab918a",
      "metadata": {
        "id": "a3ab918a"
      },
      "outputs": [],
      "source": [
        "from sklearn.cluster import KMeans\n",
        "\n",
        "X = iris.data\n",
        "\n",
        "# 모델 객체 생성\n",
        "kmeans = KMeans(n_clusters=3, random_state = 19) \n",
        "#클러스터가 3개인 것을 알고 있어서 n_clusters=3\n",
        "#n_clusters: 중심점 개수 "
      ]
    },
    {
      "cell_type": "code",
      "source": [
        "X"
      ],
      "metadata": {
        "id": "lvuIJoRQI0Su"
      },
      "id": "lvuIJoRQI0Su",
      "execution_count": null,
      "outputs": []
    },
    {
      "cell_type": "code",
      "execution_count": 3,
      "id": "62612edb",
      "metadata": {
        "id": "62612edb",
        "outputId": "b28177b6-7331-4639-ec5d-e012e3818a51",
        "colab": {
          "base_uri": "https://localhost:8080/",
          "height": 131
        }
      },
      "outputs": [
        {
          "output_type": "stream",
          "name": "stderr",
          "text": [
            "/usr/local/lib/python3.10/dist-packages/sklearn/cluster/_kmeans.py:870: FutureWarning: The default value of `n_init` will change from 10 to 'auto' in 1.4. Set the value of `n_init` explicitly to suppress the warning\n",
            "  warnings.warn(\n"
          ]
        },
        {
          "output_type": "execute_result",
          "data": {
            "text/plain": [
              "KMeans(n_clusters=3, random_state=19)"
            ],
            "text/html": [
              "<style>#sk-container-id-1 {color: black;background-color: white;}#sk-container-id-1 pre{padding: 0;}#sk-container-id-1 div.sk-toggleable {background-color: white;}#sk-container-id-1 label.sk-toggleable__label {cursor: pointer;display: block;width: 100%;margin-bottom: 0;padding: 0.3em;box-sizing: border-box;text-align: center;}#sk-container-id-1 label.sk-toggleable__label-arrow:before {content: \"▸\";float: left;margin-right: 0.25em;color: #696969;}#sk-container-id-1 label.sk-toggleable__label-arrow:hover:before {color: black;}#sk-container-id-1 div.sk-estimator:hover label.sk-toggleable__label-arrow:before {color: black;}#sk-container-id-1 div.sk-toggleable__content {max-height: 0;max-width: 0;overflow: hidden;text-align: left;background-color: #f0f8ff;}#sk-container-id-1 div.sk-toggleable__content pre {margin: 0.2em;color: black;border-radius: 0.25em;background-color: #f0f8ff;}#sk-container-id-1 input.sk-toggleable__control:checked~div.sk-toggleable__content {max-height: 200px;max-width: 100%;overflow: auto;}#sk-container-id-1 input.sk-toggleable__control:checked~label.sk-toggleable__label-arrow:before {content: \"▾\";}#sk-container-id-1 div.sk-estimator input.sk-toggleable__control:checked~label.sk-toggleable__label {background-color: #d4ebff;}#sk-container-id-1 div.sk-label input.sk-toggleable__control:checked~label.sk-toggleable__label {background-color: #d4ebff;}#sk-container-id-1 input.sk-hidden--visually {border: 0;clip: rect(1px 1px 1px 1px);clip: rect(1px, 1px, 1px, 1px);height: 1px;margin: -1px;overflow: hidden;padding: 0;position: absolute;width: 1px;}#sk-container-id-1 div.sk-estimator {font-family: monospace;background-color: #f0f8ff;border: 1px dotted black;border-radius: 0.25em;box-sizing: border-box;margin-bottom: 0.5em;}#sk-container-id-1 div.sk-estimator:hover {background-color: #d4ebff;}#sk-container-id-1 div.sk-parallel-item::after {content: \"\";width: 100%;border-bottom: 1px solid gray;flex-grow: 1;}#sk-container-id-1 div.sk-label:hover label.sk-toggleable__label {background-color: #d4ebff;}#sk-container-id-1 div.sk-serial::before {content: \"\";position: absolute;border-left: 1px solid gray;box-sizing: border-box;top: 0;bottom: 0;left: 50%;z-index: 0;}#sk-container-id-1 div.sk-serial {display: flex;flex-direction: column;align-items: center;background-color: white;padding-right: 0.2em;padding-left: 0.2em;position: relative;}#sk-container-id-1 div.sk-item {position: relative;z-index: 1;}#sk-container-id-1 div.sk-parallel {display: flex;align-items: stretch;justify-content: center;background-color: white;position: relative;}#sk-container-id-1 div.sk-item::before, #sk-container-id-1 div.sk-parallel-item::before {content: \"\";position: absolute;border-left: 1px solid gray;box-sizing: border-box;top: 0;bottom: 0;left: 50%;z-index: -1;}#sk-container-id-1 div.sk-parallel-item {display: flex;flex-direction: column;z-index: 1;position: relative;background-color: white;}#sk-container-id-1 div.sk-parallel-item:first-child::after {align-self: flex-end;width: 50%;}#sk-container-id-1 div.sk-parallel-item:last-child::after {align-self: flex-start;width: 50%;}#sk-container-id-1 div.sk-parallel-item:only-child::after {width: 0;}#sk-container-id-1 div.sk-dashed-wrapped {border: 1px dashed gray;margin: 0 0.4em 0.5em 0.4em;box-sizing: border-box;padding-bottom: 0.4em;background-color: white;}#sk-container-id-1 div.sk-label label {font-family: monospace;font-weight: bold;display: inline-block;line-height: 1.2em;}#sk-container-id-1 div.sk-label-container {text-align: center;}#sk-container-id-1 div.sk-container {/* jupyter's `normalize.less` sets `[hidden] { display: none; }` but bootstrap.min.css set `[hidden] { display: none !important; }` so we also need the `!important` here to be able to override the default hidden behavior on the sphinx rendered scikit-learn.org. See: https://github.com/scikit-learn/scikit-learn/issues/21755 */display: inline-block !important;position: relative;}#sk-container-id-1 div.sk-text-repr-fallback {display: none;}</style><div id=\"sk-container-id-1\" class=\"sk-top-container\"><div class=\"sk-text-repr-fallback\"><pre>KMeans(n_clusters=3, random_state=19)</pre><b>In a Jupyter environment, please rerun this cell to show the HTML representation or trust the notebook. <br />On GitHub, the HTML representation is unable to render, please try loading this page with nbviewer.org.</b></div><div class=\"sk-container\" hidden><div class=\"sk-item\"><div class=\"sk-estimator sk-toggleable\"><input class=\"sk-toggleable__control sk-hidden--visually\" id=\"sk-estimator-id-1\" type=\"checkbox\" checked><label for=\"sk-estimator-id-1\" class=\"sk-toggleable__label sk-toggleable__label-arrow\">KMeans</label><div class=\"sk-toggleable__content\"><pre>KMeans(n_clusters=3, random_state=19)</pre></div></div></div></div></div>"
            ]
          },
          "metadata": {},
          "execution_count": 3
        }
      ],
      "source": [
        "kmeans.fit(X)"
      ]
    },
    {
      "cell_type": "markdown",
      "id": "b78e490b",
      "metadata": {
        "id": "b78e490b"
      },
      "source": [
        "Kmeans를 수행한 다음 각 데이터를 그룹에 할당할 수 있습니다. "
      ]
    },
    {
      "cell_type": "code",
      "execution_count": 4,
      "id": "b8aa6598",
      "metadata": {
        "id": "b8aa6598",
        "outputId": "927930ee-fb30-4b7d-e645-4f73d3bcab41",
        "colab": {
          "base_uri": "https://localhost:8080/"
        }
      },
      "outputs": [
        {
          "output_type": "execute_result",
          "data": {
            "text/plain": [
              "array([1, 1, 1, 1, 1, 1, 1, 1, 1, 1, 1, 1, 1, 1, 1, 1, 1, 1, 1, 1, 1, 1,\n",
              "       1, 1, 1, 1, 1, 1, 1, 1, 1, 1, 1, 1, 1, 1, 1, 1, 1, 1, 1, 1, 1, 1,\n",
              "       1, 1, 1, 1, 1, 1, 0, 0, 2, 0, 0, 0, 0, 0, 0, 0, 0, 0, 0, 0, 0, 0,\n",
              "       0, 0, 0, 0, 0, 0, 0, 0, 0, 0, 0, 2, 0, 0, 0, 0, 0, 0, 0, 0, 0, 0,\n",
              "       0, 0, 0, 0, 0, 0, 0, 0, 0, 0, 0, 0, 2, 0, 2, 2, 2, 2, 0, 2, 2, 2,\n",
              "       2, 2, 2, 0, 0, 2, 2, 2, 2, 0, 2, 0, 2, 0, 2, 2, 0, 0, 2, 2, 2, 2,\n",
              "       2, 0, 2, 2, 2, 2, 0, 2, 2, 2, 0, 2, 2, 2, 0, 2, 2, 0], dtype=int32)"
            ]
          },
          "metadata": {},
          "execution_count": 4
        }
      ],
      "source": [
        "kmeans.predict(X) #3개의 클러스터에 각각 들어가 있는 것을 볼 수 있음"
      ]
    },
    {
      "cell_type": "code",
      "source": [
        "irisDF\n",
        "# cluster : 클러스드 할당\n",
        "# 클러스트와 target 비교하면 몇개 잘못분류되어 있는 것 확인 가능"
      ],
      "metadata": {
        "colab": {
          "base_uri": "https://localhost:8080/",
          "height": 423
        },
        "id": "KNqpQTLMJGX6",
        "outputId": "32d6bf1c-fdba-4306-fee0-58784fd4540a"
      },
      "id": "KNqpQTLMJGX6",
      "execution_count": 18,
      "outputs": [
        {
          "output_type": "execute_result",
          "data": {
            "text/plain": [
              "     sepal_length  sepal_width  petal_length  petal_width  target  cluster  \\\n",
              "0             5.1          3.5           1.4          0.2       0        1   \n",
              "1             4.9          3.0           1.4          0.2       0        1   \n",
              "2             4.7          3.2           1.3          0.2       0        1   \n",
              "3             4.6          3.1           1.5          0.2       0        1   \n",
              "4             5.0          3.6           1.4          0.2       0        1   \n",
              "..            ...          ...           ...          ...     ...      ...   \n",
              "145           6.7          3.0           5.2          2.3       2        2   \n",
              "146           6.3          2.5           5.0          1.9       2        0   \n",
              "147           6.5          3.0           5.2          2.0       2        2   \n",
              "148           6.2          3.4           5.4          2.3       2        2   \n",
              "149           5.9          3.0           5.1          1.8       2        0   \n",
              "\n",
              "     silhouette_coeff  \n",
              "0            0.852955  \n",
              "1            0.815495  \n",
              "2            0.829315  \n",
              "3            0.805014  \n",
              "4            0.849302  \n",
              "..                ...  \n",
              "145          0.425136  \n",
              "146          0.104171  \n",
              "147          0.314930  \n",
              "148          0.352454  \n",
              "149          0.185442  \n",
              "\n",
              "[150 rows x 7 columns]"
            ],
            "text/html": [
              "\n",
              "  <div id=\"df-c0a2c2c9-fb99-4025-9f5f-39c3c859212f\">\n",
              "    <div class=\"colab-df-container\">\n",
              "      <div>\n",
              "<style scoped>\n",
              "    .dataframe tbody tr th:only-of-type {\n",
              "        vertical-align: middle;\n",
              "    }\n",
              "\n",
              "    .dataframe tbody tr th {\n",
              "        vertical-align: top;\n",
              "    }\n",
              "\n",
              "    .dataframe thead th {\n",
              "        text-align: right;\n",
              "    }\n",
              "</style>\n",
              "<table border=\"1\" class=\"dataframe\">\n",
              "  <thead>\n",
              "    <tr style=\"text-align: right;\">\n",
              "      <th></th>\n",
              "      <th>sepal_length</th>\n",
              "      <th>sepal_width</th>\n",
              "      <th>petal_length</th>\n",
              "      <th>petal_width</th>\n",
              "      <th>target</th>\n",
              "      <th>cluster</th>\n",
              "      <th>silhouette_coeff</th>\n",
              "    </tr>\n",
              "  </thead>\n",
              "  <tbody>\n",
              "    <tr>\n",
              "      <th>0</th>\n",
              "      <td>5.1</td>\n",
              "      <td>3.5</td>\n",
              "      <td>1.4</td>\n",
              "      <td>0.2</td>\n",
              "      <td>0</td>\n",
              "      <td>1</td>\n",
              "      <td>0.852955</td>\n",
              "    </tr>\n",
              "    <tr>\n",
              "      <th>1</th>\n",
              "      <td>4.9</td>\n",
              "      <td>3.0</td>\n",
              "      <td>1.4</td>\n",
              "      <td>0.2</td>\n",
              "      <td>0</td>\n",
              "      <td>1</td>\n",
              "      <td>0.815495</td>\n",
              "    </tr>\n",
              "    <tr>\n",
              "      <th>2</th>\n",
              "      <td>4.7</td>\n",
              "      <td>3.2</td>\n",
              "      <td>1.3</td>\n",
              "      <td>0.2</td>\n",
              "      <td>0</td>\n",
              "      <td>1</td>\n",
              "      <td>0.829315</td>\n",
              "    </tr>\n",
              "    <tr>\n",
              "      <th>3</th>\n",
              "      <td>4.6</td>\n",
              "      <td>3.1</td>\n",
              "      <td>1.5</td>\n",
              "      <td>0.2</td>\n",
              "      <td>0</td>\n",
              "      <td>1</td>\n",
              "      <td>0.805014</td>\n",
              "    </tr>\n",
              "    <tr>\n",
              "      <th>4</th>\n",
              "      <td>5.0</td>\n",
              "      <td>3.6</td>\n",
              "      <td>1.4</td>\n",
              "      <td>0.2</td>\n",
              "      <td>0</td>\n",
              "      <td>1</td>\n",
              "      <td>0.849302</td>\n",
              "    </tr>\n",
              "    <tr>\n",
              "      <th>...</th>\n",
              "      <td>...</td>\n",
              "      <td>...</td>\n",
              "      <td>...</td>\n",
              "      <td>...</td>\n",
              "      <td>...</td>\n",
              "      <td>...</td>\n",
              "      <td>...</td>\n",
              "    </tr>\n",
              "    <tr>\n",
              "      <th>145</th>\n",
              "      <td>6.7</td>\n",
              "      <td>3.0</td>\n",
              "      <td>5.2</td>\n",
              "      <td>2.3</td>\n",
              "      <td>2</td>\n",
              "      <td>2</td>\n",
              "      <td>0.425136</td>\n",
              "    </tr>\n",
              "    <tr>\n",
              "      <th>146</th>\n",
              "      <td>6.3</td>\n",
              "      <td>2.5</td>\n",
              "      <td>5.0</td>\n",
              "      <td>1.9</td>\n",
              "      <td>2</td>\n",
              "      <td>0</td>\n",
              "      <td>0.104171</td>\n",
              "    </tr>\n",
              "    <tr>\n",
              "      <th>147</th>\n",
              "      <td>6.5</td>\n",
              "      <td>3.0</td>\n",
              "      <td>5.2</td>\n",
              "      <td>2.0</td>\n",
              "      <td>2</td>\n",
              "      <td>2</td>\n",
              "      <td>0.314930</td>\n",
              "    </tr>\n",
              "    <tr>\n",
              "      <th>148</th>\n",
              "      <td>6.2</td>\n",
              "      <td>3.4</td>\n",
              "      <td>5.4</td>\n",
              "      <td>2.3</td>\n",
              "      <td>2</td>\n",
              "      <td>2</td>\n",
              "      <td>0.352454</td>\n",
              "    </tr>\n",
              "    <tr>\n",
              "      <th>149</th>\n",
              "      <td>5.9</td>\n",
              "      <td>3.0</td>\n",
              "      <td>5.1</td>\n",
              "      <td>1.8</td>\n",
              "      <td>2</td>\n",
              "      <td>0</td>\n",
              "      <td>0.185442</td>\n",
              "    </tr>\n",
              "  </tbody>\n",
              "</table>\n",
              "<p>150 rows × 7 columns</p>\n",
              "</div>\n",
              "      <button class=\"colab-df-convert\" onclick=\"convertToInteractive('df-c0a2c2c9-fb99-4025-9f5f-39c3c859212f')\"\n",
              "              title=\"Convert this dataframe to an interactive table.\"\n",
              "              style=\"display:none;\">\n",
              "        \n",
              "  <svg xmlns=\"http://www.w3.org/2000/svg\" height=\"24px\"viewBox=\"0 0 24 24\"\n",
              "       width=\"24px\">\n",
              "    <path d=\"M0 0h24v24H0V0z\" fill=\"none\"/>\n",
              "    <path d=\"M18.56 5.44l.94 2.06.94-2.06 2.06-.94-2.06-.94-.94-2.06-.94 2.06-2.06.94zm-11 1L8.5 8.5l.94-2.06 2.06-.94-2.06-.94L8.5 2.5l-.94 2.06-2.06.94zm10 10l.94 2.06.94-2.06 2.06-.94-2.06-.94-.94-2.06-.94 2.06-2.06.94z\"/><path d=\"M17.41 7.96l-1.37-1.37c-.4-.4-.92-.59-1.43-.59-.52 0-1.04.2-1.43.59L10.3 9.45l-7.72 7.72c-.78.78-.78 2.05 0 2.83L4 21.41c.39.39.9.59 1.41.59.51 0 1.02-.2 1.41-.59l7.78-7.78 2.81-2.81c.8-.78.8-2.07 0-2.86zM5.41 20L4 18.59l7.72-7.72 1.47 1.35L5.41 20z\"/>\n",
              "  </svg>\n",
              "      </button>\n",
              "      \n",
              "  <style>\n",
              "    .colab-df-container {\n",
              "      display:flex;\n",
              "      flex-wrap:wrap;\n",
              "      gap: 12px;\n",
              "    }\n",
              "\n",
              "    .colab-df-convert {\n",
              "      background-color: #E8F0FE;\n",
              "      border: none;\n",
              "      border-radius: 50%;\n",
              "      cursor: pointer;\n",
              "      display: none;\n",
              "      fill: #1967D2;\n",
              "      height: 32px;\n",
              "      padding: 0 0 0 0;\n",
              "      width: 32px;\n",
              "    }\n",
              "\n",
              "    .colab-df-convert:hover {\n",
              "      background-color: #E2EBFA;\n",
              "      box-shadow: 0px 1px 2px rgba(60, 64, 67, 0.3), 0px 1px 3px 1px rgba(60, 64, 67, 0.15);\n",
              "      fill: #174EA6;\n",
              "    }\n",
              "\n",
              "    [theme=dark] .colab-df-convert {\n",
              "      background-color: #3B4455;\n",
              "      fill: #D2E3FC;\n",
              "    }\n",
              "\n",
              "    [theme=dark] .colab-df-convert:hover {\n",
              "      background-color: #434B5C;\n",
              "      box-shadow: 0px 1px 3px 1px rgba(0, 0, 0, 0.15);\n",
              "      filter: drop-shadow(0px 1px 2px rgba(0, 0, 0, 0.3));\n",
              "      fill: #FFFFFF;\n",
              "    }\n",
              "  </style>\n",
              "\n",
              "      <script>\n",
              "        const buttonEl =\n",
              "          document.querySelector('#df-c0a2c2c9-fb99-4025-9f5f-39c3c859212f button.colab-df-convert');\n",
              "        buttonEl.style.display =\n",
              "          google.colab.kernel.accessAllowed ? 'block' : 'none';\n",
              "\n",
              "        async function convertToInteractive(key) {\n",
              "          const element = document.querySelector('#df-c0a2c2c9-fb99-4025-9f5f-39c3c859212f');\n",
              "          const dataTable =\n",
              "            await google.colab.kernel.invokeFunction('convertToInteractive',\n",
              "                                                     [key], {});\n",
              "          if (!dataTable) return;\n",
              "\n",
              "          const docLinkHtml = 'Like what you see? Visit the ' +\n",
              "            '<a target=\"_blank\" href=https://colab.research.google.com/notebooks/data_table.ipynb>data table notebook</a>'\n",
              "            + ' to learn more about interactive tables.';\n",
              "          element.innerHTML = '';\n",
              "          dataTable['output_type'] = 'display_data';\n",
              "          await google.colab.output.renderOutput(dataTable, element);\n",
              "          const docLink = document.createElement('div');\n",
              "          docLink.innerHTML = docLinkHtml;\n",
              "          element.appendChild(docLink);\n",
              "        }\n",
              "      </script>\n",
              "    </div>\n",
              "  </div>\n",
              "  "
            ]
          },
          "metadata": {},
          "execution_count": 18
        }
      ]
    },
    {
      "cell_type": "markdown",
      "id": "3e346a97",
      "metadata": {
        "id": "3e346a97"
      },
      "source": [
        "iris 데이터의 원래 그룹과 함께 비교해보면 아래처럼 클러스터가 배정되었습니다. "
      ]
    },
    {
      "cell_type": "code",
      "execution_count": 20,
      "id": "97fec4b8",
      "metadata": {
        "id": "97fec4b8",
        "outputId": "dcf798de-ac01-45fa-ff60-83e8cc7817a0",
        "colab": {
          "base_uri": "https://localhost:8080/"
        }
      },
      "outputs": [
        {
          "output_type": "stream",
          "name": "stdout",
          "text": [
            "target  cluster\n",
            "0       1          50\n",
            "1       0          48\n",
            "        2           2\n",
            "2       0          14\n",
            "        2          36\n",
            "Name: sepal_length, dtype: int64\n"
          ]
        }
      ],
      "source": [
        "irisDF['target'] = iris.target\n",
        "irisDF['cluster'] = kmeans.labels_\n",
        "iris_result = irisDF.groupby(['target','cluster'])['sepal_length'].count()\n",
        "# 원래 target인 애가 cluster에 어디 있는지 알 수 있음\n",
        "print(iris_result)\n"
      ]
    },
    {
      "cell_type": "markdown",
      "id": "a4c4d6eb",
      "metadata": {
        "id": "a4c4d6eb"
      },
      "source": [
        "### 결과 시각화"
      ]
    },
    {
      "cell_type": "markdown",
      "id": "8a787b53",
      "metadata": {
        "id": "8a787b53"
      },
      "source": [
        "결과를 시각화해봅시다. "
      ]
    },
    {
      "cell_type": "markdown",
      "source": [],
      "metadata": {
        "id": "YNLXlMXdJof7"
      },
      "id": "YNLXlMXdJof7"
    },
    {
      "cell_type": "code",
      "source": [
        "# 클러스터링 결과를 시각화합니다\n",
        "x1 = X[:, 0]\n",
        "x2 = X[:, 1]\n",
        "plt.scatter(x1, x2, c=iris.target, alpha=0.5) #irls target으로 본 그래프\n",
        "plt.xlabel('sepal length (cm)')\n",
        "plt.ylabel('sepal width (cm)')\n",
        "plt.show()"
      ],
      "metadata": {
        "colab": {
          "base_uri": "https://localhost:8080/",
          "height": 452
        },
        "id": "drbphvfoJqAz",
        "outputId": "0f457393-92eb-445e-ba1e-3fec9fd5194d"
      },
      "id": "drbphvfoJqAz",
      "execution_count": 22,
      "outputs": [
        {
          "output_type": "display_data",
          "data": {
            "text/plain": [
              "<Figure size 640x480 with 1 Axes>"
            ],
            "image/png": "[encoded data removed]"
          },
          "metadata": {}
        }
      ]
    },
    {
      "cell_type": "code",
      "execution_count": 6,
      "id": "6717ca8a",
      "metadata": {
        "id": "6717ca8a",
        "outputId": "244e623f-54e5-4ebf-9022-4a44fcf625e5",
        "colab": {
          "base_uri": "https://localhost:8080/",
          "height": 452
        }
      },
      "outputs": [
        {
          "output_type": "display_data",
          "data": {
            "text/plain": [
              "<Figure size 640x480 with 1 Axes>"
            ],
            "image/png": "[encoded data removed]"
          },
          "metadata": {}
        }
      ],
      "source": [
        "# 클러스터링 결과를 시각화합니다\n",
        "x1 = X[:, 0]\n",
        "x2 = X[:, 1]\n",
        "plt.scatter(x1, x2, c=kmeans.labels_, alpha=0.5) # 클러스터로 본 그래프\n",
        "plt.xlabel('sepal length (cm)')\n",
        "plt.ylabel('sepal width (cm)')\n",
        "plt.show()"
      ]
    },
    {
      "cell_type": "markdown",
      "id": "e6415965",
      "metadata": {
        "id": "e6415965"
      },
      "source": [
        "### 클러스터 개수 정하기"
      ]
    },
    {
      "cell_type": "markdown",
      "id": "7b296f94",
      "metadata": {
        "id": "7b296f94"
      },
      "source": [
        "KMeans 객체는 내부적으로 .inertia_ 속성을 가지고 있습니다. \n",
        "\n",
        " Inertia value는 군집화가된 후에, 각 중심점에서 군집의 데이타간의 거리를 합산한것이으로 군집의 응집도를 나타내는 값입니다.   \n",
        " -> 이 값이 작을 수록 응집도가 높게 군집화가 잘되었다고 평가합니다. "
      ]
    },
    {
      "cell_type": "code",
      "source": [
        "model.inertia_ # 각 샘플별로 클러스터에 할당되어 있던 거리 = 응집도"
      ],
      "metadata": {
        "colab": {
          "base_uri": "https://localhost:8080/"
        },
        "id": "jDRDBvyuKA8a",
        "outputId": "eb187fe2-b5ed-451c-ed63-eeadea8a61f0"
      },
      "id": "jDRDBvyuKA8a",
      "execution_count": 23,
      "outputs": [
        {
          "output_type": "execute_result",
          "data": {
            "text/plain": [
              "30.254686147186156"
            ]
          },
          "metadata": {},
          "execution_count": 23
        }
      ]
    },
    {
      "cell_type": "code",
      "execution_count": 7,
      "id": "a741f3a8",
      "metadata": {
        "id": "a741f3a8",
        "outputId": "a76ab42f-495a-45d5-b871-62690af68aa0",
        "colab": {
          "base_uri": "https://localhost:8080/",
          "height": 759
        }
      },
      "outputs": [
        {
          "output_type": "stream",
          "name": "stderr",
          "text": [
            "/usr/local/lib/python3.10/dist-packages/sklearn/cluster/_kmeans.py:870: FutureWarning: The default value of `n_init` will change from 10 to 'auto' in 1.4. Set the value of `n_init` explicitly to suppress the warning\n",
            "  warnings.warn(\n",
            "/usr/local/lib/python3.10/dist-packages/sklearn/cluster/_kmeans.py:870: FutureWarning: The default value of `n_init` will change from 10 to 'auto' in 1.4. Set the value of `n_init` explicitly to suppress the warning\n",
            "  warnings.warn(\n",
            "/usr/local/lib/python3.10/dist-packages/sklearn/cluster/_kmeans.py:870: FutureWarning: The default value of `n_init` will change from 10 to 'auto' in 1.4. Set the value of `n_init` explicitly to suppress the warning\n",
            "  warnings.warn(\n",
            "/usr/local/lib/python3.10/dist-packages/sklearn/cluster/_kmeans.py:870: FutureWarning: The default value of `n_init` will change from 10 to 'auto' in 1.4. Set the value of `n_init` explicitly to suppress the warning\n",
            "  warnings.warn(\n",
            "/usr/local/lib/python3.10/dist-packages/sklearn/cluster/_kmeans.py:870: FutureWarning: The default value of `n_init` will change from 10 to 'auto' in 1.4. Set the value of `n_init` explicitly to suppress the warning\n",
            "  warnings.warn(\n",
            "/usr/local/lib/python3.10/dist-packages/sklearn/cluster/_kmeans.py:870: FutureWarning: The default value of `n_init` will change from 10 to 'auto' in 1.4. Set the value of `n_init` explicitly to suppress the warning\n",
            "  warnings.warn(\n",
            "/usr/local/lib/python3.10/dist-packages/sklearn/cluster/_kmeans.py:870: FutureWarning: The default value of `n_init` will change from 10 to 'auto' in 1.4. Set the value of `n_init` explicitly to suppress the warning\n",
            "  warnings.warn(\n",
            "/usr/local/lib/python3.10/dist-packages/sklearn/cluster/_kmeans.py:870: FutureWarning: The default value of `n_init` will change from 10 to 'auto' in 1.4. Set the value of `n_init` explicitly to suppress the warning\n",
            "  warnings.warn(\n"
          ]
        },
        {
          "output_type": "display_data",
          "data": {
            "text/plain": [
              "<Figure size 640x480 with 1 Axes>"
            ],
            "image/png": "[encoded data removed]"
          },
          "metadata": {}
        }
      ],
      "source": [
        "num_clusters = list(range(1, 9))\t# K는 1 ~ 8사이의 정수입니다, k means를 1-8까지 순서대로 fitting 해보려고 함\n",
        "inertias = []\n",
        "# 각 K별로 모델을 생성하여 inertia를 측정합니다\n",
        "for i in num_clusters:\n",
        "    model = KMeans(n_clusters=i)\n",
        "    model.fit(X)\n",
        "    inertias.append(model.inertia_) # 지표확인 시 inertia_ 지표확인하면서 움직이면 됩니다\n",
        "# K에 따른 inertia의 변화를 시각화합니다\n",
        "plt.plot(num_clusters, inertias, '-o')\n",
        "plt.xlabel('Number of Clusters (k)')\n",
        "plt.ylabel('Inertia')\n",
        "plt.show()\n",
        "# 그래프를 보니 3-5 사이 값이 안정적인 것을 볼 수 있음 >> 클러스트 3-5로 주는 것이 좋음"
      ]
    },
    {
      "cell_type": "markdown",
      "id": "6adebe59",
      "metadata": {
        "id": "6adebe59"
      },
      "source": [
        "일반적으로 클러스터의 수가 증가할 수록 inertia는 감소하게 됩니다. 궁극적으로 클러스터의 수와 inertia간의 trade-off가 발생하게 됩니다. 우리의 목표는 inertia를 최소화 시키면서 동시에 클러스터의 수를 최소화 시키는 것입니다. 이 때 최적의 클러스터 수를 결정하는 한 가지 방법은 ‘elbow’ 메소드 입니다.\n",
        "\n",
        "Elbow 메소드란 위 그래프를 사람의 팔로 간주하고, 팔꿈치 부분에 해당하는 클러스터 갯수를 선택하는 것을 말합니다. 즉 inertia가 감소하는 정도가 낮아지는 지점을 찾으면 됩니다. 위 그래프에서는 3 이 가장 최적의 클러스터의 수 라고 말할 수 있습니다."
      ]
    },
    {
      "cell_type": "markdown",
      "source": [
        "### 평가"
      ],
      "metadata": {
        "id": "uo_RuyVgSe58"
      },
      "id": "uo_RuyVgSe58"
    },
    {
      "cell_type": "markdown",
      "metadata": {
        "id": "edc6f151"
      },
      "source": [
        "https://scikit-learn.org/stable/modules/generated/sklearn.metrics.silhouette_score.html#sklearn.metrics.silhouette_score"
      ],
      "id": "edc6f151"
    },
    {
      "cell_type": "code",
      "source": [
        "kmeans.labels_"
      ],
      "metadata": {
        "colab": {
          "base_uri": "https://localhost:8080/"
        },
        "id": "42zkYFe4K2NS",
        "outputId": "cb1b9b4f-236c-4c62-b261-42b0abd6e764"
      },
      "id": "42zkYFe4K2NS",
      "execution_count": 24,
      "outputs": [
        {
          "output_type": "execute_result",
          "data": {
            "text/plain": [
              "array([1, 1, 1, 1, 1, 1, 1, 1, 1, 1, 1, 1, 1, 1, 1, 1, 1, 1, 1, 1, 1, 1,\n",
              "       1, 1, 1, 1, 1, 1, 1, 1, 1, 1, 1, 1, 1, 1, 1, 1, 1, 1, 1, 1, 1, 1,\n",
              "       1, 1, 1, 1, 1, 1, 0, 0, 2, 0, 0, 0, 0, 0, 0, 0, 0, 0, 0, 0, 0, 0,\n",
              "       0, 0, 0, 0, 0, 0, 0, 0, 0, 0, 0, 2, 0, 0, 0, 0, 0, 0, 0, 0, 0, 0,\n",
              "       0, 0, 0, 0, 0, 0, 0, 0, 0, 0, 0, 0, 2, 0, 2, 2, 2, 2, 0, 2, 2, 2,\n",
              "       2, 2, 2, 0, 0, 2, 2, 2, 2, 0, 2, 0, 2, 0, 2, 2, 0, 0, 2, 2, 2, 2,\n",
              "       2, 0, 2, 2, 2, 2, 0, 2, 2, 2, 0, 2, 2, 2, 0, 2, 2, 0], dtype=int32)"
            ]
          },
          "metadata": {},
          "execution_count": 24
        }
      ]
    },
    {
      "cell_type": "code",
      "execution_count": 8,
      "metadata": {
        "colab": {
          "base_uri": "https://localhost:8080/"
        },
        "id": "4b48597c",
        "outputId": "4b50cb31-a7bd-4c8c-ed94-4e10e5838a7b"
      },
      "outputs": [
        {
          "output_type": "execute_result",
          "data": {
            "text/plain": [
              "0.5528190123564095"
            ]
          },
          "metadata": {},
          "execution_count": 8
        }
      ],
      "source": [
        "# 평가\n",
        "from sklearn.metrics import silhouette_score # silhouette_score : 실루엣 지표\n",
        " \n",
        "silhouette_score(X, kmeans.labels_, metric='euclidean') \n",
        "# x, 라벨(클러스터), 거리를 어떻게 잴지(metric=)를 넣어주면 된다,\n",
        "# 1에 가까운 것이 좋지만 1에 가깝다고해서 다 좋은 모델은 아님"
      ],
      "id": "4b48597c"
    },
    {
      "cell_type": "code",
      "execution_count": 9,
      "metadata": {
        "colab": {
          "base_uri": "https://localhost:8080/",
          "height": 180
        },
        "id": "b7c28cc9",
        "outputId": "80348456-64d5-4b30-dcb0-d17b3a1d1a98"
      },
      "outputs": [
        {
          "output_type": "stream",
          "name": "stdout",
          "text": [
            "silhouette_samples( ) return 값의 shape (150,)\n",
            "붓꽃 데이터셋 Silhouette Analysis Score:0.553\n"
          ]
        },
        {
          "output_type": "execute_result",
          "data": {
            "text/plain": [
              "   sepal_length  sepal_width  petal_length  petal_width  target  cluster  \\\n",
              "0           5.1          3.5           1.4          0.2       0        1   \n",
              "1           4.9          3.0           1.4          0.2       0        1   \n",
              "2           4.7          3.2           1.3          0.2       0        1   \n",
              "\n",
              "   silhouette_coeff  \n",
              "0          0.852955  \n",
              "1          0.815495  \n",
              "2          0.829315  "
            ],
            "text/html": [
              "\n",
              "  <div id=\"df-92af9bf1-c54c-400f-877f-635fea9f9567\">\n",
              "    <div class=\"colab-df-container\">\n",
              "      <div>\n",
              "<style scoped>\n",
              "    .dataframe tbody tr th:only-of-type {\n",
              "        vertical-align: middle;\n",
              "    }\n",
              "\n",
              "    .dataframe tbody tr th {\n",
              "        vertical-align: top;\n",
              "    }\n",
              "\n",
              "    .dataframe thead th {\n",
              "        text-align: right;\n",
              "    }\n",
              "</style>\n",
              "<table border=\"1\" class=\"dataframe\">\n",
              "  <thead>\n",
              "    <tr style=\"text-align: right;\">\n",
              "      <th></th>\n",
              "      <th>sepal_length</th>\n",
              "      <th>sepal_width</th>\n",
              "      <th>petal_length</th>\n",
              "      <th>petal_width</th>\n",
              "      <th>target</th>\n",
              "      <th>cluster</th>\n",
              "      <th>silhouette_coeff</th>\n",
              "    </tr>\n",
              "  </thead>\n",
              "  <tbody>\n",
              "    <tr>\n",
              "      <th>0</th>\n",
              "      <td>5.1</td>\n",
              "      <td>3.5</td>\n",
              "      <td>1.4</td>\n",
              "      <td>0.2</td>\n",
              "      <td>0</td>\n",
              "      <td>1</td>\n",
              "      <td>0.852955</td>\n",
              "    </tr>\n",
              "    <tr>\n",
              "      <th>1</th>\n",
              "      <td>4.9</td>\n",
              "      <td>3.0</td>\n",
              "      <td>1.4</td>\n",
              "      <td>0.2</td>\n",
              "      <td>0</td>\n",
              "      <td>1</td>\n",
              "      <td>0.815495</td>\n",
              "    </tr>\n",
              "    <tr>\n",
              "      <th>2</th>\n",
              "      <td>4.7</td>\n",
              "      <td>3.2</td>\n",
              "      <td>1.3</td>\n",
              "      <td>0.2</td>\n",
              "      <td>0</td>\n",
              "      <td>1</td>\n",
              "      <td>0.829315</td>\n",
              "    </tr>\n",
              "  </tbody>\n",
              "</table>\n",
              "</div>\n",
              "      <button class=\"colab-df-convert\" onclick=\"convertToInteractive('df-92af9bf1-c54c-400f-877f-635fea9f9567')\"\n",
              "              title=\"Convert this dataframe to an interactive table.\"\n",
              "              style=\"display:none;\">\n",
              "        \n",
              "  <svg xmlns=\"http://www.w3.org/2000/svg\" height=\"24px\"viewBox=\"0 0 24 24\"\n",
              "       width=\"24px\">\n",
              "    <path d=\"M0 0h24v24H0V0z\" fill=\"none\"/>\n",
              "    <path d=\"M18.56 5.44l.94 2.06.94-2.06 2.06-.94-2.06-.94-.94-2.06-.94 2.06-2.06.94zm-11 1L8.5 8.5l.94-2.06 2.06-.94-2.06-.94L8.5 2.5l-.94 2.06-2.06.94zm10 10l.94 2.06.94-2.06 2.06-.94-2.06-.94-.94-2.06-.94 2.06-2.06.94z\"/><path d=\"M17.41 7.96l-1.37-1.37c-.4-.4-.92-.59-1.43-.59-.52 0-1.04.2-1.43.59L10.3 9.45l-7.72 7.72c-.78.78-.78 2.05 0 2.83L4 21.41c.39.39.9.59 1.41.59.51 0 1.02-.2 1.41-.59l7.78-7.78 2.81-2.81c.8-.78.8-2.07 0-2.86zM5.41 20L4 18.59l7.72-7.72 1.47 1.35L5.41 20z\"/>\n",
              "  </svg>\n",
              "      </button>\n",
              "      \n",
              "  <style>\n",
              "    .colab-df-container {\n",
              "      display:flex;\n",
              "      flex-wrap:wrap;\n",
              "      gap: 12px;\n",
              "    }\n",
              "\n",
              "    .colab-df-convert {\n",
              "      background-color: #E8F0FE;\n",
              "      border: none;\n",
              "      border-radius: 50%;\n",
              "      cursor: pointer;\n",
              "      display: none;\n",
              "      fill: #1967D2;\n",
              "      height: 32px;\n",
              "      padding: 0 0 0 0;\n",
              "      width: 32px;\n",
              "    }\n",
              "\n",
              "    .colab-df-convert:hover {\n",
              "      background-color: #E2EBFA;\n",
              "      box-shadow: 0px 1px 2px rgba(60, 64, 67, 0.3), 0px 1px 3px 1px rgba(60, 64, 67, 0.15);\n",
              "      fill: #174EA6;\n",
              "    }\n",
              "\n",
              "    [theme=dark] .colab-df-convert {\n",
              "      background-color: #3B4455;\n",
              "      fill: #D2E3FC;\n",
              "    }\n",
              "\n",
              "    [theme=dark] .colab-df-convert:hover {\n",
              "      background-color: #434B5C;\n",
              "      box-shadow: 0px 1px 3px 1px rgba(0, 0, 0, 0.15);\n",
              "      filter: drop-shadow(0px 1px 2px rgba(0, 0, 0, 0.3));\n",
              "      fill: #FFFFFF;\n",
              "    }\n",
              "  </style>\n",
              "\n",
              "      <script>\n",
              "        const buttonEl =\n",
              "          document.querySelector('#df-92af9bf1-c54c-400f-877f-635fea9f9567 button.colab-df-convert');\n",
              "        buttonEl.style.display =\n",
              "          google.colab.kernel.accessAllowed ? 'block' : 'none';\n",
              "\n",
              "        async function convertToInteractive(key) {\n",
              "          const element = document.querySelector('#df-92af9bf1-c54c-400f-877f-635fea9f9567');\n",
              "          const dataTable =\n",
              "            await google.colab.kernel.invokeFunction('convertToInteractive',\n",
              "                                                     [key], {});\n",
              "          if (!dataTable) return;\n",
              "\n",
              "          const docLinkHtml = 'Like what you see? Visit the ' +\n",
              "            '<a target=\"_blank\" href=https://colab.research.google.com/notebooks/data_table.ipynb>data table notebook</a>'\n",
              "            + ' to learn more about interactive tables.';\n",
              "          element.innerHTML = '';\n",
              "          dataTable['output_type'] = 'display_data';\n",
              "          await google.colab.output.renderOutput(dataTable, element);\n",
              "          const docLink = document.createElement('div');\n",
              "          docLink.innerHTML = docLinkHtml;\n",
              "          element.appendChild(docLink);\n",
              "        }\n",
              "      </script>\n",
              "    </div>\n",
              "  </div>\n",
              "  "
            ]
          },
          "metadata": {},
          "execution_count": 9
        }
      ],
      "source": [
        "from sklearn.metrics import silhouette_samples # 각각의 샘플의 실루엣계수 구해주는 라이브러리\n",
        "\n",
        "# iris 의 모든 개별 데이터에 실루엣 계수값을 구함. \n",
        "score_samples = silhouette_samples(iris.data, irisDF['cluster'])\n",
        "print('silhouette_samples( ) return 값의 shape' , score_samples.shape)\n",
        "\n",
        "# irisDF에 실루엣 계수 컬럼 추가\n",
        "irisDF['silhouette_coeff'] = score_samples\n",
        "\n",
        "# 모든 데이터의 평균 실루엣 계수값을 구함. \n",
        "average_score = silhouette_score(iris.data, irisDF['cluster'])\n",
        "print('붓꽃 데이터셋 Silhouette Analysis Score:{0:.3f}'.format(average_score))\n",
        "\n",
        "irisDF.head(3)"
      ],
      "id": "b7c28cc9"
    },
    {
      "cell_type": "code",
      "source": [
        "score_samples"
      ],
      "metadata": {
        "id": "fJt_rJ9HLU0K"
      },
      "id": "fJt_rJ9HLU0K",
      "execution_count": null,
      "outputs": []
    },
    {
      "cell_type": "code",
      "source": [
        "irisDF.groupby('cluster').mean()['silhouette_coeff']\n",
        "# 1번은 안정적(1에 가까움)이나 2,3번(숫자가 낮음)이 경계가 불분명한 것을 알 수 있음"
      ],
      "metadata": {
        "colab": {
          "base_uri": "https://localhost:8080/"
        },
        "id": "hnlfNHE2LgwC",
        "outputId": "23b9043d-24bc-4bc5-e9d1-8cea43b319b2"
      },
      "id": "hnlfNHE2LgwC",
      "execution_count": 26,
      "outputs": [
        {
          "output_type": "execute_result",
          "data": {
            "text/plain": [
              "cluster\n",
              "0    0.417320\n",
              "1    0.798140\n",
              "2    0.451105\n",
              "Name: silhouette_coeff, dtype: float64"
            ]
          },
          "metadata": {},
          "execution_count": 26
        }
      ]
    },
    {
      "cell_type": "code",
      "execution_count": 10,
      "metadata": {
        "colab": {
          "base_uri": "https://localhost:8080/"
        },
        "id": "f859848a",
        "outputId": "7b9181d8-4156-4236-959f-3f88c2cfe8e7"
      },
      "outputs": [
        {
          "output_type": "execute_result",
          "data": {
            "text/plain": [
              "cluster\n",
              "0    0.417320\n",
              "1    0.798140\n",
              "2    0.451105\n",
              "Name: silhouette_coeff, dtype: float64"
            ]
          },
          "metadata": {},
          "execution_count": 10
        }
      ],
      "source": [
        "irisDF.groupby('cluster')['silhouette_coeff'].mean()"
      ],
      "id": "f859848a"
    },
    {
      "cell_type": "markdown",
      "metadata": {
        "id": "3a28b6d7"
      },
      "source": [
        "1번 군집은 실루엣 계수 평균 값이 특히 높고, 0번과 2번은 상대적으로 낮은 값을 보입니다."
      ],
      "id": "3a28b6d7"
    },
    {
      "cell_type": "code",
      "source": [],
      "metadata": {
        "id": "fKQco3WqSe1p"
      },
      "id": "fKQco3WqSe1p",
      "execution_count": null,
      "outputs": []
    },
    {
      "cell_type": "code",
      "source": [],
      "metadata": {
        "id": "gqZmktxYSeut"
      },
      "id": "gqZmktxYSeut",
      "execution_count": null,
      "outputs": []
    },
    {
      "cell_type": "markdown",
      "id": "45a12576",
      "metadata": {
        "id": "45a12576"
      },
      "source": [
        "## 실습"
      ]
    },
    {
      "cell_type": "code",
      "execution_count": 14,
      "id": "f54b95c8",
      "metadata": {
        "id": "f54b95c8",
        "outputId": "69c93bec-0a20-48bf-910e-230d7efbfcb1",
        "colab": {
          "base_uri": "https://localhost:8080/"
        }
      },
      "outputs": [
        {
          "output_type": "stream",
          "name": "stdout",
          "text": [
            "/usr/local/lib/python3.10/dist-packages/gdown/cli.py:121: FutureWarning: Option `--id` was deprecated in version 4.3.1 and will be removed in 5.0. You don't need to pass it anymore to use a file ID.\n",
            "  warnings.warn(\n",
            "Downloading...\n",
            "From: https://drive.google.com/uc?id=18TLEN9Z17Fi2hdfuyfoR9fFEZ8nUuzLw\n",
            "To: /content/Mall_Customers.csv\n",
            "100% 3.98k/3.98k [00:00<00:00, 13.3MB/s]\n"
          ]
        }
      ],
      "source": [
        "# !gdown --id 18TLEN9Z17Fi2hdfuyfoR9fFEZ8nUuzLw"
      ]
    },
    {
      "cell_type": "code",
      "execution_count": 15,
      "id": "8bb239c6",
      "metadata": {
        "id": "8bb239c6",
        "outputId": "80ef1d1f-7847-484d-d8f7-4006742134c1",
        "colab": {
          "base_uri": "https://localhost:8080/",
          "height": 423
        }
      },
      "outputs": [
        {
          "output_type": "execute_result",
          "data": {
            "text/plain": [
              "     CustomerID  Gender  Age  Annual Income (k$)  Spending Score (1-100)\n",
              "0             1    Male   19                  15                      39\n",
              "1             2    Male   21                  15                      81\n",
              "2             3  Female   20                  16                       6\n",
              "3             4  Female   23                  16                      77\n",
              "4             5  Female   31                  17                      40\n",
              "..          ...     ...  ...                 ...                     ...\n",
              "195         196  Female   35                 120                      79\n",
              "196         197  Female   45                 126                      28\n",
              "197         198    Male   32                 126                      74\n",
              "198         199    Male   32                 137                      18\n",
              "199         200    Male   30                 137                      83\n",
              "\n",
              "[200 rows x 5 columns]"
            ],
            "text/html": [
              "\n",
              "  <div id=\"df-e2e92c16-34b0-4b96-b20b-5db27ae3c58b\">\n",
              "    <div class=\"colab-df-container\">\n",
              "      <div>\n",
              "<style scoped>\n",
              "    .dataframe tbody tr th:only-of-type {\n",
              "        vertical-align: middle;\n",
              "    }\n",
              "\n",
              "    .dataframe tbody tr th {\n",
              "        vertical-align: top;\n",
              "    }\n",
              "\n",
              "    .dataframe thead th {\n",
              "        text-align: right;\n",
              "    }\n",
              "</style>\n",
              "<table border=\"1\" class=\"dataframe\">\n",
              "  <thead>\n",
              "    <tr style=\"text-align: right;\">\n",
              "      <th></th>\n",
              "      <th>CustomerID</th>\n",
              "      <th>Gender</th>\n",
              "      <th>Age</th>\n",
              "      <th>Annual Income (k$)</th>\n",
              "      <th>Spending Score (1-100)</th>\n",
              "    </tr>\n",
              "  </thead>\n",
              "  <tbody>\n",
              "    <tr>\n",
              "      <th>0</th>\n",
              "      <td>1</td>\n",
              "      <td>Male</td>\n",
              "      <td>19</td>\n",
              "      <td>15</td>\n",
              "      <td>39</td>\n",
              "    </tr>\n",
              "    <tr>\n",
              "      <th>1</th>\n",
              "      <td>2</td>\n",
              "      <td>Male</td>\n",
              "      <td>21</td>\n",
              "      <td>15</td>\n",
              "      <td>81</td>\n",
              "    </tr>\n",
              "    <tr>\n",
              "      <th>2</th>\n",
              "      <td>3</td>\n",
              "      <td>Female</td>\n",
              "      <td>20</td>\n",
              "      <td>16</td>\n",
              "      <td>6</td>\n",
              "    </tr>\n",
              "    <tr>\n",
              "      <th>3</th>\n",
              "      <td>4</td>\n",
              "      <td>Female</td>\n",
              "      <td>23</td>\n",
              "      <td>16</td>\n",
              "      <td>77</td>\n",
              "    </tr>\n",
              "    <tr>\n",
              "      <th>4</th>\n",
              "      <td>5</td>\n",
              "      <td>Female</td>\n",
              "      <td>31</td>\n",
              "      <td>17</td>\n",
              "      <td>40</td>\n",
              "    </tr>\n",
              "    <tr>\n",
              "      <th>...</th>\n",
              "      <td>...</td>\n",
              "      <td>...</td>\n",
              "      <td>...</td>\n",
              "      <td>...</td>\n",
              "      <td>...</td>\n",
              "    </tr>\n",
              "    <tr>\n",
              "      <th>195</th>\n",
              "      <td>196</td>\n",
              "      <td>Female</td>\n",
              "      <td>35</td>\n",
              "      <td>120</td>\n",
              "      <td>79</td>\n",
              "    </tr>\n",
              "    <tr>\n",
              "      <th>196</th>\n",
              "      <td>197</td>\n",
              "      <td>Female</td>\n",
              "      <td>45</td>\n",
              "      <td>126</td>\n",
              "      <td>28</td>\n",
              "    </tr>\n",
              "    <tr>\n",
              "      <th>197</th>\n",
              "      <td>198</td>\n",
              "      <td>Male</td>\n",
              "      <td>32</td>\n",
              "      <td>126</td>\n",
              "      <td>74</td>\n",
              "    </tr>\n",
              "    <tr>\n",
              "      <th>198</th>\n",
              "      <td>199</td>\n",
              "      <td>Male</td>\n",
              "      <td>32</td>\n",
              "      <td>137</td>\n",
              "      <td>18</td>\n",
              "    </tr>\n",
              "    <tr>\n",
              "      <th>199</th>\n",
              "      <td>200</td>\n",
              "      <td>Male</td>\n",
              "      <td>30</td>\n",
              "      <td>137</td>\n",
              "      <td>83</td>\n",
              "    </tr>\n",
              "  </tbody>\n",
              "</table>\n",
              "<p>200 rows × 5 columns</p>\n",
              "</div>\n",
              "      <button class=\"colab-df-convert\" onclick=\"convertToInteractive('df-e2e92c16-34b0-4b96-b20b-5db27ae3c58b')\"\n",
              "              title=\"Convert this dataframe to an interactive table.\"\n",
              "              style=\"display:none;\">\n",
              "        \n",
              "  <svg xmlns=\"http://www.w3.org/2000/svg\" height=\"24px\"viewBox=\"0 0 24 24\"\n",
              "       width=\"24px\">\n",
              "    <path d=\"M0 0h24v24H0V0z\" fill=\"none\"/>\n",
              "    <path d=\"M18.56 5.44l.94 2.06.94-2.06 2.06-.94-2.06-.94-.94-2.06-.94 2.06-2.06.94zm-11 1L8.5 8.5l.94-2.06 2.06-.94-2.06-.94L8.5 2.5l-.94 2.06-2.06.94zm10 10l.94 2.06.94-2.06 2.06-.94-2.06-.94-.94-2.06-.94 2.06-2.06.94z\"/><path d=\"M17.41 7.96l-1.37-1.37c-.4-.4-.92-.59-1.43-.59-.52 0-1.04.2-1.43.59L10.3 9.45l-7.72 7.72c-.78.78-.78 2.05 0 2.83L4 21.41c.39.39.9.59 1.41.59.51 0 1.02-.2 1.41-.59l7.78-7.78 2.81-2.81c.8-.78.8-2.07 0-2.86zM5.41 20L4 18.59l7.72-7.72 1.47 1.35L5.41 20z\"/>\n",
              "  </svg>\n",
              "      </button>\n",
              "      \n",
              "  <style>\n",
              "    .colab-df-container {\n",
              "      display:flex;\n",
              "      flex-wrap:wrap;\n",
              "      gap: 12px;\n",
              "    }\n",
              "\n",
              "    .colab-df-convert {\n",
              "      background-color: #E8F0FE;\n",
              "      border: none;\n",
              "      border-radius: 50%;\n",
              "      cursor: pointer;\n",
              "      display: none;\n",
              "      fill: #1967D2;\n",
              "      height: 32px;\n",
              "      padding: 0 0 0 0;\n",
              "      width: 32px;\n",
              "    }\n",
              "\n",
              "    .colab-df-convert:hover {\n",
              "      background-color: #E2EBFA;\n",
              "      box-shadow: 0px 1px 2px rgba(60, 64, 67, 0.3), 0px 1px 3px 1px rgba(60, 64, 67, 0.15);\n",
              "      fill: #174EA6;\n",
              "    }\n",
              "\n",
              "    [theme=dark] .colab-df-convert {\n",
              "      background-color: #3B4455;\n",
              "      fill: #D2E3FC;\n",
              "    }\n",
              "\n",
              "    [theme=dark] .colab-df-convert:hover {\n",
              "      background-color: #434B5C;\n",
              "      box-shadow: 0px 1px 3px 1px rgba(0, 0, 0, 0.15);\n",
              "      filter: drop-shadow(0px 1px 2px rgba(0, 0, 0, 0.3));\n",
              "      fill: #FFFFFF;\n",
              "    }\n",
              "  </style>\n",
              "\n",
              "      <script>\n",
              "        const buttonEl =\n",
              "          document.querySelector('#df-e2e92c16-34b0-4b96-b20b-5db27ae3c58b button.colab-df-convert');\n",
              "        buttonEl.style.display =\n",
              "          google.colab.kernel.accessAllowed ? 'block' : 'none';\n",
              "\n",
              "        async function convertToInteractive(key) {\n",
              "          const element = document.querySelector('#df-e2e92c16-34b0-4b96-b20b-5db27ae3c58b');\n",
              "          const dataTable =\n",
              "            await google.colab.kernel.invokeFunction('convertToInteractive',\n",
              "                                                     [key], {});\n",
              "          if (!dataTable) return;\n",
              "\n",
              "          const docLinkHtml = 'Like what you see? Visit the ' +\n",
              "            '<a target=\"_blank\" href=https://colab.research.google.com/notebooks/data_table.ipynb>data table notebook</a>'\n",
              "            + ' to learn more about interactive tables.';\n",
              "          element.innerHTML = '';\n",
              "          dataTable['output_type'] = 'display_data';\n",
              "          await google.colab.output.renderOutput(dataTable, element);\n",
              "          const docLink = document.createElement('div');\n",
              "          docLink.innerHTML = docLinkHtml;\n",
              "          element.appendChild(docLink);\n",
              "        }\n",
              "      </script>\n",
              "    </div>\n",
              "  </div>\n",
              "  "
            ]
          },
          "metadata": {},
          "execution_count": 15
        }
      ],
      "source": [
        "df = pd.read_csv(\"Mall_Customers.csv\")\n",
        "df"
      ]
    },
    {
      "cell_type": "markdown",
      "source": [
        "# 새 섹션"
      ],
      "metadata": {
        "id": "-7u5MmfyQ5kJ"
      },
      "id": "-7u5MmfyQ5kJ"
    },
    {
      "cell_type": "markdown",
      "id": "54b3b2ed",
      "metadata": {
        "id": "54b3b2ed"
      },
      "source": [
        "위 데이터 중 Annual Income과 Spending Score 두 가지 컬럼을 바탕으로 고객들을 클러스터링 하세요"
      ]
    },
    {
      "cell_type": "markdown",
      "id": "8d9f8758",
      "metadata": {
        "id": "8d9f8758"
      },
      "source": [
        "### 데이터 전처리"
      ]
    },
    {
      "cell_type": "code",
      "execution_count": 43,
      "id": "31674839",
      "metadata": {
        "id": "31674839"
      },
      "outputs": [],
      "source": [
        "from sklearn.preprocessing import MinMaxScaler\n",
        "\n",
        "# 두 가지 feature를 대상\n",
        "data = df[['Annual Income (k$)', 'Spending Score (1-100)']]\n",
        "\n",
        "# 정규화 진행\n",
        "data_scale = MinMaxScaler().fit_transform(data)"
      ]
    },
    {
      "cell_type": "code",
      "execution_count": 39,
      "id": "9c8b84fc",
      "metadata": {
        "id": "9c8b84fc",
        "colab": {
          "base_uri": "https://localhost:8080/"
        },
        "outputId": "3328bee1-735a-4190-8ab7-19833ca7958b"
      },
      "outputs": [
        {
          "output_type": "execute_result",
          "data": {
            "text/plain": [
              "array([[0.        , 0.3877551 ],\n",
              "       [0.        , 0.81632653],\n",
              "       [0.00819672, 0.05102041],\n",
              "       [0.00819672, 0.7755102 ],\n",
              "       [0.01639344, 0.39795918],\n",
              "       [0.01639344, 0.76530612],\n",
              "       [0.02459016, 0.05102041],\n",
              "       [0.02459016, 0.94897959],\n",
              "       [0.03278689, 0.02040816],\n",
              "       [0.03278689, 0.7244898 ],\n",
              "       [0.03278689, 0.13265306],\n",
              "       [0.03278689, 1.        ],\n",
              "       [0.04098361, 0.14285714],\n",
              "       [0.04098361, 0.7755102 ],\n",
              "       [0.04098361, 0.12244898],\n",
              "       [0.04098361, 0.79591837],\n",
              "       [0.04918033, 0.34693878],\n",
              "       [0.04918033, 0.66326531],\n",
              "       [0.06557377, 0.28571429],\n",
              "       [0.06557377, 0.98979592],\n",
              "       [0.07377049, 0.34693878],\n",
              "       [0.07377049, 0.73469388],\n",
              "       [0.08196721, 0.04081633],\n",
              "       [0.08196721, 0.73469388],\n",
              "       [0.10655738, 0.13265306],\n",
              "       [0.10655738, 0.82653061],\n",
              "       [0.10655738, 0.31632653],\n",
              "       [0.10655738, 0.6122449 ],\n",
              "       [0.1147541 , 0.30612245],\n",
              "       [0.1147541 , 0.87755102],\n",
              "       [0.12295082, 0.03061224],\n",
              "       [0.12295082, 0.73469388],\n",
              "       [0.14754098, 0.03061224],\n",
              "       [0.14754098, 0.92857143],\n",
              "       [0.14754098, 0.13265306],\n",
              "       [0.14754098, 0.81632653],\n",
              "       [0.1557377 , 0.16326531],\n",
              "       [0.1557377 , 0.73469388],\n",
              "       [0.18032787, 0.25510204],\n",
              "       [0.18032787, 0.75510204],\n",
              "       [0.18852459, 0.34693878],\n",
              "       [0.18852459, 0.92857143],\n",
              "       [0.19672131, 0.35714286],\n",
              "       [0.19672131, 0.6122449 ],\n",
              "       [0.19672131, 0.2755102 ],\n",
              "       [0.19672131, 0.65306122],\n",
              "       [0.20491803, 0.55102041],\n",
              "       [0.20491803, 0.46938776],\n",
              "       [0.20491803, 0.41836735],\n",
              "       [0.20491803, 0.41836735],\n",
              "       [0.22131148, 0.52040816],\n",
              "       [0.22131148, 0.60204082],\n",
              "       [0.2295082 , 0.54081633],\n",
              "       [0.2295082 , 0.60204082],\n",
              "       [0.2295082 , 0.44897959],\n",
              "       [0.2295082 , 0.40816327],\n",
              "       [0.23770492, 0.5       ],\n",
              "       [0.23770492, 0.45918367],\n",
              "       [0.25409836, 0.51020408],\n",
              "       [0.25409836, 0.45918367],\n",
              "       [0.25409836, 0.56122449],\n",
              "       [0.25409836, 0.55102041],\n",
              "       [0.26229508, 0.52040816],\n",
              "       [0.26229508, 0.59183673],\n",
              "       [0.2704918 , 0.51020408],\n",
              "       [0.2704918 , 0.59183673],\n",
              "       [0.2704918 , 0.5       ],\n",
              "       [0.2704918 , 0.47959184],\n",
              "       [0.2704918 , 0.59183673],\n",
              "       [0.2704918 , 0.46938776],\n",
              "       [0.27868852, 0.55102041],\n",
              "       [0.27868852, 0.41836735],\n",
              "       [0.28688525, 0.48979592],\n",
              "       [0.28688525, 0.56122449],\n",
              "       [0.31967213, 0.46938776],\n",
              "       [0.31967213, 0.54081633],\n",
              "       [0.31967213, 0.53061224],\n",
              "       [0.31967213, 0.47959184],\n",
              "       [0.31967213, 0.52040816],\n",
              "       [0.31967213, 0.41836735],\n",
              "       [0.31967213, 0.51020408],\n",
              "       [0.31967213, 0.55102041],\n",
              "       [0.31967213, 0.40816327],\n",
              "       [0.31967213, 0.43877551],\n",
              "       [0.31967213, 0.57142857],\n",
              "       [0.31967213, 0.45918367],\n",
              "       [0.3442623 , 0.58163265],\n",
              "       [0.3442623 , 0.55102041],\n",
              "       [0.35245902, 0.60204082],\n",
              "       [0.35245902, 0.45918367],\n",
              "       [0.36065574, 0.55102041],\n",
              "       [0.36065574, 0.40816327],\n",
              "       [0.36885246, 0.48979592],\n",
              "       [0.36885246, 0.39795918],\n",
              "       [0.36885246, 0.41836735],\n",
              "       [0.36885246, 0.52040816],\n",
              "       [0.36885246, 0.46938776],\n",
              "       [0.36885246, 0.5       ],\n",
              "       [0.37704918, 0.41836735],\n",
              "       [0.37704918, 0.48979592],\n",
              "       [0.3852459 , 0.40816327],\n",
              "       [0.3852459 , 0.47959184],\n",
              "       [0.3852459 , 0.59183673],\n",
              "       [0.3852459 , 0.55102041],\n",
              "       [0.3852459 , 0.56122449],\n",
              "       [0.3852459 , 0.41836735],\n",
              "       [0.39344262, 0.5       ],\n",
              "       [0.39344262, 0.45918367],\n",
              "       [0.39344262, 0.42857143],\n",
              "       [0.39344262, 0.47959184],\n",
              "       [0.39344262, 0.52040816],\n",
              "       [0.39344262, 0.54081633],\n",
              "       [0.40163934, 0.41836735],\n",
              "       [0.40163934, 0.45918367],\n",
              "       [0.40983607, 0.47959184],\n",
              "       [0.40983607, 0.5       ],\n",
              "       [0.40983607, 0.42857143],\n",
              "       [0.40983607, 0.59183673],\n",
              "       [0.42622951, 0.42857143],\n",
              "       [0.42622951, 0.57142857],\n",
              "       [0.42622951, 0.56122449],\n",
              "       [0.42622951, 0.39795918],\n",
              "       [0.44262295, 0.58163265],\n",
              "       [0.44262295, 0.91836735],\n",
              "       [0.45081967, 0.28571429],\n",
              "       [0.45081967, 0.7755102 ],\n",
              "       [0.45901639, 0.34693878],\n",
              "       [0.45901639, 0.95918367],\n",
              "       [0.45901639, 0.10204082],\n",
              "       [0.45901639, 0.75510204],\n",
              "       [0.45901639, 0.08163265],\n",
              "       [0.45901639, 0.75510204],\n",
              "       [0.46721311, 0.33673469],\n",
              "       [0.46721311, 0.71428571],\n",
              "       [0.47540984, 0.04081633],\n",
              "       [0.47540984, 0.8877551 ],\n",
              "       [0.47540984, 0.06122449],\n",
              "       [0.47540984, 0.73469388],\n",
              "       [0.48360656, 0.09183673],\n",
              "       [0.48360656, 0.7244898 ],\n",
              "       [0.49180328, 0.04081633],\n",
              "       [0.49180328, 0.93877551],\n",
              "       [0.5       , 0.39795918],\n",
              "       [0.5       , 0.87755102],\n",
              "       [0.50819672, 0.1122449 ],\n",
              "       [0.50819672, 0.97959184],\n",
              "       [0.50819672, 0.35714286],\n",
              "       [0.50819672, 0.74489796],\n",
              "       [0.51639344, 0.21428571],\n",
              "       [0.51639344, 0.90816327],\n",
              "       [0.51639344, 0.16326531],\n",
              "       [0.51639344, 0.8877551 ],\n",
              "       [0.51639344, 0.19387755],\n",
              "       [0.51639344, 0.76530612],\n",
              "       [0.51639344, 0.15306122],\n",
              "       [0.51639344, 0.89795918],\n",
              "       [0.51639344, 0.        ],\n",
              "       [0.51639344, 0.78571429],\n",
              "       [0.51639344, 0.        ],\n",
              "       [0.51639344, 0.73469388],\n",
              "       [0.52459016, 0.34693878],\n",
              "       [0.52459016, 0.83673469],\n",
              "       [0.54098361, 0.04081633],\n",
              "       [0.54098361, 0.93877551],\n",
              "       [0.57377049, 0.25510204],\n",
              "       [0.57377049, 0.75510204],\n",
              "       [0.58196721, 0.19387755],\n",
              "       [0.58196721, 0.95918367],\n",
              "       [0.59016393, 0.26530612],\n",
              "       [0.59016393, 0.63265306],\n",
              "       [0.59016393, 0.12244898],\n",
              "       [0.59016393, 0.75510204],\n",
              "       [0.59016393, 0.09183673],\n",
              "       [0.59016393, 0.92857143],\n",
              "       [0.59836066, 0.12244898],\n",
              "       [0.59836066, 0.86734694],\n",
              "       [0.59836066, 0.14285714],\n",
              "       [0.59836066, 0.69387755],\n",
              "       [0.63934426, 0.13265306],\n",
              "       [0.63934426, 0.90816327],\n",
              "       [0.67213115, 0.31632653],\n",
              "       [0.67213115, 0.86734694],\n",
              "       [0.68032787, 0.14285714],\n",
              "       [0.68032787, 0.8877551 ],\n",
              "       [0.68852459, 0.3877551 ],\n",
              "       [0.68852459, 0.97959184],\n",
              "       [0.70491803, 0.23469388],\n",
              "       [0.70491803, 0.68367347],\n",
              "       [0.72131148, 0.16326531],\n",
              "       [0.72131148, 0.85714286],\n",
              "       [0.72131148, 0.2244898 ],\n",
              "       [0.72131148, 0.69387755],\n",
              "       [0.80327869, 0.07142857],\n",
              "       [0.80327869, 0.91836735],\n",
              "       [0.86065574, 0.15306122],\n",
              "       [0.86065574, 0.79591837],\n",
              "       [0.90983607, 0.2755102 ],\n",
              "       [0.90983607, 0.74489796],\n",
              "       [1.        , 0.17346939],\n",
              "       [1.        , 0.83673469]])"
            ]
          },
          "metadata": {},
          "execution_count": 39
        }
      ],
      "source": [
        "data_scale"
      ]
    },
    {
      "cell_type": "markdown",
      "id": "ffd9c190",
      "metadata": {
        "id": "ffd9c190"
      },
      "source": [
        "### 모델링"
      ]
    },
    {
      "cell_type": "code",
      "execution_count": 44,
      "id": "70da79a2",
      "metadata": {
        "id": "70da79a2",
        "colab": {
          "base_uri": "https://localhost:8080/"
        },
        "outputId": "f01b7423-f408-4dca-a846-4cb70a8b01ca"
      },
      "outputs": [
        {
          "output_type": "stream",
          "name": "stderr",
          "text": [
            "/usr/local/lib/python3.10/dist-packages/sklearn/cluster/_kmeans.py:870: FutureWarning: The default value of `n_init` will change from 10 to 'auto' in 1.4. Set the value of `n_init` explicitly to suppress the warning\n",
            "  warnings.warn(\n",
            "/usr/local/lib/python3.10/dist-packages/sklearn/cluster/_kmeans.py:870: FutureWarning: The default value of `n_init` will change from 10 to 'auto' in 1.4. Set the value of `n_init` explicitly to suppress the warning\n",
            "  warnings.warn(\n"
          ]
        }
      ],
      "source": [
        "from sklearn.cluster import KMeans\n",
        "\n",
        "# 원하는 클러스러 개수 선정\n",
        "k = 3\n",
        "\n",
        "# 그룹 수, random_state 설정\n",
        "kmeans = KMeans(n_clusters=3, random_state = 19) \n",
        "# 정규화된 데이터에 학습\n",
        "kmeans.fit(data_scale)\n",
        "# 클러스터링 결과 각 데이터가 몇 번째 그룹에 속하는지 저장\n",
        "df['cluster'] = model.fit_predict(data_scale)"
      ]
    },
    {
      "cell_type": "code",
      "source": [
        "df"
      ],
      "metadata": {
        "colab": {
          "base_uri": "https://localhost:8080/",
          "height": 423
        },
        "id": "MsYS6ar3OMnZ",
        "outputId": "b55b761c-5b01-4e48-8f34-8ba1022a304e"
      },
      "id": "MsYS6ar3OMnZ",
      "execution_count": 45,
      "outputs": [
        {
          "output_type": "execute_result",
          "data": {
            "text/plain": [
              "     CustomerID  Gender  Age  Annual Income (k$)  Spending Score (1-100)  \\\n",
              "0             1    Male   19                  15                      39   \n",
              "1             2    Male   21                  15                      81   \n",
              "2             3  Female   20                  16                       6   \n",
              "3             4  Female   23                  16                      77   \n",
              "4             5  Female   31                  17                      40   \n",
              "..          ...     ...  ...                 ...                     ...   \n",
              "195         196  Female   35                 120                      79   \n",
              "196         197  Female   45                 126                      28   \n",
              "197         198    Male   32                 126                      74   \n",
              "198         199    Male   32                 137                      18   \n",
              "199         200    Male   30                 137                      83   \n",
              "\n",
              "     cluster  \n",
              "0          4  \n",
              "1          0  \n",
              "2          4  \n",
              "3          0  \n",
              "4          4  \n",
              "..       ...  \n",
              "195        5  \n",
              "196        6  \n",
              "197        5  \n",
              "198        6  \n",
              "199        5  \n",
              "\n",
              "[200 rows x 6 columns]"
            ],
            "text/html": [
              "\n",
              "  <div id=\"df-1373bfc5-8588-41d9-b167-0408fc5ecc98\">\n",
              "    <div class=\"colab-df-container\">\n",
              "      <div>\n",
              "<style scoped>\n",
              "    .dataframe tbody tr th:only-of-type {\n",
              "        vertical-align: middle;\n",
              "    }\n",
              "\n",
              "    .dataframe tbody tr th {\n",
              "        vertical-align: top;\n",
              "    }\n",
              "\n",
              "    .dataframe thead th {\n",
              "        text-align: right;\n",
              "    }\n",
              "</style>\n",
              "<table border=\"1\" class=\"dataframe\">\n",
              "  <thead>\n",
              "    <tr style=\"text-align: right;\">\n",
              "      <th></th>\n",
              "      <th>CustomerID</th>\n",
              "      <th>Gender</th>\n",
              "      <th>Age</th>\n",
              "      <th>Annual Income (k$)</th>\n",
              "      <th>Spending Score (1-100)</th>\n",
              "      <th>cluster</th>\n",
              "    </tr>\n",
              "  </thead>\n",
              "  <tbody>\n",
              "    <tr>\n",
              "      <th>0</th>\n",
              "      <td>1</td>\n",
              "      <td>Male</td>\n",
              "      <td>19</td>\n",
              "      <td>15</td>\n",
              "      <td>39</td>\n",
              "      <td>4</td>\n",
              "    </tr>\n",
              "    <tr>\n",
              "      <th>1</th>\n",
              "      <td>2</td>\n",
              "      <td>Male</td>\n",
              "      <td>21</td>\n",
              "      <td>15</td>\n",
              "      <td>81</td>\n",
              "      <td>0</td>\n",
              "    </tr>\n",
              "    <tr>\n",
              "      <th>2</th>\n",
              "      <td>3</td>\n",
              "      <td>Female</td>\n",
              "      <td>20</td>\n",
              "      <td>16</td>\n",
              "      <td>6</td>\n",
              "      <td>4</td>\n",
              "    </tr>\n",
              "    <tr>\n",
              "      <th>3</th>\n",
              "      <td>4</td>\n",
              "      <td>Female</td>\n",
              "      <td>23</td>\n",
              "      <td>16</td>\n",
              "      <td>77</td>\n",
              "      <td>0</td>\n",
              "    </tr>\n",
              "    <tr>\n",
              "      <th>4</th>\n",
              "      <td>5</td>\n",
              "      <td>Female</td>\n",
              "      <td>31</td>\n",
              "      <td>17</td>\n",
              "      <td>40</td>\n",
              "      <td>4</td>\n",
              "    </tr>\n",
              "    <tr>\n",
              "      <th>...</th>\n",
              "      <td>...</td>\n",
              "      <td>...</td>\n",
              "      <td>...</td>\n",
              "      <td>...</td>\n",
              "      <td>...</td>\n",
              "      <td>...</td>\n",
              "    </tr>\n",
              "    <tr>\n",
              "      <th>195</th>\n",
              "      <td>196</td>\n",
              "      <td>Female</td>\n",
              "      <td>35</td>\n",
              "      <td>120</td>\n",
              "      <td>79</td>\n",
              "      <td>5</td>\n",
              "    </tr>\n",
              "    <tr>\n",
              "      <th>196</th>\n",
              "      <td>197</td>\n",
              "      <td>Female</td>\n",
              "      <td>45</td>\n",
              "      <td>126</td>\n",
              "      <td>28</td>\n",
              "      <td>6</td>\n",
              "    </tr>\n",
              "    <tr>\n",
              "      <th>197</th>\n",
              "      <td>198</td>\n",
              "      <td>Male</td>\n",
              "      <td>32</td>\n",
              "      <td>126</td>\n",
              "      <td>74</td>\n",
              "      <td>5</td>\n",
              "    </tr>\n",
              "    <tr>\n",
              "      <th>198</th>\n",
              "      <td>199</td>\n",
              "      <td>Male</td>\n",
              "      <td>32</td>\n",
              "      <td>137</td>\n",
              "      <td>18</td>\n",
              "      <td>6</td>\n",
              "    </tr>\n",
              "    <tr>\n",
              "      <th>199</th>\n",
              "      <td>200</td>\n",
              "      <td>Male</td>\n",
              "      <td>30</td>\n",
              "      <td>137</td>\n",
              "      <td>83</td>\n",
              "      <td>5</td>\n",
              "    </tr>\n",
              "  </tbody>\n",
              "</table>\n",
              "<p>200 rows × 6 columns</p>\n",
              "</div>\n",
              "      <button class=\"colab-df-convert\" onclick=\"convertToInteractive('df-1373bfc5-8588-41d9-b167-0408fc5ecc98')\"\n",
              "              title=\"Convert this dataframe to an interactive table.\"\n",
              "              style=\"display:none;\">\n",
              "        \n",
              "  <svg xmlns=\"http://www.w3.org/2000/svg\" height=\"24px\"viewBox=\"0 0 24 24\"\n",
              "       width=\"24px\">\n",
              "    <path d=\"M0 0h24v24H0V0z\" fill=\"none\"/>\n",
              "    <path d=\"M18.56 5.44l.94 2.06.94-2.06 2.06-.94-2.06-.94-.94-2.06-.94 2.06-2.06.94zm-11 1L8.5 8.5l.94-2.06 2.06-.94-2.06-.94L8.5 2.5l-.94 2.06-2.06.94zm10 10l.94 2.06.94-2.06 2.06-.94-2.06-.94-.94-2.06-.94 2.06-2.06.94z\"/><path d=\"M17.41 7.96l-1.37-1.37c-.4-.4-.92-.59-1.43-.59-.52 0-1.04.2-1.43.59L10.3 9.45l-7.72 7.72c-.78.78-.78 2.05 0 2.83L4 21.41c.39.39.9.59 1.41.59.51 0 1.02-.2 1.41-.59l7.78-7.78 2.81-2.81c.8-.78.8-2.07 0-2.86zM5.41 20L4 18.59l7.72-7.72 1.47 1.35L5.41 20z\"/>\n",
              "  </svg>\n",
              "      </button>\n",
              "      \n",
              "  <style>\n",
              "    .colab-df-container {\n",
              "      display:flex;\n",
              "      flex-wrap:wrap;\n",
              "      gap: 12px;\n",
              "    }\n",
              "\n",
              "    .colab-df-convert {\n",
              "      background-color: #E8F0FE;\n",
              "      border: none;\n",
              "      border-radius: 50%;\n",
              "      cursor: pointer;\n",
              "      display: none;\n",
              "      fill: #1967D2;\n",
              "      height: 32px;\n",
              "      padding: 0 0 0 0;\n",
              "      width: 32px;\n",
              "    }\n",
              "\n",
              "    .colab-df-convert:hover {\n",
              "      background-color: #E2EBFA;\n",
              "      box-shadow: 0px 1px 2px rgba(60, 64, 67, 0.3), 0px 1px 3px 1px rgba(60, 64, 67, 0.15);\n",
              "      fill: #174EA6;\n",
              "    }\n",
              "\n",
              "    [theme=dark] .colab-df-convert {\n",
              "      background-color: #3B4455;\n",
              "      fill: #D2E3FC;\n",
              "    }\n",
              "\n",
              "    [theme=dark] .colab-df-convert:hover {\n",
              "      background-color: #434B5C;\n",
              "      box-shadow: 0px 1px 3px 1px rgba(0, 0, 0, 0.15);\n",
              "      filter: drop-shadow(0px 1px 2px rgba(0, 0, 0, 0.3));\n",
              "      fill: #FFFFFF;\n",
              "    }\n",
              "  </style>\n",
              "\n",
              "      <script>\n",
              "        const buttonEl =\n",
              "          document.querySelector('#df-1373bfc5-8588-41d9-b167-0408fc5ecc98 button.colab-df-convert');\n",
              "        buttonEl.style.display =\n",
              "          google.colab.kernel.accessAllowed ? 'block' : 'none';\n",
              "\n",
              "        async function convertToInteractive(key) {\n",
              "          const element = document.querySelector('#df-1373bfc5-8588-41d9-b167-0408fc5ecc98');\n",
              "          const dataTable =\n",
              "            await google.colab.kernel.invokeFunction('convertToInteractive',\n",
              "                                                     [key], {});\n",
              "          if (!dataTable) return;\n",
              "\n",
              "          const docLinkHtml = 'Like what you see? Visit the ' +\n",
              "            '<a target=\"_blank\" href=https://colab.research.google.com/notebooks/data_table.ipynb>data table notebook</a>'\n",
              "            + ' to learn more about interactive tables.';\n",
              "          element.innerHTML = '';\n",
              "          dataTable['output_type'] = 'display_data';\n",
              "          await google.colab.output.renderOutput(dataTable, element);\n",
              "          const docLink = document.createElement('div');\n",
              "          docLink.innerHTML = docLinkHtml;\n",
              "          element.appendChild(docLink);\n",
              "        }\n",
              "      </script>\n",
              "    </div>\n",
              "  </div>\n",
              "  "
            ]
          },
          "metadata": {},
          "execution_count": 45
        }
      ]
    },
    {
      "cell_type": "code",
      "execution_count": 46,
      "id": "ebb96854",
      "metadata": {
        "id": "ebb96854",
        "outputId": "438e3493-a1ec-4a4c-e312-a702622e615b",
        "colab": {
          "base_uri": "https://localhost:8080/",
          "height": 724
        }
      },
      "outputs": [
        {
          "output_type": "display_data",
          "data": {
            "text/plain": [
              "<Figure size 800x800 with 1 Axes>"
            ],
            "image/png": "[encoded data removed]"
          },
          "metadata": {}
        }
      ],
      "source": [
        "# 결과 시각화\n",
        "import matplotlib.pyplot as plt\n",
        "\n",
        "plt.figure(figsize = (8, 8))\n",
        "\n",
        "for i in range(k):\n",
        "    plt.scatter(df.loc[df['cluster'] == i, 'Annual Income (k$)'], df.loc[df['cluster'] == i, 'Spending Score (1-100)'], \n",
        "                label = 'cluster ' + str(i))\n",
        "\n",
        "plt.legend()\n",
        "plt.title('K = %d results'%k , size = 15)\n",
        "plt.xlabel('Annual Income', size = 12)\n",
        "plt.ylabel('Spending Score', size = 12)\n",
        "plt.show()"
      ]
    },
    {
      "cell_type": "markdown",
      "id": "8ad4c60a",
      "metadata": {
        "id": "8ad4c60a"
      },
      "source": [
        "#### k 결정 - elbow method"
      ]
    },
    {
      "cell_type": "code",
      "execution_count": 47,
      "id": "d6f458c1",
      "metadata": {
        "id": "d6f458c1",
        "outputId": "697b52f3-295c-474f-a06b-3a161442ca59",
        "colab": {
          "base_uri": "https://localhost:8080/",
          "height": 796
        }
      },
      "outputs": [
        {
          "output_type": "stream",
          "name": "stderr",
          "text": [
            "/usr/local/lib/python3.10/dist-packages/sklearn/cluster/_kmeans.py:870: FutureWarning: The default value of `n_init` will change from 10 to 'auto' in 1.4. Set the value of `n_init` explicitly to suppress the warning\n",
            "  warnings.warn(\n",
            "/usr/local/lib/python3.10/dist-packages/sklearn/cluster/_kmeans.py:870: FutureWarning: The default value of `n_init` will change from 10 to 'auto' in 1.4. Set the value of `n_init` explicitly to suppress the warning\n",
            "  warnings.warn(\n",
            "/usr/local/lib/python3.10/dist-packages/sklearn/cluster/_kmeans.py:870: FutureWarning: The default value of `n_init` will change from 10 to 'auto' in 1.4. Set the value of `n_init` explicitly to suppress the warning\n",
            "  warnings.warn(\n",
            "/usr/local/lib/python3.10/dist-packages/sklearn/cluster/_kmeans.py:870: FutureWarning: The default value of `n_init` will change from 10 to 'auto' in 1.4. Set the value of `n_init` explicitly to suppress the warning\n",
            "  warnings.warn(\n",
            "/usr/local/lib/python3.10/dist-packages/sklearn/cluster/_kmeans.py:870: FutureWarning: The default value of `n_init` will change from 10 to 'auto' in 1.4. Set the value of `n_init` explicitly to suppress the warning\n",
            "  warnings.warn(\n",
            "/usr/local/lib/python3.10/dist-packages/sklearn/cluster/_kmeans.py:870: FutureWarning: The default value of `n_init` will change from 10 to 'auto' in 1.4. Set the value of `n_init` explicitly to suppress the warning\n",
            "  warnings.warn(\n",
            "/usr/local/lib/python3.10/dist-packages/sklearn/cluster/_kmeans.py:870: FutureWarning: The default value of `n_init` will change from 10 to 'auto' in 1.4. Set the value of `n_init` explicitly to suppress the warning\n",
            "  warnings.warn(\n",
            "/usr/local/lib/python3.10/dist-packages/sklearn/cluster/_kmeans.py:870: FutureWarning: The default value of `n_init` will change from 10 to 'auto' in 1.4. Set the value of `n_init` explicitly to suppress the warning\n",
            "  warnings.warn(\n",
            "/usr/local/lib/python3.10/dist-packages/sklearn/cluster/_kmeans.py:870: FutureWarning: The default value of `n_init` will change from 10 to 'auto' in 1.4. Set the value of `n_init` explicitly to suppress the warning\n",
            "  warnings.warn(\n"
          ]
        },
        {
          "output_type": "display_data",
          "data": {
            "text/plain": [
              "<Figure size 640x480 with 1 Axes>"
            ],
            "image/png": "[encoded data removed]"
          },
          "metadata": {}
        }
      ],
      "source": [
        "# elbow_method를 이용하여 클러스터의 개수를 정해보세요. \n",
        "num_clusters = list(range(1,10))\n",
        "inertias = []\n",
        "for i in num_clusters:\n",
        "    model = KMeans(n_clusters = i)\n",
        "    model.fit(data)\n",
        "    inertias.append(model.inertia_) # 지표확인 시 inertia_ 값\n",
        "\n",
        "# 그래프\n",
        "plt.plot(num_clusters, inertias, '-c')\n",
        "plt.xlabel(\"Number of Clusters (k)\")\n",
        "plt.ylabel(\"lnertia\")\n",
        "plt.show()\n"
      ]
    },
    {
      "cell_type": "markdown",
      "source": [
        "#### 업데이트"
      ],
      "metadata": {
        "id": "-CQ7WpWnPpHo"
      },
      "id": "-CQ7WpWnPpHo"
    },
    {
      "cell_type": "code",
      "execution_count": 53,
      "id": "50b298f3",
      "metadata": {
        "id": "50b298f3",
        "outputId": "b7c19c90-e1c5-4902-c761-3a48693987fe",
        "colab": {
          "base_uri": "https://localhost:8080/",
          "height": 817
        }
      },
      "outputs": [
        {
          "output_type": "stream",
          "name": "stderr",
          "text": [
            "/usr/local/lib/python3.10/dist-packages/sklearn/cluster/_kmeans.py:870: FutureWarning: The default value of `n_init` will change from 10 to 'auto' in 1.4. Set the value of `n_init` explicitly to suppress the warning\n",
            "  warnings.warn(\n",
            "/usr/local/lib/python3.10/dist-packages/sklearn/cluster/_kmeans.py:870: FutureWarning: The default value of `n_init` will change from 10 to 'auto' in 1.4. Set the value of `n_init` explicitly to suppress the warning\n",
            "  warnings.warn(\n"
          ]
        },
        {
          "output_type": "display_data",
          "data": {
            "text/plain": [
              "<Figure size 800x800 with 1 Axes>"
            ],
            "image/png": "[encoded data removed]"
          },
          "metadata": {}
        }
      ],
      "source": [
        "# 위의 elbow method 결과를 참고하여 다시한번 클러스터링하고, 시각화하세요\n",
        "k=5\n",
        "\n",
        "# 그룹 수, random_state 설정\n",
        "model = KMeans(n_clusters = k, random_state = 19)\n",
        "\n",
        "# 정규화된 데이터에 학습\n",
        "model.fit(data_scale)\n",
        "\n",
        "# 클러스터링 결과 각 데이터가 몇 번째 그룹에 속하는지 저장\n",
        "df['re_cluster'] = model.fit_predict(data_scale)\n",
        "\n",
        "# 시각화\n",
        "import matplotlib.pyplot as plt\n",
        "\n",
        "plt.figure(figsize = (8, 8))\n",
        "\n",
        "for i in range(k):\n",
        "    plt.scatter(df.loc[df['re_cluster'] == i, 'Annual Income (k$)'], df.loc[df['re_cluster'] == i, 'Spending Score (1-100)'], \n",
        "                label = 're_cluster ' + str(i))\n",
        "\n",
        "plt.legend()\n",
        "plt.title('K = %d results'%k , size = 15)\n",
        "plt.xlabel('Annual Income', size = 12)\n",
        "plt.ylabel('Spending Score', size = 12)\n",
        "plt.show()"
      ]
    },
    {
      "cell_type": "code",
      "execution_count": 55,
      "id": "a98a1202",
      "metadata": {
        "id": "a98a1202",
        "colab": {
          "base_uri": "https://localhost:8080/",
          "height": 817
        },
        "outputId": "044d009b-b70c-4da2-c3da-902b0a5de34a"
      },
      "outputs": [
        {
          "output_type": "stream",
          "name": "stderr",
          "text": [
            "/usr/local/lib/python3.10/dist-packages/sklearn/cluster/_kmeans.py:870: FutureWarning: The default value of `n_init` will change from 10 to 'auto' in 1.4. Set the value of `n_init` explicitly to suppress the warning\n",
            "  warnings.warn(\n",
            "/usr/local/lib/python3.10/dist-packages/sklearn/cluster/_kmeans.py:870: FutureWarning: The default value of `n_init` will change from 10 to 'auto' in 1.4. Set the value of `n_init` explicitly to suppress the warning\n",
            "  warnings.warn(\n"
          ]
        },
        {
          "output_type": "display_data",
          "data": {
            "text/plain": [
              "<Figure size 800x800 with 1 Axes>"
            ],
            "image/png": "[encoded data removed]"
          },
          "metadata": {}
        }
      ],
      "source": [
        "# 위의 elbow method 결과를 참고하여 다시한번 클러스터링하고, 시각화하세요\n",
        "k=6\n",
        "\n",
        "# 그룹 수, random_state 설정\n",
        "model = KMeans(n_clusters = k, random_state = 19)\n",
        "\n",
        "# 정규화된 데이터에 학습\n",
        "model.fit(data_scale)\n",
        "\n",
        "# 클러스터링 결과 각 데이터가 몇 번째 그룹에 속하는지 저장\n",
        "df['re_cluster'] = model.fit_predict(data_scale)\n",
        "\n",
        "# 시각화\n",
        "import matplotlib.pyplot as plt\n",
        "\n",
        "plt.figure(figsize = (8, 8))\n",
        "\n",
        "for i in range(k):\n",
        "    plt.scatter(df.loc[df['re_cluster'] == i, 'Annual Income (k$)'], df.loc[df['re_cluster'] == i, 'Spending Score (1-100)'], \n",
        "                label = 're_cluster ' + str(i))\n",
        "\n",
        "plt.legend()\n",
        "plt.title('K = %d results'%k , size = 15)\n",
        "plt.xlabel('Annual Income', size = 12)\n",
        "plt.ylabel('Spending Score', size = 12)\n",
        "plt.show()"
      ]
    },
    {
      "cell_type": "markdown",
      "source": [
        "####평가\n"
      ],
      "metadata": {
        "id": "EOYAAeiJmB63"
      },
      "id": "EOYAAeiJmB63"
    },
    {
      "cell_type": "code",
      "source": [
        "from sklearn.metrics import silhouette_score # silhouette_score : 실루엣 지표\n",
        " \n",
        "silhouette_score(data, kmeans.labels_, metric='euclidean') "
      ],
      "metadata": {
        "colab": {
          "base_uri": "https://localhost:8080/"
        },
        "id": "pbCzMZNhmDYR",
        "outputId": "0d1b7407-4bc3-4c0c-c16b-6491bf46a551"
      },
      "id": "pbCzMZNhmDYR",
      "execution_count": 95,
      "outputs": [
        {
          "output_type": "execute_result",
          "data": {
            "text/plain": [
              "-0.021640072650628204"
            ]
          },
          "metadata": {},
          "execution_count": 95
        }
      ]
    },
    {
      "cell_type": "code",
      "source": [
        "from sklearn.metrics import silhouette_samples # 각각의 샘플의 실루엣계수 구해주는 라이브러리\n",
        "\n",
        "# iris 의 모든 개별 데이터에 실루엣 계수값을 구함. \n",
        "score_samples = silhouette_samples(data, df['re_cluster'])\n",
        "print('silhouette_samples( ) return 값의 shape' , score_samples.shape)\n",
        "\n",
        "# irisDF에 실루엣 계수 컬럼 추가\n",
        "df['silhouette_coeff'] = score_samples\n",
        "\n",
        "# 모든 데이터의 평균 실루엣 계수값을 구함. \n",
        "average_score = silhouette_score(data, df['re_cluster'])\n",
        "print('붓꽃 데이터셋 Silhouette Analysis Score:{0:.3f}'.format(average_score))\n",
        "\n",
        "df.head(3)"
      ],
      "metadata": {
        "colab": {
          "base_uri": "https://localhost:8080/",
          "height": 180
        },
        "id": "axkbpgZkmSe_",
        "outputId": "ac655f5f-ee96-4f0a-a5e1-5b65143c9f3d"
      },
      "id": "axkbpgZkmSe_",
      "execution_count": 94,
      "outputs": [
        {
          "output_type": "stream",
          "name": "stdout",
          "text": [
            "silhouette_samples( ) return 값의 shape (200,)\n",
            "붓꽃 데이터셋 Silhouette Analysis Score:0.539\n"
          ]
        },
        {
          "output_type": "execute_result",
          "data": {
            "text/plain": [
              "   CustomerID  Gender  Age  Annual Income (k$)  Spending Score (1-100)  \\\n",
              "0           1    Male   19                  15                      39   \n",
              "1           2    Male   21                  15                      81   \n",
              "2           3  Female   20                  16                       6   \n",
              "\n",
              "   cluster  re_cluster  silhouette_coeff  \n",
              "0        0           1          0.414415  \n",
              "1        0           2          0.694725  \n",
              "2        5           1          0.639701  "
            ],
            "text/html": [
              "\n",
              "  <div id=\"df-674bacc6-2416-46bf-8554-e0e6c89448f7\">\n",
              "    <div class=\"colab-df-container\">\n",
              "      <div>\n",
              "<style scoped>\n",
              "    .dataframe tbody tr th:only-of-type {\n",
              "        vertical-align: middle;\n",
              "    }\n",
              "\n",
              "    .dataframe tbody tr th {\n",
              "        vertical-align: top;\n",
              "    }\n",
              "\n",
              "    .dataframe thead th {\n",
              "        text-align: right;\n",
              "    }\n",
              "</style>\n",
              "<table border=\"1\" class=\"dataframe\">\n",
              "  <thead>\n",
              "    <tr style=\"text-align: right;\">\n",
              "      <th></th>\n",
              "      <th>CustomerID</th>\n",
              "      <th>Gender</th>\n",
              "      <th>Age</th>\n",
              "      <th>Annual Income (k$)</th>\n",
              "      <th>Spending Score (1-100)</th>\n",
              "      <th>cluster</th>\n",
              "      <th>re_cluster</th>\n",
              "      <th>silhouette_coeff</th>\n",
              "    </tr>\n",
              "  </thead>\n",
              "  <tbody>\n",
              "    <tr>\n",
              "      <th>0</th>\n",
              "      <td>1</td>\n",
              "      <td>Male</td>\n",
              "      <td>19</td>\n",
              "      <td>15</td>\n",
              "      <td>39</td>\n",
              "      <td>0</td>\n",
              "      <td>1</td>\n",
              "      <td>0.414415</td>\n",
              "    </tr>\n",
              "    <tr>\n",
              "      <th>1</th>\n",
              "      <td>2</td>\n",
              "      <td>Male</td>\n",
              "      <td>21</td>\n",
              "      <td>15</td>\n",
              "      <td>81</td>\n",
              "      <td>0</td>\n",
              "      <td>2</td>\n",
              "      <td>0.694725</td>\n",
              "    </tr>\n",
              "    <tr>\n",
              "      <th>2</th>\n",
              "      <td>3</td>\n",
              "      <td>Female</td>\n",
              "      <td>20</td>\n",
              "      <td>16</td>\n",
              "      <td>6</td>\n",
              "      <td>5</td>\n",
              "      <td>1</td>\n",
              "      <td>0.639701</td>\n",
              "    </tr>\n",
              "  </tbody>\n",
              "</table>\n",
              "</div>\n",
              "      <button class=\"colab-df-convert\" onclick=\"convertToInteractive('df-674bacc6-2416-46bf-8554-e0e6c89448f7')\"\n",
              "              title=\"Convert this dataframe to an interactive table.\"\n",
              "              style=\"display:none;\">\n",
              "        \n",
              "  <svg xmlns=\"http://www.w3.org/2000/svg\" height=\"24px\"viewBox=\"0 0 24 24\"\n",
              "       width=\"24px\">\n",
              "    <path d=\"M0 0h24v24H0V0z\" fill=\"none\"/>\n",
              "    <path d=\"M18.56 5.44l.94 2.06.94-2.06 2.06-.94-2.06-.94-.94-2.06-.94 2.06-2.06.94zm-11 1L8.5 8.5l.94-2.06 2.06-.94-2.06-.94L8.5 2.5l-.94 2.06-2.06.94zm10 10l.94 2.06.94-2.06 2.06-.94-2.06-.94-.94-2.06-.94 2.06-2.06.94z\"/><path d=\"M17.41 7.96l-1.37-1.37c-.4-.4-.92-.59-1.43-.59-.52 0-1.04.2-1.43.59L10.3 9.45l-7.72 7.72c-.78.78-.78 2.05 0 2.83L4 21.41c.39.39.9.59 1.41.59.51 0 1.02-.2 1.41-.59l7.78-7.78 2.81-2.81c.8-.78.8-2.07 0-2.86zM5.41 20L4 18.59l7.72-7.72 1.47 1.35L5.41 20z\"/>\n",
              "  </svg>\n",
              "      </button>\n",
              "      \n",
              "  <style>\n",
              "    .colab-df-container {\n",
              "      display:flex;\n",
              "      flex-wrap:wrap;\n",
              "      gap: 12px;\n",
              "    }\n",
              "\n",
              "    .colab-df-convert {\n",
              "      background-color: #E8F0FE;\n",
              "      border: none;\n",
              "      border-radius: 50%;\n",
              "      cursor: pointer;\n",
              "      display: none;\n",
              "      fill: #1967D2;\n",
              "      height: 32px;\n",
              "      padding: 0 0 0 0;\n",
              "      width: 32px;\n",
              "    }\n",
              "\n",
              "    .colab-df-convert:hover {\n",
              "      background-color: #E2EBFA;\n",
              "      box-shadow: 0px 1px 2px rgba(60, 64, 67, 0.3), 0px 1px 3px 1px rgba(60, 64, 67, 0.15);\n",
              "      fill: #174EA6;\n",
              "    }\n",
              "\n",
              "    [theme=dark] .colab-df-convert {\n",
              "      background-color: #3B4455;\n",
              "      fill: #D2E3FC;\n",
              "    }\n",
              "\n",
              "    [theme=dark] .colab-df-convert:hover {\n",
              "      background-color: #434B5C;\n",
              "      box-shadow: 0px 1px 3px 1px rgba(0, 0, 0, 0.15);\n",
              "      filter: drop-shadow(0px 1px 2px rgba(0, 0, 0, 0.3));\n",
              "      fill: #FFFFFF;\n",
              "    }\n",
              "  </style>\n",
              "\n",
              "      <script>\n",
              "        const buttonEl =\n",
              "          document.querySelector('#df-674bacc6-2416-46bf-8554-e0e6c89448f7 button.colab-df-convert');\n",
              "        buttonEl.style.display =\n",
              "          google.colab.kernel.accessAllowed ? 'block' : 'none';\n",
              "\n",
              "        async function convertToInteractive(key) {\n",
              "          const element = document.querySelector('#df-674bacc6-2416-46bf-8554-e0e6c89448f7');\n",
              "          const dataTable =\n",
              "            await google.colab.kernel.invokeFunction('convertToInteractive',\n",
              "                                                     [key], {});\n",
              "          if (!dataTable) return;\n",
              "\n",
              "          const docLinkHtml = 'Like what you see? Visit the ' +\n",
              "            '<a target=\"_blank\" href=https://colab.research.google.com/notebooks/data_table.ipynb>data table notebook</a>'\n",
              "            + ' to learn more about interactive tables.';\n",
              "          element.innerHTML = '';\n",
              "          dataTable['output_type'] = 'display_data';\n",
              "          await google.colab.output.renderOutput(dataTable, element);\n",
              "          const docLink = document.createElement('div');\n",
              "          docLink.innerHTML = docLinkHtml;\n",
              "          element.appendChild(docLink);\n",
              "        }\n",
              "      </script>\n",
              "    </div>\n",
              "  </div>\n",
              "  "
            ]
          },
          "metadata": {},
          "execution_count": 94
        }
      ]
    },
    {
      "cell_type": "code",
      "source": [],
      "metadata": {
        "id": "U-VAvmdnmWmh"
      },
      "id": "U-VAvmdnmWmh",
      "execution_count": null,
      "outputs": []
    },
    {
      "cell_type": "code",
      "source": [
        "df.groupby('re_cluster').mean()['silhouette_coeff']\n",
        "# 0,3번(숫자가 낮음)이 경계가 불분명한 것을 알 수 있음"
      ],
      "metadata": {
        "colab": {
          "base_uri": "https://localhost:8080/"
        },
        "outputId": "5977a27a-80eb-4742-e31a-95d57290bed5",
        "id": "EvBHJbJ_mWs6"
      },
      "execution_count": 97,
      "outputs": [
        {
          "output_type": "stream",
          "name": "stderr",
          "text": [
            "<ipython-input-97-a3e5f8db97e7>:1: FutureWarning: The default value of numeric_only in DataFrameGroupBy.mean is deprecated. In a future version, numeric_only will default to False. Either specify numeric_only or select only columns which should be valid for the function.\n",
            "  df.groupby('re_cluster').mean()['silhouette_coeff']\n"
          ]
        },
        {
          "output_type": "execute_result",
          "data": {
            "text/plain": [
              "re_cluster\n",
              "0    0.329535\n",
              "1    0.510954\n",
              "2    0.594082\n",
              "3    0.481367\n",
              "4    0.588264\n",
              "5    0.530036\n",
              "Name: silhouette_coeff, dtype: float64"
            ]
          },
          "metadata": {},
          "execution_count": 97
        }
      ],
      "id": "EvBHJbJ_mWs6"
    },
    {
      "cell_type": "code",
      "execution_count": 96,
      "metadata": {
        "colab": {
          "base_uri": "https://localhost:8080/"
        },
        "outputId": "13840221-0adb-4db5-c7de-b422676dbfd4",
        "id": "6qNh2i0umWs7"
      },
      "outputs": [
        {
          "output_type": "execute_result",
          "data": {
            "text/plain": [
              "re_cluster\n",
              "0    0.329535\n",
              "1    0.510954\n",
              "2    0.594082\n",
              "3    0.481367\n",
              "4    0.588264\n",
              "5    0.530036\n",
              "Name: silhouette_coeff, dtype: float64"
            ]
          },
          "metadata": {},
          "execution_count": 96
        }
      ],
      "source": [
        "df.groupby('re_cluster')['silhouette_coeff'].mean()"
      ],
      "id": "6qNh2i0umWs7"
    },
    {
      "cell_type": "code",
      "source": [],
      "metadata": {
        "id": "LuKVt2Q9mTEK"
      },
      "id": "LuKVt2Q9mTEK",
      "execution_count": null,
      "outputs": []
    },
    {
      "cell_type": "markdown",
      "source": [
        "###모든 데이터 사용\n"
      ],
      "metadata": {
        "id": "3DDbaM0MQyQn"
      },
      "id": "3DDbaM0MQyQn"
    },
    {
      "cell_type": "code",
      "source": [
        "train = df.copy()\n",
        "train"
      ],
      "metadata": {
        "colab": {
          "base_uri": "https://localhost:8080/",
          "height": 423
        },
        "id": "6suH1PioQ13a",
        "outputId": "25c71147-ee9c-4308-ef3d-6f0e4480eba4"
      },
      "id": "6suH1PioQ13a",
      "execution_count": 68,
      "outputs": [
        {
          "output_type": "execute_result",
          "data": {
            "text/plain": [
              "     CustomerID  Gender  Age  Annual Income (k$)  Spending Score (1-100)  \\\n",
              "0             1    Male   19                  15                      39   \n",
              "1             2    Male   21                  15                      81   \n",
              "2             3  Female   20                  16                       6   \n",
              "3             4  Female   23                  16                      77   \n",
              "4             5  Female   31                  17                      40   \n",
              "..          ...     ...  ...                 ...                     ...   \n",
              "195         196  Female   35                 120                      79   \n",
              "196         197  Female   45                 126                      28   \n",
              "197         198    Male   32                 126                      74   \n",
              "198         199    Male   32                 137                      18   \n",
              "199         200    Male   30                 137                      83   \n",
              "\n",
              "     cluster  re_cluster  \n",
              "0          4           1  \n",
              "1          0           2  \n",
              "2          4           1  \n",
              "3          0           2  \n",
              "4          4           1  \n",
              "..       ...         ...  \n",
              "195        5           0  \n",
              "196        6           3  \n",
              "197        5           0  \n",
              "198        6           3  \n",
              "199        5           0  \n",
              "\n",
              "[200 rows x 7 columns]"
            ],
            "text/html": [
              "\n",
              "  <div id=\"df-5d988681-8576-48a5-9c9b-173fca14ee08\">\n",
              "    <div class=\"colab-df-container\">\n",
              "      <div>\n",
              "<style scoped>\n",
              "    .dataframe tbody tr th:only-of-type {\n",
              "        vertical-align: middle;\n",
              "    }\n",
              "\n",
              "    .dataframe tbody tr th {\n",
              "        vertical-align: top;\n",
              "    }\n",
              "\n",
              "    .dataframe thead th {\n",
              "        text-align: right;\n",
              "    }\n",
              "</style>\n",
              "<table border=\"1\" class=\"dataframe\">\n",
              "  <thead>\n",
              "    <tr style=\"text-align: right;\">\n",
              "      <th></th>\n",
              "      <th>CustomerID</th>\n",
              "      <th>Gender</th>\n",
              "      <th>Age</th>\n",
              "      <th>Annual Income (k$)</th>\n",
              "      <th>Spending Score (1-100)</th>\n",
              "      <th>cluster</th>\n",
              "      <th>re_cluster</th>\n",
              "    </tr>\n",
              "  </thead>\n",
              "  <tbody>\n",
              "    <tr>\n",
              "      <th>0</th>\n",
              "      <td>1</td>\n",
              "      <td>Male</td>\n",
              "      <td>19</td>\n",
              "      <td>15</td>\n",
              "      <td>39</td>\n",
              "      <td>4</td>\n",
              "      <td>1</td>\n",
              "    </tr>\n",
              "    <tr>\n",
              "      <th>1</th>\n",
              "      <td>2</td>\n",
              "      <td>Male</td>\n",
              "      <td>21</td>\n",
              "      <td>15</td>\n",
              "      <td>81</td>\n",
              "      <td>0</td>\n",
              "      <td>2</td>\n",
              "    </tr>\n",
              "    <tr>\n",
              "      <th>2</th>\n",
              "      <td>3</td>\n",
              "      <td>Female</td>\n",
              "      <td>20</td>\n",
              "      <td>16</td>\n",
              "      <td>6</td>\n",
              "      <td>4</td>\n",
              "      <td>1</td>\n",
              "    </tr>\n",
              "    <tr>\n",
              "      <th>3</th>\n",
              "      <td>4</td>\n",
              "      <td>Female</td>\n",
              "      <td>23</td>\n",
              "      <td>16</td>\n",
              "      <td>77</td>\n",
              "      <td>0</td>\n",
              "      <td>2</td>\n",
              "    </tr>\n",
              "    <tr>\n",
              "      <th>4</th>\n",
              "      <td>5</td>\n",
              "      <td>Female</td>\n",
              "      <td>31</td>\n",
              "      <td>17</td>\n",
              "      <td>40</td>\n",
              "      <td>4</td>\n",
              "      <td>1</td>\n",
              "    </tr>\n",
              "    <tr>\n",
              "      <th>...</th>\n",
              "      <td>...</td>\n",
              "      <td>...</td>\n",
              "      <td>...</td>\n",
              "      <td>...</td>\n",
              "      <td>...</td>\n",
              "      <td>...</td>\n",
              "      <td>...</td>\n",
              "    </tr>\n",
              "    <tr>\n",
              "      <th>195</th>\n",
              "      <td>196</td>\n",
              "      <td>Female</td>\n",
              "      <td>35</td>\n",
              "      <td>120</td>\n",
              "      <td>79</td>\n",
              "      <td>5</td>\n",
              "      <td>0</td>\n",
              "    </tr>\n",
              "    <tr>\n",
              "      <th>196</th>\n",
              "      <td>197</td>\n",
              "      <td>Female</td>\n",
              "      <td>45</td>\n",
              "      <td>126</td>\n",
              "      <td>28</td>\n",
              "      <td>6</td>\n",
              "      <td>3</td>\n",
              "    </tr>\n",
              "    <tr>\n",
              "      <th>197</th>\n",
              "      <td>198</td>\n",
              "      <td>Male</td>\n",
              "      <td>32</td>\n",
              "      <td>126</td>\n",
              "      <td>74</td>\n",
              "      <td>5</td>\n",
              "      <td>0</td>\n",
              "    </tr>\n",
              "    <tr>\n",
              "      <th>198</th>\n",
              "      <td>199</td>\n",
              "      <td>Male</td>\n",
              "      <td>32</td>\n",
              "      <td>137</td>\n",
              "      <td>18</td>\n",
              "      <td>6</td>\n",
              "      <td>3</td>\n",
              "    </tr>\n",
              "    <tr>\n",
              "      <th>199</th>\n",
              "      <td>200</td>\n",
              "      <td>Male</td>\n",
              "      <td>30</td>\n",
              "      <td>137</td>\n",
              "      <td>83</td>\n",
              "      <td>5</td>\n",
              "      <td>0</td>\n",
              "    </tr>\n",
              "  </tbody>\n",
              "</table>\n",
              "<p>200 rows × 7 columns</p>\n",
              "</div>\n",
              "      <button class=\"colab-df-convert\" onclick=\"convertToInteractive('df-5d988681-8576-48a5-9c9b-173fca14ee08')\"\n",
              "              title=\"Convert this dataframe to an interactive table.\"\n",
              "              style=\"display:none;\">\n",
              "        \n",
              "  <svg xmlns=\"http://www.w3.org/2000/svg\" height=\"24px\"viewBox=\"0 0 24 24\"\n",
              "       width=\"24px\">\n",
              "    <path d=\"M0 0h24v24H0V0z\" fill=\"none\"/>\n",
              "    <path d=\"M18.56 5.44l.94 2.06.94-2.06 2.06-.94-2.06-.94-.94-2.06-.94 2.06-2.06.94zm-11 1L8.5 8.5l.94-2.06 2.06-.94-2.06-.94L8.5 2.5l-.94 2.06-2.06.94zm10 10l.94 2.06.94-2.06 2.06-.94-2.06-.94-.94-2.06-.94 2.06-2.06.94z\"/><path d=\"M17.41 7.96l-1.37-1.37c-.4-.4-.92-.59-1.43-.59-.52 0-1.04.2-1.43.59L10.3 9.45l-7.72 7.72c-.78.78-.78 2.05 0 2.83L4 21.41c.39.39.9.59 1.41.59.51 0 1.02-.2 1.41-.59l7.78-7.78 2.81-2.81c.8-.78.8-2.07 0-2.86zM5.41 20L4 18.59l7.72-7.72 1.47 1.35L5.41 20z\"/>\n",
              "  </svg>\n",
              "      </button>\n",
              "      \n",
              "  <style>\n",
              "    .colab-df-container {\n",
              "      display:flex;\n",
              "      flex-wrap:wrap;\n",
              "      gap: 12px;\n",
              "    }\n",
              "\n",
              "    .colab-df-convert {\n",
              "      background-color: #E8F0FE;\n",
              "      border: none;\n",
              "      border-radius: 50%;\n",
              "      cursor: pointer;\n",
              "      display: none;\n",
              "      fill: #1967D2;\n",
              "      height: 32px;\n",
              "      padding: 0 0 0 0;\n",
              "      width: 32px;\n",
              "    }\n",
              "\n",
              "    .colab-df-convert:hover {\n",
              "      background-color: #E2EBFA;\n",
              "      box-shadow: 0px 1px 2px rgba(60, 64, 67, 0.3), 0px 1px 3px 1px rgba(60, 64, 67, 0.15);\n",
              "      fill: #174EA6;\n",
              "    }\n",
              "\n",
              "    [theme=dark] .colab-df-convert {\n",
              "      background-color: #3B4455;\n",
              "      fill: #D2E3FC;\n",
              "    }\n",
              "\n",
              "    [theme=dark] .colab-df-convert:hover {\n",
              "      background-color: #434B5C;\n",
              "      box-shadow: 0px 1px 3px 1px rgba(0, 0, 0, 0.15);\n",
              "      filter: drop-shadow(0px 1px 2px rgba(0, 0, 0, 0.3));\n",
              "      fill: #FFFFFF;\n",
              "    }\n",
              "  </style>\n",
              "\n",
              "      <script>\n",
              "        const buttonEl =\n",
              "          document.querySelector('#df-5d988681-8576-48a5-9c9b-173fca14ee08 button.colab-df-convert');\n",
              "        buttonEl.style.display =\n",
              "          google.colab.kernel.accessAllowed ? 'block' : 'none';\n",
              "\n",
              "        async function convertToInteractive(key) {\n",
              "          const element = document.querySelector('#df-5d988681-8576-48a5-9c9b-173fca14ee08');\n",
              "          const dataTable =\n",
              "            await google.colab.kernel.invokeFunction('convertToInteractive',\n",
              "                                                     [key], {});\n",
              "          if (!dataTable) return;\n",
              "\n",
              "          const docLinkHtml = 'Like what you see? Visit the ' +\n",
              "            '<a target=\"_blank\" href=https://colab.research.google.com/notebooks/data_table.ipynb>data table notebook</a>'\n",
              "            + ' to learn more about interactive tables.';\n",
              "          element.innerHTML = '';\n",
              "          dataTable['output_type'] = 'display_data';\n",
              "          await google.colab.output.renderOutput(dataTable, element);\n",
              "          const docLink = document.createElement('div');\n",
              "          docLink.innerHTML = docLinkHtml;\n",
              "          element.appendChild(docLink);\n",
              "        }\n",
              "      </script>\n",
              "    </div>\n",
              "  </div>\n",
              "  "
            ]
          },
          "metadata": {},
          "execution_count": 68
        }
      ]
    },
    {
      "cell_type": "code",
      "source": [
        "train_data = train[['Gender',\t'Age'\t,'Annual Income (k$)',\t'Spending Score (1-100)']]\n",
        "train_data"
      ],
      "metadata": {
        "colab": {
          "base_uri": "https://localhost:8080/",
          "height": 423
        },
        "id": "V0stTbanREUR",
        "outputId": "71ee23a8-59af-4792-c120-2f0d3a0d0494"
      },
      "id": "V0stTbanREUR",
      "execution_count": 69,
      "outputs": [
        {
          "output_type": "execute_result",
          "data": {
            "text/plain": [
              "     Gender  Age  Annual Income (k$)  Spending Score (1-100)\n",
              "0      Male   19                  15                      39\n",
              "1      Male   21                  15                      81\n",
              "2    Female   20                  16                       6\n",
              "3    Female   23                  16                      77\n",
              "4    Female   31                  17                      40\n",
              "..      ...  ...                 ...                     ...\n",
              "195  Female   35                 120                      79\n",
              "196  Female   45                 126                      28\n",
              "197    Male   32                 126                      74\n",
              "198    Male   32                 137                      18\n",
              "199    Male   30                 137                      83\n",
              "\n",
              "[200 rows x 4 columns]"
            ],
            "text/html": [
              "\n",
              "  <div id=\"df-f1faeffe-d976-4a98-8609-3521b103793a\">\n",
              "    <div class=\"colab-df-container\">\n",
              "      <div>\n",
              "<style scoped>\n",
              "    .dataframe tbody tr th:only-of-type {\n",
              "        vertical-align: middle;\n",
              "    }\n",
              "\n",
              "    .dataframe tbody tr th {\n",
              "        vertical-align: top;\n",
              "    }\n",
              "\n",
              "    .dataframe thead th {\n",
              "        text-align: right;\n",
              "    }\n",
              "</style>\n",
              "<table border=\"1\" class=\"dataframe\">\n",
              "  <thead>\n",
              "    <tr style=\"text-align: right;\">\n",
              "      <th></th>\n",
              "      <th>Gender</th>\n",
              "      <th>Age</th>\n",
              "      <th>Annual Income (k$)</th>\n",
              "      <th>Spending Score (1-100)</th>\n",
              "    </tr>\n",
              "  </thead>\n",
              "  <tbody>\n",
              "    <tr>\n",
              "      <th>0</th>\n",
              "      <td>Male</td>\n",
              "      <td>19</td>\n",
              "      <td>15</td>\n",
              "      <td>39</td>\n",
              "    </tr>\n",
              "    <tr>\n",
              "      <th>1</th>\n",
              "      <td>Male</td>\n",
              "      <td>21</td>\n",
              "      <td>15</td>\n",
              "      <td>81</td>\n",
              "    </tr>\n",
              "    <tr>\n",
              "      <th>2</th>\n",
              "      <td>Female</td>\n",
              "      <td>20</td>\n",
              "      <td>16</td>\n",
              "      <td>6</td>\n",
              "    </tr>\n",
              "    <tr>\n",
              "      <th>3</th>\n",
              "      <td>Female</td>\n",
              "      <td>23</td>\n",
              "      <td>16</td>\n",
              "      <td>77</td>\n",
              "    </tr>\n",
              "    <tr>\n",
              "      <th>4</th>\n",
              "      <td>Female</td>\n",
              "      <td>31</td>\n",
              "      <td>17</td>\n",
              "      <td>40</td>\n",
              "    </tr>\n",
              "    <tr>\n",
              "      <th>...</th>\n",
              "      <td>...</td>\n",
              "      <td>...</td>\n",
              "      <td>...</td>\n",
              "      <td>...</td>\n",
              "    </tr>\n",
              "    <tr>\n",
              "      <th>195</th>\n",
              "      <td>Female</td>\n",
              "      <td>35</td>\n",
              "      <td>120</td>\n",
              "      <td>79</td>\n",
              "    </tr>\n",
              "    <tr>\n",
              "      <th>196</th>\n",
              "      <td>Female</td>\n",
              "      <td>45</td>\n",
              "      <td>126</td>\n",
              "      <td>28</td>\n",
              "    </tr>\n",
              "    <tr>\n",
              "      <th>197</th>\n",
              "      <td>Male</td>\n",
              "      <td>32</td>\n",
              "      <td>126</td>\n",
              "      <td>74</td>\n",
              "    </tr>\n",
              "    <tr>\n",
              "      <th>198</th>\n",
              "      <td>Male</td>\n",
              "      <td>32</td>\n",
              "      <td>137</td>\n",
              "      <td>18</td>\n",
              "    </tr>\n",
              "    <tr>\n",
              "      <th>199</th>\n",
              "      <td>Male</td>\n",
              "      <td>30</td>\n",
              "      <td>137</td>\n",
              "      <td>83</td>\n",
              "    </tr>\n",
              "  </tbody>\n",
              "</table>\n",
              "<p>200 rows × 4 columns</p>\n",
              "</div>\n",
              "      <button class=\"colab-df-convert\" onclick=\"convertToInteractive('df-f1faeffe-d976-4a98-8609-3521b103793a')\"\n",
              "              title=\"Convert this dataframe to an interactive table.\"\n",
              "              style=\"display:none;\">\n",
              "        \n",
              "  <svg xmlns=\"http://www.w3.org/2000/svg\" height=\"24px\"viewBox=\"0 0 24 24\"\n",
              "       width=\"24px\">\n",
              "    <path d=\"M0 0h24v24H0V0z\" fill=\"none\"/>\n",
              "    <path d=\"M18.56 5.44l.94 2.06.94-2.06 2.06-.94-2.06-.94-.94-2.06-.94 2.06-2.06.94zm-11 1L8.5 8.5l.94-2.06 2.06-.94-2.06-.94L8.5 2.5l-.94 2.06-2.06.94zm10 10l.94 2.06.94-2.06 2.06-.94-2.06-.94-.94-2.06-.94 2.06-2.06.94z\"/><path d=\"M17.41 7.96l-1.37-1.37c-.4-.4-.92-.59-1.43-.59-.52 0-1.04.2-1.43.59L10.3 9.45l-7.72 7.72c-.78.78-.78 2.05 0 2.83L4 21.41c.39.39.9.59 1.41.59.51 0 1.02-.2 1.41-.59l7.78-7.78 2.81-2.81c.8-.78.8-2.07 0-2.86zM5.41 20L4 18.59l7.72-7.72 1.47 1.35L5.41 20z\"/>\n",
              "  </svg>\n",
              "      </button>\n",
              "      \n",
              "  <style>\n",
              "    .colab-df-container {\n",
              "      display:flex;\n",
              "      flex-wrap:wrap;\n",
              "      gap: 12px;\n",
              "    }\n",
              "\n",
              "    .colab-df-convert {\n",
              "      background-color: #E8F0FE;\n",
              "      border: none;\n",
              "      border-radius: 50%;\n",
              "      cursor: pointer;\n",
              "      display: none;\n",
              "      fill: #1967D2;\n",
              "      height: 32px;\n",
              "      padding: 0 0 0 0;\n",
              "      width: 32px;\n",
              "    }\n",
              "\n",
              "    .colab-df-convert:hover {\n",
              "      background-color: #E2EBFA;\n",
              "      box-shadow: 0px 1px 2px rgba(60, 64, 67, 0.3), 0px 1px 3px 1px rgba(60, 64, 67, 0.15);\n",
              "      fill: #174EA6;\n",
              "    }\n",
              "\n",
              "    [theme=dark] .colab-df-convert {\n",
              "      background-color: #3B4455;\n",
              "      fill: #D2E3FC;\n",
              "    }\n",
              "\n",
              "    [theme=dark] .colab-df-convert:hover {\n",
              "      background-color: #434B5C;\n",
              "      box-shadow: 0px 1px 3px 1px rgba(0, 0, 0, 0.15);\n",
              "      filter: drop-shadow(0px 1px 2px rgba(0, 0, 0, 0.3));\n",
              "      fill: #FFFFFF;\n",
              "    }\n",
              "  </style>\n",
              "\n",
              "      <script>\n",
              "        const buttonEl =\n",
              "          document.querySelector('#df-f1faeffe-d976-4a98-8609-3521b103793a button.colab-df-convert');\n",
              "        buttonEl.style.display =\n",
              "          google.colab.kernel.accessAllowed ? 'block' : 'none';\n",
              "\n",
              "        async function convertToInteractive(key) {\n",
              "          const element = document.querySelector('#df-f1faeffe-d976-4a98-8609-3521b103793a');\n",
              "          const dataTable =\n",
              "            await google.colab.kernel.invokeFunction('convertToInteractive',\n",
              "                                                     [key], {});\n",
              "          if (!dataTable) return;\n",
              "\n",
              "          const docLinkHtml = 'Like what you see? Visit the ' +\n",
              "            '<a target=\"_blank\" href=https://colab.research.google.com/notebooks/data_table.ipynb>data table notebook</a>'\n",
              "            + ' to learn more about interactive tables.';\n",
              "          element.innerHTML = '';\n",
              "          dataTable['output_type'] = 'display_data';\n",
              "          await google.colab.output.renderOutput(dataTable, element);\n",
              "          const docLink = document.createElement('div');\n",
              "          docLink.innerHTML = docLinkHtml;\n",
              "          element.appendChild(docLink);\n",
              "        }\n",
              "      </script>\n",
              "    </div>\n",
              "  </div>\n",
              "  "
            ]
          },
          "metadata": {},
          "execution_count": 69
        }
      ]
    },
    {
      "cell_type": "code",
      "source": [
        "train_data['Gender'].replace('Male',0, inplace = True)\n",
        "train_data['Gender'].replace('Female',1, inplace = True)"
      ],
      "metadata": {
        "colab": {
          "base_uri": "https://localhost:8080/"
        },
        "id": "xaEofrGfRxq4",
        "outputId": "21e77fc7-9556-4ebb-c70c-d04d60154d09"
      },
      "id": "xaEofrGfRxq4",
      "execution_count": 84,
      "outputs": [
        {
          "output_type": "stream",
          "name": "stderr",
          "text": [
            "<ipython-input-84-f8a5dccb8d46>:1: SettingWithCopyWarning: \n",
            "A value is trying to be set on a copy of a slice from a DataFrame\n",
            "\n",
            "See the caveats in the documentation: https://pandas.pydata.org/pandas-docs/stable/user_guide/indexing.html#returning-a-view-versus-a-copy\n",
            "  train_data['Gender'].replace('Male',0, inplace = True)\n",
            "<ipython-input-84-f8a5dccb8d46>:2: SettingWithCopyWarning: \n",
            "A value is trying to be set on a copy of a slice from a DataFrame\n",
            "\n",
            "See the caveats in the documentation: https://pandas.pydata.org/pandas-docs/stable/user_guide/indexing.html#returning-a-view-versus-a-copy\n",
            "  train_data['Gender'].replace('Female',1, inplace = True)\n"
          ]
        }
      ]
    },
    {
      "cell_type": "code",
      "source": [
        "train_data"
      ],
      "metadata": {
        "colab": {
          "base_uri": "https://localhost:8080/",
          "height": 423
        },
        "id": "ZpbFlXB3V3t8",
        "outputId": "a901a254-fd34-4727-c3ef-80723bd3b235"
      },
      "id": "ZpbFlXB3V3t8",
      "execution_count": 85,
      "outputs": [
        {
          "output_type": "execute_result",
          "data": {
            "text/plain": [
              "     Gender  Age  Annual Income (k$)  Spending Score (1-100)\n",
              "0         0   19                  15                      39\n",
              "1         0   21                  15                      81\n",
              "2         1   20                  16                       6\n",
              "3         1   23                  16                      77\n",
              "4         1   31                  17                      40\n",
              "..      ...  ...                 ...                     ...\n",
              "195       1   35                 120                      79\n",
              "196       1   45                 126                      28\n",
              "197       0   32                 126                      74\n",
              "198       0   32                 137                      18\n",
              "199       0   30                 137                      83\n",
              "\n",
              "[200 rows x 4 columns]"
            ],
            "text/html": [
              "\n",
              "  <div id=\"df-dc669805-1a3c-41db-a519-e2c436de578b\">\n",
              "    <div class=\"colab-df-container\">\n",
              "      <div>\n",
              "<style scoped>\n",
              "    .dataframe tbody tr th:only-of-type {\n",
              "        vertical-align: middle;\n",
              "    }\n",
              "\n",
              "    .dataframe tbody tr th {\n",
              "        vertical-align: top;\n",
              "    }\n",
              "\n",
              "    .dataframe thead th {\n",
              "        text-align: right;\n",
              "    }\n",
              "</style>\n",
              "<table border=\"1\" class=\"dataframe\">\n",
              "  <thead>\n",
              "    <tr style=\"text-align: right;\">\n",
              "      <th></th>\n",
              "      <th>Gender</th>\n",
              "      <th>Age</th>\n",
              "      <th>Annual Income (k$)</th>\n",
              "      <th>Spending Score (1-100)</th>\n",
              "    </tr>\n",
              "  </thead>\n",
              "  <tbody>\n",
              "    <tr>\n",
              "      <th>0</th>\n",
              "      <td>0</td>\n",
              "      <td>19</td>\n",
              "      <td>15</td>\n",
              "      <td>39</td>\n",
              "    </tr>\n",
              "    <tr>\n",
              "      <th>1</th>\n",
              "      <td>0</td>\n",
              "      <td>21</td>\n",
              "      <td>15</td>\n",
              "      <td>81</td>\n",
              "    </tr>\n",
              "    <tr>\n",
              "      <th>2</th>\n",
              "      <td>1</td>\n",
              "      <td>20</td>\n",
              "      <td>16</td>\n",
              "      <td>6</td>\n",
              "    </tr>\n",
              "    <tr>\n",
              "      <th>3</th>\n",
              "      <td>1</td>\n",
              "      <td>23</td>\n",
              "      <td>16</td>\n",
              "      <td>77</td>\n",
              "    </tr>\n",
              "    <tr>\n",
              "      <th>4</th>\n",
              "      <td>1</td>\n",
              "      <td>31</td>\n",
              "      <td>17</td>\n",
              "      <td>40</td>\n",
              "    </tr>\n",
              "    <tr>\n",
              "      <th>...</th>\n",
              "      <td>...</td>\n",
              "      <td>...</td>\n",
              "      <td>...</td>\n",
              "      <td>...</td>\n",
              "    </tr>\n",
              "    <tr>\n",
              "      <th>195</th>\n",
              "      <td>1</td>\n",
              "      <td>35</td>\n",
              "      <td>120</td>\n",
              "      <td>79</td>\n",
              "    </tr>\n",
              "    <tr>\n",
              "      <th>196</th>\n",
              "      <td>1</td>\n",
              "      <td>45</td>\n",
              "      <td>126</td>\n",
              "      <td>28</td>\n",
              "    </tr>\n",
              "    <tr>\n",
              "      <th>197</th>\n",
              "      <td>0</td>\n",
              "      <td>32</td>\n",
              "      <td>126</td>\n",
              "      <td>74</td>\n",
              "    </tr>\n",
              "    <tr>\n",
              "      <th>198</th>\n",
              "      <td>0</td>\n",
              "      <td>32</td>\n",
              "      <td>137</td>\n",
              "      <td>18</td>\n",
              "    </tr>\n",
              "    <tr>\n",
              "      <th>199</th>\n",
              "      <td>0</td>\n",
              "      <td>30</td>\n",
              "      <td>137</td>\n",
              "      <td>83</td>\n",
              "    </tr>\n",
              "  </tbody>\n",
              "</table>\n",
              "<p>200 rows × 4 columns</p>\n",
              "</div>\n",
              "      <button class=\"colab-df-convert\" onclick=\"convertToInteractive('df-dc669805-1a3c-41db-a519-e2c436de578b')\"\n",
              "              title=\"Convert this dataframe to an interactive table.\"\n",
              "              style=\"display:none;\">\n",
              "        \n",
              "  <svg xmlns=\"http://www.w3.org/2000/svg\" height=\"24px\"viewBox=\"0 0 24 24\"\n",
              "       width=\"24px\">\n",
              "    <path d=\"M0 0h24v24H0V0z\" fill=\"none\"/>\n",
              "    <path d=\"M18.56 5.44l.94 2.06.94-2.06 2.06-.94-2.06-.94-.94-2.06-.94 2.06-2.06.94zm-11 1L8.5 8.5l.94-2.06 2.06-.94-2.06-.94L8.5 2.5l-.94 2.06-2.06.94zm10 10l.94 2.06.94-2.06 2.06-.94-2.06-.94-.94-2.06-.94 2.06-2.06.94z\"/><path d=\"M17.41 7.96l-1.37-1.37c-.4-.4-.92-.59-1.43-.59-.52 0-1.04.2-1.43.59L10.3 9.45l-7.72 7.72c-.78.78-.78 2.05 0 2.83L4 21.41c.39.39.9.59 1.41.59.51 0 1.02-.2 1.41-.59l7.78-7.78 2.81-2.81c.8-.78.8-2.07 0-2.86zM5.41 20L4 18.59l7.72-7.72 1.47 1.35L5.41 20z\"/>\n",
              "  </svg>\n",
              "      </button>\n",
              "      \n",
              "  <style>\n",
              "    .colab-df-container {\n",
              "      display:flex;\n",
              "      flex-wrap:wrap;\n",
              "      gap: 12px;\n",
              "    }\n",
              "\n",
              "    .colab-df-convert {\n",
              "      background-color: #E8F0FE;\n",
              "      border: none;\n",
              "      border-radius: 50%;\n",
              "      cursor: pointer;\n",
              "      display: none;\n",
              "      fill: #1967D2;\n",
              "      height: 32px;\n",
              "      padding: 0 0 0 0;\n",
              "      width: 32px;\n",
              "    }\n",
              "\n",
              "    .colab-df-convert:hover {\n",
              "      background-color: #E2EBFA;\n",
              "      box-shadow: 0px 1px 2px rgba(60, 64, 67, 0.3), 0px 1px 3px 1px rgba(60, 64, 67, 0.15);\n",
              "      fill: #174EA6;\n",
              "    }\n",
              "\n",
              "    [theme=dark] .colab-df-convert {\n",
              "      background-color: #3B4455;\n",
              "      fill: #D2E3FC;\n",
              "    }\n",
              "\n",
              "    [theme=dark] .colab-df-convert:hover {\n",
              "      background-color: #434B5C;\n",
              "      box-shadow: 0px 1px 3px 1px rgba(0, 0, 0, 0.15);\n",
              "      filter: drop-shadow(0px 1px 2px rgba(0, 0, 0, 0.3));\n",
              "      fill: #FFFFFF;\n",
              "    }\n",
              "  </style>\n",
              "\n",
              "      <script>\n",
              "        const buttonEl =\n",
              "          document.querySelector('#df-dc669805-1a3c-41db-a519-e2c436de578b button.colab-df-convert');\n",
              "        buttonEl.style.display =\n",
              "          google.colab.kernel.accessAllowed ? 'block' : 'none';\n",
              "\n",
              "        async function convertToInteractive(key) {\n",
              "          const element = document.querySelector('#df-dc669805-1a3c-41db-a519-e2c436de578b');\n",
              "          const dataTable =\n",
              "            await google.colab.kernel.invokeFunction('convertToInteractive',\n",
              "                                                     [key], {});\n",
              "          if (!dataTable) return;\n",
              "\n",
              "          const docLinkHtml = 'Like what you see? Visit the ' +\n",
              "            '<a target=\"_blank\" href=https://colab.research.google.com/notebooks/data_table.ipynb>data table notebook</a>'\n",
              "            + ' to learn more about interactive tables.';\n",
              "          element.innerHTML = '';\n",
              "          dataTable['output_type'] = 'display_data';\n",
              "          await google.colab.output.renderOutput(dataTable, element);\n",
              "          const docLink = document.createElement('div');\n",
              "          docLink.innerHTML = docLinkHtml;\n",
              "          element.appendChild(docLink);\n",
              "        }\n",
              "      </script>\n",
              "    </div>\n",
              "  </div>\n",
              "  "
            ]
          },
          "metadata": {},
          "execution_count": 85
        }
      ]
    },
    {
      "cell_type": "code",
      "source": [
        "# 정규화 \n",
        "train_scale = MinMaxScaler().fit_transform(train_data)\n",
        "train_scale"
      ],
      "metadata": {
        "colab": {
          "base_uri": "https://localhost:8080/"
        },
        "id": "FEGFRuKoRgI3",
        "outputId": "e12acadf-164d-4f8a-e666-753d16a63e44"
      },
      "id": "FEGFRuKoRgI3",
      "execution_count": 86,
      "outputs": [
        {
          "output_type": "execute_result",
          "data": {
            "text/plain": [
              "array([[0.        , 0.01923077, 0.        , 0.3877551 ],\n",
              "       [0.        , 0.05769231, 0.        , 0.81632653],\n",
              "       [1.        , 0.03846154, 0.00819672, 0.05102041],\n",
              "       [1.        , 0.09615385, 0.00819672, 0.7755102 ],\n",
              "       [1.        , 0.25      , 0.01639344, 0.39795918],\n",
              "       [1.        , 0.07692308, 0.01639344, 0.76530612],\n",
              "       [1.        , 0.32692308, 0.02459016, 0.05102041],\n",
              "       [1.        , 0.09615385, 0.02459016, 0.94897959],\n",
              "       [0.        , 0.88461538, 0.03278689, 0.02040816],\n",
              "       [1.        , 0.23076923, 0.03278689, 0.7244898 ],\n",
              "       [0.        , 0.94230769, 0.03278689, 0.13265306],\n",
              "       [1.        , 0.32692308, 0.03278689, 1.        ],\n",
              "       [1.        , 0.76923077, 0.04098361, 0.14285714],\n",
              "       [1.        , 0.11538462, 0.04098361, 0.7755102 ],\n",
              "       [0.        , 0.36538462, 0.04098361, 0.12244898],\n",
              "       [0.        , 0.07692308, 0.04098361, 0.79591837],\n",
              "       [1.        , 0.32692308, 0.04918033, 0.34693878],\n",
              "       [0.        , 0.03846154, 0.04918033, 0.66326531],\n",
              "       [0.        , 0.65384615, 0.06557377, 0.28571429],\n",
              "       [1.        , 0.32692308, 0.06557377, 0.98979592],\n",
              "       [0.        , 0.32692308, 0.07377049, 0.34693878],\n",
              "       [0.        , 0.13461538, 0.07377049, 0.73469388],\n",
              "       [1.        , 0.53846154, 0.08196721, 0.04081633],\n",
              "       [0.        , 0.25      , 0.08196721, 0.73469388],\n",
              "       [1.        , 0.69230769, 0.10655738, 0.13265306],\n",
              "       [0.        , 0.21153846, 0.10655738, 0.82653061],\n",
              "       [1.        , 0.51923077, 0.10655738, 0.31632653],\n",
              "       [0.        , 0.32692308, 0.10655738, 0.6122449 ],\n",
              "       [1.        , 0.42307692, 0.1147541 , 0.30612245],\n",
              "       [1.        , 0.09615385, 0.1147541 , 0.87755102],\n",
              "       [0.        , 0.80769231, 0.12295082, 0.03061224],\n",
              "       [1.        , 0.05769231, 0.12295082, 0.73469388],\n",
              "       [0.        , 0.67307692, 0.14754098, 0.03061224],\n",
              "       [0.        , 0.        , 0.14754098, 0.92857143],\n",
              "       [1.        , 0.59615385, 0.14754098, 0.13265306],\n",
              "       [1.        , 0.05769231, 0.14754098, 0.81632653],\n",
              "       [1.        , 0.46153846, 0.1557377 , 0.16326531],\n",
              "       [1.        , 0.23076923, 0.1557377 , 0.73469388],\n",
              "       [1.        , 0.34615385, 0.18032787, 0.25510204],\n",
              "       [1.        , 0.03846154, 0.18032787, 0.75510204],\n",
              "       [1.        , 0.90384615, 0.18852459, 0.34693878],\n",
              "       [0.        , 0.11538462, 0.18852459, 0.92857143],\n",
              "       [0.        , 0.57692308, 0.19672131, 0.35714286],\n",
              "       [1.        , 0.25      , 0.19672131, 0.6122449 ],\n",
              "       [1.        , 0.59615385, 0.19672131, 0.2755102 ],\n",
              "       [1.        , 0.11538462, 0.19672131, 0.65306122],\n",
              "       [1.        , 0.61538462, 0.20491803, 0.55102041],\n",
              "       [1.        , 0.17307692, 0.20491803, 0.46938776],\n",
              "       [1.        , 0.21153846, 0.20491803, 0.41836735],\n",
              "       [1.        , 0.25      , 0.20491803, 0.41836735],\n",
              "       [1.        , 0.59615385, 0.22131148, 0.52040816],\n",
              "       [0.        , 0.28846154, 0.22131148, 0.60204082],\n",
              "       [1.        , 0.25      , 0.2295082 , 0.54081633],\n",
              "       [0.        , 0.78846154, 0.2295082 , 0.60204082],\n",
              "       [1.        , 0.61538462, 0.2295082 , 0.44897959],\n",
              "       [0.        , 0.55769231, 0.2295082 , 0.40816327],\n",
              "       [1.        , 0.63461538, 0.23770492, 0.5       ],\n",
              "       [0.        , 0.98076923, 0.23770492, 0.45918367],\n",
              "       [1.        , 0.17307692, 0.25409836, 0.51020408],\n",
              "       [0.        , 0.67307692, 0.25409836, 0.45918367],\n",
              "       [0.        , 1.        , 0.25409836, 0.56122449],\n",
              "       [0.        , 0.01923077, 0.25409836, 0.55102041],\n",
              "       [1.        , 0.94230769, 0.26229508, 0.52040816],\n",
              "       [1.        , 0.69230769, 0.26229508, 0.59183673],\n",
              "       [0.        , 0.86538462, 0.2704918 , 0.51020408],\n",
              "       [0.        , 0.        , 0.2704918 , 0.59183673],\n",
              "       [1.        , 0.48076923, 0.2704918 , 0.5       ],\n",
              "       [1.        , 0.96153846, 0.2704918 , 0.47959184],\n",
              "       [0.        , 0.01923077, 0.2704918 , 0.59183673],\n",
              "       [1.        , 0.26923077, 0.2704918 , 0.46938776],\n",
              "       [0.        , 1.        , 0.27868852, 0.55102041],\n",
              "       [1.        , 0.55769231, 0.27868852, 0.41836735],\n",
              "       [1.        , 0.80769231, 0.28688525, 0.48979592],\n",
              "       [1.        , 0.80769231, 0.28688525, 0.56122449],\n",
              "       [0.        , 0.78846154, 0.31967213, 0.46938776],\n",
              "       [0.        , 0.15384615, 0.31967213, 0.54081633],\n",
              "       [1.        , 0.51923077, 0.31967213, 0.53061224],\n",
              "       [0.        , 0.42307692, 0.31967213, 0.47959184],\n",
              "       [1.        , 0.09615385, 0.31967213, 0.52040816],\n",
              "       [1.        , 0.59615385, 0.31967213, 0.41836735],\n",
              "       [0.        , 0.75      , 0.31967213, 0.51020408],\n",
              "       [0.        , 0.38461538, 0.31967213, 0.55102041],\n",
              "       [0.        , 0.94230769, 0.31967213, 0.40816327],\n",
              "       [1.        , 0.53846154, 0.31967213, 0.43877551],\n",
              "       [1.        , 0.05769231, 0.31967213, 0.57142857],\n",
              "       [0.        , 0.57692308, 0.31967213, 0.45918367],\n",
              "       [1.        , 0.71153846, 0.3442623 , 0.58163265],\n",
              "       [1.        , 0.07692308, 0.3442623 , 0.55102041],\n",
              "       [1.        , 0.30769231, 0.35245902, 0.60204082],\n",
              "       [1.        , 0.61538462, 0.35245902, 0.45918367],\n",
              "       [1.        , 0.96153846, 0.36065574, 0.55102041],\n",
              "       [0.        , 0.        , 0.36065574, 0.40816327],\n",
              "       [0.        , 0.57692308, 0.36885246, 0.48979592],\n",
              "       [1.        , 0.42307692, 0.36885246, 0.39795918],\n",
              "       [1.        , 0.26923077, 0.36885246, 0.41836735],\n",
              "       [0.        , 0.11538462, 0.36885246, 0.52040816],\n",
              "       [1.        , 0.55769231, 0.36885246, 0.46938776],\n",
              "       [1.        , 0.17307692, 0.36885246, 0.5       ],\n",
              "       [0.        , 0.57692308, 0.37704918, 0.41836735],\n",
              "       [0.        , 0.03846154, 0.37704918, 0.48979592],\n",
              "       [1.        , 0.09615385, 0.3852459 , 0.40816327],\n",
              "       [1.        , 0.59615385, 0.3852459 , 0.47959184],\n",
              "       [0.        , 0.94230769, 0.3852459 , 0.59183673],\n",
              "       [0.        , 0.15384615, 0.3852459 , 0.55102041],\n",
              "       [0.        , 0.59615385, 0.3852459 , 0.56122449],\n",
              "       [1.        , 0.05769231, 0.3852459 , 0.41836735],\n",
              "       [1.        , 0.92307692, 0.39344262, 0.5       ],\n",
              "       [0.        , 0.69230769, 0.39344262, 0.45918367],\n",
              "       [0.        , 0.96153846, 0.39344262, 0.42857143],\n",
              "       [0.        , 0.92307692, 0.39344262, 0.47959184],\n",
              "       [0.        , 0.90384615, 0.39344262, 0.52040816],\n",
              "       [1.        , 0.01923077, 0.39344262, 0.54081633],\n",
              "       [1.        , 0.38461538, 0.40163934, 0.41836735],\n",
              "       [0.        , 0.01923077, 0.40163934, 0.45918367],\n",
              "       [1.        , 0.        , 0.40983607, 0.47959184],\n",
              "       [1.        , 0.01923077, 0.40983607, 0.5       ],\n",
              "       [1.        , 0.86538462, 0.40983607, 0.42857143],\n",
              "       [1.        , 0.59615385, 0.40983607, 0.59183673],\n",
              "       [1.        , 0.63461538, 0.42622951, 0.42857143],\n",
              "       [1.        , 0.61538462, 0.42622951, 0.57142857],\n",
              "       [0.        , 0.17307692, 0.42622951, 0.56122449],\n",
              "       [1.        , 0.38461538, 0.42622951, 0.39795918],\n",
              "       [1.        , 0.42307692, 0.44262295, 0.58163265],\n",
              "       [0.        , 0.40384615, 0.44262295, 0.91836735],\n",
              "       [1.        , 0.09615385, 0.45081967, 0.28571429],\n",
              "       [1.        , 0.25      , 0.45081967, 0.7755102 ],\n",
              "       [0.        , 0.48076923, 0.45901639, 0.34693878],\n",
              "       [0.        , 0.42307692, 0.45901639, 0.95918367],\n",
              "       [0.        , 0.78846154, 0.45901639, 0.10204082],\n",
              "       [0.        , 0.38461538, 0.45901639, 0.75510204],\n",
              "       [0.        , 0.55769231, 0.45901639, 0.08163265],\n",
              "       [0.        , 0.40384615, 0.45901639, 0.75510204],\n",
              "       [1.        , 0.13461538, 0.46721311, 0.33673469],\n",
              "       [1.        , 0.25      , 0.46721311, 0.71428571],\n",
              "       [0.        , 0.03846154, 0.47540984, 0.04081633],\n",
              "       [1.        , 0.21153846, 0.47540984, 0.8877551 ],\n",
              "       [1.        , 0.5       , 0.47540984, 0.06122449],\n",
              "       [0.        , 0.26923077, 0.47540984, 0.73469388],\n",
              "       [0.        , 0.01923077, 0.48360656, 0.09183673],\n",
              "       [1.        , 0.32692308, 0.48360656, 0.7244898 ],\n",
              "       [1.        , 0.75      , 0.49180328, 0.04081633],\n",
              "       [0.        , 0.26923077, 0.49180328, 0.93877551],\n",
              "       [1.        , 0.19230769, 0.5       , 0.39795918],\n",
              "       [1.        , 0.26923077, 0.5       , 0.87755102],\n",
              "       [0.        , 0.13461538, 0.50819672, 0.1122449 ],\n",
              "       [0.        , 0.19230769, 0.50819672, 0.97959184],\n",
              "       [0.        , 0.57692308, 0.50819672, 0.35714286],\n",
              "       [1.        , 0.26923077, 0.50819672, 0.74489796],\n",
              "       [1.        , 0.30769231, 0.51639344, 0.21428571],\n",
              "       [0.        , 0.30769231, 0.51639344, 0.90816327],\n",
              "       [0.        , 0.48076923, 0.51639344, 0.16326531],\n",
              "       [0.        , 0.40384615, 0.51639344, 0.8877551 ],\n",
              "       [1.        , 0.5       , 0.51639344, 0.19387755],\n",
              "       [1.        , 0.38461538, 0.51639344, 0.76530612],\n",
              "       [1.        , 0.55769231, 0.51639344, 0.15306122],\n",
              "       [1.        , 0.17307692, 0.51639344, 0.89795918],\n",
              "       [0.        , 0.36538462, 0.51639344, 0.        ],\n",
              "       [1.        , 0.23076923, 0.51639344, 0.78571429],\n",
              "       [0.        , 0.30769231, 0.51639344, 0.        ],\n",
              "       [1.        , 0.23076923, 0.51639344, 0.73469388],\n",
              "       [1.        , 0.73076923, 0.52459016, 0.34693878],\n",
              "       [1.        , 0.21153846, 0.52459016, 0.83673469],\n",
              "       [0.        , 0.01923077, 0.54098361, 0.04081633],\n",
              "       [1.        , 0.25      , 0.54098361, 0.93877551],\n",
              "       [0.        , 0.61538462, 0.57377049, 0.25510204],\n",
              "       [1.        , 0.34615385, 0.57377049, 0.75510204],\n",
              "       [0.        , 0.46153846, 0.58196721, 0.19387755],\n",
              "       [1.        , 0.28846154, 0.58196721, 0.95918367],\n",
              "       [1.        , 0.34615385, 0.59016393, 0.26530612],\n",
              "       [0.        , 0.26923077, 0.59016393, 0.63265306],\n",
              "       [0.        , 0.42307692, 0.59016393, 0.12244898],\n",
              "       [0.        , 0.19230769, 0.59016393, 0.75510204],\n",
              "       [0.        , 0.34615385, 0.59016393, 0.09183673],\n",
              "       [0.        , 0.34615385, 0.59016393, 0.92857143],\n",
              "       [1.        , 0.65384615, 0.59836066, 0.12244898],\n",
              "       [1.        , 0.23076923, 0.59836066, 0.86734694],\n",
              "       [0.        , 0.76923077, 0.59836066, 0.14285714],\n",
              "       [0.        , 0.17307692, 0.59836066, 0.69387755],\n",
              "       [0.        , 0.78846154, 0.63934426, 0.13265306],\n",
              "       [0.        , 0.32692308, 0.63934426, 0.90816327],\n",
              "       [1.        , 0.36538462, 0.67213115, 0.31632653],\n",
              "       [1.        , 0.26923077, 0.67213115, 0.86734694],\n",
              "       [0.        , 0.53846154, 0.68032787, 0.14285714],\n",
              "       [1.        , 0.21153846, 0.68032787, 0.8877551 ],\n",
              "       [1.        , 0.44230769, 0.68852459, 0.3877551 ],\n",
              "       [0.        , 0.23076923, 0.68852459, 0.97959184],\n",
              "       [1.        , 0.69230769, 0.70491803, 0.23469388],\n",
              "       [0.        , 0.19230769, 0.70491803, 0.68367347],\n",
              "       [1.        , 0.44230769, 0.72131148, 0.16326531],\n",
              "       [1.        , 0.34615385, 0.72131148, 0.85714286],\n",
              "       [1.        , 0.30769231, 0.72131148, 0.2244898 ],\n",
              "       [1.        , 0.26923077, 0.72131148, 0.69387755],\n",
              "       [0.        , 0.28846154, 0.80327869, 0.07142857],\n",
              "       [1.        , 0.38461538, 0.80327869, 0.91836735],\n",
              "       [1.        , 0.55769231, 0.86065574, 0.15306122],\n",
              "       [1.        , 0.32692308, 0.86065574, 0.79591837],\n",
              "       [1.        , 0.51923077, 0.90983607, 0.2755102 ],\n",
              "       [0.        , 0.26923077, 0.90983607, 0.74489796],\n",
              "       [0.        , 0.26923077, 1.        , 0.17346939],\n",
              "       [0.        , 0.23076923, 1.        , 0.83673469]])"
            ]
          },
          "metadata": {},
          "execution_count": 86
        }
      ]
    },
    {
      "cell_type": "code",
      "source": [
        "# 정규화된 데이터에 학습\n",
        "kmeans.fit(train_scale)"
      ],
      "metadata": {
        "colab": {
          "base_uri": "https://localhost:8080/",
          "height": 131
        },
        "id": "pdKZ-b5Tlw46",
        "outputId": "150df212-6b08-4b71-a310-180fc52a3235"
      },
      "id": "pdKZ-b5Tlw46",
      "execution_count": 88,
      "outputs": [
        {
          "output_type": "stream",
          "name": "stderr",
          "text": [
            "/usr/local/lib/python3.10/dist-packages/sklearn/cluster/_kmeans.py:870: FutureWarning: The default value of `n_init` will change from 10 to 'auto' in 1.4. Set the value of `n_init` explicitly to suppress the warning\n",
            "  warnings.warn(\n"
          ]
        },
        {
          "output_type": "execute_result",
          "data": {
            "text/plain": [
              "KMeans(n_clusters=3, random_state=19)"
            ],
            "text/html": [
              "<style>#sk-container-id-2 {color: black;background-color: white;}#sk-container-id-2 pre{padding: 0;}#sk-container-id-2 div.sk-toggleable {background-color: white;}#sk-container-id-2 label.sk-toggleable__label {cursor: pointer;display: block;width: 100%;margin-bottom: 0;padding: 0.3em;box-sizing: border-box;text-align: center;}#sk-container-id-2 label.sk-toggleable__label-arrow:before {content: \"▸\";float: left;margin-right: 0.25em;color: #696969;}#sk-container-id-2 label.sk-toggleable__label-arrow:hover:before {color: black;}#sk-container-id-2 div.sk-estimator:hover label.sk-toggleable__label-arrow:before {color: black;}#sk-container-id-2 div.sk-toggleable__content {max-height: 0;max-width: 0;overflow: hidden;text-align: left;background-color: #f0f8ff;}#sk-container-id-2 div.sk-toggleable__content pre {margin: 0.2em;color: black;border-radius: 0.25em;background-color: #f0f8ff;}#sk-container-id-2 input.sk-toggleable__control:checked~div.sk-toggleable__content {max-height: 200px;max-width: 100%;overflow: auto;}#sk-container-id-2 input.sk-toggleable__control:checked~label.sk-toggleable__label-arrow:before {content: \"▾\";}#sk-container-id-2 div.sk-estimator input.sk-toggleable__control:checked~label.sk-toggleable__label {background-color: #d4ebff;}#sk-container-id-2 div.sk-label input.sk-toggleable__control:checked~label.sk-toggleable__label {background-color: #d4ebff;}#sk-container-id-2 input.sk-hidden--visually {border: 0;clip: rect(1px 1px 1px 1px);clip: rect(1px, 1px, 1px, 1px);height: 1px;margin: -1px;overflow: hidden;padding: 0;position: absolute;width: 1px;}#sk-container-id-2 div.sk-estimator {font-family: monospace;background-color: #f0f8ff;border: 1px dotted black;border-radius: 0.25em;box-sizing: border-box;margin-bottom: 0.5em;}#sk-container-id-2 div.sk-estimator:hover {background-color: #d4ebff;}#sk-container-id-2 div.sk-parallel-item::after {content: \"\";width: 100%;border-bottom: 1px solid gray;flex-grow: 1;}#sk-container-id-2 div.sk-label:hover label.sk-toggleable__label {background-color: #d4ebff;}#sk-container-id-2 div.sk-serial::before {content: \"\";position: absolute;border-left: 1px solid gray;box-sizing: border-box;top: 0;bottom: 0;left: 50%;z-index: 0;}#sk-container-id-2 div.sk-serial {display: flex;flex-direction: column;align-items: center;background-color: white;padding-right: 0.2em;padding-left: 0.2em;position: relative;}#sk-container-id-2 div.sk-item {position: relative;z-index: 1;}#sk-container-id-2 div.sk-parallel {display: flex;align-items: stretch;justify-content: center;background-color: white;position: relative;}#sk-container-id-2 div.sk-item::before, #sk-container-id-2 div.sk-parallel-item::before {content: \"\";position: absolute;border-left: 1px solid gray;box-sizing: border-box;top: 0;bottom: 0;left: 50%;z-index: -1;}#sk-container-id-2 div.sk-parallel-item {display: flex;flex-direction: column;z-index: 1;position: relative;background-color: white;}#sk-container-id-2 div.sk-parallel-item:first-child::after {align-self: flex-end;width: 50%;}#sk-container-id-2 div.sk-parallel-item:last-child::after {align-self: flex-start;width: 50%;}#sk-container-id-2 div.sk-parallel-item:only-child::after {width: 0;}#sk-container-id-2 div.sk-dashed-wrapped {border: 1px dashed gray;margin: 0 0.4em 0.5em 0.4em;box-sizing: border-box;padding-bottom: 0.4em;background-color: white;}#sk-container-id-2 div.sk-label label {font-family: monospace;font-weight: bold;display: inline-block;line-height: 1.2em;}#sk-container-id-2 div.sk-label-container {text-align: center;}#sk-container-id-2 div.sk-container {/* jupyter's `normalize.less` sets `[hidden] { display: none; }` but bootstrap.min.css set `[hidden] { display: none !important; }` so we also need the `!important` here to be able to override the default hidden behavior on the sphinx rendered scikit-learn.org. See: https://github.com/scikit-learn/scikit-learn/issues/21755 */display: inline-block !important;position: relative;}#sk-container-id-2 div.sk-text-repr-fallback {display: none;}</style><div id=\"sk-container-id-2\" class=\"sk-top-container\"><div class=\"sk-text-repr-fallback\"><pre>KMeans(n_clusters=3, random_state=19)</pre><b>In a Jupyter environment, please rerun this cell to show the HTML representation or trust the notebook. <br />On GitHub, the HTML representation is unable to render, please try loading this page with nbviewer.org.</b></div><div class=\"sk-container\" hidden><div class=\"sk-item\"><div class=\"sk-estimator sk-toggleable\"><input class=\"sk-toggleable__control sk-hidden--visually\" id=\"sk-estimator-id-2\" type=\"checkbox\" checked><label for=\"sk-estimator-id-2\" class=\"sk-toggleable__label sk-toggleable__label-arrow\">KMeans</label><div class=\"sk-toggleable__content\"><pre>KMeans(n_clusters=3, random_state=19)</pre></div></div></div></div></div>"
            ]
          },
          "metadata": {},
          "execution_count": 88
        }
      ]
    },
    {
      "cell_type": "code",
      "source": [
        "# 클러스터링 결과 각 데이터가 몇 번째 그룹에 속하는지 저장\n",
        "train_data['cluster'] = model.fit_predict(train_scale)"
      ],
      "metadata": {
        "colab": {
          "base_uri": "https://localhost:8080/"
        },
        "id": "w9DcPt57lnG3",
        "outputId": "853571cf-7801-421a-8215-59b8b2842654"
      },
      "id": "w9DcPt57lnG3",
      "execution_count": 90,
      "outputs": [
        {
          "output_type": "stream",
          "name": "stderr",
          "text": [
            "/usr/local/lib/python3.10/dist-packages/sklearn/cluster/_kmeans.py:870: FutureWarning: The default value of `n_init` will change from 10 to 'auto' in 1.4. Set the value of `n_init` explicitly to suppress the warning\n",
            "  warnings.warn(\n",
            "<ipython-input-90-f706bc0d9d18>:2: SettingWithCopyWarning: \n",
            "A value is trying to be set on a copy of a slice from a DataFrame.\n",
            "Try using .loc[row_indexer,col_indexer] = value instead\n",
            "\n",
            "See the caveats in the documentation: https://pandas.pydata.org/pandas-docs/stable/user_guide/indexing.html#returning-a-view-versus-a-copy\n",
            "  train_data['cluster'] = model.fit_predict(train_scale)\n"
          ]
        }
      ]
    },
    {
      "cell_type": "code",
      "source": [
        "train_data"
      ],
      "metadata": {
        "colab": {
          "base_uri": "https://localhost:8080/",
          "height": 423
        },
        "id": "dOc-6nF7l8PG",
        "outputId": "4d6e7903-1e0a-4dbd-d50b-eca93cced187"
      },
      "id": "dOc-6nF7l8PG",
      "execution_count": 91,
      "outputs": [
        {
          "output_type": "execute_result",
          "data": {
            "text/plain": [
              "     Gender  Age  Annual Income (k$)  Spending Score (1-100)  cluster\n",
              "0         0   19                  15                      39        0\n",
              "1         0   21                  15                      81        0\n",
              "2         1   20                  16                       6        5\n",
              "3         1   23                  16                      77        5\n",
              "4         1   31                  17                      40        5\n",
              "..      ...  ...                 ...                     ...      ...\n",
              "195       1   35                 120                      79        1\n",
              "196       1   45                 126                      28        4\n",
              "197       0   32                 126                      74        0\n",
              "198       0   32                 137                      18        2\n",
              "199       0   30                 137                      83        0\n",
              "\n",
              "[200 rows x 5 columns]"
            ],
            "text/html": [
              "\n",
              "  <div id=\"df-af426455-574d-42cb-9d89-adab99aaa881\">\n",
              "    <div class=\"colab-df-container\">\n",
              "      <div>\n",
              "<style scoped>\n",
              "    .dataframe tbody tr th:only-of-type {\n",
              "        vertical-align: middle;\n",
              "    }\n",
              "\n",
              "    .dataframe tbody tr th {\n",
              "        vertical-align: top;\n",
              "    }\n",
              "\n",
              "    .dataframe thead th {\n",
              "        text-align: right;\n",
              "    }\n",
              "</style>\n",
              "<table border=\"1\" class=\"dataframe\">\n",
              "  <thead>\n",
              "    <tr style=\"text-align: right;\">\n",
              "      <th></th>\n",
              "      <th>Gender</th>\n",
              "      <th>Age</th>\n",
              "      <th>Annual Income (k$)</th>\n",
              "      <th>Spending Score (1-100)</th>\n",
              "      <th>cluster</th>\n",
              "    </tr>\n",
              "  </thead>\n",
              "  <tbody>\n",
              "    <tr>\n",
              "      <th>0</th>\n",
              "      <td>0</td>\n",
              "      <td>19</td>\n",
              "      <td>15</td>\n",
              "      <td>39</td>\n",
              "      <td>0</td>\n",
              "    </tr>\n",
              "    <tr>\n",
              "      <th>1</th>\n",
              "      <td>0</td>\n",
              "      <td>21</td>\n",
              "      <td>15</td>\n",
              "      <td>81</td>\n",
              "      <td>0</td>\n",
              "    </tr>\n",
              "    <tr>\n",
              "      <th>2</th>\n",
              "      <td>1</td>\n",
              "      <td>20</td>\n",
              "      <td>16</td>\n",
              "      <td>6</td>\n",
              "      <td>5</td>\n",
              "    </tr>\n",
              "    <tr>\n",
              "      <th>3</th>\n",
              "      <td>1</td>\n",
              "      <td>23</td>\n",
              "      <td>16</td>\n",
              "      <td>77</td>\n",
              "      <td>5</td>\n",
              "    </tr>\n",
              "    <tr>\n",
              "      <th>4</th>\n",
              "      <td>1</td>\n",
              "      <td>31</td>\n",
              "      <td>17</td>\n",
              "      <td>40</td>\n",
              "      <td>5</td>\n",
              "    </tr>\n",
              "    <tr>\n",
              "      <th>...</th>\n",
              "      <td>...</td>\n",
              "      <td>...</td>\n",
              "      <td>...</td>\n",
              "      <td>...</td>\n",
              "      <td>...</td>\n",
              "    </tr>\n",
              "    <tr>\n",
              "      <th>195</th>\n",
              "      <td>1</td>\n",
              "      <td>35</td>\n",
              "      <td>120</td>\n",
              "      <td>79</td>\n",
              "      <td>1</td>\n",
              "    </tr>\n",
              "    <tr>\n",
              "      <th>196</th>\n",
              "      <td>1</td>\n",
              "      <td>45</td>\n",
              "      <td>126</td>\n",
              "      <td>28</td>\n",
              "      <td>4</td>\n",
              "    </tr>\n",
              "    <tr>\n",
              "      <th>197</th>\n",
              "      <td>0</td>\n",
              "      <td>32</td>\n",
              "      <td>126</td>\n",
              "      <td>74</td>\n",
              "      <td>0</td>\n",
              "    </tr>\n",
              "    <tr>\n",
              "      <th>198</th>\n",
              "      <td>0</td>\n",
              "      <td>32</td>\n",
              "      <td>137</td>\n",
              "      <td>18</td>\n",
              "      <td>2</td>\n",
              "    </tr>\n",
              "    <tr>\n",
              "      <th>199</th>\n",
              "      <td>0</td>\n",
              "      <td>30</td>\n",
              "      <td>137</td>\n",
              "      <td>83</td>\n",
              "      <td>0</td>\n",
              "    </tr>\n",
              "  </tbody>\n",
              "</table>\n",
              "<p>200 rows × 5 columns</p>\n",
              "</div>\n",
              "      <button class=\"colab-df-convert\" onclick=\"convertToInteractive('df-af426455-574d-42cb-9d89-adab99aaa881')\"\n",
              "              title=\"Convert this dataframe to an interactive table.\"\n",
              "              style=\"display:none;\">\n",
              "        \n",
              "  <svg xmlns=\"http://www.w3.org/2000/svg\" height=\"24px\"viewBox=\"0 0 24 24\"\n",
              "       width=\"24px\">\n",
              "    <path d=\"M0 0h24v24H0V0z\" fill=\"none\"/>\n",
              "    <path d=\"M18.56 5.44l.94 2.06.94-2.06 2.06-.94-2.06-.94-.94-2.06-.94 2.06-2.06.94zm-11 1L8.5 8.5l.94-2.06 2.06-.94-2.06-.94L8.5 2.5l-.94 2.06-2.06.94zm10 10l.94 2.06.94-2.06 2.06-.94-2.06-.94-.94-2.06-.94 2.06-2.06.94z\"/><path d=\"M17.41 7.96l-1.37-1.37c-.4-.4-.92-.59-1.43-.59-.52 0-1.04.2-1.43.59L10.3 9.45l-7.72 7.72c-.78.78-.78 2.05 0 2.83L4 21.41c.39.39.9.59 1.41.59.51 0 1.02-.2 1.41-.59l7.78-7.78 2.81-2.81c.8-.78.8-2.07 0-2.86zM5.41 20L4 18.59l7.72-7.72 1.47 1.35L5.41 20z\"/>\n",
              "  </svg>\n",
              "      </button>\n",
              "      \n",
              "  <style>\n",
              "    .colab-df-container {\n",
              "      display:flex;\n",
              "      flex-wrap:wrap;\n",
              "      gap: 12px;\n",
              "    }\n",
              "\n",
              "    .colab-df-convert {\n",
              "      background-color: #E8F0FE;\n",
              "      border: none;\n",
              "      border-radius: 50%;\n",
              "      cursor: pointer;\n",
              "      display: none;\n",
              "      fill: #1967D2;\n",
              "      height: 32px;\n",
              "      padding: 0 0 0 0;\n",
              "      width: 32px;\n",
              "    }\n",
              "\n",
              "    .colab-df-convert:hover {\n",
              "      background-color: #E2EBFA;\n",
              "      box-shadow: 0px 1px 2px rgba(60, 64, 67, 0.3), 0px 1px 3px 1px rgba(60, 64, 67, 0.15);\n",
              "      fill: #174EA6;\n",
              "    }\n",
              "\n",
              "    [theme=dark] .colab-df-convert {\n",
              "      background-color: #3B4455;\n",
              "      fill: #D2E3FC;\n",
              "    }\n",
              "\n",
              "    [theme=dark] .colab-df-convert:hover {\n",
              "      background-color: #434B5C;\n",
              "      box-shadow: 0px 1px 3px 1px rgba(0, 0, 0, 0.15);\n",
              "      filter: drop-shadow(0px 1px 2px rgba(0, 0, 0, 0.3));\n",
              "      fill: #FFFFFF;\n",
              "    }\n",
              "  </style>\n",
              "\n",
              "      <script>\n",
              "        const buttonEl =\n",
              "          document.querySelector('#df-af426455-574d-42cb-9d89-adab99aaa881 button.colab-df-convert');\n",
              "        buttonEl.style.display =\n",
              "          google.colab.kernel.accessAllowed ? 'block' : 'none';\n",
              "\n",
              "        async function convertToInteractive(key) {\n",
              "          const element = document.querySelector('#df-af426455-574d-42cb-9d89-adab99aaa881');\n",
              "          const dataTable =\n",
              "            await google.colab.kernel.invokeFunction('convertToInteractive',\n",
              "                                                     [key], {});\n",
              "          if (!dataTable) return;\n",
              "\n",
              "          const docLinkHtml = 'Like what you see? Visit the ' +\n",
              "            '<a target=\"_blank\" href=https://colab.research.google.com/notebooks/data_table.ipynb>data table notebook</a>'\n",
              "            + ' to learn more about interactive tables.';\n",
              "          element.innerHTML = '';\n",
              "          dataTable['output_type'] = 'display_data';\n",
              "          await google.colab.output.renderOutput(dataTable, element);\n",
              "          const docLink = document.createElement('div');\n",
              "          docLink.innerHTML = docLinkHtml;\n",
              "          element.appendChild(docLink);\n",
              "        }\n",
              "      </script>\n",
              "    </div>\n",
              "  </div>\n",
              "  "
            ]
          },
          "metadata": {},
          "execution_count": 91
        }
      ]
    },
    {
      "cell_type": "code",
      "source": [],
      "metadata": {
        "id": "rDru4u8qm409"
      },
      "id": "rDru4u8qm409",
      "execution_count": null,
      "outputs": []
    },
    {
      "cell_type": "code",
      "execution_count": 98,
      "metadata": {
        "outputId": "0fd3261d-5e96-4f7e-aaa9-d1f7a7be59a7",
        "colab": {
          "base_uri": "https://localhost:8080/",
          "height": 796
        },
        "id": "7gGxD6-Zm48l"
      },
      "outputs": [
        {
          "output_type": "stream",
          "name": "stderr",
          "text": [
            "/usr/local/lib/python3.10/dist-packages/sklearn/cluster/_kmeans.py:870: FutureWarning: The default value of `n_init` will change from 10 to 'auto' in 1.4. Set the value of `n_init` explicitly to suppress the warning\n",
            "  warnings.warn(\n",
            "/usr/local/lib/python3.10/dist-packages/sklearn/cluster/_kmeans.py:870: FutureWarning: The default value of `n_init` will change from 10 to 'auto' in 1.4. Set the value of `n_init` explicitly to suppress the warning\n",
            "  warnings.warn(\n",
            "/usr/local/lib/python3.10/dist-packages/sklearn/cluster/_kmeans.py:870: FutureWarning: The default value of `n_init` will change from 10 to 'auto' in 1.4. Set the value of `n_init` explicitly to suppress the warning\n",
            "  warnings.warn(\n",
            "/usr/local/lib/python3.10/dist-packages/sklearn/cluster/_kmeans.py:870: FutureWarning: The default value of `n_init` will change from 10 to 'auto' in 1.4. Set the value of `n_init` explicitly to suppress the warning\n",
            "  warnings.warn(\n",
            "/usr/local/lib/python3.10/dist-packages/sklearn/cluster/_kmeans.py:870: FutureWarning: The default value of `n_init` will change from 10 to 'auto' in 1.4. Set the value of `n_init` explicitly to suppress the warning\n",
            "  warnings.warn(\n",
            "/usr/local/lib/python3.10/dist-packages/sklearn/cluster/_kmeans.py:870: FutureWarning: The default value of `n_init` will change from 10 to 'auto' in 1.4. Set the value of `n_init` explicitly to suppress the warning\n",
            "  warnings.warn(\n",
            "/usr/local/lib/python3.10/dist-packages/sklearn/cluster/_kmeans.py:870: FutureWarning: The default value of `n_init` will change from 10 to 'auto' in 1.4. Set the value of `n_init` explicitly to suppress the warning\n",
            "  warnings.warn(\n",
            "/usr/local/lib/python3.10/dist-packages/sklearn/cluster/_kmeans.py:870: FutureWarning: The default value of `n_init` will change from 10 to 'auto' in 1.4. Set the value of `n_init` explicitly to suppress the warning\n",
            "  warnings.warn(\n",
            "/usr/local/lib/python3.10/dist-packages/sklearn/cluster/_kmeans.py:870: FutureWarning: The default value of `n_init` will change from 10 to 'auto' in 1.4. Set the value of `n_init` explicitly to suppress the warning\n",
            "  warnings.warn(\n"
          ]
        },
        {
          "output_type": "display_data",
          "data": {
            "text/plain": [
              "<Figure size 640x480 with 1 Axes>"
            ],
            "image/png": "[encoded data removed]"
          },
          "metadata": {}
        }
      ],
      "source": [
        "# elbow_method를 이용하여 클러스터의 개수를 정해보세요. \n",
        "num_clusters = list(range(1,10))\n",
        "inertias = []\n",
        "for i in num_clusters:\n",
        "    model = KMeans(n_clusters = i)\n",
        "    model.fit(train_data)\n",
        "    inertias.append(model.inertia_) # 지표확인 시 inertia_ 값\n",
        "\n",
        "# 그래프\n",
        "plt.plot(num_clusters, inertias, '-c')\n",
        "plt.xlabel(\"Number of Clusters (k)\")\n",
        "plt.ylabel(\"lnertia\")\n",
        "plt.show()\n"
      ],
      "id": "7gGxD6-Zm48l"
    },
    {
      "cell_type": "code",
      "execution_count": 104,
      "metadata": {
        "colab": {
          "base_uri": "https://localhost:8080/",
          "height": 817
        },
        "outputId": "bf9334a3-f7f8-408b-9d9e-6fedfb620ba1",
        "id": "zVPsAAvSm48m"
      },
      "outputs": [
        {
          "output_type": "stream",
          "name": "stderr",
          "text": [
            "/usr/local/lib/python3.10/dist-packages/sklearn/cluster/_kmeans.py:870: FutureWarning: The default value of `n_init` will change from 10 to 'auto' in 1.4. Set the value of `n_init` explicitly to suppress the warning\n",
            "  warnings.warn(\n",
            "/usr/local/lib/python3.10/dist-packages/sklearn/cluster/_kmeans.py:870: FutureWarning: The default value of `n_init` will change from 10 to 'auto' in 1.4. Set the value of `n_init` explicitly to suppress the warning\n",
            "  warnings.warn(\n"
          ]
        },
        {
          "output_type": "display_data",
          "data": {
            "text/plain": [
              "<Figure size 800x800 with 1 Axes>"
            ],
            "image/png": "[encoded data removed]"
          },
          "metadata": {}
        }
      ],
      "source": [
        "# 위의 elbow method 결과를 참고하여 다시한번 클러스터링하고, 시각화하세요\n",
        "k=9\n",
        "\n",
        "# 그룹 수, random_state 설정\n",
        "model = KMeans(n_clusters = k, random_state = 19)\n",
        "\n",
        "# 정규화된 데이터에 학습\n",
        "model.fit(train_scale)\n",
        "\n",
        "# 클러스터링 결과 각 데이터가 몇 번째 그룹에 속하는지 저장\n",
        "train_data['cluster'] = model.fit_predict(train_scale)\n",
        "\n",
        "# 시각화\n",
        "import matplotlib.pyplot as plt\n",
        "\n",
        "plt.figure(figsize = (8, 8))\n",
        "\n",
        "for i in range(k):\n",
        "    plt.scatter(train_data.loc[train_data['cluster'] == i, 'Annual Income (k$)'], train_data.loc[train_data['cluster'] == i, 'Spending Score (1-100)'], \n",
        "                label = 'cluster ' + str(i))\n",
        "\n",
        "plt.legend()\n",
        "plt.title('K = %d results'%k , size = 15)\n",
        "plt.xlabel('Annual Income', size = 12)\n",
        "plt.ylabel('Spending Score', size = 12)\n",
        "plt.show()"
      ],
      "id": "zVPsAAvSm48m"
    },
    {
      "cell_type": "code",
      "source": [
        "from sklearn.metrics import silhouette_samples # 각각의 샘플의 실루엣계수 구해주는 라이브러리\n",
        "\n",
        "# iris 의 모든 개별 데이터에 실루엣 계수값을 구함. \n",
        "score_samples = silhouette_samples(train_data, train_data['cluster'])\n",
        "print('silhouette_samples( ) return 값의 shape' , score_samples.shape)\n",
        "\n",
        "# irisDF에 실루엣 계수 컬럼 추가\n",
        "train_data['silhouette_coeff'] = score_samples\n",
        "\n",
        "# 모든 데이터의 평균 실루엣 계수값을 구함. \n",
        "average_score = silhouette_score(train_data, train_data['cluster'])\n",
        "print('데이터셋 Silhouette Analysis Score:{0:.3f}'.format(average_score))\n",
        "\n",
        "train_data.head(3)"
      ],
      "metadata": {
        "colab": {
          "base_uri": "https://localhost:8080/",
          "height": 180
        },
        "outputId": "13799125-bfe7-44f8-d071-fe7933e671c1",
        "id": "QLd1DSSLm48m"
      },
      "execution_count": 105,
      "outputs": [
        {
          "output_type": "stream",
          "name": "stdout",
          "text": [
            "silhouette_samples( ) return 값의 shape (200,)\n",
            "데이터셋 Silhouette Analysis Score:0.028\n"
          ]
        },
        {
          "output_type": "execute_result",
          "data": {
            "text/plain": [
              "   Gender  Age  Annual Income (k$)  Spending Score (1-100)  cluster  \\\n",
              "0       0   19                  15                      39        3   \n",
              "1       0   21                  15                      81        3   \n",
              "2       1   20                  16                       6        0   \n",
              "\n",
              "   re_cluster  silhouette_coeff  \n",
              "0           3         -0.004658  \n",
              "1           3         -0.561356  \n",
              "2           7          0.089023  "
            ],
            "text/html": [
              "\n",
              "  <div id=\"df-5bf89e9b-70e1-423d-81f8-89470a4f13ee\">\n",
              "    <div class=\"colab-df-container\">\n",
              "      <div>\n",
              "<style scoped>\n",
              "    .dataframe tbody tr th:only-of-type {\n",
              "        vertical-align: middle;\n",
              "    }\n",
              "\n",
              "    .dataframe tbody tr th {\n",
              "        vertical-align: top;\n",
              "    }\n",
              "\n",
              "    .dataframe thead th {\n",
              "        text-align: right;\n",
              "    }\n",
              "</style>\n",
              "<table border=\"1\" class=\"dataframe\">\n",
              "  <thead>\n",
              "    <tr style=\"text-align: right;\">\n",
              "      <th></th>\n",
              "      <th>Gender</th>\n",
              "      <th>Age</th>\n",
              "      <th>Annual Income (k$)</th>\n",
              "      <th>Spending Score (1-100)</th>\n",
              "      <th>cluster</th>\n",
              "      <th>re_cluster</th>\n",
              "      <th>silhouette_coeff</th>\n",
              "    </tr>\n",
              "  </thead>\n",
              "  <tbody>\n",
              "    <tr>\n",
              "      <th>0</th>\n",
              "      <td>0</td>\n",
              "      <td>19</td>\n",
              "      <td>15</td>\n",
              "      <td>39</td>\n",
              "      <td>3</td>\n",
              "      <td>3</td>\n",
              "      <td>-0.004658</td>\n",
              "    </tr>\n",
              "    <tr>\n",
              "      <th>1</th>\n",
              "      <td>0</td>\n",
              "      <td>21</td>\n",
              "      <td>15</td>\n",
              "      <td>81</td>\n",
              "      <td>3</td>\n",
              "      <td>3</td>\n",
              "      <td>-0.561356</td>\n",
              "    </tr>\n",
              "    <tr>\n",
              "      <th>2</th>\n",
              "      <td>1</td>\n",
              "      <td>20</td>\n",
              "      <td>16</td>\n",
              "      <td>6</td>\n",
              "      <td>0</td>\n",
              "      <td>7</td>\n",
              "      <td>0.089023</td>\n",
              "    </tr>\n",
              "  </tbody>\n",
              "</table>\n",
              "</div>\n",
              "      <button class=\"colab-df-convert\" onclick=\"convertToInteractive('df-5bf89e9b-70e1-423d-81f8-89470a4f13ee')\"\n",
              "              title=\"Convert this dataframe to an interactive table.\"\n",
              "              style=\"display:none;\">\n",
              "        \n",
              "  <svg xmlns=\"http://www.w3.org/2000/svg\" height=\"24px\"viewBox=\"0 0 24 24\"\n",
              "       width=\"24px\">\n",
              "    <path d=\"M0 0h24v24H0V0z\" fill=\"none\"/>\n",
              "    <path d=\"M18.56 5.44l.94 2.06.94-2.06 2.06-.94-2.06-.94-.94-2.06-.94 2.06-2.06.94zm-11 1L8.5 8.5l.94-2.06 2.06-.94-2.06-.94L8.5 2.5l-.94 2.06-2.06.94zm10 10l.94 2.06.94-2.06 2.06-.94-2.06-.94-.94-2.06-.94 2.06-2.06.94z\"/><path d=\"M17.41 7.96l-1.37-1.37c-.4-.4-.92-.59-1.43-.59-.52 0-1.04.2-1.43.59L10.3 9.45l-7.72 7.72c-.78.78-.78 2.05 0 2.83L4 21.41c.39.39.9.59 1.41.59.51 0 1.02-.2 1.41-.59l7.78-7.78 2.81-2.81c.8-.78.8-2.07 0-2.86zM5.41 20L4 18.59l7.72-7.72 1.47 1.35L5.41 20z\"/>\n",
              "  </svg>\n",
              "      </button>\n",
              "      \n",
              "  <style>\n",
              "    .colab-df-container {\n",
              "      display:flex;\n",
              "      flex-wrap:wrap;\n",
              "      gap: 12px;\n",
              "    }\n",
              "\n",
              "    .colab-df-convert {\n",
              "      background-color: #E8F0FE;\n",
              "      border: none;\n",
              "      border-radius: 50%;\n",
              "      cursor: pointer;\n",
              "      display: none;\n",
              "      fill: #1967D2;\n",
              "      height: 32px;\n",
              "      padding: 0 0 0 0;\n",
              "      width: 32px;\n",
              "    }\n",
              "\n",
              "    .colab-df-convert:hover {\n",
              "      background-color: #E2EBFA;\n",
              "      box-shadow: 0px 1px 2px rgba(60, 64, 67, 0.3), 0px 1px 3px 1px rgba(60, 64, 67, 0.15);\n",
              "      fill: #174EA6;\n",
              "    }\n",
              "\n",
              "    [theme=dark] .colab-df-convert {\n",
              "      background-color: #3B4455;\n",
              "      fill: #D2E3FC;\n",
              "    }\n",
              "\n",
              "    [theme=dark] .colab-df-convert:hover {\n",
              "      background-color: #434B5C;\n",
              "      box-shadow: 0px 1px 3px 1px rgba(0, 0, 0, 0.15);\n",
              "      filter: drop-shadow(0px 1px 2px rgba(0, 0, 0, 0.3));\n",
              "      fill: #FFFFFF;\n",
              "    }\n",
              "  </style>\n",
              "\n",
              "      <script>\n",
              "        const buttonEl =\n",
              "          document.querySelector('#df-5bf89e9b-70e1-423d-81f8-89470a4f13ee button.colab-df-convert');\n",
              "        buttonEl.style.display =\n",
              "          google.colab.kernel.accessAllowed ? 'block' : 'none';\n",
              "\n",
              "        async function convertToInteractive(key) {\n",
              "          const element = document.querySelector('#df-5bf89e9b-70e1-423d-81f8-89470a4f13ee');\n",
              "          const dataTable =\n",
              "            await google.colab.kernel.invokeFunction('convertToInteractive',\n",
              "                                                     [key], {});\n",
              "          if (!dataTable) return;\n",
              "\n",
              "          const docLinkHtml = 'Like what you see? Visit the ' +\n",
              "            '<a target=\"_blank\" href=https://colab.research.google.com/notebooks/data_table.ipynb>data table notebook</a>'\n",
              "            + ' to learn more about interactive tables.';\n",
              "          element.innerHTML = '';\n",
              "          dataTable['output_type'] = 'display_data';\n",
              "          await google.colab.output.renderOutput(dataTable, element);\n",
              "          const docLink = document.createElement('div');\n",
              "          docLink.innerHTML = docLinkHtml;\n",
              "          element.appendChild(docLink);\n",
              "        }\n",
              "      </script>\n",
              "    </div>\n",
              "  </div>\n",
              "  "
            ]
          },
          "metadata": {},
          "execution_count": 105
        }
      ],
      "id": "QLd1DSSLm48m"
    },
    {
      "cell_type": "code",
      "source": [
        "train_data.groupby('cluster').mean()['silhouette_coeff']\n",
        "# 1번빼고 전부 경계가 불분명한 것을 알 수 있음"
      ],
      "metadata": {
        "colab": {
          "base_uri": "https://localhost:8080/"
        },
        "outputId": "2eec2983-7d01-4388-ede1-6c2321da08d0",
        "id": "ryGddSnGm48m"
      },
      "execution_count": 106,
      "outputs": [
        {
          "output_type": "execute_result",
          "data": {
            "text/plain": [
              "cluster\n",
              "0    0.131638\n",
              "1   -0.159106\n",
              "2    0.422598\n",
              "3   -0.240888\n",
              "4    0.123433\n",
              "5   -0.015944\n",
              "6    0.120807\n",
              "7    0.169825\n",
              "8   -0.120969\n",
              "Name: silhouette_coeff, dtype: float64"
            ]
          },
          "metadata": {},
          "execution_count": 106
        }
      ],
      "id": "ryGddSnGm48m"
    }
  ],
  "metadata": {
    "kernelspec": {
      "display_name": "env_SL",
      "language": "python",
      "name": "env_sl"
    },
    "language_info": {
      "codemirror_mode": {
        "name": "ipython",
        "version": 3
      },
      "file_extension": ".py",
      "mimetype": "text/x-python",
      "name": "python",
      "nbconvert_exporter": "python",
      "pygments_lexer": "ipython3",
      "version": "3.9.13"
    },
    "toc": {
      "base_numbering": 1,
      "nav_menu": {},
      "number_sections": true,
      "sideBar": true,
      "skip_h1_title": false,
      "title_cell": "Table of Contents",
      "title_sidebar": "Contents",
      "toc_cell": false,
      "toc_position": {},
      "toc_section_display": true,
      "toc_window_display": false
    },
    "colab": {
      "provenance": [],
      "toc_visible": true,
      "include_colab_link": true
    }
  },
  "nbformat": 4,
  "nbformat_minor": 5
}