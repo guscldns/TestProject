{
  "nbformat": 4,
  "nbformat_minor": 0,
  "metadata": {
    "colab": {
      "provenance": [],
      "authorship_tag": "ABX9TyMpKjqkFfi+JgV3Zllp4DED",
      "include_colab_link": true
    },
    "kernelspec": {
      "name": "python3",
      "display_name": "Python 3"
    },
    "language_info": {
      "name": "python"
    }
  },
  "cells": [
    {
      "cell_type": "markdown",
      "metadata": {
        "id": "view-in-github",
        "colab_type": "text"
      },
      "source": [
        "<a href=\"https://colab.research.google.com/github/guscldns/TestProject/blob/main/0511/%ED%9B%88%EB%A0%A8___%EC%9B%B9%ED%88%B0_%EB%8C%93%EA%B8%80ipynb.ipynb\" target=\"_parent\"><img src=\"https://colab.research.google.com/assets/colab-badge.svg\" alt=\"Open In Colab\"/></a>"
      ]
    },
    {
      "cell_type": "markdown",
      "source": [
        "네이버 웹툰 댓글"
      ],
      "metadata": {
        "id": "koN-NalcTA-D"
      }
    },
    {
      "cell_type": "code",
      "execution_count": 7,
      "metadata": {
        "id": "kuGVZNEcS803"
      },
      "outputs": [],
      "source": [
        "import requests\n",
        "import json\n",
        "from tqdm.notebook import tqdm"
      ]
    },
    {
      "cell_type": "code",
      "source": [
        "url = 'https://apis.naver.com/commentBox/cbox/web_naver_list_jsonp.json?ticket=comic&templateId=webtoon&pool=cbox3&_cv=20230509165323&_callback=jQuery36303355019272855495_1683804406514&lang=ko&country=KR&objectId=808910_1&categoryId=&pageSize=15&indexSize=10&groupId=808910&listType=OBJECT&pageType=more&page=1&currentPage=1&refresh=true&sort=new&_=1683804406517'\n",
        "\n",
        "headers = {'referer': 'https://comic.naver.com/webtoon/detail?titleId=808910&no=1',\n",
        "           'user-agent': 'Mozilla/5.0 (Windows NT 10.0; Win64; x64) AppleWebKit/537.36 (KHTML, like Gecko) Chrome/112.0.0.0 Safari/537.36'}\n",
        "resp = requests.get(url,headers=headers )\n",
        "resp.text"
      ],
      "metadata": {
        "id": "RvFlZau-bog6"
      },
      "execution_count": null,
      "outputs": []
    },
    {
      "cell_type": "code",
      "source": [
        "len('jQuery36303355019272855495_1683804406514(')"
      ],
      "metadata": {
        "id": "Uch7prbcbouq",
        "colab": {
          "base_uri": "https://localhost:8080/"
        },
        "outputId": "2262f2a5-df39-45c5-f181-55ba16fd1eab"
      },
      "execution_count": 26,
      "outputs": [
        {
          "output_type": "execute_result",
          "data": {
            "text/plain": [
              "41"
            ]
          },
          "metadata": {},
          "execution_count": 26
        }
      ]
    },
    {
      "cell_type": "code",
      "source": [
        "wettoon = json.loads(resp.content[41:-2]) \n",
        "# 에러뜨면 '' 지웠을 때 딕셔너리가 되는지 문자열 확인\n",
        "# 안되면 '{ }' 이렇게 되도록 문자열 지워줘야 함\n"
      ],
      "metadata": {
        "id": "H1SggH5pbvnB"
      },
      "execution_count": null,
      "outputs": []
    },
    {
      "cell_type": "code",
      "source": [
        "comment = []"
      ],
      "metadata": {
        "id": "lTcZhfp6otQT"
      },
      "execution_count": 39,
      "outputs": []
    },
    {
      "cell_type": "code",
      "source": [
        "result, commentList [] contents\n",
        "\n",
        "# 0은 실제 0 아니고 리스트 표현한 것"
      ],
      "metadata": {
        "id": "5sGe46zqoxKR"
      },
      "execution_count": null,
      "outputs": []
    },
    {
      "cell_type": "code",
      "source": [
        "commentLists = wettoon[\"result\"][\"commentList\"]\n",
        "for commentList in commentLists:\n",
        "    comment.append(commentList[\"contents\"])"
      ],
      "metadata": {
        "id": "6pXDsWqXpEOp"
      },
      "execution_count": 42,
      "outputs": []
    },
    {
      "cell_type": "code",
      "source": [
        "comment"
      ],
      "metadata": {
        "colab": {
          "base_uri": "https://localhost:8080/"
        },
        "id": "XMMHkbzJp0JS",
        "outputId": "c38fba24-7bba-47a5-bccf-1d980a85fbd7"
      },
      "execution_count": 43,
      "outputs": [
        {
          "output_type": "execute_result",
          "data": {
            "text/plain": [
              "['평화를 원했더니 드래곤을 던져주네',\n",
              " '와.  작화 무슨잉',\n",
              " '사생아의 사생아ㅋㅋㅋㅋ 개판이네',\n",
              " '제목 익룡으로 본 사랑 손들어',\n",
              " '며칠전에 소설 완독했는데..우왓!\\n웹툰 나왔었군요ㅎㅎㅎ\\n내 예상그림체는 아니지만~ 그래도 봐야지요\\n여러분~~ 제가 소설로 봤을때 고구마거의없고 전개빠르고 남주(라베스)가 쎈만큼 여유로운 캐릭이라 웃음포인트도많고 재밌었어요.\\n달리셔요~^^',\n",
              " '음. 3명이서. 같이. 하시는거죠?. 흥미롭게. 재밌게. 잘. 보았습니다. :). ♥. 관심하고. 가요.  :). ♥. 추천과 별점. 누르고. 가요. 5점은 10점이예요. :). ♥.',\n",
              " '와우 찾았다 내 웹툰',\n",
              " '마누비님 신작만 기다렸는데 메일 답장도 해주시다가 갑자기 없으시고...기다렸어요',\n",
              " '헐..무주맹 작가님 기다렸는데 이렇게..',\n",
              " '썸네일 악룡이 왜 귀여운지좀...',\n",
              " '항상 재미지게 보고 있습니다',\n",
              " '넘 재밌어유',\n",
              " '다음주가 되기',\n",
              " '흐 악룡의 미모가 잘생겨서 들어봤습니다 잘부탁드려요',\n",
              " '작가님 그림..머리카락 그리시느라 힘드셨겠다는 생각이 듭니다.']"
            ]
          },
          "metadata": {},
          "execution_count": 43
        }
      ]
    }
  ]
}