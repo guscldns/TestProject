{
  "nbformat": 4,
  "nbformat_minor": 0,
  "metadata": {
    "colab": {
      "provenance": [],
      "authorship_tag": "ABX9TyOXHHubZYOzOpWA7gWQrrTl",
      "include_colab_link": true
    },
    "kernelspec": {
      "name": "python3",
      "display_name": "Python 3"
    },
    "language_info": {
      "name": "python"
    }
  },
  "cells": [
    {
      "cell_type": "markdown",
      "metadata": {
        "id": "view-in-github",
        "colab_type": "text"
      },
      "source": [
        "<a href=\"https://colab.research.google.com/github/guscldns/TestProject/blob/main/0714/0714_VGGNet.ipynb\" target=\"_parent\"><img src=\"https://colab.research.google.com/assets/colab-badge.svg\" alt=\"Open In Colab\"/></a>"
      ]
    },
    {
      "cell_type": "code",
      "source": [
        "import tensorflow as tf\n",
        "from tensorflow.keras import datasets, layers, models\n",
        "\n",
        "import matplotlib.pyplot as plt"
      ],
      "metadata": {
        "id": "UYJOX_4muDP6"
      },
      "execution_count": 1,
      "outputs": []
    },
    {
      "cell_type": "code",
      "source": [
        "def VGGNet():\n",
        "    Input = tf.keras.layers.Input(shape = (224,224,3))\n",
        "    # 1층 = 2, Conv2D defalut strides = (1,1)\n",
        "    conv_64_1 = tf.keras.layers.Conv2D(64,(3,3),  padding = 'same', activation = 'relu')(Input)\n",
        "    conv_64_2 = tf.keras.layers.Conv2D(64,(3,3), padding = 'same', activation = 'relu')(conv_64_1)\n",
        "    # 2층 = 2poling_01\n",
        "    poling_01 = tf.keras.layers.MaxPool2D((2,2), strides = 2)(conv_64_2)\n",
        "\n",
        "    conv_128_1 = tf.keras.layers.Conv2D(128,(3,3), padding = 'same', activation = 'relu')(poling_01)\n",
        "    conv_128_2 = tf.keras.layers.Conv2D(128,(3,3),  padding = 'same', activation = 'relu')(conv_128_1)\n",
        "    # 3층 = 4\n",
        "    poling_02 = tf.keras.layers.MaxPool2D((2,2), strides = 2)(conv_128_2)\n",
        "\n",
        "    conv_256_1 = tf.keras.layers.Conv2D(256,(3,3),  padding = 'same', activation = 'relu')(poling_02)\n",
        "    conv_256_2 = tf.keras.layers.Conv2D(256,(3,3),  padding = 'same', activation = 'relu')(conv_256_1)\n",
        "    conv_256_3 = tf.keras.layers.Conv2D(256,(3,3),  padding = 'same', activation = 'relu')(conv_256_2)\n",
        "    conv_256_4 = tf.keras.layers.Conv2D(256,(3,3),  padding = 'same', activation = 'relu')(conv_256_3)\n",
        "\n",
        "    # 4층 = 4\n",
        "    poling_03 = tf.keras.layers.MaxPool2D((2,2), strides = 2)(conv_256_4)\n",
        "\n",
        "    conv_512_4_1 = tf.keras.layers.Conv2D(512,(3,3),  padding = 'same', activation = 'relu')(poling_03)\n",
        "    conv_512_4_2 = tf.keras.layers.Conv2D(512,(3,3),  padding = 'same', activation = 'relu')(conv_512_4_1)\n",
        "    conv_512_4_3 = tf.keras.layers.Conv2D(512,(3,3),  padding = 'same', activation = 'relu')(conv_512_4_2)\n",
        "    conv_512_4_4 = tf.keras.layers.Conv2D(512,(3,3),  padding = 'same', activation = 'relu')(conv_512_4_3)\n",
        "\n",
        "    # 5층 = 4\n",
        "    poling_04 = tf.keras.layers.MaxPool2D((2,2), strides = 2)(conv_512_4_4)\n",
        "\n",
        "    conv_512_5_1 = tf.keras.layers.Conv2D(512,(3,3),  padding = 'same', activation = 'relu')(poling_04)\n",
        "    conv_512_5_2 = tf.keras.layers.Conv2D(512,(3,3),  padding = 'same', activation = 'relu')(conv_512_5_1)\n",
        "    conv_512_5_3 = tf.keras.layers.Conv2D(512,(3,3),  padding = 'same', activation = 'relu')(conv_512_5_2)\n",
        "    conv_512_5_4 = tf.keras.layers.Conv2D(512,(3,3),  padding = 'same', activation = 'relu')(conv_512_5_3)\n",
        "\n",
        "    # 6층 = 3\n",
        "    poling_05  = tf.keras.layers.MaxPool2D((2,2), strides = 2)(conv_512_5_4)\n",
        "    flatten = tf.keras.layers.Flatten()(poling_05)\n",
        "    Dense_01 = tf.keras.layers.Dense(4096, activation = 'relu')(flatten)\n",
        "    dropout = tf.keras.layers.Dropout(0.5)(Dense_01)\n",
        "    Dense_02 = tf.keras.layers.Dense(4096, activation = 'relu')(dropout)\n",
        "    dropout = tf.keras.layers.Dropout(0.5)(Dense_02)\n",
        "    Output = tf.keras.layers.Dense(1000, activation = 'softmax')(Dense_02)\n",
        "\n",
        "    VGGNet = tf.keras.Model(inputs = Input, outputs = Output)\n",
        "\n",
        "    return VGGNet\n",
        ""
      ],
      "metadata": {
        "id": "kK_IL-wEupSM"
      },
      "execution_count": 28,
      "outputs": []
    },
    {
      "cell_type": "code",
      "source": [
        "model = VGGNet()"
      ],
      "metadata": {
        "id": "zI1nYxPEupQD"
      },
      "execution_count": 29,
      "outputs": []
    },
    {
      "cell_type": "code",
      "source": [
        "model.summary()"
      ],
      "metadata": {
        "colab": {
          "base_uri": "https://localhost:8080/"
        },
        "id": "UZdknuV5upN0",
        "outputId": "9301924f-7512-42c6-b869-501444d1a875"
      },
      "execution_count": 30,
      "outputs": [
        {
          "output_type": "stream",
          "name": "stdout",
          "text": [
            "Model: \"model_4\"\n",
            "_________________________________________________________________\n",
            " Layer (type)                Output Shape              Param #   \n",
            "=================================================================\n",
            " input_5 (InputLayer)        [(None, 224, 224, 3)]     0         \n",
            "                                                                 \n",
            " conv2d_87 (Conv2D)          (None, 224, 224, 64)      1792      \n",
            "                                                                 \n",
            " conv2d_88 (Conv2D)          (None, 224, 224, 64)      36928     \n",
            "                                                                 \n",
            " max_pooling2d_25 (MaxPoolin  (None, 112, 112, 64)     0         \n",
            " g2D)                                                            \n",
            "                                                                 \n",
            " conv2d_89 (Conv2D)          (None, 112, 112, 128)     73856     \n",
            "                                                                 \n",
            " conv2d_90 (Conv2D)          (None, 112, 112, 128)     147584    \n",
            "                                                                 \n",
            " max_pooling2d_26 (MaxPoolin  (None, 56, 56, 128)      0         \n",
            " g2D)                                                            \n",
            "                                                                 \n",
            " conv2d_91 (Conv2D)          (None, 56, 56, 256)       295168    \n",
            "                                                                 \n",
            " conv2d_92 (Conv2D)          (None, 56, 56, 256)       590080    \n",
            "                                                                 \n",
            " conv2d_93 (Conv2D)          (None, 56, 56, 256)       590080    \n",
            "                                                                 \n",
            " conv2d_94 (Conv2D)          (None, 56, 56, 256)       590080    \n",
            "                                                                 \n",
            " max_pooling2d_27 (MaxPoolin  (None, 28, 28, 256)      0         \n",
            " g2D)                                                            \n",
            "                                                                 \n",
            " conv2d_95 (Conv2D)          (None, 28, 28, 512)       1180160   \n",
            "                                                                 \n",
            " conv2d_96 (Conv2D)          (None, 28, 28, 512)       2359808   \n",
            "                                                                 \n",
            " conv2d_97 (Conv2D)          (None, 28, 28, 512)       2359808   \n",
            "                                                                 \n",
            " conv2d_98 (Conv2D)          (None, 28, 28, 512)       2359808   \n",
            "                                                                 \n",
            " max_pooling2d_28 (MaxPoolin  (None, 14, 14, 512)      0         \n",
            " g2D)                                                            \n",
            "                                                                 \n",
            " conv2d_99 (Conv2D)          (None, 14, 14, 512)       2359808   \n",
            "                                                                 \n",
            " conv2d_100 (Conv2D)         (None, 14, 14, 512)       2359808   \n",
            "                                                                 \n",
            " conv2d_101 (Conv2D)         (None, 14, 14, 512)       2359808   \n",
            "                                                                 \n",
            " conv2d_102 (Conv2D)         (None, 14, 14, 512)       2359808   \n",
            "                                                                 \n",
            " max_pooling2d_29 (MaxPoolin  (None, 7, 7, 512)        0         \n",
            " g2D)                                                            \n",
            "                                                                 \n",
            " flatten_5 (Flatten)         (None, 25088)             0         \n",
            "                                                                 \n",
            " dense_15 (Dense)            (None, 4096)              102764544 \n",
            "                                                                 \n",
            " dropout_4 (Dropout)         (None, 4096)              0         \n",
            "                                                                 \n",
            " dense_16 (Dense)            (None, 4096)              16781312  \n",
            "                                                                 \n",
            " dense_17 (Dense)            (None, 1000)              4097000   \n",
            "                                                                 \n",
            "=================================================================\n",
            "Total params: 143,667,240\n",
            "Trainable params: 143,667,240\n",
            "Non-trainable params: 0\n",
            "_________________________________________________________________\n"
          ]
        }
      ]
    },
    {
      "cell_type": "code",
      "source": [],
      "metadata": {
        "id": "yO0411fDOFGa"
      },
      "execution_count": null,
      "outputs": []
    }
  ]
}