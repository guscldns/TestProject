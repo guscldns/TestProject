{
  "nbformat": 4,
  "nbformat_minor": 0,
  "metadata": {
    "colab": {
      "provenance": [],
      "include_colab_link": true
    },
    "kernelspec": {
      "name": "python3",
      "display_name": "Python 3"
    },
    "language_info": {
      "name": "python"
    }
  },
  "cells": [
    {
      "cell_type": "markdown",
      "metadata": {
        "id": "view-in-github",
        "colab_type": "text"
      },
      "source": [
        "<a href=\"https://colab.research.google.com/github/guscldns/TestProject/blob/main/0728/11_metric%26loss_for_segmentation.ipynb\" target=\"_parent\"><img src=\"https://colab.research.google.com/assets/colab-badge.svg\" alt=\"Open In Colab\"/></a>"
      ]
    },
    {
      "cell_type": "markdown",
      "source": [
        "# metric&loss for segmentation\n"
      ],
      "metadata": {
        "id": "ihe_d7QRnlhW"
      }
    },
    {
      "cell_type": "code",
      "source": [
        "import tensorflow as tf\n",
        "from tensorflow import keras\n",
        "import keras.backend as K\n",
        "\n",
        "import tensorflow.keras.losses as losses\n",
        "\n",
        "import random\n",
        "import numpy as np"
      ],
      "metadata": {
        "id": "SKNj8DLzuyhi"
      },
      "execution_count": null,
      "outputs": []
    },
    {
      "cell_type": "code",
      "source": [
        "sample1 = tf.constant([[0, 1, 0],\n",
        "                       [1, 1, 1],\n",
        "                       [0, 0, 0]], dtype=tf.float32)\n",
        "\n",
        "sample2 = tf.constant([[0, 0, 0],\n",
        "                       [1, 1, 1],\n",
        "                       [0, 1, 0]], dtype=tf.float32)"
      ],
      "metadata": {
        "id": "_fZGvApjWBG-"
      },
      "execution_count": null,
      "outputs": []
    },
    {
      "cell_type": "markdown",
      "source": [
        "## metric\n",
        "1.  IoU\n",
        "2. Dice coef\n",
        "3. Hausdorff Distance"
      ],
      "metadata": {
        "id": "JjHGOss7r0AR"
      }
    },
    {
      "cell_type": "markdown",
      "source": [
        "#### IoU"
      ],
      "metadata": {
        "id": "uZit989hnlVr"
      }
    },
    {
      "cell_type": "code",
      "execution_count": null,
      "metadata": {
        "id": "tJ2pow3FngYe"
      },
      "outputs": [],
      "source": [
        "def iou(y_true, y_pred, dtype=tf.float32):\n",
        "    y_true_f = K.flatten(y_true)\n",
        "    y_pred_f = K.flatten(y_pred)\n",
        "    intersection = K.sum(y_true_f * y_pred_f)\n",
        "\n",
        "    area_true = tf.reduce_sum(y_true_f)\n",
        "    area_pred = tf.reduce_sum(y_pred_f)\n",
        "    union = area_true + area_pred - intersection\n",
        "\n",
        "    iou = tf.where(tf.equal(union, 0), 0.0, tf.math.divide(intersection, union))\n",
        "    return iou.numpy()"
      ]
    },
    {
      "cell_type": "code",
      "source": [
        "iou(sample1, sample2)"
      ],
      "metadata": {
        "colab": {
          "base_uri": "https://localhost:8080/"
        },
        "id": "Pe_hG5a7cA62",
        "outputId": "2c7f9241-b4ad-4b2d-f345-253b5bb9050c"
      },
      "execution_count": null,
      "outputs": [
        {
          "output_type": "execute_result",
          "data": {
            "text/plain": [
              "0.6"
            ]
          },
          "metadata": {},
          "execution_count": 104
        }
      ]
    },
    {
      "cell_type": "markdown",
      "source": [
        "#### dice coef"
      ],
      "metadata": {
        "id": "Xk5US6ttn4Xw"
      }
    },
    {
      "cell_type": "code",
      "execution_count": null,
      "metadata": {
        "id": "jnDarY7Xn4Xx"
      },
      "outputs": [],
      "source": [
        "def dice_coef(y_true, y_pred, smooth=1e-6):\n",
        "    y_true_f = K.flatten(y_true)\n",
        "    y_pred_f = K.flatten(y_pred)\n",
        "    intersection = K.sum(y_true_f * y_pred_f)\n",
        "    dice = (2. * intersection + smooth) / (K.sum(y_true_f) + K.sum(y_pred_f) + smooth)\n",
        "    return dice.numpy()"
      ]
    },
    {
      "cell_type": "code",
      "source": [
        "dice_coef(sample1, sample2)"
      ],
      "metadata": {
        "colab": {
          "base_uri": "https://localhost:8080/"
        },
        "id": "U336Fjygd-bx",
        "outputId": "7c97815a-ac5c-495b-d990-dce08a01c283"
      },
      "execution_count": null,
      "outputs": [
        {
          "output_type": "execute_result",
          "data": {
            "text/plain": [
              "0.75"
            ]
          },
          "metadata": {},
          "execution_count": 106
        }
      ]
    },
    {
      "cell_type": "markdown",
      "source": [
        "## Loss"
      ],
      "metadata": {
        "id": "y57gRnwhr7lZ"
      }
    },
    {
      "cell_type": "markdown",
      "source": [
        "1. iou loss\n",
        "2. dice loss\n",
        "3. dice BCE loss"
      ],
      "metadata": {
        "id": "VeJfuMNCr6rt"
      }
    },
    {
      "cell_type": "markdown",
      "source": [
        "### iou loss"
      ],
      "metadata": {
        "id": "MKxV4WX4yL5h"
      }
    },
    {
      "cell_type": "code",
      "source": [
        "def iou_loss(y_true, y_pred, smooth=1e-6):\n",
        "    y_true_f = K.flatten(y_true)\n",
        "    y_pred_f = K.flatten(y_pred)\n",
        "    intersection = K.sum(y_true_f * y_pred_f)\n",
        "\n",
        "    area_true = tf.reduce_sum(y_true_f)\n",
        "    area_pred = tf.reduce_sum(y_pred_f)\n",
        "    union = area_true + area_pred - intersection\n",
        "\n",
        "    iou = tf.where(tf.equal(union, 0), 0.0, tf.math.divide(intersection, union))\n",
        "\n",
        "    return 1 - iou.numpy()"
      ],
      "metadata": {
        "id": "NtJVMdAoyLy6"
      },
      "execution_count": null,
      "outputs": []
    },
    {
      "cell_type": "code",
      "source": [
        "iou_loss(sample1, sample2)"
      ],
      "metadata": {
        "colab": {
          "base_uri": "https://localhost:8080/"
        },
        "id": "z_RSdSA8eQka",
        "outputId": "12efa426-e911-459a-8919-0ebb7eddafac"
      },
      "execution_count": null,
      "outputs": [
        {
          "output_type": "execute_result",
          "data": {
            "text/plain": [
              "0.3999999761581421"
            ]
          },
          "metadata": {},
          "execution_count": 110
        }
      ]
    },
    {
      "cell_type": "markdown",
      "source": [
        "#### dice loss\n",
        "$$diceloss = 1 - dicecoef$$"
      ],
      "metadata": {
        "id": "yqDUD2SMMhcy"
      }
    },
    {
      "cell_type": "code",
      "source": [
        "def dice_loss(y_true, y_pred, smooth=1e-6):\n",
        "    y_true_f = K.flatten(y_true)\n",
        "    y_pred_f = K.flatten(y_pred)\n",
        "    intersection = K.sum(y_true_f * y_pred_f)\n",
        "    dice = (2. * intersection + smooth) / (K.sum(y_true_f) + K.sum(y_pred_f) + smooth)\n",
        "    return 1 - dice"
      ],
      "metadata": {
        "id": "Iqv_ImURMhF9"
      },
      "execution_count": null,
      "outputs": []
    },
    {
      "cell_type": "markdown",
      "source": [
        "#### dice BCE loss\n",
        "\n",
        "$$ dice BCE loss = BCE + diceloss$$"
      ],
      "metadata": {
        "id": "rr5jea5lv7Zh"
      }
    },
    {
      "cell_type": "code",
      "source": [
        "def dice_BCE_loss(y_true, y_pred, smooth=1e-6):\n",
        "    y_true_f = K.flatten(y_true)\n",
        "    y_pred_f = K.flatten(y_pred)\n",
        "    intersection = K.sum(y_true_f * y_pred_f)\n",
        "    dice = (2. * intersection + smooth) / (K.sum(y_true_f) + K.sum(y_pred_f) + smooth)\n",
        "    dice_loss = 1 - (2*intersection + smooth) / (K.sum(y_true) + K.sum(y_pred) + smooth)\n",
        "\n",
        "    BCE =  losses.binary_crossentropy(y_true_f, y_pred_f)\n",
        "\n",
        "    Dice_BCE_loss = BCE + dice_loss\n",
        "\n",
        "    return Dice_BCE_loss.numpy()"
      ],
      "metadata": {
        "id": "kH1y7jAqMjlI"
      },
      "execution_count": null,
      "outputs": []
    },
    {
      "cell_type": "code",
      "source": [
        "dice_BCE_loss(sample1, sample2)"
      ],
      "metadata": {
        "colab": {
          "base_uri": "https://localhost:8080/"
        },
        "id": "qIS6HNfeiwUH",
        "outputId": "fc8944b7-90b3-4230-dcf4-4e5c10db7283"
      },
      "execution_count": null,
      "outputs": [
        {
          "output_type": "execute_result",
          "data": {
            "text/plain": [
              "3.6675763"
            ]
          },
          "metadata": {},
          "execution_count": 124
        }
      ]
    },
    {
      "cell_type": "markdown",
      "source": [
        "#### focal loss\n",
        "- 2017년, 극도로 불균형한 데이터 세트를 해결하기 위한 수단으로 도입"
      ],
      "metadata": {
        "id": "JT-ArMazycQK"
      }
    },
    {
      "cell_type": "markdown",
      "source": [
        "$$ Focal loss = BCE(1-pred)^r$$"
      ],
      "metadata": {
        "id": "MCFpkAI64reS"
      }
    },
    {
      "cell_type": "code",
      "source": [
        "alpha = 0.8\n",
        "gamma = 2\n",
        "\n",
        "def focal_loss(targets, inputs, alpha=alpha, gamma=gamma):\n",
        "    inputs = K.flatten(inputs)\n",
        "    targets = K.flatten(targets)\n",
        "\n",
        "    bce = K.binary_crossentropy(targets, inputs)\n",
        "    bce_exp = K.exp(-bce)\n",
        "    focal_loss = K.mean(alpha * K.pow((1-bce_exp), gamma) * bce)\n",
        "\n",
        "    return focal_loss"
      ],
      "metadata": {
        "id": "7C0NKsIZycWt"
      },
      "execution_count": null,
      "outputs": []
    },
    {
      "cell_type": "markdown",
      "source": [
        "#### Tversky Loss\n",
        "- 서로 다른 유형의 오류가 얼마나 심하게 처벌되는지를 조정할 수 있는 상수를 활용하여 불균형 데이터셋에 대해 최적화하도록 설계"
      ],
      "metadata": {
        "id": "CJJZjpTzynup"
      }
    },
    {
      "cell_type": "markdown",
      "source": [
        "$$ TP/(TP + a*FP + b*FN) $$"
      ],
      "metadata": {
        "id": "euk7f9yo1yrq"
      }
    },
    {
      "cell_type": "code",
      "source": [
        "alpha = 0.5\n",
        "beta = 0.5\n",
        "\n",
        "def tversky_loss(targets, inputs, alpha=alpha, beta=beta, smooth=1e-6):\n",
        "        inputs = K.flatten(inputs)\n",
        "        targets = K.flatten(targets)\n",
        "\n",
        "        tp = K.sum((inputs * targets))\n",
        "        fp = K.sum(((1-targets) * inputs))\n",
        "        fn = K.sum((targets * (1-inputs)))\n",
        "\n",
        "        tversky = (tp + smooth)/(tp + alpha*fp + beta*fn + smooth)\n",
        "\n",
        "        return 1 - tversky"
      ],
      "metadata": {
        "id": "XkF63z0pyn1e"
      },
      "execution_count": null,
      "outputs": []
    },
    {
      "cell_type": "markdown",
      "source": [
        "출처:  \n",
        "https://github.com/yingkaisha/keras-unet-collection/tree/d30f14a259656d2f26ea11ed978255d6a7d0ce37\n",
        "\n",
        "https://www.kaggle.com/code/bigironsphere/loss-function-library-keras-pytorch/notebook\n",
        "  \n",
        "https://github.com/zhengyang-wang/3D-Unet--Tensorflow/blob/c5d603a69243a69dd6d89edefdf1ba249640450b/utils/HausdorffDistance.py#L8"
      ],
      "metadata": {
        "id": "CkYUzU2ATRVZ"
      }
    }
  ]
}