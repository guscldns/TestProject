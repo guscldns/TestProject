{
  "nbformat": 4,
  "nbformat_minor": 0,
  "metadata": {
    "colab": {
      "provenance": [],
      "include_colab_link": true
    },
    "kernelspec": {
      "name": "python3",
      "display_name": "Python 3"
    },
    "language_info": {
      "name": "python"
    }
  },
  "cells": [
    {
      "cell_type": "markdown",
      "metadata": {
        "id": "view-in-github",
        "colab_type": "text"
      },
      "source": [
        "<a href=\"https://colab.research.google.com/github/guscldns/TestProject/blob/main/0728/09_2_(solution)FCN_implementation.ipynb\" target=\"_parent\"><img src=\"https://colab.research.google.com/assets/colab-badge.svg\" alt=\"Open In Colab\"/></a>"
      ]
    },
    {
      "cell_type": "markdown",
      "source": [
        "# FCN_implementation"
      ],
      "metadata": {
        "id": "fNCFl6s02QHC"
      }
    },
    {
      "cell_type": "markdown",
      "source": [
        "## 주요 함수\n",
        "- x32, x16, x8 : tensorflow.keras.layers.Upsampling2D\n",
        "    - UpSampling2D(size, interpolation='bilinear')\n",
        "- x2 : tensorflow.keras.layers.Conv2DTranspose\n",
        "    - Conv2DTranspose(filters, size, strides, padding='same')\n"
      ],
      "metadata": {
        "id": "f2PleeNu2QRd"
      }
    },
    {
      "cell_type": "code",
      "source": [
        "import tensorflow as tf\n",
        "from tensorflow.keras import layers\n",
        "from tensorflow.keras.models import Model"
      ],
      "metadata": {
        "id": "u7FNrsfn45Sl"
      },
      "execution_count": null,
      "outputs": []
    },
    {
      "cell_type": "code",
      "source": [
        "def FCN(input_shape, num_classes):\n",
        "    inputs = layers.Input(shape=input_shape)\n",
        "    # Block 1\n",
        "    conv1 = layers.Conv2D(64, 3, activation='relu', padding='same')(inputs)\n",
        "    conv1 = layers.Conv2D(64, 3, activation='relu', padding='same')(conv1)\n",
        "    pool1 = layers.MaxPooling2D(pool_size=(2, 2))(conv1)\n",
        "\n",
        "    # Block 2\n",
        "    conv2 = layers.Conv2D(128, 3, activation='relu', padding='same')(pool1)\n",
        "    conv2 = layers.Conv2D(128, 3, activation='relu', padding='same')(conv2)\n",
        "    pool2 = layers.MaxPooling2D(pool_size=(2, 2))(conv2)\n",
        "\n",
        "    # Block 3\n",
        "    conv3 = layers.Conv2D(256, 3, activation='relu', padding='same')(pool2)\n",
        "    conv3 = layers.Conv2D(256, 3, activation='relu', padding='same')(conv3)\n",
        "    conv3 = layers.Conv2D(256, 3, activation='relu', padding='same')(conv3)\n",
        "    pool3 = layers.MaxPooling2D(pool_size=(2, 2))(conv3)\n",
        "    out_28x28 = layers.Conv2D(num_classes, 1, activation='softmax', padding='same')(pool3)\n",
        "\n",
        "    # Block 4\n",
        "    conv4 = layers.Conv2D(512, 3, activation='relu', padding='same')(pool3)\n",
        "    conv4 = layers.Conv2D(512, 3, activation='relu', padding='same')(conv4)\n",
        "    conv4 = layers.Conv2D(512, 3, activation='relu', padding='same')(conv4)\n",
        "    pool4 = layers.MaxPooling2D(pool_size=(2, 2))(conv4)\n",
        "    out_14x14 = layers.Conv2D(num_classes, 1, activation='softmax', padding='same')(pool4)\n",
        "\n",
        "    # Block 5\n",
        "    conv5 = layers.Conv2D(512, 3, activation='relu', padding='same')(pool4)\n",
        "    conv5 = layers.Conv2D(512, 3, activation='relu', padding='same')(conv5)\n",
        "    conv5 = layers.Conv2D(512, 3, activation='relu', padding='same')(conv5)\n",
        "    pool5 = layers.MaxPooling2D(pool_size=(2, 2))(conv5)\n",
        "\n",
        "    # Block 6\n",
        "    conv6 = layers.Conv2D(4096, 1, activation='relu', padding='same')(pool5)\n",
        "    conv6 = layers.Conv2D(4096, 1, activation='relu', padding='same')(conv6)\n",
        "    out_7x7 = layers.Conv2D(num_classes, 1, activation='softmax', padding='same')(conv6)\n",
        "\n",
        "    # upsampling x2 & add\n",
        "    up1 = layers.Conv2DTranspose(num_classes, 4, 2, padding='same')(out_7x7)\n",
        "    add_14x14 = layers.Add()([up1, out_14x14])\n",
        "\n",
        "    up2 = layers.Conv2DTranspose(num_classes, 4, 2, padding='same')(add_14x14)\n",
        "    add_28x28 = layers.Add()([up2, out_28x28])\n",
        "\n",
        "    # Output Layer\n",
        "    out_8s = layers.UpSampling2D(size=(8, 8), interpolation='bilinear')(add_28x28)\n",
        "    out_16s = layers.UpSampling2D(size=(16, 16), interpolation='bilinear')(add_14x14)\n",
        "    out_32s = layers.UpSampling2D(size=(32, 32), interpolation='bilinear')(out_7x7)\n",
        "\n",
        "    # model\n",
        "    model_8s = Model(inputs=inputs, outputs=out_8s)\n",
        "    model_16s = Model(inputs=inputs, outputs=out_16s)\n",
        "    model_32s = Model(inputs=inputs, outputs=out_32s)\n",
        "    return model_8s, model_16s, model_32s"
      ],
      "metadata": {
        "id": "fRSRIIxW2ThO"
      },
      "execution_count": null,
      "outputs": []
    },
    {
      "cell_type": "code",
      "source": [
        "model_8s, model_16s, model_32s = FCN(input_shape=(224,224, 3), num_classes=21)"
      ],
      "metadata": {
        "id": "1vESQ-rDJmQr"
      },
      "execution_count": null,
      "outputs": []
    },
    {
      "cell_type": "code",
      "source": [
        "model_8s.summary()"
      ],
      "metadata": {
        "colab": {
          "base_uri": "https://localhost:8080/"
        },
        "id": "K-p16uC2Jv3d",
        "outputId": "037135e3-7ca0-47f3-d5a5-daef1de4eefd"
      },
      "execution_count": null,
      "outputs": [
        {
          "output_type": "stream",
          "name": "stdout",
          "text": [
            "Model: \"model_15\"\n",
            "__________________________________________________________________________________________________\n",
            " Layer (type)                   Output Shape         Param #     Connected to                     \n",
            "==================================================================================================\n",
            " input_22 (InputLayer)          [(None, 224, 224, 3  0           []                               \n",
            "                                )]                                                                \n",
            "                                                                                                  \n",
            " conv2d_361 (Conv2D)            (None, 224, 224, 64  1792        ['input_22[0][0]']               \n",
            "                                )                                                                 \n",
            "                                                                                                  \n",
            " conv2d_362 (Conv2D)            (None, 224, 224, 64  36928       ['conv2d_361[0][0]']             \n",
            "                                )                                                                 \n",
            "                                                                                                  \n",
            " max_pooling2d_100 (MaxPooling2  (None, 112, 112, 64  0          ['conv2d_362[0][0]']             \n",
            " D)                             )                                                                 \n",
            "                                                                                                  \n",
            " conv2d_363 (Conv2D)            (None, 112, 112, 12  73856       ['max_pooling2d_100[0][0]']      \n",
            "                                8)                                                                \n",
            "                                                                                                  \n",
            " conv2d_364 (Conv2D)            (None, 112, 112, 12  147584      ['conv2d_363[0][0]']             \n",
            "                                8)                                                                \n",
            "                                                                                                  \n",
            " max_pooling2d_101 (MaxPooling2  (None, 56, 56, 128)  0          ['conv2d_364[0][0]']             \n",
            " D)                                                                                               \n",
            "                                                                                                  \n",
            " conv2d_365 (Conv2D)            (None, 56, 56, 256)  295168      ['max_pooling2d_101[0][0]']      \n",
            "                                                                                                  \n",
            " conv2d_366 (Conv2D)            (None, 56, 56, 256)  590080      ['conv2d_365[0][0]']             \n",
            "                                                                                                  \n",
            " conv2d_367 (Conv2D)            (None, 56, 56, 256)  590080      ['conv2d_366[0][0]']             \n",
            "                                                                                                  \n",
            " max_pooling2d_102 (MaxPooling2  (None, 28, 28, 256)  0          ['conv2d_367[0][0]']             \n",
            " D)                                                                                               \n",
            "                                                                                                  \n",
            " conv2d_369 (Conv2D)            (None, 28, 28, 512)  1180160     ['max_pooling2d_102[0][0]']      \n",
            "                                                                                                  \n",
            " conv2d_370 (Conv2D)            (None, 28, 28, 512)  2359808     ['conv2d_369[0][0]']             \n",
            "                                                                                                  \n",
            " conv2d_371 (Conv2D)            (None, 28, 28, 512)  2359808     ['conv2d_370[0][0]']             \n",
            "                                                                                                  \n",
            " max_pooling2d_103 (MaxPooling2  (None, 14, 14, 512)  0          ['conv2d_371[0][0]']             \n",
            " D)                                                                                               \n",
            "                                                                                                  \n",
            " conv2d_373 (Conv2D)            (None, 14, 14, 512)  2359808     ['max_pooling2d_103[0][0]']      \n",
            "                                                                                                  \n",
            " conv2d_374 (Conv2D)            (None, 14, 14, 512)  2359808     ['conv2d_373[0][0]']             \n",
            "                                                                                                  \n",
            " conv2d_375 (Conv2D)            (None, 14, 14, 512)  2359808     ['conv2d_374[0][0]']             \n",
            "                                                                                                  \n",
            " max_pooling2d_104 (MaxPooling2  (None, 7, 7, 512)   0           ['conv2d_375[0][0]']             \n",
            " D)                                                                                               \n",
            "                                                                                                  \n",
            " conv2d_376 (Conv2D)            (None, 7, 7, 4096)   2101248     ['max_pooling2d_104[0][0]']      \n",
            "                                                                                                  \n",
            " conv2d_377 (Conv2D)            (None, 7, 7, 4096)   16781312    ['conv2d_376[0][0]']             \n",
            "                                                                                                  \n",
            " conv2d_378 (Conv2D)            (None, 7, 7, 21)     86037       ['conv2d_377[0][0]']             \n",
            "                                                                                                  \n",
            " conv2d_transpose_25 (Conv2DTra  (None, 14, 14, 21)  176421      ['conv2d_378[0][0]']             \n",
            " nspose)                                                                                          \n",
            "                                                                                                  \n",
            " conv2d_372 (Conv2D)            (None, 14, 14, 21)   10773       ['max_pooling2d_103[0][0]']      \n",
            "                                                                                                  \n",
            " add_24 (Add)                   (None, 14, 14, 21)   0           ['conv2d_transpose_25[0][0]',    \n",
            "                                                                  'conv2d_372[0][0]']             \n",
            "                                                                                                  \n",
            " conv2d_transpose_26 (Conv2DTra  (None, 28, 28, 21)  7077        ['add_24[0][0]']                 \n",
            " nspose)                                                                                          \n",
            "                                                                                                  \n",
            " conv2d_368 (Conv2D)            (None, 28, 28, 21)   5397        ['max_pooling2d_102[0][0]']      \n",
            "                                                                                                  \n",
            " add_25 (Add)                   (None, 28, 28, 21)   0           ['conv2d_transpose_26[0][0]',    \n",
            "                                                                  'conv2d_368[0][0]']             \n",
            "                                                                                                  \n",
            " up_sampling2d_15 (UpSampling2D  (None, 224, 224, 21  0          ['add_25[0][0]']                 \n",
            " )                              )                                                                 \n",
            "                                                                                                  \n",
            "==================================================================================================\n",
            "Total params: 33,882,953\n",
            "Trainable params: 33,882,953\n",
            "Non-trainable params: 0\n",
            "__________________________________________________________________________________________________\n"
          ]
        }
      ]
    },
    {
      "cell_type": "code",
      "source": [
        "model_16s.summary()"
      ],
      "metadata": {
        "colab": {
          "base_uri": "https://localhost:8080/"
        },
        "id": "RdguVBnrLnXl",
        "outputId": "841df920-51c2-40ce-8911-f0267b8192ee"
      },
      "execution_count": null,
      "outputs": [
        {
          "output_type": "stream",
          "name": "stdout",
          "text": [
            "Model: \"model_7\"\n",
            "__________________________________________________________________________________________________\n",
            " Layer (type)                   Output Shape         Param #     Connected to                     \n",
            "==================================================================================================\n",
            " input_19 (InputLayer)          [(None, 224, 224, 3  0           []                               \n",
            "                                )]                                                                \n",
            "                                                                                                  \n",
            " conv2d_307 (Conv2D)            (None, 224, 224, 64  1792        ['input_19[0][0]']               \n",
            "                                )                                                                 \n",
            "                                                                                                  \n",
            " conv2d_308 (Conv2D)            (None, 224, 224, 64  36928       ['conv2d_307[0][0]']             \n",
            "                                )                                                                 \n",
            "                                                                                                  \n",
            " max_pooling2d_85 (MaxPooling2D  (None, 112, 112, 64  0          ['conv2d_308[0][0]']             \n",
            " )                              )                                                                 \n",
            "                                                                                                  \n",
            " conv2d_309 (Conv2D)            (None, 112, 112, 12  73856       ['max_pooling2d_85[0][0]']       \n",
            "                                8)                                                                \n",
            "                                                                                                  \n",
            " conv2d_310 (Conv2D)            (None, 112, 112, 12  147584      ['conv2d_309[0][0]']             \n",
            "                                8)                                                                \n",
            "                                                                                                  \n",
            " max_pooling2d_86 (MaxPooling2D  (None, 56, 56, 128)  0          ['conv2d_310[0][0]']             \n",
            " )                                                                                                \n",
            "                                                                                                  \n",
            " conv2d_311 (Conv2D)            (None, 56, 56, 256)  295168      ['max_pooling2d_86[0][0]']       \n",
            "                                                                                                  \n",
            " conv2d_312 (Conv2D)            (None, 56, 56, 256)  590080      ['conv2d_311[0][0]']             \n",
            "                                                                                                  \n",
            " conv2d_313 (Conv2D)            (None, 56, 56, 256)  590080      ['conv2d_312[0][0]']             \n",
            "                                                                                                  \n",
            " max_pooling2d_87 (MaxPooling2D  (None, 28, 28, 256)  0          ['conv2d_313[0][0]']             \n",
            " )                                                                                                \n",
            "                                                                                                  \n",
            " conv2d_315 (Conv2D)            (None, 28, 28, 512)  1180160     ['max_pooling2d_87[0][0]']       \n",
            "                                                                                                  \n",
            " conv2d_316 (Conv2D)            (None, 28, 28, 512)  2359808     ['conv2d_315[0][0]']             \n",
            "                                                                                                  \n",
            " conv2d_317 (Conv2D)            (None, 28, 28, 512)  2359808     ['conv2d_316[0][0]']             \n",
            "                                                                                                  \n",
            " max_pooling2d_88 (MaxPooling2D  (None, 14, 14, 512)  0          ['conv2d_317[0][0]']             \n",
            " )                                                                                                \n",
            "                                                                                                  \n",
            " conv2d_319 (Conv2D)            (None, 14, 14, 512)  2359808     ['max_pooling2d_88[0][0]']       \n",
            "                                                                                                  \n",
            " conv2d_320 (Conv2D)            (None, 14, 14, 512)  2359808     ['conv2d_319[0][0]']             \n",
            "                                                                                                  \n",
            " conv2d_321 (Conv2D)            (None, 14, 14, 512)  2359808     ['conv2d_320[0][0]']             \n",
            "                                                                                                  \n",
            " max_pooling2d_89 (MaxPooling2D  (None, 7, 7, 512)   0           ['conv2d_321[0][0]']             \n",
            " )                                                                                                \n",
            "                                                                                                  \n",
            " conv2d_322 (Conv2D)            (None, 7, 7, 4096)   2101248     ['max_pooling2d_89[0][0]']       \n",
            "                                                                                                  \n",
            " conv2d_323 (Conv2D)            (None, 7, 7, 4096)   16781312    ['conv2d_322[0][0]']             \n",
            "                                                                                                  \n",
            " conv2d_324 (Conv2D)            (None, 7, 7, 21)     86037       ['conv2d_323[0][0]']             \n",
            "                                                                                                  \n",
            " conv2d_transpose_19 (Conv2DTra  (None, 14, 14, 21)  1785        ['conv2d_324[0][0]']             \n",
            " nspose)                                                                                          \n",
            "                                                                                                  \n",
            " conv2d_318 (Conv2D)            (None, 14, 14, 21)   10773       ['max_pooling2d_88[0][0]']       \n",
            "                                                                                                  \n",
            " add_18 (Add)                   (None, 14, 14, 21)   0           ['conv2d_transpose_19[0][0]',    \n",
            "                                                                  'conv2d_318[0][0]']             \n",
            "                                                                                                  \n",
            " up_sampling2d_7 (UpSampling2D)  (None, 224, 224, 21  0          ['add_18[0][0]']                 \n",
            "                                )                                                                 \n",
            "                                                                                                  \n",
            "==================================================================================================\n",
            "Total params: 33,695,843\n",
            "Trainable params: 33,695,843\n",
            "Non-trainable params: 0\n",
            "__________________________________________________________________________________________________\n"
          ]
        }
      ]
    },
    {
      "cell_type": "code",
      "source": [
        "model_32s.summary()"
      ],
      "metadata": {
        "colab": {
          "base_uri": "https://localhost:8080/"
        },
        "id": "QnIhy2xfLu1a",
        "outputId": "b9ff3007-935b-48cc-e8d0-48a20edf7af8"
      },
      "execution_count": null,
      "outputs": [
        {
          "output_type": "stream",
          "name": "stdout",
          "text": [
            "Model: \"model_8\"\n",
            "_________________________________________________________________\n",
            " Layer (type)                Output Shape              Param #   \n",
            "=================================================================\n",
            " input_19 (InputLayer)       [(None, 224, 224, 3)]     0         \n",
            "                                                                 \n",
            " conv2d_307 (Conv2D)         (None, 224, 224, 64)      1792      \n",
            "                                                                 \n",
            " conv2d_308 (Conv2D)         (None, 224, 224, 64)      36928     \n",
            "                                                                 \n",
            " max_pooling2d_85 (MaxPoolin  (None, 112, 112, 64)     0         \n",
            " g2D)                                                            \n",
            "                                                                 \n",
            " conv2d_309 (Conv2D)         (None, 112, 112, 128)     73856     \n",
            "                                                                 \n",
            " conv2d_310 (Conv2D)         (None, 112, 112, 128)     147584    \n",
            "                                                                 \n",
            " max_pooling2d_86 (MaxPoolin  (None, 56, 56, 128)      0         \n",
            " g2D)                                                            \n",
            "                                                                 \n",
            " conv2d_311 (Conv2D)         (None, 56, 56, 256)       295168    \n",
            "                                                                 \n",
            " conv2d_312 (Conv2D)         (None, 56, 56, 256)       590080    \n",
            "                                                                 \n",
            " conv2d_313 (Conv2D)         (None, 56, 56, 256)       590080    \n",
            "                                                                 \n",
            " max_pooling2d_87 (MaxPoolin  (None, 28, 28, 256)      0         \n",
            " g2D)                                                            \n",
            "                                                                 \n",
            " conv2d_315 (Conv2D)         (None, 28, 28, 512)       1180160   \n",
            "                                                                 \n",
            " conv2d_316 (Conv2D)         (None, 28, 28, 512)       2359808   \n",
            "                                                                 \n",
            " conv2d_317 (Conv2D)         (None, 28, 28, 512)       2359808   \n",
            "                                                                 \n",
            " max_pooling2d_88 (MaxPoolin  (None, 14, 14, 512)      0         \n",
            " g2D)                                                            \n",
            "                                                                 \n",
            " conv2d_319 (Conv2D)         (None, 14, 14, 512)       2359808   \n",
            "                                                                 \n",
            " conv2d_320 (Conv2D)         (None, 14, 14, 512)       2359808   \n",
            "                                                                 \n",
            " conv2d_321 (Conv2D)         (None, 14, 14, 512)       2359808   \n",
            "                                                                 \n",
            " max_pooling2d_89 (MaxPoolin  (None, 7, 7, 512)        0         \n",
            " g2D)                                                            \n",
            "                                                                 \n",
            " conv2d_322 (Conv2D)         (None, 7, 7, 4096)        2101248   \n",
            "                                                                 \n",
            " conv2d_323 (Conv2D)         (None, 7, 7, 4096)        16781312  \n",
            "                                                                 \n",
            " conv2d_324 (Conv2D)         (None, 7, 7, 21)          86037     \n",
            "                                                                 \n",
            " up_sampling2d_8 (UpSampling  (None, 224, 224, 21)     0         \n",
            " 2D)                                                             \n",
            "                                                                 \n",
            "=================================================================\n",
            "Total params: 33,683,285\n",
            "Trainable params: 33,683,285\n",
            "Non-trainable params: 0\n",
            "_________________________________________________________________\n"
          ]
        }
      ]
    }
  ]
}